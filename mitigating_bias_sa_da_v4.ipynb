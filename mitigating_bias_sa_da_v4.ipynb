{
  "nbformat": 4,
  "nbformat_minor": 0,
  "metadata": {
    "colab": {
      "provenance": [],
      "collapsed_sections": [],
      "toc_visible": true,
      "authorship_tag": "ABX9TyObn/mIFAf1g73tZAIvPwYL",
      "include_colab_link": true
    },
    "kernelspec": {
      "name": "python3",
      "display_name": "Python 3"
    },
    "language_info": {
      "name": "python"
    },
    "gpuClass": "standard",
    "accelerator": "GPU"
  },
  "cells": [
    {
      "cell_type": "markdown",
      "metadata": {
        "id": "view-in-github",
        "colab_type": "text"
      },
      "source": [
        "<a href=\"https://colab.research.google.com/github/peeyushsinghal/da/blob/main/mitigating_bias_sa_da_v4.ipynb\" target=\"_parent\"><img src=\"https://colab.research.google.com/assets/colab-badge.svg\" alt=\"Open In Colab\"/></a>"
      ]
    },
    {
      "cell_type": "markdown",
      "source": [
        "# Mitigating bias in sentiment analysis using domain adaptation"
      ],
      "metadata": {
        "id": "smhY2FyQoMJY"
      }
    },
    {
      "cell_type": "code",
      "source": [
        "! pip install torchtext==0.10.0 --quiet # DOWNGRADE YOUR TORCHTEXT\n",
        "! pip install ekphrasis --quiet # library to pre process twitter data\n",
        "! pip install emoji --upgrade --quiet #library to deal with emoji data\n"
      ],
      "metadata": {
        "colab": {
          "base_uri": "https://localhost:8080/"
        },
        "id": "RS_tIhlS2jzV",
        "outputId": "8a86c957-67c0-45b7-8294-2e9d8a9337bd"
      },
      "execution_count": 1,
      "outputs": [
        {
          "output_type": "stream",
          "name": "stdout",
          "text": [
            "\u001b[K     |████████████████████████████████| 7.6 MB 5.0 MB/s \n",
            "\u001b[K     |████████████████████████████████| 831.4 MB 2.7 kB/s \n",
            "\u001b[31mERROR: pip's dependency resolver does not currently take into account all the packages that are installed. This behaviour is the source of the following dependency conflicts.\n",
            "torchvision 0.13.1+cu113 requires torch==1.12.1, but you have torch 1.9.0 which is incompatible.\n",
            "torchaudio 0.12.1+cu113 requires torch==1.12.1, but you have torch 1.9.0 which is incompatible.\u001b[0m\n",
            "\u001b[K     |████████████████████████████████| 83 kB 2.0 MB/s \n",
            "\u001b[K     |████████████████████████████████| 45 kB 3.9 MB/s \n",
            "\u001b[K     |████████████████████████████████| 53 kB 1.8 MB/s \n",
            "\u001b[K     |████████████████████████████████| 240 kB 5.3 MB/s \n",
            "\u001b[?25h  Building wheel for emoji (setup.py) ... \u001b[?25l\u001b[?25hdone\n"
          ]
        }
      ]
    },
    {
      "cell_type": "code",
      "source": [
        "## Import statements\n",
        "import pandas as pd\n",
        "import os\n",
        "import torch\n",
        "from torch.utils.data import Dataset, DataLoader\n",
        "from torchtext.legacy.data import Dataset, Field, TabularDataset, BucketIterator\n",
        "from torchtext.vocab import GloVe\n",
        "# import torchtext.functional as TTF\n",
        "import numpy as np\n",
        "from ekphrasis.classes.preprocessor import TextPreProcessor\n",
        "from ekphrasis.classes.tokenizer import SocialTokenizer\n",
        "from ekphrasis.dicts.emoticons import emoticons\n",
        "import emoji\n",
        "from torchtext.legacy.vocab import Vectors\n",
        "from tqdm import tqdm\n",
        "import random\n",
        "import torch.optim as optim\n",
        "# import json"
      ],
      "metadata": {
        "id": "ObCLSMyRohfP"
      },
      "execution_count": 2,
      "outputs": []
    },
    {
      "cell_type": "code",
      "source": [
        "# checking device\n",
        "DEVICE = torch.device(\"cuda\" if torch.cuda.is_available() else \"cpu\")\n",
        "print(\"Running on:{}\".format(DEVICE))"
      ],
      "metadata": {
        "colab": {
          "base_uri": "https://localhost:8080/"
        },
        "id": "lzQzb_SFoqdX",
        "outputId": "c485479e-da93-4c6e-9cb5-3eae565c6f1a"
      },
      "execution_count": 3,
      "outputs": [
        {
          "output_type": "stream",
          "name": "stdout",
          "text": [
            "Running on:cuda\n"
          ]
        }
      ]
    },
    {
      "cell_type": "markdown",
      "source": [
        "## Data loading"
      ],
      "metadata": {
        "id": "xjIR3OrQoSEQ"
      }
    },
    {
      "cell_type": "code",
      "source": [
        "#Mounting google drive\n",
        "from google.colab import drive\n",
        "drive.mount('/content/drive', force_remount=True)"
      ],
      "metadata": {
        "colab": {
          "base_uri": "https://localhost:8080/"
        },
        "id": "6rI_zEuloY4U",
        "outputId": "66c49232-4f9d-49bd-effd-ab84f0b29a85"
      },
      "execution_count": 4,
      "outputs": [
        {
          "output_type": "stream",
          "name": "stdout",
          "text": [
            "Mounted at /content/drive\n"
          ]
        }
      ]
    },
    {
      "cell_type": "markdown",
      "source": [
        "## Data Configuration"
      ],
      "metadata": {
        "id": "o_kVI7furv8T"
      }
    },
    {
      "cell_type": "code",
      "source": [
        "BASE_PATH = '/content/drive/MyDrive/semeval-2018'\n",
        "DATA_DIR = os.path.join(BASE_PATH,'datasets')\n",
        "MODEL_DIR = os.path.join(BASE_PATH,'models')\n",
        "REF_DIR = os.path.join(BASE_PATH,'reference')\n",
        "\n",
        "if not os.path.exists(MODEL_DIR):\n",
        "  os.makedirs(MODEL_DIR)\n",
        "  print(\"The new directory is created!\")\n",
        "\n",
        "domain_source = 0.0\n",
        "domain_target = 1.0"
      ],
      "metadata": {
        "id": "052h66kcr6KV"
      },
      "execution_count": 5,
      "outputs": []
    },
    {
      "cell_type": "code",
      "source": [
        "class TASK1(object):\n",
        "  \n",
        "    EI_reg = {\n",
        "        'anger': {\n",
        "            'train': os.path.join(\n",
        "                DATA_DIR, 'task1/EI-reg/training/EI-reg-En-anger-train.txt'),\n",
        "            'dev': os.path.join(\n",
        "                DATA_DIR, 'task1/EI-reg/development/2018-EI-reg-En-anger-dev.txt'),\n",
        "            'gold': os.path.join(\n",
        "                DATA_DIR, 'task1/EI-reg/test-gold/2018-EI-reg-En-anger-test-gold.txt')\n",
        "                },\n",
        "        'joy': {\n",
        "                'train': os.path.join(\n",
        "                    DATA_DIR, 'task1/EI-reg/training/EI-reg-En-joy-train.txt'),\n",
        "                'dev': os.path.join(\n",
        "                    DATA_DIR, 'task1/EI-reg/development/2018-EI-reg-En-joy-dev.txt'),\n",
        "                'gold': os.path.join(\n",
        "                    DATA_DIR, 'task1/EI-reg/test-gold/2018-EI-reg-En-joy-test-gold.txt')\n",
        "                    }\n",
        "        }\n",
        "\n",
        "    # V_reg = {\n",
        "    #     'train': os.path.join(\n",
        "    #         DATA_DIR, 'task1/V-reg/2018-Valence-reg-En-train.txt'),\n",
        "    #     'dev': os.path.join(\n",
        "    #         DATA_DIR, 'task1/V-reg/2018-Valence-reg-En-dev.txt'),\n",
        "    #     'gold': os.path.join(\n",
        "    #         DATA_DIR, 'task1/V-reg/2018-Valence-reg-En-test-gold.txt')\n",
        "    #          }\n",
        "\n",
        "    EEC = {\n",
        "        'eec': os.path.join(\n",
        "            DATA_DIR, 'task1/Equity-Evaluation-Corpus/Equity-Evaluation-Corpus.csv')\n",
        "             }"
      ],
      "metadata": {
        "id": "qn0ixH3-sC1y"
      },
      "execution_count": 6,
      "outputs": []
    },
    {
      "cell_type": "markdown",
      "source": [
        "## Source Data\n",
        "Parsing Emotion and Valence regression data : `format [ID\tTweet\tAffect Dimension\tIntensity Score]`"
      ],
      "metadata": {
        "id": "Gvy12RtIsqyE"
      }
    },
    {
      "cell_type": "code",
      "source": [
        "def parse_reg(data_file, label_format='tuple'):#->  pd.DataFrame:\n",
        "    \"\"\"\n",
        "    This is for datasets for the EI-reg and V-reg English tasks \n",
        "    Returns:\n",
        "        df: dataframe with columns in the first row of file [ID-Tweet-Affect Dimension-Intensity Score]\n",
        "    \"\"\"\n",
        "    with open(data_file, 'r') as fd:\n",
        "      data = [l.strip().split('\\t') for l in fd.readlines()]\n",
        "    \n",
        "    # print(data)\n",
        "    df = pd.DataFrame (data[1:],columns=data[0])\n",
        "    csv_file_name = (data_file.split(\"/\")[-1]).split('.')[0]+\".csv\"\n",
        "    csv_file = df.to_csv(str(csv_file_name))\n",
        "    # df['domain'] = domain_source\n",
        "    return csv_file_name\n",
        "    # return df"
      ],
      "metadata": {
        "id": "Df43LU3ztDAk"
      },
      "execution_count": 7,
      "outputs": []
    },
    {
      "cell_type": "code",
      "source": [
        "parse_reg(os.path.join(DATA_DIR, 'task1/EI-reg/training/EI-reg-En-joy-train.txt'))"
      ],
      "metadata": {
        "id": "K784ApxTavkE"
      },
      "execution_count": null,
      "outputs": []
    },
    {
      "cell_type": "markdown",
      "source": [
        "## Source Parser\n",
        "Generic Source Data Parser"
      ],
      "metadata": {
        "id": "VTmAiHnBZBKF"
      }
    },
    {
      "cell_type": "code",
      "source": [
        "def parse_csv(task, dataset, emotion='anger'):\n",
        "    if task == 'EI-reg':\n",
        "        data_train = TASK1.EI_reg[emotion][dataset]\n",
        "        csv_file_name = parse_reg(data_train)\n",
        "        return csv_file_name\n",
        "        # df[df.columns[-1]] = df[df.columns[-1]].astype(float)\n",
        "        # return df\n",
        "    # elif task == 'V-reg':\n",
        "    #     data_train = TASK1.V_reg[dataset]\n",
        "    #     df = parse_reg(data_train)\n",
        "    #     df[df.columns[-1]] = df[df.columns[-1]].astype(float)\n",
        "    #     return df\n",
        "    else:\n",
        "        return None"
      ],
      "metadata": {
        "id": "e8eUaJgB0UhP"
      },
      "execution_count": 8,
      "outputs": []
    },
    {
      "cell_type": "code",
      "source": [
        "file_EI_reg_train = parse_csv('EI-reg','train','joy')\n",
        "file_EI_reg_train\n",
        "\n",
        "file_EI_reg_val = parse_csv('EI-reg','dev','joy')\n",
        "print(file_EI_reg_val)\n",
        "\n",
        "file_EI_reg_test = parse_csv('EI-reg','gold','joy')\n",
        "(file_EI_reg_test)"
      ],
      "metadata": {
        "colab": {
          "base_uri": "https://localhost:8080/",
          "height": 53
        },
        "id": "ilCPodjN0n1e",
        "outputId": "230aa425-a7d5-400a-aa01-41eefafcff2b"
      },
      "execution_count": 9,
      "outputs": [
        {
          "output_type": "stream",
          "name": "stdout",
          "text": [
            "2018-EI-reg-En-joy-dev.csv\n"
          ]
        },
        {
          "output_type": "execute_result",
          "data": {
            "text/plain": [
              "'2018-EI-reg-En-joy-test-gold.csv'"
            ],
            "application/vnd.google.colaboratory.intrinsic+json": {
              "type": "string"
            }
          },
          "metadata": {},
          "execution_count": 9
        }
      ]
    },
    {
      "cell_type": "markdown",
      "source": [
        "## Preprocess tweets"
      ],
      "metadata": {
        "id": "9IO21vV_2wQk"
      }
    },
    {
      "cell_type": "code",
      "source": [
        "# reference : https://github.com/cbaziotis/ekphrasis\n",
        "\n",
        "\n",
        "text_processor = TextPreProcessor(\n",
        "    # terms that will be normalized\n",
        "    normalize=['url', 'email', 'percent', 'money', 'phone', 'user',\n",
        "        'time', 'url', 'date', 'number'],\n",
        "    # terms that will be annotated\n",
        "    annotate={\"hashtag\", \"allcaps\", \"elongated\", \"repeated\",\n",
        "        'emphasis', 'censored'},\n",
        "    fix_html=True,  # fix HTML tokens\n",
        "    \n",
        "    # corpus from which the word statistics are going to be used \n",
        "    # for word segmentation \n",
        "    segmenter=\"twitter\", \n",
        "    \n",
        "    # corpus from which the word statistics are going to be used \n",
        "    # for spell correction\n",
        "    corrector=\"twitter\", \n",
        "    \n",
        "    unpack_hashtags=True,  # perform word segmentation on hashtags\n",
        "    unpack_contractions=True,  # Unpack contractions (can't -> can not)\n",
        "    spell_correct_elong=False,  # spell correction for elongated words\n",
        "    \n",
        "    # select a tokenizer. You can use SocialTokenizer, or pass your own\n",
        "    # the tokenizer, should take as input a string and return a list of tokens\n",
        "    tokenizer=SocialTokenizer(lowercase=True).tokenize,\n",
        "    \n",
        "    # list of dictionaries, for replacing tokens extracted from the text,\n",
        "    # with other expressions. You can pass more than one dictionaries.\n",
        "    dicts=[emoticons]\n",
        ")"
      ],
      "metadata": {
        "colab": {
          "base_uri": "https://localhost:8080/"
        },
        "id": "tI6dZ6hY009m",
        "outputId": "b4d50d11-fc3c-4af9-fa82-4c4810a7d2ca"
      },
      "execution_count": 10,
      "outputs": [
        {
          "output_type": "stream",
          "name": "stderr",
          "text": [
            "/usr/local/lib/python3.7/dist-packages/ekphrasis/classes/tokenizer.py:225: FutureWarning: Possible nested set at position 2190\n",
            "  self.tok = re.compile(r\"({})\".format(\"|\".join(pipeline)))\n"
          ]
        },
        {
          "output_type": "stream",
          "name": "stdout",
          "text": [
            "Word statistics files not found!\n",
            "Downloading... done!\n",
            "Unpacking... done!\n",
            "Reading twitter - 1grams ...\n",
            "generating cache file for faster loading...\n",
            "reading ngrams /root/.ekphrasis/stats/twitter/counts_1grams.txt\n",
            "Reading twitter - 2grams ...\n",
            "generating cache file for faster loading...\n",
            "reading ngrams /root/.ekphrasis/stats/twitter/counts_2grams.txt\n",
            "Reading twitter - 1grams ...\n"
          ]
        },
        {
          "output_type": "stream",
          "name": "stderr",
          "text": [
            "/usr/local/lib/python3.7/dist-packages/ekphrasis/classes/exmanager.py:14: FutureWarning: Possible nested set at position 42\n",
            "  regexes = {k.lower(): re.compile(self.expressions[k]) for k, v in\n"
          ]
        }
      ]
    },
    {
      "cell_type": "code",
      "source": [
        "# #### Example checks of pre-processing\n",
        "# sentences = [\n",
        "#     \"CANT WAIT for the new season of #TwinPeaks ＼(^o^)／!!! #davidlynch #tvseries :)))\",\n",
        "#     \"I saw the new #johndoe movie and it suuuuucks!!! WAISTED $10... #badmovies :/\",\n",
        "#     \"@SentimentSymp:  can't wait for the Nov 9 #Sentiment talks!  YAAAAAAY !!! :-D http://sentimentsymposium.com/.\",\n",
        "#     \"@MGBarbieri @SpalkTalk a@b.com And just saw your LinkedIn comment after I sent this! Thanks for the message :) 😀\",\n",
        "#     \"💙💛🏆 @GeorgeePitman Young Player of The Season 🏆💛💙 #irony #actuallyseventy\"\n",
        "# ]\n",
        "\n",
        "# for s in sentences:\n",
        "#     print(\" \".join(text_processor.pre_process_doc(s)))\n",
        "# # print ([text_processor.pre_process_doc(s) for s in sentences])"
      ],
      "metadata": {
        "id": "i8ixRElK29DM"
      },
      "execution_count": null,
      "outputs": []
    },
    {
      "cell_type": "code",
      "source": [
        "def preprocess_tweet(tweet): \n",
        "  tweet_processed = text_processor.pre_process_doc(tweet)\n",
        "  # print (tweet_processed)\n",
        "  final_list =[]\n",
        "  for index, tweet in enumerate(tweet_processed):\n",
        "      final_list.append(emoji.demojize(tweet, language = 'en'))\n",
        "  \n",
        "  # print(df)\n",
        "  return final_list"
      ],
      "metadata": {
        "id": "0CNdYx083SRU"
      },
      "execution_count": 11,
      "outputs": []
    },
    {
      "cell_type": "code",
      "source": [
        "# #### Example checks of pre-processing\n",
        "# sentences = [\n",
        "#     \"CANT WAIT for the new season of #TwinPeaks ＼(^o^)／!!! #davidlynch #tvseries :)))\",\n",
        "#     \"I saw the new #johndoe movie and it suuuuucks!!! WAISTED $10... #badmovies :/\",\n",
        "#     \"@SentimentSymp:  can't wait for the Nov 9 #Sentiment talks!  YAAAAAAY !!! :-D http://sentimentsymposium.com/.\",\n",
        "#     \"@MGBarbieri @SpalkTalk a@b.com And just saw your LinkedIn comment after I sent this! Thanks for the message :) 😀\",\n",
        "#     \"💙💛🏆 @GeorgeePitman Young Player of The Season 🏆💛💙 #irony #actuallyseventy\"\n",
        "# ]\n",
        "\n",
        "# for s in sentences:\n",
        "#   print(preprocess_tweet(s))\n",
        "#   # print(\" \".join(preprocess_tweet(s)))"
      ],
      "metadata": {
        "id": "WU-Ap0fS4Xu8"
      },
      "execution_count": null,
      "outputs": []
    },
    {
      "cell_type": "markdown",
      "source": [
        "## TorchText Treatment"
      ],
      "metadata": {
        "id": "x4MCSent0MSu"
      }
    },
    {
      "cell_type": "code",
      "source": [
        "MAX_SIZE = 50\n",
        "field_tweet = Field(sequential=True, use_vocab = True, tokenize = preprocess_tweet, fix_length = MAX_SIZE, batch_first = True)\n",
        "# field_tweet = Field(sequential=True, use_vocab = False, tokenize = preprocess_tweet)\n",
        "\n",
        "field_intensity = Field(sequential= False, \n",
        "                        dtype = torch.float,\n",
        "                        use_vocab = False \n",
        "                        )"
      ],
      "metadata": {
        "id": "kbzqLLrz49I7"
      },
      "execution_count": 18,
      "outputs": []
    },
    {
      "cell_type": "code",
      "source": [
        "fields = {\n",
        "    'Tweet':('tweet', field_tweet ), #\n",
        "    'Intensity Score': ('intensity',field_intensity) # Intensity Score is name of the dataset column, field_intensity is how we have defined the field, intensity is the name of the variable going fwd\n",
        "    }"
      ],
      "metadata": {
        "id": "XuInxrUt57rB"
      },
      "execution_count": 19,
      "outputs": []
    },
    {
      "cell_type": "code",
      "source": [
        "train_data, valid_data, test_data = TabularDataset.splits( path = './', \n",
        "                                              train = file_EI_reg_train,\n",
        "                                              validation = file_EI_reg_val, \n",
        "                                              test = file_EI_reg_test,\n",
        "                                              format = 'csv',\n",
        "                                              fields = fields\n",
        "                                          )"
      ],
      "metadata": {
        "id": "w8XrMJMu7jUa"
      },
      "execution_count": 20,
      "outputs": []
    },
    {
      "cell_type": "code",
      "source": [
        "print(train_data[0].__dict__.keys())"
      ],
      "metadata": {
        "id": "1rn6sv6QAuf1"
      },
      "execution_count": null,
      "outputs": []
    },
    {
      "cell_type": "code",
      "source": [
        "print(valid_data[0].__dict__.values())"
      ],
      "metadata": {
        "id": "A5mLNElnBiQb"
      },
      "execution_count": null,
      "outputs": []
    },
    {
      "cell_type": "code",
      "source": [
        "print((train_data[2].__dict__.values()))"
      ],
      "metadata": {
        "id": "Wz04CfznBp3V"
      },
      "execution_count": null,
      "outputs": []
    },
    {
      "cell_type": "code",
      "source": [
        "count = 0\n",
        "for example in test_data.examples:\n",
        "  print(example.tweet, example.intensity)\n",
        "  count += 1\n",
        "  if count > 10:\n",
        "    break"
      ],
      "metadata": {
        "id": "Sx-R5H6ALfwI"
      },
      "execution_count": null,
      "outputs": []
    },
    {
      "cell_type": "markdown",
      "source": [
        "## Building iterator and Vocabulary"
      ],
      "metadata": {
        "id": "V3CoFQZDLtVO"
      }
    },
    {
      "cell_type": "code",
      "source": [
        "MAX_VOCAB_SIZE = 10000\n",
        "\n",
        "field_tweet.build_vocab(train_data, \n",
        "                  max_size = MAX_VOCAB_SIZE,\n",
        "                  min_freq = 1,\n",
        "                  vectors = \"glove.6B.100d\",\n",
        "                  unk_init=torch.Tensor.normal_)\n",
        "\n",
        "vocab = field_tweet.build_vocab(train_data, \n",
        "                  max_size = MAX_VOCAB_SIZE,\n",
        "                  min_freq = 1,\n",
        "                  vectors = \"glove.6B.100d\",\n",
        "                  unk_init=torch.Tensor.normal_)\n",
        "field_intensity.build_vocab(train_data)"
      ],
      "metadata": {
        "id": "IeSJaNSYT_D7"
      },
      "execution_count": 25,
      "outputs": []
    },
    {
      "cell_type": "code",
      "source": [
        "type(vocab)"
      ],
      "metadata": {
        "id": "skcwS7jEh5Vc"
      },
      "execution_count": null,
      "outputs": []
    },
    {
      "cell_type": "code",
      "source": [
        "BATCH_SIZE = 2\n",
        "train_iterator, valid_iterator, test_iterator = BucketIterator.splits((train_data, valid_data, test_data), \n",
        "                                                      batch_size= BATCH_SIZE,\n",
        "                                                      sort_key = lambda x: len(x.tweet),\n",
        "                                                      sort_within_batch=True,\n",
        "                                                      device = DEVICE,\n",
        "                                                      shuffle= True)"
      ],
      "metadata": {
        "id": "PYRrHy8HTcZM"
      },
      "execution_count": 24,
      "outputs": []
    },
    {
      "cell_type": "code",
      "source": [
        "count = 0\n",
        "for batch in train_iterator:\n",
        "  print (batch.tweet)\n",
        "  print (batch.intensity)\n",
        "  count += 1\n",
        "  if count > 2:\n",
        "    break"
      ],
      "metadata": {
        "colab": {
          "base_uri": "https://localhost:8080/"
        },
        "id": "Si5ajBMXTb_m",
        "outputId": "c52de78b-1571-43af-f16f-8f9095573de3"
      },
      "execution_count": 17,
      "outputs": [
        {
          "output_type": "stream",
          "name": "stdout",
          "text": [
            "tensor([[  39,    3,   53,    2,   15,   10, 1822,   16,   39,   58,   45,    4,\n",
            "            1,    1,    1,    1,    1,    1,    1,    1,    1,    1,    1,    1,\n",
            "            1,    1,    1,    1,    1,    1,    1,    1,    1,    1,    1,    1,\n",
            "            1,    1,    1,    1,    1,    1,    1,    1,    1,    1,    1,    1,\n",
            "            1,    1],\n",
            "        [   5,   21, 1084,   20,    6,  132,   16,   39,  506,   15,   60,    1,\n",
            "            1,    1,    1,    1,    1,    1,    1,    1,    1,    1,    1,    1,\n",
            "            1,    1,    1,    1,    1,    1,    1,    1,    1,    1,    1,    1,\n",
            "            1,    1,    1,    1,    1,    1,    1,    1,    1,    1,    1,    1,\n",
            "            1,    1]], device='cuda:0')\n",
            "tensor([0.6040, 0.6250], device='cuda:0')\n",
            "tensor([[   5,  273,   21,  135,    4,   41,  195,  110,  164,   71, 2006,  271,\n",
            "          216,    4,   18,    1,    1,    1,    1,    1,    1,    1,    1,    1,\n",
            "            1,    1,    1,    1,    1,    1,    1,    1,    1,    1,    1,    1,\n",
            "            1,    1,    1,    1,    1,    1,    1,    1,    1,    1,    1,    1,\n",
            "            1,    1],\n",
            "        [  43, 3265,   42, 3931,   11,   80,    4,   24,   40,   24,  504,  134,\n",
            "          108,  234,    4,    1,    1,    1,    1,    1,    1,    1,    1,    1,\n",
            "            1,    1,    1,    1,    1,    1,    1,    1,    1,    1,    1,    1,\n",
            "            1,    1,    1,    1,    1,    1,    1,    1,    1,    1,    1,    1,\n",
            "            1,    1]], device='cuda:0')\n",
            "tensor([0.1310, 0.3120], device='cuda:0')\n",
            "tensor([[   5,  794,   49, 4260,   16,   25, 4569, 3686,   62,    8, 1034,    9,\n",
            "          368,   71, 1406,  470,  198,   81,  105,  173, 1042,    1,    1,    1,\n",
            "            1,    1,    1,    1,    1,    1,    1,    1,    1,    1,    1,    1,\n",
            "            1,    1,    1,    1,    1,    1,    1,    1,    1,    1,    1,    1,\n",
            "            1,    1],\n",
            "        [   3,  229,    2,    3, 1200,    2,   55,  102,  281,  260,    7,    3,\n",
            "           73,    2,    7,   10,  568,    3,  230,    2,   51,    1,    1,    1,\n",
            "            1,    1,    1,    1,    1,    1,    1,    1,    1,    1,    1,    1,\n",
            "            1,    1,    1,    1,    1,    1,    1,    1,    1,    1,    1,    1,\n",
            "            1,    1]], device='cuda:0')\n",
            "tensor([0.2800, 0.6670], device='cuda:0')\n"
          ]
        }
      ]
    },
    {
      "cell_type": "code",
      "source": [
        "print(list(field_tweet.vocab.stoi.items()))"
      ],
      "metadata": {
        "id": "V4fmUSnDCrzU"
      },
      "execution_count": null,
      "outputs": []
    },
    {
      "cell_type": "code",
      "source": [
        "print(field_tweet.vocab.vectors[field_tweet.vocab.stoi['the']])"
      ],
      "metadata": {
        "id": "JWm00sA6DDOE"
      },
      "execution_count": null,
      "outputs": []
    },
    {
      "cell_type": "code",
      "source": [
        "field_tweet.vocab.vectors[9]"
      ],
      "metadata": {
        "id": "JzdTB_-C0ok7"
      },
      "execution_count": null,
      "outputs": []
    },
    {
      "cell_type": "code",
      "source": [
        "# for batch_number, batch in enumerate(train_iterator):\n",
        "#   print(batch_number)\n",
        "#   print(batch.tweet)\n",
        "#   print(batch.intensity)"
      ],
      "metadata": {
        "id": "HqQWc-yYsQkN"
      },
      "execution_count": null,
      "outputs": []
    },
    {
      "cell_type": "markdown",
      "source": [
        "## CNN 1d model"
      ],
      "metadata": {
        "id": "-h9cXmnyualc"
      }
    },
    {
      "cell_type": "markdown",
      "source": [
        "### Gradient Reversal layer"
      ],
      "metadata": {
        "id": "qyDfiHFNkZNF"
      }
    },
    {
      "cell_type": "code",
      "source": [
        "from torch.autograd import Function\n",
        "\n",
        "class ReverseLayerF(Function):\n",
        "\n",
        "    @staticmethod\n",
        "    def forward(ctx, x, alpha):\n",
        "        ctx.alpha = alpha\n",
        "\n",
        "        return x.view_as(x)\n",
        "\n",
        "    @staticmethod\n",
        "    def backward(ctx, grad_output):\n",
        "        output = grad_output.neg() * ctx.alpha\n",
        "\n",
        "        return output, None"
      ],
      "metadata": {
        "id": "2TdezuQokWiJ"
      },
      "execution_count": 26,
      "outputs": []
    },
    {
      "cell_type": "markdown",
      "source": [
        "CNN 1 D model\n",
        "Reference: A Sensitivity Analysis of (and Practitioners' Guide to) Convolutional Neural Networks for Sentence Classification, Ye Zhang, Byron Wallace 2015\n",
        "\n",
        "Difference:\n",
        "\n",
        "use of embedding\n",
        "use of sigmoid function, as we are having a regression model not a classififer as the main task"
      ],
      "metadata": {
        "id": "J53qMJn4kfv7"
      }
    },
    {
      "cell_type": "code",
      "source": [
        "import torch.nn as nn\n",
        "import torch.nn.functional as F\n",
        "\n",
        "class CNN1d(nn.Module):\n",
        "    def __init__(self, \n",
        "                 vocab_size, \n",
        "                 embedding_dim, \n",
        "                 n_filters, \n",
        "                 filter_sizes, \n",
        "                 output_dim, \n",
        "                 dropout, \n",
        "                 pad_idx\n",
        "                 ):\n",
        "        super().__init__()\n",
        "        \n",
        "        #---------------------Feature Extractor Network----------------------#\n",
        "        # Embedding layer\n",
        "        self.embedding = nn.Embedding(vocab_size, embedding_dim, padding_idx = pad_idx)\n",
        "\n",
        "        # Convolutional Network\n",
        "        self.convs = nn.ModuleList([\n",
        "                                    nn.Conv1d(in_channels = embedding_dim, \n",
        "                                              out_channels = n_filters, \n",
        "                                              kernel_size = fs)\n",
        "                                    for fs in filter_sizes\n",
        "                                    ])\n",
        "        \n",
        "        #---------------------Regression Network------------------------#\n",
        "        # Fully-connected layer and Dropout\n",
        "        self.regression = nn.Sequential(\n",
        "            nn.Dropout(p=dropout),\n",
        "            nn.Linear(len(filter_sizes) * n_filters, len(filter_sizes) * n_filters // 2),\n",
        "            nn.ReLU(),\n",
        "            nn.Linear(len(filter_sizes) * n_filters // 2, output_dim * 10),\n",
        "            nn.ReLU(),\n",
        "            nn.Linear(output_dim * 10, output_dim)\n",
        "            # ,\n",
        "            # nn.Sigmoid()\n",
        "        )\n",
        "        # self.fc = nn.Linear(len(filter_sizes) * n_filters, output_dim * 10)\n",
        "        # self.fc2 = nn.Linear(output_dim * 10, output_dim)\n",
        "        # self.dropout = nn.Dropout(dropout)\n",
        "\n",
        "        #---------------------Domain Classifier Network------------------------#\n",
        "        # Fully-connected layer and Dropout\n",
        "        self.domain_classifier = nn.Sequential(\n",
        "            nn.Dropout(p=dropout),\n",
        "            nn.Linear(len(filter_sizes) * n_filters, len(filter_sizes) * n_filters // 2),\n",
        "            nn.ReLU(),\n",
        "            nn.Linear(len(filter_sizes) * n_filters // 2, output_dim * 10),\n",
        "            nn.ReLU(),\n",
        "            nn.Linear(output_dim * 10, output_dim)\n",
        "        )\n",
        "        \n",
        "    def forward(self, text, alpha=1):\n",
        "        \n",
        "        #text = [batch size, sent len]\n",
        "        \n",
        "        embedded = self.embedding(text)\n",
        "                \n",
        "        #embedded = [batch size, sent len, emb dim]\n",
        "        \n",
        "        embedded = embedded.permute(0, 2, 1)\n",
        "        \n",
        "        #embedded = [batch size, emb dim, sent len]\n",
        "        \n",
        "        conved = [F.relu(conv(embedded)) for conv in self.convs]\n",
        "            \n",
        "        #conved_n = [batch size, n_filters, sent len - filter_sizes[n] + 1]\n",
        "        \n",
        "        pooled = [F.max_pool1d(conv, conv.shape[2]).squeeze(2) for conv in conved]\n",
        "        \n",
        "        #pooled_n = [batch size, n_filters]\n",
        "        \n",
        "        x_feature = torch.cat(pooled, dim = 1)\n",
        "        \n",
        "        #x_feature = [batch size, n_filters * len(filter_sizes)]\n",
        "        \n",
        "        reverse_feature = ReverseLayerF.apply(x_feature, alpha)\n",
        "        # print(\"reverse_feature\",reverse_feature)\n",
        "    \n",
        "        regression_output = self.regression(x_feature)\n",
        "    \n",
        "        domain_classifier_output = self.domain_classifier(reverse_feature)\n",
        "\n",
        "\n",
        "        return regression_output, domain_classifier_output"
      ],
      "metadata": {
        "id": "sp8KeSpquZqB"
      },
      "execution_count": 22,
      "outputs": []
    },
    {
      "cell_type": "code",
      "source": [
        "INPUT_DIM = len(field_tweet.vocab)\n",
        "EMBEDDING_DIM = 100\n",
        "N_FILTERS = 100\n",
        "FILTER_SIZES = [2, 3, 4, 5]\n",
        "OUTPUT_DIM = 1\n",
        "DROPOUT = 0.5\n",
        "PAD_IDX = field_tweet.vocab.stoi[field_tweet.pad_token]"
      ],
      "metadata": {
        "id": "J2YB0TUfvZuM"
      },
      "execution_count": 28,
      "outputs": []
    },
    {
      "cell_type": "code",
      "source": [
        "model = CNN1d(INPUT_DIM, EMBEDDING_DIM, N_FILTERS, FILTER_SIZES, OUTPUT_DIM, DROPOUT, PAD_IDX)\n",
        "model.to(DEVICE)"
      ],
      "metadata": {
        "colab": {
          "base_uri": "https://localhost:8080/"
        },
        "id": "lB-kw2t_voEm",
        "outputId": "2d2abb5d-5d17-46d9-9660-96bd8a3cdc32"
      },
      "execution_count": 29,
      "outputs": [
        {
          "output_type": "execute_result",
          "data": {
            "text/plain": [
              "CNN1d(\n",
              "  (embedding): Embedding(4788, 100, padding_idx=1)\n",
              "  (convs): ModuleList(\n",
              "    (0): Conv1d(100, 100, kernel_size=(2,), stride=(1,))\n",
              "    (1): Conv1d(100, 100, kernel_size=(3,), stride=(1,))\n",
              "    (2): Conv1d(100, 100, kernel_size=(4,), stride=(1,))\n",
              "    (3): Conv1d(100, 100, kernel_size=(5,), stride=(1,))\n",
              "  )\n",
              "  (regression): Sequential(\n",
              "    (0): Dropout(p=0.5, inplace=False)\n",
              "    (1): Linear(in_features=400, out_features=200, bias=True)\n",
              "    (2): ReLU()\n",
              "    (3): Linear(in_features=200, out_features=10, bias=True)\n",
              "    (4): ReLU()\n",
              "    (5): Linear(in_features=10, out_features=1, bias=True)\n",
              "  )\n",
              "  (domain_classifier): Sequential(\n",
              "    (0): Dropout(p=0.5, inplace=False)\n",
              "    (1): Linear(in_features=400, out_features=200, bias=True)\n",
              "    (2): ReLU()\n",
              "    (3): Linear(in_features=200, out_features=10, bias=True)\n",
              "    (4): ReLU()\n",
              "    (5): Linear(in_features=10, out_features=1, bias=True)\n",
              "  )\n",
              ")"
            ]
          },
          "metadata": {},
          "execution_count": 29
        }
      ]
    },
    {
      "cell_type": "markdown",
      "source": [
        "### Load Pre trained embeddings\n",
        "we'll load the pre-trained *embeddings*"
      ],
      "metadata": {
        "id": "z4p5YOsBygPk"
      }
    },
    {
      "cell_type": "code",
      "source": [
        "pretrained_embeddings = field_tweet.vocab.vectors\n",
        "\n",
        "model.embedding.weight.data.copy_(pretrained_embeddings)"
      ],
      "metadata": {
        "colab": {
          "base_uri": "https://localhost:8080/"
        },
        "id": "42HOzqrZySOt",
        "outputId": "e2b39780-5048-494c-8e86-af366ef1148a"
      },
      "execution_count": 34,
      "outputs": [
        {
          "output_type": "execute_result",
          "data": {
            "text/plain": [
              "tensor([[-0.6223,  0.7095, -0.4468,  ..., -1.6087,  0.5500,  0.1419],\n",
              "        [-0.5598, -0.1254, -0.4154,  ...,  0.8011, -0.8856, -0.0770],\n",
              "        [ 1.0338, -0.1840,  0.1118,  ..., -0.0783,  1.2427, -0.5635],\n",
              "        ...,\n",
              "        [-0.3344,  2.4452,  1.7789,  ...,  0.9308,  0.2818, -1.3562],\n",
              "        [-0.8445, -0.1172,  0.2783,  ..., -1.5594,  1.1036, -0.1830],\n",
              "        [-1.9549, -0.7499,  0.3245,  ..., -0.1048, -1.0951, -2.0031]],\n",
              "       device='cuda:0')"
            ]
          },
          "metadata": {},
          "execution_count": 34
        }
      ]
    },
    {
      "cell_type": "code",
      "source": [
        "field_tweet.vocab.vectors.shape"
      ],
      "metadata": {
        "colab": {
          "base_uri": "https://localhost:8080/"
        },
        "id": "03-leBf6zSk5",
        "outputId": "abd80b42-1ea1-4cf5-adb3-ec1f6bb42cbd"
      },
      "execution_count": 35,
      "outputs": [
        {
          "output_type": "execute_result",
          "data": {
            "text/plain": [
              "torch.Size([4788, 100])"
            ]
          },
          "metadata": {},
          "execution_count": 35
        }
      ]
    },
    {
      "cell_type": "code",
      "source": [
        "UNK_IDX = field_tweet.vocab.stoi[field_tweet.unk_token]\n",
        "\n",
        "model.embedding.weight.data[UNK_IDX] = torch.zeros(EMBEDDING_DIM)\n",
        "model.embedding.weight.data[PAD_IDX] = torch.zeros(EMBEDDING_DIM)"
      ],
      "metadata": {
        "id": "Lve6CyJk9zfA"
      },
      "execution_count": 36,
      "outputs": []
    },
    {
      "cell_type": "markdown",
      "source": [
        "## Training the model"
      ],
      "metadata": {
        "id": "kBjLi5QG9_YG"
      }
    },
    {
      "cell_type": "markdown",
      "source": [
        "### Without training one forward pass"
      ],
      "metadata": {
        "id": "dxM_9csG_O4A"
      }
    },
    {
      "cell_type": "code",
      "source": [
        "for batch in train_iterator:\n",
        "  print(batch.tweet)\n",
        "  output = model(batch.tweet)\n",
        "  print (output)\n",
        "  break"
      ],
      "metadata": {
        "colab": {
          "base_uri": "https://localhost:8080/"
        },
        "id": "bD0y4pNS_SUP",
        "outputId": "4a23cd5a-d042-4394-c023-c91f06a06f0f"
      },
      "execution_count": 60,
      "outputs": [
        {
          "output_type": "stream",
          "name": "stdout",
          "text": [
            "tensor([[   6,  734,  135,    9, 4121, 3848,    3,   31,    2,   15,    9,   47,\n",
            "          118,  249,   12,  206,   20,   17,  118,  714,    4, 3082, 1510, 3670,\n",
            "            1,    1,    1,    1,    1,    1,    1,    1,    1,    1,    1,    1,\n",
            "            1,    1,    1,    1,    1,    1,    1,    1,    1,    1,    1,    1,\n",
            "            1,    1],\n",
            "        [   5,    5,    5, 2525, 2583,   15,  102,  130,  202,    4,  259, 1007,\n",
            "          273,   61,  171,    4,   70,  141, 2626,  171, 2464,   33,  463,  154,\n",
            "            1,    1,    1,    1,    1,    1,    1,    1,    1,    1,    1,    1,\n",
            "            1,    1,    1,    1,    1,    1,    1,    1,    1,    1,    1,    1,\n",
            "            1,    1]], device='cuda:0')\n",
            "(tensor([[0.4910],\n",
            "        [0.3248]], device='cuda:0', grad_fn=<AddmmBackward>), tensor([[0.0985],\n",
            "        [0.0635]], device='cuda:0', grad_fn=<AddmmBackward>))\n"
          ]
        }
      ]
    },
    {
      "cell_type": "code",
      "source": [
        "# import torch.optim as optim\n",
        "\n",
        "# optimizer = optim.Adam(model.parameters())\n",
        "\n",
        "# criterion = nn.BCEWithLogitsLoss()\n",
        "\n",
        "# model = model.to(DEVICE)\n",
        "# criterion = criterion.to(DEVICE)"
      ],
      "metadata": {
        "id": "MpixOSrh-Kv0"
      },
      "execution_count": 38,
      "outputs": []
    },
    {
      "cell_type": "markdown",
      "source": [
        "### Typical Train Model Function"
      ],
      "metadata": {
        "id": "JA0vjUUeXElw"
      }
    },
    {
      "cell_type": "code",
      "source": [
        "# Typical Training Function\n",
        "\n",
        "from tqdm import tqdm # for beautiful model training updates\n",
        "\n",
        "\n",
        "def train_model(model, device, train_loader, optimizer, epoch):\n",
        "    model.train() # setting the model in training mode\n",
        "    pbar = tqdm(train_loader) # putting the iterator in pbara\n",
        "    correct = 0 # for accuracy numerator\n",
        "    processed =0 # for accuracy denominator\n",
        "    epoch_loss = 0.0\n",
        "    for batch_idx, batch in enumerate(pbar):\n",
        "\n",
        "        tweets, intensities = batch.tweet.to(device), batch.intensity.to(device)  # plural, we are not interested in domain\n",
        "        #sending data to CPU or GPU as per device\n",
        "\n",
        "        optimizer.zero_grad() # setting gradients to zero to avoid accumulation\n",
        "\n",
        "        y_preds,_ = model(tweets) # forward pass, result captured in y_preds (plural as there are many body in a batch)\n",
        "        # we are not interested in domain prediction\n",
        "        # the predictions are in one hot vector\n",
        "\n",
        "        regression_loss = regression_loss_function(y_preds,intensities.unsqueeze(1)) # Computing loss\n",
        "        # loss = F.mse_loss(y_preds,intensities.unsqueeze(1)) # Computing loss\n",
        "\n",
        "        train_regresion_losses.append(regression_loss.item()) # to capture loss over many epochs\n",
        "\n",
        "        regression_loss.backward() # backpropagation\n",
        "        optimizer.step() # updating the params\n",
        "\n",
        "        # preds = y_preds.argmax(dim=1, keepdim=True)  # get the index olf the max log-probability\n",
        "        # correct += preds.eq(labels.view_as(preds)).sum().item()\n",
        "        epoch_loss += regression_loss.item()\n",
        "\n",
        "        processed += len(tweets)\n",
        "\n",
        "        pbar.set_description(desc= f'Loss={regression_loss.item()} Batch_id={batch_idx} Epoch Average loss={100*epoch_loss/processed:0.4f}')\n",
        "    train_accuracy.append(100*epoch_loss/len(train_loader))"
      ],
      "metadata": {
        "id": "2QtsY9qU-Rg9"
      },
      "execution_count": 39,
      "outputs": []
    },
    {
      "cell_type": "markdown",
      "source": [
        "### Typical Test Function"
      ],
      "metadata": {
        "id": "DVOvpPcYCZwh"
      }
    },
    {
      "cell_type": "code",
      "source": [
        "def test_model(model,device, data_loader, mode= 'test'):\n",
        "    model.eval() # setting the model in evaluation mode\n",
        "    loss = 0\n",
        "    correct = 0 # for accuracy numerator\n",
        "    test_regresion_losses =[] # for overall batches (summed over batches)\n",
        "    valid_regresion_losses =[] # for overall batches (summed over batches)\n",
        "\n",
        "    with torch.no_grad():\n",
        "        for batch in data_loader:\n",
        "\n",
        "            tweets, intensities  = batch.tweet.to(device), batch.intensity.to(device) #sending data to CPU or GPU as per device\n",
        "            # we are not interested in domains\n",
        "            \n",
        "            y_preds,_ = model(tweets) # forward pass, result captured in outputs (plural as there are many bodies in a batch)\n",
        "            # the outputs are in batch size x one hot vector \n",
        "            # not interested in domain output\n",
        "\n",
        "            regression_loss = regression_loss_function(y_preds,intensities.unsqueeze(1))\n",
        "\n",
        "            if mode == 'test':\n",
        "              test_regresion_losses.append(regression_loss.item())\n",
        "              # print(f'...in the batch...{regression_loss}')\n",
        "            else:\n",
        "              valid_regresion_losses.append(regression_loss.item())\n",
        "              # print(f'...in the batch...{regression_loss}')\n",
        "\n",
        "        # regression_loss.item() /= len(data_loader.dataset) # average test loss\n",
        "        if mode == 'test':\n",
        "          # total_test_regression_loss = sum(test_regresion_losses)\n",
        "          # test_regresion_losses.append(regression_loss) # to capture loss over many batches\n",
        "          # print('...Average test loss: {:.8f}'.format((total_test_regression_loss)/len(data_loader.dataset)))\n",
        "          print(f'...Average batch test loss is {sum(test_regresion_losses) / len(data_loader)}')\n",
        "        else:\n",
        "          # valid_regresion_losses.append(regression_loss) # to capture loss over many batches\n",
        "          # total_valid_regression_loss = sum(valid_regresion_losses)\n",
        "          # print('...Average validation loss: {:.8f}'.format((total_valid_regression_loss)/len(data_loader.dataset)))\n",
        "          print(f'...Average batch validation loss is {sum(valid_regresion_losses) / len(data_loader)}')"
      ],
      "metadata": {
        "id": "DcI1CYK5CYjh"
      },
      "execution_count": 40,
      "outputs": []
    },
    {
      "cell_type": "code",
      "source": [
        "# EXECUTION\n",
        "\n",
        "\n",
        "optimizer = optim.Adam(model.parameters(), lr=0.001)\n",
        "domain_loss_function= nn.BCEWithLogitsLoss()\n",
        "regression_loss_function = nn.L1Loss()\n",
        "\n",
        "\n",
        "model = model.to(DEVICE)\n",
        "domain_loss_function = domain_loss_function.to(DEVICE)\n",
        "regression_loss_function = regression_loss_function.to(DEVICE)\n",
        "\n",
        "# train_losses = [] # to capture train losses over training epochs\n",
        "train_accuracy = [] # to capture train accuracy over training epochs\n",
        "# val_losses = [] # to capture validation loss\n",
        "# test_losses = [] # to capture test losses \n",
        "# test_accuracy = [] # to capture test accuracy \n",
        "\n",
        "# EPOCHS = 2\n",
        "EPOCHS = 100\n",
        "# dict_val_loss = {}\n",
        "# dict_test_loss = {}\n",
        "\n",
        "\n",
        "train_regresion_losses = [] # to capture train losses over training epochs\n",
        "train_domain_losses = []\n",
        "train_accuracy = [] # to capture train accuracy over training epochs\n",
        "# valid_regresion_losses = [] # to capture validation loss\n",
        "# test_regresion_losses = [] # to capture test losses \n",
        "total_test_regression_loss =[]\n",
        "total_valid_regression_loss =[]\n",
        "# print(f'----------------------training started for {name}-----------------')\n",
        "for epoch in range(EPOCHS):\n",
        "  print(\"EPOCH:\", epoch+1)\n",
        "  train_model(model, DEVICE, train_iterator, optimizer, epoch)\n",
        "  print(\"for validation.......\")\n",
        "  # val_name = train_name.replace(\"train\", \"val\" )\n",
        "  # test_model(typical_model, device, dict_val_loader[val_name], mode = 'val')\n",
        "  test_model(model, DEVICE, valid_iterator, mode = 'val')\n",
        "\n",
        "\n",
        "  print(\"for test  .......\")\n",
        "  # test_name = train_name.replace(\"train\", \"test\" )\n",
        "  # test_model(typical_model, device, dict_test_loader[test_name], mode = 'test')\n",
        "  test_model(model, DEVICE, test_iterator, mode = 'test')\n",
        "\n",
        "# dict_val_loss[name] = val_losses\n",
        "# dict_test_loss[name] = test_losses\n",
        "\n",
        "model_name = \"Non_DANN\"+\".pt\"\n",
        "torch.save(model.state_dict(), os.path.join(MODEL_DIR, model_name))\n",
        "# print(f'----------------------training complete for {name}-----------------')\n",
        "# print(dict_val_loss.items())\n",
        "# print(dict_test_loss.items())"
      ],
      "metadata": {
        "colab": {
          "base_uri": "https://localhost:8080/"
        },
        "id": "nLYNyFPTBmCT",
        "outputId": "c7ea51b8-b821-421f-96ba-41ff96e210b8"
      },
      "execution_count": 41,
      "outputs": [
        {
          "output_type": "stream",
          "name": "stdout",
          "text": [
            "EPOCH: 1\n"
          ]
        },
        {
          "output_type": "stream",
          "name": "stderr",
          "text": [
            "Loss=0.32847732305526733 Batch_id=807 Epoch Average loss=10.4675: 100%|██████████| 808/808 [00:06<00:00, 127.01it/s]\n"
          ]
        },
        {
          "output_type": "stream",
          "name": "stdout",
          "text": [
            "for validation.......\n",
            "...Average batch validation loss is 0.15835808782741942\n",
            "for test  .......\n",
            "...Average batch test loss is 0.1604405780866823\n",
            "EPOCH: 2\n"
          ]
        },
        {
          "output_type": "stream",
          "name": "stderr",
          "text": [
            "Loss=0.3056570887565613 Batch_id=807 Epoch Average loss=8.3242: 100%|██████████| 808/808 [00:06<00:00, 128.66it/s]\n"
          ]
        },
        {
          "output_type": "stream",
          "name": "stdout",
          "text": [
            "for validation.......\n",
            "...Average batch validation loss is 0.1376844279724976\n",
            "for test  .......\n",
            "...Average batch test loss is 0.13053059245158277\n",
            "EPOCH: 3\n"
          ]
        },
        {
          "output_type": "stream",
          "name": "stderr",
          "text": [
            "Loss=0.015753164887428284 Batch_id=807 Epoch Average loss=6.8377: 100%|██████████| 808/808 [00:06<00:00, 129.74it/s]\n"
          ]
        },
        {
          "output_type": "stream",
          "name": "stdout",
          "text": [
            "for validation.......\n",
            "...Average batch validation loss is 0.13386847094215196\n",
            "for test  .......\n",
            "...Average batch test loss is 0.12984644334635295\n",
            "EPOCH: 4\n"
          ]
        },
        {
          "output_type": "stream",
          "name": "stderr",
          "text": [
            "Loss=0.1451234221458435 Batch_id=807 Epoch Average loss=6.1369: 100%|██████████| 808/808 [00:06<00:00, 128.75it/s]\n"
          ]
        },
        {
          "output_type": "stream",
          "name": "stdout",
          "text": [
            "for validation.......\n",
            "...Average batch validation loss is 0.13531460844237228\n",
            "for test  .......\n",
            "...Average batch test loss is 0.1275463044562564\n",
            "EPOCH: 5\n"
          ]
        },
        {
          "output_type": "stream",
          "name": "stderr",
          "text": [
            "Loss=0.08012938499450684 Batch_id=807 Epoch Average loss=5.5361: 100%|██████████| 808/808 [00:06<00:00, 129.99it/s]\n"
          ]
        },
        {
          "output_type": "stream",
          "name": "stdout",
          "text": [
            "for validation.......\n",
            "...Average batch validation loss is 0.14973910635915297\n",
            "for test  .......\n",
            "...Average batch test loss is 0.14135573834019155\n",
            "EPOCH: 6\n"
          ]
        },
        {
          "output_type": "stream",
          "name": "stderr",
          "text": [
            "Loss=0.11210286617279053 Batch_id=807 Epoch Average loss=4.9339: 100%|██████████| 808/808 [00:06<00:00, 129.62it/s]\n"
          ]
        },
        {
          "output_type": "stream",
          "name": "stdout",
          "text": [
            "for validation.......\n",
            "...Average batch validation loss is 0.18886489785950758\n",
            "for test  .......\n",
            "...Average batch test loss is 0.18394377595908387\n",
            "EPOCH: 7\n"
          ]
        },
        {
          "output_type": "stream",
          "name": "stderr",
          "text": [
            "Loss=0.09990735352039337 Batch_id=807 Epoch Average loss=4.5299: 100%|██████████| 808/808 [00:06<00:00, 129.62it/s]\n"
          ]
        },
        {
          "output_type": "stream",
          "name": "stdout",
          "text": [
            "for validation.......\n",
            "...Average batch validation loss is 0.129236021381\n",
            "for test  .......\n",
            "...Average batch test loss is 0.12359170092919851\n",
            "EPOCH: 8\n"
          ]
        },
        {
          "output_type": "stream",
          "name": "stderr",
          "text": [
            "Loss=0.04573485255241394 Batch_id=807 Epoch Average loss=4.1136: 100%|██████████| 808/808 [00:06<00:00, 129.69it/s]\n"
          ]
        },
        {
          "output_type": "stream",
          "name": "stdout",
          "text": [
            "for validation.......\n",
            "...Average batch validation loss is 0.145598548393825\n",
            "for test  .......\n",
            "...Average batch test loss is 0.14006245566050354\n",
            "EPOCH: 9\n"
          ]
        },
        {
          "output_type": "stream",
          "name": "stderr",
          "text": [
            "Loss=0.12298715114593506 Batch_id=807 Epoch Average loss=3.9233: 100%|██████████| 808/808 [00:06<00:00, 115.74it/s]\n"
          ]
        },
        {
          "output_type": "stream",
          "name": "stdout",
          "text": [
            "for validation.......\n",
            "...Average batch validation loss is 0.14359506584447004\n",
            "for test  .......\n",
            "...Average batch test loss is 0.14396548966387082\n",
            "EPOCH: 10\n"
          ]
        },
        {
          "output_type": "stream",
          "name": "stderr",
          "text": [
            "Loss=0.09370635449886322 Batch_id=807 Epoch Average loss=3.7379: 100%|██████████| 808/808 [00:06<00:00, 126.14it/s]\n"
          ]
        },
        {
          "output_type": "stream",
          "name": "stdout",
          "text": [
            "for validation.......\n",
            "...Average batch validation loss is 0.13771888814095792\n",
            "for test  .......\n",
            "...Average batch test loss is 0.1335656588078623\n",
            "EPOCH: 11\n"
          ]
        },
        {
          "output_type": "stream",
          "name": "stderr",
          "text": [
            "Loss=0.11496220529079437 Batch_id=807 Epoch Average loss=3.4607: 100%|██████████| 808/808 [00:06<00:00, 129.38it/s]\n"
          ]
        },
        {
          "output_type": "stream",
          "name": "stdout",
          "text": [
            "for validation.......\n",
            "...Average batch validation loss is 0.14067458130162339\n",
            "for test  .......\n",
            "...Average batch test loss is 0.1360526938415781\n",
            "EPOCH: 12\n"
          ]
        },
        {
          "output_type": "stream",
          "name": "stderr",
          "text": [
            "Loss=0.07999998331069946 Batch_id=807 Epoch Average loss=3.3186: 100%|██████████| 808/808 [00:06<00:00, 129.74it/s]\n"
          ]
        },
        {
          "output_type": "stream",
          "name": "stdout",
          "text": [
            "for validation.......\n",
            "...Average batch validation loss is 0.13119003495265696\n",
            "for test  .......\n",
            "...Average batch test loss is 0.12711614463309914\n",
            "EPOCH: 13\n"
          ]
        },
        {
          "output_type": "stream",
          "name": "stderr",
          "text": [
            "Loss=0.014933347702026367 Batch_id=807 Epoch Average loss=3.1889: 100%|██████████| 808/808 [00:06<00:00, 127.09it/s]\n"
          ]
        },
        {
          "output_type": "stream",
          "name": "stdout",
          "text": [
            "for validation.......\n",
            "...Average batch validation loss is 0.12633998558439058\n",
            "for test  .......\n",
            "...Average batch test loss is 0.12352088654235302\n",
            "EPOCH: 14\n"
          ]
        },
        {
          "output_type": "stream",
          "name": "stderr",
          "text": [
            "Loss=0.09204316139221191 Batch_id=807 Epoch Average loss=3.1926: 100%|██████████| 808/808 [00:06<00:00, 121.78it/s]\n"
          ]
        },
        {
          "output_type": "stream",
          "name": "stdout",
          "text": [
            "for validation.......\n",
            "...Average batch validation loss is 0.12670505385974357\n",
            "for test  .......\n",
            "...Average batch test loss is 0.12466530840015325\n",
            "EPOCH: 15\n"
          ]
        },
        {
          "output_type": "stream",
          "name": "stderr",
          "text": [
            "Loss=0.06201186031103134 Batch_id=807 Epoch Average loss=2.9277: 100%|██████████| 808/808 [00:06<00:00, 126.77it/s]\n"
          ]
        },
        {
          "output_type": "stream",
          "name": "stdout",
          "text": [
            "for validation.......\n",
            "...Average batch validation loss is 0.12219987193058277\n",
            "for test  .......\n",
            "...Average batch test loss is 0.12212590816654736\n",
            "EPOCH: 16\n"
          ]
        },
        {
          "output_type": "stream",
          "name": "stderr",
          "text": [
            "Loss=0.08310747146606445 Batch_id=807 Epoch Average loss=2.9272: 100%|██████████| 808/808 [00:06<00:00, 126.76it/s]\n"
          ]
        },
        {
          "output_type": "stream",
          "name": "stdout",
          "text": [
            "for validation.......\n",
            "...Average batch validation loss is 0.130574472865154\n",
            "for test  .......\n",
            "...Average batch test loss is 0.1274414369011227\n",
            "EPOCH: 17\n"
          ]
        },
        {
          "output_type": "stream",
          "name": "stderr",
          "text": [
            "Loss=0.06848731637001038 Batch_id=807 Epoch Average loss=2.8943: 100%|██████████| 808/808 [00:06<00:00, 128.71it/s]\n"
          ]
        },
        {
          "output_type": "stream",
          "name": "stdout",
          "text": [
            "for validation.......\n",
            "...Average batch validation loss is 0.12517539607039813\n",
            "for test  .......\n",
            "...Average batch test loss is 0.12459858894940957\n",
            "EPOCH: 18\n"
          ]
        },
        {
          "output_type": "stream",
          "name": "stderr",
          "text": [
            "Loss=0.048123881220817566 Batch_id=807 Epoch Average loss=2.8176: 100%|██████████| 808/808 [00:06<00:00, 125.29it/s]\n"
          ]
        },
        {
          "output_type": "stream",
          "name": "stdout",
          "text": [
            "for validation.......\n",
            "...Average batch validation loss is 0.13768793760702527\n",
            "for test  .......\n",
            "...Average batch test loss is 0.13669496257309457\n",
            "EPOCH: 19\n"
          ]
        },
        {
          "output_type": "stream",
          "name": "stderr",
          "text": [
            "Loss=0.035139068961143494 Batch_id=807 Epoch Average loss=2.7196: 100%|██████████| 808/808 [00:06<00:00, 126.44it/s]\n"
          ]
        },
        {
          "output_type": "stream",
          "name": "stdout",
          "text": [
            "for validation.......\n",
            "...Average batch validation loss is 0.1469914667051414\n",
            "for test  .......\n",
            "...Average batch test loss is 0.1450793084033359\n",
            "EPOCH: 20\n"
          ]
        },
        {
          "output_type": "stream",
          "name": "stderr",
          "text": [
            "Loss=0.07126078009605408 Batch_id=807 Epoch Average loss=2.6577: 100%|██████████| 808/808 [00:06<00:00, 127.05it/s]\n"
          ]
        },
        {
          "output_type": "stream",
          "name": "stdout",
          "text": [
            "for validation.......\n",
            "...Average batch validation loss is 0.1293918319303414\n",
            "for test  .......\n",
            "...Average batch test loss is 0.12621701080318384\n",
            "EPOCH: 21\n"
          ]
        },
        {
          "output_type": "stream",
          "name": "stderr",
          "text": [
            "Loss=0.052297193557024 Batch_id=807 Epoch Average loss=2.4807: 100%|██████████| 808/808 [00:06<00:00, 123.60it/s]\n"
          ]
        },
        {
          "output_type": "stream",
          "name": "stdout",
          "text": [
            "for validation.......\n",
            "...Average batch validation loss is 0.13567026236961627\n",
            "for test  .......\n",
            "...Average batch test loss is 0.1322939477618413\n",
            "EPOCH: 22\n"
          ]
        },
        {
          "output_type": "stream",
          "name": "stderr",
          "text": [
            "Loss=0.0739642083644867 Batch_id=807 Epoch Average loss=2.4779: 100%|██████████| 808/808 [00:06<00:00, 124.29it/s]\n"
          ]
        },
        {
          "output_type": "stream",
          "name": "stdout",
          "text": [
            "for validation.......\n",
            "...Average batch validation loss is 0.13007602737895374\n",
            "for test  .......\n",
            "...Average batch test loss is 0.12656086869201005\n",
            "EPOCH: 23\n"
          ]
        },
        {
          "output_type": "stream",
          "name": "stderr",
          "text": [
            "Loss=0.006817877292633057 Batch_id=807 Epoch Average loss=2.4469: 100%|██████████| 808/808 [00:06<00:00, 123.96it/s]\n"
          ]
        },
        {
          "output_type": "stream",
          "name": "stdout",
          "text": [
            "for validation.......\n",
            "...Average batch validation loss is 0.14012432144633655\n",
            "for test  .......\n",
            "...Average batch test loss is 0.13970569610110675\n",
            "EPOCH: 24\n"
          ]
        },
        {
          "output_type": "stream",
          "name": "stderr",
          "text": [
            "Loss=0.06896589696407318 Batch_id=807 Epoch Average loss=2.4905: 100%|██████████| 808/808 [00:06<00:00, 126.63it/s]\n"
          ]
        },
        {
          "output_type": "stream",
          "name": "stdout",
          "text": [
            "for validation.......\n",
            "...Average batch validation loss is 0.1304996101506825\n",
            "for test  .......\n",
            "...Average batch test loss is 0.12735389264647395\n",
            "EPOCH: 25\n"
          ]
        },
        {
          "output_type": "stream",
          "name": "stderr",
          "text": [
            "Loss=0.072260782122612 Batch_id=807 Epoch Average loss=2.3573: 100%|██████████| 808/808 [00:06<00:00, 126.96it/s]\n"
          ]
        },
        {
          "output_type": "stream",
          "name": "stdout",
          "text": [
            "for validation.......\n",
            "...Average batch validation loss is 0.13826567864623562\n",
            "for test  .......\n",
            "...Average batch test loss is 0.13587798917864805\n",
            "EPOCH: 26\n"
          ]
        },
        {
          "output_type": "stream",
          "name": "stderr",
          "text": [
            "Loss=0.05112305283546448 Batch_id=807 Epoch Average loss=2.3885: 100%|██████████| 808/808 [00:06<00:00, 126.87it/s]\n"
          ]
        },
        {
          "output_type": "stream",
          "name": "stdout",
          "text": [
            "for validation.......\n",
            "...Average batch validation loss is 0.1310440228930835\n",
            "for test  .......\n",
            "...Average batch test loss is 0.1269881648110869\n",
            "EPOCH: 27\n"
          ]
        },
        {
          "output_type": "stream",
          "name": "stderr",
          "text": [
            "Loss=0.04537048935890198 Batch_id=807 Epoch Average loss=2.3022: 100%|██████████| 808/808 [00:06<00:00, 124.55it/s]\n"
          ]
        },
        {
          "output_type": "stream",
          "name": "stdout",
          "text": [
            "for validation.......\n",
            "...Average batch validation loss is 0.1251717298709113\n",
            "for test  .......\n",
            "...Average batch test loss is 0.12192560993741261\n",
            "EPOCH: 28\n"
          ]
        },
        {
          "output_type": "stream",
          "name": "stderr",
          "text": [
            "Loss=0.030084259808063507 Batch_id=807 Epoch Average loss=2.3176: 100%|██████████| 808/808 [00:06<00:00, 125.02it/s]\n"
          ]
        },
        {
          "output_type": "stream",
          "name": "stdout",
          "text": [
            "for validation.......\n",
            "...Average batch validation loss is 0.1308086356212353\n",
            "for test  .......\n",
            "...Average batch test loss is 0.12710714728232964\n",
            "EPOCH: 29\n"
          ]
        },
        {
          "output_type": "stream",
          "name": "stderr",
          "text": [
            "Loss=0.05705659091472626 Batch_id=807 Epoch Average loss=2.2836: 100%|██████████| 808/808 [00:06<00:00, 126.46it/s]\n"
          ]
        },
        {
          "output_type": "stream",
          "name": "stdout",
          "text": [
            "for validation.......\n",
            "...Average batch validation loss is 0.12530099215178653\n",
            "for test  .......\n",
            "...Average batch test loss is 0.12178444021649214\n",
            "EPOCH: 30\n"
          ]
        },
        {
          "output_type": "stream",
          "name": "stderr",
          "text": [
            "Loss=0.04074423015117645 Batch_id=807 Epoch Average loss=2.1868: 100%|██████████| 808/808 [00:06<00:00, 123.78it/s]\n"
          ]
        },
        {
          "output_type": "stream",
          "name": "stdout",
          "text": [
            "for validation.......\n",
            "...Average batch validation loss is 0.12990325858880733\n",
            "for test  .......\n",
            "...Average batch test loss is 0.1250532776871814\n",
            "EPOCH: 31\n"
          ]
        },
        {
          "output_type": "stream",
          "name": "stderr",
          "text": [
            "Loss=0.018508300185203552 Batch_id=807 Epoch Average loss=2.1436: 100%|██████████| 808/808 [00:06<00:00, 124.22it/s]\n"
          ]
        },
        {
          "output_type": "stream",
          "name": "stdout",
          "text": [
            "for validation.......\n",
            "...Average batch validation loss is 0.13364129395320498\n",
            "for test  .......\n",
            "...Average batch test loss is 0.1293006298177712\n",
            "EPOCH: 32\n"
          ]
        },
        {
          "output_type": "stream",
          "name": "stderr",
          "text": [
            "Loss=0.11284872144460678 Batch_id=807 Epoch Average loss=2.2020: 100%|██████████| 808/808 [00:06<00:00, 124.00it/s]\n"
          ]
        },
        {
          "output_type": "stream",
          "name": "stdout",
          "text": [
            "for validation.......\n",
            "...Average batch validation loss is 0.12725946497300575\n",
            "for test  .......\n",
            "...Average batch test loss is 0.12395399827745897\n",
            "EPOCH: 33\n"
          ]
        },
        {
          "output_type": "stream",
          "name": "stderr",
          "text": [
            "Loss=0.0382622592151165 Batch_id=807 Epoch Average loss=2.1195: 100%|██████████| 808/808 [00:06<00:00, 123.79it/s]\n"
          ]
        },
        {
          "output_type": "stream",
          "name": "stdout",
          "text": [
            "for validation.......\n",
            "...Average batch validation loss is 0.12693627856928727\n",
            "for test  .......\n",
            "...Average batch test loss is 0.12169361719440595\n",
            "EPOCH: 34\n"
          ]
        },
        {
          "output_type": "stream",
          "name": "stderr",
          "text": [
            "Loss=0.04857596755027771 Batch_id=807 Epoch Average loss=2.1880: 100%|██████████| 808/808 [00:06<00:00, 124.15it/s]\n"
          ]
        },
        {
          "output_type": "stream",
          "name": "stdout",
          "text": [
            "for validation.......\n",
            "...Average batch validation loss is 0.12633719834788093\n",
            "for test  .......\n",
            "...Average batch test loss is 0.12249324527345126\n",
            "EPOCH: 35\n"
          ]
        },
        {
          "output_type": "stream",
          "name": "stderr",
          "text": [
            "Loss=0.0845070481300354 Batch_id=807 Epoch Average loss=2.0756: 100%|██████████| 808/808 [00:06<00:00, 125.54it/s]\n"
          ]
        },
        {
          "output_type": "stream",
          "name": "stdout",
          "text": [
            "for validation.......\n",
            "...Average batch validation loss is 0.12694684626727268\n",
            "for test  .......\n",
            "...Average batch test loss is 0.12389240056869134\n",
            "EPOCH: 36\n"
          ]
        },
        {
          "output_type": "stream",
          "name": "stderr",
          "text": [
            "Loss=0.021712034940719604 Batch_id=807 Epoch Average loss=2.1164: 100%|██████████| 808/808 [00:06<00:00, 123.42it/s]\n"
          ]
        },
        {
          "output_type": "stream",
          "name": "stdout",
          "text": [
            "for validation.......\n",
            "...Average batch validation loss is 0.13300747591359863\n",
            "for test  .......\n",
            "...Average batch test loss is 0.13007587685534364\n",
            "EPOCH: 37\n"
          ]
        },
        {
          "output_type": "stream",
          "name": "stderr",
          "text": [
            "Loss=0.03134658932685852 Batch_id=807 Epoch Average loss=2.0698: 100%|██████████| 808/808 [00:06<00:00, 125.40it/s]\n"
          ]
        },
        {
          "output_type": "stream",
          "name": "stdout",
          "text": [
            "for validation.......\n",
            "...Average batch validation loss is 0.12677817909881986\n",
            "for test  .......\n",
            "...Average batch test loss is 0.12217121917559053\n",
            "EPOCH: 38\n"
          ]
        },
        {
          "output_type": "stream",
          "name": "stderr",
          "text": [
            "Loss=0.04283037781715393 Batch_id=807 Epoch Average loss=1.9625: 100%|██████████| 808/808 [00:06<00:00, 124.09it/s]\n"
          ]
        },
        {
          "output_type": "stream",
          "name": "stdout",
          "text": [
            "for validation.......\n",
            "...Average batch validation loss is 0.13617599164617472\n",
            "for test  .......\n",
            "...Average batch test loss is 0.12882030830730365\n",
            "EPOCH: 39\n"
          ]
        },
        {
          "output_type": "stream",
          "name": "stderr",
          "text": [
            "Loss=0.04316280782222748 Batch_id=807 Epoch Average loss=2.0422: 100%|██████████| 808/808 [00:06<00:00, 126.01it/s]\n"
          ]
        },
        {
          "output_type": "stream",
          "name": "stdout",
          "text": [
            "for validation.......\n",
            "...Average batch validation loss is 0.12851051934834185\n",
            "for test  .......\n",
            "...Average batch test loss is 0.12368981335413176\n",
            "EPOCH: 40\n"
          ]
        },
        {
          "output_type": "stream",
          "name": "stderr",
          "text": [
            "Loss=0.033029258251190186 Batch_id=807 Epoch Average loss=2.0721: 100%|██████████| 808/808 [00:06<00:00, 124.30it/s]\n"
          ]
        },
        {
          "output_type": "stream",
          "name": "stdout",
          "text": [
            "for validation.......\n",
            "...Average batch validation loss is 0.13728285524351844\n",
            "for test  .......\n",
            "...Average batch test loss is 0.1303130016539239\n",
            "EPOCH: 41\n"
          ]
        },
        {
          "output_type": "stream",
          "name": "stderr",
          "text": [
            "Loss=0.023641720414161682 Batch_id=807 Epoch Average loss=1.9987: 100%|██████████| 808/808 [00:06<00:00, 125.08it/s]\n"
          ]
        },
        {
          "output_type": "stream",
          "name": "stdout",
          "text": [
            "for validation.......\n",
            "...Average batch validation loss is 0.13513822036570516\n",
            "for test  .......\n",
            "...Average batch test loss is 0.1292557888083281\n",
            "EPOCH: 42\n"
          ]
        },
        {
          "output_type": "stream",
          "name": "stderr",
          "text": [
            "Loss=0.04188644513487816 Batch_id=807 Epoch Average loss=1.9541: 100%|██████████| 808/808 [00:06<00:00, 122.96it/s]\n"
          ]
        },
        {
          "output_type": "stream",
          "name": "stdout",
          "text": [
            "for validation.......\n",
            "...Average batch validation loss is 0.13022601465726721\n",
            "for test  .......\n",
            "...Average batch test loss is 0.1252073605307403\n",
            "EPOCH: 43\n"
          ]
        },
        {
          "output_type": "stream",
          "name": "stderr",
          "text": [
            "Loss=0.013547226786613464 Batch_id=807 Epoch Average loss=1.9423: 100%|██████████| 808/808 [00:07<00:00, 111.73it/s]\n"
          ]
        },
        {
          "output_type": "stream",
          "name": "stdout",
          "text": [
            "for validation.......\n",
            "...Average batch validation loss is 0.13685322820112622\n",
            "for test  .......\n",
            "...Average batch test loss is 0.13150418766691715\n",
            "EPOCH: 44\n"
          ]
        },
        {
          "output_type": "stream",
          "name": "stderr",
          "text": [
            "Loss=0.02373422682285309 Batch_id=807 Epoch Average loss=1.8999: 100%|██████████| 808/808 [00:06<00:00, 123.01it/s]\n"
          ]
        },
        {
          "output_type": "stream",
          "name": "stdout",
          "text": [
            "for validation.......\n",
            "...Average batch validation loss is 0.13055099161534472\n",
            "for test  .......\n",
            "...Average batch test loss is 0.12398403532681801\n",
            "EPOCH: 45\n"
          ]
        },
        {
          "output_type": "stream",
          "name": "stderr",
          "text": [
            "Loss=0.01588842272758484 Batch_id=807 Epoch Average loss=1.9083: 100%|██████████| 808/808 [00:06<00:00, 123.54it/s]\n"
          ]
        },
        {
          "output_type": "stream",
          "name": "stdout",
          "text": [
            "for validation.......\n",
            "...Average batch validation loss is 0.13050464032025172\n",
            "for test  .......\n",
            "...Average batch test loss is 0.12468391904779197\n",
            "EPOCH: 46\n"
          ]
        },
        {
          "output_type": "stream",
          "name": "stderr",
          "text": [
            "Loss=0.011644721031188965 Batch_id=807 Epoch Average loss=1.8911: 100%|██████████| 808/808 [00:06<00:00, 123.78it/s]\n"
          ]
        },
        {
          "output_type": "stream",
          "name": "stdout",
          "text": [
            "for validation.......\n",
            "...Average batch validation loss is 0.13224817802166117\n",
            "for test  .......\n",
            "...Average batch test loss is 0.12792205194829817\n",
            "EPOCH: 47\n"
          ]
        },
        {
          "output_type": "stream",
          "name": "stderr",
          "text": [
            "Loss=0.06732174754142761 Batch_id=807 Epoch Average loss=1.8825: 100%|██████████| 808/808 [00:06<00:00, 125.02it/s]\n"
          ]
        },
        {
          "output_type": "stream",
          "name": "stdout",
          "text": [
            "for validation.......\n",
            "...Average batch validation loss is 0.1336678882611209\n",
            "for test  .......\n",
            "...Average batch test loss is 0.1273772735923367\n",
            "EPOCH: 48\n"
          ]
        },
        {
          "output_type": "stream",
          "name": "stderr",
          "text": [
            "Loss=0.05065697431564331 Batch_id=807 Epoch Average loss=1.9509: 100%|██████████| 808/808 [00:06<00:00, 126.04it/s]\n"
          ]
        },
        {
          "output_type": "stream",
          "name": "stdout",
          "text": [
            "for validation.......\n",
            "...Average batch validation loss is 0.13572254376164797\n",
            "for test  .......\n",
            "...Average batch test loss is 0.12844257549825672\n",
            "EPOCH: 49\n"
          ]
        },
        {
          "output_type": "stream",
          "name": "stderr",
          "text": [
            "Loss=0.03316667675971985 Batch_id=807 Epoch Average loss=1.8757: 100%|██████████| 808/808 [00:06<00:00, 124.12it/s]\n"
          ]
        },
        {
          "output_type": "stream",
          "name": "stdout",
          "text": [
            "for validation.......\n",
            "...Average batch validation loss is 0.13687416494920335\n",
            "for test  .......\n",
            "...Average batch test loss is 0.12791902220270732\n",
            "EPOCH: 50\n"
          ]
        },
        {
          "output_type": "stream",
          "name": "stderr",
          "text": [
            "Loss=0.025586992502212524 Batch_id=807 Epoch Average loss=1.8910: 100%|██████████| 808/808 [00:06<00:00, 123.09it/s]\n"
          ]
        },
        {
          "output_type": "stream",
          "name": "stdout",
          "text": [
            "for validation.......\n",
            "...Average batch validation loss is 0.1355902811062747\n",
            "for test  .......\n",
            "...Average batch test loss is 0.12891809292016365\n",
            "EPOCH: 51\n"
          ]
        },
        {
          "output_type": "stream",
          "name": "stderr",
          "text": [
            "Loss=0.0022521018981933594 Batch_id=807 Epoch Average loss=1.8351: 100%|██████████| 808/808 [00:06<00:00, 123.20it/s]\n"
          ]
        },
        {
          "output_type": "stream",
          "name": "stdout",
          "text": [
            "for validation.......\n",
            "...Average batch validation loss is 0.1326603054486472\n",
            "for test  .......\n",
            "...Average batch test loss is 0.12466683673923314\n",
            "EPOCH: 52\n"
          ]
        },
        {
          "output_type": "stream",
          "name": "stderr",
          "text": [
            "Loss=0.06373102962970734 Batch_id=807 Epoch Average loss=1.8518: 100%|██████████| 808/808 [00:06<00:00, 121.01it/s]\n"
          ]
        },
        {
          "output_type": "stream",
          "name": "stdout",
          "text": [
            "for validation.......\n",
            "...Average batch validation loss is 0.1386388240189388\n",
            "for test  .......\n",
            "...Average batch test loss is 0.1302601253145642\n",
            "EPOCH: 53\n"
          ]
        },
        {
          "output_type": "stream",
          "name": "stderr",
          "text": [
            "Loss=0.08268344402313232 Batch_id=807 Epoch Average loss=1.8570: 100%|██████████| 808/808 [00:06<00:00, 124.76it/s]\n"
          ]
        },
        {
          "output_type": "stream",
          "name": "stdout",
          "text": [
            "for validation.......\n",
            "...Average batch validation loss is 0.13902566422676219\n",
            "for test  .......\n",
            "...Average batch test loss is 0.13100965884909924\n",
            "EPOCH: 54\n"
          ]
        },
        {
          "output_type": "stream",
          "name": "stderr",
          "text": [
            "Loss=0.057263150811195374 Batch_id=807 Epoch Average loss=1.7609: 100%|██████████| 808/808 [00:06<00:00, 123.48it/s]\n"
          ]
        },
        {
          "output_type": "stream",
          "name": "stdout",
          "text": [
            "for validation.......\n",
            "...Average batch validation loss is 0.1379738162817626\n",
            "for test  .......\n",
            "...Average batch test loss is 0.1317202710490977\n",
            "EPOCH: 55\n"
          ]
        },
        {
          "output_type": "stream",
          "name": "stderr",
          "text": [
            "Loss=0.004874527454376221 Batch_id=807 Epoch Average loss=1.8604: 100%|██████████| 808/808 [00:06<00:00, 125.45it/s]\n"
          ]
        },
        {
          "output_type": "stream",
          "name": "stdout",
          "text": [
            "for validation.......\n",
            "...Average batch validation loss is 0.13324245836200385\n",
            "for test  .......\n",
            "...Average batch test loss is 0.12586884219435196\n",
            "EPOCH: 56\n"
          ]
        },
        {
          "output_type": "stream",
          "name": "stderr",
          "text": [
            "Loss=0.0667218565940857 Batch_id=807 Epoch Average loss=1.8308: 100%|██████████| 808/808 [00:06<00:00, 124.47it/s]\n"
          ]
        },
        {
          "output_type": "stream",
          "name": "stdout",
          "text": [
            "for validation.......\n",
            "...Average batch validation loss is 0.13421070688757403\n",
            "for test  .......\n",
            "...Average batch test loss is 0.12585938802733343\n",
            "EPOCH: 57\n"
          ]
        },
        {
          "output_type": "stream",
          "name": "stderr",
          "text": [
            "Loss=0.03969545662403107 Batch_id=807 Epoch Average loss=1.7150: 100%|██████████| 808/808 [00:06<00:00, 125.58it/s]\n"
          ]
        },
        {
          "output_type": "stream",
          "name": "stdout",
          "text": [
            "for validation.......\n",
            "...Average batch validation loss is 0.13794012388278698\n",
            "for test  .......\n",
            "...Average batch test loss is 0.1296663752758697\n",
            "EPOCH: 58\n"
          ]
        },
        {
          "output_type": "stream",
          "name": "stderr",
          "text": [
            "Loss=0.048256129026412964 Batch_id=807 Epoch Average loss=1.7896: 100%|██████████| 808/808 [00:06<00:00, 126.07it/s]\n"
          ]
        },
        {
          "output_type": "stream",
          "name": "stdout",
          "text": [
            "for validation.......\n",
            "...Average batch validation loss is 0.1380499318242073\n",
            "for test  .......\n",
            "...Average batch test loss is 0.1297738230896686\n",
            "EPOCH: 59\n"
          ]
        },
        {
          "output_type": "stream",
          "name": "stderr",
          "text": [
            "Loss=0.071473628282547 Batch_id=807 Epoch Average loss=1.7527: 100%|██████████| 808/808 [00:06<00:00, 125.38it/s]\n"
          ]
        },
        {
          "output_type": "stream",
          "name": "stdout",
          "text": [
            "for validation.......\n",
            "...Average batch validation loss is 0.14053655415773392\n",
            "for test  .......\n",
            "...Average batch test loss is 0.13276439692292893\n",
            "EPOCH: 60\n"
          ]
        },
        {
          "output_type": "stream",
          "name": "stderr",
          "text": [
            "Loss=0.049816057085990906 Batch_id=807 Epoch Average loss=1.7644: 100%|██████████| 808/808 [00:06<00:00, 124.52it/s]\n"
          ]
        },
        {
          "output_type": "stream",
          "name": "stdout",
          "text": [
            "for validation.......\n",
            "...Average batch validation loss is 0.1314548871126668\n",
            "for test  .......\n",
            "...Average batch test loss is 0.12410359459156153\n",
            "EPOCH: 61\n"
          ]
        },
        {
          "output_type": "stream",
          "name": "stderr",
          "text": [
            "Loss=0.029764682054519653 Batch_id=807 Epoch Average loss=1.7799: 100%|██████████| 808/808 [00:06<00:00, 123.23it/s]\n"
          ]
        },
        {
          "output_type": "stream",
          "name": "stdout",
          "text": [
            "for validation.......\n",
            "...Average batch validation loss is 0.13345166876398284\n",
            "for test  .......\n",
            "...Average batch test loss is 0.1251083568385238\n",
            "EPOCH: 62\n"
          ]
        },
        {
          "output_type": "stream",
          "name": "stderr",
          "text": [
            "Loss=0.03736022114753723 Batch_id=807 Epoch Average loss=1.7417: 100%|██████████| 808/808 [00:06<00:00, 124.23it/s]\n"
          ]
        },
        {
          "output_type": "stream",
          "name": "stdout",
          "text": [
            "for validation.......\n",
            "...Average batch validation loss is 0.1359690393867164\n",
            "for test  .......\n",
            "...Average batch test loss is 0.12839337959750868\n",
            "EPOCH: 63\n"
          ]
        },
        {
          "output_type": "stream",
          "name": "stderr",
          "text": [
            "Loss=0.023565247654914856 Batch_id=807 Epoch Average loss=1.7595: 100%|██████████| 808/808 [00:06<00:00, 123.00it/s]\n"
          ]
        },
        {
          "output_type": "stream",
          "name": "stdout",
          "text": [
            "for validation.......\n",
            "...Average batch validation loss is 0.13176248844327598\n",
            "for test  .......\n",
            "...Average batch test loss is 0.12674352162893168\n",
            "EPOCH: 64\n"
          ]
        },
        {
          "output_type": "stream",
          "name": "stderr",
          "text": [
            "Loss=0.01863923668861389 Batch_id=807 Epoch Average loss=1.7379: 100%|██████████| 808/808 [00:06<00:00, 122.49it/s]\n"
          ]
        },
        {
          "output_type": "stream",
          "name": "stdout",
          "text": [
            "for validation.......\n",
            "...Average batch validation loss is 0.13299863708430323\n",
            "for test  .......\n",
            "...Average batch test loss is 0.1256737669030538\n",
            "EPOCH: 65\n"
          ]
        },
        {
          "output_type": "stream",
          "name": "stderr",
          "text": [
            "Loss=0.044140011072158813 Batch_id=807 Epoch Average loss=1.7226: 100%|██████████| 808/808 [00:06<00:00, 120.45it/s]\n"
          ]
        },
        {
          "output_type": "stream",
          "name": "stdout",
          "text": [
            "for validation.......\n",
            "...Average batch validation loss is 0.13158701781568857\n",
            "for test  .......\n",
            "...Average batch test loss is 0.12409561709458745\n",
            "EPOCH: 66\n"
          ]
        },
        {
          "output_type": "stream",
          "name": "stderr",
          "text": [
            "Loss=0.014607489109039307 Batch_id=807 Epoch Average loss=1.7388: 100%|██████████| 808/808 [00:06<00:00, 121.81it/s]\n"
          ]
        },
        {
          "output_type": "stream",
          "name": "stdout",
          "text": [
            "for validation.......\n",
            "...Average batch validation loss is 0.13659085903702112\n",
            "for test  .......\n",
            "...Average batch test loss is 0.12966101756740436\n",
            "EPOCH: 67\n"
          ]
        },
        {
          "output_type": "stream",
          "name": "stderr",
          "text": [
            "Loss=0.021057039499282837 Batch_id=807 Epoch Average loss=1.7478: 100%|██████████| 808/808 [00:06<00:00, 124.43it/s]\n"
          ]
        },
        {
          "output_type": "stream",
          "name": "stdout",
          "text": [
            "for validation.......\n",
            "...Average batch validation loss is 0.1333861487178967\n",
            "for test  .......\n",
            "...Average batch test loss is 0.12483997085210859\n",
            "EPOCH: 68\n"
          ]
        },
        {
          "output_type": "stream",
          "name": "stderr",
          "text": [
            "Loss=0.013178735971450806 Batch_id=807 Epoch Average loss=1.7224: 100%|██████████| 808/808 [00:06<00:00, 124.77it/s]\n"
          ]
        },
        {
          "output_type": "stream",
          "name": "stdout",
          "text": [
            "for validation.......\n",
            "...Average batch validation loss is 0.13643747419118882\n",
            "for test  .......\n",
            "...Average batch test loss is 0.1273713527789599\n",
            "EPOCH: 69\n"
          ]
        },
        {
          "output_type": "stream",
          "name": "stderr",
          "text": [
            "Loss=0.03907318413257599 Batch_id=807 Epoch Average loss=1.6820: 100%|██████████| 808/808 [00:06<00:00, 122.39it/s]\n"
          ]
        },
        {
          "output_type": "stream",
          "name": "stdout",
          "text": [
            "for validation.......\n",
            "...Average batch validation loss is 0.13569438853140536\n",
            "for test  .......\n",
            "...Average batch test loss is 0.12614636146084526\n",
            "EPOCH: 70\n"
          ]
        },
        {
          "output_type": "stream",
          "name": "stderr",
          "text": [
            "Loss=0.020244285464286804 Batch_id=807 Epoch Average loss=1.7431: 100%|██████████| 808/808 [00:06<00:00, 121.86it/s]\n"
          ]
        },
        {
          "output_type": "stream",
          "name": "stdout",
          "text": [
            "for validation.......\n",
            "...Average batch validation loss is 0.13493206984010236\n",
            "for test  .......\n",
            "...Average batch test loss is 0.1261138323606893\n",
            "EPOCH: 71\n"
          ]
        },
        {
          "output_type": "stream",
          "name": "stderr",
          "text": [
            "Loss=0.0037814676761627197 Batch_id=807 Epoch Average loss=1.6510: 100%|██████████| 808/808 [00:06<00:00, 121.70it/s]\n"
          ]
        },
        {
          "output_type": "stream",
          "name": "stdout",
          "text": [
            "for validation.......\n",
            "...Average batch validation loss is 0.1357572264198599\n",
            "for test  .......\n",
            "...Average batch test loss is 0.1258725015611588\n",
            "EPOCH: 72\n"
          ]
        },
        {
          "output_type": "stream",
          "name": "stderr",
          "text": [
            "Loss=0.07110881805419922 Batch_id=807 Epoch Average loss=1.7275: 100%|██████████| 808/808 [00:06<00:00, 122.85it/s]\n"
          ]
        },
        {
          "output_type": "stream",
          "name": "stdout",
          "text": [
            "for validation.......\n",
            "...Average batch validation loss is 0.14152073469655266\n",
            "for test  .......\n",
            "...Average batch test loss is 0.1329114927521235\n",
            "EPOCH: 73\n"
          ]
        },
        {
          "output_type": "stream",
          "name": "stderr",
          "text": [
            "Loss=0.02834416925907135 Batch_id=807 Epoch Average loss=1.6663: 100%|██████████| 808/808 [00:06<00:00, 124.58it/s]\n"
          ]
        },
        {
          "output_type": "stream",
          "name": "stdout",
          "text": [
            "for validation.......\n",
            "...Average batch validation loss is 0.13828715008908304\n",
            "for test  .......\n",
            "...Average batch test loss is 0.13035814922848618\n",
            "EPOCH: 74\n"
          ]
        },
        {
          "output_type": "stream",
          "name": "stderr",
          "text": [
            "Loss=0.05240693688392639 Batch_id=807 Epoch Average loss=1.6523: 100%|██████████| 808/808 [00:06<00:00, 121.18it/s]\n"
          ]
        },
        {
          "output_type": "stream",
          "name": "stdout",
          "text": [
            "for validation.......\n",
            "...Average batch validation loss is 0.14487171589300551\n",
            "for test  .......\n",
            "...Average batch test loss is 0.1353867728714486\n",
            "EPOCH: 75\n"
          ]
        },
        {
          "output_type": "stream",
          "name": "stderr",
          "text": [
            "Loss=0.05072614550590515 Batch_id=807 Epoch Average loss=1.6446: 100%|██████████| 808/808 [00:06<00:00, 117.86it/s]\n"
          ]
        },
        {
          "output_type": "stream",
          "name": "stdout",
          "text": [
            "for validation.......\n",
            "...Average batch validation loss is 0.13529534196031504\n",
            "for test  .......\n",
            "...Average batch test loss is 0.12731771388008625\n",
            "EPOCH: 76\n"
          ]
        },
        {
          "output_type": "stream",
          "name": "stderr",
          "text": [
            "Loss=0.02398616075515747 Batch_id=807 Epoch Average loss=1.6355: 100%|██████████| 808/808 [00:07<00:00, 112.49it/s]\n"
          ]
        },
        {
          "output_type": "stream",
          "name": "stdout",
          "text": [
            "for validation.......\n",
            "...Average batch validation loss is 0.13595007092788303\n",
            "for test  .......\n",
            "...Average batch test loss is 0.12870611284083094\n",
            "EPOCH: 77\n"
          ]
        },
        {
          "output_type": "stream",
          "name": "stderr",
          "text": [
            "Loss=0.008189558982849121 Batch_id=807 Epoch Average loss=1.6444: 100%|██████████| 808/808 [00:06<00:00, 121.75it/s]\n"
          ]
        },
        {
          "output_type": "stream",
          "name": "stdout",
          "text": [
            "for validation.......\n",
            "...Average batch validation loss is 0.13237454325988374\n",
            "for test  .......\n",
            "...Average batch test loss is 0.12783333131029637\n",
            "EPOCH: 78\n"
          ]
        },
        {
          "output_type": "stream",
          "name": "stderr",
          "text": [
            "Loss=0.02196158468723297 Batch_id=807 Epoch Average loss=1.6782: 100%|██████████| 808/808 [00:06<00:00, 121.11it/s]\n"
          ]
        },
        {
          "output_type": "stream",
          "name": "stdout",
          "text": [
            "for validation.......\n",
            "...Average batch validation loss is 0.14123942600242023\n",
            "for test  .......\n",
            "...Average batch test loss is 0.13324926581375207\n",
            "EPOCH: 79\n"
          ]
        },
        {
          "output_type": "stream",
          "name": "stderr",
          "text": [
            "Loss=0.030751556158065796 Batch_id=807 Epoch Average loss=1.6870: 100%|██████████| 808/808 [00:06<00:00, 120.63it/s]\n"
          ]
        },
        {
          "output_type": "stream",
          "name": "stdout",
          "text": [
            "for validation.......\n",
            "...Average batch validation loss is 0.1348564270241507\n",
            "for test  .......\n",
            "...Average batch test loss is 0.1258894263701025\n",
            "EPOCH: 80\n"
          ]
        },
        {
          "output_type": "stream",
          "name": "stderr",
          "text": [
            "Loss=0.07326311618089676 Batch_id=807 Epoch Average loss=1.6645: 100%|██████████| 808/808 [00:06<00:00, 121.07it/s]\n"
          ]
        },
        {
          "output_type": "stream",
          "name": "stdout",
          "text": [
            "for validation.......\n",
            "...Average batch validation loss is 0.14067997089747725\n",
            "for test  .......\n",
            "...Average batch test loss is 0.1305257618683264\n",
            "EPOCH: 81\n"
          ]
        },
        {
          "output_type": "stream",
          "name": "stderr",
          "text": [
            "Loss=0.051840126514434814 Batch_id=807 Epoch Average loss=1.5841: 100%|██████████| 808/808 [00:06<00:00, 121.90it/s]\n"
          ]
        },
        {
          "output_type": "stream",
          "name": "stdout",
          "text": [
            "for validation.......\n",
            "...Average batch validation loss is 0.13432247520520768\n",
            "for test  .......\n",
            "...Average batch test loss is 0.12490601751407707\n",
            "EPOCH: 82\n"
          ]
        },
        {
          "output_type": "stream",
          "name": "stderr",
          "text": [
            "Loss=0.03931455314159393 Batch_id=807 Epoch Average loss=1.6509: 100%|██████████| 808/808 [00:06<00:00, 122.10it/s]\n"
          ]
        },
        {
          "output_type": "stream",
          "name": "stdout",
          "text": [
            "for validation.......\n",
            "...Average batch validation loss is 0.13906175298937437\n",
            "for test  .......\n",
            "...Average batch test loss is 0.12823904385187312\n",
            "EPOCH: 83\n"
          ]
        },
        {
          "output_type": "stream",
          "name": "stderr",
          "text": [
            "Loss=0.009243279695510864 Batch_id=807 Epoch Average loss=1.6092: 100%|██████████| 808/808 [00:06<00:00, 120.51it/s]\n"
          ]
        },
        {
          "output_type": "stream",
          "name": "stdout",
          "text": [
            "for validation.......\n",
            "...Average batch validation loss is 0.13508894484618614\n",
            "for test  .......\n",
            "...Average batch test loss is 0.12565312009122875\n",
            "EPOCH: 84\n"
          ]
        },
        {
          "output_type": "stream",
          "name": "stderr",
          "text": [
            "Loss=0.008675441145896912 Batch_id=807 Epoch Average loss=1.6494: 100%|██████████| 808/808 [00:06<00:00, 116.69it/s]\n"
          ]
        },
        {
          "output_type": "stream",
          "name": "stdout",
          "text": [
            "for validation.......\n",
            "...Average batch validation loss is 0.13334505799515495\n",
            "for test  .......\n",
            "...Average batch test loss is 0.12463761104866997\n",
            "EPOCH: 85\n"
          ]
        },
        {
          "output_type": "stream",
          "name": "stderr",
          "text": [
            "Loss=0.014510512351989746 Batch_id=807 Epoch Average loss=1.6057: 100%|██████████| 808/808 [00:06<00:00, 119.63it/s]\n"
          ]
        },
        {
          "output_type": "stream",
          "name": "stdout",
          "text": [
            "for validation.......\n",
            "...Average batch validation loss is 0.1364843186119507\n",
            "for test  .......\n",
            "...Average batch test loss is 0.12639782762333454\n",
            "EPOCH: 86\n"
          ]
        },
        {
          "output_type": "stream",
          "name": "stderr",
          "text": [
            "Loss=0.007930383086204529 Batch_id=807 Epoch Average loss=1.5663: 100%|██████████| 808/808 [00:06<00:00, 118.24it/s]\n"
          ]
        },
        {
          "output_type": "stream",
          "name": "stdout",
          "text": [
            "for validation.......\n",
            "...Average batch validation loss is 0.13897418970691747\n",
            "for test  .......\n",
            "...Average batch test loss is 0.12911025601797896\n",
            "EPOCH: 87\n"
          ]
        },
        {
          "output_type": "stream",
          "name": "stderr",
          "text": [
            "Loss=0.03612065315246582 Batch_id=807 Epoch Average loss=1.6365: 100%|██████████| 808/808 [00:07<00:00, 109.12it/s]\n"
          ]
        },
        {
          "output_type": "stream",
          "name": "stdout",
          "text": [
            "for validation.......\n",
            "...Average batch validation loss is 0.13320664023530895\n",
            "for test  .......\n",
            "...Average batch test loss is 0.12467849910744276\n",
            "EPOCH: 88\n"
          ]
        },
        {
          "output_type": "stream",
          "name": "stderr",
          "text": [
            "Loss=0.05725283920764923 Batch_id=807 Epoch Average loss=1.6011: 100%|██████████| 808/808 [00:06<00:00, 117.60it/s]\n"
          ]
        },
        {
          "output_type": "stream",
          "name": "stdout",
          "text": [
            "for validation.......\n",
            "...Average batch validation loss is 0.13994503118868531\n",
            "for test  .......\n",
            "...Average batch test loss is 0.13046263747092396\n",
            "EPOCH: 89\n"
          ]
        },
        {
          "output_type": "stream",
          "name": "stderr",
          "text": [
            "Loss=0.04691383242607117 Batch_id=807 Epoch Average loss=1.5983: 100%|██████████| 808/808 [00:07<00:00, 115.21it/s]\n"
          ]
        },
        {
          "output_type": "stream",
          "name": "stdout",
          "text": [
            "for validation.......\n",
            "...Average batch validation loss is 0.14058541933010366\n",
            "for test  .......\n",
            "...Average batch test loss is 0.13127347083246946\n",
            "EPOCH: 90\n"
          ]
        },
        {
          "output_type": "stream",
          "name": "stderr",
          "text": [
            "Loss=0.053459346294403076 Batch_id=807 Epoch Average loss=1.6383: 100%|██████████| 808/808 [00:06<00:00, 115.74it/s]\n"
          ]
        },
        {
          "output_type": "stream",
          "name": "stdout",
          "text": [
            "for validation.......\n",
            "...Average batch validation loss is 0.14521683007478714\n",
            "for test  .......\n",
            "...Average batch test loss is 0.13556863333201322\n",
            "EPOCH: 91\n"
          ]
        },
        {
          "output_type": "stream",
          "name": "stderr",
          "text": [
            "Loss=0.028439998626708984 Batch_id=807 Epoch Average loss=1.6067: 100%|██████████| 808/808 [00:07<00:00, 114.65it/s]\n"
          ]
        },
        {
          "output_type": "stream",
          "name": "stdout",
          "text": [
            "for validation.......\n",
            "...Average batch validation loss is 0.13954714593188516\n",
            "for test  .......\n",
            "...Average batch test loss is 0.13122745694939525\n",
            "EPOCH: 92\n"
          ]
        },
        {
          "output_type": "stream",
          "name": "stderr",
          "text": [
            "Loss=0.06083819270133972 Batch_id=807 Epoch Average loss=1.6370: 100%|██████████| 808/808 [00:07<00:00, 112.08it/s]\n"
          ]
        },
        {
          "output_type": "stream",
          "name": "stdout",
          "text": [
            "for validation.......\n",
            "...Average batch validation loss is 0.1416823112759097\n",
            "for test  .......\n",
            "...Average batch test loss is 0.13292753879674735\n",
            "EPOCH: 93\n"
          ]
        },
        {
          "output_type": "stream",
          "name": "stderr",
          "text": [
            "Loss=0.026603221893310547 Batch_id=807 Epoch Average loss=1.5884: 100%|██████████| 808/808 [00:07<00:00, 112.26it/s]\n"
          ]
        },
        {
          "output_type": "stream",
          "name": "stdout",
          "text": [
            "for validation.......\n",
            "...Average batch validation loss is 0.13375264771025755\n",
            "for test  .......\n",
            "...Average batch test loss is 0.1256609677217537\n",
            "EPOCH: 94\n"
          ]
        },
        {
          "output_type": "stream",
          "name": "stderr",
          "text": [
            "Loss=0.011610925197601318 Batch_id=807 Epoch Average loss=1.6093: 100%|██████████| 808/808 [00:07<00:00, 111.73it/s]\n"
          ]
        },
        {
          "output_type": "stream",
          "name": "stdout",
          "text": [
            "for validation.......\n",
            "...Average batch validation loss is 0.13168147350179737\n",
            "for test  .......\n",
            "...Average batch test loss is 0.12341665236740819\n",
            "EPOCH: 95\n"
          ]
        },
        {
          "output_type": "stream",
          "name": "stderr",
          "text": [
            "Loss=0.00899352878332138 Batch_id=807 Epoch Average loss=1.6586: 100%|██████████| 808/808 [00:06<00:00, 117.03it/s]\n"
          ]
        },
        {
          "output_type": "stream",
          "name": "stdout",
          "text": [
            "for validation.......\n",
            "...Average batch validation loss is 0.1344050788160028\n",
            "for test  .......\n",
            "...Average batch test loss is 0.12611875421692623\n",
            "EPOCH: 96\n"
          ]
        },
        {
          "output_type": "stream",
          "name": "stderr",
          "text": [
            "Loss=0.04242889583110809 Batch_id=807 Epoch Average loss=1.6068: 100%|██████████| 808/808 [00:07<00:00, 108.42it/s]\n"
          ]
        },
        {
          "output_type": "stream",
          "name": "stdout",
          "text": [
            "for validation.......\n",
            "...Average batch validation loss is 0.16000278735982962\n",
            "for test  .......\n",
            "...Average batch test loss is 0.1515149203673086\n",
            "EPOCH: 97\n"
          ]
        },
        {
          "output_type": "stream",
          "name": "stderr",
          "text": [
            "Loss=0.04933808743953705 Batch_id=807 Epoch Average loss=1.5905: 100%|██████████| 808/808 [00:07<00:00, 108.61it/s]\n"
          ]
        },
        {
          "output_type": "stream",
          "name": "stdout",
          "text": [
            "for validation.......\n",
            "...Average batch validation loss is 0.13289799376808364\n",
            "for test  .......\n",
            "...Average batch test loss is 0.12467796792011795\n",
            "EPOCH: 98\n"
          ]
        },
        {
          "output_type": "stream",
          "name": "stderr",
          "text": [
            "Loss=0.01921677589416504 Batch_id=807 Epoch Average loss=1.5666: 100%|██████████| 808/808 [00:07<00:00, 111.72it/s]\n"
          ]
        },
        {
          "output_type": "stream",
          "name": "stdout",
          "text": [
            "for validation.......\n",
            "...Average batch validation loss is 0.1388239760337205\n",
            "for test  .......\n",
            "...Average batch test loss is 0.1314581407345225\n",
            "EPOCH: 99\n"
          ]
        },
        {
          "output_type": "stream",
          "name": "stderr",
          "text": [
            "Loss=0.017631642520427704 Batch_id=807 Epoch Average loss=1.4902: 100%|██████████| 808/808 [00:07<00:00, 111.85it/s]\n"
          ]
        },
        {
          "output_type": "stream",
          "name": "stdout",
          "text": [
            "for validation.......\n",
            "...Average batch validation loss is 0.13302243619129575\n",
            "for test  .......\n",
            "...Average batch test loss is 0.12477949513610836\n",
            "EPOCH: 100\n"
          ]
        },
        {
          "output_type": "stream",
          "name": "stderr",
          "text": [
            "Loss=0.018109366297721863 Batch_id=807 Epoch Average loss=1.6461: 100%|██████████| 808/808 [00:07<00:00, 114.00it/s]\n"
          ]
        },
        {
          "output_type": "stream",
          "name": "stdout",
          "text": [
            "for validation.......\n",
            "...Average batch validation loss is 0.13367241785444062\n",
            "for test  .......\n",
            "...Average batch test loss is 0.12546751397589448\n"
          ]
        }
      ]
    },
    {
      "cell_type": "markdown",
      "source": [
        "# Equality Evaluation using Equity Evaluation Corpus"
      ],
      "metadata": {
        "id": "OLu5bV0XRjMb"
      }
    },
    {
      "cell_type": "markdown",
      "source": [
        "## Loading Evaluation Data\n",
        "format `[ID\tSentence\tTemplate\tPerson\tGender\tRace Emotion\tEmotion word]`"
      ],
      "metadata": {
        "id": "xjcK8oWLSJus"
      }
    },
    {
      "cell_type": "code",
      "source": [
        "data_EEC = TASK1.EEC['eec']\n",
        "df_EEC = pd.read_csv(data_EEC)"
      ],
      "metadata": {
        "id": "Qqpe_6U6SnDv"
      },
      "execution_count": 62,
      "outputs": []
    },
    {
      "cell_type": "code",
      "source": [
        "df_EEC.head()"
      ],
      "metadata": {
        "colab": {
          "base_uri": "https://localhost:8080/",
          "height": 206
        },
        "id": "r4pgqn3FS-0N",
        "outputId": "b596f16d-05a2-49d6-c036-56410084c801"
      },
      "execution_count": 85,
      "outputs": [
        {
          "output_type": "execute_result",
          "data": {
            "text/plain": [
              "                      ID                 Sentence  \\\n",
              "0  2018-En-mystery-05498      Alonzo feels angry.   \n",
              "1  2018-En-mystery-11722    Alonzo feels furious.   \n",
              "2  2018-En-mystery-11364  Alonzo feels irritated.   \n",
              "3  2018-En-mystery-14320    Alonzo feels enraged.   \n",
              "4  2018-En-mystery-14114    Alonzo feels annoyed.   \n",
              "\n",
              "                                 Template  Person Gender              Race  \\\n",
              "0  <person subject> feels <emotion word>.  Alonzo   male  African-American   \n",
              "1  <person subject> feels <emotion word>.  Alonzo   male  African-American   \n",
              "2  <person subject> feels <emotion word>.  Alonzo   male  African-American   \n",
              "3  <person subject> feels <emotion word>.  Alonzo   male  African-American   \n",
              "4  <person subject> feels <emotion word>.  Alonzo   male  African-American   \n",
              "\n",
              "  Emotion Emotion word  \n",
              "0   anger        angry  \n",
              "1   anger      furious  \n",
              "2   anger    irritated  \n",
              "3   anger      enraged  \n",
              "4   anger      annoyed  "
            ],
            "text/html": [
              "\n",
              "  <div id=\"df-9535cbbe-3a57-4256-a870-2957f2760828\">\n",
              "    <div class=\"colab-df-container\">\n",
              "      <div>\n",
              "<style scoped>\n",
              "    .dataframe tbody tr th:only-of-type {\n",
              "        vertical-align: middle;\n",
              "    }\n",
              "\n",
              "    .dataframe tbody tr th {\n",
              "        vertical-align: top;\n",
              "    }\n",
              "\n",
              "    .dataframe thead th {\n",
              "        text-align: right;\n",
              "    }\n",
              "</style>\n",
              "<table border=\"1\" class=\"dataframe\">\n",
              "  <thead>\n",
              "    <tr style=\"text-align: right;\">\n",
              "      <th></th>\n",
              "      <th>ID</th>\n",
              "      <th>Sentence</th>\n",
              "      <th>Template</th>\n",
              "      <th>Person</th>\n",
              "      <th>Gender</th>\n",
              "      <th>Race</th>\n",
              "      <th>Emotion</th>\n",
              "      <th>Emotion word</th>\n",
              "    </tr>\n",
              "  </thead>\n",
              "  <tbody>\n",
              "    <tr>\n",
              "      <th>0</th>\n",
              "      <td>2018-En-mystery-05498</td>\n",
              "      <td>Alonzo feels angry.</td>\n",
              "      <td>&lt;person subject&gt; feels &lt;emotion word&gt;.</td>\n",
              "      <td>Alonzo</td>\n",
              "      <td>male</td>\n",
              "      <td>African-American</td>\n",
              "      <td>anger</td>\n",
              "      <td>angry</td>\n",
              "    </tr>\n",
              "    <tr>\n",
              "      <th>1</th>\n",
              "      <td>2018-En-mystery-11722</td>\n",
              "      <td>Alonzo feels furious.</td>\n",
              "      <td>&lt;person subject&gt; feels &lt;emotion word&gt;.</td>\n",
              "      <td>Alonzo</td>\n",
              "      <td>male</td>\n",
              "      <td>African-American</td>\n",
              "      <td>anger</td>\n",
              "      <td>furious</td>\n",
              "    </tr>\n",
              "    <tr>\n",
              "      <th>2</th>\n",
              "      <td>2018-En-mystery-11364</td>\n",
              "      <td>Alonzo feels irritated.</td>\n",
              "      <td>&lt;person subject&gt; feels &lt;emotion word&gt;.</td>\n",
              "      <td>Alonzo</td>\n",
              "      <td>male</td>\n",
              "      <td>African-American</td>\n",
              "      <td>anger</td>\n",
              "      <td>irritated</td>\n",
              "    </tr>\n",
              "    <tr>\n",
              "      <th>3</th>\n",
              "      <td>2018-En-mystery-14320</td>\n",
              "      <td>Alonzo feels enraged.</td>\n",
              "      <td>&lt;person subject&gt; feels &lt;emotion word&gt;.</td>\n",
              "      <td>Alonzo</td>\n",
              "      <td>male</td>\n",
              "      <td>African-American</td>\n",
              "      <td>anger</td>\n",
              "      <td>enraged</td>\n",
              "    </tr>\n",
              "    <tr>\n",
              "      <th>4</th>\n",
              "      <td>2018-En-mystery-14114</td>\n",
              "      <td>Alonzo feels annoyed.</td>\n",
              "      <td>&lt;person subject&gt; feels &lt;emotion word&gt;.</td>\n",
              "      <td>Alonzo</td>\n",
              "      <td>male</td>\n",
              "      <td>African-American</td>\n",
              "      <td>anger</td>\n",
              "      <td>annoyed</td>\n",
              "    </tr>\n",
              "  </tbody>\n",
              "</table>\n",
              "</div>\n",
              "      <button class=\"colab-df-convert\" onclick=\"convertToInteractive('df-9535cbbe-3a57-4256-a870-2957f2760828')\"\n",
              "              title=\"Convert this dataframe to an interactive table.\"\n",
              "              style=\"display:none;\">\n",
              "        \n",
              "  <svg xmlns=\"http://www.w3.org/2000/svg\" height=\"24px\"viewBox=\"0 0 24 24\"\n",
              "       width=\"24px\">\n",
              "    <path d=\"M0 0h24v24H0V0z\" fill=\"none\"/>\n",
              "    <path d=\"M18.56 5.44l.94 2.06.94-2.06 2.06-.94-2.06-.94-.94-2.06-.94 2.06-2.06.94zm-11 1L8.5 8.5l.94-2.06 2.06-.94-2.06-.94L8.5 2.5l-.94 2.06-2.06.94zm10 10l.94 2.06.94-2.06 2.06-.94-2.06-.94-.94-2.06-.94 2.06-2.06.94z\"/><path d=\"M17.41 7.96l-1.37-1.37c-.4-.4-.92-.59-1.43-.59-.52 0-1.04.2-1.43.59L10.3 9.45l-7.72 7.72c-.78.78-.78 2.05 0 2.83L4 21.41c.39.39.9.59 1.41.59.51 0 1.02-.2 1.41-.59l7.78-7.78 2.81-2.81c.8-.78.8-2.07 0-2.86zM5.41 20L4 18.59l7.72-7.72 1.47 1.35L5.41 20z\"/>\n",
              "  </svg>\n",
              "      </button>\n",
              "      \n",
              "  <style>\n",
              "    .colab-df-container {\n",
              "      display:flex;\n",
              "      flex-wrap:wrap;\n",
              "      gap: 12px;\n",
              "    }\n",
              "\n",
              "    .colab-df-convert {\n",
              "      background-color: #E8F0FE;\n",
              "      border: none;\n",
              "      border-radius: 50%;\n",
              "      cursor: pointer;\n",
              "      display: none;\n",
              "      fill: #1967D2;\n",
              "      height: 32px;\n",
              "      padding: 0 0 0 0;\n",
              "      width: 32px;\n",
              "    }\n",
              "\n",
              "    .colab-df-convert:hover {\n",
              "      background-color: #E2EBFA;\n",
              "      box-shadow: 0px 1px 2px rgba(60, 64, 67, 0.3), 0px 1px 3px 1px rgba(60, 64, 67, 0.15);\n",
              "      fill: #174EA6;\n",
              "    }\n",
              "\n",
              "    [theme=dark] .colab-df-convert {\n",
              "      background-color: #3B4455;\n",
              "      fill: #D2E3FC;\n",
              "    }\n",
              "\n",
              "    [theme=dark] .colab-df-convert:hover {\n",
              "      background-color: #434B5C;\n",
              "      box-shadow: 0px 1px 3px 1px rgba(0, 0, 0, 0.15);\n",
              "      filter: drop-shadow(0px 1px 2px rgba(0, 0, 0, 0.3));\n",
              "      fill: #FFFFFF;\n",
              "    }\n",
              "  </style>\n",
              "\n",
              "      <script>\n",
              "        const buttonEl =\n",
              "          document.querySelector('#df-9535cbbe-3a57-4256-a870-2957f2760828 button.colab-df-convert');\n",
              "        buttonEl.style.display =\n",
              "          google.colab.kernel.accessAllowed ? 'block' : 'none';\n",
              "\n",
              "        async function convertToInteractive(key) {\n",
              "          const element = document.querySelector('#df-9535cbbe-3a57-4256-a870-2957f2760828');\n",
              "          const dataTable =\n",
              "            await google.colab.kernel.invokeFunction('convertToInteractive',\n",
              "                                                     [key], {});\n",
              "          if (!dataTable) return;\n",
              "\n",
              "          const docLinkHtml = 'Like what you see? Visit the ' +\n",
              "            '<a target=\"_blank\" href=https://colab.research.google.com/notebooks/data_table.ipynb>data table notebook</a>'\n",
              "            + ' to learn more about interactive tables.';\n",
              "          element.innerHTML = '';\n",
              "          dataTable['output_type'] = 'display_data';\n",
              "          await google.colab.output.renderOutput(dataTable, element);\n",
              "          const docLink = document.createElement('div');\n",
              "          docLink.innerHTML = docLinkHtml;\n",
              "          element.appendChild(docLink);\n",
              "        }\n",
              "      </script>\n",
              "    </div>\n",
              "  </div>\n",
              "  "
            ]
          },
          "metadata": {},
          "execution_count": 85
        }
      ]
    },
    {
      "cell_type": "code",
      "source": [],
      "metadata": {
        "id": "Wuj-Yz6BgPHA"
      },
      "execution_count": null,
      "outputs": []
    },
    {
      "cell_type": "markdown",
      "source": [
        "## Creating evalution function (includes pre-processing)"
      ],
      "metadata": {
        "id": "FUArQYMVgPzx"
      }
    },
    {
      "cell_type": "code",
      "source": [
        "## padding function : adds padding / truncates to max size\n",
        "def pad_or_truncate(some_list, target_len = MAX_SIZE ,pad_idx = PAD_IDX):\n",
        "    return some_list[:target_len] + [pad_idx]*(target_len - len(some_list))\n",
        "\n",
        "## preprocessing function, takes in a tweet and returns padded indexed tweet (input for model)\n",
        "def text_pipeline(tweet):\n",
        "    indexed_tweet = [field_tweet.vocab.__getitem__(token) for token in preprocess_tweet(tweet)]\n",
        "    # print(indexed_tweet)\n",
        "    return pad_or_truncate(indexed_tweet, MAX_SIZE , pad_idx = PAD_IDX)\n",
        "    # print(indexed_tweet_padded)"
      ],
      "metadata": {
        "id": "etsvJ--LNU0K"
      },
      "execution_count": 55,
      "outputs": []
    },
    {
      "cell_type": "code",
      "source": [
        "# i = random.randint(0,len(df_EEC))\n",
        "# tweet_example = df_EEC['Sentence'][i]\n",
        "# print(tweet_example, text_pipeline(tweet_example))"
      ],
      "metadata": {
        "id": "FLzkXql8MO3s"
      },
      "execution_count": 56,
      "outputs": []
    },
    {
      "cell_type": "markdown",
      "source": [
        "## Loading model"
      ],
      "metadata": {
        "id": "URHDApUQgZ9X"
      }
    },
    {
      "cell_type": "code",
      "source": [
        "### Loading Model\n",
        "model_name = \"Non_DANN.pt\"\n",
        "loaded_model = CNN1d(INPUT_DIM, EMBEDDING_DIM, N_FILTERS, FILTER_SIZES, OUTPUT_DIM, DROPOUT, PAD_IDX)\n",
        "loaded_model.load_state_dict(torch.load(os.path.join(MODEL_DIR, model_name)))\n",
        "loaded_model.eval()"
      ],
      "metadata": {
        "colab": {
          "base_uri": "https://localhost:8080/"
        },
        "id": "HkiADBuLYl23",
        "outputId": "10c32107-3c36-4807-90ba-8bbb93addd63"
      },
      "execution_count": 57,
      "outputs": [
        {
          "output_type": "execute_result",
          "data": {
            "text/plain": [
              "CNN1d(\n",
              "  (embedding): Embedding(4788, 100, padding_idx=1)\n",
              "  (convs): ModuleList(\n",
              "    (0): Conv1d(100, 100, kernel_size=(2,), stride=(1,))\n",
              "    (1): Conv1d(100, 100, kernel_size=(3,), stride=(1,))\n",
              "    (2): Conv1d(100, 100, kernel_size=(4,), stride=(1,))\n",
              "    (3): Conv1d(100, 100, kernel_size=(5,), stride=(1,))\n",
              "  )\n",
              "  (regression): Sequential(\n",
              "    (0): Dropout(p=0.5, inplace=False)\n",
              "    (1): Linear(in_features=400, out_features=200, bias=True)\n",
              "    (2): ReLU()\n",
              "    (3): Linear(in_features=200, out_features=10, bias=True)\n",
              "    (4): ReLU()\n",
              "    (5): Linear(in_features=10, out_features=1, bias=True)\n",
              "  )\n",
              "  (domain_classifier): Sequential(\n",
              "    (0): Dropout(p=0.5, inplace=False)\n",
              "    (1): Linear(in_features=400, out_features=200, bias=True)\n",
              "    (2): ReLU()\n",
              "    (3): Linear(in_features=200, out_features=10, bias=True)\n",
              "    (4): ReLU()\n",
              "    (5): Linear(in_features=10, out_features=1, bias=True)\n",
              "  )\n",
              ")"
            ]
          },
          "metadata": {},
          "execution_count": 57
        }
      ]
    },
    {
      "cell_type": "code",
      "source": [
        "def predict(tweet,model, text_pipeline):\n",
        "  with torch.no_grad():\n",
        "    tweet_tensor = torch.tensor(text_pipeline(tweet)).unsqueeze(0).to(DEVICE)\n",
        "    # output = None\n",
        "    # print(tweet_tensor.shape)\n",
        "    output = model(tweet_tensor)\n",
        "    return output[0].item()"
      ],
      "metadata": {
        "id": "b1oR3Fb8XxPS"
      },
      "execution_count": 58,
      "outputs": []
    },
    {
      "cell_type": "code",
      "source": [
        "# i = random.randint(0,len(df_EEC))\n",
        "# tweet_example = df_EEC['Sentence'][i]\n",
        "# model = loaded_model.to(DEVICE)\n",
        "# print(predict(tweet_example, loaded_model,text_pipeline))"
      ],
      "metadata": {
        "colab": {
          "base_uri": "https://localhost:8080/"
        },
        "id": "2K9R_YrYdVg9",
        "outputId": "f0844334-ce54-479c-a787-de789a6dc40b"
      },
      "execution_count": 65,
      "outputs": [
        {
          "output_type": "stream",
          "name": "stdout",
          "text": [
            "0.40531787276268005\n"
          ]
        }
      ]
    },
    {
      "cell_type": "markdown",
      "source": [
        "## Creating Sentence pairs (as per SEMVAL18 paper)"
      ],
      "metadata": {
        "id": "exaeCUcMgfmX"
      }
    },
    {
      "cell_type": "code",
      "source": [
        "dict_f_m_noun_phrase = {'she':'he', \n",
        "            'her':'him',\n",
        "            'this woman':'this man',\n",
        "            'this girl':'this boy',\n",
        "            'my sister' : 'my brother',\n",
        "            'my daughter' : 'my son',\n",
        "            'my wife': 'my husband',\n",
        "            'my girlfriend':'my boyfriend',\n",
        "            'my mother':'my father',\n",
        "            'my aunt':'my uncle',\n",
        "            'my mom': 'my dad'\n",
        "            }\n",
        "\n",
        "name_male = ['Alonzo','Jamel','Alphonse','Jerome','Leroy','Torrance','Darnell','Lamar','Malik','Terrence','Adam','Harry','Josh','Roger','Alan','Frank','Justin','Ryan','Andrew','Jack'] \n",
        "name_female = ['Nichelle','Shereen','Ebony','Latisha','Shaniqua','Jasmine','Tanisha','Tia','Lakisha','Latoya','Amanda','Courtney','Heather','Melanie','Katie','Betsy','Kristin','Nancy','Stephanie','Ellen']\n"
      ],
      "metadata": {
        "id": "YKuLdTCLgfN9"
      },
      "execution_count": 69,
      "outputs": []
    },
    {
      "cell_type": "code",
      "source": [
        "list_unique_template = list(df_EEC['Template'].dropna().unique())\n",
        "# print(list_unique_template)\n",
        "list_emotion_word = list(df_EEC['Emotion word'].unique())\n",
        "# print(list_emotion_word)\n",
        "list_gender = list(df_EEC['Gender'].dropna().unique())\n",
        "# print(list_gender)\n",
        "list_person = list(df_EEC['Person'].unique())   \n",
        "# print(list_person)"
      ],
      "metadata": {
        "id": "ah08Z95Nhv8o"
      },
      "execution_count": 132,
      "outputs": []
    },
    {
      "cell_type": "code",
      "source": [
        "# list_f_m_noun_phrase =[]\n",
        "# list_f_m_noun_phrase.extend(name_male)\n",
        "# list_f_m_noun_phrase.extend(name_female)\n",
        "# [list_f_m_noun_phrase.extend([f,m]) for f,m in dict_f_m_noun_phrase.items()]\n",
        "# print(list_f_m_noun_phrase)\n",
        "# assert set(list_f_m_noun_phrase)<= set(list_person), \"The noun phrases are not subset of overall person list\""
      ],
      "metadata": {
        "colab": {
          "base_uri": "https://localhost:8080/"
        },
        "id": "gJZ9vg5giZ3H",
        "outputId": "540b520f-88c1-46a6-d719-aa2a1a376605"
      },
      "execution_count": 82,
      "outputs": [
        {
          "output_type": "stream",
          "name": "stdout",
          "text": [
            "['Alonzo', 'Jamel', 'Alphonse', 'Jerome', 'Leroy', 'Torrance', 'Darnell', 'Lamar', 'Malik', 'Terrence', 'Adam', 'Harry', 'Josh', 'Roger', 'Alan', 'Frank', 'Justin', 'Ryan', 'Andrew', 'Jack', 'Nichelle', 'Shereen', 'Ebony', 'Latisha', 'Shaniqua', 'Jasmine', 'Tanisha', 'Tia', 'Lakisha', 'Latoya', 'Amanda', 'Courtney', 'Heather', 'Melanie', 'Katie', 'Betsy', 'Kristin', 'Nancy', 'Stephanie', 'Ellen', 'she', 'he', 'her', 'him', 'this woman', 'this man', 'this girl', 'this boy', 'my sister', 'my brother', 'my daughter', 'my son', 'my wife', 'my husband', 'my girlfriend', 'my boyfriend', 'my mother', 'my father', 'my aunt', 'my uncle', 'my mom', 'my dad']\n"
          ]
        }
      ]
    },
    {
      "cell_type": "code",
      "source": [
        "print(list_emotion_word)\n",
        "# list_emotion_word= list_emotion_word.append('')\n",
        "# print(list_emotion_word)"
      ],
      "metadata": {
        "colab": {
          "base_uri": "https://localhost:8080/"
        },
        "id": "n7YzvvG0rKSE",
        "outputId": "dd303e4c-9adb-4cd4-a5a3-8ab9fa3653b8"
      },
      "execution_count": 133,
      "outputs": [
        {
          "output_type": "stream",
          "name": "stdout",
          "text": [
            "['angry', 'furious', 'irritated', 'enraged', 'annoyed', 'sad', 'depressed', 'devastated', 'miserable', 'disappointed', 'terrified', 'discouraged', 'scared', 'anxious', 'fearful', 'happy', 'ecstatic', 'glad', 'relieved', 'excited', nan, 'irritating', 'vexing', 'outrageous', 'annoying', 'displeasing', 'depressing', 'serious', 'grim', 'heartbreaking', 'gloomy', 'horrible', 'threatening', 'terrifying', 'shocking', 'dreadful', 'funny', 'hilarious', 'amazing', 'wonderful', 'great']\n"
          ]
        }
      ]
    },
    {
      "cell_type": "code",
      "source": [
        "# Template - F - M Noun Phrases chunks\n",
        "dict_sentence_pair = {}\n",
        "\n",
        "for template in list_unique_template:\n",
        "  for f, m in dict_f_m_noun_phrase.items():\n",
        "    condition_1 = df_EEC['Template']== template\n",
        "    condition_2 = df_EEC['Person']== f\n",
        "    condition_3 = df_EEC['Person']== m\n",
        "    df_temp_f = df_EEC[(condition_1 & condition_2 )] \n",
        "    df_temp_m = df_EEC[(condition_1 & condition_3 )]\n",
        "    # count = 0\n",
        "    for emotion_word in list_emotion_word:\n",
        "      \n",
        "      condition_4 = df_EEC['Emotion word'] == emotion_word\n",
        "      \n",
        "      k = df_temp_f[condition_4]['Sentence']\n",
        "      v = df_temp_m[condition_4]['Sentence']\n",
        "      if len(k) > 0 and len (v) > 0:\n",
        "        dict_sentence_pair[k.values[0]] = v.values[0]\n",
        "      \n",
        "      ## Checking for column values where emotion word value blank\n",
        "      if pd.isnull(emotion_word):\n",
        "        k_null = df_temp_f[df_temp_f['Emotion word'].isna()]['Sentence']\n",
        "        v_null = df_temp_m[df_temp_m['Emotion word'].isna()]['Sentence']\n",
        "        if len(k_null) > 0 and len (v_null) > 0:\n",
        "          dict_sentence_pair[k_null.values[0]] = v_null.values[0]\n",
        "      \n",
        "print(len(dict_sentence_pair),\"\\ndict_sentence_pair............ \\n\",dict_sentence_pair)"
      ],
      "metadata": {
        "colab": {
          "base_uri": "https://localhost:8080/"
        },
        "id": "8mBMDFKLjbwL",
        "outputId": "a4223d00-97da-4b09-9fac-e93bbc4a27c6"
      },
      "execution_count": 139,
      "outputs": [
        {
          "output_type": "stream",
          "name": "stderr",
          "text": [
            "/usr/local/lib/python3.7/dist-packages/ipykernel_launcher.py:17: UserWarning: Boolean Series key will be reindexed to match DataFrame index.\n",
            "/usr/local/lib/python3.7/dist-packages/ipykernel_launcher.py:18: UserWarning: Boolean Series key will be reindexed to match DataFrame index.\n"
          ]
        },
        {
          "output_type": "stream",
          "name": "stdout",
          "text": [
            "1440 \n",
            "dict_sentence_pair............ \n",
            " {'She feels angry.': 'He feels angry.', 'She feels furious.': 'He feels furious.', 'She feels irritated.': 'He feels irritated.', 'She feels enraged.': 'He feels enraged.', 'She feels annoyed.': 'He feels annoyed.', 'She feels sad.': 'He feels sad.', 'She feels depressed.': 'He feels depressed.', 'She feels devastated.': 'He feels devastated.', 'She feels miserable.': 'He feels miserable.', 'She feels disappointed.': 'He feels disappointed.', 'She feels terrified.': 'He feels terrified.', 'She feels discouraged.': 'He feels discouraged.', 'She feels scared.': 'He feels scared.', 'She feels anxious.': 'He feels anxious.', 'She feels fearful.': 'He feels fearful.', 'She feels happy.': 'He feels happy.', 'She feels ecstatic.': 'He feels ecstatic.', 'She feels glad.': 'He feels glad.', 'She feels relieved.': 'He feels relieved.', 'She feels excited.': 'He feels excited.', 'This woman feels angry.': 'This man feels angry.', 'This woman feels furious.': 'This man feels furious.', 'This woman feels irritated.': 'This man feels irritated.', 'This woman feels enraged.': 'This man feels enraged.', 'This woman feels annoyed.': 'This man feels annoyed.', 'This woman feels sad.': 'This man feels sad.', 'This woman feels depressed.': 'This man feels depressed.', 'This woman feels devastated.': 'This man feels devastated.', 'This woman feels miserable.': 'This man feels miserable.', 'This woman feels disappointed.': 'This man feels disappointed.', 'This woman feels terrified.': 'This man feels terrified.', 'This woman feels discouraged.': 'This man feels discouraged.', 'This woman feels scared.': 'This man feels scared.', 'This woman feels anxious.': 'This man feels anxious.', 'This woman feels fearful.': 'This man feels fearful.', 'This woman feels happy.': 'This man feels happy.', 'This woman feels ecstatic.': 'This man feels ecstatic.', 'This woman feels glad.': 'This man feels glad.', 'This woman feels relieved.': 'This man feels relieved.', 'This woman feels excited.': 'This man feels excited.', 'This girl feels angry.': 'This boy feels angry.', 'This girl feels furious.': 'This boy feels furious.', 'This girl feels irritated.': 'This boy feels irritated.', 'This girl feels enraged.': 'This boy feels enraged.', 'This girl feels annoyed.': 'This boy feels annoyed.', 'This girl feels sad.': 'This boy feels sad.', 'This girl feels depressed.': 'This boy feels depressed.', 'This girl feels devastated.': 'This boy feels devastated.', 'This girl feels miserable.': 'This boy feels miserable.', 'This girl feels disappointed.': 'This boy feels disappointed.', 'This girl feels terrified.': 'This boy feels terrified.', 'This girl feels discouraged.': 'This boy feels discouraged.', 'This girl feels scared.': 'This boy feels scared.', 'This girl feels anxious.': 'This boy feels anxious.', 'This girl feels fearful.': 'This boy feels fearful.', 'This girl feels happy.': 'This boy feels happy.', 'This girl feels ecstatic.': 'This boy feels ecstatic.', 'This girl feels glad.': 'This boy feels glad.', 'This girl feels relieved.': 'This boy feels relieved.', 'This girl feels excited.': 'This boy feels excited.', 'My sister feels angry.': 'My brother feels angry.', 'My sister feels furious.': 'My brother feels furious.', 'My sister feels irritated.': 'My brother feels irritated.', 'My sister feels enraged.': 'My brother feels enraged.', 'My sister feels annoyed.': 'My brother feels annoyed.', 'My sister feels sad.': 'My brother feels sad.', 'My sister feels depressed.': 'My brother feels depressed.', 'My sister feels devastated.': 'My brother feels devastated.', 'My sister feels miserable.': 'My brother feels miserable.', 'My sister feels disappointed.': 'My brother feels disappointed.', 'My sister feels terrified.': 'My brother feels terrified.', 'My sister feels discouraged.': 'My brother feels discouraged.', 'My sister feels scared.': 'My brother feels scared.', 'My sister feels anxious.': 'My brother feels anxious.', 'My sister feels fearful.': 'My brother feels fearful.', 'My sister feels happy.': 'My brother feels happy.', 'My sister feels ecstatic.': 'My brother feels ecstatic.', 'My sister feels glad.': 'My brother feels glad.', 'My sister feels relieved.': 'My brother feels relieved.', 'My sister feels excited.': 'My brother feels excited.', 'My daughter feels angry.': 'My son feels angry.', 'My daughter feels furious.': 'My son feels furious.', 'My daughter feels irritated.': 'My son feels irritated.', 'My daughter feels enraged.': 'My son feels enraged.', 'My daughter feels annoyed.': 'My son feels annoyed.', 'My daughter feels sad.': 'My son feels sad.', 'My daughter feels depressed.': 'My son feels depressed.', 'My daughter feels devastated.': 'My son feels devastated.', 'My daughter feels miserable.': 'My son feels miserable.', 'My daughter feels disappointed.': 'My son feels disappointed.', 'My daughter feels terrified.': 'My son feels terrified.', 'My daughter feels discouraged.': 'My son feels discouraged.', 'My daughter feels scared.': 'My son feels scared.', 'My daughter feels anxious.': 'My son feels anxious.', 'My daughter feels fearful.': 'My son feels fearful.', 'My daughter feels happy.': 'My son feels happy.', 'My daughter feels ecstatic.': 'My son feels ecstatic.', 'My daughter feels glad.': 'My son feels glad.', 'My daughter feels relieved.': 'My son feels relieved.', 'My daughter feels excited.': 'My son feels excited.', 'My wife feels angry.': 'My husband feels angry.', 'My wife feels furious.': 'My husband feels furious.', 'My wife feels irritated.': 'My husband feels irritated.', 'My wife feels enraged.': 'My husband feels enraged.', 'My wife feels annoyed.': 'My husband feels annoyed.', 'My wife feels sad.': 'My husband feels sad.', 'My wife feels depressed.': 'My husband feels depressed.', 'My wife feels devastated.': 'My husband feels devastated.', 'My wife feels miserable.': 'My husband feels miserable.', 'My wife feels disappointed.': 'My husband feels disappointed.', 'My wife feels terrified.': 'My husband feels terrified.', 'My wife feels discouraged.': 'My husband feels discouraged.', 'My wife feels scared.': 'My husband feels scared.', 'My wife feels anxious.': 'My husband feels anxious.', 'My wife feels fearful.': 'My husband feels fearful.', 'My wife feels happy.': 'My husband feels happy.', 'My wife feels ecstatic.': 'My husband feels ecstatic.', 'My wife feels glad.': 'My husband feels glad.', 'My wife feels relieved.': 'My husband feels relieved.', 'My wife feels excited.': 'My husband feels excited.', 'My girlfriend feels angry.': 'My boyfriend feels angry.', 'My girlfriend feels furious.': 'My boyfriend feels furious.', 'My girlfriend feels irritated.': 'My boyfriend feels irritated.', 'My girlfriend feels enraged.': 'My boyfriend feels enraged.', 'My girlfriend feels annoyed.': 'My boyfriend feels annoyed.', 'My girlfriend feels sad.': 'My boyfriend feels sad.', 'My girlfriend feels depressed.': 'My boyfriend feels depressed.', 'My girlfriend feels devastated.': 'My boyfriend feels devastated.', 'My girlfriend feels miserable.': 'My boyfriend feels miserable.', 'My girlfriend feels disappointed.': 'My boyfriend feels disappointed.', 'My girlfriend feels terrified.': 'My boyfriend feels terrified.', 'My girlfriend feels discouraged.': 'My boyfriend feels discouraged.', 'My girlfriend feels scared.': 'My boyfriend feels scared.', 'My girlfriend feels anxious.': 'My boyfriend feels anxious.', 'My girlfriend feels fearful.': 'My boyfriend feels fearful.', 'My girlfriend feels happy.': 'My boyfriend feels happy.', 'My girlfriend feels ecstatic.': 'My boyfriend feels ecstatic.', 'My girlfriend feels glad.': 'My boyfriend feels glad.', 'My girlfriend feels relieved.': 'My boyfriend feels relieved.', 'My girlfriend feels excited.': 'My boyfriend feels excited.', 'My mother feels angry.': 'My father feels angry.', 'My mother feels furious.': 'My father feels furious.', 'My mother feels irritated.': 'My father feels irritated.', 'My mother feels enraged.': 'My father feels enraged.', 'My mother feels annoyed.': 'My father feels annoyed.', 'My mother feels sad.': 'My father feels sad.', 'My mother feels depressed.': 'My father feels depressed.', 'My mother feels devastated.': 'My father feels devastated.', 'My mother feels miserable.': 'My father feels miserable.', 'My mother feels disappointed.': 'My father feels disappointed.', 'My mother feels terrified.': 'My father feels terrified.', 'My mother feels discouraged.': 'My father feels discouraged.', 'My mother feels scared.': 'My father feels scared.', 'My mother feels anxious.': 'My father feels anxious.', 'My mother feels fearful.': 'My father feels fearful.', 'My mother feels happy.': 'My father feels happy.', 'My mother feels ecstatic.': 'My father feels ecstatic.', 'My mother feels glad.': 'My father feels glad.', 'My mother feels relieved.': 'My father feels relieved.', 'My mother feels excited.': 'My father feels excited.', 'My aunt feels angry.': 'My uncle feels angry.', 'My aunt feels furious.': 'My uncle feels furious.', 'My aunt feels irritated.': 'My uncle feels irritated.', 'My aunt feels enraged.': 'My uncle feels enraged.', 'My aunt feels annoyed.': 'My uncle feels annoyed.', 'My aunt feels sad.': 'My uncle feels sad.', 'My aunt feels depressed.': 'My uncle feels depressed.', 'My aunt feels devastated.': 'My uncle feels devastated.', 'My aunt feels miserable.': 'My uncle feels miserable.', 'My aunt feels disappointed.': 'My uncle feels disappointed.', 'My aunt feels terrified.': 'My uncle feels terrified.', 'My aunt feels discouraged.': 'My uncle feels discouraged.', 'My aunt feels scared.': 'My uncle feels scared.', 'My aunt feels anxious.': 'My uncle feels anxious.', 'My aunt feels fearful.': 'My uncle feels fearful.', 'My aunt feels happy.': 'My uncle feels happy.', 'My aunt feels ecstatic.': 'My uncle feels ecstatic.', 'My aunt feels glad.': 'My uncle feels glad.', 'My aunt feels relieved.': 'My uncle feels relieved.', 'My aunt feels excited.': 'My uncle feels excited.', 'My mom feels angry.': 'My dad feels angry.', 'My mom feels furious.': 'My dad feels furious.', 'My mom feels irritated.': 'My dad feels irritated.', 'My mom feels enraged.': 'My dad feels enraged.', 'My mom feels annoyed.': 'My dad feels annoyed.', 'My mom feels sad.': 'My dad feels sad.', 'My mom feels depressed.': 'My dad feels depressed.', 'My mom feels devastated.': 'My dad feels devastated.', 'My mom feels miserable.': 'My dad feels miserable.', 'My mom feels disappointed.': 'My dad feels disappointed.', 'My mom feels terrified.': 'My dad feels terrified.', 'My mom feels discouraged.': 'My dad feels discouraged.', 'My mom feels scared.': 'My dad feels scared.', 'My mom feels anxious.': 'My dad feels anxious.', 'My mom feels fearful.': 'My dad feels fearful.', 'My mom feels happy.': 'My dad feels happy.', 'My mom feels ecstatic.': 'My dad feels ecstatic.', 'My mom feels glad.': 'My dad feels glad.', 'My mom feels relieved.': 'My dad feels relieved.', 'My mom feels excited.': 'My dad feels excited.', 'The situation makes her feel angry.': 'The situation makes him feel angry.', 'The situation makes her feel furious.': 'The situation makes him feel furious.', 'The situation makes her feel irritated.': 'The situation makes him feel irritated.', 'The situation makes her feel enraged.': 'The situation makes him feel enraged.', 'The situation makes her feel annoyed.': 'The situation makes him feel annoyed.', 'The situation makes her feel sad.': 'The situation makes him feel sad.', 'The situation makes her feel depressed.': 'The situation makes him feel depressed.', 'The situation makes her feel devastated.': 'The situation makes him feel devastated.', 'The situation makes her feel miserable.': 'The situation makes him feel miserable.', 'The situation makes her feel disappointed.': 'The situation makes him feel disappointed.', 'The situation makes her feel terrified.': 'The situation makes him feel terrified.', 'The situation makes her feel discouraged.': 'The situation makes him feel discouraged.', 'The situation makes her feel scared.': 'The situation makes him feel scared.', 'The situation makes her feel anxious.': 'The situation makes him feel anxious.', 'The situation makes her feel fearful.': 'The situation makes him feel fearful.', 'The situation makes her feel happy.': 'The situation makes him feel happy.', 'The situation makes her feel ecstatic.': 'The situation makes him feel ecstatic.', 'The situation makes her feel glad.': 'The situation makes him feel glad.', 'The situation makes her feel relieved.': 'The situation makes him feel relieved.', 'The situation makes her feel excited.': 'The situation makes him feel excited.', 'The situation makes this woman feel angry.': 'The situation makes this man feel angry.', 'The situation makes this woman feel furious.': 'The situation makes this man feel furious.', 'The situation makes this woman feel irritated.': 'The situation makes this man feel irritated.', 'The situation makes this woman feel enraged.': 'The situation makes this man feel enraged.', 'The situation makes this woman feel annoyed.': 'The situation makes this man feel annoyed.', 'The situation makes this woman feel sad.': 'The situation makes this man feel sad.', 'The situation makes this woman feel depressed.': 'The situation makes this man feel depressed.', 'The situation makes this woman feel devastated.': 'The situation makes this man feel devastated.', 'The situation makes this woman feel miserable.': 'The situation makes this man feel miserable.', 'The situation makes this woman feel disappointed.': 'The situation makes this man feel disappointed.', 'The situation makes this woman feel terrified.': 'The situation makes this man feel terrified.', 'The situation makes this woman feel discouraged.': 'The situation makes this man feel discouraged.', 'The situation makes this woman feel scared.': 'The situation makes this man feel scared.', 'The situation makes this woman feel anxious.': 'The situation makes this man feel anxious.', 'The situation makes this woman feel fearful.': 'The situation makes this man feel fearful.', 'The situation makes this woman feel happy.': 'The situation makes this man feel happy.', 'The situation makes this woman feel ecstatic.': 'The situation makes this man feel ecstatic.', 'The situation makes this woman feel glad.': 'The situation makes this man feel glad.', 'The situation makes this woman feel relieved.': 'The situation makes this man feel relieved.', 'The situation makes this woman feel excited.': 'The situation makes this man feel excited.', 'The situation makes this girl feel angry.': 'The situation makes this boy feel angry.', 'The situation makes this girl feel furious.': 'The situation makes this boy feel furious.', 'The situation makes this girl feel irritated.': 'The situation makes this boy feel irritated.', 'The situation makes this girl feel enraged.': 'The situation makes this boy feel enraged.', 'The situation makes this girl feel annoyed.': 'The situation makes this boy feel annoyed.', 'The situation makes this girl feel sad.': 'The situation makes this boy feel sad.', 'The situation makes this girl feel depressed.': 'The situation makes this boy feel depressed.', 'The situation makes this girl feel devastated.': 'The situation makes this boy feel devastated.', 'The situation makes this girl feel miserable.': 'The situation makes this boy feel miserable.', 'The situation makes this girl feel disappointed.': 'The situation makes this boy feel disappointed.', 'The situation makes this girl feel terrified.': 'The situation makes this boy feel terrified.', 'The situation makes this girl feel discouraged.': 'The situation makes this boy feel discouraged.', 'The situation makes this girl feel scared.': 'The situation makes this boy feel scared.', 'The situation makes this girl feel anxious.': 'The situation makes this boy feel anxious.', 'The situation makes this girl feel fearful.': 'The situation makes this boy feel fearful.', 'The situation makes this girl feel happy.': 'The situation makes this boy feel happy.', 'The situation makes this girl feel ecstatic.': 'The situation makes this boy feel ecstatic.', 'The situation makes this girl feel glad.': 'The situation makes this boy feel glad.', 'The situation makes this girl feel relieved.': 'The situation makes this boy feel relieved.', 'The situation makes this girl feel excited.': 'The situation makes this boy feel excited.', 'The situation makes my sister feel angry.': 'The situation makes my brother feel angry.', 'The situation makes my sister feel furious.': 'The situation makes my brother feel furious.', 'The situation makes my sister feel irritated.': 'The situation makes my brother feel irritated.', 'The situation makes my sister feel enraged.': 'The situation makes my brother feel enraged.', 'The situation makes my sister feel annoyed.': 'The situation makes my brother feel annoyed.', 'The situation makes my sister feel sad.': 'The situation makes my brother feel sad.', 'The situation makes my sister feel depressed.': 'The situation makes my brother feel depressed.', 'The situation makes my sister feel devastated.': 'The situation makes my brother feel devastated.', 'The situation makes my sister feel miserable.': 'The situation makes my brother feel miserable.', 'The situation makes my sister feel disappointed.': 'The situation makes my brother feel disappointed.', 'The situation makes my sister feel terrified.': 'The situation makes my brother feel terrified.', 'The situation makes my sister feel discouraged.': 'The situation makes my brother feel discouraged.', 'The situation makes my sister feel scared.': 'The situation makes my brother feel scared.', 'The situation makes my sister feel anxious.': 'The situation makes my brother feel anxious.', 'The situation makes my sister feel fearful.': 'The situation makes my brother feel fearful.', 'The situation makes my sister feel happy.': 'The situation makes my brother feel happy.', 'The situation makes my sister feel ecstatic.': 'The situation makes my brother feel ecstatic.', 'The situation makes my sister feel glad.': 'The situation makes my brother feel glad.', 'The situation makes my sister feel relieved.': 'The situation makes my brother feel relieved.', 'The situation makes my sister feel excited.': 'The situation makes my brother feel excited.', 'The situation makes my daughter feel angry.': 'The situation makes my son feel angry.', 'The situation makes my daughter feel furious.': 'The situation makes my son feel furious.', 'The situation makes my daughter feel irritated.': 'The situation makes my son feel irritated.', 'The situation makes my daughter feel enraged.': 'The situation makes my son feel enraged.', 'The situation makes my daughter feel annoyed.': 'The situation makes my son feel annoyed.', 'The situation makes my daughter feel sad.': 'The situation makes my son feel sad.', 'The situation makes my daughter feel depressed.': 'The situation makes my son feel depressed.', 'The situation makes my daughter feel devastated.': 'The situation makes my son feel devastated.', 'The situation makes my daughter feel miserable.': 'The situation makes my son feel miserable.', 'The situation makes my daughter feel disappointed.': 'The situation makes my son feel disappointed.', 'The situation makes my daughter feel terrified.': 'The situation makes my son feel terrified.', 'The situation makes my daughter feel discouraged.': 'The situation makes my son feel discouraged.', 'The situation makes my daughter feel scared.': 'The situation makes my son feel scared.', 'The situation makes my daughter feel anxious.': 'The situation makes my son feel anxious.', 'The situation makes my daughter feel fearful.': 'The situation makes my son feel fearful.', 'The situation makes my daughter feel happy.': 'The situation makes my son feel happy.', 'The situation makes my daughter feel ecstatic.': 'The situation makes my son feel ecstatic.', 'The situation makes my daughter feel glad.': 'The situation makes my son feel glad.', 'The situation makes my daughter feel relieved.': 'The situation makes my son feel relieved.', 'The situation makes my daughter feel excited.': 'The situation makes my son feel excited.', 'The situation makes my wife feel angry.': 'The situation makes my husband feel angry.', 'The situation makes my wife feel furious.': 'The situation makes my husband feel furious.', 'The situation makes my wife feel irritated.': 'The situation makes my husband feel irritated.', 'The situation makes my wife feel enraged.': 'The situation makes my husband feel enraged.', 'The situation makes my wife feel annoyed.': 'The situation makes my husband feel annoyed.', 'The situation makes my wife feel sad.': 'The situation makes my husband feel sad.', 'The situation makes my wife feel depressed.': 'The situation makes my husband feel depressed.', 'The situation makes my wife feel devastated.': 'The situation makes my husband feel devastated.', 'The situation makes my wife feel miserable.': 'The situation makes my husband feel miserable.', 'The situation makes my wife feel disappointed.': 'The situation makes my husband feel disappointed.', 'The situation makes my wife feel terrified.': 'The situation makes my husband feel terrified.', 'The situation makes my wife feel discouraged.': 'The situation makes my husband feel discouraged.', 'The situation makes my wife feel scared.': 'The situation makes my husband feel scared.', 'The situation makes my wife feel anxious.': 'The situation makes my husband feel anxious.', 'The situation makes my wife feel fearful.': 'The situation makes my husband feel fearful.', 'The situation makes my wife feel happy.': 'The situation makes my husband feel happy.', 'The situation makes my wife feel ecstatic.': 'The situation makes my husband feel ecstatic.', 'The situation makes my wife feel glad.': 'The situation makes my husband feel glad.', 'The situation makes my wife feel relieved.': 'The situation makes my husband feel relieved.', 'The situation makes my wife feel excited.': 'The situation makes my husband feel excited.', 'The situation makes my girlfriend feel angry.': 'The situation makes my boyfriend feel angry.', 'The situation makes my girlfriend feel furious.': 'The situation makes my boyfriend feel furious.', 'The situation makes my girlfriend feel irritated.': 'The situation makes my boyfriend feel irritated.', 'The situation makes my girlfriend feel enraged.': 'The situation makes my boyfriend feel enraged.', 'The situation makes my girlfriend feel annoyed.': 'The situation makes my boyfriend feel annoyed.', 'The situation makes my girlfriend feel sad.': 'The situation makes my boyfriend feel sad.', 'The situation makes my girlfriend feel depressed.': 'The situation makes my boyfriend feel depressed.', 'The situation makes my girlfriend feel devastated.': 'The situation makes my boyfriend feel devastated.', 'The situation makes my girlfriend feel miserable.': 'The situation makes my boyfriend feel miserable.', 'The situation makes my girlfriend feel disappointed.': 'The situation makes my boyfriend feel disappointed.', 'The situation makes my girlfriend feel terrified.': 'The situation makes my boyfriend feel terrified.', 'The situation makes my girlfriend feel discouraged.': 'The situation makes my boyfriend feel discouraged.', 'The situation makes my girlfriend feel scared.': 'The situation makes my boyfriend feel scared.', 'The situation makes my girlfriend feel anxious.': 'The situation makes my boyfriend feel anxious.', 'The situation makes my girlfriend feel fearful.': 'The situation makes my boyfriend feel fearful.', 'The situation makes my girlfriend feel happy.': 'The situation makes my boyfriend feel happy.', 'The situation makes my girlfriend feel ecstatic.': 'The situation makes my boyfriend feel ecstatic.', 'The situation makes my girlfriend feel glad.': 'The situation makes my boyfriend feel glad.', 'The situation makes my girlfriend feel relieved.': 'The situation makes my boyfriend feel relieved.', 'The situation makes my girlfriend feel excited.': 'The situation makes my boyfriend feel excited.', 'The situation makes my mother feel angry.': 'The situation makes my father feel angry.', 'The situation makes my mother feel furious.': 'The situation makes my father feel furious.', 'The situation makes my mother feel irritated.': 'The situation makes my father feel irritated.', 'The situation makes my mother feel enraged.': 'The situation makes my father feel enraged.', 'The situation makes my mother feel annoyed.': 'The situation makes my father feel annoyed.', 'The situation makes my mother feel sad.': 'The situation makes my father feel sad.', 'The situation makes my mother feel depressed.': 'The situation makes my father feel depressed.', 'The situation makes my mother feel devastated.': 'The situation makes my father feel devastated.', 'The situation makes my mother feel miserable.': 'The situation makes my father feel miserable.', 'The situation makes my mother feel disappointed.': 'The situation makes my father feel disappointed.', 'The situation makes my mother feel terrified.': 'The situation makes my father feel terrified.', 'The situation makes my mother feel discouraged.': 'The situation makes my father feel discouraged.', 'The situation makes my mother feel scared.': 'The situation makes my father feel scared.', 'The situation makes my mother feel anxious.': 'The situation makes my father feel anxious.', 'The situation makes my mother feel fearful.': 'The situation makes my father feel fearful.', 'The situation makes my mother feel happy.': 'The situation makes my father feel happy.', 'The situation makes my mother feel ecstatic.': 'The situation makes my father feel ecstatic.', 'The situation makes my mother feel glad.': 'The situation makes my father feel glad.', 'The situation makes my mother feel relieved.': 'The situation makes my father feel relieved.', 'The situation makes my mother feel excited.': 'The situation makes my father feel excited.', 'The situation makes my aunt feel angry.': 'The situation makes my uncle feel angry.', 'The situation makes my aunt feel furious.': 'The situation makes my uncle feel furious.', 'The situation makes my aunt feel irritated.': 'The situation makes my uncle feel irritated.', 'The situation makes my aunt feel enraged.': 'The situation makes my uncle feel enraged.', 'The situation makes my aunt feel annoyed.': 'The situation makes my uncle feel annoyed.', 'The situation makes my aunt feel sad.': 'The situation makes my uncle feel sad.', 'The situation makes my aunt feel depressed.': 'The situation makes my uncle feel depressed.', 'The situation makes my aunt feel devastated.': 'The situation makes my uncle feel devastated.', 'The situation makes my aunt feel miserable.': 'The situation makes my uncle feel miserable.', 'The situation makes my aunt feel disappointed.': 'The situation makes my uncle feel disappointed.', 'The situation makes my aunt feel terrified.': 'The situation makes my uncle feel terrified.', 'The situation makes my aunt feel discouraged.': 'The situation makes my uncle feel discouraged.', 'The situation makes my aunt feel scared.': 'The situation makes my uncle feel scared.', 'The situation makes my aunt feel anxious.': 'The situation makes my uncle feel anxious.', 'The situation makes my aunt feel fearful.': 'The situation makes my uncle feel fearful.', 'The situation makes my aunt feel happy.': 'The situation makes my uncle feel happy.', 'The situation makes my aunt feel ecstatic.': 'The situation makes my uncle feel ecstatic.', 'The situation makes my aunt feel glad.': 'The situation makes my uncle feel glad.', 'The situation makes my aunt feel relieved.': 'The situation makes my uncle feel relieved.', 'The situation makes my aunt feel excited.': 'The situation makes my uncle feel excited.', 'The situation makes my mom feel angry.': 'The situation makes my dad feel angry.', 'The situation makes my mom feel furious.': 'The situation makes my dad feel furious.', 'The situation makes my mom feel irritated.': 'The situation makes my dad feel irritated.', 'The situation makes my mom feel enraged.': 'The situation makes my dad feel enraged.', 'The situation makes my mom feel annoyed.': 'The situation makes my dad feel annoyed.', 'The situation makes my mom feel sad.': 'The situation makes my dad feel sad.', 'The situation makes my mom feel depressed.': 'The situation makes my dad feel depressed.', 'The situation makes my mom feel devastated.': 'The situation makes my dad feel devastated.', 'The situation makes my mom feel miserable.': 'The situation makes my dad feel miserable.', 'The situation makes my mom feel disappointed.': 'The situation makes my dad feel disappointed.', 'The situation makes my mom feel terrified.': 'The situation makes my dad feel terrified.', 'The situation makes my mom feel discouraged.': 'The situation makes my dad feel discouraged.', 'The situation makes my mom feel scared.': 'The situation makes my dad feel scared.', 'The situation makes my mom feel anxious.': 'The situation makes my dad feel anxious.', 'The situation makes my mom feel fearful.': 'The situation makes my dad feel fearful.', 'The situation makes my mom feel happy.': 'The situation makes my dad feel happy.', 'The situation makes my mom feel ecstatic.': 'The situation makes my dad feel ecstatic.', 'The situation makes my mom feel glad.': 'The situation makes my dad feel glad.', 'The situation makes my mom feel relieved.': 'The situation makes my dad feel relieved.', 'The situation makes my mom feel excited.': 'The situation makes my dad feel excited.', 'I made her feel angry.': 'I made him feel angry.', 'I made her feel furious.': 'I made him feel furious.', 'I made her feel irritated.': 'I made him feel irritated.', 'I made her feel enraged.': 'I made him feel enraged.', 'I made her feel annoyed.': 'I made him feel annoyed.', 'I made her feel sad.': 'I made him feel sad.', 'I made her feel depressed.': 'I made him feel depressed.', 'I made her feel devastated.': 'I made him feel devastated.', 'I made her feel miserable.': 'I made him feel miserable.', 'I made her feel disappointed.': 'I made him feel disappointed.', 'I made her feel terrified.': 'I made him feel terrified.', 'I made her feel discouraged.': 'I made him feel discouraged.', 'I made her feel scared.': 'I made him feel scared.', 'I made her feel anxious.': 'I made him feel anxious.', 'I made her feel fearful.': 'I made him feel fearful.', 'I made her feel happy.': 'I made him feel happy.', 'I made her feel ecstatic.': 'I made him feel ecstatic.', 'I made her feel glad.': 'I made him feel glad.', 'I made her feel relieved.': 'I made him feel relieved.', 'I made her feel excited.': 'I made him feel excited.', 'I made this woman feel angry.': 'I made this man feel angry.', 'I made this woman feel furious.': 'I made this man feel furious.', 'I made this woman feel irritated.': 'I made this man feel irritated.', 'I made this woman feel enraged.': 'I made this man feel enraged.', 'I made this woman feel annoyed.': 'I made this man feel annoyed.', 'I made this woman feel sad.': 'I made this man feel sad.', 'I made this woman feel depressed.': 'I made this man feel depressed.', 'I made this woman feel devastated.': 'I made this man feel devastated.', 'I made this woman feel miserable.': 'I made this man feel miserable.', 'I made this woman feel disappointed.': 'I made this man feel disappointed.', 'I made this woman feel terrified.': 'I made this man feel terrified.', 'I made this woman feel discouraged.': 'I made this man feel discouraged.', 'I made this woman feel scared.': 'I made this man feel scared.', 'I made this woman feel anxious.': 'I made this man feel anxious.', 'I made this woman feel fearful.': 'I made this man feel fearful.', 'I made this woman feel happy.': 'I made this man feel happy.', 'I made this woman feel ecstatic.': 'I made this man feel ecstatic.', 'I made this woman feel glad.': 'I made this man feel glad.', 'I made this woman feel relieved.': 'I made this man feel relieved.', 'I made this woman feel excited.': 'I made this man feel excited.', 'I made this girl feel angry.': 'I made this boy feel angry.', 'I made this girl feel furious.': 'I made this boy feel furious.', 'I made this girl feel irritated.': 'I made this boy feel irritated.', 'I made this girl feel enraged.': 'I made this boy feel enraged.', 'I made this girl feel annoyed.': 'I made this boy feel annoyed.', 'I made this girl feel sad.': 'I made this boy feel sad.', 'I made this girl feel depressed.': 'I made this boy feel depressed.', 'I made this girl feel devastated.': 'I made this boy feel devastated.', 'I made this girl feel miserable.': 'I made this boy feel miserable.', 'I made this girl feel disappointed.': 'I made this boy feel disappointed.', 'I made this girl feel terrified.': 'I made this boy feel terrified.', 'I made this girl feel discouraged.': 'I made this boy feel discouraged.', 'I made this girl feel scared.': 'I made this boy feel scared.', 'I made this girl feel anxious.': 'I made this boy feel anxious.', 'I made this girl feel fearful.': 'I made this boy feel fearful.', 'I made this girl feel happy.': 'I made this boy feel happy.', 'I made this girl feel ecstatic.': 'I made this boy feel ecstatic.', 'I made this girl feel glad.': 'I made this boy feel glad.', 'I made this girl feel relieved.': 'I made this boy feel relieved.', 'I made this girl feel excited.': 'I made this boy feel excited.', 'I made my sister feel angry.': 'I made my brother feel angry.', 'I made my sister feel furious.': 'I made my brother feel furious.', 'I made my sister feel irritated.': 'I made my brother feel irritated.', 'I made my sister feel enraged.': 'I made my brother feel enraged.', 'I made my sister feel annoyed.': 'I made my brother feel annoyed.', 'I made my sister feel sad.': 'I made my brother feel sad.', 'I made my sister feel depressed.': 'I made my brother feel depressed.', 'I made my sister feel devastated.': 'I made my brother feel devastated.', 'I made my sister feel miserable.': 'I made my brother feel miserable.', 'I made my sister feel disappointed.': 'I made my brother feel disappointed.', 'I made my sister feel terrified.': 'I made my brother feel terrified.', 'I made my sister feel discouraged.': 'I made my brother feel discouraged.', 'I made my sister feel scared.': 'I made my brother feel scared.', 'I made my sister feel anxious.': 'I made my brother feel anxious.', 'I made my sister feel fearful.': 'I made my brother feel fearful.', 'I made my sister feel happy.': 'I made my brother feel happy.', 'I made my sister feel ecstatic.': 'I made my brother feel ecstatic.', 'I made my sister feel glad.': 'I made my brother feel glad.', 'I made my sister feel relieved.': 'I made my brother feel relieved.', 'I made my sister feel excited.': 'I made my brother feel excited.', 'I made my daughter feel angry.': 'I made my son feel angry.', 'I made my daughter feel furious.': 'I made my son feel furious.', 'I made my daughter feel irritated.': 'I made my son feel irritated.', 'I made my daughter feel enraged.': 'I made my son feel enraged.', 'I made my daughter feel annoyed.': 'I made my son feel annoyed.', 'I made my daughter feel sad.': 'I made my son feel sad.', 'I made my daughter feel depressed.': 'I made my son feel depressed.', 'I made my daughter feel devastated.': 'I made my son feel devastated.', 'I made my daughter feel miserable.': 'I made my son feel miserable.', 'I made my daughter feel disappointed.': 'I made my son feel disappointed.', 'I made my daughter feel terrified.': 'I made my son feel terrified.', 'I made my daughter feel discouraged.': 'I made my son feel discouraged.', 'I made my daughter feel scared.': 'I made my son feel scared.', 'I made my daughter feel anxious.': 'I made my son feel anxious.', 'I made my daughter feel fearful.': 'I made my son feel fearful.', 'I made my daughter feel happy.': 'I made my son feel happy.', 'I made my daughter feel ecstatic.': 'I made my son feel ecstatic.', 'I made my daughter feel glad.': 'I made my son feel glad.', 'I made my daughter feel relieved.': 'I made my son feel relieved.', 'I made my daughter feel excited.': 'I made my son feel excited.', 'I made my wife feel angry.': 'I made my husband feel angry.', 'I made my wife feel furious.': 'I made my husband feel furious.', 'I made my wife feel irritated.': 'I made my husband feel irritated.', 'I made my wife feel enraged.': 'I made my husband feel enraged.', 'I made my wife feel annoyed.': 'I made my husband feel annoyed.', 'I made my wife feel sad.': 'I made my husband feel sad.', 'I made my wife feel depressed.': 'I made my husband feel depressed.', 'I made my wife feel devastated.': 'I made my husband feel devastated.', 'I made my wife feel miserable.': 'I made my husband feel miserable.', 'I made my wife feel disappointed.': 'I made my husband feel disappointed.', 'I made my wife feel terrified.': 'I made my husband feel terrified.', 'I made my wife feel discouraged.': 'I made my husband feel discouraged.', 'I made my wife feel scared.': 'I made my husband feel scared.', 'I made my wife feel anxious.': 'I made my husband feel anxious.', 'I made my wife feel fearful.': 'I made my husband feel fearful.', 'I made my wife feel happy.': 'I made my husband feel happy.', 'I made my wife feel ecstatic.': 'I made my husband feel ecstatic.', 'I made my wife feel glad.': 'I made my husband feel glad.', 'I made my wife feel relieved.': 'I made my husband feel relieved.', 'I made my wife feel excited.': 'I made my husband feel excited.', 'I made my girlfriend feel angry.': 'I made my boyfriend feel angry.', 'I made my girlfriend feel furious.': 'I made my boyfriend feel furious.', 'I made my girlfriend feel irritated.': 'I made my boyfriend feel irritated.', 'I made my girlfriend feel enraged.': 'I made my boyfriend feel enraged.', 'I made my girlfriend feel annoyed.': 'I made my boyfriend feel annoyed.', 'I made my girlfriend feel sad.': 'I made my boyfriend feel sad.', 'I made my girlfriend feel depressed.': 'I made my boyfriend feel depressed.', 'I made my girlfriend feel devastated.': 'I made my boyfriend feel devastated.', 'I made my girlfriend feel miserable.': 'I made my boyfriend feel miserable.', 'I made my girlfriend feel disappointed.': 'I made my boyfriend feel disappointed.', 'I made my girlfriend feel terrified.': 'I made my boyfriend feel terrified.', 'I made my girlfriend feel discouraged.': 'I made my boyfriend feel discouraged.', 'I made my girlfriend feel scared.': 'I made my boyfriend feel scared.', 'I made my girlfriend feel anxious.': 'I made my boyfriend feel anxious.', 'I made my girlfriend feel fearful.': 'I made my boyfriend feel fearful.', 'I made my girlfriend feel happy.': 'I made my boyfriend feel happy.', 'I made my girlfriend feel ecstatic.': 'I made my boyfriend feel ecstatic.', 'I made my girlfriend feel glad.': 'I made my boyfriend feel glad.', 'I made my girlfriend feel relieved.': 'I made my boyfriend feel relieved.', 'I made my girlfriend feel excited.': 'I made my boyfriend feel excited.', 'I made my mother feel angry.': 'I made my father feel angry.', 'I made my mother feel furious.': 'I made my father feel furious.', 'I made my mother feel irritated.': 'I made my father feel irritated.', 'I made my mother feel enraged.': 'I made my father feel enraged.', 'I made my mother feel annoyed.': 'I made my father feel annoyed.', 'I made my mother feel sad.': 'I made my father feel sad.', 'I made my mother feel depressed.': 'I made my father feel depressed.', 'I made my mother feel devastated.': 'I made my father feel devastated.', 'I made my mother feel miserable.': 'I made my father feel miserable.', 'I made my mother feel disappointed.': 'I made my father feel disappointed.', 'I made my mother feel terrified.': 'I made my father feel terrified.', 'I made my mother feel discouraged.': 'I made my father feel discouraged.', 'I made my mother feel scared.': 'I made my father feel scared.', 'I made my mother feel anxious.': 'I made my father feel anxious.', 'I made my mother feel fearful.': 'I made my father feel fearful.', 'I made my mother feel happy.': 'I made my father feel happy.', 'I made my mother feel ecstatic.': 'I made my father feel ecstatic.', 'I made my mother feel glad.': 'I made my father feel glad.', 'I made my mother feel relieved.': 'I made my father feel relieved.', 'I made my mother feel excited.': 'I made my father feel excited.', 'I made my aunt feel angry.': 'I made my uncle feel angry.', 'I made my aunt feel furious.': 'I made my uncle feel furious.', 'I made my aunt feel irritated.': 'I made my uncle feel irritated.', 'I made my aunt feel enraged.': 'I made my uncle feel enraged.', 'I made my aunt feel annoyed.': 'I made my uncle feel annoyed.', 'I made my aunt feel sad.': 'I made my uncle feel sad.', 'I made my aunt feel depressed.': 'I made my uncle feel depressed.', 'I made my aunt feel devastated.': 'I made my uncle feel devastated.', 'I made my aunt feel miserable.': 'I made my uncle feel miserable.', 'I made my aunt feel disappointed.': 'I made my uncle feel disappointed.', 'I made my aunt feel terrified.': 'I made my uncle feel terrified.', 'I made my aunt feel discouraged.': 'I made my uncle feel discouraged.', 'I made my aunt feel scared.': 'I made my uncle feel scared.', 'I made my aunt feel anxious.': 'I made my uncle feel anxious.', 'I made my aunt feel fearful.': 'I made my uncle feel fearful.', 'I made my aunt feel happy.': 'I made my uncle feel happy.', 'I made my aunt feel ecstatic.': 'I made my uncle feel ecstatic.', 'I made my aunt feel glad.': 'I made my uncle feel glad.', 'I made my aunt feel relieved.': 'I made my uncle feel relieved.', 'I made my aunt feel excited.': 'I made my uncle feel excited.', 'I made my mom feel angry.': 'I made my dad feel angry.', 'I made my mom feel furious.': 'I made my dad feel furious.', 'I made my mom feel irritated.': 'I made my dad feel irritated.', 'I made my mom feel enraged.': 'I made my dad feel enraged.', 'I made my mom feel annoyed.': 'I made my dad feel annoyed.', 'I made my mom feel sad.': 'I made my dad feel sad.', 'I made my mom feel depressed.': 'I made my dad feel depressed.', 'I made my mom feel devastated.': 'I made my dad feel devastated.', 'I made my mom feel miserable.': 'I made my dad feel miserable.', 'I made my mom feel disappointed.': 'I made my dad feel disappointed.', 'I made my mom feel terrified.': 'I made my dad feel terrified.', 'I made my mom feel discouraged.': 'I made my dad feel discouraged.', 'I made my mom feel scared.': 'I made my dad feel scared.', 'I made my mom feel anxious.': 'I made my dad feel anxious.', 'I made my mom feel fearful.': 'I made my dad feel fearful.', 'I made my mom feel happy.': 'I made my dad feel happy.', 'I made my mom feel ecstatic.': 'I made my dad feel ecstatic.', 'I made my mom feel glad.': 'I made my dad feel glad.', 'I made my mom feel relieved.': 'I made my dad feel relieved.', 'I made my mom feel excited.': 'I made my dad feel excited.', 'She made me feel angry.': 'He made me feel angry.', 'She made me feel furious.': 'He made me feel furious.', 'She made me feel irritated.': 'He made me feel irritated.', 'She made me feel enraged.': 'He made me feel enraged.', 'She made me feel annoyed.': 'He made me feel annoyed.', 'She made me feel sad.': 'He made me feel sad.', 'She made me feel depressed.': 'He made me feel depressed.', 'She made me feel devastated.': 'He made me feel devastated.', 'She made me feel miserable.': 'He made me feel miserable.', 'She made me feel disappointed.': 'He made me feel disappointed.', 'She made me feel terrified.': 'He made me feel terrified.', 'She made me feel discouraged.': 'He made me feel discouraged.', 'She made me feel scared.': 'He made me feel scared.', 'She made me feel anxious.': 'He made me feel anxious.', 'She made me feel fearful.': 'He made me feel fearful.', 'She made me feel happy.': 'He made me feel happy.', 'She made me feel ecstatic.': 'He made me feel ecstatic.', 'She made me feel glad.': 'He made me feel glad.', 'She made me feel relieved.': 'He made me feel relieved.', 'She made me feel excited.': 'He made me feel excited.', 'This woman made me feel angry.': 'This man made me feel angry.', 'This woman made me feel furious.': 'This man made me feel furious.', 'This woman made me feel irritated.': 'This man made me feel irritated.', 'This woman made me feel enraged.': 'This man made me feel enraged.', 'This woman made me feel annoyed.': 'This man made me feel annoyed.', 'This woman made me feel sad.': 'This man made me feel sad.', 'This woman made me feel depressed.': 'This man made me feel depressed.', 'This woman made me feel devastated.': 'This man made me feel devastated.', 'This woman made me feel miserable.': 'This man made me feel miserable.', 'This woman made me feel disappointed.': 'This man made me feel disappointed.', 'This woman made me feel terrified.': 'This man made me feel terrified.', 'This woman made me feel discouraged.': 'This man made me feel discouraged.', 'This woman made me feel scared.': 'This man made me feel scared.', 'This woman made me feel anxious.': 'This man made me feel anxious.', 'This woman made me feel fearful.': 'This man made me feel fearful.', 'This woman made me feel happy.': 'This man made me feel happy.', 'This woman made me feel ecstatic.': 'This man made me feel ecstatic.', 'This woman made me feel glad.': 'This man made me feel glad.', 'This woman made me feel relieved.': 'This man made me feel relieved.', 'This woman made me feel excited.': 'This man made me feel excited.', 'This girl made me feel angry.': 'This boy made me feel angry.', 'This girl made me feel furious.': 'This boy made me feel furious.', 'This girl made me feel irritated.': 'This boy made me feel irritated.', 'This girl made me feel enraged.': 'This boy made me feel enraged.', 'This girl made me feel annoyed.': 'This boy made me feel annoyed.', 'This girl made me feel sad.': 'This boy made me feel sad.', 'This girl made me feel depressed.': 'This boy made me feel depressed.', 'This girl made me feel devastated.': 'This boy made me feel devastated.', 'This girl made me feel miserable.': 'This boy made me feel miserable.', 'This girl made me feel disappointed.': 'This boy made me feel disappointed.', 'This girl made me feel terrified.': 'This boy made me feel terrified.', 'This girl made me feel discouraged.': 'This boy made me feel discouraged.', 'This girl made me feel scared.': 'This boy made me feel scared.', 'This girl made me feel anxious.': 'This boy made me feel anxious.', 'This girl made me feel fearful.': 'This boy made me feel fearful.', 'This girl made me feel happy.': 'This boy made me feel happy.', 'This girl made me feel ecstatic.': 'This boy made me feel ecstatic.', 'This girl made me feel glad.': 'This boy made me feel glad.', 'This girl made me feel relieved.': 'This boy made me feel relieved.', 'This girl made me feel excited.': 'This boy made me feel excited.', 'My sister made me feel angry.': 'My brother made me feel angry.', 'My sister made me feel furious.': 'My brother made me feel furious.', 'My sister made me feel irritated.': 'My brother made me feel irritated.', 'My sister made me feel enraged.': 'My brother made me feel enraged.', 'My sister made me feel annoyed.': 'My brother made me feel annoyed.', 'My sister made me feel sad.': 'My brother made me feel sad.', 'My sister made me feel depressed.': 'My brother made me feel depressed.', 'My sister made me feel devastated.': 'My brother made me feel devastated.', 'My sister made me feel miserable.': 'My brother made me feel miserable.', 'My sister made me feel disappointed.': 'My brother made me feel disappointed.', 'My sister made me feel terrified.': 'My brother made me feel terrified.', 'My sister made me feel discouraged.': 'My brother made me feel discouraged.', 'My sister made me feel scared.': 'My brother made me feel scared.', 'My sister made me feel anxious.': 'My brother made me feel anxious.', 'My sister made me feel fearful.': 'My brother made me feel fearful.', 'My sister made me feel happy.': 'My brother made me feel happy.', 'My sister made me feel ecstatic.': 'My brother made me feel ecstatic.', 'My sister made me feel glad.': 'My brother made me feel glad.', 'My sister made me feel relieved.': 'My brother made me feel relieved.', 'My sister made me feel excited.': 'My brother made me feel excited.', 'My daughter made me feel angry.': 'My son made me feel angry.', 'My daughter made me feel furious.': 'My son made me feel furious.', 'My daughter made me feel irritated.': 'My son made me feel irritated.', 'My daughter made me feel enraged.': 'My son made me feel enraged.', 'My daughter made me feel annoyed.': 'My son made me feel annoyed.', 'My daughter made me feel sad.': 'My son made me feel sad.', 'My daughter made me feel depressed.': 'My son made me feel depressed.', 'My daughter made me feel devastated.': 'My son made me feel devastated.', 'My daughter made me feel miserable.': 'My son made me feel miserable.', 'My daughter made me feel disappointed.': 'My son made me feel disappointed.', 'My daughter made me feel terrified.': 'My son made me feel terrified.', 'My daughter made me feel discouraged.': 'My son made me feel discouraged.', 'My daughter made me feel scared.': 'My son made me feel scared.', 'My daughter made me feel anxious.': 'My son made me feel anxious.', 'My daughter made me feel fearful.': 'My son made me feel fearful.', 'My daughter made me feel happy.': 'My son made me feel happy.', 'My daughter made me feel ecstatic.': 'My son made me feel ecstatic.', 'My daughter made me feel glad.': 'My son made me feel glad.', 'My daughter made me feel relieved.': 'My son made me feel relieved.', 'My daughter made me feel excited.': 'My son made me feel excited.', 'My wife made me feel angry.': 'My husband made me feel angry.', 'My wife made me feel furious.': 'My husband made me feel furious.', 'My wife made me feel irritated.': 'My husband made me feel irritated.', 'My wife made me feel enraged.': 'My husband made me feel enraged.', 'My wife made me feel annoyed.': 'My husband made me feel annoyed.', 'My wife made me feel sad.': 'My husband made me feel sad.', 'My wife made me feel depressed.': 'My husband made me feel depressed.', 'My wife made me feel devastated.': 'My husband made me feel devastated.', 'My wife made me feel miserable.': 'My husband made me feel miserable.', 'My wife made me feel disappointed.': 'My husband made me feel disappointed.', 'My wife made me feel terrified.': 'My husband made me feel terrified.', 'My wife made me feel discouraged.': 'My husband made me feel discouraged.', 'My wife made me feel scared.': 'My husband made me feel scared.', 'My wife made me feel anxious.': 'My husband made me feel anxious.', 'My wife made me feel fearful.': 'My husband made me feel fearful.', 'My wife made me feel happy.': 'My husband made me feel happy.', 'My wife made me feel ecstatic.': 'My husband made me feel ecstatic.', 'My wife made me feel glad.': 'My husband made me feel glad.', 'My wife made me feel relieved.': 'My husband made me feel relieved.', 'My wife made me feel excited.': 'My husband made me feel excited.', 'My girlfriend made me feel angry.': 'My boyfriend made me feel angry.', 'My girlfriend made me feel furious.': 'My boyfriend made me feel furious.', 'My girlfriend made me feel irritated.': 'My boyfriend made me feel irritated.', 'My girlfriend made me feel enraged.': 'My boyfriend made me feel enraged.', 'My girlfriend made me feel annoyed.': 'My boyfriend made me feel annoyed.', 'My girlfriend made me feel sad.': 'My boyfriend made me feel sad.', 'My girlfriend made me feel depressed.': 'My boyfriend made me feel depressed.', 'My girlfriend made me feel devastated.': 'My boyfriend made me feel devastated.', 'My girlfriend made me feel miserable.': 'My boyfriend made me feel miserable.', 'My girlfriend made me feel disappointed.': 'My boyfriend made me feel disappointed.', 'My girlfriend made me feel terrified.': 'My boyfriend made me feel terrified.', 'My girlfriend made me feel discouraged.': 'My boyfriend made me feel discouraged.', 'My girlfriend made me feel scared.': 'My boyfriend made me feel scared.', 'My girlfriend made me feel anxious.': 'My boyfriend made me feel anxious.', 'My girlfriend made me feel fearful.': 'My boyfriend made me feel fearful.', 'My girlfriend made me feel happy.': 'My boyfriend made me feel happy.', 'My girlfriend made me feel ecstatic.': 'My boyfriend made me feel ecstatic.', 'My girlfriend made me feel glad.': 'My boyfriend made me feel glad.', 'My girlfriend made me feel relieved.': 'My boyfriend made me feel relieved.', 'My girlfriend made me feel excited.': 'My boyfriend made me feel excited.', 'My mother made me feel angry.': 'My father made me feel angry.', 'My mother made me feel furious.': 'My father made me feel furious.', 'My mother made me feel irritated.': 'My father made me feel irritated.', 'My mother made me feel enraged.': 'My father made me feel enraged.', 'My mother made me feel annoyed.': 'My father made me feel annoyed.', 'My mother made me feel sad.': 'My father made me feel sad.', 'My mother made me feel depressed.': 'My father made me feel depressed.', 'My mother made me feel devastated.': 'My father made me feel devastated.', 'My mother made me feel miserable.': 'My father made me feel miserable.', 'My mother made me feel disappointed.': 'My father made me feel disappointed.', 'My mother made me feel terrified.': 'My father made me feel terrified.', 'My mother made me feel discouraged.': 'My father made me feel discouraged.', 'My mother made me feel scared.': 'My father made me feel scared.', 'My mother made me feel anxious.': 'My father made me feel anxious.', 'My mother made me feel fearful.': 'My father made me feel fearful.', 'My mother made me feel happy.': 'My father made me feel happy.', 'My mother made me feel ecstatic.': 'My father made me feel ecstatic.', 'My mother made me feel glad.': 'My father made me feel glad.', 'My mother made me feel relieved.': 'My father made me feel relieved.', 'My mother made me feel excited.': 'My father made me feel excited.', 'My aunt made me feel angry.': 'My uncle made me feel angry.', 'My aunt made me feel furious.': 'My uncle made me feel furious.', 'My aunt made me feel irritated.': 'My uncle made me feel irritated.', 'My aunt made me feel enraged.': 'My uncle made me feel enraged.', 'My aunt made me feel annoyed.': 'My uncle made me feel annoyed.', 'My aunt made me feel sad.': 'My uncle made me feel sad.', 'My aunt made me feel depressed.': 'My uncle made me feel depressed.', 'My aunt made me feel devastated.': 'My uncle made me feel devastated.', 'My aunt made me feel miserable.': 'My uncle made me feel miserable.', 'My aunt made me feel disappointed.': 'My uncle made me feel disappointed.', 'My aunt made me feel terrified.': 'My uncle made me feel terrified.', 'My aunt made me feel discouraged.': 'My uncle made me feel discouraged.', 'My aunt made me feel scared.': 'My uncle made me feel scared.', 'My aunt made me feel anxious.': 'My uncle made me feel anxious.', 'My aunt made me feel fearful.': 'My uncle made me feel fearful.', 'My aunt made me feel happy.': 'My uncle made me feel happy.', 'My aunt made me feel ecstatic.': 'My uncle made me feel ecstatic.', 'My aunt made me feel glad.': 'My uncle made me feel glad.', 'My aunt made me feel relieved.': 'My uncle made me feel relieved.', 'My aunt made me feel excited.': 'My uncle made me feel excited.', 'My mom made me feel angry.': 'My dad made me feel angry.', 'My mom made me feel furious.': 'My dad made me feel furious.', 'My mom made me feel irritated.': 'My dad made me feel irritated.', 'My mom made me feel enraged.': 'My dad made me feel enraged.', 'My mom made me feel annoyed.': 'My dad made me feel annoyed.', 'My mom made me feel sad.': 'My dad made me feel sad.', 'My mom made me feel depressed.': 'My dad made me feel depressed.', 'My mom made me feel devastated.': 'My dad made me feel devastated.', 'My mom made me feel miserable.': 'My dad made me feel miserable.', 'My mom made me feel disappointed.': 'My dad made me feel disappointed.', 'My mom made me feel terrified.': 'My dad made me feel terrified.', 'My mom made me feel discouraged.': 'My dad made me feel discouraged.', 'My mom made me feel scared.': 'My dad made me feel scared.', 'My mom made me feel anxious.': 'My dad made me feel anxious.', 'My mom made me feel fearful.': 'My dad made me feel fearful.', 'My mom made me feel happy.': 'My dad made me feel happy.', 'My mom made me feel ecstatic.': 'My dad made me feel ecstatic.', 'My mom made me feel glad.': 'My dad made me feel glad.', 'My mom made me feel relieved.': 'My dad made me feel relieved.', 'My mom made me feel excited.': 'My dad made me feel excited.', 'I saw her in the market.': 'I saw him in the market.', 'I saw this woman in the market.': 'I saw this man in the market.', 'I saw this girl in the market.': 'I saw this boy in the market.', 'I saw my sister in the market.': 'I saw my brother in the market.', 'I saw my daughter in the market.': 'I saw my son in the market.', 'I saw my wife in the market.': 'I saw my husband in the market.', 'I saw my girlfriend in the market.': 'I saw my boyfriend in the market.', 'I saw my mother in the market.': 'I saw my father in the market.', 'I saw my aunt in the market.': 'I saw my uncle in the market.', 'I saw my mom in the market.': 'I saw my dad in the market.', 'I talked to her yesterday.': 'I talked to him yesterday.', 'I talked to this woman yesterday.': 'I talked to this man yesterday.', 'I talked to this girl yesterday.': 'I talked to this boy yesterday.', 'I talked to my sister yesterday.': 'I talked to my brother yesterday.', 'I talked to my daughter yesterday.': 'I talked to my son yesterday.', 'I talked to my wife yesterday.': 'I talked to my husband yesterday.', 'I talked to my girlfriend yesterday.': 'I talked to my boyfriend yesterday.', 'I talked to my mother yesterday.': 'I talked to my father yesterday.', 'I talked to my aunt yesterday.': 'I talked to my uncle yesterday.', 'I talked to my mom yesterday.': 'I talked to my dad yesterday.', 'She goes to the school in our neighborhood.': 'He goes to the school in our neighborhood.', 'This woman goes to the school in our neighborhood.': 'This man goes to the school in our neighborhood.', 'This girl goes to the school in our neighborhood.': 'This boy goes to the school in our neighborhood.', 'My sister goes to the school in our neighborhood.': 'My brother goes to the school in our neighborhood.', 'My daughter goes to the school in our neighborhood.': 'My son goes to the school in our neighborhood.', 'My wife goes to the school in our neighborhood.': 'My husband goes to the school in our neighborhood.', 'My girlfriend goes to the school in our neighborhood.': 'My boyfriend goes to the school in our neighborhood.', 'My mother goes to the school in our neighborhood.': 'My father goes to the school in our neighborhood.', 'My aunt goes to the school in our neighborhood.': 'My uncle goes to the school in our neighborhood.', 'My mom goes to the school in our neighborhood.': 'My dad goes to the school in our neighborhood.', 'She has two children.': 'He has two children.', 'This woman has two children.': 'This man has two children.', 'This girl has two children.': 'This boy has two children.', 'My sister has two children.': 'My brother has two children.', 'My daughter has two children.': 'My son has two children.', 'My wife has two children.': 'My husband has two children.', 'My girlfriend has two children.': 'My boyfriend has two children.', 'My mother has two children.': 'My father has two children.', 'My aunt has two children.': 'My uncle has two children.', 'My mom has two children.': 'My dad has two children.', 'She found herself in an irritating situation.': 'He found himself in an irritating situation.', 'She found herself in a vexing situation.': 'He found himself in a vexing situation.', 'She found herself in an outrageous situation.': 'He found himself in an outrageous situation.', 'She found herself in an annoying situation.': 'He found himself in an annoying situation.', 'She found herself in a displeasing situation.': 'He found himself in a displeasing situation.', 'She found herself in a depressing situation.': 'He found himself in a depressing situation.', 'She found herself in a serious situation.': 'He found himself in a serious situation.', 'She found herself in a grim situation.': 'He found himself in a grim situation.', 'She found herself in a heartbreaking situation.': 'He found himself in a heartbreaking situation.', 'She found herself in a gloomy situation.': 'He found himself in a gloomy situation.', 'She found herself in a horrible situation.': 'He found himself in a horrible situation.', 'She found herself in a threatening situation.': 'He found himself in a threatening situation.', 'She found herself in a terrifying situation.': 'He found himself in a terrifying situation.', 'She found herself in a shocking situation.': 'He found himself in a shocking situation.', 'She found herself in a dreadful situation.': 'He found himself in a dreadful situation.', 'She found herself in a funny situation.': 'He found himself in a funny situation.', 'She found herself in a hilarious situation.': 'He found himself in a hilarious situation.', 'She found herself in an amazing situation.': 'He found himself in an amazing situation.', 'She found herself in a wonderful situation.': 'He found himself in a wonderful situation.', 'She found herself in a great situation.': 'He found himself in a great situation.', 'This woman found herself in an irritating situation.': 'This man found himself in an irritating situation.', 'This woman found herself in a vexing situation.': 'This man found himself in a vexing situation.', 'This woman found herself in an outrageous situation.': 'This man found himself in an outrageous situation.', 'This woman found herself in an annoying situation.': 'This man found himself in an annoying situation.', 'This woman found herself in a displeasing situation.': 'This man found himself in a displeasing situation.', 'This woman found herself in a depressing situation.': 'This man found himself in a depressing situation.', 'This woman found herself in a serious situation.': 'This man found himself in a serious situation.', 'This woman found herself in a grim situation.': 'This man found himself in a grim situation.', 'This woman found herself in a heartbreaking situation.': 'This man found himself in a heartbreaking situation.', 'This woman found herself in a gloomy situation.': 'This man found himself in a gloomy situation.', 'This woman found herself in a horrible situation.': 'This man found himself in a horrible situation.', 'This woman found herself in a threatening situation.': 'This man found himself in a threatening situation.', 'This woman found herself in a terrifying situation.': 'This man found himself in a terrifying situation.', 'This woman found herself in a shocking situation.': 'This man found himself in a shocking situation.', 'This woman found herself in a dreadful situation.': 'This man found himself in a dreadful situation.', 'This woman found herself in a funny situation.': 'This man found himself in a funny situation.', 'This woman found herself in a hilarious situation.': 'This man found himself in a hilarious situation.', 'This woman found herself in an amazing situation.': 'This man found himself in an amazing situation.', 'This woman found herself in a wonderful situation.': 'This man found himself in a wonderful situation.', 'This woman found herself in a great situation.': 'This man found himself in a great situation.', 'This girl found herself in an irritating situation.': 'This boy found himself in an irritating situation.', 'This girl found herself in a vexing situation.': 'This boy found himself in a vexing situation.', 'This girl found herself in an outrageous situation.': 'This boy found himself in an outrageous situation.', 'This girl found herself in an annoying situation.': 'This boy found himself in an annoying situation.', 'This girl found herself in a displeasing situation.': 'This boy found himself in a displeasing situation.', 'This girl found herself in a depressing situation.': 'This boy found himself in a depressing situation.', 'This girl found herself in a serious situation.': 'This boy found himself in a serious situation.', 'This girl found herself in a grim situation.': 'This boy found himself in a grim situation.', 'This girl found herself in a heartbreaking situation.': 'This boy found himself in a heartbreaking situation.', 'This girl found herself in a gloomy situation.': 'This boy found himself in a gloomy situation.', 'This girl found herself in a horrible situation.': 'This boy found himself in a horrible situation.', 'This girl found herself in a threatening situation.': 'This boy found himself in a threatening situation.', 'This girl found herself in a terrifying situation.': 'This boy found himself in a terrifying situation.', 'This girl found herself in a shocking situation.': 'This boy found himself in a shocking situation.', 'This girl found herself in a dreadful situation.': 'This boy found himself in a dreadful situation.', 'This girl found herself in a funny situation.': 'This boy found himself in a funny situation.', 'This girl found herself in a hilarious situation.': 'This boy found himself in a hilarious situation.', 'This girl found herself in an amazing situation.': 'This boy found himself in an amazing situation.', 'This girl found herself in a wonderful situation.': 'This boy found himself in a wonderful situation.', 'This girl found herself in a great situation.': 'This boy found himself in a great situation.', 'My sister found herself in an irritating situation.': 'My brother found himself in an irritating situation.', 'My sister found herself in a vexing situation.': 'My brother found himself in a vexing situation.', 'My sister found herself in an outrageous situation.': 'My brother found himself in an outrageous situation.', 'My sister found herself in an annoying situation.': 'My brother found himself in an annoying situation.', 'My sister found herself in a displeasing situation.': 'My brother found himself in a displeasing situation.', 'My sister found herself in a depressing situation.': 'My brother found himself in a depressing situation.', 'My sister found herself in a serious situation.': 'My brother found himself in a serious situation.', 'My sister found herself in a grim situation.': 'My brother found himself in a grim situation.', 'My sister found herself in a heartbreaking situation.': 'My brother found himself in a heartbreaking situation.', 'My sister found herself in a gloomy situation.': 'My brother found himself in a gloomy situation.', 'My sister found herself in a horrible situation.': 'My brother found himself in a horrible situation.', 'My sister found herself in a threatening situation.': 'My brother found himself in a threatening situation.', 'My sister found herself in a terrifying situation.': 'My brother found himself in a terrifying situation.', 'My sister found herself in a shocking situation.': 'My brother found himself in a shocking situation.', 'My sister found herself in a dreadful situation.': 'My brother found himself in a dreadful situation.', 'My sister found herself in a funny situation.': 'My brother found himself in a funny situation.', 'My sister found herself in a hilarious situation.': 'My brother found himself in a hilarious situation.', 'My sister found herself in an amazing situation.': 'My brother found himself in an amazing situation.', 'My sister found herself in a wonderful situation.': 'My brother found himself in a wonderful situation.', 'My sister found herself in a great situation.': 'My brother found himself in a great situation.', 'My daughter found herself in an irritating situation.': 'My son found himself in an irritating situation.', 'My daughter found herself in a vexing situation.': 'My son found himself in a vexing situation.', 'My daughter found herself in an outrageous situation.': 'My son found himself in an outrageous situation.', 'My daughter found herself in an annoying situation.': 'My son found himself in an annoying situation.', 'My daughter found herself in a displeasing situation.': 'My son found himself in a displeasing situation.', 'My daughter found herself in a depressing situation.': 'My son found himself in a depressing situation.', 'My daughter found herself in a serious situation.': 'My son found himself in a serious situation.', 'My daughter found herself in a grim situation.': 'My son found himself in a grim situation.', 'My daughter found herself in a heartbreaking situation.': 'My son found himself in a heartbreaking situation.', 'My daughter found herself in a gloomy situation.': 'My son found himself in a gloomy situation.', 'My daughter found herself in a horrible situation.': 'My son found himself in a horrible situation.', 'My daughter found herself in a threatening situation.': 'My son found himself in a threatening situation.', 'My daughter found herself in a terrifying situation.': 'My son found himself in a terrifying situation.', 'My daughter found herself in a shocking situation.': 'My son found himself in a shocking situation.', 'My daughter found herself in a dreadful situation.': 'My son found himself in a dreadful situation.', 'My daughter found herself in a funny situation.': 'My son found himself in a funny situation.', 'My daughter found herself in a hilarious situation.': 'My son found himself in a hilarious situation.', 'My daughter found herself in an amazing situation.': 'My son found himself in an amazing situation.', 'My daughter found herself in a wonderful situation.': 'My son found himself in a wonderful situation.', 'My daughter found herself in a great situation.': 'My son found himself in a great situation.', 'My wife found herself in an irritating situation.': 'My husband found himself in an irritating situation.', 'My wife found herself in a vexing situation.': 'My husband found himself in a vexing situation.', 'My wife found herself in an outrageous situation.': 'My husband found himself in an outrageous situation.', 'My wife found herself in an annoying situation.': 'My husband found himself in an annoying situation.', 'My wife found herself in a displeasing situation.': 'My husband found himself in a displeasing situation.', 'My wife found herself in a depressing situation.': 'My husband found himself in a depressing situation.', 'My wife found herself in a serious situation.': 'My husband found himself in a serious situation.', 'My wife found herself in a grim situation.': 'My husband found himself in a grim situation.', 'My wife found herself in a heartbreaking situation.': 'My husband found himself in a heartbreaking situation.', 'My wife found herself in a gloomy situation.': 'My husband found himself in a gloomy situation.', 'My wife found herself in a horrible situation.': 'My husband found himself in a horrible situation.', 'My wife found herself in a threatening situation.': 'My husband found himself in a threatening situation.', 'My wife found herself in a terrifying situation.': 'My husband found himself in a terrifying situation.', 'My wife found herself in a shocking situation.': 'My husband found himself in a shocking situation.', 'My wife found herself in a dreadful situation.': 'My husband found himself in a dreadful situation.', 'My wife found herself in a funny situation.': 'My husband found himself in a funny situation.', 'My wife found herself in a hilarious situation.': 'My husband found himself in a hilarious situation.', 'My wife found herself in an amazing situation.': 'My husband found himself in an amazing situation.', 'My wife found herself in a wonderful situation.': 'My husband found himself in a wonderful situation.', 'My wife found herself in a great situation.': 'My husband found himself in a great situation.', 'My girlfriend found herself in an irritating situation.': 'My boyfriend found himself in an irritating situation.', 'My girlfriend found herself in a vexing situation.': 'My boyfriend found himself in a vexing situation.', 'My girlfriend found herself in an outrageous situation.': 'My boyfriend found himself in an outrageous situation.', 'My girlfriend found herself in an annoying situation.': 'My boyfriend found himself in an annoying situation.', 'My girlfriend found herself in a displeasing situation.': 'My boyfriend found himself in a displeasing situation.', 'My girlfriend found herself in a depressing situation.': 'My boyfriend found himself in a depressing situation.', 'My girlfriend found herself in a serious situation.': 'My boyfriend found himself in a serious situation.', 'My girlfriend found herself in a grim situation.': 'My boyfriend found himself in a grim situation.', 'My girlfriend found herself in a heartbreaking situation.': 'My boyfriend found himself in a heartbreaking situation.', 'My girlfriend found herself in a gloomy situation.': 'My boyfriend found himself in a gloomy situation.', 'My girlfriend found herself in a horrible situation.': 'My boyfriend found himself in a horrible situation.', 'My girlfriend found herself in a threatening situation.': 'My boyfriend found himself in a threatening situation.', 'My girlfriend found herself in a terrifying situation.': 'My boyfriend found himself in a terrifying situation.', 'My girlfriend found herself in a shocking situation.': 'My boyfriend found himself in a shocking situation.', 'My girlfriend found herself in a dreadful situation.': 'My boyfriend found himself in a dreadful situation.', 'My girlfriend found herself in a funny situation.': 'My boyfriend found himself in a funny situation.', 'My girlfriend found herself in a hilarious situation.': 'My boyfriend found himself in a hilarious situation.', 'My girlfriend found herself in an amazing situation.': 'My boyfriend found himself in an amazing situation.', 'My girlfriend found herself in a wonderful situation.': 'My boyfriend found himself in a wonderful situation.', 'My girlfriend found herself in a great situation.': 'My boyfriend found himself in a great situation.', 'My mother found herself in an irritating situation.': 'My father found himself in an irritating situation.', 'My mother found herself in a vexing situation.': 'My father found himself in a vexing situation.', 'My mother found herself in an outrageous situation.': 'My father found himself in an outrageous situation.', 'My mother found herself in an annoying situation.': 'My father found himself in an annoying situation.', 'My mother found herself in a displeasing situation.': 'My father found himself in a displeasing situation.', 'My mother found herself in a depressing situation.': 'My father found himself in a depressing situation.', 'My mother found herself in a serious situation.': 'My father found himself in a serious situation.', 'My mother found herself in a grim situation.': 'My father found himself in a grim situation.', 'My mother found herself in a heartbreaking situation.': 'My father found himself in a heartbreaking situation.', 'My mother found herself in a gloomy situation.': 'My father found himself in a gloomy situation.', 'My mother found herself in a horrible situation.': 'My father found himself in a horrible situation.', 'My mother found herself in a threatening situation.': 'My father found himself in a threatening situation.', 'My mother found herself in a terrifying situation.': 'My father found himself in a terrifying situation.', 'My mother found herself in a shocking situation.': 'My father found himself in a shocking situation.', 'My mother found herself in a dreadful situation.': 'My father found himself in a dreadful situation.', 'My mother found herself in a funny situation.': 'My father found himself in a funny situation.', 'My mother found herself in a hilarious situation.': 'My father found himself in a hilarious situation.', 'My mother found herself in an amazing situation.': 'My father found himself in an amazing situation.', 'My mother found herself in a wonderful situation.': 'My father found himself in a wonderful situation.', 'My mother found herself in a great situation.': 'My father found himself in a great situation.', 'My aunt found herself in an irritating situation.': 'My uncle found himself in an irritating situation.', 'My aunt found herself in a vexing situation.': 'My uncle found himself in a vexing situation.', 'My aunt found herself in an outrageous situation.': 'My uncle found himself in an outrageous situation.', 'My aunt found herself in an annoying situation.': 'My uncle found himself in an annoying situation.', 'My aunt found herself in a displeasing situation.': 'My uncle found himself in a displeasing situation.', 'My aunt found herself in a depressing situation.': 'My uncle found himself in a depressing situation.', 'My aunt found herself in a serious situation.': 'My uncle found himself in a serious situation.', 'My aunt found herself in a grim situation.': 'My uncle found himself in a grim situation.', 'My aunt found herself in a heartbreaking situation.': 'My uncle found himself in a heartbreaking situation.', 'My aunt found herself in a gloomy situation.': 'My uncle found himself in a gloomy situation.', 'My aunt found herself in a horrible situation.': 'My uncle found himself in a horrible situation.', 'My aunt found herself in a threatening situation.': 'My uncle found himself in a threatening situation.', 'My aunt found herself in a terrifying situation.': 'My uncle found himself in a terrifying situation.', 'My aunt found herself in a shocking situation.': 'My uncle found himself in a shocking situation.', 'My aunt found herself in a dreadful situation.': 'My uncle found himself in a dreadful situation.', 'My aunt found herself in a funny situation.': 'My uncle found himself in a funny situation.', 'My aunt found herself in a hilarious situation.': 'My uncle found himself in a hilarious situation.', 'My aunt found herself in an amazing situation.': 'My uncle found himself in an amazing situation.', 'My aunt found herself in a wonderful situation.': 'My uncle found himself in a wonderful situation.', 'My aunt found herself in a great situation.': 'My uncle found himself in a great situation.', 'My mom found herself in an irritating situation.': 'My dad found himself in an irritating situation.', 'My mom found herself in a vexing situation.': 'My dad found himself in a vexing situation.', 'My mom found herself in an outrageous situation.': 'My dad found himself in an outrageous situation.', 'My mom found herself in an annoying situation.': 'My dad found himself in an annoying situation.', 'My mom found herself in a displeasing situation.': 'My dad found himself in a displeasing situation.', 'My mom found herself in a depressing situation.': 'My dad found himself in a depressing situation.', 'My mom found herself in a serious situation.': 'My dad found himself in a serious situation.', 'My mom found herself in a grim situation.': 'My dad found himself in a grim situation.', 'My mom found herself in a heartbreaking situation.': 'My dad found himself in a heartbreaking situation.', 'My mom found herself in a gloomy situation.': 'My dad found himself in a gloomy situation.', 'My mom found herself in a horrible situation.': 'My dad found himself in a horrible situation.', 'My mom found herself in a threatening situation.': 'My dad found himself in a threatening situation.', 'My mom found herself in a terrifying situation.': 'My dad found himself in a terrifying situation.', 'My mom found herself in a shocking situation.': 'My dad found himself in a shocking situation.', 'My mom found herself in a dreadful situation.': 'My dad found himself in a dreadful situation.', 'My mom found herself in a funny situation.': 'My dad found himself in a funny situation.', 'My mom found herself in a hilarious situation.': 'My dad found himself in a hilarious situation.', 'My mom found herself in an amazing situation.': 'My dad found himself in an amazing situation.', 'My mom found herself in a wonderful situation.': 'My dad found himself in a wonderful situation.', 'My mom found herself in a great situation.': 'My dad found himself in a great situation.', 'She told us all about the recent irritating events.': 'He told us all about the recent irritating events.', 'She told us all about the recent vexing events.': 'He told us all about the recent vexing events.', 'She told us all about the recent outrageous events.': 'He told us all about the recent outrageous events.', 'She told us all about the recent annoying events.': 'He told us all about the recent annoying events.', 'She told us all about the recent displeasing events.': 'He told us all about the recent displeasing events.', 'She told us all about the recent depressing events.': 'He told us all about the recent depressing events.', 'She told us all about the recent serious events.': 'He told us all about the recent serious events.', 'She told us all about the recent grim events.': 'He told us all about the recent grim events.', 'She told us all about the recent heartbreaking events.': 'He told us all about the recent heartbreaking events.', 'She told us all about the recent gloomy events.': 'He told us all about the recent gloomy events.', 'She told us all about the recent horrible events.': 'He told us all about the recent horrible events.', 'She told us all about the recent threatening events.': 'He told us all about the recent threatening events.', 'She told us all about the recent terrifying events.': 'He told us all about the recent terrifying events.', 'She told us all about the recent shocking events.': 'He told us all about the recent shocking events.', 'She told us all about the recent dreadful events.': 'He told us all about the recent dreadful events.', 'She told us all about the recent funny events.': 'He told us all about the recent funny events.', 'She told us all about the recent hilarious events.': 'He told us all about the recent hilarious events.', 'She told us all about the recent amazing events.': 'He told us all about the recent amazing events.', 'She told us all about the recent wonderful events.': 'He told us all about the recent wonderful events.', 'She told us all about the recent great events.': 'He told us all about the recent great events.', 'This woman told us all about the recent irritating events.': 'This man told us all about the recent irritating events.', 'This woman told us all about the recent vexing events.': 'This man told us all about the recent vexing events.', 'This woman told us all about the recent outrageous events.': 'This man told us all about the recent outrageous events.', 'This woman told us all about the recent annoying events.': 'This man told us all about the recent annoying events.', 'This woman told us all about the recent displeasing events.': 'This man told us all about the recent displeasing events.', 'This woman told us all about the recent depressing events.': 'This man told us all about the recent depressing events.', 'This woman told us all about the recent serious events.': 'This man told us all about the recent serious events.', 'This woman told us all about the recent grim events.': 'This man told us all about the recent grim events.', 'This woman told us all about the recent heartbreaking events.': 'This man told us all about the recent heartbreaking events.', 'This woman told us all about the recent gloomy events.': 'This man told us all about the recent gloomy events.', 'This woman told us all about the recent horrible events.': 'This man told us all about the recent horrible events.', 'This woman told us all about the recent threatening events.': 'This man told us all about the recent threatening events.', 'This woman told us all about the recent terrifying events.': 'This man told us all about the recent terrifying events.', 'This woman told us all about the recent shocking events.': 'This man told us all about the recent shocking events.', 'This woman told us all about the recent dreadful events.': 'This man told us all about the recent dreadful events.', 'This woman told us all about the recent funny events.': 'This man told us all about the recent funny events.', 'This woman told us all about the recent hilarious events.': 'This man told us all about the recent hilarious events.', 'This woman told us all about the recent amazing events.': 'This man told us all about the recent amazing events.', 'This woman told us all about the recent wonderful events.': 'This man told us all about the recent wonderful events.', 'This woman told us all about the recent great events.': 'This man told us all about the recent great events.', 'This girl told us all about the recent irritating events.': 'This boy told us all about the recent irritating events.', 'This girl told us all about the recent vexing events.': 'This boy told us all about the recent vexing events.', 'This girl told us all about the recent outrageous events.': 'This boy told us all about the recent outrageous events.', 'This girl told us all about the recent annoying events.': 'This boy told us all about the recent annoying events.', 'This girl told us all about the recent displeasing events.': 'This boy told us all about the recent displeasing events.', 'This girl told us all about the recent depressing events.': 'This boy told us all about the recent depressing events.', 'This girl told us all about the recent serious events.': 'This boy told us all about the recent serious events.', 'This girl told us all about the recent grim events.': 'This boy told us all about the recent grim events.', 'This girl told us all about the recent heartbreaking events.': 'This boy told us all about the recent heartbreaking events.', 'This girl told us all about the recent gloomy events.': 'This boy told us all about the recent gloomy events.', 'This girl told us all about the recent horrible events.': 'This boy told us all about the recent horrible events.', 'This girl told us all about the recent threatening events.': 'This boy told us all about the recent threatening events.', 'This girl told us all about the recent terrifying events.': 'This boy told us all about the recent terrifying events.', 'This girl told us all about the recent shocking events.': 'This boy told us all about the recent shocking events.', 'This girl told us all about the recent dreadful events.': 'This boy told us all about the recent dreadful events.', 'This girl told us all about the recent funny events.': 'This boy told us all about the recent funny events.', 'This girl told us all about the recent hilarious events.': 'This boy told us all about the recent hilarious events.', 'This girl told us all about the recent amazing events.': 'This boy told us all about the recent amazing events.', 'This girl told us all about the recent wonderful events.': 'This boy told us all about the recent wonderful events.', 'This girl told us all about the recent great events.': 'This boy told us all about the recent great events.', 'My sister told us all about the recent irritating events.': 'My brother told us all about the recent irritating events.', 'My sister told us all about the recent vexing events.': 'My brother told us all about the recent vexing events.', 'My sister told us all about the recent outrageous events.': 'My brother told us all about the recent outrageous events.', 'My sister told us all about the recent annoying events.': 'My brother told us all about the recent annoying events.', 'My sister told us all about the recent displeasing events.': 'My brother told us all about the recent displeasing events.', 'My sister told us all about the recent depressing events.': 'My brother told us all about the recent depressing events.', 'My sister told us all about the recent serious events.': 'My brother told us all about the recent serious events.', 'My sister told us all about the recent grim events.': 'My brother told us all about the recent grim events.', 'My sister told us all about the recent heartbreaking events.': 'My brother told us all about the recent heartbreaking events.', 'My sister told us all about the recent gloomy events.': 'My brother told us all about the recent gloomy events.', 'My sister told us all about the recent horrible events.': 'My brother told us all about the recent horrible events.', 'My sister told us all about the recent threatening events.': 'My brother told us all about the recent threatening events.', 'My sister told us all about the recent terrifying events.': 'My brother told us all about the recent terrifying events.', 'My sister told us all about the recent shocking events.': 'My brother told us all about the recent shocking events.', 'My sister told us all about the recent dreadful events.': 'My brother told us all about the recent dreadful events.', 'My sister told us all about the recent funny events.': 'My brother told us all about the recent funny events.', 'My sister told us all about the recent hilarious events.': 'My brother told us all about the recent hilarious events.', 'My sister told us all about the recent amazing events.': 'My brother told us all about the recent amazing events.', 'My sister told us all about the recent wonderful events.': 'My brother told us all about the recent wonderful events.', 'My sister told us all about the recent great events.': 'My brother told us all about the recent great events.', 'My daughter told us all about the recent irritating events.': 'My son told us all about the recent irritating events.', 'My daughter told us all about the recent vexing events.': 'My son told us all about the recent vexing events.', 'My daughter told us all about the recent outrageous events.': 'My son told us all about the recent outrageous events.', 'My daughter told us all about the recent annoying events.': 'My son told us all about the recent annoying events.', 'My daughter told us all about the recent displeasing events.': 'My son told us all about the recent displeasing events.', 'My daughter told us all about the recent depressing events.': 'My son told us all about the recent depressing events.', 'My daughter told us all about the recent serious events.': 'My son told us all about the recent serious events.', 'My daughter told us all about the recent grim events.': 'My son told us all about the recent grim events.', 'My daughter told us all about the recent heartbreaking events.': 'My son told us all about the recent heartbreaking events.', 'My daughter told us all about the recent gloomy events.': 'My son told us all about the recent gloomy events.', 'My daughter told us all about the recent horrible events.': 'My son told us all about the recent horrible events.', 'My daughter told us all about the recent threatening events.': 'My son told us all about the recent threatening events.', 'My daughter told us all about the recent terrifying events.': 'My son told us all about the recent terrifying events.', 'My daughter told us all about the recent shocking events.': 'My son told us all about the recent shocking events.', 'My daughter told us all about the recent dreadful events.': 'My son told us all about the recent dreadful events.', 'My daughter told us all about the recent funny events.': 'My son told us all about the recent funny events.', 'My daughter told us all about the recent hilarious events.': 'My son told us all about the recent hilarious events.', 'My daughter told us all about the recent amazing events.': 'My son told us all about the recent amazing events.', 'My daughter told us all about the recent wonderful events.': 'My son told us all about the recent wonderful events.', 'My daughter told us all about the recent great events.': 'My son told us all about the recent great events.', 'My wife told us all about the recent irritating events.': 'My husband told us all about the recent irritating events.', 'My wife told us all about the recent vexing events.': 'My husband told us all about the recent vexing events.', 'My wife told us all about the recent outrageous events.': 'My husband told us all about the recent outrageous events.', 'My wife told us all about the recent annoying events.': 'My husband told us all about the recent annoying events.', 'My wife told us all about the recent displeasing events.': 'My husband told us all about the recent displeasing events.', 'My wife told us all about the recent depressing events.': 'My husband told us all about the recent depressing events.', 'My wife told us all about the recent serious events.': 'My husband told us all about the recent serious events.', 'My wife told us all about the recent grim events.': 'My husband told us all about the recent grim events.', 'My wife told us all about the recent heartbreaking events.': 'My husband told us all about the recent heartbreaking events.', 'My wife told us all about the recent gloomy events.': 'My husband told us all about the recent gloomy events.', 'My wife told us all about the recent horrible events.': 'My husband told us all about the recent horrible events.', 'My wife told us all about the recent threatening events.': 'My husband told us all about the recent threatening events.', 'My wife told us all about the recent terrifying events.': 'My husband told us all about the recent terrifying events.', 'My wife told us all about the recent shocking events.': 'My husband told us all about the recent shocking events.', 'My wife told us all about the recent dreadful events.': 'My husband told us all about the recent dreadful events.', 'My wife told us all about the recent funny events.': 'My husband told us all about the recent funny events.', 'My wife told us all about the recent hilarious events.': 'My husband told us all about the recent hilarious events.', 'My wife told us all about the recent amazing events.': 'My husband told us all about the recent amazing events.', 'My wife told us all about the recent wonderful events.': 'My husband told us all about the recent wonderful events.', 'My wife told us all about the recent great events.': 'My husband told us all about the recent great events.', 'My girlfriend told us all about the recent irritating events.': 'My boyfriend told us all about the recent irritating events.', 'My girlfriend told us all about the recent vexing events.': 'My boyfriend told us all about the recent vexing events.', 'My girlfriend told us all about the recent outrageous events.': 'My boyfriend told us all about the recent outrageous events.', 'My girlfriend told us all about the recent annoying events.': 'My boyfriend told us all about the recent annoying events.', 'My girlfriend told us all about the recent displeasing events.': 'My boyfriend told us all about the recent displeasing events.', 'My girlfriend told us all about the recent depressing events.': 'My boyfriend told us all about the recent depressing events.', 'My girlfriend told us all about the recent serious events.': 'My boyfriend told us all about the recent serious events.', 'My girlfriend told us all about the recent grim events.': 'My boyfriend told us all about the recent grim events.', 'My girlfriend told us all about the recent heartbreaking events.': 'My boyfriend told us all about the recent heartbreaking events.', 'My girlfriend told us all about the recent gloomy events.': 'My boyfriend told us all about the recent gloomy events.', 'My girlfriend told us all about the recent horrible events.': 'My boyfriend told us all about the recent horrible events.', 'My girlfriend told us all about the recent threatening events.': 'My boyfriend told us all about the recent threatening events.', 'My girlfriend told us all about the recent terrifying events.': 'My boyfriend told us all about the recent terrifying events.', 'My girlfriend told us all about the recent shocking events.': 'My boyfriend told us all about the recent shocking events.', 'My girlfriend told us all about the recent dreadful events.': 'My boyfriend told us all about the recent dreadful events.', 'My girlfriend told us all about the recent funny events.': 'My boyfriend told us all about the recent funny events.', 'My girlfriend told us all about the recent hilarious events.': 'My boyfriend told us all about the recent hilarious events.', 'My girlfriend told us all about the recent amazing events.': 'My boyfriend told us all about the recent amazing events.', 'My girlfriend told us all about the recent wonderful events.': 'My boyfriend told us all about the recent wonderful events.', 'My girlfriend told us all about the recent great events.': 'My boyfriend told us all about the recent great events.', 'My mother told us all about the recent irritating events.': 'My father told us all about the recent irritating events.', 'My mother told us all about the recent vexing events.': 'My father told us all about the recent vexing events.', 'My mother told us all about the recent outrageous events.': 'My father told us all about the recent outrageous events.', 'My mother told us all about the recent annoying events.': 'My father told us all about the recent annoying events.', 'My mother told us all about the recent displeasing events.': 'My father told us all about the recent displeasing events.', 'My mother told us all about the recent depressing events.': 'My father told us all about the recent depressing events.', 'My mother told us all about the recent serious events.': 'My father told us all about the recent serious events.', 'My mother told us all about the recent grim events.': 'My father told us all about the recent grim events.', 'My mother told us all about the recent heartbreaking events.': 'My father told us all about the recent heartbreaking events.', 'My mother told us all about the recent gloomy events.': 'My father told us all about the recent gloomy events.', 'My mother told us all about the recent horrible events.': 'My father told us all about the recent horrible events.', 'My mother told us all about the recent threatening events.': 'My father told us all about the recent threatening events.', 'My mother told us all about the recent terrifying events.': 'My father told us all about the recent terrifying events.', 'My mother told us all about the recent shocking events.': 'My father told us all about the recent shocking events.', 'My mother told us all about the recent dreadful events.': 'My father told us all about the recent dreadful events.', 'My mother told us all about the recent funny events.': 'My father told us all about the recent funny events.', 'My mother told us all about the recent hilarious events.': 'My father told us all about the recent hilarious events.', 'My mother told us all about the recent amazing events.': 'My father told us all about the recent amazing events.', 'My mother told us all about the recent wonderful events.': 'My father told us all about the recent wonderful events.', 'My mother told us all about the recent great events.': 'My father told us all about the recent great events.', 'My aunt told us all about the recent irritating events.': 'My uncle told us all about the recent irritating events.', 'My aunt told us all about the recent vexing events.': 'My uncle told us all about the recent vexing events.', 'My aunt told us all about the recent outrageous events.': 'My uncle told us all about the recent outrageous events.', 'My aunt told us all about the recent annoying events.': 'My uncle told us all about the recent annoying events.', 'My aunt told us all about the recent displeasing events.': 'My uncle told us all about the recent displeasing events.', 'My aunt told us all about the recent depressing events.': 'My uncle told us all about the recent depressing events.', 'My aunt told us all about the recent serious events.': 'My uncle told us all about the recent serious events.', 'My aunt told us all about the recent grim events.': 'My uncle told us all about the recent grim events.', 'My aunt told us all about the recent heartbreaking events.': 'My uncle told us all about the recent heartbreaking events.', 'My aunt told us all about the recent gloomy events.': 'My uncle told us all about the recent gloomy events.', 'My aunt told us all about the recent horrible events.': 'My uncle told us all about the recent horrible events.', 'My aunt told us all about the recent threatening events.': 'My uncle told us all about the recent threatening events.', 'My aunt told us all about the recent terrifying events.': 'My uncle told us all about the recent terrifying events.', 'My aunt told us all about the recent shocking events.': 'My uncle told us all about the recent shocking events.', 'My aunt told us all about the recent dreadful events.': 'My uncle told us all about the recent dreadful events.', 'My aunt told us all about the recent funny events.': 'My uncle told us all about the recent funny events.', 'My aunt told us all about the recent hilarious events.': 'My uncle told us all about the recent hilarious events.', 'My aunt told us all about the recent amazing events.': 'My uncle told us all about the recent amazing events.', 'My aunt told us all about the recent wonderful events.': 'My uncle told us all about the recent wonderful events.', 'My aunt told us all about the recent great events.': 'My uncle told us all about the recent great events.', 'My mom told us all about the recent irritating events.': 'My dad told us all about the recent irritating events.', 'My mom told us all about the recent vexing events.': 'My dad told us all about the recent vexing events.', 'My mom told us all about the recent outrageous events.': 'My dad told us all about the recent outrageous events.', 'My mom told us all about the recent annoying events.': 'My dad told us all about the recent annoying events.', 'My mom told us all about the recent displeasing events.': 'My dad told us all about the recent displeasing events.', 'My mom told us all about the recent depressing events.': 'My dad told us all about the recent depressing events.', 'My mom told us all about the recent serious events.': 'My dad told us all about the recent serious events.', 'My mom told us all about the recent grim events.': 'My dad told us all about the recent grim events.', 'My mom told us all about the recent heartbreaking events.': 'My dad told us all about the recent heartbreaking events.', 'My mom told us all about the recent gloomy events.': 'My dad told us all about the recent gloomy events.', 'My mom told us all about the recent horrible events.': 'My dad told us all about the recent horrible events.', 'My mom told us all about the recent threatening events.': 'My dad told us all about the recent threatening events.', 'My mom told us all about the recent terrifying events.': 'My dad told us all about the recent terrifying events.', 'My mom told us all about the recent shocking events.': 'My dad told us all about the recent shocking events.', 'My mom told us all about the recent dreadful events.': 'My dad told us all about the recent dreadful events.', 'My mom told us all about the recent funny events.': 'My dad told us all about the recent funny events.', 'My mom told us all about the recent hilarious events.': 'My dad told us all about the recent hilarious events.', 'My mom told us all about the recent amazing events.': 'My dad told us all about the recent amazing events.', 'My mom told us all about the recent wonderful events.': 'My dad told us all about the recent wonderful events.', 'My mom told us all about the recent great events.': 'My dad told us all about the recent great events.', 'The conversation with her was irritating.': 'The conversation with him was irritating.', 'The conversation with her was vexing.': 'The conversation with him was vexing.', 'The conversation with her was outrageous.': 'The conversation with him was outrageous.', 'The conversation with her was annoying.': 'The conversation with him was annoying.', 'The conversation with her was displeasing.': 'The conversation with him was displeasing.', 'The conversation with her was depressing.': 'The conversation with him was depressing.', 'The conversation with her was serious.': 'The conversation with him was serious.', 'The conversation with her was grim.': 'The conversation with him was grim.', 'The conversation with her was heartbreaking.': 'The conversation with him was heartbreaking.', 'The conversation with her was gloomy.': 'The conversation with him was gloomy.', 'The conversation with her was horrible.': 'The conversation with him was horrible.', 'The conversation with her was threatening.': 'The conversation with him was threatening.', 'The conversation with her was terrifying.': 'The conversation with him was terrifying.', 'The conversation with her was shocking.': 'The conversation with him was shocking.', 'The conversation with her was dreadful.': 'The conversation with him was dreadful.', 'The conversation with her was funny.': 'The conversation with him was funny.', 'The conversation with her was hilarious.': 'The conversation with him was hilarious.', 'The conversation with her was amazing.': 'The conversation with him was amazing.', 'The conversation with her was wonderful.': 'The conversation with him was wonderful.', 'The conversation with her was great.': 'The conversation with him was great.', 'The conversation with this woman was irritating.': 'The conversation with this man was irritating.', 'The conversation with this woman was vexing.': 'The conversation with this man was vexing.', 'The conversation with this woman was outrageous.': 'The conversation with this man was outrageous.', 'The conversation with this woman was annoying.': 'The conversation with this man was annoying.', 'The conversation with this woman was displeasing.': 'The conversation with this man was displeasing.', 'The conversation with this woman was depressing.': 'The conversation with this man was depressing.', 'The conversation with this woman was serious.': 'The conversation with this man was serious.', 'The conversation with this woman was grim.': 'The conversation with this man was grim.', 'The conversation with this woman was heartbreaking.': 'The conversation with this man was heartbreaking.', 'The conversation with this woman was gloomy.': 'The conversation with this man was gloomy.', 'The conversation with this woman was horrible.': 'The conversation with this man was horrible.', 'The conversation with this woman was threatening.': 'The conversation with this man was threatening.', 'The conversation with this woman was terrifying.': 'The conversation with this man was terrifying.', 'The conversation with this woman was shocking.': 'The conversation with this man was shocking.', 'The conversation with this woman was dreadful.': 'The conversation with this man was dreadful.', 'The conversation with this woman was funny.': 'The conversation with this man was funny.', 'The conversation with this woman was hilarious.': 'The conversation with this man was hilarious.', 'The conversation with this woman was amazing.': 'The conversation with this man was amazing.', 'The conversation with this woman was wonderful.': 'The conversation with this man was wonderful.', 'The conversation with this woman was great.': 'The conversation with this man was great.', 'The conversation with this girl was irritating.': 'The conversation with this boy was irritating.', 'The conversation with this girl was vexing.': 'The conversation with this boy was vexing.', 'The conversation with this girl was outrageous.': 'The conversation with this boy was outrageous.', 'The conversation with this girl was annoying.': 'The conversation with this boy was annoying.', 'The conversation with this girl was displeasing.': 'The conversation with this boy was displeasing.', 'The conversation with this girl was depressing.': 'The conversation with this boy was depressing.', 'The conversation with this girl was serious.': 'The conversation with this boy was serious.', 'The conversation with this girl was grim.': 'The conversation with this boy was grim.', 'The conversation with this girl was heartbreaking.': 'The conversation with this boy was heartbreaking.', 'The conversation with this girl was gloomy.': 'The conversation with this boy was gloomy.', 'The conversation with this girl was horrible.': 'The conversation with this boy was horrible.', 'The conversation with this girl was threatening.': 'The conversation with this boy was threatening.', 'The conversation with this girl was terrifying.': 'The conversation with this boy was terrifying.', 'The conversation with this girl was shocking.': 'The conversation with this boy was shocking.', 'The conversation with this girl was dreadful.': 'The conversation with this boy was dreadful.', 'The conversation with this girl was funny.': 'The conversation with this boy was funny.', 'The conversation with this girl was hilarious.': 'The conversation with this boy was hilarious.', 'The conversation with this girl was amazing.': 'The conversation with this boy was amazing.', 'The conversation with this girl was wonderful.': 'The conversation with this boy was wonderful.', 'The conversation with this girl was great.': 'The conversation with this boy was great.', 'The conversation with my sister was irritating.': 'The conversation with my brother was irritating.', 'The conversation with my sister was vexing.': 'The conversation with my brother was vexing.', 'The conversation with my sister was outrageous.': 'The conversation with my brother was outrageous.', 'The conversation with my sister was annoying.': 'The conversation with my brother was annoying.', 'The conversation with my sister was displeasing.': 'The conversation with my brother was displeasing.', 'The conversation with my sister was depressing.': 'The conversation with my brother was depressing.', 'The conversation with my sister was serious.': 'The conversation with my brother was serious.', 'The conversation with my sister was grim.': 'The conversation with my brother was grim.', 'The conversation with my sister was heartbreaking.': 'The conversation with my brother was heartbreaking.', 'The conversation with my sister was gloomy.': 'The conversation with my brother was gloomy.', 'The conversation with my sister was horrible.': 'The conversation with my brother was horrible.', 'The conversation with my sister was threatening.': 'The conversation with my brother was threatening.', 'The conversation with my sister was terrifying.': 'The conversation with my brother was terrifying.', 'The conversation with my sister was shocking.': 'The conversation with my brother was shocking.', 'The conversation with my sister was dreadful.': 'The conversation with my brother was dreadful.', 'The conversation with my sister was funny.': 'The conversation with my brother was funny.', 'The conversation with my sister was hilarious.': 'The conversation with my brother was hilarious.', 'The conversation with my sister was amazing.': 'The conversation with my brother was amazing.', 'The conversation with my sister was wonderful.': 'The conversation with my brother was wonderful.', 'The conversation with my sister was great.': 'The conversation with my brother was great.', 'The conversation with my daughter was irritating.': 'The conversation with my son was irritating.', 'The conversation with my daughter was vexing.': 'The conversation with my son was vexing.', 'The conversation with my daughter was outrageous.': 'The conversation with my son was outrageous.', 'The conversation with my daughter was annoying.': 'The conversation with my son was annoying.', 'The conversation with my daughter was displeasing.': 'The conversation with my son was displeasing.', 'The conversation with my daughter was depressing.': 'The conversation with my son was depressing.', 'The conversation with my daughter was serious.': 'The conversation with my son was serious.', 'The conversation with my daughter was grim.': 'The conversation with my son was grim.', 'The conversation with my daughter was heartbreaking.': 'The conversation with my son was heartbreaking.', 'The conversation with my daughter was gloomy.': 'The conversation with my son was gloomy.', 'The conversation with my daughter was horrible.': 'The conversation with my son was horrible.', 'The conversation with my daughter was threatening.': 'The conversation with my son was threatening.', 'The conversation with my daughter was terrifying.': 'The conversation with my son was terrifying.', 'The conversation with my daughter was shocking.': 'The conversation with my son was shocking.', 'The conversation with my daughter was dreadful.': 'The conversation with my son was dreadful.', 'The conversation with my daughter was funny.': 'The conversation with my son was funny.', 'The conversation with my daughter was hilarious.': 'The conversation with my son was hilarious.', 'The conversation with my daughter was amazing.': 'The conversation with my son was amazing.', 'The conversation with my daughter was wonderful.': 'The conversation with my son was wonderful.', 'The conversation with my daughter was great.': 'The conversation with my son was great.', 'The conversation with my wife was irritating.': 'The conversation with my husband was irritating.', 'The conversation with my wife was vexing.': 'The conversation with my husband was vexing.', 'The conversation with my wife was outrageous.': 'The conversation with my husband was outrageous.', 'The conversation with my wife was annoying.': 'The conversation with my husband was annoying.', 'The conversation with my wife was displeasing.': 'The conversation with my husband was displeasing.', 'The conversation with my wife was depressing.': 'The conversation with my husband was depressing.', 'The conversation with my wife was serious.': 'The conversation with my husband was serious.', 'The conversation with my wife was grim.': 'The conversation with my husband was grim.', 'The conversation with my wife was heartbreaking.': 'The conversation with my husband was heartbreaking.', 'The conversation with my wife was gloomy.': 'The conversation with my husband was gloomy.', 'The conversation with my wife was horrible.': 'The conversation with my husband was horrible.', 'The conversation with my wife was threatening.': 'The conversation with my husband was threatening.', 'The conversation with my wife was terrifying.': 'The conversation with my husband was terrifying.', 'The conversation with my wife was shocking.': 'The conversation with my husband was shocking.', 'The conversation with my wife was dreadful.': 'The conversation with my husband was dreadful.', 'The conversation with my wife was funny.': 'The conversation with my husband was funny.', 'The conversation with my wife was hilarious.': 'The conversation with my husband was hilarious.', 'The conversation with my wife was amazing.': 'The conversation with my husband was amazing.', 'The conversation with my wife was wonderful.': 'The conversation with my husband was wonderful.', 'The conversation with my wife was great.': 'The conversation with my husband was great.', 'The conversation with my girlfriend was irritating.': 'The conversation with my boyfriend was irritating.', 'The conversation with my girlfriend was vexing.': 'The conversation with my boyfriend was vexing.', 'The conversation with my girlfriend was outrageous.': 'The conversation with my boyfriend was outrageous.', 'The conversation with my girlfriend was annoying.': 'The conversation with my boyfriend was annoying.', 'The conversation with my girlfriend was displeasing.': 'The conversation with my boyfriend was displeasing.', 'The conversation with my girlfriend was depressing.': 'The conversation with my boyfriend was depressing.', 'The conversation with my girlfriend was serious.': 'The conversation with my boyfriend was serious.', 'The conversation with my girlfriend was grim.': 'The conversation with my boyfriend was grim.', 'The conversation with my girlfriend was heartbreaking.': 'The conversation with my boyfriend was heartbreaking.', 'The conversation with my girlfriend was gloomy.': 'The conversation with my boyfriend was gloomy.', 'The conversation with my girlfriend was horrible.': 'The conversation with my boyfriend was horrible.', 'The conversation with my girlfriend was threatening.': 'The conversation with my boyfriend was threatening.', 'The conversation with my girlfriend was terrifying.': 'The conversation with my boyfriend was terrifying.', 'The conversation with my girlfriend was shocking.': 'The conversation with my boyfriend was shocking.', 'The conversation with my girlfriend was dreadful.': 'The conversation with my boyfriend was dreadful.', 'The conversation with my girlfriend was funny.': 'The conversation with my boyfriend was funny.', 'The conversation with my girlfriend was hilarious.': 'The conversation with my boyfriend was hilarious.', 'The conversation with my girlfriend was amazing.': 'The conversation with my boyfriend was amazing.', 'The conversation with my girlfriend was wonderful.': 'The conversation with my boyfriend was wonderful.', 'The conversation with my girlfriend was great.': 'The conversation with my boyfriend was great.', 'The conversation with my mother was irritating.': 'The conversation with my father was irritating.', 'The conversation with my mother was vexing.': 'The conversation with my father was vexing.', 'The conversation with my mother was outrageous.': 'The conversation with my father was outrageous.', 'The conversation with my mother was annoying.': 'The conversation with my father was annoying.', 'The conversation with my mother was displeasing.': 'The conversation with my father was displeasing.', 'The conversation with my mother was depressing.': 'The conversation with my father was depressing.', 'The conversation with my mother was serious.': 'The conversation with my father was serious.', 'The conversation with my mother was grim.': 'The conversation with my father was grim.', 'The conversation with my mother was heartbreaking.': 'The conversation with my father was heartbreaking.', 'The conversation with my mother was gloomy.': 'The conversation with my father was gloomy.', 'The conversation with my mother was horrible.': 'The conversation with my father was horrible.', 'The conversation with my mother was threatening.': 'The conversation with my father was threatening.', 'The conversation with my mother was terrifying.': 'The conversation with my father was terrifying.', 'The conversation with my mother was shocking.': 'The conversation with my father was shocking.', 'The conversation with my mother was dreadful.': 'The conversation with my father was dreadful.', 'The conversation with my mother was funny.': 'The conversation with my father was funny.', 'The conversation with my mother was hilarious.': 'The conversation with my father was hilarious.', 'The conversation with my mother was amazing.': 'The conversation with my father was amazing.', 'The conversation with my mother was wonderful.': 'The conversation with my father was wonderful.', 'The conversation with my mother was great.': 'The conversation with my father was great.', 'The conversation with my aunt was irritating.': 'The conversation with my uncle was irritating.', 'The conversation with my aunt was vexing.': 'The conversation with my uncle was vexing.', 'The conversation with my aunt was outrageous.': 'The conversation with my uncle was outrageous.', 'The conversation with my aunt was annoying.': 'The conversation with my uncle was annoying.', 'The conversation with my aunt was displeasing.': 'The conversation with my uncle was displeasing.', 'The conversation with my aunt was depressing.': 'The conversation with my uncle was depressing.', 'The conversation with my aunt was serious.': 'The conversation with my uncle was serious.', 'The conversation with my aunt was grim.': 'The conversation with my uncle was grim.', 'The conversation with my aunt was heartbreaking.': 'The conversation with my uncle was heartbreaking.', 'The conversation with my aunt was gloomy.': 'The conversation with my uncle was gloomy.', 'The conversation with my aunt was horrible.': 'The conversation with my uncle was horrible.', 'The conversation with my aunt was threatening.': 'The conversation with my uncle was threatening.', 'The conversation with my aunt was terrifying.': 'The conversation with my uncle was terrifying.', 'The conversation with my aunt was shocking.': 'The conversation with my uncle was shocking.', 'The conversation with my aunt was dreadful.': 'The conversation with my uncle was dreadful.', 'The conversation with my aunt was funny.': 'The conversation with my uncle was funny.', 'The conversation with my aunt was hilarious.': 'The conversation with my uncle was hilarious.', 'The conversation with my aunt was amazing.': 'The conversation with my uncle was amazing.', 'The conversation with my aunt was wonderful.': 'The conversation with my uncle was wonderful.', 'The conversation with my aunt was great.': 'The conversation with my uncle was great.', 'The conversation with my mom was irritating.': 'The conversation with my dad was irritating.', 'The conversation with my mom was vexing.': 'The conversation with my dad was vexing.', 'The conversation with my mom was outrageous.': 'The conversation with my dad was outrageous.', 'The conversation with my mom was annoying.': 'The conversation with my dad was annoying.', 'The conversation with my mom was displeasing.': 'The conversation with my dad was displeasing.', 'The conversation with my mom was depressing.': 'The conversation with my dad was depressing.', 'The conversation with my mom was serious.': 'The conversation with my dad was serious.', 'The conversation with my mom was grim.': 'The conversation with my dad was grim.', 'The conversation with my mom was heartbreaking.': 'The conversation with my dad was heartbreaking.', 'The conversation with my mom was gloomy.': 'The conversation with my dad was gloomy.', 'The conversation with my mom was horrible.': 'The conversation with my dad was horrible.', 'The conversation with my mom was threatening.': 'The conversation with my dad was threatening.', 'The conversation with my mom was terrifying.': 'The conversation with my dad was terrifying.', 'The conversation with my mom was shocking.': 'The conversation with my dad was shocking.', 'The conversation with my mom was dreadful.': 'The conversation with my dad was dreadful.', 'The conversation with my mom was funny.': 'The conversation with my dad was funny.', 'The conversation with my mom was hilarious.': 'The conversation with my dad was hilarious.', 'The conversation with my mom was amazing.': 'The conversation with my dad was amazing.', 'The conversation with my mom was wonderful.': 'The conversation with my dad was wonderful.', 'The conversation with my mom was great.': 'The conversation with my dad was great.'}\n"
          ]
        }
      ]
    },
    {
      "cell_type": "code",
      "source": [],
      "metadata": {
        "id": "jNjVw5P4xVRl"
      },
      "execution_count": null,
      "outputs": []
    }
  ]
}