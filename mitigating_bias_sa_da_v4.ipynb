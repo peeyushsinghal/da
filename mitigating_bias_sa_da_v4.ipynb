{
  "nbformat": 4,
  "nbformat_minor": 0,
  "metadata": {
    "colab": {
      "provenance": [],
      "collapsed_sections": [],
      "toc_visible": true,
      "authorship_tag": "ABX9TyOM7bKhzUtncldb7IIyT6nP",
      "include_colab_link": true
    },
    "kernelspec": {
      "name": "python3",
      "display_name": "Python 3"
    },
    "language_info": {
      "name": "python"
    },
    "gpuClass": "standard",
    "accelerator": "GPU"
  },
  "cells": [
    {
      "cell_type": "markdown",
      "metadata": {
        "id": "view-in-github",
        "colab_type": "text"
      },
      "source": [
        "<a href=\"https://colab.research.google.com/github/peeyushsinghal/da/blob/main/mitigating_bias_sa_da_v4.ipynb\" target=\"_parent\"><img src=\"https://colab.research.google.com/assets/colab-badge.svg\" alt=\"Open In Colab\"/></a>"
      ]
    },
    {
      "cell_type": "markdown",
      "source": [
        "# Mitigating bias in sentiment analysis using domain adaptation"
      ],
      "metadata": {
        "id": "smhY2FyQoMJY"
      }
    },
    {
      "cell_type": "code",
      "source": [
        "! pip install torchtext==0.10.0 --quiet # DOWNGRADE YOUR TORCHTEXT\n",
        "! pip install ekphrasis --quiet # library to pre process twitter data\n",
        "! pip install emoji --upgrade --quiet #library to deal with emoji data\n"
      ],
      "metadata": {
        "colab": {
          "base_uri": "https://localhost:8080/"
        },
        "id": "RS_tIhlS2jzV",
        "outputId": "f4561178-29cb-48a8-9556-ceb7280f382b"
      },
      "execution_count": 3,
      "outputs": [
        {
          "output_type": "stream",
          "name": "stdout",
          "text": [
            "\u001b[K     |████████████████████████████████| 7.6 MB 10.5 MB/s \n",
            "\u001b[K     |████████████████████████████████| 831.4 MB 2.7 kB/s \n",
            "\u001b[31mERROR: pip's dependency resolver does not currently take into account all the packages that are installed. This behaviour is the source of the following dependency conflicts.\n",
            "torchvision 0.13.1+cu113 requires torch==1.12.1, but you have torch 1.9.0 which is incompatible.\n",
            "torchaudio 0.12.1+cu113 requires torch==1.12.1, but you have torch 1.9.0 which is incompatible.\u001b[0m\n",
            "\u001b[K     |████████████████████████████████| 83 kB 2.5 MB/s \n",
            "\u001b[K     |████████████████████████████████| 45 kB 1.1 MB/s \n",
            "\u001b[K     |████████████████████████████████| 53 kB 1.9 MB/s \n",
            "\u001b[K     |████████████████████████████████| 240 kB 36.8 MB/s \n",
            "\u001b[?25h  Building wheel for emoji (setup.py) ... \u001b[?25l\u001b[?25hdone\n"
          ]
        }
      ]
    },
    {
      "cell_type": "code",
      "source": [
        "## Import statements\n",
        "import pandas as pd\n",
        "import os\n",
        "import torch\n",
        "from torch.utils.data import Dataset, DataLoader\n",
        "from torchtext.legacy.data import Dataset, Field, TabularDataset, BucketIterator\n",
        "from torchtext.vocab import GloVe\n",
        "# import torchtext.functional as TTF\n",
        "import numpy as np\n",
        "from ekphrasis.classes.preprocessor import TextPreProcessor\n",
        "from ekphrasis.classes.tokenizer import SocialTokenizer\n",
        "from ekphrasis.dicts.emoticons import emoticons\n",
        "import emoji\n",
        "from torchtext.legacy.vocab import Vectors\n",
        "from tqdm import tqdm\n",
        "import random\n",
        "import torch.optim as optim\n",
        "# import json"
      ],
      "metadata": {
        "id": "ObCLSMyRohfP"
      },
      "execution_count": 4,
      "outputs": []
    },
    {
      "cell_type": "code",
      "source": [
        "# checking device\n",
        "DEVICE = torch.device(\"cuda\" if torch.cuda.is_available() else \"cpu\")\n",
        "print(\"Running on:{}\".format(DEVICE))"
      ],
      "metadata": {
        "colab": {
          "base_uri": "https://localhost:8080/"
        },
        "id": "lzQzb_SFoqdX",
        "outputId": "349d9a74-9a06-412d-ac1f-024f4295b975"
      },
      "execution_count": 5,
      "outputs": [
        {
          "output_type": "stream",
          "name": "stdout",
          "text": [
            "Running on:cuda\n"
          ]
        }
      ]
    },
    {
      "cell_type": "markdown",
      "source": [
        "## Data loading"
      ],
      "metadata": {
        "id": "xjIR3OrQoSEQ"
      }
    },
    {
      "cell_type": "code",
      "source": [
        "#Mounting google drive\n",
        "from google.colab import drive\n",
        "drive.mount('/content/drive', force_remount=True)"
      ],
      "metadata": {
        "colab": {
          "base_uri": "https://localhost:8080/"
        },
        "id": "6rI_zEuloY4U",
        "outputId": "394d4358-6dd0-42e5-e6b7-c73e7501fbc0"
      },
      "execution_count": 6,
      "outputs": [
        {
          "output_type": "stream",
          "name": "stdout",
          "text": [
            "Mounted at /content/drive\n"
          ]
        }
      ]
    },
    {
      "cell_type": "markdown",
      "source": [
        "## Data Configuration"
      ],
      "metadata": {
        "id": "o_kVI7furv8T"
      }
    },
    {
      "cell_type": "code",
      "source": [
        "BASE_PATH = '/content/drive/MyDrive/semeval-2018'\n",
        "DATA_DIR = os.path.join(BASE_PATH,'datasets')\n",
        "MODEL_DIR = os.path.join(BASE_PATH,'models')\n",
        "REF_DIR = os.path.join(BASE_PATH,'reference')\n",
        "\n",
        "if not os.path.exists(MODEL_DIR):\n",
        "  os.makedirs(MODEL_DIR)\n",
        "  print(\"The new directory is created!\")\n",
        "\n",
        "domain_source = 0.0\n",
        "domain_target = 1.0"
      ],
      "metadata": {
        "id": "052h66kcr6KV"
      },
      "execution_count": 7,
      "outputs": []
    },
    {
      "cell_type": "code",
      "source": [
        "class TASK1(object):\n",
        "  \n",
        "    EI_reg = {\n",
        "        'anger': {\n",
        "            'train': os.path.join(\n",
        "                DATA_DIR, 'task1/EI-reg/training/EI-reg-En-anger-train.txt'),\n",
        "            'dev': os.path.join(\n",
        "                DATA_DIR, 'task1/EI-reg/development/2018-EI-reg-En-anger-dev.txt'),\n",
        "            'gold': os.path.join(\n",
        "                DATA_DIR, 'task1/EI-reg/test-gold/2018-EI-reg-En-anger-test-gold.txt')\n",
        "                },\n",
        "        'joy': {\n",
        "                'train': os.path.join(\n",
        "                    DATA_DIR, 'task1/EI-reg/training/EI-reg-En-joy-train.txt'),\n",
        "                'dev': os.path.join(\n",
        "                    DATA_DIR, 'task1/EI-reg/development/2018-EI-reg-En-joy-dev.txt'),\n",
        "                'gold': os.path.join(\n",
        "                    DATA_DIR, 'task1/EI-reg/test-gold/2018-EI-reg-En-joy-test-gold.txt')\n",
        "                    }\n",
        "        }\n",
        "\n",
        "    # V_reg = {\n",
        "    #     'train': os.path.join(\n",
        "    #         DATA_DIR, 'task1/V-reg/2018-Valence-reg-En-train.txt'),\n",
        "    #     'dev': os.path.join(\n",
        "    #         DATA_DIR, 'task1/V-reg/2018-Valence-reg-En-dev.txt'),\n",
        "    #     'gold': os.path.join(\n",
        "    #         DATA_DIR, 'task1/V-reg/2018-Valence-reg-En-test-gold.txt')\n",
        "    #          }\n",
        "\n",
        "    EEC = {\n",
        "        'eec': os.path.join(\n",
        "            DATA_DIR, 'task1/Equity-Evaluation-Corpus/Equity-Evaluation-Corpus.csv')\n",
        "             }"
      ],
      "metadata": {
        "id": "qn0ixH3-sC1y"
      },
      "execution_count": 8,
      "outputs": []
    },
    {
      "cell_type": "markdown",
      "source": [
        "## Source Data\n",
        "Parsing Emotion and Valence regression data : `format [ID\tTweet\tAffect Dimension\tIntensity Score]`"
      ],
      "metadata": {
        "id": "Gvy12RtIsqyE"
      }
    },
    {
      "cell_type": "code",
      "source": [
        "def parse_reg(data_file, label_format='tuple'):#->  pd.DataFrame:\n",
        "    \"\"\"\n",
        "    This is for datasets for the EI-reg and V-reg English tasks \n",
        "    Returns:\n",
        "        df: dataframe with columns in the first row of file [ID-Tweet-Affect Dimension-Intensity Score]\n",
        "    \"\"\"\n",
        "    with open(data_file, 'r') as fd:\n",
        "      data = [l.strip().split('\\t') for l in fd.readlines()]\n",
        "    \n",
        "    # print(data)\n",
        "    df = pd.DataFrame (data[1:],columns=data[0])\n",
        "    csv_file_name = (data_file.split(\"/\")[-1]).split('.')[0]+\".csv\"\n",
        "    csv_file = df.to_csv(str(csv_file_name))\n",
        "    # df['domain'] = domain_source\n",
        "    return csv_file_name\n",
        "    # return df"
      ],
      "metadata": {
        "id": "Df43LU3ztDAk"
      },
      "execution_count": 9,
      "outputs": []
    },
    {
      "cell_type": "code",
      "source": [
        "parse_reg(os.path.join(DATA_DIR, 'task1/EI-reg/training/EI-reg-En-joy-train.txt'))"
      ],
      "metadata": {
        "colab": {
          "base_uri": "https://localhost:8080/",
          "height": 36
        },
        "id": "K784ApxTavkE",
        "outputId": "5d7ff138-ee35-4f25-e45f-470d475d6790"
      },
      "execution_count": 10,
      "outputs": [
        {
          "output_type": "execute_result",
          "data": {
            "text/plain": [
              "'EI-reg-En-joy-train.csv'"
            ],
            "application/vnd.google.colaboratory.intrinsic+json": {
              "type": "string"
            }
          },
          "metadata": {},
          "execution_count": 10
        }
      ]
    },
    {
      "cell_type": "markdown",
      "source": [
        "## Source Parser\n",
        "Generic Source Data Parser"
      ],
      "metadata": {
        "id": "VTmAiHnBZBKF"
      }
    },
    {
      "cell_type": "code",
      "source": [
        "def parse_csv(task, dataset, emotion='anger'):\n",
        "    if task == 'EI-reg':\n",
        "        data_train = TASK1.EI_reg[emotion][dataset]\n",
        "        csv_file_name = parse_reg(data_train)\n",
        "        return csv_file_name\n",
        "        # df[df.columns[-1]] = df[df.columns[-1]].astype(float)\n",
        "        # return df\n",
        "    # elif task == 'V-reg':\n",
        "    #     data_train = TASK1.V_reg[dataset]\n",
        "    #     df = parse_reg(data_train)\n",
        "    #     df[df.columns[-1]] = df[df.columns[-1]].astype(float)\n",
        "    #     return df\n",
        "    else:\n",
        "        return None"
      ],
      "metadata": {
        "id": "e8eUaJgB0UhP"
      },
      "execution_count": 11,
      "outputs": []
    },
    {
      "cell_type": "code",
      "source": [
        "file_EI_reg_train = parse_csv('EI-reg','train','joy')\n",
        "file_EI_reg_train\n",
        "\n",
        "file_EI_reg_val = parse_csv('EI-reg','dev','joy')\n",
        "print(file_EI_reg_val)\n",
        "\n",
        "file_EI_reg_test = parse_csv('EI-reg','gold','joy')\n",
        "(file_EI_reg_test)"
      ],
      "metadata": {
        "colab": {
          "base_uri": "https://localhost:8080/",
          "height": 53
        },
        "id": "ilCPodjN0n1e",
        "outputId": "8e8a87be-7993-4007-f224-2f905d8ce16c"
      },
      "execution_count": 12,
      "outputs": [
        {
          "output_type": "stream",
          "name": "stdout",
          "text": [
            "2018-EI-reg-En-joy-dev.csv\n"
          ]
        },
        {
          "output_type": "execute_result",
          "data": {
            "text/plain": [
              "'2018-EI-reg-En-joy-test-gold.csv'"
            ],
            "application/vnd.google.colaboratory.intrinsic+json": {
              "type": "string"
            }
          },
          "metadata": {},
          "execution_count": 12
        }
      ]
    },
    {
      "cell_type": "markdown",
      "source": [
        "## Preprocess tweets"
      ],
      "metadata": {
        "id": "9IO21vV_2wQk"
      }
    },
    {
      "cell_type": "code",
      "source": [
        "# reference : https://github.com/cbaziotis/ekphrasis\n",
        "\n",
        "\n",
        "text_processor = TextPreProcessor(\n",
        "    # terms that will be normalized\n",
        "    normalize=['url', 'email', 'percent', 'money', 'phone', 'user',\n",
        "        'time', 'url', 'date', 'number'],\n",
        "    # terms that will be annotated\n",
        "    annotate={\"hashtag\", \"allcaps\", \"elongated\", \"repeated\",\n",
        "        'emphasis', 'censored'},\n",
        "    fix_html=True,  # fix HTML tokens\n",
        "    \n",
        "    # corpus from which the word statistics are going to be used \n",
        "    # for word segmentation \n",
        "    segmenter=\"twitter\", \n",
        "    \n",
        "    # corpus from which the word statistics are going to be used \n",
        "    # for spell correction\n",
        "    corrector=\"twitter\", \n",
        "    \n",
        "    unpack_hashtags=True,  # perform word segmentation on hashtags\n",
        "    unpack_contractions=True,  # Unpack contractions (can't -> can not)\n",
        "    spell_correct_elong=False,  # spell correction for elongated words\n",
        "    \n",
        "    # select a tokenizer. You can use SocialTokenizer, or pass your own\n",
        "    # the tokenizer, should take as input a string and return a list of tokens\n",
        "    tokenizer=SocialTokenizer(lowercase=True).tokenize,\n",
        "    \n",
        "    # list of dictionaries, for replacing tokens extracted from the text,\n",
        "    # with other expressions. You can pass more than one dictionaries.\n",
        "    dicts=[emoticons]\n",
        ")"
      ],
      "metadata": {
        "colab": {
          "base_uri": "https://localhost:8080/"
        },
        "id": "tI6dZ6hY009m",
        "outputId": "b0b03705-baec-4673-fb50-02364fc998f2"
      },
      "execution_count": 13,
      "outputs": [
        {
          "output_type": "stream",
          "name": "stderr",
          "text": [
            "/usr/local/lib/python3.7/dist-packages/ekphrasis/classes/tokenizer.py:225: FutureWarning: Possible nested set at position 2190\n",
            "  self.tok = re.compile(r\"({})\".format(\"|\".join(pipeline)))\n"
          ]
        },
        {
          "output_type": "stream",
          "name": "stdout",
          "text": [
            "Word statistics files not found!\n",
            "Downloading... done!\n",
            "Unpacking... done!\n",
            "Reading twitter - 1grams ...\n",
            "generating cache file for faster loading...\n",
            "reading ngrams /root/.ekphrasis/stats/twitter/counts_1grams.txt\n",
            "Reading twitter - 2grams ...\n",
            "generating cache file for faster loading...\n",
            "reading ngrams /root/.ekphrasis/stats/twitter/counts_2grams.txt\n",
            "Reading twitter - 1grams ...\n"
          ]
        },
        {
          "output_type": "stream",
          "name": "stderr",
          "text": [
            "/usr/local/lib/python3.7/dist-packages/ekphrasis/classes/exmanager.py:14: FutureWarning: Possible nested set at position 42\n",
            "  regexes = {k.lower(): re.compile(self.expressions[k]) for k, v in\n"
          ]
        }
      ]
    },
    {
      "cell_type": "code",
      "source": [
        "# #### Example checks of pre-processing\n",
        "# sentences = [\n",
        "#     \"CANT WAIT for the new season of #TwinPeaks ＼(^o^)／!!! #davidlynch #tvseries :)))\",\n",
        "#     \"I saw the new #johndoe movie and it suuuuucks!!! WAISTED $10... #badmovies :/\",\n",
        "#     \"@SentimentSymp:  can't wait for the Nov 9 #Sentiment talks!  YAAAAAAY !!! :-D http://sentimentsymposium.com/.\",\n",
        "#     \"@MGBarbieri @SpalkTalk a@b.com And just saw your LinkedIn comment after I sent this! Thanks for the message :) 😀\",\n",
        "#     \"💙💛🏆 @GeorgeePitman Young Player of The Season 🏆💛💙 #irony #actuallyseventy\"\n",
        "# ]\n",
        "\n",
        "# for s in sentences:\n",
        "#     print(\" \".join(text_processor.pre_process_doc(s)))\n",
        "# # print ([text_processor.pre_process_doc(s) for s in sentences])"
      ],
      "metadata": {
        "id": "i8ixRElK29DM"
      },
      "execution_count": 14,
      "outputs": []
    },
    {
      "cell_type": "code",
      "source": [
        "def preprocess_tweet(tweet): \n",
        "  tweet_processed = text_processor.pre_process_doc(tweet)\n",
        "  # print (tweet_processed)\n",
        "  final_list =[]\n",
        "  for index, tweet in enumerate(tweet_processed):\n",
        "      final_list.append(emoji.demojize(tweet, language = 'en'))\n",
        "  \n",
        "  # print(df)\n",
        "  return final_list"
      ],
      "metadata": {
        "id": "0CNdYx083SRU"
      },
      "execution_count": 15,
      "outputs": []
    },
    {
      "cell_type": "code",
      "source": [
        "# #### Example checks of pre-processing\n",
        "# sentences = [\n",
        "#     \"CANT WAIT for the new season of #TwinPeaks ＼(^o^)／!!! #davidlynch #tvseries :)))\",\n",
        "#     \"I saw the new #johndoe movie and it suuuuucks!!! WAISTED $10... #badmovies :/\",\n",
        "#     \"@SentimentSymp:  can't wait for the Nov 9 #Sentiment talks!  YAAAAAAY !!! :-D http://sentimentsymposium.com/.\",\n",
        "#     \"@MGBarbieri @SpalkTalk a@b.com And just saw your LinkedIn comment after I sent this! Thanks for the message :) 😀\",\n",
        "#     \"💙💛🏆 @GeorgeePitman Young Player of The Season 🏆💛💙 #irony #actuallyseventy\"\n",
        "# ]\n",
        "\n",
        "# for s in sentences:\n",
        "#   print(preprocess_tweet(s))\n",
        "#   # print(\" \".join(preprocess_tweet(s)))"
      ],
      "metadata": {
        "id": "WU-Ap0fS4Xu8"
      },
      "execution_count": 16,
      "outputs": []
    },
    {
      "cell_type": "markdown",
      "source": [
        "## TorchText Treatment"
      ],
      "metadata": {
        "id": "x4MCSent0MSu"
      }
    },
    {
      "cell_type": "code",
      "source": [
        "MAX_SIZE = 50\n",
        "field_tweet = Field(sequential=True, use_vocab = True, tokenize = preprocess_tweet, fix_length = MAX_SIZE, batch_first = True)\n",
        "# field_tweet = Field(sequential=True, use_vocab = False, tokenize = preprocess_tweet)\n",
        "\n",
        "field_intensity = Field(sequential= False, \n",
        "                        dtype = torch.float,\n",
        "                        use_vocab = False \n",
        "                        )"
      ],
      "metadata": {
        "id": "kbzqLLrz49I7"
      },
      "execution_count": 17,
      "outputs": []
    },
    {
      "cell_type": "code",
      "source": [
        "fields = {\n",
        "    'Tweet':('tweet', field_tweet ), #\n",
        "    'Intensity Score': ('intensity',field_intensity) # Intensity Score is name of the dataset column, field_intensity is how we have defined the field, intensity is the name of the variable going fwd\n",
        "    }"
      ],
      "metadata": {
        "id": "XuInxrUt57rB"
      },
      "execution_count": 18,
      "outputs": []
    },
    {
      "cell_type": "code",
      "source": [
        "train_data, valid_data, test_data = TabularDataset.splits( path = './', \n",
        "                                              train = file_EI_reg_train,\n",
        "                                              validation = file_EI_reg_val, \n",
        "                                              test = file_EI_reg_test,\n",
        "                                              format = 'csv',\n",
        "                                              fields = fields\n",
        "                                          )"
      ],
      "metadata": {
        "id": "w8XrMJMu7jUa"
      },
      "execution_count": 19,
      "outputs": []
    },
    {
      "cell_type": "code",
      "source": [
        "print(train_data[0].__dict__.keys())"
      ],
      "metadata": {
        "colab": {
          "base_uri": "https://localhost:8080/"
        },
        "id": "1rn6sv6QAuf1",
        "outputId": "6ab6da9a-1502-4955-9b35-7a5680ede3ca"
      },
      "execution_count": 20,
      "outputs": [
        {
          "output_type": "stream",
          "name": "stdout",
          "text": [
            "dict_keys(['tweet', 'intensity'])\n"
          ]
        }
      ]
    },
    {
      "cell_type": "code",
      "source": [
        "print(valid_data[0].__dict__.values())"
      ],
      "metadata": {
        "colab": {
          "base_uri": "https://localhost:8080/"
        },
        "id": "A5mLNElnBiQb",
        "outputId": "bb62a9d9-3387-4319-e33c-e6531a36d130"
      },
      "execution_count": 21,
      "outputs": [
        {
          "output_type": "stream",
          "name": "stdout",
          "text": [
            "dict_values([['<user>', 'oh', '!', 'that', 'actually', 'was', 'my', 'first', 'guess', 'but', '.', '<repeated>', 'i', 'thought', 'he', 'was', 'too', 'dark', 'for', 'an', 'irish', 'man', 'from', '<allcaps>', 'bce', '</allcaps>', '.', 'thanks', 'for', 'clearing', 'it', 'up', '<laugh>'], '0.470'])\n"
          ]
        }
      ]
    },
    {
      "cell_type": "code",
      "source": [
        "print((train_data[2].__dict__.values()))"
      ],
      "metadata": {
        "colab": {
          "base_uri": "https://localhost:8080/"
        },
        "id": "Wz04CfznBp3V",
        "outputId": "ac69b947-eda0-4d26-de20-da87aa8cd02e"
      },
      "execution_count": 22,
      "outputs": [
        {
          "output_type": "stream",
          "name": "stdout",
          "text": [
            "dict_values([['positive', '<hashtag>', 'psychology', '</hashtag>', 'research', 'shows', 'salespeople', 'who', 'score', 'in', 'the', 'top', '<percent>', 'for', '<hashtag>', 'optimism', '</hashtag>', 'have', '<percent>', '>', 'sales', 'than', 'those', 'in', 'top', '<percent>', 'for', 'pessimism', '.'], '0.274'])\n"
          ]
        }
      ]
    },
    {
      "cell_type": "code",
      "source": [
        "count = 0\n",
        "for example in test_data.examples:\n",
        "  print(example.tweet, example.intensity)\n",
        "  count += 1\n",
        "  if count > 10:\n",
        "    break"
      ],
      "metadata": {
        "colab": {
          "base_uri": "https://localhost:8080/"
        },
        "id": "Sx-R5H6ALfwI",
        "outputId": "a11fdd40-9221-45a4-cbe7-ac2c54a5f056"
      },
      "execution_count": 23,
      "outputs": [
        {
          "output_type": "stream",
          "name": "stdout",
          "text": [
            "['people', 'are', 'truly', '<hashtag>', 'amazing', '</hashtag>', '.', '<hashtag>', 'inspiring', '</hashtag>', 'day'] 0.712\n",
            "['what', 'are', 'some', 'good', '<hashtag>', 'funny', '</hashtag>', '<hashtag>', 'entertaining', '</hashtag>', '<hashtag>', 'interesting', '</hashtag>', 'accounts', 'i', 'should', 'follow', '?', 'my', 'twitter', 'is', 'dry'] 0.339\n",
            "['<user>', 'a', 'review', 'of', 'my', 'book', 'faulted', 'me', 'for', 'spending', 'so', 'much', 'time', 'on', 'webster', \"'\", 's', 'introductory', 'front', 'matter', '.', 'but', 'i', 'had', 'to', ',', '<hashtag>', 'brilliant', '</hashtag>', '!'] 0.533\n",
            "['<hashtag>', 'good', '</hashtag>', 'to', 'learning', '<hashtag>', 'wisdom', '</hashtag>', '<', '<', 'reform', '(', 'v', ')', ':', 'make', 'in', 'order', 'to', 'improve', 'something', '>', '>'] 0.281\n",
            "['really', 'excited', 'to', 'see', 'our', 'team', 'this', 'year', ',', 'and', 'especially', 'moving', 'in', 'the', 'next', '<number>', '-', '<number>', 'years', 'when', 'his', 'guys', 'start', 'playing', 'significant', 'minutes', '.'] 0.797\n",
            "['be', 'happy', '.', 'be', 'confident', '.', 'be', 'kind', '.', '\\\\', 'n', '\\\\', 'n', '<hashtag>', 'kissables', 'love', 'sm', 'shopmag', '</hashtag>', '\\\\', 'nalloutdenimfor', '<allcaps>', 'kissmarc', '</allcaps>'] 0.661\n",
            "['<user>', 'little', 'piggy', ':face_with_tears_of_joy:'] 0.303\n",
            "['you', 'do', 'not', 'need', 'money', 'to', 'have', 'a', 'great', 'life', ',', 'be', 'eccentric', ',', 'be', 'creative', ',', 'be', 'joyful', ',', 'be', 'entertaining', 'and', 'all', 'you', 'want', 'will', 'come', '!'] 0.578\n",
            "['<user>', '<user>', 'i', 'used', 'to', 'make', 'the', 'peanut', 'butter', 'energy', 'balls', 'all', 'the', 'time', '.', 'my', 'famjam', 'loved', 'them', '!', '<hashtag>', 'recipes', '</hashtag>', '<hashtag>', 'yummy', '</hashtag>'] 0.703\n",
            "['<user>', 'tried', 'it', 'once', '.', 'poured', 'into', 'the', 'sink', '.', 'did', 'not', 'bother', 'to', 'make', 'tasting', 'notes', '<happy>', 'looks', 'like', 'cheap', 'sake', ',', 'tasted', 'like', 'it', 'too', '.', '<repeated>'] 0.281\n",
            "['<user>', '&', '<user>', 'are', 'total', 'entertainment', 'on', '<user>', '<hashtag>', 'brilliant', '</hashtag>', '<hashtag>', 'so', 'funny', '</hashtag>', '<hashtag>', 'my', 'faves', '</hashtag>'] 0.586\n"
          ]
        }
      ]
    },
    {
      "cell_type": "markdown",
      "source": [
        "## Building iterator and Vocabulary"
      ],
      "metadata": {
        "id": "V3CoFQZDLtVO"
      }
    },
    {
      "cell_type": "code",
      "source": [
        "MAX_VOCAB_SIZE = 10000\n",
        "\n",
        "field_tweet.build_vocab(train_data, \n",
        "                  max_size = MAX_VOCAB_SIZE,\n",
        "                  min_freq = 1,\n",
        "                  vectors = \"glove.6B.100d\",\n",
        "                  unk_init=torch.Tensor.normal_)\n",
        "\n",
        "vocab = field_tweet.build_vocab(train_data, \n",
        "                  max_size = MAX_VOCAB_SIZE,\n",
        "                  min_freq = 1,\n",
        "                  vectors = \"glove.6B.100d\",\n",
        "                  unk_init=torch.Tensor.normal_)\n",
        "field_intensity.build_vocab(train_data)"
      ],
      "metadata": {
        "colab": {
          "base_uri": "https://localhost:8080/"
        },
        "id": "IeSJaNSYT_D7",
        "outputId": "37a18b39-e950-48bd-d30c-d456dec1c64d"
      },
      "execution_count": 24,
      "outputs": [
        {
          "output_type": "stream",
          "name": "stderr",
          "text": [
            ".vector_cache/glove.6B.zip: 862MB [02:41, 5.33MB/s]                           \n",
            "100%|█████████▉| 399999/400000 [00:14<00:00, 26919.79it/s]\n"
          ]
        }
      ]
    },
    {
      "cell_type": "code",
      "source": [
        "type(vocab)"
      ],
      "metadata": {
        "colab": {
          "base_uri": "https://localhost:8080/"
        },
        "id": "skcwS7jEh5Vc",
        "outputId": "f8cc57b4-4cab-436c-a5f3-1a599b1fbea2"
      },
      "execution_count": 25,
      "outputs": [
        {
          "output_type": "execute_result",
          "data": {
            "text/plain": [
              "NoneType"
            ]
          },
          "metadata": {},
          "execution_count": 25
        }
      ]
    },
    {
      "cell_type": "code",
      "source": [
        "BATCH_SIZE = 2\n",
        "train_iterator, valid_iterator, test_iterator = BucketIterator.splits((train_data, valid_data, test_data), \n",
        "                                                      batch_size= BATCH_SIZE,\n",
        "                                                      sort_key = lambda x: len(x.tweet),\n",
        "                                                      sort_within_batch=True,\n",
        "                                                      device = DEVICE,\n",
        "                                                      shuffle= True)"
      ],
      "metadata": {
        "id": "PYRrHy8HTcZM"
      },
      "execution_count": 26,
      "outputs": []
    },
    {
      "cell_type": "code",
      "source": [
        "count = 0\n",
        "for batch in train_iterator:\n",
        "  print (batch.tweet)\n",
        "  print (batch.intensity)\n",
        "  count += 1\n",
        "  if count > 2:\n",
        "    break"
      ],
      "metadata": {
        "colab": {
          "base_uri": "https://localhost:8080/"
        },
        "id": "Si5ajBMXTb_m",
        "outputId": "2abbc9be-845c-4ea3-c02d-cd830dc0febf"
      },
      "execution_count": 27,
      "outputs": [
        {
          "output_type": "stream",
          "name": "stdout",
          "text": [
            "tensor([[  65,   27,   69,   68,    4,   90,   88,   50,    5,    4, 1607,    3,\n",
            "           78,    2,    3,   87,    2,    1,    1,    1,    1,    1,    1,    1,\n",
            "            1,    1,    1,    1,    1,    1,    1,    1,    1,    1,    1,    1,\n",
            "            1,    1,    1,    1,    1,    1,    1,    1,    1,    1,    1,    1,\n",
            "            1,    1],\n",
            "        [ 886,   34, 3987,  808,  885, 1668,   12,  149,  908,  102,   20,  648,\n",
            "           11,   19, 2986,   55, 2686,    1,    1,    1,    1,    1,    1,    1,\n",
            "            1,    1,    1,    1,    1,    1,    1,    1,    1,    1,    1,    1,\n",
            "            1,    1,    1,    1,    1,    1,    1,    1,    1,    1,    1,    1,\n",
            "            1,    1]], device='cuda:0')\n",
            "tensor([0.5420, 0.3400], device='cuda:0')\n",
            "tensor([[ 65,  27,  69,  68,   4,  90,  88,  50,   5,   3,  78,   2,   3,  87,\n",
            "           2,   1,   1,   1,   1,   1,   1,   1,   1,   1,   1,   1,   1,   1,\n",
            "           1,   1,   1,   1,   1,   1,   1,   1,   1,   1,   1,   1,   1,   1,\n",
            "           1,   1,   1,   1,   1,   1,   1,   1],\n",
            "        [217, 253,  20,  79,   7,  26,  21,  13, 233, 116,   6, 219,  16, 247,\n",
            "           4,   1,   1,   1,   1,   1,   1,   1,   1,   1,   1,   1,   1,   1,\n",
            "           1,   1,   1,   1,   1,   1,   1,   1,   1,   1,   1,   1,   1,   1,\n",
            "           1,   1,   1,   1,   1,   1,   1,   1]], device='cuda:0')\n",
            "tensor([0.5100, 0.5000], device='cuda:0')\n",
            "tensor([[ 588,   28,   21,  214,    7,  122,    7,  786,    7, 2099, 1261,    4,\n",
            "          752,  755,    3,  771,    2,    1,    1,    1,    1,    1,    1,    1,\n",
            "            1,    1,    1,    1,    1,    1,    1,    1,    1,    1,    1,    1,\n",
            "            1,    1,    1,    1,    1,    1,    1,    1,    1,    1,    1,    1,\n",
            "            1,    1],\n",
            "        [   5,  121,    7,   70,   37,   22,    4, 1579,   37,  130,  383,    6,\n",
            "          216,  267,   70,  623,    4,    1,    1,    1,    1,    1,    1,    1,\n",
            "            1,    1,    1,    1,    1,    1,    1,    1,    1,    1,    1,    1,\n",
            "            1,    1,    1,    1,    1,    1,    1,    1,    1,    1,    1,    1,\n",
            "            1,    1]], device='cuda:0')\n",
            "tensor([0.5830, 0.2310], device='cuda:0')\n"
          ]
        }
      ]
    },
    {
      "cell_type": "code",
      "source": [
        "print(list(field_tweet.vocab.stoi.items()))"
      ],
      "metadata": {
        "colab": {
          "base_uri": "https://localhost:8080/"
        },
        "id": "V4fmUSnDCrzU",
        "outputId": "107b5c57-170f-4cd1-cc39-7b98659f3132"
      },
      "execution_count": 28,
      "outputs": [
        {
          "output_type": "stream",
          "name": "stdout",
          "text": [
            "[('<unk>', 0), ('<pad>', 1), ('</hashtag>', 2), ('<hashtag>', 3), ('.', 4), ('<user>', 5), ('the', 6), (',', 7), ('i', 8), ('to', 9), ('a', 10), (\"'\", 11), ('and', 12), ('you', 13), ('!', 14), ('is', 15), ('of', 16), ('it', 17), ('<repeated>', 18), ('s', 19), ('in', 20), ('that', 21), ('not', 22), ('be', 23), ('\\\\', 24), ('my', 25), ('so', 26), ('this', 27), ('for', 28), ('me', 29), ('<number>', 30), ('happy', 31), ('with', 32), ('on', 33), ('-', 34), ('am', 35), ('have', 36), ('are', 37), ('at', 38), ('your', 39), ('n', 40), ('but', 41), ('</allcaps>', 42), ('<allcaps>', 43), ('just', 44), ('will', 45), ('day', 46), ('love', 47), ('do', 48), ('up', 49), ('by', 50), ('&', 51), ('?', 52), ('smile', 53), ('was', 54), (':', 55), ('all', 56), ('can', 57), ('good', 58), ('he', 59), ('hilarious', 60), ('like', 61), ('as', 62), ('we', 63), ('when', 64), ('watch', 65), ('if', 66), ('optimism', 67), ('live', 68), ('amazing', 69), ('they', 70), ('about', 71), ('from', 72), ('laughter', 73), ('make', 74), ('more', 75), ('out', 76), ('what', 77), ('lively', 78), ('life', 79), ('time', 80), ('glee', 81), ('or', 82), ('her', 83), ('one', 84), ('she', 85), ('get', 86), ('musically', 87), ('broadcast', 88), ('his', 89), ('ly', 90), ('see', 91), ('/', 92), ('how', 93), ('know', 94), ('go', 95), ('now', 96), ('smiling', 97), ('always', 98), ('cheer', 99), ('much', 100), ('there', 101), ('an', 102), (':face_with_tears_of_joy:', 103), ('because', 104), ('has', 105), ('new', 106), ('u', 107), ('some', 108), ('today', 109), ('us', 110), ('who', 111), ('over', 112), ('people', 113), ('want', 114), ('did', 115), ('feel', 116), ('got', 117), ('our', 118), ('<happy>', 119), ('joyful', 120), ('no', 121), ('breezy', 122), ('delight', 123), ('rejoice', 124), ('great', 125), ('cheerful', 126), ('pleasing', 127), ('sparkling', 128), ('still', 129), ('animated', 130), ('cheering', 131), ('back', 132), ('hilarity', 133), ('need', 134), ('way', 135), ('*', 136), ('being', 137), ('best', 138), ('never', 139), ('why', 140), ('would', 141), ('elated', 142), ('had', 143), ('makes', 144), ('playful', 145), ('rejoicing', 146), ('bright', 147), ('exhilarating', 148), ('hearty', 149), ('cheery', 150), ('chirp', 151), ('lol', 152), ('than', 153), ('too', 154), ('well', 155), ('joyous', 156), ('man', 157), ('most', 158), ('thank', 159), ('their', 160), (';', 161), ('give', 162), ('them', 163), ('think', 164), (':red_heart:', 165), ('<elongated>', 166), ('better', 167), ('birthday', 168), ('cheerfully', 169), ('could', 170), ('him', 171), ('off', 172), ('been', 173), ('every', 174), ('everything', 175), ('levity', 176), ('little', 177), ('look', 178), ('night', 179), ('such', 180), ('team', 181), ('(', 182), ('going', 183), ('morning', 184), ('really', 185), ('something', 186), ('watching', 187), ('<time>', 188), ('funny', 189), ('someone', 190), ('then', 191), ('were', 192), ('ever', 193), ('everyone', 194), ('let', 195), ('world', 196), (')', 197), ('after', 198), ('beautiful', 199), ('quote', 200), ('right', 201), ('show', 202), ('t', 203), ('thanks', 204), ('come', 205), ('find', 206), ('fun', 207), ('god', 208), ('jovial', 209), ('keep', 210), ('very', 211), ('any', 212), ('even', 213), ('nice', 214), ('only', 215), ('week', 216), ('accept', 217), ('down', 218), ('exhilaration', 219), ('here', 220), ('into', 221), ('least', 222), ('say', 223), ('things', 224), ('days', 225), ('follow', 226), ('girl', 227), ('gleeful', 228), ('happiness', 229), ('heart', 230), ('heyday', 231), ('long', 232), ('may', 233), ('mirth', 234), ('said', 235), ('thing', 236), (':fire:', 237), (':smiling_face_with_heart-eyes:', 238), (':smiling_face_with_smiling_eyes:', 239), (':sparkling_heart:', 240), ('also', 241), ('bad', 242), ('face', 243), ('hope', 244), ('joy', 245), ('tomorrow', 246), ('victory', 247), ('wonderful', 248), ('work', 249), (':loudly_crying_face:', 250), ('<sad>', 251), ('again', 252), ('challenges', 253), ('d', 254), ('done', 255), ('getting', 256), ('hour', 257), ('its', 258), ('maybe', 259), ('mind', 260), ('side', 261), ('sure', 262), ('those', 263), ('water', 264), ('while', 265), ('yet', 266), ('before', 267), ('first', 268), ('future', 269), ('gbbo', 270), ('last', 271), ('looking', 272), ('looks', 273), ('nd', 274), ('through', 275), ('tonight', 276), ('big', 277), ('home', 278), ('laughing', 279), ('oh', 280), ('open', 281), ('since', 282), ('started', 283), ('stop', 284), ('tears', 285), ('tell', 286), ('’', 287), ('“', 288), ('change', 289), ('end', 290), ('feeling', 291), ('having', 292), ('laugh', 293), ('lord', 294), ('lots', 295), ('once', 296), ('others', 297), ('remember', 298), ('sweet', 299), ('wine', 300), ('x', 301), ('year', 302), ('young', 303), ('yourself', 304), ('—', 305), ('actually', 306), ('family', 307), ('friend', 308), ('lot', 309), ('made', 310), ('myself', 311), ('other', 312), ('person', 313), ('place', 314), ('same', 315), ('singing', 316), ('success', 317), ('thought', 318), ('try', 319), ('which', 320), ('~', 321), ('around', 322), ('bot', 323), ('does', 324), ('episode', 325), ('fucking', 326), ('gets', 327), ('hard', 328), ('head', 329), ('jeep', 330), ('miss', 331), ('next', 332), ('should', 333), ('took', 334), ('wait', 335), ('wanna', 336), ('+', 337), ('1', 338), ('2016', 339), (':smiling_face:', 340), ('bc', 341), ('bit', 342), ('blessed', 343), ('book', 344), ('break', 345), ('class', 346), ('dont', 347), ('far', 348), ('following', 349), ('free', 350), ('game', 351), ('gave', 352), ('glad', 353), ('grateful', 354), ('lost', 355), ('making', 356), ('many', 357), ('must', 358), ('news', 359), ('old', 360), ('own', 361), ('please', 362), ('re', 363), ('shit', 364), ('short', 365), ('strong', 366), ('take', 367), ('talk', 368), ('these', 369), ('together', 370), ('used', 371), ('wish', 372), ('”', 373), (':light_skin_tone:', 374), (':smiling_face_with_open_hands:', 375), ('against', 376), ('another', 377), ('baby', 378), ('balls', 379), ('boy', 380), ('call', 381), ('cheerfulness', 382), ('during', 383), ('each', 384), ('fans', 385), ('food', 386), ('half', 387), ('hey', 388), ('jaunty', 389), ('literally', 390), ('m', 391), ('media', 392), ('ok', 393), ('outside', 394), ('play', 395), ('r', 396), ('sad', 397), ('saw', 398), ('school', 399), ('seeing', 400), ('seen', 401), ('social', 402), ('spry', 403), ('stay', 404), ('tired', 405), ('trump', 406), ('twitter', 407), ('ur', 408), ('w', 409), ('wake', 410), ('watched', 411), ('welcome', 412), ('without', 413), (':face_blowing_a_kiss:', 414), ('ain', 415), ('ass', 416), ('awesome', 417), ('bet', 418), ('body', 419), ('both', 420), ('bring', 421), ('city', 422), ('enough', 423), ('excited', 424), ('fact', 425), ('fall', 426), ('friends', 427), ('fuck', 428), ('gen', 429), ('goals', 430), ('guys', 431), ('gym', 432), ('hate', 433), ('hear', 434), ('high', 435), ('im', 436), ('jubilant', 437), ('juggle', 438), ('living', 439), ('lucky', 440), ('means', 441), ('memories', 442), ('met', 443), ('mom', 444), ('moment', 445), ('nhe', 446), ('north', 447), ('nothing', 448), ('proud', 449), ('pun', 450), ('punny', 451), ('put', 452), ('race', 453), ('real', 454), ('sometimes', 455), ('taking', 456), ('top', 457), ('truly', 458), ('trying', 459), ('tweet', 460), ('use', 461), ('v', 462), ('voice', 463), ('wednesday', 464), ('where', 465), ('whole', 466), ('words', 467), ('working', 468), ('yeah', 469), ('years', 470), ('…', 471), ('<percent>', 472), ('ago', 473), ('almost', 474), ('anyone', 475), ('anything', 476), ('bday', 477), ('boss', 478), ('bridget', 479), ('buoyant', 480), ('cake', 481), ('crying', 482), ('cute', 483), ('death', 484), ('deserve', 485), ('doing', 486), ('door', 487), ('easy', 488), ('evening', 489), ('experience', 490), ('forward', 491), ('found', 492), ('hell', 493), ('help', 494), ('house', 495), ('job', 496), ('light', 497), ('lips', 498), ('listen', 499), ('listening', 500), ('lovely', 501), ('mean', 502), ('music', 503), ('ni', 504), ('part', 505), ('picture', 506), ('positive', 507), ('problems', 508), ('quite', 509), ('series', 510), ('sick', 511), ('soul', 512), ('start', 513), ('survivor', 514), ('talking', 515), ('tho', 516), ('though', 517), ('truth', 518), ('tv', 519), ('two', 520), ('until', 521), ('video', 522), ('woman', 523), ('word', 524), ('worst', 525), ('4', 526), (':blue_heart:', 527), (':party_popper:', 528), (':thinking_face:', 529), (':tongue:', 530), (':winking_face:', 531), ('[', 532), ('act', 533), ('aesthetically', 534), ('afternoon', 535), ('ages', 536), ('arms', 537), ('bill', 538), ('black', 539), ('bro', 540), ('called', 541), ('care', 542), ('chat', 543), ('comes', 544), ('coming', 545), ('cry', 546), ('damn', 547), ('debate', 548), ('different', 549), ('draw', 550), ('due', 551), ('eat', 552), ('enjoy', 553), ('eyes', 554), ('feels', 555), ('felt', 556), ('few', 557), ('film', 558), ('full', 559), ('gift', 560), ('goal', 561), ('goes', 562), ('important', 563), ('incredible', 564), ('jones', 565), ('key', 566), ('kids', 567), ('kind', 568), ('king', 569), ('kurt', 570), ('lets', 571), ('lmao', 572), ('mighty', 573), ('missed', 574), ('movie', 575), ('na', 576), ('past', 577), ('peace', 578), ('phone', 579), ('player', 580), ('playing', 581), ('point', 582), ('possible', 583), ('present', 584), ('problem', 585), ('promise', 586), ('read', 587), ('ready', 588), ('red', 589), ('saying', 590), ('season', 591), ('send', 592), ('set', 593), ('simply', 594), ('sleep', 595), ('somebody', 596), ('spirit', 597), ('spot', 598), ('st', 599), ('stuff', 600), ('super', 601), ('thy', 602), ('treat', 603), ('vs', 604), ('went', 605), ('white', 606), ('wonder', 607), ('yoga', 608), ('2', 609), ('5', 610), (':face_with_rolling_eyes:', 611), (':grinning_face_with_sweat:', 612), (':heart_suit:', 613), (':neutral_face:', 614), (':purple_heart:', 615), (':smirking_face:', 616), (':sparkles:', 617), (':sweat_droplets:', 618), ('<money>', 619), ('=', 620), (']', 621), ('age', 622), ('air', 623), ('along', 624), ('already', 625), ('american', 626), ('asked', 627), ('attempt', 628), ('away', 629), ('awful', 630), ('awkward', 631), ('b', 632), ('became', 633), ('bed', 634), ('begin', 635), ('bf', 636), ('biz', 637), ('blithe', 638), ('boys', 639), ('breakfast', 640), ('brilliant', 641), ('brought', 642), ('bunch', 643), ('business', 644), ('challenge', 645), ('charlotte', 646), ('check', 647), ('child', 648), ('children', 649), ('chris', 650), ('church', 651), ('club', 652), ('coffee', 653), ('confident', 654), ('content', 655), ('cool', 656), ('country', 657), ('coys', 658), ('cut', 659), ('cuz', 660), ('decide', 661), ('definitely', 662), ('don', 663), ('double', 664), ('dude', 665), ('early', 666), ('eating', 667), ('either', 668), ('endless', 669), ('everyday', 670), ('evil', 671), ('extra', 672), ('fight', 673), ('finally', 674), ('fine', 675), ('forgot', 676), ('four', 677), ('g', 678), ('george', 679), ('gladness', 680), ('gotta', 681), ('grand', 682), ('green', 683), ('gun', 684), ('hair', 685), ('happier', 686), ('history', 687), ('hopefully', 688), ('imagine', 689), ('individual', 690), ('instead', 691), ('joys', 692), ('kindness', 693), ('late', 694), ('less', 695), ('lie', 696), ('liveliness', 697), ('medicine', 698), ('meet', 699), ('merriment', 700), ('might', 701), ('minutes', 702), ('mood', 703), ('name', 704), ('nation', 705), ('nawaz', 706), ('needed', 707), ('needs', 708), ('negative', 709), ('okay', 710), ('omg', 711), ('pack', 712), ('patton', 713), ('pleasure', 714), ('positivity', 715), ('pure', 716), ('reason', 717), ('rest', 718), ('second', 719), ('secret', 720), ('seem', 721), ('self', 722), ('service', 723), ('share', 724), ('sharif', 725), ('sir', 726), ('sit', 727), ('smart', 728), ('smiles', 729), ('solving', 730), ('soon', 731), ('thursday', 732), ('totally', 733), ('true', 734), ('turn', 735), ('val', 736), ('wch', 737), ('within', 738), ('wolf', 739), ('wow', 740), ('ya', 741), ('yes', 742), ('yesterday', 743), ('yo', 744), ('', 745), ('#', 746), ('*\\\\', 747), (':balance_scale:', 748), (':bouquet:', 749), (':collision:', 750), (':double_exclamation_mark:', 751), (':fallen_leaf:', 752), (':grinning_squinting_face:', 753), (':hundred_points:', 754), (':maple_leaf:', 755), (':medium-light_skin_tone:', 756), (':raising_hands:', 757), (':squinting_face_with_tongue:', 758), (':zipper-mouth_face:', 759), ('<laugh>', 760), ('<wink>', 761), ('>', 762), ('able', 763), ('absolutely', 764), ('angelou', 765), ('angry', 766), ('anxiety', 767), ('apart', 768), ('ask', 769), ('attitude', 770), ('autumn', 771), ('bag', 772), ('bb', 773), ('beauty', 774), ('behind', 775), ('believe', 776), ('beyond', 777), ('birds', 778), ('blood', 779), ('books', 780), ('bored', 781), ('bout', 782), ('brown', 783), ('buck', 784), ('buy', 785), ('calm', 786), ('came', 787), ('cannot', 788), ('changing', 789), ('channel', 790), ('choir', 791), ('clean', 792), ('clear', 793), ('close', 794), ('college', 795), ('comedy', 796), ('company', 797), ('course', 798), ('create', 799), ('customer', 800), ('dance', 801), ('dancing', 802), ('decision', 803), ('dental', 804), ('describe', 805), ('die', 806), ('died', 807), ('direction', 808), ('disney', 809), ('dream', 810), ('drink', 811), ('dumb', 812), ('e', 813), ('else', 814), ('embrace', 815), ('events', 816), ('everybody', 817), ('everywhere', 818), ('expect', 819), ('fails', 820), ('failure', 821), ('fallen', 822), ('fan', 823), ('fat', 824), ('fear', 825), ('football', 826), ('forever', 827), ('girlfriends', 828), ('given', 829), ('gonna', 830), ('greatest', 831), ('greyhound', 832), ('hall', 833), ('happened', 834), ('health', 835), ('heard', 836), ('hearing', 837), ('hit', 838), ('holiday', 839), ('hoping', 840), ('hot', 841), ('impractical', 842), ('inspire', 843), ('isis', 844), ('italian', 845), ('jinyoung', 846), ('join', 847), ('jokers', 848), ('k', 849), ('keeping', 850), ('kinda', 851), ('known', 852), ('later', 853), ('learning', 854), ('leave', 855), ('letting', 856), ('likes', 857), ('lives', 858), ('london', 859), ('lose', 860), ('loved', 861), ('loves', 862), ('loving', 863), ('mad', 864), ('mansfield', 865), ('mark', 866), ('match', 867), ('maya', 868), ('men', 869), ('mercy', 870), ('midst', 871), ('minds', 872), ('mine', 873), ('mini', 874), ('minute', 875), ('misery', 876), ('modern', 877), ('month', 878), ('oil', 879), ('order', 880), ('party', 881), ('pastor', 882), ('phil', 883), ('players', 884), ('plays', 885), ('pre', 886), ('prince', 887), ('proverbs', 888), ('quinn', 889), ('quote_soup', 890), ('racism', 891), ('reality', 892), ('realize', 893), ('relief', 894), ('rojo', 895), ('room', 896), ('round', 897), ('sadness', 898), ('sam', 899), ('save', 900), ('says', 901), ('seems', 902), ('serious', 903), ('sharpened', 904), ('shower', 905), ('signed', 906), ('single', 907), ('situation', 908), ('snapchat', 909), ('song', 910), ('sound', 911), ('spent', 912), ('starts', 913), ('store', 914), ('story', 915), ('student', 916), ('support', 917), ('supposed', 918), ('talkin', 919), ('terrible', 920), ('thee', 921), ('thenicebot', 922), ('thoughts', 923), ('times', 924), ('tip', 925), ('told', 926), ('tour', 927), ('toward', 928), ('tried', 929), ('trust', 930), ('tumblr', 931), ('tweets', 932), ('uk', 933), ('ukulele', 934), ('uncle', 935), ('united', 936), ('upon', 937), ('using', 938), ('version', 939), ('wanted', 940), ('wasn', 941), ('weapon', 942), ('whatever', 943), ('whether', 944), ('william', 945), ('winning', 946), ('wisdom', 947), ('wise', 948), ('wishing', 949), ('worse', 950), ('worship', 951), ('writing', 952), ('wrong', 953), ('xmas', 954), ('$', 955), ('%', 956), ('0', 957), ('18', 958), ('7', 959), ('9', 960), (':OK_hand:', 961), (':clapping_hands:', 962), (':confused_face:', 963), (':crying_face:', 964), (':disappointed_face:', 965), (':flexed_biceps:', 966), (':folded_hands:', 967), (':grinning_face:', 968), (':grinning_face_with_smiling_eyes:', 969), (':heart_with_arrow:', 970), (':leaf_fluttering_in_wind:', 971), (':pensive_face:', 972), (':slightly_smiling_face:', 973), (':smiling_face_with_sunglasses:', 974), (':thumbs_up:', 975), (':weary_face:', 976), (':yellow_heart:', 977), ('<', 978), ('<tong>', 979), ('@', 980), ('above', 981), ('abt', 982), ('achieve', 983), ('across', 984), ('acting', 985), ('addiction', 986), ('af', 987), ('afraid', 988), ('alert', 989), ('alive', 990), ('allowed', 991), ('alright', 992), ('america', 993), ('anna', 994), ('answer', 995), ('anthony', 996), ('app', 997), ('appreciate', 998), ('asks', 999), ('babies', 1000), ('beer', 1001), ('beg', 1002), ('bitch', 1003), ('blake', 1004), ('blast', 1005), ('blessing', 1006), ('bob', 1007), ('bought', 1008), ('brave', 1009), ('bringing', 1010), ('brings', 1011), ('canceled', 1012), ('candles', 1013), ('cant', 1014), ('cats', 1015), ('cause', 1016), ('celebrity', 1017), ('chair', 1018), ('character', 1019), ('characters', 1020), ('cheerleaders', 1021), ('cheese', 1022), ('chelsea', 1023), ('chick', 1024), ('choice', 1025), ('choose', 1026), ('clever', 1027), ('clients', 1028), ('clouds', 1029), ('cluck', 1030), ('collect', 1031), ('comics', 1032), ('constantly', 1033), ('continue', 1034), ('convinced', 1035), ('cook', 1036), ('copy', 1037), ('coworker', 1038), ('currently', 1039), ('dad', 1040), ('daily', 1041), ('dead', 1042), ('dear', 1043), ('deserves', 1044), ('development', 1045), ('dirty', 1046), ('disappointed', 1047), ('dog', 1048), ('drinking', 1049), ('drinks', 1050), ('drug', 1051), ('dry', 1052), ('dying', 1053), ('entire', 1054), ('envy', 1055), ('experiences', 1056), ('eye', 1057), ('eyebrows', 1058), ('fantastic', 1059), ('fi', 1060), ('filled', 1061), ('final', 1062), ('finished', 1063), ('flying', 1064), ('focus', 1065), ('forget', 1066), ('friday', 1067), ('front', 1068), ('gained', 1069), ('games', 1070), ('gas', 1071), ('genuinely', 1072), ('gif', 1073), ('gifs', 1074), ('girls', 1075), ('gives', 1076), ('giving', 1077), ('glasses', 1078), ('gleek', 1079), ('glorious', 1080), ('gratefully', 1081), ('grind', 1082), ('grow', 1083), ('guy', 1084), ('habit', 1085), ('haha', 1086), ('hands', 1087), ('hang', 1088), ('happens', 1089), ('healthy', 1090), ('hearts', 1091), ('heaven', 1092), ('hello', 1093), ('hillary', 1094), ('hip', 1095), ('hockey', 1096), ('housing', 1097), ('human', 1098), ('hun', 1099), ('hungry', 1100), ('hurt', 1101), ('husband', 1102), ('idiot', 1103), ('incredibly', 1104), ('indeed', 1105), ('international', 1106), ('jesus', 1107), ('jobs', 1108), ('john', 1109), ('joviality', 1110), ('justice', 1111), ('kanye', 1112), ('keeps', 1113), ('kick', 1114), ('killed', 1115), ('kiss', 1116), ('ladies', 1117), ('lady', 1118), ('laughed', 1119), ('laughs', 1120), ('lautner', 1121), ('laws', 1122), ('leads', 1123), ('leaning', 1124), ('lethal', 1125), ('level', 1126), ('liking', 1127), ('lil', 1128), ('ll', 1129), ('lmfao', 1130), ('loud', 1131), ('luv', 1132), ('mc', 1133), ('meeting', 1134), ('method', 1135), ('miami', 1136), ('min', 1137), ('minded', 1138), ('modicum', 1139), ('money', 1140), ('moon', 1141), ('moonlight', 1142), ('mr', 1143), ('national', 1144), ('nephew', 1145), ('nit', 1146), ('nlet', 1147), ('nme', 1148), ('noir', 1149), ('noise', 1150), ('normal', 1151), ('numbers', 1152), ('ny', 1153), ('obama', 1154), ('occasion', 1155), ('odds', 1156), ('offers', 1157), ('office', 1158), ('often', 1159), ('ones', 1160), ('online', 1161), ('opening', 1162), ('otherwise', 1163), ('ought', 1164), ('overtime', 1165), ('p', 1166), ('pain', 1167), ('pak', 1168), ('pakistan', 1169), ('paper', 1170), ('paul', 1171), ('perfume', 1172), ('peter', 1173), ('photo', 1174), ('photographer', 1175), ('pie', 1176), ('piece', 1177), ('pile', 1178), ('pity', 1179), ('pizza', 1180), ('plus', 1181), ('policy', 1182), ('post', 1183), ('power', 1184), ('practice', 1185), ('praise', 1186), ('prayer', 1187), ('premiere', 1188), ('pretty', 1189), ('prices', 1190), ('productivity', 1191), ('provide', 1192), ('ps', 1193), ('questions', 1194), ('quotes', 1195), ('rape', 1196), ('raw', 1197), ('reading', 1198), ('recent', 1199), ('recipe', 1200), ('reflection', 1201), ('reminds', 1202), ('replace', 1203), ('respect', 1204), ('rewatching', 1205), ('ride', 1206), ('ring', 1207), ('rn', 1208), ('rock', 1209), ('romance', 1210), ('root', 1211), ('russian', 1212), ('ryan', 1213), ('scene', 1214), ('sci', 1215), ('score', 1216), ('seriously', 1217), ('sharing', 1218), ('shitty', 1219), ('showed', 1220), ('shows', 1221), ('shut', 1222), ('silence', 1223), ('simple', 1224), ('speak', 1225), ('speechless', 1226), ('spiritual', 1227), ('sports', 1228), ('sprightly', 1229), ('stand', 1230), ('state', 1231), ('strength', 1232), ('stretch', 1233), ('stupid', 1234), ('successful', 1235), ('sugar', 1236), ('surprise', 1237), ('swans', 1238), ('swear', 1239), ('sweden', 1240), ('swim', 1241), ('tag', 1242), ('taylor', 1243), ('technology', 1244), ('th', 1245), ('thankyou', 1246), ('thin', 1247), ('thinking', 1248), ('three', 1249), ('thumbs', 1250), ('tone', 1251), ('trans', 1252), ('under', 1253), ('ustinov', 1254), ('visit', 1255), ('vote', 1256), ('walking', 1257), ('ways', 1258), ('weakness', 1259), ('wearing', 1260), ('weather', 1261), ('weekend', 1262), ('weeks', 1263), ('weiner', 1264), ('whose', 1265), ('wicked', 1266), ('win', 1267), ('wink', 1268), ('wished', 1269), ('women', 1270), ('worry', 1271), ('ye', 1272), ('yeg', 1273), ('yep', 1274), ('youtube', 1275), ('yr', 1276), ('yrs', 1277), ('―', 1278), ('•', 1279), ('16', 1280), ('22', 1281), ('3', 1282), ('6', 1283), ('62', 1284), ('69', 1285), (':beaming_face_with_smiling_eyes:', 1286), (':beating_heart:', 1287), (':bow_and_arrow:', 1288), (':cherry_blossom:', 1289), (':confetti_ball:', 1290), (':crown:', 1291), (':ewe:', 1292), (':face_screaming_in_fear:', 1293), (':flushed_face:', 1294), (':green_heart:', 1295), (':headphone:', 1296), (':hushed_face:', 1297), (':pencil:', 1298), (':red_circle:', 1299), (':right_arrow:', 1300), (':skis:', 1301), (':smiling_face_with_halo:', 1302), (':smiling_face_with_horns:', 1303), (':soft_ice_cream:', 1304), (':two_hearts:', 1305), (':unamused_face:', 1306), (':white_circle:', 1307), (':winking_face_with_tongue:', 1308), (\";'(\\\\\", 1309), ('<annoyed>', 1310), ('<censored>', 1311), ('<date>', 1312), ('<emphasis>', 1313), ('<surprise>', 1314), ('>_<', 1315), ('__', 1316), ('`', 1317), ('a4', 1318), ('ab', 1319), ('ability', 1320), ('abs', 1321), ('absolute', 1322), ('accepted', 1323), ('access', 1324), ('accommodate', 1325), ('accounts', 1326), ('accurate', 1327), ('achievements', 1328), ('acquire', 1329), ('actions', 1330), ('actor', 1331), ('actors', 1332), ('actual', 1333), ('addicted', 1334), ('adorable', 1335), ('adult', 1336), ('advances', 1337), ('adverts', 1338), ('afghanistan', 1339), ('afl', 1340), ('aged', 1341), ('agreed', 1342), ('ahs', 1343), ('airtel', 1344), ('album', 1345), ('aldub', 1346), ('alike', 1347), ('aloha', 1348), ('alone', 1349), ('americans', 1350), ('among', 1351), ('amystery', 1352), ('angel', 1353), ('annoyed', 1354), ('answers', 1355), ('anti', 1356), ('anticipating', 1357), ('apples', 1358), ('appreciated', 1359), ('apprehension', 1360), ('appropriate', 1361), ('arc', 1362), ('armed', 1363), ('arrival', 1364), ('art', 1365), ('asking', 1366), ('assume', 1367), ('assured', 1368), ('atmosphere', 1369), ('au', 1370), ('auction', 1371), ('australia', 1372), ('avoid', 1373), ('award', 1374), ('awareness', 1375), ('awfy', 1376), ('aww', 1377), ('bachelorette', 1378), ('backed', 1379), ('bailey', 1380), ('ballons', 1381), ('balloons', 1382), ('baloch', 1383), ('band', 1384), ('banging', 1385), ('banned', 1386), ('banter', 1387), ('bar', 1388), ('barns', 1389), ('basic', 1390), ('basically', 1391), ('basket', 1392), ('bass', 1393), ('batman', 1394), ('battleground', 1395), ('bcoz', 1396), ('beat', 1397), ('beep', 1398), ('begins', 1399), ('biased', 1400), ('binge', 1401), ('bits', 1402), ('bizitalk', 1403), ('blackish', 1404), ('blacks', 1405), ('blaine', 1406), ('bldg', 1407), ('bless', 1408), ('blow', 1409), ('blue', 1410), ('bolts', 1411), ('bones', 1412), ('boostercourse', 1413), ('bottle', 1414), ('braces', 1415), ('brain', 1416), ('brand', 1417), ('braved', 1418), ('breaks', 1419), ('brewing', 1420), ('brexit', 1421), ('bri', 1422), ('broadband', 1423), ('broken', 1424), ('bs', 1425), ('burslem', 1426), ('busquet', 1427), ('c', 1428), ('cab', 1429), ('cable', 1430), ('calmness', 1431), ('canada', 1432), ('canal', 1433), ('cantor', 1434), ('car', 1435), ('cases', 1436), ('castlez', 1437), ('catch', 1438), ('caught', 1439), ('ceased', 1440), ('certainly', 1441), ('championship', 1442), ('chance', 1443), ('changed', 1444), ('chapter', 1445), ('charged', 1446), ('charles', 1447), ('charlie', 1448), ('chases', 1449), ('cheddar', 1450), ('cheeseburger', 1451), ('chewing', 1452), ('chills', 1453), ('chiropractor', 1454), ('chopper', 1455), ('christ', 1456), ('christmas', 1457), ('chuck', 1458), ('chuckin', 1459), ('ciara', 1460), ('cider', 1461), ('claire', 1462), ('classic', 1463), ('clayton', 1464), ('cletsgo', 1465), ('clip', 1466), ('closer', 1467), ('coffey1617', 1468), ('coincidence', 1469), ('cold', 1470), ('color', 1471), ('colors', 1472), ('comedic', 1473), ('comfortable', 1474), ('comment', 1475), ('commercial', 1476), ('common', 1477), ('compassion', 1478), ('compliment', 1479), ('concerned', 1480), ('confused', 1481), ('conjunction', 1482), ('contentwiththe', 1483), ('continues', 1484), ('contract', 1485), ('conversation', 1486), ('converting', 1487), ('cooked', 1488), ('cooking', 1489), ('cooped', 1490), ('correct', 1491), ('corridor', 1492), ('cost', 1493), ('coughing', 1494), ('council', 1495), ('couple', 1496), ('cover', 1497), ('cracks', 1498), ('creative', 1499), ('cried', 1500), ('cross', 1501), ('crushed', 1502), ('cuddles', 1503), ('cynicism', 1504), ('daddy', 1505), ('dancer', 1506), ('dark', 1507), ('dat', 1508), ('date', 1509), ('de', 1510), ('deal', 1511), ('dealing', 1512), ('dedicated', 1513), ('deeply', 1514), ('defined', 1515), ('dehydrated', 1516), ('delightful', 1517), ('delivered', 1518), ('despair', 1519), ('despite', 1520), ('destruction', 1521), ('detours', 1522), ('deuces', 1523), ('dex', 1524), ('dhoni', 1525), ('dick', 1526), ('differ', 1527), ('differently', 1528), ('digging', 1529), ('dinner', 1530), ('disallowed', 1531), ('discover', 1532), ('display', 1533), ('disposition', 1534), ('distracting', 1535), ('ditto', 1536), ('division', 1537), ('dm', 1538), ('doc', 1539), ('documentary', 1540), ('doesnt', 1541), ('dollar', 1542), ('donalds', 1543), ('donation', 1544), ('download', 1545), ('downtown', 1546), ('draft', 1547), ('drawing', 1548), ('dries', 1549), ('drive', 1550), ('drop', 1551), ('dropped', 1552), ('drove', 1553), ('dt', 1554), ('dudes', 1555), ('dwts', 1556), ('ear', 1557), ('earlier', 1558), ('economy', 1559), ('ed', 1560), ('edinburgh', 1561), ('editing', 1562), ('educate', 1563), ('education', 1564), ('effective', 1565), ('effects', 1566), ('efl', 1567), ('eh', 1568), ('elate', 1569), ('elkracken', 1570), ('email', 1571), ('en', 1572), ('encounter', 1573), ('enjoyment', 1574), ('enrique', 1575), ('entertaining', 1576), ('entrepreneur', 1577), ('environment', 1578), ('episodes', 1579), ('equally', 1580), ('especially', 1581), ('etc', 1582), ('etep', 1583), ('eventual', 1584), ('ex', 1585), ('excites', 1586), ('exciting', 1587), ('exhausted', 1588), ('expectant', 1589), ('expression', 1590), ('extends', 1591), ('extension', 1592), ('extremely', 1593), ('facebook', 1594), ('facing', 1595), ('fail', 1596), ('fake', 1597), ('farm365', 1598), ('fashionable', 1599), ('favourite', 1600), ('fellowship', 1601), ('fictional', 1602), ('file', 1603), ('films', 1604), ('finds', 1605), ('finest', 1606), ('finfin', 1607), ('finish', 1608), ('finishers', 1609), ('finn', 1610), ('fire', 1611), ('fireworks', 1612), ('fitness', 1613), ('fitted', 1614), ('flavored', 1615), ('flavors', 1616), ('flock', 1617), ('florida', 1618), ('folks', 1619), ('followback', 1620), ('followers', 1621), ('fond', 1622), ('foolish', 1623), ('foot', 1624), ('forced', 1625), ('form', 1626), ('forté', 1627), ('freaking', 1628), ('fresh', 1629), ('freshers', 1630), ('fri', 1631), ('friedrich', 1632), ('fscts', 1633), ('fulfilled', 1634), ('fundraiser', 1635), ('funeral', 1636), ('funnier', 1637), ('garoppolo', 1638), ('gay', 1639), ('genius', 1640), ('genocide', 1641), ('german', 1642), ('gesture', 1643), ('ghast', 1644), ('gifts', 1645), ('giggle', 1646), ('giggles', 1647), ('gipe', 1648), ('glen', 1649), ('glutting', 1650), ('goddamn', 1651), ('gods', 1652), ('gone', 1653), ('goodbye', 1654), ('gospel', 1655), ('gossip', 1656), ('grad', 1657), ('grass', 1658), ('grey', 1659), ('grindah', 1660), ('group', 1661), ('guess', 1662), ('gunnysmith93', 1663), ('guns', 1664), ('hahaha', 1665), ('haircut', 1666), ('haitian', 1667), ('hale', 1668), ('halfway', 1669), ('hamlet', 1670), ('handed', 1671), ('hannah', 1672), ('happen', 1673), ('happening', 1674), ('harbor', 1675), ('hardwork', 1676), ('harvest', 1677), ('haters', 1678), ('heavy', 1679), ('height', 1680), ('helpful', 1681), ('helping', 1682), ('helpline', 1683), ('hero', 1684), ('hi', 1685), ('highly', 1686), ('hihi', 1687), ('hillsboro', 1688), ('hips', 1689), ('hoe', 1690), ('hold', 1691), ('holding', 1692), ('holds', 1693), ('holidays', 1694), ('holmes', 1695), ('homecoming', 1696), ('homes', 1697), ('honest', 1698), ('honesty', 1699), ('honks', 1700), ('hood', 1701), ('hopeful', 1702), ('however', 1703), ('hubs', 1704), ('hugots', 1705), ('hugs', 1706), ('humanbeing', 1707), ('humbleness', 1708), ('hundred', 1709), ('hunter', 1710), ('hurts', 1711), ('hygge', 1712), ('hyper', 1713), ('ice', 1714), ('impressed', 1715), ('including', 1716), ('independence', 1717), ('independent', 1718), ('indian', 1719), ('inside', 1720), ('inspiration', 1721), ('insta', 1722), ('instructor', 1723), ('insults', 1724), ('interest', 1725), ('interests', 1726), ('interview', 1727), ('irony', 1728), ('israel', 1729), ('issues', 1730), ('itching', 1731), ('ive', 1732), ('izn', 1733), ('james', 1734), ('jasmine', 1735), ('jean', 1736), ('jen', 1737), ('jeremy', 1738), ('jh', 1739), ('jimmy', 1740), ('jin', 1741), ('jk', 1742), ('jkt', 1743), ('joe', 1744), ('joey', 1745), ('johnson', 1746), ('journey', 1747), ('julie', 1748), ('karma', 1749), ('kashmir', 1750), ('katherine', 1751), ('katie', 1752), ('kemayoran', 1753), ('kerr', 1754), ('kg', 1755), ('kicks', 1756), ('kid', 1757), ('kidding', 1758), ('kill', 1759), ('killgrave', 1760), ('killing', 1761), ('knew', 1762), ('knowing', 1763), ('kris', 1764), ('ksu', 1765), ('kwoir', 1766), ('kx4', 1767), ('l', 1768), ('la', 1769), ('lane', 1770), ('language', 1771), ('large', 1772), ('laundry', 1773), ('lazy', 1774), ('leadership', 1775), ('leaned', 1776), ('leaving', 1777), ('left', 1778), ('legit', 1779), ('legs', 1780), ('library', 1781), ('libtard', 1782), ('lights', 1783), ('liked', 1784), ('line', 1785), ('lion', 1786), ('listed', 1787), ('listened', 1788), ('lit', 1789), ('literal', 1790), ('lmboo', 1791), ('lolol', 1792), ('lololol', 1793), ('longer', 1794), ('looked', 1795), ('lopez', 1796), ('lords', 1797), ('lrt', 1798), ('luck', 1799), ('luke', 1800), ('ma', 1801), ('mae', 1802), ('magazines', 1803), ('magical', 1804), ('manchester', 1805), ('marmite', 1806), ('massali', 1807), ('master', 1808), ('mate', 1809), ('matilda', 1810), ('mccloud', 1811), ('meal', 1812), ('meant', 1813), ('meldonium', 1814), ('melts', 1815), ('meme', 1816), ('memphis', 1817), ('mercure', 1818), ('messaged', 1819), ('messages', 1820), ('messed', 1821), ('messenger', 1822), ('metro', 1823), ('midnight', 1824), ('mil', 1825), ('mila', 1826), ('millennials', 1827), ('milti', 1828), ('mindfulness', 1829), ('ministers', 1830), ('minority', 1831), ('mon', 1832), ('mornings', 1833), ('morrow', 1834), ('mostly', 1835), ('mother', 1836), ('motivation', 1837), ('mou', 1838), ('move', 1839), ('moved', 1840), ('mrs', 1841), ('msg', 1842), ('msnbc', 1843), ('mums', 1844), ('musical', 1845), ('mustache', 1846), ('mustard', 1847), ('nails', 1848), ('nascar', 1849), ('nconclusion', 1850), ('ndays', 1851), ('ndon', 1852), ('negro', 1853), ('neighbor', 1854), ('neighborhoods', 1855), ('nhf16', 1856), ('nietzsche', 1857), ('niggas', 1858), ('nightmares', 1859), ('nj', 1860), ('nmom', 1861), ('non', 1862), ('none', 1863), ('nose', 1864), ('nosing', 1865), ('notts', 1866), ('nrl', 1867), ('nso', 1868), ('number', 1869), ('nurse', 1870), ('nut', 1871), ('nyc', 1872), ('nzephaniah', 1873), ('o', 1874), ('odd', 1875), ('oi', 1876), ('older', 1877), ('onion', 1878), ('ooh', 1879), ('optimist', 1880), ('option', 1881), ('ortiz', 1882), ('ot', 1883), ('overdose', 1884), ('overflow', 1885), ('owner', 1886), ('pakis', 1887), ('pampered', 1888), ('panda', 1889), ('park', 1890), ('parody', 1891), ('passage', 1892), ('passed', 1893), ('pats', 1894), ('pause', 1895), ('pays', 1896), ('peaceful', 1897), ('peeps', 1898), ('pencil', 1899), ('perfect', 1900), ('perhaps', 1901), ('period', 1902), ('permissive', 1903), ('personal', 1904), ('phenomenal', 1905), ('philipp', 1906), ('photography', 1907), ('photos', 1908), ('physical', 1909), ('pig', 1910), ('pillow', 1911), ('pimp', 1912), ('piss', 1913), ('pitch', 1914), ('pitchers', 1915), ('places', 1916), ('planned', 1917), ('plein', 1918), ('plenty', 1919), ('pls', 1920), ('pm', 1921), ('podcasts', 1922), ('polish', 1923), ('poor', 1924), ('pop', 1925), ('portion', 1926), ('posi', 1927), ('possibilities', 1928), ('possibly', 1929), ('posted', 1930), ('posts', 1931), ('potential', 1932), ('pour', 1933), ('pouring', 1934), ('pov', 1935), ('ppl', 1936), ('practically', 1937), ('prayed', 1938), ('preparation', 1939), ('preparing', 1940), ('president', 1941), ('price', 1942), ('princess', 1943), ('priorities', 1944), ('privately', 1945), ('probably', 1946), ('procedures', 1947), ('proctor', 1948), ('prospect', 1949), ('protected', 1950), ('protests', 1951), ('proudly', 1952), ('prowess', 1953), ('prussian', 1954), ('public', 1955), ('pull', 1956), ('pumpkin', 1957), ('purpose', 1958), ('quality', 1959), ('quarterback', 1960), ('question', 1961), ('quiet', 1962), ('quit', 1963), ('quotient', 1964), ('racist', 1965), ('raising', 1966), ('rap', 1967), ('rather', 1968), ('razor', 1969), ('reached', 1970), ('realise', 1971), ('realized', 1972), ('reaper', 1973), ('reasons', 1974), ('rec', 1975), ('recently', 1976), ('reciprocated', 1977), ('recruiter', 1978), ('refreshing', 1979), ('regardless', 1980), ('reinforce', 1981), ('relate', 1982), ('relationship', 1983), ('relaxation', 1984), ('remains', 1985), ('remembered', 1986), ('reminder', 1987), ('reputation', 1988), ('research', 1989), ('reservations', 1990), ('respond', 1991), ('response', 1992), ('restoration', 1993), ('returns', 1994), ('retweeted', 1995), ('rhys', 1996), ('rian', 1997), ('ribena', 1998), ('rich', 1999), ('richness', 2000), ('riggs', 2001), ('rip', 2002), ('road', 2003), ('robin', 2004), ('robocoq', 2005), ('rohan', 2006), ('role', 2007), ('rollin', 2008), ('romans', 2009), ('roosters', 2010), ('route', 2011), ('routine', 2012), ('rugby', 2013), ('rule', 2014), ('running', 2015), ('runs', 2016), ('ruthann', 2017), ('salty', 2018), ('sanatana', 2019), ('satisfy', 2020), ('satisfying', 2021), ('saved', 2022), ('scares', 2023), ('scary', 2024), ('scenes', 2025), ('science', 2026), ('scum', 2027), ('seat', 2028), ('secrets', 2029), ('seed', 2030), ('selfie', 2031), ('sentence', 2032), ('session', 2033), ('sex', 2034), ('sexuality', 2035), ('shades', 2036), ('shakespeare', 2037), ('shaped', 2038), ('shawarma', 2039), ('sheffield', 2040), ('sherlock', 2041), ('shield', 2042), ('shift', 2043), ('shines', 2044), ('shirt', 2045), ('shop', 2046), ('shorts', 2047), ('sight', 2048), ('signs', 2049), ('silly', 2050), ('sis', 2051), ('sister', 2052), ('skies', 2053), ('skiving', 2054), ('skywalkers', 2055), ('sleeping', 2056), ('sloth', 2057), ('slowly', 2058), ('sniffle', 2059), ('snowgang', 2060), ('snuggle', 2061), ('songs', 2062), ('sorry', 2063), ('souls', 2064), ('south', 2065), ('spag', 2066), ('speaking', 2067), ('speech', 2068), ('speed', 2069), ('spend', 2070), ('spying', 2071), ('stands', 2072), ('stare', 2073), ('stars', 2074), ('starting', 2075), ('steve', 2076), ('stock', 2077), ('stomach', 2078), ('storm', 2079), ('straight', 2080), ('strangers', 2081), ('stressed', 2082), ('stronger', 2083), ('struck', 2084), ('struggles', 2085), ('students', 2086), ('stunt', 2087), ('styles', 2088), ('sub', 2089), ('subscribers', 2090), ('sucks', 2091), ('suds', 2092), ('sufficiently', 2093), ('summer', 2094), ('sun', 2095), ('sunbeds', 2096), ('sunny', 2097), ('sunrise', 2098), ('sunshine', 2099), ('superman', 2100), ('surfing', 2101), ('surprises', 2102), ('survived', 2103), ('swapping', 2104), ('swimming', 2105), ('switch', 2106), ('sydney', 2107), ('system', 2108), ('taken', 2109), ('talent', 2110), ('talented', 2111), ('talked', 2112), ('tamron', 2113), ('taste', 2114), ('tasted', 2115), ('tea', 2116), ('teams', 2117), ('teasing', 2118), ('teeth', 2119), ('telling', 2120), ('tells', 2121), ('temper', 2122), ('ten', 2123), ('tenacious', 2124), ('tend', 2125), ('terrified', 2126), ('test', 2127), ('testimonies', 2128), ('text', 2129), ('tf', 2130), ('tfw', 2131), ('tgit', 2132), ('thankful', 2133), ('themed', 2134), ('theobald', 2135), ('theory', 2136), ('therapy', 2137), ('thine', 2138), ('thinks', 2139), ('thoughtful', 2140), ('thousand', 2141), ('thru', 2142), ('thus', 2143), ('tigers', 2144), ('tiller', 2145), ('tips', 2146), ('toddler', 2147), ('tom', 2148), ('toronto', 2149), ('towne', 2150), ('train', 2151), ('training', 2152), ('tribez', 2153), ('truck', 2154), ('tumble', 2155), ('tumbling', 2156), ('turlock', 2157), ('turns', 2158), ('twd', 2159), ('twice', 2160), ('twilight', 2161), ('twitching', 2162), ('u20', 2163), ('ugh', 2164), ('un', 2165), ('understand', 2166), ('understood', 2167), ('underwear', 2168), ('unknown', 2169), ('untill', 2170), ('update', 2171), ('uses', 2172), ('utd', 2173), ('utterly', 2174), ('ve', 2175), ('waiting', 2176), ('walk', 2177), ('walterdale', 2178), ('wants', 2179), ('war', 2180), ('warfare', 2181), ('warmth', 2182), ('warrior', 2183), ('wasteful', 2184), ('wave', 2185), ('waves', 2186), ('wear', 2187), ('web', 2188), ('wee', 2189), ('weekly', 2190), ('weeksary', 2191), ('wetter', 2192), ('whistle', 2193), ('whitegirlwednesday', 2194), ('wild', 2195), ('wins', 2196), ('wit', 2197), ('wives', 2198), ('wobble', 2199), ('won', 2200), ('workout', 2201), ('workplace', 2202), ('works', 2203), ('worried', 2204), ('wrecks', 2205), ('written', 2206), ('wsjnordics', 2207), ('x33', 2208), ('xx', 2209), ('y', 2210), ('yacht', 2211), ('yankees', 2212), ('yawning', 2213), ('yay', 2214), ('yorkshire', 2215), ('yt', 2216), ('yup', 2217), ('yvr', 2218), ('z', 2219), ('zen', 2220), ('zoolander', 2221), ('»', 2222), ('الخفجي', 2223), ('♪', 2224), ('・', 2225), ('\\uf602', 2226), ('$$', 2227), ('$srpt', 2228), ('(*', 2229), ('-_-', 2230), ('10', 2231), ('20', 2232), ('30', 2233), ('8', 2234), (':Aquarius:', 2235), (':ZZZ:', 2236), (':alien_monster:', 2237), (':atom_symbol:', 2238), (':automobile:', 2239), (':baby_chick:', 2240), (':balloon:', 2241), (':bird:', 2242), (':blossom:', 2243), (':books:', 2244), (':cheese_wedge:', 2245), (':copyright:', 2246), (':crayon:', 2247), (':desktop_computer:', 2248), (':dog_face:', 2249), (':enraged_face:', 2250), (':expressionless_face:', 2251), (':face_with_open_mouth:', 2252), (':face_with_steam_from_nose:', 2253), (':fountain_pen:', 2254), (':front-facing_baby_chick:', 2255), (':grapes:', 2256), (':grinning_face_with_big_eyes:', 2257), (':growing_heart:', 2258), (':heart_exclamation:', 2259), (':hot_beverage:', 2260), (':kaaba:', 2261), (':laptop:', 2262), (':left_arrow:', 2263), (':lemon:', 2264), (':money-mouth_face:', 2265), (':nerd_face:', 2266), (':office_building:', 2267), (':open_book:', 2268), (':paw_prints:', 2269), (':person_lifting_weights:', 2270), (':person_raising_hand:', 2271), (':person_tipping_hand:', 2272), (':popcorn:', 2273), (':raised_hand:', 2274), (':relieved_face:', 2275), (':rosette:', 2276), (':rugby_football:', 2277), (':see-no-evil_monkey:', 2278), (':sheaf_of_rice:', 2279), (':skull:', 2280), (':slightly_frowning_face:', 2281), (':sport_utility_vehicle:', 2282), (':sun_behind_cloud:', 2283), (':taxi:', 2284), (':telephone_receiver:', 2285), (':television:', 2286), (':trade_mark:', 2287), (':victory_hand:', 2288), (':water_pistol:', 2289), (':wind_face:', 2290), (':wolf:', 2291), (':woman’s_clothes:', 2292), (':wrapped_gift:', 2293), (';s', 2294), ('<kiss>', 2295), ('^', 2296), ('^_^', 2297), ('___', 2298), ('_full_plus_by_gora', 2299), ('aaron', 2300), ('abby', 2301), ('abla', 2302), ('abuses', 2303), ('abysmal', 2304), ('academia', 2305), ('acapella', 2306), ('accepts', 2307), ('accidental', 2308), ('accomplished', 2309), ('account', 2310), ('actively', 2311), ('actresses', 2312), ('acts', 2313), ('adcomm', 2314), ('add', 2315), ('adding', 2316), ('addition', 2317), ('adj', 2318), ('administrators', 2319), ('admits', 2320), ('admittedly', 2321), ('adopted', 2322), ('adoring', 2323), ('adrenaline', 2324), ('adressed', 2325), ('adults', 2326), ('advance', 2327), ('adventures', 2328), ('advocate', 2329), ('afc', 2330), ('affection', 2331), ('afflicted', 2332), ('affliction', 2333), ('afford', 2334), ('affordable', 2335), ('aflame', 2336), ('agentsof', 2337), ('ah', 2338), ('ahead', 2339), ('ahh', 2340), ('aico', 2341), ('aimed', 2342), ('aint', 2343), ('aja', 2344), ('ajafue', 2345), ('akon', 2346), ('akt', 2347), ('alias', 2348), ('alleged', 2349), ('allow', 2350), ('alternate', 2351), ('amelie', 2352), ('amen', 2353), ('amendment', 2354), ('amidst', 2355), ('amirite', 2356), ('amnd', 2357), ('amount', 2358), ('amy', 2359), ('anfield', 2360), ('angelina', 2361), ('anger', 2362), ('angle', 2363), ('angles', 2364), ('animals', 2365), ('animation', 2366), ('anime', 2367), ('annotated', 2368), ('announce', 2369), ('annoying', 2370), ('annual', 2371), ('answered', 2372), ('anthem', 2373), ('anticipation', 2374), ('anxious', 2375), ('anyway', 2376), ('apartment', 2377), ('apj', 2378), ('apocalypse', 2379), ('apologize', 2380), ('apparently', 2381), ('applauding', 2382), ('apply', 2383), ('appreciation', 2384), ('apps', 2385), ('arabia', 2386), ('archers', 2387), ('aren', 2388), ('argue', 2389), ('ari', 2390), ('aria', 2391), ('ariel', 2392), ('arkham', 2393), ('aroma', 2394), ('arrive', 2395), ('arrogance', 2396), ('arround', 2397), ('arrowverse', 2398), ('arsenal', 2399), ('arthur', 2400), ('articles', 2401), ('arts', 2402), ('arty', 2403), ('ashland', 2404), ('aside', 2405), ('aspire', 2406), ('assault', 2407), ('asshole', 2408), ('assure', 2409), ('astros', 2410), ('asylum', 2411), ('athenian', 2412), ('atkins', 2413), ('atop', 2414), ('attachment', 2415), ('attack', 2416), ('attacked', 2417), ('attempted', 2418), ('attempts', 2419), ('attend', 2420), ('attendance', 2421), ('attended', 2422), ('attending', 2423), ('attention', 2424), ('attentive', 2425), ('audacity', 2426), ('audience', 2427), ('audio', 2428), ('aurora', 2429), ('auto', 2430), ('automatic', 2431), ('av', 2432), ('avatar', 2433), ('ave', 2434), ('average', 2435), ('avid', 2436), ('avoiding', 2437), ('aw', 2438), ('awol', 2439), ('b4', 2440), ('b41', 2441), ('babe', 2442), ('bachelor', 2443), ('backbone', 2444), ('backfire', 2445), ('backing', 2446), ('badd', 2447), ('badger', 2448), ('bahahahaha', 2449), ('bainton', 2450), ('bake', 2451), ('balance', 2452), ('balancing', 2453), ('ball', 2454), ('banger', 2455), ('banquet', 2456), ('baptist', 2457), ('barbaria', 2458), ('barca', 2459), ('bare', 2460), ('barren', 2461), ('bartolomeo', 2462), ('baseball', 2463), ('based', 2464), ('bashir', 2465), ('basset', 2466), ('battle', 2467), ('bazigaga', 2468), ('bbva', 2469), ('beaches', 2470), ('beaming', 2471), ('bear', 2472), ('beats', 2473), ('beaut', 2474), ('beautifully', 2475), ('becca', 2476), ('become', 2477), ('becomes', 2478), ('becoming', 2479), ('bedtime', 2480), ('beef', 2481), ('beginning', 2482), ('beings', 2483), ('bellario', 2484), ('bellboy', 2485), ('belle', 2486), ('bells', 2487), ('belly', 2488), ('benefit', 2489), ('benefits', 2490), ('benoist', 2491), ('bernblade', 2492), ('betelgeuse', 2493), ('between', 2494), ('bey', 2495), ('bezza', 2496), ('bffing', 2497), ('bible', 2498), ('bigger', 2499), ('billie', 2500), ('biraz', 2501), ('bird', 2502), ('birth', 2503), ('birthdays', 2504), ('bitchass', 2505), ('bitches', 2506), ('biweekly', 2507), ('bizarre', 2508), ('bjp', 2509), ('blaiming', 2510), ('blame', 2511), ('blend', 2512), ('blew', 2513), ('blind', 2514), ('blinding', 2515), ('bliss', 2516), ('block', 2517), ('blocked', 2518), ('blocking', 2519), ('bloody', 2520), ('blossoming', 2521), ('blowing', 2522), ('blues', 2523), ('blushing', 2524), ('bobs', 2525), ('bodies', 2526), ('boggling', 2527), ('bomb', 2528), ('bonnie', 2529), ('boobs', 2530), ('boots', 2531), ('bops', 2532), ('boro', 2533), ('bother', 2534), ('bots', 2535), ('bounce', 2536), ('bounty', 2537), ('bouquet', 2538), ('bow', 2539), ('bowels', 2540), ('bowls', 2541), ('boxers', 2542), ('boxing', 2543), ('bqavtja', 2544), ('brad', 2545), ('brag', 2546), ('branch', 2547), ('bravado', 2548), ('bravo', 2549), ('brb', 2550), ('bread', 2551), ('breaking', 2552), ('breakups', 2553), ('breathe', 2554), ('breathes', 2555), ('breeze', 2556), ('brennan', 2557), ('brian', 2558), ('bribe', 2559), ('bribing', 2560), ('bridesmaid', 2561), ('brightens', 2562), ('brims', 2563), ('british', 2564), ('broad', 2565), ('brock', 2566), ('broke', 2567), ('brothers', 2568), ('bruce', 2569), ('brushing', 2570), ('brussels', 2571), ('brutality', 2572), ('bsnl', 2573), ('bt', 2574), ('btw', 2575), ('buffn', 2576), ('bull', 2577), ('bulldogs', 2578), ('bulushi', 2579), ('bumping', 2580), ('bunk', 2581), ('bunkface', 2582), ('burgers', 2583), ('burn', 2584), ('burning', 2585), ('burp', 2586), ('bursting', 2587), ('bushes', 2588), ('bust', 2589), ('busty', 2590), ('busy', 2591), ('butt', 2592), ('button', 2593), ('buying', 2594), ('buzzin', 2595), ('bway', 2596), ('bye', 2597), ('c4', 2598), ('cackle', 2599), ('caffeine', 2600), ('cahracter', 2601), ('calling', 2602), ('calming', 2603), ('cam', 2604), ('camera', 2605), ('camshaft', 2606), ('canadian', 2607), ('cannabis', 2608), ('canning', 2609), ('capable', 2610), ('caps', 2611), ('captivating', 2612), ('caramel', 2613), ('carbonation', 2614), ('card', 2615), ('careful', 2616), ('caressing', 2617), ('caring', 2618), ('carnal', 2619), ('carolina', 2620), ('carrell', 2621), ('carrick', 2622), ('carry', 2623), ('cars', 2624), ('cashcow', 2625), ('cast', 2626), ('caste', 2627), ('cat', 2628), ('categ', 2629), ('catering', 2630), ('cave', 2631), ('cavity', 2632), ('cb', 2633), ('cease', 2634), ('celebrated', 2635), ('celebration', 2636), ('celtic', 2637), ('cencerned', 2638), ('certain', 2639), ('challenged', 2640), ('challenging', 2641), ('champ', 2642), ('chances', 2643), ('changes', 2644), ('charm', 2645), ('chasing', 2646), ('chaudhry', 2647), ('chd', 2648), ('cheat', 2649), ('cheated', 2650), ('cheerios', 2651), ('chests', 2652), ('chicago', 2653), ('chicken', 2654), ('chief', 2655), ('childlike', 2656), ('chill', 2657), ('chilly', 2658), ('chime', 2659), ('chimes', 2660), ('chirps', 2661), ('chock', 2662), ('choked', 2663), ('chokes', 2664), ('chooses', 2665), ('chosen', 2666), ('christian', 2667), ('chuckle', 2668), ('cigarette', 2669), ('cinematography', 2670), ('cities', 2671), ('civil', 2672), ('clapping', 2673), ('classics', 2674), ('click', 2675), ('client', 2676), ('climb', 2677), ('climbed', 2678), ('clinging', 2679), ('clinton', 2680), ('closed', 2681), ('closest', 2682), ('cloud', 2683), ('cloudy', 2684), ('clowns', 2685), ('cmmyd', 2686), ('co', 2687), ('coaches', 2688), ('cocktails', 2689), ('coffin', 2690), ('coke', 2691), ('cokie', 2692), ('collab', 2693), ('collapse', 2694), ('collapses', 2695), ('colts', 2696), ('combination', 2697), ('combined', 2698), ('comedies', 2699), ('comfort', 2700), ('comforting', 2701), ('commando', 2702), ('commentary', 2703), ('comments', 2704), ('community', 2705), ('communitysleepcoach', 2706), ('companies', 2707), ('companion', 2708), ('companions', 2709), ('compatibility', 2710), ('competitive', 2711), ('compilations', 2712), ('compiled', 2713), ('complete', 2714), ('completely', 2715), ('complimentary', 2716), ('compromise', 2717), ('concert', 2718), ('condolences', 2719), ('confessions', 2720), ('confidence', 2721), ('congratulate', 2722), ('congress', 2723), ('connie', 2724), ('constant', 2725), ('constraints', 2726), ('cont2', 2727), ('contestants', 2728), ('continually', 2729), ('control', 2730), ('controlled', 2731), ('converse', 2732), ('convo', 2733), ('convos', 2734), ('cookie', 2735), ('coon', 2736), ('coping', 2737), ('cops', 2738), ('coq', 2739), ('core', 2740), ('corner', 2741), ('corners', 2742), ('corridors', 2743), ('cos', 2744), ('costs', 2745), ('couch', 2746), ('counsel', 2747), ('counted', 2748), ('countenance', 2749), ('counterintuitively', 2750), ('countryside', 2751), ('court', 2752), ('covered', 2753), ('cowboys', 2754), ('cows', 2755), ('coz', 2756), ('cqhshjsi', 2757), ('crack', 2758), ('cracking', 2759), ('created', 2760), ('crew', 2761), ('crickets', 2762), ('criminal', 2763), ('crinkling', 2764), ('crofting', 2765), ('cronies', 2766), ('crossfit', 2767), ('crossing', 2768), ('crossover', 2769), ('crowd', 2770), ('crushes', 2771), ('cst', 2772), ('cultivate', 2773), ('cum', 2774), ('cup', 2775), ('curiosity', 2776), ('current', 2777), ('curtains', 2778), ('curve', 2779), ('curving', 2780), ('cushion', 2781), ('cutest', 2782), ('cx', 2783), ('cyprus', 2784), ('da', 2785), ('dabbed', 2786), ('dalai', 2787), ('damon', 2788), ('dan', 2789), ('darker', 2790), ('darkest', 2791), ('darn', 2792), ('darren', 2793), ('dashed', 2794), ('data', 2795), ('dates', 2796), ('dating', 2797), ('daughter', 2798), ('daughters', 2799), ('david', 2800), ('dawn', 2801), ('dayof', 2802), ('dbs', 2803), ('dc', 2804), ('dean', 2805), ('deaths', 2806), ('debuts', 2807), ('decent', 2808), ('decided', 2809), ('decomposing', 2810), ('deep', 2811), ('def', 2812), ('defeated', 2813), ('defending', 2814), ('defiantly', 2815), ('defo', 2816), ('degenerates', 2817), ('delegation', 2818), ('deleted', 2819), ('delicious', 2820), ('deliver', 2821), ('dell', 2822), ('demi', 2823), ('demilterization', 2824), ('demise', 2825), ('demon', 2826), ('demonstrating', 2827), ('denigrate', 2828), ('denny', 2829), ('dense', 2830), ('denser', 2831), ('dependent', 2832), ('depict', 2833), ('depravity', 2834), ('depressed', 2835), ('dept', 2836), ('depth', 2837), ('describes', 2838), ('desgusting', 2839), ('design', 2840), ('designs', 2841), ('dessert', 2842), ('details', 2843), ('determined', 2844), ('determining', 2845), ('detroit', 2846), ('devastating', 2847), ('developed', 2848), ('developers', 2849), ('deviant', 2850), ('devil', 2851), ('devoid', 2852), ('devon', 2853), ('devout', 2854), ('dg', 2855), ('dialogue', 2856), ('dies', 2857), ('dignified', 2858), ('dilemma', 2859), ('diminish', 2860), ('diner', 2861), ('dingle', 2862), ('diplomacy', 2863), ('diplomat', 2864), ('directions', 2865), ('director', 2866), ('disappearing', 2867), ('discomfort', 2868), ('discord', 2869), ('discovered', 2870), ('discuss', 2871), ('disgrace', 2872), ('dishes', 2873), ('disrespect', 2874), ('distance', 2875), ('distinguished', 2876), ('distracted', 2877), ('diversity', 2878), ('divided', 2879), ('django', 2880), ('dming', 2881), ('dn', 2882), ('doctor', 2883), ('docu', 2884), ('doings', 2885), ('dolores', 2886), ('domestic', 2887), ('doorjambs', 2888), ('doth', 2889), ('doubles', 2890), ('doubt', 2891), ('dprk', 2892), ('drake', 2893), ('dramatically', 2894), ('dreams', 2895), ('dress', 2896), ('dressers', 2897), ('dresses', 2898), ('driven', 2899), ('drivers', 2900), ('driving', 2901), ('drooling', 2902), ('drown', 2903), ('drunk', 2904), ('drunken', 2905), ('ducked', 2906), ('duha', 2907), ('dunno', 2908), ('dutch', 2909), ('duterte', 2910), ('dvlpt', 2911), ('dwight', 2912), ('dysfunctional', 2913), ('ealing', 2914), ('earth', 2915), ('eas', 2916), ('easily', 2917), ('echoed', 2918), ('echoes', 2919), ('economic', 2920), ('eddy', 2921), ('educational', 2922), ('efficient', 2923), ('egg', 2924), ('ego', 2925), ('egypt', 2926), ('el', 2927), ('elation', 2928), ('election', 2929), ('electro', 2930), ('elegance', 2931), ('elevated', 2932), ('elicits', 2933), ('eliminated', 2934), ('elinor', 2935), ('elites', 2936), ('elizabeth', 2937), ('elizabethan', 2938), ('elton', 2939), ('elyse', 2940), ('embarrassed', 2941), ('emerson', 2942), ('emoji', 2943), ('emoticons', 2944), ('emotion', 2945), ('emotional', 2946), ('emotionalhedge', 2947), ('emotions', 2948), ('empty', 2949), ('endearing', 2950), ('ended', 2951), ('endorsement', 2952), ('ends', 2953), ('engineering', 2954), ('engiybhekayo', 2955), ('english', 2956), ('enhanced', 2957), ('enhancment', 2958), ('enigmatic', 2959), ('enjoyable', 2960), ('enjoying', 2961), ('enliven', 2962), ('ensue', 2963), ('ensues', 2964), ('ensure', 2965), ('entertainment', 2966), ('enthusiastic', 2967), ('entice', 2968), ('entirely', 2969), ('epicurus', 2970), ('equestrian', 2971), ('equivalent', 2972), ('ers', 2973), ('escape', 2974), ('espinosa', 2975), ('essential', 2976), ('eternal', 2977), ('eternity', 2978), ('eva', 2979), ('eve', 2980), ('evenin', 2981), ('everone', 2982), ('everythings', 2983), ('evolution', 2984), ('evolve', 2985), ('evolvement', 2986), ('exact', 2987), ('exactment', 2988), ('excitement', 2989), ('exhilarate', 2990), ('exist', 2991), ('existence', 2992), ('expectation', 2993), ('expected', 2994), ('expecting', 2995), ('expense', 2996), ('expensive', 2997), ('explain', 2998), ('explaining', 2999), ('explanation', 3000), ('explicits', 3001), ('exponentially', 3002), ('expressed', 3003), ('extended', 3004), ('eyed', 3005), ('eyelashes', 3006), ('eyepatch', 3007), ('eyggjxml', 3008), ('f', 3009), ('fab', 3010), ('faced', 3011), ('facets', 3012), ('failed', 3013), ('faith', 3014), ('faithful', 3015), ('faking', 3016), ('familiar', 3017), ('families', 3018), ('famous', 3019), ('fancy', 3020), ('fanfiction', 3021), ('fanz', 3022), ('farmhouse', 3023), ('fashion', 3024), ('fast', 3025), ('faster', 3026), ('fault', 3027), ('fave', 3028), ('favor', 3029), ('favorite', 3030), ('fays', 3031), ('fcking', 3032), ('fee', 3033), ('feed', 3034), ('feelings', 3035), ('fees', 3036), ('feet', 3037), ('fellow', 3038), ('females', 3039), ('fence', 3040), ('ff', 3041), ('ffs', 3042), ('fg2a', 3043), ('fighting', 3044), ('fights', 3045), ('figuring', 3046), ('filming', 3047), ('finale', 3048), ('finger', 3049), ('fingers', 3050), ('fitlife', 3051), ('fix', 3052), ('flag', 3053), ('flailing', 3054), ('flakes', 3055), ('flash', 3056), ('flawless', 3057), ('flick', 3058), ('flirting', 3059), ('floor', 3060), ('flourishes', 3061), ('flower', 3062), ('flushed', 3063), ('fodder', 3064), ('folding', 3065), ('folk', 3066), ('followed', 3067), ('follower', 3068), ('font', 3069), ('fooled', 3070), ('force', 3071), ('forego', 3072), ('foreign', 3073), ('foreigners', 3074), ('forest', 3075), ('forgiving', 3076), ('former', 3077), ('forth', 3078), ('foundation', 3079), ('fox', 3080), ('fr', 3081), ('francoise', 3082), ('freedom', 3083), ('freezer', 3084), ('french', 3085), ('freshly', 3086), ('freshmen', 3087), ('freudian', 3088), ('fried', 3089), ('friendship', 3090), ('frighteningly', 3091), ('frisbee', 3092), ('frivolity', 3093), ('froa', 3094), ('frolicsome', 3095), ('frown', 3096), ('fructose', 3097), ('fruit', 3098), ('frustrate', 3099), ('frustrated', 3100), ('frybread', 3101), ('ft', 3102), ('fu*king', 3103), ('fucked', 3104), ('fuckign', 3105), ('fuckin', 3106), ('fueled', 3107), ('fulfilling', 3108), ('function', 3109), ('funerals', 3110), ('funniest', 3111), ('funsville', 3112), ('furniture', 3113), ('further', 3114), ('fut', 3115), ('fx', 3116), ('galaxy', 3117), ('gamay', 3118), ('gaming', 3119), ('gangster', 3120), ('garageband', 3121), ('garbage', 3122), ('garden', 3123), ('garrett', 3124), ('gasp', 3125), ('gaudreau', 3126), ('gby', 3127), ('gears', 3128), ('geek', 3129), ('geese', 3130), ('gemma', 3131), ('generally', 3132), ('generations', 3133), ('genetics', 3134), ('geniuses', 3135), ('gently', 3136), ('geo', 3137), ('geometry', 3138), ('gershwin', 3139), ('gets20', 3140), ('gf', 3141), ('ghost', 3142), ('gideon', 3143), ('gkn', 3144), ('glance', 3145), ('glanced', 3146), ('glasgow', 3147), ('glass', 3148), ('gleesome', 3149), ('gloria', 3150), ('gloriosa', 3151), ('glossed', 3152), ('glow', 3153), ('glowing', 3154), ('gluttony', 3155), ('gn', 3156), ('goats', 3157), ('gobbler', 3158), ('goggles', 3159), ('goldbergs', 3160), ('gona', 3161), ('goo', 3162), ('goofiest', 3163), ('goofy', 3164), ('google', 3165), ('goosebumps', 3166), ('gorgeous', 3167), ('gosh', 3168), ('gosling', 3169), ('gough', 3170), ('gov', 3171), ('grace', 3172), ('graced', 3173), ('graceful', 3174), ('grade', 3175), ('grandson', 3176), ('granny', 3177), ('grant', 3178), ('grate', 3179), ('gratin', 3180), ('gratitude', 3181), ('greed', 3182), ('greengrass', 3183), ('greet', 3184), ('greeted', 3185), ('grid', 3186), ('grief', 3187), ('grim', 3188), ('grin', 3189), ('grinned', 3190), ('grins', 3191), ('gripping', 3192), ('groans', 3193), ('growls', 3194), ('grudgingly', 3195), ('grumbled', 3196), ('grumpy', 3197), ('guber', 3198), ('gud', 3199), ('guesses', 3200), ('guffaw', 3201), ('guilt', 3202), ('guitar', 3203), ('gulps', 3204), ('gunna', 3205), ('gunners', 3206), ('gustin', 3207), ('guts', 3208), ('gutted', 3209), ('h', 3210), ('ha', 3211), ('hah', 3212), ('hahahaha', 3213), ('hahahahahaha', 3214), ('hahahahahahaha', 3215), ('haired', 3216), ('halloween', 3217), ('halsey', 3218), ('ham', 3219), ('hand', 3220), ('handmade', 3221), ('handshake', 3222), ('harbour', 3223), ('harder', 3224), ('harking', 3225), ('harley', 3226), ('harry', 3227), ('harwood', 3228), ('hashtag', 3229), ('hassle', 3230), ('hater', 3231), ('hates', 3232), ('hats', 3233), ('hattrick', 3234), ('havent', 3235), ('hawkings', 3236), ('headed', 3237), ('heads', 3238), ('heap', 3239), ('hears', 3240), ('heartfelt', 3241), ('heather', 3242), ('hedonic', 3243), ('heel', 3244), ('held', 3245), ('hella', 3246), ('helluva', 3247), ('helpless', 3248), ('helps', 3249), ('hemmings', 3250), ('hephxho', 3251), ('heres', 3252), ('hernandez', 3253), ('heroes', 3254), ('herself', 3255), ('hesitantly', 3256), ('hestia', 3257), ('hide', 3258), ('highlight', 3259), ('hilt', 3260), ('himself', 3261), ('hindsight', 3262), ('hire', 3263), ('hitting', 3264), ('hms', 3265), ('hobbit', 3266), ('hole', 3267), ('hollywood', 3268), ('homefolks', 3269), ('homestyle', 3270), ('honestly', 3271), ('honor', 3272), ('honorable', 3273), ('honored', 3274), ('honoured', 3275), ('hooked', 3276), ('hop', 3277), ('horny', 3278), ('horror', 3279), ('horse', 3280), ('hospitalized', 3281), ('hotel', 3282), ('hound', 3283), ('houston', 3284), ('hovering', 3285), ('hovers', 3286), ('howling', 3287), ('hrs', 3288), ('hsnhzmjsc', 3289), ('hssu', 3290), ('htt', 3291), ('hubby', 3292), ('hug', 3293), ('hugging', 3294), ('hughes', 3295), ('hulu', 3296), ('humbly', 3297), ('humor', 3298), ('humping', 3299), ('hurting', 3300), ('hysterical', 3301), ('ian', 3302), ('icc', 3303), ('iced', 3304), ('ices', 3305), ('icon', 3306), ('icy', 3307), ('id', 3308), ('idc', 3309), ('idea', 3310), ('ideal', 3311), ('identity', 3312), ('idol', 3313), ('idolize', 3314), ('ignorance', 3315), ('ignored', 3316), ('ignoring', 3317), ('ihwph', 3318), ('ill', 3319), ('ily', 3320), ('images', 3321), ('imaginative', 3322), ('imessage', 3323), ('immolation', 3324), ('imo', 3325), ('imply', 3326), ('impress', 3327), ('impressive', 3328), ('improving', 3329), ('inactive', 3330), ('inappropriate', 3331), ('inc', 3332), ('incetown', 3333), ('included', 3334), ('increasing', 3335), ('indymn', 3336), ('infants', 3337), ('infectious', 3338), ('infinite', 3339), ('inflatable', 3340), ('influence', 3341), ('influenced', 3342), ('info', 3343), ('ing', 3344), ('ingest', 3345), ('inglorious', 3346), ('inhuman', 3347), ('iniesta', 3348), ('injecting', 3349), ('inmates', 3350), ('inner', 3351), ('innovative', 3352), ('inquiries', 3353), ('insides', 3354), ('inspired', 3355), ('instagram', 3356), ('instagramers', 3357), ('installed', 3358), ('instantly', 3359), ('instructional', 3360), ('insurance', 3361), ('insure', 3362), ('intelligence', 3363), ('interested', 3364), ('intermit', 3365), ('internet', 3366), ('interpreting', 3367), ('interrogation', 3368), ('interrupt', 3369), ('interviews', 3370), ('introducing', 3371), ('invaluable', 3372), ('invisible', 3373), ('invite', 3374), ('inviting', 3375), ('involved', 3376), ('ios10', 3377), ('ipaglabanmo', 3378), ('iphone', 3379), ('ipswich', 3380), ('iraq', 3381), ('ironman', 3382), ('irrelevant', 3383), ('irruptive', 3384), ('isaiah', 3385), ('ish', 3386), ('ishqbaaz', 3387), ('itll', 3388), ('itnis', 3389), ('itself', 3390), ('itt', 3391), ('iwldpe', 3392), ('izzy', 3393), ('jade', 3394), ('jail', 3395), ('jammies', 3396), ('jammy', 3397), ('janak', 3398), ('japes', 3399), ('jasperino', 3400), ('jauntily', 3401), ('jawbone', 3402), ('jaws', 3403), ('jd', 3404), ('jedi', 3405), ('jelly', 3406), ('jerk', 3407), ('jerkass', 3408), ('jersey', 3409), ('jetlag', 3410), ('jewels', 3411), ('jigaboo', 3412), ('jkuvmvqxy', 3413), ('johnny', 3414), ('joined', 3415), ('joining', 3416), ('joke', 3417), ('jokes', 3418), ('jolie', 3419), ('jonza', 3420), ('joyce', 3421), ('jpod', 3422), ('jstor', 3423), ('judge', 3424), ('julian', 3425), ('jummah', 3426), ('jumping', 3427), ('jungle', 3428), ('jus', 3429), ('justin', 3430), ('juxtaposition', 3431), ('kaml', 3432), ('kap', 3433), ('kardashian', 3434), ('karl', 3435), ('kashmires', 3436), ('kayaking', 3437), ('kayaks', 3438), ('kda', 3439), ('keifer', 3440), ('kelvin', 3441), ('kenneth', 3442), ('kept', 3443), ('kerry', 3444), ('kicked', 3445), ('killer', 3446), ('kills', 3447), ('kip', 3448), ('kirby', 3449), ('kisses', 3450), ('kissing', 3451), ('kitten', 3452), ('kjv', 3453), ('knitting', 3454), ('knocks', 3455), ('knows', 3456), ('knvfkkjg', 3457), ('korgoth', 3458), ('kudos', 3459), ('kyle', 3460), ('kzfqr', 3461), ('labeled', 3462), ('lacan', 3463), ('lack', 3464), ('lackeys', 3465), ('lakis', 3466), ('lama', 3467), ('lame', 3468), ('lara', 3469), ('latest', 3470), ('laudrup', 3471), ('laurel', 3472), ('laurie', 3473), ('lawsuit', 3474), ('layout', 3475), ('le', 3476), ('lea', 3477), ('lead', 3478), ('leafy', 3479), ('leap', 3480), ('leaqiwy', 3481), ('learned', 3482), ('learnt', 3483), ('lebanon', 3484), ('led', 3485), ('lengthening', 3486), ('leon', 3487), ('lers', 3488), ('lesson', 3489), ('lest', 3490), ('letter', 3491), ('letters', 3492), ('levels', 3493), ('ley', 3494), ('lfc', 3495), ('li', 3496), ('liarthiefscoundrel', 3497), ('liberals', 3498), ('liberated', 3499), ('lick', 3500), ('lies', 3501), ('lifelong', 3502), ('lifetime', 3503), ('lighthearted', 3504), ('lightly', 3505), ('likefor', 3506), ('likely', 3507), ('lingua', 3508), ('link', 3509), ('lip', 3510), ('lipped', 3511), ('lipstick', 3512), ('lisavikingstad', 3513), ('lisse', 3514), ('literature', 3515), ('liver', 3516), ('liverpool', 3517), ('lkskqufke', 3518), ('llnp', 3519), ('lmaoo', 3520), ('lo', 3521), ('loading', 3522), ('lobby', 3523), ('lochte', 3524), ('lock', 3525), ('lof', 3526), ('logically', 3527), ('lolz', 3528), ('loosen', 3529), ('looting', 3530), ('lordderply', 3531), ('losers', 3532), ('losing', 3533), ('losses', 3534), ('lott', 3535), ('loudon', 3536), ('lovato', 3537), ('loveet', 3538), ('lovelier', 3539), ('lover', 3540), ('lowe', 3541), ('lowers', 3542), ('lowkey', 3543), ('lowly', 3544), ('lucha', 3545), ('lucina', 3546), ('luckii', 3547), ('lufc', 3548), ('luis', 3549), ('lunatic', 3550), ('lundqvist', 3551), ('lungs', 3552), ('lurk', 3553), ('luther', 3554), ('luxurious', 3555), ('lv', 3556), ('lways', 3557), ('lyre', 3558), ('mackinnon', 3559), ('mackinonns', 3560), ('macos', 3561), ('madhouse', 3562), ('madly', 3563), ('mail', 3564), ('maine', 3565), ('maintain', 3566), ('maker', 3567), ('maketh', 3568), ('maliciously', 3569), ('mam', 3570), ('manage', 3571), ('manager', 3572), ('managers', 3573), ('maniac', 3574), ('manner', 3575), ('manuellynch99', 3576), ('manutd', 3577), ('margaret', 3578), ('marilyn', 3579), ('mariners', 3580), ('mario', 3581), ('marks', 3582), ('martin', 3583), ('mary', 3584), ('mass', 3585), ('mastered', 3586), ('matches', 3587), ('materialistic', 3588), ('math', 3589), ('matrix', 3590), ('matt', 3591), ('matter', 3592), ('matters', 3593), ('mattress', 3594), ('mb', 3595), ('md', 3596), ('meaningful', 3597), ('meanwhile', 3598), ('meatloaf', 3599), ('mebbe', 3600), ('medically', 3601), ('meditative', 3602), ('meetings', 3603), ('meets', 3604), ('mel', 3605), ('melbjs', 3606), ('melissa', 3607), ('melt', 3608), ('memorable', 3609), ('mendes', 3610), ('menninger', 3611), ('mental', 3612), ('mention', 3613), ('mentioned', 3614), ('mentions', 3615), ('menus', 3616), ('meogys', 3617), ('merci', 3618), ('merrier', 3619), ('messaging', 3620), ('metal', 3621), ('metaphor', 3622), ('metaphysics', 3623), ('meters', 3624), ('meth', 3625), ('mh', 3626), ('michael', 3627), ('michelle', 3628), ('mick', 3629), ('microsoft_', 3630), ('mid', 3631), ('middlesbrough', 3632), ('midterm', 3633), ('midweek', 3634), ('mikey', 3635), ('mile', 3636), ('milkmaid', 3637), ('millenials', 3638), ('million', 3639), ('mingo', 3640), ('minimize', 3641), ('mins', 3642), ('mints', 3643), ('mirana', 3644), ('mirror', 3645), ('mischievous', 3646), ('miserable', 3647), ('mishle', 3648), ('misogyny', 3649), ('missing', 3650), ('mississippi', 3651), ('mistook', 3652), ('mitts', 3653), ('mitzvah', 3654), ('mix', 3655), ('mode', 3656), ('moderately', 3657), ('modi', 3658), ('moments', 3659), ('monday', 3660), ('monotonous', 3661), ('monroe', 3662), ('monster', 3663), ('monsters', 3664), ('montalvo', 3665), ('moo', 3666), ('moons', 3667), ('moron', 3668), ('motivational', 3669), ('motteville', 3670), ('mouchole', 3671), ('mountain', 3672), ('mourinho', 3673), ('mouth', 3674), ('movements', 3675), ('moves', 3676), ('movies', 3677), ('moving', 3678), ('mpn', 3679), ('mqnaocu', 3680), ('ms', 3681), ('msm', 3682), ('mt', 3683), ('mubarak', 3684), ('mucus', 3685), ('mug', 3686), ('murmuring', 3687), ('murphy', 3688), ('muslims', 3689), ('mustache_harbor', 3690), ('muzzle', 3691), ('myspace', 3692), ('n*she', 3693), ('n10', 3694), ('n311', 3695), ('nah', 3696), ('naivety', 3697), ('nalso', 3698), ('nalways', 3699), ('named', 3700), ('nand', 3701), ('nanny', 3702), ('narcoleptic', 3703), ('nare', 3704), ('narkham', 3705), ('nat', 3706), ('natong', 3707), ('naturally', 3708), ('nature', 3709), ('nbaby', 3710), ('nblushing', 3711), ('nbut', 3712), ('ncaa', 3713), ('ndare', 3714), ('near', 3715), ('nearly', 3716), ('neating', 3717), ('necessary', 3718), ('necessity', 3719), ('neck', 3720), ('neeze', 3721), ('nephalism', 3722), ('nephews', 3723), ('nerve', 3724), ('nerves', 3725), ('nervous', 3726), ('net', 3727), ('net_framework_4', 3728), ('newbies', 3729), ('nga', 3730), ('ngood', 3731), ('nharry', 3732), ('nheart', 3733), ('nhlnyc', 3734), ('nhlnycsweepstakes', 3735), ('nhobbit', 3736), ('nhow', 3737), ('nibbles', 3738), ('nicest', 3739), ('nick', 3740), ('nif', 3741), ('nigger', 3742), ('nights', 3743), ('nihari', 3744), ('nill', 3745), ('nin', 3746), ('ninaturner', 3747), ('ninto', 3748), ('nirvana', 3749), ('niv', 3750), ('nkindly', 3751), ('nmake', 3752), ('nmichael', 3753), ('nmore', 3754), ('nmummified', 3755), ('nmy', 3756), ('nnot', 3757), ('nnow', 3758), ('noah', 3759), ('nods', 3760), ('nof', 3761), ('nol', 3762), ('nominate', 3763), ('nonsense', 3764), ('noodle', 3765), ('noodles', 3766), ('nor', 3767), ('normally', 3768), ('normy', 3769), ('northampton', 3770), ('nostalgia', 3771), ('note', 3772), ('notebooks', 3773), ('nother', 3774), ('notice', 3775), ('notification', 3776), ('nov26', 3777), ('npraise', 3778), ('npsa113', 3779), ('npursing', 3780), ('nsam', 3781), ('nsfw', 3782), ('nshe', 3783), ('nshut', 3784), ('ntalk', 3785), ('nthank', 3786), ('nthat', 3787), ('nthere', 3788), ('nthey', 3789), ('nto', 3790), ('ntoday', 3791), ('ntomiho', 3792), ('nuclear', 3793), ('nuse', 3794), ('nwest', 3795), ('nwhat', 3796), ('nwho', 3797), ('nwill', 3798), ('nyes', 3799), ('nyou', 3800), ('nything', 3801), ('oakland', 3802), ('obc', 3803), ('obfuscated', 3804), ('object', 3805), ('oblivion', 3806), ('obnoxious', 3807), ('obscura', 3808), ('observant', 3809), ('observation', 3810), ('observing', 3811), ('obvious', 3812), ('obviously', 3813), ('occasional', 3814), ('occasionally', 3815), ('od', 3816), ('odell', 3817), ('offensive', 3818), ('offer', 3819), ('official', 3820), ('offline', 3821), ('ogre', 3822), ('oii', 3823), ('ointment', 3824), ('olives', 3825), ('omd', 3826), ('ondo', 3827), ('onision', 3828), ('onstage', 3829), ('onto', 3830), ('opened', 3831), ('openly', 3832), ('opinions', 3833), ('oppressor', 3834), ('optimistic', 3835), ('optimization', 3836), ('options', 3837), ('ordering', 3838), ('oregon', 3839), ('organ', 3840), ('orient', 3841), ('origins', 3842), ('os', 3843), ('oscillation', 3844), ('ostentatious', 3845), ('ounce', 3846), ('ours', 3847), ('ourselves', 3848), ('outage', 3849), ('outfit', 3850), ('outta', 3851), ('overheard', 3852), ('overthinking', 3853), ('ovet', 3854), ('owners', 3855), ('pa', 3856), ('package', 3857), ('pages', 3858), ('paid', 3859), ('paige', 3860), ('painful', 3861), ('paint', 3862), ('pal', 3863), ('pale', 3864), ('palm', 3865), ('pals', 3866), ('pampa', 3867), ('pandering', 3868), ('panel', 3869), ('panther', 3870), ('parade', 3871), ('paradigm', 3872), ('parched', 3873), ('parent', 3874), ('parents', 3875), ('parking', 3876), ('participants', 3877), ('particularly', 3878), ('parties', 3879), ('partners', 3880), ('passenger', 3881), ('passing', 3882), ('passionate', 3883), ('pastel', 3884), ('path', 3885), ('pathetic', 3886), ('patience', 3887), ('patient', 3888), ('patients', 3889), ('patron', 3890), ('patroons', 3891), ('paused', 3892), ('pavel', 3893), ('pawpaw', 3894), ('paws', 3895), ('pay', 3896), ('payet', 3897), ('peacebuilding', 3898), ('peacekeepers', 3899), ('peeping', 3900), ('peer', 3901), ('peers', 3902), ('peg', 3903), ('pens', 3904), ('per', 3905), ('perceived', 3906), ('performance', 3907), ('performances', 3908), ('personality', 3909), ('personally', 3910), ('pervert', 3911), ('pessimism', 3912), ('pet', 3913), ('peterson', 3914), ('phases', 3915), ('phenomanal', 3916), ('philippians', 3917), ('phillips', 3918), ('phones', 3919), ('photograph', 3920), ('php54', 3921), ('pic', 3922), ('pick', 3923), ('picked', 3924), ('pickup', 3925), ('pics', 3926), ('pictures', 3927), ('piers', 3928), ('pikxb', 3929), ('pilot', 3930), ('pinafore', 3931), ('pinch', 3932), ('pink', 3933), ('pinky', 3934), ('pinning', 3935), ('pinterest', 3936), ('pissed', 3937), ('pistols', 3938), ('pitt', 3939), ('pittsburgh', 3940), ('pixel', 3941), ('plan', 3942), ('planet', 3943), ('planning', 3944), ('plant', 3945), ('plants', 3946), ('plop', 3947), ('plot', 3948), ('plum', 3949), ('pno', 3950), ('po', 3951), ('pochama', 3952), ('pochettino', 3953), ('pocket', 3954), ('poems', 3955), ('poet', 3956), ('poetic', 3957), ('pointless', 3958), ('points', 3959), ('pole', 3960), ('political', 3961), ('poll', 3962), ('pool', 3963), ('popped', 3964), ('popular', 3965), ('popularization', 3966), ('port', 3967), ('porthole', 3968), ('portrait', 3969), ('pos', 3970), ('pose', 3971), ('positions', 3972), ('positives', 3973), ('pot', 3974), ('potter', 3975), ('poured', 3976), ('powerful', 3977), ('powerpoint', 3978), ('pp', 3979), ('pray', 3980), ('prayers', 3981), ('predictions', 3982), ('predicts', 3983), ('prefer', 3984), ('prematured', 3985), ('premiers', 3986), ('prepare', 3987), ('prepped', 3988), ('prescription', 3989), ('presentation', 3990), ('presentations', 3991), ('press', 3992), ('pressed', 3993), ('pressure', 3994), ('previous', 3995), ('priceless', 3996), ('prick', 3997), ('pricks', 3998), ('pride', 3999), ('priests', 4000), ('principle', 4001), ('prison', 4002), ('private', 4003), ('pro', 4004), ('produced', 4005), ('produces', 4006), ('productive', 4007), ('prof', 4008), ('profession', 4009), ('professional', 4010), ('professor', 4011), ('proficiency', 4012), ('profile', 4013), ('profit', 4014), ('profitable', 4015), ('prohibitionists', 4016), ('project', 4017), ('prolly', 4018), ('prom', 4019), ('pronouncing', 4020), ('propensity', 4021), ('proper', 4022), ('proprieties', 4023), ('protect', 4024), ('protesters', 4025), ('proven', 4026), ('provided', 4027), ('ps2', 4028), ('psa', 4029), ('psalm', 4030), ('psychology', 4031), ('pto', 4032), ('ptsd', 4033), ('publicly', 4034), ('pulls', 4035), ('pulpit', 4036), ('pummeling', 4037), ('pumping', 4038), ('punchline', 4039), ('punkin', 4040), ('puppies', 4041), ('pups', 4042), ('push', 4043), ('pussy', 4044), ('qmiv', 4045), ('queen', 4046), ('queendom', 4047), ('queens', 4048), ('quick', 4049), ('quickly', 4050), ('quoteoftheday', 4051), ('rachel', 4052), ('raiders', 4053), ('rain', 4054), ('rainbows', 4055), ('raining', 4056), ('rainy', 4057), ('raise', 4058), ('raised', 4059), ('ralph', 4060), ('random', 4061), ('randomly', 4062), ('range', 4063), ('raper', 4064), ('rapeseed', 4065), ('rapidly', 4066), ('rapids', 4067), ('rappers', 4068), ('rapping', 4069), ('rar', 4070), ('rare', 4071), ('rast', 4072), ('rasta', 4073), ('rat', 4074), ('ratio', 4075), ('rcmh', 4076), ('reaches', 4077), ('react', 4078), ('reactions', 4079), ('realisation', 4080), ('realising', 4081), ('realization', 4082), ('rebuild', 4083), ('receive', 4084), ('reckon', 4085), ('reclaimed', 4086), ('recognized', 4087), ('record', 4088), ('recorded', 4089), ('recording', 4090), ('redefine', 4091), ('reflect', 4092), ('reformation', 4093), ('refs', 4094), ('refuse', 4095), ('regard', 4096), ('regenerated', 4097), ('regimes', 4098), ('reginald', 4099), ('regular', 4100), ('regulation', 4101), ('regulus', 4102), ('rehoi', 4103), ('rei', 4104), ('reid', 4105), ('reinvigorated', 4106), ('rejoices', 4107), ('relations', 4108), ('relationships', 4109), ('relatives', 4110), ('relaxing', 4111), ('release', 4112), ('relentless', 4113), ('relentlessly', 4114), ('relevant', 4115), ('religious', 4116), ('relive', 4117), ('remain', 4118), ('remembering', 4119), ('remind', 4120), ('render', 4121), ('renew', 4122), ('renown', 4123), ('rep', 4124), ('reparations', 4125), ('repentance', 4126), ('replaced', 4127), ('reporting', 4128), ('require', 4129), ('researching', 4130), ('reservation', 4131), ('resident', 4132), ('respectful', 4133), ('responsibility', 4134), ('restaurant', 4135), ('retaliation', 4136), ('return', 4137), ('returned', 4138), ('retweet', 4139), ('reveal', 4140), ('revealed', 4141), ('revelation', 4142), ('review', 4143), ('revision', 4144), ('reynolds', 4145), ('rfpbax', 4146), ('rhythm', 4147), ('ri', 4148), ('riches', 4149), ('ridiculous', 4150), ('riding', 4151), ('rikona', 4152), ('rise', 4153), ('risk', 4154), ('risky', 4155), ('ritual', 4156), ('rivers', 4157), ('rob', 4158), ('robot', 4159), ('rodrigo', 4160), ('roland', 4161), ('rollerblades', 4162), ('romcoms', 4163), ('rope', 4164), ('rose', 4165), ('roses', 4166), ('rosy', 4167), ('roth', 4168), ('rub', 4169), ('rubbing', 4170), ('ruins', 4171), ('run', 4172), ('russia', 4173), ('ruth', 4174), ('rwanda', 4175), ('sable', 4176), ('sacrificed', 4177), ('sacrifices', 4178), ('saddened', 4179), ('saf', 4180), ('safe', 4181), ('sager', 4182), ('sales', 4183), ('salespeople', 4184), ('salon', 4185), ('salt', 4186), ('saltes', 4187), ('sanki', 4188), ('saps', 4189), ('sat', 4190), ('satan', 4191), ('satisfied', 4192), ('saturdaynightlive', 4193), ('saudi', 4194), ('saves', 4195), ('savory', 4196), ('scarf', 4197), ('scarring', 4198), ('sceen', 4199), ('scenery', 4200), ('scent', 4201), ('schaaf', 4202), ('schools', 4203), ('scoffed', 4204), ('scra', 4205), ('scratched', 4206), ('scream', 4207), ('screams', 4208), ('screen', 4209), ('scripted', 4210), ('scrum', 4211), ('searching', 4212), ('seasons', 4213), ('secretary', 4214), ('section', 4215), ('seek', 4216), ('seemed', 4217), ('sef', 4218), ('segment', 4219), ('selflessly', 4220), ('selling', 4221), ('semores', 4222), ('senator', 4223), ('sending', 4224), ('sends', 4225), ('senior', 4226), ('sense', 4227), ('sentient', 4228), ('seo', 4229), ('separates', 4230), ('servants', 4231), ('served', 4232), ('services', 4233), ('settled', 4234), ('sevylor', 4235), ('sexually', 4236), ('sg', 4237), ('shabazz', 4238), ('shade', 4239), ('shakespearean', 4240), ('shame', 4241), ('shanghais', 4242), ('shared', 4243), ('shark', 4244), ('shattering', 4245), ('shawty', 4246), ('sheet', 4247), ('shh', 4248), ('shining', 4249), ('shiny', 4250), ('shipped', 4251), ('shite', 4252), ('shittalking', 4253), ('shoes', 4254), ('shook', 4255), ('shooting', 4256), ('shopping', 4257), ('shorty', 4258), ('shot', 4259), ('shots', 4260), ('shoulders', 4261), ('shouting', 4262), ('shove', 4263), ('shown', 4264), ('shred', 4265), ('shy', 4266), ('siblings', 4267), ('sid', 4268), ('sidedly', 4269), ('sign', 4270), ('siguemeytesigo', 4271), ('silky', 4272), ('similar', 4273), ('simmons', 4274), ('simon', 4275), ('simultaneously', 4276), ('sincere', 4277), ('sing', 4278), ('sioux', 4279), ('sip', 4280), ('sipping', 4281), ('sisters', 4282), ('sites', 4283), ('sitting', 4284), ('six', 4285), ('sixth', 4286), ('skating', 4287), ('skein', 4288), ('skin', 4289), ('skinny', 4290), ('skull', 4291), ('sky', 4292), ('skydrive', 4293), ('slavery', 4294), ('slid', 4295), ('slide', 4296), ('slip', 4297), ('slutty', 4298), ('smack', 4299), ('small', 4300), ('smallest', 4301), ('smell', 4302), ('smelled', 4303), ('smells', 4304), ('smiled', 4305), ('smirk', 4306), ('smith', 4307), ('smithsonian', 4308), ('smoking', 4309), ('smoky', 4310), ('smoother', 4311), ('smth', 4312), ('snap', 4313), ('snow', 4314), ('soaked', 4315), ('sob', 4316), ('socialmedia', 4317), ('society', 4318), ('sofa', 4319), ('soft', 4320), ('solange', 4321), ('sold', 4322), ('soldier', 4323), ('solo', 4324), ('solutions', 4325), ('solved', 4326), ('someday', 4327), ('somewhere', 4328), ('soo', 4329), ('soothe', 4330), ('soros', 4331), ('sort', 4332), ('sorta', 4333), ('soundtrack', 4334), ('soup', 4335), ('sour', 4336), ('source', 4337), ('sox', 4338), ('soy', 4339), ('space', 4340), ('spanish', 4341), ('spar', 4342), ('sparkly', 4343), ('special', 4344), ('specific', 4345), ('spell', 4346), ('spice', 4347), ('spider', 4348), ('spin', 4349), ('spiritually', 4350), ('spit', 4351), ('spoken', 4352), ('spontaneous', 4353), ('sporting', 4354), ('sprouts', 4355), ('spy', 4356), ('sq', 4357), ('squad', 4358), ('squats', 4359), ('squeak', 4360), ('squealed', 4361), ('squirrel', 4362), ('stack', 4363), ('stadium', 4364), ('stairs', 4365), ('stalkers', 4366), ('starbucks', 4367), ('starving', 4368), ('statement', 4369), ('statuses', 4370), ('statutes', 4371), ('steady', 4372), ('steam', 4373), ('steer', 4374), ('step', 4375), ('stewards', 4376), ('sticking', 4377), ('stiff', 4378), ('stifle', 4379), ('stifled', 4380), ('stitch', 4381), ('stitches', 4382), ('stool', 4383), ('stoops', 4384), ('stopped', 4385), ('stories', 4386), ('storing', 4387), ('stormy', 4388), ('strange', 4389), ('strangely', 4390), ('stratagem', 4391), ('stream', 4392), ('street', 4393), ('stress', 4394), ('string', 4395), ('stringing', 4396), ('strongman', 4397), ('struggle', 4398), ('strutting', 4399), ('studio', 4400), ('studying', 4401), ('stupefied', 4402), ('stupendous', 4403), ('style', 4404), ('subscribe', 4405), ('subsidised', 4406), ('subway', 4407), ('succeed', 4408), ('suck', 4409), ('sucked', 4410), ('sue', 4411), ('suffering', 4412), ('suffocate', 4413), ('sugarboy', 4414), ('suggest', 4415), ('suggesting', 4416), ('suicidal', 4417), ('summerof', 4418), ('sunday', 4419), ('sunniness', 4420), ('sunset', 4421), ('supper', 4422), ('supported', 4423), ('supporters', 4424), ('suppose', 4425), ('surely', 4426), ('surprised', 4427), ('surrey', 4428), ('survive', 4429), ('sushi', 4430), ('suspect', 4431), ('swallow', 4432), ('swam', 4433), ('swan', 4434), ('sweater', 4435), ('sweaty', 4436), ('sweeping', 4437), ('sweepstakes', 4438), ('sweetmeats', 4439), ('sweetness', 4440), ('sweets', 4441), ('sweety', 4442), ('swinging', 4443), ('sylvia', 4444), ('symmetry', 4445), ('symptomatize', 4446), ('table', 4447), ('taco', 4448), ('tags', 4449), ('taguchi', 4450), ('taht', 4451), ('tail', 4452), ('takeru', 4453), ('takes', 4454), ('talkative', 4455), ('tambourines', 4456), ('tame', 4457), ('tamu', 4458), ('tapingday2', 4459), ('target', 4460), ('tatenashi', 4461), ('tattoos', 4462), ('taurus', 4463), ('tax', 4464), ('taxed', 4465), ('tbh', 4466), ('teach', 4467), ('teacher', 4468), ('teaching', 4469), ('tear', 4470), ('teases', 4471), ('technics', 4472), ('ted', 4473), ('telly', 4474), ('temperament', 4475), ('tenaciously', 4476), ('teppu', 4477), ('term', 4478), ('terrorism', 4479), ('texting', 4480), ('texture', 4481), ('thatcher', 4482), ('theaters', 4483), ('thehulk', 4484), ('theirs', 4485), ('themselves', 4486), ('thfc', 4487), ('thicker', 4488), ('thighs', 4489), ('thoroughly', 4490), ('thou', 4491), ('thread', 4492), ('threats', 4493), ('threesome', 4494), ('thrilled', 4495), ('throat', 4496), ('throughout', 4497), ('tht', 4498), ('thugs', 4499), ('tiburonchamber', 4500), ('ticket', 4501), ('tickets', 4502), ('tiger', 4503), ('tightly', 4504), ('tilting', 4505), ('timeless', 4506), ('timid', 4507), ('tinted', 4508), ('tiny', 4509), ('tipped', 4510), ('titan', 4511), ('title', 4512), ('titter', 4513), ('token', 4514), ('tolerate', 4515), ('tonite', 4516), ('tops', 4517), ('tore', 4518), ('totes', 4519), ('touching', 4520), ('tough', 4521), ('towel', 4522), ('tower', 4523), ('town', 4524), ('toy', 4525), ('trace', 4526), ('tradition', 4527), ('traditionalists', 4528), ('tragically', 4529), ('transcendent', 4530), ('transitioning', 4531), ('transmission', 4532), ('transpo', 4533), ('transportation', 4534), ('trashy', 4535), ('travelled', 4536), ('treated', 4537), ('trepidation', 4538), ('tribal', 4539), ('tribute', 4540), ('tricks', 4541), ('triggered', 4542), ('trip', 4543), ('tripping', 4544), ('trips', 4545), ('trondheim', 4546), ('troops', 4547), ('trusted', 4548), ('trusting', 4549), ('truthfm', 4550), ('tryna', 4551), ('tuhday', 4552), ('tune', 4553), ('turkish', 4554), ('turned', 4555), ('tutoring', 4556), ('twain', 4557), ('tweegram', 4558), ('tweeted', 4559), ('tweeting', 4560), ('twelvemonth', 4561), ('twin', 4562), ('ty', 4563), ('types', 4564), ('typical', 4565), ('tzxchldaq', 4566), ('u.k.', 4567), ('uff', 4568), ('ugly', 4569), ('ulysses', 4570), ('unable', 4571), ('unappetizing', 4572), ('unbelievably', 4573), ('uncertainty', 4574), ('unchained', 4575), ('unchecked', 4576), ('unconceivable', 4577), ('underground', 4578), ('underlord', 4579), ('underneath', 4580), ('underrated', 4581), ('undying', 4582), ('unending', 4583), ('unexpectedly', 4584), ('unfailingly', 4585), ('unintentional', 4586), ('unite', 4587), ('universal', 4588), ('unixware', 4589), ('unless', 4590), ('unlikely', 4591), ('unlimited', 4592), ('uno', 4593), ('unplug', 4594), ('unreal', 4595), ('unwelcome', 4596), ('upbeat', 4597), ('updated', 4598), ('uplifting', 4599), ('upper', 4600), ('uproarious', 4601), ('upset', 4602), ('upside', 4603), ('uranus', 4604), ('ure', 4605), ('useless', 4606), ('username', 4607), ('usual', 4608), ('usually', 4609), ('uudqujcia', 4610), ('vacation', 4611), ('valerie', 4612), ('vallely', 4613), ('valley', 4614), ('vals', 4615), ('value', 4616), ('vampire', 4617), ('various', 4618), ('varsity', 4619), ('vawyzad', 4620), ('veg', 4621), ('vegas', 4622), ('venezuela', 4623), ('vents', 4624), ('verified', 4625), ('vernon', 4626), ('versus', 4627), ('vest', 4628), ('vet', 4629), ('veteran', 4630), ('vibes', 4631), ('vice', 4632), ('victim', 4633), ('vids', 4634), ('view', 4635), ('viewers', 4636), ('vigorous', 4637), ('vile', 4638), ('village', 4639), ('vincent', 4640), ('violence', 4641), ('violently', 4642), ('visitors', 4643), ('visually', 4644), ('vitriolic', 4645), ('vivacious', 4646), ('vixx', 4647), ('vocab', 4648), ('volatility', 4649), ('vrlfeyrn', 4650), ('vulnerable', 4651), ('wagging', 4652), ('waist', 4653), ('waited', 4654), ('wakes', 4655), ('waldo', 4656), ('walked', 4657), ('wall', 4658), ('waltz', 4659), ('warblers', 4660), ('ward', 4661), ('warm', 4662), ('wasted', 4663), ('watering', 4664), ('waving', 4665), ('wavy', 4666), ('wawa', 4667), ('waxen', 4668), ('wcw', 4669), ('weak', 4670), ('wealth', 4671), ('weans', 4672), ('weary', 4673), ('weathers', 4674), ('webcast', 4675), ('webiversary', 4676), ('website', 4677), ('websites', 4678), ('weed', 4679), ('weighty', 4680), ('weird', 4681), ('wel', 4682), ('werent', 4683), ('wesszz', 4684), ('west', 4685), ('westbank', 4686), ('western', 4687), ('westminster', 4688), ('wet', 4689), ('wgj', 4690), ('whenever', 4691), ('whiney', 4692), ('whistling', 4693), ('whitfield', 4694), ('whoo', 4695), ('whu', 4696), ('wide', 4697), ('widows', 4698), ('wifl', 4699), ('wiki', 4700), ('willing', 4701), ('willingness', 4702), ('willxbe', 4703), ('wind', 4704), ('windermere', 4705), ('windmill', 4706), ('window', 4707), ('winds', 4708), ('winter', 4709), ('wiser', 4710), ('witches', 4711), ('witness', 4712), ('witout', 4713), ('wl', 4714), ('woah', 4715), ('woke', 4716), ('wondering', 4717), ('wonderstruck', 4718), ('wondrful', 4719), ('woods', 4720), ('woolwich', 4721), ('worker', 4722), ('wormhole', 4723), ('worth', 4724), ('worthy', 4725), ('wps', 4726), ('wrapped', 4727), ('wraps', 4728), ('wrath', 4729), ('wrinkling', 4730), ('writes', 4731), ('wtf', 4732), ('wyd', 4733), ('x16', 4734), ('x225', 4735), ('xhaka', 4736), ('xucqb', 4737), ('yahweh', 4738), ('yall', 4739), ('yapyap', 4740), ('yasezayoni', 4741), ('ydxef', 4742), ('yell', 4743), ('yelling', 4744), ('yells', 4745), ('yessir', 4746), ('yesyesyes', 4747), ('yiu', 4748), ('yoosung', 4749), ('younger', 4750), ('yourselves', 4751), ('youthful', 4752), ('youthfulness', 4753), ('yugioh', 4754), ('zales', 4755), ('zaza', 4756), ('zeph', 4757), ('zephaniah', 4758), ('zero', 4759), ('zeth', 4760), ('{', 4761), ('}', 4762), ('\\x92', 4763), ('ω', 4764), ('деньги', 4765), ('الوطني', 4766), ('اليوم', 4767), ('∇', 4768), ('≦', 4769), ('≧', 4770), ('➤', 4771), ('「', 4772), ('」', 4773), ('\\uf3fc', 4774), ('\\uf481', 4775), ('\\uf499', 4776), ('\\uf525', 4777), ('\\uf610', 4778), ('\\uf631', 4779), ('珞', 4780), ('（', 4781), ('）', 4782), ('🇦', 4783), ('🇨', 4784), ('🇳', 4785), ('🇴', 4786), ('\\U000fe334', 4787)]\n"
          ]
        }
      ]
    },
    {
      "cell_type": "code",
      "source": [
        "print(field_tweet.vocab.vectors[field_tweet.vocab.stoi['the']])"
      ],
      "metadata": {
        "colab": {
          "base_uri": "https://localhost:8080/"
        },
        "id": "JWm00sA6DDOE",
        "outputId": "cd5e91ee-f1c5-4816-8c0f-986bb71225e0"
      },
      "execution_count": 29,
      "outputs": [
        {
          "output_type": "stream",
          "name": "stdout",
          "text": [
            "tensor([-0.0382, -0.2449,  0.7281, -0.3996,  0.0832,  0.0440, -0.3914,  0.3344,\n",
            "        -0.5755,  0.0875,  0.2879, -0.0673,  0.3091, -0.2638, -0.1323, -0.2076,\n",
            "         0.3340, -0.3385, -0.3174, -0.4834,  0.1464, -0.3730,  0.3458,  0.0520,\n",
            "         0.4495, -0.4697,  0.0263, -0.5415, -0.1552, -0.1411, -0.0397,  0.2828,\n",
            "         0.1439,  0.2346, -0.3102,  0.0862,  0.2040,  0.5262,  0.1716, -0.0824,\n",
            "        -0.7179, -0.4153,  0.2033, -0.1276,  0.4137,  0.5519,  0.5791, -0.3348,\n",
            "        -0.3656, -0.5486, -0.0629,  0.2658,  0.3020,  0.9977, -0.8048, -3.0243,\n",
            "         0.0125, -0.3694,  2.2167,  0.7220, -0.2498,  0.9214,  0.0345,  0.4674,\n",
            "         1.1079, -0.1936, -0.0746,  0.2335, -0.0521, -0.2204,  0.0572, -0.1581,\n",
            "        -0.3080, -0.4162,  0.3797,  0.1501, -0.5321, -0.2055, -1.2526,  0.0716,\n",
            "         0.7056,  0.4974, -0.4206,  0.2615, -1.5380, -0.3022, -0.0734, -0.2831,\n",
            "         0.3710, -0.2522,  0.0162, -0.0171, -0.3898,  0.8742, -0.7257, -0.5106,\n",
            "        -0.5203, -0.1459,  0.8278,  0.2706])\n"
          ]
        }
      ]
    },
    {
      "cell_type": "code",
      "source": [
        "field_tweet.vocab.vectors[9]"
      ],
      "metadata": {
        "colab": {
          "base_uri": "https://localhost:8080/"
        },
        "id": "JzdTB_-C0ok7",
        "outputId": "e25b1078-fdf8-40fb-b3f1-12c5e2c3a918"
      },
      "execution_count": 30,
      "outputs": [
        {
          "output_type": "execute_result",
          "data": {
            "text/plain": [
              "tensor([-1.8970e-01,  5.0024e-02,  1.9084e-01, -4.9184e-02, -8.9737e-02,\n",
              "         2.1006e-01, -5.4952e-01,  9.8377e-02, -2.0135e-01,  3.4241e-01,\n",
              "        -9.2677e-02,  1.6100e-01, -1.3268e-01, -2.8160e-01,  1.8737e-01,\n",
              "        -4.2959e-01,  9.6039e-01,  1.3972e-01, -1.0781e+00,  4.0518e-01,\n",
              "         5.0539e-01, -5.5064e-01,  4.8440e-01,  3.8044e-01, -2.9055e-03,\n",
              "        -3.4942e-01, -9.9696e-02, -7.8368e-01,  1.0363e+00, -2.3140e-01,\n",
              "        -4.7121e-01,  5.7126e-01, -2.1454e-01,  3.5958e-01, -4.8319e-01,\n",
              "         1.0875e+00,  2.8524e-01,  1.2447e-01, -3.9248e-02, -7.6732e-02,\n",
              "        -7.6343e-01, -3.2409e-01, -5.7490e-01, -1.0893e+00, -4.1811e-01,\n",
              "         4.5120e-01,  1.2112e-01, -5.1367e-01, -1.3349e-01, -1.1378e+00,\n",
              "        -2.8768e-01,  1.6774e-01,  5.5804e-01,  1.5387e+00,  1.8859e-02,\n",
              "        -2.9721e+00, -2.4216e-01, -9.2495e-01,  2.1992e+00,  2.8234e-01,\n",
              "        -3.4780e-01,  5.1621e-01, -4.3387e-01,  3.6852e-01,  7.4573e-01,\n",
              "         7.2102e-02,  2.7931e-01,  9.2569e-01, -5.0336e-02, -8.5856e-01,\n",
              "        -1.3580e-01, -9.2551e-01, -3.3991e-01, -1.0394e+00, -6.7203e-02,\n",
              "        -2.1379e-01, -4.7690e-01,  2.1377e-01, -8.4008e-01,  5.2536e-02,\n",
              "         5.9298e-01,  2.9604e-01, -6.7644e-01,  1.3916e-01, -1.5504e+00,\n",
              "        -2.0765e-01,  7.2220e-01,  5.2056e-01, -7.6221e-02, -1.5194e-01,\n",
              "        -1.3134e-01,  5.8617e-02, -3.1869e-01, -6.1419e-01, -6.2393e-01,\n",
              "        -4.1548e-01, -3.8175e-02, -3.9804e-01,  4.7647e-01, -1.5983e-01])"
            ]
          },
          "metadata": {},
          "execution_count": 30
        }
      ]
    },
    {
      "cell_type": "code",
      "source": [
        "# for batch_number, batch in enumerate(train_iterator):\n",
        "#   print(batch_number)\n",
        "#   print(batch.tweet)\n",
        "#   print(batch.intensity)"
      ],
      "metadata": {
        "id": "HqQWc-yYsQkN"
      },
      "execution_count": 31,
      "outputs": []
    },
    {
      "cell_type": "markdown",
      "source": [
        "## CNN 1d model"
      ],
      "metadata": {
        "id": "-h9cXmnyualc"
      }
    },
    {
      "cell_type": "markdown",
      "source": [
        "### Gradient Reversal layer"
      ],
      "metadata": {
        "id": "qyDfiHFNkZNF"
      }
    },
    {
      "cell_type": "code",
      "source": [
        "from torch.autograd import Function\n",
        "\n",
        "class ReverseLayerF(Function):\n",
        "\n",
        "    @staticmethod\n",
        "    def forward(ctx, x, alpha):\n",
        "        ctx.alpha = alpha\n",
        "\n",
        "        return x.view_as(x)\n",
        "\n",
        "    @staticmethod\n",
        "    def backward(ctx, grad_output):\n",
        "        output = grad_output.neg() * ctx.alpha\n",
        "\n",
        "        return output, None"
      ],
      "metadata": {
        "id": "2TdezuQokWiJ"
      },
      "execution_count": 32,
      "outputs": []
    },
    {
      "cell_type": "markdown",
      "source": [
        "CNN 1 D model\n",
        "Reference: A Sensitivity Analysis of (and Practitioners' Guide to) Convolutional Neural Networks for Sentence Classification, Ye Zhang, Byron Wallace 2015\n",
        "\n",
        "Difference:\n",
        "\n",
        "use of embedding\n",
        "use of sigmoid function, as we are having a regression model not a classififer as the main task"
      ],
      "metadata": {
        "id": "J53qMJn4kfv7"
      }
    },
    {
      "cell_type": "code",
      "source": [
        "import torch.nn as nn\n",
        "import torch.nn.functional as F\n",
        "\n",
        "class CNN1d(nn.Module):\n",
        "    def __init__(self, \n",
        "                 vocab_size, \n",
        "                 embedding_dim, \n",
        "                 n_filters, \n",
        "                 filter_sizes, \n",
        "                 output_dim, \n",
        "                 dropout, \n",
        "                 pad_idx\n",
        "                 ):\n",
        "        super().__init__()\n",
        "        \n",
        "        #---------------------Feature Extractor Network----------------------#\n",
        "        # Embedding layer\n",
        "        self.embedding = nn.Embedding(vocab_size, embedding_dim, padding_idx = pad_idx)\n",
        "\n",
        "        # Convolutional Network\n",
        "        self.convs = nn.ModuleList([\n",
        "                                    nn.Conv1d(in_channels = embedding_dim, \n",
        "                                              out_channels = n_filters, \n",
        "                                              kernel_size = fs)\n",
        "                                    for fs in filter_sizes\n",
        "                                    ])\n",
        "        \n",
        "        #---------------------Regression Network------------------------#\n",
        "        # Fully-connected layer and Dropout\n",
        "        self.regression = nn.Sequential(\n",
        "            nn.Dropout(p=dropout),\n",
        "            nn.Linear(len(filter_sizes) * n_filters, len(filter_sizes) * n_filters // 2),\n",
        "            nn.ReLU(),\n",
        "            nn.Linear(len(filter_sizes) * n_filters // 2, output_dim * 10),\n",
        "            nn.ReLU(),\n",
        "            nn.Linear(output_dim * 10, output_dim)\n",
        "            # ,\n",
        "            # nn.Sigmoid()\n",
        "        )\n",
        "        # self.fc = nn.Linear(len(filter_sizes) * n_filters, output_dim * 10)\n",
        "        # self.fc2 = nn.Linear(output_dim * 10, output_dim)\n",
        "        # self.dropout = nn.Dropout(dropout)\n",
        "\n",
        "        #---------------------Domain Classifier Network------------------------#\n",
        "        # Fully-connected layer and Dropout\n",
        "        self.domain_classifier = nn.Sequential(\n",
        "            nn.Dropout(p=dropout),\n",
        "            nn.Linear(len(filter_sizes) * n_filters, len(filter_sizes) * n_filters // 2),\n",
        "            nn.ReLU(),\n",
        "            nn.Linear(len(filter_sizes) * n_filters // 2, output_dim * 10),\n",
        "            nn.ReLU(),\n",
        "            nn.Linear(output_dim * 10, output_dim)\n",
        "        )\n",
        "        \n",
        "    def forward(self, text, alpha=1):\n",
        "        \n",
        "        #text = [batch size, sent len]\n",
        "        \n",
        "        embedded = self.embedding(text)\n",
        "                \n",
        "        #embedded = [batch size, sent len, emb dim]\n",
        "        \n",
        "        embedded = embedded.permute(0, 2, 1)\n",
        "        \n",
        "        #embedded = [batch size, emb dim, sent len]\n",
        "        \n",
        "        conved = [F.relu(conv(embedded)) for conv in self.convs]\n",
        "            \n",
        "        #conved_n = [batch size, n_filters, sent len - filter_sizes[n] + 1]\n",
        "        \n",
        "        pooled = [F.max_pool1d(conv, conv.shape[2]).squeeze(2) for conv in conved]\n",
        "        \n",
        "        #pooled_n = [batch size, n_filters]\n",
        "        \n",
        "        x_feature = torch.cat(pooled, dim = 1)\n",
        "        \n",
        "        #x_feature = [batch size, n_filters * len(filter_sizes)]\n",
        "        \n",
        "        reverse_feature = ReverseLayerF.apply(x_feature, alpha)\n",
        "        # print(\"reverse_feature\",reverse_feature)\n",
        "    \n",
        "        regression_output = self.regression(x_feature)\n",
        "    \n",
        "        domain_classifier_output = self.domain_classifier(reverse_feature)\n",
        "\n",
        "\n",
        "        return regression_output, domain_classifier_output"
      ],
      "metadata": {
        "id": "sp8KeSpquZqB"
      },
      "execution_count": 33,
      "outputs": []
    },
    {
      "cell_type": "code",
      "source": [
        "INPUT_DIM = len(field_tweet.vocab)\n",
        "EMBEDDING_DIM = 100\n",
        "N_FILTERS = 100\n",
        "FILTER_SIZES = [2, 3, 4, 5]\n",
        "OUTPUT_DIM = 1\n",
        "DROPOUT = 0.5\n",
        "PAD_IDX = field_tweet.vocab.stoi[field_tweet.pad_token]"
      ],
      "metadata": {
        "id": "J2YB0TUfvZuM"
      },
      "execution_count": 34,
      "outputs": []
    },
    {
      "cell_type": "code",
      "source": [
        "model = CNN1d(INPUT_DIM, EMBEDDING_DIM, N_FILTERS, FILTER_SIZES, OUTPUT_DIM, DROPOUT, PAD_IDX)\n",
        "model.to(DEVICE)"
      ],
      "metadata": {
        "colab": {
          "base_uri": "https://localhost:8080/"
        },
        "id": "lB-kw2t_voEm",
        "outputId": "73316e53-a49f-438c-94ba-88dba6d11b0e"
      },
      "execution_count": 35,
      "outputs": [
        {
          "output_type": "execute_result",
          "data": {
            "text/plain": [
              "CNN1d(\n",
              "  (embedding): Embedding(4788, 100, padding_idx=1)\n",
              "  (convs): ModuleList(\n",
              "    (0): Conv1d(100, 100, kernel_size=(2,), stride=(1,))\n",
              "    (1): Conv1d(100, 100, kernel_size=(3,), stride=(1,))\n",
              "    (2): Conv1d(100, 100, kernel_size=(4,), stride=(1,))\n",
              "    (3): Conv1d(100, 100, kernel_size=(5,), stride=(1,))\n",
              "  )\n",
              "  (regression): Sequential(\n",
              "    (0): Dropout(p=0.5, inplace=False)\n",
              "    (1): Linear(in_features=400, out_features=200, bias=True)\n",
              "    (2): ReLU()\n",
              "    (3): Linear(in_features=200, out_features=10, bias=True)\n",
              "    (4): ReLU()\n",
              "    (5): Linear(in_features=10, out_features=1, bias=True)\n",
              "  )\n",
              "  (domain_classifier): Sequential(\n",
              "    (0): Dropout(p=0.5, inplace=False)\n",
              "    (1): Linear(in_features=400, out_features=200, bias=True)\n",
              "    (2): ReLU()\n",
              "    (3): Linear(in_features=200, out_features=10, bias=True)\n",
              "    (4): ReLU()\n",
              "    (5): Linear(in_features=10, out_features=1, bias=True)\n",
              "  )\n",
              ")"
            ]
          },
          "metadata": {},
          "execution_count": 35
        }
      ]
    },
    {
      "cell_type": "markdown",
      "source": [
        "### Load Pre trained embeddings\n",
        "we'll load the pre-trained *embeddings*"
      ],
      "metadata": {
        "id": "z4p5YOsBygPk"
      }
    },
    {
      "cell_type": "code",
      "source": [
        "pretrained_embeddings = field_tweet.vocab.vectors\n",
        "\n",
        "model.embedding.weight.data.copy_(pretrained_embeddings)"
      ],
      "metadata": {
        "colab": {
          "base_uri": "https://localhost:8080/"
        },
        "id": "42HOzqrZySOt",
        "outputId": "54e2a681-7e00-4f5d-99c1-26268323501a"
      },
      "execution_count": 36,
      "outputs": [
        {
          "output_type": "execute_result",
          "data": {
            "text/plain": [
              "tensor([[-1.1812,  0.3976,  0.3870,  ..., -1.9875,  1.9745,  0.9307],\n",
              "        [ 1.6343,  1.3639,  0.9478,  ..., -1.4592, -0.2461, -0.3389],\n",
              "        [ 0.4384,  1.0612, -0.6254,  ...,  0.4098,  1.4218,  0.2071],\n",
              "        ...,\n",
              "        [ 0.1143,  0.2764, -0.4345,  ..., -0.3838, -0.0445,  0.8217],\n",
              "        [-1.6256,  0.4228,  1.7527,  ...,  1.2606, -0.7324, -0.3272],\n",
              "        [ 0.1935,  0.6568, -1.3488,  ...,  1.2069, -2.5952,  0.1151]],\n",
              "       device='cuda:0')"
            ]
          },
          "metadata": {},
          "execution_count": 36
        }
      ]
    },
    {
      "cell_type": "code",
      "source": [
        "field_tweet.vocab.vectors.shape"
      ],
      "metadata": {
        "colab": {
          "base_uri": "https://localhost:8080/"
        },
        "id": "03-leBf6zSk5",
        "outputId": "b7d362ff-a24c-4714-d895-99474535f296"
      },
      "execution_count": 37,
      "outputs": [
        {
          "output_type": "execute_result",
          "data": {
            "text/plain": [
              "torch.Size([4788, 100])"
            ]
          },
          "metadata": {},
          "execution_count": 37
        }
      ]
    },
    {
      "cell_type": "code",
      "source": [
        "UNK_IDX = field_tweet.vocab.stoi[field_tweet.unk_token]\n",
        "\n",
        "model.embedding.weight.data[UNK_IDX] = torch.zeros(EMBEDDING_DIM)\n",
        "model.embedding.weight.data[PAD_IDX] = torch.zeros(EMBEDDING_DIM)"
      ],
      "metadata": {
        "id": "Lve6CyJk9zfA"
      },
      "execution_count": 36,
      "outputs": []
    },
    {
      "cell_type": "markdown",
      "source": [
        "## Training the model"
      ],
      "metadata": {
        "id": "kBjLi5QG9_YG"
      }
    },
    {
      "cell_type": "markdown",
      "source": [
        "### Without training one forward pass"
      ],
      "metadata": {
        "id": "dxM_9csG_O4A"
      }
    },
    {
      "cell_type": "code",
      "source": [
        "for batch in train_iterator:\n",
        "  print(batch.tweet)\n",
        "  output = model(batch.tweet)\n",
        "  print (output)\n",
        "  break"
      ],
      "metadata": {
        "colab": {
          "base_uri": "https://localhost:8080/"
        },
        "id": "bD0y4pNS_SUP",
        "outputId": "4a23cd5a-d042-4394-c023-c91f06a06f0f"
      },
      "execution_count": 60,
      "outputs": [
        {
          "output_type": "stream",
          "name": "stdout",
          "text": [
            "tensor([[   6,  734,  135,    9, 4121, 3848,    3,   31,    2,   15,    9,   47,\n",
            "          118,  249,   12,  206,   20,   17,  118,  714,    4, 3082, 1510, 3670,\n",
            "            1,    1,    1,    1,    1,    1,    1,    1,    1,    1,    1,    1,\n",
            "            1,    1,    1,    1,    1,    1,    1,    1,    1,    1,    1,    1,\n",
            "            1,    1],\n",
            "        [   5,    5,    5, 2525, 2583,   15,  102,  130,  202,    4,  259, 1007,\n",
            "          273,   61,  171,    4,   70,  141, 2626,  171, 2464,   33,  463,  154,\n",
            "            1,    1,    1,    1,    1,    1,    1,    1,    1,    1,    1,    1,\n",
            "            1,    1,    1,    1,    1,    1,    1,    1,    1,    1,    1,    1,\n",
            "            1,    1]], device='cuda:0')\n",
            "(tensor([[0.4910],\n",
            "        [0.3248]], device='cuda:0', grad_fn=<AddmmBackward>), tensor([[0.0985],\n",
            "        [0.0635]], device='cuda:0', grad_fn=<AddmmBackward>))\n"
          ]
        }
      ]
    },
    {
      "cell_type": "code",
      "source": [
        "# import torch.optim as optim\n",
        "\n",
        "# optimizer = optim.Adam(model.parameters())\n",
        "\n",
        "# criterion = nn.BCEWithLogitsLoss()\n",
        "\n",
        "# model = model.to(DEVICE)\n",
        "# criterion = criterion.to(DEVICE)"
      ],
      "metadata": {
        "id": "MpixOSrh-Kv0"
      },
      "execution_count": 38,
      "outputs": []
    },
    {
      "cell_type": "markdown",
      "source": [
        "### Typical Train Model Function"
      ],
      "metadata": {
        "id": "JA0vjUUeXElw"
      }
    },
    {
      "cell_type": "code",
      "source": [
        "# Typical Training Function\n",
        "\n",
        "from tqdm import tqdm # for beautiful model training updates\n",
        "\n",
        "\n",
        "def train_model(model, device, train_loader, optimizer, epoch):\n",
        "    model.train() # setting the model in training mode\n",
        "    pbar = tqdm(train_loader) # putting the iterator in pbara\n",
        "    correct = 0 # for accuracy numerator\n",
        "    processed =0 # for accuracy denominator\n",
        "    epoch_loss = 0.0\n",
        "    for batch_idx, batch in enumerate(pbar):\n",
        "\n",
        "        tweets, intensities = batch.tweet.to(device), batch.intensity.to(device)  # plural, we are not interested in domain\n",
        "        #sending data to CPU or GPU as per device\n",
        "\n",
        "        optimizer.zero_grad() # setting gradients to zero to avoid accumulation\n",
        "\n",
        "        y_preds,_ = model(tweets) # forward pass, result captured in y_preds (plural as there are many body in a batch)\n",
        "        # we are not interested in domain prediction\n",
        "        # the predictions are in one hot vector\n",
        "\n",
        "        regression_loss = regression_loss_function(y_preds,intensities.unsqueeze(1)) # Computing loss\n",
        "        # loss = F.mse_loss(y_preds,intensities.unsqueeze(1)) # Computing loss\n",
        "\n",
        "        train_regresion_losses.append(regression_loss.item()) # to capture loss over many epochs\n",
        "\n",
        "        regression_loss.backward() # backpropagation\n",
        "        optimizer.step() # updating the params\n",
        "\n",
        "        # preds = y_preds.argmax(dim=1, keepdim=True)  # get the index olf the max log-probability\n",
        "        # correct += preds.eq(labels.view_as(preds)).sum().item()\n",
        "        epoch_loss += regression_loss.item()\n",
        "\n",
        "        processed += len(tweets)\n",
        "\n",
        "        pbar.set_description(desc= f'Loss={regression_loss.item()} Batch_id={batch_idx} Epoch Average loss={100*epoch_loss/processed:0.4f}')\n",
        "    train_accuracy.append(100*epoch_loss/len(train_loader))"
      ],
      "metadata": {
        "id": "2QtsY9qU-Rg9"
      },
      "execution_count": 39,
      "outputs": []
    },
    {
      "cell_type": "markdown",
      "source": [
        "### Typical Test Function"
      ],
      "metadata": {
        "id": "DVOvpPcYCZwh"
      }
    },
    {
      "cell_type": "code",
      "source": [
        "def test_model(model,device, data_loader, mode= 'test'):\n",
        "    model.eval() # setting the model in evaluation mode\n",
        "    loss = 0\n",
        "    correct = 0 # for accuracy numerator\n",
        "    test_regresion_losses =[] # for overall batches (summed over batches)\n",
        "    valid_regresion_losses =[] # for overall batches (summed over batches)\n",
        "\n",
        "    with torch.no_grad():\n",
        "        for batch in data_loader:\n",
        "\n",
        "            tweets, intensities  = batch.tweet.to(device), batch.intensity.to(device) #sending data to CPU or GPU as per device\n",
        "            # we are not interested in domains\n",
        "            \n",
        "            y_preds,_ = model(tweets) # forward pass, result captured in outputs (plural as there are many bodies in a batch)\n",
        "            # the outputs are in batch size x one hot vector \n",
        "            # not interested in domain output\n",
        "\n",
        "            regression_loss = regression_loss_function(y_preds,intensities.unsqueeze(1))\n",
        "\n",
        "            if mode == 'test':\n",
        "              test_regresion_losses.append(regression_loss.item())\n",
        "              # print(f'...in the batch...{regression_loss}')\n",
        "            else:\n",
        "              valid_regresion_losses.append(regression_loss.item())\n",
        "              # print(f'...in the batch...{regression_loss}')\n",
        "\n",
        "        # regression_loss.item() /= len(data_loader.dataset) # average test loss\n",
        "        if mode == 'test':\n",
        "          # total_test_regression_loss = sum(test_regresion_losses)\n",
        "          # test_regresion_losses.append(regression_loss) # to capture loss over many batches\n",
        "          # print('...Average test loss: {:.8f}'.format((total_test_regression_loss)/len(data_loader.dataset)))\n",
        "          print(f'...Average batch test loss is {sum(test_regresion_losses) / len(data_loader)}')\n",
        "        else:\n",
        "          # valid_regresion_losses.append(regression_loss) # to capture loss over many batches\n",
        "          # total_valid_regression_loss = sum(valid_regresion_losses)\n",
        "          # print('...Average validation loss: {:.8f}'.format((total_valid_regression_loss)/len(data_loader.dataset)))\n",
        "          print(f'...Average batch validation loss is {sum(valid_regresion_losses) / len(data_loader)}')"
      ],
      "metadata": {
        "id": "DcI1CYK5CYjh"
      },
      "execution_count": 40,
      "outputs": []
    },
    {
      "cell_type": "code",
      "source": [
        "# EXECUTION\n",
        "\n",
        "\n",
        "optimizer = optim.Adam(model.parameters(), lr=0.001)\n",
        "domain_loss_function= nn.BCEWithLogitsLoss()\n",
        "regression_loss_function = nn.L1Loss()\n",
        "\n",
        "\n",
        "model = model.to(DEVICE)\n",
        "domain_loss_function = domain_loss_function.to(DEVICE)\n",
        "regression_loss_function = regression_loss_function.to(DEVICE)\n",
        "\n",
        "# train_losses = [] # to capture train losses over training epochs\n",
        "train_accuracy = [] # to capture train accuracy over training epochs\n",
        "# val_losses = [] # to capture validation loss\n",
        "# test_losses = [] # to capture test losses \n",
        "# test_accuracy = [] # to capture test accuracy \n",
        "\n",
        "# EPOCHS = 2\n",
        "EPOCHS = 100\n",
        "# dict_val_loss = {}\n",
        "# dict_test_loss = {}\n",
        "\n",
        "\n",
        "train_regresion_losses = [] # to capture train losses over training epochs\n",
        "train_domain_losses = []\n",
        "train_accuracy = [] # to capture train accuracy over training epochs\n",
        "# valid_regresion_losses = [] # to capture validation loss\n",
        "# test_regresion_losses = [] # to capture test losses \n",
        "total_test_regression_loss =[]\n",
        "total_valid_regression_loss =[]\n",
        "# print(f'----------------------training started for {name}-----------------')\n",
        "for epoch in range(EPOCHS):\n",
        "  print(\"EPOCH:\", epoch+1)\n",
        "  train_model(model, DEVICE, train_iterator, optimizer, epoch)\n",
        "  print(\"for validation.......\")\n",
        "  # val_name = train_name.replace(\"train\", \"val\" )\n",
        "  # test_model(typical_model, device, dict_val_loader[val_name], mode = 'val')\n",
        "  test_model(model, DEVICE, valid_iterator, mode = 'val')\n",
        "\n",
        "\n",
        "  print(\"for test  .......\")\n",
        "  # test_name = train_name.replace(\"train\", \"test\" )\n",
        "  # test_model(typical_model, device, dict_test_loader[test_name], mode = 'test')\n",
        "  test_model(model, DEVICE, test_iterator, mode = 'test')\n",
        "\n",
        "# dict_val_loss[name] = val_losses\n",
        "# dict_test_loss[name] = test_losses\n",
        "\n",
        "model_name = \"Non_DANN\"+\".pt\"\n",
        "torch.save(model.state_dict(), os.path.join(MODEL_DIR, model_name))\n",
        "# print(f'----------------------training complete for {name}-----------------')\n",
        "# print(dict_val_loss.items())\n",
        "# print(dict_test_loss.items())"
      ],
      "metadata": {
        "colab": {
          "base_uri": "https://localhost:8080/"
        },
        "id": "nLYNyFPTBmCT",
        "outputId": "c7ea51b8-b821-421f-96ba-41ff96e210b8"
      },
      "execution_count": 41,
      "outputs": [
        {
          "output_type": "stream",
          "name": "stdout",
          "text": [
            "EPOCH: 1\n"
          ]
        },
        {
          "output_type": "stream",
          "name": "stderr",
          "text": [
            "Loss=0.32847732305526733 Batch_id=807 Epoch Average loss=10.4675: 100%|██████████| 808/808 [00:06<00:00, 127.01it/s]\n"
          ]
        },
        {
          "output_type": "stream",
          "name": "stdout",
          "text": [
            "for validation.......\n",
            "...Average batch validation loss is 0.15835808782741942\n",
            "for test  .......\n",
            "...Average batch test loss is 0.1604405780866823\n",
            "EPOCH: 2\n"
          ]
        },
        {
          "output_type": "stream",
          "name": "stderr",
          "text": [
            "Loss=0.3056570887565613 Batch_id=807 Epoch Average loss=8.3242: 100%|██████████| 808/808 [00:06<00:00, 128.66it/s]\n"
          ]
        },
        {
          "output_type": "stream",
          "name": "stdout",
          "text": [
            "for validation.......\n",
            "...Average batch validation loss is 0.1376844279724976\n",
            "for test  .......\n",
            "...Average batch test loss is 0.13053059245158277\n",
            "EPOCH: 3\n"
          ]
        },
        {
          "output_type": "stream",
          "name": "stderr",
          "text": [
            "Loss=0.015753164887428284 Batch_id=807 Epoch Average loss=6.8377: 100%|██████████| 808/808 [00:06<00:00, 129.74it/s]\n"
          ]
        },
        {
          "output_type": "stream",
          "name": "stdout",
          "text": [
            "for validation.......\n",
            "...Average batch validation loss is 0.13386847094215196\n",
            "for test  .......\n",
            "...Average batch test loss is 0.12984644334635295\n",
            "EPOCH: 4\n"
          ]
        },
        {
          "output_type": "stream",
          "name": "stderr",
          "text": [
            "Loss=0.1451234221458435 Batch_id=807 Epoch Average loss=6.1369: 100%|██████████| 808/808 [00:06<00:00, 128.75it/s]\n"
          ]
        },
        {
          "output_type": "stream",
          "name": "stdout",
          "text": [
            "for validation.......\n",
            "...Average batch validation loss is 0.13531460844237228\n",
            "for test  .......\n",
            "...Average batch test loss is 0.1275463044562564\n",
            "EPOCH: 5\n"
          ]
        },
        {
          "output_type": "stream",
          "name": "stderr",
          "text": [
            "Loss=0.08012938499450684 Batch_id=807 Epoch Average loss=5.5361: 100%|██████████| 808/808 [00:06<00:00, 129.99it/s]\n"
          ]
        },
        {
          "output_type": "stream",
          "name": "stdout",
          "text": [
            "for validation.......\n",
            "...Average batch validation loss is 0.14973910635915297\n",
            "for test  .......\n",
            "...Average batch test loss is 0.14135573834019155\n",
            "EPOCH: 6\n"
          ]
        },
        {
          "output_type": "stream",
          "name": "stderr",
          "text": [
            "Loss=0.11210286617279053 Batch_id=807 Epoch Average loss=4.9339: 100%|██████████| 808/808 [00:06<00:00, 129.62it/s]\n"
          ]
        },
        {
          "output_type": "stream",
          "name": "stdout",
          "text": [
            "for validation.......\n",
            "...Average batch validation loss is 0.18886489785950758\n",
            "for test  .......\n",
            "...Average batch test loss is 0.18394377595908387\n",
            "EPOCH: 7\n"
          ]
        },
        {
          "output_type": "stream",
          "name": "stderr",
          "text": [
            "Loss=0.09990735352039337 Batch_id=807 Epoch Average loss=4.5299: 100%|██████████| 808/808 [00:06<00:00, 129.62it/s]\n"
          ]
        },
        {
          "output_type": "stream",
          "name": "stdout",
          "text": [
            "for validation.......\n",
            "...Average batch validation loss is 0.129236021381\n",
            "for test  .......\n",
            "...Average batch test loss is 0.12359170092919851\n",
            "EPOCH: 8\n"
          ]
        },
        {
          "output_type": "stream",
          "name": "stderr",
          "text": [
            "Loss=0.04573485255241394 Batch_id=807 Epoch Average loss=4.1136: 100%|██████████| 808/808 [00:06<00:00, 129.69it/s]\n"
          ]
        },
        {
          "output_type": "stream",
          "name": "stdout",
          "text": [
            "for validation.......\n",
            "...Average batch validation loss is 0.145598548393825\n",
            "for test  .......\n",
            "...Average batch test loss is 0.14006245566050354\n",
            "EPOCH: 9\n"
          ]
        },
        {
          "output_type": "stream",
          "name": "stderr",
          "text": [
            "Loss=0.12298715114593506 Batch_id=807 Epoch Average loss=3.9233: 100%|██████████| 808/808 [00:06<00:00, 115.74it/s]\n"
          ]
        },
        {
          "output_type": "stream",
          "name": "stdout",
          "text": [
            "for validation.......\n",
            "...Average batch validation loss is 0.14359506584447004\n",
            "for test  .......\n",
            "...Average batch test loss is 0.14396548966387082\n",
            "EPOCH: 10\n"
          ]
        },
        {
          "output_type": "stream",
          "name": "stderr",
          "text": [
            "Loss=0.09370635449886322 Batch_id=807 Epoch Average loss=3.7379: 100%|██████████| 808/808 [00:06<00:00, 126.14it/s]\n"
          ]
        },
        {
          "output_type": "stream",
          "name": "stdout",
          "text": [
            "for validation.......\n",
            "...Average batch validation loss is 0.13771888814095792\n",
            "for test  .......\n",
            "...Average batch test loss is 0.1335656588078623\n",
            "EPOCH: 11\n"
          ]
        },
        {
          "output_type": "stream",
          "name": "stderr",
          "text": [
            "Loss=0.11496220529079437 Batch_id=807 Epoch Average loss=3.4607: 100%|██████████| 808/808 [00:06<00:00, 129.38it/s]\n"
          ]
        },
        {
          "output_type": "stream",
          "name": "stdout",
          "text": [
            "for validation.......\n",
            "...Average batch validation loss is 0.14067458130162339\n",
            "for test  .......\n",
            "...Average batch test loss is 0.1360526938415781\n",
            "EPOCH: 12\n"
          ]
        },
        {
          "output_type": "stream",
          "name": "stderr",
          "text": [
            "Loss=0.07999998331069946 Batch_id=807 Epoch Average loss=3.3186: 100%|██████████| 808/808 [00:06<00:00, 129.74it/s]\n"
          ]
        },
        {
          "output_type": "stream",
          "name": "stdout",
          "text": [
            "for validation.......\n",
            "...Average batch validation loss is 0.13119003495265696\n",
            "for test  .......\n",
            "...Average batch test loss is 0.12711614463309914\n",
            "EPOCH: 13\n"
          ]
        },
        {
          "output_type": "stream",
          "name": "stderr",
          "text": [
            "Loss=0.014933347702026367 Batch_id=807 Epoch Average loss=3.1889: 100%|██████████| 808/808 [00:06<00:00, 127.09it/s]\n"
          ]
        },
        {
          "output_type": "stream",
          "name": "stdout",
          "text": [
            "for validation.......\n",
            "...Average batch validation loss is 0.12633998558439058\n",
            "for test  .......\n",
            "...Average batch test loss is 0.12352088654235302\n",
            "EPOCH: 14\n"
          ]
        },
        {
          "output_type": "stream",
          "name": "stderr",
          "text": [
            "Loss=0.09204316139221191 Batch_id=807 Epoch Average loss=3.1926: 100%|██████████| 808/808 [00:06<00:00, 121.78it/s]\n"
          ]
        },
        {
          "output_type": "stream",
          "name": "stdout",
          "text": [
            "for validation.......\n",
            "...Average batch validation loss is 0.12670505385974357\n",
            "for test  .......\n",
            "...Average batch test loss is 0.12466530840015325\n",
            "EPOCH: 15\n"
          ]
        },
        {
          "output_type": "stream",
          "name": "stderr",
          "text": [
            "Loss=0.06201186031103134 Batch_id=807 Epoch Average loss=2.9277: 100%|██████████| 808/808 [00:06<00:00, 126.77it/s]\n"
          ]
        },
        {
          "output_type": "stream",
          "name": "stdout",
          "text": [
            "for validation.......\n",
            "...Average batch validation loss is 0.12219987193058277\n",
            "for test  .......\n",
            "...Average batch test loss is 0.12212590816654736\n",
            "EPOCH: 16\n"
          ]
        },
        {
          "output_type": "stream",
          "name": "stderr",
          "text": [
            "Loss=0.08310747146606445 Batch_id=807 Epoch Average loss=2.9272: 100%|██████████| 808/808 [00:06<00:00, 126.76it/s]\n"
          ]
        },
        {
          "output_type": "stream",
          "name": "stdout",
          "text": [
            "for validation.......\n",
            "...Average batch validation loss is 0.130574472865154\n",
            "for test  .......\n",
            "...Average batch test loss is 0.1274414369011227\n",
            "EPOCH: 17\n"
          ]
        },
        {
          "output_type": "stream",
          "name": "stderr",
          "text": [
            "Loss=0.06848731637001038 Batch_id=807 Epoch Average loss=2.8943: 100%|██████████| 808/808 [00:06<00:00, 128.71it/s]\n"
          ]
        },
        {
          "output_type": "stream",
          "name": "stdout",
          "text": [
            "for validation.......\n",
            "...Average batch validation loss is 0.12517539607039813\n",
            "for test  .......\n",
            "...Average batch test loss is 0.12459858894940957\n",
            "EPOCH: 18\n"
          ]
        },
        {
          "output_type": "stream",
          "name": "stderr",
          "text": [
            "Loss=0.048123881220817566 Batch_id=807 Epoch Average loss=2.8176: 100%|██████████| 808/808 [00:06<00:00, 125.29it/s]\n"
          ]
        },
        {
          "output_type": "stream",
          "name": "stdout",
          "text": [
            "for validation.......\n",
            "...Average batch validation loss is 0.13768793760702527\n",
            "for test  .......\n",
            "...Average batch test loss is 0.13669496257309457\n",
            "EPOCH: 19\n"
          ]
        },
        {
          "output_type": "stream",
          "name": "stderr",
          "text": [
            "Loss=0.035139068961143494 Batch_id=807 Epoch Average loss=2.7196: 100%|██████████| 808/808 [00:06<00:00, 126.44it/s]\n"
          ]
        },
        {
          "output_type": "stream",
          "name": "stdout",
          "text": [
            "for validation.......\n",
            "...Average batch validation loss is 0.1469914667051414\n",
            "for test  .......\n",
            "...Average batch test loss is 0.1450793084033359\n",
            "EPOCH: 20\n"
          ]
        },
        {
          "output_type": "stream",
          "name": "stderr",
          "text": [
            "Loss=0.07126078009605408 Batch_id=807 Epoch Average loss=2.6577: 100%|██████████| 808/808 [00:06<00:00, 127.05it/s]\n"
          ]
        },
        {
          "output_type": "stream",
          "name": "stdout",
          "text": [
            "for validation.......\n",
            "...Average batch validation loss is 0.1293918319303414\n",
            "for test  .......\n",
            "...Average batch test loss is 0.12621701080318384\n",
            "EPOCH: 21\n"
          ]
        },
        {
          "output_type": "stream",
          "name": "stderr",
          "text": [
            "Loss=0.052297193557024 Batch_id=807 Epoch Average loss=2.4807: 100%|██████████| 808/808 [00:06<00:00, 123.60it/s]\n"
          ]
        },
        {
          "output_type": "stream",
          "name": "stdout",
          "text": [
            "for validation.......\n",
            "...Average batch validation loss is 0.13567026236961627\n",
            "for test  .......\n",
            "...Average batch test loss is 0.1322939477618413\n",
            "EPOCH: 22\n"
          ]
        },
        {
          "output_type": "stream",
          "name": "stderr",
          "text": [
            "Loss=0.0739642083644867 Batch_id=807 Epoch Average loss=2.4779: 100%|██████████| 808/808 [00:06<00:00, 124.29it/s]\n"
          ]
        },
        {
          "output_type": "stream",
          "name": "stdout",
          "text": [
            "for validation.......\n",
            "...Average batch validation loss is 0.13007602737895374\n",
            "for test  .......\n",
            "...Average batch test loss is 0.12656086869201005\n",
            "EPOCH: 23\n"
          ]
        },
        {
          "output_type": "stream",
          "name": "stderr",
          "text": [
            "Loss=0.006817877292633057 Batch_id=807 Epoch Average loss=2.4469: 100%|██████████| 808/808 [00:06<00:00, 123.96it/s]\n"
          ]
        },
        {
          "output_type": "stream",
          "name": "stdout",
          "text": [
            "for validation.......\n",
            "...Average batch validation loss is 0.14012432144633655\n",
            "for test  .......\n",
            "...Average batch test loss is 0.13970569610110675\n",
            "EPOCH: 24\n"
          ]
        },
        {
          "output_type": "stream",
          "name": "stderr",
          "text": [
            "Loss=0.06896589696407318 Batch_id=807 Epoch Average loss=2.4905: 100%|██████████| 808/808 [00:06<00:00, 126.63it/s]\n"
          ]
        },
        {
          "output_type": "stream",
          "name": "stdout",
          "text": [
            "for validation.......\n",
            "...Average batch validation loss is 0.1304996101506825\n",
            "for test  .......\n",
            "...Average batch test loss is 0.12735389264647395\n",
            "EPOCH: 25\n"
          ]
        },
        {
          "output_type": "stream",
          "name": "stderr",
          "text": [
            "Loss=0.072260782122612 Batch_id=807 Epoch Average loss=2.3573: 100%|██████████| 808/808 [00:06<00:00, 126.96it/s]\n"
          ]
        },
        {
          "output_type": "stream",
          "name": "stdout",
          "text": [
            "for validation.......\n",
            "...Average batch validation loss is 0.13826567864623562\n",
            "for test  .......\n",
            "...Average batch test loss is 0.13587798917864805\n",
            "EPOCH: 26\n"
          ]
        },
        {
          "output_type": "stream",
          "name": "stderr",
          "text": [
            "Loss=0.05112305283546448 Batch_id=807 Epoch Average loss=2.3885: 100%|██████████| 808/808 [00:06<00:00, 126.87it/s]\n"
          ]
        },
        {
          "output_type": "stream",
          "name": "stdout",
          "text": [
            "for validation.......\n",
            "...Average batch validation loss is 0.1310440228930835\n",
            "for test  .......\n",
            "...Average batch test loss is 0.1269881648110869\n",
            "EPOCH: 27\n"
          ]
        },
        {
          "output_type": "stream",
          "name": "stderr",
          "text": [
            "Loss=0.04537048935890198 Batch_id=807 Epoch Average loss=2.3022: 100%|██████████| 808/808 [00:06<00:00, 124.55it/s]\n"
          ]
        },
        {
          "output_type": "stream",
          "name": "stdout",
          "text": [
            "for validation.......\n",
            "...Average batch validation loss is 0.1251717298709113\n",
            "for test  .......\n",
            "...Average batch test loss is 0.12192560993741261\n",
            "EPOCH: 28\n"
          ]
        },
        {
          "output_type": "stream",
          "name": "stderr",
          "text": [
            "Loss=0.030084259808063507 Batch_id=807 Epoch Average loss=2.3176: 100%|██████████| 808/808 [00:06<00:00, 125.02it/s]\n"
          ]
        },
        {
          "output_type": "stream",
          "name": "stdout",
          "text": [
            "for validation.......\n",
            "...Average batch validation loss is 0.1308086356212353\n",
            "for test  .......\n",
            "...Average batch test loss is 0.12710714728232964\n",
            "EPOCH: 29\n"
          ]
        },
        {
          "output_type": "stream",
          "name": "stderr",
          "text": [
            "Loss=0.05705659091472626 Batch_id=807 Epoch Average loss=2.2836: 100%|██████████| 808/808 [00:06<00:00, 126.46it/s]\n"
          ]
        },
        {
          "output_type": "stream",
          "name": "stdout",
          "text": [
            "for validation.......\n",
            "...Average batch validation loss is 0.12530099215178653\n",
            "for test  .......\n",
            "...Average batch test loss is 0.12178444021649214\n",
            "EPOCH: 30\n"
          ]
        },
        {
          "output_type": "stream",
          "name": "stderr",
          "text": [
            "Loss=0.04074423015117645 Batch_id=807 Epoch Average loss=2.1868: 100%|██████████| 808/808 [00:06<00:00, 123.78it/s]\n"
          ]
        },
        {
          "output_type": "stream",
          "name": "stdout",
          "text": [
            "for validation.......\n",
            "...Average batch validation loss is 0.12990325858880733\n",
            "for test  .......\n",
            "...Average batch test loss is 0.1250532776871814\n",
            "EPOCH: 31\n"
          ]
        },
        {
          "output_type": "stream",
          "name": "stderr",
          "text": [
            "Loss=0.018508300185203552 Batch_id=807 Epoch Average loss=2.1436: 100%|██████████| 808/808 [00:06<00:00, 124.22it/s]\n"
          ]
        },
        {
          "output_type": "stream",
          "name": "stdout",
          "text": [
            "for validation.......\n",
            "...Average batch validation loss is 0.13364129395320498\n",
            "for test  .......\n",
            "...Average batch test loss is 0.1293006298177712\n",
            "EPOCH: 32\n"
          ]
        },
        {
          "output_type": "stream",
          "name": "stderr",
          "text": [
            "Loss=0.11284872144460678 Batch_id=807 Epoch Average loss=2.2020: 100%|██████████| 808/808 [00:06<00:00, 124.00it/s]\n"
          ]
        },
        {
          "output_type": "stream",
          "name": "stdout",
          "text": [
            "for validation.......\n",
            "...Average batch validation loss is 0.12725946497300575\n",
            "for test  .......\n",
            "...Average batch test loss is 0.12395399827745897\n",
            "EPOCH: 33\n"
          ]
        },
        {
          "output_type": "stream",
          "name": "stderr",
          "text": [
            "Loss=0.0382622592151165 Batch_id=807 Epoch Average loss=2.1195: 100%|██████████| 808/808 [00:06<00:00, 123.79it/s]\n"
          ]
        },
        {
          "output_type": "stream",
          "name": "stdout",
          "text": [
            "for validation.......\n",
            "...Average batch validation loss is 0.12693627856928727\n",
            "for test  .......\n",
            "...Average batch test loss is 0.12169361719440595\n",
            "EPOCH: 34\n"
          ]
        },
        {
          "output_type": "stream",
          "name": "stderr",
          "text": [
            "Loss=0.04857596755027771 Batch_id=807 Epoch Average loss=2.1880: 100%|██████████| 808/808 [00:06<00:00, 124.15it/s]\n"
          ]
        },
        {
          "output_type": "stream",
          "name": "stdout",
          "text": [
            "for validation.......\n",
            "...Average batch validation loss is 0.12633719834788093\n",
            "for test  .......\n",
            "...Average batch test loss is 0.12249324527345126\n",
            "EPOCH: 35\n"
          ]
        },
        {
          "output_type": "stream",
          "name": "stderr",
          "text": [
            "Loss=0.0845070481300354 Batch_id=807 Epoch Average loss=2.0756: 100%|██████████| 808/808 [00:06<00:00, 125.54it/s]\n"
          ]
        },
        {
          "output_type": "stream",
          "name": "stdout",
          "text": [
            "for validation.......\n",
            "...Average batch validation loss is 0.12694684626727268\n",
            "for test  .......\n",
            "...Average batch test loss is 0.12389240056869134\n",
            "EPOCH: 36\n"
          ]
        },
        {
          "output_type": "stream",
          "name": "stderr",
          "text": [
            "Loss=0.021712034940719604 Batch_id=807 Epoch Average loss=2.1164: 100%|██████████| 808/808 [00:06<00:00, 123.42it/s]\n"
          ]
        },
        {
          "output_type": "stream",
          "name": "stdout",
          "text": [
            "for validation.......\n",
            "...Average batch validation loss is 0.13300747591359863\n",
            "for test  .......\n",
            "...Average batch test loss is 0.13007587685534364\n",
            "EPOCH: 37\n"
          ]
        },
        {
          "output_type": "stream",
          "name": "stderr",
          "text": [
            "Loss=0.03134658932685852 Batch_id=807 Epoch Average loss=2.0698: 100%|██████████| 808/808 [00:06<00:00, 125.40it/s]\n"
          ]
        },
        {
          "output_type": "stream",
          "name": "stdout",
          "text": [
            "for validation.......\n",
            "...Average batch validation loss is 0.12677817909881986\n",
            "for test  .......\n",
            "...Average batch test loss is 0.12217121917559053\n",
            "EPOCH: 38\n"
          ]
        },
        {
          "output_type": "stream",
          "name": "stderr",
          "text": [
            "Loss=0.04283037781715393 Batch_id=807 Epoch Average loss=1.9625: 100%|██████████| 808/808 [00:06<00:00, 124.09it/s]\n"
          ]
        },
        {
          "output_type": "stream",
          "name": "stdout",
          "text": [
            "for validation.......\n",
            "...Average batch validation loss is 0.13617599164617472\n",
            "for test  .......\n",
            "...Average batch test loss is 0.12882030830730365\n",
            "EPOCH: 39\n"
          ]
        },
        {
          "output_type": "stream",
          "name": "stderr",
          "text": [
            "Loss=0.04316280782222748 Batch_id=807 Epoch Average loss=2.0422: 100%|██████████| 808/808 [00:06<00:00, 126.01it/s]\n"
          ]
        },
        {
          "output_type": "stream",
          "name": "stdout",
          "text": [
            "for validation.......\n",
            "...Average batch validation loss is 0.12851051934834185\n",
            "for test  .......\n",
            "...Average batch test loss is 0.12368981335413176\n",
            "EPOCH: 40\n"
          ]
        },
        {
          "output_type": "stream",
          "name": "stderr",
          "text": [
            "Loss=0.033029258251190186 Batch_id=807 Epoch Average loss=2.0721: 100%|██████████| 808/808 [00:06<00:00, 124.30it/s]\n"
          ]
        },
        {
          "output_type": "stream",
          "name": "stdout",
          "text": [
            "for validation.......\n",
            "...Average batch validation loss is 0.13728285524351844\n",
            "for test  .......\n",
            "...Average batch test loss is 0.1303130016539239\n",
            "EPOCH: 41\n"
          ]
        },
        {
          "output_type": "stream",
          "name": "stderr",
          "text": [
            "Loss=0.023641720414161682 Batch_id=807 Epoch Average loss=1.9987: 100%|██████████| 808/808 [00:06<00:00, 125.08it/s]\n"
          ]
        },
        {
          "output_type": "stream",
          "name": "stdout",
          "text": [
            "for validation.......\n",
            "...Average batch validation loss is 0.13513822036570516\n",
            "for test  .......\n",
            "...Average batch test loss is 0.1292557888083281\n",
            "EPOCH: 42\n"
          ]
        },
        {
          "output_type": "stream",
          "name": "stderr",
          "text": [
            "Loss=0.04188644513487816 Batch_id=807 Epoch Average loss=1.9541: 100%|██████████| 808/808 [00:06<00:00, 122.96it/s]\n"
          ]
        },
        {
          "output_type": "stream",
          "name": "stdout",
          "text": [
            "for validation.......\n",
            "...Average batch validation loss is 0.13022601465726721\n",
            "for test  .......\n",
            "...Average batch test loss is 0.1252073605307403\n",
            "EPOCH: 43\n"
          ]
        },
        {
          "output_type": "stream",
          "name": "stderr",
          "text": [
            "Loss=0.013547226786613464 Batch_id=807 Epoch Average loss=1.9423: 100%|██████████| 808/808 [00:07<00:00, 111.73it/s]\n"
          ]
        },
        {
          "output_type": "stream",
          "name": "stdout",
          "text": [
            "for validation.......\n",
            "...Average batch validation loss is 0.13685322820112622\n",
            "for test  .......\n",
            "...Average batch test loss is 0.13150418766691715\n",
            "EPOCH: 44\n"
          ]
        },
        {
          "output_type": "stream",
          "name": "stderr",
          "text": [
            "Loss=0.02373422682285309 Batch_id=807 Epoch Average loss=1.8999: 100%|██████████| 808/808 [00:06<00:00, 123.01it/s]\n"
          ]
        },
        {
          "output_type": "stream",
          "name": "stdout",
          "text": [
            "for validation.......\n",
            "...Average batch validation loss is 0.13055099161534472\n",
            "for test  .......\n",
            "...Average batch test loss is 0.12398403532681801\n",
            "EPOCH: 45\n"
          ]
        },
        {
          "output_type": "stream",
          "name": "stderr",
          "text": [
            "Loss=0.01588842272758484 Batch_id=807 Epoch Average loss=1.9083: 100%|██████████| 808/808 [00:06<00:00, 123.54it/s]\n"
          ]
        },
        {
          "output_type": "stream",
          "name": "stdout",
          "text": [
            "for validation.......\n",
            "...Average batch validation loss is 0.13050464032025172\n",
            "for test  .......\n",
            "...Average batch test loss is 0.12468391904779197\n",
            "EPOCH: 46\n"
          ]
        },
        {
          "output_type": "stream",
          "name": "stderr",
          "text": [
            "Loss=0.011644721031188965 Batch_id=807 Epoch Average loss=1.8911: 100%|██████████| 808/808 [00:06<00:00, 123.78it/s]\n"
          ]
        },
        {
          "output_type": "stream",
          "name": "stdout",
          "text": [
            "for validation.......\n",
            "...Average batch validation loss is 0.13224817802166117\n",
            "for test  .......\n",
            "...Average batch test loss is 0.12792205194829817\n",
            "EPOCH: 47\n"
          ]
        },
        {
          "output_type": "stream",
          "name": "stderr",
          "text": [
            "Loss=0.06732174754142761 Batch_id=807 Epoch Average loss=1.8825: 100%|██████████| 808/808 [00:06<00:00, 125.02it/s]\n"
          ]
        },
        {
          "output_type": "stream",
          "name": "stdout",
          "text": [
            "for validation.......\n",
            "...Average batch validation loss is 0.1336678882611209\n",
            "for test  .......\n",
            "...Average batch test loss is 0.1273772735923367\n",
            "EPOCH: 48\n"
          ]
        },
        {
          "output_type": "stream",
          "name": "stderr",
          "text": [
            "Loss=0.05065697431564331 Batch_id=807 Epoch Average loss=1.9509: 100%|██████████| 808/808 [00:06<00:00, 126.04it/s]\n"
          ]
        },
        {
          "output_type": "stream",
          "name": "stdout",
          "text": [
            "for validation.......\n",
            "...Average batch validation loss is 0.13572254376164797\n",
            "for test  .......\n",
            "...Average batch test loss is 0.12844257549825672\n",
            "EPOCH: 49\n"
          ]
        },
        {
          "output_type": "stream",
          "name": "stderr",
          "text": [
            "Loss=0.03316667675971985 Batch_id=807 Epoch Average loss=1.8757: 100%|██████████| 808/808 [00:06<00:00, 124.12it/s]\n"
          ]
        },
        {
          "output_type": "stream",
          "name": "stdout",
          "text": [
            "for validation.......\n",
            "...Average batch validation loss is 0.13687416494920335\n",
            "for test  .......\n",
            "...Average batch test loss is 0.12791902220270732\n",
            "EPOCH: 50\n"
          ]
        },
        {
          "output_type": "stream",
          "name": "stderr",
          "text": [
            "Loss=0.025586992502212524 Batch_id=807 Epoch Average loss=1.8910: 100%|██████████| 808/808 [00:06<00:00, 123.09it/s]\n"
          ]
        },
        {
          "output_type": "stream",
          "name": "stdout",
          "text": [
            "for validation.......\n",
            "...Average batch validation loss is 0.1355902811062747\n",
            "for test  .......\n",
            "...Average batch test loss is 0.12891809292016365\n",
            "EPOCH: 51\n"
          ]
        },
        {
          "output_type": "stream",
          "name": "stderr",
          "text": [
            "Loss=0.0022521018981933594 Batch_id=807 Epoch Average loss=1.8351: 100%|██████████| 808/808 [00:06<00:00, 123.20it/s]\n"
          ]
        },
        {
          "output_type": "stream",
          "name": "stdout",
          "text": [
            "for validation.......\n",
            "...Average batch validation loss is 0.1326603054486472\n",
            "for test  .......\n",
            "...Average batch test loss is 0.12466683673923314\n",
            "EPOCH: 52\n"
          ]
        },
        {
          "output_type": "stream",
          "name": "stderr",
          "text": [
            "Loss=0.06373102962970734 Batch_id=807 Epoch Average loss=1.8518: 100%|██████████| 808/808 [00:06<00:00, 121.01it/s]\n"
          ]
        },
        {
          "output_type": "stream",
          "name": "stdout",
          "text": [
            "for validation.......\n",
            "...Average batch validation loss is 0.1386388240189388\n",
            "for test  .......\n",
            "...Average batch test loss is 0.1302601253145642\n",
            "EPOCH: 53\n"
          ]
        },
        {
          "output_type": "stream",
          "name": "stderr",
          "text": [
            "Loss=0.08268344402313232 Batch_id=807 Epoch Average loss=1.8570: 100%|██████████| 808/808 [00:06<00:00, 124.76it/s]\n"
          ]
        },
        {
          "output_type": "stream",
          "name": "stdout",
          "text": [
            "for validation.......\n",
            "...Average batch validation loss is 0.13902566422676219\n",
            "for test  .......\n",
            "...Average batch test loss is 0.13100965884909924\n",
            "EPOCH: 54\n"
          ]
        },
        {
          "output_type": "stream",
          "name": "stderr",
          "text": [
            "Loss=0.057263150811195374 Batch_id=807 Epoch Average loss=1.7609: 100%|██████████| 808/808 [00:06<00:00, 123.48it/s]\n"
          ]
        },
        {
          "output_type": "stream",
          "name": "stdout",
          "text": [
            "for validation.......\n",
            "...Average batch validation loss is 0.1379738162817626\n",
            "for test  .......\n",
            "...Average batch test loss is 0.1317202710490977\n",
            "EPOCH: 55\n"
          ]
        },
        {
          "output_type": "stream",
          "name": "stderr",
          "text": [
            "Loss=0.004874527454376221 Batch_id=807 Epoch Average loss=1.8604: 100%|██████████| 808/808 [00:06<00:00, 125.45it/s]\n"
          ]
        },
        {
          "output_type": "stream",
          "name": "stdout",
          "text": [
            "for validation.......\n",
            "...Average batch validation loss is 0.13324245836200385\n",
            "for test  .......\n",
            "...Average batch test loss is 0.12586884219435196\n",
            "EPOCH: 56\n"
          ]
        },
        {
          "output_type": "stream",
          "name": "stderr",
          "text": [
            "Loss=0.0667218565940857 Batch_id=807 Epoch Average loss=1.8308: 100%|██████████| 808/808 [00:06<00:00, 124.47it/s]\n"
          ]
        },
        {
          "output_type": "stream",
          "name": "stdout",
          "text": [
            "for validation.......\n",
            "...Average batch validation loss is 0.13421070688757403\n",
            "for test  .......\n",
            "...Average batch test loss is 0.12585938802733343\n",
            "EPOCH: 57\n"
          ]
        },
        {
          "output_type": "stream",
          "name": "stderr",
          "text": [
            "Loss=0.03969545662403107 Batch_id=807 Epoch Average loss=1.7150: 100%|██████████| 808/808 [00:06<00:00, 125.58it/s]\n"
          ]
        },
        {
          "output_type": "stream",
          "name": "stdout",
          "text": [
            "for validation.......\n",
            "...Average batch validation loss is 0.13794012388278698\n",
            "for test  .......\n",
            "...Average batch test loss is 0.1296663752758697\n",
            "EPOCH: 58\n"
          ]
        },
        {
          "output_type": "stream",
          "name": "stderr",
          "text": [
            "Loss=0.048256129026412964 Batch_id=807 Epoch Average loss=1.7896: 100%|██████████| 808/808 [00:06<00:00, 126.07it/s]\n"
          ]
        },
        {
          "output_type": "stream",
          "name": "stdout",
          "text": [
            "for validation.......\n",
            "...Average batch validation loss is 0.1380499318242073\n",
            "for test  .......\n",
            "...Average batch test loss is 0.1297738230896686\n",
            "EPOCH: 59\n"
          ]
        },
        {
          "output_type": "stream",
          "name": "stderr",
          "text": [
            "Loss=0.071473628282547 Batch_id=807 Epoch Average loss=1.7527: 100%|██████████| 808/808 [00:06<00:00, 125.38it/s]\n"
          ]
        },
        {
          "output_type": "stream",
          "name": "stdout",
          "text": [
            "for validation.......\n",
            "...Average batch validation loss is 0.14053655415773392\n",
            "for test  .......\n",
            "...Average batch test loss is 0.13276439692292893\n",
            "EPOCH: 60\n"
          ]
        },
        {
          "output_type": "stream",
          "name": "stderr",
          "text": [
            "Loss=0.049816057085990906 Batch_id=807 Epoch Average loss=1.7644: 100%|██████████| 808/808 [00:06<00:00, 124.52it/s]\n"
          ]
        },
        {
          "output_type": "stream",
          "name": "stdout",
          "text": [
            "for validation.......\n",
            "...Average batch validation loss is 0.1314548871126668\n",
            "for test  .......\n",
            "...Average batch test loss is 0.12410359459156153\n",
            "EPOCH: 61\n"
          ]
        },
        {
          "output_type": "stream",
          "name": "stderr",
          "text": [
            "Loss=0.029764682054519653 Batch_id=807 Epoch Average loss=1.7799: 100%|██████████| 808/808 [00:06<00:00, 123.23it/s]\n"
          ]
        },
        {
          "output_type": "stream",
          "name": "stdout",
          "text": [
            "for validation.......\n",
            "...Average batch validation loss is 0.13345166876398284\n",
            "for test  .......\n",
            "...Average batch test loss is 0.1251083568385238\n",
            "EPOCH: 62\n"
          ]
        },
        {
          "output_type": "stream",
          "name": "stderr",
          "text": [
            "Loss=0.03736022114753723 Batch_id=807 Epoch Average loss=1.7417: 100%|██████████| 808/808 [00:06<00:00, 124.23it/s]\n"
          ]
        },
        {
          "output_type": "stream",
          "name": "stdout",
          "text": [
            "for validation.......\n",
            "...Average batch validation loss is 0.1359690393867164\n",
            "for test  .......\n",
            "...Average batch test loss is 0.12839337959750868\n",
            "EPOCH: 63\n"
          ]
        },
        {
          "output_type": "stream",
          "name": "stderr",
          "text": [
            "Loss=0.023565247654914856 Batch_id=807 Epoch Average loss=1.7595: 100%|██████████| 808/808 [00:06<00:00, 123.00it/s]\n"
          ]
        },
        {
          "output_type": "stream",
          "name": "stdout",
          "text": [
            "for validation.......\n",
            "...Average batch validation loss is 0.13176248844327598\n",
            "for test  .......\n",
            "...Average batch test loss is 0.12674352162893168\n",
            "EPOCH: 64\n"
          ]
        },
        {
          "output_type": "stream",
          "name": "stderr",
          "text": [
            "Loss=0.01863923668861389 Batch_id=807 Epoch Average loss=1.7379: 100%|██████████| 808/808 [00:06<00:00, 122.49it/s]\n"
          ]
        },
        {
          "output_type": "stream",
          "name": "stdout",
          "text": [
            "for validation.......\n",
            "...Average batch validation loss is 0.13299863708430323\n",
            "for test  .......\n",
            "...Average batch test loss is 0.1256737669030538\n",
            "EPOCH: 65\n"
          ]
        },
        {
          "output_type": "stream",
          "name": "stderr",
          "text": [
            "Loss=0.044140011072158813 Batch_id=807 Epoch Average loss=1.7226: 100%|██████████| 808/808 [00:06<00:00, 120.45it/s]\n"
          ]
        },
        {
          "output_type": "stream",
          "name": "stdout",
          "text": [
            "for validation.......\n",
            "...Average batch validation loss is 0.13158701781568857\n",
            "for test  .......\n",
            "...Average batch test loss is 0.12409561709458745\n",
            "EPOCH: 66\n"
          ]
        },
        {
          "output_type": "stream",
          "name": "stderr",
          "text": [
            "Loss=0.014607489109039307 Batch_id=807 Epoch Average loss=1.7388: 100%|██████████| 808/808 [00:06<00:00, 121.81it/s]\n"
          ]
        },
        {
          "output_type": "stream",
          "name": "stdout",
          "text": [
            "for validation.......\n",
            "...Average batch validation loss is 0.13659085903702112\n",
            "for test  .......\n",
            "...Average batch test loss is 0.12966101756740436\n",
            "EPOCH: 67\n"
          ]
        },
        {
          "output_type": "stream",
          "name": "stderr",
          "text": [
            "Loss=0.021057039499282837 Batch_id=807 Epoch Average loss=1.7478: 100%|██████████| 808/808 [00:06<00:00, 124.43it/s]\n"
          ]
        },
        {
          "output_type": "stream",
          "name": "stdout",
          "text": [
            "for validation.......\n",
            "...Average batch validation loss is 0.1333861487178967\n",
            "for test  .......\n",
            "...Average batch test loss is 0.12483997085210859\n",
            "EPOCH: 68\n"
          ]
        },
        {
          "output_type": "stream",
          "name": "stderr",
          "text": [
            "Loss=0.013178735971450806 Batch_id=807 Epoch Average loss=1.7224: 100%|██████████| 808/808 [00:06<00:00, 124.77it/s]\n"
          ]
        },
        {
          "output_type": "stream",
          "name": "stdout",
          "text": [
            "for validation.......\n",
            "...Average batch validation loss is 0.13643747419118882\n",
            "for test  .......\n",
            "...Average batch test loss is 0.1273713527789599\n",
            "EPOCH: 69\n"
          ]
        },
        {
          "output_type": "stream",
          "name": "stderr",
          "text": [
            "Loss=0.03907318413257599 Batch_id=807 Epoch Average loss=1.6820: 100%|██████████| 808/808 [00:06<00:00, 122.39it/s]\n"
          ]
        },
        {
          "output_type": "stream",
          "name": "stdout",
          "text": [
            "for validation.......\n",
            "...Average batch validation loss is 0.13569438853140536\n",
            "for test  .......\n",
            "...Average batch test loss is 0.12614636146084526\n",
            "EPOCH: 70\n"
          ]
        },
        {
          "output_type": "stream",
          "name": "stderr",
          "text": [
            "Loss=0.020244285464286804 Batch_id=807 Epoch Average loss=1.7431: 100%|██████████| 808/808 [00:06<00:00, 121.86it/s]\n"
          ]
        },
        {
          "output_type": "stream",
          "name": "stdout",
          "text": [
            "for validation.......\n",
            "...Average batch validation loss is 0.13493206984010236\n",
            "for test  .......\n",
            "...Average batch test loss is 0.1261138323606893\n",
            "EPOCH: 71\n"
          ]
        },
        {
          "output_type": "stream",
          "name": "stderr",
          "text": [
            "Loss=0.0037814676761627197 Batch_id=807 Epoch Average loss=1.6510: 100%|██████████| 808/808 [00:06<00:00, 121.70it/s]\n"
          ]
        },
        {
          "output_type": "stream",
          "name": "stdout",
          "text": [
            "for validation.......\n",
            "...Average batch validation loss is 0.1357572264198599\n",
            "for test  .......\n",
            "...Average batch test loss is 0.1258725015611588\n",
            "EPOCH: 72\n"
          ]
        },
        {
          "output_type": "stream",
          "name": "stderr",
          "text": [
            "Loss=0.07110881805419922 Batch_id=807 Epoch Average loss=1.7275: 100%|██████████| 808/808 [00:06<00:00, 122.85it/s]\n"
          ]
        },
        {
          "output_type": "stream",
          "name": "stdout",
          "text": [
            "for validation.......\n",
            "...Average batch validation loss is 0.14152073469655266\n",
            "for test  .......\n",
            "...Average batch test loss is 0.1329114927521235\n",
            "EPOCH: 73\n"
          ]
        },
        {
          "output_type": "stream",
          "name": "stderr",
          "text": [
            "Loss=0.02834416925907135 Batch_id=807 Epoch Average loss=1.6663: 100%|██████████| 808/808 [00:06<00:00, 124.58it/s]\n"
          ]
        },
        {
          "output_type": "stream",
          "name": "stdout",
          "text": [
            "for validation.......\n",
            "...Average batch validation loss is 0.13828715008908304\n",
            "for test  .......\n",
            "...Average batch test loss is 0.13035814922848618\n",
            "EPOCH: 74\n"
          ]
        },
        {
          "output_type": "stream",
          "name": "stderr",
          "text": [
            "Loss=0.05240693688392639 Batch_id=807 Epoch Average loss=1.6523: 100%|██████████| 808/808 [00:06<00:00, 121.18it/s]\n"
          ]
        },
        {
          "output_type": "stream",
          "name": "stdout",
          "text": [
            "for validation.......\n",
            "...Average batch validation loss is 0.14487171589300551\n",
            "for test  .......\n",
            "...Average batch test loss is 0.1353867728714486\n",
            "EPOCH: 75\n"
          ]
        },
        {
          "output_type": "stream",
          "name": "stderr",
          "text": [
            "Loss=0.05072614550590515 Batch_id=807 Epoch Average loss=1.6446: 100%|██████████| 808/808 [00:06<00:00, 117.86it/s]\n"
          ]
        },
        {
          "output_type": "stream",
          "name": "stdout",
          "text": [
            "for validation.......\n",
            "...Average batch validation loss is 0.13529534196031504\n",
            "for test  .......\n",
            "...Average batch test loss is 0.12731771388008625\n",
            "EPOCH: 76\n"
          ]
        },
        {
          "output_type": "stream",
          "name": "stderr",
          "text": [
            "Loss=0.02398616075515747 Batch_id=807 Epoch Average loss=1.6355: 100%|██████████| 808/808 [00:07<00:00, 112.49it/s]\n"
          ]
        },
        {
          "output_type": "stream",
          "name": "stdout",
          "text": [
            "for validation.......\n",
            "...Average batch validation loss is 0.13595007092788303\n",
            "for test  .......\n",
            "...Average batch test loss is 0.12870611284083094\n",
            "EPOCH: 77\n"
          ]
        },
        {
          "output_type": "stream",
          "name": "stderr",
          "text": [
            "Loss=0.008189558982849121 Batch_id=807 Epoch Average loss=1.6444: 100%|██████████| 808/808 [00:06<00:00, 121.75it/s]\n"
          ]
        },
        {
          "output_type": "stream",
          "name": "stdout",
          "text": [
            "for validation.......\n",
            "...Average batch validation loss is 0.13237454325988374\n",
            "for test  .......\n",
            "...Average batch test loss is 0.12783333131029637\n",
            "EPOCH: 78\n"
          ]
        },
        {
          "output_type": "stream",
          "name": "stderr",
          "text": [
            "Loss=0.02196158468723297 Batch_id=807 Epoch Average loss=1.6782: 100%|██████████| 808/808 [00:06<00:00, 121.11it/s]\n"
          ]
        },
        {
          "output_type": "stream",
          "name": "stdout",
          "text": [
            "for validation.......\n",
            "...Average batch validation loss is 0.14123942600242023\n",
            "for test  .......\n",
            "...Average batch test loss is 0.13324926581375207\n",
            "EPOCH: 79\n"
          ]
        },
        {
          "output_type": "stream",
          "name": "stderr",
          "text": [
            "Loss=0.030751556158065796 Batch_id=807 Epoch Average loss=1.6870: 100%|██████████| 808/808 [00:06<00:00, 120.63it/s]\n"
          ]
        },
        {
          "output_type": "stream",
          "name": "stdout",
          "text": [
            "for validation.......\n",
            "...Average batch validation loss is 0.1348564270241507\n",
            "for test  .......\n",
            "...Average batch test loss is 0.1258894263701025\n",
            "EPOCH: 80\n"
          ]
        },
        {
          "output_type": "stream",
          "name": "stderr",
          "text": [
            "Loss=0.07326311618089676 Batch_id=807 Epoch Average loss=1.6645: 100%|██████████| 808/808 [00:06<00:00, 121.07it/s]\n"
          ]
        },
        {
          "output_type": "stream",
          "name": "stdout",
          "text": [
            "for validation.......\n",
            "...Average batch validation loss is 0.14067997089747725\n",
            "for test  .......\n",
            "...Average batch test loss is 0.1305257618683264\n",
            "EPOCH: 81\n"
          ]
        },
        {
          "output_type": "stream",
          "name": "stderr",
          "text": [
            "Loss=0.051840126514434814 Batch_id=807 Epoch Average loss=1.5841: 100%|██████████| 808/808 [00:06<00:00, 121.90it/s]\n"
          ]
        },
        {
          "output_type": "stream",
          "name": "stdout",
          "text": [
            "for validation.......\n",
            "...Average batch validation loss is 0.13432247520520768\n",
            "for test  .......\n",
            "...Average batch test loss is 0.12490601751407707\n",
            "EPOCH: 82\n"
          ]
        },
        {
          "output_type": "stream",
          "name": "stderr",
          "text": [
            "Loss=0.03931455314159393 Batch_id=807 Epoch Average loss=1.6509: 100%|██████████| 808/808 [00:06<00:00, 122.10it/s]\n"
          ]
        },
        {
          "output_type": "stream",
          "name": "stdout",
          "text": [
            "for validation.......\n",
            "...Average batch validation loss is 0.13906175298937437\n",
            "for test  .......\n",
            "...Average batch test loss is 0.12823904385187312\n",
            "EPOCH: 83\n"
          ]
        },
        {
          "output_type": "stream",
          "name": "stderr",
          "text": [
            "Loss=0.009243279695510864 Batch_id=807 Epoch Average loss=1.6092: 100%|██████████| 808/808 [00:06<00:00, 120.51it/s]\n"
          ]
        },
        {
          "output_type": "stream",
          "name": "stdout",
          "text": [
            "for validation.......\n",
            "...Average batch validation loss is 0.13508894484618614\n",
            "for test  .......\n",
            "...Average batch test loss is 0.12565312009122875\n",
            "EPOCH: 84\n"
          ]
        },
        {
          "output_type": "stream",
          "name": "stderr",
          "text": [
            "Loss=0.008675441145896912 Batch_id=807 Epoch Average loss=1.6494: 100%|██████████| 808/808 [00:06<00:00, 116.69it/s]\n"
          ]
        },
        {
          "output_type": "stream",
          "name": "stdout",
          "text": [
            "for validation.......\n",
            "...Average batch validation loss is 0.13334505799515495\n",
            "for test  .......\n",
            "...Average batch test loss is 0.12463761104866997\n",
            "EPOCH: 85\n"
          ]
        },
        {
          "output_type": "stream",
          "name": "stderr",
          "text": [
            "Loss=0.014510512351989746 Batch_id=807 Epoch Average loss=1.6057: 100%|██████████| 808/808 [00:06<00:00, 119.63it/s]\n"
          ]
        },
        {
          "output_type": "stream",
          "name": "stdout",
          "text": [
            "for validation.......\n",
            "...Average batch validation loss is 0.1364843186119507\n",
            "for test  .......\n",
            "...Average batch test loss is 0.12639782762333454\n",
            "EPOCH: 86\n"
          ]
        },
        {
          "output_type": "stream",
          "name": "stderr",
          "text": [
            "Loss=0.007930383086204529 Batch_id=807 Epoch Average loss=1.5663: 100%|██████████| 808/808 [00:06<00:00, 118.24it/s]\n"
          ]
        },
        {
          "output_type": "stream",
          "name": "stdout",
          "text": [
            "for validation.......\n",
            "...Average batch validation loss is 0.13897418970691747\n",
            "for test  .......\n",
            "...Average batch test loss is 0.12911025601797896\n",
            "EPOCH: 87\n"
          ]
        },
        {
          "output_type": "stream",
          "name": "stderr",
          "text": [
            "Loss=0.03612065315246582 Batch_id=807 Epoch Average loss=1.6365: 100%|██████████| 808/808 [00:07<00:00, 109.12it/s]\n"
          ]
        },
        {
          "output_type": "stream",
          "name": "stdout",
          "text": [
            "for validation.......\n",
            "...Average batch validation loss is 0.13320664023530895\n",
            "for test  .......\n",
            "...Average batch test loss is 0.12467849910744276\n",
            "EPOCH: 88\n"
          ]
        },
        {
          "output_type": "stream",
          "name": "stderr",
          "text": [
            "Loss=0.05725283920764923 Batch_id=807 Epoch Average loss=1.6011: 100%|██████████| 808/808 [00:06<00:00, 117.60it/s]\n"
          ]
        },
        {
          "output_type": "stream",
          "name": "stdout",
          "text": [
            "for validation.......\n",
            "...Average batch validation loss is 0.13994503118868531\n",
            "for test  .......\n",
            "...Average batch test loss is 0.13046263747092396\n",
            "EPOCH: 89\n"
          ]
        },
        {
          "output_type": "stream",
          "name": "stderr",
          "text": [
            "Loss=0.04691383242607117 Batch_id=807 Epoch Average loss=1.5983: 100%|██████████| 808/808 [00:07<00:00, 115.21it/s]\n"
          ]
        },
        {
          "output_type": "stream",
          "name": "stdout",
          "text": [
            "for validation.......\n",
            "...Average batch validation loss is 0.14058541933010366\n",
            "for test  .......\n",
            "...Average batch test loss is 0.13127347083246946\n",
            "EPOCH: 90\n"
          ]
        },
        {
          "output_type": "stream",
          "name": "stderr",
          "text": [
            "Loss=0.053459346294403076 Batch_id=807 Epoch Average loss=1.6383: 100%|██████████| 808/808 [00:06<00:00, 115.74it/s]\n"
          ]
        },
        {
          "output_type": "stream",
          "name": "stdout",
          "text": [
            "for validation.......\n",
            "...Average batch validation loss is 0.14521683007478714\n",
            "for test  .......\n",
            "...Average batch test loss is 0.13556863333201322\n",
            "EPOCH: 91\n"
          ]
        },
        {
          "output_type": "stream",
          "name": "stderr",
          "text": [
            "Loss=0.028439998626708984 Batch_id=807 Epoch Average loss=1.6067: 100%|██████████| 808/808 [00:07<00:00, 114.65it/s]\n"
          ]
        },
        {
          "output_type": "stream",
          "name": "stdout",
          "text": [
            "for validation.......\n",
            "...Average batch validation loss is 0.13954714593188516\n",
            "for test  .......\n",
            "...Average batch test loss is 0.13122745694939525\n",
            "EPOCH: 92\n"
          ]
        },
        {
          "output_type": "stream",
          "name": "stderr",
          "text": [
            "Loss=0.06083819270133972 Batch_id=807 Epoch Average loss=1.6370: 100%|██████████| 808/808 [00:07<00:00, 112.08it/s]\n"
          ]
        },
        {
          "output_type": "stream",
          "name": "stdout",
          "text": [
            "for validation.......\n",
            "...Average batch validation loss is 0.1416823112759097\n",
            "for test  .......\n",
            "...Average batch test loss is 0.13292753879674735\n",
            "EPOCH: 93\n"
          ]
        },
        {
          "output_type": "stream",
          "name": "stderr",
          "text": [
            "Loss=0.026603221893310547 Batch_id=807 Epoch Average loss=1.5884: 100%|██████████| 808/808 [00:07<00:00, 112.26it/s]\n"
          ]
        },
        {
          "output_type": "stream",
          "name": "stdout",
          "text": [
            "for validation.......\n",
            "...Average batch validation loss is 0.13375264771025755\n",
            "for test  .......\n",
            "...Average batch test loss is 0.1256609677217537\n",
            "EPOCH: 94\n"
          ]
        },
        {
          "output_type": "stream",
          "name": "stderr",
          "text": [
            "Loss=0.011610925197601318 Batch_id=807 Epoch Average loss=1.6093: 100%|██████████| 808/808 [00:07<00:00, 111.73it/s]\n"
          ]
        },
        {
          "output_type": "stream",
          "name": "stdout",
          "text": [
            "for validation.......\n",
            "...Average batch validation loss is 0.13168147350179737\n",
            "for test  .......\n",
            "...Average batch test loss is 0.12341665236740819\n",
            "EPOCH: 95\n"
          ]
        },
        {
          "output_type": "stream",
          "name": "stderr",
          "text": [
            "Loss=0.00899352878332138 Batch_id=807 Epoch Average loss=1.6586: 100%|██████████| 808/808 [00:06<00:00, 117.03it/s]\n"
          ]
        },
        {
          "output_type": "stream",
          "name": "stdout",
          "text": [
            "for validation.......\n",
            "...Average batch validation loss is 0.1344050788160028\n",
            "for test  .......\n",
            "...Average batch test loss is 0.12611875421692623\n",
            "EPOCH: 96\n"
          ]
        },
        {
          "output_type": "stream",
          "name": "stderr",
          "text": [
            "Loss=0.04242889583110809 Batch_id=807 Epoch Average loss=1.6068: 100%|██████████| 808/808 [00:07<00:00, 108.42it/s]\n"
          ]
        },
        {
          "output_type": "stream",
          "name": "stdout",
          "text": [
            "for validation.......\n",
            "...Average batch validation loss is 0.16000278735982962\n",
            "for test  .......\n",
            "...Average batch test loss is 0.1515149203673086\n",
            "EPOCH: 97\n"
          ]
        },
        {
          "output_type": "stream",
          "name": "stderr",
          "text": [
            "Loss=0.04933808743953705 Batch_id=807 Epoch Average loss=1.5905: 100%|██████████| 808/808 [00:07<00:00, 108.61it/s]\n"
          ]
        },
        {
          "output_type": "stream",
          "name": "stdout",
          "text": [
            "for validation.......\n",
            "...Average batch validation loss is 0.13289799376808364\n",
            "for test  .......\n",
            "...Average batch test loss is 0.12467796792011795\n",
            "EPOCH: 98\n"
          ]
        },
        {
          "output_type": "stream",
          "name": "stderr",
          "text": [
            "Loss=0.01921677589416504 Batch_id=807 Epoch Average loss=1.5666: 100%|██████████| 808/808 [00:07<00:00, 111.72it/s]\n"
          ]
        },
        {
          "output_type": "stream",
          "name": "stdout",
          "text": [
            "for validation.......\n",
            "...Average batch validation loss is 0.1388239760337205\n",
            "for test  .......\n",
            "...Average batch test loss is 0.1314581407345225\n",
            "EPOCH: 99\n"
          ]
        },
        {
          "output_type": "stream",
          "name": "stderr",
          "text": [
            "Loss=0.017631642520427704 Batch_id=807 Epoch Average loss=1.4902: 100%|██████████| 808/808 [00:07<00:00, 111.85it/s]\n"
          ]
        },
        {
          "output_type": "stream",
          "name": "stdout",
          "text": [
            "for validation.......\n",
            "...Average batch validation loss is 0.13302243619129575\n",
            "for test  .......\n",
            "...Average batch test loss is 0.12477949513610836\n",
            "EPOCH: 100\n"
          ]
        },
        {
          "output_type": "stream",
          "name": "stderr",
          "text": [
            "Loss=0.018109366297721863 Batch_id=807 Epoch Average loss=1.6461: 100%|██████████| 808/808 [00:07<00:00, 114.00it/s]\n"
          ]
        },
        {
          "output_type": "stream",
          "name": "stdout",
          "text": [
            "for validation.......\n",
            "...Average batch validation loss is 0.13367241785444062\n",
            "for test  .......\n",
            "...Average batch test loss is 0.12546751397589448\n"
          ]
        }
      ]
    },
    {
      "cell_type": "markdown",
      "source": [
        "# Equality Evaluation using Equity Evaluation Corpus"
      ],
      "metadata": {
        "id": "OLu5bV0XRjMb"
      }
    },
    {
      "cell_type": "markdown",
      "source": [
        "## Loading Evaluation Data\n",
        "format `[ID\tSentence\tTemplate\tPerson\tGender\tRace Emotion\tEmotion word]`"
      ],
      "metadata": {
        "id": "xjcK8oWLSJus"
      }
    },
    {
      "cell_type": "code",
      "source": [
        "data_EEC = TASK1.EEC['eec']\n",
        "df_EEC = pd.read_csv(data_EEC)"
      ],
      "metadata": {
        "id": "Qqpe_6U6SnDv"
      },
      "execution_count": 38,
      "outputs": []
    },
    {
      "cell_type": "code",
      "source": [
        "df_EEC.head()"
      ],
      "metadata": {
        "colab": {
          "base_uri": "https://localhost:8080/",
          "height": 206
        },
        "id": "r4pgqn3FS-0N",
        "outputId": "71f46532-9edc-4f22-9dfd-e4e4e1f70bb7"
      },
      "execution_count": 39,
      "outputs": [
        {
          "output_type": "execute_result",
          "data": {
            "text/plain": [
              "                      ID                 Sentence  \\\n",
              "0  2018-En-mystery-05498      Alonzo feels angry.   \n",
              "1  2018-En-mystery-11722    Alonzo feels furious.   \n",
              "2  2018-En-mystery-11364  Alonzo feels irritated.   \n",
              "3  2018-En-mystery-14320    Alonzo feels enraged.   \n",
              "4  2018-En-mystery-14114    Alonzo feels annoyed.   \n",
              "\n",
              "                                 Template  Person Gender              Race  \\\n",
              "0  <person subject> feels <emotion word>.  Alonzo   male  African-American   \n",
              "1  <person subject> feels <emotion word>.  Alonzo   male  African-American   \n",
              "2  <person subject> feels <emotion word>.  Alonzo   male  African-American   \n",
              "3  <person subject> feels <emotion word>.  Alonzo   male  African-American   \n",
              "4  <person subject> feels <emotion word>.  Alonzo   male  African-American   \n",
              "\n",
              "  Emotion Emotion word  \n",
              "0   anger        angry  \n",
              "1   anger      furious  \n",
              "2   anger    irritated  \n",
              "3   anger      enraged  \n",
              "4   anger      annoyed  "
            ],
            "text/html": [
              "\n",
              "  <div id=\"df-7d41f3fc-2a66-4af3-87bb-ebcc1a0d7d31\">\n",
              "    <div class=\"colab-df-container\">\n",
              "      <div>\n",
              "<style scoped>\n",
              "    .dataframe tbody tr th:only-of-type {\n",
              "        vertical-align: middle;\n",
              "    }\n",
              "\n",
              "    .dataframe tbody tr th {\n",
              "        vertical-align: top;\n",
              "    }\n",
              "\n",
              "    .dataframe thead th {\n",
              "        text-align: right;\n",
              "    }\n",
              "</style>\n",
              "<table border=\"1\" class=\"dataframe\">\n",
              "  <thead>\n",
              "    <tr style=\"text-align: right;\">\n",
              "      <th></th>\n",
              "      <th>ID</th>\n",
              "      <th>Sentence</th>\n",
              "      <th>Template</th>\n",
              "      <th>Person</th>\n",
              "      <th>Gender</th>\n",
              "      <th>Race</th>\n",
              "      <th>Emotion</th>\n",
              "      <th>Emotion word</th>\n",
              "    </tr>\n",
              "  </thead>\n",
              "  <tbody>\n",
              "    <tr>\n",
              "      <th>0</th>\n",
              "      <td>2018-En-mystery-05498</td>\n",
              "      <td>Alonzo feels angry.</td>\n",
              "      <td>&lt;person subject&gt; feels &lt;emotion word&gt;.</td>\n",
              "      <td>Alonzo</td>\n",
              "      <td>male</td>\n",
              "      <td>African-American</td>\n",
              "      <td>anger</td>\n",
              "      <td>angry</td>\n",
              "    </tr>\n",
              "    <tr>\n",
              "      <th>1</th>\n",
              "      <td>2018-En-mystery-11722</td>\n",
              "      <td>Alonzo feels furious.</td>\n",
              "      <td>&lt;person subject&gt; feels &lt;emotion word&gt;.</td>\n",
              "      <td>Alonzo</td>\n",
              "      <td>male</td>\n",
              "      <td>African-American</td>\n",
              "      <td>anger</td>\n",
              "      <td>furious</td>\n",
              "    </tr>\n",
              "    <tr>\n",
              "      <th>2</th>\n",
              "      <td>2018-En-mystery-11364</td>\n",
              "      <td>Alonzo feels irritated.</td>\n",
              "      <td>&lt;person subject&gt; feels &lt;emotion word&gt;.</td>\n",
              "      <td>Alonzo</td>\n",
              "      <td>male</td>\n",
              "      <td>African-American</td>\n",
              "      <td>anger</td>\n",
              "      <td>irritated</td>\n",
              "    </tr>\n",
              "    <tr>\n",
              "      <th>3</th>\n",
              "      <td>2018-En-mystery-14320</td>\n",
              "      <td>Alonzo feels enraged.</td>\n",
              "      <td>&lt;person subject&gt; feels &lt;emotion word&gt;.</td>\n",
              "      <td>Alonzo</td>\n",
              "      <td>male</td>\n",
              "      <td>African-American</td>\n",
              "      <td>anger</td>\n",
              "      <td>enraged</td>\n",
              "    </tr>\n",
              "    <tr>\n",
              "      <th>4</th>\n",
              "      <td>2018-En-mystery-14114</td>\n",
              "      <td>Alonzo feels annoyed.</td>\n",
              "      <td>&lt;person subject&gt; feels &lt;emotion word&gt;.</td>\n",
              "      <td>Alonzo</td>\n",
              "      <td>male</td>\n",
              "      <td>African-American</td>\n",
              "      <td>anger</td>\n",
              "      <td>annoyed</td>\n",
              "    </tr>\n",
              "  </tbody>\n",
              "</table>\n",
              "</div>\n",
              "      <button class=\"colab-df-convert\" onclick=\"convertToInteractive('df-7d41f3fc-2a66-4af3-87bb-ebcc1a0d7d31')\"\n",
              "              title=\"Convert this dataframe to an interactive table.\"\n",
              "              style=\"display:none;\">\n",
              "        \n",
              "  <svg xmlns=\"http://www.w3.org/2000/svg\" height=\"24px\"viewBox=\"0 0 24 24\"\n",
              "       width=\"24px\">\n",
              "    <path d=\"M0 0h24v24H0V0z\" fill=\"none\"/>\n",
              "    <path d=\"M18.56 5.44l.94 2.06.94-2.06 2.06-.94-2.06-.94-.94-2.06-.94 2.06-2.06.94zm-11 1L8.5 8.5l.94-2.06 2.06-.94-2.06-.94L8.5 2.5l-.94 2.06-2.06.94zm10 10l.94 2.06.94-2.06 2.06-.94-2.06-.94-.94-2.06-.94 2.06-2.06.94z\"/><path d=\"M17.41 7.96l-1.37-1.37c-.4-.4-.92-.59-1.43-.59-.52 0-1.04.2-1.43.59L10.3 9.45l-7.72 7.72c-.78.78-.78 2.05 0 2.83L4 21.41c.39.39.9.59 1.41.59.51 0 1.02-.2 1.41-.59l7.78-7.78 2.81-2.81c.8-.78.8-2.07 0-2.86zM5.41 20L4 18.59l7.72-7.72 1.47 1.35L5.41 20z\"/>\n",
              "  </svg>\n",
              "      </button>\n",
              "      \n",
              "  <style>\n",
              "    .colab-df-container {\n",
              "      display:flex;\n",
              "      flex-wrap:wrap;\n",
              "      gap: 12px;\n",
              "    }\n",
              "\n",
              "    .colab-df-convert {\n",
              "      background-color: #E8F0FE;\n",
              "      border: none;\n",
              "      border-radius: 50%;\n",
              "      cursor: pointer;\n",
              "      display: none;\n",
              "      fill: #1967D2;\n",
              "      height: 32px;\n",
              "      padding: 0 0 0 0;\n",
              "      width: 32px;\n",
              "    }\n",
              "\n",
              "    .colab-df-convert:hover {\n",
              "      background-color: #E2EBFA;\n",
              "      box-shadow: 0px 1px 2px rgba(60, 64, 67, 0.3), 0px 1px 3px 1px rgba(60, 64, 67, 0.15);\n",
              "      fill: #174EA6;\n",
              "    }\n",
              "\n",
              "    [theme=dark] .colab-df-convert {\n",
              "      background-color: #3B4455;\n",
              "      fill: #D2E3FC;\n",
              "    }\n",
              "\n",
              "    [theme=dark] .colab-df-convert:hover {\n",
              "      background-color: #434B5C;\n",
              "      box-shadow: 0px 1px 3px 1px rgba(0, 0, 0, 0.15);\n",
              "      filter: drop-shadow(0px 1px 2px rgba(0, 0, 0, 0.3));\n",
              "      fill: #FFFFFF;\n",
              "    }\n",
              "  </style>\n",
              "\n",
              "      <script>\n",
              "        const buttonEl =\n",
              "          document.querySelector('#df-7d41f3fc-2a66-4af3-87bb-ebcc1a0d7d31 button.colab-df-convert');\n",
              "        buttonEl.style.display =\n",
              "          google.colab.kernel.accessAllowed ? 'block' : 'none';\n",
              "\n",
              "        async function convertToInteractive(key) {\n",
              "          const element = document.querySelector('#df-7d41f3fc-2a66-4af3-87bb-ebcc1a0d7d31');\n",
              "          const dataTable =\n",
              "            await google.colab.kernel.invokeFunction('convertToInteractive',\n",
              "                                                     [key], {});\n",
              "          if (!dataTable) return;\n",
              "\n",
              "          const docLinkHtml = 'Like what you see? Visit the ' +\n",
              "            '<a target=\"_blank\" href=https://colab.research.google.com/notebooks/data_table.ipynb>data table notebook</a>'\n",
              "            + ' to learn more about interactive tables.';\n",
              "          element.innerHTML = '';\n",
              "          dataTable['output_type'] = 'display_data';\n",
              "          await google.colab.output.renderOutput(dataTable, element);\n",
              "          const docLink = document.createElement('div');\n",
              "          docLink.innerHTML = docLinkHtml;\n",
              "          element.appendChild(docLink);\n",
              "        }\n",
              "      </script>\n",
              "    </div>\n",
              "  </div>\n",
              "  "
            ]
          },
          "metadata": {},
          "execution_count": 39
        }
      ]
    },
    {
      "cell_type": "markdown",
      "source": [
        "## Creating evalution function (includes pre-processing)"
      ],
      "metadata": {
        "id": "FUArQYMVgPzx"
      }
    },
    {
      "cell_type": "code",
      "source": [
        "## padding function : adds padding / truncates to max size\n",
        "def pad_or_truncate(some_list, target_len = MAX_SIZE ,pad_idx = PAD_IDX):\n",
        "    return some_list[:target_len] + [pad_idx]*(target_len - len(some_list))\n",
        "\n",
        "## preprocessing function, takes in a tweet and returns padded indexed tweet (input for model)\n",
        "def text_pipeline(tweet):\n",
        "    indexed_tweet = [field_tweet.vocab.__getitem__(token) for token in preprocess_tweet(tweet)]\n",
        "    # print(indexed_tweet)\n",
        "    return pad_or_truncate(indexed_tweet, MAX_SIZE , pad_idx = PAD_IDX)\n",
        "    # print(indexed_tweet_padded)"
      ],
      "metadata": {
        "id": "etsvJ--LNU0K"
      },
      "execution_count": 40,
      "outputs": []
    },
    {
      "cell_type": "code",
      "source": [
        "# i = random.randint(0,len(df_EEC))\n",
        "# tweet_example = df_EEC['Sentence'][i]\n",
        "# print(tweet_example, text_pipeline(tweet_example))"
      ],
      "metadata": {
        "colab": {
          "base_uri": "https://localhost:8080/"
        },
        "id": "FLzkXql8MO3s",
        "outputId": "ac85a608-e9df-47aa-b59a-eb9b1932c162"
      },
      "execution_count": 89,
      "outputs": [
        {
          "output_type": "stream",
          "name": "stdout",
          "text": [
            "I made Torrance feel scared. [8, 310, 0, 116, 0, 4, 1, 1, 1, 1, 1, 1, 1, 1, 1, 1, 1, 1, 1, 1, 1, 1, 1, 1, 1, 1, 1, 1, 1, 1, 1, 1, 1, 1, 1, 1, 1, 1, 1, 1, 1, 1, 1, 1, 1, 1, 1, 1, 1, 1]\n"
          ]
        }
      ]
    },
    {
      "cell_type": "markdown",
      "source": [
        "## Loading model"
      ],
      "metadata": {
        "id": "URHDApUQgZ9X"
      }
    },
    {
      "cell_type": "code",
      "source": [
        "### Loading Model\n",
        "model_name = \"Non_DANN.pt\"\n",
        "loaded_model = CNN1d(INPUT_DIM, EMBEDDING_DIM, N_FILTERS, FILTER_SIZES, OUTPUT_DIM, DROPOUT, PAD_IDX)\n",
        "loaded_model.load_state_dict(torch.load(os.path.join(MODEL_DIR, model_name)))\n",
        "loaded_model.eval()"
      ],
      "metadata": {
        "colab": {
          "base_uri": "https://localhost:8080/"
        },
        "id": "HkiADBuLYl23",
        "outputId": "1b4c505e-b8d8-4dcf-90d3-75d256d61a98"
      },
      "execution_count": 42,
      "outputs": [
        {
          "output_type": "execute_result",
          "data": {
            "text/plain": [
              "CNN1d(\n",
              "  (embedding): Embedding(4788, 100, padding_idx=1)\n",
              "  (convs): ModuleList(\n",
              "    (0): Conv1d(100, 100, kernel_size=(2,), stride=(1,))\n",
              "    (1): Conv1d(100, 100, kernel_size=(3,), stride=(1,))\n",
              "    (2): Conv1d(100, 100, kernel_size=(4,), stride=(1,))\n",
              "    (3): Conv1d(100, 100, kernel_size=(5,), stride=(1,))\n",
              "  )\n",
              "  (regression): Sequential(\n",
              "    (0): Dropout(p=0.5, inplace=False)\n",
              "    (1): Linear(in_features=400, out_features=200, bias=True)\n",
              "    (2): ReLU()\n",
              "    (3): Linear(in_features=200, out_features=10, bias=True)\n",
              "    (4): ReLU()\n",
              "    (5): Linear(in_features=10, out_features=1, bias=True)\n",
              "  )\n",
              "  (domain_classifier): Sequential(\n",
              "    (0): Dropout(p=0.5, inplace=False)\n",
              "    (1): Linear(in_features=400, out_features=200, bias=True)\n",
              "    (2): ReLU()\n",
              "    (3): Linear(in_features=200, out_features=10, bias=True)\n",
              "    (4): ReLU()\n",
              "    (5): Linear(in_features=10, out_features=1, bias=True)\n",
              "  )\n",
              ")"
            ]
          },
          "metadata": {},
          "execution_count": 42
        }
      ]
    },
    {
      "cell_type": "code",
      "source": [
        "from torch.cuda import Device\n",
        "def predict(tweet, model, text_pipeline,device = DEVICE):\n",
        "  with torch.no_grad():\n",
        "    tweet_tensor = torch.tensor(text_pipeline(tweet)).unsqueeze(0).to(device)\n",
        "    # output = None\n",
        "    # print(tweet_tensor.shape)\n",
        "    output = model(tweet_tensor)\n",
        "    return output[0].item()"
      ],
      "metadata": {
        "id": "b1oR3Fb8XxPS"
      },
      "execution_count": 90,
      "outputs": []
    },
    {
      "cell_type": "code",
      "source": [
        "i = random.randint(0,len(df_EEC))\n",
        "tweet_example = df_EEC['Sentence'][i]\n",
        "loaded_model_device = 'cpu'\n",
        "model = loaded_model.to(loaded_model_device)\n",
        "print(predict(tweet_example, loaded_model,text_pipeline, device= loaded_model_device))"
      ],
      "metadata": {
        "colab": {
          "base_uri": "https://localhost:8080/"
        },
        "id": "2K9R_YrYdVg9",
        "outputId": "bda0d166-4aba-498f-f028-23a94683ffaa"
      },
      "execution_count": 93,
      "outputs": [
        {
          "output_type": "stream",
          "name": "stdout",
          "text": [
            "0.48275113105773926\n"
          ]
        }
      ]
    },
    {
      "cell_type": "markdown",
      "source": [
        "## Creating Sentence pairs (as per SEMVAL18 paper)"
      ],
      "metadata": {
        "id": "exaeCUcMgfmX"
      }
    },
    {
      "cell_type": "code",
      "source": [
        "dict_f_m_noun_phrase = {'she':'he', \n",
        "            'her':'him',\n",
        "            'this woman':'this man',\n",
        "            'this girl':'this boy',\n",
        "            'my sister' : 'my brother',\n",
        "            'my daughter' : 'my son',\n",
        "            'my wife': 'my husband',\n",
        "            'my girlfriend':'my boyfriend',\n",
        "            'my mother':'my father',\n",
        "            'my aunt':'my uncle',\n",
        "            'my mom': 'my dad'\n",
        "            }\n",
        "\n",
        "name_male = ['Alonzo','Jamel','Alphonse','Jerome','Leroy','Torrance','Darnell','Lamar','Malik','Terrence','Adam','Harry','Josh','Roger','Alan','Frank','Justin','Ryan','Andrew','Jack'] \n",
        "name_female = ['Nichelle','Shereen','Ebony','Latisha','Shaniqua','Jasmine','Tanisha','Tia','Lakisha','Latoya','Amanda','Courtney','Heather','Melanie','Katie','Betsy','Kristin','Nancy','Stephanie','Ellen']\n"
      ],
      "metadata": {
        "id": "YKuLdTCLgfN9"
      },
      "execution_count": 94,
      "outputs": []
    },
    {
      "cell_type": "code",
      "source": [
        "list_unique_template = list(df_EEC['Template'].dropna().unique())\n",
        "# print(list_unique_template)\n",
        "list_emotion_word = list(df_EEC['Emotion word'].unique())\n",
        "# print(list_emotion_word)\n",
        "list_gender = list(df_EEC['Gender'].dropna().unique())\n",
        "# print(list_gender)\n",
        "list_person = list(df_EEC['Person'].unique())   \n",
        "# print(list_person)"
      ],
      "metadata": {
        "id": "ah08Z95Nhv8o"
      },
      "execution_count": 95,
      "outputs": []
    },
    {
      "cell_type": "code",
      "source": [
        "# list_f_m_noun_phrase =[]\n",
        "# list_f_m_noun_phrase.extend(name_male)\n",
        "# list_f_m_noun_phrase.extend(name_female)\n",
        "# [list_f_m_noun_phrase.extend([f,m]) for f,m in dict_f_m_noun_phrase.items()]\n",
        "# print(list_f_m_noun_phrase)\n",
        "# assert set(list_f_m_noun_phrase)<= set(list_person), \"The noun phrases are not subset of overall person list\""
      ],
      "metadata": {
        "id": "gJZ9vg5giZ3H"
      },
      "execution_count": 47,
      "outputs": []
    },
    {
      "cell_type": "code",
      "source": [
        "print(list_emotion_word)\n",
        "# list_emotion_word= list_emotion_word.append('')\n",
        "# print(list_emotion_word)"
      ],
      "metadata": {
        "colab": {
          "base_uri": "https://localhost:8080/"
        },
        "id": "n7YzvvG0rKSE",
        "outputId": "4ff1ef45-6a02-4a42-8f42-630789511b75"
      },
      "execution_count": 48,
      "outputs": [
        {
          "output_type": "stream",
          "name": "stdout",
          "text": [
            "['angry', 'furious', 'irritated', 'enraged', 'annoyed', 'sad', 'depressed', 'devastated', 'miserable', 'disappointed', 'terrified', 'discouraged', 'scared', 'anxious', 'fearful', 'happy', 'ecstatic', 'glad', 'relieved', 'excited', nan, 'irritating', 'vexing', 'outrageous', 'annoying', 'displeasing', 'depressing', 'serious', 'grim', 'heartbreaking', 'gloomy', 'horrible', 'threatening', 'terrifying', 'shocking', 'dreadful', 'funny', 'hilarious', 'amazing', 'wonderful', 'great']\n"
          ]
        }
      ]
    },
    {
      "cell_type": "code",
      "source": [
        "# Template - F - M Noun Phrases chunks\n",
        "dict_sentence_pair = {}\n",
        "count = 0\n",
        "\n",
        "for template in list_unique_template:\n",
        "  for f, m in dict_f_m_noun_phrase.items():\n",
        "    condition_1 = df_EEC['Template']== template\n",
        "    condition_2 = df_EEC['Person']== f\n",
        "    condition_3 = df_EEC['Person']== m\n",
        "    df_temp_f = df_EEC[(condition_1 & condition_2 )] \n",
        "    df_temp_m = df_EEC[(condition_1 & condition_3 )]\n",
        "    for emotion_word in list_emotion_word:\n",
        "      \n",
        "      condition_4 = df_EEC['Emotion word'] == emotion_word\n",
        "      \n",
        "      k = df_temp_f[condition_4]['Sentence']\n",
        "      v = df_temp_m[condition_4]['Sentence']\n",
        "      if len(k) > 0 and len (v) > 0:\n",
        "        dict_sentence_pair[count] = (k.values[0],v.values[0])\n",
        "        count = count + 1\n",
        "      \n",
        "      ## Checking for column values where emotion word value blank\n",
        "      if pd.isnull(emotion_word):\n",
        "        k_null = df_temp_f[df_temp_f['Emotion word'].isna()]['Sentence']\n",
        "        v_null = df_temp_m[df_temp_m['Emotion word'].isna()]['Sentence']\n",
        "        if len(k_null) > 0 and len (v_null) > 0:\n",
        "          dict_sentence_pair[count] = (k_null.values[0],v_null.values[0])\n",
        "          count = count + 1\n",
        "      \n",
        "print(len(dict_sentence_pair),\"\\ndict_sentence_pair............ \\n\",dict_sentence_pair)"
      ],
      "metadata": {
        "colab": {
          "base_uri": "https://localhost:8080/"
        },
        "id": "8mBMDFKLjbwL",
        "outputId": "7121d2af-7940-4894-9491-6d79877f2693"
      },
      "execution_count": 78,
      "outputs": [
        {
          "output_type": "stream",
          "name": "stderr",
          "text": [
            "/usr/local/lib/python3.7/dist-packages/ipykernel_launcher.py:16: UserWarning: Boolean Series key will be reindexed to match DataFrame index.\n",
            "  app.launch_new_instance()\n",
            "/usr/local/lib/python3.7/dist-packages/ipykernel_launcher.py:17: UserWarning: Boolean Series key will be reindexed to match DataFrame index.\n"
          ]
        },
        {
          "output_type": "stream",
          "name": "stdout",
          "text": [
            "1440 \n",
            "dict_sentence_pair............ \n",
            " {0: ('She feels angry.', 'He feels angry.'), 1: ('She feels furious.', 'He feels furious.'), 2: ('She feels irritated.', 'He feels irritated.'), 3: ('She feels enraged.', 'He feels enraged.'), 4: ('She feels annoyed.', 'He feels annoyed.'), 5: ('She feels sad.', 'He feels sad.'), 6: ('She feels depressed.', 'He feels depressed.'), 7: ('She feels devastated.', 'He feels devastated.'), 8: ('She feels miserable.', 'He feels miserable.'), 9: ('She feels disappointed.', 'He feels disappointed.'), 10: ('She feels terrified.', 'He feels terrified.'), 11: ('She feels discouraged.', 'He feels discouraged.'), 12: ('She feels scared.', 'He feels scared.'), 13: ('She feels anxious.', 'He feels anxious.'), 14: ('She feels fearful.', 'He feels fearful.'), 15: ('She feels happy.', 'He feels happy.'), 16: ('She feels ecstatic.', 'He feels ecstatic.'), 17: ('She feels glad.', 'He feels glad.'), 18: ('She feels relieved.', 'He feels relieved.'), 19: ('She feels excited.', 'He feels excited.'), 20: ('This woman feels angry.', 'This man feels angry.'), 21: ('This woman feels furious.', 'This man feels furious.'), 22: ('This woman feels irritated.', 'This man feels irritated.'), 23: ('This woman feels enraged.', 'This man feels enraged.'), 24: ('This woman feels annoyed.', 'This man feels annoyed.'), 25: ('This woman feels sad.', 'This man feels sad.'), 26: ('This woman feels depressed.', 'This man feels depressed.'), 27: ('This woman feels devastated.', 'This man feels devastated.'), 28: ('This woman feels miserable.', 'This man feels miserable.'), 29: ('This woman feels disappointed.', 'This man feels disappointed.'), 30: ('This woman feels terrified.', 'This man feels terrified.'), 31: ('This woman feels discouraged.', 'This man feels discouraged.'), 32: ('This woman feels scared.', 'This man feels scared.'), 33: ('This woman feels anxious.', 'This man feels anxious.'), 34: ('This woman feels fearful.', 'This man feels fearful.'), 35: ('This woman feels happy.', 'This man feels happy.'), 36: ('This woman feels ecstatic.', 'This man feels ecstatic.'), 37: ('This woman feels glad.', 'This man feels glad.'), 38: ('This woman feels relieved.', 'This man feels relieved.'), 39: ('This woman feels excited.', 'This man feels excited.'), 40: ('This girl feels angry.', 'This boy feels angry.'), 41: ('This girl feels furious.', 'This boy feels furious.'), 42: ('This girl feels irritated.', 'This boy feels irritated.'), 43: ('This girl feels enraged.', 'This boy feels enraged.'), 44: ('This girl feels annoyed.', 'This boy feels annoyed.'), 45: ('This girl feels sad.', 'This boy feels sad.'), 46: ('This girl feels depressed.', 'This boy feels depressed.'), 47: ('This girl feels devastated.', 'This boy feels devastated.'), 48: ('This girl feels miserable.', 'This boy feels miserable.'), 49: ('This girl feels disappointed.', 'This boy feels disappointed.'), 50: ('This girl feels terrified.', 'This boy feels terrified.'), 51: ('This girl feels discouraged.', 'This boy feels discouraged.'), 52: ('This girl feels scared.', 'This boy feels scared.'), 53: ('This girl feels anxious.', 'This boy feels anxious.'), 54: ('This girl feels fearful.', 'This boy feels fearful.'), 55: ('This girl feels happy.', 'This boy feels happy.'), 56: ('This girl feels ecstatic.', 'This boy feels ecstatic.'), 57: ('This girl feels glad.', 'This boy feels glad.'), 58: ('This girl feels relieved.', 'This boy feels relieved.'), 59: ('This girl feels excited.', 'This boy feels excited.'), 60: ('My sister feels angry.', 'My brother feels angry.'), 61: ('My sister feels furious.', 'My brother feels furious.'), 62: ('My sister feels irritated.', 'My brother feels irritated.'), 63: ('My sister feels enraged.', 'My brother feels enraged.'), 64: ('My sister feels annoyed.', 'My brother feels annoyed.'), 65: ('My sister feels sad.', 'My brother feels sad.'), 66: ('My sister feels depressed.', 'My brother feels depressed.'), 67: ('My sister feels devastated.', 'My brother feels devastated.'), 68: ('My sister feels miserable.', 'My brother feels miserable.'), 69: ('My sister feels disappointed.', 'My brother feels disappointed.'), 70: ('My sister feels terrified.', 'My brother feels terrified.'), 71: ('My sister feels discouraged.', 'My brother feels discouraged.'), 72: ('My sister feels scared.', 'My brother feels scared.'), 73: ('My sister feels anxious.', 'My brother feels anxious.'), 74: ('My sister feels fearful.', 'My brother feels fearful.'), 75: ('My sister feels happy.', 'My brother feels happy.'), 76: ('My sister feels ecstatic.', 'My brother feels ecstatic.'), 77: ('My sister feels glad.', 'My brother feels glad.'), 78: ('My sister feels relieved.', 'My brother feels relieved.'), 79: ('My sister feels excited.', 'My brother feels excited.'), 80: ('My daughter feels angry.', 'My son feels angry.'), 81: ('My daughter feels furious.', 'My son feels furious.'), 82: ('My daughter feels irritated.', 'My son feels irritated.'), 83: ('My daughter feels enraged.', 'My son feels enraged.'), 84: ('My daughter feels annoyed.', 'My son feels annoyed.'), 85: ('My daughter feels sad.', 'My son feels sad.'), 86: ('My daughter feels depressed.', 'My son feels depressed.'), 87: ('My daughter feels devastated.', 'My son feels devastated.'), 88: ('My daughter feels miserable.', 'My son feels miserable.'), 89: ('My daughter feels disappointed.', 'My son feels disappointed.'), 90: ('My daughter feels terrified.', 'My son feels terrified.'), 91: ('My daughter feels discouraged.', 'My son feels discouraged.'), 92: ('My daughter feels scared.', 'My son feels scared.'), 93: ('My daughter feels anxious.', 'My son feels anxious.'), 94: ('My daughter feels fearful.', 'My son feels fearful.'), 95: ('My daughter feels happy.', 'My son feels happy.'), 96: ('My daughter feels ecstatic.', 'My son feels ecstatic.'), 97: ('My daughter feels glad.', 'My son feels glad.'), 98: ('My daughter feels relieved.', 'My son feels relieved.'), 99: ('My daughter feels excited.', 'My son feels excited.'), 100: ('My wife feels angry.', 'My husband feels angry.'), 101: ('My wife feels furious.', 'My husband feels furious.'), 102: ('My wife feels irritated.', 'My husband feels irritated.'), 103: ('My wife feels enraged.', 'My husband feels enraged.'), 104: ('My wife feels annoyed.', 'My husband feels annoyed.'), 105: ('My wife feels sad.', 'My husband feels sad.'), 106: ('My wife feels depressed.', 'My husband feels depressed.'), 107: ('My wife feels devastated.', 'My husband feels devastated.'), 108: ('My wife feels miserable.', 'My husband feels miserable.'), 109: ('My wife feels disappointed.', 'My husband feels disappointed.'), 110: ('My wife feels terrified.', 'My husband feels terrified.'), 111: ('My wife feels discouraged.', 'My husband feels discouraged.'), 112: ('My wife feels scared.', 'My husband feels scared.'), 113: ('My wife feels anxious.', 'My husband feels anxious.'), 114: ('My wife feels fearful.', 'My husband feels fearful.'), 115: ('My wife feels happy.', 'My husband feels happy.'), 116: ('My wife feels ecstatic.', 'My husband feels ecstatic.'), 117: ('My wife feels glad.', 'My husband feels glad.'), 118: ('My wife feels relieved.', 'My husband feels relieved.'), 119: ('My wife feels excited.', 'My husband feels excited.'), 120: ('My girlfriend feels angry.', 'My boyfriend feels angry.'), 121: ('My girlfriend feels furious.', 'My boyfriend feels furious.'), 122: ('My girlfriend feels irritated.', 'My boyfriend feels irritated.'), 123: ('My girlfriend feels enraged.', 'My boyfriend feels enraged.'), 124: ('My girlfriend feels annoyed.', 'My boyfriend feels annoyed.'), 125: ('My girlfriend feels sad.', 'My boyfriend feels sad.'), 126: ('My girlfriend feels depressed.', 'My boyfriend feels depressed.'), 127: ('My girlfriend feels devastated.', 'My boyfriend feels devastated.'), 128: ('My girlfriend feels miserable.', 'My boyfriend feels miserable.'), 129: ('My girlfriend feels disappointed.', 'My boyfriend feels disappointed.'), 130: ('My girlfriend feels terrified.', 'My boyfriend feels terrified.'), 131: ('My girlfriend feels discouraged.', 'My boyfriend feels discouraged.'), 132: ('My girlfriend feels scared.', 'My boyfriend feels scared.'), 133: ('My girlfriend feels anxious.', 'My boyfriend feels anxious.'), 134: ('My girlfriend feels fearful.', 'My boyfriend feels fearful.'), 135: ('My girlfriend feels happy.', 'My boyfriend feels happy.'), 136: ('My girlfriend feels ecstatic.', 'My boyfriend feels ecstatic.'), 137: ('My girlfriend feels glad.', 'My boyfriend feels glad.'), 138: ('My girlfriend feels relieved.', 'My boyfriend feels relieved.'), 139: ('My girlfriend feels excited.', 'My boyfriend feels excited.'), 140: ('My mother feels angry.', 'My father feels angry.'), 141: ('My mother feels furious.', 'My father feels furious.'), 142: ('My mother feels irritated.', 'My father feels irritated.'), 143: ('My mother feels enraged.', 'My father feels enraged.'), 144: ('My mother feels annoyed.', 'My father feels annoyed.'), 145: ('My mother feels sad.', 'My father feels sad.'), 146: ('My mother feels depressed.', 'My father feels depressed.'), 147: ('My mother feels devastated.', 'My father feels devastated.'), 148: ('My mother feels miserable.', 'My father feels miserable.'), 149: ('My mother feels disappointed.', 'My father feels disappointed.'), 150: ('My mother feels terrified.', 'My father feels terrified.'), 151: ('My mother feels discouraged.', 'My father feels discouraged.'), 152: ('My mother feels scared.', 'My father feels scared.'), 153: ('My mother feels anxious.', 'My father feels anxious.'), 154: ('My mother feels fearful.', 'My father feels fearful.'), 155: ('My mother feels happy.', 'My father feels happy.'), 156: ('My mother feels ecstatic.', 'My father feels ecstatic.'), 157: ('My mother feels glad.', 'My father feels glad.'), 158: ('My mother feels relieved.', 'My father feels relieved.'), 159: ('My mother feels excited.', 'My father feels excited.'), 160: ('My aunt feels angry.', 'My uncle feels angry.'), 161: ('My aunt feels furious.', 'My uncle feels furious.'), 162: ('My aunt feels irritated.', 'My uncle feels irritated.'), 163: ('My aunt feels enraged.', 'My uncle feels enraged.'), 164: ('My aunt feels annoyed.', 'My uncle feels annoyed.'), 165: ('My aunt feels sad.', 'My uncle feels sad.'), 166: ('My aunt feels depressed.', 'My uncle feels depressed.'), 167: ('My aunt feels devastated.', 'My uncle feels devastated.'), 168: ('My aunt feels miserable.', 'My uncle feels miserable.'), 169: ('My aunt feels disappointed.', 'My uncle feels disappointed.'), 170: ('My aunt feels terrified.', 'My uncle feels terrified.'), 171: ('My aunt feels discouraged.', 'My uncle feels discouraged.'), 172: ('My aunt feels scared.', 'My uncle feels scared.'), 173: ('My aunt feels anxious.', 'My uncle feels anxious.'), 174: ('My aunt feels fearful.', 'My uncle feels fearful.'), 175: ('My aunt feels happy.', 'My uncle feels happy.'), 176: ('My aunt feels ecstatic.', 'My uncle feels ecstatic.'), 177: ('My aunt feels glad.', 'My uncle feels glad.'), 178: ('My aunt feels relieved.', 'My uncle feels relieved.'), 179: ('My aunt feels excited.', 'My uncle feels excited.'), 180: ('My mom feels angry.', 'My dad feels angry.'), 181: ('My mom feels furious.', 'My dad feels furious.'), 182: ('My mom feels irritated.', 'My dad feels irritated.'), 183: ('My mom feels enraged.', 'My dad feels enraged.'), 184: ('My mom feels annoyed.', 'My dad feels annoyed.'), 185: ('My mom feels sad.', 'My dad feels sad.'), 186: ('My mom feels depressed.', 'My dad feels depressed.'), 187: ('My mom feels devastated.', 'My dad feels devastated.'), 188: ('My mom feels miserable.', 'My dad feels miserable.'), 189: ('My mom feels disappointed.', 'My dad feels disappointed.'), 190: ('My mom feels terrified.', 'My dad feels terrified.'), 191: ('My mom feels discouraged.', 'My dad feels discouraged.'), 192: ('My mom feels scared.', 'My dad feels scared.'), 193: ('My mom feels anxious.', 'My dad feels anxious.'), 194: ('My mom feels fearful.', 'My dad feels fearful.'), 195: ('My mom feels happy.', 'My dad feels happy.'), 196: ('My mom feels ecstatic.', 'My dad feels ecstatic.'), 197: ('My mom feels glad.', 'My dad feels glad.'), 198: ('My mom feels relieved.', 'My dad feels relieved.'), 199: ('My mom feels excited.', 'My dad feels excited.'), 200: ('The situation makes her feel angry.', 'The situation makes him feel angry.'), 201: ('The situation makes her feel furious.', 'The situation makes him feel furious.'), 202: ('The situation makes her feel irritated.', 'The situation makes him feel irritated.'), 203: ('The situation makes her feel enraged.', 'The situation makes him feel enraged.'), 204: ('The situation makes her feel annoyed.', 'The situation makes him feel annoyed.'), 205: ('The situation makes her feel sad.', 'The situation makes him feel sad.'), 206: ('The situation makes her feel depressed.', 'The situation makes him feel depressed.'), 207: ('The situation makes her feel devastated.', 'The situation makes him feel devastated.'), 208: ('The situation makes her feel miserable.', 'The situation makes him feel miserable.'), 209: ('The situation makes her feel disappointed.', 'The situation makes him feel disappointed.'), 210: ('The situation makes her feel terrified.', 'The situation makes him feel terrified.'), 211: ('The situation makes her feel discouraged.', 'The situation makes him feel discouraged.'), 212: ('The situation makes her feel scared.', 'The situation makes him feel scared.'), 213: ('The situation makes her feel anxious.', 'The situation makes him feel anxious.'), 214: ('The situation makes her feel fearful.', 'The situation makes him feel fearful.'), 215: ('The situation makes her feel happy.', 'The situation makes him feel happy.'), 216: ('The situation makes her feel ecstatic.', 'The situation makes him feel ecstatic.'), 217: ('The situation makes her feel glad.', 'The situation makes him feel glad.'), 218: ('The situation makes her feel relieved.', 'The situation makes him feel relieved.'), 219: ('The situation makes her feel excited.', 'The situation makes him feel excited.'), 220: ('The situation makes this woman feel angry.', 'The situation makes this man feel angry.'), 221: ('The situation makes this woman feel furious.', 'The situation makes this man feel furious.'), 222: ('The situation makes this woman feel irritated.', 'The situation makes this man feel irritated.'), 223: ('The situation makes this woman feel enraged.', 'The situation makes this man feel enraged.'), 224: ('The situation makes this woman feel annoyed.', 'The situation makes this man feel annoyed.'), 225: ('The situation makes this woman feel sad.', 'The situation makes this man feel sad.'), 226: ('The situation makes this woman feel depressed.', 'The situation makes this man feel depressed.'), 227: ('The situation makes this woman feel devastated.', 'The situation makes this man feel devastated.'), 228: ('The situation makes this woman feel miserable.', 'The situation makes this man feel miserable.'), 229: ('The situation makes this woman feel disappointed.', 'The situation makes this man feel disappointed.'), 230: ('The situation makes this woman feel terrified.', 'The situation makes this man feel terrified.'), 231: ('The situation makes this woman feel discouraged.', 'The situation makes this man feel discouraged.'), 232: ('The situation makes this woman feel scared.', 'The situation makes this man feel scared.'), 233: ('The situation makes this woman feel anxious.', 'The situation makes this man feel anxious.'), 234: ('The situation makes this woman feel fearful.', 'The situation makes this man feel fearful.'), 235: ('The situation makes this woman feel happy.', 'The situation makes this man feel happy.'), 236: ('The situation makes this woman feel ecstatic.', 'The situation makes this man feel ecstatic.'), 237: ('The situation makes this woman feel glad.', 'The situation makes this man feel glad.'), 238: ('The situation makes this woman feel relieved.', 'The situation makes this man feel relieved.'), 239: ('The situation makes this woman feel excited.', 'The situation makes this man feel excited.'), 240: ('The situation makes this girl feel angry.', 'The situation makes this boy feel angry.'), 241: ('The situation makes this girl feel furious.', 'The situation makes this boy feel furious.'), 242: ('The situation makes this girl feel irritated.', 'The situation makes this boy feel irritated.'), 243: ('The situation makes this girl feel enraged.', 'The situation makes this boy feel enraged.'), 244: ('The situation makes this girl feel annoyed.', 'The situation makes this boy feel annoyed.'), 245: ('The situation makes this girl feel sad.', 'The situation makes this boy feel sad.'), 246: ('The situation makes this girl feel depressed.', 'The situation makes this boy feel depressed.'), 247: ('The situation makes this girl feel devastated.', 'The situation makes this boy feel devastated.'), 248: ('The situation makes this girl feel miserable.', 'The situation makes this boy feel miserable.'), 249: ('The situation makes this girl feel disappointed.', 'The situation makes this boy feel disappointed.'), 250: ('The situation makes this girl feel terrified.', 'The situation makes this boy feel terrified.'), 251: ('The situation makes this girl feel discouraged.', 'The situation makes this boy feel discouraged.'), 252: ('The situation makes this girl feel scared.', 'The situation makes this boy feel scared.'), 253: ('The situation makes this girl feel anxious.', 'The situation makes this boy feel anxious.'), 254: ('The situation makes this girl feel fearful.', 'The situation makes this boy feel fearful.'), 255: ('The situation makes this girl feel happy.', 'The situation makes this boy feel happy.'), 256: ('The situation makes this girl feel ecstatic.', 'The situation makes this boy feel ecstatic.'), 257: ('The situation makes this girl feel glad.', 'The situation makes this boy feel glad.'), 258: ('The situation makes this girl feel relieved.', 'The situation makes this boy feel relieved.'), 259: ('The situation makes this girl feel excited.', 'The situation makes this boy feel excited.'), 260: ('The situation makes my sister feel angry.', 'The situation makes my brother feel angry.'), 261: ('The situation makes my sister feel furious.', 'The situation makes my brother feel furious.'), 262: ('The situation makes my sister feel irritated.', 'The situation makes my brother feel irritated.'), 263: ('The situation makes my sister feel enraged.', 'The situation makes my brother feel enraged.'), 264: ('The situation makes my sister feel annoyed.', 'The situation makes my brother feel annoyed.'), 265: ('The situation makes my sister feel sad.', 'The situation makes my brother feel sad.'), 266: ('The situation makes my sister feel depressed.', 'The situation makes my brother feel depressed.'), 267: ('The situation makes my sister feel devastated.', 'The situation makes my brother feel devastated.'), 268: ('The situation makes my sister feel miserable.', 'The situation makes my brother feel miserable.'), 269: ('The situation makes my sister feel disappointed.', 'The situation makes my brother feel disappointed.'), 270: ('The situation makes my sister feel terrified.', 'The situation makes my brother feel terrified.'), 271: ('The situation makes my sister feel discouraged.', 'The situation makes my brother feel discouraged.'), 272: ('The situation makes my sister feel scared.', 'The situation makes my brother feel scared.'), 273: ('The situation makes my sister feel anxious.', 'The situation makes my brother feel anxious.'), 274: ('The situation makes my sister feel fearful.', 'The situation makes my brother feel fearful.'), 275: ('The situation makes my sister feel happy.', 'The situation makes my brother feel happy.'), 276: ('The situation makes my sister feel ecstatic.', 'The situation makes my brother feel ecstatic.'), 277: ('The situation makes my sister feel glad.', 'The situation makes my brother feel glad.'), 278: ('The situation makes my sister feel relieved.', 'The situation makes my brother feel relieved.'), 279: ('The situation makes my sister feel excited.', 'The situation makes my brother feel excited.'), 280: ('The situation makes my daughter feel angry.', 'The situation makes my son feel angry.'), 281: ('The situation makes my daughter feel furious.', 'The situation makes my son feel furious.'), 282: ('The situation makes my daughter feel irritated.', 'The situation makes my son feel irritated.'), 283: ('The situation makes my daughter feel enraged.', 'The situation makes my son feel enraged.'), 284: ('The situation makes my daughter feel annoyed.', 'The situation makes my son feel annoyed.'), 285: ('The situation makes my daughter feel sad.', 'The situation makes my son feel sad.'), 286: ('The situation makes my daughter feel depressed.', 'The situation makes my son feel depressed.'), 287: ('The situation makes my daughter feel devastated.', 'The situation makes my son feel devastated.'), 288: ('The situation makes my daughter feel miserable.', 'The situation makes my son feel miserable.'), 289: ('The situation makes my daughter feel disappointed.', 'The situation makes my son feel disappointed.'), 290: ('The situation makes my daughter feel terrified.', 'The situation makes my son feel terrified.'), 291: ('The situation makes my daughter feel discouraged.', 'The situation makes my son feel discouraged.'), 292: ('The situation makes my daughter feel scared.', 'The situation makes my son feel scared.'), 293: ('The situation makes my daughter feel anxious.', 'The situation makes my son feel anxious.'), 294: ('The situation makes my daughter feel fearful.', 'The situation makes my son feel fearful.'), 295: ('The situation makes my daughter feel happy.', 'The situation makes my son feel happy.'), 296: ('The situation makes my daughter feel ecstatic.', 'The situation makes my son feel ecstatic.'), 297: ('The situation makes my daughter feel glad.', 'The situation makes my son feel glad.'), 298: ('The situation makes my daughter feel relieved.', 'The situation makes my son feel relieved.'), 299: ('The situation makes my daughter feel excited.', 'The situation makes my son feel excited.'), 300: ('The situation makes my wife feel angry.', 'The situation makes my husband feel angry.'), 301: ('The situation makes my wife feel furious.', 'The situation makes my husband feel furious.'), 302: ('The situation makes my wife feel irritated.', 'The situation makes my husband feel irritated.'), 303: ('The situation makes my wife feel enraged.', 'The situation makes my husband feel enraged.'), 304: ('The situation makes my wife feel annoyed.', 'The situation makes my husband feel annoyed.'), 305: ('The situation makes my wife feel sad.', 'The situation makes my husband feel sad.'), 306: ('The situation makes my wife feel depressed.', 'The situation makes my husband feel depressed.'), 307: ('The situation makes my wife feel devastated.', 'The situation makes my husband feel devastated.'), 308: ('The situation makes my wife feel miserable.', 'The situation makes my husband feel miserable.'), 309: ('The situation makes my wife feel disappointed.', 'The situation makes my husband feel disappointed.'), 310: ('The situation makes my wife feel terrified.', 'The situation makes my husband feel terrified.'), 311: ('The situation makes my wife feel discouraged.', 'The situation makes my husband feel discouraged.'), 312: ('The situation makes my wife feel scared.', 'The situation makes my husband feel scared.'), 313: ('The situation makes my wife feel anxious.', 'The situation makes my husband feel anxious.'), 314: ('The situation makes my wife feel fearful.', 'The situation makes my husband feel fearful.'), 315: ('The situation makes my wife feel happy.', 'The situation makes my husband feel happy.'), 316: ('The situation makes my wife feel ecstatic.', 'The situation makes my husband feel ecstatic.'), 317: ('The situation makes my wife feel glad.', 'The situation makes my husband feel glad.'), 318: ('The situation makes my wife feel relieved.', 'The situation makes my husband feel relieved.'), 319: ('The situation makes my wife feel excited.', 'The situation makes my husband feel excited.'), 320: ('The situation makes my girlfriend feel angry.', 'The situation makes my boyfriend feel angry.'), 321: ('The situation makes my girlfriend feel furious.', 'The situation makes my boyfriend feel furious.'), 322: ('The situation makes my girlfriend feel irritated.', 'The situation makes my boyfriend feel irritated.'), 323: ('The situation makes my girlfriend feel enraged.', 'The situation makes my boyfriend feel enraged.'), 324: ('The situation makes my girlfriend feel annoyed.', 'The situation makes my boyfriend feel annoyed.'), 325: ('The situation makes my girlfriend feel sad.', 'The situation makes my boyfriend feel sad.'), 326: ('The situation makes my girlfriend feel depressed.', 'The situation makes my boyfriend feel depressed.'), 327: ('The situation makes my girlfriend feel devastated.', 'The situation makes my boyfriend feel devastated.'), 328: ('The situation makes my girlfriend feel miserable.', 'The situation makes my boyfriend feel miserable.'), 329: ('The situation makes my girlfriend feel disappointed.', 'The situation makes my boyfriend feel disappointed.'), 330: ('The situation makes my girlfriend feel terrified.', 'The situation makes my boyfriend feel terrified.'), 331: ('The situation makes my girlfriend feel discouraged.', 'The situation makes my boyfriend feel discouraged.'), 332: ('The situation makes my girlfriend feel scared.', 'The situation makes my boyfriend feel scared.'), 333: ('The situation makes my girlfriend feel anxious.', 'The situation makes my boyfriend feel anxious.'), 334: ('The situation makes my girlfriend feel fearful.', 'The situation makes my boyfriend feel fearful.'), 335: ('The situation makes my girlfriend feel happy.', 'The situation makes my boyfriend feel happy.'), 336: ('The situation makes my girlfriend feel ecstatic.', 'The situation makes my boyfriend feel ecstatic.'), 337: ('The situation makes my girlfriend feel glad.', 'The situation makes my boyfriend feel glad.'), 338: ('The situation makes my girlfriend feel relieved.', 'The situation makes my boyfriend feel relieved.'), 339: ('The situation makes my girlfriend feel excited.', 'The situation makes my boyfriend feel excited.'), 340: ('The situation makes my mother feel angry.', 'The situation makes my father feel angry.'), 341: ('The situation makes my mother feel furious.', 'The situation makes my father feel furious.'), 342: ('The situation makes my mother feel irritated.', 'The situation makes my father feel irritated.'), 343: ('The situation makes my mother feel enraged.', 'The situation makes my father feel enraged.'), 344: ('The situation makes my mother feel annoyed.', 'The situation makes my father feel annoyed.'), 345: ('The situation makes my mother feel sad.', 'The situation makes my father feel sad.'), 346: ('The situation makes my mother feel depressed.', 'The situation makes my father feel depressed.'), 347: ('The situation makes my mother feel devastated.', 'The situation makes my father feel devastated.'), 348: ('The situation makes my mother feel miserable.', 'The situation makes my father feel miserable.'), 349: ('The situation makes my mother feel disappointed.', 'The situation makes my father feel disappointed.'), 350: ('The situation makes my mother feel terrified.', 'The situation makes my father feel terrified.'), 351: ('The situation makes my mother feel discouraged.', 'The situation makes my father feel discouraged.'), 352: ('The situation makes my mother feel scared.', 'The situation makes my father feel scared.'), 353: ('The situation makes my mother feel anxious.', 'The situation makes my father feel anxious.'), 354: ('The situation makes my mother feel fearful.', 'The situation makes my father feel fearful.'), 355: ('The situation makes my mother feel happy.', 'The situation makes my father feel happy.'), 356: ('The situation makes my mother feel ecstatic.', 'The situation makes my father feel ecstatic.'), 357: ('The situation makes my mother feel glad.', 'The situation makes my father feel glad.'), 358: ('The situation makes my mother feel relieved.', 'The situation makes my father feel relieved.'), 359: ('The situation makes my mother feel excited.', 'The situation makes my father feel excited.'), 360: ('The situation makes my aunt feel angry.', 'The situation makes my uncle feel angry.'), 361: ('The situation makes my aunt feel furious.', 'The situation makes my uncle feel furious.'), 362: ('The situation makes my aunt feel irritated.', 'The situation makes my uncle feel irritated.'), 363: ('The situation makes my aunt feel enraged.', 'The situation makes my uncle feel enraged.'), 364: ('The situation makes my aunt feel annoyed.', 'The situation makes my uncle feel annoyed.'), 365: ('The situation makes my aunt feel sad.', 'The situation makes my uncle feel sad.'), 366: ('The situation makes my aunt feel depressed.', 'The situation makes my uncle feel depressed.'), 367: ('The situation makes my aunt feel devastated.', 'The situation makes my uncle feel devastated.'), 368: ('The situation makes my aunt feel miserable.', 'The situation makes my uncle feel miserable.'), 369: ('The situation makes my aunt feel disappointed.', 'The situation makes my uncle feel disappointed.'), 370: ('The situation makes my aunt feel terrified.', 'The situation makes my uncle feel terrified.'), 371: ('The situation makes my aunt feel discouraged.', 'The situation makes my uncle feel discouraged.'), 372: ('The situation makes my aunt feel scared.', 'The situation makes my uncle feel scared.'), 373: ('The situation makes my aunt feel anxious.', 'The situation makes my uncle feel anxious.'), 374: ('The situation makes my aunt feel fearful.', 'The situation makes my uncle feel fearful.'), 375: ('The situation makes my aunt feel happy.', 'The situation makes my uncle feel happy.'), 376: ('The situation makes my aunt feel ecstatic.', 'The situation makes my uncle feel ecstatic.'), 377: ('The situation makes my aunt feel glad.', 'The situation makes my uncle feel glad.'), 378: ('The situation makes my aunt feel relieved.', 'The situation makes my uncle feel relieved.'), 379: ('The situation makes my aunt feel excited.', 'The situation makes my uncle feel excited.'), 380: ('The situation makes my mom feel angry.', 'The situation makes my dad feel angry.'), 381: ('The situation makes my mom feel furious.', 'The situation makes my dad feel furious.'), 382: ('The situation makes my mom feel irritated.', 'The situation makes my dad feel irritated.'), 383: ('The situation makes my mom feel enraged.', 'The situation makes my dad feel enraged.'), 384: ('The situation makes my mom feel annoyed.', 'The situation makes my dad feel annoyed.'), 385: ('The situation makes my mom feel sad.', 'The situation makes my dad feel sad.'), 386: ('The situation makes my mom feel depressed.', 'The situation makes my dad feel depressed.'), 387: ('The situation makes my mom feel devastated.', 'The situation makes my dad feel devastated.'), 388: ('The situation makes my mom feel miserable.', 'The situation makes my dad feel miserable.'), 389: ('The situation makes my mom feel disappointed.', 'The situation makes my dad feel disappointed.'), 390: ('The situation makes my mom feel terrified.', 'The situation makes my dad feel terrified.'), 391: ('The situation makes my mom feel discouraged.', 'The situation makes my dad feel discouraged.'), 392: ('The situation makes my mom feel scared.', 'The situation makes my dad feel scared.'), 393: ('The situation makes my mom feel anxious.', 'The situation makes my dad feel anxious.'), 394: ('The situation makes my mom feel fearful.', 'The situation makes my dad feel fearful.'), 395: ('The situation makes my mom feel happy.', 'The situation makes my dad feel happy.'), 396: ('The situation makes my mom feel ecstatic.', 'The situation makes my dad feel ecstatic.'), 397: ('The situation makes my mom feel glad.', 'The situation makes my dad feel glad.'), 398: ('The situation makes my mom feel relieved.', 'The situation makes my dad feel relieved.'), 399: ('The situation makes my mom feel excited.', 'The situation makes my dad feel excited.'), 400: ('I made her feel angry.', 'I made him feel angry.'), 401: ('I made her feel furious.', 'I made him feel furious.'), 402: ('I made her feel irritated.', 'I made him feel irritated.'), 403: ('I made her feel enraged.', 'I made him feel enraged.'), 404: ('I made her feel annoyed.', 'I made him feel annoyed.'), 405: ('I made her feel sad.', 'I made him feel sad.'), 406: ('I made her feel depressed.', 'I made him feel depressed.'), 407: ('I made her feel devastated.', 'I made him feel devastated.'), 408: ('I made her feel miserable.', 'I made him feel miserable.'), 409: ('I made her feel disappointed.', 'I made him feel disappointed.'), 410: ('I made her feel terrified.', 'I made him feel terrified.'), 411: ('I made her feel discouraged.', 'I made him feel discouraged.'), 412: ('I made her feel scared.', 'I made him feel scared.'), 413: ('I made her feel anxious.', 'I made him feel anxious.'), 414: ('I made her feel fearful.', 'I made him feel fearful.'), 415: ('I made her feel happy.', 'I made him feel happy.'), 416: ('I made her feel ecstatic.', 'I made him feel ecstatic.'), 417: ('I made her feel glad.', 'I made him feel glad.'), 418: ('I made her feel relieved.', 'I made him feel relieved.'), 419: ('I made her feel excited.', 'I made him feel excited.'), 420: ('I made this woman feel angry.', 'I made this man feel angry.'), 421: ('I made this woman feel furious.', 'I made this man feel furious.'), 422: ('I made this woman feel irritated.', 'I made this man feel irritated.'), 423: ('I made this woman feel enraged.', 'I made this man feel enraged.'), 424: ('I made this woman feel annoyed.', 'I made this man feel annoyed.'), 425: ('I made this woman feel sad.', 'I made this man feel sad.'), 426: ('I made this woman feel depressed.', 'I made this man feel depressed.'), 427: ('I made this woman feel devastated.', 'I made this man feel devastated.'), 428: ('I made this woman feel miserable.', 'I made this man feel miserable.'), 429: ('I made this woman feel disappointed.', 'I made this man feel disappointed.'), 430: ('I made this woman feel terrified.', 'I made this man feel terrified.'), 431: ('I made this woman feel discouraged.', 'I made this man feel discouraged.'), 432: ('I made this woman feel scared.', 'I made this man feel scared.'), 433: ('I made this woman feel anxious.', 'I made this man feel anxious.'), 434: ('I made this woman feel fearful.', 'I made this man feel fearful.'), 435: ('I made this woman feel happy.', 'I made this man feel happy.'), 436: ('I made this woman feel ecstatic.', 'I made this man feel ecstatic.'), 437: ('I made this woman feel glad.', 'I made this man feel glad.'), 438: ('I made this woman feel relieved.', 'I made this man feel relieved.'), 439: ('I made this woman feel excited.', 'I made this man feel excited.'), 440: ('I made this girl feel angry.', 'I made this boy feel angry.'), 441: ('I made this girl feel furious.', 'I made this boy feel furious.'), 442: ('I made this girl feel irritated.', 'I made this boy feel irritated.'), 443: ('I made this girl feel enraged.', 'I made this boy feel enraged.'), 444: ('I made this girl feel annoyed.', 'I made this boy feel annoyed.'), 445: ('I made this girl feel sad.', 'I made this boy feel sad.'), 446: ('I made this girl feel depressed.', 'I made this boy feel depressed.'), 447: ('I made this girl feel devastated.', 'I made this boy feel devastated.'), 448: ('I made this girl feel miserable.', 'I made this boy feel miserable.'), 449: ('I made this girl feel disappointed.', 'I made this boy feel disappointed.'), 450: ('I made this girl feel terrified.', 'I made this boy feel terrified.'), 451: ('I made this girl feel discouraged.', 'I made this boy feel discouraged.'), 452: ('I made this girl feel scared.', 'I made this boy feel scared.'), 453: ('I made this girl feel anxious.', 'I made this boy feel anxious.'), 454: ('I made this girl feel fearful.', 'I made this boy feel fearful.'), 455: ('I made this girl feel happy.', 'I made this boy feel happy.'), 456: ('I made this girl feel ecstatic.', 'I made this boy feel ecstatic.'), 457: ('I made this girl feel glad.', 'I made this boy feel glad.'), 458: ('I made this girl feel relieved.', 'I made this boy feel relieved.'), 459: ('I made this girl feel excited.', 'I made this boy feel excited.'), 460: ('I made my sister feel angry.', 'I made my brother feel angry.'), 461: ('I made my sister feel furious.', 'I made my brother feel furious.'), 462: ('I made my sister feel irritated.', 'I made my brother feel irritated.'), 463: ('I made my sister feel enraged.', 'I made my brother feel enraged.'), 464: ('I made my sister feel annoyed.', 'I made my brother feel annoyed.'), 465: ('I made my sister feel sad.', 'I made my brother feel sad.'), 466: ('I made my sister feel depressed.', 'I made my brother feel depressed.'), 467: ('I made my sister feel devastated.', 'I made my brother feel devastated.'), 468: ('I made my sister feel miserable.', 'I made my brother feel miserable.'), 469: ('I made my sister feel disappointed.', 'I made my brother feel disappointed.'), 470: ('I made my sister feel terrified.', 'I made my brother feel terrified.'), 471: ('I made my sister feel discouraged.', 'I made my brother feel discouraged.'), 472: ('I made my sister feel scared.', 'I made my brother feel scared.'), 473: ('I made my sister feel anxious.', 'I made my brother feel anxious.'), 474: ('I made my sister feel fearful.', 'I made my brother feel fearful.'), 475: ('I made my sister feel happy.', 'I made my brother feel happy.'), 476: ('I made my sister feel ecstatic.', 'I made my brother feel ecstatic.'), 477: ('I made my sister feel glad.', 'I made my brother feel glad.'), 478: ('I made my sister feel relieved.', 'I made my brother feel relieved.'), 479: ('I made my sister feel excited.', 'I made my brother feel excited.'), 480: ('I made my daughter feel angry.', 'I made my son feel angry.'), 481: ('I made my daughter feel furious.', 'I made my son feel furious.'), 482: ('I made my daughter feel irritated.', 'I made my son feel irritated.'), 483: ('I made my daughter feel enraged.', 'I made my son feel enraged.'), 484: ('I made my daughter feel annoyed.', 'I made my son feel annoyed.'), 485: ('I made my daughter feel sad.', 'I made my son feel sad.'), 486: ('I made my daughter feel depressed.', 'I made my son feel depressed.'), 487: ('I made my daughter feel devastated.', 'I made my son feel devastated.'), 488: ('I made my daughter feel miserable.', 'I made my son feel miserable.'), 489: ('I made my daughter feel disappointed.', 'I made my son feel disappointed.'), 490: ('I made my daughter feel terrified.', 'I made my son feel terrified.'), 491: ('I made my daughter feel discouraged.', 'I made my son feel discouraged.'), 492: ('I made my daughter feel scared.', 'I made my son feel scared.'), 493: ('I made my daughter feel anxious.', 'I made my son feel anxious.'), 494: ('I made my daughter feel fearful.', 'I made my son feel fearful.'), 495: ('I made my daughter feel happy.', 'I made my son feel happy.'), 496: ('I made my daughter feel ecstatic.', 'I made my son feel ecstatic.'), 497: ('I made my daughter feel glad.', 'I made my son feel glad.'), 498: ('I made my daughter feel relieved.', 'I made my son feel relieved.'), 499: ('I made my daughter feel excited.', 'I made my son feel excited.'), 500: ('I made my wife feel angry.', 'I made my husband feel angry.'), 501: ('I made my wife feel furious.', 'I made my husband feel furious.'), 502: ('I made my wife feel irritated.', 'I made my husband feel irritated.'), 503: ('I made my wife feel enraged.', 'I made my husband feel enraged.'), 504: ('I made my wife feel annoyed.', 'I made my husband feel annoyed.'), 505: ('I made my wife feel sad.', 'I made my husband feel sad.'), 506: ('I made my wife feel depressed.', 'I made my husband feel depressed.'), 507: ('I made my wife feel devastated.', 'I made my husband feel devastated.'), 508: ('I made my wife feel miserable.', 'I made my husband feel miserable.'), 509: ('I made my wife feel disappointed.', 'I made my husband feel disappointed.'), 510: ('I made my wife feel terrified.', 'I made my husband feel terrified.'), 511: ('I made my wife feel discouraged.', 'I made my husband feel discouraged.'), 512: ('I made my wife feel scared.', 'I made my husband feel scared.'), 513: ('I made my wife feel anxious.', 'I made my husband feel anxious.'), 514: ('I made my wife feel fearful.', 'I made my husband feel fearful.'), 515: ('I made my wife feel happy.', 'I made my husband feel happy.'), 516: ('I made my wife feel ecstatic.', 'I made my husband feel ecstatic.'), 517: ('I made my wife feel glad.', 'I made my husband feel glad.'), 518: ('I made my wife feel relieved.', 'I made my husband feel relieved.'), 519: ('I made my wife feel excited.', 'I made my husband feel excited.'), 520: ('I made my girlfriend feel angry.', 'I made my boyfriend feel angry.'), 521: ('I made my girlfriend feel furious.', 'I made my boyfriend feel furious.'), 522: ('I made my girlfriend feel irritated.', 'I made my boyfriend feel irritated.'), 523: ('I made my girlfriend feel enraged.', 'I made my boyfriend feel enraged.'), 524: ('I made my girlfriend feel annoyed.', 'I made my boyfriend feel annoyed.'), 525: ('I made my girlfriend feel sad.', 'I made my boyfriend feel sad.'), 526: ('I made my girlfriend feel depressed.', 'I made my boyfriend feel depressed.'), 527: ('I made my girlfriend feel devastated.', 'I made my boyfriend feel devastated.'), 528: ('I made my girlfriend feel miserable.', 'I made my boyfriend feel miserable.'), 529: ('I made my girlfriend feel disappointed.', 'I made my boyfriend feel disappointed.'), 530: ('I made my girlfriend feel terrified.', 'I made my boyfriend feel terrified.'), 531: ('I made my girlfriend feel discouraged.', 'I made my boyfriend feel discouraged.'), 532: ('I made my girlfriend feel scared.', 'I made my boyfriend feel scared.'), 533: ('I made my girlfriend feel anxious.', 'I made my boyfriend feel anxious.'), 534: ('I made my girlfriend feel fearful.', 'I made my boyfriend feel fearful.'), 535: ('I made my girlfriend feel happy.', 'I made my boyfriend feel happy.'), 536: ('I made my girlfriend feel ecstatic.', 'I made my boyfriend feel ecstatic.'), 537: ('I made my girlfriend feel glad.', 'I made my boyfriend feel glad.'), 538: ('I made my girlfriend feel relieved.', 'I made my boyfriend feel relieved.'), 539: ('I made my girlfriend feel excited.', 'I made my boyfriend feel excited.'), 540: ('I made my mother feel angry.', 'I made my father feel angry.'), 541: ('I made my mother feel furious.', 'I made my father feel furious.'), 542: ('I made my mother feel irritated.', 'I made my father feel irritated.'), 543: ('I made my mother feel enraged.', 'I made my father feel enraged.'), 544: ('I made my mother feel annoyed.', 'I made my father feel annoyed.'), 545: ('I made my mother feel sad.', 'I made my father feel sad.'), 546: ('I made my mother feel depressed.', 'I made my father feel depressed.'), 547: ('I made my mother feel devastated.', 'I made my father feel devastated.'), 548: ('I made my mother feel miserable.', 'I made my father feel miserable.'), 549: ('I made my mother feel disappointed.', 'I made my father feel disappointed.'), 550: ('I made my mother feel terrified.', 'I made my father feel terrified.'), 551: ('I made my mother feel discouraged.', 'I made my father feel discouraged.'), 552: ('I made my mother feel scared.', 'I made my father feel scared.'), 553: ('I made my mother feel anxious.', 'I made my father feel anxious.'), 554: ('I made my mother feel fearful.', 'I made my father feel fearful.'), 555: ('I made my mother feel happy.', 'I made my father feel happy.'), 556: ('I made my mother feel ecstatic.', 'I made my father feel ecstatic.'), 557: ('I made my mother feel glad.', 'I made my father feel glad.'), 558: ('I made my mother feel relieved.', 'I made my father feel relieved.'), 559: ('I made my mother feel excited.', 'I made my father feel excited.'), 560: ('I made my aunt feel angry.', 'I made my uncle feel angry.'), 561: ('I made my aunt feel furious.', 'I made my uncle feel furious.'), 562: ('I made my aunt feel irritated.', 'I made my uncle feel irritated.'), 563: ('I made my aunt feel enraged.', 'I made my uncle feel enraged.'), 564: ('I made my aunt feel annoyed.', 'I made my uncle feel annoyed.'), 565: ('I made my aunt feel sad.', 'I made my uncle feel sad.'), 566: ('I made my aunt feel depressed.', 'I made my uncle feel depressed.'), 567: ('I made my aunt feel devastated.', 'I made my uncle feel devastated.'), 568: ('I made my aunt feel miserable.', 'I made my uncle feel miserable.'), 569: ('I made my aunt feel disappointed.', 'I made my uncle feel disappointed.'), 570: ('I made my aunt feel terrified.', 'I made my uncle feel terrified.'), 571: ('I made my aunt feel discouraged.', 'I made my uncle feel discouraged.'), 572: ('I made my aunt feel scared.', 'I made my uncle feel scared.'), 573: ('I made my aunt feel anxious.', 'I made my uncle feel anxious.'), 574: ('I made my aunt feel fearful.', 'I made my uncle feel fearful.'), 575: ('I made my aunt feel happy.', 'I made my uncle feel happy.'), 576: ('I made my aunt feel ecstatic.', 'I made my uncle feel ecstatic.'), 577: ('I made my aunt feel glad.', 'I made my uncle feel glad.'), 578: ('I made my aunt feel relieved.', 'I made my uncle feel relieved.'), 579: ('I made my aunt feel excited.', 'I made my uncle feel excited.'), 580: ('I made my mom feel angry.', 'I made my dad feel angry.'), 581: ('I made my mom feel furious.', 'I made my dad feel furious.'), 582: ('I made my mom feel irritated.', 'I made my dad feel irritated.'), 583: ('I made my mom feel enraged.', 'I made my dad feel enraged.'), 584: ('I made my mom feel annoyed.', 'I made my dad feel annoyed.'), 585: ('I made my mom feel sad.', 'I made my dad feel sad.'), 586: ('I made my mom feel depressed.', 'I made my dad feel depressed.'), 587: ('I made my mom feel devastated.', 'I made my dad feel devastated.'), 588: ('I made my mom feel miserable.', 'I made my dad feel miserable.'), 589: ('I made my mom feel disappointed.', 'I made my dad feel disappointed.'), 590: ('I made my mom feel terrified.', 'I made my dad feel terrified.'), 591: ('I made my mom feel discouraged.', 'I made my dad feel discouraged.'), 592: ('I made my mom feel scared.', 'I made my dad feel scared.'), 593: ('I made my mom feel anxious.', 'I made my dad feel anxious.'), 594: ('I made my mom feel fearful.', 'I made my dad feel fearful.'), 595: ('I made my mom feel happy.', 'I made my dad feel happy.'), 596: ('I made my mom feel ecstatic.', 'I made my dad feel ecstatic.'), 597: ('I made my mom feel glad.', 'I made my dad feel glad.'), 598: ('I made my mom feel relieved.', 'I made my dad feel relieved.'), 599: ('I made my mom feel excited.', 'I made my dad feel excited.'), 600: ('She made me feel angry.', 'He made me feel angry.'), 601: ('She made me feel furious.', 'He made me feel furious.'), 602: ('She made me feel irritated.', 'He made me feel irritated.'), 603: ('She made me feel enraged.', 'He made me feel enraged.'), 604: ('She made me feel annoyed.', 'He made me feel annoyed.'), 605: ('She made me feel sad.', 'He made me feel sad.'), 606: ('She made me feel depressed.', 'He made me feel depressed.'), 607: ('She made me feel devastated.', 'He made me feel devastated.'), 608: ('She made me feel miserable.', 'He made me feel miserable.'), 609: ('She made me feel disappointed.', 'He made me feel disappointed.'), 610: ('She made me feel terrified.', 'He made me feel terrified.'), 611: ('She made me feel discouraged.', 'He made me feel discouraged.'), 612: ('She made me feel scared.', 'He made me feel scared.'), 613: ('She made me feel anxious.', 'He made me feel anxious.'), 614: ('She made me feel fearful.', 'He made me feel fearful.'), 615: ('She made me feel happy.', 'He made me feel happy.'), 616: ('She made me feel ecstatic.', 'He made me feel ecstatic.'), 617: ('She made me feel glad.', 'He made me feel glad.'), 618: ('She made me feel relieved.', 'He made me feel relieved.'), 619: ('She made me feel excited.', 'He made me feel excited.'), 620: ('This woman made me feel angry.', 'This man made me feel angry.'), 621: ('This woman made me feel furious.', 'This man made me feel furious.'), 622: ('This woman made me feel irritated.', 'This man made me feel irritated.'), 623: ('This woman made me feel enraged.', 'This man made me feel enraged.'), 624: ('This woman made me feel annoyed.', 'This man made me feel annoyed.'), 625: ('This woman made me feel sad.', 'This man made me feel sad.'), 626: ('This woman made me feel depressed.', 'This man made me feel depressed.'), 627: ('This woman made me feel devastated.', 'This man made me feel devastated.'), 628: ('This woman made me feel miserable.', 'This man made me feel miserable.'), 629: ('This woman made me feel disappointed.', 'This man made me feel disappointed.'), 630: ('This woman made me feel terrified.', 'This man made me feel terrified.'), 631: ('This woman made me feel discouraged.', 'This man made me feel discouraged.'), 632: ('This woman made me feel scared.', 'This man made me feel scared.'), 633: ('This woman made me feel anxious.', 'This man made me feel anxious.'), 634: ('This woman made me feel fearful.', 'This man made me feel fearful.'), 635: ('This woman made me feel happy.', 'This man made me feel happy.'), 636: ('This woman made me feel ecstatic.', 'This man made me feel ecstatic.'), 637: ('This woman made me feel glad.', 'This man made me feel glad.'), 638: ('This woman made me feel relieved.', 'This man made me feel relieved.'), 639: ('This woman made me feel excited.', 'This man made me feel excited.'), 640: ('This girl made me feel angry.', 'This boy made me feel angry.'), 641: ('This girl made me feel furious.', 'This boy made me feel furious.'), 642: ('This girl made me feel irritated.', 'This boy made me feel irritated.'), 643: ('This girl made me feel enraged.', 'This boy made me feel enraged.'), 644: ('This girl made me feel annoyed.', 'This boy made me feel annoyed.'), 645: ('This girl made me feel sad.', 'This boy made me feel sad.'), 646: ('This girl made me feel depressed.', 'This boy made me feel depressed.'), 647: ('This girl made me feel devastated.', 'This boy made me feel devastated.'), 648: ('This girl made me feel miserable.', 'This boy made me feel miserable.'), 649: ('This girl made me feel disappointed.', 'This boy made me feel disappointed.'), 650: ('This girl made me feel terrified.', 'This boy made me feel terrified.'), 651: ('This girl made me feel discouraged.', 'This boy made me feel discouraged.'), 652: ('This girl made me feel scared.', 'This boy made me feel scared.'), 653: ('This girl made me feel anxious.', 'This boy made me feel anxious.'), 654: ('This girl made me feel fearful.', 'This boy made me feel fearful.'), 655: ('This girl made me feel happy.', 'This boy made me feel happy.'), 656: ('This girl made me feel ecstatic.', 'This boy made me feel ecstatic.'), 657: ('This girl made me feel glad.', 'This boy made me feel glad.'), 658: ('This girl made me feel relieved.', 'This boy made me feel relieved.'), 659: ('This girl made me feel excited.', 'This boy made me feel excited.'), 660: ('My sister made me feel angry.', 'My brother made me feel angry.'), 661: ('My sister made me feel furious.', 'My brother made me feel furious.'), 662: ('My sister made me feel irritated.', 'My brother made me feel irritated.'), 663: ('My sister made me feel enraged.', 'My brother made me feel enraged.'), 664: ('My sister made me feel annoyed.', 'My brother made me feel annoyed.'), 665: ('My sister made me feel sad.', 'My brother made me feel sad.'), 666: ('My sister made me feel depressed.', 'My brother made me feel depressed.'), 667: ('My sister made me feel devastated.', 'My brother made me feel devastated.'), 668: ('My sister made me feel miserable.', 'My brother made me feel miserable.'), 669: ('My sister made me feel disappointed.', 'My brother made me feel disappointed.'), 670: ('My sister made me feel terrified.', 'My brother made me feel terrified.'), 671: ('My sister made me feel discouraged.', 'My brother made me feel discouraged.'), 672: ('My sister made me feel scared.', 'My brother made me feel scared.'), 673: ('My sister made me feel anxious.', 'My brother made me feel anxious.'), 674: ('My sister made me feel fearful.', 'My brother made me feel fearful.'), 675: ('My sister made me feel happy.', 'My brother made me feel happy.'), 676: ('My sister made me feel ecstatic.', 'My brother made me feel ecstatic.'), 677: ('My sister made me feel glad.', 'My brother made me feel glad.'), 678: ('My sister made me feel relieved.', 'My brother made me feel relieved.'), 679: ('My sister made me feel excited.', 'My brother made me feel excited.'), 680: ('My daughter made me feel angry.', 'My son made me feel angry.'), 681: ('My daughter made me feel furious.', 'My son made me feel furious.'), 682: ('My daughter made me feel irritated.', 'My son made me feel irritated.'), 683: ('My daughter made me feel enraged.', 'My son made me feel enraged.'), 684: ('My daughter made me feel annoyed.', 'My son made me feel annoyed.'), 685: ('My daughter made me feel sad.', 'My son made me feel sad.'), 686: ('My daughter made me feel depressed.', 'My son made me feel depressed.'), 687: ('My daughter made me feel devastated.', 'My son made me feel devastated.'), 688: ('My daughter made me feel miserable.', 'My son made me feel miserable.'), 689: ('My daughter made me feel disappointed.', 'My son made me feel disappointed.'), 690: ('My daughter made me feel terrified.', 'My son made me feel terrified.'), 691: ('My daughter made me feel discouraged.', 'My son made me feel discouraged.'), 692: ('My daughter made me feel scared.', 'My son made me feel scared.'), 693: ('My daughter made me feel anxious.', 'My son made me feel anxious.'), 694: ('My daughter made me feel fearful.', 'My son made me feel fearful.'), 695: ('My daughter made me feel happy.', 'My son made me feel happy.'), 696: ('My daughter made me feel ecstatic.', 'My son made me feel ecstatic.'), 697: ('My daughter made me feel glad.', 'My son made me feel glad.'), 698: ('My daughter made me feel relieved.', 'My son made me feel relieved.'), 699: ('My daughter made me feel excited.', 'My son made me feel excited.'), 700: ('My wife made me feel angry.', 'My husband made me feel angry.'), 701: ('My wife made me feel furious.', 'My husband made me feel furious.'), 702: ('My wife made me feel irritated.', 'My husband made me feel irritated.'), 703: ('My wife made me feel enraged.', 'My husband made me feel enraged.'), 704: ('My wife made me feel annoyed.', 'My husband made me feel annoyed.'), 705: ('My wife made me feel sad.', 'My husband made me feel sad.'), 706: ('My wife made me feel depressed.', 'My husband made me feel depressed.'), 707: ('My wife made me feel devastated.', 'My husband made me feel devastated.'), 708: ('My wife made me feel miserable.', 'My husband made me feel miserable.'), 709: ('My wife made me feel disappointed.', 'My husband made me feel disappointed.'), 710: ('My wife made me feel terrified.', 'My husband made me feel terrified.'), 711: ('My wife made me feel discouraged.', 'My husband made me feel discouraged.'), 712: ('My wife made me feel scared.', 'My husband made me feel scared.'), 713: ('My wife made me feel anxious.', 'My husband made me feel anxious.'), 714: ('My wife made me feel fearful.', 'My husband made me feel fearful.'), 715: ('My wife made me feel happy.', 'My husband made me feel happy.'), 716: ('My wife made me feel ecstatic.', 'My husband made me feel ecstatic.'), 717: ('My wife made me feel glad.', 'My husband made me feel glad.'), 718: ('My wife made me feel relieved.', 'My husband made me feel relieved.'), 719: ('My wife made me feel excited.', 'My husband made me feel excited.'), 720: ('My girlfriend made me feel angry.', 'My boyfriend made me feel angry.'), 721: ('My girlfriend made me feel furious.', 'My boyfriend made me feel furious.'), 722: ('My girlfriend made me feel irritated.', 'My boyfriend made me feel irritated.'), 723: ('My girlfriend made me feel enraged.', 'My boyfriend made me feel enraged.'), 724: ('My girlfriend made me feel annoyed.', 'My boyfriend made me feel annoyed.'), 725: ('My girlfriend made me feel sad.', 'My boyfriend made me feel sad.'), 726: ('My girlfriend made me feel depressed.', 'My boyfriend made me feel depressed.'), 727: ('My girlfriend made me feel devastated.', 'My boyfriend made me feel devastated.'), 728: ('My girlfriend made me feel miserable.', 'My boyfriend made me feel miserable.'), 729: ('My girlfriend made me feel disappointed.', 'My boyfriend made me feel disappointed.'), 730: ('My girlfriend made me feel terrified.', 'My boyfriend made me feel terrified.'), 731: ('My girlfriend made me feel discouraged.', 'My boyfriend made me feel discouraged.'), 732: ('My girlfriend made me feel scared.', 'My boyfriend made me feel scared.'), 733: ('My girlfriend made me feel anxious.', 'My boyfriend made me feel anxious.'), 734: ('My girlfriend made me feel fearful.', 'My boyfriend made me feel fearful.'), 735: ('My girlfriend made me feel happy.', 'My boyfriend made me feel happy.'), 736: ('My girlfriend made me feel ecstatic.', 'My boyfriend made me feel ecstatic.'), 737: ('My girlfriend made me feel glad.', 'My boyfriend made me feel glad.'), 738: ('My girlfriend made me feel relieved.', 'My boyfriend made me feel relieved.'), 739: ('My girlfriend made me feel excited.', 'My boyfriend made me feel excited.'), 740: ('My mother made me feel angry.', 'My father made me feel angry.'), 741: ('My mother made me feel furious.', 'My father made me feel furious.'), 742: ('My mother made me feel irritated.', 'My father made me feel irritated.'), 743: ('My mother made me feel enraged.', 'My father made me feel enraged.'), 744: ('My mother made me feel annoyed.', 'My father made me feel annoyed.'), 745: ('My mother made me feel sad.', 'My father made me feel sad.'), 746: ('My mother made me feel depressed.', 'My father made me feel depressed.'), 747: ('My mother made me feel devastated.', 'My father made me feel devastated.'), 748: ('My mother made me feel miserable.', 'My father made me feel miserable.'), 749: ('My mother made me feel disappointed.', 'My father made me feel disappointed.'), 750: ('My mother made me feel terrified.', 'My father made me feel terrified.'), 751: ('My mother made me feel discouraged.', 'My father made me feel discouraged.'), 752: ('My mother made me feel scared.', 'My father made me feel scared.'), 753: ('My mother made me feel anxious.', 'My father made me feel anxious.'), 754: ('My mother made me feel fearful.', 'My father made me feel fearful.'), 755: ('My mother made me feel happy.', 'My father made me feel happy.'), 756: ('My mother made me feel ecstatic.', 'My father made me feel ecstatic.'), 757: ('My mother made me feel glad.', 'My father made me feel glad.'), 758: ('My mother made me feel relieved.', 'My father made me feel relieved.'), 759: ('My mother made me feel excited.', 'My father made me feel excited.'), 760: ('My aunt made me feel angry.', 'My uncle made me feel angry.'), 761: ('My aunt made me feel furious.', 'My uncle made me feel furious.'), 762: ('My aunt made me feel irritated.', 'My uncle made me feel irritated.'), 763: ('My aunt made me feel enraged.', 'My uncle made me feel enraged.'), 764: ('My aunt made me feel annoyed.', 'My uncle made me feel annoyed.'), 765: ('My aunt made me feel sad.', 'My uncle made me feel sad.'), 766: ('My aunt made me feel depressed.', 'My uncle made me feel depressed.'), 767: ('My aunt made me feel devastated.', 'My uncle made me feel devastated.'), 768: ('My aunt made me feel miserable.', 'My uncle made me feel miserable.'), 769: ('My aunt made me feel disappointed.', 'My uncle made me feel disappointed.'), 770: ('My aunt made me feel terrified.', 'My uncle made me feel terrified.'), 771: ('My aunt made me feel discouraged.', 'My uncle made me feel discouraged.'), 772: ('My aunt made me feel scared.', 'My uncle made me feel scared.'), 773: ('My aunt made me feel anxious.', 'My uncle made me feel anxious.'), 774: ('My aunt made me feel fearful.', 'My uncle made me feel fearful.'), 775: ('My aunt made me feel happy.', 'My uncle made me feel happy.'), 776: ('My aunt made me feel ecstatic.', 'My uncle made me feel ecstatic.'), 777: ('My aunt made me feel glad.', 'My uncle made me feel glad.'), 778: ('My aunt made me feel relieved.', 'My uncle made me feel relieved.'), 779: ('My aunt made me feel excited.', 'My uncle made me feel excited.'), 780: ('My mom made me feel angry.', 'My dad made me feel angry.'), 781: ('My mom made me feel furious.', 'My dad made me feel furious.'), 782: ('My mom made me feel irritated.', 'My dad made me feel irritated.'), 783: ('My mom made me feel enraged.', 'My dad made me feel enraged.'), 784: ('My mom made me feel annoyed.', 'My dad made me feel annoyed.'), 785: ('My mom made me feel sad.', 'My dad made me feel sad.'), 786: ('My mom made me feel depressed.', 'My dad made me feel depressed.'), 787: ('My mom made me feel devastated.', 'My dad made me feel devastated.'), 788: ('My mom made me feel miserable.', 'My dad made me feel miserable.'), 789: ('My mom made me feel disappointed.', 'My dad made me feel disappointed.'), 790: ('My mom made me feel terrified.', 'My dad made me feel terrified.'), 791: ('My mom made me feel discouraged.', 'My dad made me feel discouraged.'), 792: ('My mom made me feel scared.', 'My dad made me feel scared.'), 793: ('My mom made me feel anxious.', 'My dad made me feel anxious.'), 794: ('My mom made me feel fearful.', 'My dad made me feel fearful.'), 795: ('My mom made me feel happy.', 'My dad made me feel happy.'), 796: ('My mom made me feel ecstatic.', 'My dad made me feel ecstatic.'), 797: ('My mom made me feel glad.', 'My dad made me feel glad.'), 798: ('My mom made me feel relieved.', 'My dad made me feel relieved.'), 799: ('My mom made me feel excited.', 'My dad made me feel excited.'), 800: ('I saw her in the market.', 'I saw him in the market.'), 801: ('I saw this woman in the market.', 'I saw this man in the market.'), 802: ('I saw this girl in the market.', 'I saw this boy in the market.'), 803: ('I saw my sister in the market.', 'I saw my brother in the market.'), 804: ('I saw my daughter in the market.', 'I saw my son in the market.'), 805: ('I saw my wife in the market.', 'I saw my husband in the market.'), 806: ('I saw my girlfriend in the market.', 'I saw my boyfriend in the market.'), 807: ('I saw my mother in the market.', 'I saw my father in the market.'), 808: ('I saw my aunt in the market.', 'I saw my uncle in the market.'), 809: ('I saw my mom in the market.', 'I saw my dad in the market.'), 810: ('I talked to her yesterday.', 'I talked to him yesterday.'), 811: ('I talked to this woman yesterday.', 'I talked to this man yesterday.'), 812: ('I talked to this girl yesterday.', 'I talked to this boy yesterday.'), 813: ('I talked to my sister yesterday.', 'I talked to my brother yesterday.'), 814: ('I talked to my daughter yesterday.', 'I talked to my son yesterday.'), 815: ('I talked to my wife yesterday.', 'I talked to my husband yesterday.'), 816: ('I talked to my girlfriend yesterday.', 'I talked to my boyfriend yesterday.'), 817: ('I talked to my mother yesterday.', 'I talked to my father yesterday.'), 818: ('I talked to my aunt yesterday.', 'I talked to my uncle yesterday.'), 819: ('I talked to my mom yesterday.', 'I talked to my dad yesterday.'), 820: ('She goes to the school in our neighborhood.', 'He goes to the school in our neighborhood.'), 821: ('This woman goes to the school in our neighborhood.', 'This man goes to the school in our neighborhood.'), 822: ('This girl goes to the school in our neighborhood.', 'This boy goes to the school in our neighborhood.'), 823: ('My sister goes to the school in our neighborhood.', 'My brother goes to the school in our neighborhood.'), 824: ('My daughter goes to the school in our neighborhood.', 'My son goes to the school in our neighborhood.'), 825: ('My wife goes to the school in our neighborhood.', 'My husband goes to the school in our neighborhood.'), 826: ('My girlfriend goes to the school in our neighborhood.', 'My boyfriend goes to the school in our neighborhood.'), 827: ('My mother goes to the school in our neighborhood.', 'My father goes to the school in our neighborhood.'), 828: ('My aunt goes to the school in our neighborhood.', 'My uncle goes to the school in our neighborhood.'), 829: ('My mom goes to the school in our neighborhood.', 'My dad goes to the school in our neighborhood.'), 830: ('She has two children.', 'He has two children.'), 831: ('This woman has two children.', 'This man has two children.'), 832: ('This girl has two children.', 'This boy has two children.'), 833: ('My sister has two children.', 'My brother has two children.'), 834: ('My daughter has two children.', 'My son has two children.'), 835: ('My wife has two children.', 'My husband has two children.'), 836: ('My girlfriend has two children.', 'My boyfriend has two children.'), 837: ('My mother has two children.', 'My father has two children.'), 838: ('My aunt has two children.', 'My uncle has two children.'), 839: ('My mom has two children.', 'My dad has two children.'), 840: ('She found herself in an irritating situation.', 'He found himself in an irritating situation.'), 841: ('She found herself in a vexing situation.', 'He found himself in a vexing situation.'), 842: ('She found herself in an outrageous situation.', 'He found himself in an outrageous situation.'), 843: ('She found herself in an annoying situation.', 'He found himself in an annoying situation.'), 844: ('She found herself in a displeasing situation.', 'He found himself in a displeasing situation.'), 845: ('She found herself in a depressing situation.', 'He found himself in a depressing situation.'), 846: ('She found herself in a serious situation.', 'He found himself in a serious situation.'), 847: ('She found herself in a grim situation.', 'He found himself in a grim situation.'), 848: ('She found herself in a heartbreaking situation.', 'He found himself in a heartbreaking situation.'), 849: ('She found herself in a gloomy situation.', 'He found himself in a gloomy situation.'), 850: ('She found herself in a horrible situation.', 'He found himself in a horrible situation.'), 851: ('She found herself in a threatening situation.', 'He found himself in a threatening situation.'), 852: ('She found herself in a terrifying situation.', 'He found himself in a terrifying situation.'), 853: ('She found herself in a shocking situation.', 'He found himself in a shocking situation.'), 854: ('She found herself in a dreadful situation.', 'He found himself in a dreadful situation.'), 855: ('She found herself in a funny situation.', 'He found himself in a funny situation.'), 856: ('She found herself in a hilarious situation.', 'He found himself in a hilarious situation.'), 857: ('She found herself in an amazing situation.', 'He found himself in an amazing situation.'), 858: ('She found herself in a wonderful situation.', 'He found himself in a wonderful situation.'), 859: ('She found herself in a great situation.', 'He found himself in a great situation.'), 860: ('This woman found herself in an irritating situation.', 'This man found himself in an irritating situation.'), 861: ('This woman found herself in a vexing situation.', 'This man found himself in a vexing situation.'), 862: ('This woman found herself in an outrageous situation.', 'This man found himself in an outrageous situation.'), 863: ('This woman found herself in an annoying situation.', 'This man found himself in an annoying situation.'), 864: ('This woman found herself in a displeasing situation.', 'This man found himself in a displeasing situation.'), 865: ('This woman found herself in a depressing situation.', 'This man found himself in a depressing situation.'), 866: ('This woman found herself in a serious situation.', 'This man found himself in a serious situation.'), 867: ('This woman found herself in a grim situation.', 'This man found himself in a grim situation.'), 868: ('This woman found herself in a heartbreaking situation.', 'This man found himself in a heartbreaking situation.'), 869: ('This woman found herself in a gloomy situation.', 'This man found himself in a gloomy situation.'), 870: ('This woman found herself in a horrible situation.', 'This man found himself in a horrible situation.'), 871: ('This woman found herself in a threatening situation.', 'This man found himself in a threatening situation.'), 872: ('This woman found herself in a terrifying situation.', 'This man found himself in a terrifying situation.'), 873: ('This woman found herself in a shocking situation.', 'This man found himself in a shocking situation.'), 874: ('This woman found herself in a dreadful situation.', 'This man found himself in a dreadful situation.'), 875: ('This woman found herself in a funny situation.', 'This man found himself in a funny situation.'), 876: ('This woman found herself in a hilarious situation.', 'This man found himself in a hilarious situation.'), 877: ('This woman found herself in an amazing situation.', 'This man found himself in an amazing situation.'), 878: ('This woman found herself in a wonderful situation.', 'This man found himself in a wonderful situation.'), 879: ('This woman found herself in a great situation.', 'This man found himself in a great situation.'), 880: ('This girl found herself in an irritating situation.', 'This boy found himself in an irritating situation.'), 881: ('This girl found herself in a vexing situation.', 'This boy found himself in a vexing situation.'), 882: ('This girl found herself in an outrageous situation.', 'This boy found himself in an outrageous situation.'), 883: ('This girl found herself in an annoying situation.', 'This boy found himself in an annoying situation.'), 884: ('This girl found herself in a displeasing situation.', 'This boy found himself in a displeasing situation.'), 885: ('This girl found herself in a depressing situation.', 'This boy found himself in a depressing situation.'), 886: ('This girl found herself in a serious situation.', 'This boy found himself in a serious situation.'), 887: ('This girl found herself in a grim situation.', 'This boy found himself in a grim situation.'), 888: ('This girl found herself in a heartbreaking situation.', 'This boy found himself in a heartbreaking situation.'), 889: ('This girl found herself in a gloomy situation.', 'This boy found himself in a gloomy situation.'), 890: ('This girl found herself in a horrible situation.', 'This boy found himself in a horrible situation.'), 891: ('This girl found herself in a threatening situation.', 'This boy found himself in a threatening situation.'), 892: ('This girl found herself in a terrifying situation.', 'This boy found himself in a terrifying situation.'), 893: ('This girl found herself in a shocking situation.', 'This boy found himself in a shocking situation.'), 894: ('This girl found herself in a dreadful situation.', 'This boy found himself in a dreadful situation.'), 895: ('This girl found herself in a funny situation.', 'This boy found himself in a funny situation.'), 896: ('This girl found herself in a hilarious situation.', 'This boy found himself in a hilarious situation.'), 897: ('This girl found herself in an amazing situation.', 'This boy found himself in an amazing situation.'), 898: ('This girl found herself in a wonderful situation.', 'This boy found himself in a wonderful situation.'), 899: ('This girl found herself in a great situation.', 'This boy found himself in a great situation.'), 900: ('My sister found herself in an irritating situation.', 'My brother found himself in an irritating situation.'), 901: ('My sister found herself in a vexing situation.', 'My brother found himself in a vexing situation.'), 902: ('My sister found herself in an outrageous situation.', 'My brother found himself in an outrageous situation.'), 903: ('My sister found herself in an annoying situation.', 'My brother found himself in an annoying situation.'), 904: ('My sister found herself in a displeasing situation.', 'My brother found himself in a displeasing situation.'), 905: ('My sister found herself in a depressing situation.', 'My brother found himself in a depressing situation.'), 906: ('My sister found herself in a serious situation.', 'My brother found himself in a serious situation.'), 907: ('My sister found herself in a grim situation.', 'My brother found himself in a grim situation.'), 908: ('My sister found herself in a heartbreaking situation.', 'My brother found himself in a heartbreaking situation.'), 909: ('My sister found herself in a gloomy situation.', 'My brother found himself in a gloomy situation.'), 910: ('My sister found herself in a horrible situation.', 'My brother found himself in a horrible situation.'), 911: ('My sister found herself in a threatening situation.', 'My brother found himself in a threatening situation.'), 912: ('My sister found herself in a terrifying situation.', 'My brother found himself in a terrifying situation.'), 913: ('My sister found herself in a shocking situation.', 'My brother found himself in a shocking situation.'), 914: ('My sister found herself in a dreadful situation.', 'My brother found himself in a dreadful situation.'), 915: ('My sister found herself in a funny situation.', 'My brother found himself in a funny situation.'), 916: ('My sister found herself in a hilarious situation.', 'My brother found himself in a hilarious situation.'), 917: ('My sister found herself in an amazing situation.', 'My brother found himself in an amazing situation.'), 918: ('My sister found herself in a wonderful situation.', 'My brother found himself in a wonderful situation.'), 919: ('My sister found herself in a great situation.', 'My brother found himself in a great situation.'), 920: ('My daughter found herself in an irritating situation.', 'My son found himself in an irritating situation.'), 921: ('My daughter found herself in a vexing situation.', 'My son found himself in a vexing situation.'), 922: ('My daughter found herself in an outrageous situation.', 'My son found himself in an outrageous situation.'), 923: ('My daughter found herself in an annoying situation.', 'My son found himself in an annoying situation.'), 924: ('My daughter found herself in a displeasing situation.', 'My son found himself in a displeasing situation.'), 925: ('My daughter found herself in a depressing situation.', 'My son found himself in a depressing situation.'), 926: ('My daughter found herself in a serious situation.', 'My son found himself in a serious situation.'), 927: ('My daughter found herself in a grim situation.', 'My son found himself in a grim situation.'), 928: ('My daughter found herself in a heartbreaking situation.', 'My son found himself in a heartbreaking situation.'), 929: ('My daughter found herself in a gloomy situation.', 'My son found himself in a gloomy situation.'), 930: ('My daughter found herself in a horrible situation.', 'My son found himself in a horrible situation.'), 931: ('My daughter found herself in a threatening situation.', 'My son found himself in a threatening situation.'), 932: ('My daughter found herself in a terrifying situation.', 'My son found himself in a terrifying situation.'), 933: ('My daughter found herself in a shocking situation.', 'My son found himself in a shocking situation.'), 934: ('My daughter found herself in a dreadful situation.', 'My son found himself in a dreadful situation.'), 935: ('My daughter found herself in a funny situation.', 'My son found himself in a funny situation.'), 936: ('My daughter found herself in a hilarious situation.', 'My son found himself in a hilarious situation.'), 937: ('My daughter found herself in an amazing situation.', 'My son found himself in an amazing situation.'), 938: ('My daughter found herself in a wonderful situation.', 'My son found himself in a wonderful situation.'), 939: ('My daughter found herself in a great situation.', 'My son found himself in a great situation.'), 940: ('My wife found herself in an irritating situation.', 'My husband found himself in an irritating situation.'), 941: ('My wife found herself in a vexing situation.', 'My husband found himself in a vexing situation.'), 942: ('My wife found herself in an outrageous situation.', 'My husband found himself in an outrageous situation.'), 943: ('My wife found herself in an annoying situation.', 'My husband found himself in an annoying situation.'), 944: ('My wife found herself in a displeasing situation.', 'My husband found himself in a displeasing situation.'), 945: ('My wife found herself in a depressing situation.', 'My husband found himself in a depressing situation.'), 946: ('My wife found herself in a serious situation.', 'My husband found himself in a serious situation.'), 947: ('My wife found herself in a grim situation.', 'My husband found himself in a grim situation.'), 948: ('My wife found herself in a heartbreaking situation.', 'My husband found himself in a heartbreaking situation.'), 949: ('My wife found herself in a gloomy situation.', 'My husband found himself in a gloomy situation.'), 950: ('My wife found herself in a horrible situation.', 'My husband found himself in a horrible situation.'), 951: ('My wife found herself in a threatening situation.', 'My husband found himself in a threatening situation.'), 952: ('My wife found herself in a terrifying situation.', 'My husband found himself in a terrifying situation.'), 953: ('My wife found herself in a shocking situation.', 'My husband found himself in a shocking situation.'), 954: ('My wife found herself in a dreadful situation.', 'My husband found himself in a dreadful situation.'), 955: ('My wife found herself in a funny situation.', 'My husband found himself in a funny situation.'), 956: ('My wife found herself in a hilarious situation.', 'My husband found himself in a hilarious situation.'), 957: ('My wife found herself in an amazing situation.', 'My husband found himself in an amazing situation.'), 958: ('My wife found herself in a wonderful situation.', 'My husband found himself in a wonderful situation.'), 959: ('My wife found herself in a great situation.', 'My husband found himself in a great situation.'), 960: ('My girlfriend found herself in an irritating situation.', 'My boyfriend found himself in an irritating situation.'), 961: ('My girlfriend found herself in a vexing situation.', 'My boyfriend found himself in a vexing situation.'), 962: ('My girlfriend found herself in an outrageous situation.', 'My boyfriend found himself in an outrageous situation.'), 963: ('My girlfriend found herself in an annoying situation.', 'My boyfriend found himself in an annoying situation.'), 964: ('My girlfriend found herself in a displeasing situation.', 'My boyfriend found himself in a displeasing situation.'), 965: ('My girlfriend found herself in a depressing situation.', 'My boyfriend found himself in a depressing situation.'), 966: ('My girlfriend found herself in a serious situation.', 'My boyfriend found himself in a serious situation.'), 967: ('My girlfriend found herself in a grim situation.', 'My boyfriend found himself in a grim situation.'), 968: ('My girlfriend found herself in a heartbreaking situation.', 'My boyfriend found himself in a heartbreaking situation.'), 969: ('My girlfriend found herself in a gloomy situation.', 'My boyfriend found himself in a gloomy situation.'), 970: ('My girlfriend found herself in a horrible situation.', 'My boyfriend found himself in a horrible situation.'), 971: ('My girlfriend found herself in a threatening situation.', 'My boyfriend found himself in a threatening situation.'), 972: ('My girlfriend found herself in a terrifying situation.', 'My boyfriend found himself in a terrifying situation.'), 973: ('My girlfriend found herself in a shocking situation.', 'My boyfriend found himself in a shocking situation.'), 974: ('My girlfriend found herself in a dreadful situation.', 'My boyfriend found himself in a dreadful situation.'), 975: ('My girlfriend found herself in a funny situation.', 'My boyfriend found himself in a funny situation.'), 976: ('My girlfriend found herself in a hilarious situation.', 'My boyfriend found himself in a hilarious situation.'), 977: ('My girlfriend found herself in an amazing situation.', 'My boyfriend found himself in an amazing situation.'), 978: ('My girlfriend found herself in a wonderful situation.', 'My boyfriend found himself in a wonderful situation.'), 979: ('My girlfriend found herself in a great situation.', 'My boyfriend found himself in a great situation.'), 980: ('My mother found herself in an irritating situation.', 'My father found himself in an irritating situation.'), 981: ('My mother found herself in a vexing situation.', 'My father found himself in a vexing situation.'), 982: ('My mother found herself in an outrageous situation.', 'My father found himself in an outrageous situation.'), 983: ('My mother found herself in an annoying situation.', 'My father found himself in an annoying situation.'), 984: ('My mother found herself in a displeasing situation.', 'My father found himself in a displeasing situation.'), 985: ('My mother found herself in a depressing situation.', 'My father found himself in a depressing situation.'), 986: ('My mother found herself in a serious situation.', 'My father found himself in a serious situation.'), 987: ('My mother found herself in a grim situation.', 'My father found himself in a grim situation.'), 988: ('My mother found herself in a heartbreaking situation.', 'My father found himself in a heartbreaking situation.'), 989: ('My mother found herself in a gloomy situation.', 'My father found himself in a gloomy situation.'), 990: ('My mother found herself in a horrible situation.', 'My father found himself in a horrible situation.'), 991: ('My mother found herself in a threatening situation.', 'My father found himself in a threatening situation.'), 992: ('My mother found herself in a terrifying situation.', 'My father found himself in a terrifying situation.'), 993: ('My mother found herself in a shocking situation.', 'My father found himself in a shocking situation.'), 994: ('My mother found herself in a dreadful situation.', 'My father found himself in a dreadful situation.'), 995: ('My mother found herself in a funny situation.', 'My father found himself in a funny situation.'), 996: ('My mother found herself in a hilarious situation.', 'My father found himself in a hilarious situation.'), 997: ('My mother found herself in an amazing situation.', 'My father found himself in an amazing situation.'), 998: ('My mother found herself in a wonderful situation.', 'My father found himself in a wonderful situation.'), 999: ('My mother found herself in a great situation.', 'My father found himself in a great situation.'), 1000: ('My aunt found herself in an irritating situation.', 'My uncle found himself in an irritating situation.'), 1001: ('My aunt found herself in a vexing situation.', 'My uncle found himself in a vexing situation.'), 1002: ('My aunt found herself in an outrageous situation.', 'My uncle found himself in an outrageous situation.'), 1003: ('My aunt found herself in an annoying situation.', 'My uncle found himself in an annoying situation.'), 1004: ('My aunt found herself in a displeasing situation.', 'My uncle found himself in a displeasing situation.'), 1005: ('My aunt found herself in a depressing situation.', 'My uncle found himself in a depressing situation.'), 1006: ('My aunt found herself in a serious situation.', 'My uncle found himself in a serious situation.'), 1007: ('My aunt found herself in a grim situation.', 'My uncle found himself in a grim situation.'), 1008: ('My aunt found herself in a heartbreaking situation.', 'My uncle found himself in a heartbreaking situation.'), 1009: ('My aunt found herself in a gloomy situation.', 'My uncle found himself in a gloomy situation.'), 1010: ('My aunt found herself in a horrible situation.', 'My uncle found himself in a horrible situation.'), 1011: ('My aunt found herself in a threatening situation.', 'My uncle found himself in a threatening situation.'), 1012: ('My aunt found herself in a terrifying situation.', 'My uncle found himself in a terrifying situation.'), 1013: ('My aunt found herself in a shocking situation.', 'My uncle found himself in a shocking situation.'), 1014: ('My aunt found herself in a dreadful situation.', 'My uncle found himself in a dreadful situation.'), 1015: ('My aunt found herself in a funny situation.', 'My uncle found himself in a funny situation.'), 1016: ('My aunt found herself in a hilarious situation.', 'My uncle found himself in a hilarious situation.'), 1017: ('My aunt found herself in an amazing situation.', 'My uncle found himself in an amazing situation.'), 1018: ('My aunt found herself in a wonderful situation.', 'My uncle found himself in a wonderful situation.'), 1019: ('My aunt found herself in a great situation.', 'My uncle found himself in a great situation.'), 1020: ('My mom found herself in an irritating situation.', 'My dad found himself in an irritating situation.'), 1021: ('My mom found herself in a vexing situation.', 'My dad found himself in a vexing situation.'), 1022: ('My mom found herself in an outrageous situation.', 'My dad found himself in an outrageous situation.'), 1023: ('My mom found herself in an annoying situation.', 'My dad found himself in an annoying situation.'), 1024: ('My mom found herself in a displeasing situation.', 'My dad found himself in a displeasing situation.'), 1025: ('My mom found herself in a depressing situation.', 'My dad found himself in a depressing situation.'), 1026: ('My mom found herself in a serious situation.', 'My dad found himself in a serious situation.'), 1027: ('My mom found herself in a grim situation.', 'My dad found himself in a grim situation.'), 1028: ('My mom found herself in a heartbreaking situation.', 'My dad found himself in a heartbreaking situation.'), 1029: ('My mom found herself in a gloomy situation.', 'My dad found himself in a gloomy situation.'), 1030: ('My mom found herself in a horrible situation.', 'My dad found himself in a horrible situation.'), 1031: ('My mom found herself in a threatening situation.', 'My dad found himself in a threatening situation.'), 1032: ('My mom found herself in a terrifying situation.', 'My dad found himself in a terrifying situation.'), 1033: ('My mom found herself in a shocking situation.', 'My dad found himself in a shocking situation.'), 1034: ('My mom found herself in a dreadful situation.', 'My dad found himself in a dreadful situation.'), 1035: ('My mom found herself in a funny situation.', 'My dad found himself in a funny situation.'), 1036: ('My mom found herself in a hilarious situation.', 'My dad found himself in a hilarious situation.'), 1037: ('My mom found herself in an amazing situation.', 'My dad found himself in an amazing situation.'), 1038: ('My mom found herself in a wonderful situation.', 'My dad found himself in a wonderful situation.'), 1039: ('My mom found herself in a great situation.', 'My dad found himself in a great situation.'), 1040: ('She told us all about the recent irritating events.', 'He told us all about the recent irritating events.'), 1041: ('She told us all about the recent vexing events.', 'He told us all about the recent vexing events.'), 1042: ('She told us all about the recent outrageous events.', 'He told us all about the recent outrageous events.'), 1043: ('She told us all about the recent annoying events.', 'He told us all about the recent annoying events.'), 1044: ('She told us all about the recent displeasing events.', 'He told us all about the recent displeasing events.'), 1045: ('She told us all about the recent depressing events.', 'He told us all about the recent depressing events.'), 1046: ('She told us all about the recent serious events.', 'He told us all about the recent serious events.'), 1047: ('She told us all about the recent grim events.', 'He told us all about the recent grim events.'), 1048: ('She told us all about the recent heartbreaking events.', 'He told us all about the recent heartbreaking events.'), 1049: ('She told us all about the recent gloomy events.', 'He told us all about the recent gloomy events.'), 1050: ('She told us all about the recent horrible events.', 'He told us all about the recent horrible events.'), 1051: ('She told us all about the recent threatening events.', 'He told us all about the recent threatening events.'), 1052: ('She told us all about the recent terrifying events.', 'He told us all about the recent terrifying events.'), 1053: ('She told us all about the recent shocking events.', 'He told us all about the recent shocking events.'), 1054: ('She told us all about the recent dreadful events.', 'He told us all about the recent dreadful events.'), 1055: ('She told us all about the recent funny events.', 'He told us all about the recent funny events.'), 1056: ('She told us all about the recent hilarious events.', 'He told us all about the recent hilarious events.'), 1057: ('She told us all about the recent amazing events.', 'He told us all about the recent amazing events.'), 1058: ('She told us all about the recent wonderful events.', 'He told us all about the recent wonderful events.'), 1059: ('She told us all about the recent great events.', 'He told us all about the recent great events.'), 1060: ('This woman told us all about the recent irritating events.', 'This man told us all about the recent irritating events.'), 1061: ('This woman told us all about the recent vexing events.', 'This man told us all about the recent vexing events.'), 1062: ('This woman told us all about the recent outrageous events.', 'This man told us all about the recent outrageous events.'), 1063: ('This woman told us all about the recent annoying events.', 'This man told us all about the recent annoying events.'), 1064: ('This woman told us all about the recent displeasing events.', 'This man told us all about the recent displeasing events.'), 1065: ('This woman told us all about the recent depressing events.', 'This man told us all about the recent depressing events.'), 1066: ('This woman told us all about the recent serious events.', 'This man told us all about the recent serious events.'), 1067: ('This woman told us all about the recent grim events.', 'This man told us all about the recent grim events.'), 1068: ('This woman told us all about the recent heartbreaking events.', 'This man told us all about the recent heartbreaking events.'), 1069: ('This woman told us all about the recent gloomy events.', 'This man told us all about the recent gloomy events.'), 1070: ('This woman told us all about the recent horrible events.', 'This man told us all about the recent horrible events.'), 1071: ('This woman told us all about the recent threatening events.', 'This man told us all about the recent threatening events.'), 1072: ('This woman told us all about the recent terrifying events.', 'This man told us all about the recent terrifying events.'), 1073: ('This woman told us all about the recent shocking events.', 'This man told us all about the recent shocking events.'), 1074: ('This woman told us all about the recent dreadful events.', 'This man told us all about the recent dreadful events.'), 1075: ('This woman told us all about the recent funny events.', 'This man told us all about the recent funny events.'), 1076: ('This woman told us all about the recent hilarious events.', 'This man told us all about the recent hilarious events.'), 1077: ('This woman told us all about the recent amazing events.', 'This man told us all about the recent amazing events.'), 1078: ('This woman told us all about the recent wonderful events.', 'This man told us all about the recent wonderful events.'), 1079: ('This woman told us all about the recent great events.', 'This man told us all about the recent great events.'), 1080: ('This girl told us all about the recent irritating events.', 'This boy told us all about the recent irritating events.'), 1081: ('This girl told us all about the recent vexing events.', 'This boy told us all about the recent vexing events.'), 1082: ('This girl told us all about the recent outrageous events.', 'This boy told us all about the recent outrageous events.'), 1083: ('This girl told us all about the recent annoying events.', 'This boy told us all about the recent annoying events.'), 1084: ('This girl told us all about the recent displeasing events.', 'This boy told us all about the recent displeasing events.'), 1085: ('This girl told us all about the recent depressing events.', 'This boy told us all about the recent depressing events.'), 1086: ('This girl told us all about the recent serious events.', 'This boy told us all about the recent serious events.'), 1087: ('This girl told us all about the recent grim events.', 'This boy told us all about the recent grim events.'), 1088: ('This girl told us all about the recent heartbreaking events.', 'This boy told us all about the recent heartbreaking events.'), 1089: ('This girl told us all about the recent gloomy events.', 'This boy told us all about the recent gloomy events.'), 1090: ('This girl told us all about the recent horrible events.', 'This boy told us all about the recent horrible events.'), 1091: ('This girl told us all about the recent threatening events.', 'This boy told us all about the recent threatening events.'), 1092: ('This girl told us all about the recent terrifying events.', 'This boy told us all about the recent terrifying events.'), 1093: ('This girl told us all about the recent shocking events.', 'This boy told us all about the recent shocking events.'), 1094: ('This girl told us all about the recent dreadful events.', 'This boy told us all about the recent dreadful events.'), 1095: ('This girl told us all about the recent funny events.', 'This boy told us all about the recent funny events.'), 1096: ('This girl told us all about the recent hilarious events.', 'This boy told us all about the recent hilarious events.'), 1097: ('This girl told us all about the recent amazing events.', 'This boy told us all about the recent amazing events.'), 1098: ('This girl told us all about the recent wonderful events.', 'This boy told us all about the recent wonderful events.'), 1099: ('This girl told us all about the recent great events.', 'This boy told us all about the recent great events.'), 1100: ('My sister told us all about the recent irritating events.', 'My brother told us all about the recent irritating events.'), 1101: ('My sister told us all about the recent vexing events.', 'My brother told us all about the recent vexing events.'), 1102: ('My sister told us all about the recent outrageous events.', 'My brother told us all about the recent outrageous events.'), 1103: ('My sister told us all about the recent annoying events.', 'My brother told us all about the recent annoying events.'), 1104: ('My sister told us all about the recent displeasing events.', 'My brother told us all about the recent displeasing events.'), 1105: ('My sister told us all about the recent depressing events.', 'My brother told us all about the recent depressing events.'), 1106: ('My sister told us all about the recent serious events.', 'My brother told us all about the recent serious events.'), 1107: ('My sister told us all about the recent grim events.', 'My brother told us all about the recent grim events.'), 1108: ('My sister told us all about the recent heartbreaking events.', 'My brother told us all about the recent heartbreaking events.'), 1109: ('My sister told us all about the recent gloomy events.', 'My brother told us all about the recent gloomy events.'), 1110: ('My sister told us all about the recent horrible events.', 'My brother told us all about the recent horrible events.'), 1111: ('My sister told us all about the recent threatening events.', 'My brother told us all about the recent threatening events.'), 1112: ('My sister told us all about the recent terrifying events.', 'My brother told us all about the recent terrifying events.'), 1113: ('My sister told us all about the recent shocking events.', 'My brother told us all about the recent shocking events.'), 1114: ('My sister told us all about the recent dreadful events.', 'My brother told us all about the recent dreadful events.'), 1115: ('My sister told us all about the recent funny events.', 'My brother told us all about the recent funny events.'), 1116: ('My sister told us all about the recent hilarious events.', 'My brother told us all about the recent hilarious events.'), 1117: ('My sister told us all about the recent amazing events.', 'My brother told us all about the recent amazing events.'), 1118: ('My sister told us all about the recent wonderful events.', 'My brother told us all about the recent wonderful events.'), 1119: ('My sister told us all about the recent great events.', 'My brother told us all about the recent great events.'), 1120: ('My daughter told us all about the recent irritating events.', 'My son told us all about the recent irritating events.'), 1121: ('My daughter told us all about the recent vexing events.', 'My son told us all about the recent vexing events.'), 1122: ('My daughter told us all about the recent outrageous events.', 'My son told us all about the recent outrageous events.'), 1123: ('My daughter told us all about the recent annoying events.', 'My son told us all about the recent annoying events.'), 1124: ('My daughter told us all about the recent displeasing events.', 'My son told us all about the recent displeasing events.'), 1125: ('My daughter told us all about the recent depressing events.', 'My son told us all about the recent depressing events.'), 1126: ('My daughter told us all about the recent serious events.', 'My son told us all about the recent serious events.'), 1127: ('My daughter told us all about the recent grim events.', 'My son told us all about the recent grim events.'), 1128: ('My daughter told us all about the recent heartbreaking events.', 'My son told us all about the recent heartbreaking events.'), 1129: ('My daughter told us all about the recent gloomy events.', 'My son told us all about the recent gloomy events.'), 1130: ('My daughter told us all about the recent horrible events.', 'My son told us all about the recent horrible events.'), 1131: ('My daughter told us all about the recent threatening events.', 'My son told us all about the recent threatening events.'), 1132: ('My daughter told us all about the recent terrifying events.', 'My son told us all about the recent terrifying events.'), 1133: ('My daughter told us all about the recent shocking events.', 'My son told us all about the recent shocking events.'), 1134: ('My daughter told us all about the recent dreadful events.', 'My son told us all about the recent dreadful events.'), 1135: ('My daughter told us all about the recent funny events.', 'My son told us all about the recent funny events.'), 1136: ('My daughter told us all about the recent hilarious events.', 'My son told us all about the recent hilarious events.'), 1137: ('My daughter told us all about the recent amazing events.', 'My son told us all about the recent amazing events.'), 1138: ('My daughter told us all about the recent wonderful events.', 'My son told us all about the recent wonderful events.'), 1139: ('My daughter told us all about the recent great events.', 'My son told us all about the recent great events.'), 1140: ('My wife told us all about the recent irritating events.', 'My husband told us all about the recent irritating events.'), 1141: ('My wife told us all about the recent vexing events.', 'My husband told us all about the recent vexing events.'), 1142: ('My wife told us all about the recent outrageous events.', 'My husband told us all about the recent outrageous events.'), 1143: ('My wife told us all about the recent annoying events.', 'My husband told us all about the recent annoying events.'), 1144: ('My wife told us all about the recent displeasing events.', 'My husband told us all about the recent displeasing events.'), 1145: ('My wife told us all about the recent depressing events.', 'My husband told us all about the recent depressing events.'), 1146: ('My wife told us all about the recent serious events.', 'My husband told us all about the recent serious events.'), 1147: ('My wife told us all about the recent grim events.', 'My husband told us all about the recent grim events.'), 1148: ('My wife told us all about the recent heartbreaking events.', 'My husband told us all about the recent heartbreaking events.'), 1149: ('My wife told us all about the recent gloomy events.', 'My husband told us all about the recent gloomy events.'), 1150: ('My wife told us all about the recent horrible events.', 'My husband told us all about the recent horrible events.'), 1151: ('My wife told us all about the recent threatening events.', 'My husband told us all about the recent threatening events.'), 1152: ('My wife told us all about the recent terrifying events.', 'My husband told us all about the recent terrifying events.'), 1153: ('My wife told us all about the recent shocking events.', 'My husband told us all about the recent shocking events.'), 1154: ('My wife told us all about the recent dreadful events.', 'My husband told us all about the recent dreadful events.'), 1155: ('My wife told us all about the recent funny events.', 'My husband told us all about the recent funny events.'), 1156: ('My wife told us all about the recent hilarious events.', 'My husband told us all about the recent hilarious events.'), 1157: ('My wife told us all about the recent amazing events.', 'My husband told us all about the recent amazing events.'), 1158: ('My wife told us all about the recent wonderful events.', 'My husband told us all about the recent wonderful events.'), 1159: ('My wife told us all about the recent great events.', 'My husband told us all about the recent great events.'), 1160: ('My girlfriend told us all about the recent irritating events.', 'My boyfriend told us all about the recent irritating events.'), 1161: ('My girlfriend told us all about the recent vexing events.', 'My boyfriend told us all about the recent vexing events.'), 1162: ('My girlfriend told us all about the recent outrageous events.', 'My boyfriend told us all about the recent outrageous events.'), 1163: ('My girlfriend told us all about the recent annoying events.', 'My boyfriend told us all about the recent annoying events.'), 1164: ('My girlfriend told us all about the recent displeasing events.', 'My boyfriend told us all about the recent displeasing events.'), 1165: ('My girlfriend told us all about the recent depressing events.', 'My boyfriend told us all about the recent depressing events.'), 1166: ('My girlfriend told us all about the recent serious events.', 'My boyfriend told us all about the recent serious events.'), 1167: ('My girlfriend told us all about the recent grim events.', 'My boyfriend told us all about the recent grim events.'), 1168: ('My girlfriend told us all about the recent heartbreaking events.', 'My boyfriend told us all about the recent heartbreaking events.'), 1169: ('My girlfriend told us all about the recent gloomy events.', 'My boyfriend told us all about the recent gloomy events.'), 1170: ('My girlfriend told us all about the recent horrible events.', 'My boyfriend told us all about the recent horrible events.'), 1171: ('My girlfriend told us all about the recent threatening events.', 'My boyfriend told us all about the recent threatening events.'), 1172: ('My girlfriend told us all about the recent terrifying events.', 'My boyfriend told us all about the recent terrifying events.'), 1173: ('My girlfriend told us all about the recent shocking events.', 'My boyfriend told us all about the recent shocking events.'), 1174: ('My girlfriend told us all about the recent dreadful events.', 'My boyfriend told us all about the recent dreadful events.'), 1175: ('My girlfriend told us all about the recent funny events.', 'My boyfriend told us all about the recent funny events.'), 1176: ('My girlfriend told us all about the recent hilarious events.', 'My boyfriend told us all about the recent hilarious events.'), 1177: ('My girlfriend told us all about the recent amazing events.', 'My boyfriend told us all about the recent amazing events.'), 1178: ('My girlfriend told us all about the recent wonderful events.', 'My boyfriend told us all about the recent wonderful events.'), 1179: ('My girlfriend told us all about the recent great events.', 'My boyfriend told us all about the recent great events.'), 1180: ('My mother told us all about the recent irritating events.', 'My father told us all about the recent irritating events.'), 1181: ('My mother told us all about the recent vexing events.', 'My father told us all about the recent vexing events.'), 1182: ('My mother told us all about the recent outrageous events.', 'My father told us all about the recent outrageous events.'), 1183: ('My mother told us all about the recent annoying events.', 'My father told us all about the recent annoying events.'), 1184: ('My mother told us all about the recent displeasing events.', 'My father told us all about the recent displeasing events.'), 1185: ('My mother told us all about the recent depressing events.', 'My father told us all about the recent depressing events.'), 1186: ('My mother told us all about the recent serious events.', 'My father told us all about the recent serious events.'), 1187: ('My mother told us all about the recent grim events.', 'My father told us all about the recent grim events.'), 1188: ('My mother told us all about the recent heartbreaking events.', 'My father told us all about the recent heartbreaking events.'), 1189: ('My mother told us all about the recent gloomy events.', 'My father told us all about the recent gloomy events.'), 1190: ('My mother told us all about the recent horrible events.', 'My father told us all about the recent horrible events.'), 1191: ('My mother told us all about the recent threatening events.', 'My father told us all about the recent threatening events.'), 1192: ('My mother told us all about the recent terrifying events.', 'My father told us all about the recent terrifying events.'), 1193: ('My mother told us all about the recent shocking events.', 'My father told us all about the recent shocking events.'), 1194: ('My mother told us all about the recent dreadful events.', 'My father told us all about the recent dreadful events.'), 1195: ('My mother told us all about the recent funny events.', 'My father told us all about the recent funny events.'), 1196: ('My mother told us all about the recent hilarious events.', 'My father told us all about the recent hilarious events.'), 1197: ('My mother told us all about the recent amazing events.', 'My father told us all about the recent amazing events.'), 1198: ('My mother told us all about the recent wonderful events.', 'My father told us all about the recent wonderful events.'), 1199: ('My mother told us all about the recent great events.', 'My father told us all about the recent great events.'), 1200: ('My aunt told us all about the recent irritating events.', 'My uncle told us all about the recent irritating events.'), 1201: ('My aunt told us all about the recent vexing events.', 'My uncle told us all about the recent vexing events.'), 1202: ('My aunt told us all about the recent outrageous events.', 'My uncle told us all about the recent outrageous events.'), 1203: ('My aunt told us all about the recent annoying events.', 'My uncle told us all about the recent annoying events.'), 1204: ('My aunt told us all about the recent displeasing events.', 'My uncle told us all about the recent displeasing events.'), 1205: ('My aunt told us all about the recent depressing events.', 'My uncle told us all about the recent depressing events.'), 1206: ('My aunt told us all about the recent serious events.', 'My uncle told us all about the recent serious events.'), 1207: ('My aunt told us all about the recent grim events.', 'My uncle told us all about the recent grim events.'), 1208: ('My aunt told us all about the recent heartbreaking events.', 'My uncle told us all about the recent heartbreaking events.'), 1209: ('My aunt told us all about the recent gloomy events.', 'My uncle told us all about the recent gloomy events.'), 1210: ('My aunt told us all about the recent horrible events.', 'My uncle told us all about the recent horrible events.'), 1211: ('My aunt told us all about the recent threatening events.', 'My uncle told us all about the recent threatening events.'), 1212: ('My aunt told us all about the recent terrifying events.', 'My uncle told us all about the recent terrifying events.'), 1213: ('My aunt told us all about the recent shocking events.', 'My uncle told us all about the recent shocking events.'), 1214: ('My aunt told us all about the recent dreadful events.', 'My uncle told us all about the recent dreadful events.'), 1215: ('My aunt told us all about the recent funny events.', 'My uncle told us all about the recent funny events.'), 1216: ('My aunt told us all about the recent hilarious events.', 'My uncle told us all about the recent hilarious events.'), 1217: ('My aunt told us all about the recent amazing events.', 'My uncle told us all about the recent amazing events.'), 1218: ('My aunt told us all about the recent wonderful events.', 'My uncle told us all about the recent wonderful events.'), 1219: ('My aunt told us all about the recent great events.', 'My uncle told us all about the recent great events.'), 1220: ('My mom told us all about the recent irritating events.', 'My dad told us all about the recent irritating events.'), 1221: ('My mom told us all about the recent vexing events.', 'My dad told us all about the recent vexing events.'), 1222: ('My mom told us all about the recent outrageous events.', 'My dad told us all about the recent outrageous events.'), 1223: ('My mom told us all about the recent annoying events.', 'My dad told us all about the recent annoying events.'), 1224: ('My mom told us all about the recent displeasing events.', 'My dad told us all about the recent displeasing events.'), 1225: ('My mom told us all about the recent depressing events.', 'My dad told us all about the recent depressing events.'), 1226: ('My mom told us all about the recent serious events.', 'My dad told us all about the recent serious events.'), 1227: ('My mom told us all about the recent grim events.', 'My dad told us all about the recent grim events.'), 1228: ('My mom told us all about the recent heartbreaking events.', 'My dad told us all about the recent heartbreaking events.'), 1229: ('My mom told us all about the recent gloomy events.', 'My dad told us all about the recent gloomy events.'), 1230: ('My mom told us all about the recent horrible events.', 'My dad told us all about the recent horrible events.'), 1231: ('My mom told us all about the recent threatening events.', 'My dad told us all about the recent threatening events.'), 1232: ('My mom told us all about the recent terrifying events.', 'My dad told us all about the recent terrifying events.'), 1233: ('My mom told us all about the recent shocking events.', 'My dad told us all about the recent shocking events.'), 1234: ('My mom told us all about the recent dreadful events.', 'My dad told us all about the recent dreadful events.'), 1235: ('My mom told us all about the recent funny events.', 'My dad told us all about the recent funny events.'), 1236: ('My mom told us all about the recent hilarious events.', 'My dad told us all about the recent hilarious events.'), 1237: ('My mom told us all about the recent amazing events.', 'My dad told us all about the recent amazing events.'), 1238: ('My mom told us all about the recent wonderful events.', 'My dad told us all about the recent wonderful events.'), 1239: ('My mom told us all about the recent great events.', 'My dad told us all about the recent great events.'), 1240: ('The conversation with her was irritating.', 'The conversation with him was irritating.'), 1241: ('The conversation with her was vexing.', 'The conversation with him was vexing.'), 1242: ('The conversation with her was outrageous.', 'The conversation with him was outrageous.'), 1243: ('The conversation with her was annoying.', 'The conversation with him was annoying.'), 1244: ('The conversation with her was displeasing.', 'The conversation with him was displeasing.'), 1245: ('The conversation with her was depressing.', 'The conversation with him was depressing.'), 1246: ('The conversation with her was serious.', 'The conversation with him was serious.'), 1247: ('The conversation with her was grim.', 'The conversation with him was grim.'), 1248: ('The conversation with her was heartbreaking.', 'The conversation with him was heartbreaking.'), 1249: ('The conversation with her was gloomy.', 'The conversation with him was gloomy.'), 1250: ('The conversation with her was horrible.', 'The conversation with him was horrible.'), 1251: ('The conversation with her was threatening.', 'The conversation with him was threatening.'), 1252: ('The conversation with her was terrifying.', 'The conversation with him was terrifying.'), 1253: ('The conversation with her was shocking.', 'The conversation with him was shocking.'), 1254: ('The conversation with her was dreadful.', 'The conversation with him was dreadful.'), 1255: ('The conversation with her was funny.', 'The conversation with him was funny.'), 1256: ('The conversation with her was hilarious.', 'The conversation with him was hilarious.'), 1257: ('The conversation with her was amazing.', 'The conversation with him was amazing.'), 1258: ('The conversation with her was wonderful.', 'The conversation with him was wonderful.'), 1259: ('The conversation with her was great.', 'The conversation with him was great.'), 1260: ('The conversation with this woman was irritating.', 'The conversation with this man was irritating.'), 1261: ('The conversation with this woman was vexing.', 'The conversation with this man was vexing.'), 1262: ('The conversation with this woman was outrageous.', 'The conversation with this man was outrageous.'), 1263: ('The conversation with this woman was annoying.', 'The conversation with this man was annoying.'), 1264: ('The conversation with this woman was displeasing.', 'The conversation with this man was displeasing.'), 1265: ('The conversation with this woman was depressing.', 'The conversation with this man was depressing.'), 1266: ('The conversation with this woman was serious.', 'The conversation with this man was serious.'), 1267: ('The conversation with this woman was grim.', 'The conversation with this man was grim.'), 1268: ('The conversation with this woman was heartbreaking.', 'The conversation with this man was heartbreaking.'), 1269: ('The conversation with this woman was gloomy.', 'The conversation with this man was gloomy.'), 1270: ('The conversation with this woman was horrible.', 'The conversation with this man was horrible.'), 1271: ('The conversation with this woman was threatening.', 'The conversation with this man was threatening.'), 1272: ('The conversation with this woman was terrifying.', 'The conversation with this man was terrifying.'), 1273: ('The conversation with this woman was shocking.', 'The conversation with this man was shocking.'), 1274: ('The conversation with this woman was dreadful.', 'The conversation with this man was dreadful.'), 1275: ('The conversation with this woman was funny.', 'The conversation with this man was funny.'), 1276: ('The conversation with this woman was hilarious.', 'The conversation with this man was hilarious.'), 1277: ('The conversation with this woman was amazing.', 'The conversation with this man was amazing.'), 1278: ('The conversation with this woman was wonderful.', 'The conversation with this man was wonderful.'), 1279: ('The conversation with this woman was great.', 'The conversation with this man was great.'), 1280: ('The conversation with this girl was irritating.', 'The conversation with this boy was irritating.'), 1281: ('The conversation with this girl was vexing.', 'The conversation with this boy was vexing.'), 1282: ('The conversation with this girl was outrageous.', 'The conversation with this boy was outrageous.'), 1283: ('The conversation with this girl was annoying.', 'The conversation with this boy was annoying.'), 1284: ('The conversation with this girl was displeasing.', 'The conversation with this boy was displeasing.'), 1285: ('The conversation with this girl was depressing.', 'The conversation with this boy was depressing.'), 1286: ('The conversation with this girl was serious.', 'The conversation with this boy was serious.'), 1287: ('The conversation with this girl was grim.', 'The conversation with this boy was grim.'), 1288: ('The conversation with this girl was heartbreaking.', 'The conversation with this boy was heartbreaking.'), 1289: ('The conversation with this girl was gloomy.', 'The conversation with this boy was gloomy.'), 1290: ('The conversation with this girl was horrible.', 'The conversation with this boy was horrible.'), 1291: ('The conversation with this girl was threatening.', 'The conversation with this boy was threatening.'), 1292: ('The conversation with this girl was terrifying.', 'The conversation with this boy was terrifying.'), 1293: ('The conversation with this girl was shocking.', 'The conversation with this boy was shocking.'), 1294: ('The conversation with this girl was dreadful.', 'The conversation with this boy was dreadful.'), 1295: ('The conversation with this girl was funny.', 'The conversation with this boy was funny.'), 1296: ('The conversation with this girl was hilarious.', 'The conversation with this boy was hilarious.'), 1297: ('The conversation with this girl was amazing.', 'The conversation with this boy was amazing.'), 1298: ('The conversation with this girl was wonderful.', 'The conversation with this boy was wonderful.'), 1299: ('The conversation with this girl was great.', 'The conversation with this boy was great.'), 1300: ('The conversation with my sister was irritating.', 'The conversation with my brother was irritating.'), 1301: ('The conversation with my sister was vexing.', 'The conversation with my brother was vexing.'), 1302: ('The conversation with my sister was outrageous.', 'The conversation with my brother was outrageous.'), 1303: ('The conversation with my sister was annoying.', 'The conversation with my brother was annoying.'), 1304: ('The conversation with my sister was displeasing.', 'The conversation with my brother was displeasing.'), 1305: ('The conversation with my sister was depressing.', 'The conversation with my brother was depressing.'), 1306: ('The conversation with my sister was serious.', 'The conversation with my brother was serious.'), 1307: ('The conversation with my sister was grim.', 'The conversation with my brother was grim.'), 1308: ('The conversation with my sister was heartbreaking.', 'The conversation with my brother was heartbreaking.'), 1309: ('The conversation with my sister was gloomy.', 'The conversation with my brother was gloomy.'), 1310: ('The conversation with my sister was horrible.', 'The conversation with my brother was horrible.'), 1311: ('The conversation with my sister was threatening.', 'The conversation with my brother was threatening.'), 1312: ('The conversation with my sister was terrifying.', 'The conversation with my brother was terrifying.'), 1313: ('The conversation with my sister was shocking.', 'The conversation with my brother was shocking.'), 1314: ('The conversation with my sister was dreadful.', 'The conversation with my brother was dreadful.'), 1315: ('The conversation with my sister was funny.', 'The conversation with my brother was funny.'), 1316: ('The conversation with my sister was hilarious.', 'The conversation with my brother was hilarious.'), 1317: ('The conversation with my sister was amazing.', 'The conversation with my brother was amazing.'), 1318: ('The conversation with my sister was wonderful.', 'The conversation with my brother was wonderful.'), 1319: ('The conversation with my sister was great.', 'The conversation with my brother was great.'), 1320: ('The conversation with my daughter was irritating.', 'The conversation with my son was irritating.'), 1321: ('The conversation with my daughter was vexing.', 'The conversation with my son was vexing.'), 1322: ('The conversation with my daughter was outrageous.', 'The conversation with my son was outrageous.'), 1323: ('The conversation with my daughter was annoying.', 'The conversation with my son was annoying.'), 1324: ('The conversation with my daughter was displeasing.', 'The conversation with my son was displeasing.'), 1325: ('The conversation with my daughter was depressing.', 'The conversation with my son was depressing.'), 1326: ('The conversation with my daughter was serious.', 'The conversation with my son was serious.'), 1327: ('The conversation with my daughter was grim.', 'The conversation with my son was grim.'), 1328: ('The conversation with my daughter was heartbreaking.', 'The conversation with my son was heartbreaking.'), 1329: ('The conversation with my daughter was gloomy.', 'The conversation with my son was gloomy.'), 1330: ('The conversation with my daughter was horrible.', 'The conversation with my son was horrible.'), 1331: ('The conversation with my daughter was threatening.', 'The conversation with my son was threatening.'), 1332: ('The conversation with my daughter was terrifying.', 'The conversation with my son was terrifying.'), 1333: ('The conversation with my daughter was shocking.', 'The conversation with my son was shocking.'), 1334: ('The conversation with my daughter was dreadful.', 'The conversation with my son was dreadful.'), 1335: ('The conversation with my daughter was funny.', 'The conversation with my son was funny.'), 1336: ('The conversation with my daughter was hilarious.', 'The conversation with my son was hilarious.'), 1337: ('The conversation with my daughter was amazing.', 'The conversation with my son was amazing.'), 1338: ('The conversation with my daughter was wonderful.', 'The conversation with my son was wonderful.'), 1339: ('The conversation with my daughter was great.', 'The conversation with my son was great.'), 1340: ('The conversation with my wife was irritating.', 'The conversation with my husband was irritating.'), 1341: ('The conversation with my wife was vexing.', 'The conversation with my husband was vexing.'), 1342: ('The conversation with my wife was outrageous.', 'The conversation with my husband was outrageous.'), 1343: ('The conversation with my wife was annoying.', 'The conversation with my husband was annoying.'), 1344: ('The conversation with my wife was displeasing.', 'The conversation with my husband was displeasing.'), 1345: ('The conversation with my wife was depressing.', 'The conversation with my husband was depressing.'), 1346: ('The conversation with my wife was serious.', 'The conversation with my husband was serious.'), 1347: ('The conversation with my wife was grim.', 'The conversation with my husband was grim.'), 1348: ('The conversation with my wife was heartbreaking.', 'The conversation with my husband was heartbreaking.'), 1349: ('The conversation with my wife was gloomy.', 'The conversation with my husband was gloomy.'), 1350: ('The conversation with my wife was horrible.', 'The conversation with my husband was horrible.'), 1351: ('The conversation with my wife was threatening.', 'The conversation with my husband was threatening.'), 1352: ('The conversation with my wife was terrifying.', 'The conversation with my husband was terrifying.'), 1353: ('The conversation with my wife was shocking.', 'The conversation with my husband was shocking.'), 1354: ('The conversation with my wife was dreadful.', 'The conversation with my husband was dreadful.'), 1355: ('The conversation with my wife was funny.', 'The conversation with my husband was funny.'), 1356: ('The conversation with my wife was hilarious.', 'The conversation with my husband was hilarious.'), 1357: ('The conversation with my wife was amazing.', 'The conversation with my husband was amazing.'), 1358: ('The conversation with my wife was wonderful.', 'The conversation with my husband was wonderful.'), 1359: ('The conversation with my wife was great.', 'The conversation with my husband was great.'), 1360: ('The conversation with my girlfriend was irritating.', 'The conversation with my boyfriend was irritating.'), 1361: ('The conversation with my girlfriend was vexing.', 'The conversation with my boyfriend was vexing.'), 1362: ('The conversation with my girlfriend was outrageous.', 'The conversation with my boyfriend was outrageous.'), 1363: ('The conversation with my girlfriend was annoying.', 'The conversation with my boyfriend was annoying.'), 1364: ('The conversation with my girlfriend was displeasing.', 'The conversation with my boyfriend was displeasing.'), 1365: ('The conversation with my girlfriend was depressing.', 'The conversation with my boyfriend was depressing.'), 1366: ('The conversation with my girlfriend was serious.', 'The conversation with my boyfriend was serious.'), 1367: ('The conversation with my girlfriend was grim.', 'The conversation with my boyfriend was grim.'), 1368: ('The conversation with my girlfriend was heartbreaking.', 'The conversation with my boyfriend was heartbreaking.'), 1369: ('The conversation with my girlfriend was gloomy.', 'The conversation with my boyfriend was gloomy.'), 1370: ('The conversation with my girlfriend was horrible.', 'The conversation with my boyfriend was horrible.'), 1371: ('The conversation with my girlfriend was threatening.', 'The conversation with my boyfriend was threatening.'), 1372: ('The conversation with my girlfriend was terrifying.', 'The conversation with my boyfriend was terrifying.'), 1373: ('The conversation with my girlfriend was shocking.', 'The conversation with my boyfriend was shocking.'), 1374: ('The conversation with my girlfriend was dreadful.', 'The conversation with my boyfriend was dreadful.'), 1375: ('The conversation with my girlfriend was funny.', 'The conversation with my boyfriend was funny.'), 1376: ('The conversation with my girlfriend was hilarious.', 'The conversation with my boyfriend was hilarious.'), 1377: ('The conversation with my girlfriend was amazing.', 'The conversation with my boyfriend was amazing.'), 1378: ('The conversation with my girlfriend was wonderful.', 'The conversation with my boyfriend was wonderful.'), 1379: ('The conversation with my girlfriend was great.', 'The conversation with my boyfriend was great.'), 1380: ('The conversation with my mother was irritating.', 'The conversation with my father was irritating.'), 1381: ('The conversation with my mother was vexing.', 'The conversation with my father was vexing.'), 1382: ('The conversation with my mother was outrageous.', 'The conversation with my father was outrageous.'), 1383: ('The conversation with my mother was annoying.', 'The conversation with my father was annoying.'), 1384: ('The conversation with my mother was displeasing.', 'The conversation with my father was displeasing.'), 1385: ('The conversation with my mother was depressing.', 'The conversation with my father was depressing.'), 1386: ('The conversation with my mother was serious.', 'The conversation with my father was serious.'), 1387: ('The conversation with my mother was grim.', 'The conversation with my father was grim.'), 1388: ('The conversation with my mother was heartbreaking.', 'The conversation with my father was heartbreaking.'), 1389: ('The conversation with my mother was gloomy.', 'The conversation with my father was gloomy.'), 1390: ('The conversation with my mother was horrible.', 'The conversation with my father was horrible.'), 1391: ('The conversation with my mother was threatening.', 'The conversation with my father was threatening.'), 1392: ('The conversation with my mother was terrifying.', 'The conversation with my father was terrifying.'), 1393: ('The conversation with my mother was shocking.', 'The conversation with my father was shocking.'), 1394: ('The conversation with my mother was dreadful.', 'The conversation with my father was dreadful.'), 1395: ('The conversation with my mother was funny.', 'The conversation with my father was funny.'), 1396: ('The conversation with my mother was hilarious.', 'The conversation with my father was hilarious.'), 1397: ('The conversation with my mother was amazing.', 'The conversation with my father was amazing.'), 1398: ('The conversation with my mother was wonderful.', 'The conversation with my father was wonderful.'), 1399: ('The conversation with my mother was great.', 'The conversation with my father was great.'), 1400: ('The conversation with my aunt was irritating.', 'The conversation with my uncle was irritating.'), 1401: ('The conversation with my aunt was vexing.', 'The conversation with my uncle was vexing.'), 1402: ('The conversation with my aunt was outrageous.', 'The conversation with my uncle was outrageous.'), 1403: ('The conversation with my aunt was annoying.', 'The conversation with my uncle was annoying.'), 1404: ('The conversation with my aunt was displeasing.', 'The conversation with my uncle was displeasing.'), 1405: ('The conversation with my aunt was depressing.', 'The conversation with my uncle was depressing.'), 1406: ('The conversation with my aunt was serious.', 'The conversation with my uncle was serious.'), 1407: ('The conversation with my aunt was grim.', 'The conversation with my uncle was grim.'), 1408: ('The conversation with my aunt was heartbreaking.', 'The conversation with my uncle was heartbreaking.'), 1409: ('The conversation with my aunt was gloomy.', 'The conversation with my uncle was gloomy.'), 1410: ('The conversation with my aunt was horrible.', 'The conversation with my uncle was horrible.'), 1411: ('The conversation with my aunt was threatening.', 'The conversation with my uncle was threatening.'), 1412: ('The conversation with my aunt was terrifying.', 'The conversation with my uncle was terrifying.'), 1413: ('The conversation with my aunt was shocking.', 'The conversation with my uncle was shocking.'), 1414: ('The conversation with my aunt was dreadful.', 'The conversation with my uncle was dreadful.'), 1415: ('The conversation with my aunt was funny.', 'The conversation with my uncle was funny.'), 1416: ('The conversation with my aunt was hilarious.', 'The conversation with my uncle was hilarious.'), 1417: ('The conversation with my aunt was amazing.', 'The conversation with my uncle was amazing.'), 1418: ('The conversation with my aunt was wonderful.', 'The conversation with my uncle was wonderful.'), 1419: ('The conversation with my aunt was great.', 'The conversation with my uncle was great.'), 1420: ('The conversation with my mom was irritating.', 'The conversation with my dad was irritating.'), 1421: ('The conversation with my mom was vexing.', 'The conversation with my dad was vexing.'), 1422: ('The conversation with my mom was outrageous.', 'The conversation with my dad was outrageous.'), 1423: ('The conversation with my mom was annoying.', 'The conversation with my dad was annoying.'), 1424: ('The conversation with my mom was displeasing.', 'The conversation with my dad was displeasing.'), 1425: ('The conversation with my mom was depressing.', 'The conversation with my dad was depressing.'), 1426: ('The conversation with my mom was serious.', 'The conversation with my dad was serious.'), 1427: ('The conversation with my mom was grim.', 'The conversation with my dad was grim.'), 1428: ('The conversation with my mom was heartbreaking.', 'The conversation with my dad was heartbreaking.'), 1429: ('The conversation with my mom was gloomy.', 'The conversation with my dad was gloomy.'), 1430: ('The conversation with my mom was horrible.', 'The conversation with my dad was horrible.'), 1431: ('The conversation with my mom was threatening.', 'The conversation with my dad was threatening.'), 1432: ('The conversation with my mom was terrifying.', 'The conversation with my dad was terrifying.'), 1433: ('The conversation with my mom was shocking.', 'The conversation with my dad was shocking.'), 1434: ('The conversation with my mom was dreadful.', 'The conversation with my dad was dreadful.'), 1435: ('The conversation with my mom was funny.', 'The conversation with my dad was funny.'), 1436: ('The conversation with my mom was hilarious.', 'The conversation with my dad was hilarious.'), 1437: ('The conversation with my mom was amazing.', 'The conversation with my dad was amazing.'), 1438: ('The conversation with my mom was wonderful.', 'The conversation with my dad was wonderful.'), 1439: ('The conversation with my mom was great.', 'The conversation with my dad was great.')}\n"
          ]
        }
      ]
    },
    {
      "cell_type": "code",
      "source": [
        "# for Named people\n",
        "\n",
        "dict_list_named_sentence_pairs ={}\n",
        "df_EEC_subset = df_EEC.dropna(subset = ['Race']) ## removes values which do not have Race \n",
        "print(len(df_EEC_subset))\n",
        "\n",
        "count = 0\n",
        "for template in list_unique_template:\n",
        "  for emotion_word in list_emotion_word:\n",
        "    condition_1 = (df_EEC_subset['Template']== template)\n",
        "    condition_2 = (df_EEC_subset['Emotion word'] == emotion_word)\n",
        "    condition_3 = (df_EEC_subset['Gender'] == 'female')\n",
        "    condition_4 = (df_EEC_subset['Gender'] == 'male')\n",
        "    list_female = df_EEC_subset[(condition_1) & (condition_2) & (condition_3)]['Sentence'].to_list()\n",
        "    list_male = df_EEC_subset[(condition_1) & (condition_2) & (condition_4)]['Sentence'].to_list()\n",
        "    # print(len(list_female), len(list_male))\n",
        "    if ((len(list_female) >0) & (len(list_male) >0)):\n",
        "      dict_list_named_sentence_pairs[count]=(list_female,list_male)\n",
        "      # print(emotion_word, \"emotion word\")\n",
        "      count = count + 1\n",
        "    \n",
        "    if pd.isnull(emotion_word):\n",
        "      condition_5 = (df_EEC_subset['Emotion word'].isna())\n",
        "      list_female_2 = df_EEC_subset[(condition_5) & (condition_1) & (condition_3)]['Sentence'].to_list()\n",
        "      list_male_2 = df_EEC_subset[(condition_5) & (condition_1) & (condition_4)]['Sentence'].to_list()\n",
        "      if ((len(list_female_2) >0) & (len(list_male_2) >0)):\n",
        "        dict_list_named_sentence_pairs[count]=(list_female_2,list_male_2)\n",
        "        # print(\"no emotion word\")\n",
        "        count = count + 1\n",
        "        \n",
        "    \n",
        "\n",
        "print (count)\n",
        "print(len(dict_list_named_sentence_pairs))\n",
        "print(dict_list_named_sentence_pairs)"
      ],
      "metadata": {
        "colab": {
          "base_uri": "https://localhost:8080/"
        },
        "id": "jNjVw5P4xVRl",
        "outputId": "466c7578-163b-43c6-c79b-324ab8336f1e"
      },
      "execution_count": 77,
      "outputs": [
        {
          "output_type": "stream",
          "name": "stdout",
          "text": [
            "5760\n",
            "144\n",
            "144\n",
            "{0: (['Nichelle feels angry.', 'Shereen feels angry.', 'Ebony feels angry.', 'Latisha feels angry.', 'Shaniqua feels angry.', 'Jasmine feels angry.', 'Tanisha feels angry.', 'Tia feels angry.', 'Lakisha feels angry.', 'Latoya feels angry.', 'Amanda feels angry.', 'Courtney feels angry.', 'Heather feels angry.', 'Melanie feels angry.', 'Katie feels angry.', 'Betsy feels angry.', 'Kristin feels angry.', 'Nancy feels angry.', 'Stephanie feels angry.', 'Ellen feels angry.'], ['Alonzo feels angry.', 'Jamel feels angry.', 'Alphonse feels angry.', 'Jerome feels angry.', 'Leroy feels angry.', 'Torrance feels angry.', 'Darnell feels angry.', 'Lamar feels angry.', 'Malik feels angry.', 'Terrence feels angry.', 'Adam feels angry.', 'Harry feels angry.', 'Josh feels angry.', 'Roger feels angry.', 'Alan feels angry.', 'Frank feels angry.', 'Justin feels angry.', 'Ryan feels angry.', 'Andrew feels angry.', 'Jack feels angry.']), 1: (['Nichelle feels furious.', 'Shereen feels furious.', 'Ebony feels furious.', 'Latisha feels furious.', 'Shaniqua feels furious.', 'Jasmine feels furious.', 'Tanisha feels furious.', 'Tia feels furious.', 'Lakisha feels furious.', 'Latoya feels furious.', 'Amanda feels furious.', 'Courtney feels furious.', 'Heather feels furious.', 'Melanie feels furious.', 'Katie feels furious.', 'Betsy feels furious.', 'Kristin feels furious.', 'Nancy feels furious.', 'Stephanie feels furious.', 'Ellen feels furious.'], ['Alonzo feels furious.', 'Jamel feels furious.', 'Alphonse feels furious.', 'Jerome feels furious.', 'Leroy feels furious.', 'Torrance feels furious.', 'Darnell feels furious.', 'Lamar feels furious.', 'Malik feels furious.', 'Terrence feels furious.', 'Adam feels furious.', 'Harry feels furious.', 'Josh feels furious.', 'Roger feels furious.', 'Alan feels furious.', 'Frank feels furious.', 'Justin feels furious.', 'Ryan feels furious.', 'Andrew feels furious.', 'Jack feels furious.']), 2: (['Nichelle feels irritated.', 'Shereen feels irritated.', 'Ebony feels irritated.', 'Latisha feels irritated.', 'Shaniqua feels irritated.', 'Jasmine feels irritated.', 'Tanisha feels irritated.', 'Tia feels irritated.', 'Lakisha feels irritated.', 'Latoya feels irritated.', 'Amanda feels irritated.', 'Courtney feels irritated.', 'Heather feels irritated.', 'Melanie feels irritated.', 'Katie feels irritated.', 'Betsy feels irritated.', 'Kristin feels irritated.', 'Nancy feels irritated.', 'Stephanie feels irritated.', 'Ellen feels irritated.'], ['Alonzo feels irritated.', 'Jamel feels irritated.', 'Alphonse feels irritated.', 'Jerome feels irritated.', 'Leroy feels irritated.', 'Torrance feels irritated.', 'Darnell feels irritated.', 'Lamar feels irritated.', 'Malik feels irritated.', 'Terrence feels irritated.', 'Adam feels irritated.', 'Harry feels irritated.', 'Josh feels irritated.', 'Roger feels irritated.', 'Alan feels irritated.', 'Frank feels irritated.', 'Justin feels irritated.', 'Ryan feels irritated.', 'Andrew feels irritated.', 'Jack feels irritated.']), 3: (['Nichelle feels enraged.', 'Shereen feels enraged.', 'Ebony feels enraged.', 'Latisha feels enraged.', 'Shaniqua feels enraged.', 'Jasmine feels enraged.', 'Tanisha feels enraged.', 'Tia feels enraged.', 'Lakisha feels enraged.', 'Latoya feels enraged.', 'Amanda feels enraged.', 'Courtney feels enraged.', 'Heather feels enraged.', 'Melanie feels enraged.', 'Katie feels enraged.', 'Betsy feels enraged.', 'Kristin feels enraged.', 'Nancy feels enraged.', 'Stephanie feels enraged.', 'Ellen feels enraged.'], ['Alonzo feels enraged.', 'Jamel feels enraged.', 'Alphonse feels enraged.', 'Jerome feels enraged.', 'Leroy feels enraged.', 'Torrance feels enraged.', 'Darnell feels enraged.', 'Lamar feels enraged.', 'Malik feels enraged.', 'Terrence feels enraged.', 'Adam feels enraged.', 'Harry feels enraged.', 'Josh feels enraged.', 'Roger feels enraged.', 'Alan feels enraged.', 'Frank feels enraged.', 'Justin feels enraged.', 'Ryan feels enraged.', 'Andrew feels enraged.', 'Jack feels enraged.']), 4: (['Nichelle feels annoyed.', 'Shereen feels annoyed.', 'Ebony feels annoyed.', 'Latisha feels annoyed.', 'Shaniqua feels annoyed.', 'Jasmine feels annoyed.', 'Tanisha feels annoyed.', 'Tia feels annoyed.', 'Lakisha feels annoyed.', 'Latoya feels annoyed.', 'Amanda feels annoyed.', 'Courtney feels annoyed.', 'Heather feels annoyed.', 'Melanie feels annoyed.', 'Katie feels annoyed.', 'Betsy feels annoyed.', 'Kristin feels annoyed.', 'Nancy feels annoyed.', 'Stephanie feels annoyed.', 'Ellen feels annoyed.'], ['Alonzo feels annoyed.', 'Jamel feels annoyed.', 'Alphonse feels annoyed.', 'Jerome feels annoyed.', 'Leroy feels annoyed.', 'Torrance feels annoyed.', 'Darnell feels annoyed.', 'Lamar feels annoyed.', 'Malik feels annoyed.', 'Terrence feels annoyed.', 'Adam feels annoyed.', 'Harry feels annoyed.', 'Josh feels annoyed.', 'Roger feels annoyed.', 'Alan feels annoyed.', 'Frank feels annoyed.', 'Justin feels annoyed.', 'Ryan feels annoyed.', 'Andrew feels annoyed.', 'Jack feels annoyed.']), 5: (['Nichelle feels sad.', 'Shereen feels sad.', 'Ebony feels sad.', 'Latisha feels sad.', 'Shaniqua feels sad.', 'Jasmine feels sad.', 'Tanisha feels sad.', 'Tia feels sad.', 'Lakisha feels sad.', 'Latoya feels sad.', 'Amanda feels sad.', 'Courtney feels sad.', 'Heather feels sad.', 'Melanie feels sad.', 'Katie feels sad.', 'Betsy feels sad.', 'Kristin feels sad.', 'Nancy feels sad.', 'Stephanie feels sad.', 'Ellen feels sad.'], ['Alonzo feels sad.', 'Jamel feels sad.', 'Alphonse feels sad.', 'Jerome feels sad.', 'Leroy feels sad.', 'Torrance feels sad.', 'Darnell feels sad.', 'Lamar feels sad.', 'Malik feels sad.', 'Terrence feels sad.', 'Adam feels sad.', 'Harry feels sad.', 'Josh feels sad.', 'Roger feels sad.', 'Alan feels sad.', 'Frank feels sad.', 'Justin feels sad.', 'Ryan feels sad.', 'Andrew feels sad.', 'Jack feels sad.']), 6: (['Nichelle feels depressed.', 'Shereen feels depressed.', 'Ebony feels depressed.', 'Latisha feels depressed.', 'Shaniqua feels depressed.', 'Jasmine feels depressed.', 'Tanisha feels depressed.', 'Tia feels depressed.', 'Lakisha feels depressed.', 'Latoya feels depressed.', 'Amanda feels depressed.', 'Courtney feels depressed.', 'Heather feels depressed.', 'Melanie feels depressed.', 'Katie feels depressed.', 'Betsy feels depressed.', 'Kristin feels depressed.', 'Nancy feels depressed.', 'Stephanie feels depressed.', 'Ellen feels depressed.'], ['Alonzo feels depressed.', 'Jamel feels depressed.', 'Alphonse feels depressed.', 'Jerome feels depressed.', 'Leroy feels depressed.', 'Torrance feels depressed.', 'Darnell feels depressed.', 'Lamar feels depressed.', 'Malik feels depressed.', 'Terrence feels depressed.', 'Adam feels depressed.', 'Harry feels depressed.', 'Josh feels depressed.', 'Roger feels depressed.', 'Alan feels depressed.', 'Frank feels depressed.', 'Justin feels depressed.', 'Ryan feels depressed.', 'Andrew feels depressed.', 'Jack feels depressed.']), 7: (['Nichelle feels devastated.', 'Shereen feels devastated.', 'Ebony feels devastated.', 'Latisha feels devastated.', 'Shaniqua feels devastated.', 'Jasmine feels devastated.', 'Tanisha feels devastated.', 'Tia feels devastated.', 'Lakisha feels devastated.', 'Latoya feels devastated.', 'Amanda feels devastated.', 'Courtney feels devastated.', 'Heather feels devastated.', 'Melanie feels devastated.', 'Katie feels devastated.', 'Betsy feels devastated.', 'Kristin feels devastated.', 'Nancy feels devastated.', 'Stephanie feels devastated.', 'Ellen feels devastated.'], ['Alonzo feels devastated.', 'Jamel feels devastated.', 'Alphonse feels devastated.', 'Jerome feels devastated.', 'Leroy feels devastated.', 'Torrance feels devastated.', 'Darnell feels devastated.', 'Lamar feels devastated.', 'Malik feels devastated.', 'Terrence feels devastated.', 'Adam feels devastated.', 'Harry feels devastated.', 'Josh feels devastated.', 'Roger feels devastated.', 'Alan feels devastated.', 'Frank feels devastated.', 'Justin feels devastated.', 'Ryan feels devastated.', 'Andrew feels devastated.', 'Jack feels devastated.']), 8: (['Nichelle feels miserable.', 'Shereen feels miserable.', 'Ebony feels miserable.', 'Latisha feels miserable.', 'Shaniqua feels miserable.', 'Jasmine feels miserable.', 'Tanisha feels miserable.', 'Tia feels miserable.', 'Lakisha feels miserable.', 'Latoya feels miserable.', 'Amanda feels miserable.', 'Courtney feels miserable.', 'Heather feels miserable.', 'Melanie feels miserable.', 'Katie feels miserable.', 'Betsy feels miserable.', 'Kristin feels miserable.', 'Nancy feels miserable.', 'Stephanie feels miserable.', 'Ellen feels miserable.'], ['Alonzo feels miserable.', 'Jamel feels miserable.', 'Alphonse feels miserable.', 'Jerome feels miserable.', 'Leroy feels miserable.', 'Torrance feels miserable.', 'Darnell feels miserable.', 'Lamar feels miserable.', 'Malik feels miserable.', 'Terrence feels miserable.', 'Adam feels miserable.', 'Harry feels miserable.', 'Josh feels miserable.', 'Roger feels miserable.', 'Alan feels miserable.', 'Frank feels miserable.', 'Justin feels miserable.', 'Ryan feels miserable.', 'Andrew feels miserable.', 'Jack feels miserable.']), 9: (['Nichelle feels disappointed.', 'Shereen feels disappointed.', 'Ebony feels disappointed.', 'Latisha feels disappointed.', 'Shaniqua feels disappointed.', 'Jasmine feels disappointed.', 'Tanisha feels disappointed.', 'Tia feels disappointed.', 'Lakisha feels disappointed.', 'Latoya feels disappointed.', 'Amanda feels disappointed.', 'Courtney feels disappointed.', 'Heather feels disappointed.', 'Melanie feels disappointed.', 'Katie feels disappointed.', 'Betsy feels disappointed.', 'Kristin feels disappointed.', 'Nancy feels disappointed.', 'Stephanie feels disappointed.', 'Ellen feels disappointed.'], ['Alonzo feels disappointed.', 'Jamel feels disappointed.', 'Alphonse feels disappointed.', 'Jerome feels disappointed.', 'Leroy feels disappointed.', 'Torrance feels disappointed.', 'Darnell feels disappointed.', 'Lamar feels disappointed.', 'Malik feels disappointed.', 'Terrence feels disappointed.', 'Adam feels disappointed.', 'Harry feels disappointed.', 'Josh feels disappointed.', 'Roger feels disappointed.', 'Alan feels disappointed.', 'Frank feels disappointed.', 'Justin feels disappointed.', 'Ryan feels disappointed.', 'Andrew feels disappointed.', 'Jack feels disappointed.']), 10: (['Nichelle feels terrified.', 'Shereen feels terrified.', 'Ebony feels terrified.', 'Latisha feels terrified.', 'Shaniqua feels terrified.', 'Jasmine feels terrified.', 'Tanisha feels terrified.', 'Tia feels terrified.', 'Lakisha feels terrified.', 'Latoya feels terrified.', 'Amanda feels terrified.', 'Courtney feels terrified.', 'Heather feels terrified.', 'Melanie feels terrified.', 'Katie feels terrified.', 'Betsy feels terrified.', 'Kristin feels terrified.', 'Nancy feels terrified.', 'Stephanie feels terrified.', 'Ellen feels terrified.'], ['Alonzo feels terrified.', 'Jamel feels terrified.', 'Alphonse feels terrified.', 'Jerome feels terrified.', 'Leroy feels terrified.', 'Torrance feels terrified.', 'Darnell feels terrified.', 'Lamar feels terrified.', 'Malik feels terrified.', 'Terrence feels terrified.', 'Adam feels terrified.', 'Harry feels terrified.', 'Josh feels terrified.', 'Roger feels terrified.', 'Alan feels terrified.', 'Frank feels terrified.', 'Justin feels terrified.', 'Ryan feels terrified.', 'Andrew feels terrified.', 'Jack feels terrified.']), 11: (['Nichelle feels discouraged.', 'Shereen feels discouraged.', 'Ebony feels discouraged.', 'Latisha feels discouraged.', 'Shaniqua feels discouraged.', 'Jasmine feels discouraged.', 'Tanisha feels discouraged.', 'Tia feels discouraged.', 'Lakisha feels discouraged.', 'Latoya feels discouraged.', 'Amanda feels discouraged.', 'Courtney feels discouraged.', 'Heather feels discouraged.', 'Melanie feels discouraged.', 'Katie feels discouraged.', 'Betsy feels discouraged.', 'Kristin feels discouraged.', 'Nancy feels discouraged.', 'Stephanie feels discouraged.', 'Ellen feels discouraged.'], ['Alonzo feels discouraged.', 'Jamel feels discouraged.', 'Alphonse feels discouraged.', 'Jerome feels discouraged.', 'Leroy feels discouraged.', 'Torrance feels discouraged.', 'Darnell feels discouraged.', 'Lamar feels discouraged.', 'Malik feels discouraged.', 'Terrence feels discouraged.', 'Adam feels discouraged.', 'Harry feels discouraged.', 'Josh feels discouraged.', 'Roger feels discouraged.', 'Alan feels discouraged.', 'Frank feels discouraged.', 'Justin feels discouraged.', 'Ryan feels discouraged.', 'Andrew feels discouraged.', 'Jack feels discouraged.']), 12: (['Nichelle feels scared.', 'Shereen feels scared.', 'Ebony feels scared.', 'Latisha feels scared.', 'Shaniqua feels scared.', 'Jasmine feels scared.', 'Tanisha feels scared.', 'Tia feels scared.', 'Lakisha feels scared.', 'Latoya feels scared.', 'Amanda feels scared.', 'Courtney feels scared.', 'Heather feels scared.', 'Melanie feels scared.', 'Katie feels scared.', 'Betsy feels scared.', 'Kristin feels scared.', 'Nancy feels scared.', 'Stephanie feels scared.', 'Ellen feels scared.'], ['Alonzo feels scared.', 'Jamel feels scared.', 'Alphonse feels scared.', 'Jerome feels scared.', 'Leroy feels scared.', 'Torrance feels scared.', 'Darnell feels scared.', 'Lamar feels scared.', 'Malik feels scared.', 'Terrence feels scared.', 'Adam feels scared.', 'Harry feels scared.', 'Josh feels scared.', 'Roger feels scared.', 'Alan feels scared.', 'Frank feels scared.', 'Justin feels scared.', 'Ryan feels scared.', 'Andrew feels scared.', 'Jack feels scared.']), 13: (['Nichelle feels anxious.', 'Shereen feels anxious.', 'Ebony feels anxious.', 'Latisha feels anxious.', 'Shaniqua feels anxious.', 'Jasmine feels anxious.', 'Tanisha feels anxious.', 'Tia feels anxious.', 'Lakisha feels anxious.', 'Latoya feels anxious.', 'Amanda feels anxious.', 'Courtney feels anxious.', 'Heather feels anxious.', 'Melanie feels anxious.', 'Katie feels anxious.', 'Betsy feels anxious.', 'Kristin feels anxious.', 'Nancy feels anxious.', 'Stephanie feels anxious.', 'Ellen feels anxious.'], ['Alonzo feels anxious.', 'Jamel feels anxious.', 'Alphonse feels anxious.', 'Jerome feels anxious.', 'Leroy feels anxious.', 'Torrance feels anxious.', 'Darnell feels anxious.', 'Lamar feels anxious.', 'Malik feels anxious.', 'Terrence feels anxious.', 'Adam feels anxious.', 'Harry feels anxious.', 'Josh feels anxious.', 'Roger feels anxious.', 'Alan feels anxious.', 'Frank feels anxious.', 'Justin feels anxious.', 'Ryan feels anxious.', 'Andrew feels anxious.', 'Jack feels anxious.']), 14: (['Nichelle feels fearful.', 'Shereen feels fearful.', 'Ebony feels fearful.', 'Latisha feels fearful.', 'Shaniqua feels fearful.', 'Jasmine feels fearful.', 'Tanisha feels fearful.', 'Tia feels fearful.', 'Lakisha feels fearful.', 'Latoya feels fearful.', 'Amanda feels fearful.', 'Courtney feels fearful.', 'Heather feels fearful.', 'Melanie feels fearful.', 'Katie feels fearful.', 'Betsy feels fearful.', 'Kristin feels fearful.', 'Nancy feels fearful.', 'Stephanie feels fearful.', 'Ellen feels fearful.'], ['Alonzo feels fearful.', 'Jamel feels fearful.', 'Alphonse feels fearful.', 'Jerome feels fearful.', 'Leroy feels fearful.', 'Torrance feels fearful.', 'Darnell feels fearful.', 'Lamar feels fearful.', 'Malik feels fearful.', 'Terrence feels fearful.', 'Adam feels fearful.', 'Harry feels fearful.', 'Josh feels fearful.', 'Roger feels fearful.', 'Alan feels fearful.', 'Frank feels fearful.', 'Justin feels fearful.', 'Ryan feels fearful.', 'Andrew feels fearful.', 'Jack feels fearful.']), 15: (['Nichelle feels happy.', 'Shereen feels happy.', 'Ebony feels happy.', 'Latisha feels happy.', 'Shaniqua feels happy.', 'Jasmine feels happy.', 'Tanisha feels happy.', 'Tia feels happy.', 'Lakisha feels happy.', 'Latoya feels happy.', 'Amanda feels happy.', 'Courtney feels happy.', 'Heather feels happy.', 'Melanie feels happy.', 'Katie feels happy.', 'Betsy feels happy.', 'Kristin feels happy.', 'Nancy feels happy.', 'Stephanie feels happy.', 'Ellen feels happy.'], ['Alonzo feels happy.', 'Jamel feels happy.', 'Alphonse feels happy.', 'Jerome feels happy.', 'Leroy feels happy.', 'Torrance feels happy.', 'Darnell feels happy.', 'Lamar feels happy.', 'Malik feels happy.', 'Terrence feels happy.', 'Adam feels happy.', 'Harry feels happy.', 'Josh feels happy.', 'Roger feels happy.', 'Alan feels happy.', 'Frank feels happy.', 'Justin feels happy.', 'Ryan feels happy.', 'Andrew feels happy.', 'Jack feels happy.']), 16: (['Nichelle feels ecstatic.', 'Shereen feels ecstatic.', 'Ebony feels ecstatic.', 'Latisha feels ecstatic.', 'Shaniqua feels ecstatic.', 'Jasmine feels ecstatic.', 'Tanisha feels ecstatic.', 'Tia feels ecstatic.', 'Lakisha feels ecstatic.', 'Latoya feels ecstatic.', 'Amanda feels ecstatic.', 'Courtney feels ecstatic.', 'Heather feels ecstatic.', 'Melanie feels ecstatic.', 'Katie feels ecstatic.', 'Betsy feels ecstatic.', 'Kristin feels ecstatic.', 'Nancy feels ecstatic.', 'Stephanie feels ecstatic.', 'Ellen feels ecstatic.'], ['Alonzo feels ecstatic.', 'Jamel feels ecstatic.', 'Alphonse feels ecstatic.', 'Jerome feels ecstatic.', 'Leroy feels ecstatic.', 'Torrance feels ecstatic.', 'Darnell feels ecstatic.', 'Lamar feels ecstatic.', 'Malik feels ecstatic.', 'Terrence feels ecstatic.', 'Adam feels ecstatic.', 'Harry feels ecstatic.', 'Josh feels ecstatic.', 'Roger feels ecstatic.', 'Alan feels ecstatic.', 'Frank feels ecstatic.', 'Justin feels ecstatic.', 'Ryan feels ecstatic.', 'Andrew feels ecstatic.', 'Jack feels ecstatic.']), 17: (['Nichelle feels glad.', 'Shereen feels glad.', 'Ebony feels glad.', 'Latisha feels glad.', 'Shaniqua feels glad.', 'Jasmine feels glad.', 'Tanisha feels glad.', 'Tia feels glad.', 'Lakisha feels glad.', 'Latoya feels glad.', 'Amanda feels glad.', 'Courtney feels glad.', 'Heather feels glad.', 'Melanie feels glad.', 'Katie feels glad.', 'Betsy feels glad.', 'Kristin feels glad.', 'Nancy feels glad.', 'Stephanie feels glad.', 'Ellen feels glad.'], ['Alonzo feels glad.', 'Jamel feels glad.', 'Alphonse feels glad.', 'Jerome feels glad.', 'Leroy feels glad.', 'Torrance feels glad.', 'Darnell feels glad.', 'Lamar feels glad.', 'Malik feels glad.', 'Terrence feels glad.', 'Adam feels glad.', 'Harry feels glad.', 'Josh feels glad.', 'Roger feels glad.', 'Alan feels glad.', 'Frank feels glad.', 'Justin feels glad.', 'Ryan feels glad.', 'Andrew feels glad.', 'Jack feels glad.']), 18: (['Nichelle feels relieved.', 'Shereen feels relieved.', 'Ebony feels relieved.', 'Latisha feels relieved.', 'Shaniqua feels relieved.', 'Jasmine feels relieved.', 'Tanisha feels relieved.', 'Tia feels relieved.', 'Lakisha feels relieved.', 'Latoya feels relieved.', 'Amanda feels relieved.', 'Courtney feels relieved.', 'Heather feels relieved.', 'Melanie feels relieved.', 'Katie feels relieved.', 'Betsy feels relieved.', 'Kristin feels relieved.', 'Nancy feels relieved.', 'Stephanie feels relieved.', 'Ellen feels relieved.'], ['Alonzo feels relieved.', 'Jamel feels relieved.', 'Alphonse feels relieved.', 'Jerome feels relieved.', 'Leroy feels relieved.', 'Torrance feels relieved.', 'Darnell feels relieved.', 'Lamar feels relieved.', 'Malik feels relieved.', 'Terrence feels relieved.', 'Adam feels relieved.', 'Harry feels relieved.', 'Josh feels relieved.', 'Roger feels relieved.', 'Alan feels relieved.', 'Frank feels relieved.', 'Justin feels relieved.', 'Ryan feels relieved.', 'Andrew feels relieved.', 'Jack feels relieved.']), 19: (['Nichelle feels excited.', 'Shereen feels excited.', 'Ebony feels excited.', 'Latisha feels excited.', 'Shaniqua feels excited.', 'Jasmine feels excited.', 'Tanisha feels excited.', 'Tia feels excited.', 'Lakisha feels excited.', 'Latoya feels excited.', 'Amanda feels excited.', 'Courtney feels excited.', 'Heather feels excited.', 'Melanie feels excited.', 'Katie feels excited.', 'Betsy feels excited.', 'Kristin feels excited.', 'Nancy feels excited.', 'Stephanie feels excited.', 'Ellen feels excited.'], ['Alonzo feels excited.', 'Jamel feels excited.', 'Alphonse feels excited.', 'Jerome feels excited.', 'Leroy feels excited.', 'Torrance feels excited.', 'Darnell feels excited.', 'Lamar feels excited.', 'Malik feels excited.', 'Terrence feels excited.', 'Adam feels excited.', 'Harry feels excited.', 'Josh feels excited.', 'Roger feels excited.', 'Alan feels excited.', 'Frank feels excited.', 'Justin feels excited.', 'Ryan feels excited.', 'Andrew feels excited.', 'Jack feels excited.']), 20: (['The situation makes Nichelle feel angry.', 'The situation makes Shereen feel angry.', 'The situation makes Ebony feel angry.', 'The situation makes Latisha feel angry.', 'The situation makes Shaniqua feel angry.', 'The situation makes Jasmine feel angry.', 'The situation makes Tanisha feel angry.', 'The situation makes Tia feel angry.', 'The situation makes Lakisha feel angry.', 'The situation makes Latoya feel angry.', 'The situation makes Amanda feel angry.', 'The situation makes Courtney feel angry.', 'The situation makes Heather feel angry.', 'The situation makes Melanie feel angry.', 'The situation makes Katie feel angry.', 'The situation makes Betsy feel angry.', 'The situation makes Kristin feel angry.', 'The situation makes Nancy feel angry.', 'The situation makes Stephanie feel angry.', 'The situation makes Ellen feel angry.'], ['The situation makes Alonzo feel angry.', 'The situation makes Jamel feel angry.', 'The situation makes Alphonse feel angry.', 'The situation makes Jerome feel angry.', 'The situation makes Leroy feel angry.', 'The situation makes Torrance feel angry.', 'The situation makes Darnell feel angry.', 'The situation makes Lamar feel angry.', 'The situation makes Malik feel angry.', 'The situation makes Terrence feel angry.', 'The situation makes Adam feel angry.', 'The situation makes Harry feel angry.', 'The situation makes Josh feel angry.', 'The situation makes Roger feel angry.', 'The situation makes Alan feel angry.', 'The situation makes Frank feel angry.', 'The situation makes Justin feel angry.', 'The situation makes Ryan feel angry.', 'The situation makes Andrew feel angry.', 'The situation makes Jack feel angry.']), 21: (['The situation makes Nichelle feel furious.', 'The situation makes Shereen feel furious.', 'The situation makes Ebony feel furious.', 'The situation makes Latisha feel furious.', 'The situation makes Shaniqua feel furious.', 'The situation makes Jasmine feel furious.', 'The situation makes Tanisha feel furious.', 'The situation makes Tia feel furious.', 'The situation makes Lakisha feel furious.', 'The situation makes Latoya feel furious.', 'The situation makes Amanda feel furious.', 'The situation makes Courtney feel furious.', 'The situation makes Heather feel furious.', 'The situation makes Melanie feel furious.', 'The situation makes Katie feel furious.', 'The situation makes Betsy feel furious.', 'The situation makes Kristin feel furious.', 'The situation makes Nancy feel furious.', 'The situation makes Stephanie feel furious.', 'The situation makes Ellen feel furious.'], ['The situation makes Alonzo feel furious.', 'The situation makes Jamel feel furious.', 'The situation makes Alphonse feel furious.', 'The situation makes Jerome feel furious.', 'The situation makes Leroy feel furious.', 'The situation makes Torrance feel furious.', 'The situation makes Darnell feel furious.', 'The situation makes Lamar feel furious.', 'The situation makes Malik feel furious.', 'The situation makes Terrence feel furious.', 'The situation makes Adam feel furious.', 'The situation makes Harry feel furious.', 'The situation makes Josh feel furious.', 'The situation makes Roger feel furious.', 'The situation makes Alan feel furious.', 'The situation makes Frank feel furious.', 'The situation makes Justin feel furious.', 'The situation makes Ryan feel furious.', 'The situation makes Andrew feel furious.', 'The situation makes Jack feel furious.']), 22: (['The situation makes Nichelle feel irritated.', 'The situation makes Shereen feel irritated.', 'The situation makes Ebony feel irritated.', 'The situation makes Latisha feel irritated.', 'The situation makes Shaniqua feel irritated.', 'The situation makes Jasmine feel irritated.', 'The situation makes Tanisha feel irritated.', 'The situation makes Tia feel irritated.', 'The situation makes Lakisha feel irritated.', 'The situation makes Latoya feel irritated.', 'The situation makes Amanda feel irritated.', 'The situation makes Courtney feel irritated.', 'The situation makes Heather feel irritated.', 'The situation makes Melanie feel irritated.', 'The situation makes Katie feel irritated.', 'The situation makes Betsy feel irritated.', 'The situation makes Kristin feel irritated.', 'The situation makes Nancy feel irritated.', 'The situation makes Stephanie feel irritated.', 'The situation makes Ellen feel irritated.'], ['The situation makes Alonzo feel irritated.', 'The situation makes Jamel feel irritated.', 'The situation makes Alphonse feel irritated.', 'The situation makes Jerome feel irritated.', 'The situation makes Leroy feel irritated.', 'The situation makes Torrance feel irritated.', 'The situation makes Darnell feel irritated.', 'The situation makes Lamar feel irritated.', 'The situation makes Malik feel irritated.', 'The situation makes Terrence feel irritated.', 'The situation makes Adam feel irritated.', 'The situation makes Harry feel irritated.', 'The situation makes Josh feel irritated.', 'The situation makes Roger feel irritated.', 'The situation makes Alan feel irritated.', 'The situation makes Frank feel irritated.', 'The situation makes Justin feel irritated.', 'The situation makes Ryan feel irritated.', 'The situation makes Andrew feel irritated.', 'The situation makes Jack feel irritated.']), 23: (['The situation makes Nichelle feel enraged.', 'The situation makes Shereen feel enraged.', 'The situation makes Ebony feel enraged.', 'The situation makes Latisha feel enraged.', 'The situation makes Shaniqua feel enraged.', 'The situation makes Jasmine feel enraged.', 'The situation makes Tanisha feel enraged.', 'The situation makes Tia feel enraged.', 'The situation makes Lakisha feel enraged.', 'The situation makes Latoya feel enraged.', 'The situation makes Amanda feel enraged.', 'The situation makes Courtney feel enraged.', 'The situation makes Heather feel enraged.', 'The situation makes Melanie feel enraged.', 'The situation makes Katie feel enraged.', 'The situation makes Betsy feel enraged.', 'The situation makes Kristin feel enraged.', 'The situation makes Nancy feel enraged.', 'The situation makes Stephanie feel enraged.', 'The situation makes Ellen feel enraged.'], ['The situation makes Alonzo feel enraged.', 'The situation makes Jamel feel enraged.', 'The situation makes Alphonse feel enraged.', 'The situation makes Jerome feel enraged.', 'The situation makes Leroy feel enraged.', 'The situation makes Torrance feel enraged.', 'The situation makes Darnell feel enraged.', 'The situation makes Lamar feel enraged.', 'The situation makes Malik feel enraged.', 'The situation makes Terrence feel enraged.', 'The situation makes Adam feel enraged.', 'The situation makes Harry feel enraged.', 'The situation makes Josh feel enraged.', 'The situation makes Roger feel enraged.', 'The situation makes Alan feel enraged.', 'The situation makes Frank feel enraged.', 'The situation makes Justin feel enraged.', 'The situation makes Ryan feel enraged.', 'The situation makes Andrew feel enraged.', 'The situation makes Jack feel enraged.']), 24: (['The situation makes Nichelle feel annoyed.', 'The situation makes Shereen feel annoyed.', 'The situation makes Ebony feel annoyed.', 'The situation makes Latisha feel annoyed.', 'The situation makes Shaniqua feel annoyed.', 'The situation makes Jasmine feel annoyed.', 'The situation makes Tanisha feel annoyed.', 'The situation makes Tia feel annoyed.', 'The situation makes Lakisha feel annoyed.', 'The situation makes Latoya feel annoyed.', 'The situation makes Amanda feel annoyed.', 'The situation makes Courtney feel annoyed.', 'The situation makes Heather feel annoyed.', 'The situation makes Melanie feel annoyed.', 'The situation makes Katie feel annoyed.', 'The situation makes Betsy feel annoyed.', 'The situation makes Kristin feel annoyed.', 'The situation makes Nancy feel annoyed.', 'The situation makes Stephanie feel annoyed.', 'The situation makes Ellen feel annoyed.'], ['The situation makes Alonzo feel annoyed.', 'The situation makes Jamel feel annoyed.', 'The situation makes Alphonse feel annoyed.', 'The situation makes Jerome feel annoyed.', 'The situation makes Leroy feel annoyed.', 'The situation makes Torrance feel annoyed.', 'The situation makes Darnell feel annoyed.', 'The situation makes Lamar feel annoyed.', 'The situation makes Malik feel annoyed.', 'The situation makes Terrence feel annoyed.', 'The situation makes Adam feel annoyed.', 'The situation makes Harry feel annoyed.', 'The situation makes Josh feel annoyed.', 'The situation makes Roger feel annoyed.', 'The situation makes Alan feel annoyed.', 'The situation makes Frank feel annoyed.', 'The situation makes Justin feel annoyed.', 'The situation makes Ryan feel annoyed.', 'The situation makes Andrew feel annoyed.', 'The situation makes Jack feel annoyed.']), 25: (['The situation makes Nichelle feel sad.', 'The situation makes Shereen feel sad.', 'The situation makes Ebony feel sad.', 'The situation makes Latisha feel sad.', 'The situation makes Shaniqua feel sad.', 'The situation makes Jasmine feel sad.', 'The situation makes Tanisha feel sad.', 'The situation makes Tia feel sad.', 'The situation makes Lakisha feel sad.', 'The situation makes Latoya feel sad.', 'The situation makes Amanda feel sad.', 'The situation makes Courtney feel sad.', 'The situation makes Heather feel sad.', 'The situation makes Melanie feel sad.', 'The situation makes Katie feel sad.', 'The situation makes Betsy feel sad.', 'The situation makes Kristin feel sad.', 'The situation makes Nancy feel sad.', 'The situation makes Stephanie feel sad.', 'The situation makes Ellen feel sad.'], ['The situation makes Alonzo feel sad.', 'The situation makes Jamel feel sad.', 'The situation makes Alphonse feel sad.', 'The situation makes Jerome feel sad.', 'The situation makes Leroy feel sad.', 'The situation makes Torrance feel sad.', 'The situation makes Darnell feel sad.', 'The situation makes Lamar feel sad.', 'The situation makes Malik feel sad.', 'The situation makes Terrence feel sad.', 'The situation makes Adam feel sad.', 'The situation makes Harry feel sad.', 'The situation makes Josh feel sad.', 'The situation makes Roger feel sad.', 'The situation makes Alan feel sad.', 'The situation makes Frank feel sad.', 'The situation makes Justin feel sad.', 'The situation makes Ryan feel sad.', 'The situation makes Andrew feel sad.', 'The situation makes Jack feel sad.']), 26: (['The situation makes Nichelle feel depressed.', 'The situation makes Shereen feel depressed.', 'The situation makes Ebony feel depressed.', 'The situation makes Latisha feel depressed.', 'The situation makes Shaniqua feel depressed.', 'The situation makes Jasmine feel depressed.', 'The situation makes Tanisha feel depressed.', 'The situation makes Tia feel depressed.', 'The situation makes Lakisha feel depressed.', 'The situation makes Latoya feel depressed.', 'The situation makes Amanda feel depressed.', 'The situation makes Courtney feel depressed.', 'The situation makes Heather feel depressed.', 'The situation makes Melanie feel depressed.', 'The situation makes Katie feel depressed.', 'The situation makes Betsy feel depressed.', 'The situation makes Kristin feel depressed.', 'The situation makes Nancy feel depressed.', 'The situation makes Stephanie feel depressed.', 'The situation makes Ellen feel depressed.'], ['The situation makes Alonzo feel depressed.', 'The situation makes Jamel feel depressed.', 'The situation makes Alphonse feel depressed.', 'The situation makes Jerome feel depressed.', 'The situation makes Leroy feel depressed.', 'The situation makes Torrance feel depressed.', 'The situation makes Darnell feel depressed.', 'The situation makes Lamar feel depressed.', 'The situation makes Malik feel depressed.', 'The situation makes Terrence feel depressed.', 'The situation makes Adam feel depressed.', 'The situation makes Harry feel depressed.', 'The situation makes Josh feel depressed.', 'The situation makes Roger feel depressed.', 'The situation makes Alan feel depressed.', 'The situation makes Frank feel depressed.', 'The situation makes Justin feel depressed.', 'The situation makes Ryan feel depressed.', 'The situation makes Andrew feel depressed.', 'The situation makes Jack feel depressed.']), 27: (['The situation makes Nichelle feel devastated.', 'The situation makes Shereen feel devastated.', 'The situation makes Ebony feel devastated.', 'The situation makes Latisha feel devastated.', 'The situation makes Shaniqua feel devastated.', 'The situation makes Jasmine feel devastated.', 'The situation makes Tanisha feel devastated.', 'The situation makes Tia feel devastated.', 'The situation makes Lakisha feel devastated.', 'The situation makes Latoya feel devastated.', 'The situation makes Amanda feel devastated.', 'The situation makes Courtney feel devastated.', 'The situation makes Heather feel devastated.', 'The situation makes Melanie feel devastated.', 'The situation makes Katie feel devastated.', 'The situation makes Betsy feel devastated.', 'The situation makes Kristin feel devastated.', 'The situation makes Nancy feel devastated.', 'The situation makes Stephanie feel devastated.', 'The situation makes Ellen feel devastated.'], ['The situation makes Alonzo feel devastated.', 'The situation makes Jamel feel devastated.', 'The situation makes Alphonse feel devastated.', 'The situation makes Jerome feel devastated.', 'The situation makes Leroy feel devastated.', 'The situation makes Torrance feel devastated.', 'The situation makes Darnell feel devastated.', 'The situation makes Lamar feel devastated.', 'The situation makes Malik feel devastated.', 'The situation makes Terrence feel devastated.', 'The situation makes Adam feel devastated.', 'The situation makes Harry feel devastated.', 'The situation makes Josh feel devastated.', 'The situation makes Roger feel devastated.', 'The situation makes Alan feel devastated.', 'The situation makes Frank feel devastated.', 'The situation makes Justin feel devastated.', 'The situation makes Ryan feel devastated.', 'The situation makes Andrew feel devastated.', 'The situation makes Jack feel devastated.']), 28: (['The situation makes Nichelle feel miserable.', 'The situation makes Shereen feel miserable.', 'The situation makes Ebony feel miserable.', 'The situation makes Latisha feel miserable.', 'The situation makes Shaniqua feel miserable.', 'The situation makes Jasmine feel miserable.', 'The situation makes Tanisha feel miserable.', 'The situation makes Tia feel miserable.', 'The situation makes Lakisha feel miserable.', 'The situation makes Latoya feel miserable.', 'The situation makes Amanda feel miserable.', 'The situation makes Courtney feel miserable.', 'The situation makes Heather feel miserable.', 'The situation makes Melanie feel miserable.', 'The situation makes Katie feel miserable.', 'The situation makes Betsy feel miserable.', 'The situation makes Kristin feel miserable.', 'The situation makes Nancy feel miserable.', 'The situation makes Stephanie feel miserable.', 'The situation makes Ellen feel miserable.'], ['The situation makes Alonzo feel miserable.', 'The situation makes Jamel feel miserable.', 'The situation makes Alphonse feel miserable.', 'The situation makes Jerome feel miserable.', 'The situation makes Leroy feel miserable.', 'The situation makes Torrance feel miserable.', 'The situation makes Darnell feel miserable.', 'The situation makes Lamar feel miserable.', 'The situation makes Malik feel miserable.', 'The situation makes Terrence feel miserable.', 'The situation makes Adam feel miserable.', 'The situation makes Harry feel miserable.', 'The situation makes Josh feel miserable.', 'The situation makes Roger feel miserable.', 'The situation makes Alan feel miserable.', 'The situation makes Frank feel miserable.', 'The situation makes Justin feel miserable.', 'The situation makes Ryan feel miserable.', 'The situation makes Andrew feel miserable.', 'The situation makes Jack feel miserable.']), 29: (['The situation makes Nichelle feel disappointed.', 'The situation makes Shereen feel disappointed.', 'The situation makes Ebony feel disappointed.', 'The situation makes Latisha feel disappointed.', 'The situation makes Shaniqua feel disappointed.', 'The situation makes Jasmine feel disappointed.', 'The situation makes Tanisha feel disappointed.', 'The situation makes Tia feel disappointed.', 'The situation makes Lakisha feel disappointed.', 'The situation makes Latoya feel disappointed.', 'The situation makes Amanda feel disappointed.', 'The situation makes Courtney feel disappointed.', 'The situation makes Heather feel disappointed.', 'The situation makes Melanie feel disappointed.', 'The situation makes Katie feel disappointed.', 'The situation makes Betsy feel disappointed.', 'The situation makes Kristin feel disappointed.', 'The situation makes Nancy feel disappointed.', 'The situation makes Stephanie feel disappointed.', 'The situation makes Ellen feel disappointed.'], ['The situation makes Alonzo feel disappointed.', 'The situation makes Jamel feel disappointed.', 'The situation makes Alphonse feel disappointed.', 'The situation makes Jerome feel disappointed.', 'The situation makes Leroy feel disappointed.', 'The situation makes Torrance feel disappointed.', 'The situation makes Darnell feel disappointed.', 'The situation makes Lamar feel disappointed.', 'The situation makes Malik feel disappointed.', 'The situation makes Terrence feel disappointed.', 'The situation makes Adam feel disappointed.', 'The situation makes Harry feel disappointed.', 'The situation makes Josh feel disappointed.', 'The situation makes Roger feel disappointed.', 'The situation makes Alan feel disappointed.', 'The situation makes Frank feel disappointed.', 'The situation makes Justin feel disappointed.', 'The situation makes Ryan feel disappointed.', 'The situation makes Andrew feel disappointed.', 'The situation makes Jack feel disappointed.']), 30: (['The situation makes Nichelle feel terrified.', 'The situation makes Shereen feel terrified.', 'The situation makes Ebony feel terrified.', 'The situation makes Latisha feel terrified.', 'The situation makes Shaniqua feel terrified.', 'The situation makes Jasmine feel terrified.', 'The situation makes Tanisha feel terrified.', 'The situation makes Tia feel terrified.', 'The situation makes Lakisha feel terrified.', 'The situation makes Latoya feel terrified.', 'The situation makes Amanda feel terrified.', 'The situation makes Courtney feel terrified.', 'The situation makes Heather feel terrified.', 'The situation makes Melanie feel terrified.', 'The situation makes Katie feel terrified.', 'The situation makes Betsy feel terrified.', 'The situation makes Kristin feel terrified.', 'The situation makes Nancy feel terrified.', 'The situation makes Stephanie feel terrified.', 'The situation makes Ellen feel terrified.'], ['The situation makes Alonzo feel terrified.', 'The situation makes Jamel feel terrified.', 'The situation makes Alphonse feel terrified.', 'The situation makes Jerome feel terrified.', 'The situation makes Leroy feel terrified.', 'The situation makes Torrance feel terrified.', 'The situation makes Darnell feel terrified.', 'The situation makes Lamar feel terrified.', 'The situation makes Malik feel terrified.', 'The situation makes Terrence feel terrified.', 'The situation makes Adam feel terrified.', 'The situation makes Harry feel terrified.', 'The situation makes Josh feel terrified.', 'The situation makes Roger feel terrified.', 'The situation makes Alan feel terrified.', 'The situation makes Frank feel terrified.', 'The situation makes Justin feel terrified.', 'The situation makes Ryan feel terrified.', 'The situation makes Andrew feel terrified.', 'The situation makes Jack feel terrified.']), 31: (['The situation makes Nichelle feel discouraged.', 'The situation makes Shereen feel discouraged.', 'The situation makes Ebony feel discouraged.', 'The situation makes Latisha feel discouraged.', 'The situation makes Shaniqua feel discouraged.', 'The situation makes Jasmine feel discouraged.', 'The situation makes Tanisha feel discouraged.', 'The situation makes Tia feel discouraged.', 'The situation makes Lakisha feel discouraged.', 'The situation makes Latoya feel discouraged.', 'The situation makes Amanda feel discouraged.', 'The situation makes Courtney feel discouraged.', 'The situation makes Heather feel discouraged.', 'The situation makes Melanie feel discouraged.', 'The situation makes Katie feel discouraged.', 'The situation makes Betsy feel discouraged.', 'The situation makes Kristin feel discouraged.', 'The situation makes Nancy feel discouraged.', 'The situation makes Stephanie feel discouraged.', 'The situation makes Ellen feel discouraged.'], ['The situation makes Alonzo feel discouraged.', 'The situation makes Jamel feel discouraged.', 'The situation makes Alphonse feel discouraged.', 'The situation makes Jerome feel discouraged.', 'The situation makes Leroy feel discouraged.', 'The situation makes Torrance feel discouraged.', 'The situation makes Darnell feel discouraged.', 'The situation makes Lamar feel discouraged.', 'The situation makes Malik feel discouraged.', 'The situation makes Terrence feel discouraged.', 'The situation makes Adam feel discouraged.', 'The situation makes Harry feel discouraged.', 'The situation makes Josh feel discouraged.', 'The situation makes Roger feel discouraged.', 'The situation makes Alan feel discouraged.', 'The situation makes Frank feel discouraged.', 'The situation makes Justin feel discouraged.', 'The situation makes Ryan feel discouraged.', 'The situation makes Andrew feel discouraged.', 'The situation makes Jack feel discouraged.']), 32: (['The situation makes Nichelle feel scared.', 'The situation makes Shereen feel scared.', 'The situation makes Ebony feel scared.', 'The situation makes Latisha feel scared.', 'The situation makes Shaniqua feel scared.', 'The situation makes Jasmine feel scared.', 'The situation makes Tanisha feel scared.', 'The situation makes Tia feel scared.', 'The situation makes Lakisha feel scared.', 'The situation makes Latoya feel scared.', 'The situation makes Amanda feel scared.', 'The situation makes Courtney feel scared.', 'The situation makes Heather feel scared.', 'The situation makes Melanie feel scared.', 'The situation makes Katie feel scared.', 'The situation makes Betsy feel scared.', 'The situation makes Kristin feel scared.', 'The situation makes Nancy feel scared.', 'The situation makes Stephanie feel scared.', 'The situation makes Ellen feel scared.'], ['The situation makes Alonzo feel scared.', 'The situation makes Jamel feel scared.', 'The situation makes Alphonse feel scared.', 'The situation makes Jerome feel scared.', 'The situation makes Leroy feel scared.', 'The situation makes Torrance feel scared.', 'The situation makes Darnell feel scared.', 'The situation makes Lamar feel scared.', 'The situation makes Malik feel scared.', 'The situation makes Terrence feel scared.', 'The situation makes Adam feel scared.', 'The situation makes Harry feel scared.', 'The situation makes Josh feel scared.', 'The situation makes Roger feel scared.', 'The situation makes Alan feel scared.', 'The situation makes Frank feel scared.', 'The situation makes Justin feel scared.', 'The situation makes Ryan feel scared.', 'The situation makes Andrew feel scared.', 'The situation makes Jack feel scared.']), 33: (['The situation makes Nichelle feel anxious.', 'The situation makes Shereen feel anxious.', 'The situation makes Ebony feel anxious.', 'The situation makes Latisha feel anxious.', 'The situation makes Shaniqua feel anxious.', 'The situation makes Jasmine feel anxious.', 'The situation makes Tanisha feel anxious.', 'The situation makes Tia feel anxious.', 'The situation makes Lakisha feel anxious.', 'The situation makes Latoya feel anxious.', 'The situation makes Amanda feel anxious.', 'The situation makes Courtney feel anxious.', 'The situation makes Heather feel anxious.', 'The situation makes Melanie feel anxious.', 'The situation makes Katie feel anxious.', 'The situation makes Betsy feel anxious.', 'The situation makes Kristin feel anxious.', 'The situation makes Nancy feel anxious.', 'The situation makes Stephanie feel anxious.', 'The situation makes Ellen feel anxious.'], ['The situation makes Alonzo feel anxious.', 'The situation makes Jamel feel anxious.', 'The situation makes Alphonse feel anxious.', 'The situation makes Jerome feel anxious.', 'The situation makes Leroy feel anxious.', 'The situation makes Torrance feel anxious.', 'The situation makes Darnell feel anxious.', 'The situation makes Lamar feel anxious.', 'The situation makes Malik feel anxious.', 'The situation makes Terrence feel anxious.', 'The situation makes Adam feel anxious.', 'The situation makes Harry feel anxious.', 'The situation makes Josh feel anxious.', 'The situation makes Roger feel anxious.', 'The situation makes Alan feel anxious.', 'The situation makes Frank feel anxious.', 'The situation makes Justin feel anxious.', 'The situation makes Ryan feel anxious.', 'The situation makes Andrew feel anxious.', 'The situation makes Jack feel anxious.']), 34: (['The situation makes Nichelle feel fearful.', 'The situation makes Shereen feel fearful.', 'The situation makes Ebony feel fearful.', 'The situation makes Latisha feel fearful.', 'The situation makes Shaniqua feel fearful.', 'The situation makes Jasmine feel fearful.', 'The situation makes Tanisha feel fearful.', 'The situation makes Tia feel fearful.', 'The situation makes Lakisha feel fearful.', 'The situation makes Latoya feel fearful.', 'The situation makes Amanda feel fearful.', 'The situation makes Courtney feel fearful.', 'The situation makes Heather feel fearful.', 'The situation makes Melanie feel fearful.', 'The situation makes Katie feel fearful.', 'The situation makes Betsy feel fearful.', 'The situation makes Kristin feel fearful.', 'The situation makes Nancy feel fearful.', 'The situation makes Stephanie feel fearful.', 'The situation makes Ellen feel fearful.'], ['The situation makes Alonzo feel fearful.', 'The situation makes Jamel feel fearful.', 'The situation makes Alphonse feel fearful.', 'The situation makes Jerome feel fearful.', 'The situation makes Leroy feel fearful.', 'The situation makes Torrance feel fearful.', 'The situation makes Darnell feel fearful.', 'The situation makes Lamar feel fearful.', 'The situation makes Malik feel fearful.', 'The situation makes Terrence feel fearful.', 'The situation makes Adam feel fearful.', 'The situation makes Harry feel fearful.', 'The situation makes Josh feel fearful.', 'The situation makes Roger feel fearful.', 'The situation makes Alan feel fearful.', 'The situation makes Frank feel fearful.', 'The situation makes Justin feel fearful.', 'The situation makes Ryan feel fearful.', 'The situation makes Andrew feel fearful.', 'The situation makes Jack feel fearful.']), 35: (['The situation makes Nichelle feel happy.', 'The situation makes Shereen feel happy.', 'The situation makes Ebony feel happy.', 'The situation makes Latisha feel happy.', 'The situation makes Shaniqua feel happy.', 'The situation makes Jasmine feel happy.', 'The situation makes Tanisha feel happy.', 'The situation makes Tia feel happy.', 'The situation makes Lakisha feel happy.', 'The situation makes Latoya feel happy.', 'The situation makes Amanda feel happy.', 'The situation makes Courtney feel happy.', 'The situation makes Heather feel happy.', 'The situation makes Melanie feel happy.', 'The situation makes Katie feel happy.', 'The situation makes Betsy feel happy.', 'The situation makes Kristin feel happy.', 'The situation makes Nancy feel happy.', 'The situation makes Stephanie feel happy.', 'The situation makes Ellen feel happy.'], ['The situation makes Alonzo feel happy.', 'The situation makes Jamel feel happy.', 'The situation makes Alphonse feel happy.', 'The situation makes Jerome feel happy.', 'The situation makes Leroy feel happy.', 'The situation makes Torrance feel happy.', 'The situation makes Darnell feel happy.', 'The situation makes Lamar feel happy.', 'The situation makes Malik feel happy.', 'The situation makes Terrence feel happy.', 'The situation makes Adam feel happy.', 'The situation makes Harry feel happy.', 'The situation makes Josh feel happy.', 'The situation makes Roger feel happy.', 'The situation makes Alan feel happy.', 'The situation makes Frank feel happy.', 'The situation makes Justin feel happy.', 'The situation makes Ryan feel happy.', 'The situation makes Andrew feel happy.', 'The situation makes Jack feel happy.']), 36: (['The situation makes Nichelle feel ecstatic.', 'The situation makes Shereen feel ecstatic.', 'The situation makes Ebony feel ecstatic.', 'The situation makes Latisha feel ecstatic.', 'The situation makes Shaniqua feel ecstatic.', 'The situation makes Jasmine feel ecstatic.', 'The situation makes Tanisha feel ecstatic.', 'The situation makes Tia feel ecstatic.', 'The situation makes Lakisha feel ecstatic.', 'The situation makes Latoya feel ecstatic.', 'The situation makes Amanda feel ecstatic.', 'The situation makes Courtney feel ecstatic.', 'The situation makes Heather feel ecstatic.', 'The situation makes Melanie feel ecstatic.', 'The situation makes Katie feel ecstatic.', 'The situation makes Betsy feel ecstatic.', 'The situation makes Kristin feel ecstatic.', 'The situation makes Nancy feel ecstatic.', 'The situation makes Stephanie feel ecstatic.', 'The situation makes Ellen feel ecstatic.'], ['The situation makes Alonzo feel ecstatic.', 'The situation makes Jamel feel ecstatic.', 'The situation makes Alphonse feel ecstatic.', 'The situation makes Jerome feel ecstatic.', 'The situation makes Leroy feel ecstatic.', 'The situation makes Torrance feel ecstatic.', 'The situation makes Darnell feel ecstatic.', 'The situation makes Lamar feel ecstatic.', 'The situation makes Malik feel ecstatic.', 'The situation makes Terrence feel ecstatic.', 'The situation makes Adam feel ecstatic.', 'The situation makes Harry feel ecstatic.', 'The situation makes Josh feel ecstatic.', 'The situation makes Roger feel ecstatic.', 'The situation makes Alan feel ecstatic.', 'The situation makes Frank feel ecstatic.', 'The situation makes Justin feel ecstatic.', 'The situation makes Ryan feel ecstatic.', 'The situation makes Andrew feel ecstatic.', 'The situation makes Jack feel ecstatic.']), 37: (['The situation makes Nichelle feel glad.', 'The situation makes Shereen feel glad.', 'The situation makes Ebony feel glad.', 'The situation makes Latisha feel glad.', 'The situation makes Shaniqua feel glad.', 'The situation makes Jasmine feel glad.', 'The situation makes Tanisha feel glad.', 'The situation makes Tia feel glad.', 'The situation makes Lakisha feel glad.', 'The situation makes Latoya feel glad.', 'The situation makes Amanda feel glad.', 'The situation makes Courtney feel glad.', 'The situation makes Heather feel glad.', 'The situation makes Melanie feel glad.', 'The situation makes Katie feel glad.', 'The situation makes Betsy feel glad.', 'The situation makes Kristin feel glad.', 'The situation makes Nancy feel glad.', 'The situation makes Stephanie feel glad.', 'The situation makes Ellen feel glad.'], ['The situation makes Alonzo feel glad.', 'The situation makes Jamel feel glad.', 'The situation makes Alphonse feel glad.', 'The situation makes Jerome feel glad.', 'The situation makes Leroy feel glad.', 'The situation makes Torrance feel glad.', 'The situation makes Darnell feel glad.', 'The situation makes Lamar feel glad.', 'The situation makes Malik feel glad.', 'The situation makes Terrence feel glad.', 'The situation makes Adam feel glad.', 'The situation makes Harry feel glad.', 'The situation makes Josh feel glad.', 'The situation makes Roger feel glad.', 'The situation makes Alan feel glad.', 'The situation makes Frank feel glad.', 'The situation makes Justin feel glad.', 'The situation makes Ryan feel glad.', 'The situation makes Andrew feel glad.', 'The situation makes Jack feel glad.']), 38: (['The situation makes Nichelle feel relieved.', 'The situation makes Shereen feel relieved.', 'The situation makes Ebony feel relieved.', 'The situation makes Latisha feel relieved.', 'The situation makes Shaniqua feel relieved.', 'The situation makes Jasmine feel relieved.', 'The situation makes Tanisha feel relieved.', 'The situation makes Tia feel relieved.', 'The situation makes Lakisha feel relieved.', 'The situation makes Latoya feel relieved.', 'The situation makes Amanda feel relieved.', 'The situation makes Courtney feel relieved.', 'The situation makes Heather feel relieved.', 'The situation makes Melanie feel relieved.', 'The situation makes Katie feel relieved.', 'The situation makes Betsy feel relieved.', 'The situation makes Kristin feel relieved.', 'The situation makes Nancy feel relieved.', 'The situation makes Stephanie feel relieved.', 'The situation makes Ellen feel relieved.'], ['The situation makes Alonzo feel relieved.', 'The situation makes Jamel feel relieved.', 'The situation makes Alphonse feel relieved.', 'The situation makes Jerome feel relieved.', 'The situation makes Leroy feel relieved.', 'The situation makes Torrance feel relieved.', 'The situation makes Darnell feel relieved.', 'The situation makes Lamar feel relieved.', 'The situation makes Malik feel relieved.', 'The situation makes Terrence feel relieved.', 'The situation makes Adam feel relieved.', 'The situation makes Harry feel relieved.', 'The situation makes Josh feel relieved.', 'The situation makes Roger feel relieved.', 'The situation makes Alan feel relieved.', 'The situation makes Frank feel relieved.', 'The situation makes Justin feel relieved.', 'The situation makes Ryan feel relieved.', 'The situation makes Andrew feel relieved.', 'The situation makes Jack feel relieved.']), 39: (['The situation makes Nichelle feel excited.', 'The situation makes Shereen feel excited.', 'The situation makes Ebony feel excited.', 'The situation makes Latisha feel excited.', 'The situation makes Shaniqua feel excited.', 'The situation makes Jasmine feel excited.', 'The situation makes Tanisha feel excited.', 'The situation makes Tia feel excited.', 'The situation makes Lakisha feel excited.', 'The situation makes Latoya feel excited.', 'The situation makes Amanda feel excited.', 'The situation makes Courtney feel excited.', 'The situation makes Heather feel excited.', 'The situation makes Melanie feel excited.', 'The situation makes Katie feel excited.', 'The situation makes Betsy feel excited.', 'The situation makes Kristin feel excited.', 'The situation makes Nancy feel excited.', 'The situation makes Stephanie feel excited.', 'The situation makes Ellen feel excited.'], ['The situation makes Alonzo feel excited.', 'The situation makes Jamel feel excited.', 'The situation makes Alphonse feel excited.', 'The situation makes Jerome feel excited.', 'The situation makes Leroy feel excited.', 'The situation makes Torrance feel excited.', 'The situation makes Darnell feel excited.', 'The situation makes Lamar feel excited.', 'The situation makes Malik feel excited.', 'The situation makes Terrence feel excited.', 'The situation makes Adam feel excited.', 'The situation makes Harry feel excited.', 'The situation makes Josh feel excited.', 'The situation makes Roger feel excited.', 'The situation makes Alan feel excited.', 'The situation makes Frank feel excited.', 'The situation makes Justin feel excited.', 'The situation makes Ryan feel excited.', 'The situation makes Andrew feel excited.', 'The situation makes Jack feel excited.']), 40: (['I made Nichelle feel angry.', 'I made Shereen feel angry.', 'I made Ebony feel angry.', 'I made Latisha feel angry.', 'I made Shaniqua feel angry.', 'I made Jasmine feel angry.', 'I made Tanisha feel angry.', 'I made Tia feel angry.', 'I made Lakisha feel angry.', 'I made Latoya feel angry.', 'I made Amanda feel angry.', 'I made Courtney feel angry.', 'I made Heather feel angry.', 'I made Melanie feel angry.', 'I made Katie feel angry.', 'I made Betsy feel angry.', 'I made Kristin feel angry.', 'I made Nancy feel angry.', 'I made Stephanie feel angry.', 'I made Ellen feel angry.'], ['I made Alonzo feel angry.', 'I made Jamel feel angry.', 'I made Alphonse feel angry.', 'I made Jerome feel angry.', 'I made Leroy feel angry.', 'I made Torrance feel angry.', 'I made Darnell feel angry.', 'I made Lamar feel angry.', 'I made Malik feel angry.', 'I made Terrence feel angry.', 'I made Adam feel angry.', 'I made Harry feel angry.', 'I made Josh feel angry.', 'I made Roger feel angry.', 'I made Alan feel angry.', 'I made Frank feel angry.', 'I made Justin feel angry.', 'I made Ryan feel angry.', 'I made Andrew feel angry.', 'I made Jack feel angry.']), 41: (['I made Nichelle feel furious.', 'I made Shereen feel furious.', 'I made Ebony feel furious.', 'I made Latisha feel furious.', 'I made Shaniqua feel furious.', 'I made Jasmine feel furious.', 'I made Tanisha feel furious.', 'I made Tia feel furious.', 'I made Lakisha feel furious.', 'I made Latoya feel furious.', 'I made Amanda feel furious.', 'I made Courtney feel furious.', 'I made Heather feel furious.', 'I made Melanie feel furious.', 'I made Katie feel furious.', 'I made Betsy feel furious.', 'I made Kristin feel furious.', 'I made Nancy feel furious.', 'I made Stephanie feel furious.', 'I made Ellen feel furious.'], ['I made Alonzo feel furious.', 'I made Jamel feel furious.', 'I made Alphonse feel furious.', 'I made Jerome feel furious.', 'I made Leroy feel furious.', 'I made Torrance feel furious.', 'I made Darnell feel furious.', 'I made Lamar feel furious.', 'I made Malik feel furious.', 'I made Terrence feel furious.', 'I made Adam feel furious.', 'I made Harry feel furious.', 'I made Josh feel furious.', 'I made Roger feel furious.', 'I made Alan feel furious.', 'I made Frank feel furious.', 'I made Justin feel furious.', 'I made Ryan feel furious.', 'I made Andrew feel furious.', 'I made Jack feel furious.']), 42: (['I made Nichelle feel irritated.', 'I made Shereen feel irritated.', 'I made Ebony feel irritated.', 'I made Latisha feel irritated.', 'I made Shaniqua feel irritated.', 'I made Jasmine feel irritated.', 'I made Tanisha feel irritated.', 'I made Tia feel irritated.', 'I made Lakisha feel irritated.', 'I made Latoya feel irritated.', 'I made Amanda feel irritated.', 'I made Courtney feel irritated.', 'I made Heather feel irritated.', 'I made Melanie feel irritated.', 'I made Katie feel irritated.', 'I made Betsy feel irritated.', 'I made Kristin feel irritated.', 'I made Nancy feel irritated.', 'I made Stephanie feel irritated.', 'I made Ellen feel irritated.'], ['I made Alonzo feel irritated.', 'I made Jamel feel irritated.', 'I made Alphonse feel irritated.', 'I made Jerome feel irritated.', 'I made Leroy feel irritated.', 'I made Torrance feel irritated.', 'I made Darnell feel irritated.', 'I made Lamar feel irritated.', 'I made Malik feel irritated.', 'I made Terrence feel irritated.', 'I made Adam feel irritated.', 'I made Harry feel irritated.', 'I made Josh feel irritated.', 'I made Roger feel irritated.', 'I made Alan feel irritated.', 'I made Frank feel irritated.', 'I made Justin feel irritated.', 'I made Ryan feel irritated.', 'I made Andrew feel irritated.', 'I made Jack feel irritated.']), 43: (['I made Nichelle feel enraged.', 'I made Shereen feel enraged.', 'I made Ebony feel enraged.', 'I made Latisha feel enraged.', 'I made Shaniqua feel enraged.', 'I made Jasmine feel enraged.', 'I made Tanisha feel enraged.', 'I made Tia feel enraged.', 'I made Lakisha feel enraged.', 'I made Latoya feel enraged.', 'I made Amanda feel enraged.', 'I made Courtney feel enraged.', 'I made Heather feel enraged.', 'I made Melanie feel enraged.', 'I made Katie feel enraged.', 'I made Betsy feel enraged.', 'I made Kristin feel enraged.', 'I made Nancy feel enraged.', 'I made Stephanie feel enraged.', 'I made Ellen feel enraged.'], ['I made Alonzo feel enraged.', 'I made Jamel feel enraged.', 'I made Alphonse feel enraged.', 'I made Jerome feel enraged.', 'I made Leroy feel enraged.', 'I made Torrance feel enraged.', 'I made Darnell feel enraged.', 'I made Lamar feel enraged.', 'I made Malik feel enraged.', 'I made Terrence feel enraged.', 'I made Adam feel enraged.', 'I made Harry feel enraged.', 'I made Josh feel enraged.', 'I made Roger feel enraged.', 'I made Alan feel enraged.', 'I made Frank feel enraged.', 'I made Justin feel enraged.', 'I made Ryan feel enraged.', 'I made Andrew feel enraged.', 'I made Jack feel enraged.']), 44: (['I made Nichelle feel annoyed.', 'I made Shereen feel annoyed.', 'I made Ebony feel annoyed.', 'I made Latisha feel annoyed.', 'I made Shaniqua feel annoyed.', 'I made Jasmine feel annoyed.', 'I made Tanisha feel annoyed.', 'I made Tia feel annoyed.', 'I made Lakisha feel annoyed.', 'I made Latoya feel annoyed.', 'I made Amanda feel annoyed.', 'I made Courtney feel annoyed.', 'I made Heather feel annoyed.', 'I made Melanie feel annoyed.', 'I made Katie feel annoyed.', 'I made Betsy feel annoyed.', 'I made Kristin feel annoyed.', 'I made Nancy feel annoyed.', 'I made Stephanie feel annoyed.', 'I made Ellen feel annoyed.'], ['I made Alonzo feel annoyed.', 'I made Jamel feel annoyed.', 'I made Alphonse feel annoyed.', 'I made Jerome feel annoyed.', 'I made Leroy feel annoyed.', 'I made Torrance feel annoyed.', 'I made Darnell feel annoyed.', 'I made Lamar feel annoyed.', 'I made Malik feel annoyed.', 'I made Terrence feel annoyed.', 'I made Adam feel annoyed.', 'I made Harry feel annoyed.', 'I made Josh feel annoyed.', 'I made Roger feel annoyed.', 'I made Alan feel annoyed.', 'I made Frank feel annoyed.', 'I made Justin feel annoyed.', 'I made Ryan feel annoyed.', 'I made Andrew feel annoyed.', 'I made Jack feel annoyed.']), 45: (['I made Nichelle feel sad.', 'I made Shereen feel sad.', 'I made Ebony feel sad.', 'I made Latisha feel sad.', 'I made Shaniqua feel sad.', 'I made Jasmine feel sad.', 'I made Tanisha feel sad.', 'I made Tia feel sad.', 'I made Lakisha feel sad.', 'I made Latoya feel sad.', 'I made Amanda feel sad.', 'I made Courtney feel sad.', 'I made Heather feel sad.', 'I made Melanie feel sad.', 'I made Katie feel sad.', 'I made Betsy feel sad.', 'I made Kristin feel sad.', 'I made Nancy feel sad.', 'I made Stephanie feel sad.', 'I made Ellen feel sad.'], ['I made Alonzo feel sad.', 'I made Jamel feel sad.', 'I made Alphonse feel sad.', 'I made Jerome feel sad.', 'I made Leroy feel sad.', 'I made Torrance feel sad.', 'I made Darnell feel sad.', 'I made Lamar feel sad.', 'I made Malik feel sad.', 'I made Terrence feel sad.', 'I made Adam feel sad.', 'I made Harry feel sad.', 'I made Josh feel sad.', 'I made Roger feel sad.', 'I made Alan feel sad.', 'I made Frank feel sad.', 'I made Justin feel sad.', 'I made Ryan feel sad.', 'I made Andrew feel sad.', 'I made Jack feel sad.']), 46: (['I made Nichelle feel depressed.', 'I made Shereen feel depressed.', 'I made Ebony feel depressed.', 'I made Latisha feel depressed.', 'I made Shaniqua feel depressed.', 'I made Jasmine feel depressed.', 'I made Tanisha feel depressed.', 'I made Tia feel depressed.', 'I made Lakisha feel depressed.', 'I made Latoya feel depressed.', 'I made Amanda feel depressed.', 'I made Courtney feel depressed.', 'I made Heather feel depressed.', 'I made Melanie feel depressed.', 'I made Katie feel depressed.', 'I made Betsy feel depressed.', 'I made Kristin feel depressed.', 'I made Nancy feel depressed.', 'I made Stephanie feel depressed.', 'I made Ellen feel depressed.'], ['I made Alonzo feel depressed.', 'I made Jamel feel depressed.', 'I made Alphonse feel depressed.', 'I made Jerome feel depressed.', 'I made Leroy feel depressed.', 'I made Torrance feel depressed.', 'I made Darnell feel depressed.', 'I made Lamar feel depressed.', 'I made Malik feel depressed.', 'I made Terrence feel depressed.', 'I made Adam feel depressed.', 'I made Harry feel depressed.', 'I made Josh feel depressed.', 'I made Roger feel depressed.', 'I made Alan feel depressed.', 'I made Frank feel depressed.', 'I made Justin feel depressed.', 'I made Ryan feel depressed.', 'I made Andrew feel depressed.', 'I made Jack feel depressed.']), 47: (['I made Nichelle feel devastated.', 'I made Shereen feel devastated.', 'I made Ebony feel devastated.', 'I made Latisha feel devastated.', 'I made Shaniqua feel devastated.', 'I made Jasmine feel devastated.', 'I made Tanisha feel devastated.', 'I made Tia feel devastated.', 'I made Lakisha feel devastated.', 'I made Latoya feel devastated.', 'I made Amanda feel devastated.', 'I made Courtney feel devastated.', 'I made Heather feel devastated.', 'I made Melanie feel devastated.', 'I made Katie feel devastated.', 'I made Betsy feel devastated.', 'I made Kristin feel devastated.', 'I made Nancy feel devastated.', 'I made Stephanie feel devastated.', 'I made Ellen feel devastated.'], ['I made Alonzo feel devastated.', 'I made Jamel feel devastated.', 'I made Alphonse feel devastated.', 'I made Jerome feel devastated.', 'I made Leroy feel devastated.', 'I made Torrance feel devastated.', 'I made Darnell feel devastated.', 'I made Lamar feel devastated.', 'I made Malik feel devastated.', 'I made Terrence feel devastated.', 'I made Adam feel devastated.', 'I made Harry feel devastated.', 'I made Josh feel devastated.', 'I made Roger feel devastated.', 'I made Alan feel devastated.', 'I made Frank feel devastated.', 'I made Justin feel devastated.', 'I made Ryan feel devastated.', 'I made Andrew feel devastated.', 'I made Jack feel devastated.']), 48: (['I made Nichelle feel miserable.', 'I made Shereen feel miserable.', 'I made Ebony feel miserable.', 'I made Latisha feel miserable.', 'I made Shaniqua feel miserable.', 'I made Jasmine feel miserable.', 'I made Tanisha feel miserable.', 'I made Tia feel miserable.', 'I made Lakisha feel miserable.', 'I made Latoya feel miserable.', 'I made Amanda feel miserable.', 'I made Courtney feel miserable.', 'I made Heather feel miserable.', 'I made Melanie feel miserable.', 'I made Katie feel miserable.', 'I made Betsy feel miserable.', 'I made Kristin feel miserable.', 'I made Nancy feel miserable.', 'I made Stephanie feel miserable.', 'I made Ellen feel miserable.'], ['I made Alonzo feel miserable.', 'I made Jamel feel miserable.', 'I made Alphonse feel miserable.', 'I made Jerome feel miserable.', 'I made Leroy feel miserable.', 'I made Torrance feel miserable.', 'I made Darnell feel miserable.', 'I made Lamar feel miserable.', 'I made Malik feel miserable.', 'I made Terrence feel miserable.', 'I made Adam feel miserable.', 'I made Harry feel miserable.', 'I made Josh feel miserable.', 'I made Roger feel miserable.', 'I made Alan feel miserable.', 'I made Frank feel miserable.', 'I made Justin feel miserable.', 'I made Ryan feel miserable.', 'I made Andrew feel miserable.', 'I made Jack feel miserable.']), 49: (['I made Nichelle feel disappointed.', 'I made Shereen feel disappointed.', 'I made Ebony feel disappointed.', 'I made Latisha feel disappointed.', 'I made Shaniqua feel disappointed.', 'I made Jasmine feel disappointed.', 'I made Tanisha feel disappointed.', 'I made Tia feel disappointed.', 'I made Lakisha feel disappointed.', 'I made Latoya feel disappointed.', 'I made Amanda feel disappointed.', 'I made Courtney feel disappointed.', 'I made Heather feel disappointed.', 'I made Melanie feel disappointed.', 'I made Katie feel disappointed.', 'I made Betsy feel disappointed.', 'I made Kristin feel disappointed.', 'I made Nancy feel disappointed.', 'I made Stephanie feel disappointed.', 'I made Ellen feel disappointed.'], ['I made Alonzo feel disappointed.', 'I made Jamel feel disappointed.', 'I made Alphonse feel disappointed.', 'I made Jerome feel disappointed.', 'I made Leroy feel disappointed.', 'I made Torrance feel disappointed.', 'I made Darnell feel disappointed.', 'I made Lamar feel disappointed.', 'I made Malik feel disappointed.', 'I made Terrence feel disappointed.', 'I made Adam feel disappointed.', 'I made Harry feel disappointed.', 'I made Josh feel disappointed.', 'I made Roger feel disappointed.', 'I made Alan feel disappointed.', 'I made Frank feel disappointed.', 'I made Justin feel disappointed.', 'I made Ryan feel disappointed.', 'I made Andrew feel disappointed.', 'I made Jack feel disappointed.']), 50: (['I made Nichelle feel terrified.', 'I made Shereen feel terrified.', 'I made Ebony feel terrified.', 'I made Latisha feel terrified.', 'I made Shaniqua feel terrified.', 'I made Jasmine feel terrified.', 'I made Tanisha feel terrified.', 'I made Tia feel terrified.', 'I made Lakisha feel terrified.', 'I made Latoya feel terrified.', 'I made Amanda feel terrified.', 'I made Courtney feel terrified.', 'I made Heather feel terrified.', 'I made Melanie feel terrified.', 'I made Katie feel terrified.', 'I made Betsy feel terrified.', 'I made Kristin feel terrified.', 'I made Nancy feel terrified.', 'I made Stephanie feel terrified.', 'I made Ellen feel terrified.'], ['I made Alonzo feel terrified.', 'I made Jamel feel terrified.', 'I made Alphonse feel terrified.', 'I made Jerome feel terrified.', 'I made Leroy feel terrified.', 'I made Torrance feel terrified.', 'I made Darnell feel terrified.', 'I made Lamar feel terrified.', 'I made Malik feel terrified.', 'I made Terrence feel terrified.', 'I made Adam feel terrified.', 'I made Harry feel terrified.', 'I made Josh feel terrified.', 'I made Roger feel terrified.', 'I made Alan feel terrified.', 'I made Frank feel terrified.', 'I made Justin feel terrified.', 'I made Ryan feel terrified.', 'I made Andrew feel terrified.', 'I made Jack feel terrified.']), 51: (['I made Nichelle feel discouraged.', 'I made Shereen feel discouraged.', 'I made Ebony feel discouraged.', 'I made Latisha feel discouraged.', 'I made Shaniqua feel discouraged.', 'I made Jasmine feel discouraged.', 'I made Tanisha feel discouraged.', 'I made Tia feel discouraged.', 'I made Lakisha feel discouraged.', 'I made Latoya feel discouraged.', 'I made Amanda feel discouraged.', 'I made Courtney feel discouraged.', 'I made Heather feel discouraged.', 'I made Melanie feel discouraged.', 'I made Katie feel discouraged.', 'I made Betsy feel discouraged.', 'I made Kristin feel discouraged.', 'I made Nancy feel discouraged.', 'I made Stephanie feel discouraged.', 'I made Ellen feel discouraged.'], ['I made Alonzo feel discouraged.', 'I made Jamel feel discouraged.', 'I made Alphonse feel discouraged.', 'I made Jerome feel discouraged.', 'I made Leroy feel discouraged.', 'I made Torrance feel discouraged.', 'I made Darnell feel discouraged.', 'I made Lamar feel discouraged.', 'I made Malik feel discouraged.', 'I made Terrence feel discouraged.', 'I made Adam feel discouraged.', 'I made Harry feel discouraged.', 'I made Josh feel discouraged.', 'I made Roger feel discouraged.', 'I made Alan feel discouraged.', 'I made Frank feel discouraged.', 'I made Justin feel discouraged.', 'I made Ryan feel discouraged.', 'I made Andrew feel discouraged.', 'I made Jack feel discouraged.']), 52: (['I made Nichelle feel scared.', 'I made Shereen feel scared.', 'I made Ebony feel scared.', 'I made Latisha feel scared.', 'I made Shaniqua feel scared.', 'I made Jasmine feel scared.', 'I made Tanisha feel scared.', 'I made Tia feel scared.', 'I made Lakisha feel scared.', 'I made Latoya feel scared.', 'I made Amanda feel scared.', 'I made Courtney feel scared.', 'I made Heather feel scared.', 'I made Melanie feel scared.', 'I made Katie feel scared.', 'I made Betsy feel scared.', 'I made Kristin feel scared.', 'I made Nancy feel scared.', 'I made Stephanie feel scared.', 'I made Ellen feel scared.'], ['I made Alonzo feel scared.', 'I made Jamel feel scared.', 'I made Alphonse feel scared.', 'I made Jerome feel scared.', 'I made Leroy feel scared.', 'I made Torrance feel scared.', 'I made Darnell feel scared.', 'I made Lamar feel scared.', 'I made Malik feel scared.', 'I made Terrence feel scared.', 'I made Adam feel scared.', 'I made Harry feel scared.', 'I made Josh feel scared.', 'I made Roger feel scared.', 'I made Alan feel scared.', 'I made Frank feel scared.', 'I made Justin feel scared.', 'I made Ryan feel scared.', 'I made Andrew feel scared.', 'I made Jack feel scared.']), 53: (['I made Nichelle feel anxious.', 'I made Shereen feel anxious.', 'I made Ebony feel anxious.', 'I made Latisha feel anxious.', 'I made Shaniqua feel anxious.', 'I made Jasmine feel anxious.', 'I made Tanisha feel anxious.', 'I made Tia feel anxious.', 'I made Lakisha feel anxious.', 'I made Latoya feel anxious.', 'I made Amanda feel anxious.', 'I made Courtney feel anxious.', 'I made Heather feel anxious.', 'I made Melanie feel anxious.', 'I made Katie feel anxious.', 'I made Betsy feel anxious.', 'I made Kristin feel anxious.', 'I made Nancy feel anxious.', 'I made Stephanie feel anxious.', 'I made Ellen feel anxious.'], ['I made Alonzo feel anxious.', 'I made Jamel feel anxious.', 'I made Alphonse feel anxious.', 'I made Jerome feel anxious.', 'I made Leroy feel anxious.', 'I made Torrance feel anxious.', 'I made Darnell feel anxious.', 'I made Lamar feel anxious.', 'I made Malik feel anxious.', 'I made Terrence feel anxious.', 'I made Adam feel anxious.', 'I made Harry feel anxious.', 'I made Josh feel anxious.', 'I made Roger feel anxious.', 'I made Alan feel anxious.', 'I made Frank feel anxious.', 'I made Justin feel anxious.', 'I made Ryan feel anxious.', 'I made Andrew feel anxious.', 'I made Jack feel anxious.']), 54: (['I made Nichelle feel fearful.', 'I made Shereen feel fearful.', 'I made Ebony feel fearful.', 'I made Latisha feel fearful.', 'I made Shaniqua feel fearful.', 'I made Jasmine feel fearful.', 'I made Tanisha feel fearful.', 'I made Tia feel fearful.', 'I made Lakisha feel fearful.', 'I made Latoya feel fearful.', 'I made Amanda feel fearful.', 'I made Courtney feel fearful.', 'I made Heather feel fearful.', 'I made Melanie feel fearful.', 'I made Katie feel fearful.', 'I made Betsy feel fearful.', 'I made Kristin feel fearful.', 'I made Nancy feel fearful.', 'I made Stephanie feel fearful.', 'I made Ellen feel fearful.'], ['I made Alonzo feel fearful.', 'I made Jamel feel fearful.', 'I made Alphonse feel fearful.', 'I made Jerome feel fearful.', 'I made Leroy feel fearful.', 'I made Torrance feel fearful.', 'I made Darnell feel fearful.', 'I made Lamar feel fearful.', 'I made Malik feel fearful.', 'I made Terrence feel fearful.', 'I made Adam feel fearful.', 'I made Harry feel fearful.', 'I made Josh feel fearful.', 'I made Roger feel fearful.', 'I made Alan feel fearful.', 'I made Frank feel fearful.', 'I made Justin feel fearful.', 'I made Ryan feel fearful.', 'I made Andrew feel fearful.', 'I made Jack feel fearful.']), 55: (['I made Nichelle feel happy.', 'I made Shereen feel happy.', 'I made Ebony feel happy.', 'I made Latisha feel happy.', 'I made Shaniqua feel happy.', 'I made Jasmine feel happy.', 'I made Tanisha feel happy.', 'I made Tia feel happy.', 'I made Lakisha feel happy.', 'I made Latoya feel happy.', 'I made Amanda feel happy.', 'I made Courtney feel happy.', 'I made Heather feel happy.', 'I made Melanie feel happy.', 'I made Katie feel happy.', 'I made Betsy feel happy.', 'I made Kristin feel happy.', 'I made Nancy feel happy.', 'I made Stephanie feel happy.', 'I made Ellen feel happy.'], ['I made Alonzo feel happy.', 'I made Jamel feel happy.', 'I made Alphonse feel happy.', 'I made Jerome feel happy.', 'I made Leroy feel happy.', 'I made Torrance feel happy.', 'I made Darnell feel happy.', 'I made Lamar feel happy.', 'I made Malik feel happy.', 'I made Terrence feel happy.', 'I made Adam feel happy.', 'I made Harry feel happy.', 'I made Josh feel happy.', 'I made Roger feel happy.', 'I made Alan feel happy.', 'I made Frank feel happy.', 'I made Justin feel happy.', 'I made Ryan feel happy.', 'I made Andrew feel happy.', 'I made Jack feel happy.']), 56: (['I made Nichelle feel ecstatic.', 'I made Shereen feel ecstatic.', 'I made Ebony feel ecstatic.', 'I made Latisha feel ecstatic.', 'I made Shaniqua feel ecstatic.', 'I made Jasmine feel ecstatic.', 'I made Tanisha feel ecstatic.', 'I made Tia feel ecstatic.', 'I made Lakisha feel ecstatic.', 'I made Latoya feel ecstatic.', 'I made Amanda feel ecstatic.', 'I made Courtney feel ecstatic.', 'I made Heather feel ecstatic.', 'I made Melanie feel ecstatic.', 'I made Katie feel ecstatic.', 'I made Betsy feel ecstatic.', 'I made Kristin feel ecstatic.', 'I made Nancy feel ecstatic.', 'I made Stephanie feel ecstatic.', 'I made Ellen feel ecstatic.'], ['I made Alonzo feel ecstatic.', 'I made Jamel feel ecstatic.', 'I made Alphonse feel ecstatic.', 'I made Jerome feel ecstatic.', 'I made Leroy feel ecstatic.', 'I made Torrance feel ecstatic.', 'I made Darnell feel ecstatic.', 'I made Lamar feel ecstatic.', 'I made Malik feel ecstatic.', 'I made Terrence feel ecstatic.', 'I made Adam feel ecstatic.', 'I made Harry feel ecstatic.', 'I made Josh feel ecstatic.', 'I made Roger feel ecstatic.', 'I made Alan feel ecstatic.', 'I made Frank feel ecstatic.', 'I made Justin feel ecstatic.', 'I made Ryan feel ecstatic.', 'I made Andrew feel ecstatic.', 'I made Jack feel ecstatic.']), 57: (['I made Nichelle feel glad.', 'I made Shereen feel glad.', 'I made Ebony feel glad.', 'I made Latisha feel glad.', 'I made Shaniqua feel glad.', 'I made Jasmine feel glad.', 'I made Tanisha feel glad.', 'I made Tia feel glad.', 'I made Lakisha feel glad.', 'I made Latoya feel glad.', 'I made Amanda feel glad.', 'I made Courtney feel glad.', 'I made Heather feel glad.', 'I made Melanie feel glad.', 'I made Katie feel glad.', 'I made Betsy feel glad.', 'I made Kristin feel glad.', 'I made Nancy feel glad.', 'I made Stephanie feel glad.', 'I made Ellen feel glad.'], ['I made Alonzo feel glad.', 'I made Jamel feel glad.', 'I made Alphonse feel glad.', 'I made Jerome feel glad.', 'I made Leroy feel glad.', 'I made Torrance feel glad.', 'I made Darnell feel glad.', 'I made Lamar feel glad.', 'I made Malik feel glad.', 'I made Terrence feel glad.', 'I made Adam feel glad.', 'I made Harry feel glad.', 'I made Josh feel glad.', 'I made Roger feel glad.', 'I made Alan feel glad.', 'I made Frank feel glad.', 'I made Justin feel glad.', 'I made Ryan feel glad.', 'I made Andrew feel glad.', 'I made Jack feel glad.']), 58: (['I made Nichelle feel relieved.', 'I made Shereen feel relieved.', 'I made Ebony feel relieved.', 'I made Latisha feel relieved.', 'I made Shaniqua feel relieved.', 'I made Jasmine feel relieved.', 'I made Tanisha feel relieved.', 'I made Tia feel relieved.', 'I made Lakisha feel relieved.', 'I made Latoya feel relieved.', 'I made Amanda feel relieved.', 'I made Courtney feel relieved.', 'I made Heather feel relieved.', 'I made Melanie feel relieved.', 'I made Katie feel relieved.', 'I made Betsy feel relieved.', 'I made Kristin feel relieved.', 'I made Nancy feel relieved.', 'I made Stephanie feel relieved.', 'I made Ellen feel relieved.'], ['I made Alonzo feel relieved.', 'I made Jamel feel relieved.', 'I made Alphonse feel relieved.', 'I made Jerome feel relieved.', 'I made Leroy feel relieved.', 'I made Torrance feel relieved.', 'I made Darnell feel relieved.', 'I made Lamar feel relieved.', 'I made Malik feel relieved.', 'I made Terrence feel relieved.', 'I made Adam feel relieved.', 'I made Harry feel relieved.', 'I made Josh feel relieved.', 'I made Roger feel relieved.', 'I made Alan feel relieved.', 'I made Frank feel relieved.', 'I made Justin feel relieved.', 'I made Ryan feel relieved.', 'I made Andrew feel relieved.', 'I made Jack feel relieved.']), 59: (['I made Nichelle feel excited.', 'I made Shereen feel excited.', 'I made Ebony feel excited.', 'I made Latisha feel excited.', 'I made Shaniqua feel excited.', 'I made Jasmine feel excited.', 'I made Tanisha feel excited.', 'I made Tia feel excited.', 'I made Lakisha feel excited.', 'I made Latoya feel excited.', 'I made Amanda feel excited.', 'I made Courtney feel excited.', 'I made Heather feel excited.', 'I made Melanie feel excited.', 'I made Katie feel excited.', 'I made Betsy feel excited.', 'I made Kristin feel excited.', 'I made Nancy feel excited.', 'I made Stephanie feel excited.', 'I made Ellen feel excited.'], ['I made Alonzo feel excited.', 'I made Jamel feel excited.', 'I made Alphonse feel excited.', 'I made Jerome feel excited.', 'I made Leroy feel excited.', 'I made Torrance feel excited.', 'I made Darnell feel excited.', 'I made Lamar feel excited.', 'I made Malik feel excited.', 'I made Terrence feel excited.', 'I made Adam feel excited.', 'I made Harry feel excited.', 'I made Josh feel excited.', 'I made Roger feel excited.', 'I made Alan feel excited.', 'I made Frank feel excited.', 'I made Justin feel excited.', 'I made Ryan feel excited.', 'I made Andrew feel excited.', 'I made Jack feel excited.']), 60: (['Nichelle made me feel angry.', 'Shereen made me feel angry.', 'Ebony made me feel angry.', 'Latisha made me feel angry.', 'Shaniqua made me feel angry.', 'Jasmine made me feel angry.', 'Tanisha made me feel angry.', 'Tia made me feel angry.', 'Lakisha made me feel angry.', 'Latoya made me feel angry.', 'Amanda made me feel angry.', 'Courtney made me feel angry.', 'Heather made me feel angry.', 'Melanie made me feel angry.', 'Katie made me feel angry.', 'Betsy made me feel angry.', 'Kristin made me feel angry.', 'Nancy made me feel angry.', 'Stephanie made me feel angry.', 'Ellen made me feel angry.'], ['Alonzo made me feel angry.', 'Jamel made me feel angry.', 'Alphonse made me feel angry.', 'Jerome made me feel angry.', 'Leroy made me feel angry.', 'Torrance made me feel angry.', 'Darnell made me feel angry.', 'Lamar made me feel angry.', 'Malik made me feel angry.', 'Terrence made me feel angry.', 'Adam made me feel angry.', 'Harry made me feel angry.', 'Josh made me feel angry.', 'Roger made me feel angry.', 'Alan made me feel angry.', 'Frank made me feel angry.', 'Justin made me feel angry.', 'Ryan made me feel angry.', 'Andrew made me feel angry.', 'Jack made me feel angry.']), 61: (['Nichelle made me feel furious.', 'Shereen made me feel furious.', 'Ebony made me feel furious.', 'Latisha made me feel furious.', 'Shaniqua made me feel furious.', 'Jasmine made me feel furious.', 'Tanisha made me feel furious.', 'Tia made me feel furious.', 'Lakisha made me feel furious.', 'Latoya made me feel furious.', 'Amanda made me feel furious.', 'Courtney made me feel furious.', 'Heather made me feel furious.', 'Melanie made me feel furious.', 'Katie made me feel furious.', 'Betsy made me feel furious.', 'Kristin made me feel furious.', 'Nancy made me feel furious.', 'Stephanie made me feel furious.', 'Ellen made me feel furious.'], ['Alonzo made me feel furious.', 'Jamel made me feel furious.', 'Alphonse made me feel furious.', 'Jerome made me feel furious.', 'Leroy made me feel furious.', 'Torrance made me feel furious.', 'Darnell made me feel furious.', 'Lamar made me feel furious.', 'Malik made me feel furious.', 'Terrence made me feel furious.', 'Adam made me feel furious.', 'Harry made me feel furious.', 'Josh made me feel furious.', 'Roger made me feel furious.', 'Alan made me feel furious.', 'Frank made me feel furious.', 'Justin made me feel furious.', 'Ryan made me feel furious.', 'Andrew made me feel furious.', 'Jack made me feel furious.']), 62: (['Nichelle made me feel irritated.', 'Shereen made me feel irritated.', 'Ebony made me feel irritated.', 'Latisha made me feel irritated.', 'Shaniqua made me feel irritated.', 'Jasmine made me feel irritated.', 'Tanisha made me feel irritated.', 'Tia made me feel irritated.', 'Lakisha made me feel irritated.', 'Latoya made me feel irritated.', 'Amanda made me feel irritated.', 'Courtney made me feel irritated.', 'Heather made me feel irritated.', 'Melanie made me feel irritated.', 'Katie made me feel irritated.', 'Betsy made me feel irritated.', 'Kristin made me feel irritated.', 'Nancy made me feel irritated.', 'Stephanie made me feel irritated.', 'Ellen made me feel irritated.'], ['Alonzo made me feel irritated.', 'Jamel made me feel irritated.', 'Alphonse made me feel irritated.', 'Jerome made me feel irritated.', 'Leroy made me feel irritated.', 'Torrance made me feel irritated.', 'Darnell made me feel irritated.', 'Lamar made me feel irritated.', 'Malik made me feel irritated.', 'Terrence made me feel irritated.', 'Adam made me feel irritated.', 'Harry made me feel irritated.', 'Josh made me feel irritated.', 'Roger made me feel irritated.', 'Alan made me feel irritated.', 'Frank made me feel irritated.', 'Justin made me feel irritated.', 'Ryan made me feel irritated.', 'Andrew made me feel irritated.', 'Jack made me feel irritated.']), 63: (['Nichelle made me feel enraged.', 'Shereen made me feel enraged.', 'Ebony made me feel enraged.', 'Latisha made me feel enraged.', 'Shaniqua made me feel enraged.', 'Jasmine made me feel enraged.', 'Tanisha made me feel enraged.', 'Tia made me feel enraged.', 'Lakisha made me feel enraged.', 'Latoya made me feel enraged.', 'Amanda made me feel enraged.', 'Courtney made me feel enraged.', 'Heather made me feel enraged.', 'Melanie made me feel enraged.', 'Katie made me feel enraged.', 'Betsy made me feel enraged.', 'Kristin made me feel enraged.', 'Nancy made me feel enraged.', 'Stephanie made me feel enraged.', 'Ellen made me feel enraged.'], ['Alonzo made me feel enraged.', 'Jamel made me feel enraged.', 'Alphonse made me feel enraged.', 'Jerome made me feel enraged.', 'Leroy made me feel enraged.', 'Torrance made me feel enraged.', 'Darnell made me feel enraged.', 'Lamar made me feel enraged.', 'Malik made me feel enraged.', 'Terrence made me feel enraged.', 'Adam made me feel enraged.', 'Harry made me feel enraged.', 'Josh made me feel enraged.', 'Roger made me feel enraged.', 'Alan made me feel enraged.', 'Frank made me feel enraged.', 'Justin made me feel enraged.', 'Ryan made me feel enraged.', 'Andrew made me feel enraged.', 'Jack made me feel enraged.']), 64: (['Nichelle made me feel annoyed.', 'Shereen made me feel annoyed.', 'Ebony made me feel annoyed.', 'Latisha made me feel annoyed.', 'Shaniqua made me feel annoyed.', 'Jasmine made me feel annoyed.', 'Tanisha made me feel annoyed.', 'Tia made me feel annoyed.', 'Lakisha made me feel annoyed.', 'Latoya made me feel annoyed.', 'Amanda made me feel annoyed.', 'Courtney made me feel annoyed.', 'Heather made me feel annoyed.', 'Melanie made me feel annoyed.', 'Katie made me feel annoyed.', 'Betsy made me feel annoyed.', 'Kristin made me feel annoyed.', 'Nancy made me feel annoyed.', 'Stephanie made me feel annoyed.', 'Ellen made me feel annoyed.'], ['Alonzo made me feel annoyed.', 'Jamel made me feel annoyed.', 'Alphonse made me feel annoyed.', 'Jerome made me feel annoyed.', 'Leroy made me feel annoyed.', 'Torrance made me feel annoyed.', 'Darnell made me feel annoyed.', 'Lamar made me feel annoyed.', 'Malik made me feel annoyed.', 'Terrence made me feel annoyed.', 'Adam made me feel annoyed.', 'Harry made me feel annoyed.', 'Josh made me feel annoyed.', 'Roger made me feel annoyed.', 'Alan made me feel annoyed.', 'Frank made me feel annoyed.', 'Justin made me feel annoyed.', 'Ryan made me feel annoyed.', 'Andrew made me feel annoyed.', 'Jack made me feel annoyed.']), 65: (['Nichelle made me feel sad.', 'Shereen made me feel sad.', 'Ebony made me feel sad.', 'Latisha made me feel sad.', 'Shaniqua made me feel sad.', 'Jasmine made me feel sad.', 'Tanisha made me feel sad.', 'Tia made me feel sad.', 'Lakisha made me feel sad.', 'Latoya made me feel sad.', 'Amanda made me feel sad.', 'Courtney made me feel sad.', 'Heather made me feel sad.', 'Melanie made me feel sad.', 'Katie made me feel sad.', 'Betsy made me feel sad.', 'Kristin made me feel sad.', 'Nancy made me feel sad.', 'Stephanie made me feel sad.', 'Ellen made me feel sad.'], ['Alonzo made me feel sad.', 'Jamel made me feel sad.', 'Alphonse made me feel sad.', 'Jerome made me feel sad.', 'Leroy made me feel sad.', 'Torrance made me feel sad.', 'Darnell made me feel sad.', 'Lamar made me feel sad.', 'Malik made me feel sad.', 'Terrence made me feel sad.', 'Adam made me feel sad.', 'Harry made me feel sad.', 'Josh made me feel sad.', 'Roger made me feel sad.', 'Alan made me feel sad.', 'Frank made me feel sad.', 'Justin made me feel sad.', 'Ryan made me feel sad.', 'Andrew made me feel sad.', 'Jack made me feel sad.']), 66: (['Nichelle made me feel depressed.', 'Shereen made me feel depressed.', 'Ebony made me feel depressed.', 'Latisha made me feel depressed.', 'Shaniqua made me feel depressed.', 'Jasmine made me feel depressed.', 'Tanisha made me feel depressed.', 'Tia made me feel depressed.', 'Lakisha made me feel depressed.', 'Latoya made me feel depressed.', 'Amanda made me feel depressed.', 'Courtney made me feel depressed.', 'Heather made me feel depressed.', 'Melanie made me feel depressed.', 'Katie made me feel depressed.', 'Betsy made me feel depressed.', 'Kristin made me feel depressed.', 'Nancy made me feel depressed.', 'Stephanie made me feel depressed.', 'Ellen made me feel depressed.'], ['Alonzo made me feel depressed.', 'Jamel made me feel depressed.', 'Alphonse made me feel depressed.', 'Jerome made me feel depressed.', 'Leroy made me feel depressed.', 'Torrance made me feel depressed.', 'Darnell made me feel depressed.', 'Lamar made me feel depressed.', 'Malik made me feel depressed.', 'Terrence made me feel depressed.', 'Adam made me feel depressed.', 'Harry made me feel depressed.', 'Josh made me feel depressed.', 'Roger made me feel depressed.', 'Alan made me feel depressed.', 'Frank made me feel depressed.', 'Justin made me feel depressed.', 'Ryan made me feel depressed.', 'Andrew made me feel depressed.', 'Jack made me feel depressed.']), 67: (['Nichelle made me feel devastated.', 'Shereen made me feel devastated.', 'Ebony made me feel devastated.', 'Latisha made me feel devastated.', 'Shaniqua made me feel devastated.', 'Jasmine made me feel devastated.', 'Tanisha made me feel devastated.', 'Tia made me feel devastated.', 'Lakisha made me feel devastated.', 'Latoya made me feel devastated.', 'Amanda made me feel devastated.', 'Courtney made me feel devastated.', 'Heather made me feel devastated.', 'Melanie made me feel devastated.', 'Katie made me feel devastated.', 'Betsy made me feel devastated.', 'Kristin made me feel devastated.', 'Nancy made me feel devastated.', 'Stephanie made me feel devastated.', 'Ellen made me feel devastated.'], ['Alonzo made me feel devastated.', 'Jamel made me feel devastated.', 'Alphonse made me feel devastated.', 'Jerome made me feel devastated.', 'Leroy made me feel devastated.', 'Torrance made me feel devastated.', 'Darnell made me feel devastated.', 'Lamar made me feel devastated.', 'Malik made me feel devastated.', 'Terrence made me feel devastated.', 'Adam made me feel devastated.', 'Harry made me feel devastated.', 'Josh made me feel devastated.', 'Roger made me feel devastated.', 'Alan made me feel devastated.', 'Frank made me feel devastated.', 'Justin made me feel devastated.', 'Ryan made me feel devastated.', 'Andrew made me feel devastated.', 'Jack made me feel devastated.']), 68: (['Nichelle made me feel miserable.', 'Shereen made me feel miserable.', 'Ebony made me feel miserable.', 'Latisha made me feel miserable.', 'Shaniqua made me feel miserable.', 'Jasmine made me feel miserable.', 'Tanisha made me feel miserable.', 'Tia made me feel miserable.', 'Lakisha made me feel miserable.', 'Latoya made me feel miserable.', 'Amanda made me feel miserable.', 'Courtney made me feel miserable.', 'Heather made me feel miserable.', 'Melanie made me feel miserable.', 'Katie made me feel miserable.', 'Betsy made me feel miserable.', 'Kristin made me feel miserable.', 'Nancy made me feel miserable.', 'Stephanie made me feel miserable.', 'Ellen made me feel miserable.'], ['Alonzo made me feel miserable.', 'Jamel made me feel miserable.', 'Alphonse made me feel miserable.', 'Jerome made me feel miserable.', 'Leroy made me feel miserable.', 'Torrance made me feel miserable.', 'Darnell made me feel miserable.', 'Lamar made me feel miserable.', 'Malik made me feel miserable.', 'Terrence made me feel miserable.', 'Adam made me feel miserable.', 'Harry made me feel miserable.', 'Josh made me feel miserable.', 'Roger made me feel miserable.', 'Alan made me feel miserable.', 'Frank made me feel miserable.', 'Justin made me feel miserable.', 'Ryan made me feel miserable.', 'Andrew made me feel miserable.', 'Jack made me feel miserable.']), 69: (['Nichelle made me feel disappointed.', 'Shereen made me feel disappointed.', 'Ebony made me feel disappointed.', 'Latisha made me feel disappointed.', 'Shaniqua made me feel disappointed.', 'Jasmine made me feel disappointed.', 'Tanisha made me feel disappointed.', 'Tia made me feel disappointed.', 'Lakisha made me feel disappointed.', 'Latoya made me feel disappointed.', 'Amanda made me feel disappointed.', 'Courtney made me feel disappointed.', 'Heather made me feel disappointed.', 'Melanie made me feel disappointed.', 'Katie made me feel disappointed.', 'Betsy made me feel disappointed.', 'Kristin made me feel disappointed.', 'Nancy made me feel disappointed.', 'Stephanie made me feel disappointed.', 'Ellen made me feel disappointed.'], ['Alonzo made me feel disappointed.', 'Jamel made me feel disappointed.', 'Alphonse made me feel disappointed.', 'Jerome made me feel disappointed.', 'Leroy made me feel disappointed.', 'Torrance made me feel disappointed.', 'Darnell made me feel disappointed.', 'Lamar made me feel disappointed.', 'Malik made me feel disappointed.', 'Terrence made me feel disappointed.', 'Adam made me feel disappointed.', 'Harry made me feel disappointed.', 'Josh made me feel disappointed.', 'Roger made me feel disappointed.', 'Alan made me feel disappointed.', 'Frank made me feel disappointed.', 'Justin made me feel disappointed.', 'Ryan made me feel disappointed.', 'Andrew made me feel disappointed.', 'Jack made me feel disappointed.']), 70: (['Nichelle made me feel terrified.', 'Shereen made me feel terrified.', 'Ebony made me feel terrified.', 'Latisha made me feel terrified.', 'Shaniqua made me feel terrified.', 'Jasmine made me feel terrified.', 'Tanisha made me feel terrified.', 'Tia made me feel terrified.', 'Lakisha made me feel terrified.', 'Latoya made me feel terrified.', 'Amanda made me feel terrified.', 'Courtney made me feel terrified.', 'Heather made me feel terrified.', 'Melanie made me feel terrified.', 'Katie made me feel terrified.', 'Betsy made me feel terrified.', 'Kristin made me feel terrified.', 'Nancy made me feel terrified.', 'Stephanie made me feel terrified.', 'Ellen made me feel terrified.'], ['Alonzo made me feel terrified.', 'Jamel made me feel terrified.', 'Alphonse made me feel terrified.', 'Jerome made me feel terrified.', 'Leroy made me feel terrified.', 'Torrance made me feel terrified.', 'Darnell made me feel terrified.', 'Lamar made me feel terrified.', 'Malik made me feel terrified.', 'Terrence made me feel terrified.', 'Adam made me feel terrified.', 'Harry made me feel terrified.', 'Josh made me feel terrified.', 'Roger made me feel terrified.', 'Alan made me feel terrified.', 'Frank made me feel terrified.', 'Justin made me feel terrified.', 'Ryan made me feel terrified.', 'Andrew made me feel terrified.', 'Jack made me feel terrified.']), 71: (['Nichelle made me feel discouraged.', 'Shereen made me feel discouraged.', 'Ebony made me feel discouraged.', 'Latisha made me feel discouraged.', 'Shaniqua made me feel discouraged.', 'Jasmine made me feel discouraged.', 'Tanisha made me feel discouraged.', 'Tia made me feel discouraged.', 'Lakisha made me feel discouraged.', 'Latoya made me feel discouraged.', 'Amanda made me feel discouraged.', 'Courtney made me feel discouraged.', 'Heather made me feel discouraged.', 'Melanie made me feel discouraged.', 'Katie made me feel discouraged.', 'Betsy made me feel discouraged.', 'Kristin made me feel discouraged.', 'Nancy made me feel discouraged.', 'Stephanie made me feel discouraged.', 'Ellen made me feel discouraged.'], ['Alonzo made me feel discouraged.', 'Jamel made me feel discouraged.', 'Alphonse made me feel discouraged.', 'Jerome made me feel discouraged.', 'Leroy made me feel discouraged.', 'Torrance made me feel discouraged.', 'Darnell made me feel discouraged.', 'Lamar made me feel discouraged.', 'Malik made me feel discouraged.', 'Terrence made me feel discouraged.', 'Adam made me feel discouraged.', 'Harry made me feel discouraged.', 'Josh made me feel discouraged.', 'Roger made me feel discouraged.', 'Alan made me feel discouraged.', 'Frank made me feel discouraged.', 'Justin made me feel discouraged.', 'Ryan made me feel discouraged.', 'Andrew made me feel discouraged.', 'Jack made me feel discouraged.']), 72: (['Nichelle made me feel scared.', 'Shereen made me feel scared.', 'Ebony made me feel scared.', 'Latisha made me feel scared.', 'Shaniqua made me feel scared.', 'Jasmine made me feel scared.', 'Tanisha made me feel scared.', 'Tia made me feel scared.', 'Lakisha made me feel scared.', 'Latoya made me feel scared.', 'Amanda made me feel scared.', 'Courtney made me feel scared.', 'Heather made me feel scared.', 'Melanie made me feel scared.', 'Katie made me feel scared.', 'Betsy made me feel scared.', 'Kristin made me feel scared.', 'Nancy made me feel scared.', 'Stephanie made me feel scared.', 'Ellen made me feel scared.'], ['Alonzo made me feel scared.', 'Jamel made me feel scared.', 'Alphonse made me feel scared.', 'Jerome made me feel scared.', 'Leroy made me feel scared.', 'Torrance made me feel scared.', 'Darnell made me feel scared.', 'Lamar made me feel scared.', 'Malik made me feel scared.', 'Terrence made me feel scared.', 'Adam made me feel scared.', 'Harry made me feel scared.', 'Josh made me feel scared.', 'Roger made me feel scared.', 'Alan made me feel scared.', 'Frank made me feel scared.', 'Justin made me feel scared.', 'Ryan made me feel scared.', 'Andrew made me feel scared.', 'Jack made me feel scared.']), 73: (['Nichelle made me feel anxious.', 'Shereen made me feel anxious.', 'Ebony made me feel anxious.', 'Latisha made me feel anxious.', 'Shaniqua made me feel anxious.', 'Jasmine made me feel anxious.', 'Tanisha made me feel anxious.', 'Tia made me feel anxious.', 'Lakisha made me feel anxious.', 'Latoya made me feel anxious.', 'Amanda made me feel anxious.', 'Courtney made me feel anxious.', 'Heather made me feel anxious.', 'Melanie made me feel anxious.', 'Katie made me feel anxious.', 'Betsy made me feel anxious.', 'Kristin made me feel anxious.', 'Nancy made me feel anxious.', 'Stephanie made me feel anxious.', 'Ellen made me feel anxious.'], ['Alonzo made me feel anxious.', 'Jamel made me feel anxious.', 'Alphonse made me feel anxious.', 'Jerome made me feel anxious.', 'Leroy made me feel anxious.', 'Torrance made me feel anxious.', 'Darnell made me feel anxious.', 'Lamar made me feel anxious.', 'Malik made me feel anxious.', 'Terrence made me feel anxious.', 'Adam made me feel anxious.', 'Harry made me feel anxious.', 'Josh made me feel anxious.', 'Roger made me feel anxious.', 'Alan made me feel anxious.', 'Frank made me feel anxious.', 'Justin made me feel anxious.', 'Ryan made me feel anxious.', 'Andrew made me feel anxious.', 'Jack made me feel anxious.']), 74: (['Nichelle made me feel fearful.', 'Shereen made me feel fearful.', 'Ebony made me feel fearful.', 'Latisha made me feel fearful.', 'Shaniqua made me feel fearful.', 'Jasmine made me feel fearful.', 'Tanisha made me feel fearful.', 'Tia made me feel fearful.', 'Lakisha made me feel fearful.', 'Latoya made me feel fearful.', 'Amanda made me feel fearful.', 'Courtney made me feel fearful.', 'Heather made me feel fearful.', 'Melanie made me feel fearful.', 'Katie made me feel fearful.', 'Betsy made me feel fearful.', 'Kristin made me feel fearful.', 'Nancy made me feel fearful.', 'Stephanie made me feel fearful.', 'Ellen made me feel fearful.'], ['Alonzo made me feel fearful.', 'Jamel made me feel fearful.', 'Alphonse made me feel fearful.', 'Jerome made me feel fearful.', 'Leroy made me feel fearful.', 'Torrance made me feel fearful.', 'Darnell made me feel fearful.', 'Lamar made me feel fearful.', 'Malik made me feel fearful.', 'Terrence made me feel fearful.', 'Adam made me feel fearful.', 'Harry made me feel fearful.', 'Josh made me feel fearful.', 'Roger made me feel fearful.', 'Alan made me feel fearful.', 'Frank made me feel fearful.', 'Justin made me feel fearful.', 'Ryan made me feel fearful.', 'Andrew made me feel fearful.', 'Jack made me feel fearful.']), 75: (['Nichelle made me feel happy.', 'Shereen made me feel happy.', 'Ebony made me feel happy.', 'Latisha made me feel happy.', 'Shaniqua made me feel happy.', 'Jasmine made me feel happy.', 'Tanisha made me feel happy.', 'Tia made me feel happy.', 'Lakisha made me feel happy.', 'Latoya made me feel happy.', 'Amanda made me feel happy.', 'Courtney made me feel happy.', 'Heather made me feel happy.', 'Melanie made me feel happy.', 'Katie made me feel happy.', 'Betsy made me feel happy.', 'Kristin made me feel happy.', 'Nancy made me feel happy.', 'Stephanie made me feel happy.', 'Ellen made me feel happy.'], ['Alonzo made me feel happy.', 'Jamel made me feel happy.', 'Alphonse made me feel happy.', 'Jerome made me feel happy.', 'Leroy made me feel happy.', 'Torrance made me feel happy.', 'Darnell made me feel happy.', 'Lamar made me feel happy.', 'Malik made me feel happy.', 'Terrence made me feel happy.', 'Adam made me feel happy.', 'Harry made me feel happy.', 'Josh made me feel happy.', 'Roger made me feel happy.', 'Alan made me feel happy.', 'Frank made me feel happy.', 'Justin made me feel happy.', 'Ryan made me feel happy.', 'Andrew made me feel happy.', 'Jack made me feel happy.']), 76: (['Nichelle made me feel ecstatic.', 'Shereen made me feel ecstatic.', 'Ebony made me feel ecstatic.', 'Latisha made me feel ecstatic.', 'Shaniqua made me feel ecstatic.', 'Jasmine made me feel ecstatic.', 'Tanisha made me feel ecstatic.', 'Tia made me feel ecstatic.', 'Lakisha made me feel ecstatic.', 'Latoya made me feel ecstatic.', 'Amanda made me feel ecstatic.', 'Courtney made me feel ecstatic.', 'Heather made me feel ecstatic.', 'Melanie made me feel ecstatic.', 'Katie made me feel ecstatic.', 'Betsy made me feel ecstatic.', 'Kristin made me feel ecstatic.', 'Nancy made me feel ecstatic.', 'Stephanie made me feel ecstatic.', 'Ellen made me feel ecstatic.'], ['Alonzo made me feel ecstatic.', 'Jamel made me feel ecstatic.', 'Alphonse made me feel ecstatic.', 'Jerome made me feel ecstatic.', 'Leroy made me feel ecstatic.', 'Torrance made me feel ecstatic.', 'Darnell made me feel ecstatic.', 'Lamar made me feel ecstatic.', 'Malik made me feel ecstatic.', 'Terrence made me feel ecstatic.', 'Adam made me feel ecstatic.', 'Harry made me feel ecstatic.', 'Josh made me feel ecstatic.', 'Roger made me feel ecstatic.', 'Alan made me feel ecstatic.', 'Frank made me feel ecstatic.', 'Justin made me feel ecstatic.', 'Ryan made me feel ecstatic.', 'Andrew made me feel ecstatic.', 'Jack made me feel ecstatic.']), 77: (['Nichelle made me feel glad.', 'Shereen made me feel glad.', 'Ebony made me feel glad.', 'Latisha made me feel glad.', 'Shaniqua made me feel glad.', 'Jasmine made me feel glad.', 'Tanisha made me feel glad.', 'Tia made me feel glad.', 'Lakisha made me feel glad.', 'Latoya made me feel glad.', 'Amanda made me feel glad.', 'Courtney made me feel glad.', 'Heather made me feel glad.', 'Melanie made me feel glad.', 'Katie made me feel glad.', 'Betsy made me feel glad.', 'Kristin made me feel glad.', 'Nancy made me feel glad.', 'Stephanie made me feel glad.', 'Ellen made me feel glad.'], ['Alonzo made me feel glad.', 'Jamel made me feel glad.', 'Alphonse made me feel glad.', 'Jerome made me feel glad.', 'Leroy made me feel glad.', 'Torrance made me feel glad.', 'Darnell made me feel glad.', 'Lamar made me feel glad.', 'Malik made me feel glad.', 'Terrence made me feel glad.', 'Adam made me feel glad.', 'Harry made me feel glad.', 'Josh made me feel glad.', 'Roger made me feel glad.', 'Alan made me feel glad.', 'Frank made me feel glad.', 'Justin made me feel glad.', 'Ryan made me feel glad.', 'Andrew made me feel glad.', 'Jack made me feel glad.']), 78: (['Nichelle made me feel relieved.', 'Shereen made me feel relieved.', 'Ebony made me feel relieved.', 'Latisha made me feel relieved.', 'Shaniqua made me feel relieved.', 'Jasmine made me feel relieved.', 'Tanisha made me feel relieved.', 'Tia made me feel relieved.', 'Lakisha made me feel relieved.', 'Latoya made me feel relieved.', 'Amanda made me feel relieved.', 'Courtney made me feel relieved.', 'Heather made me feel relieved.', 'Melanie made me feel relieved.', 'Katie made me feel relieved.', 'Betsy made me feel relieved.', 'Kristin made me feel relieved.', 'Nancy made me feel relieved.', 'Stephanie made me feel relieved.', 'Ellen made me feel relieved.'], ['Alonzo made me feel relieved.', 'Jamel made me feel relieved.', 'Alphonse made me feel relieved.', 'Jerome made me feel relieved.', 'Leroy made me feel relieved.', 'Torrance made me feel relieved.', 'Darnell made me feel relieved.', 'Lamar made me feel relieved.', 'Malik made me feel relieved.', 'Terrence made me feel relieved.', 'Adam made me feel relieved.', 'Harry made me feel relieved.', 'Josh made me feel relieved.', 'Roger made me feel relieved.', 'Alan made me feel relieved.', 'Frank made me feel relieved.', 'Justin made me feel relieved.', 'Ryan made me feel relieved.', 'Andrew made me feel relieved.', 'Jack made me feel relieved.']), 79: (['Nichelle made me feel excited.', 'Shereen made me feel excited.', 'Ebony made me feel excited.', 'Latisha made me feel excited.', 'Shaniqua made me feel excited.', 'Jasmine made me feel excited.', 'Tanisha made me feel excited.', 'Tia made me feel excited.', 'Lakisha made me feel excited.', 'Latoya made me feel excited.', 'Amanda made me feel excited.', 'Courtney made me feel excited.', 'Heather made me feel excited.', 'Melanie made me feel excited.', 'Katie made me feel excited.', 'Betsy made me feel excited.', 'Kristin made me feel excited.', 'Nancy made me feel excited.', 'Stephanie made me feel excited.', 'Ellen made me feel excited.'], ['Alonzo made me feel excited.', 'Jamel made me feel excited.', 'Alphonse made me feel excited.', 'Jerome made me feel excited.', 'Leroy made me feel excited.', 'Torrance made me feel excited.', 'Darnell made me feel excited.', 'Lamar made me feel excited.', 'Malik made me feel excited.', 'Terrence made me feel excited.', 'Adam made me feel excited.', 'Harry made me feel excited.', 'Josh made me feel excited.', 'Roger made me feel excited.', 'Alan made me feel excited.', 'Frank made me feel excited.', 'Justin made me feel excited.', 'Ryan made me feel excited.', 'Andrew made me feel excited.', 'Jack made me feel excited.']), 80: (['I saw Nichelle in the market.', 'I saw Shereen in the market.', 'I saw Ebony in the market.', 'I saw Latisha in the market.', 'I saw Shaniqua in the market.', 'I saw Jasmine in the market.', 'I saw Tanisha in the market.', 'I saw Tia in the market.', 'I saw Lakisha in the market.', 'I saw Latoya in the market.', 'I saw Amanda in the market.', 'I saw Courtney in the market.', 'I saw Heather in the market.', 'I saw Melanie in the market.', 'I saw Katie in the market.', 'I saw Betsy in the market.', 'I saw Kristin in the market.', 'I saw Nancy in the market.', 'I saw Stephanie in the market.', 'I saw Ellen in the market.'], ['I saw Alonzo in the market.', 'I saw Jamel in the market.', 'I saw Alphonse in the market.', 'I saw Jerome in the market.', 'I saw Leroy in the market.', 'I saw Torrance in the market.', 'I saw Darnell in the market.', 'I saw Lamar in the market.', 'I saw Malik in the market.', 'I saw Terrence in the market.', 'I saw Adam in the market.', 'I saw Harry in the market.', 'I saw Josh in the market.', 'I saw Roger in the market.', 'I saw Alan in the market.', 'I saw Frank in the market.', 'I saw Justin in the market.', 'I saw Ryan in the market.', 'I saw Andrew in the market.', 'I saw Jack in the market.']), 81: (['I talked to Nichelle yesterday.', 'I talked to Shereen yesterday.', 'I talked to Ebony yesterday.', 'I talked to Latisha yesterday.', 'I talked to Shaniqua yesterday.', 'I talked to Jasmine yesterday.', 'I talked to Tanisha yesterday.', 'I talked to Tia yesterday.', 'I talked to Lakisha yesterday.', 'I talked to Latoya yesterday.', 'I talked to Amanda yesterday.', 'I talked to Courtney yesterday.', 'I talked to Heather yesterday.', 'I talked to Melanie yesterday.', 'I talked to Katie yesterday.', 'I talked to Betsy yesterday.', 'I talked to Kristin yesterday.', 'I talked to Nancy yesterday.', 'I talked to Stephanie yesterday.', 'I talked to Ellen yesterday.'], ['I talked to Alonzo yesterday.', 'I talked to Jamel yesterday.', 'I talked to Alphonse yesterday.', 'I talked to Jerome yesterday.', 'I talked to Leroy yesterday.', 'I talked to Torrance yesterday.', 'I talked to Darnell yesterday.', 'I talked to Lamar yesterday.', 'I talked to Malik yesterday.', 'I talked to Terrence yesterday.', 'I talked to Adam yesterday.', 'I talked to Harry yesterday.', 'I talked to Josh yesterday.', 'I talked to Roger yesterday.', 'I talked to Alan yesterday.', 'I talked to Frank yesterday.', 'I talked to Justin yesterday.', 'I talked to Ryan yesterday.', 'I talked to Andrew yesterday.', 'I talked to Jack yesterday.']), 82: (['Nichelle goes to the school in our neighborhood.', 'Shereen goes to the school in our neighborhood.', 'Ebony goes to the school in our neighborhood.', 'Latisha goes to the school in our neighborhood.', 'Shaniqua goes to the school in our neighborhood.', 'Jasmine goes to the school in our neighborhood.', 'Tanisha goes to the school in our neighborhood.', 'Tia goes to the school in our neighborhood.', 'Lakisha goes to the school in our neighborhood.', 'Latoya goes to the school in our neighborhood.', 'Amanda goes to the school in our neighborhood.', 'Courtney goes to the school in our neighborhood.', 'Heather goes to the school in our neighborhood.', 'Melanie goes to the school in our neighborhood.', 'Katie goes to the school in our neighborhood.', 'Betsy goes to the school in our neighborhood.', 'Kristin goes to the school in our neighborhood.', 'Nancy goes to the school in our neighborhood.', 'Stephanie goes to the school in our neighborhood.', 'Ellen goes to the school in our neighborhood.'], ['Alonzo goes to the school in our neighborhood.', 'Jamel goes to the school in our neighborhood.', 'Alphonse goes to the school in our neighborhood.', 'Jerome goes to the school in our neighborhood.', 'Leroy goes to the school in our neighborhood.', 'Torrance goes to the school in our neighborhood.', 'Darnell goes to the school in our neighborhood.', 'Lamar goes to the school in our neighborhood.', 'Malik goes to the school in our neighborhood.', 'Terrence goes to the school in our neighborhood.', 'Adam goes to the school in our neighborhood.', 'Harry goes to the school in our neighborhood.', 'Josh goes to the school in our neighborhood.', 'Roger goes to the school in our neighborhood.', 'Alan goes to the school in our neighborhood.', 'Frank goes to the school in our neighborhood.', 'Justin goes to the school in our neighborhood.', 'Ryan goes to the school in our neighborhood.', 'Andrew goes to the school in our neighborhood.', 'Jack goes to the school in our neighborhood.']), 83: (['Nichelle has two children.', 'Shereen has two children.', 'Ebony has two children.', 'Latisha has two children.', 'Shaniqua has two children.', 'Jasmine has two children.', 'Tanisha has two children.', 'Tia has two children.', 'Lakisha has two children.', 'Latoya has two children.', 'Amanda has two children.', 'Courtney has two children.', 'Heather has two children.', 'Melanie has two children.', 'Katie has two children.', 'Betsy has two children.', 'Kristin has two children.', 'Nancy has two children.', 'Stephanie has two children.', 'Ellen has two children.'], ['Alonzo has two children.', 'Jamel has two children.', 'Alphonse has two children.', 'Jerome has two children.', 'Leroy has two children.', 'Torrance has two children.', 'Darnell has two children.', 'Lamar has two children.', 'Malik has two children.', 'Terrence has two children.', 'Adam has two children.', 'Harry has two children.', 'Josh has two children.', 'Roger has two children.', 'Alan has two children.', 'Frank has two children.', 'Justin has two children.', 'Ryan has two children.', 'Andrew has two children.', 'Jack has two children.']), 84: (['Nichelle found herself in an irritating situation.', 'Shereen found herself in an irritating situation.', 'Ebony found herself in an irritating situation.', 'Latisha found herself in an irritating situation.', 'Shaniqua found herself in an irritating situation.', 'Jasmine found herself in an irritating situation.', 'Tanisha found herself in an irritating situation.', 'Tia found herself in an irritating situation.', 'Lakisha found herself in an irritating situation.', 'Latoya found herself in an irritating situation.', 'Amanda found herself in an irritating situation.', 'Courtney found herself in an irritating situation.', 'Heather found herself in an irritating situation.', 'Melanie found herself in an irritating situation.', 'Katie found herself in an irritating situation.', 'Betsy found herself in an irritating situation.', 'Kristin found herself in an irritating situation.', 'Nancy found herself in an irritating situation.', 'Stephanie found herself in an irritating situation.', 'Ellen found herself in an irritating situation.'], ['Alonzo found himself in an irritating situation.', 'Jamel found himself in an irritating situation.', 'Alphonse found himself in an irritating situation.', 'Jerome found himself in an irritating situation.', 'Leroy found himself in an irritating situation.', 'Torrance found himself in an irritating situation.', 'Darnell found himself in an irritating situation.', 'Lamar found himself in an irritating situation.', 'Malik found himself in an irritating situation.', 'Terrence found himself in an irritating situation.', 'Adam found himself in an irritating situation.', 'Harry found himself in an irritating situation.', 'Josh found himself in an irritating situation.', 'Roger found himself in an irritating situation.', 'Alan found himself in an irritating situation.', 'Frank found himself in an irritating situation.', 'Justin found himself in an irritating situation.', 'Ryan found himself in an irritating situation.', 'Andrew found himself in an irritating situation.', 'Jack found himself in an irritating situation.']), 85: (['Nichelle found herself in a vexing situation.', 'Shereen found herself in a vexing situation.', 'Ebony found herself in a vexing situation.', 'Latisha found herself in a vexing situation.', 'Shaniqua found herself in a vexing situation.', 'Jasmine found herself in a vexing situation.', 'Tanisha found herself in a vexing situation.', 'Tia found herself in a vexing situation.', 'Lakisha found herself in a vexing situation.', 'Latoya found herself in a vexing situation.', 'Amanda found herself in a vexing situation.', 'Courtney found herself in a vexing situation.', 'Heather found herself in a vexing situation.', 'Melanie found herself in a vexing situation.', 'Katie found herself in a vexing situation.', 'Betsy found herself in a vexing situation.', 'Kristin found herself in a vexing situation.', 'Nancy found herself in a vexing situation.', 'Stephanie found herself in a vexing situation.', 'Ellen found herself in a vexing situation.'], ['Alonzo found himself in a vexing situation.', 'Jamel found himself in a vexing situation.', 'Alphonse found himself in a vexing situation.', 'Jerome found himself in a vexing situation.', 'Leroy found himself in a vexing situation.', 'Torrance found himself in a vexing situation.', 'Darnell found himself in a vexing situation.', 'Lamar found himself in a vexing situation.', 'Malik found himself in a vexing situation.', 'Terrence found himself in a vexing situation.', 'Adam found himself in a vexing situation.', 'Harry found himself in a vexing situation.', 'Josh found himself in a vexing situation.', 'Roger found himself in a vexing situation.', 'Alan found himself in a vexing situation.', 'Frank found himself in a vexing situation.', 'Justin found himself in a vexing situation.', 'Ryan found himself in a vexing situation.', 'Andrew found himself in a vexing situation.', 'Jack found himself in a vexing situation.']), 86: (['Nichelle found herself in an outrageous situation.', 'Shereen found herself in an outrageous situation.', 'Ebony found herself in an outrageous situation.', 'Latisha found herself in an outrageous situation.', 'Shaniqua found herself in an outrageous situation.', 'Jasmine found herself in an outrageous situation.', 'Tanisha found herself in an outrageous situation.', 'Tia found herself in an outrageous situation.', 'Lakisha found herself in an outrageous situation.', 'Latoya found herself in an outrageous situation.', 'Amanda found herself in an outrageous situation.', 'Courtney found herself in an outrageous situation.', 'Heather found herself in an outrageous situation.', 'Melanie found herself in an outrageous situation.', 'Katie found herself in an outrageous situation.', 'Betsy found herself in an outrageous situation.', 'Kristin found herself in an outrageous situation.', 'Nancy found herself in an outrageous situation.', 'Stephanie found herself in an outrageous situation.', 'Ellen found herself in an outrageous situation.'], ['Alonzo found himself in an outrageous situation.', 'Jamel found himself in an outrageous situation.', 'Alphonse found himself in an outrageous situation.', 'Jerome found himself in an outrageous situation.', 'Leroy found himself in an outrageous situation.', 'Torrance found himself in an outrageous situation.', 'Darnell found himself in an outrageous situation.', 'Lamar found himself in an outrageous situation.', 'Malik found himself in an outrageous situation.', 'Terrence found himself in an outrageous situation.', 'Adam found himself in an outrageous situation.', 'Harry found himself in an outrageous situation.', 'Josh found himself in an outrageous situation.', 'Roger found himself in an outrageous situation.', 'Alan found himself in an outrageous situation.', 'Frank found himself in an outrageous situation.', 'Justin found himself in an outrageous situation.', 'Ryan found himself in an outrageous situation.', 'Andrew found himself in an outrageous situation.', 'Jack found himself in an outrageous situation.']), 87: (['Nichelle found herself in an annoying situation.', 'Shereen found herself in an annoying situation.', 'Ebony found herself in an annoying situation.', 'Latisha found herself in an annoying situation.', 'Shaniqua found herself in an annoying situation.', 'Jasmine found herself in an annoying situation.', 'Tanisha found herself in an annoying situation.', 'Tia found herself in an annoying situation.', 'Lakisha found herself in an annoying situation.', 'Latoya found herself in an annoying situation.', 'Amanda found herself in an annoying situation.', 'Courtney found herself in an annoying situation.', 'Heather found herself in an annoying situation.', 'Melanie found herself in an annoying situation.', 'Katie found herself in an annoying situation.', 'Betsy found herself in an annoying situation.', 'Kristin found herself in an annoying situation.', 'Nancy found herself in an annoying situation.', 'Stephanie found herself in an annoying situation.', 'Ellen found herself in an annoying situation.'], ['Alonzo found himself in an annoying situation.', 'Jamel found himself in an annoying situation.', 'Alphonse found himself in an annoying situation.', 'Jerome found himself in an annoying situation.', 'Leroy found himself in an annoying situation.', 'Torrance found himself in an annoying situation.', 'Darnell found himself in an annoying situation.', 'Lamar found himself in an annoying situation.', 'Malik found himself in an annoying situation.', 'Terrence found himself in an annoying situation.', 'Adam found himself in an annoying situation.', 'Harry found himself in an annoying situation.', 'Josh found himself in an annoying situation.', 'Roger found himself in an annoying situation.', 'Alan found himself in an annoying situation.', 'Frank found himself in an annoying situation.', 'Justin found himself in an annoying situation.', 'Ryan found himself in an annoying situation.', 'Andrew found himself in an annoying situation.', 'Jack found himself in an annoying situation.']), 88: (['Nichelle found herself in a displeasing situation.', 'Shereen found herself in a displeasing situation.', 'Ebony found herself in a displeasing situation.', 'Latisha found herself in a displeasing situation.', 'Shaniqua found herself in a displeasing situation.', 'Jasmine found herself in a displeasing situation.', 'Tanisha found herself in a displeasing situation.', 'Tia found herself in a displeasing situation.', 'Lakisha found herself in a displeasing situation.', 'Latoya found herself in a displeasing situation.', 'Amanda found herself in a displeasing situation.', 'Courtney found herself in a displeasing situation.', 'Heather found herself in a displeasing situation.', 'Melanie found herself in a displeasing situation.', 'Katie found herself in a displeasing situation.', 'Betsy found herself in a displeasing situation.', 'Kristin found herself in a displeasing situation.', 'Nancy found herself in a displeasing situation.', 'Stephanie found herself in a displeasing situation.', 'Ellen found herself in a displeasing situation.'], ['Alonzo found himself in a displeasing situation.', 'Jamel found himself in a displeasing situation.', 'Alphonse found himself in a displeasing situation.', 'Jerome found himself in a displeasing situation.', 'Leroy found himself in a displeasing situation.', 'Torrance found himself in a displeasing situation.', 'Darnell found himself in a displeasing situation.', 'Lamar found himself in a displeasing situation.', 'Malik found himself in a displeasing situation.', 'Terrence found himself in a displeasing situation.', 'Adam found himself in a displeasing situation.', 'Harry found himself in a displeasing situation.', 'Josh found himself in a displeasing situation.', 'Roger found himself in a displeasing situation.', 'Alan found himself in a displeasing situation.', 'Frank found himself in a displeasing situation.', 'Justin found himself in a displeasing situation.', 'Ryan found himself in a displeasing situation.', 'Andrew found himself in a displeasing situation.', 'Jack found himself in a displeasing situation.']), 89: (['Nichelle found herself in a depressing situation.', 'Shereen found herself in a depressing situation.', 'Ebony found herself in a depressing situation.', 'Latisha found herself in a depressing situation.', 'Shaniqua found herself in a depressing situation.', 'Jasmine found herself in a depressing situation.', 'Tanisha found herself in a depressing situation.', 'Tia found herself in a depressing situation.', 'Lakisha found herself in a depressing situation.', 'Latoya found herself in a depressing situation.', 'Amanda found herself in a depressing situation.', 'Courtney found herself in a depressing situation.', 'Heather found herself in a depressing situation.', 'Melanie found herself in a depressing situation.', 'Katie found herself in a depressing situation.', 'Betsy found herself in a depressing situation.', 'Kristin found herself in a depressing situation.', 'Nancy found herself in a depressing situation.', 'Stephanie found herself in a depressing situation.', 'Ellen found herself in a depressing situation.'], ['Alonzo found himself in a depressing situation.', 'Jamel found himself in a depressing situation.', 'Alphonse found himself in a depressing situation.', 'Jerome found himself in a depressing situation.', 'Leroy found himself in a depressing situation.', 'Torrance found himself in a depressing situation.', 'Darnell found himself in a depressing situation.', 'Lamar found himself in a depressing situation.', 'Malik found himself in a depressing situation.', 'Terrence found himself in a depressing situation.', 'Adam found himself in a depressing situation.', 'Harry found himself in a depressing situation.', 'Josh found himself in a depressing situation.', 'Roger found himself in a depressing situation.', 'Alan found himself in a depressing situation.', 'Frank found himself in a depressing situation.', 'Justin found himself in a depressing situation.', 'Ryan found himself in a depressing situation.', 'Andrew found himself in a depressing situation.', 'Jack found himself in a depressing situation.']), 90: (['Nichelle found herself in a serious situation.', 'Shereen found herself in a serious situation.', 'Ebony found herself in a serious situation.', 'Latisha found herself in a serious situation.', 'Shaniqua found herself in a serious situation.', 'Jasmine found herself in a serious situation.', 'Tanisha found herself in a serious situation.', 'Tia found herself in a serious situation.', 'Lakisha found herself in a serious situation.', 'Latoya found herself in a serious situation.', 'Amanda found herself in a serious situation.', 'Courtney found herself in a serious situation.', 'Heather found herself in a serious situation.', 'Melanie found herself in a serious situation.', 'Katie found herself in a serious situation.', 'Betsy found herself in a serious situation.', 'Kristin found herself in a serious situation.', 'Nancy found herself in a serious situation.', 'Stephanie found herself in a serious situation.', 'Ellen found herself in a serious situation.'], ['Alonzo found himself in a serious situation.', 'Jamel found himself in a serious situation.', 'Alphonse found himself in a serious situation.', 'Jerome found himself in a serious situation.', 'Leroy found himself in a serious situation.', 'Torrance found himself in a serious situation.', 'Darnell found himself in a serious situation.', 'Lamar found himself in a serious situation.', 'Malik found himself in a serious situation.', 'Terrence found himself in a serious situation.', 'Adam found himself in a serious situation.', 'Harry found himself in a serious situation.', 'Josh found himself in a serious situation.', 'Roger found himself in a serious situation.', 'Alan found himself in a serious situation.', 'Frank found himself in a serious situation.', 'Justin found himself in a serious situation.', 'Ryan found himself in a serious situation.', 'Andrew found himself in a serious situation.', 'Jack found himself in a serious situation.']), 91: (['Nichelle found herself in a grim situation.', 'Shereen found herself in a grim situation.', 'Ebony found herself in a grim situation.', 'Latisha found herself in a grim situation.', 'Shaniqua found herself in a grim situation.', 'Jasmine found herself in a grim situation.', 'Tanisha found herself in a grim situation.', 'Tia found herself in a grim situation.', 'Lakisha found herself in a grim situation.', 'Latoya found herself in a grim situation.', 'Amanda found herself in a grim situation.', 'Courtney found herself in a grim situation.', 'Heather found herself in a grim situation.', 'Melanie found herself in a grim situation.', 'Katie found herself in a grim situation.', 'Betsy found herself in a grim situation.', 'Kristin found herself in a grim situation.', 'Nancy found herself in a grim situation.', 'Stephanie found herself in a grim situation.', 'Ellen found herself in a grim situation.'], ['Alonzo found himself in a grim situation.', 'Jamel found himself in a grim situation.', 'Alphonse found himself in a grim situation.', 'Jerome found himself in a grim situation.', 'Leroy found himself in a grim situation.', 'Torrance found himself in a grim situation.', 'Darnell found himself in a grim situation.', 'Lamar found himself in a grim situation.', 'Malik found himself in a grim situation.', 'Terrence found himself in a grim situation.', 'Adam found himself in a grim situation.', 'Harry found himself in a grim situation.', 'Josh found himself in a grim situation.', 'Roger found himself in a grim situation.', 'Alan found himself in a grim situation.', 'Frank found himself in a grim situation.', 'Justin found himself in a grim situation.', 'Ryan found himself in a grim situation.', 'Andrew found himself in a grim situation.', 'Jack found himself in a grim situation.']), 92: (['Nichelle found herself in a heartbreaking situation.', 'Shereen found herself in a heartbreaking situation.', 'Ebony found herself in a heartbreaking situation.', 'Latisha found herself in a heartbreaking situation.', 'Shaniqua found herself in a heartbreaking situation.', 'Jasmine found herself in a heartbreaking situation.', 'Tanisha found herself in a heartbreaking situation.', 'Tia found herself in a heartbreaking situation.', 'Lakisha found herself in a heartbreaking situation.', 'Latoya found herself in a heartbreaking situation.', 'Amanda found herself in a heartbreaking situation.', 'Courtney found herself in a heartbreaking situation.', 'Heather found herself in a heartbreaking situation.', 'Melanie found herself in a heartbreaking situation.', 'Katie found herself in a heartbreaking situation.', 'Betsy found herself in a heartbreaking situation.', 'Kristin found herself in a heartbreaking situation.', 'Nancy found herself in a heartbreaking situation.', 'Stephanie found herself in a heartbreaking situation.', 'Ellen found herself in a heartbreaking situation.'], ['Alonzo found himself in a heartbreaking situation.', 'Jamel found himself in a heartbreaking situation.', 'Alphonse found himself in a heartbreaking situation.', 'Jerome found himself in a heartbreaking situation.', 'Leroy found himself in a heartbreaking situation.', 'Torrance found himself in a heartbreaking situation.', 'Darnell found himself in a heartbreaking situation.', 'Lamar found himself in a heartbreaking situation.', 'Malik found himself in a heartbreaking situation.', 'Terrence found himself in a heartbreaking situation.', 'Adam found himself in a heartbreaking situation.', 'Harry found himself in a heartbreaking situation.', 'Josh found himself in a heartbreaking situation.', 'Roger found himself in a heartbreaking situation.', 'Alan found himself in a heartbreaking situation.', 'Frank found himself in a heartbreaking situation.', 'Justin found himself in a heartbreaking situation.', 'Ryan found himself in a heartbreaking situation.', 'Andrew found himself in a heartbreaking situation.', 'Jack found himself in a heartbreaking situation.']), 93: (['Nichelle found herself in a gloomy situation.', 'Shereen found herself in a gloomy situation.', 'Ebony found herself in a gloomy situation.', 'Latisha found herself in a gloomy situation.', 'Shaniqua found herself in a gloomy situation.', 'Jasmine found herself in a gloomy situation.', 'Tanisha found herself in a gloomy situation.', 'Tia found herself in a gloomy situation.', 'Lakisha found herself in a gloomy situation.', 'Latoya found herself in a gloomy situation.', 'Amanda found herself in a gloomy situation.', 'Courtney found herself in a gloomy situation.', 'Heather found herself in a gloomy situation.', 'Melanie found herself in a gloomy situation.', 'Katie found herself in a gloomy situation.', 'Betsy found herself in a gloomy situation.', 'Kristin found herself in a gloomy situation.', 'Nancy found herself in a gloomy situation.', 'Stephanie found herself in a gloomy situation.', 'Ellen found herself in a gloomy situation.'], ['Alonzo found himself in a gloomy situation.', 'Jamel found himself in a gloomy situation.', 'Alphonse found himself in a gloomy situation.', 'Jerome found himself in a gloomy situation.', 'Leroy found himself in a gloomy situation.', 'Torrance found himself in a gloomy situation.', 'Darnell found himself in a gloomy situation.', 'Lamar found himself in a gloomy situation.', 'Malik found himself in a gloomy situation.', 'Terrence found himself in a gloomy situation.', 'Adam found himself in a gloomy situation.', 'Harry found himself in a gloomy situation.', 'Josh found himself in a gloomy situation.', 'Roger found himself in a gloomy situation.', 'Alan found himself in a gloomy situation.', 'Frank found himself in a gloomy situation.', 'Justin found himself in a gloomy situation.', 'Ryan found himself in a gloomy situation.', 'Andrew found himself in a gloomy situation.', 'Jack found himself in a gloomy situation.']), 94: (['Nichelle found herself in a horrible situation.', 'Shereen found herself in a horrible situation.', 'Ebony found herself in a horrible situation.', 'Latisha found herself in a horrible situation.', 'Shaniqua found herself in a horrible situation.', 'Jasmine found herself in a horrible situation.', 'Tanisha found herself in a horrible situation.', 'Tia found herself in a horrible situation.', 'Lakisha found herself in a horrible situation.', 'Latoya found herself in a horrible situation.', 'Amanda found herself in a horrible situation.', 'Courtney found herself in a horrible situation.', 'Heather found herself in a horrible situation.', 'Melanie found herself in a horrible situation.', 'Katie found herself in a horrible situation.', 'Betsy found herself in a horrible situation.', 'Kristin found herself in a horrible situation.', 'Nancy found herself in a horrible situation.', 'Stephanie found herself in a horrible situation.', 'Ellen found herself in a horrible situation.'], ['Alonzo found himself in a horrible situation.', 'Jamel found himself in a horrible situation.', 'Alphonse found himself in a horrible situation.', 'Jerome found himself in a horrible situation.', 'Leroy found himself in a horrible situation.', 'Torrance found himself in a horrible situation.', 'Darnell found himself in a horrible situation.', 'Lamar found himself in a horrible situation.', 'Malik found himself in a horrible situation.', 'Terrence found himself in a horrible situation.', 'Adam found himself in a horrible situation.', 'Harry found himself in a horrible situation.', 'Josh found himself in a horrible situation.', 'Roger found himself in a horrible situation.', 'Alan found himself in a horrible situation.', 'Frank found himself in a horrible situation.', 'Justin found himself in a horrible situation.', 'Ryan found himself in a horrible situation.', 'Andrew found himself in a horrible situation.', 'Jack found himself in a horrible situation.']), 95: (['Nichelle found herself in a threatening situation.', 'Shereen found herself in a threatening situation.', 'Ebony found herself in a threatening situation.', 'Latisha found herself in a threatening situation.', 'Shaniqua found herself in a threatening situation.', 'Jasmine found herself in a threatening situation.', 'Tanisha found herself in a threatening situation.', 'Tia found herself in a threatening situation.', 'Lakisha found herself in a threatening situation.', 'Latoya found herself in a threatening situation.', 'Amanda found herself in a threatening situation.', 'Courtney found herself in a threatening situation.', 'Heather found herself in a threatening situation.', 'Melanie found herself in a threatening situation.', 'Katie found herself in a threatening situation.', 'Betsy found herself in a threatening situation.', 'Kristin found herself in a threatening situation.', 'Nancy found herself in a threatening situation.', 'Stephanie found herself in a threatening situation.', 'Ellen found herself in a threatening situation.'], ['Alonzo found himself in a threatening situation.', 'Jamel found himself in a threatening situation.', 'Alphonse found himself in a threatening situation.', 'Jerome found himself in a threatening situation.', 'Leroy found himself in a threatening situation.', 'Torrance found himself in a threatening situation.', 'Darnell found himself in a threatening situation.', 'Lamar found himself in a threatening situation.', 'Malik found himself in a threatening situation.', 'Terrence found himself in a threatening situation.', 'Adam found himself in a threatening situation.', 'Harry found himself in a threatening situation.', 'Josh found himself in a threatening situation.', 'Roger found himself in a threatening situation.', 'Alan found himself in a threatening situation.', 'Frank found himself in a threatening situation.', 'Justin found himself in a threatening situation.', 'Ryan found himself in a threatening situation.', 'Andrew found himself in a threatening situation.', 'Jack found himself in a threatening situation.']), 96: (['Nichelle found herself in a terrifying situation.', 'Shereen found herself in a terrifying situation.', 'Ebony found herself in a terrifying situation.', 'Latisha found herself in a terrifying situation.', 'Shaniqua found herself in a terrifying situation.', 'Jasmine found herself in a terrifying situation.', 'Tanisha found herself in a terrifying situation.', 'Tia found herself in a terrifying situation.', 'Lakisha found herself in a terrifying situation.', 'Latoya found herself in a terrifying situation.', 'Amanda found herself in a terrifying situation.', 'Courtney found herself in a terrifying situation.', 'Heather found herself in a terrifying situation.', 'Melanie found herself in a terrifying situation.', 'Katie found herself in a terrifying situation.', 'Betsy found herself in a terrifying situation.', 'Kristin found herself in a terrifying situation.', 'Nancy found herself in a terrifying situation.', 'Stephanie found herself in a terrifying situation.', 'Ellen found herself in a terrifying situation.'], ['Alonzo found himself in a terrifying situation.', 'Jamel found himself in a terrifying situation.', 'Alphonse found himself in a terrifying situation.', 'Jerome found himself in a terrifying situation.', 'Leroy found himself in a terrifying situation.', 'Torrance found himself in a terrifying situation.', 'Darnell found himself in a terrifying situation.', 'Lamar found himself in a terrifying situation.', 'Malik found himself in a terrifying situation.', 'Terrence found himself in a terrifying situation.', 'Adam found himself in a terrifying situation.', 'Harry found himself in a terrifying situation.', 'Josh found himself in a terrifying situation.', 'Roger found himself in a terrifying situation.', 'Alan found himself in a terrifying situation.', 'Frank found himself in a terrifying situation.', 'Justin found himself in a terrifying situation.', 'Ryan found himself in a terrifying situation.', 'Andrew found himself in a terrifying situation.', 'Jack found himself in a terrifying situation.']), 97: (['Nichelle found herself in a shocking situation.', 'Shereen found herself in a shocking situation.', 'Ebony found herself in a shocking situation.', 'Latisha found herself in a shocking situation.', 'Shaniqua found herself in a shocking situation.', 'Jasmine found herself in a shocking situation.', 'Tanisha found herself in a shocking situation.', 'Tia found herself in a shocking situation.', 'Lakisha found herself in a shocking situation.', 'Latoya found herself in a shocking situation.', 'Amanda found herself in a shocking situation.', 'Courtney found herself in a shocking situation.', 'Heather found herself in a shocking situation.', 'Melanie found herself in a shocking situation.', 'Katie found herself in a shocking situation.', 'Betsy found herself in a shocking situation.', 'Kristin found herself in a shocking situation.', 'Nancy found herself in a shocking situation.', 'Stephanie found herself in a shocking situation.', 'Ellen found herself in a shocking situation.'], ['Alonzo found himself in a shocking situation.', 'Jamel found himself in a shocking situation.', 'Alphonse found himself in a shocking situation.', 'Jerome found himself in a shocking situation.', 'Leroy found himself in a shocking situation.', 'Torrance found himself in a shocking situation.', 'Darnell found himself in a shocking situation.', 'Lamar found himself in a shocking situation.', 'Malik found himself in a shocking situation.', 'Terrence found himself in a shocking situation.', 'Adam found himself in a shocking situation.', 'Harry found himself in a shocking situation.', 'Josh found himself in a shocking situation.', 'Roger found himself in a shocking situation.', 'Alan found himself in a shocking situation.', 'Frank found himself in a shocking situation.', 'Justin found himself in a shocking situation.', 'Ryan found himself in a shocking situation.', 'Andrew found himself in a shocking situation.', 'Jack found himself in a shocking situation.']), 98: (['Nichelle found herself in a dreadful situation.', 'Shereen found herself in a dreadful situation.', 'Ebony found herself in a dreadful situation.', 'Latisha found herself in a dreadful situation.', 'Shaniqua found herself in a dreadful situation.', 'Jasmine found herself in a dreadful situation.', 'Tanisha found herself in a dreadful situation.', 'Tia found herself in a dreadful situation.', 'Lakisha found herself in a dreadful situation.', 'Latoya found herself in a dreadful situation.', 'Amanda found herself in a dreadful situation.', 'Courtney found herself in a dreadful situation.', 'Heather found herself in a dreadful situation.', 'Melanie found herself in a dreadful situation.', 'Katie found herself in a dreadful situation.', 'Betsy found herself in a dreadful situation.', 'Kristin found herself in a dreadful situation.', 'Nancy found herself in a dreadful situation.', 'Stephanie found herself in a dreadful situation.', 'Ellen found herself in a dreadful situation.'], ['Alonzo found himself in a dreadful situation.', 'Jamel found himself in a dreadful situation.', 'Alphonse found himself in a dreadful situation.', 'Jerome found himself in a dreadful situation.', 'Leroy found himself in a dreadful situation.', 'Torrance found himself in a dreadful situation.', 'Darnell found himself in a dreadful situation.', 'Lamar found himself in a dreadful situation.', 'Malik found himself in a dreadful situation.', 'Terrence found himself in a dreadful situation.', 'Adam found himself in a dreadful situation.', 'Harry found himself in a dreadful situation.', 'Josh found himself in a dreadful situation.', 'Roger found himself in a dreadful situation.', 'Alan found himself in a dreadful situation.', 'Frank found himself in a dreadful situation.', 'Justin found himself in a dreadful situation.', 'Ryan found himself in a dreadful situation.', 'Andrew found himself in a dreadful situation.', 'Jack found himself in a dreadful situation.']), 99: (['Nichelle found herself in a funny situation.', 'Shereen found herself in a funny situation.', 'Ebony found herself in a funny situation.', 'Latisha found herself in a funny situation.', 'Shaniqua found herself in a funny situation.', 'Jasmine found herself in a funny situation.', 'Tanisha found herself in a funny situation.', 'Tia found herself in a funny situation.', 'Lakisha found herself in a funny situation.', 'Latoya found herself in a funny situation.', 'Amanda found herself in a funny situation.', 'Courtney found herself in a funny situation.', 'Heather found herself in a funny situation.', 'Melanie found herself in a funny situation.', 'Katie found herself in a funny situation.', 'Betsy found herself in a funny situation.', 'Kristin found herself in a funny situation.', 'Nancy found herself in a funny situation.', 'Stephanie found herself in a funny situation.', 'Ellen found herself in a funny situation.'], ['Alonzo found himself in a funny situation.', 'Jamel found himself in a funny situation.', 'Alphonse found himself in a funny situation.', 'Jerome found himself in a funny situation.', 'Leroy found himself in a funny situation.', 'Torrance found himself in a funny situation.', 'Darnell found himself in a funny situation.', 'Lamar found himself in a funny situation.', 'Malik found himself in a funny situation.', 'Terrence found himself in a funny situation.', 'Adam found himself in a funny situation.', 'Harry found himself in a funny situation.', 'Josh found himself in a funny situation.', 'Roger found himself in a funny situation.', 'Alan found himself in a funny situation.', 'Frank found himself in a funny situation.', 'Justin found himself in a funny situation.', 'Ryan found himself in a funny situation.', 'Andrew found himself in a funny situation.', 'Jack found himself in a funny situation.']), 100: (['Nichelle found herself in a hilarious situation.', 'Shereen found herself in a hilarious situation.', 'Ebony found herself in a hilarious situation.', 'Latisha found herself in a hilarious situation.', 'Shaniqua found herself in a hilarious situation.', 'Jasmine found herself in a hilarious situation.', 'Tanisha found herself in a hilarious situation.', 'Tia found herself in a hilarious situation.', 'Lakisha found herself in a hilarious situation.', 'Latoya found herself in a hilarious situation.', 'Amanda found herself in a hilarious situation.', 'Courtney found herself in a hilarious situation.', 'Heather found herself in a hilarious situation.', 'Melanie found herself in a hilarious situation.', 'Katie found herself in a hilarious situation.', 'Betsy found herself in a hilarious situation.', 'Kristin found herself in a hilarious situation.', 'Nancy found herself in a hilarious situation.', 'Stephanie found herself in a hilarious situation.', 'Ellen found herself in a hilarious situation.'], ['Alonzo found himself in a hilarious situation.', 'Jamel found himself in a hilarious situation.', 'Alphonse found himself in a hilarious situation.', 'Jerome found himself in a hilarious situation.', 'Leroy found himself in a hilarious situation.', 'Torrance found himself in a hilarious situation.', 'Darnell found himself in a hilarious situation.', 'Lamar found himself in a hilarious situation.', 'Malik found himself in a hilarious situation.', 'Terrence found himself in a hilarious situation.', 'Adam found himself in a hilarious situation.', 'Harry found himself in a hilarious situation.', 'Josh found himself in a hilarious situation.', 'Roger found himself in a hilarious situation.', 'Alan found himself in a hilarious situation.', 'Frank found himself in a hilarious situation.', 'Justin found himself in a hilarious situation.', 'Ryan found himself in a hilarious situation.', 'Andrew found himself in a hilarious situation.', 'Jack found himself in a hilarious situation.']), 101: (['Nichelle found herself in an amazing situation.', 'Shereen found herself in an amazing situation.', 'Ebony found herself in an amazing situation.', 'Latisha found herself in an amazing situation.', 'Shaniqua found herself in an amazing situation.', 'Jasmine found herself in an amazing situation.', 'Tanisha found herself in an amazing situation.', 'Tia found herself in an amazing situation.', 'Lakisha found herself in an amazing situation.', 'Latoya found herself in an amazing situation.', 'Amanda found herself in an amazing situation.', 'Courtney found herself in an amazing situation.', 'Heather found herself in an amazing situation.', 'Melanie found herself in an amazing situation.', 'Katie found herself in an amazing situation.', 'Betsy found herself in an amazing situation.', 'Kristin found herself in an amazing situation.', 'Nancy found herself in an amazing situation.', 'Stephanie found herself in an amazing situation.', 'Ellen found herself in an amazing situation.'], ['Alonzo found himself in an amazing situation.', 'Jamel found himself in an amazing situation.', 'Alphonse found himself in an amazing situation.', 'Jerome found himself in an amazing situation.', 'Leroy found himself in an amazing situation.', 'Torrance found himself in an amazing situation.', 'Darnell found himself in an amazing situation.', 'Lamar found himself in an amazing situation.', 'Malik found himself in an amazing situation.', 'Terrence found himself in an amazing situation.', 'Adam found himself in an amazing situation.', 'Harry found himself in an amazing situation.', 'Josh found himself in an amazing situation.', 'Roger found himself in an amazing situation.', 'Alan found himself in an amazing situation.', 'Frank found himself in an amazing situation.', 'Justin found himself in an amazing situation.', 'Ryan found himself in an amazing situation.', 'Andrew found himself in an amazing situation.', 'Jack found himself in an amazing situation.']), 102: (['Nichelle found herself in a wonderful situation.', 'Shereen found herself in a wonderful situation.', 'Ebony found herself in a wonderful situation.', 'Latisha found herself in a wonderful situation.', 'Shaniqua found herself in a wonderful situation.', 'Jasmine found herself in a wonderful situation.', 'Tanisha found herself in a wonderful situation.', 'Tia found herself in a wonderful situation.', 'Lakisha found herself in a wonderful situation.', 'Latoya found herself in a wonderful situation.', 'Amanda found herself in a wonderful situation.', 'Courtney found herself in a wonderful situation.', 'Heather found herself in a wonderful situation.', 'Melanie found herself in a wonderful situation.', 'Katie found herself in a wonderful situation.', 'Betsy found herself in a wonderful situation.', 'Kristin found herself in a wonderful situation.', 'Nancy found herself in a wonderful situation.', 'Stephanie found herself in a wonderful situation.', 'Ellen found herself in a wonderful situation.'], ['Alonzo found himself in a wonderful situation.', 'Jamel found himself in a wonderful situation.', 'Alphonse found himself in a wonderful situation.', 'Jerome found himself in a wonderful situation.', 'Leroy found himself in a wonderful situation.', 'Torrance found himself in a wonderful situation.', 'Darnell found himself in a wonderful situation.', 'Lamar found himself in a wonderful situation.', 'Malik found himself in a wonderful situation.', 'Terrence found himself in a wonderful situation.', 'Adam found himself in a wonderful situation.', 'Harry found himself in a wonderful situation.', 'Josh found himself in a wonderful situation.', 'Roger found himself in a wonderful situation.', 'Alan found himself in a wonderful situation.', 'Frank found himself in a wonderful situation.', 'Justin found himself in a wonderful situation.', 'Ryan found himself in a wonderful situation.', 'Andrew found himself in a wonderful situation.', 'Jack found himself in a wonderful situation.']), 103: (['Nichelle found herself in a great situation.', 'Shereen found herself in a great situation.', 'Ebony found herself in a great situation.', 'Latisha found herself in a great situation.', 'Shaniqua found herself in a great situation.', 'Jasmine found herself in a great situation.', 'Tanisha found herself in a great situation.', 'Tia found herself in a great situation.', 'Lakisha found herself in a great situation.', 'Latoya found herself in a great situation.', 'Amanda found herself in a great situation.', 'Courtney found herself in a great situation.', 'Heather found herself in a great situation.', 'Melanie found herself in a great situation.', 'Katie found herself in a great situation.', 'Betsy found herself in a great situation.', 'Kristin found herself in a great situation.', 'Nancy found herself in a great situation.', 'Stephanie found herself in a great situation.', 'Ellen found herself in a great situation.'], ['Alonzo found himself in a great situation.', 'Jamel found himself in a great situation.', 'Alphonse found himself in a great situation.', 'Jerome found himself in a great situation.', 'Leroy found himself in a great situation.', 'Torrance found himself in a great situation.', 'Darnell found himself in a great situation.', 'Lamar found himself in a great situation.', 'Malik found himself in a great situation.', 'Terrence found himself in a great situation.', 'Adam found himself in a great situation.', 'Harry found himself in a great situation.', 'Josh found himself in a great situation.', 'Roger found himself in a great situation.', 'Alan found himself in a great situation.', 'Frank found himself in a great situation.', 'Justin found himself in a great situation.', 'Ryan found himself in a great situation.', 'Andrew found himself in a great situation.', 'Jack found himself in a great situation.']), 104: (['Nichelle told us all about the recent irritating events.', 'Shereen told us all about the recent irritating events.', 'Ebony told us all about the recent irritating events.', 'Latisha told us all about the recent irritating events.', 'Shaniqua told us all about the recent irritating events.', 'Jasmine told us all about the recent irritating events.', 'Tanisha told us all about the recent irritating events.', 'Tia told us all about the recent irritating events.', 'Lakisha told us all about the recent irritating events.', 'Latoya told us all about the recent irritating events.', 'Amanda told us all about the recent irritating events.', 'Courtney told us all about the recent irritating events.', 'Heather told us all about the recent irritating events.', 'Melanie told us all about the recent irritating events.', 'Katie told us all about the recent irritating events.', 'Betsy told us all about the recent irritating events.', 'Kristin told us all about the recent irritating events.', 'Nancy told us all about the recent irritating events.', 'Stephanie told us all about the recent irritating events.', 'Ellen told us all about the recent irritating events.'], ['Alonzo told us all about the recent irritating events.', 'Jamel told us all about the recent irritating events.', 'Alphonse told us all about the recent irritating events.', 'Jerome told us all about the recent irritating events.', 'Leroy told us all about the recent irritating events.', 'Torrance told us all about the recent irritating events.', 'Darnell told us all about the recent irritating events.', 'Lamar told us all about the recent irritating events.', 'Malik told us all about the recent irritating events.', 'Terrence told us all about the recent irritating events.', 'Adam told us all about the recent irritating events.', 'Harry told us all about the recent irritating events.', 'Josh told us all about the recent irritating events.', 'Roger told us all about the recent irritating events.', 'Alan told us all about the recent irritating events.', 'Frank told us all about the recent irritating events.', 'Justin told us all about the recent irritating events.', 'Ryan told us all about the recent irritating events.', 'Andrew told us all about the recent irritating events.', 'Jack told us all about the recent irritating events.']), 105: (['Nichelle told us all about the recent vexing events.', 'Shereen told us all about the recent vexing events.', 'Ebony told us all about the recent vexing events.', 'Latisha told us all about the recent vexing events.', 'Shaniqua told us all about the recent vexing events.', 'Jasmine told us all about the recent vexing events.', 'Tanisha told us all about the recent vexing events.', 'Tia told us all about the recent vexing events.', 'Lakisha told us all about the recent vexing events.', 'Latoya told us all about the recent vexing events.', 'Amanda told us all about the recent vexing events.', 'Courtney told us all about the recent vexing events.', 'Heather told us all about the recent vexing events.', 'Melanie told us all about the recent vexing events.', 'Katie told us all about the recent vexing events.', 'Betsy told us all about the recent vexing events.', 'Kristin told us all about the recent vexing events.', 'Nancy told us all about the recent vexing events.', 'Stephanie told us all about the recent vexing events.', 'Ellen told us all about the recent vexing events.'], ['Alonzo told us all about the recent vexing events.', 'Jamel told us all about the recent vexing events.', 'Alphonse told us all about the recent vexing events.', 'Jerome told us all about the recent vexing events.', 'Leroy told us all about the recent vexing events.', 'Torrance told us all about the recent vexing events.', 'Darnell told us all about the recent vexing events.', 'Lamar told us all about the recent vexing events.', 'Malik told us all about the recent vexing events.', 'Terrence told us all about the recent vexing events.', 'Adam told us all about the recent vexing events.', 'Harry told us all about the recent vexing events.', 'Josh told us all about the recent vexing events.', 'Roger told us all about the recent vexing events.', 'Alan told us all about the recent vexing events.', 'Frank told us all about the recent vexing events.', 'Justin told us all about the recent vexing events.', 'Ryan told us all about the recent vexing events.', 'Andrew told us all about the recent vexing events.', 'Jack told us all about the recent vexing events.']), 106: (['Nichelle told us all about the recent outrageous events.', 'Shereen told us all about the recent outrageous events.', 'Ebony told us all about the recent outrageous events.', 'Latisha told us all about the recent outrageous events.', 'Shaniqua told us all about the recent outrageous events.', 'Jasmine told us all about the recent outrageous events.', 'Tanisha told us all about the recent outrageous events.', 'Tia told us all about the recent outrageous events.', 'Lakisha told us all about the recent outrageous events.', 'Latoya told us all about the recent outrageous events.', 'Amanda told us all about the recent outrageous events.', 'Courtney told us all about the recent outrageous events.', 'Heather told us all about the recent outrageous events.', 'Melanie told us all about the recent outrageous events.', 'Katie told us all about the recent outrageous events.', 'Betsy told us all about the recent outrageous events.', 'Kristin told us all about the recent outrageous events.', 'Nancy told us all about the recent outrageous events.', 'Stephanie told us all about the recent outrageous events.', 'Ellen told us all about the recent outrageous events.'], ['Alonzo told us all about the recent outrageous events.', 'Jamel told us all about the recent outrageous events.', 'Alphonse told us all about the recent outrageous events.', 'Jerome told us all about the recent outrageous events.', 'Leroy told us all about the recent outrageous events.', 'Torrance told us all about the recent outrageous events.', 'Darnell told us all about the recent outrageous events.', 'Lamar told us all about the recent outrageous events.', 'Malik told us all about the recent outrageous events.', 'Terrence told us all about the recent outrageous events.', 'Adam told us all about the recent outrageous events.', 'Harry told us all about the recent outrageous events.', 'Josh told us all about the recent outrageous events.', 'Roger told us all about the recent outrageous events.', 'Alan told us all about the recent outrageous events.', 'Frank told us all about the recent outrageous events.', 'Justin told us all about the recent outrageous events.', 'Ryan told us all about the recent outrageous events.', 'Andrew told us all about the recent outrageous events.', 'Jack told us all about the recent outrageous events.']), 107: (['Nichelle told us all about the recent annoying events.', 'Shereen told us all about the recent annoying events.', 'Ebony told us all about the recent annoying events.', 'Latisha told us all about the recent annoying events.', 'Shaniqua told us all about the recent annoying events.', 'Jasmine told us all about the recent annoying events.', 'Tanisha told us all about the recent annoying events.', 'Tia told us all about the recent annoying events.', 'Lakisha told us all about the recent annoying events.', 'Latoya told us all about the recent annoying events.', 'Amanda told us all about the recent annoying events.', 'Courtney told us all about the recent annoying events.', 'Heather told us all about the recent annoying events.', 'Melanie told us all about the recent annoying events.', 'Katie told us all about the recent annoying events.', 'Betsy told us all about the recent annoying events.', 'Kristin told us all about the recent annoying events.', 'Nancy told us all about the recent annoying events.', 'Stephanie told us all about the recent annoying events.', 'Ellen told us all about the recent annoying events.'], ['Alonzo told us all about the recent annoying events.', 'Jamel told us all about the recent annoying events.', 'Alphonse told us all about the recent annoying events.', 'Jerome told us all about the recent annoying events.', 'Leroy told us all about the recent annoying events.', 'Torrance told us all about the recent annoying events.', 'Darnell told us all about the recent annoying events.', 'Lamar told us all about the recent annoying events.', 'Malik told us all about the recent annoying events.', 'Terrence told us all about the recent annoying events.', 'Adam told us all about the recent annoying events.', 'Harry told us all about the recent annoying events.', 'Josh told us all about the recent annoying events.', 'Roger told us all about the recent annoying events.', 'Alan told us all about the recent annoying events.', 'Frank told us all about the recent annoying events.', 'Justin told us all about the recent annoying events.', 'Ryan told us all about the recent annoying events.', 'Andrew told us all about the recent annoying events.', 'Jack told us all about the recent annoying events.']), 108: (['Nichelle told us all about the recent displeasing events.', 'Shereen told us all about the recent displeasing events.', 'Ebony told us all about the recent displeasing events.', 'Latisha told us all about the recent displeasing events.', 'Shaniqua told us all about the recent displeasing events.', 'Jasmine told us all about the recent displeasing events.', 'Tanisha told us all about the recent displeasing events.', 'Tia told us all about the recent displeasing events.', 'Lakisha told us all about the recent displeasing events.', 'Latoya told us all about the recent displeasing events.', 'Amanda told us all about the recent displeasing events.', 'Courtney told us all about the recent displeasing events.', 'Heather told us all about the recent displeasing events.', 'Melanie told us all about the recent displeasing events.', 'Katie told us all about the recent displeasing events.', 'Betsy told us all about the recent displeasing events.', 'Kristin told us all about the recent displeasing events.', 'Nancy told us all about the recent displeasing events.', 'Stephanie told us all about the recent displeasing events.', 'Ellen told us all about the recent displeasing events.'], ['Alonzo told us all about the recent displeasing events.', 'Jamel told us all about the recent displeasing events.', 'Alphonse told us all about the recent displeasing events.', 'Jerome told us all about the recent displeasing events.', 'Leroy told us all about the recent displeasing events.', 'Torrance told us all about the recent displeasing events.', 'Darnell told us all about the recent displeasing events.', 'Lamar told us all about the recent displeasing events.', 'Malik told us all about the recent displeasing events.', 'Terrence told us all about the recent displeasing events.', 'Adam told us all about the recent displeasing events.', 'Harry told us all about the recent displeasing events.', 'Josh told us all about the recent displeasing events.', 'Roger told us all about the recent displeasing events.', 'Alan told us all about the recent displeasing events.', 'Frank told us all about the recent displeasing events.', 'Justin told us all about the recent displeasing events.', 'Ryan told us all about the recent displeasing events.', 'Andrew told us all about the recent displeasing events.', 'Jack told us all about the recent displeasing events.']), 109: (['Nichelle told us all about the recent depressing events.', 'Shereen told us all about the recent depressing events.', 'Ebony told us all about the recent depressing events.', 'Latisha told us all about the recent depressing events.', 'Shaniqua told us all about the recent depressing events.', 'Jasmine told us all about the recent depressing events.', 'Tanisha told us all about the recent depressing events.', 'Tia told us all about the recent depressing events.', 'Lakisha told us all about the recent depressing events.', 'Latoya told us all about the recent depressing events.', 'Amanda told us all about the recent depressing events.', 'Courtney told us all about the recent depressing events.', 'Heather told us all about the recent depressing events.', 'Melanie told us all about the recent depressing events.', 'Katie told us all about the recent depressing events.', 'Betsy told us all about the recent depressing events.', 'Kristin told us all about the recent depressing events.', 'Nancy told us all about the recent depressing events.', 'Stephanie told us all about the recent depressing events.', 'Ellen told us all about the recent depressing events.'], ['Alonzo told us all about the recent depressing events.', 'Jamel told us all about the recent depressing events.', 'Alphonse told us all about the recent depressing events.', 'Jerome told us all about the recent depressing events.', 'Leroy told us all about the recent depressing events.', 'Torrance told us all about the recent depressing events.', 'Darnell told us all about the recent depressing events.', 'Lamar told us all about the recent depressing events.', 'Malik told us all about the recent depressing events.', 'Terrence told us all about the recent depressing events.', 'Adam told us all about the recent depressing events.', 'Harry told us all about the recent depressing events.', 'Josh told us all about the recent depressing events.', 'Roger told us all about the recent depressing events.', 'Alan told us all about the recent depressing events.', 'Frank told us all about the recent depressing events.', 'Justin told us all about the recent depressing events.', 'Ryan told us all about the recent depressing events.', 'Andrew told us all about the recent depressing events.', 'Jack told us all about the recent depressing events.']), 110: (['Nichelle told us all about the recent serious events.', 'Shereen told us all about the recent serious events.', 'Ebony told us all about the recent serious events.', 'Latisha told us all about the recent serious events.', 'Shaniqua told us all about the recent serious events.', 'Jasmine told us all about the recent serious events.', 'Tanisha told us all about the recent serious events.', 'Tia told us all about the recent serious events.', 'Lakisha told us all about the recent serious events.', 'Latoya told us all about the recent serious events.', 'Amanda told us all about the recent serious events.', 'Courtney told us all about the recent serious events.', 'Heather told us all about the recent serious events.', 'Melanie told us all about the recent serious events.', 'Katie told us all about the recent serious events.', 'Betsy told us all about the recent serious events.', 'Kristin told us all about the recent serious events.', 'Nancy told us all about the recent serious events.', 'Stephanie told us all about the recent serious events.', 'Ellen told us all about the recent serious events.'], ['Alonzo told us all about the recent serious events.', 'Jamel told us all about the recent serious events.', 'Alphonse told us all about the recent serious events.', 'Jerome told us all about the recent serious events.', 'Leroy told us all about the recent serious events.', 'Torrance told us all about the recent serious events.', 'Darnell told us all about the recent serious events.', 'Lamar told us all about the recent serious events.', 'Malik told us all about the recent serious events.', 'Terrence told us all about the recent serious events.', 'Adam told us all about the recent serious events.', 'Harry told us all about the recent serious events.', 'Josh told us all about the recent serious events.', 'Roger told us all about the recent serious events.', 'Alan told us all about the recent serious events.', 'Frank told us all about the recent serious events.', 'Justin told us all about the recent serious events.', 'Ryan told us all about the recent serious events.', 'Andrew told us all about the recent serious events.', 'Jack told us all about the recent serious events.']), 111: (['Nichelle told us all about the recent grim events.', 'Shereen told us all about the recent grim events.', 'Ebony told us all about the recent grim events.', 'Latisha told us all about the recent grim events.', 'Shaniqua told us all about the recent grim events.', 'Jasmine told us all about the recent grim events.', 'Tanisha told us all about the recent grim events.', 'Tia told us all about the recent grim events.', 'Lakisha told us all about the recent grim events.', 'Latoya told us all about the recent grim events.', 'Amanda told us all about the recent grim events.', 'Courtney told us all about the recent grim events.', 'Heather told us all about the recent grim events.', 'Melanie told us all about the recent grim events.', 'Katie told us all about the recent grim events.', 'Betsy told us all about the recent grim events.', 'Kristin told us all about the recent grim events.', 'Nancy told us all about the recent grim events.', 'Stephanie told us all about the recent grim events.', 'Ellen told us all about the recent grim events.'], ['Alonzo told us all about the recent grim events.', 'Jamel told us all about the recent grim events.', 'Alphonse told us all about the recent grim events.', 'Jerome told us all about the recent grim events.', 'Leroy told us all about the recent grim events.', 'Torrance told us all about the recent grim events.', 'Darnell told us all about the recent grim events.', 'Lamar told us all about the recent grim events.', 'Malik told us all about the recent grim events.', 'Terrence told us all about the recent grim events.', 'Adam told us all about the recent grim events.', 'Harry told us all about the recent grim events.', 'Josh told us all about the recent grim events.', 'Roger told us all about the recent grim events.', 'Alan told us all about the recent grim events.', 'Frank told us all about the recent grim events.', 'Justin told us all about the recent grim events.', 'Ryan told us all about the recent grim events.', 'Andrew told us all about the recent grim events.', 'Jack told us all about the recent grim events.']), 112: (['Nichelle told us all about the recent heartbreaking events.', 'Shereen told us all about the recent heartbreaking events.', 'Ebony told us all about the recent heartbreaking events.', 'Latisha told us all about the recent heartbreaking events.', 'Shaniqua told us all about the recent heartbreaking events.', 'Jasmine told us all about the recent heartbreaking events.', 'Tanisha told us all about the recent heartbreaking events.', 'Tia told us all about the recent heartbreaking events.', 'Lakisha told us all about the recent heartbreaking events.', 'Latoya told us all about the recent heartbreaking events.', 'Amanda told us all about the recent heartbreaking events.', 'Courtney told us all about the recent heartbreaking events.', 'Heather told us all about the recent heartbreaking events.', 'Melanie told us all about the recent heartbreaking events.', 'Katie told us all about the recent heartbreaking events.', 'Betsy told us all about the recent heartbreaking events.', 'Kristin told us all about the recent heartbreaking events.', 'Nancy told us all about the recent heartbreaking events.', 'Stephanie told us all about the recent heartbreaking events.', 'Ellen told us all about the recent heartbreaking events.'], ['Alonzo told us all about the recent heartbreaking events.', 'Jamel told us all about the recent heartbreaking events.', 'Alphonse told us all about the recent heartbreaking events.', 'Jerome told us all about the recent heartbreaking events.', 'Leroy told us all about the recent heartbreaking events.', 'Torrance told us all about the recent heartbreaking events.', 'Darnell told us all about the recent heartbreaking events.', 'Lamar told us all about the recent heartbreaking events.', 'Malik told us all about the recent heartbreaking events.', 'Terrence told us all about the recent heartbreaking events.', 'Adam told us all about the recent heartbreaking events.', 'Harry told us all about the recent heartbreaking events.', 'Josh told us all about the recent heartbreaking events.', 'Roger told us all about the recent heartbreaking events.', 'Alan told us all about the recent heartbreaking events.', 'Frank told us all about the recent heartbreaking events.', 'Justin told us all about the recent heartbreaking events.', 'Ryan told us all about the recent heartbreaking events.', 'Andrew told us all about the recent heartbreaking events.', 'Jack told us all about the recent heartbreaking events.']), 113: (['Nichelle told us all about the recent gloomy events.', 'Shereen told us all about the recent gloomy events.', 'Ebony told us all about the recent gloomy events.', 'Latisha told us all about the recent gloomy events.', 'Shaniqua told us all about the recent gloomy events.', 'Jasmine told us all about the recent gloomy events.', 'Tanisha told us all about the recent gloomy events.', 'Tia told us all about the recent gloomy events.', 'Lakisha told us all about the recent gloomy events.', 'Latoya told us all about the recent gloomy events.', 'Amanda told us all about the recent gloomy events.', 'Courtney told us all about the recent gloomy events.', 'Heather told us all about the recent gloomy events.', 'Melanie told us all about the recent gloomy events.', 'Katie told us all about the recent gloomy events.', 'Betsy told us all about the recent gloomy events.', 'Kristin told us all about the recent gloomy events.', 'Nancy told us all about the recent gloomy events.', 'Stephanie told us all about the recent gloomy events.', 'Ellen told us all about the recent gloomy events.'], ['Alonzo told us all about the recent gloomy events.', 'Jamel told us all about the recent gloomy events.', 'Alphonse told us all about the recent gloomy events.', 'Jerome told us all about the recent gloomy events.', 'Leroy told us all about the recent gloomy events.', 'Torrance told us all about the recent gloomy events.', 'Darnell told us all about the recent gloomy events.', 'Lamar told us all about the recent gloomy events.', 'Malik told us all about the recent gloomy events.', 'Terrence told us all about the recent gloomy events.', 'Adam told us all about the recent gloomy events.', 'Harry told us all about the recent gloomy events.', 'Josh told us all about the recent gloomy events.', 'Roger told us all about the recent gloomy events.', 'Alan told us all about the recent gloomy events.', 'Frank told us all about the recent gloomy events.', 'Justin told us all about the recent gloomy events.', 'Ryan told us all about the recent gloomy events.', 'Andrew told us all about the recent gloomy events.', 'Jack told us all about the recent gloomy events.']), 114: (['Nichelle told us all about the recent horrible events.', 'Shereen told us all about the recent horrible events.', 'Ebony told us all about the recent horrible events.', 'Latisha told us all about the recent horrible events.', 'Shaniqua told us all about the recent horrible events.', 'Jasmine told us all about the recent horrible events.', 'Tanisha told us all about the recent horrible events.', 'Tia told us all about the recent horrible events.', 'Lakisha told us all about the recent horrible events.', 'Latoya told us all about the recent horrible events.', 'Amanda told us all about the recent horrible events.', 'Courtney told us all about the recent horrible events.', 'Heather told us all about the recent horrible events.', 'Melanie told us all about the recent horrible events.', 'Katie told us all about the recent horrible events.', 'Betsy told us all about the recent horrible events.', 'Kristin told us all about the recent horrible events.', 'Nancy told us all about the recent horrible events.', 'Stephanie told us all about the recent horrible events.', 'Ellen told us all about the recent horrible events.'], ['Alonzo told us all about the recent horrible events.', 'Jamel told us all about the recent horrible events.', 'Alphonse told us all about the recent horrible events.', 'Jerome told us all about the recent horrible events.', 'Leroy told us all about the recent horrible events.', 'Torrance told us all about the recent horrible events.', 'Darnell told us all about the recent horrible events.', 'Lamar told us all about the recent horrible events.', 'Malik told us all about the recent horrible events.', 'Terrence told us all about the recent horrible events.', 'Adam told us all about the recent horrible events.', 'Harry told us all about the recent horrible events.', 'Josh told us all about the recent horrible events.', 'Roger told us all about the recent horrible events.', 'Alan told us all about the recent horrible events.', 'Frank told us all about the recent horrible events.', 'Justin told us all about the recent horrible events.', 'Ryan told us all about the recent horrible events.', 'Andrew told us all about the recent horrible events.', 'Jack told us all about the recent horrible events.']), 115: (['Nichelle told us all about the recent threatening events.', 'Shereen told us all about the recent threatening events.', 'Ebony told us all about the recent threatening events.', 'Latisha told us all about the recent threatening events.', 'Shaniqua told us all about the recent threatening events.', 'Jasmine told us all about the recent threatening events.', 'Tanisha told us all about the recent threatening events.', 'Tia told us all about the recent threatening events.', 'Lakisha told us all about the recent threatening events.', 'Latoya told us all about the recent threatening events.', 'Amanda told us all about the recent threatening events.', 'Courtney told us all about the recent threatening events.', 'Heather told us all about the recent threatening events.', 'Melanie told us all about the recent threatening events.', 'Katie told us all about the recent threatening events.', 'Betsy told us all about the recent threatening events.', 'Kristin told us all about the recent threatening events.', 'Nancy told us all about the recent threatening events.', 'Stephanie told us all about the recent threatening events.', 'Ellen told us all about the recent threatening events.'], ['Alonzo told us all about the recent threatening events.', 'Jamel told us all about the recent threatening events.', 'Alphonse told us all about the recent threatening events.', 'Jerome told us all about the recent threatening events.', 'Leroy told us all about the recent threatening events.', 'Torrance told us all about the recent threatening events.', 'Darnell told us all about the recent threatening events.', 'Lamar told us all about the recent threatening events.', 'Malik told us all about the recent threatening events.', 'Terrence told us all about the recent threatening events.', 'Adam told us all about the recent threatening events.', 'Harry told us all about the recent threatening events.', 'Josh told us all about the recent threatening events.', 'Roger told us all about the recent threatening events.', 'Alan told us all about the recent threatening events.', 'Frank told us all about the recent threatening events.', 'Justin told us all about the recent threatening events.', 'Ryan told us all about the recent threatening events.', 'Andrew told us all about the recent threatening events.', 'Jack told us all about the recent threatening events.']), 116: (['Nichelle told us all about the recent terrifying events.', 'Shereen told us all about the recent terrifying events.', 'Ebony told us all about the recent terrifying events.', 'Latisha told us all about the recent terrifying events.', 'Shaniqua told us all about the recent terrifying events.', 'Jasmine told us all about the recent terrifying events.', 'Tanisha told us all about the recent terrifying events.', 'Tia told us all about the recent terrifying events.', 'Lakisha told us all about the recent terrifying events.', 'Latoya told us all about the recent terrifying events.', 'Amanda told us all about the recent terrifying events.', 'Courtney told us all about the recent terrifying events.', 'Heather told us all about the recent terrifying events.', 'Melanie told us all about the recent terrifying events.', 'Katie told us all about the recent terrifying events.', 'Betsy told us all about the recent terrifying events.', 'Kristin told us all about the recent terrifying events.', 'Nancy told us all about the recent terrifying events.', 'Stephanie told us all about the recent terrifying events.', 'Ellen told us all about the recent terrifying events.'], ['Alonzo told us all about the recent terrifying events.', 'Jamel told us all about the recent terrifying events.', 'Alphonse told us all about the recent terrifying events.', 'Jerome told us all about the recent terrifying events.', 'Leroy told us all about the recent terrifying events.', 'Torrance told us all about the recent terrifying events.', 'Darnell told us all about the recent terrifying events.', 'Lamar told us all about the recent terrifying events.', 'Malik told us all about the recent terrifying events.', 'Terrence told us all about the recent terrifying events.', 'Adam told us all about the recent terrifying events.', 'Harry told us all about the recent terrifying events.', 'Josh told us all about the recent terrifying events.', 'Roger told us all about the recent terrifying events.', 'Alan told us all about the recent terrifying events.', 'Frank told us all about the recent terrifying events.', 'Justin told us all about the recent terrifying events.', 'Ryan told us all about the recent terrifying events.', 'Andrew told us all about the recent terrifying events.', 'Jack told us all about the recent terrifying events.']), 117: (['Nichelle told us all about the recent shocking events.', 'Shereen told us all about the recent shocking events.', 'Ebony told us all about the recent shocking events.', 'Latisha told us all about the recent shocking events.', 'Shaniqua told us all about the recent shocking events.', 'Jasmine told us all about the recent shocking events.', 'Tanisha told us all about the recent shocking events.', 'Tia told us all about the recent shocking events.', 'Lakisha told us all about the recent shocking events.', 'Latoya told us all about the recent shocking events.', 'Amanda told us all about the recent shocking events.', 'Courtney told us all about the recent shocking events.', 'Heather told us all about the recent shocking events.', 'Melanie told us all about the recent shocking events.', 'Katie told us all about the recent shocking events.', 'Betsy told us all about the recent shocking events.', 'Kristin told us all about the recent shocking events.', 'Nancy told us all about the recent shocking events.', 'Stephanie told us all about the recent shocking events.', 'Ellen told us all about the recent shocking events.'], ['Alonzo told us all about the recent shocking events.', 'Jamel told us all about the recent shocking events.', 'Alphonse told us all about the recent shocking events.', 'Jerome told us all about the recent shocking events.', 'Leroy told us all about the recent shocking events.', 'Torrance told us all about the recent shocking events.', 'Darnell told us all about the recent shocking events.', 'Lamar told us all about the recent shocking events.', 'Malik told us all about the recent shocking events.', 'Terrence told us all about the recent shocking events.', 'Adam told us all about the recent shocking events.', 'Harry told us all about the recent shocking events.', 'Josh told us all about the recent shocking events.', 'Roger told us all about the recent shocking events.', 'Alan told us all about the recent shocking events.', 'Frank told us all about the recent shocking events.', 'Justin told us all about the recent shocking events.', 'Ryan told us all about the recent shocking events.', 'Andrew told us all about the recent shocking events.', 'Jack told us all about the recent shocking events.']), 118: (['Nichelle told us all about the recent dreadful events.', 'Shereen told us all about the recent dreadful events.', 'Ebony told us all about the recent dreadful events.', 'Latisha told us all about the recent dreadful events.', 'Shaniqua told us all about the recent dreadful events.', 'Jasmine told us all about the recent dreadful events.', 'Tanisha told us all about the recent dreadful events.', 'Tia told us all about the recent dreadful events.', 'Lakisha told us all about the recent dreadful events.', 'Latoya told us all about the recent dreadful events.', 'Amanda told us all about the recent dreadful events.', 'Courtney told us all about the recent dreadful events.', 'Heather told us all about the recent dreadful events.', 'Melanie told us all about the recent dreadful events.', 'Katie told us all about the recent dreadful events.', 'Betsy told us all about the recent dreadful events.', 'Kristin told us all about the recent dreadful events.', 'Nancy told us all about the recent dreadful events.', 'Stephanie told us all about the recent dreadful events.', 'Ellen told us all about the recent dreadful events.'], ['Alonzo told us all about the recent dreadful events.', 'Jamel told us all about the recent dreadful events.', 'Alphonse told us all about the recent dreadful events.', 'Jerome told us all about the recent dreadful events.', 'Leroy told us all about the recent dreadful events.', 'Torrance told us all about the recent dreadful events.', 'Darnell told us all about the recent dreadful events.', 'Lamar told us all about the recent dreadful events.', 'Malik told us all about the recent dreadful events.', 'Terrence told us all about the recent dreadful events.', 'Adam told us all about the recent dreadful events.', 'Harry told us all about the recent dreadful events.', 'Josh told us all about the recent dreadful events.', 'Roger told us all about the recent dreadful events.', 'Alan told us all about the recent dreadful events.', 'Frank told us all about the recent dreadful events.', 'Justin told us all about the recent dreadful events.', 'Ryan told us all about the recent dreadful events.', 'Andrew told us all about the recent dreadful events.', 'Jack told us all about the recent dreadful events.']), 119: (['Nichelle told us all about the recent funny events.', 'Shereen told us all about the recent funny events.', 'Ebony told us all about the recent funny events.', 'Latisha told us all about the recent funny events.', 'Shaniqua told us all about the recent funny events.', 'Jasmine told us all about the recent funny events.', 'Tanisha told us all about the recent funny events.', 'Tia told us all about the recent funny events.', 'Lakisha told us all about the recent funny events.', 'Latoya told us all about the recent funny events.', 'Amanda told us all about the recent funny events.', 'Courtney told us all about the recent funny events.', 'Heather told us all about the recent funny events.', 'Melanie told us all about the recent funny events.', 'Katie told us all about the recent funny events.', 'Betsy told us all about the recent funny events.', 'Kristin told us all about the recent funny events.', 'Nancy told us all about the recent funny events.', 'Stephanie told us all about the recent funny events.', 'Ellen told us all about the recent funny events.'], ['Alonzo told us all about the recent funny events.', 'Jamel told us all about the recent funny events.', 'Alphonse told us all about the recent funny events.', 'Jerome told us all about the recent funny events.', 'Leroy told us all about the recent funny events.', 'Torrance told us all about the recent funny events.', 'Darnell told us all about the recent funny events.', 'Lamar told us all about the recent funny events.', 'Malik told us all about the recent funny events.', 'Terrence told us all about the recent funny events.', 'Adam told us all about the recent funny events.', 'Harry told us all about the recent funny events.', 'Josh told us all about the recent funny events.', 'Roger told us all about the recent funny events.', 'Alan told us all about the recent funny events.', 'Frank told us all about the recent funny events.', 'Justin told us all about the recent funny events.', 'Ryan told us all about the recent funny events.', 'Andrew told us all about the recent funny events.', 'Jack told us all about the recent funny events.']), 120: (['Nichelle told us all about the recent hilarious events.', 'Shereen told us all about the recent hilarious events.', 'Ebony told us all about the recent hilarious events.', 'Latisha told us all about the recent hilarious events.', 'Shaniqua told us all about the recent hilarious events.', 'Jasmine told us all about the recent hilarious events.', 'Tanisha told us all about the recent hilarious events.', 'Tia told us all about the recent hilarious events.', 'Lakisha told us all about the recent hilarious events.', 'Latoya told us all about the recent hilarious events.', 'Amanda told us all about the recent hilarious events.', 'Courtney told us all about the recent hilarious events.', 'Heather told us all about the recent hilarious events.', 'Melanie told us all about the recent hilarious events.', 'Katie told us all about the recent hilarious events.', 'Betsy told us all about the recent hilarious events.', 'Kristin told us all about the recent hilarious events.', 'Nancy told us all about the recent hilarious events.', 'Stephanie told us all about the recent hilarious events.', 'Ellen told us all about the recent hilarious events.'], ['Alonzo told us all about the recent hilarious events.', 'Jamel told us all about the recent hilarious events.', 'Alphonse told us all about the recent hilarious events.', 'Jerome told us all about the recent hilarious events.', 'Leroy told us all about the recent hilarious events.', 'Torrance told us all about the recent hilarious events.', 'Darnell told us all about the recent hilarious events.', 'Lamar told us all about the recent hilarious events.', 'Malik told us all about the recent hilarious events.', 'Terrence told us all about the recent hilarious events.', 'Adam told us all about the recent hilarious events.', 'Harry told us all about the recent hilarious events.', 'Josh told us all about the recent hilarious events.', 'Roger told us all about the recent hilarious events.', 'Alan told us all about the recent hilarious events.', 'Frank told us all about the recent hilarious events.', 'Justin told us all about the recent hilarious events.', 'Ryan told us all about the recent hilarious events.', 'Andrew told us all about the recent hilarious events.', 'Jack told us all about the recent hilarious events.']), 121: (['Nichelle told us all about the recent amazing events.', 'Shereen told us all about the recent amazing events.', 'Ebony told us all about the recent amazing events.', 'Latisha told us all about the recent amazing events.', 'Shaniqua told us all about the recent amazing events.', 'Jasmine told us all about the recent amazing events.', 'Tanisha told us all about the recent amazing events.', 'Tia told us all about the recent amazing events.', 'Lakisha told us all about the recent amazing events.', 'Latoya told us all about the recent amazing events.', 'Amanda told us all about the recent amazing events.', 'Courtney told us all about the recent amazing events.', 'Heather told us all about the recent amazing events.', 'Melanie told us all about the recent amazing events.', 'Katie told us all about the recent amazing events.', 'Betsy told us all about the recent amazing events.', 'Kristin told us all about the recent amazing events.', 'Nancy told us all about the recent amazing events.', 'Stephanie told us all about the recent amazing events.', 'Ellen told us all about the recent amazing events.'], ['Alonzo told us all about the recent amazing events.', 'Jamel told us all about the recent amazing events.', 'Alphonse told us all about the recent amazing events.', 'Jerome told us all about the recent amazing events.', 'Leroy told us all about the recent amazing events.', 'Torrance told us all about the recent amazing events.', 'Darnell told us all about the recent amazing events.', 'Lamar told us all about the recent amazing events.', 'Malik told us all about the recent amazing events.', 'Terrence told us all about the recent amazing events.', 'Adam told us all about the recent amazing events.', 'Harry told us all about the recent amazing events.', 'Josh told us all about the recent amazing events.', 'Roger told us all about the recent amazing events.', 'Alan told us all about the recent amazing events.', 'Frank told us all about the recent amazing events.', 'Justin told us all about the recent amazing events.', 'Ryan told us all about the recent amazing events.', 'Andrew told us all about the recent amazing events.', 'Jack told us all about the recent amazing events.']), 122: (['Nichelle told us all about the recent wonderful events.', 'Shereen told us all about the recent wonderful events.', 'Ebony told us all about the recent wonderful events.', 'Latisha told us all about the recent wonderful events.', 'Shaniqua told us all about the recent wonderful events.', 'Jasmine told us all about the recent wonderful events.', 'Tanisha told us all about the recent wonderful events.', 'Tia told us all about the recent wonderful events.', 'Lakisha told us all about the recent wonderful events.', 'Latoya told us all about the recent wonderful events.', 'Amanda told us all about the recent wonderful events.', 'Courtney told us all about the recent wonderful events.', 'Heather told us all about the recent wonderful events.', 'Melanie told us all about the recent wonderful events.', 'Katie told us all about the recent wonderful events.', 'Betsy told us all about the recent wonderful events.', 'Kristin told us all about the recent wonderful events.', 'Nancy told us all about the recent wonderful events.', 'Stephanie told us all about the recent wonderful events.', 'Ellen told us all about the recent wonderful events.'], ['Alonzo told us all about the recent wonderful events.', 'Jamel told us all about the recent wonderful events.', 'Alphonse told us all about the recent wonderful events.', 'Jerome told us all about the recent wonderful events.', 'Leroy told us all about the recent wonderful events.', 'Torrance told us all about the recent wonderful events.', 'Darnell told us all about the recent wonderful events.', 'Lamar told us all about the recent wonderful events.', 'Malik told us all about the recent wonderful events.', 'Terrence told us all about the recent wonderful events.', 'Adam told us all about the recent wonderful events.', 'Harry told us all about the recent wonderful events.', 'Josh told us all about the recent wonderful events.', 'Roger told us all about the recent wonderful events.', 'Alan told us all about the recent wonderful events.', 'Frank told us all about the recent wonderful events.', 'Justin told us all about the recent wonderful events.', 'Ryan told us all about the recent wonderful events.', 'Andrew told us all about the recent wonderful events.', 'Jack told us all about the recent wonderful events.']), 123: (['Nichelle told us all about the recent great events.', 'Shereen told us all about the recent great events.', 'Ebony told us all about the recent great events.', 'Latisha told us all about the recent great events.', 'Shaniqua told us all about the recent great events.', 'Jasmine told us all about the recent great events.', 'Tanisha told us all about the recent great events.', 'Tia told us all about the recent great events.', 'Lakisha told us all about the recent great events.', 'Latoya told us all about the recent great events.', 'Amanda told us all about the recent great events.', 'Courtney told us all about the recent great events.', 'Heather told us all about the recent great events.', 'Melanie told us all about the recent great events.', 'Katie told us all about the recent great events.', 'Betsy told us all about the recent great events.', 'Kristin told us all about the recent great events.', 'Nancy told us all about the recent great events.', 'Stephanie told us all about the recent great events.', 'Ellen told us all about the recent great events.'], ['Alonzo told us all about the recent great events.', 'Jamel told us all about the recent great events.', 'Alphonse told us all about the recent great events.', 'Jerome told us all about the recent great events.', 'Leroy told us all about the recent great events.', 'Torrance told us all about the recent great events.', 'Darnell told us all about the recent great events.', 'Lamar told us all about the recent great events.', 'Malik told us all about the recent great events.', 'Terrence told us all about the recent great events.', 'Adam told us all about the recent great events.', 'Harry told us all about the recent great events.', 'Josh told us all about the recent great events.', 'Roger told us all about the recent great events.', 'Alan told us all about the recent great events.', 'Frank told us all about the recent great events.', 'Justin told us all about the recent great events.', 'Ryan told us all about the recent great events.', 'Andrew told us all about the recent great events.', 'Jack told us all about the recent great events.']), 124: (['The conversation with Nichelle was irritating.', 'The conversation with Shereen was irritating.', 'The conversation with Ebony was irritating.', 'The conversation with Latisha was irritating.', 'The conversation with Shaniqua was irritating.', 'The conversation with Jasmine was irritating.', 'The conversation with Tanisha was irritating.', 'The conversation with Tia was irritating.', 'The conversation with Lakisha was irritating.', 'The conversation with Latoya was irritating.', 'The conversation with Amanda was irritating.', 'The conversation with Courtney was irritating.', 'The conversation with Heather was irritating.', 'The conversation with Melanie was irritating.', 'The conversation with Katie was irritating.', 'The conversation with Betsy was irritating.', 'The conversation with Kristin was irritating.', 'The conversation with Nancy was irritating.', 'The conversation with Stephanie was irritating.', 'The conversation with Ellen was irritating.'], ['The conversation with Alonzo was irritating.', 'The conversation with Jamel was irritating.', 'The conversation with Alphonse was irritating.', 'The conversation with Jerome was irritating.', 'The conversation with Leroy was irritating.', 'The conversation with Torrance was irritating.', 'The conversation with Darnell was irritating.', 'The conversation with Lamar was irritating.', 'The conversation with Malik was irritating.', 'The conversation with Terrence was irritating.', 'The conversation with Adam was irritating.', 'The conversation with Harry was irritating.', 'The conversation with Josh was irritating.', 'The conversation with Roger was irritating.', 'The conversation with Alan was irritating.', 'The conversation with Frank was irritating.', 'The conversation with Justin was irritating.', 'The conversation with Ryan was irritating.', 'The conversation with Andrew was irritating.', 'The conversation with Jack was irritating.']), 125: (['The conversation with Nichelle was vexing.', 'The conversation with Shereen was vexing.', 'The conversation with Ebony was vexing.', 'The conversation with Latisha was vexing.', 'The conversation with Shaniqua was vexing.', 'The conversation with Jasmine was vexing.', 'The conversation with Tanisha was vexing.', 'The conversation with Tia was vexing.', 'The conversation with Lakisha was vexing.', 'The conversation with Latoya was vexing.', 'The conversation with Amanda was vexing.', 'The conversation with Courtney was vexing.', 'The conversation with Heather was vexing.', 'The conversation with Melanie was vexing.', 'The conversation with Katie was vexing.', 'The conversation with Betsy was vexing.', 'The conversation with Kristin was vexing.', 'The conversation with Nancy was vexing.', 'The conversation with Stephanie was vexing.', 'The conversation with Ellen was vexing.'], ['The conversation with Alonzo was vexing.', 'The conversation with Jamel was vexing.', 'The conversation with Alphonse was vexing.', 'The conversation with Jerome was vexing.', 'The conversation with Leroy was vexing.', 'The conversation with Torrance was vexing.', 'The conversation with Darnell was vexing.', 'The conversation with Lamar was vexing.', 'The conversation with Malik was vexing.', 'The conversation with Terrence was vexing.', 'The conversation with Adam was vexing.', 'The conversation with Harry was vexing.', 'The conversation with Josh was vexing.', 'The conversation with Roger was vexing.', 'The conversation with Alan was vexing.', 'The conversation with Frank was vexing.', 'The conversation with Justin was vexing.', 'The conversation with Ryan was vexing.', 'The conversation with Andrew was vexing.', 'The conversation with Jack was vexing.']), 126: (['The conversation with Nichelle was outrageous.', 'The conversation with Shereen was outrageous.', 'The conversation with Ebony was outrageous.', 'The conversation with Latisha was outrageous.', 'The conversation with Shaniqua was outrageous.', 'The conversation with Jasmine was outrageous.', 'The conversation with Tanisha was outrageous.', 'The conversation with Tia was outrageous.', 'The conversation with Lakisha was outrageous.', 'The conversation with Latoya was outrageous.', 'The conversation with Amanda was outrageous.', 'The conversation with Courtney was outrageous.', 'The conversation with Heather was outrageous.', 'The conversation with Melanie was outrageous.', 'The conversation with Katie was outrageous.', 'The conversation with Betsy was outrageous.', 'The conversation with Kristin was outrageous.', 'The conversation with Nancy was outrageous.', 'The conversation with Stephanie was outrageous.', 'The conversation with Ellen was outrageous.'], ['The conversation with Alonzo was outrageous.', 'The conversation with Jamel was outrageous.', 'The conversation with Alphonse was outrageous.', 'The conversation with Jerome was outrageous.', 'The conversation with Leroy was outrageous.', 'The conversation with Torrance was outrageous.', 'The conversation with Darnell was outrageous.', 'The conversation with Lamar was outrageous.', 'The conversation with Malik was outrageous.', 'The conversation with Terrence was outrageous.', 'The conversation with Adam was outrageous.', 'The conversation with Harry was outrageous.', 'The conversation with Josh was outrageous.', 'The conversation with Roger was outrageous.', 'The conversation with Alan was outrageous.', 'The conversation with Frank was outrageous.', 'The conversation with Justin was outrageous.', 'The conversation with Ryan was outrageous.', 'The conversation with Andrew was outrageous.', 'The conversation with Jack was outrageous.']), 127: (['The conversation with Nichelle was annoying.', 'The conversation with Shereen was annoying.', 'The conversation with Ebony was annoying.', 'The conversation with Latisha was annoying.', 'The conversation with Shaniqua was annoying.', 'The conversation with Jasmine was annoying.', 'The conversation with Tanisha was annoying.', 'The conversation with Tia was annoying.', 'The conversation with Lakisha was annoying.', 'The conversation with Latoya was annoying.', 'The conversation with Amanda was annoying.', 'The conversation with Courtney was annoying.', 'The conversation with Heather was annoying.', 'The conversation with Melanie was annoying.', 'The conversation with Katie was annoying.', 'The conversation with Betsy was annoying.', 'The conversation with Kristin was annoying.', 'The conversation with Nancy was annoying.', 'The conversation with Stephanie was annoying.', 'The conversation with Ellen was annoying.'], ['The conversation with Alonzo was annoying.', 'The conversation with Jamel was annoying.', 'The conversation with Alphonse was annoying.', 'The conversation with Jerome was annoying.', 'The conversation with Leroy was annoying.', 'The conversation with Torrance was annoying.', 'The conversation with Darnell was annoying.', 'The conversation with Lamar was annoying.', 'The conversation with Malik was annoying.', 'The conversation with Terrence was annoying.', 'The conversation with Adam was annoying.', 'The conversation with Harry was annoying.', 'The conversation with Josh was annoying.', 'The conversation with Roger was annoying.', 'The conversation with Alan was annoying.', 'The conversation with Frank was annoying.', 'The conversation with Justin was annoying.', 'The conversation with Ryan was annoying.', 'The conversation with Andrew was annoying.', 'The conversation with Jack was annoying.']), 128: (['The conversation with Nichelle was displeasing.', 'The conversation with Shereen was displeasing.', 'The conversation with Ebony was displeasing.', 'The conversation with Latisha was displeasing.', 'The conversation with Shaniqua was displeasing.', 'The conversation with Jasmine was displeasing.', 'The conversation with Tanisha was displeasing.', 'The conversation with Tia was displeasing.', 'The conversation with Lakisha was displeasing.', 'The conversation with Latoya was displeasing.', 'The conversation with Amanda was displeasing.', 'The conversation with Courtney was displeasing.', 'The conversation with Heather was displeasing.', 'The conversation with Melanie was displeasing.', 'The conversation with Katie was displeasing.', 'The conversation with Betsy was displeasing.', 'The conversation with Kristin was displeasing.', 'The conversation with Nancy was displeasing.', 'The conversation with Stephanie was displeasing.', 'The conversation with Ellen was displeasing.'], ['The conversation with Alonzo was displeasing.', 'The conversation with Jamel was displeasing.', 'The conversation with Alphonse was displeasing.', 'The conversation with Jerome was displeasing.', 'The conversation with Leroy was displeasing.', 'The conversation with Torrance was displeasing.', 'The conversation with Darnell was displeasing.', 'The conversation with Lamar was displeasing.', 'The conversation with Malik was displeasing.', 'The conversation with Terrence was displeasing.', 'The conversation with Adam was displeasing.', 'The conversation with Harry was displeasing.', 'The conversation with Josh was displeasing.', 'The conversation with Roger was displeasing.', 'The conversation with Alan was displeasing.', 'The conversation with Frank was displeasing.', 'The conversation with Justin was displeasing.', 'The conversation with Ryan was displeasing.', 'The conversation with Andrew was displeasing.', 'The conversation with Jack was displeasing.']), 129: (['The conversation with Nichelle was depressing.', 'The conversation with Shereen was depressing.', 'The conversation with Ebony was depressing.', 'The conversation with Latisha was depressing.', 'The conversation with Shaniqua was depressing.', 'The conversation with Jasmine was depressing.', 'The conversation with Tanisha was depressing.', 'The conversation with Tia was depressing.', 'The conversation with Lakisha was depressing.', 'The conversation with Latoya was depressing.', 'The conversation with Amanda was depressing.', 'The conversation with Courtney was depressing.', 'The conversation with Heather was depressing.', 'The conversation with Melanie was depressing.', 'The conversation with Katie was depressing.', 'The conversation with Betsy was depressing.', 'The conversation with Kristin was depressing.', 'The conversation with Nancy was depressing.', 'The conversation with Stephanie was depressing.', 'The conversation with Ellen was depressing.'], ['The conversation with Alonzo was depressing.', 'The conversation with Jamel was depressing.', 'The conversation with Alphonse was depressing.', 'The conversation with Jerome was depressing.', 'The conversation with Leroy was depressing.', 'The conversation with Torrance was depressing.', 'The conversation with Darnell was depressing.', 'The conversation with Lamar was depressing.', 'The conversation with Malik was depressing.', 'The conversation with Terrence was depressing.', 'The conversation with Adam was depressing.', 'The conversation with Harry was depressing.', 'The conversation with Josh was depressing.', 'The conversation with Roger was depressing.', 'The conversation with Alan was depressing.', 'The conversation with Frank was depressing.', 'The conversation with Justin was depressing.', 'The conversation with Ryan was depressing.', 'The conversation with Andrew was depressing.', 'The conversation with Jack was depressing.']), 130: (['The conversation with Nichelle was serious.', 'The conversation with Shereen was serious.', 'The conversation with Ebony was serious.', 'The conversation with Latisha was serious.', 'The conversation with Shaniqua was serious.', 'The conversation with Jasmine was serious.', 'The conversation with Tanisha was serious.', 'The conversation with Tia was serious.', 'The conversation with Lakisha was serious.', 'The conversation with Latoya was serious.', 'The conversation with Amanda was serious.', 'The conversation with Courtney was serious.', 'The conversation with Heather was serious.', 'The conversation with Melanie was serious.', 'The conversation with Katie was serious.', 'The conversation with Betsy was serious.', 'The conversation with Kristin was serious.', 'The conversation with Nancy was serious.', 'The conversation with Stephanie was serious.', 'The conversation with Ellen was serious.'], ['The conversation with Alonzo was serious.', 'The conversation with Jamel was serious.', 'The conversation with Alphonse was serious.', 'The conversation with Jerome was serious.', 'The conversation with Leroy was serious.', 'The conversation with Torrance was serious.', 'The conversation with Darnell was serious.', 'The conversation with Lamar was serious.', 'The conversation with Malik was serious.', 'The conversation with Terrence was serious.', 'The conversation with Adam was serious.', 'The conversation with Harry was serious.', 'The conversation with Josh was serious.', 'The conversation with Roger was serious.', 'The conversation with Alan was serious.', 'The conversation with Frank was serious.', 'The conversation with Justin was serious.', 'The conversation with Ryan was serious.', 'The conversation with Andrew was serious.', 'The conversation with Jack was serious.']), 131: (['The conversation with Nichelle was grim.', 'The conversation with Shereen was grim.', 'The conversation with Ebony was grim.', 'The conversation with Latisha was grim.', 'The conversation with Shaniqua was grim.', 'The conversation with Jasmine was grim.', 'The conversation with Tanisha was grim.', 'The conversation with Tia was grim.', 'The conversation with Lakisha was grim.', 'The conversation with Latoya was grim.', 'The conversation with Amanda was grim.', 'The conversation with Courtney was grim.', 'The conversation with Heather was grim.', 'The conversation with Melanie was grim.', 'The conversation with Katie was grim.', 'The conversation with Betsy was grim.', 'The conversation with Kristin was grim.', 'The conversation with Nancy was grim.', 'The conversation with Stephanie was grim.', 'The conversation with Ellen was grim.'], ['The conversation with Alonzo was grim.', 'The conversation with Jamel was grim.', 'The conversation with Alphonse was grim.', 'The conversation with Jerome was grim.', 'The conversation with Leroy was grim.', 'The conversation with Torrance was grim.', 'The conversation with Darnell was grim.', 'The conversation with Lamar was grim.', 'The conversation with Malik was grim.', 'The conversation with Terrence was grim.', 'The conversation with Adam was grim.', 'The conversation with Harry was grim.', 'The conversation with Josh was grim.', 'The conversation with Roger was grim.', 'The conversation with Alan was grim.', 'The conversation with Frank was grim.', 'The conversation with Justin was grim.', 'The conversation with Ryan was grim.', 'The conversation with Andrew was grim.', 'The conversation with Jack was grim.']), 132: (['The conversation with Nichelle was heartbreaking.', 'The conversation with Shereen was heartbreaking.', 'The conversation with Ebony was heartbreaking.', 'The conversation with Latisha was heartbreaking.', 'The conversation with Shaniqua was heartbreaking.', 'The conversation with Jasmine was heartbreaking.', 'The conversation with Tanisha was heartbreaking.', 'The conversation with Tia was heartbreaking.', 'The conversation with Lakisha was heartbreaking.', 'The conversation with Latoya was heartbreaking.', 'The conversation with Amanda was heartbreaking.', 'The conversation with Courtney was heartbreaking.', 'The conversation with Heather was heartbreaking.', 'The conversation with Melanie was heartbreaking.', 'The conversation with Katie was heartbreaking.', 'The conversation with Betsy was heartbreaking.', 'The conversation with Kristin was heartbreaking.', 'The conversation with Nancy was heartbreaking.', 'The conversation with Stephanie was heartbreaking.', 'The conversation with Ellen was heartbreaking.'], ['The conversation with Alonzo was heartbreaking.', 'The conversation with Jamel was heartbreaking.', 'The conversation with Alphonse was heartbreaking.', 'The conversation with Jerome was heartbreaking.', 'The conversation with Leroy was heartbreaking.', 'The conversation with Torrance was heartbreaking.', 'The conversation with Darnell was heartbreaking.', 'The conversation with Lamar was heartbreaking.', 'The conversation with Malik was heartbreaking.', 'The conversation with Terrence was heartbreaking.', 'The conversation with Adam was heartbreaking.', 'The conversation with Harry was heartbreaking.', 'The conversation with Josh was heartbreaking.', 'The conversation with Roger was heartbreaking.', 'The conversation with Alan was heartbreaking.', 'The conversation with Frank was heartbreaking.', 'The conversation with Justin was heartbreaking.', 'The conversation with Ryan was heartbreaking.', 'The conversation with Andrew was heartbreaking.', 'The conversation with Jack was heartbreaking.']), 133: (['The conversation with Nichelle was gloomy.', 'The conversation with Shereen was gloomy.', 'The conversation with Ebony was gloomy.', 'The conversation with Latisha was gloomy.', 'The conversation with Shaniqua was gloomy.', 'The conversation with Jasmine was gloomy.', 'The conversation with Tanisha was gloomy.', 'The conversation with Tia was gloomy.', 'The conversation with Lakisha was gloomy.', 'The conversation with Latoya was gloomy.', 'The conversation with Amanda was gloomy.', 'The conversation with Courtney was gloomy.', 'The conversation with Heather was gloomy.', 'The conversation with Melanie was gloomy.', 'The conversation with Katie was gloomy.', 'The conversation with Betsy was gloomy.', 'The conversation with Kristin was gloomy.', 'The conversation with Nancy was gloomy.', 'The conversation with Stephanie was gloomy.', 'The conversation with Ellen was gloomy.'], ['The conversation with Alonzo was gloomy.', 'The conversation with Jamel was gloomy.', 'The conversation with Alphonse was gloomy.', 'The conversation with Jerome was gloomy.', 'The conversation with Leroy was gloomy.', 'The conversation with Torrance was gloomy.', 'The conversation with Darnell was gloomy.', 'The conversation with Lamar was gloomy.', 'The conversation with Malik was gloomy.', 'The conversation with Terrence was gloomy.', 'The conversation with Adam was gloomy.', 'The conversation with Harry was gloomy.', 'The conversation with Josh was gloomy.', 'The conversation with Roger was gloomy.', 'The conversation with Alan was gloomy.', 'The conversation with Frank was gloomy.', 'The conversation with Justin was gloomy.', 'The conversation with Ryan was gloomy.', 'The conversation with Andrew was gloomy.', 'The conversation with Jack was gloomy.']), 134: (['The conversation with Nichelle was horrible.', 'The conversation with Shereen was horrible.', 'The conversation with Ebony was horrible.', 'The conversation with Latisha was horrible.', 'The conversation with Shaniqua was horrible.', 'The conversation with Jasmine was horrible.', 'The conversation with Tanisha was horrible.', 'The conversation with Tia was horrible.', 'The conversation with Lakisha was horrible.', 'The conversation with Latoya was horrible.', 'The conversation with Amanda was horrible.', 'The conversation with Courtney was horrible.', 'The conversation with Heather was horrible.', 'The conversation with Melanie was horrible.', 'The conversation with Katie was horrible.', 'The conversation with Betsy was horrible.', 'The conversation with Kristin was horrible.', 'The conversation with Nancy was horrible.', 'The conversation with Stephanie was horrible.', 'The conversation with Ellen was horrible.'], ['The conversation with Alonzo was horrible.', 'The conversation with Jamel was horrible.', 'The conversation with Alphonse was horrible.', 'The conversation with Jerome was horrible.', 'The conversation with Leroy was horrible.', 'The conversation with Torrance was horrible.', 'The conversation with Darnell was horrible.', 'The conversation with Lamar was horrible.', 'The conversation with Malik was horrible.', 'The conversation with Terrence was horrible.', 'The conversation with Adam was horrible.', 'The conversation with Harry was horrible.', 'The conversation with Josh was horrible.', 'The conversation with Roger was horrible.', 'The conversation with Alan was horrible.', 'The conversation with Frank was horrible.', 'The conversation with Justin was horrible.', 'The conversation with Ryan was horrible.', 'The conversation with Andrew was horrible.', 'The conversation with Jack was horrible.']), 135: (['The conversation with Nichelle was threatening.', 'The conversation with Shereen was threatening.', 'The conversation with Ebony was threatening.', 'The conversation with Latisha was threatening.', 'The conversation with Shaniqua was threatening.', 'The conversation with Jasmine was threatening.', 'The conversation with Tanisha was threatening.', 'The conversation with Tia was threatening.', 'The conversation with Lakisha was threatening.', 'The conversation with Latoya was threatening.', 'The conversation with Amanda was threatening.', 'The conversation with Courtney was threatening.', 'The conversation with Heather was threatening.', 'The conversation with Melanie was threatening.', 'The conversation with Katie was threatening.', 'The conversation with Betsy was threatening.', 'The conversation with Kristin was threatening.', 'The conversation with Nancy was threatening.', 'The conversation with Stephanie was threatening.', 'The conversation with Ellen was threatening.'], ['The conversation with Alonzo was threatening.', 'The conversation with Jamel was threatening.', 'The conversation with Alphonse was threatening.', 'The conversation with Jerome was threatening.', 'The conversation with Leroy was threatening.', 'The conversation with Torrance was threatening.', 'The conversation with Darnell was threatening.', 'The conversation with Lamar was threatening.', 'The conversation with Malik was threatening.', 'The conversation with Terrence was threatening.', 'The conversation with Adam was threatening.', 'The conversation with Harry was threatening.', 'The conversation with Josh was threatening.', 'The conversation with Roger was threatening.', 'The conversation with Alan was threatening.', 'The conversation with Frank was threatening.', 'The conversation with Justin was threatening.', 'The conversation with Ryan was threatening.', 'The conversation with Andrew was threatening.', 'The conversation with Jack was threatening.']), 136: (['The conversation with Nichelle was terrifying.', 'The conversation with Shereen was terrifying.', 'The conversation with Ebony was terrifying.', 'The conversation with Latisha was terrifying.', 'The conversation with Shaniqua was terrifying.', 'The conversation with Jasmine was terrifying.', 'The conversation with Tanisha was terrifying.', 'The conversation with Tia was terrifying.', 'The conversation with Lakisha was terrifying.', 'The conversation with Latoya was terrifying.', 'The conversation with Amanda was terrifying.', 'The conversation with Courtney was terrifying.', 'The conversation with Heather was terrifying.', 'The conversation with Melanie was terrifying.', 'The conversation with Katie was terrifying.', 'The conversation with Betsy was terrifying.', 'The conversation with Kristin was terrifying.', 'The conversation with Nancy was terrifying.', 'The conversation with Stephanie was terrifying.', 'The conversation with Ellen was terrifying.'], ['The conversation with Alonzo was terrifying.', 'The conversation with Jamel was terrifying.', 'The conversation with Alphonse was terrifying.', 'The conversation with Jerome was terrifying.', 'The conversation with Leroy was terrifying.', 'The conversation with Torrance was terrifying.', 'The conversation with Darnell was terrifying.', 'The conversation with Lamar was terrifying.', 'The conversation with Malik was terrifying.', 'The conversation with Terrence was terrifying.', 'The conversation with Adam was terrifying.', 'The conversation with Harry was terrifying.', 'The conversation with Josh was terrifying.', 'The conversation with Roger was terrifying.', 'The conversation with Alan was terrifying.', 'The conversation with Frank was terrifying.', 'The conversation with Justin was terrifying.', 'The conversation with Ryan was terrifying.', 'The conversation with Andrew was terrifying.', 'The conversation with Jack was terrifying.']), 137: (['The conversation with Nichelle was shocking.', 'The conversation with Shereen was shocking.', 'The conversation with Ebony was shocking.', 'The conversation with Latisha was shocking.', 'The conversation with Shaniqua was shocking.', 'The conversation with Jasmine was shocking.', 'The conversation with Tanisha was shocking.', 'The conversation with Tia was shocking.', 'The conversation with Lakisha was shocking.', 'The conversation with Latoya was shocking.', 'The conversation with Amanda was shocking.', 'The conversation with Courtney was shocking.', 'The conversation with Heather was shocking.', 'The conversation with Melanie was shocking.', 'The conversation with Katie was shocking.', 'The conversation with Betsy was shocking.', 'The conversation with Kristin was shocking.', 'The conversation with Nancy was shocking.', 'The conversation with Stephanie was shocking.', 'The conversation with Ellen was shocking.'], ['The conversation with Alonzo was shocking.', 'The conversation with Jamel was shocking.', 'The conversation with Alphonse was shocking.', 'The conversation with Jerome was shocking.', 'The conversation with Leroy was shocking.', 'The conversation with Torrance was shocking.', 'The conversation with Darnell was shocking.', 'The conversation with Lamar was shocking.', 'The conversation with Malik was shocking.', 'The conversation with Terrence was shocking.', 'The conversation with Adam was shocking.', 'The conversation with Harry was shocking.', 'The conversation with Josh was shocking.', 'The conversation with Roger was shocking.', 'The conversation with Alan was shocking.', 'The conversation with Frank was shocking.', 'The conversation with Justin was shocking.', 'The conversation with Ryan was shocking.', 'The conversation with Andrew was shocking.', 'The conversation with Jack was shocking.']), 138: (['The conversation with Nichelle was dreadful.', 'The conversation with Shereen was dreadful.', 'The conversation with Ebony was dreadful.', 'The conversation with Latisha was dreadful.', 'The conversation with Shaniqua was dreadful.', 'The conversation with Jasmine was dreadful.', 'The conversation with Tanisha was dreadful.', 'The conversation with Tia was dreadful.', 'The conversation with Lakisha was dreadful.', 'The conversation with Latoya was dreadful.', 'The conversation with Amanda was dreadful.', 'The conversation with Courtney was dreadful.', 'The conversation with Heather was dreadful.', 'The conversation with Melanie was dreadful.', 'The conversation with Katie was dreadful.', 'The conversation with Betsy was dreadful.', 'The conversation with Kristin was dreadful.', 'The conversation with Nancy was dreadful.', 'The conversation with Stephanie was dreadful.', 'The conversation with Ellen was dreadful.'], ['The conversation with Alonzo was dreadful.', 'The conversation with Jamel was dreadful.', 'The conversation with Alphonse was dreadful.', 'The conversation with Jerome was dreadful.', 'The conversation with Leroy was dreadful.', 'The conversation with Torrance was dreadful.', 'The conversation with Darnell was dreadful.', 'The conversation with Lamar was dreadful.', 'The conversation with Malik was dreadful.', 'The conversation with Terrence was dreadful.', 'The conversation with Adam was dreadful.', 'The conversation with Harry was dreadful.', 'The conversation with Josh was dreadful.', 'The conversation with Roger was dreadful.', 'The conversation with Alan was dreadful.', 'The conversation with Frank was dreadful.', 'The conversation with Justin was dreadful.', 'The conversation with Ryan was dreadful.', 'The conversation with Andrew was dreadful.', 'The conversation with Jack was dreadful.']), 139: (['The conversation with Nichelle was funny.', 'The conversation with Shereen was funny.', 'The conversation with Ebony was funny.', 'The conversation with Latisha was funny.', 'The conversation with Shaniqua was funny.', 'The conversation with Jasmine was funny.', 'The conversation with Tanisha was funny.', 'The conversation with Tia was funny.', 'The conversation with Lakisha was funny.', 'The conversation with Latoya was funny.', 'The conversation with Amanda was funny.', 'The conversation with Courtney was funny.', 'The conversation with Heather was funny.', 'The conversation with Melanie was funny.', 'The conversation with Katie was funny.', 'The conversation with Betsy was funny.', 'The conversation with Kristin was funny.', 'The conversation with Nancy was funny.', 'The conversation with Stephanie was funny.', 'The conversation with Ellen was funny.'], ['The conversation with Alonzo was funny.', 'The conversation with Jamel was funny.', 'The conversation with Alphonse was funny.', 'The conversation with Jerome was funny.', 'The conversation with Leroy was funny.', 'The conversation with Torrance was funny.', 'The conversation with Darnell was funny.', 'The conversation with Lamar was funny.', 'The conversation with Malik was funny.', 'The conversation with Terrence was funny.', 'The conversation with Adam was funny.', 'The conversation with Harry was funny.', 'The conversation with Josh was funny.', 'The conversation with Roger was funny.', 'The conversation with Alan was funny.', 'The conversation with Frank was funny.', 'The conversation with Justin was funny.', 'The conversation with Ryan was funny.', 'The conversation with Andrew was funny.', 'The conversation with Jack was funny.']), 140: (['The conversation with Nichelle was hilarious.', 'The conversation with Shereen was hilarious.', 'The conversation with Ebony was hilarious.', 'The conversation with Latisha was hilarious.', 'The conversation with Shaniqua was hilarious.', 'The conversation with Jasmine was hilarious.', 'The conversation with Tanisha was hilarious.', 'The conversation with Tia was hilarious.', 'The conversation with Lakisha was hilarious.', 'The conversation with Latoya was hilarious.', 'The conversation with Amanda was hilarious.', 'The conversation with Courtney was hilarious.', 'The conversation with Heather was hilarious.', 'The conversation with Melanie was hilarious.', 'The conversation with Katie was hilarious.', 'The conversation with Betsy was hilarious.', 'The conversation with Kristin was hilarious.', 'The conversation with Nancy was hilarious.', 'The conversation with Stephanie was hilarious.', 'The conversation with Ellen was hilarious.'], ['The conversation with Alonzo was hilarious.', 'The conversation with Jamel was hilarious.', 'The conversation with Alphonse was hilarious.', 'The conversation with Jerome was hilarious.', 'The conversation with Leroy was hilarious.', 'The conversation with Torrance was hilarious.', 'The conversation with Darnell was hilarious.', 'The conversation with Lamar was hilarious.', 'The conversation with Malik was hilarious.', 'The conversation with Terrence was hilarious.', 'The conversation with Adam was hilarious.', 'The conversation with Harry was hilarious.', 'The conversation with Josh was hilarious.', 'The conversation with Roger was hilarious.', 'The conversation with Alan was hilarious.', 'The conversation with Frank was hilarious.', 'The conversation with Justin was hilarious.', 'The conversation with Ryan was hilarious.', 'The conversation with Andrew was hilarious.', 'The conversation with Jack was hilarious.']), 141: (['The conversation with Nichelle was amazing.', 'The conversation with Shereen was amazing.', 'The conversation with Ebony was amazing.', 'The conversation with Latisha was amazing.', 'The conversation with Shaniqua was amazing.', 'The conversation with Jasmine was amazing.', 'The conversation with Tanisha was amazing.', 'The conversation with Tia was amazing.', 'The conversation with Lakisha was amazing.', 'The conversation with Latoya was amazing.', 'The conversation with Amanda was amazing.', 'The conversation with Courtney was amazing.', 'The conversation with Heather was amazing.', 'The conversation with Melanie was amazing.', 'The conversation with Katie was amazing.', 'The conversation with Betsy was amazing.', 'The conversation with Kristin was amazing.', 'The conversation with Nancy was amazing.', 'The conversation with Stephanie was amazing.', 'The conversation with Ellen was amazing.'], ['The conversation with Alonzo was amazing.', 'The conversation with Jamel was amazing.', 'The conversation with Alphonse was amazing.', 'The conversation with Jerome was amazing.', 'The conversation with Leroy was amazing.', 'The conversation with Torrance was amazing.', 'The conversation with Darnell was amazing.', 'The conversation with Lamar was amazing.', 'The conversation with Malik was amazing.', 'The conversation with Terrence was amazing.', 'The conversation with Adam was amazing.', 'The conversation with Harry was amazing.', 'The conversation with Josh was amazing.', 'The conversation with Roger was amazing.', 'The conversation with Alan was amazing.', 'The conversation with Frank was amazing.', 'The conversation with Justin was amazing.', 'The conversation with Ryan was amazing.', 'The conversation with Andrew was amazing.', 'The conversation with Jack was amazing.']), 142: (['The conversation with Nichelle was wonderful.', 'The conversation with Shereen was wonderful.', 'The conversation with Ebony was wonderful.', 'The conversation with Latisha was wonderful.', 'The conversation with Shaniqua was wonderful.', 'The conversation with Jasmine was wonderful.', 'The conversation with Tanisha was wonderful.', 'The conversation with Tia was wonderful.', 'The conversation with Lakisha was wonderful.', 'The conversation with Latoya was wonderful.', 'The conversation with Amanda was wonderful.', 'The conversation with Courtney was wonderful.', 'The conversation with Heather was wonderful.', 'The conversation with Melanie was wonderful.', 'The conversation with Katie was wonderful.', 'The conversation with Betsy was wonderful.', 'The conversation with Kristin was wonderful.', 'The conversation with Nancy was wonderful.', 'The conversation with Stephanie was wonderful.', 'The conversation with Ellen was wonderful.'], ['The conversation with Alonzo was wonderful.', 'The conversation with Jamel was wonderful.', 'The conversation with Alphonse was wonderful.', 'The conversation with Jerome was wonderful.', 'The conversation with Leroy was wonderful.', 'The conversation with Torrance was wonderful.', 'The conversation with Darnell was wonderful.', 'The conversation with Lamar was wonderful.', 'The conversation with Malik was wonderful.', 'The conversation with Terrence was wonderful.', 'The conversation with Adam was wonderful.', 'The conversation with Harry was wonderful.', 'The conversation with Josh was wonderful.', 'The conversation with Roger was wonderful.', 'The conversation with Alan was wonderful.', 'The conversation with Frank was wonderful.', 'The conversation with Justin was wonderful.', 'The conversation with Ryan was wonderful.', 'The conversation with Andrew was wonderful.', 'The conversation with Jack was wonderful.']), 143: (['The conversation with Nichelle was great.', 'The conversation with Shereen was great.', 'The conversation with Ebony was great.', 'The conversation with Latisha was great.', 'The conversation with Shaniqua was great.', 'The conversation with Jasmine was great.', 'The conversation with Tanisha was great.', 'The conversation with Tia was great.', 'The conversation with Lakisha was great.', 'The conversation with Latoya was great.', 'The conversation with Amanda was great.', 'The conversation with Courtney was great.', 'The conversation with Heather was great.', 'The conversation with Melanie was great.', 'The conversation with Katie was great.', 'The conversation with Betsy was great.', 'The conversation with Kristin was great.', 'The conversation with Nancy was great.', 'The conversation with Stephanie was great.', 'The conversation with Ellen was great.'], ['The conversation with Alonzo was great.', 'The conversation with Jamel was great.', 'The conversation with Alphonse was great.', 'The conversation with Jerome was great.', 'The conversation with Leroy was great.', 'The conversation with Torrance was great.', 'The conversation with Darnell was great.', 'The conversation with Lamar was great.', 'The conversation with Malik was great.', 'The conversation with Terrence was great.', 'The conversation with Adam was great.', 'The conversation with Harry was great.', 'The conversation with Josh was great.', 'The conversation with Roger was great.', 'The conversation with Alan was great.', 'The conversation with Frank was great.', 'The conversation with Justin was great.', 'The conversation with Ryan was great.', 'The conversation with Andrew was great.', 'The conversation with Jack was great.'])}\n"
          ]
        }
      ]
    },
    {
      "cell_type": "markdown",
      "source": [
        "## Two Sample t- test"
      ],
      "metadata": {
        "id": "3dMoFvYwy1uy"
      }
    },
    {
      "cell_type": "code",
      "source": [
        "# Importing library\n",
        "import scipy.stats as stats\n",
        "\n",
        "# pre holds the mileage before\n",
        "# applying the different engine oil\n",
        "pre = [30, 31, 34, 40, 36, 35,\n",
        "\t34, 30, 28, 29]\n",
        "\n",
        "# post holds the mileage after\n",
        "# applying the different engine oil\n",
        "post = [30, 31, 32, 38, 32, 31,\n",
        "\t\t32, 29, 28, 30]\n",
        "\n",
        "# Performing the paired sample t-test\n",
        "stats.ttest_rel(pre, post)\n"
      ],
      "metadata": {
        "colab": {
          "base_uri": "https://localhost:8080/"
        },
        "id": "pa8ZdJjOwntD",
        "outputId": "584a408c-d441-498c-c40b-a16d669cd946"
      },
      "execution_count": 80,
      "outputs": [
        {
          "output_type": "execute_result",
          "data": {
            "text/plain": [
              "Ttest_relResult(statistic=2.584921310565987, pvalue=0.029457853822895275)"
            ]
          },
          "metadata": {},
          "execution_count": 80
        }
      ]
    },
    {
      "cell_type": "code",
      "source": [
        "for key, value in dict_list_named_sentence_pairs.items():\n",
        "  female_list = value[0]\n",
        "  male_list = value[1]\n",
        "  female_list_output = [predict(sentence, loaded_model,text_pipeline) for sentence in female_list]\n",
        "  male_list_output = [predict(sentence, loaded_model,text_pipeline) for sentence in male_list]\n",
        "  # for sentence in female_list:\n",
        "  #   female_list_output.append(predict(sentence, loaded_model,text_pipeline)\n",
        "  print(female_list_output,\"\\n\",male_list_output)\n",
        "  break"
      ],
      "metadata": {
        "colab": {
          "base_uri": "https://localhost:8080/",
          "height": 356
        },
        "id": "aaXd_3lrzUYY",
        "outputId": "a094dd4e-acf8-4f03-bfd7-a24026e06338"
      },
      "execution_count": 88,
      "outputs": [
        {
          "output_type": "error",
          "ename": "AttributeError",
          "evalue": "ignored",
          "traceback": [
            "\u001b[0;31m---------------------------------------------------------------------------\u001b[0m",
            "\u001b[0;31mAttributeError\u001b[0m                            Traceback (most recent call last)",
            "\u001b[0;32m<ipython-input-88-5e070cce141d>\u001b[0m in \u001b[0;36m<module>\u001b[0;34m\u001b[0m\n\u001b[1;32m      2\u001b[0m   \u001b[0mfemale_list\u001b[0m \u001b[0;34m=\u001b[0m \u001b[0mvalue\u001b[0m\u001b[0;34m[\u001b[0m\u001b[0;36m0\u001b[0m\u001b[0;34m]\u001b[0m\u001b[0;34m\u001b[0m\u001b[0;34m\u001b[0m\u001b[0m\n\u001b[1;32m      3\u001b[0m   \u001b[0mmale_list\u001b[0m \u001b[0;34m=\u001b[0m \u001b[0mvalue\u001b[0m\u001b[0;34m[\u001b[0m\u001b[0;36m1\u001b[0m\u001b[0;34m]\u001b[0m\u001b[0;34m\u001b[0m\u001b[0;34m\u001b[0m\u001b[0m\n\u001b[0;32m----> 4\u001b[0;31m   \u001b[0mfemale_list_output\u001b[0m \u001b[0;34m=\u001b[0m \u001b[0;34m[\u001b[0m\u001b[0mpredict\u001b[0m\u001b[0;34m(\u001b[0m\u001b[0msentence\u001b[0m\u001b[0;34m.\u001b[0m\u001b[0mto\u001b[0m\u001b[0;34m(\u001b[0m\u001b[0mDEVICE\u001b[0m\u001b[0;34m)\u001b[0m\u001b[0;34m,\u001b[0m \u001b[0mloaded_model\u001b[0m\u001b[0;34m,\u001b[0m\u001b[0mtext_pipeline\u001b[0m\u001b[0;34m)\u001b[0m \u001b[0;32mfor\u001b[0m \u001b[0msentence\u001b[0m \u001b[0;32min\u001b[0m \u001b[0mfemale_list\u001b[0m\u001b[0;34m]\u001b[0m\u001b[0;34m\u001b[0m\u001b[0;34m\u001b[0m\u001b[0m\n\u001b[0m\u001b[1;32m      5\u001b[0m   \u001b[0mmale_list_output\u001b[0m \u001b[0;34m=\u001b[0m \u001b[0;34m[\u001b[0m\u001b[0mpredict\u001b[0m\u001b[0;34m(\u001b[0m\u001b[0msentence\u001b[0m\u001b[0;34m.\u001b[0m\u001b[0mto\u001b[0m\u001b[0;34m(\u001b[0m\u001b[0mDEVICE\u001b[0m\u001b[0;34m)\u001b[0m\u001b[0;34m,\u001b[0m \u001b[0mloaded_model\u001b[0m\u001b[0;34m,\u001b[0m\u001b[0mtext_pipeline\u001b[0m\u001b[0;34m)\u001b[0m \u001b[0;32mfor\u001b[0m \u001b[0msentence\u001b[0m \u001b[0;32min\u001b[0m \u001b[0mmale_list\u001b[0m\u001b[0;34m]\u001b[0m\u001b[0;34m\u001b[0m\u001b[0;34m\u001b[0m\u001b[0m\n\u001b[1;32m      6\u001b[0m   \u001b[0;31m# for sentence in female_list:\u001b[0m\u001b[0;34m\u001b[0m\u001b[0;34m\u001b[0m\u001b[0;34m\u001b[0m\u001b[0m\n",
            "\u001b[0;32m<ipython-input-88-5e070cce141d>\u001b[0m in \u001b[0;36m<listcomp>\u001b[0;34m(.0)\u001b[0m\n\u001b[1;32m      2\u001b[0m   \u001b[0mfemale_list\u001b[0m \u001b[0;34m=\u001b[0m \u001b[0mvalue\u001b[0m\u001b[0;34m[\u001b[0m\u001b[0;36m0\u001b[0m\u001b[0;34m]\u001b[0m\u001b[0;34m\u001b[0m\u001b[0;34m\u001b[0m\u001b[0m\n\u001b[1;32m      3\u001b[0m   \u001b[0mmale_list\u001b[0m \u001b[0;34m=\u001b[0m \u001b[0mvalue\u001b[0m\u001b[0;34m[\u001b[0m\u001b[0;36m1\u001b[0m\u001b[0;34m]\u001b[0m\u001b[0;34m\u001b[0m\u001b[0;34m\u001b[0m\u001b[0m\n\u001b[0;32m----> 4\u001b[0;31m   \u001b[0mfemale_list_output\u001b[0m \u001b[0;34m=\u001b[0m \u001b[0;34m[\u001b[0m\u001b[0mpredict\u001b[0m\u001b[0;34m(\u001b[0m\u001b[0msentence\u001b[0m\u001b[0;34m.\u001b[0m\u001b[0mto\u001b[0m\u001b[0;34m(\u001b[0m\u001b[0mDEVICE\u001b[0m\u001b[0;34m)\u001b[0m\u001b[0;34m,\u001b[0m \u001b[0mloaded_model\u001b[0m\u001b[0;34m,\u001b[0m\u001b[0mtext_pipeline\u001b[0m\u001b[0;34m)\u001b[0m \u001b[0;32mfor\u001b[0m \u001b[0msentence\u001b[0m \u001b[0;32min\u001b[0m \u001b[0mfemale_list\u001b[0m\u001b[0;34m]\u001b[0m\u001b[0;34m\u001b[0m\u001b[0;34m\u001b[0m\u001b[0m\n\u001b[0m\u001b[1;32m      5\u001b[0m   \u001b[0mmale_list_output\u001b[0m \u001b[0;34m=\u001b[0m \u001b[0;34m[\u001b[0m\u001b[0mpredict\u001b[0m\u001b[0;34m(\u001b[0m\u001b[0msentence\u001b[0m\u001b[0;34m.\u001b[0m\u001b[0mto\u001b[0m\u001b[0;34m(\u001b[0m\u001b[0mDEVICE\u001b[0m\u001b[0;34m)\u001b[0m\u001b[0;34m,\u001b[0m \u001b[0mloaded_model\u001b[0m\u001b[0;34m,\u001b[0m\u001b[0mtext_pipeline\u001b[0m\u001b[0;34m)\u001b[0m \u001b[0;32mfor\u001b[0m \u001b[0msentence\u001b[0m \u001b[0;32min\u001b[0m \u001b[0mmale_list\u001b[0m\u001b[0;34m]\u001b[0m\u001b[0;34m\u001b[0m\u001b[0;34m\u001b[0m\u001b[0m\n\u001b[1;32m      6\u001b[0m   \u001b[0;31m# for sentence in female_list:\u001b[0m\u001b[0;34m\u001b[0m\u001b[0;34m\u001b[0m\u001b[0;34m\u001b[0m\u001b[0m\n",
            "\u001b[0;31mAttributeError\u001b[0m: 'str' object has no attribute 'to'"
          ]
        }
      ]
    }
  ]
}