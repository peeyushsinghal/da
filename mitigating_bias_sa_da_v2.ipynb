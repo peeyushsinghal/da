{
  "nbformat": 4,
  "nbformat_minor": 0,
  "metadata": {
    "colab": {
      "provenance": [],
      "toc_visible": true,
      "collapsed_sections": [],
      "authorship_tag": "ABX9TyNa4VSmoITb8CteF7Jx46U0",
      "include_colab_link": true
    },
    "kernelspec": {
      "name": "python3",
      "display_name": "Python 3"
    },
    "language_info": {
      "name": "python"
    }
  },
  "cells": [
    {
      "cell_type": "markdown",
      "metadata": {
        "id": "view-in-github",
        "colab_type": "text"
      },
      "source": [
        "<a href=\"https://colab.research.google.com/github/peeyushsinghal/da/blob/main/mitigating_bias_sa_da_v2.ipynb\" target=\"_parent\"><img src=\"https://colab.research.google.com/assets/colab-badge.svg\" alt=\"Open In Colab\"/></a>"
      ]
    },
    {
      "cell_type": "markdown",
      "source": [
        "# Mitigating bias in sentiment analysis using domain adaptation"
      ],
      "metadata": {
        "id": "NAewnDQwhFKS"
      }
    },
    {
      "cell_type": "code",
      "source": [
        "! pip install ekphrasis # library to pre process twitter data\n",
        "! pip install emoji --upgrade #library to deal with emoji data\n",
        "\n"
      ],
      "metadata": {
        "colab": {
          "base_uri": "https://localhost:8080/"
        },
        "id": "8jYp6x5D5AYi",
        "outputId": "521977ad-1175-40fb-d979-c81e8214da76"
      },
      "execution_count": 189,
      "outputs": [
        {
          "output_type": "stream",
          "name": "stdout",
          "text": [
            "Looking in indexes: https://pypi.org/simple, https://us-python.pkg.dev/colab-wheels/public/simple/\n",
            "Requirement already satisfied: ekphrasis in /usr/local/lib/python3.7/dist-packages (0.5.4)\n",
            "Requirement already satisfied: ftfy in /usr/local/lib/python3.7/dist-packages (from ekphrasis) (6.1.1)\n",
            "Requirement already satisfied: numpy in /usr/local/lib/python3.7/dist-packages (from ekphrasis) (1.21.6)\n",
            "Requirement already satisfied: tqdm in /usr/local/lib/python3.7/dist-packages (from ekphrasis) (4.64.1)\n",
            "Requirement already satisfied: matplotlib in /usr/local/lib/python3.7/dist-packages (from ekphrasis) (3.2.2)\n",
            "Requirement already satisfied: colorama in /usr/local/lib/python3.7/dist-packages (from ekphrasis) (0.4.5)\n",
            "Requirement already satisfied: ujson in /usr/local/lib/python3.7/dist-packages (from ekphrasis) (5.5.0)\n",
            "Requirement already satisfied: termcolor in /usr/local/lib/python3.7/dist-packages (from ekphrasis) (2.0.1)\n",
            "Requirement already satisfied: nltk in /usr/local/lib/python3.7/dist-packages (from ekphrasis) (3.7)\n",
            "Requirement already satisfied: wcwidth>=0.2.5 in /usr/local/lib/python3.7/dist-packages (from ftfy->ekphrasis) (0.2.5)\n",
            "Requirement already satisfied: pyparsing!=2.0.4,!=2.1.2,!=2.1.6,>=2.0.1 in /usr/local/lib/python3.7/dist-packages (from matplotlib->ekphrasis) (3.0.9)\n",
            "Requirement already satisfied: python-dateutil>=2.1 in /usr/local/lib/python3.7/dist-packages (from matplotlib->ekphrasis) (2.8.2)\n",
            "Requirement already satisfied: cycler>=0.10 in /usr/local/lib/python3.7/dist-packages (from matplotlib->ekphrasis) (0.11.0)\n",
            "Requirement already satisfied: kiwisolver>=1.0.1 in /usr/local/lib/python3.7/dist-packages (from matplotlib->ekphrasis) (1.4.4)\n",
            "Requirement already satisfied: typing-extensions in /usr/local/lib/python3.7/dist-packages (from kiwisolver>=1.0.1->matplotlib->ekphrasis) (4.1.1)\n",
            "Requirement already satisfied: six>=1.5 in /usr/local/lib/python3.7/dist-packages (from python-dateutil>=2.1->matplotlib->ekphrasis) (1.15.0)\n",
            "Requirement already satisfied: click in /usr/local/lib/python3.7/dist-packages (from nltk->ekphrasis) (7.1.2)\n",
            "Requirement already satisfied: regex>=2021.8.3 in /usr/local/lib/python3.7/dist-packages (from nltk->ekphrasis) (2022.6.2)\n",
            "Requirement already satisfied: joblib in /usr/local/lib/python3.7/dist-packages (from nltk->ekphrasis) (1.2.0)\n",
            "Looking in indexes: https://pypi.org/simple, https://us-python.pkg.dev/colab-wheels/public/simple/\n",
            "Requirement already satisfied: emoji in /usr/local/lib/python3.7/dist-packages (2.1.0)\n",
            "Looking in indexes: https://pypi.org/simple, https://us-python.pkg.dev/colab-wheels/public/simple/\n",
            "Collecting NRCLex\n",
            "  Downloading NRCLex-4.0-py3-none-any.whl (4.4 kB)\n",
            "  Downloading NRCLex-3.0.0.tar.gz (396 kB)\n",
            "\u001b[K     |████████████████████████████████| 396 kB 4.2 MB/s \n",
            "\u001b[?25hRequirement already satisfied: textblob in /usr/local/lib/python3.7/dist-packages (from NRCLex) (0.15.3)\n",
            "Requirement already satisfied: nltk>=3.1 in /usr/local/lib/python3.7/dist-packages (from textblob->NRCLex) (3.7)\n",
            "Requirement already satisfied: click in /usr/local/lib/python3.7/dist-packages (from nltk>=3.1->textblob->NRCLex) (7.1.2)\n",
            "Requirement already satisfied: joblib in /usr/local/lib/python3.7/dist-packages (from nltk>=3.1->textblob->NRCLex) (1.2.0)\n",
            "Requirement already satisfied: tqdm in /usr/local/lib/python3.7/dist-packages (from nltk>=3.1->textblob->NRCLex) (4.64.1)\n",
            "Requirement already satisfied: regex>=2021.8.3 in /usr/local/lib/python3.7/dist-packages (from nltk>=3.1->textblob->NRCLex) (2022.6.2)\n",
            "Building wheels for collected packages: NRCLex\n",
            "  Building wheel for NRCLex (setup.py) ... \u001b[?25l\u001b[?25hdone\n",
            "  Created wheel for NRCLex: filename=NRCLex-3.0.0-py3-none-any.whl size=43329 sha256=0cf6f6f4660ebc1514b002c681bccad5d734fe9ab5330de55e1f5da43afc59e1\n",
            "  Stored in directory: /root/.cache/pip/wheels/af/2c/9c/dfa19d1b65326c520b32850a9311f6d4eda679ac04dba26081\n",
            "Successfully built NRCLex\n",
            "Installing collected packages: NRCLex\n",
            "Successfully installed NRCLex-3.0.0\n"
          ]
        }
      ]
    },
    {
      "cell_type": "code",
      "execution_count": 360,
      "metadata": {
        "id": "UN22BqAu8mbl"
      },
      "outputs": [],
      "source": [
        "## Import statements\n",
        "import pandas as pd\n",
        "import os\n",
        "import torch\n",
        "from torch.utils.data import Dataset, DataLoader\n",
        "from torchtext.vocab import GloVe\n",
        "import numpy as np\n",
        "from ekphrasis.classes.preprocessor import TextPreProcessor\n",
        "from ekphrasis.classes.tokenizer import SocialTokenizer\n",
        "from ekphrasis.dicts.emoticons import emoticons\n",
        "import emoji\n",
        "from tqdm import tqdm\n",
        "import random\n",
        "import torch.optim as optim\n",
        "import json\n"
      ]
    },
    {
      "cell_type": "code",
      "source": [
        "# checking device\n",
        "DEVICE = torch.device(\"cuda\" if torch.cuda.is_available() else \"cpu\")\n",
        "print(\"Running on:{}\".format(DEVICE))"
      ],
      "metadata": {
        "colab": {
          "base_uri": "https://localhost:8080/"
        },
        "id": "YCz_btt5Saig",
        "outputId": "9e7ffc73-3917-470b-9cca-1f2503da7fb2"
      },
      "execution_count": 6,
      "outputs": [
        {
          "output_type": "stream",
          "name": "stdout",
          "text": [
            "Running on:cpu\n"
          ]
        }
      ]
    },
    {
      "cell_type": "markdown",
      "source": [
        "# Data Handling"
      ],
      "metadata": {
        "id": "xWShQEZF9MlF"
      }
    },
    {
      "cell_type": "markdown",
      "source": [
        "Mounting google drive for data in there"
      ],
      "metadata": {
        "id": "LDNN2hc-9SL0"
      }
    },
    {
      "cell_type": "code",
      "source": [
        "from google.colab import drive\n",
        "drive.mount('/content/drive', force_remount=True)"
      ],
      "metadata": {
        "colab": {
          "base_uri": "https://localhost:8080/"
        },
        "id": "dPXnt-PrRvGm",
        "outputId": "7e384afe-e3a6-4ada-b7ed-31f66ad52b68"
      },
      "execution_count": 7,
      "outputs": [
        {
          "output_type": "stream",
          "name": "stdout",
          "text": [
            "Mounted at /content/drive\n"
          ]
        }
      ]
    },
    {
      "cell_type": "markdown",
      "source": [
        "##Data configuration"
      ],
      "metadata": {
        "id": "v1MWCkgXSSv3"
      }
    },
    {
      "cell_type": "code",
      "source": [
        "BASE_PATH = '/content/drive/MyDrive/semeval-2018'\n",
        "DATA_DIR = os.path.join(BASE_PATH,'datasets')\n",
        "MODEL_DIR = os.path.join(BASE_PATH,'models')\n",
        "REF_DIR = os.path.join(BASE_PATH,'reference')\n",
        "\n",
        "if not os.path.exists(MODEL_DIR):\n",
        "  os.makedirs(MODEL_DIR)\n",
        "  print(\"The new directory is created!\")\n",
        "\n",
        "domain_source = 0.0\n",
        "domain_target = 1.0"
      ],
      "metadata": {
        "id": "JAVHMCaNSIlW"
      },
      "execution_count": 193,
      "outputs": []
    },
    {
      "cell_type": "code",
      "source": [
        "class TASK1(object):\n",
        "  \n",
        "    EI_reg = {\n",
        "        'anger': {\n",
        "            'train': os.path.join(\n",
        "                DATA_DIR, 'task1/EI-reg/training/EI-reg-En-anger-train.txt'),\n",
        "            'dev': os.path.join(\n",
        "                DATA_DIR, 'task1/EI-reg/development/2018-EI-reg-En-anger-dev.txt'),\n",
        "            'gold': os.path.join(\n",
        "                DATA_DIR, 'task1/EI-reg/test-gold/2018-EI-reg-En-anger-test-gold.txt')\n",
        "                }\n",
        "        }\n",
        "\n",
        "    V_reg = {\n",
        "        'train': os.path.join(\n",
        "            DATA_DIR, 'task1/V-reg/2018-Valence-reg-En-train.txt'),\n",
        "        'dev': os.path.join(\n",
        "            DATA_DIR, 'task1/V-reg/2018-Valence-reg-En-dev.txt'),\n",
        "        'gold': os.path.join(\n",
        "            DATA_DIR, 'task1/V-reg/2018-Valence-reg-En-test-gold.txt')\n",
        "             }\n",
        "\n",
        "    EEC = {\n",
        "        'eec': os.path.join(\n",
        "            DATA_DIR, 'task1/Equity-Evaluation-Corpus/Equity-Evaluation-Corpus.csv')\n",
        "             }"
      ],
      "metadata": {
        "id": "_Z4pcQiGSyXX"
      },
      "execution_count": 11,
      "outputs": []
    },
    {
      "cell_type": "markdown",
      "source": [
        "##Dataloading and Parsing"
      ],
      "metadata": {
        "id": "UfWsmb-8V9Er"
      }
    },
    {
      "cell_type": "markdown",
      "source": [
        "### Source Data"
      ],
      "metadata": {
        "id": "XwMIowbv_YIi"
      }
    },
    {
      "cell_type": "markdown",
      "source": [
        "Parsing Emotion and Valence regression data : `format [ID\tTweet\tAffect Dimension\tIntensity Score]`"
      ],
      "metadata": {
        "id": "CtLKXfb-Xi79"
      }
    },
    {
      "cell_type": "code",
      "source": [
        "def parse_reg(data_file, label_format='tuple')-> pd.DataFrame:\n",
        "    \"\"\"\n",
        "    This is for datasets for the EI-reg and V-reg English tasks \n",
        "    Returns:\n",
        "        df: dataframe with columns in the first row of file [ID-Tweet-Affect Dimension-Intensity Score]\n",
        "    \"\"\"\n",
        "    with open(data_file, 'r') as fd:\n",
        "      data = [l.strip().split('\\t') for l in fd.readlines()]\n",
        "    \n",
        "    df = pd.DataFrame (data[1:],columns=data[0])\n",
        "    df['domain'] = domain_source\n",
        "    return df"
      ],
      "metadata": {
        "id": "7-CzssqIr68Z"
      },
      "execution_count": 101,
      "outputs": []
    },
    {
      "cell_type": "markdown",
      "source": [
        "### Target Data"
      ],
      "metadata": {
        "id": "I1Xdl7OR_ogd"
      }
    },
    {
      "cell_type": "markdown",
      "source": [
        "parsing EEC data : `format [ID\tSentence\tTemplate\tPerson\tGender\tRace Emotion\tEmotion word]`"
      ],
      "metadata": {
        "id": "FNEQISzDY6ss"
      }
    },
    {
      "cell_type": "code",
      "source": [
        "def parse_eec()->pd.DataFrame:\n",
        "  \"\"\"\n",
        "  This is for EEC Dataset, it is a csv file\n",
        "  Returns:\n",
        "        df_eec: dataframe \n",
        "  \"\"\"\n",
        "  data_train = TASK1.EEC['eec']\n",
        "  df_eec = pd.read_csv(data_train)\n",
        "  df_eec['domain'] = domain_target\n",
        "  return df_eec\n"
      ],
      "metadata": {
        "id": "afnCKQmtYhW3"
      },
      "execution_count": 102,
      "outputs": []
    },
    {
      "cell_type": "code",
      "source": [
        "def parse(task, dataset, emotion='anger') -> pd.DataFrame:\n",
        "    if task == 'EI-reg':\n",
        "        data_train = TASK1.EI_reg[emotion][dataset]\n",
        "        df = parse_reg(data_train)\n",
        "        df[df.columns[-1]] = df[df.columns[-1]].astype(float)\n",
        "        return df\n",
        "    elif task == 'V-reg':\n",
        "        data_train = TASK1.V_reg[dataset]\n",
        "        df = parse_reg(data_train)\n",
        "        df[df.columns[-1]] = df[df.columns[-1]].astype(float)\n",
        "        return df\n",
        "    else:\n",
        "        return None, None"
      ],
      "metadata": {
        "id": "0J7zs1GzXh8F"
      },
      "execution_count": 103,
      "outputs": []
    },
    {
      "cell_type": "code",
      "source": [
        "## Creating Dataframes\n",
        "df_EI_reg_train = parse('EI-reg','train')\n",
        "df_EI_reg_val = parse('EI-reg','dev')\n",
        "df_EI_reg_test = parse('EI-reg','gold')\n",
        "df_V_reg_train = parse('V-reg','train')\n",
        "df_V_reg_val = parse('V-reg','dev')\n",
        "df_V_reg_test = parse('V-reg','gold')\n",
        "\n",
        "dict_df= {'df_EI_reg_train':df_EI_reg_train, \n",
        "          'df_EI_reg_val':df_EI_reg_val, \n",
        "          'df_EI_reg_test':df_EI_reg_test, \n",
        "          'df_V_reg_train': df_V_reg_train, \n",
        "          'df_V_reg_val':df_V_reg_val, \n",
        "          'df_V_reg_test': df_V_reg_test \n",
        "          }"
      ],
      "metadata": {
        "id": "9CgnnxH-aU6B"
      },
      "execution_count": 104,
      "outputs": []
    },
    {
      "cell_type": "code",
      "source": [
        "dict_df['df_V_reg_test']\n",
        "count = 0\n",
        "for name, df in dict_df.items():\n",
        "  if \"train\" in name:\n",
        "    count = count+ len(df)\n",
        "    print(len(df))\n",
        "\n",
        "print(\"count\", count)\n"
      ],
      "metadata": {
        "colab": {
          "base_uri": "https://localhost:8080/"
        },
        "id": "3_nzUv2qA3Kh",
        "outputId": "3d16bd01-1a35-48e5-ad69-19e3e72f337d"
      },
      "execution_count": 172,
      "outputs": [
        {
          "output_type": "stream",
          "name": "stdout",
          "text": [
            "1701\n",
            "1181\n",
            "count 2882\n"
          ]
        }
      ]
    },
    {
      "cell_type": "code",
      "source": [
        "## Creating EEC Dataframe\n",
        "df_EEC = parse_eec()\n",
        "df_EEC.head()"
      ],
      "metadata": {
        "colab": {
          "base_uri": "https://localhost:8080/",
          "height": 206
        },
        "id": "VBKz_gjQRs3r",
        "outputId": "94784cd4-66f0-4005-800c-3d89bcbe8a2f"
      },
      "execution_count": 151,
      "outputs": [
        {
          "output_type": "execute_result",
          "data": {
            "text/plain": [
              "                      ID                 Sentence  \\\n",
              "0  2018-En-mystery-05498      Alonzo feels angry.   \n",
              "1  2018-En-mystery-11722    Alonzo feels furious.   \n",
              "2  2018-En-mystery-11364  Alonzo feels irritated.   \n",
              "3  2018-En-mystery-14320    Alonzo feels enraged.   \n",
              "4  2018-En-mystery-14114    Alonzo feels annoyed.   \n",
              "\n",
              "                                 Template  Person Gender              Race  \\\n",
              "0  <person subject> feels <emotion word>.  Alonzo   male  African-American   \n",
              "1  <person subject> feels <emotion word>.  Alonzo   male  African-American   \n",
              "2  <person subject> feels <emotion word>.  Alonzo   male  African-American   \n",
              "3  <person subject> feels <emotion word>.  Alonzo   male  African-American   \n",
              "4  <person subject> feels <emotion word>.  Alonzo   male  African-American   \n",
              "\n",
              "  Emotion Emotion word  domain  \n",
              "0   anger        angry     1.0  \n",
              "1   anger      furious     1.0  \n",
              "2   anger    irritated     1.0  \n",
              "3   anger      enraged     1.0  \n",
              "4   anger      annoyed     1.0  "
            ],
            "text/html": [
              "\n",
              "  <div id=\"df-b33c991c-93e0-4893-ae54-762ae86481b5\">\n",
              "    <div class=\"colab-df-container\">\n",
              "      <div>\n",
              "<style scoped>\n",
              "    .dataframe tbody tr th:only-of-type {\n",
              "        vertical-align: middle;\n",
              "    }\n",
              "\n",
              "    .dataframe tbody tr th {\n",
              "        vertical-align: top;\n",
              "    }\n",
              "\n",
              "    .dataframe thead th {\n",
              "        text-align: right;\n",
              "    }\n",
              "</style>\n",
              "<table border=\"1\" class=\"dataframe\">\n",
              "  <thead>\n",
              "    <tr style=\"text-align: right;\">\n",
              "      <th></th>\n",
              "      <th>ID</th>\n",
              "      <th>Sentence</th>\n",
              "      <th>Template</th>\n",
              "      <th>Person</th>\n",
              "      <th>Gender</th>\n",
              "      <th>Race</th>\n",
              "      <th>Emotion</th>\n",
              "      <th>Emotion word</th>\n",
              "      <th>domain</th>\n",
              "    </tr>\n",
              "  </thead>\n",
              "  <tbody>\n",
              "    <tr>\n",
              "      <th>0</th>\n",
              "      <td>2018-En-mystery-05498</td>\n",
              "      <td>Alonzo feels angry.</td>\n",
              "      <td>&lt;person subject&gt; feels &lt;emotion word&gt;.</td>\n",
              "      <td>Alonzo</td>\n",
              "      <td>male</td>\n",
              "      <td>African-American</td>\n",
              "      <td>anger</td>\n",
              "      <td>angry</td>\n",
              "      <td>1.0</td>\n",
              "    </tr>\n",
              "    <tr>\n",
              "      <th>1</th>\n",
              "      <td>2018-En-mystery-11722</td>\n",
              "      <td>Alonzo feels furious.</td>\n",
              "      <td>&lt;person subject&gt; feels &lt;emotion word&gt;.</td>\n",
              "      <td>Alonzo</td>\n",
              "      <td>male</td>\n",
              "      <td>African-American</td>\n",
              "      <td>anger</td>\n",
              "      <td>furious</td>\n",
              "      <td>1.0</td>\n",
              "    </tr>\n",
              "    <tr>\n",
              "      <th>2</th>\n",
              "      <td>2018-En-mystery-11364</td>\n",
              "      <td>Alonzo feels irritated.</td>\n",
              "      <td>&lt;person subject&gt; feels &lt;emotion word&gt;.</td>\n",
              "      <td>Alonzo</td>\n",
              "      <td>male</td>\n",
              "      <td>African-American</td>\n",
              "      <td>anger</td>\n",
              "      <td>irritated</td>\n",
              "      <td>1.0</td>\n",
              "    </tr>\n",
              "    <tr>\n",
              "      <th>3</th>\n",
              "      <td>2018-En-mystery-14320</td>\n",
              "      <td>Alonzo feels enraged.</td>\n",
              "      <td>&lt;person subject&gt; feels &lt;emotion word&gt;.</td>\n",
              "      <td>Alonzo</td>\n",
              "      <td>male</td>\n",
              "      <td>African-American</td>\n",
              "      <td>anger</td>\n",
              "      <td>enraged</td>\n",
              "      <td>1.0</td>\n",
              "    </tr>\n",
              "    <tr>\n",
              "      <th>4</th>\n",
              "      <td>2018-En-mystery-14114</td>\n",
              "      <td>Alonzo feels annoyed.</td>\n",
              "      <td>&lt;person subject&gt; feels &lt;emotion word&gt;.</td>\n",
              "      <td>Alonzo</td>\n",
              "      <td>male</td>\n",
              "      <td>African-American</td>\n",
              "      <td>anger</td>\n",
              "      <td>annoyed</td>\n",
              "      <td>1.0</td>\n",
              "    </tr>\n",
              "  </tbody>\n",
              "</table>\n",
              "</div>\n",
              "      <button class=\"colab-df-convert\" onclick=\"convertToInteractive('df-b33c991c-93e0-4893-ae54-762ae86481b5')\"\n",
              "              title=\"Convert this dataframe to an interactive table.\"\n",
              "              style=\"display:none;\">\n",
              "        \n",
              "  <svg xmlns=\"http://www.w3.org/2000/svg\" height=\"24px\"viewBox=\"0 0 24 24\"\n",
              "       width=\"24px\">\n",
              "    <path d=\"M0 0h24v24H0V0z\" fill=\"none\"/>\n",
              "    <path d=\"M18.56 5.44l.94 2.06.94-2.06 2.06-.94-2.06-.94-.94-2.06-.94 2.06-2.06.94zm-11 1L8.5 8.5l.94-2.06 2.06-.94-2.06-.94L8.5 2.5l-.94 2.06-2.06.94zm10 10l.94 2.06.94-2.06 2.06-.94-2.06-.94-.94-2.06-.94 2.06-2.06.94z\"/><path d=\"M17.41 7.96l-1.37-1.37c-.4-.4-.92-.59-1.43-.59-.52 0-1.04.2-1.43.59L10.3 9.45l-7.72 7.72c-.78.78-.78 2.05 0 2.83L4 21.41c.39.39.9.59 1.41.59.51 0 1.02-.2 1.41-.59l7.78-7.78 2.81-2.81c.8-.78.8-2.07 0-2.86zM5.41 20L4 18.59l7.72-7.72 1.47 1.35L5.41 20z\"/>\n",
              "  </svg>\n",
              "      </button>\n",
              "      \n",
              "  <style>\n",
              "    .colab-df-container {\n",
              "      display:flex;\n",
              "      flex-wrap:wrap;\n",
              "      gap: 12px;\n",
              "    }\n",
              "\n",
              "    .colab-df-convert {\n",
              "      background-color: #E8F0FE;\n",
              "      border: none;\n",
              "      border-radius: 50%;\n",
              "      cursor: pointer;\n",
              "      display: none;\n",
              "      fill: #1967D2;\n",
              "      height: 32px;\n",
              "      padding: 0 0 0 0;\n",
              "      width: 32px;\n",
              "    }\n",
              "\n",
              "    .colab-df-convert:hover {\n",
              "      background-color: #E2EBFA;\n",
              "      box-shadow: 0px 1px 2px rgba(60, 64, 67, 0.3), 0px 1px 3px 1px rgba(60, 64, 67, 0.15);\n",
              "      fill: #174EA6;\n",
              "    }\n",
              "\n",
              "    [theme=dark] .colab-df-convert {\n",
              "      background-color: #3B4455;\n",
              "      fill: #D2E3FC;\n",
              "    }\n",
              "\n",
              "    [theme=dark] .colab-df-convert:hover {\n",
              "      background-color: #434B5C;\n",
              "      box-shadow: 0px 1px 3px 1px rgba(0, 0, 0, 0.15);\n",
              "      filter: drop-shadow(0px 1px 2px rgba(0, 0, 0, 0.3));\n",
              "      fill: #FFFFFF;\n",
              "    }\n",
              "  </style>\n",
              "\n",
              "      <script>\n",
              "        const buttonEl =\n",
              "          document.querySelector('#df-b33c991c-93e0-4893-ae54-762ae86481b5 button.colab-df-convert');\n",
              "        buttonEl.style.display =\n",
              "          google.colab.kernel.accessAllowed ? 'block' : 'none';\n",
              "\n",
              "        async function convertToInteractive(key) {\n",
              "          const element = document.querySelector('#df-b33c991c-93e0-4893-ae54-762ae86481b5');\n",
              "          const dataTable =\n",
              "            await google.colab.kernel.invokeFunction('convertToInteractive',\n",
              "                                                     [key], {});\n",
              "          if (!dataTable) return;\n",
              "\n",
              "          const docLinkHtml = 'Like what you see? Visit the ' +\n",
              "            '<a target=\"_blank\" href=https://colab.research.google.com/notebooks/data_table.ipynb>data table notebook</a>'\n",
              "            + ' to learn more about interactive tables.';\n",
              "          element.innerHTML = '';\n",
              "          dataTable['output_type'] = 'display_data';\n",
              "          await google.colab.output.renderOutput(dataTable, element);\n",
              "          const docLink = document.createElement('div');\n",
              "          docLink.innerHTML = docLinkHtml;\n",
              "          element.appendChild(docLink);\n",
              "        }\n",
              "      </script>\n",
              "    </div>\n",
              "  </div>\n",
              "  "
            ]
          },
          "metadata": {},
          "execution_count": 151
        }
      ]
    },
    {
      "cell_type": "code",
      "source": [
        "# unique_templates = df_EEC['Template'].unique()\n",
        "\n",
        "# dict_templates ={}\n",
        "# for index, template in enumerate(unique_templates):\n",
        "#   name = \"T_\"+str(index)\n",
        "#   dict_templates[template] = name"
      ],
      "metadata": {
        "id": "lT7hzmj2SRBX"
      },
      "execution_count": 195,
      "outputs": []
    },
    {
      "cell_type": "code",
      "source": [
        "# df_EEC['Template_Number'] = df_EEC['Template']\n",
        "# df_EEC['Template_Number'] = df_EEC['Template_Number'].map(dict_templates)"
      ],
      "metadata": {
        "id": "Zh7ZO2MgT2Er"
      },
      "execution_count": null,
      "outputs": []
    },
    {
      "cell_type": "code",
      "source": [
        "# df_EEC_subset_anger = df_EEC[df_EEC['Emotion']=='anger']"
      ],
      "metadata": {
        "id": "PmXOykvSU_Ps"
      },
      "execution_count": 199,
      "outputs": []
    },
    {
      "cell_type": "code",
      "source": [
        "# len(df_EEC_subset_anger)"
      ],
      "metadata": {
        "colab": {
          "base_uri": "https://localhost:8080/"
        },
        "id": "3-kpSbmWVBX6",
        "outputId": "72395045-593c-4e80-c14d-7d0652db31e0"
      },
      "execution_count": 201,
      "outputs": [
        {
          "output_type": "execute_result",
          "data": {
            "text/plain": [
              "2100"
            ]
          },
          "metadata": {},
          "execution_count": 201
        }
      ]
    },
    {
      "cell_type": "markdown",
      "source": [
        "##PreProcess Twitter Data"
      ],
      "metadata": {
        "id": "vgcR6rW84jVp"
      }
    },
    {
      "cell_type": "code",
      "source": [
        "# reference : https://github.com/cbaziotis/ekphrasis\n",
        "\n",
        "\n",
        "text_processor = TextPreProcessor(\n",
        "    # terms that will be normalized\n",
        "    normalize=['url', 'email', 'percent', 'money', 'phone', 'user',\n",
        "        'time', 'url', 'date', 'number'],\n",
        "    # terms that will be annotated\n",
        "    annotate={\"hashtag\", \"allcaps\", \"elongated\", \"repeated\",\n",
        "        'emphasis', 'censored'},\n",
        "    fix_html=True,  # fix HTML tokens\n",
        "    \n",
        "    # corpus from which the word statistics are going to be used \n",
        "    # for word segmentation \n",
        "    segmenter=\"twitter\", \n",
        "    \n",
        "    # corpus from which the word statistics are going to be used \n",
        "    # for spell correction\n",
        "    corrector=\"twitter\", \n",
        "    \n",
        "    unpack_hashtags=True,  # perform word segmentation on hashtags\n",
        "    unpack_contractions=True,  # Unpack contractions (can't -> can not)\n",
        "    spell_correct_elong=False,  # spell correction for elongated words\n",
        "    \n",
        "    # select a tokenizer. You can use SocialTokenizer, or pass your own\n",
        "    # the tokenizer, should take as input a string and return a list of tokens\n",
        "    tokenizer=SocialTokenizer(lowercase=True).tokenize,\n",
        "    \n",
        "    # list of dictionaries, for replacing tokens extracted from the text,\n",
        "    # with other expressions. You can pass more than one dictionaries.\n",
        "    dicts=[emoticons]\n",
        ")"
      ],
      "metadata": {
        "colab": {
          "base_uri": "https://localhost:8080/"
        },
        "id": "u1DwsLjWqvEx",
        "outputId": "37885d0f-d4a3-4ef4-bd86-2e14621ab045"
      },
      "execution_count": 23,
      "outputs": [
        {
          "output_type": "stream",
          "name": "stderr",
          "text": [
            "/usr/local/lib/python3.7/dist-packages/ekphrasis/classes/tokenizer.py:225: FutureWarning: Possible nested set at position 2190\n",
            "  self.tok = re.compile(r\"({})\".format(\"|\".join(pipeline)))\n"
          ]
        },
        {
          "output_type": "stream",
          "name": "stdout",
          "text": [
            "Word statistics files not found!\n",
            "Downloading... done!\n",
            "Unpacking... done!\n",
            "Reading twitter - 1grams ...\n",
            "generating cache file for faster loading...\n",
            "reading ngrams /root/.ekphrasis/stats/twitter/counts_1grams.txt\n",
            "Reading twitter - 2grams ...\n",
            "generating cache file for faster loading...\n",
            "reading ngrams /root/.ekphrasis/stats/twitter/counts_2grams.txt\n",
            "Reading twitter - 1grams ...\n"
          ]
        },
        {
          "output_type": "stream",
          "name": "stderr",
          "text": [
            "/usr/local/lib/python3.7/dist-packages/ekphrasis/classes/exmanager.py:14: FutureWarning: Possible nested set at position 42\n",
            "  regexes = {k.lower(): re.compile(self.expressions[k]) for k, v in\n"
          ]
        }
      ]
    },
    {
      "cell_type": "code",
      "source": [
        "# #### Example checks of pre-processing\n",
        "# sentences = [\n",
        "#     \"CANT WAIT for the new season of #TwinPeaks ＼(^o^)／!!! #davidlynch #tvseries :)))\",\n",
        "#     \"I saw the new #johndoe movie and it suuuuucks!!! WAISTED $10... #badmovies :/\",\n",
        "#     \"@SentimentSymp:  can't wait for the Nov 9 #Sentiment talks!  YAAAAAAY !!! :-D http://sentimentsymposium.com/.\",\n",
        "#     \"@MGBarbieri @SpalkTalk a@b.com And just saw your LinkedIn comment after I sent this! Thanks for the message :) 😀\",\n",
        "#     \"💙💛🏆 @GeorgeePitman Young Player of The Season 🏆💛💙 #irony #actuallyseventy\"\n",
        "# ]\n",
        "\n",
        "# for s in sentences:\n",
        "#     print(\" \".join(text_processor.pre_process_doc(s)))\n",
        "# # print ([text_processor.pre_process_doc(s) for s in sentences])"
      ],
      "metadata": {
        "id": "iK5Ifwyhq0Ex"
      },
      "execution_count": 54,
      "outputs": []
    },
    {
      "cell_type": "code",
      "source": [
        "def preprocess_tweets(df)-> pd.DataFrame:\n",
        "  tweets = df.Tweet.to_list()\n",
        "  # df['TweetTokens'] = [emoji.demojize(text_processor.pre_process_doc(tweet),language = 'en') for tweet in tweets] # Translates emoji in to word and preprocesss\n",
        "  # df['TweetTokens'] = [text_processor.pre_process_doc(tweet) for tweet in tweets] # preprocesss\n",
        "  # tweets_processed = [text_processor.pre_process_doc(tweet) for tweet in tweets] # preprocesss\n",
        "  # for tweet in tweets_processed:\n",
        "  #   for index, token in enumerate(tweet):\n",
        "  #     if emoji.is_emoji(token):\n",
        "  #       tweet[index] = emoji.demojize(token, language = 'en')\n",
        "\n",
        "  tweets_processed = [\" \".join(text_processor.pre_process_doc(tweet)) for tweet in tweets] # preprocesss\n",
        "  # print (tweets_processed)\n",
        "  for index, tweet in enumerate(tweets_processed):\n",
        "      tweets_processed[index] = emoji.demojize(tweet, language = 'en')\n",
        "  \n",
        "  df['TweetTokens'] = tweets_processed\n",
        "  # print(df)\n",
        "  return df"
      ],
      "metadata": {
        "id": "pfmJjAHrujuX"
      },
      "execution_count": 24,
      "outputs": []
    },
    {
      "cell_type": "code",
      "source": [
        "# df_EI_reg_train = preprocess_tweets(df_EI_reg_train)\n",
        "# df_V_reg_train = preprocess_tweets(df_V_reg_train)\n",
        "\n",
        "for name, df in dict_df.items():\n",
        "  df = preprocess_tweets(df)\n"
      ],
      "metadata": {
        "id": "hxt99UC2xI2x"
      },
      "execution_count": 25,
      "outputs": []
    },
    {
      "cell_type": "code",
      "source": [
        "#df_V_reg_test"
      ],
      "metadata": {
        "id": "-sRSUuUl7BfC"
      },
      "execution_count": 174,
      "outputs": []
    },
    {
      "cell_type": "markdown",
      "source": [
        "TODO : \n",
        "* remove stop words\n",
        "* stem\n",
        "* lemmetize\n"
      ],
      "metadata": {
        "id": "3los9BZbk2m5"
      }
    },
    {
      "cell_type": "code",
      "source": [
        "df_V_reg_train.columns"
      ],
      "metadata": {
        "colab": {
          "base_uri": "https://localhost:8080/"
        },
        "id": "xtRWK8D6mMzk",
        "outputId": "b83d223e-60b1-4e67-8aec-90bf2d10be91"
      },
      "execution_count": 26,
      "outputs": [
        {
          "output_type": "execute_result",
          "data": {
            "text/plain": [
              "Index(['ID', 'Tweet', 'Affect Dimension', 'Intensity Score', 'domain',\n",
              "       'TweetTokens'],\n",
              "      dtype='object')"
            ]
          },
          "metadata": {},
          "execution_count": 26
        }
      ]
    },
    {
      "cell_type": "code",
      "source": [
        "def subset_df(df):\n",
        "  return df[['TweetTokens','Intensity Score','domain']]"
      ],
      "metadata": {
        "id": "_zoGr_W3mYgK"
      },
      "execution_count": 27,
      "outputs": []
    },
    {
      "cell_type": "code",
      "source": [
        "dict_df_subset ={name+\"_subset\": subset_df(df) for name, df in dict_df.items() }"
      ],
      "metadata": {
        "id": "kDsCZb5ExgA9"
      },
      "execution_count": 28,
      "outputs": []
    },
    {
      "cell_type": "code",
      "source": [
        "print (dict_df_subset)"
      ],
      "metadata": {
        "id": "hcw_mO9Y1bP-"
      },
      "execution_count": null,
      "outputs": []
    },
    {
      "cell_type": "markdown",
      "source": [
        "## Creating Pytorch Datasets"
      ],
      "metadata": {
        "id": "Wi-dG9KP14u8"
      }
    },
    {
      "cell_type": "markdown",
      "source": [
        "### Creating Vocabulary\n",
        "Before we create the Dataset, we need to define a process to build our vocabulary. For this,\n",
        "We’ll create a “Vocabulary” class which will create the word-to-index and index-to-word mappings using only the train dataframe we created before\n",
        "Also, the “Vocabulary” class returns the numericalized version of each sentence in our dataframe. Eg: [‘i’, ‘love’, ‘apple’] -> [23, 54, 1220]. We need to convert the words to numbers as models expect each word in our vocabulary to be represented by a number"
      ],
      "metadata": {
        "id": "IUsh5RUf2BxB"
      }
    },
    {
      "cell_type": "code",
      "source": [
        "#######################################################\n",
        "#               Define Vocabulary Class\n",
        "#######################################################\n",
        "\n",
        "class Vocabulary:\n",
        "  \n",
        "    '''\n",
        "    __init__ method is called by default as soon as an object of this class is initiated\n",
        "    we use this method to initiate our vocab dictionaries\n",
        "    '''\n",
        "    def __init__(self, freq_threshold = 1, max_size = 10000):\n",
        "        '''\n",
        "        freq_threshold : the minimum times a word must occur in corpus to be treated in vocab\n",
        "        max_size : max source vocab size. Eg. if set to 10,000, we pick the top 10,000 most frequent words and discard others\n",
        "        '''\n",
        "        #initiate the index to token dict\n",
        "        ## <PAD> -> padding, used for padding the shorter sentences in a batch to match the length of longest sentence in the batch\n",
        "        ## <UNK> -> words which are not found in the vocab are replace by this token\n",
        "        # self.itos = {0: '<PAD>', 1: '<UNK>', 2:'<NUMBER>', 3: '<CURRENCY>', 4: '<URL>'}\n",
        "        self.itos = {0: '<PAD>', 1: '<UNK>'}\n",
        "        \n",
        "        \n",
        "        #initiate the token to index dict\n",
        "        self.stoi = {k:j for j,k in self.itos.items()}\n",
        "        self.original_stoi = self.stoi.copy()\n",
        "#         print(self.stoi)\n",
        "        \n",
        "        self.freq_threshold = freq_threshold\n",
        "        self.max_size = max_size\n",
        "    \n",
        "    '''\n",
        "    __len__ is used by dataloader later to create batches\n",
        "    '''\n",
        "    def __len__(self):\n",
        "        return len(self.itos)\n",
        "    \n",
        "    '''\n",
        "    a simple tokenizer to split on space and converts the sentence to list of words\n",
        "    '''\n",
        "    @staticmethod\n",
        "    def tokenizer(text):\n",
        "#         return [tok.strip() for tok in text.split(' ')]\n",
        "        return [tok.lower().strip() for tok in text.split(' ')] # this is commented out to avoid <NUMBER> ,<UNK> lowering\n",
        "#         return [tok.lower().strip() for tok in text.split(' ') if tok not in list(self.stoi.keys())] \n",
        "    \n",
        "    '''\n",
        "    build the vocab: create a dictionary mapping of index to string (itos) and string to index (stoi)\n",
        "    output ex. for stoi -> {'the':6, 'a':7, 'an':8}\n",
        "    '''\n",
        "    def build_vocabulary(self, sentence_list):\n",
        "        #calculate the frequencies of each word first to remove the words with freq < freq_threshold\n",
        "#         frequencies = {}  #init the freq dict\n",
        "        frequencies = {k:self.max_size+1 for _,k in self.itos.items()}  # updated so that intial ones are also part of this\n",
        "        \n",
        "        # idx = 5 #index from which we want our dict to start. We already used 4 indexes for pad, unk...\n",
        "        idx = len(self.original_stoi)\n",
        "        \n",
        "        #calculate freq of words\n",
        "        for sentence in sentence_list:\n",
        "            list_word = [tok.lower().strip() for tok in sentence.split(' ') if tok not in list(self.stoi.keys())] \n",
        "            for word in list_word:\n",
        "#             for word in self.tokenizer(sentence):\n",
        "                \n",
        "                if word not in frequencies.keys():\n",
        "                    frequencies[word]=1\n",
        "                else:\n",
        "                    \n",
        "                    frequencies[word]+=1\n",
        "                    \n",
        "#         print (\"----2-----\\n\",frequencies)\n",
        "        \n",
        "        #limit vocab by removing low freq words\n",
        "        frequencies = {k:v for k,v in frequencies.items() if v>self.freq_threshold} \n",
        "        \n",
        "#         print (\"----3-----\\n\",frequencies)\n",
        "        \n",
        "        #limit vocab to the max_size specified\n",
        "        frequencies = dict(sorted(frequencies.items(), key = lambda x: -x[1])[:self.max_size-idx]) # idx =5 for pad, unk...\n",
        "        \n",
        "#         print (\"----4-----\\n\",frequencies)\n",
        "            \n",
        "        #create vocab\n",
        "        for key in set(self.stoi.keys()):\n",
        "            frequencies.pop(key)\n",
        "        \n",
        "#         print (\"----5-----\\n\",frequencies)\n",
        "        \n",
        "        for word in frequencies.keys():\n",
        "            self.stoi[word] = idx\n",
        "            self.itos[idx] = word\n",
        "            idx+=1\n",
        "        \n",
        "#         print (\"----6-----\\n\",self.stoi)\n",
        "        \n",
        "    '''\n",
        "    convert the list of words to a list of corresponding indexes\n",
        "    '''    \n",
        "    def numericalize(self, text):\n",
        "        #tokenize text\n",
        "#         tokenized_text = self.tokenizer(text)\n",
        "#         print(\"---------\\n\",self.original_stoi.keys())\n",
        "        tokenized_text = []\n",
        "        for tok in text.split(' '):\n",
        "            if tok not in list(self.original_stoi.keys()):\n",
        "                tokenized_text.append(tok.lower().strip())\n",
        "            else:\n",
        "                tokenized_text.append(tok.strip())\n",
        "                \n",
        "#         tokenized_text = [tok.lower().strip() for tok in text.split(' ') if tok not in list(self.original_stoi.keys())]\n",
        "        numericalized_text = []\n",
        "        for token in tokenized_text:\n",
        "            if token in self.stoi.keys():\n",
        "                numericalized_text.append(self.stoi[token])\n",
        "            else: #out-of-vocab words are represented by UNK token index\n",
        "                numericalized_text.append(self.stoi['<UNK>'])\n",
        "                \n",
        "        return numericalized_text"
      ],
      "metadata": {
        "id": "F7xZg1XcwLtt"
      },
      "execution_count": 173,
      "outputs": []
    },
    {
      "cell_type": "code",
      "source": [
        "# # #create a vocab class with freq_threshold=0 and max_size=100\n",
        "# voc = Vocabulary(0, 100)\n",
        "# sentence_list = ['that is a cat CAT', 'that is not a dog']\n",
        "# #build vocab\n",
        "# voc.build_vocabulary(sentence_list)\n",
        "\n",
        "# print('index to string: ',voc.itos)\n",
        "# print('string to index:',voc.stoi)\n",
        "\n",
        "# print('numericalize -> cat and a dog <URL>: ', voc.numericalize('cat and a dog <NUMBER>'))"
      ],
      "metadata": {
        "id": "COQ10m7Pv-sR"
      },
      "execution_count": 63,
      "outputs": []
    },
    {
      "cell_type": "code",
      "source": [
        "# Creating sentence list of all the training dataframes to create vocabulary later, this would mean a more robust vocab\n",
        "sentence_list = []\n",
        "for name,df in dict_df_subset.items():\n",
        "  if \"train\" in name or 'val' in name :\n",
        "    sentence_list.extend(df.TweetTokens.to_list())\n",
        "print(len(sentence_list))"
      ],
      "metadata": {
        "colab": {
          "base_uri": "https://localhost:8080/"
        },
        "id": "8Vuabth4RCSO",
        "outputId": "be4eec25-32cb-4c64-9b24-1a32fccc7bcb"
      },
      "execution_count": 231,
      "outputs": [
        {
          "output_type": "stream",
          "name": "stdout",
          "text": [
            "3719\n"
          ]
        }
      ]
    },
    {
      "cell_type": "code",
      "source": [
        "## Adding more words - especially emotions and sentiments from NRCLex\n",
        "\n",
        "lexicon_file = os.path.join(REF_DIR,'nrc_en.json')\n",
        "print(os.path.isfile(lexicon_file) )\n",
        "print(lexicon_file)\n",
        "\n",
        "with open(lexicon_file, 'r') as json_file:\n",
        "  lexicon_json= json.loads(json_file.read())\n"
      ],
      "metadata": {
        "colab": {
          "base_uri": "https://localhost:8080/"
        },
        "id": "xZcWtNY5fdR6",
        "outputId": "998e5eb6-b11b-4aa3-d4ab-722e7d765e9a"
      },
      "execution_count": 232,
      "outputs": [
        {
          "output_type": "stream",
          "name": "stdout",
          "text": [
            "True\n",
            "/content/drive/MyDrive/semeval-2018/reference/nrc_en.json\n"
          ]
        }
      ]
    },
    {
      "cell_type": "code",
      "source": [
        "list_lexicon_all = []\n",
        "for name, value in lexicon_json.items():\n",
        "  list_lexicon_all.append(name)\n",
        "\n",
        "list_lexicon_all = list(set(list_lexicon_all))\n",
        "print(len(list_lexicon_all),list_lexicon_all)"
      ],
      "metadata": {
        "colab": {
          "base_uri": "https://localhost:8080/"
        },
        "id": "ckFtBlghlnxK",
        "outputId": "82de6c20-5ea0-489e-adcc-1f3a898e14c0"
      },
      "execution_count": 250,
      "outputs": [
        {
          "output_type": "stream",
          "name": "stdout",
          "text": [
            "6468 ['study', 'whip', 'knowledge', 'kudos', 'buried', 'flu', 'lament', 'passionate', 'virus', 'irreducible', 'intended', 'radio', 'tyranny', 'pleasurable', 'advised', 'tanned', 'monsoon', 'father', 'manslaughter', 'blast', 'displace', 'blatant', 'inert', 'independence', 'disallowed', 'arraignment', 'efficacy', 'darling', 'obey', 'babysitter', 'mud', 'doomed', 'rage', 'absolute', 'aggravation', 'fatty', 'chant', 'cradle', 'deplore', 'depressive', 'unbreakable', 'misuse', 'outcast', 'polygamy', 'peace', 'peerless', 'unfortunate', 'black', 'delirium', 'drooping', 'watery', 'disobedient', 'patter', 'evolution', 'holy', 'irritation', 'grate', 'unimpressed', 'forming', 'mucus', 'astonishingly', 'fundamental', 'excitation', 'regress', 'prophecy', 'dolphin', 'liking', 'homicidal', 'nullify', 'commonplace', 'relevant', 'preeminent', 'rack', 'undesirable', 'clearness', 'injured', 'mail', 'defect', 'recklessness', 'copy', 'abrasion', 'prank', 'confession', 'aloha', 'donation', 'serene', 'intolerance', 'interesting', 'illicit', 'marketable', 'depreciation', 'erudite', 'bother', 'disobedience', 'untrustworthy', 'gypsy', 'controversy', 'action', 'doldrums', 'arouse', 'cursory', 'thrift', 'maxim', 'fort', 'remarkably', 'invite', 'magician', 'myopia', 'outcry', 'leaky', 'hearing', 'embezzlement', 'disengagement', 'broadside', 'cute', 'princess', 'stripe', 'relinquish', 'disintegration', 'volatility', 'reunion', 'errant', 'officer', 'screech', 'trade', 'uneasiness', 'degeneracy', 'tiling', 'moorings', 'sermon', 'alb', 'jam', 'transcendence', 'segregated', 'nether', 'tale', 'inquirer', 'banish', 'jurisprudence', 'acceptable', 'forego', 'hitherto', 'mutant', 'carnivorous', 'career', 'discipline', 'chastisement', 'optional', 'hypocrisy', 'regulate', 'deference', 'music', 'stable', 'breakup', 'bummer', 'creaking', 'predict', 'lenient', 'tumble', 'older', 'mortgage', 'alienated', 'moat', 'fret', 'dance', 'bearer', 'tributary', 'disapproved', 'procrastinate', 'uneasy', 'resisting', 'unbearable', 'slanderous', 'coronation', 'secondhand', 'smashed', 'blush', 'villainous', 'bugaboo', 'watch', 'desirous', 'oversight', 'laborious', 'ministry', 'horoscope', 'disabled', 'atheism', 'grist', 'shatter', 'barricade', 'obstetrician', 'plight', 'commemorative', 'perishable', 'chop', 'formless', 'constable', 'undertaker', 'vulture', 'blues', 'accountant', 'unconstrained', 'rehabilitate', 'striking', 'asymmetry', 'senseless', 'wreck', 'nobleman', 'susceptible', 'authenticate', 'ecstatic', 'shambles', 'asshole', 'buxom', 'evacuate', 'jab', 'ship', 'manhood', 'drainage', 'painfully', 'wonderfully', 'cab', 'pimp', 'priest', 'shrapnel', 'threatening', 'scanty', 'arbitration', 'rupture', 'suggest', 'disgraceful', 'allegation', 'breakfast', 'angry', 'misplace', 'eject', 'considerate', 'equilibrium', 'jolt', 'quicken', 'culmination', 'executor', 'sour', 'stall', 'aching', 'dishonor', 'excrement', 'cube', 'love', 'scientist', 'preservative', 'defeated', 'ace', 'ruth', 'rigor', 'pry', 'respectability', 'honor', 'recesses', 'harlot', 'hurry', 'consistency', 'cytomegalovirus', 'playground', 'fortress', 'enforce', 'bylaw', 'pet', 'illusion', 'unholy', 'tolerate', 'patronage', 'succeeding', 'charm', 'primacy', 'overestimated', 'almighty', 'loafer', 'homicide', 'aground', 'establish', 'include', 'evident', 'inadequate', 'ruinous', 'defending', 'polarity', 'luxury', 'felicity', 'recorder', 'repudiation', 'unjustified', 'farm', 'pity', 'legibility', 'ineffective', 'pique', 'convent', 'enjoying', 'blot', 'urgency', 'bloody', 'lockup', 'orderly', 'sea', 'smattering', 'abbot', 'gratitude', 'coercion', 'communicate', 'injury', 'stricken', 'optimism', 'inexplicable', 'hostilities', 'shell', 'differently', 'lewd', 'spa', 'expertise', 'sinning', 'nurse', 'jerk', 'scripture', 'abomination', 'encroachment', 'nicotine', 'oration', 'pomp', 'bloodshed', 'rascal', 'consciousness', 'amortization', 'radiant', 'romantic', 'sterling', 'react', 'cataract', 'forewarned', 'immaturity', 'substantiate', 'incrimination', 'patriarchal', 'unforeseen', 'smother', 'acrobat', 'ashes', 'offended', 'treachery', 'condolence', 'reprimand', 'horrid', 'lagging', 'shrink', 'inspire', 'nasty', 'necessity', 'coursing', 'endanger', 'interlocutory', 'inventor', 'boasting', 'store', 'suffering', 'derogatory', 'dislike', 'obese', 'unmanageable', 'misrepresentation', 'incompatible', 'revolt', 'sculpture', 'unaware', 'forecast', 'interminable', 'magnificent', 'splinter', 'sugar', 'unwarranted', 'befall', 'fellowship', 'midwifery', 'exhausted', 'fecal', 'conjure', 'hunch', 'indecision', 'rusty', 'hazardous', 'ferocious', 'musical', 'alleviation', 'suicide', 'sensibility', 'trusty', 'birch', 'infantile', 'committee', 'tandem', 'obliterated', 'credential', 'incredulous', 'retard', 'enthusiast', 'muscular', 'mishap', 'paragon', 'perchance', 'limp', 'salvation', 'tabulate', 'divan', 'tearful', 'scrumptious', 'depart', 'blackness', 'renewal', 'bless', 'whine', 'spouse', 'rags', 'implacable', 'painful', 'critique', 'disheartened', 'unfulfilled', 'casualty', 'seductive', 'conductivity', 'unintentionally', 'ignorant', 'subvert', 'offshoot', 'overt', 'disparity', 'mediocre', 'differential', 'uncaring', 'concordance', 'spit', 'elders', 'burlesque', 'perjury', 'confusion', 'spirit', 'childhood', 'merit', 'frenetic', 'beholden', 'disrespectful', 'frigid', 'reluctant', 'horrifying', 'brute', 'intrepid', 'plagiarism', 'follower', 'overflow', 'exposed', 'grudgingly', 'expedient', 'terribly', 'buzz', 'attainment', 'trainer', 'fluke', 'terrorism', 'chairwoman', 'sundial', 'carelessness', 'attachment', 'skeptical', 'fumble', 'leeches', 'formidable', 'gubernatorial', 'guile', 'endless', 'corrupt', 'weight', 'laser', 'epic', 'argumentation', 'scalpel', 'contrasted', 'greed', 'dilapidated', 'hope', 'await', 'bride', 'rapid', 'rest', 'demanding', 'wimp', 'gazette', 'casket', 'preserve', 'acid', 'prophylactic', 'scotch', 'snarl', 'glee', 'omit', 'parsimonious', 'vainly', 'desert', 'idiocy', 'gonorrhea', 'tribute', 'captivity', 'ferment', 'parrot', 'restful', 'cautious', 'jealous', 'war', 'supreme', 'offset', 'nefarious', 'embarrassment', 'included', 'penitentiary', 'sordid', 'rejection', 'devastate', 'cooperation', 'funk', 'toils', 'boldness', 'atone', 'confederate', 'betrayal', 'physique', 'scarcely', 'revocation', 'incarceration', 'confess', 'phonetic', 'pillow', 'symptom', 'wrath', 'reassure', 'fuming', 'cue', 'decry', 'incapacity', 'beam', 'famine', 'diarrhoea', 'trance', 'coma', 'gullible', 'fade', 'academy', 'insignificance', 'awkwardness', 'landslide', 'refutation', 'wis', 'savings', 'burglar', 'communicative', 'herpes', 'ferocity', 'unfavorable', 'amour', 'intense', 'script', 'blessing', 'operation', 'voluptuous', 'incestuous', 'depository', 'darken', 'arsenic', 'hidden', 'procedure', 'catastrophe', 'insulting', 'translation', 'weirdo', 'compliment', 'imprudent', 'psalm', 'draft', 'concealed', 'impotent', 'celestial', 'cruel', 'baseless', 'sickness', 'restriction', 'advocate', 'tort', 'presentable', 'orc', 'bark', 'inmate', 'emaciated', 'skirmish', 'presumptuous', 'pretty', 'strangle', 'label', 'sarcasm', 'deadly', 'sex', 'slender', 'chaos', 'coalesce', 'credited', 'thumping', 'illegality', 'subjected', 'whore', 'captivating', 'solidity', 'gregarious', 'bogus', 'impair', 'practice', 'dispose', 'spirits', 'coroner', 'illegitimate', 'guru', 'clap', 'decline', 'pickle', 'conflict', 'lack', 'influential', 'ceremony', 'prominently', 'relics', 'argue', 'grief', 'lyrical', 'diverse', 'hermit', 'exterminate', 'expulsion', 'bee', 'injection', 'strained', 'robber', 'carol', 'punt', 'canker', 'lead', 'irons', 'faulty', 'irritability', 'vixen', 'revoke', 'winnings', 'indict', 'reliability', 'upset', 'advocacy', 'beverage', 'mar', 'sorely', 'mouth', 'infirm', 'voyage', 'palliative', 'fright', 'collision', 'detain', 'possessed', 'oblige', 'downfall', 'objection', 'despotism', 'edition', 'scar', 'fool', 'filth', 'religion', 'profession', 'rash', 'cannon', 'exemption', 'signature', 'mania', 'unsympathetic', 'sib', 'thresh', 'zany', 'cold', 'blinded', 'killing', 'flirt', 'punish', 'affluent', 'reinforcements', 'skillful', 'forerunner', 'destroying', 'inflict', 'agreeable', 'detonate', 'throne', 'schism', 'shopping', 'obstruct', 'tramp', 'truss', 'obedience', 'clamor', 'lateness', 'deception', 'provoking', 'reflex', 'dependence', 'grin', 'respect', 'marvelous', 'convincing', 'rollicking', 'expenditure', 'lustrous', 'definitive', 'fireball', 'voodoo', 'soil', 'communion', 'ail', 'recast', 'captivate', 'inoperative', 'enslavement', 'uncomfortable', 'uninitiated', 'faeces', 'cautionary', 'contribute', 'clump', 'commentator', 'unprofitable', 'downright', 'charitable', 'petroleum', 'unemployed', 'lash', 'atrocity', 'compassionate', 'lighthouse', 'possess', 'veritable', 'savagery', 'maniac', 'pad', 'exhaustion', 'expect', 'inconsiderate', 'agonizing', 'overdue', 'bane', 'bran', 'sweetie', 'secretariat', 'mage', 'plea', 'exhaust', 'trustee', 'accusation', 'ass', 'forget', 'ordnance', 'anarchism', 'sneeze', 'sprite', 'mystery', 'cripple', 'judicial', 'enable', 'persistent', 'senate', 'avarice', 'prisoner', 'staunch', 'troll', 'barred', 'scorn', 'prejudice', 'lunge', 'defend', 'overpower', 'fraternal', 'vacuous', 'romanticism', 'abnormal', 'ache', 'cramp', 'usurped', 'customer', 'vanquish', 'uneducated', 'beastly', 'excruciating', 'touchy', 'durability', 'outdo', 'bottom', 'cross', 'condescension', 'expletive', 'outstanding', 'hopeful', 'teasing', 'certify', 'guise', 'diabolical', 'impossible', 'unjust', 'conviction', 'tax', 'gross', 'incite', 'conveyancing', 'annihilated', 'individuality', 'defunct', 'recreation', 'intact', 'blackmail', 'inheritance', 'expel', 'separatist', 'grammar', 'church', 'unique', 'summons', 'drool', 'nutritious', 'motion', 'derogation', 'septic', 'artistic', 'ban', 'faculty', 'volunteer', 'malignancy', 'simplify', 'save', 'uninfected', 'mobile', 'author', 'rainy', 'livid', 'marry', 'rapping', 'soreness', 'prevalent', 'handy', 'slash', 'lesser', 'temperate', 'glaring', 'recline', 'punishment', 'categorical', 'inhuman', 'disturbed', 'aberration', 'cognitive', 'fireman', 'moron', 'ballot', 'woeful', 'securities', 'blaze', 'disorder', 'tough', 'ally', 'esthetic', 'candidate', 'coax', 'confirmation', 'rabble', 'astray', 'lacking', 'accusing', 'actionable', 'tiff', 'manipulate', 'pivot', 'regatta', 'prefer', 'demoralized', 'miraculous', 'monstrosity', 'pirate', 'randomly', 'imminent', 'demolition', 'resentful', 'ambulance', 'warlock', 'doctrine', 'mayor', 'settlor', 'douche', 'marrow', 'genial', 'wretch', 'conjuring', 'indestructible', 'violation', 'trend', 'marriage', 'opiate', 'syncope', 'partner', 'piles', 'rail', 'uniformly', 'chloroform', 'puffy', 'inauguration', 'safeguard', 'bonanza', 'fury', 'artiste', 'tutelage', 'festive', 'antiquated', 'inexperienced', 'effort', 'absenteeism', 'bigot', 'combat', 'airport', 'sob', 'diversion', 'lush', 'radiation', 'homework', 'invalid', 'pillage', 'ire', 'termination', 'pistol', 'watchdog', 'auction', 'divination', 'frenzied', 'balk', 'congregation', 'overdose', 'shoulder', 'compassion', 'stallion', 'consult', 'atherosclerosis', 'barb', 'deluge', 'dungeon', 'abandoned', 'denunciation', 'cessation', 'subpoena', 'reliable', 'aristocracy', 'clan', 'frown', 'difficulty', 'heartache', 'ardent', 'obstinate', 'hysteria', 'perdition', 'recommend', 'verve', 'stingy', 'authorization', 'harshness', 'tangled', 'glad', 'commutation', 'bury', 'team', 'malevolent', 'cleaning', 'polish', 'grandeur', 'sufferer', 'regiment', 'provide', 'sunny', 'arrogant', 'nectar', 'sardonic', 'spelling', 'boring', 'diligence', 'sterility', 'intercede', 'inhumanity', 'lordship', 'buss', 'heavenly', 'knowing', 'bouquet', 'misunderstand', 'forlorn', 'homeless', 'meandering', 'illumination', 'affirmative', 'blowout', 'ecstasy', 'anarchist', 'imprisoned', 'mindfulness', 'plentiful', 'euthanasia', 'disregarded', 'prestige', 'strut', 'cabinet', 'gem', 'plummet', 'fault', 'gracious', 'silly', 'congestion', 'seals', 'law', 'disqualified', 'chosen', 'growth', 'incest', 'nervous', 'partake', 'prognostic', 'loom', 'counsellor', 'influenza', 'ornate', 'eviction', 'forward', 'infirmity', 'friction', 'trophy', 'goblin', 'jump', 'insipid', 'watchman', 'parole', 'compliance', 'abominable', 'freakish', 'outcome', 'kick', 'remiss', 'involution', 'gain', 'luxuriant', 'eavesdropping', 'university', 'fermentation', 'pith', 'youth', 'disappoint', 'articulation', 'distortion', 'oath', 'corroboration', 'shortly', 'hug', 'stab', 'compensate', 'tantamount', 'butler', 'sentry', 'impersonate', 'mucous', 'thug', 'popularity', 'unfinished', 'boxing', 'poll', 'policeman', 'organic', 'bickering', 'baptismal', 'booze', 'worm', 'swift', 'sanctify', 'acuity', 'choke', 'slime', 'substance', 'unrequited', 'adapt', 'ingenious', 'mocking', 'successful', 'dexterity', 'dubious', 'impropriety', 'messenger', 'heartless', 'rational', 'magnetite', 'familiarity', 'weary', 'seasoned', 'palsy', 'conscience', 'abject', 'commemorate', 'apprehension', 'shanghai', 'contravention', 'labored', 'decay', 'defenseless', 'temptation', 'lowering', 'sensuous', 'hopelessness', 'supported', 'conglomerate', 'pristine', 'confinement', 'eschew', 'enchanted', 'scapegoat', 'constant', 'cheer', 'verge', 'approve', 'providing', 'cigarette', 'suck', 'untoward', 'negligence', 'retraction', 'genius', 'sprain', 'escape', 'kite', 'articulate', 'relapse', 'theorem', 'pollution', 'deal', 'adrift', 'grasping', 'shack', 'impolite', 'surprise', 'snide', 'resistance', 'encumbrance', 'secretion', 'deport', 'diversified', 'loyalty', 'unconscious', 'immortality', 'advancement', 'graciously', 'glorification', 'hog', 'lamenting', 'edict', 'dissolution', 'scold', 'warped', 'neutral', 'litigious', 'brunt', 'cemetery', 'affirmation', 'terminal', 'watchful', 'budget', 'fearful', 'disability', 'jackpot', 'render', 'irregular', 'irritable', 'badly', 'punctual', 'overpowering', 'stalemate', 'penchant', 'friendly', 'journeyman', 'disruption', 'reciprocate', 'machine', 'popularized', 'preparedness', 'rend', 'tragedy', 'authentic', 'dictum', 'fasting', 'gloomy', 'bomber', 'prudent', 'mimicry', 'parliament', 'lightning', 'pointedly', 'coalition', 'notion', 'scrimmage', 'err', 'humbled', 'sensuality', 'existence', 'forgiven', 'vendetta', 'academic', 'relative', 'hale', 'scaffold', 'shortage', 'homesick', 'prudence', 'firstborn', 'phantom', 'splitting', 'assessor', 'habitat', 'towering', 'evade', 'qualifying', 'esteem', 'brag', 'merciless', 'reflux', 'inexcusable', 'sickly', 'emergency', 'pledge', 'mire', 'wasting', 'slayer', 'jaws', 'endowment', 'wishful', 'hide', 'eminence', 'extinct', 'advanced', 'keepsake', 'priestly', 'obvious', 'savage', 'affluence', 'stately', 'gaining', 'dispel', 'outpost', 'lessen', 'taught', 'duel', 'honorable', 'reproach', 'nuisance', 'relegation', 'excavation', 'foolishness', 'ineptitude', 'scorpion', 'taunt', 'inspired', 'credible', 'uplift', 'endocarditis', 'noted', 'robbery', 'assignee', 'vernal', 'received', 'outburst', 'rapture', 'soiled', 'peculiarities', 'conciliation', 'godless', 'witness', 'congratulatory', 'mischief', 'crouch', 'swear', 'reading', 'aggressive', 'crazy', 'fuss', 'willingly', 'smiling', 'glum', 'alarm', 'resent', 'dashing', 'martial', 'guilty', 'retaliatory', 'reticent', 'perk', 'question', 'wages', 'supplies', 'dispersion', 'lump', 'picket', 'denounce', 'sunshine', 'genuine', 'spiteful', 'vigorous', 'sewage', 'catch', 'leak', 'chronic', 'disintegrate', 'spotless', 'slam', 'garnet', 'united', 'fallacy', 'daft', 'elimination', 'intervention', 'belligerent', 'frigate', 'concluding', 'afford', 'complementary', 'exaltation', 'ominous', 'deceiving', 'falling', 'manifested', 'accounts', 'helmet', 'monetary', 'climax', 'accountability', 'authority', 'beauty', 'younger', 'trump', 'neurotic', 'benefactor', 'gasping', 'morbid', 'alerts', 'long', 'offhand', 'degradation', 'flake', 'occupation', 'parting', 'vacation', 'amphetamines', 'hyperbole', 'crouching', 'gallantry', 'disconnection', 'unbroken', 'thermometer', 'coast', 'charade', 'reparation', 'infringement', 'tawny', 'irresponsible', 'difficulties', 'engaged', 'complicate', 'deaf', 'embrace', 'detritus', 'probation', 'subito', 'disbelieve', 'result', 'stainless', 'option', 'whimsical', 'legitimacy', 'strengthening', 'patron', 'staggering', 'corrosive', 'makeshift', 'compact', 'aspiration', 'iron', 'illegible', 'center', 'impracticable', 'allegro', 'chagrin', 'cutting', 'ardor', 'thump', 'respectable', 'healthful', 'cathedral', 'resigned', 'projectiles', 'shot', 'standing', 'noncompliance', 'desist', 'overpriced', 'exquisite', 'affection', 'ken', 'snare', 'liberate', 'scandalous', 'aggression', 'oppression', 'restraint', 'morgue', 'memorable', 'leakage', 'metropolitan', 'sump', 'recession', 'pinnacle', 'modify', 'bonus', 'mutilation', 'physiology', 'guarded', 'imitation', 'exchange', 'neatly', 'smoothness', 'retaliation', 'prognosis', 'tree', 'persistence', 'defiant', 'clothe', 'bounty', 'linguist', 'juvenile', 'doodle', 'trepidation', 'standoff', 'injustice', 'detract', 'frugal', 'bliss', 'escaped', 'legal', 'bonne', 'bizarre', 'paddle', 'protecting', 'leukemia', 'useless', 'damage', 'concealment', 'infant', 'ridiculous', 'disaster', 'nourishment', 'jubilee', 'torn', 'confound', 'battery', 'monk', 'precision', 'corrosion', 'disheartening', 'agitated', 'lifeless', 'hardy', 'mismatch', 'debate', 'degree', 'preclude', 'veto', 'untenable', 'envious', 'rampage', 'bore', 'tribune', 'skilled', 'marshal', 'miracle', 'abortion', 'mosquito', 'indecent', 'forte', 'growling', 'mortification', 'confident', 'lemon', 'crunch', 'shapely', 'insurgent', 'procrastination', 'raving', 'smelling', 'conflicting', 'delusional', 'exalted', 'gull', 'subsist', 'cough', 'content', 'fraudulent', 'surrogate', 'vicar', 'contact', 'informer', 'deliberate', 'gruesome', 'adequacy', 'backward', 'intimately', 'merry', 'erratic', 'cannibal', 'difficult', 'bribery', 'lettered', 'superfluous', 'toxin', 'aspire', 'applicant', 'bargain', 'unbelievable', 'possession', 'inflation', 'quickness', 'revolutionary', 'writer', 'sue', 'brigade', 'elated', 'caution', 'hollow', 'inhibit', 'slimy', 'technology', 'greedy', 'madman', 'morrow', 'parish', 'prolific', 'squeamish', 'starvation', 'luck', 'supply', 'reason', 'building', 'mandamus', 'countryman', 'smuggler', 'distasteful', 'serpent', 'flagship', 'enema', 'shaking', 'breakneck', 'usefulness', 'prologue', 'intuition', 'loving', 'belittle', 'reinforcement', 'redemption', 'lucky', 'unwitting', 'rhythm', 'hemorrhage', 'guide', 'decency', 'stationary', 'pains', 'dun', 'deadlock', 'abacus', 'intimidate', 'corroborate', 'saber', 'twitch', 'spider', 'posse', 'busted', 'prodigal', 'arrogance', 'dictatorial', 'reverie', 'soup', 'thrash', 'untie', 'courage', 'indemnity', 'happen', 'impurity', 'foreclose', 'fainting', 'axiom', 'outlaw', 'litter', 'fickle', 'distillation', 'chivalry', 'symmetrical', 'rapt', 'lurk', 'potable', 'deflation', 'deserve', 'perpetuation', 'earl', 'commendable', 'impede', 'spree', 'catheter', 'rout', 'inefficiency', 'wildcat', 'secular', 'unification', 'meadow', 'regurgitation', 'vital', 'perturbation', 'discord', 'eagerness', 'colic', 'faultless', 'mortal', 'cream', 'fascinating', 'chairman', 'usher', 'graduation', 'glorify', 'punch', 'haunted', 'perfect', 'unaccountable', 'pretended', 'mourn', 'tumult', 'opposition', 'satisfied', 'seclusion', 'suppression', 'defendant', 'atonement', 'rheumatism', 'mange', 'sever', 'superhuman', 'wondrous', 'excel', 'withstand', 'commission', 'erroneous', 'rat', 'smell', 'notable', 'indistinct', 'hustler', 'salute', 'top', 'tranquil', 'oasis', 'pious', 'thoughtful', 'astronaut', 'horde', 'distaste', 'sadness', 'resignation', 'outlandish', 'prediction', 'deformed', 'excess', 'board', 'unreliable', 'snort', 'odor', 'newcomer', 'pare', 'subject', 'considerable', 'berserk', 'unpredictable', 'contradict', 'believed', 'commotion', 'allowable', 'nag', 'plush', 'king', 'enterprising', 'martyr', 'aroma', 'placard', 'subordinate', 'banger', 'wen', 'incoherent', 'leery', 'apology', 'credibility', 'warned', 'baptism', 'professional', 'doubting', 'unbeaten', 'proud', 'frisky', 'scavenger', 'diminish', 'assistance', 'renovation', 'john', 'hygienic', 'cane', 'uncertain', 'autocratic', 'allure', 'kitten', 'forsake', 'nadir', 'lower', 'asylum', 'imitated', 'provocation', 'stunted', 'prodigy', 'incompetent', 'lion', 'manners', 'representing', 'starved', 'nauseous', 'lazy', 'uncontrollable', 'involuntary', 'underwrite', 'offense', 'rook', 'unknown', 'scarecrow', 'surgery', 'vent', 'jarring', 'germination', 'misnomer', 'harbor', 'community', 'mutiny', 'pact', 'hero', 'panache', 'condone', 'indeterminate', 'bayonet', 'grope', 'secretive', 'overwhelm', 'smuggle', 'sponge', 'surprised', 'nameless', 'flaunt', 'engaging', 'rumor', 'canons', 'stalk', 'puppy', 'base', 'coexisting', 'reprint', 'stranger', 'deceit', 'visitor', 'martyrdom', 'innocent', 'armed', 'drown', 'incontinence', 'hermaphrodite', 'accursed', 'complication', 'footing', 'defense', 'stifled', 'intrigue', 'passivity', 'gallows', 'partnership', 'belt', 'detachment', 'reformation', 'holocaust', 'unfairness', 'earthquake', 'covenant', 'waver', 'movable', 'bilingual', 'efficiency', 'forbidding', 'helplessness', 'vision', 'infrequent', 'improving', 'thinker', 'heathen', 'worse', 'spaniel', 'regretting', 'shackle', 'interment', 'keystone', 'wise', 'lemma', 'prerequisite', 'happily', 'regent', 'cacophony', 'bereaved', 'impart', 'forgotten', 'leave', 'flood', 'appalling', 'sewerage', 'police', 'hail', 'profuse', 'bruise', 'electorate', 'deed', 'harass', 'depravity', 'accompaniment', 'levy', 'defiance', 'nul', 'torpedo', 'witty', 'structural', 'knack', 'inclement', 'reporter', 'phoenix', 'underline', 'offend', 'horrified', 'pretending', 'repay', 'fete', 'perpetrator', 'treadmill', 'associate', 'irrevocable', 'beautiful', 'crusty', 'gape', 'drone', 'exaggerate', 'putative', 'discontinuity', 'demented', 'tarry', 'professorship', 'daughter', 'campaigning', 'grenade', 'defamation', 'loaf', 'sucker', 'unitary', 'apathy', 'gold', 'smash', 'reconstruction', 'chocolate', 'ravine', 'precinct', 'muzzle', 'superman', 'unfair', 'surpassing', 'fondness', 'larger', 'fake', 'brawl', 'death', 'rubric', 'usurp', 'danger', 'enmity', 'tempered', 'aye', 'chorus', 'aiding', 'pope', 'absurd', 'resistive', 'battled', 'recombination', 'imposition', 'phony', 'despairing', 'digit', 'patrol', 'deputy', 'gentry', 'declination', 'smut', 'moot', 'apparition', 'chicken', 'retract', 'omniscient', 'unconscionable', 'foreman', 'blister', 'adjudicate', 'ripe', 'calculating', 'crack', 'demonic', 'agile', 'coldly', 'requiem', 'paraphrase', 'discriminate', 'duplicity', 'remove', 'arrest', 'fraud', 'experiment', 'pulpit', 'capture', 'sultan', 'debris', 'duress', 'tenacity', 'bewildered', 'relieving', 'dangerous', 'mangle', 'creep', 'oppress', 'policy', 'endure', 'masculine', 'accomplishment', 'acceptance', 'instructions', 'challenge', 'ungrateful', 'misrepresent', 'terrific', 'tension', 'fidelity', 'cupping', 'stolen', 'launch', 'polished', 'bastion', 'needful', 'endow', 'hit', 'sufficiency', 'safekeeping', 'wither', 'inefficient', 'pull', 'incomprehensible', 'rancid', 'shortcoming', 'admirable', 'forthcoming', 'humorist', 'stroke', 'pill', 'disfigured', 'obscene', 'scolding', 'adaptable', 'crumbling', 'insecure', 'leaning', 'voucher', 'courtesy', 'environ', 'monopolist', 'worry', 'didactic', 'importance', 'blessings', 'dignity', 'loo', 'tribunal', 'superior', 'deteriorated', 'scientific', 'vanish', 'swelling', 'synod', 'transaction', 'nation', 'rambling', 'jubilant', 'case', 'destination', 'locust', 'outsider', 'allied', 'chowder', 'fixed', 'sweetheart', 'salutary', 'broken', 'febrile', 'ethics', 'infamous', 'sepsis', 'expenses', 'bitterly', 'amnesty', 'maggot', 'politic', 'bleeding', 'refusal', 'insanity', 'drunken', 'moronic', 'discolored', 'wickedness', 'paralysis', 'enclave', 'judicious', 'hoax', 'routine', 'grant', 'household', 'obtuse', 'jabber', 'regulatory', 'install', 'jovial', 'prescient', 'cooperating', 'elder', 'seizure', 'languishing', 'fiend', 'finally', 'autopsy', 'averse', 'courtship', 'ruin', 'obtainable', 'stuffy', 'conserve', 'feat', 'shady', 'hippie', 'unbelief', 'clerical', 'incisive', 'cooperative', 'angelic', 'league', 'talent', 'strife', 'beg', 'coerce', 'bunker', 'curable', 'disappointed', 'unwell', 'detest', 'break', 'repress', 'weigh', 'shoddy', 'sticky', 'destined', 'mildew', 'task', 'humorous', 'enlightenment', 'fusion', 'exotic', 'disliked', 'discoloration', 'saloon', 'reactionary', 'thankful', 'civil', 'disregard', 'animosity', 'happy', 'garbage', 'fragrant', 'lethal', 'parentage', 'instinctive', 'egotistical', 'connective', 'fang', 'drowsiness', 'worrying', 'remorse', 'pose', 'trumpet', 'incursion', 'sham', 'slowness', 'embarrassing', 'dagger', 'inter', 'sorter', 'interrupt', 'words', 'poisoning', 'picketing', 'drunkenness', 'shrunk', 'conducive', 'untrained', 'deceived', 'impartial', 'collectively', 'infection', 'leader', 'blindly', 'perplexed', 'furious', 'idiot', 'smile', 'problem', 'splendor', 'regal', 'glide', 'deficiency', 'forgive', 'liberty', 'yelp', 'devious', 'failing', 'snarling', 'finery', 'sloth', 'tit', 'sudden', 'pungent', 'ruse', 'vindictive', 'bitterness', 'cumbersome', 'clean', 'babble', 'barter', 'depression', 'opponent', 'proviso', 'rue', 'elect', 'hilarious', 'triumph', 'wrestling', 'supporting', 'spike', 'wrongly', 'convince', 'treasurer', 'insolent', 'barbaric', 'feces', 'panic', 'humbly', 'mastery', 'wanting', 'fell', 'unresolved', 'famously', 'landed', 'depress', 'obstructive', 'perversion', 'meddle', 'strive', 'guarantee', 'sinner', 'unsuccessful', 'incalculable', 'polite', 'lobbyist', 'alcoholism', 'revise', 'falsify', 'answerable', 'counselor', 'unprecedented', 'violent', 'series', 'gospel', 'misrepresented', 'retrenchment', 'missing', 'geranium', 'amusing', 'cholera', 'radiate', 'ailing', 'engulf', 'sonorous', 'rejected', 'taboo', 'prodigious', 'tyrannical', 'interlude', 'enchant', 'entertain', 'ancestral', 'loudness', 'solidarity', 'antipathy', 'stereotype', 'whimper', 'flowery', 'barrow', 'specie', 'reliance', 'sentimental', 'annihilation', 'runaway', 'veneration', 'breakdown', 'lesson', 'desolation', 'remedy', 'feudal', 'honeymoon', 'classics', 'swastika', 'unofficial', 'fulfill', 'heal', 'malaise', 'fitting', 'infidelity', 'complexity', 'delegate', 'deteriorate', 'destructive', 'perceptible', 'possibility', 'dull', 'disinfection', 'angina', 'effective', 'entanglement', 'vigil', 'trickery', 'smith', 'crusade', 'winning', 'enslaved', 'fabricate', 'variable', 'badge', 'dragon', 'conservation', 'boisterous', 'employ', 'grating', 'departure', 'tender', 'premises', 'fain', 'supremely', 'vomiting', 'obliterate', 'cur', 'battlefield', 'fervor', 'exigent', 'antagonism', 'influence', 'corporeal', 'somatic', 'interrogation', 'cushion', 'maintenance', 'feudalism', 'apostle', 'standstill', 'thief', 'spasm', 'suffer', 'suspense', 'wail', 'assail', 'linger', 'prince', 'resist', 'debt', 'therapeutics', 'postponement', 'impersonation', 'ordinance', 'track', 'aplomb', 'twinkle', 'isolated', 'leisurely', 'ownership', 'mistress', 'staccato', 'thorn', 'growl', 'raucous', 'goo', 'dermatologist', 'crucifixion', 'rigidity', 'combative', 'cogent', 'fussy', 'prohibited', 'concord', 'escort', 'guts', 'accueil', 'cleanse', 'melodrama', 'scarcity', 'undisclosed', 'adder', 'sing', 'excretion', 'companion', 'quash', 'firmness', 'gut', 'spanking', 'wrongdoing', 'humane', 'torrid', 'infidel', 'persecution', 'exhortation', 'neutrality', 'segregate', 'ease', 'surety', 'subversive', 'tenant', 'intolerant', 'jealousy', 'stools', 'frayed', 'numbness', 'accredited', 'disciple', 'pus', 'showy', 'bereavement', 'freedom', 'harrowing', 'astringent', 'dire', 'injurious', 'generous', 'owing', 'paramount', 'toleration', 'unwashed', 'cowardly', 'assets', 'sly', 'guidance', 'biased', 'cloister', 'invalidate', 'amicable', 'obesity', 'trashy', 'banquet', 'willful', 'unforgiving', 'hardship', 'hostile', 'purely', 'pow', 'taint', 'recruits', 'vengeance', 'degrade', 'feature', 'chilly', 'powerless', 'pop', 'indolent', 'thirteenth', 'pioneer', 'exhilaration', 'overburden', 'regretted', 'flush', 'intermission', 'designation', 'treat', 'exclaim', 'fascination', 'player', 'unfaithful', 'plum', 'disagree', 'indelible', 'dandy', 'homology', 'camouflaged', 'ascent', 'termite', 'immigrant', 'wits', 'temperance', 'embolism', 'falsehood', 'infect', 'warning', 'injure', 'reaffirm', 'hilarity', 'servitude', 'furiously', 'epitome', 'birthday', 'deviation', 'traitor', 'poisoned', 'criminality', 'hot', 'innovation', 'warranty', 'unbiased', 'sunset', 'knell', 'tedium', 'batter', 'quack', 'alarming', 'schizophrenia', 'level', 'frankness', 'bleak', 'sweat', 'enablement', 'murky', 'unverified', 'cursing', 'jornada', 'bookshop', 'legendary', 'chaff', 'stark', 'intruder', 'reassurance', 'cliff', 'comptroller', 'virtuous', 'riotous', 'letter', 'lord', 'flee', 'intellectual', 'inaudible', 'appendicitis', 'furor', 'refractory', 'mystic', 'resident', 'pernicious', 'gratify', 'duke', 'coward', 'bravado', 'gunpowder', 'kind', 'harvest', 'aghast', 'humanitarian', 'befriend', 'arduous', 'dreadfully', 'dictatorship', 'dart', 'disagreeing', 'surround', 'confidence', 'meditate', 'assassin', 'cede', 'perceive', 'unsafe', 'pompous', 'delight', 'atrocious', 'succinct', 'granted', 'swig', 'spacious', 'rubble', 'actual', 'imprisonment', 'charity', 'intercession', 'nestle', 'questionable', 'anxiety', 'calls', 'eradication', 'hypocritical', 'bankrupt', 'believer', 'hanging', 'gaby', 'instability', 'mindful', 'legislator', 'margin', 'extensive', 'probability', 'dreadful', 'aesthetic', 'unfurnished', 'havoc', 'crushed', 'soak', 'uphill', 'hymn', 'auditor', 'tasty', 'tempest', 'incompetence', 'normality', 'premature', 'ancient', 'marked', 'intolerable', 'ineffable', 'verified', 'governor', 'cutthroat', 'sore', 'placid', 'commonwealth', 'occupant', 'loss', 'creature', 'bias', 'kennel', 'assessment', 'boomerang', 'contradictory', 'apologetic', 'kern', 'executioner', 'aid', 'haven', 'pontiff', 'stint', 'lint', 'magical', 'declaratory', 'dishonest', 'vouch', 'arrive', 'majority', 'journalism', 'evil', 'excite', 'scorching', 'caress', 'serve', 'uninspired', 'destitute', 'journey', 'yell', 'divested', 'unimportant', 'humiliation', 'loathing', 'main', 'convert', 'octopus', 'infrequently', 'pregnancy', 'rocket', 'aptitude', 'surrendering', 'harmful', 'constitute', 'waste', 'fat', 'ridicule', 'fee', 'discretion', 'flop', 'emptiness', 'struggle', 'communication', 'pensive', 'nun', 'delay', 'unhealthy', 'accuser', 'solid', 'frustrated', 'enhance', 'civilized', 'arbiter', 'blind', 'tactics', 'greasy', 'status', 'majesty', 'thrilling', 'imperfection', 'gray', 'epitaph', 'unyielding', 'turbulent', 'thriving', 'wimpy', 'patience', 'eruption', 'handbook', 'overwhelming', 'discharge', 'thermocouple', 'resection', 'opium', 'young', 'devastation', 'joy', 'aftermath', 'flea', 'irrationality', 'dolor', 'steal', 'heady', 'praiseworthy', 'trust', 'elegance', 'seek', 'denying', 'presumption', 'reconciliation', 'revolting', 'administrative', 'suspicion', 'stiff', 'blower', 'servant', 'impairment', 'alienate', 'colonel', 'impermeable', 'slip', 'ready', 'truthful', 'vitality', 'continue', 'amen', 'boycott', 'enlighten', 'talk', 'repellant', 'stupidity', 'agreeing', 'apologize', 'blasphemous', 'widespread', 'joke', 'troublesome', 'faith', 'advisable', 'gauging', 'avatar', 'sensual', 'orthodoxy', 'oaf', 'perverted', 'embroiled', 'severance', 'tipsy', 'sense', 'hood', 'padding', 'untidy', 'pretense', 'rob', 'righteous', 'exquisitely', 'checklist', 'achieve', 'classic', 'groundless', 'conflagration', 'revere', 'soulmate', 'confine', 'vigor', 'sorrowful', 'conceal', 'ethical', 'forgiving', 'attacking', 'superstition', 'dark', 'secrete', 'defender', 'misfortune', 'monogamy', 'cider', 'negligent', 'endemic', 'extremity', 'bonds', 'sap', 'reconsideration', 'gladiator', 'agreement', 'reorganize', 'sterile', 'plodding', 'green', 'empower', 'grizzly', 'pastor', 'listless', 'unspeakable', 'slut', 'blockade', 'fierce', 'balance', 'pine', 'amazingly', 'attendant', 'expire', 'staring', 'unguarded', 'cheerfulness', 'junk', 'indifference', 'gladness', 'fruitful', 'heroism', 'wit', 'excise', 'cohesive', 'wasted', 'thirsty', 'authorize', 'constrain', 'ruined', 'instigation', 'prowl', 'veer', 'precious', 'exacting', 'celebrated', 'forfeited', 'libel', 'muddle', 'sadly', 'uninformed', 'beautification', 'retribution', 'detention', 'incline', 'prospectively', 'scourge', 'defeat', 'stiffness', 'rabid', 'organize', 'pedestrian', 'tenable', 'debenture', 'advantage', 'perilous', 'kerosene', 'demolish', 'squall', 'unity', 'president', 'mafia', 'time', 'animate', 'uncover', 'ballet', 'bribe', 'knickers', 'truck', 'gamble', 'abandonment', 'regularity', 'critic', 'menial', 'sensational', 'solvency', 'usual', 'matrimony', 'deceased', 'resolutely', 'hashish', 'emir', 'derision', 'ignorance', 'shun', 'crippled', 'theoretical', 'weighty', 'lonesome', 'onerous', 'unexpectedly', 'fully', 'garnish', 'expected', 'revenge', 'vague', 'doit', 'undertaking', 'earnest', 'traps', 'disgust', 'din', 'starlight', 'rape', 'underestimate', 'fictitious', 'litigate', 'prostitute', 'respecting', 'cultivation', 'sympathetic', 'succumb', 'kill', 'cheerful', 'leisure', 'scribe', 'unconstitutional', 'defraud', 'bog', 'chafing', 'evict', 'astonishment', 'dishonesty', 'communist', 'needle', 'exorcism', 'cry', 'ordeal', 'powerfully', 'blight', 'protected', 'precarious', 'pilot', 'mortgagor', 'wrecked', 'pessimism', 'orphan', 'bestial', 'callous', 'deserved', 'hiding', 'heartworm', 'strike', 'undoubted', 'espionage', 'ribbon', 'ordained', 'grab', 'vindication', 'perplexity', 'lying', 'assent', 'audience', 'bewilderment', 'overture', 'pastry', 'incense', 'gap', 'indignation', 'diaper', 'complicated', 'radon', 'humble', 'blighted', 'invalidity', 'gloom', 'nurture', 'subsidy', 'eventuality', 'burdensome', 'clown', 'completely', 'rectify', 'porcupine', 'spoil', 'flinch', 'insignificant', 'circumvention', 'mercenary', 'title', 'luster', 'unstable', 'penalty', 'erosion', 'error', 'anomaly', 'throttle', 'reputable', 'feeling', 'toast', 'indignant', 'pornographic', 'memorials', 'bearish', 'numbers', 'theocratic', 'entertainment', 'chaotic', 'cardiomyopathy', 'operatic', 'burnt', 'hypocrite', 'woefully', 'success', 'banshee', 'unwise', 'bigoted', 'barbarian', 'profanity', 'aphid', 'acquire', 'credence', 'gory', 'mum', 'betterment', 'consul', 'cad', 'compatibility', 'vindicate', 'competency', 'dust', 'dumps', 'heighten', 'perverse', 'prosecute', 'brocade', 'conceited', 'encourage', 'award', 'regrettable', 'hoot', 'gorilla', 'fulfillment', 'shoplifting', 'avoiding', 'intractable', 'accommodation', 'inimitable', 'straits', 'tasteless', 'compulsion', 'amused', 'culpable', 'floral', 'secluded', 'cautiously', 'culinary', 'latent', 'philanthropy', 'tirade', 'blindfold', 'precede', 'dilute', 'decrement', 'isolation', 'surveying', 'strategist', 'wealth', 'freely', 'durable', 'contemplation', 'attraction', 'demon', 'expecting', 'mate', 'quandary', 'negative', 'haunt', 'propaganda', 'hospitality', 'filibuster', 'litigant', 'dismissal', 'urchin', 'slay', 'dissatisfaction', 'throb', 'crave', 'crabby', 'bastard', 'stunned', 'undo', 'malformation', 'blather', 'farcical', 'courier', 'bulldog', 'preliminary', 'snags', 'sisterhood', 'armaments', 'interior', 'wan', 'weakened', 'delivery', 'understanding', 'amenity', 'onset', 'marquis', 'ulcer', 'acumen', 'irregularity', 'malfeasance', 'magnetism', 'expired', 'attorney', 'money', 'parietal', 'council', 'unthinkable', 'transgression', 'visionary', 'dislocated', 'mirth', 'pigeon', 'director', 'threat', 'languish', 'bile', 'antisocial', 'abovementioned', 'split', 'larceny', 'louse', 'snob', 'school', 'late', 'vocabulary', 'cracking', 'rosy', 'elaboration', 'screwed', 'gash', 'scrambling', 'cruciate', 'surge', 'ungodly', 'creeping', 'slate', 'intuitive', 'advice', 'imputation', 'assassinate', 'affront', 'announcement', 'barf', 'gang', 'cash', 'avoid', 'infiltration', 'fenced', 'doer', 'gruff', 'inattention', 'classify', 'indemnify', 'obliging', 'resign', 'gratuitous', 'beneficial', 'erase', 'numb', 'unintentional', 'velvet', 'unchangeable', 'manipulation', 'hearse', 'white', 'facts', 'evacuation', 'mountain', 'cove', 'contributor', 'tragic', 'aga', 'frighten', 'thorny', 'disused', 'strengthen', 'spew', 'dogma', 'unquestionably', 'palatable', 'hurtful', 'drab', 'disinformation', 'breach', 'joined', 'unlicensed', 'excluding', 'morality', 'consecration', 'confiscate', 'heroic', 'solace', 'convenience', 'hydrocephalus', 'sovereign', 'spoke', 'ashamed', 'accident', 'tower', 'electric', 'resumption', 'felony', 'slag', 'warp', 'varicose', 'cleanliness', 'travail', 'immaculate', 'constrained', 'prosecution', 'spokesman', 'elbow', 'hooked', 'verdict', 'bureaucracy', 'oblivion', 'psychosis', 'toilet', 'whiteness', 'crushing', 'brandy', 'constraint', 'depend', 'tranquility', 'overpaid', 'absolution', 'cheap', 'loot', 'preponderance', 'represented', 'falsity', 'speck', 'deportation', 'increase', 'proceeding', 'dissection', 'gnome', 'nepotism', 'principal', 'tobacco', 'brutal', 'shabby', 'wrongful', 'expedition', 'raging', 'confessional', 'sinister', 'bridal', 'giggle', 'imperfectly', 'turmoil', 'chemist', 'wilderness', 'antidote', 'originality', 'affiliated', 'brutality', 'commend', 'dirty', 'fleet', 'luscious', 'anger', 'discourage', 'offer', 'insecurity', 'bombard', 'leading', 'yawning', 'falsification', 'alertness', 'evanescence', 'blessed', 'undesired', 'magnet', 'discredit', 'lust', 'laughing', 'invoke', 'ultimatum', 'forcibly', 'physician', 'needy', 'nobility', 'antifungal', 'model', 'obligor', 'cadaver', 'admiral', 'saturated', 'weeds', 'gigantic', 'forage', 'perfection', 'delinquent', 'fangs', 'zip', 'constitutional', 'scrutiny', 'quote', 'invader', 'morn', 'ethereal', 'redundant', 'humanity', 'progression', 'perished', 'disservice', 'vigilant', 'purgatory', 'malignant', 'validity', 'disappointment', 'laughable', 'educate', 'brimstone', 'caricature', 'stale', 'talons', 'pessimist', 'foe', 'unlimited', 'proverbial', 'warfare', 'lynch', 'projectile', 'anathema', 'pray', 'favorite', 'gob', 'crisp', 'displeasure', 'welcomed', 'trifle', 'visitation', 'intoxicated', 'abolition', 'mentor', 'departed', 'extricate', 'dear', 'complaint', 'carnage', 'abhor', 'pride', 'merge', 'emancipation', 'angling', 'nomination', 'cosmopolitan', 'servile', 'justifiable', 'payback', 'bloodless', 'corrective', 'alleviate', 'retention', 'bite', 'guidebook', 'shaky', 'afflict', 'naughty', 'involvement', 'loathe', 'enrich', 'moribund', 'colossal', 'fun', 'caretaker', 'grisly', 'bravery', 'neglected', 'stillborn', 'neighbor', 'objectionable', 'inclusion', 'despotic', 'disconnected', 'confuse', 'retirement', 'lusty', 'military', 'indigent', 'horrific', 'submit', 'premeditated', 'scaly', 'criminal', 'immerse', 'replete', 'distraught', 'custody', 'confounded', 'remake', 'show', 'ghastly', 'hellish', 'encyclopedia', 'stoppage', 'dole', 'devastating', 'incompleteness', 'integrity', 'clearance', 'accolade', 'chisel', 'performer', 'nervousness', 'brazen', 'unpublished', 'madden', 'surmise', 'loyal', 'diseased', 'riot', 'pasture', 'unruly', 'incendiary', 'burke', 'loon', 'tiresome', 'scoff', 'wait', 'food', 'avenger', 'noise', 'menace', 'apprentice', 'starry', 'revels', 'eminently', 'drinking', 'prevail', 'siren', 'innovate', 'uproar', 'bug', 'symphony', 'disqualify', 'sullen', 'malpractice', 'friendship', 'shame', 'underpaid', 'anchorage', 'lumpy', 'contracted', 'waterproof', 'baccalaureate', 'dementia', 'parasite', 'recalcitrant', 'priceless', 'tumour', 'poisonous', 'adversity', 'demise', 'productive', 'cobra', 'drudgery', 'amaze', 'refurbish', 'deferral', 'bacteria', 'orchestra', 'vengeful', 'roadster', 'toothache', 'warrior', 'heartfelt', 'asserting', 'prove', 'hospital', 'inactivity', 'contradiction', 'damned', 'antithesis', 'heft', 'torture', 'glowing', 'notoriety', 'corse', 'desecration', 'discovery', 'slur', 'mortality', 'couch', 'razor', 'shape', 'ascendancy', 'risky', 'allege', 'awful', 'unimaginable', 'lieutenant', 'hire', 'unattractive', 'cherry', 'special', 'satanic', 'opportunity', 'lamb', 'apprehensive', 'dogged', 'mite', 'fighting', 'advance', 'blob', 'tinsel', 'husbandry', 'neurosis', 'behemoth', 'clue', 'slim', 'anarchy', 'arrival', 'fatigued', 'automatic', 'denial', 'mosque', 'elucidate', 'foul', 'neglect', 'recurrent', 'overjoyed', 'idler', 'fleshy', 'stormy', 'gusset', 'renaissance', 'sanctification', 'sting', 'unsustainable', 'tornado', 'premier', 'teach', 'crowning', 'saint', 'notification', 'sarcoma', 'leeway', 'complacency', 'consternation', 'untimely', 'dominion', 'resources', 'continuation', 'strongly', 'undiscovered', 'meritorious', 'malice', 'stinking', 'marvelously', 'quiz', 'piety', 'gambling', 'exile', 'soothe', 'hell', 'amnesia', 'indefensible', 'stealth', 'furrow', 'harassing', 'strategic', 'fall', 'confined', 'convinced', 'corporal', 'hap', 'assembly', 'found', 'disparaging', 'presto', 'accelerate', 'determinate', 'mad', 'restoring', 'appeal', 'distract', 'aunt', 'wound', 'captor', 'fair', 'governess', 'sloppy', 'roulette', 'depressing', 'birth', 'critter', 'bier', 'furnace', 'admire', 'detect', 'abundance', 'coop', 'lowlands', 'withered', 'changeable', 'indenture', 'unscrupulous', 'convergence', 'enslave', 'sanguine', 'displeased', 'rider', 'chuckle', 'grim', 'boast', 'intercourse', 'conquest', 'fill', 'virulence', 'victory', 'countdown', 'endangered', 'tighten', 'sciatica', 'oracle', 'celebrating', 'coherent', 'rattlesnake', 'puke', 'hype', 'complement', 'certainty', 'compatible', 'kiss', 'lovemaking', 'lie', 'inequality', 'amusement', 'omen', 'cruelty', 'descent', 'measles', 'prime', 'culpability', 'obstacle', 'revival', 'shark', 'torrent', 'bequest', 'misbehavior', 'charmed', 'cremation', 'garish', 'hateful', 'devout', 'headache', 'surrender', 'failure', 'accomplished', 'reform', 'terrorize', 'exacerbate', 'bursary', 'overturn', 'monochrome', 'murder', 'prohibition', 'brilliant', 'flounder', 'practiced', 'alliance', 'athlete', 'declining', 'donkey', 'chieftain', 'ground', 'shooter', 'samurai', 'outhouse', 'antagonistic', 'designer', 'scrub', 'compelling', 'cuddle', 'insidious', 'inexperience', 'energetic', 'buttery', 'sewer', 'plunder', 'dummy', 'art', 'mannered', 'develop', 'inspector', 'flesh', 'prepare', 'disease', 'thirst', 'panacea', 'conversational', 'intestate', 'inquiry', 'endurance', 'dispassionate', 'turbulence', 'sweetness', 'stocks', 'correctness', 'quiver', 'menses', 'qualified', 'hive', 'admiration', 'distinction', 'brother', 'bothering', 'competition', 'corpse', 'shelved', 'amend', 'nest', 'devolution', 'hairy', 'fanfare', 'horizon', 'awry', 'falter', 'rencontre', 'stereotyped', 'afraid', 'hash', 'foreseen', 'mill', 'conjecture', 'earn', 'impending', 'fearing', 'effeminate', 'rehabilitation', 'improve', 'eloquent', 'willingness', 'sluggish', 'reprisal', 'succeed', 'hobo', 'arid', 'deformity', 'cosy', 'digress', 'brains', 'howl', 'composure', 'nappy', 'tackle', 'trash', 'wild', 'reward', 'oppressive', 'motherhood', 'achievement', 'interviewer', 'rigorous', 'clash', 'polio', 'salient', 'filthy', 'grace', 'tolerant', 'complicity', 'innocuous', 'manifestation', 'degenerate', 'delightful', 'mournful', 'ooze', 'mime', 'fortify', 'aberrant', 'cyanide', 'exalt', 'rift', 'unanimity', 'sincerity', 'interest', 'patronizing', 'professor', 'equality', 'unprepared', 'reader', 'sonar', 'assuredly', 'radioactive', 'confidentially', 'picnic', 'disillusionment', 'fear', 'dreary', 'public', 'bard', 'suspicious', 'hostility', 'bland', 'rescission', 'beast', 'ditty', 'architecture', 'bugle', 'chance', 'crap', 'maiden', 'foreign', 'ponderous', 'seriousness', 'miscarriage', 'captive', 'peri', 'adhering', 'burial', 'crew', 'chargeable', 'harry', 'bout', 'doom', 'lavish', 'contrary', 'phlegm', 'ability', 'court', 'diatribe', 'comprehensive', 'wretched', 'mathematical', 'recovery', 'friendliness', 'lustful', 'nausea', 'nerve', 'ambiguous', 'prying', 'mainstay', 'present', 'affliction', 'housekeeping', 'dizziness', 'gun', 'bale', 'mediocrity', 'tremor', 'athletic', 'entrust', 'chatty', 'authentication', 'raptors', 'lowest', 'wop', 'stink', 'camouflage', 'vesicular', 'observant', 'shockingly', 'hideous', 'hangman', 'ringer', 'conformance', 'shrill', 'related', 'glow', 'fruitless', 'incubus', 'humbug', 'refuse', 'politics', 'erratum', 'enigmatic', 'olfactory', 'smitten', 'fender', 'retrograde', 'pointless', 'purge', 'misunderstanding', 'sneer', 'prophet', 'purify', 'onus', 'accord', 'expectancy', 'vertigo', 'unfold', 'salary', 'sentinel', 'deplorable', 'cutter', 'heritage', 'respite', 'easygoing', 'evasion', 'fearless', 'facilitate', 'immovable', 'incineration', 'immature', 'suffocating', 'seal', 'sissy', 'trembling', 'screaming', 'soldier', 'jest', 'overthrow', 'diplomacy', 'lurid', 'utility', 'committal', 'enliven', 'confirmed', 'ensemble', 'stupor', 'moderator', 'sublimation', 'unkind', 'sorcery', 'payment', 'grieve', 'untamed', 'lapse', 'blissful', 'frailty', 'blossom', 'renowned', 'blitz', 'fallow', 'remarkable', 'renegade', 'gymnast', 'uninteresting', 'vanity', 'cracked', 'cranky', 'dentistry', 'instructor', 'tasteful', 'insufficiency', 'tumultuous', 'woe', 'prosper', 'wholesome', 'disorganized', 'smug', 'disable', 'gateway', 'retardation', 'competence', 'gouge', 'nigger', 'absence', 'rear', 'quarrel', 'brotherhood', 'losing', 'victor', 'alienation', 'responsive', 'shattered', 'silk', 'captain', 'halting', 'expatriate', 'laurel', 'framework', 'chore', 'felon', 'unison', 'commanding', 'progress', 'pleased', 'mug', 'mistaken', 'exemplary', 'lithe', 'secession', 'anaconda', 'careful', 'witch', 'overcast', 'laden', 'prison', 'gifted', 'creditable', 'exhaustive', 'acknowledgment', 'greater', 'lovable', 'renounce', 'marvel', 'abolish', 'homosexuality', 'pertussis', 'upheaval', 'weatherproof', 'transcendental', 'wane', 'speculative', 'betrothed', 'ash', 'shining', 'criticism', 'politeness', 'boo', 'referee', 'altercation', 'bloodthirsty', 'comfort', 'affirm', 'soot', 'gaunt', 'guardian', 'retort', 'unanimous', 'obscurity', 'wart', 'innocently', 'impeachment', 'stain', 'fairly', 'compulsory', 'proxy', 'protestant', 'wot', 'purity', 'dismemberment', 'gulp', 'childish', 'instigate', 'quinine', 'heinous', 'flabby', 'dispute', 'slap', 'promising', 'intelligence', 'cohesion', 'victimized', 'slump', 'bombed', 'courteous', 'patient', 'slouch', 'astrologer', 'attenuation', 'conversant', 'culprit', 'diplomatic', 'negotiator', 'forsaken', 'tariff', 'daring', 'obstruction', 'teeming', 'pathetic', 'antiseptic', 'impatience', 'admonition', 'habitual', 'inclusive', 'mighty', 'misconduct', 'fortune', 'exciting', 'cancer', 'murderous', 'cultivated', 'statement', 'coyote', 'reverend', 'clock', 'excellence', 'craftsman', 'artisan', 'vaccine', 'delighted', 'cowardice', 'depreciated', 'thundering', 'drugged', 'beggar', 'annul', 'economy', 'frolic', 'refine', 'sympathize', 'sir', 'inadmissible', 'blameless', 'agreed', 'paranoia', 'lovely', 'barren', 'playful', 'unhappiness', 'mutual', 'govern', 'chronicle', 'futile', 'immortal', 'inquisitive', 'dissident', 'fiasco', 'untitled', 'embarrass', 'seize', 'hindrance', 'coach', 'nothingness', 'bye', 'hamper', 'jurist', 'defended', 'profane', 'adventurous', 'unintelligible', 'lethargy', 'greeting', 'slave', 'liaison', 'scrutinize', 'grave', 'receiving', 'mob', 'hysterical', 'zest', 'carcass', 'debauchery', 'zealous', 'illegal', 'precipice', 'detainee', 'physics', 'salve', 'slough', 'sorrow', 'spectral', 'coolness', 'saliva', 'knotted', 'remedial', 'inaccessible', 'medal', 'banishment', 'liquor', 'spite', 'lackluster', 'boilerplate', 'rejects', 'accountable', 'butt', 'plunge', 'overload', 'avalanche', 'disseminate', 'wreak', 'royalty', 'backbone', 'proposition', 'centurion', 'exacerbation', 'unattainable', 'mediate', 'fawn', 'calculator', 'rule', 'animated', 'manage', 'don', 'destruction', 'ephemeris', 'disembodied', 'government', 'landmark', 'signify', 'familiar', 'worthless', 'weariness', 'communism', 'warn', 'contagion', 'misinterpretation', 'addresses', 'bankruptcy', 'impression', 'bellows', 'rod', 'peaceful', 'explore', 'armament', 'infectious', 'melancholic', 'quake', 'vomit', 'reconstruct', 'pandemic', 'ordination', 'gaol', 'interference', 'infliction', 'homage', 'aloof', 'obit', 'real', 'flying', 'delayed', 'stern', 'readily', 'balsam', 'maternal', 'freezing', 'prop', 'booby', 'nab', 'cover', 'agility', 'coup', 'guess', 'jail', 'unavoidable', 'galore', 'regressive', 'malicious', 'intonation', 'hazard', 'cartridge', 'spook', 'mockery', 'prosperous', 'choice', 'repose', 'indictment', 'cage', 'naive', 'elite', 'benign', 'coming', 'comatose', 'abrogate', 'speech', 'grinding', 'bowels', 'masterpiece', 'unpaid', 'quiet', 'adore', 'dinner', 'ignore', 'entangled', 'accidentally', 'congenial', 'deflate', 'antagonist', 'victorious', 'discards', 'attendance', 'dispossessed', 'obi', 'headway', 'planning', 'bound', 'edification', 'spurious', 'cancel', 'refused', 'force', 'solution', 'distorted', 'scarce', 'commerce', 'excluded', 'harmony', 'hurried', 'potency', 'slaughter', 'matchmaker', 'sturdy', 'abandon', 'essential', 'sectarian', 'philosopher', 'parade', 'manure', 'sneaking', 'quagmire', 'serial', 'umpire', 'prostitution', 'thanksgiving', 'accessible', 'moderate', 'artillery', 'lawyer', 'default', 'oxidation', 'brotherly', 'interrupted', 'fertile', 'hating', 'intrusion', 'mischievous', 'recipient', 'humiliating', 'longing', 'truth', 'oak', 'prejudiced', 'snag', 'unquestionable', 'cuckold', 'skid', 'pained', 'grit', 'inoculation', 'armor', 'trappings', 'attack', 'goodwill', 'brightness', 'traumatic', 'doll', 'procure', 'uninterested', 'piracy', 'riveting', 'passenger', 'merciful', 'gawk', 'seniority', 'invitation', 'mediation', 'hooded', 'glitter', 'smirk', 'bureaucrat', 'doctor', 'hypertrophy', 'repulsion', 'composer', 'unhappy', 'dumb', 'stellar', 'riddle', 'shriek', 'mutable', 'baby', 'soundness', 'leech', 'obnoxious', 'militia', 'inseparable', 'gradual', 'posthumous', 'austerity', 'reverence', 'languid', 'tussle', 'manly', 'neuralgia', 'aimless', 'partisan', 'nay', 'surly', 'adoration', 'lover', 'verbosity', 'buoy', 'occult', 'cooperate', 'dung', 'prevent', 'cyst', 'offing', 'afflicted', 'outward', 'committed', 'misguided', 'rescind', 'connoisseur', 'protect', 'cheesecake', 'invariably', 'pick', 'enroll', 'resplendent', 'sanctuary', 'martingale', 'carnal', 'rota', 'superficial', 'hawk', 'infallible', 'doubtless', 'argument', 'grandchildren', 'unequal', 'consort', 'production', 'synergistic', 'deletion', 'insurmountable', 'heartburn', 'restorative', 'visor', 'improvement', 'wallow', 'disgrace', 'ejection', 'entertained', 'foolish', 'jaundice', 'speedy', 'goodly', 'pinion', 'atrophy', 'protector', 'morbidity', 'powerful', 'decrepit', 'predominant', 'flattering', 'curse', 'manufacturer', 'lawful', 'womb', 'archaic', 'harbinger', 'dependent', 'epilepsy', 'slink', 'worship', 'fiesta', 'score', 'fraught', 'irrefutable', 'kicking', 'mortgagee', 'fib', 'wear', 'impound', 'borrower', 'clarify', 'restrict', 'cheat', 'muddy', 'hungry', 'lurch', 'attentive', 'hamstring', 'slaughterhouse', 'reserve', 'strikingly', 'darkened', 'efficient', 'depressed', 'sociable', 'subtract', 'unjustifiable', 'rickety', 'princely', 'lag', 'iris', 'affable', 'impervious', 'extend', 'pastime', 'personable', 'agriculture', 'beer', 'sincere', 'dawn', 'composed', 'massacre', 'conceit', 'delicious', 'terror', 'inconsequential', 'star', 'suppress', 'compress', 'vagueness', 'profusion', 'crude', 'unclean', 'rejoice', 'chattering', 'healing', 'constantly', 'canary', 'heroin', 'bang', 'speculation', 'horror', 'build', 'disgruntled', 'oligarchy', 'obscenity', 'derelict', 'peacock', 'shock', 'gorge', 'quit', 'irreconcilable', 'rejuvenated', 'warlike', 'income', 'statistical', 'grotesque', 'augment', 'authenticity', 'peculiarity', 'good', 'diamond', 'venerable', 'shiver', 'cultivate', 'procession', 'duet', 'exuberance', 'innocence', 'caste', 'overestimate', 'porn', 'surprisingly', 'transcript', 'valuable', 'beating', 'misconception', 'network', 'participation', 'attest', 'conscientious', 'spent', 'incase', 'godsend', 'impartiality', 'reinstate', 'cloudiness', 'negation', 'sequel', 'excellent', 'healthy', 'widower', 'justification', 'diagnosis', 'soothing', 'devour', 'plated', 'victim', 'lose', 'repression', 'ruthless', 'tiredness', 'improved', 'endeavor', 'mortar', 'pardon', 'lesbian', 'socialist', 'nap', 'animus', 'embargo', 'sky', 'indent', 'precedence', 'celebrity', 'completing', 'deform', 'ambassador', 'disclaim', 'truce', 'frantic', 'bereft', 'frightened', 'feigned', 'liar', 'splendid', 'scrapie', 'distracted', 'core', 'leprosy', 'eel', 'tumor', 'miserably', 'addiction', 'infinity', 'misery', 'mouthful', 'learning', 'august', 'fire', 'irrational', 'compost', 'quivering', 'cement', 'proficient', 'irreverent', 'basketball', 'adjunct', 'absorbed', 'priesthood', 'selfishness', 'infestation', 'civilization', 'lick', 'backwards', 'stone', 'distracting', 'ghost', 'sin', 'electricity', 'germ', 'censure', 'fanatic', 'disgraced', 'strip', 'ambush', 'peaceable', 'adversary', 'reclamation', 'assured', 'shameful', 'soulless', 'spoiler', 'scandal', 'straightforward', 'revolution', 'mother', 'occasional', 'sentence', 'perpetuate', 'emulate', 'destroyer', 'gossip', 'explosion', 'annoyance', 'begun', 'warden', 'revolver', 'debacle', 'feverish', 'fate', 'herpesvirus', 'illness', 'lava', 'gauche', 'supremacy', 'opposed', 'decoy', 'negligently', 'atom', 'thoroughbred', 'abysmal', 'hobby', 'masochism', 'tenderness', 'tripping', 'uneven', 'omnipotence', 'unsuspecting', 'tenement', 'fact', 'gag', 'loony', 'abuse', 'cater', 'adipose', 'decrease', 'foreboding', 'supplication', 'stud', 'immoral', 'worn', 'interrogate', 'malign', 'mandarin', 'encouragement', 'fragile', 'superstar', 'unanticipated', 'unsung', 'contemptible', 'flagging', 'typhoon', 'compliant', 'cystic', 'highest', 'precaution', 'slaughtering', 'bedrock', 'rejoicing', 'marine', 'adultery', 'tact', 'waffle', 'interested', 'readiness', 'antichrist', 'eagle', 'relief', 'demonstrative', 'fornication', 'attainable', 'purist', 'wicket', 'logical', 'predispose', 'bad', 'surveillance', 'tutor', 'liberation', 'lifeblood', 'unsupported', 'dutiful', 'glimmer', 'reversal', 'wench', 'judiciary', 'auspicious', 'disobey', 'helpful', 'superiority', 'dynamic', 'vanguard', 'holiness', 'selfish', 'regret', 'intend', 'subjugation', 'objective', 'medley', 'simmer', 'eligible', 'stumble', 'disapprove', 'delusion', 'wonderful', 'wrangling', 'teens', 'punitive', 'penance', 'reimburse', 'illustrate', 'episcopal', 'blurred', 'somber', 'blur', 'tomb', 'construct', 'forbearance', 'verily', 'subdue', 'cafe', 'materialism', 'monument', 'synchronize', 'fudge', 'hesitation', 'witchcraft', 'oppressor', 'polemic', 'curl', 'infallibility', 'outrageous', 'correspondence', 'plenary', 'extinguish', 'whim', 'convict', 'pay', 'rarity', 'groan', 'rife', 'county', 'wrong', 'deceive', 'preventive', 'brothel', 'replenish', 'detection', 'plump', 'ludicrous', 'unsophisticated', 'complain', 'choir', 'crime', 'resultant', 'gravitate', 'deacon', 'exhort', 'unprotected', 'frustrate', 'true', 'audacity', 'persecute', 'congruence', 'conspirator', 'credit', 'coldness', 'erotic', 'patent', 'candied', 'advent', 'noisy', 'talisman', 'optimist', 'grimy', 'diminished', 'equally', 'measure', 'leer', 'cruelly', 'fight', 'craft', 'treacherous', 'purr', 'consonant', 'sanitary', 'dare', 'moody', 'villain', 'microscope', 'prolong', 'equity', 'clumsy', 'anal', 'absurdity', 'damper', 'flange', 'luxurious', 'openness', 'suitable', 'chicane', 'reappear', 'hearsay', 'cyclone', 'destroyed', 'discreet', 'fever', 'dissension', 'hurrah', 'tetanus', 'dandruff', 'mortuary', 'distrust', 'timid', 'adulterated', 'stripped', 'ultimately', 'defy', 'storm', 'morsel', 'bomb', 'deterioration', 'swine', 'bartender', 'emeritus', 'football', 'restrain', 'jury', 'pound', 'serum', 'chirp', 'excuse', 'abscess', 'radar', 'mace', 'vivacious', 'bookworm', 'discouragement', 'hasty', 'sympathy', 'passe', 'folly', 'wrench', 'aura', 'bitch', 'allay', 'pain', 'akin', 'incur', 'deny', 'wince', 'coherence', 'defection', 'specter', 'unsteady', 'nose', 'sun', 'memento', 'fungus', 'virtue', 'dashed', 'agony', 'scholar', 'desirable', 'citizen', 'shank', 'collateral', 'terrorist', 'guilt', 'coffin', 'impenetrable', 'crucial', 'denied', 'bait', 'repellent', 'doubt', 'kindness', 'pacific', 'isolate', 'investigation', 'egregious', 'measured', 'general', 'negro', 'surprising', 'cull', 'horse', 'inane', 'guzzling', 'groundwork', 'gift', 'specialize', 'remission', 'passive', 'annoy', 'adventure', 'experienced', 'blackjack', 'journalist', 'proven', 'vegetative', 'incongruous', 'scoundrel', 'anticipation', 'buffet', 'poorly', 'respects', 'extraordinary', 'adept', 'slum', 'instruct', 'yawn', 'modest', 'cheering', 'lure', 'catechism', 'library', 'stamina', 'explosive', 'picturesque', 'inspiration', 'irritating', 'thoughtless', 'parachute', 'unequivocally', 'disuse', 'hypothesis', 'inferno', 'astronomer', 'punctuality', 'crying', 'goods', 'portable', 'coincidence', 'insane', 'restrictive', 'loneliness', 'fancy', 'eager', 'assassination', 'stigma', 'guard', 'encore', 'docked', 'ratify', 'rebellion', 'messy', 'nonsensical', 'aggravated', 'apprehend', 'shout', 'execution', 'rightly', 'affirmatively', 'methanol', 'spine', 'meaningless', 'monster', 'pressure', 'promotion', 'annoying', 'paucity', 'withdraw', 'boy', 'improvise', 'maximum', 'frowning', 'apostolic', 'misstatement', 'publicist', 'beautify', 'infamy', 'praise', 'stray', 'splash', 'savor', 'clashing', 'debtor', 'interdiction', 'divestment', 'smoker', 'agitation', 'squatter', 'battalion', 'rebel', 'inappropriate', 'contagious', 'porno', 'confidential', 'restitution', 'gorgeous', 'unbridled', 'latrines', 'harm', 'intestinal', 'fugitive', 'narcotic', 'unequivocal', 'unworthy', 'glut', 'rogue', 'babbling', 'sultry', 'shroud', 'labyrinth', 'absentee', 'console', 'menacing', 'sneak', 'birthplace', 'lax', 'poverty', 'stifle', 'shoot', 'traveling', 'beach', 'escalate', 'favoritism', 'insufficiently', 'jeopardize', 'suicidal', 'famous', 'dread', 'deleterious', 'physicist', 'march', 'boil', 'consequent', 'absent', 'effigy', 'mettle', 'demonstrable', 'approval', 'lumbering', 'copycat', 'poison', 'sharpen', 'apt', 'practise', 'invigorate', 'excited', 'educational', 'disinterested', 'bulbous', 'disreputable', 'responsible', 'pauper', 'forearm', 'mediator', 'grime', 'lonely', 'repelling', 'raffle', 'crook', 'shrewd', 'fixture', 'assault', 'discretionary', 'verification', 'remains', 'undivided', 'prepared', 'appropriation', 'fame', 'abba', 'devilish', 'biopsy', 'gibberish', 'smack', 'resistant', 'repent', 'deceptive', 'advantageous', 'trendy', 'violence', 'kindred', 'decompose', 'corporation', 'noxious', 'opportune', 'forefathers', 'treason', 'carefully', 'spruce', 'unacknowledged', 'dismay', 'lounge', 'bank', 'mistake', 'gallant', 'intimate', 'indoctrination', 'matron', 'heroics', 'ware', 'remodel', 'darkness', 'pimple', 'rabies', 'established', 'extrajudicial', 'touched', 'manna', 'spur', 'alimentation', 'dazed', 'female', 'verdant', 'promise', 'happiness', 'arbitrator', 'limited', 'starving', 'damn', 'flagrant', 'frenzy', 'romp', 'horribly', 'garrison', 'predatory', 'abrupt', 'bondage', 'discriminating', 'dedication', 'finesse', 'dizzy', 'heel', 'oppose', 'fleece', 'ahead', 'delectable', 'unquestioned', 'raid', 'insignia', 'crocodile', 'axiomatic', 'veal', 'perspiration', 'fellow', 'pornography', 'alive', 'immense', 'restrained', 'extra', 'candid', 'synonymous', 'vote', 'timidity', 'condemnation', 'gear', 'loath', 'abyss', 'registry', 'recognizable', 'inflammation', 'tired', 'countess', 'upright', 'organ', 'muss', 'insure', 'plan', 'cap', 'prey', 'tremendously', 'maroon', 'honey', 'invade', 'laxative', 'grumpy', 'bristle', 'sag', 'distress', 'skewed', 'apache', 'democracy', 'rebut', 'contravene', 'attestation', 'ballad', 'travesty', 'guillotine', 'infertility', 'charming', 'grudge', 'undermined', 'socialism', 'foiled', 'disapproving', 'steady', 'impure', 'belated', 'cherish', 'faithful', 'cabal', 'scare', 'petty', 'probity', 'discontent', 'accusative', 'overgrown', 'sally', 'spat', 'subjection', 'everlasting', 'accurate', 'dietary', 'bacterium', 'idol', 'knight', 'preparatory', 'balm', 'claw', 'amends', 'gentleman', 'muff', 'lawlessness', 'bath', 'distressed', 'fatal', 'periodicity', 'surcharge', 'complexed', 'unexpected', 'madness', 'fatigue', 'crash', 'smite', 'eradicate', 'gentleness', 'doubtful', 'determination', 'illiterate', 'slack', 'nursery', 'napkin', 'rock', 'rescue', 'unapproved', 'immunization', 'scholarship', 'torment', 'joker', 'illogical', 'malaria', 'venomous', 'proper', 'cascade', 'humility', 'discussion', 'urn', 'swim', 'analyst', 'capitalist', 'expose', 'merriment', 'unfriendly', 'valor', 'condescending', 'flexibility', 'crypt', 'damages', 'buck', 'bully', 'commodore', 'pestilence', 'mutter', 'deprivation', 'hindering', 'glib', 'prevention', 'republic', 'unsatisfied', 'domination', 'concerned', 'assuage', 'forced', 'promiscuous', 'stinging', 'disingenuous', 'benevolence', 'ogre', 'holiday', 'dove', 'notary', 'eyewitness', 'stealing', 'working', 'rightful', 'dastardly', 'decomposed', 'expert', 'rhythmical', 'incorrect', 'hardened', 'smudge', 'ovation', 'alimony', 'burglary', 'crawl', 'resentment', 'detrimental', 'dissenting', 'chase', 'acquiring', 'motive', 'corrupting', 'sunk', 'flatulence', 'statue', 'unlucky', 'farce', 'cramped', 'hush', 'horrors', 'grated', 'scum', 'offering', 'ineffectual', 'huff', 'keynote', 'permission', 'therapeutic', 'spinster', 'muddled', 'instrumental', 'formula', 'lunacy', 'producer', 'philanthropist', 'devil', 'mercy', 'impeccable', 'crazed', 'versus', 'plexus', 'romance', 'worthy', 'offender', 'trip', 'reimbursement', 'refreshing', 'collapse', 'despise', 'crescendo', 'bender', 'hurricane', 'adverse', 'criticize', 'magnificence', 'litigation', 'crystal', 'lyre', 'ransom', 'ripen', 'ghetto', 'despair', 'malady', 'exclusion', 'excitement', 'trick', 'poaching', 'drawback', 'approving', 'valiant', 'poke', 'fluctuation', 'quicksilver', 'corruption', 'disagreement', 'advise', 'worth', 'ravenous', 'glare', 'succulent', 'chancellor', 'anguish', 'melancholy', 'riddled', 'favorable', 'barbarism', 'amenable', 'intimidation', 'champion', 'bombardment', 'urgent', 'medical', 'meltdown', 'bluff', 'aftertaste', 'testament', 'steadfast', 'sheriff', 'mourning', 'sensibly', 'ultimate', 'pest', 'retain', 'whirlpool', 'singularly', 'displaced', 'unlawful', 'slop', 'violently', 'mule', 'sty', 'disapproval', 'vehement', 'abundant', 'injunction', 'tenacious', 'anxious', 'refugee', 'ram', 'prospect', 'ugly', 'detriment', 'judgment', 'proctor', 'precise', 'astute', 'secret', 'boon', 'laureate', 'weakness', 'irate', 'grievous', 'gore', 'noble', 'heyday', 'xenophobia', 'anticipatory', 'subsidence', 'enjoy', 'sludge', 'elevation', 'calamity', 'trig', 'singly', 'account', 'primer', 'word', 'heresy', 'occupy', 'deceitful', 'drought', 'wildfire', 'gall', 'transitional', 'swampy', 'organization', 'rugged', 'dank', 'grounded', 'accomplish', 'congress', 'antibiotics', 'predilection', 'attempt', 'majestic', 'microscopy', 'vanished', 'swab', 'clever', 'forge', 'cocaine', 'minimize', 'foundation', 'unseat', 'lender', 'scream', 'windfall', 'firearms', 'unwelcome', 'inapplicable', 'completeness', 'passion', 'thought', 'smuggling', 'ply', 'covet', 'pedigree', 'khan', 'cleave', 'indivisible', 'dictionary', 'overbearing', 'protective', 'irreparable', 'sage', 'lavatory', 'untold', 'uninvited', 'stalwart', 'lottery', 'treasure', 'bridesmaid', 'hedonism', 'anthrax', 'hut', 'whirlwind', 'desperate', 'fore', 'asp', 'ejaculation', 'serenity', 'sleet', 'primary', 'hunting', 'contaminate', 'estranged', 'eminent', 'precursor', 'molestation', 'cleansing', 'elf', 'lecturer', 'unselfish', 'syringe', 'hoary', 'hospice', 'cathartic', 'cerebral', 'erupt', 'laugh', 'bloated', 'bum', 'guerilla', 'assailant', 'discomfort', 'wicked', 'oust', 'disrespect', 'bolster', 'disappointing', 'betray', 'implicate', 'master', 'glittering', 'invocation', 'armored', 'compass', 'cess', 'joyful', 'unacceptable', 'playhouse', 'fatality', 'bear', 'counsel', 'deactivate', 'peril', 'heavily', 'annulment', 'unwavering', 'calf', 'bodyguard', 'shelter', 'bold', 'dike', 'congressman', 'whack', 'culture', 'wry', 'foreigner', 'learn', 'indecisive', 'mumble', 'expectation', 'ongoing', 'regression', 'concussion', 'prosperity', 'contempt', 'slush', 'cheery', 'revel', 'depreciate', 'conspiracy', 'vulgarity', 'empathy', 'join', 'inadequacy', 'applause', 'deserted', 'die', 'longevity', 'immediacy', 'gout', 'hatred', 'weeping', 'nihilism', 'insufficient', 'tribe', 'blue', 'chart', 'metastasis', 'coexist', 'virgin', 'confiscation', 'balanced', 'desiring', 'murderer', 'slug', 'arson', 'shudder', 'contentious', 'buzzed', 'intrusive', 'eloquence', 'falsely', 'noose', 'supporter', 'producing', 'organized', 'beaming', 'dabbling', 'swollen', 'gage', 'labor', 'chimera', 'stretcher', 'backwater', 'aesthetics', 'satin', 'vow', 'personal', 'lofty', 'deranged', 'uncanny', 'berth', 'anchor', 'shove', 'tickle', 'authorized', 'quarantine', 'alien', 'entrails', 'dysentery', 'symmetry', 'conspire', 'heroine', 'confide', 'privileged', 'incurable', 'lost', 'cursed', 'abort', 'tether', 'slavery', 'honesty', 'sketchy', 'easement', 'vindicated', 'lone', 'quest', 'villager', 'blindness', 'contamination', 'demand', 'abortive', 'closeness', 'bloom', 'miserable', 'cussed', 'lull', 'stillness', 'disgusting', 'pang', 'adviser', 'unintended', 'disorderly', 'ensign', 'banished', 'unrest', 'fabrication', 'decomposition', 'sappy', 'including', 'mamma', 'wasteful', 'revulsion', 'inferior', 'approaching', 'aggressor', 'frivolous', 'liberal', 'fortunate', 'collaborator', 'grandmother', 'reformer', 'wearily', 'lurking', 'hearth', 'presence', 'structure', 'sinful', 'halter', 'hydra', 'distressing', 'gent', 'storming', 'startling', 'usury', 'job', 'jungle', 'indomitable', 'naturalist', 'hardness', 'grateful', 'perish', 'kidnap', 'invasion', 'insolvency', 'combatant', 'topple', 'rust', 'haste', 'intellect', 'sleek', 'indecency', 'senile', 'punished', 'deduct', 'immediately', 'orgasm', 'weep', 'cool', 'yearning', 'opera', 'volcano', 'enforcement', 'triumphant', 'ornamented', 'fume', 'truthfulness', 'suffocation', 'theism', 'widow', 'plaintiff', 'survive', 'contour', 'fortitude', 'renovate', 'seduce', 'stagger', 'extermination', 'cop', 'baboon', 'biblical', 'competent', 'localize', 'rebate', 'contingent', 'chaplain', 'pneumonia', 'charger', 'earnestly', 'guardianship', 'idealism', 'friend', 'bandit', 'armory', 'arguments', 'impress', 'cleanly', 'feud', 'minority', 'renunciation', 'symbolic', 'rotting', 'ammonia', 'investigate', 'thwart', 'mumps', 'cartel', 'unsettled', 'irrelevant', 'unsurpassed', 'rifle', 'terrible', 'illuminate', 'odious', 'thoughtfulness', 'arrears', 'decayed', 'imprison', 'disposal', 'admirer', 'forfeiture', 'forfeit', 'angel', 'archaeology', 'stave', 'winner', 'reject', 'lace', 'infinite', 'ostensibly', 'daemon', 'mover', 'infanticide', 'chasm', 'desertion', 'correction', 'unsightly', 'broke', 'neighborhood', 'richness', 'presentment', 'geriatric', 'prick', 'sedition', 'compensatory', 'restlessness', 'rave', 'pitfall', 'clouded', 'unsavory', 'legalized', 'disposed', 'inviting', 'heartily', 'volunteers', 'untrue', 'buddy', 'opinionated', 'accused', 'begging', 'vacancy', 'unexplained', 'damnation', 'cuckoo', 'formative', 'retaliate', 'pharmaceutical', 'hissing', 'girder', 'plumb', 'uncontrolled', 'inconsistency', 'befitting', 'constipation', 'generosity', 'enchanting', 'threaten', 'incident', 'mistrust', 'contaminated', 'inventive', 'tyrant', 'navigable', 'battle', 'wont', 'elusive', 'testimony', 'stoned', 'utopian', 'robust', 'excitable', 'hurting', 'navigator', 'punishing', 'phalanx', 'penetration', 'vampire', 'pawn', 'aristocratic', 'zeal', 'setback', 'suddenly', 'abhorrent', 'diary', 'suspect', 'gelatin', 'rebuke', 'approbation', 'discontinue', 'unnatural', 'incessant', 'renown', 'timely', 'predicament', 'roughness', 'rubbish', 'inaction', 'enemy', 'peck', 'thrill', 'blasphemy', 'crank', 'gluttony', 'backer', 'apathetic', 'institute', 'blunder', 'racket', 'detonation', 'modesty', 'hallucination', 'graceful', 'unpretentious', 'depth', 'frank', 'ranger', 'shit', 'superb', 'insolvent', 'determined', 'comrade', 'paralyzed', 'squirm', 'helper', 'inability', 'substantive', 'commemoration', 'believing', 'honest', 'censor', 'lawsuit', 'vice', 'persuade', 'impassable', 'cunning', 'safe', 'fracture', 'grow', 'insulation', 'lunatic', 'nettle', 'antique', 'sabotage', 'unassuming', 'fireproof', 'palpable', 'pool', 'janitor', 'bookish', 'caries', 'prominence', 'gasp', 'forgery', 'undying', 'haze', 'rivalry', 'biennial', 'shepherd', 'entertaining', 'saintly', 'austere', 'resilient', 'handicap', 'musket', 'divinity', 'claimant', 'daily', 'immorality', 'pretensions', 'foresee', 'hankering', 'votive', 'vicious', 'headlight', 'impotence', 'jumble', 'authoritative', 'carcinoma', 'philanthropic', 'disdain', 'despicable', 'perishing', 'esprit', 'puma', 'iniquity', 'adorable', 'velvety', 'pervert', 'visit', 'flaw', 'secrecy', 'disclosed', 'mislead', 'neglecting', 'grandfather', 'idolatry', 'respectful', 'obituary', 'assure', 'spice', 'aspiring', 'boredom', 'interim', 'alluring', 'manual', 'fray', 'rejuvenate', 'unwillingness', 'productivity', 'gush', 'gate', 'formality', 'praised', 'inept', 'subversion', 'inform', 'pollute', 'startle', 'flog', 'tomorrow', 'vermin', 'ameliorate', 'hostage', 'dame', 'commandant', 'quaint', 'helpless', 'mess', 'funeral', 'panier', 'haughty', 'major', 'prophetic', 'dominate', 'relaxation', 'impatient', 'dying', 'rein', 'wisdom', 'toughness', 'dinosaur', 'god', 'badger', 'downy', 'patch', 'lodging', 'information', 'delirious', 'dealings', 'epidemic', 'misleading', 'official', 'remand', 'tarnish', 'genteel', 'impressionable', 'bountiful', 'elegant', 'proficiency', 'annihilate', 'bridegroom', 'fuse', 'virginity', 'creative', 'bottomless', 'fled', 'tardy', 'stress', 'important', 'leverage', 'vulnerability', 'glacial', 'frustration', 'flow', 'cleverness', 'examination', 'rowdy', 'collusion', 'futility', 'maniacal', 'hoarse', 'fits', 'worried', 'traditional', 'grumble', 'grievance', 'theology', 'mysterious', 'wary', 'laughter', 'stealthily', 'laudable', 'preparation', 'ugliness', 'simmering', 'appreciation', 'disconnect', 'exceed', 'brighten', 'ruffle', 'constancy', 'oddity', 'system', 'civility', 'unborn', 'sick', 'musty', 'mediterranean', 'alabaster', 'stealthy', 'fallible', 'savvy', 'small', 'pleasant', 'wrinkled', 'heavens', 'foray', 'craps', 'educated', 'hag', 'prejudicial', 'twin', 'ill', 'stagnant', 'cable', 'crisis', 'completion', 'spectacular', 'moan', 'agree', 'unscathed', 'shooting', 'wizard', 'blame', 'ghostly', 'disastrous', 'materialist', 'ay', 'sponsor', 'intelligent', 'removal', 'tantalizing', 'muck', 'contraband', 'sickening', 'concentric', 'exasperation', 'bulletproof', 'missionary', 'outrage', 'frostbite', 'terminate', 'lair', 'spank', 'toad', 'invalidation', 'scab', 'recherche', 'opaque', 'disqualification', 'undecided', 'nonsense', 'plaintive', 'quell', 'pertinent', 'celebration', 'management', 'wrought', 'reckless', 'drivel', 'meek', 'wring', 'tribulation', 'plague', 'feeble', 'recreational', 'revive', 'defective', 'morals', 'dignified', 'lowly', 'yellows', 'infarct', 'classical', 'privy', 'garden', 'controversial', 'contemptuous', 'rot', 'tenancy', 'midwife', 'inhospitable', 'stomach', 'calm', 'foregoing', 'viper', 'benefit', 'admissible', 'sizzle', 'hate', 'pig', 'godly', 'dependency', 'swamp', 'inalienable', 'errand', 'worsening', 'prickly', 'convenient', 'inexpensive', 'calculation', 'land', 'gambler', 'butcher', 'notables', 'shed', 'specialist', 'levee', 'trespass', 'junta', 'laurels', 'sobriety', 'melee', 'inaugural', 'sweet', 'defamatory', 'undersized', 'spectacle', 'legible', 'tease', 'clairvoyant', 'cashier', 'weakly', 'chastity', 'overdo', 'weird', 'risk', 'missile', 'change', 'improvisation', 'forbid', 'explain', 'progressive', 'dupe', 'theft', 'momentum', 'froth', 'sonnet', 'unattached', 'child', 'misplaced', 'tract', 'quiescent', 'expropriation', 'sear', 'reproductive', 'sacrifices', 'humiliate', 'avoidance', 'decent', 'hurt', 'veteran', 'perennial', 'delinquency', 'joking', 'courageous', 'massage', 'beware', 'fearfully', 'squelch', 'swarm', 'emphasize', 'faithless', 'accidental', 'infraction', 'dirt', 'dominant', 'sceptical', 'strength', 'sortie', 'spear', 'unsatisfactory', 'legislature', 'unauthorized', 'justice', 'aggravating', 'assist', 'inaccurate', 'discrimination', 'greatness', 'haggard', 'condemn', 'pavement', 'inequitable', 'earnestness', 'attractiveness', 'festival', 'consummate', 'jargon', 'mismanagement', 'rooted', 'loathsome', 'inferiority', 'stupid', 'lines', 'allegiance', 'evergreen', 'unimproved', 'share', 'ambition', 'eat', 'rekindle', 'snake', 'deficit', 'mausoleum', 'recoup', 'merchant', 'bailiff', 'commute', 'count', 'herbal', 'choral', 'amiable', 'jeopardy', 'steward', 'rating', 'harmoniously', 'airs', 'population', 'satisfactorily', 'gloss', 'flap', 'tortious', 'savory', 'unsuitable', 'mending', 'bawdy', 'association', 'ulterior', 'disappear', 'inflated', 'intuitively', 'attention', 'dismal', 'varicella', 'battered', 'moral', 'perpetuity', 'horrible', 'hiss', 'deliverance', 'badness', 'wireless', 'disturbance', 'expectant', 'vulgar', 'inimical', 'flaccid', 'cringe', 'fashionable', 'seduction', 'focus', 'obliteration', 'giving', 'sentimentality', 'shipwreck', 'vivid', 'swerve', 'attenuated', 'distraction', 'closure', 'whisky', 'coy', 'teacher', 'array', 'nascent', 'tedious', 'glory', 'minimum', 'devotional', 'inconvenient', 'confront', 'veracity', 'exaggerated', 'broil', 'shameless', 'explode', 'abduction', 'convention', 'superstitious', 'dwarfed', 'barrier', 'endowed', 'insurrection', 'amuse', 'hopeless', 'theological', 'skip', 'heretic', 'unproductive', 'craving', 'blanket', 'unable', 'overwhelmed', 'descriptive', 'purification', 'sonata', 'scintilla', 'suspension', 'recidivism', 'argumentative', 'dictator', 'disaffected', 'rising', 'row', 'penal', 'blemish', 'slander', 'giant', 'custodian', 'snicker', 'tardiness', 'scheme', 'sequestration', 'illustrious', 'sweets', 'aversion', 'impeach', 'conformity', 'cannibalism', 'cult', 'halfway', 'subscribe', 'comprehend', 'dour', 'hulk', 'disparage', 'frightful', 'vigilance', 'assurance', 'offensive', 'rigid', 'uprising', 'nightmare', 'redress', 'dissonance', 'divorce', 'unpleasant', 'cloudy', 'hemorrhoids', 'create', 'goodness', 'joyous', 'bovine', 'stranded', 'enthusiasm', 'paprika', 'proof', 'pretend', 'anonymous', 'toxic', 'eventual', 'curiosity', 'foresight', 'insult', 'depraved', 'sparkle', 'venom', 'circumcision', 'divergent', 'idiotic', 'theory', 'fallacious', 'degrading', 'hunter', 'full', 'banker', 'instruction', 'gutter', 'quail', 'start', 'radiance', 'shopkeeper', 'imaginative', 'mutilated', 'negotiate', 'doomsday', 'refinement', 'shine', 'cutters', 'fanaticism', 'unpopular']\n"
          ]
        }
      ]
    },
    {
      "cell_type": "code",
      "source": [
        "print(len(sentence_list))\n",
        "sentence_list.extend(list_lexicon_all)\n",
        "print(len(sentence_list))"
      ],
      "metadata": {
        "colab": {
          "base_uri": "https://localhost:8080/"
        },
        "id": "zR3WCatnaQkl",
        "outputId": "b179d9d0-dfd3-4a37-f8f9-9cf9bf99f031"
      },
      "execution_count": 252,
      "outputs": [
        {
          "output_type": "stream",
          "name": "stdout",
          "text": [
            "3739\n",
            "10207\n"
          ]
        }
      ]
    },
    {
      "cell_type": "code",
      "source": [
        "sentence_list[3729:]"
      ],
      "metadata": {
        "id": "KmRh-CTfpjfN"
      },
      "execution_count": null,
      "outputs": []
    },
    {
      "cell_type": "code",
      "source": [
        "freq_threshold = 1\n",
        "vocab_max_size = 50000\n",
        "\n",
        "vocab = Vocabulary(freq_threshold, vocab_max_size)\n",
        "vocab.build_vocabulary(sentence_list)"
      ],
      "metadata": {
        "id": "WW44PGJKRbpS"
      },
      "execution_count": 272,
      "outputs": []
    },
    {
      "cell_type": "code",
      "source": [
        "len(vocab.stoi)"
      ],
      "metadata": {
        "colab": {
          "base_uri": "https://localhost:8080/"
        },
        "id": "1XpPIx3pdwbC",
        "outputId": "30a6cd7e-8d2c-46f4-8b50-7bbb4ebe9f52"
      },
      "execution_count": 269,
      "outputs": [
        {
          "output_type": "execute_result",
          "data": {
            "text/plain": [
              "5068"
            ]
          },
          "metadata": {},
          "execution_count": 269
        }
      ]
    },
    {
      "cell_type": "markdown",
      "source": [
        "### Build Source Train Dataset\n",
        "We first inherit PyTorch's Dataset class.\n",
        "Then, we initialize and build the vocabs for subject in our train data frame.\n",
        "Then, we use the getitem() method to numericalize the subject 1 example at a time for the data loader (a function to load data in batches)."
      ],
      "metadata": {
        "id": "uwvxG4Op8YUT"
      }
    },
    {
      "cell_type": "code",
      "source": [
        "#######################################################\n",
        "#               Define Train_Dataset class\n",
        "#######################################################\n",
        "\n",
        "class Train_Dataset(Dataset):\n",
        "    '''\n",
        "    Initiating Variables\n",
        "    df: the training dataframe\n",
        "    subject : the name of target text column in the dataframe\n",
        "    transform : If we want to add any augmentation\n",
        "    freq_threshold : the minimum times a word must occur in corpus to be treated in vocab\n",
        "    vocab_max_size : max  vocab size\n",
        "    '''\n",
        "    \n",
        "    def __init__(self, df, subject, label_col, vocab , domain = domain_source, max_sentence_length = 150, transform=None, freq_threshold = 5,\n",
        "                vocab_max_size = 50000):\n",
        "    \n",
        "        self.df = df\n",
        "        self.transform = transform\n",
        "        \n",
        "        #get body and label\n",
        "        self.subject_texts = self.df[subject]\n",
        "        self.labels = self.df[label_col].astype(float)\n",
        "        self.domain = domain\n",
        "        self.vocab = vocab\n",
        "        \n",
        "        # ##VOCAB class has been created above\n",
        "        # #Initialize vocab object and build vocabulary\n",
        "        # self.vocab = Vocabulary(freq_threshold, vocab_max_size)\n",
        "        # self.vocab.build_vocabulary(self.subject_texts.tolist())\n",
        "        self.max_sentence_length = max_sentence_length\n",
        "        \n",
        "    def __len__(self):\n",
        "        return len(self.df)\n",
        "    \n",
        "    '''\n",
        "    __getitem__ runs on 1 example at a time. Here, we get an example at index and return its numericalize source and\n",
        "    target values using the vocabulary objects we created in __init__\n",
        "    '''\n",
        "    def __getitem__(self, index):\n",
        "        subject_text = self.subject_texts[index]\n",
        "        label = self.labels[index]\n",
        "        domain_value = self.domain\n",
        "#         print(subject_text)\n",
        "        \n",
        "        if self.transform is not None:\n",
        "            subject_text = self.transform(subject_text)\n",
        "            \n",
        "        #numericalize texts ['<SOS>','cat', 'in', 'a', 'bag','<EOS>'] -> [1,12,2,9,24,2]\n",
        "        numerialized_subject =[]\n",
        "        numerialized_subject += self.vocab.numericalize(subject_text)\n",
        "        \n",
        "        while len(numerialized_subject) < self.max_sentence_length:\n",
        "            numerialized_subject.append(0)\n",
        "        \n",
        "        #convert the list to tensor and return\n",
        "        return torch.tensor(numerialized_subject[:self.max_sentence_length]), torch.tensor(label), torch.tensor(domain_value)\n",
        "#         return torch.tensor(numerialized_subject[:self.train_dataset.max_sentence_length]),label"
      ],
      "metadata": {
        "id": "Ue3fipRlERZI"
      },
      "execution_count": 278,
      "outputs": []
    },
    {
      "cell_type": "code",
      "source": [
        "dict_df_subset.keys()"
      ],
      "metadata": {
        "colab": {
          "base_uri": "https://localhost:8080/"
        },
        "id": "Ts9ZW7fxiDH0",
        "outputId": "cc0c12a2-cb33-4a83-c276-53f74af39b76"
      },
      "execution_count": 256,
      "outputs": [
        {
          "output_type": "execute_result",
          "data": {
            "text/plain": [
              "dict_keys(['df_EI_reg_train_subset', 'df_EI_reg_val_subset', 'df_EI_reg_test_subset', 'df_V_reg_train_subset', 'df_V_reg_val_subset', 'df_V_reg_test_subset'])"
            ]
          },
          "metadata": {},
          "execution_count": 256
        }
      ]
    },
    {
      "cell_type": "code",
      "source": [
        "df_train = dict_df_subset['df_EI_reg_train_subset']\n",
        "df_train"
      ],
      "metadata": {
        "colab": {
          "base_uri": "https://localhost:8080/",
          "height": 423
        },
        "id": "-XKkT1VABUHX",
        "outputId": "16d37ec9-2154-4985-ab3d-960c47a6b3fd"
      },
      "execution_count": 279,
      "outputs": [
        {
          "output_type": "execute_result",
          "data": {
            "text/plain": [
              "                                            TweetTokens Intensity Score  \\\n",
              "0     <user> <user> shut up hashtags are cool <hasht...           0.562   \n",
              "1     it makes me so fucking irate jesus . nobody is...           0.750   \n",
              "2     lol adam the bull with his fake outrage . <rep...           0.417   \n",
              "3     <user> passed away early this morning in a fas...           0.354   \n",
              "4     <user> lol wow i was gonna say really ? ! <rep...           0.438   \n",
              "...                                                 ...             ...   \n",
              "1696  got a <money> tip from a drunk uber passenger ...           0.708   \n",
              "1697  <user> <user> <user> <user> fucker blocked me ...           0.625   \n",
              "1698                                <user> i look rabid           0.472   \n",
              "1699  <user> i am not surprised , i would be fuming ...           0.479   \n",
              "1700  <user> the pout tips me over the edge . i am m...           0.490   \n",
              "\n",
              "      domain  \n",
              "0        0.0  \n",
              "1        0.0  \n",
              "2        0.0  \n",
              "3        0.0  \n",
              "4        0.0  \n",
              "...      ...  \n",
              "1696     0.0  \n",
              "1697     0.0  \n",
              "1698     0.0  \n",
              "1699     0.0  \n",
              "1700     0.0  \n",
              "\n",
              "[1701 rows x 3 columns]"
            ],
            "text/html": [
              "\n",
              "  <div id=\"df-e8fd3adc-7dc0-4432-b179-c0b4797f2a3f\">\n",
              "    <div class=\"colab-df-container\">\n",
              "      <div>\n",
              "<style scoped>\n",
              "    .dataframe tbody tr th:only-of-type {\n",
              "        vertical-align: middle;\n",
              "    }\n",
              "\n",
              "    .dataframe tbody tr th {\n",
              "        vertical-align: top;\n",
              "    }\n",
              "\n",
              "    .dataframe thead th {\n",
              "        text-align: right;\n",
              "    }\n",
              "</style>\n",
              "<table border=\"1\" class=\"dataframe\">\n",
              "  <thead>\n",
              "    <tr style=\"text-align: right;\">\n",
              "      <th></th>\n",
              "      <th>TweetTokens</th>\n",
              "      <th>Intensity Score</th>\n",
              "      <th>domain</th>\n",
              "    </tr>\n",
              "  </thead>\n",
              "  <tbody>\n",
              "    <tr>\n",
              "      <th>0</th>\n",
              "      <td>&lt;user&gt; &lt;user&gt; shut up hashtags are cool &lt;hasht...</td>\n",
              "      <td>0.562</td>\n",
              "      <td>0.0</td>\n",
              "    </tr>\n",
              "    <tr>\n",
              "      <th>1</th>\n",
              "      <td>it makes me so fucking irate jesus . nobody is...</td>\n",
              "      <td>0.750</td>\n",
              "      <td>0.0</td>\n",
              "    </tr>\n",
              "    <tr>\n",
              "      <th>2</th>\n",
              "      <td>lol adam the bull with his fake outrage . &lt;rep...</td>\n",
              "      <td>0.417</td>\n",
              "      <td>0.0</td>\n",
              "    </tr>\n",
              "    <tr>\n",
              "      <th>3</th>\n",
              "      <td>&lt;user&gt; passed away early this morning in a fas...</td>\n",
              "      <td>0.354</td>\n",
              "      <td>0.0</td>\n",
              "    </tr>\n",
              "    <tr>\n",
              "      <th>4</th>\n",
              "      <td>&lt;user&gt; lol wow i was gonna say really ? ! &lt;rep...</td>\n",
              "      <td>0.438</td>\n",
              "      <td>0.0</td>\n",
              "    </tr>\n",
              "    <tr>\n",
              "      <th>...</th>\n",
              "      <td>...</td>\n",
              "      <td>...</td>\n",
              "      <td>...</td>\n",
              "    </tr>\n",
              "    <tr>\n",
              "      <th>1696</th>\n",
              "      <td>got a &lt;money&gt; tip from a drunk uber passenger ...</td>\n",
              "      <td>0.708</td>\n",
              "      <td>0.0</td>\n",
              "    </tr>\n",
              "    <tr>\n",
              "      <th>1697</th>\n",
              "      <td>&lt;user&gt; &lt;user&gt; &lt;user&gt; &lt;user&gt; fucker blocked me ...</td>\n",
              "      <td>0.625</td>\n",
              "      <td>0.0</td>\n",
              "    </tr>\n",
              "    <tr>\n",
              "      <th>1698</th>\n",
              "      <td>&lt;user&gt; i look rabid</td>\n",
              "      <td>0.472</td>\n",
              "      <td>0.0</td>\n",
              "    </tr>\n",
              "    <tr>\n",
              "      <th>1699</th>\n",
              "      <td>&lt;user&gt; i am not surprised , i would be fuming ...</td>\n",
              "      <td>0.479</td>\n",
              "      <td>0.0</td>\n",
              "    </tr>\n",
              "    <tr>\n",
              "      <th>1700</th>\n",
              "      <td>&lt;user&gt; the pout tips me over the edge . i am m...</td>\n",
              "      <td>0.490</td>\n",
              "      <td>0.0</td>\n",
              "    </tr>\n",
              "  </tbody>\n",
              "</table>\n",
              "<p>1701 rows × 3 columns</p>\n",
              "</div>\n",
              "      <button class=\"colab-df-convert\" onclick=\"convertToInteractive('df-e8fd3adc-7dc0-4432-b179-c0b4797f2a3f')\"\n",
              "              title=\"Convert this dataframe to an interactive table.\"\n",
              "              style=\"display:none;\">\n",
              "        \n",
              "  <svg xmlns=\"http://www.w3.org/2000/svg\" height=\"24px\"viewBox=\"0 0 24 24\"\n",
              "       width=\"24px\">\n",
              "    <path d=\"M0 0h24v24H0V0z\" fill=\"none\"/>\n",
              "    <path d=\"M18.56 5.44l.94 2.06.94-2.06 2.06-.94-2.06-.94-.94-2.06-.94 2.06-2.06.94zm-11 1L8.5 8.5l.94-2.06 2.06-.94-2.06-.94L8.5 2.5l-.94 2.06-2.06.94zm10 10l.94 2.06.94-2.06 2.06-.94-2.06-.94-.94-2.06-.94 2.06-2.06.94z\"/><path d=\"M17.41 7.96l-1.37-1.37c-.4-.4-.92-.59-1.43-.59-.52 0-1.04.2-1.43.59L10.3 9.45l-7.72 7.72c-.78.78-.78 2.05 0 2.83L4 21.41c.39.39.9.59 1.41.59.51 0 1.02-.2 1.41-.59l7.78-7.78 2.81-2.81c.8-.78.8-2.07 0-2.86zM5.41 20L4 18.59l7.72-7.72 1.47 1.35L5.41 20z\"/>\n",
              "  </svg>\n",
              "      </button>\n",
              "      \n",
              "  <style>\n",
              "    .colab-df-container {\n",
              "      display:flex;\n",
              "      flex-wrap:wrap;\n",
              "      gap: 12px;\n",
              "    }\n",
              "\n",
              "    .colab-df-convert {\n",
              "      background-color: #E8F0FE;\n",
              "      border: none;\n",
              "      border-radius: 50%;\n",
              "      cursor: pointer;\n",
              "      display: none;\n",
              "      fill: #1967D2;\n",
              "      height: 32px;\n",
              "      padding: 0 0 0 0;\n",
              "      width: 32px;\n",
              "    }\n",
              "\n",
              "    .colab-df-convert:hover {\n",
              "      background-color: #E2EBFA;\n",
              "      box-shadow: 0px 1px 2px rgba(60, 64, 67, 0.3), 0px 1px 3px 1px rgba(60, 64, 67, 0.15);\n",
              "      fill: #174EA6;\n",
              "    }\n",
              "\n",
              "    [theme=dark] .colab-df-convert {\n",
              "      background-color: #3B4455;\n",
              "      fill: #D2E3FC;\n",
              "    }\n",
              "\n",
              "    [theme=dark] .colab-df-convert:hover {\n",
              "      background-color: #434B5C;\n",
              "      box-shadow: 0px 1px 3px 1px rgba(0, 0, 0, 0.15);\n",
              "      filter: drop-shadow(0px 1px 2px rgba(0, 0, 0, 0.3));\n",
              "      fill: #FFFFFF;\n",
              "    }\n",
              "  </style>\n",
              "\n",
              "      <script>\n",
              "        const buttonEl =\n",
              "          document.querySelector('#df-e8fd3adc-7dc0-4432-b179-c0b4797f2a3f button.colab-df-convert');\n",
              "        buttonEl.style.display =\n",
              "          google.colab.kernel.accessAllowed ? 'block' : 'none';\n",
              "\n",
              "        async function convertToInteractive(key) {\n",
              "          const element = document.querySelector('#df-e8fd3adc-7dc0-4432-b179-c0b4797f2a3f');\n",
              "          const dataTable =\n",
              "            await google.colab.kernel.invokeFunction('convertToInteractive',\n",
              "                                                     [key], {});\n",
              "          if (!dataTable) return;\n",
              "\n",
              "          const docLinkHtml = 'Like what you see? Visit the ' +\n",
              "            '<a target=\"_blank\" href=https://colab.research.google.com/notebooks/data_table.ipynb>data table notebook</a>'\n",
              "            + ' to learn more about interactive tables.';\n",
              "          element.innerHTML = '';\n",
              "          dataTable['output_type'] = 'display_data';\n",
              "          await google.colab.output.renderOutput(dataTable, element);\n",
              "          const docLink = document.createElement('div');\n",
              "          docLink.innerHTML = docLinkHtml;\n",
              "          element.appendChild(docLink);\n",
              "        }\n",
              "      </script>\n",
              "    </div>\n",
              "  </div>\n",
              "  "
            ]
          },
          "metadata": {},
          "execution_count": 279
        }
      ]
    },
    {
      "cell_type": "code",
      "source": [
        "dict_train_dataset ={}\n",
        "for name,df in dict_df_subset.items():\n",
        "  if \"train\" in name:\n",
        "    dataset_name = name+\"_dataset\"\n",
        "    # vars()[dataset_name] = Train_Dataset(df,'TweetTokens','Intensity Score', max_sentence_length =200) # dynamically assigning datasetname\n",
        "    dict_train_dataset[dataset_name] = Train_Dataset(df,'TweetTokens','Intensity Score', vocab, domain = domain_source, max_sentence_length =200) # dynamically assigning datasetname"
      ],
      "metadata": {
        "id": "MWMm8D1t9dcs"
      },
      "execution_count": 280,
      "outputs": []
    },
    {
      "cell_type": "code",
      "source": [
        "print(dict_train_dataset.keys())"
      ],
      "metadata": {
        "colab": {
          "base_uri": "https://localhost:8080/"
        },
        "id": "TeQ0pW6shCpT",
        "outputId": "cf2699d7-c8bb-42e9-c005-e662718d2b19"
      },
      "execution_count": 259,
      "outputs": [
        {
          "output_type": "stream",
          "name": "stdout",
          "text": [
            "dict_keys(['df_EI_reg_train_subset_dataset', 'df_V_reg_train_subset_dataset'])\n"
          ]
        }
      ]
    },
    {
      "cell_type": "code",
      "source": [
        "i = random.randint(0,len(dict_train_dataset['df_EI_reg_train_subset_dataset']))\n",
        "print(dict_df_subset['df_EI_reg_train_subset'].loc[i][['TweetTokens','Intensity Score','domain']])\n",
        "print((dict_train_dataset['df_EI_reg_train_subset_dataset'][i][0]))\n",
        "print((dict_train_dataset['df_EI_reg_train_subset_dataset'][i][1]))\n",
        "print((dict_train_dataset['df_EI_reg_train_subset_dataset'][i][2]))"
      ],
      "metadata": {
        "colab": {
          "base_uri": "https://localhost:8080/"
        },
        "id": "CHSbz2sgGrS8",
        "outputId": "9e24847e-3c83-4040-8343-b4c4bbd5a5a7"
      },
      "execution_count": 281,
      "outputs": [
        {
          "output_type": "stream",
          "name": "stdout",
          "text": [
            "TweetTokens        why is it always me picking up the pieces <ann...\n",
            "Intensity Score                                                0.812\n",
            "domain                                                           0.0\n",
            "Name: 800, dtype: object\n",
            "tensor([  83,   14,   17,  124,   24, 3587,   48,    7, 1955, 1034,    2,   86,\n",
            "           3,    0,    0,    0,    0,    0,    0,    0,    0,    0,    0,    0,\n",
            "           0,    0,    0,    0,    0,    0,    0,    0,    0,    0,    0,    0,\n",
            "           0,    0,    0,    0,    0,    0,    0,    0,    0,    0,    0,    0,\n",
            "           0,    0,    0,    0,    0,    0,    0,    0,    0,    0,    0,    0,\n",
            "           0,    0,    0,    0,    0,    0,    0,    0,    0,    0,    0,    0,\n",
            "           0,    0,    0,    0,    0,    0,    0,    0,    0,    0,    0,    0,\n",
            "           0,    0,    0,    0,    0,    0,    0,    0,    0,    0,    0,    0,\n",
            "           0,    0,    0,    0,    0,    0,    0,    0,    0,    0,    0,    0,\n",
            "           0,    0,    0,    0,    0,    0,    0,    0,    0,    0,    0,    0,\n",
            "           0,    0,    0,    0,    0,    0,    0,    0,    0,    0,    0,    0,\n",
            "           0,    0,    0,    0,    0,    0,    0,    0,    0,    0,    0,    0,\n",
            "           0,    0,    0,    0,    0,    0,    0,    0,    0,    0,    0,    0,\n",
            "           0,    0,    0,    0,    0,    0,    0,    0,    0,    0,    0,    0,\n",
            "           0,    0,    0,    0,    0,    0,    0,    0,    0,    0,    0,    0,\n",
            "           0,    0,    0,    0,    0,    0,    0,    0,    0,    0,    0,    0,\n",
            "           0,    0,    0,    0,    0,    0,    0,    0])\n",
            "tensor(0.8120, dtype=torch.float64)\n",
            "tensor(0.)\n"
          ]
        }
      ]
    },
    {
      "cell_type": "code",
      "source": [
        "# train_dataset_obj = Train_Dataset(df_train,'TweetTokens','Intensity Score', vocab,max_sentence_length =200)"
      ],
      "metadata": {
        "id": "NBq8Pz1JA7wO"
      },
      "execution_count": 75,
      "outputs": []
    },
    {
      "cell_type": "code",
      "source": [
        "# i = random.randint(0,len(train_dataset_obj))\n",
        "# print(df_train.loc[i][['TweetTokens','Intensity Score']])\n",
        "# print((train_dataset_obj[i][1]))\n",
        "# print(len(train_dataset_obj[i][0]))\n",
        "# print(train_dataset_obj[i][0])"
      ],
      "metadata": {
        "id": "cxIIq74eCBTI"
      },
      "execution_count": 76,
      "outputs": []
    },
    {
      "cell_type": "code",
      "source": [
        "# print(df_EI_reg_train_subset_dataset)"
      ],
      "metadata": {
        "id": "arW3Nf90AwCV"
      },
      "execution_count": 77,
      "outputs": []
    },
    {
      "cell_type": "code",
      "source": [
        "# i = random.randint(0,len(df_EI_reg_train_subset_dataset))\n",
        "# # print(train.loc[i][['body','label']])\n",
        "# print(type(df_EI_reg_train_subset_dataset[i][1]))\n",
        "# len(df_EI_reg_train_subset_dataset[i][0])"
      ],
      "metadata": {
        "id": "5csRi0f3AsAA"
      },
      "execution_count": 78,
      "outputs": []
    },
    {
      "cell_type": "code",
      "source": [],
      "metadata": {
        "id": "kRfZcZJPQ0ej"
      },
      "execution_count": 78,
      "outputs": []
    },
    {
      "cell_type": "markdown",
      "source": [
        "### Build Source Validation and Test Dataset"
      ],
      "metadata": {
        "id": "t0ji62MwaU8j"
      }
    },
    {
      "cell_type": "code",
      "source": [
        "#######################################################\n",
        "#               Define Validation / Test Dataset Class\n",
        "#######################################################\n",
        "\n",
        "class Validation_Dataset(Dataset):\n",
        "    def __init__(self, train_dataset, df, subject, label_col, domain = domain_source, transform = None):\n",
        "        self.df = df\n",
        "        self.transform = transform\n",
        "        \n",
        "        #train dataset will be used as lookup for vocab\n",
        "        self.train_dataset = train_dataset\n",
        "        \n",
        "        #get body and label\n",
        "        self.subject_texts = self.df[subject]\n",
        "        self.labels = self.df[label_col].astype(float)\n",
        "        self.domain = domain\n",
        "    \n",
        "    def __len__(self):\n",
        "        return len(self.df)\n",
        "    \n",
        "    def __getitem__(self,index):\n",
        "        \n",
        "        subject_text = self.subject_texts[index]\n",
        "        label = self.labels[index]\n",
        "        domain_value = self.domain\n",
        "#         print(subject_text)\n",
        "        \n",
        "        if self.transform is not None:\n",
        "            subject_text = self.transform(subject_text)\n",
        "            \n",
        "\n",
        "        #numericalize texts ['cat', 'in', 'a', 'bag'] -> [12,2,9,24]\n",
        "        numerialized_subject = []\n",
        "        numerialized_subject += self.train_dataset.vocab.numericalize(subject_text)\n",
        "#         print(\"max sentence length\", self.train_dataset.max_sentence_length)\n",
        "        while len(numerialized_subject) < self.train_dataset.max_sentence_length:\n",
        "            numerialized_subject.append(0)\n",
        "            \n",
        "        #convert the list to tensor and return\n",
        "#         return torch.tensor(numerialized_subject),label\n",
        "\n",
        "#         #convert the list to tensor and return\n",
        "        return torch.tensor(numerialized_subject[:self.train_dataset.max_sentence_length]),torch.tensor(label), torch.tensor(domain_value)\n"
      ],
      "metadata": {
        "id": "Bzk0WNQmaiO7"
      },
      "execution_count": 282,
      "outputs": []
    },
    {
      "cell_type": "code",
      "source": [
        "dict_val_dataset = {}\n",
        "for name,df in dict_df_subset.items():\n",
        "  if \"train\" in name:\n",
        "    train_dataset_name = name+\"_dataset\"\n",
        "    val_df_name = name[:len(name)-13]+\"_val_subset\"\n",
        "    val_dataset_name = val_df_name + \"_dataset\"\n",
        "    dict_val_dataset[val_dataset_name] = Validation_Dataset(dict_train_dataset[train_dataset_name], dict_df_subset[val_df_name], 'TweetTokens','Intensity Score', transform = None)"
      ],
      "metadata": {
        "id": "OtFQ6zwgdWIw"
      },
      "execution_count": 283,
      "outputs": []
    },
    {
      "cell_type": "code",
      "source": [
        "dict_test_dataset = {}\n",
        "for name,df in dict_df_subset.items():\n",
        "  if \"train\" in name:\n",
        "    train_dataset_name = name+\"_dataset\"\n",
        "    test_df_name = name[:len(name)-13]+\"_test_subset\"\n",
        "    test_dataset_name = test_df_name + \"_dataset\"\n",
        "    dict_test_dataset[test_dataset_name] = Validation_Dataset(dict_train_dataset[train_dataset_name], dict_df_subset[test_df_name], 'TweetTokens','Intensity Score', transform = None)"
      ],
      "metadata": {
        "id": "i1Eq5adiMhR6"
      },
      "execution_count": 284,
      "outputs": []
    },
    {
      "cell_type": "code",
      "source": [
        "# dict_val_dataset.keys()"
      ],
      "metadata": {
        "id": "pQR41i-MiPnq"
      },
      "execution_count": 71,
      "outputs": []
    },
    {
      "cell_type": "code",
      "source": [
        "# dict_test_dataset.keys()"
      ],
      "metadata": {
        "id": "doOOpHk1M_IA"
      },
      "execution_count": 72,
      "outputs": []
    },
    {
      "cell_type": "code",
      "source": [
        "(dict_test_dataset['df_EI_reg_test_subset_dataset'])"
      ],
      "metadata": {
        "colab": {
          "base_uri": "https://localhost:8080/"
        },
        "id": "2HNAAJe4NFvp",
        "outputId": "d05e2502-c59d-43d9-bdb3-bbdd166cca07"
      },
      "execution_count": 78,
      "outputs": [
        {
          "output_type": "execute_result",
          "data": {
            "text/plain": [
              "<__main__.Validation_Dataset at 0x7f4f06386f50>"
            ]
          },
          "metadata": {},
          "execution_count": 78
        }
      ]
    },
    {
      "cell_type": "code",
      "source": [
        "i = random.randint(0,len(dict_val_dataset['df_EI_reg_val_subset_dataset']))\n",
        "# i = 3774\n",
        "print(\"i=\",i)\n",
        "print(dict_df_subset['df_EI_reg_val_subset'].loc[i][['TweetTokens','Intensity Score','domain']])\n",
        "\n",
        "print((dict_val_dataset['df_EI_reg_val_subset_dataset'][i][0]))\n",
        "print((dict_val_dataset['df_EI_reg_val_subset_dataset'][i][1]))\n",
        "print((dict_val_dataset['df_EI_reg_val_subset_dataset'][i][2]))"
      ],
      "metadata": {
        "colab": {
          "base_uri": "https://localhost:8080/"
        },
        "id": "spuu-fgFk-k8",
        "outputId": "67c0f89a-fa63-445d-d747-b32a091e27b7"
      },
      "execution_count": 286,
      "outputs": [
        {
          "output_type": "stream",
          "name": "stdout",
          "text": [
            "i= 107\n",
            "TweetTokens        tonight ' s run . <repeated> <hashtag> restles...\n",
            "Intensity Score                                                0.484\n",
            "domain                                                           0.0\n",
            "Name: 107, dtype: object\n",
            "tensor([ 282,   11,   22,  421,    4,   19,    2, 1075,    3,    0,    0,    0,\n",
            "           0,    0,    0,    0,    0,    0,    0,    0,    0,    0,    0,    0,\n",
            "           0,    0,    0,    0,    0,    0,    0,    0,    0,    0,    0,    0,\n",
            "           0,    0,    0,    0,    0,    0,    0,    0,    0,    0,    0,    0,\n",
            "           0,    0,    0,    0,    0,    0,    0,    0,    0,    0,    0,    0,\n",
            "           0,    0,    0,    0,    0,    0,    0,    0,    0,    0,    0,    0,\n",
            "           0,    0,    0,    0,    0,    0,    0,    0,    0,    0,    0,    0,\n",
            "           0,    0,    0,    0,    0,    0,    0,    0,    0,    0,    0,    0,\n",
            "           0,    0,    0,    0,    0,    0,    0,    0,    0,    0,    0,    0,\n",
            "           0,    0,    0,    0,    0,    0,    0,    0,    0,    0,    0,    0,\n",
            "           0,    0,    0,    0,    0,    0,    0,    0,    0,    0,    0,    0,\n",
            "           0,    0,    0,    0,    0,    0,    0,    0,    0,    0,    0,    0,\n",
            "           0,    0,    0,    0,    0,    0,    0,    0,    0,    0,    0,    0,\n",
            "           0,    0,    0,    0,    0,    0,    0,    0,    0,    0,    0,    0,\n",
            "           0,    0,    0,    0,    0,    0,    0,    0,    0,    0,    0,    0,\n",
            "           0,    0,    0,    0,    0,    0,    0,    0,    0,    0,    0,    0,\n",
            "           0,    0,    0,    0,    0,    0,    0,    0])\n",
            "tensor(0.4840, dtype=torch.float64)\n",
            "tensor(0.)\n"
          ]
        }
      ]
    },
    {
      "cell_type": "markdown",
      "source": [
        "### Build Target (DA) dataset\n",
        "EEC dataframe does not have label column,\n",
        "Therefore, we would write another dataset class"
      ],
      "metadata": {
        "id": "bzlEwu7BNf4b"
      }
    },
    {
      "cell_type": "code",
      "source": [
        "#######################################################\n",
        "#               Define DA class\n",
        "#######################################################\n",
        "\n",
        "class DA_Dataset(Dataset):\n",
        "    '''\n",
        "    Initiating Variables\n",
        "    df: the training dataframe\n",
        "    subject : the name of target text column in the dataframe\n",
        "    transform : If we want to add any augmentation\n",
        "    freq_threshold : the minimum times a word must occur in corpus to be treated in vocab\n",
        "    vocab_max_size : max  vocab size\n",
        "    '''\n",
        "    \n",
        "    def __init__(self, df, subject, vocab , domain = domain_target, max_sentence_length = 150, transform=None, freq_threshold = 5,\n",
        "                vocab_max_size = 50000):\n",
        "    \n",
        "        self.df = df\n",
        "        self.transform = transform\n",
        "        \n",
        "        #get body and label\n",
        "        self.subject_texts = self.df[subject]\n",
        "        self.domain = domain\n",
        "        self.vocab = vocab\n",
        "        \n",
        "        self.max_sentence_length = max_sentence_length\n",
        "        \n",
        "    def __len__(self):\n",
        "        return len(self.df)\n",
        "    \n",
        "    '''\n",
        "    __getitem__ runs on 1 example at a time. Here, we get an example at index and return its numericalize source and\n",
        "    target values using the vocabulary objects we created in __init__\n",
        "    '''\n",
        "    def __getitem__(self, index):\n",
        "        subject_text = self.subject_texts[index]\n",
        "        domain_value = self.domain\n",
        "#         print(subject_text)\n",
        "        \n",
        "        if self.transform is not None:\n",
        "            subject_text = self.transform(subject_text)\n",
        "            \n",
        "        #numericalize texts ['<SOS>','cat', 'in', 'a', 'bag','<EOS>'] -> [1,12,2,9,24,2]\n",
        "        numerialized_subject =[]\n",
        "        numerialized_subject += self.vocab.numericalize(subject_text)\n",
        "        \n",
        "        while len(numerialized_subject) < self.max_sentence_length:\n",
        "            numerialized_subject.append(0)\n",
        "        \n",
        "        #convert the list to tensor and return\n",
        "        return torch.tensor(numerialized_subject[:self.max_sentence_length]), torch.tensor(domain_value)"
      ],
      "metadata": {
        "id": "kEEOlcqQO8pc"
      },
      "execution_count": 287,
      "outputs": []
    },
    {
      "cell_type": "code",
      "source": [
        "da_dataset = DA_Dataset(df_EEC,'Sentence', vocab, domain = domain_target, max_sentence_length =200) "
      ],
      "metadata": {
        "id": "FdOb-tOGNuLu"
      },
      "execution_count": 288,
      "outputs": []
    },
    {
      "cell_type": "code",
      "source": [
        "i = random.randint(0,len(da_dataset))\n",
        "print(\"i=\",i)\n",
        "print(df_EEC.loc[i][['Sentence','domain']])\n",
        "print(da_dataset[i][0])\n",
        "print(da_dataset[i][1])"
      ],
      "metadata": {
        "colab": {
          "base_uri": "https://localhost:8080/"
        },
        "id": "cF4tH9rwP-1S",
        "outputId": "8d410367-861c-42b1-f67a-b20bc3b7e853"
      },
      "execution_count": 289,
      "outputs": [
        {
          "output_type": "stream",
          "name": "stdout",
          "text": [
            "i= 5945\n",
            "Sentence    Betsy found herself in a depressing situation.\n",
            "domain                                                 1.0\n",
            "Name: 5945, dtype: object\n",
            "tensor([   1,  362, 3101,   21,   10,  424,    1,    0,    0,    0,    0,    0,\n",
            "           0,    0,    0,    0,    0,    0,    0,    0,    0,    0,    0,    0,\n",
            "           0,    0,    0,    0,    0,    0,    0,    0,    0,    0,    0,    0,\n",
            "           0,    0,    0,    0,    0,    0,    0,    0,    0,    0,    0,    0,\n",
            "           0,    0,    0,    0,    0,    0,    0,    0,    0,    0,    0,    0,\n",
            "           0,    0,    0,    0,    0,    0,    0,    0,    0,    0,    0,    0,\n",
            "           0,    0,    0,    0,    0,    0,    0,    0,    0,    0,    0,    0,\n",
            "           0,    0,    0,    0,    0,    0,    0,    0,    0,    0,    0,    0,\n",
            "           0,    0,    0,    0,    0,    0,    0,    0,    0,    0,    0,    0,\n",
            "           0,    0,    0,    0,    0,    0,    0,    0,    0,    0,    0,    0,\n",
            "           0,    0,    0,    0,    0,    0,    0,    0,    0,    0,    0,    0,\n",
            "           0,    0,    0,    0,    0,    0,    0,    0,    0,    0,    0,    0,\n",
            "           0,    0,    0,    0,    0,    0,    0,    0,    0,    0,    0,    0,\n",
            "           0,    0,    0,    0,    0,    0,    0,    0,    0,    0,    0,    0,\n",
            "           0,    0,    0,    0,    0,    0,    0,    0,    0,    0,    0,    0,\n",
            "           0,    0,    0,    0,    0,    0,    0,    0,    0,    0,    0,    0,\n",
            "           0,    0,    0,    0,    0,    0,    0,    0])\n",
            "tensor(1.)\n"
          ]
        }
      ]
    },
    {
      "cell_type": "markdown",
      "source": [
        "## Create Dataloader\n"
      ],
      "metadata": {
        "id": "YW_4wbJOm8Ek"
      }
    },
    {
      "cell_type": "code",
      "source": [
        "\n",
        "#######################################################\n",
        "#            Define Dataloader Functions\n",
        "#######################################################\n",
        "\n",
        "# If we run a next(iter(data_loader)) we get an output of batch_size * (num_workers+1)\n",
        "def get_loader(dataset, batch_size, num_workers=1, shuffle=True, pin_memory=True): #increase num_workers according to CPU\n",
        "    loader = DataLoader(dataset, batch_size = batch_size, num_workers = num_workers,\n",
        "                        shuffle=shuffle,\n",
        "                       pin_memory=pin_memory)\n",
        "    \n",
        "    return loader\n"
      ],
      "metadata": {
        "id": "aibKT1fey5Ij"
      },
      "execution_count": 290,
      "outputs": []
    },
    {
      "cell_type": "code",
      "source": [
        "dict_train_loader = {}\n",
        "batch_size = 8\n",
        "for name, dataset in dict_train_dataset.items():\n",
        "  name_dataloader = name+\"_dataloader\"\n",
        "  dict_train_loader[name_dataloader] = get_loader(dataset, batch_size)\n",
        "  x = next(iter(dict_train_loader[name_dataloader]))\n",
        "  print(name_dataloader, x[0].shape, x[1].shape, type(x[0]), type (x[1]))"
      ],
      "metadata": {
        "colab": {
          "base_uri": "https://localhost:8080/"
        },
        "id": "MZGamL_ovHwX",
        "outputId": "310d20c2-5a87-4e0d-a6c1-b0b993a0286d"
      },
      "execution_count": 291,
      "outputs": [
        {
          "output_type": "stream",
          "name": "stdout",
          "text": [
            "df_EI_reg_train_subset_dataset_dataloader torch.Size([8, 200]) torch.Size([8]) <class 'torch.Tensor'> <class 'torch.Tensor'>\n",
            "df_V_reg_train_subset_dataset_dataloader torch.Size([8, 200]) torch.Size([8]) <class 'torch.Tensor'> <class 'torch.Tensor'>\n"
          ]
        }
      ]
    },
    {
      "cell_type": "code",
      "source": [
        "dict_val_loader = {}\n",
        "# batch_size = 8 \n",
        "for name, dataset in dict_val_dataset.items():\n",
        "  name_dataloader = name+\"_dataloader\"\n",
        "  # dict_val_loader[name_dataloader] = get_loader(dataset,batch_size)\n",
        "  dict_val_loader[name_dataloader] = get_loader(dataset,len(dataset))\n",
        "  x = next(iter(dict_val_loader[name_dataloader]))\n",
        "  print(name_dataloader, x[0].shape, x[1].shape, type(x[0]), type (x[1]))\n"
      ],
      "metadata": {
        "colab": {
          "base_uri": "https://localhost:8080/"
        },
        "id": "unm6tZwcwK9Q",
        "outputId": "ce8e8c81-83ef-42e7-de5c-6027ffa64fed"
      },
      "execution_count": 292,
      "outputs": [
        {
          "output_type": "stream",
          "name": "stdout",
          "text": [
            "df_EI_reg_val_subset_dataset_dataloader torch.Size([388, 200]) torch.Size([388]) <class 'torch.Tensor'> <class 'torch.Tensor'>\n",
            "df_V_reg_val_subset_dataset_dataloader torch.Size([449, 200]) torch.Size([449]) <class 'torch.Tensor'> <class 'torch.Tensor'>\n"
          ]
        }
      ]
    },
    {
      "cell_type": "code",
      "source": [
        "dict_test_loader = {}\n",
        "# batch_size = 8 \n",
        "for name, dataset in dict_test_dataset.items():\n",
        "  name_dataloader = name+\"_dataloader\"\n",
        "  dict_test_loader[name_dataloader] = get_loader(dataset,len(dataset))\n",
        "  x = next(iter(dict_test_loader[name_dataloader]))\n",
        "  print(name_dataloader, x[0].shape, x[1].shape, type(x[0]), type (x[1]))"
      ],
      "metadata": {
        "colab": {
          "base_uri": "https://localhost:8080/"
        },
        "id": "2bnKsN85NPds",
        "outputId": "bf584e18-9c0e-4ec8-fab0-c1f7b970f08f"
      },
      "execution_count": 293,
      "outputs": [
        {
          "output_type": "stream",
          "name": "stdout",
          "text": [
            "df_EI_reg_test_subset_dataset_dataloader torch.Size([1002, 200]) torch.Size([1002]) <class 'torch.Tensor'> <class 'torch.Tensor'>\n",
            "df_V_reg_test_subset_dataset_dataloader torch.Size([937, 200]) torch.Size([937]) <class 'torch.Tensor'> <class 'torch.Tensor'>\n"
          ]
        }
      ]
    },
    {
      "cell_type": "code",
      "source": [
        "da_dataset_loader = get_loader(da_dataset, len(da_dataset))"
      ],
      "metadata": {
        "id": "7Ot4CKbirVqf"
      },
      "execution_count": 294,
      "outputs": []
    },
    {
      "cell_type": "code",
      "source": [
        "next(iter(dict_val_loader['df_EI_reg_val_subset_dataset_dataloader'] ))"
      ],
      "metadata": {
        "id": "-E1ZxVrHz9YR"
      },
      "execution_count": null,
      "outputs": []
    },
    {
      "cell_type": "code",
      "source": [
        "next(iter(da_dataset_loader))"
      ],
      "metadata": {
        "colab": {
          "base_uri": "https://localhost:8080/"
        },
        "id": "3L4d6gd-rkC0",
        "outputId": "fa04c9fe-99c6-44d7-c60a-87cab5c35918"
      },
      "execution_count": 295,
      "outputs": [
        {
          "output_type": "execute_result",
          "data": {
            "text/plain": [
              "[tensor([[  23, 1230,  362,  ...,    0,    0,    0],\n",
              "         [   1,  217,   24,  ...,    0,    0,    0],\n",
              "         [  42,  339, 1012,  ...,    0,    0,    0],\n",
              "         ...,\n",
              "         [   1,  785,    1,  ...,    0,    0,    0],\n",
              "         [   7, 1037,   38,  ...,    0,    0,    0],\n",
              "         [   7,  947,  222,  ...,    0,    0,    0]]),\n",
              " tensor([1., 1., 1.,  ..., 1., 1., 1.])]"
            ]
          },
          "metadata": {},
          "execution_count": 295
        }
      ]
    },
    {
      "cell_type": "markdown",
      "source": [
        "# Embeddings "
      ],
      "metadata": {
        "id": "Ju9qo16gfYpD"
      }
    },
    {
      "cell_type": "code",
      "source": [
        "# # Creating sentence list of all the training dataframes to create vocabulary later, this would mean a more robust vocab\n",
        "# sentence_list = []\n",
        "# for name,df in dict_df_subset.items():\n",
        "#   if \"train\" in name:\n",
        "#     sentence_list.extend(df.TweetTokens.to_list())\n",
        "# print(len(sentence_list))"
      ],
      "metadata": {
        "id": "QE30YEqsh8jh"
      },
      "execution_count": 87,
      "outputs": []
    },
    {
      "cell_type": "code",
      "source": [
        "# freq_threshold = 3\n",
        "# vocab_max_size = 50000\n",
        "\n",
        "# vocab = Vocabulary(freq_threshold, vocab_max_size)\n",
        "# vocab.build_vocabulary(sentence_list)"
      ],
      "metadata": {
        "id": "dXKmUgn6i5O0"
      },
      "execution_count": 88,
      "outputs": []
    },
    {
      "cell_type": "code",
      "source": [
        "global_vectors = GloVe(name='840B', dim=300)\n"
      ],
      "metadata": {
        "colab": {
          "base_uri": "https://localhost:8080/"
        },
        "id": "G_cbk8uefeq_",
        "outputId": "17102470-cb0b-45e4-c66a-f51ada20947a"
      },
      "execution_count": 150,
      "outputs": [
        {
          "output_type": "stream",
          "name": "stderr",
          "text": [
            ".vector_cache/glove.840B.300d.zip: 2.18GB [06:53, 5.26MB/s]                            \n",
            "100%|█████████▉| 2196016/2196017 [04:50<00:00, 7568.38it/s]\n"
          ]
        }
      ]
    },
    {
      "cell_type": "code",
      "source": [
        "type(global_vectors)"
      ],
      "metadata": {
        "colab": {
          "base_uri": "https://localhost:8080/"
        },
        "id": "w8oxfF8ycwR5",
        "outputId": "440dc113-5246-490b-8933-c126e3fa13be"
      },
      "execution_count": 177,
      "outputs": [
        {
          "output_type": "execute_result",
          "data": {
            "text/plain": [
              "torchtext.vocab.vectors.GloVe"
            ]
          },
          "metadata": {},
          "execution_count": 177
        }
      ]
    },
    {
      "cell_type": "code",
      "source": [
        "\n",
        "def load_pretrained_vectors(word2idx, embedding_name = 'glove', embedding_file = global_vectors):\n",
        "    \"\"\"Load pretrained vectors and create embedding layers.\n",
        "    \n",
        "    Args:\n",
        "        word2idx - vocab.stoi (Dict): Vocabulary built from the corpus\n",
        "        embedding_name (str): the type of embedding - glove for GloVe or word2vec for word2vec\n",
        "        embedding_file (object) :optional embedding file\n",
        "\n",
        "    Returns:\n",
        "        embeddings (np.array): Embedding matrix with shape (N, d) where N is\n",
        "            the size of word2idx and d is embedding dimension\n",
        "    \"\"\"\n",
        "\n",
        "    if embedding_name == 'glove':\n",
        "      print(\"Loading pretrained vectors...\")\n",
        "      if embedding_file:\n",
        "        global_vectors = embedding_file\n",
        "      else:\n",
        "        global_vectors = GloVe(name='840B', dim=300)\n",
        "\n",
        "      print(\"Processing pretrained vectors...\")\n",
        "      d = 300\n",
        "      print(\"\\ndimension of pretained embedding: \", d)\n",
        "\n",
        "      # Initilize random embeddings\n",
        "      embeddings = np.random.uniform(-0.25, 0.25, (len(word2idx), d))\n",
        "      embeddings[word2idx['<PAD>']] = np.zeros((d,))\n",
        "      \n",
        "      # Load pretrained vectors\n",
        "      count = 0 \n",
        "      for word in global_vectors.stoi:\n",
        "        if word in word2idx:\n",
        "            count +=1\n",
        "            embeddings[word2idx[word]] = global_vectors[word]\n",
        "      print(f\"There are {count} / {len(word2idx)} pretrained vectors found.\")\n",
        "        \n",
        "      print(\"Process Completed...\")\n",
        "      return embeddings\n",
        "\n",
        "    else:\n",
        "      print(\" Embedding not implemented, returning zero embedding\")\n",
        "      return np.zeros(len(word2idx), 300)\n",
        "    \n",
        "    \n",
        "#     # downloaded word2vec from https://s3.amazonaws.com/dl4j-distribution/GoogleNews-vectors-negative300.bin.gz\n",
        "\n",
        "#     word2vec = models.KeyedVectors.load_word2vec_format(word2vec_path, binary=True)\n",
        "    \n",
        "#     print(\"Processing pretrained vectors...\")\n",
        "#     d = word2vec.vector_size\n",
        "#     print(\"\\ndimension of pretained embedding: \", d)\n",
        "    \n",
        "#     # Initilize random embeddings\n",
        "#     embeddings = np.random.uniform(-0.25, 0.25, (len(word2idx), d))\n",
        "#     embeddings[word2idx['<PAD>']] = np.zeros((d,))\n",
        "\n",
        "#     # Load pretrained vectors\n",
        "#     count = 0 \n",
        "#     for word in word2vec.key_to_index:\n",
        "#         if word in word2idx:\n",
        "#             count +=1\n",
        "#             embeddings[word2idx[word]] = word2vec.get_vector(word)\n",
        "    \n",
        "    \n",
        "# #     count = 0\n",
        "# #     for line in tqdm_notebook(fin):\n",
        "# #         tokens = line.rstrip().split(' ')\n",
        "# #         word = tokens[0]\n",
        "# #         if word in word2idx:\n",
        "# #             count += 1\n",
        "# #             embeddings[word2idx[word]] = np.array(tokens[1:], dtype=np.float32)\n",
        "\n",
        "#     print(f\"There are {count} / {len(word2idx)} pretrained vectors found.\")\n",
        "    \n",
        "#     print(\"Process Completed...\")\n",
        "#     return embeddings\n"
      ],
      "metadata": {
        "id": "PUeTKJw_gAGn"
      },
      "execution_count": 274,
      "outputs": []
    },
    {
      "cell_type": "code",
      "source": [
        "pre_trained_embeddings = load_pretrained_vectors(vocab.stoi, embedding_name = 'glove', embedding_file = global_vectors)"
      ],
      "metadata": {
        "colab": {
          "base_uri": "https://localhost:8080/"
        },
        "id": "V6wQMWKQz9cf",
        "outputId": "7ec134a9-4397-4e4f-e9d0-122d97999e4a"
      },
      "execution_count": 275,
      "outputs": [
        {
          "output_type": "stream",
          "name": "stdout",
          "text": [
            "Loading pretrained vectors...\n",
            "Processing pretrained vectors...\n",
            "\n",
            "dimension of pretained embedding:  300\n",
            "There are 4805 / 5068 pretrained vectors found.\n",
            "Process Completed...\n"
          ]
        }
      ]
    },
    {
      "cell_type": "code",
      "source": [
        "print(pre_trained_embeddings.shape)"
      ],
      "metadata": {
        "colab": {
          "base_uri": "https://localhost:8080/"
        },
        "id": "Z5yEsQYDUEA0",
        "outputId": "90657416-dc32-40da-8d03-8c1a2d09d8b3"
      },
      "execution_count": 276,
      "outputs": [
        {
          "output_type": "stream",
          "name": "stdout",
          "text": [
            "(5068, 300)\n"
          ]
        }
      ]
    },
    {
      "cell_type": "code",
      "source": [
        "embedding_tensor = torch.tensor(pre_trained_embeddings)\n",
        "embedding_tensor.shape"
      ],
      "metadata": {
        "colab": {
          "base_uri": "https://localhost:8080/"
        },
        "id": "9ISwnOQS0TWH",
        "outputId": "ab493a67-3a62-44af-f890-50025480c923"
      },
      "execution_count": 296,
      "outputs": [
        {
          "output_type": "execute_result",
          "data": {
            "text/plain": [
              "torch.Size([5068, 300])"
            ]
          },
          "metadata": {},
          "execution_count": 296
        }
      ]
    },
    {
      "cell_type": "markdown",
      "source": [
        "# Model Creation"
      ],
      "metadata": {
        "id": "Q1MBzRYR0--X"
      }
    },
    {
      "cell_type": "markdown",
      "source": [
        "## Gradient Reversal Layer Function"
      ],
      "metadata": {
        "id": "Ecg7Pzsm1CkA"
      }
    },
    {
      "cell_type": "code",
      "source": [
        "from torch.autograd import Function\n",
        "\n",
        "class ReverseLayerF(Function):\n",
        "\n",
        "    @staticmethod\n",
        "    def forward(ctx, x, alpha):\n",
        "        ctx.alpha = alpha\n",
        "\n",
        "        return x.view_as(x)\n",
        "\n",
        "    @staticmethod\n",
        "    def backward(ctx, grad_output):\n",
        "        output = grad_output.neg() * ctx.alpha\n",
        "\n",
        "        return output, None"
      ],
      "metadata": {
        "id": "Bgxif9of08dQ"
      },
      "execution_count": 297,
      "outputs": []
    },
    {
      "cell_type": "markdown",
      "source": [
        "## CNN 1-D Model\n",
        "\n",
        "Reference: A Sensitivity Analysis of (and Practitioners' Guide to) Convolutional Neural Networks for Sentence Classification, Ye Zhang, Byron Wallace 2015\n",
        "\n",
        "Difference: \n",
        "\n",
        "1.   use of embedding\n",
        "2.   use of sigmoid function, as we are having a regression model not a classififer as the main task\n",
        "\n"
      ],
      "metadata": {
        "id": "Hgp_oFzHTPP6"
      }
    },
    {
      "cell_type": "code",
      "source": [
        "import torch\n",
        "import torch.nn as nn\n",
        "import torch.nn.functional as F\n",
        "\n",
        "class CNN_SA(nn.Module):\n",
        "    \"\"\"An 1D Convulational Neural Network for Sentiment Analysis.\"\"\"\n",
        "    def __init__(self,\n",
        "                 pretrained_embedding=None,\n",
        "                 freeze_embedding=False,\n",
        "                 vocab_size=None,\n",
        "                 embed_dim=300,\n",
        "                 filter_sizes=[1, 2, 3, 4, 5],\n",
        "                 num_filters=[ 100, 100, 100, 100, 100],\n",
        "                 num_classes=2,\n",
        "                 dropout=0.25):\n",
        "        \"\"\"\n",
        "        The constructor for CNN_SA class.\n",
        "\n",
        "        Args:\n",
        "            pretrained_embedding (torch.Tensor): Pretrained embeddings with\n",
        "                shape (vocab_size, embed_dim)\n",
        "            freeze_embedding (bool): Set to False to fine-tune pretraiend\n",
        "                vectors. Default: False\n",
        "            vocab_size (int): Need to be specified when not pretrained word\n",
        "                embeddings are not used.\n",
        "            embed_dim (int): Dimension of word vectors. Need to be specified\n",
        "                when pretrained word embeddings are not used. Default: 300\n",
        "            filter_sizes (List[int]): List of filter sizes. Default: [2, 3, 4, 5]\n",
        "            num_filters (List[int]): List of number of filters, has the same\n",
        "                length as `filter_sizes`. Default: [100, 100, 100, 100]\n",
        "            n_classes (int): Number of classes (domain classification usage). \n",
        "            Default: 2\n",
        "            dropout (float): Dropout rate. Default: 0.25\n",
        "        \"\"\"\n",
        "\n",
        "        super(CNN_SA, self).__init__()\n",
        "        \n",
        "         #---------------------Feature Extractor Network----------------------#\n",
        "        # Embedding layer\n",
        "        if pretrained_embedding is not None:\n",
        "            self.vocab_size, self.embed_dim = pretrained_embedding.shape\n",
        "            self.embedding = nn.Embedding.from_pretrained(pretrained_embedding,\n",
        "                                                          freeze=freeze_embedding)\n",
        "        else:\n",
        "            self.embed_dim = embed_dim\n",
        "            self.embedding = nn.Embedding(num_embeddings=vocab_size,\n",
        "                                          embedding_dim=self.embed_dim,\n",
        "                                          padding_idx=0,\n",
        "                                          max_norm=5.0)\n",
        "        # Conv Network\n",
        "        self.feature_extractor = nn.ModuleList([\n",
        "            nn.Conv1d(in_channels=self.embed_dim,\n",
        "                      out_channels=num_filters[i],\n",
        "                      kernel_size=filter_sizes[i])\n",
        "            for i in range(len(filter_sizes))\n",
        "        ])\n",
        "        \n",
        "        #---------------------Regression Network------------------------#\n",
        "        # Fully-connected layer and Dropout\n",
        "        self.regression = nn.Sequential(\n",
        "            nn.Dropout(p=dropout),\n",
        "            nn.Linear(np.sum(num_filters), np.sum(num_filters)//2),\n",
        "            nn.ReLU(),\n",
        "#             nn.BatchNorm1d(np.sum(num_filters)//2),\n",
        "            # nn.Linear(np.sum(num_filters)//2, num_classes), # for classification\n",
        "            nn.Linear(np.sum(num_filters)//2, 1), # for regression\n",
        "            # nn.LogSoftmax(dim=1) # for classification\n",
        "            nn.Sigmoid() # for regession (values between 0 and 1)\n",
        "        )\n",
        "        \n",
        "        #---------------------Domain Classifier Network------------------------#\n",
        "        # Fully-connected layer and Dropout\n",
        "        self.domain_classifier = nn.Sequential(\n",
        "            nn.Dropout(p=dropout),\n",
        "            nn.Linear(np.sum(num_filters), np.sum(num_filters)//2),\n",
        "            nn.ReLU(),\n",
        "#             nn.BatchNorm1d(np.sum(num_filters)//2),\n",
        "            nn.Linear(np.sum(num_filters)//2, num_classes),\n",
        "            nn.LogSoftmax(dim=1)\n",
        "        )\n",
        "        \n",
        "        \n",
        "\n",
        "    def forward(self, input_ids,alpha=1):\n",
        "        \"\"\"Perform a forward pass through the network.\n",
        "\n",
        "        Args:\n",
        "            input_ids (torch.Tensor): A tensor of token ids with shape\n",
        "                (batch_size, max_sent_length)\n",
        "\n",
        "        Returns:\n",
        "            sigmoid (torch.Tensor) : Output sigmoid \n",
        "            logits (torch.Tensor): Output logits with shape (batch_size,\n",
        "                n_classes)\n",
        "        \"\"\"\n",
        "\n",
        "        # Get embeddings from `input_ids`. Output shape: (b, max_len, embed_dim)\n",
        "#         input_ids = torch.tensor(input_ids).to(torch.int64)\n",
        "        input_ids = input_ids.clone().detach().to(torch.int64)\n",
        "        # print(\"input_ids.shape\", input_ids.shape)\n",
        "        \n",
        "        x_embed = self.embedding((input_ids)).float()\n",
        "        # print(\"x_embed.shape\", x_embed.shape)\n",
        "\n",
        "\n",
        "        # Permute `x_embed` to match input shape requirement of `nn.Conv1d`.\n",
        "        # Output shape: (b, embed_dim, max_len)\n",
        "        x_reshaped = x_embed.permute(0, 2, 1)\n",
        "        # print(\"x_reshaped.shape\", x_reshaped.shape)\n",
        "        \n",
        "\n",
        "#         # Apply CNN and ReLU. Output shape: (b, num_filters[i], L_out)\n",
        "        x_conv_list = [F.relu(conv1d(x_reshaped)) for conv1d in self.feature_extractor]\n",
        "        # print(\"x_conv_list[1].shape\", x_conv_list[1].shape)\n",
        "        # print(\"x_conv_list[2].shape\", x_conv_list[2].shape)\n",
        "\n",
        "#         # Max pooling. Output shape: (b, num_filters[i], 1)\n",
        "        x_pool_list = [F.max_pool1d(x_conv, kernel_size=x_conv.shape[2])\n",
        "            for x_conv in x_conv_list]\n",
        "        # print( \"x_pool_list[3].shape\", x_pool_list[3].shape)\n",
        "        \n",
        "#         # Concatenate x_pool_list to feed the fully connected layer.\n",
        "#         # Output shape: (b, sum(num_filters))\n",
        "        x_feature = torch.cat([x_pool.squeeze(dim=2) for x_pool in x_pool_list],\n",
        "                         dim=1)\n",
        "        # print(\"x_feature.shape\", x_feature.shape)\n",
        "        \n",
        "# #         # Compute logits. Output shape: (b, n_classes)\n",
        "#         logits = self.fc(self.dropout(x_feature))\n",
        "#         print(logits)\n",
        "\n",
        "        reverse_feature = ReverseLayerF.apply(x_feature, alpha)\n",
        "        # print(\"reverse_feature\",reverse_feature)\n",
        "    \n",
        "        regression_output = self.regression(x_feature)\n",
        "    \n",
        "        domain_classifier_output = self.domain_classifier(reverse_feature)\n",
        "#         print(domain_classifier_logits.shape)\n",
        "\n",
        "#         return logits\n",
        "        return regression_output, domain_classifier_output\n"
      ],
      "metadata": {
        "id": "Hn38ChCwTT-W"
      },
      "execution_count": 349,
      "outputs": []
    },
    {
      "cell_type": "code",
      "source": [
        "device = torch.device(\"cuda\" if torch.cuda.is_available() else \"cpu\")\n",
        "print(device)\n",
        "model = CNN_SA(pretrained_embedding=embedding_tensor,freeze_embedding=True).to(device)\n",
        "print(model)\n"
      ],
      "metadata": {
        "colab": {
          "base_uri": "https://localhost:8080/"
        },
        "id": "9eCFudXBYHjM",
        "outputId": "d87649d5-818c-43d1-f8b6-b779c74a8bdc"
      },
      "execution_count": 350,
      "outputs": [
        {
          "output_type": "stream",
          "name": "stdout",
          "text": [
            "cpu\n",
            "CNN_SA(\n",
            "  (embedding): Embedding(5068, 300)\n",
            "  (feature_extractor): ModuleList(\n",
            "    (0): Conv1d(300, 100, kernel_size=(1,), stride=(1,))\n",
            "    (1): Conv1d(300, 100, kernel_size=(2,), stride=(1,))\n",
            "    (2): Conv1d(300, 100, kernel_size=(3,), stride=(1,))\n",
            "    (3): Conv1d(300, 100, kernel_size=(4,), stride=(1,))\n",
            "    (4): Conv1d(300, 100, kernel_size=(5,), stride=(1,))\n",
            "  )\n",
            "  (regression): Sequential(\n",
            "    (0): Dropout(p=0.25, inplace=False)\n",
            "    (1): Linear(in_features=500, out_features=250, bias=True)\n",
            "    (2): ReLU()\n",
            "    (3): Linear(in_features=250, out_features=1, bias=True)\n",
            "    (4): Sigmoid()\n",
            "  )\n",
            "  (domain_classifier): Sequential(\n",
            "    (0): Dropout(p=0.25, inplace=False)\n",
            "    (1): Linear(in_features=500, out_features=250, bias=True)\n",
            "    (2): ReLU()\n",
            "    (3): Linear(in_features=250, out_features=2, bias=True)\n",
            "    (4): LogSoftmax(dim=1)\n",
            "  )\n",
            ")\n"
          ]
        }
      ]
    },
    {
      "cell_type": "code",
      "source": [
        "\n",
        "\n",
        "for name, train_loader in dict_train_loader.items():\n",
        "  tweet, intensity, domain = next(iter(train_loader))\n",
        "  print (name, \"\\n\", tweet, intensity)\n",
        "  a, b = model(tweet)\n",
        "  print (\"a - sigmoid output\\n\", a)\n",
        "  print (\"b - softmax output\\n\", b)"
      ],
      "metadata": {
        "colab": {
          "base_uri": "https://localhost:8080/"
        },
        "id": "qpCF2qvRYkK4",
        "outputId": "570b728d-13ce-4b3c-e8b6-23bc432a71fa"
      },
      "execution_count": 351,
      "outputs": [
        {
          "output_type": "stream",
          "name": "stdout",
          "text": [
            "df_EI_reg_train_subset_dataset_dataloader \n",
            " tensor([[   5,    5,    5,  ...,    0,    0,    0],\n",
            "        [   5,  519,  115,  ...,    0,    0,    0],\n",
            "        [   5,    5,   52,  ...,    0,    0,    0],\n",
            "        ...,\n",
            "        [   5,  134,   58,  ...,    0,    0,    0],\n",
            "        [  13,   44, 1816,  ...,    0,    0,    0],\n",
            "        [  49,   15,  341,  ...,    0,    0,    0]]) tensor([0.3330, 0.3330, 0.6460, 0.9000, 0.5000, 0.5420, 0.7080, 0.6250],\n",
            "       dtype=torch.float64)\n",
            "a - sigmoid output\n",
            " tensor([[0.4808],\n",
            "        [0.4904],\n",
            "        [0.4559],\n",
            "        [0.4635],\n",
            "        [0.4850],\n",
            "        [0.4949],\n",
            "        [0.4556],\n",
            "        [0.4687]], grad_fn=<SigmoidBackward0>)\n",
            "b - softmax output\n",
            " tensor([[-0.7309, -0.6568],\n",
            "        [-0.6815, -0.7049],\n",
            "        [-0.6494, -0.7389],\n",
            "        [-0.6257, -0.7655],\n",
            "        [-0.6589, -0.7286],\n",
            "        [-0.6507, -0.7375],\n",
            "        [-0.6691, -0.7178],\n",
            "        [-0.6758, -0.7108]], grad_fn=<LogSoftmaxBackward0>)\n",
            "df_V_reg_train_subset_dataset_dataloader \n",
            " tensor([[519,   1,   9,  ...,   0,   0,   0],\n",
            "        [  5, 519,   1,  ...,   0,   0,   0],\n",
            "        [ 10, 524,   8,  ...,   0,   0,   0],\n",
            "        ...,\n",
            "        [  5,   5,  12,  ...,   0,   0,   0],\n",
            "        [  5,   6,  30,  ...,   0,   0,   0],\n",
            "        [ 41,  93,   6,  ...,   0,   0,   0]]) tensor([0.4020, 0.5170, 0.8710, 0.8280, 0.3040, 0.6090, 0.3670, 0.2420],\n",
            "       dtype=torch.float64)\n",
            "a - sigmoid output\n",
            " tensor([[0.4763],\n",
            "        [0.4849],\n",
            "        [0.4389],\n",
            "        [0.4727],\n",
            "        [0.4504],\n",
            "        [0.4542],\n",
            "        [0.4484],\n",
            "        [0.4612]], grad_fn=<SigmoidBackward0>)\n",
            "b - softmax output\n",
            " tensor([[-0.6906, -0.6957],\n",
            "        [-0.6545, -0.7334],\n",
            "        [-0.6451, -0.7436],\n",
            "        [-0.6732, -0.7135],\n",
            "        [-0.6110, -0.7826],\n",
            "        [-0.6927, -0.6936],\n",
            "        [-0.6295, -0.7611],\n",
            "        [-0.6578, -0.7298]], grad_fn=<LogSoftmaxBackward0>)\n"
          ]
        }
      ]
    },
    {
      "cell_type": "markdown",
      "source": [
        "# Training and Test Function"
      ],
      "metadata": {
        "id": "VjBXTHz2cXcN"
      }
    },
    {
      "cell_type": "markdown",
      "source": [
        "## Typical Training, Test Function (without Domain Adaptation)"
      ],
      "metadata": {
        "id": "8nPEeiSFcc-l"
      }
    },
    {
      "cell_type": "markdown",
      "source": [
        "### Typical Training Function (without domain adapatation)"
      ],
      "metadata": {
        "id": "pRqVO5RUpFHh"
      }
    },
    {
      "cell_type": "code",
      "source": [
        "# Training Function\n",
        "\n",
        "from tqdm import tqdm # for beautiful model training updates\n",
        "\n",
        "\n",
        "def train_model(model, device, train_loader, optimizer, epoch):\n",
        "    model.train() # setting the model in training mode\n",
        "    pbar = tqdm(train_loader) # putting the iterator in pbara\n",
        "    correct = 0 # for accuracy numerator\n",
        "    processed =0 # for accuracy denominator\n",
        "    epoch_loss = 0.0\n",
        "    for batch_idx, batch in enumerate(pbar):\n",
        "\n",
        "        tweets, intensities = batch[0].to(device), batch[1].float().to(device)  # plural, we are not interested in domain\n",
        "        #sending data to CPU or GPU as per device\n",
        "\n",
        "        optimizer.zero_grad() # setting gradients to zero to avoid accumulation\n",
        "\n",
        "        y_preds, _ = model(tweets) # forward pass, result captured in y_preds (plural as there are many body in a batch)\n",
        "        # we are not interested in domain prediction\n",
        "        # the predictions are in one hot vector\n",
        "\n",
        "        loss = F.mse_loss(y_preds,intensities.unsqueeze(1)) # Computing loss\n",
        "\n",
        "        train_losses.append(loss) # to capture loss over many epochs\n",
        "\n",
        "        loss.backward() # backpropagation\n",
        "        optimizer.step() # updating the params\n",
        "\n",
        "        # preds = y_preds.argmax(dim=1, keepdim=True)  # get the index olf the max log-probability\n",
        "        # correct += preds.eq(labels.view_as(preds)).sum().item()\n",
        "        epoch_loss += loss.item()\n",
        "\n",
        "        processed += len(tweets)\n",
        "\n",
        "        pbar.set_description(desc= f'Loss={loss.item()} Batch_id={batch_idx} Epoch Average loss={100*epoch_loss/processed:0.4f}')\n",
        "    train_accuracy.append(100*epoch_loss/len(train_loader))"
      ],
      "metadata": {
        "id": "bulUVa2VcrHm"
      },
      "execution_count": 352,
      "outputs": []
    },
    {
      "cell_type": "markdown",
      "source": [
        "### Typical Test Function "
      ],
      "metadata": {
        "id": "FZu9qYllpPDe"
      }
    },
    {
      "cell_type": "code",
      "source": [
        "def test_model(model,device, test_loader, mode= 'test'):\n",
        "    model.eval() # setting the model in evaluation mode\n",
        "    loss = 0\n",
        "    correct = 0 # for accuracy numerator\n",
        "\n",
        "    with torch.no_grad():\n",
        "        for (tweets, intensities, domain) in test_loader:\n",
        "\n",
        "            tweets, intensities  = tweets.to(device),intensities.float().to(device), #sending data to CPU or GPU as per device\n",
        "            # we are not interested in domains\n",
        "            \n",
        "            outputs,_ = model(tweets) # forward pass, result captured in outputs (plural as there are many bodies in a batch)\n",
        "            # the outputs are in batch size x one hot vector \n",
        "            # not interested in domain output\n",
        "\n",
        "            loss = F.mse_loss(outputs,intensities.unsqueeze(1))\n",
        "\n",
        "\n",
        "        loss /= len(test_loader.dataset) # average test loss\n",
        "        if mode == 'test':\n",
        "          test_losses.append(loss) # to capture loss over many batches\n",
        "          print('...Average test loss: {:.8f}'.format(loss))\n",
        "        else:\n",
        "          val_losses.append(loss) # to capture loss over many batches\n",
        "          print('...Average val loss: {:.8f}'.format(loss))\n"
      ],
      "metadata": {
        "id": "-zcgoz0-qJia"
      },
      "execution_count": 353,
      "outputs": []
    },
    {
      "cell_type": "markdown",
      "source": [
        "### Training and Testing loop"
      ],
      "metadata": {
        "id": "vKNwBgxhsfJf"
      }
    },
    {
      "cell_type": "code",
      "source": [
        "# EXECUTION\n",
        "\n",
        "device = torch.device(\"cuda\" if torch.cuda.is_available() else \"cpu\")\n",
        "print(device)\n",
        "\n",
        "typical_model =  CNN_SA(pretrained_embedding=embedding_tensor,\n",
        "                  freeze_embedding=True,\n",
        "                 ).to(device)\n",
        "\n",
        "\n",
        "optimizer = optim.Adam(typical_model.parameters(), lr=0.001)\n",
        "\n",
        "# train_losses = [] # to capture train losses over training epochs\n",
        "# train_accuracy = [] # to capture train accuracy over training epochs\n",
        "# val_losses = [] # to capture validation loss\n",
        "# test_losses = [] # to capture test losses \n",
        "# test_accuracy = [] # to capture test accuracy \n",
        "\n",
        "EPOCHS = 2\n",
        "# EPOCHS = 5\n",
        "dict_val_loss = {}\n",
        "dict_test_loss = {}\n",
        "\n",
        "for train_name, train_loader in dict_train_loader.items():\n",
        "  name = \"_\".join(train_name.split(\"_\")[1:3])\n",
        "  train_losses = [] # to capture train losses over training epochs\n",
        "  train_accuracy = [] # to capture train accuracy over training epochs\n",
        "  val_losses = [] # to capture validation loss\n",
        "  test_losses = [] # to capture test losses \n",
        "  print(f'----------------------training started for {name}-----------------')\n",
        "  for epoch in range(EPOCHS):\n",
        "    print(\"EPOCH:\", epoch+1)\n",
        "    train_model(typical_model, device, train_loader, optimizer, epoch)\n",
        "\n",
        "    print(\"\\nfor validation.......\")\n",
        "    val_name = train_name.replace(\"train\", \"val\" )\n",
        "    test_model(typical_model, device, dict_val_loader[val_name], mode = 'val')\n",
        "    \n",
        "\n",
        "\n",
        "    print(\"for test  .......\")\n",
        "    test_name = train_name.replace(\"train\", \"test\" )\n",
        "    test_model(typical_model, device, dict_test_loader[test_name], mode = 'test')\n",
        "\n",
        "  dict_val_loss[name] = val_losses\n",
        "  dict_test_loss[name] = test_losses\n",
        "\n",
        "  model_name = name+\".pt\"\n",
        "  torch.save(typical_model.state_dict(), os.path.join(MODEL_DIR, model_name))\n",
        "  print(f'----------------------training complete for {name}-----------------')\n",
        "print(dict_val_loss.items())\n",
        "print(dict_test_loss.items())"
      ],
      "metadata": {
        "colab": {
          "base_uri": "https://localhost:8080/"
        },
        "id": "_FrceNxng81k",
        "outputId": "b69ffb5e-c009-4306-8904-e02c2234a366"
      },
      "execution_count": 354,
      "outputs": [
        {
          "output_type": "stream",
          "name": "stdout",
          "text": [
            "cpu\n",
            "----------------------training started for EI_reg-----------------\n",
            "EPOCH: 1\n"
          ]
        },
        {
          "output_type": "stream",
          "name": "stderr",
          "text": [
            "Loss=0.021468039602041245 Batch_id=212 Epoch Average loss=0.2867: 100%|██████████| 213/213 [00:25<00:00,  8.35it/s]"
          ]
        },
        {
          "output_type": "stream",
          "name": "stdout",
          "text": [
            "\n",
            "for validation.......\n"
          ]
        },
        {
          "output_type": "stream",
          "name": "stderr",
          "text": [
            "\n"
          ]
        },
        {
          "output_type": "stream",
          "name": "stdout",
          "text": [
            "...Average val loss: 0.00007197\n",
            "for test  .......\n",
            "...Average test loss: 0.00002696\n",
            "EPOCH: 2\n"
          ]
        },
        {
          "output_type": "stream",
          "name": "stderr",
          "text": [
            "Loss=0.010277757421135902 Batch_id=212 Epoch Average loss=0.1514: 100%|██████████| 213/213 [00:27<00:00,  7.81it/s]"
          ]
        },
        {
          "output_type": "stream",
          "name": "stdout",
          "text": [
            "\n",
            "for validation.......\n"
          ]
        },
        {
          "output_type": "stream",
          "name": "stderr",
          "text": [
            "\n"
          ]
        },
        {
          "output_type": "stream",
          "name": "stdout",
          "text": [
            "...Average val loss: 0.00006732\n",
            "for test  .......\n",
            "...Average test loss: 0.00002614\n",
            "----------------------training complete for EI_reg-----------------\n",
            "----------------------training started for V_reg-----------------\n",
            "EPOCH: 1\n"
          ]
        },
        {
          "output_type": "stream",
          "name": "stderr",
          "text": [
            "Loss=0.08481224626302719 Batch_id=147 Epoch Average loss=0.4969: 100%|██████████| 148/148 [00:16<00:00,  8.71it/s]"
          ]
        },
        {
          "output_type": "stream",
          "name": "stdout",
          "text": [
            "\n",
            "for validation.......\n"
          ]
        },
        {
          "output_type": "stream",
          "name": "stderr",
          "text": [
            "\n"
          ]
        },
        {
          "output_type": "stream",
          "name": "stdout",
          "text": [
            "...Average val loss: 0.00004720\n",
            "for test  .......\n",
            "...Average test loss: 0.00002206\n",
            "EPOCH: 2\n"
          ]
        },
        {
          "output_type": "stream",
          "name": "stderr",
          "text": [
            "Loss=0.009592588059604168 Batch_id=147 Epoch Average loss=0.1911: 100%|██████████| 148/148 [00:17<00:00,  8.64it/s]"
          ]
        },
        {
          "output_type": "stream",
          "name": "stdout",
          "text": [
            "\n",
            "for validation.......\n"
          ]
        },
        {
          "output_type": "stream",
          "name": "stderr",
          "text": [
            "\n"
          ]
        },
        {
          "output_type": "stream",
          "name": "stdout",
          "text": [
            "...Average val loss: 0.00004452\n",
            "for test  .......\n",
            "...Average test loss: 0.00002076\n",
            "----------------------training complete for V_reg-----------------\n",
            "dict_items([('EI_reg', [tensor(7.1968e-05), tensor(6.7316e-05)]), ('V_reg', [tensor(4.7198e-05), tensor(4.4523e-05)])])\n",
            "dict_items([('EI_reg', [tensor(2.6958e-05), tensor(2.6142e-05)]), ('V_reg', [tensor(2.2058e-05), tensor(2.0761e-05)])])\n"
          ]
        }
      ]
    },
    {
      "cell_type": "code",
      "source": [
        "print(dict_val_loss.items())\n",
        "print(dict_test_loss.items())"
      ],
      "metadata": {
        "colab": {
          "base_uri": "https://localhost:8080/"
        },
        "id": "3wo9pgE9JqHy",
        "outputId": "5951d731-58c0-45ea-f500-ca568ded6a5e"
      },
      "execution_count": 356,
      "outputs": [
        {
          "output_type": "stream",
          "name": "stdout",
          "text": [
            "dict_items([('EI_reg', [tensor(7.1968e-05), tensor(6.7316e-05)]), ('V_reg', [tensor(4.7198e-05), tensor(4.4523e-05)])])\n",
            "dict_items([('EI_reg', [tensor(2.6958e-05), tensor(2.6142e-05)]), ('V_reg', [tensor(2.2058e-05), tensor(2.0761e-05)])])\n"
          ]
        }
      ]
    },
    {
      "cell_type": "code",
      "source": [
        "# next(iter(dict_train_loader['df_EI_reg_train_subset_dataset_dataloader']))"
      ],
      "metadata": {
        "id": "ly-mL3FUD5pb"
      },
      "execution_count": null,
      "outputs": []
    },
    {
      "cell_type": "markdown",
      "source": [
        "## Domain Adaptation Training Function (using DANN)"
      ],
      "metadata": {
        "id": "zNuo16p-skka"
      }
    },
    {
      "cell_type": "markdown",
      "source": [
        "### DA Training Function (using DANN)"
      ],
      "metadata": {
        "id": "RbaUmBTX0Cva"
      }
    },
    {
      "cell_type": "code",
      "source": [
        "# DANN Training Function\n",
        "\n",
        "def dann_train_model(model, device, train_source_loader, train_target_loader,optimizer, epoch, num_epochs):\n",
        "    model.train() # setting the model in training mode\n",
        "    len_dataloader = min(len(train_source_loader), len(train_target_loader)) # training for minimum of two dataloaders\n",
        "    \n",
        "    i = 0 # as the training progresses the alpha changes\n",
        "    while i < len_dataloader -1:\n",
        "        \n",
        "        # implementation of alpha as per paper\n",
        "        p = float(i + epoch * len_dataloader) / (num_epochs * len_dataloader)\n",
        "        alpha = 2. / (1. + np.exp(-10 * p)) - 1\n",
        "        alpha = torch.tensor(alpha)\n",
        "        \n",
        "        # training model using source data\n",
        "        source_batch = next(iter(train_source_loader))\n",
        "        source_bodies, source_labels, source_domains = source_batch[0].to(device),source_batch[1].float().to(device),source_batch[2].long().to(device) # plural\n",
        "        # source_batch_size = len(source_labels)\n",
        "        \n",
        "        optimizer.zero_grad() # setting gradients to zero to avoid accumulation\n",
        "        \n",
        "        y_preds, source_domain_outputs  = model(source_bodies, alpha = alpha) # forward pass, plural results\n",
        "        \n",
        "        loss_source_label =  F.mse_loss(y_preds,source_labels.unsqueeze(1)) # Computing loss, regression loss\n",
        "        loss_source_domain = F.nll_loss(source_domain_outputs, source_domains) # classificaiton loss\n",
        "        \n",
        "\n",
        "\n",
        "\n",
        "        # training model using target data\n",
        "        target_batch = next(iter(train_target_loader))\n",
        "#         target_bodies, _ , target_domains = tuple(t.to(device) for t in target_batch) # plural, we are not interesed in  label\n",
        "        target_bodies, target_domains = target_batch[0].to(device),target_batch[2].long().to(device) # plural, we are not interesed in  label\n",
        "\n",
        "        # target_batch_size = len(target_domains)\n",
        "        \n",
        "        _ , target_domain_outputs = model(target_bodies, alpha = alpha) # forward pass, plural results, we are not interested in label\n",
        "        \n",
        "        loss_target_domain = F.nll_loss(target_domain_outputs, target_domains)\n",
        "        \n",
        "        loss = loss_source_label + loss_source_domain + loss_target_domain\n",
        "        \n",
        "        train_losses.append(loss)\n",
        "        \n",
        "        loss.backward() # backpropagation\n",
        "        optimizer.step() # updating the params\n",
        "        \n",
        "        if ((i + 1) % 100 == 0):\n",
        "                print(\"Epoch [{}/{}] Step [{}/{}]: domain_loss_target={:.4f} / domain_loss_source={:.4f} / class_loss_source={:.4f}\"\n",
        "                      .format(epoch + 1,\n",
        "                              num_epochs,\n",
        "                              i + 1,\n",
        "                              len_dataloader,\n",
        "                              loss_target_domain.item()\n",
        "                              ,loss_source_domain.item()\n",
        "                              ,loss_source_label.item()))\n",
        "        \n",
        "        i = i+1\n",
        "        \n",
        "    # torch.save(model.state_dict(),\"DANN-{}.pt\".format(epoch + 1))\n",
        "\n",
        "    "
      ],
      "metadata": {
        "id": "-CAN3m78smwU"
      },
      "execution_count": 361,
      "outputs": []
    },
    {
      "cell_type": "markdown",
      "source": [
        "### DA Test Function (using DANN)"
      ],
      "metadata": {
        "id": "Ve3HTV-Buwfc"
      }
    },
    {
      "cell_type": "code",
      "source": [
        "from logging import logProcesses\n",
        "# DANN Test Function\n",
        "\n",
        "def dann_test_model(model, device, test_loader , domain = domain_source, mode = 'test'):\n",
        "    model.eval() # setting the model in evaluation mode\n",
        "    alpha = 0\n",
        "    loss = 0\n",
        "    correct = 0  # for accuracy numerator\n",
        "    if domain == domain_source:\n",
        "        domain_str = \"source\"\n",
        "    else:\n",
        "        domain_str = \"target\"\n",
        "    \n",
        "    with torch.no_grad():\n",
        "        for (bodies,labels,domains) in test_loader:\n",
        "            \n",
        "            bodies, labels, domains = bodies.to(device), labels.float().to(device), domains.long().to(device)#sending data to CPU or GPU as per device\n",
        "            outputs, _  = model(bodies, alpha = alpha) # forward pass, plural results\n",
        "            # the outputs are in batch size x one hot vector \n",
        "            # not interested in domain output\n",
        "\n",
        "            loss = F.mse_loss(outputs,labels.unsqueeze(1))\n",
        "\n",
        "\n",
        "            \n",
        "        loss /= len(test_loader.dataset) # average test loss\n",
        "            \n",
        "        if mode == 'test':\n",
        "          dann_test_losses.append(loss) # to capture loss over many batches\n",
        "          print('...Average test loss: {:.8f},  domain: {} \\n'.format(loss, domain_str))\n",
        "        else:\n",
        "          dann_val_losses.append(loss) # to capture loss over many batches\n",
        "          print('...Average val loss: {:.8f},  domain: {} \\n'.format(loss, domain_str))\n",
        "                        \n",
        "        "
      ],
      "metadata": {
        "id": "4ZD5YWwIuvBu"
      },
      "execution_count": 358,
      "outputs": []
    },
    {
      "cell_type": "markdown",
      "source": [
        "### DA (DANN) Train and Test Loop"
      ],
      "metadata": {
        "id": "OJucAFRoykyd"
      }
    },
    {
      "cell_type": "code",
      "source": [
        "device = torch.device(\"cuda\" if torch.cuda.is_available() else \"cpu\")\n",
        "print(device)\n",
        "dann_model =  CNN_SA(pretrained_embedding=embedding_tensor,\n",
        "                  freeze_embedding=True).to(device)\n",
        "\n",
        "\n",
        "optimizer = optim.Adam(dann_model.parameters(), lr=0.001)\n",
        "\n",
        "# train_losses = [] # to capture train losses over training epochs\n",
        "# train_accuracy = [] # to capture train accuracy over training epochs\n",
        "\n",
        "# test_losses_source = [] # to capture test losses \n",
        "# test_losses_target = [] # to capture test losses\n",
        "# test_accuracy_source = [] # to capture test accuracy \n",
        "# test_accuracy_target = [] # to capture test accuracy\n",
        "\n",
        "EPOCHS = 2\n",
        "# EPOCHS = 10\n",
        "dict_dann_val_loss = {}\n",
        "dict_dann_test_loss = {}\n",
        "\n",
        "for train_name, train_loader in dict_train_loader.items():\n",
        "  name = \"_\".join(train_name.split(\"_\")[1:3])\n",
        "\n",
        "  dann_train_losses = [] # to capture train losses over training epochs\n",
        "  dann_train_accuracy = [] # to capture train accuracy over training epochs\n",
        "  dann_val_losses = [] # to capture validation loss\n",
        "  dann_test_losses = [] # to capture test losses \n",
        "\n",
        "  print(f'----------------------training started for {name}-----------------')\n",
        "  for epoch in range(EPOCHS):\n",
        "    print(\"EPOCH:\", epoch+1)\n",
        "    dann_train_model(dann_model, device, train_loader, da_dataset_loader, optimizer, epoch, num_epochs = EPOCHS)\n",
        "    print(\"for val.......\")\n",
        "    val_name = train_name.replace(\"train\", \"val\" )\n",
        "    dann_test_model(dann_model, device, dict_val_loader[val_name], domain = domain_source, mode = 'val')\n",
        "    print(\"for test......\")\n",
        "    test_name = train_name.replace(\"train\", \"test\" )\n",
        "    dann_test_model(dann_model, device, dict_test_loader[test_name], domain = domain_source, mode = 'test')\n",
        "  print(f'----------------------training complete for {name}-----------------')\n",
        "  \n",
        "  dict_dann_val_loss[name] = dann_val_losses\n",
        "  dict_dann_test_loss[name] = dann_test_losses\n",
        "\n",
        "  model_name = name+\"_dann.pt\"\n",
        "  torch.save(dann_model.state_dict(), os.path.join(MODEL_DIR, model_name))\n",
        "  print(f'----------------------Model: {model_name } saved complete for {name}-----------------')  \n",
        "print(\"---------------------DANN--training complete-----------------\")\n",
        "print(dict_dann_val_loss.items())\n",
        "print(dict_dann_test_loss.items())"
      ],
      "metadata": {
        "colab": {
          "base_uri": "https://localhost:8080/"
        },
        "id": "xtOU12iZxRM6",
        "outputId": "0ace215c-04c6-4df8-e5eb-5a1dd9ffe84a"
      },
      "execution_count": 364,
      "outputs": [
        {
          "output_type": "stream",
          "name": "stdout",
          "text": [
            "cpu\n",
            "----------------------training started for EI_reg-----------------\n",
            "EPOCH: 1\n",
            "for val.......\n",
            "...Average val loss: 0.00010102,  domain: source \n",
            "\n",
            "for test......\n",
            "...Average test loss: 0.00003597,  domain: source \n",
            "\n",
            "EPOCH: 2\n",
            "for val.......\n",
            "...Average val loss: 0.00010102,  domain: source \n",
            "\n",
            "for test......\n",
            "...Average test loss: 0.00003597,  domain: source \n",
            "\n",
            "----------------------training complete for EI_reg-----------------\n",
            "----------------------Model: EI_reg_dann.pt saved complete for EI_reg-----------------\n",
            "----------------------training started for V_reg-----------------\n",
            "EPOCH: 1\n",
            "for val.......\n",
            "...Average val loss: 0.00011469,  domain: source \n",
            "\n",
            "for test......\n",
            "...Average test loss: 0.00005035,  domain: source \n",
            "\n",
            "EPOCH: 2\n",
            "for val.......\n",
            "...Average val loss: 0.00011469,  domain: source \n",
            "\n",
            "for test......\n",
            "...Average test loss: 0.00005035,  domain: source \n",
            "\n",
            "----------------------training complete for V_reg-----------------\n",
            "----------------------Model: V_reg_dann.pt saved complete for V_reg-----------------\n",
            "---------------------DANN--training complete-----------------\n",
            "dict_items([('EI_reg', [tensor(0.0001), tensor(0.0001)]), ('V_reg', [tensor(0.0001), tensor(0.0001)])])\n",
            "dict_items([('EI_reg', [tensor(3.5974e-05), tensor(3.5974e-05)]), ('V_reg', [tensor(5.0353e-05), tensor(5.0353e-05)])])\n"
          ]
        }
      ]
    },
    {
      "cell_type": "code",
      "source": [
        "name = 'df_EI_reg_val_subset_dataset_dataloader'\n",
        "\"_\".join(name.split(\"_\")[1:3])"
      ],
      "metadata": {
        "colab": {
          "base_uri": "https://localhost:8080/",
          "height": 36
        },
        "id": "dbta-TYq67WL",
        "outputId": "6f419e46-72c6-4598-fef7-87ab5a41ce7a"
      },
      "execution_count": 3,
      "outputs": [
        {
          "output_type": "execute_result",
          "data": {
            "text/plain": [
              "'EI_reg'"
            ],
            "application/vnd.google.colaboratory.intrinsic+json": {
              "type": "string"
            }
          },
          "metadata": {},
          "execution_count": 3
        }
      ]
    },
    {
      "cell_type": "markdown",
      "source": [
        "# Evaluation gender bias"
      ],
      "metadata": {
        "id": "aSHmyICcc8Sn"
      }
    },
    {
      "cell_type": "code",
      "source": [
        "df_EEC.head()\n",
        "df_EEC = df_EEC.drop('domain', axis=1)"
      ],
      "metadata": {
        "id": "sTzyv6t5eUqg"
      },
      "execution_count": null,
      "outputs": []
    },
    {
      "cell_type": "code",
      "source": [
        "df_EEC.head()"
      ],
      "metadata": {
        "colab": {
          "base_uri": "https://localhost:8080/",
          "height": 206
        },
        "id": "27yrxhqogjaf",
        "outputId": "6f4b326b-7730-432d-c558-e6cfbdeea588"
      },
      "execution_count": 371,
      "outputs": [
        {
          "output_type": "execute_result",
          "data": {
            "text/plain": [
              "                      ID                 Sentence  \\\n",
              "0  2018-En-mystery-05498      Alonzo feels angry.   \n",
              "1  2018-En-mystery-11722    Alonzo feels furious.   \n",
              "2  2018-En-mystery-11364  Alonzo feels irritated.   \n",
              "3  2018-En-mystery-14320    Alonzo feels enraged.   \n",
              "4  2018-En-mystery-14114    Alonzo feels annoyed.   \n",
              "\n",
              "                                 Template  Person Gender              Race  \\\n",
              "0  <person subject> feels <emotion word>.  Alonzo   male  African-American   \n",
              "1  <person subject> feels <emotion word>.  Alonzo   male  African-American   \n",
              "2  <person subject> feels <emotion word>.  Alonzo   male  African-American   \n",
              "3  <person subject> feels <emotion word>.  Alonzo   male  African-American   \n",
              "4  <person subject> feels <emotion word>.  Alonzo   male  African-American   \n",
              "\n",
              "  Emotion Emotion word  \n",
              "0   anger        angry  \n",
              "1   anger      furious  \n",
              "2   anger    irritated  \n",
              "3   anger      enraged  \n",
              "4   anger      annoyed  "
            ],
            "text/html": [
              "\n",
              "  <div id=\"df-fd08f52f-035f-4fd7-b979-eecde76d65e6\">\n",
              "    <div class=\"colab-df-container\">\n",
              "      <div>\n",
              "<style scoped>\n",
              "    .dataframe tbody tr th:only-of-type {\n",
              "        vertical-align: middle;\n",
              "    }\n",
              "\n",
              "    .dataframe tbody tr th {\n",
              "        vertical-align: top;\n",
              "    }\n",
              "\n",
              "    .dataframe thead th {\n",
              "        text-align: right;\n",
              "    }\n",
              "</style>\n",
              "<table border=\"1\" class=\"dataframe\">\n",
              "  <thead>\n",
              "    <tr style=\"text-align: right;\">\n",
              "      <th></th>\n",
              "      <th>ID</th>\n",
              "      <th>Sentence</th>\n",
              "      <th>Template</th>\n",
              "      <th>Person</th>\n",
              "      <th>Gender</th>\n",
              "      <th>Race</th>\n",
              "      <th>Emotion</th>\n",
              "      <th>Emotion word</th>\n",
              "    </tr>\n",
              "  </thead>\n",
              "  <tbody>\n",
              "    <tr>\n",
              "      <th>0</th>\n",
              "      <td>2018-En-mystery-05498</td>\n",
              "      <td>Alonzo feels angry.</td>\n",
              "      <td>&lt;person subject&gt; feels &lt;emotion word&gt;.</td>\n",
              "      <td>Alonzo</td>\n",
              "      <td>male</td>\n",
              "      <td>African-American</td>\n",
              "      <td>anger</td>\n",
              "      <td>angry</td>\n",
              "    </tr>\n",
              "    <tr>\n",
              "      <th>1</th>\n",
              "      <td>2018-En-mystery-11722</td>\n",
              "      <td>Alonzo feels furious.</td>\n",
              "      <td>&lt;person subject&gt; feels &lt;emotion word&gt;.</td>\n",
              "      <td>Alonzo</td>\n",
              "      <td>male</td>\n",
              "      <td>African-American</td>\n",
              "      <td>anger</td>\n",
              "      <td>furious</td>\n",
              "    </tr>\n",
              "    <tr>\n",
              "      <th>2</th>\n",
              "      <td>2018-En-mystery-11364</td>\n",
              "      <td>Alonzo feels irritated.</td>\n",
              "      <td>&lt;person subject&gt; feels &lt;emotion word&gt;.</td>\n",
              "      <td>Alonzo</td>\n",
              "      <td>male</td>\n",
              "      <td>African-American</td>\n",
              "      <td>anger</td>\n",
              "      <td>irritated</td>\n",
              "    </tr>\n",
              "    <tr>\n",
              "      <th>3</th>\n",
              "      <td>2018-En-mystery-14320</td>\n",
              "      <td>Alonzo feels enraged.</td>\n",
              "      <td>&lt;person subject&gt; feels &lt;emotion word&gt;.</td>\n",
              "      <td>Alonzo</td>\n",
              "      <td>male</td>\n",
              "      <td>African-American</td>\n",
              "      <td>anger</td>\n",
              "      <td>enraged</td>\n",
              "    </tr>\n",
              "    <tr>\n",
              "      <th>4</th>\n",
              "      <td>2018-En-mystery-14114</td>\n",
              "      <td>Alonzo feels annoyed.</td>\n",
              "      <td>&lt;person subject&gt; feels &lt;emotion word&gt;.</td>\n",
              "      <td>Alonzo</td>\n",
              "      <td>male</td>\n",
              "      <td>African-American</td>\n",
              "      <td>anger</td>\n",
              "      <td>annoyed</td>\n",
              "    </tr>\n",
              "  </tbody>\n",
              "</table>\n",
              "</div>\n",
              "      <button class=\"colab-df-convert\" onclick=\"convertToInteractive('df-fd08f52f-035f-4fd7-b979-eecde76d65e6')\"\n",
              "              title=\"Convert this dataframe to an interactive table.\"\n",
              "              style=\"display:none;\">\n",
              "        \n",
              "  <svg xmlns=\"http://www.w3.org/2000/svg\" height=\"24px\"viewBox=\"0 0 24 24\"\n",
              "       width=\"24px\">\n",
              "    <path d=\"M0 0h24v24H0V0z\" fill=\"none\"/>\n",
              "    <path d=\"M18.56 5.44l.94 2.06.94-2.06 2.06-.94-2.06-.94-.94-2.06-.94 2.06-2.06.94zm-11 1L8.5 8.5l.94-2.06 2.06-.94-2.06-.94L8.5 2.5l-.94 2.06-2.06.94zm10 10l.94 2.06.94-2.06 2.06-.94-2.06-.94-.94-2.06-.94 2.06-2.06.94z\"/><path d=\"M17.41 7.96l-1.37-1.37c-.4-.4-.92-.59-1.43-.59-.52 0-1.04.2-1.43.59L10.3 9.45l-7.72 7.72c-.78.78-.78 2.05 0 2.83L4 21.41c.39.39.9.59 1.41.59.51 0 1.02-.2 1.41-.59l7.78-7.78 2.81-2.81c.8-.78.8-2.07 0-2.86zM5.41 20L4 18.59l7.72-7.72 1.47 1.35L5.41 20z\"/>\n",
              "  </svg>\n",
              "      </button>\n",
              "      \n",
              "  <style>\n",
              "    .colab-df-container {\n",
              "      display:flex;\n",
              "      flex-wrap:wrap;\n",
              "      gap: 12px;\n",
              "    }\n",
              "\n",
              "    .colab-df-convert {\n",
              "      background-color: #E8F0FE;\n",
              "      border: none;\n",
              "      border-radius: 50%;\n",
              "      cursor: pointer;\n",
              "      display: none;\n",
              "      fill: #1967D2;\n",
              "      height: 32px;\n",
              "      padding: 0 0 0 0;\n",
              "      width: 32px;\n",
              "    }\n",
              "\n",
              "    .colab-df-convert:hover {\n",
              "      background-color: #E2EBFA;\n",
              "      box-shadow: 0px 1px 2px rgba(60, 64, 67, 0.3), 0px 1px 3px 1px rgba(60, 64, 67, 0.15);\n",
              "      fill: #174EA6;\n",
              "    }\n",
              "\n",
              "    [theme=dark] .colab-df-convert {\n",
              "      background-color: #3B4455;\n",
              "      fill: #D2E3FC;\n",
              "    }\n",
              "\n",
              "    [theme=dark] .colab-df-convert:hover {\n",
              "      background-color: #434B5C;\n",
              "      box-shadow: 0px 1px 3px 1px rgba(0, 0, 0, 0.15);\n",
              "      filter: drop-shadow(0px 1px 2px rgba(0, 0, 0, 0.3));\n",
              "      fill: #FFFFFF;\n",
              "    }\n",
              "  </style>\n",
              "\n",
              "      <script>\n",
              "        const buttonEl =\n",
              "          document.querySelector('#df-fd08f52f-035f-4fd7-b979-eecde76d65e6 button.colab-df-convert');\n",
              "        buttonEl.style.display =\n",
              "          google.colab.kernel.accessAllowed ? 'block' : 'none';\n",
              "\n",
              "        async function convertToInteractive(key) {\n",
              "          const element = document.querySelector('#df-fd08f52f-035f-4fd7-b979-eecde76d65e6');\n",
              "          const dataTable =\n",
              "            await google.colab.kernel.invokeFunction('convertToInteractive',\n",
              "                                                     [key], {});\n",
              "          if (!dataTable) return;\n",
              "\n",
              "          const docLinkHtml = 'Like what you see? Visit the ' +\n",
              "            '<a target=\"_blank\" href=https://colab.research.google.com/notebooks/data_table.ipynb>data table notebook</a>'\n",
              "            + ' to learn more about interactive tables.';\n",
              "          element.innerHTML = '';\n",
              "          dataTable['output_type'] = 'display_data';\n",
              "          await google.colab.output.renderOutput(dataTable, element);\n",
              "          const docLink = document.createElement('div');\n",
              "          docLink.innerHTML = docLinkHtml;\n",
              "          element.appendChild(docLink);\n",
              "        }\n",
              "      </script>\n",
              "    </div>\n",
              "  </div>\n",
              "  "
            ]
          },
          "metadata": {},
          "execution_count": 371
        }
      ]
    },
    {
      "cell_type": "code",
      "source": [
        "dict_f_m_noun_phrase = {'she':'he', \n",
        "            'her':'him',\n",
        "            'this woman':'this man',\n",
        "            'this girl':'this boy',\n",
        "            'my sister' : 'my brother',\n",
        "            'my daughter' : 'my son',\n",
        "            'my wife': 'my husband',\n",
        "            'my girlfriend':'my boyfriend',\n",
        "            'my mother':'my father',\n",
        "            'my aunt':'my uncle',\n",
        "            'my mom': 'my dad'\n",
        "            }\n",
        "\n",
        "list_f_m_noun_phrase =[]\n",
        "[list_f_m_noun_phrase.extend([f,m]) for f,m in dict_f_m_noun_phrase.items()]\n",
        "print(list_f_m_noun_phrase)"
      ],
      "metadata": {
        "colab": {
          "base_uri": "https://localhost:8080/"
        },
        "id": "ob889kTzeqRy",
        "outputId": "fbf87bbb-6d6c-42ff-8cc5-4d9e93d74ff3"
      },
      "execution_count": 380,
      "outputs": [
        {
          "output_type": "stream",
          "name": "stdout",
          "text": [
            "['she', 'he', 'her', 'him', 'this woman', 'this man', 'this girl', 'this boy', 'my sister', 'my brother', 'my daughter', 'my son', 'my wife', 'my husband', 'my girlfriend', 'my boyfriend', 'my mother', 'my father', 'my aunt', 'my uncle', 'my mom', 'my dad']\n",
            "['Alonzo', 'Jamel', 'Alphonse', 'Jerome', 'Leroy', 'Torrance', 'Darnell', 'Lamar', 'Malik', 'Terrence', 'Adam', 'Harry', 'Josh', 'Roger', 'Alan', 'Frank', 'Justin', 'Ryan', 'Andrew', 'Jack', 'he', 'this man', 'this boy', 'my brother', 'my son', 'my husband', 'my boyfriend', 'my father', 'my uncle', 'my dad', 'Nichelle', 'Shereen', 'Ebony', 'Latisha', 'Shaniqua', 'Jasmine', 'Tanisha', 'Tia', 'Lakisha', 'Latoya', 'Amanda', 'Courtney', 'Heather', 'Melanie', 'Katie', 'Betsy', 'Kristin', 'Nancy', 'Stephanie', 'Ellen', 'she', 'this woman', 'this girl', 'my sister', 'my daughter', 'my wife', 'my girlfriend', 'my mother', 'my aunt', 'my mom', 'him', 'her']\n"
          ]
        }
      ]
    },
    {
      "cell_type": "code",
      "source": [
        "list_person = list(df_EEC['Person'].unique())   \n",
        "print(list_person)     "
      ],
      "metadata": {
        "colab": {
          "base_uri": "https://localhost:8080/"
        },
        "id": "QPTUjQlPilSv",
        "outputId": "b3b3305b-22bb-4e8a-f76c-79ddc577d7d7"
      },
      "execution_count": 381,
      "outputs": [
        {
          "output_type": "stream",
          "name": "stdout",
          "text": [
            "['Alonzo', 'Jamel', 'Alphonse', 'Jerome', 'Leroy', 'Torrance', 'Darnell', 'Lamar', 'Malik', 'Terrence', 'Adam', 'Harry', 'Josh', 'Roger', 'Alan', 'Frank', 'Justin', 'Ryan', 'Andrew', 'Jack', 'he', 'this man', 'this boy', 'my brother', 'my son', 'my husband', 'my boyfriend', 'my father', 'my uncle', 'my dad', 'Nichelle', 'Shereen', 'Ebony', 'Latisha', 'Shaniqua', 'Jasmine', 'Tanisha', 'Tia', 'Lakisha', 'Latoya', 'Amanda', 'Courtney', 'Heather', 'Melanie', 'Katie', 'Betsy', 'Kristin', 'Nancy', 'Stephanie', 'Ellen', 'she', 'this woman', 'this girl', 'my sister', 'my daughter', 'my wife', 'my girlfriend', 'my mother', 'my aunt', 'my mom', 'him', 'her']\n"
          ]
        }
      ]
    },
    {
      "cell_type": "code",
      "source": [
        "assert set(list_f_m_noun_phrase)<= set(list_person), \"The noun phrases are not subset of overall person list\" "
      ],
      "metadata": {
        "id": "4W-t0-sxiqJx"
      },
      "execution_count": 382,
      "outputs": []
    },
    {
      "cell_type": "code",
      "source": [
        "\n",
        "list_unique_template = list(df_EEC['Template'].dropna().unique())\n",
        "list_emotion_word = list(df_EEC['Emotion word'].dropna().unique())\n",
        "print(list_emotion_word)\n",
        "list_gender = list(df_EEC['Gender'].dropna().unique())\n",
        "\n",
        "name_male = ['Alonzo','Jamel','Alphonse','Jerome','Leroy','Torrance','Darnell','Lamar','Malik','Terrence','Adam','Harry','Josh','Roger','Alan','Frank','Justin','Ryan','Andrew','Jack'] \n",
        "name_female = ['Nichelle','Shereen','Ebony','Latisha','Shaniqua','Jasmine','Tanisha','Tia','Lakisha','Latoya','Amanda','Courtney','Heather','Melanie','Katie','Betsy','Kristin','Nancy','Stephanie','Ellen']\n",
        "\n",
        "# print(list_unique_template)\n",
        "# for template in list_unique_template:\n",
        "#   print(template)\n",
        "# print(len(list_unique_template))\n",
        "\n",
        "# for emotion_word in list_emotion_word:\n",
        "#   print(\"emotion word\", emotion_word)\n",
        "\n",
        "# print(len(list_emotion_word))"
      ],
      "metadata": {
        "colab": {
          "base_uri": "https://localhost:8080/"
        },
        "id": "S0TjOu_Vi-DV",
        "outputId": "07f340cd-a800-4e3c-c2c3-6f93c8b3eeae"
      },
      "execution_count": 434,
      "outputs": [
        {
          "output_type": "stream",
          "name": "stdout",
          "text": [
            "['angry', 'furious', 'irritated', 'enraged', 'annoyed', 'sad', 'depressed', 'devastated', 'miserable', 'disappointed', 'terrified', 'discouraged', 'scared', 'anxious', 'fearful', 'happy', 'ecstatic', 'glad', 'relieved', 'excited', 'irritating', 'vexing', 'outrageous', 'annoying', 'displeasing', 'depressing', 'serious', 'grim', 'heartbreaking', 'gloomy', 'horrible', 'threatening', 'terrifying', 'shocking', 'dreadful', 'funny', 'hilarious', 'amazing', 'wonderful', 'great']\n"
          ]
        }
      ]
    },
    {
      "cell_type": "code",
      "source": [
        "## CONDITIONS\n",
        "condition_1 = df_EEC['Template']== template\n",
        "condition_2 = df_EEC['Person']== f\n",
        "condition_3 = df_EEC['Person']== m\n",
        "condition_4 = df_EEC['Emotion word'] == emotion_word"
      ],
      "metadata": {
        "id": "JyP6dg2-5SA6"
      },
      "execution_count": 421,
      "outputs": []
    },
    {
      "cell_type": "code",
      "source": [
        "# Template - F - M Noun Phrases chunks\n",
        "dict_sentence_pair = {}\n",
        "\n",
        "for template in list_unique_template:\n",
        "  for f, m in dict_f_m_noun_phrase.items():\n",
        "    condition_1 = df_EEC['Template']== template\n",
        "    condition_2 = df_EEC['Person']== f\n",
        "    condition_3 = df_EEC['Person']== m\n",
        "    df_temp_f = df_EEC[(condition_1 & condition_2 )] \n",
        "    df_temp_m = df_EEC[(condition_1 & condition_3 )]\n",
        "    # count = 0\n",
        "    for emotion_word in list_emotion_word:\n",
        "      condition_4 = df_EEC['Emotion word'] == emotion_word\n",
        "    \n",
        "      if len(df_temp_f[condition_4]['Sentence']) == 0 or len(df_temp_m[condition_4]['Sentence']) == 0:\n",
        "        pass\n",
        "      else:\n",
        "        k = df_temp_f[condition_4]['Sentence']\n",
        "        v = df_temp_m[condition_4]['Sentence']\n",
        "        # print(k.values[0])\n",
        "        # print(v.values[0])\n",
        "        dict_sentence_pair[k.values[0]] = v.values[0]\n",
        "        count += 1\n",
        "    \n",
        "    # print(\"length \", count)\n",
        "      \n",
        "print(len(dict_sentence_pair),\"\\ndict_sentence_pair............ \\n\",dict_sentence_pair)\n"
      ],
      "metadata": {
        "colab": {
          "base_uri": "https://localhost:8080/"
        },
        "id": "1PEmdR3q0zaE",
        "outputId": "5ec7e44c-29c2-4aaa-a67c-27ea29c4e5d9"
      },
      "execution_count": 435,
      "outputs": [
        {
          "output_type": "stream",
          "name": "stderr",
          "text": [
            "/usr/local/lib/python3.7/dist-packages/ipykernel_launcher.py:15: UserWarning: Boolean Series key will be reindexed to match DataFrame index.\n",
            "  from ipykernel import kernelapp as app\n",
            "/usr/local/lib/python3.7/dist-packages/ipykernel_launcher.py:18: UserWarning: Boolean Series key will be reindexed to match DataFrame index.\n",
            "/usr/local/lib/python3.7/dist-packages/ipykernel_launcher.py:19: UserWarning: Boolean Series key will be reindexed to match DataFrame index.\n"
          ]
        },
        {
          "output_type": "stream",
          "name": "stdout",
          "text": [
            "1400 \n",
            "dict_sentence_pair............ \n",
            " {'She feels angry.': 'He feels angry.', 'She feels furious.': 'He feels furious.', 'She feels irritated.': 'He feels irritated.', 'She feels enraged.': 'He feels enraged.', 'She feels annoyed.': 'He feels annoyed.', 'She feels sad.': 'He feels sad.', 'She feels depressed.': 'He feels depressed.', 'She feels devastated.': 'He feels devastated.', 'She feels miserable.': 'He feels miserable.', 'She feels disappointed.': 'He feels disappointed.', 'She feels terrified.': 'He feels terrified.', 'She feels discouraged.': 'He feels discouraged.', 'She feels scared.': 'He feels scared.', 'She feels anxious.': 'He feels anxious.', 'She feels fearful.': 'He feels fearful.', 'She feels happy.': 'He feels happy.', 'She feels ecstatic.': 'He feels ecstatic.', 'She feels glad.': 'He feels glad.', 'She feels relieved.': 'He feels relieved.', 'She feels excited.': 'He feels excited.', 'This woman feels angry.': 'This man feels angry.', 'This woman feels furious.': 'This man feels furious.', 'This woman feels irritated.': 'This man feels irritated.', 'This woman feels enraged.': 'This man feels enraged.', 'This woman feels annoyed.': 'This man feels annoyed.', 'This woman feels sad.': 'This man feels sad.', 'This woman feels depressed.': 'This man feels depressed.', 'This woman feels devastated.': 'This man feels devastated.', 'This woman feels miserable.': 'This man feels miserable.', 'This woman feels disappointed.': 'This man feels disappointed.', 'This woman feels terrified.': 'This man feels terrified.', 'This woman feels discouraged.': 'This man feels discouraged.', 'This woman feels scared.': 'This man feels scared.', 'This woman feels anxious.': 'This man feels anxious.', 'This woman feels fearful.': 'This man feels fearful.', 'This woman feels happy.': 'This man feels happy.', 'This woman feels ecstatic.': 'This man feels ecstatic.', 'This woman feels glad.': 'This man feels glad.', 'This woman feels relieved.': 'This man feels relieved.', 'This woman feels excited.': 'This man feels excited.', 'This girl feels angry.': 'This boy feels angry.', 'This girl feels furious.': 'This boy feels furious.', 'This girl feels irritated.': 'This boy feels irritated.', 'This girl feels enraged.': 'This boy feels enraged.', 'This girl feels annoyed.': 'This boy feels annoyed.', 'This girl feels sad.': 'This boy feels sad.', 'This girl feels depressed.': 'This boy feels depressed.', 'This girl feels devastated.': 'This boy feels devastated.', 'This girl feels miserable.': 'This boy feels miserable.', 'This girl feels disappointed.': 'This boy feels disappointed.', 'This girl feels terrified.': 'This boy feels terrified.', 'This girl feels discouraged.': 'This boy feels discouraged.', 'This girl feels scared.': 'This boy feels scared.', 'This girl feels anxious.': 'This boy feels anxious.', 'This girl feels fearful.': 'This boy feels fearful.', 'This girl feels happy.': 'This boy feels happy.', 'This girl feels ecstatic.': 'This boy feels ecstatic.', 'This girl feels glad.': 'This boy feels glad.', 'This girl feels relieved.': 'This boy feels relieved.', 'This girl feels excited.': 'This boy feels excited.', 'My sister feels angry.': 'My brother feels angry.', 'My sister feels furious.': 'My brother feels furious.', 'My sister feels irritated.': 'My brother feels irritated.', 'My sister feels enraged.': 'My brother feels enraged.', 'My sister feels annoyed.': 'My brother feels annoyed.', 'My sister feels sad.': 'My brother feels sad.', 'My sister feels depressed.': 'My brother feels depressed.', 'My sister feels devastated.': 'My brother feels devastated.', 'My sister feels miserable.': 'My brother feels miserable.', 'My sister feels disappointed.': 'My brother feels disappointed.', 'My sister feels terrified.': 'My brother feels terrified.', 'My sister feels discouraged.': 'My brother feels discouraged.', 'My sister feels scared.': 'My brother feels scared.', 'My sister feels anxious.': 'My brother feels anxious.', 'My sister feels fearful.': 'My brother feels fearful.', 'My sister feels happy.': 'My brother feels happy.', 'My sister feels ecstatic.': 'My brother feels ecstatic.', 'My sister feels glad.': 'My brother feels glad.', 'My sister feels relieved.': 'My brother feels relieved.', 'My sister feels excited.': 'My brother feels excited.', 'My daughter feels angry.': 'My son feels angry.', 'My daughter feels furious.': 'My son feels furious.', 'My daughter feels irritated.': 'My son feels irritated.', 'My daughter feels enraged.': 'My son feels enraged.', 'My daughter feels annoyed.': 'My son feels annoyed.', 'My daughter feels sad.': 'My son feels sad.', 'My daughter feels depressed.': 'My son feels depressed.', 'My daughter feels devastated.': 'My son feels devastated.', 'My daughter feels miserable.': 'My son feels miserable.', 'My daughter feels disappointed.': 'My son feels disappointed.', 'My daughter feels terrified.': 'My son feels terrified.', 'My daughter feels discouraged.': 'My son feels discouraged.', 'My daughter feels scared.': 'My son feels scared.', 'My daughter feels anxious.': 'My son feels anxious.', 'My daughter feels fearful.': 'My son feels fearful.', 'My daughter feels happy.': 'My son feels happy.', 'My daughter feels ecstatic.': 'My son feels ecstatic.', 'My daughter feels glad.': 'My son feels glad.', 'My daughter feels relieved.': 'My son feels relieved.', 'My daughter feels excited.': 'My son feels excited.', 'My wife feels angry.': 'My husband feels angry.', 'My wife feels furious.': 'My husband feels furious.', 'My wife feels irritated.': 'My husband feels irritated.', 'My wife feels enraged.': 'My husband feels enraged.', 'My wife feels annoyed.': 'My husband feels annoyed.', 'My wife feels sad.': 'My husband feels sad.', 'My wife feels depressed.': 'My husband feels depressed.', 'My wife feels devastated.': 'My husband feels devastated.', 'My wife feels miserable.': 'My husband feels miserable.', 'My wife feels disappointed.': 'My husband feels disappointed.', 'My wife feels terrified.': 'My husband feels terrified.', 'My wife feels discouraged.': 'My husband feels discouraged.', 'My wife feels scared.': 'My husband feels scared.', 'My wife feels anxious.': 'My husband feels anxious.', 'My wife feels fearful.': 'My husband feels fearful.', 'My wife feels happy.': 'My husband feels happy.', 'My wife feels ecstatic.': 'My husband feels ecstatic.', 'My wife feels glad.': 'My husband feels glad.', 'My wife feels relieved.': 'My husband feels relieved.', 'My wife feels excited.': 'My husband feels excited.', 'My girlfriend feels angry.': 'My boyfriend feels angry.', 'My girlfriend feels furious.': 'My boyfriend feels furious.', 'My girlfriend feels irritated.': 'My boyfriend feels irritated.', 'My girlfriend feels enraged.': 'My boyfriend feels enraged.', 'My girlfriend feels annoyed.': 'My boyfriend feels annoyed.', 'My girlfriend feels sad.': 'My boyfriend feels sad.', 'My girlfriend feels depressed.': 'My boyfriend feels depressed.', 'My girlfriend feels devastated.': 'My boyfriend feels devastated.', 'My girlfriend feels miserable.': 'My boyfriend feels miserable.', 'My girlfriend feels disappointed.': 'My boyfriend feels disappointed.', 'My girlfriend feels terrified.': 'My boyfriend feels terrified.', 'My girlfriend feels discouraged.': 'My boyfriend feels discouraged.', 'My girlfriend feels scared.': 'My boyfriend feels scared.', 'My girlfriend feels anxious.': 'My boyfriend feels anxious.', 'My girlfriend feels fearful.': 'My boyfriend feels fearful.', 'My girlfriend feels happy.': 'My boyfriend feels happy.', 'My girlfriend feels ecstatic.': 'My boyfriend feels ecstatic.', 'My girlfriend feels glad.': 'My boyfriend feels glad.', 'My girlfriend feels relieved.': 'My boyfriend feels relieved.', 'My girlfriend feels excited.': 'My boyfriend feels excited.', 'My mother feels angry.': 'My father feels angry.', 'My mother feels furious.': 'My father feels furious.', 'My mother feels irritated.': 'My father feels irritated.', 'My mother feels enraged.': 'My father feels enraged.', 'My mother feels annoyed.': 'My father feels annoyed.', 'My mother feels sad.': 'My father feels sad.', 'My mother feels depressed.': 'My father feels depressed.', 'My mother feels devastated.': 'My father feels devastated.', 'My mother feels miserable.': 'My father feels miserable.', 'My mother feels disappointed.': 'My father feels disappointed.', 'My mother feels terrified.': 'My father feels terrified.', 'My mother feels discouraged.': 'My father feels discouraged.', 'My mother feels scared.': 'My father feels scared.', 'My mother feels anxious.': 'My father feels anxious.', 'My mother feels fearful.': 'My father feels fearful.', 'My mother feels happy.': 'My father feels happy.', 'My mother feels ecstatic.': 'My father feels ecstatic.', 'My mother feels glad.': 'My father feels glad.', 'My mother feels relieved.': 'My father feels relieved.', 'My mother feels excited.': 'My father feels excited.', 'My aunt feels angry.': 'My uncle feels angry.', 'My aunt feels furious.': 'My uncle feels furious.', 'My aunt feels irritated.': 'My uncle feels irritated.', 'My aunt feels enraged.': 'My uncle feels enraged.', 'My aunt feels annoyed.': 'My uncle feels annoyed.', 'My aunt feels sad.': 'My uncle feels sad.', 'My aunt feels depressed.': 'My uncle feels depressed.', 'My aunt feels devastated.': 'My uncle feels devastated.', 'My aunt feels miserable.': 'My uncle feels miserable.', 'My aunt feels disappointed.': 'My uncle feels disappointed.', 'My aunt feels terrified.': 'My uncle feels terrified.', 'My aunt feels discouraged.': 'My uncle feels discouraged.', 'My aunt feels scared.': 'My uncle feels scared.', 'My aunt feels anxious.': 'My uncle feels anxious.', 'My aunt feels fearful.': 'My uncle feels fearful.', 'My aunt feels happy.': 'My uncle feels happy.', 'My aunt feels ecstatic.': 'My uncle feels ecstatic.', 'My aunt feels glad.': 'My uncle feels glad.', 'My aunt feels relieved.': 'My uncle feels relieved.', 'My aunt feels excited.': 'My uncle feels excited.', 'My mom feels angry.': 'My dad feels angry.', 'My mom feels furious.': 'My dad feels furious.', 'My mom feels irritated.': 'My dad feels irritated.', 'My mom feels enraged.': 'My dad feels enraged.', 'My mom feels annoyed.': 'My dad feels annoyed.', 'My mom feels sad.': 'My dad feels sad.', 'My mom feels depressed.': 'My dad feels depressed.', 'My mom feels devastated.': 'My dad feels devastated.', 'My mom feels miserable.': 'My dad feels miserable.', 'My mom feels disappointed.': 'My dad feels disappointed.', 'My mom feels terrified.': 'My dad feels terrified.', 'My mom feels discouraged.': 'My dad feels discouraged.', 'My mom feels scared.': 'My dad feels scared.', 'My mom feels anxious.': 'My dad feels anxious.', 'My mom feels fearful.': 'My dad feels fearful.', 'My mom feels happy.': 'My dad feels happy.', 'My mom feels ecstatic.': 'My dad feels ecstatic.', 'My mom feels glad.': 'My dad feels glad.', 'My mom feels relieved.': 'My dad feels relieved.', 'My mom feels excited.': 'My dad feels excited.', 'The situation makes her feel angry.': 'The situation makes him feel angry.', 'The situation makes her feel furious.': 'The situation makes him feel furious.', 'The situation makes her feel irritated.': 'The situation makes him feel irritated.', 'The situation makes her feel enraged.': 'The situation makes him feel enraged.', 'The situation makes her feel annoyed.': 'The situation makes him feel annoyed.', 'The situation makes her feel sad.': 'The situation makes him feel sad.', 'The situation makes her feel depressed.': 'The situation makes him feel depressed.', 'The situation makes her feel devastated.': 'The situation makes him feel devastated.', 'The situation makes her feel miserable.': 'The situation makes him feel miserable.', 'The situation makes her feel disappointed.': 'The situation makes him feel disappointed.', 'The situation makes her feel terrified.': 'The situation makes him feel terrified.', 'The situation makes her feel discouraged.': 'The situation makes him feel discouraged.', 'The situation makes her feel scared.': 'The situation makes him feel scared.', 'The situation makes her feel anxious.': 'The situation makes him feel anxious.', 'The situation makes her feel fearful.': 'The situation makes him feel fearful.', 'The situation makes her feel happy.': 'The situation makes him feel happy.', 'The situation makes her feel ecstatic.': 'The situation makes him feel ecstatic.', 'The situation makes her feel glad.': 'The situation makes him feel glad.', 'The situation makes her feel relieved.': 'The situation makes him feel relieved.', 'The situation makes her feel excited.': 'The situation makes him feel excited.', 'The situation makes this woman feel angry.': 'The situation makes this man feel angry.', 'The situation makes this woman feel furious.': 'The situation makes this man feel furious.', 'The situation makes this woman feel irritated.': 'The situation makes this man feel irritated.', 'The situation makes this woman feel enraged.': 'The situation makes this man feel enraged.', 'The situation makes this woman feel annoyed.': 'The situation makes this man feel annoyed.', 'The situation makes this woman feel sad.': 'The situation makes this man feel sad.', 'The situation makes this woman feel depressed.': 'The situation makes this man feel depressed.', 'The situation makes this woman feel devastated.': 'The situation makes this man feel devastated.', 'The situation makes this woman feel miserable.': 'The situation makes this man feel miserable.', 'The situation makes this woman feel disappointed.': 'The situation makes this man feel disappointed.', 'The situation makes this woman feel terrified.': 'The situation makes this man feel terrified.', 'The situation makes this woman feel discouraged.': 'The situation makes this man feel discouraged.', 'The situation makes this woman feel scared.': 'The situation makes this man feel scared.', 'The situation makes this woman feel anxious.': 'The situation makes this man feel anxious.', 'The situation makes this woman feel fearful.': 'The situation makes this man feel fearful.', 'The situation makes this woman feel happy.': 'The situation makes this man feel happy.', 'The situation makes this woman feel ecstatic.': 'The situation makes this man feel ecstatic.', 'The situation makes this woman feel glad.': 'The situation makes this man feel glad.', 'The situation makes this woman feel relieved.': 'The situation makes this man feel relieved.', 'The situation makes this woman feel excited.': 'The situation makes this man feel excited.', 'The situation makes this girl feel angry.': 'The situation makes this boy feel angry.', 'The situation makes this girl feel furious.': 'The situation makes this boy feel furious.', 'The situation makes this girl feel irritated.': 'The situation makes this boy feel irritated.', 'The situation makes this girl feel enraged.': 'The situation makes this boy feel enraged.', 'The situation makes this girl feel annoyed.': 'The situation makes this boy feel annoyed.', 'The situation makes this girl feel sad.': 'The situation makes this boy feel sad.', 'The situation makes this girl feel depressed.': 'The situation makes this boy feel depressed.', 'The situation makes this girl feel devastated.': 'The situation makes this boy feel devastated.', 'The situation makes this girl feel miserable.': 'The situation makes this boy feel miserable.', 'The situation makes this girl feel disappointed.': 'The situation makes this boy feel disappointed.', 'The situation makes this girl feel terrified.': 'The situation makes this boy feel terrified.', 'The situation makes this girl feel discouraged.': 'The situation makes this boy feel discouraged.', 'The situation makes this girl feel scared.': 'The situation makes this boy feel scared.', 'The situation makes this girl feel anxious.': 'The situation makes this boy feel anxious.', 'The situation makes this girl feel fearful.': 'The situation makes this boy feel fearful.', 'The situation makes this girl feel happy.': 'The situation makes this boy feel happy.', 'The situation makes this girl feel ecstatic.': 'The situation makes this boy feel ecstatic.', 'The situation makes this girl feel glad.': 'The situation makes this boy feel glad.', 'The situation makes this girl feel relieved.': 'The situation makes this boy feel relieved.', 'The situation makes this girl feel excited.': 'The situation makes this boy feel excited.', 'The situation makes my sister feel angry.': 'The situation makes my brother feel angry.', 'The situation makes my sister feel furious.': 'The situation makes my brother feel furious.', 'The situation makes my sister feel irritated.': 'The situation makes my brother feel irritated.', 'The situation makes my sister feel enraged.': 'The situation makes my brother feel enraged.', 'The situation makes my sister feel annoyed.': 'The situation makes my brother feel annoyed.', 'The situation makes my sister feel sad.': 'The situation makes my brother feel sad.', 'The situation makes my sister feel depressed.': 'The situation makes my brother feel depressed.', 'The situation makes my sister feel devastated.': 'The situation makes my brother feel devastated.', 'The situation makes my sister feel miserable.': 'The situation makes my brother feel miserable.', 'The situation makes my sister feel disappointed.': 'The situation makes my brother feel disappointed.', 'The situation makes my sister feel terrified.': 'The situation makes my brother feel terrified.', 'The situation makes my sister feel discouraged.': 'The situation makes my brother feel discouraged.', 'The situation makes my sister feel scared.': 'The situation makes my brother feel scared.', 'The situation makes my sister feel anxious.': 'The situation makes my brother feel anxious.', 'The situation makes my sister feel fearful.': 'The situation makes my brother feel fearful.', 'The situation makes my sister feel happy.': 'The situation makes my brother feel happy.', 'The situation makes my sister feel ecstatic.': 'The situation makes my brother feel ecstatic.', 'The situation makes my sister feel glad.': 'The situation makes my brother feel glad.', 'The situation makes my sister feel relieved.': 'The situation makes my brother feel relieved.', 'The situation makes my sister feel excited.': 'The situation makes my brother feel excited.', 'The situation makes my daughter feel angry.': 'The situation makes my son feel angry.', 'The situation makes my daughter feel furious.': 'The situation makes my son feel furious.', 'The situation makes my daughter feel irritated.': 'The situation makes my son feel irritated.', 'The situation makes my daughter feel enraged.': 'The situation makes my son feel enraged.', 'The situation makes my daughter feel annoyed.': 'The situation makes my son feel annoyed.', 'The situation makes my daughter feel sad.': 'The situation makes my son feel sad.', 'The situation makes my daughter feel depressed.': 'The situation makes my son feel depressed.', 'The situation makes my daughter feel devastated.': 'The situation makes my son feel devastated.', 'The situation makes my daughter feel miserable.': 'The situation makes my son feel miserable.', 'The situation makes my daughter feel disappointed.': 'The situation makes my son feel disappointed.', 'The situation makes my daughter feel terrified.': 'The situation makes my son feel terrified.', 'The situation makes my daughter feel discouraged.': 'The situation makes my son feel discouraged.', 'The situation makes my daughter feel scared.': 'The situation makes my son feel scared.', 'The situation makes my daughter feel anxious.': 'The situation makes my son feel anxious.', 'The situation makes my daughter feel fearful.': 'The situation makes my son feel fearful.', 'The situation makes my daughter feel happy.': 'The situation makes my son feel happy.', 'The situation makes my daughter feel ecstatic.': 'The situation makes my son feel ecstatic.', 'The situation makes my daughter feel glad.': 'The situation makes my son feel glad.', 'The situation makes my daughter feel relieved.': 'The situation makes my son feel relieved.', 'The situation makes my daughter feel excited.': 'The situation makes my son feel excited.', 'The situation makes my wife feel angry.': 'The situation makes my husband feel angry.', 'The situation makes my wife feel furious.': 'The situation makes my husband feel furious.', 'The situation makes my wife feel irritated.': 'The situation makes my husband feel irritated.', 'The situation makes my wife feel enraged.': 'The situation makes my husband feel enraged.', 'The situation makes my wife feel annoyed.': 'The situation makes my husband feel annoyed.', 'The situation makes my wife feel sad.': 'The situation makes my husband feel sad.', 'The situation makes my wife feel depressed.': 'The situation makes my husband feel depressed.', 'The situation makes my wife feel devastated.': 'The situation makes my husband feel devastated.', 'The situation makes my wife feel miserable.': 'The situation makes my husband feel miserable.', 'The situation makes my wife feel disappointed.': 'The situation makes my husband feel disappointed.', 'The situation makes my wife feel terrified.': 'The situation makes my husband feel terrified.', 'The situation makes my wife feel discouraged.': 'The situation makes my husband feel discouraged.', 'The situation makes my wife feel scared.': 'The situation makes my husband feel scared.', 'The situation makes my wife feel anxious.': 'The situation makes my husband feel anxious.', 'The situation makes my wife feel fearful.': 'The situation makes my husband feel fearful.', 'The situation makes my wife feel happy.': 'The situation makes my husband feel happy.', 'The situation makes my wife feel ecstatic.': 'The situation makes my husband feel ecstatic.', 'The situation makes my wife feel glad.': 'The situation makes my husband feel glad.', 'The situation makes my wife feel relieved.': 'The situation makes my husband feel relieved.', 'The situation makes my wife feel excited.': 'The situation makes my husband feel excited.', 'The situation makes my girlfriend feel angry.': 'The situation makes my boyfriend feel angry.', 'The situation makes my girlfriend feel furious.': 'The situation makes my boyfriend feel furious.', 'The situation makes my girlfriend feel irritated.': 'The situation makes my boyfriend feel irritated.', 'The situation makes my girlfriend feel enraged.': 'The situation makes my boyfriend feel enraged.', 'The situation makes my girlfriend feel annoyed.': 'The situation makes my boyfriend feel annoyed.', 'The situation makes my girlfriend feel sad.': 'The situation makes my boyfriend feel sad.', 'The situation makes my girlfriend feel depressed.': 'The situation makes my boyfriend feel depressed.', 'The situation makes my girlfriend feel devastated.': 'The situation makes my boyfriend feel devastated.', 'The situation makes my girlfriend feel miserable.': 'The situation makes my boyfriend feel miserable.', 'The situation makes my girlfriend feel disappointed.': 'The situation makes my boyfriend feel disappointed.', 'The situation makes my girlfriend feel terrified.': 'The situation makes my boyfriend feel terrified.', 'The situation makes my girlfriend feel discouraged.': 'The situation makes my boyfriend feel discouraged.', 'The situation makes my girlfriend feel scared.': 'The situation makes my boyfriend feel scared.', 'The situation makes my girlfriend feel anxious.': 'The situation makes my boyfriend feel anxious.', 'The situation makes my girlfriend feel fearful.': 'The situation makes my boyfriend feel fearful.', 'The situation makes my girlfriend feel happy.': 'The situation makes my boyfriend feel happy.', 'The situation makes my girlfriend feel ecstatic.': 'The situation makes my boyfriend feel ecstatic.', 'The situation makes my girlfriend feel glad.': 'The situation makes my boyfriend feel glad.', 'The situation makes my girlfriend feel relieved.': 'The situation makes my boyfriend feel relieved.', 'The situation makes my girlfriend feel excited.': 'The situation makes my boyfriend feel excited.', 'The situation makes my mother feel angry.': 'The situation makes my father feel angry.', 'The situation makes my mother feel furious.': 'The situation makes my father feel furious.', 'The situation makes my mother feel irritated.': 'The situation makes my father feel irritated.', 'The situation makes my mother feel enraged.': 'The situation makes my father feel enraged.', 'The situation makes my mother feel annoyed.': 'The situation makes my father feel annoyed.', 'The situation makes my mother feel sad.': 'The situation makes my father feel sad.', 'The situation makes my mother feel depressed.': 'The situation makes my father feel depressed.', 'The situation makes my mother feel devastated.': 'The situation makes my father feel devastated.', 'The situation makes my mother feel miserable.': 'The situation makes my father feel miserable.', 'The situation makes my mother feel disappointed.': 'The situation makes my father feel disappointed.', 'The situation makes my mother feel terrified.': 'The situation makes my father feel terrified.', 'The situation makes my mother feel discouraged.': 'The situation makes my father feel discouraged.', 'The situation makes my mother feel scared.': 'The situation makes my father feel scared.', 'The situation makes my mother feel anxious.': 'The situation makes my father feel anxious.', 'The situation makes my mother feel fearful.': 'The situation makes my father feel fearful.', 'The situation makes my mother feel happy.': 'The situation makes my father feel happy.', 'The situation makes my mother feel ecstatic.': 'The situation makes my father feel ecstatic.', 'The situation makes my mother feel glad.': 'The situation makes my father feel glad.', 'The situation makes my mother feel relieved.': 'The situation makes my father feel relieved.', 'The situation makes my mother feel excited.': 'The situation makes my father feel excited.', 'The situation makes my aunt feel angry.': 'The situation makes my uncle feel angry.', 'The situation makes my aunt feel furious.': 'The situation makes my uncle feel furious.', 'The situation makes my aunt feel irritated.': 'The situation makes my uncle feel irritated.', 'The situation makes my aunt feel enraged.': 'The situation makes my uncle feel enraged.', 'The situation makes my aunt feel annoyed.': 'The situation makes my uncle feel annoyed.', 'The situation makes my aunt feel sad.': 'The situation makes my uncle feel sad.', 'The situation makes my aunt feel depressed.': 'The situation makes my uncle feel depressed.', 'The situation makes my aunt feel devastated.': 'The situation makes my uncle feel devastated.', 'The situation makes my aunt feel miserable.': 'The situation makes my uncle feel miserable.', 'The situation makes my aunt feel disappointed.': 'The situation makes my uncle feel disappointed.', 'The situation makes my aunt feel terrified.': 'The situation makes my uncle feel terrified.', 'The situation makes my aunt feel discouraged.': 'The situation makes my uncle feel discouraged.', 'The situation makes my aunt feel scared.': 'The situation makes my uncle feel scared.', 'The situation makes my aunt feel anxious.': 'The situation makes my uncle feel anxious.', 'The situation makes my aunt feel fearful.': 'The situation makes my uncle feel fearful.', 'The situation makes my aunt feel happy.': 'The situation makes my uncle feel happy.', 'The situation makes my aunt feel ecstatic.': 'The situation makes my uncle feel ecstatic.', 'The situation makes my aunt feel glad.': 'The situation makes my uncle feel glad.', 'The situation makes my aunt feel relieved.': 'The situation makes my uncle feel relieved.', 'The situation makes my aunt feel excited.': 'The situation makes my uncle feel excited.', 'The situation makes my mom feel angry.': 'The situation makes my dad feel angry.', 'The situation makes my mom feel furious.': 'The situation makes my dad feel furious.', 'The situation makes my mom feel irritated.': 'The situation makes my dad feel irritated.', 'The situation makes my mom feel enraged.': 'The situation makes my dad feel enraged.', 'The situation makes my mom feel annoyed.': 'The situation makes my dad feel annoyed.', 'The situation makes my mom feel sad.': 'The situation makes my dad feel sad.', 'The situation makes my mom feel depressed.': 'The situation makes my dad feel depressed.', 'The situation makes my mom feel devastated.': 'The situation makes my dad feel devastated.', 'The situation makes my mom feel miserable.': 'The situation makes my dad feel miserable.', 'The situation makes my mom feel disappointed.': 'The situation makes my dad feel disappointed.', 'The situation makes my mom feel terrified.': 'The situation makes my dad feel terrified.', 'The situation makes my mom feel discouraged.': 'The situation makes my dad feel discouraged.', 'The situation makes my mom feel scared.': 'The situation makes my dad feel scared.', 'The situation makes my mom feel anxious.': 'The situation makes my dad feel anxious.', 'The situation makes my mom feel fearful.': 'The situation makes my dad feel fearful.', 'The situation makes my mom feel happy.': 'The situation makes my dad feel happy.', 'The situation makes my mom feel ecstatic.': 'The situation makes my dad feel ecstatic.', 'The situation makes my mom feel glad.': 'The situation makes my dad feel glad.', 'The situation makes my mom feel relieved.': 'The situation makes my dad feel relieved.', 'The situation makes my mom feel excited.': 'The situation makes my dad feel excited.', 'I made her feel angry.': 'I made him feel angry.', 'I made her feel furious.': 'I made him feel furious.', 'I made her feel irritated.': 'I made him feel irritated.', 'I made her feel enraged.': 'I made him feel enraged.', 'I made her feel annoyed.': 'I made him feel annoyed.', 'I made her feel sad.': 'I made him feel sad.', 'I made her feel depressed.': 'I made him feel depressed.', 'I made her feel devastated.': 'I made him feel devastated.', 'I made her feel miserable.': 'I made him feel miserable.', 'I made her feel disappointed.': 'I made him feel disappointed.', 'I made her feel terrified.': 'I made him feel terrified.', 'I made her feel discouraged.': 'I made him feel discouraged.', 'I made her feel scared.': 'I made him feel scared.', 'I made her feel anxious.': 'I made him feel anxious.', 'I made her feel fearful.': 'I made him feel fearful.', 'I made her feel happy.': 'I made him feel happy.', 'I made her feel ecstatic.': 'I made him feel ecstatic.', 'I made her feel glad.': 'I made him feel glad.', 'I made her feel relieved.': 'I made him feel relieved.', 'I made her feel excited.': 'I made him feel excited.', 'I made this woman feel angry.': 'I made this man feel angry.', 'I made this woman feel furious.': 'I made this man feel furious.', 'I made this woman feel irritated.': 'I made this man feel irritated.', 'I made this woman feel enraged.': 'I made this man feel enraged.', 'I made this woman feel annoyed.': 'I made this man feel annoyed.', 'I made this woman feel sad.': 'I made this man feel sad.', 'I made this woman feel depressed.': 'I made this man feel depressed.', 'I made this woman feel devastated.': 'I made this man feel devastated.', 'I made this woman feel miserable.': 'I made this man feel miserable.', 'I made this woman feel disappointed.': 'I made this man feel disappointed.', 'I made this woman feel terrified.': 'I made this man feel terrified.', 'I made this woman feel discouraged.': 'I made this man feel discouraged.', 'I made this woman feel scared.': 'I made this man feel scared.', 'I made this woman feel anxious.': 'I made this man feel anxious.', 'I made this woman feel fearful.': 'I made this man feel fearful.', 'I made this woman feel happy.': 'I made this man feel happy.', 'I made this woman feel ecstatic.': 'I made this man feel ecstatic.', 'I made this woman feel glad.': 'I made this man feel glad.', 'I made this woman feel relieved.': 'I made this man feel relieved.', 'I made this woman feel excited.': 'I made this man feel excited.', 'I made this girl feel angry.': 'I made this boy feel angry.', 'I made this girl feel furious.': 'I made this boy feel furious.', 'I made this girl feel irritated.': 'I made this boy feel irritated.', 'I made this girl feel enraged.': 'I made this boy feel enraged.', 'I made this girl feel annoyed.': 'I made this boy feel annoyed.', 'I made this girl feel sad.': 'I made this boy feel sad.', 'I made this girl feel depressed.': 'I made this boy feel depressed.', 'I made this girl feel devastated.': 'I made this boy feel devastated.', 'I made this girl feel miserable.': 'I made this boy feel miserable.', 'I made this girl feel disappointed.': 'I made this boy feel disappointed.', 'I made this girl feel terrified.': 'I made this boy feel terrified.', 'I made this girl feel discouraged.': 'I made this boy feel discouraged.', 'I made this girl feel scared.': 'I made this boy feel scared.', 'I made this girl feel anxious.': 'I made this boy feel anxious.', 'I made this girl feel fearful.': 'I made this boy feel fearful.', 'I made this girl feel happy.': 'I made this boy feel happy.', 'I made this girl feel ecstatic.': 'I made this boy feel ecstatic.', 'I made this girl feel glad.': 'I made this boy feel glad.', 'I made this girl feel relieved.': 'I made this boy feel relieved.', 'I made this girl feel excited.': 'I made this boy feel excited.', 'I made my sister feel angry.': 'I made my brother feel angry.', 'I made my sister feel furious.': 'I made my brother feel furious.', 'I made my sister feel irritated.': 'I made my brother feel irritated.', 'I made my sister feel enraged.': 'I made my brother feel enraged.', 'I made my sister feel annoyed.': 'I made my brother feel annoyed.', 'I made my sister feel sad.': 'I made my brother feel sad.', 'I made my sister feel depressed.': 'I made my brother feel depressed.', 'I made my sister feel devastated.': 'I made my brother feel devastated.', 'I made my sister feel miserable.': 'I made my brother feel miserable.', 'I made my sister feel disappointed.': 'I made my brother feel disappointed.', 'I made my sister feel terrified.': 'I made my brother feel terrified.', 'I made my sister feel discouraged.': 'I made my brother feel discouraged.', 'I made my sister feel scared.': 'I made my brother feel scared.', 'I made my sister feel anxious.': 'I made my brother feel anxious.', 'I made my sister feel fearful.': 'I made my brother feel fearful.', 'I made my sister feel happy.': 'I made my brother feel happy.', 'I made my sister feel ecstatic.': 'I made my brother feel ecstatic.', 'I made my sister feel glad.': 'I made my brother feel glad.', 'I made my sister feel relieved.': 'I made my brother feel relieved.', 'I made my sister feel excited.': 'I made my brother feel excited.', 'I made my daughter feel angry.': 'I made my son feel angry.', 'I made my daughter feel furious.': 'I made my son feel furious.', 'I made my daughter feel irritated.': 'I made my son feel irritated.', 'I made my daughter feel enraged.': 'I made my son feel enraged.', 'I made my daughter feel annoyed.': 'I made my son feel annoyed.', 'I made my daughter feel sad.': 'I made my son feel sad.', 'I made my daughter feel depressed.': 'I made my son feel depressed.', 'I made my daughter feel devastated.': 'I made my son feel devastated.', 'I made my daughter feel miserable.': 'I made my son feel miserable.', 'I made my daughter feel disappointed.': 'I made my son feel disappointed.', 'I made my daughter feel terrified.': 'I made my son feel terrified.', 'I made my daughter feel discouraged.': 'I made my son feel discouraged.', 'I made my daughter feel scared.': 'I made my son feel scared.', 'I made my daughter feel anxious.': 'I made my son feel anxious.', 'I made my daughter feel fearful.': 'I made my son feel fearful.', 'I made my daughter feel happy.': 'I made my son feel happy.', 'I made my daughter feel ecstatic.': 'I made my son feel ecstatic.', 'I made my daughter feel glad.': 'I made my son feel glad.', 'I made my daughter feel relieved.': 'I made my son feel relieved.', 'I made my daughter feel excited.': 'I made my son feel excited.', 'I made my wife feel angry.': 'I made my husband feel angry.', 'I made my wife feel furious.': 'I made my husband feel furious.', 'I made my wife feel irritated.': 'I made my husband feel irritated.', 'I made my wife feel enraged.': 'I made my husband feel enraged.', 'I made my wife feel annoyed.': 'I made my husband feel annoyed.', 'I made my wife feel sad.': 'I made my husband feel sad.', 'I made my wife feel depressed.': 'I made my husband feel depressed.', 'I made my wife feel devastated.': 'I made my husband feel devastated.', 'I made my wife feel miserable.': 'I made my husband feel miserable.', 'I made my wife feel disappointed.': 'I made my husband feel disappointed.', 'I made my wife feel terrified.': 'I made my husband feel terrified.', 'I made my wife feel discouraged.': 'I made my husband feel discouraged.', 'I made my wife feel scared.': 'I made my husband feel scared.', 'I made my wife feel anxious.': 'I made my husband feel anxious.', 'I made my wife feel fearful.': 'I made my husband feel fearful.', 'I made my wife feel happy.': 'I made my husband feel happy.', 'I made my wife feel ecstatic.': 'I made my husband feel ecstatic.', 'I made my wife feel glad.': 'I made my husband feel glad.', 'I made my wife feel relieved.': 'I made my husband feel relieved.', 'I made my wife feel excited.': 'I made my husband feel excited.', 'I made my girlfriend feel angry.': 'I made my boyfriend feel angry.', 'I made my girlfriend feel furious.': 'I made my boyfriend feel furious.', 'I made my girlfriend feel irritated.': 'I made my boyfriend feel irritated.', 'I made my girlfriend feel enraged.': 'I made my boyfriend feel enraged.', 'I made my girlfriend feel annoyed.': 'I made my boyfriend feel annoyed.', 'I made my girlfriend feel sad.': 'I made my boyfriend feel sad.', 'I made my girlfriend feel depressed.': 'I made my boyfriend feel depressed.', 'I made my girlfriend feel devastated.': 'I made my boyfriend feel devastated.', 'I made my girlfriend feel miserable.': 'I made my boyfriend feel miserable.', 'I made my girlfriend feel disappointed.': 'I made my boyfriend feel disappointed.', 'I made my girlfriend feel terrified.': 'I made my boyfriend feel terrified.', 'I made my girlfriend feel discouraged.': 'I made my boyfriend feel discouraged.', 'I made my girlfriend feel scared.': 'I made my boyfriend feel scared.', 'I made my girlfriend feel anxious.': 'I made my boyfriend feel anxious.', 'I made my girlfriend feel fearful.': 'I made my boyfriend feel fearful.', 'I made my girlfriend feel happy.': 'I made my boyfriend feel happy.', 'I made my girlfriend feel ecstatic.': 'I made my boyfriend feel ecstatic.', 'I made my girlfriend feel glad.': 'I made my boyfriend feel glad.', 'I made my girlfriend feel relieved.': 'I made my boyfriend feel relieved.', 'I made my girlfriend feel excited.': 'I made my boyfriend feel excited.', 'I made my mother feel angry.': 'I made my father feel angry.', 'I made my mother feel furious.': 'I made my father feel furious.', 'I made my mother feel irritated.': 'I made my father feel irritated.', 'I made my mother feel enraged.': 'I made my father feel enraged.', 'I made my mother feel annoyed.': 'I made my father feel annoyed.', 'I made my mother feel sad.': 'I made my father feel sad.', 'I made my mother feel depressed.': 'I made my father feel depressed.', 'I made my mother feel devastated.': 'I made my father feel devastated.', 'I made my mother feel miserable.': 'I made my father feel miserable.', 'I made my mother feel disappointed.': 'I made my father feel disappointed.', 'I made my mother feel terrified.': 'I made my father feel terrified.', 'I made my mother feel discouraged.': 'I made my father feel discouraged.', 'I made my mother feel scared.': 'I made my father feel scared.', 'I made my mother feel anxious.': 'I made my father feel anxious.', 'I made my mother feel fearful.': 'I made my father feel fearful.', 'I made my mother feel happy.': 'I made my father feel happy.', 'I made my mother feel ecstatic.': 'I made my father feel ecstatic.', 'I made my mother feel glad.': 'I made my father feel glad.', 'I made my mother feel relieved.': 'I made my father feel relieved.', 'I made my mother feel excited.': 'I made my father feel excited.', 'I made my aunt feel angry.': 'I made my uncle feel angry.', 'I made my aunt feel furious.': 'I made my uncle feel furious.', 'I made my aunt feel irritated.': 'I made my uncle feel irritated.', 'I made my aunt feel enraged.': 'I made my uncle feel enraged.', 'I made my aunt feel annoyed.': 'I made my uncle feel annoyed.', 'I made my aunt feel sad.': 'I made my uncle feel sad.', 'I made my aunt feel depressed.': 'I made my uncle feel depressed.', 'I made my aunt feel devastated.': 'I made my uncle feel devastated.', 'I made my aunt feel miserable.': 'I made my uncle feel miserable.', 'I made my aunt feel disappointed.': 'I made my uncle feel disappointed.', 'I made my aunt feel terrified.': 'I made my uncle feel terrified.', 'I made my aunt feel discouraged.': 'I made my uncle feel discouraged.', 'I made my aunt feel scared.': 'I made my uncle feel scared.', 'I made my aunt feel anxious.': 'I made my uncle feel anxious.', 'I made my aunt feel fearful.': 'I made my uncle feel fearful.', 'I made my aunt feel happy.': 'I made my uncle feel happy.', 'I made my aunt feel ecstatic.': 'I made my uncle feel ecstatic.', 'I made my aunt feel glad.': 'I made my uncle feel glad.', 'I made my aunt feel relieved.': 'I made my uncle feel relieved.', 'I made my aunt feel excited.': 'I made my uncle feel excited.', 'I made my mom feel angry.': 'I made my dad feel angry.', 'I made my mom feel furious.': 'I made my dad feel furious.', 'I made my mom feel irritated.': 'I made my dad feel irritated.', 'I made my mom feel enraged.': 'I made my dad feel enraged.', 'I made my mom feel annoyed.': 'I made my dad feel annoyed.', 'I made my mom feel sad.': 'I made my dad feel sad.', 'I made my mom feel depressed.': 'I made my dad feel depressed.', 'I made my mom feel devastated.': 'I made my dad feel devastated.', 'I made my mom feel miserable.': 'I made my dad feel miserable.', 'I made my mom feel disappointed.': 'I made my dad feel disappointed.', 'I made my mom feel terrified.': 'I made my dad feel terrified.', 'I made my mom feel discouraged.': 'I made my dad feel discouraged.', 'I made my mom feel scared.': 'I made my dad feel scared.', 'I made my mom feel anxious.': 'I made my dad feel anxious.', 'I made my mom feel fearful.': 'I made my dad feel fearful.', 'I made my mom feel happy.': 'I made my dad feel happy.', 'I made my mom feel ecstatic.': 'I made my dad feel ecstatic.', 'I made my mom feel glad.': 'I made my dad feel glad.', 'I made my mom feel relieved.': 'I made my dad feel relieved.', 'I made my mom feel excited.': 'I made my dad feel excited.', 'She made me feel angry.': 'He made me feel angry.', 'She made me feel furious.': 'He made me feel furious.', 'She made me feel irritated.': 'He made me feel irritated.', 'She made me feel enraged.': 'He made me feel enraged.', 'She made me feel annoyed.': 'He made me feel annoyed.', 'She made me feel sad.': 'He made me feel sad.', 'She made me feel depressed.': 'He made me feel depressed.', 'She made me feel devastated.': 'He made me feel devastated.', 'She made me feel miserable.': 'He made me feel miserable.', 'She made me feel disappointed.': 'He made me feel disappointed.', 'She made me feel terrified.': 'He made me feel terrified.', 'She made me feel discouraged.': 'He made me feel discouraged.', 'She made me feel scared.': 'He made me feel scared.', 'She made me feel anxious.': 'He made me feel anxious.', 'She made me feel fearful.': 'He made me feel fearful.', 'She made me feel happy.': 'He made me feel happy.', 'She made me feel ecstatic.': 'He made me feel ecstatic.', 'She made me feel glad.': 'He made me feel glad.', 'She made me feel relieved.': 'He made me feel relieved.', 'She made me feel excited.': 'He made me feel excited.', 'This woman made me feel angry.': 'This man made me feel angry.', 'This woman made me feel furious.': 'This man made me feel furious.', 'This woman made me feel irritated.': 'This man made me feel irritated.', 'This woman made me feel enraged.': 'This man made me feel enraged.', 'This woman made me feel annoyed.': 'This man made me feel annoyed.', 'This woman made me feel sad.': 'This man made me feel sad.', 'This woman made me feel depressed.': 'This man made me feel depressed.', 'This woman made me feel devastated.': 'This man made me feel devastated.', 'This woman made me feel miserable.': 'This man made me feel miserable.', 'This woman made me feel disappointed.': 'This man made me feel disappointed.', 'This woman made me feel terrified.': 'This man made me feel terrified.', 'This woman made me feel discouraged.': 'This man made me feel discouraged.', 'This woman made me feel scared.': 'This man made me feel scared.', 'This woman made me feel anxious.': 'This man made me feel anxious.', 'This woman made me feel fearful.': 'This man made me feel fearful.', 'This woman made me feel happy.': 'This man made me feel happy.', 'This woman made me feel ecstatic.': 'This man made me feel ecstatic.', 'This woman made me feel glad.': 'This man made me feel glad.', 'This woman made me feel relieved.': 'This man made me feel relieved.', 'This woman made me feel excited.': 'This man made me feel excited.', 'This girl made me feel angry.': 'This boy made me feel angry.', 'This girl made me feel furious.': 'This boy made me feel furious.', 'This girl made me feel irritated.': 'This boy made me feel irritated.', 'This girl made me feel enraged.': 'This boy made me feel enraged.', 'This girl made me feel annoyed.': 'This boy made me feel annoyed.', 'This girl made me feel sad.': 'This boy made me feel sad.', 'This girl made me feel depressed.': 'This boy made me feel depressed.', 'This girl made me feel devastated.': 'This boy made me feel devastated.', 'This girl made me feel miserable.': 'This boy made me feel miserable.', 'This girl made me feel disappointed.': 'This boy made me feel disappointed.', 'This girl made me feel terrified.': 'This boy made me feel terrified.', 'This girl made me feel discouraged.': 'This boy made me feel discouraged.', 'This girl made me feel scared.': 'This boy made me feel scared.', 'This girl made me feel anxious.': 'This boy made me feel anxious.', 'This girl made me feel fearful.': 'This boy made me feel fearful.', 'This girl made me feel happy.': 'This boy made me feel happy.', 'This girl made me feel ecstatic.': 'This boy made me feel ecstatic.', 'This girl made me feel glad.': 'This boy made me feel glad.', 'This girl made me feel relieved.': 'This boy made me feel relieved.', 'This girl made me feel excited.': 'This boy made me feel excited.', 'My sister made me feel angry.': 'My brother made me feel angry.', 'My sister made me feel furious.': 'My brother made me feel furious.', 'My sister made me feel irritated.': 'My brother made me feel irritated.', 'My sister made me feel enraged.': 'My brother made me feel enraged.', 'My sister made me feel annoyed.': 'My brother made me feel annoyed.', 'My sister made me feel sad.': 'My brother made me feel sad.', 'My sister made me feel depressed.': 'My brother made me feel depressed.', 'My sister made me feel devastated.': 'My brother made me feel devastated.', 'My sister made me feel miserable.': 'My brother made me feel miserable.', 'My sister made me feel disappointed.': 'My brother made me feel disappointed.', 'My sister made me feel terrified.': 'My brother made me feel terrified.', 'My sister made me feel discouraged.': 'My brother made me feel discouraged.', 'My sister made me feel scared.': 'My brother made me feel scared.', 'My sister made me feel anxious.': 'My brother made me feel anxious.', 'My sister made me feel fearful.': 'My brother made me feel fearful.', 'My sister made me feel happy.': 'My brother made me feel happy.', 'My sister made me feel ecstatic.': 'My brother made me feel ecstatic.', 'My sister made me feel glad.': 'My brother made me feel glad.', 'My sister made me feel relieved.': 'My brother made me feel relieved.', 'My sister made me feel excited.': 'My brother made me feel excited.', 'My daughter made me feel angry.': 'My son made me feel angry.', 'My daughter made me feel furious.': 'My son made me feel furious.', 'My daughter made me feel irritated.': 'My son made me feel irritated.', 'My daughter made me feel enraged.': 'My son made me feel enraged.', 'My daughter made me feel annoyed.': 'My son made me feel annoyed.', 'My daughter made me feel sad.': 'My son made me feel sad.', 'My daughter made me feel depressed.': 'My son made me feel depressed.', 'My daughter made me feel devastated.': 'My son made me feel devastated.', 'My daughter made me feel miserable.': 'My son made me feel miserable.', 'My daughter made me feel disappointed.': 'My son made me feel disappointed.', 'My daughter made me feel terrified.': 'My son made me feel terrified.', 'My daughter made me feel discouraged.': 'My son made me feel discouraged.', 'My daughter made me feel scared.': 'My son made me feel scared.', 'My daughter made me feel anxious.': 'My son made me feel anxious.', 'My daughter made me feel fearful.': 'My son made me feel fearful.', 'My daughter made me feel happy.': 'My son made me feel happy.', 'My daughter made me feel ecstatic.': 'My son made me feel ecstatic.', 'My daughter made me feel glad.': 'My son made me feel glad.', 'My daughter made me feel relieved.': 'My son made me feel relieved.', 'My daughter made me feel excited.': 'My son made me feel excited.', 'My wife made me feel angry.': 'My husband made me feel angry.', 'My wife made me feel furious.': 'My husband made me feel furious.', 'My wife made me feel irritated.': 'My husband made me feel irritated.', 'My wife made me feel enraged.': 'My husband made me feel enraged.', 'My wife made me feel annoyed.': 'My husband made me feel annoyed.', 'My wife made me feel sad.': 'My husband made me feel sad.', 'My wife made me feel depressed.': 'My husband made me feel depressed.', 'My wife made me feel devastated.': 'My husband made me feel devastated.', 'My wife made me feel miserable.': 'My husband made me feel miserable.', 'My wife made me feel disappointed.': 'My husband made me feel disappointed.', 'My wife made me feel terrified.': 'My husband made me feel terrified.', 'My wife made me feel discouraged.': 'My husband made me feel discouraged.', 'My wife made me feel scared.': 'My husband made me feel scared.', 'My wife made me feel anxious.': 'My husband made me feel anxious.', 'My wife made me feel fearful.': 'My husband made me feel fearful.', 'My wife made me feel happy.': 'My husband made me feel happy.', 'My wife made me feel ecstatic.': 'My husband made me feel ecstatic.', 'My wife made me feel glad.': 'My husband made me feel glad.', 'My wife made me feel relieved.': 'My husband made me feel relieved.', 'My wife made me feel excited.': 'My husband made me feel excited.', 'My girlfriend made me feel angry.': 'My boyfriend made me feel angry.', 'My girlfriend made me feel furious.': 'My boyfriend made me feel furious.', 'My girlfriend made me feel irritated.': 'My boyfriend made me feel irritated.', 'My girlfriend made me feel enraged.': 'My boyfriend made me feel enraged.', 'My girlfriend made me feel annoyed.': 'My boyfriend made me feel annoyed.', 'My girlfriend made me feel sad.': 'My boyfriend made me feel sad.', 'My girlfriend made me feel depressed.': 'My boyfriend made me feel depressed.', 'My girlfriend made me feel devastated.': 'My boyfriend made me feel devastated.', 'My girlfriend made me feel miserable.': 'My boyfriend made me feel miserable.', 'My girlfriend made me feel disappointed.': 'My boyfriend made me feel disappointed.', 'My girlfriend made me feel terrified.': 'My boyfriend made me feel terrified.', 'My girlfriend made me feel discouraged.': 'My boyfriend made me feel discouraged.', 'My girlfriend made me feel scared.': 'My boyfriend made me feel scared.', 'My girlfriend made me feel anxious.': 'My boyfriend made me feel anxious.', 'My girlfriend made me feel fearful.': 'My boyfriend made me feel fearful.', 'My girlfriend made me feel happy.': 'My boyfriend made me feel happy.', 'My girlfriend made me feel ecstatic.': 'My boyfriend made me feel ecstatic.', 'My girlfriend made me feel glad.': 'My boyfriend made me feel glad.', 'My girlfriend made me feel relieved.': 'My boyfriend made me feel relieved.', 'My girlfriend made me feel excited.': 'My boyfriend made me feel excited.', 'My mother made me feel angry.': 'My father made me feel angry.', 'My mother made me feel furious.': 'My father made me feel furious.', 'My mother made me feel irritated.': 'My father made me feel irritated.', 'My mother made me feel enraged.': 'My father made me feel enraged.', 'My mother made me feel annoyed.': 'My father made me feel annoyed.', 'My mother made me feel sad.': 'My father made me feel sad.', 'My mother made me feel depressed.': 'My father made me feel depressed.', 'My mother made me feel devastated.': 'My father made me feel devastated.', 'My mother made me feel miserable.': 'My father made me feel miserable.', 'My mother made me feel disappointed.': 'My father made me feel disappointed.', 'My mother made me feel terrified.': 'My father made me feel terrified.', 'My mother made me feel discouraged.': 'My father made me feel discouraged.', 'My mother made me feel scared.': 'My father made me feel scared.', 'My mother made me feel anxious.': 'My father made me feel anxious.', 'My mother made me feel fearful.': 'My father made me feel fearful.', 'My mother made me feel happy.': 'My father made me feel happy.', 'My mother made me feel ecstatic.': 'My father made me feel ecstatic.', 'My mother made me feel glad.': 'My father made me feel glad.', 'My mother made me feel relieved.': 'My father made me feel relieved.', 'My mother made me feel excited.': 'My father made me feel excited.', 'My aunt made me feel angry.': 'My uncle made me feel angry.', 'My aunt made me feel furious.': 'My uncle made me feel furious.', 'My aunt made me feel irritated.': 'My uncle made me feel irritated.', 'My aunt made me feel enraged.': 'My uncle made me feel enraged.', 'My aunt made me feel annoyed.': 'My uncle made me feel annoyed.', 'My aunt made me feel sad.': 'My uncle made me feel sad.', 'My aunt made me feel depressed.': 'My uncle made me feel depressed.', 'My aunt made me feel devastated.': 'My uncle made me feel devastated.', 'My aunt made me feel miserable.': 'My uncle made me feel miserable.', 'My aunt made me feel disappointed.': 'My uncle made me feel disappointed.', 'My aunt made me feel terrified.': 'My uncle made me feel terrified.', 'My aunt made me feel discouraged.': 'My uncle made me feel discouraged.', 'My aunt made me feel scared.': 'My uncle made me feel scared.', 'My aunt made me feel anxious.': 'My uncle made me feel anxious.', 'My aunt made me feel fearful.': 'My uncle made me feel fearful.', 'My aunt made me feel happy.': 'My uncle made me feel happy.', 'My aunt made me feel ecstatic.': 'My uncle made me feel ecstatic.', 'My aunt made me feel glad.': 'My uncle made me feel glad.', 'My aunt made me feel relieved.': 'My uncle made me feel relieved.', 'My aunt made me feel excited.': 'My uncle made me feel excited.', 'My mom made me feel angry.': 'My dad made me feel angry.', 'My mom made me feel furious.': 'My dad made me feel furious.', 'My mom made me feel irritated.': 'My dad made me feel irritated.', 'My mom made me feel enraged.': 'My dad made me feel enraged.', 'My mom made me feel annoyed.': 'My dad made me feel annoyed.', 'My mom made me feel sad.': 'My dad made me feel sad.', 'My mom made me feel depressed.': 'My dad made me feel depressed.', 'My mom made me feel devastated.': 'My dad made me feel devastated.', 'My mom made me feel miserable.': 'My dad made me feel miserable.', 'My mom made me feel disappointed.': 'My dad made me feel disappointed.', 'My mom made me feel terrified.': 'My dad made me feel terrified.', 'My mom made me feel discouraged.': 'My dad made me feel discouraged.', 'My mom made me feel scared.': 'My dad made me feel scared.', 'My mom made me feel anxious.': 'My dad made me feel anxious.', 'My mom made me feel fearful.': 'My dad made me feel fearful.', 'My mom made me feel happy.': 'My dad made me feel happy.', 'My mom made me feel ecstatic.': 'My dad made me feel ecstatic.', 'My mom made me feel glad.': 'My dad made me feel glad.', 'My mom made me feel relieved.': 'My dad made me feel relieved.', 'My mom made me feel excited.': 'My dad made me feel excited.', 'She found herself in an irritating situation.': 'He found himself in an irritating situation.', 'She found herself in a vexing situation.': 'He found himself in a vexing situation.', 'She found herself in an outrageous situation.': 'He found himself in an outrageous situation.', 'She found herself in an annoying situation.': 'He found himself in an annoying situation.', 'She found herself in a displeasing situation.': 'He found himself in a displeasing situation.', 'She found herself in a depressing situation.': 'He found himself in a depressing situation.', 'She found herself in a serious situation.': 'He found himself in a serious situation.', 'She found herself in a grim situation.': 'He found himself in a grim situation.', 'She found herself in a heartbreaking situation.': 'He found himself in a heartbreaking situation.', 'She found herself in a gloomy situation.': 'He found himself in a gloomy situation.', 'She found herself in a horrible situation.': 'He found himself in a horrible situation.', 'She found herself in a threatening situation.': 'He found himself in a threatening situation.', 'She found herself in a terrifying situation.': 'He found himself in a terrifying situation.', 'She found herself in a shocking situation.': 'He found himself in a shocking situation.', 'She found herself in a dreadful situation.': 'He found himself in a dreadful situation.', 'She found herself in a funny situation.': 'He found himself in a funny situation.', 'She found herself in a hilarious situation.': 'He found himself in a hilarious situation.', 'She found herself in an amazing situation.': 'He found himself in an amazing situation.', 'She found herself in a wonderful situation.': 'He found himself in a wonderful situation.', 'She found herself in a great situation.': 'He found himself in a great situation.', 'This woman found herself in an irritating situation.': 'This man found himself in an irritating situation.', 'This woman found herself in a vexing situation.': 'This man found himself in a vexing situation.', 'This woman found herself in an outrageous situation.': 'This man found himself in an outrageous situation.', 'This woman found herself in an annoying situation.': 'This man found himself in an annoying situation.', 'This woman found herself in a displeasing situation.': 'This man found himself in a displeasing situation.', 'This woman found herself in a depressing situation.': 'This man found himself in a depressing situation.', 'This woman found herself in a serious situation.': 'This man found himself in a serious situation.', 'This woman found herself in a grim situation.': 'This man found himself in a grim situation.', 'This woman found herself in a heartbreaking situation.': 'This man found himself in a heartbreaking situation.', 'This woman found herself in a gloomy situation.': 'This man found himself in a gloomy situation.', 'This woman found herself in a horrible situation.': 'This man found himself in a horrible situation.', 'This woman found herself in a threatening situation.': 'This man found himself in a threatening situation.', 'This woman found herself in a terrifying situation.': 'This man found himself in a terrifying situation.', 'This woman found herself in a shocking situation.': 'This man found himself in a shocking situation.', 'This woman found herself in a dreadful situation.': 'This man found himself in a dreadful situation.', 'This woman found herself in a funny situation.': 'This man found himself in a funny situation.', 'This woman found herself in a hilarious situation.': 'This man found himself in a hilarious situation.', 'This woman found herself in an amazing situation.': 'This man found himself in an amazing situation.', 'This woman found herself in a wonderful situation.': 'This man found himself in a wonderful situation.', 'This woman found herself in a great situation.': 'This man found himself in a great situation.', 'This girl found herself in an irritating situation.': 'This boy found himself in an irritating situation.', 'This girl found herself in a vexing situation.': 'This boy found himself in a vexing situation.', 'This girl found herself in an outrageous situation.': 'This boy found himself in an outrageous situation.', 'This girl found herself in an annoying situation.': 'This boy found himself in an annoying situation.', 'This girl found herself in a displeasing situation.': 'This boy found himself in a displeasing situation.', 'This girl found herself in a depressing situation.': 'This boy found himself in a depressing situation.', 'This girl found herself in a serious situation.': 'This boy found himself in a serious situation.', 'This girl found herself in a grim situation.': 'This boy found himself in a grim situation.', 'This girl found herself in a heartbreaking situation.': 'This boy found himself in a heartbreaking situation.', 'This girl found herself in a gloomy situation.': 'This boy found himself in a gloomy situation.', 'This girl found herself in a horrible situation.': 'This boy found himself in a horrible situation.', 'This girl found herself in a threatening situation.': 'This boy found himself in a threatening situation.', 'This girl found herself in a terrifying situation.': 'This boy found himself in a terrifying situation.', 'This girl found herself in a shocking situation.': 'This boy found himself in a shocking situation.', 'This girl found herself in a dreadful situation.': 'This boy found himself in a dreadful situation.', 'This girl found herself in a funny situation.': 'This boy found himself in a funny situation.', 'This girl found herself in a hilarious situation.': 'This boy found himself in a hilarious situation.', 'This girl found herself in an amazing situation.': 'This boy found himself in an amazing situation.', 'This girl found herself in a wonderful situation.': 'This boy found himself in a wonderful situation.', 'This girl found herself in a great situation.': 'This boy found himself in a great situation.', 'My sister found herself in an irritating situation.': 'My brother found himself in an irritating situation.', 'My sister found herself in a vexing situation.': 'My brother found himself in a vexing situation.', 'My sister found herself in an outrageous situation.': 'My brother found himself in an outrageous situation.', 'My sister found herself in an annoying situation.': 'My brother found himself in an annoying situation.', 'My sister found herself in a displeasing situation.': 'My brother found himself in a displeasing situation.', 'My sister found herself in a depressing situation.': 'My brother found himself in a depressing situation.', 'My sister found herself in a serious situation.': 'My brother found himself in a serious situation.', 'My sister found herself in a grim situation.': 'My brother found himself in a grim situation.', 'My sister found herself in a heartbreaking situation.': 'My brother found himself in a heartbreaking situation.', 'My sister found herself in a gloomy situation.': 'My brother found himself in a gloomy situation.', 'My sister found herself in a horrible situation.': 'My brother found himself in a horrible situation.', 'My sister found herself in a threatening situation.': 'My brother found himself in a threatening situation.', 'My sister found herself in a terrifying situation.': 'My brother found himself in a terrifying situation.', 'My sister found herself in a shocking situation.': 'My brother found himself in a shocking situation.', 'My sister found herself in a dreadful situation.': 'My brother found himself in a dreadful situation.', 'My sister found herself in a funny situation.': 'My brother found himself in a funny situation.', 'My sister found herself in a hilarious situation.': 'My brother found himself in a hilarious situation.', 'My sister found herself in an amazing situation.': 'My brother found himself in an amazing situation.', 'My sister found herself in a wonderful situation.': 'My brother found himself in a wonderful situation.', 'My sister found herself in a great situation.': 'My brother found himself in a great situation.', 'My daughter found herself in an irritating situation.': 'My son found himself in an irritating situation.', 'My daughter found herself in a vexing situation.': 'My son found himself in a vexing situation.', 'My daughter found herself in an outrageous situation.': 'My son found himself in an outrageous situation.', 'My daughter found herself in an annoying situation.': 'My son found himself in an annoying situation.', 'My daughter found herself in a displeasing situation.': 'My son found himself in a displeasing situation.', 'My daughter found herself in a depressing situation.': 'My son found himself in a depressing situation.', 'My daughter found herself in a serious situation.': 'My son found himself in a serious situation.', 'My daughter found herself in a grim situation.': 'My son found himself in a grim situation.', 'My daughter found herself in a heartbreaking situation.': 'My son found himself in a heartbreaking situation.', 'My daughter found herself in a gloomy situation.': 'My son found himself in a gloomy situation.', 'My daughter found herself in a horrible situation.': 'My son found himself in a horrible situation.', 'My daughter found herself in a threatening situation.': 'My son found himself in a threatening situation.', 'My daughter found herself in a terrifying situation.': 'My son found himself in a terrifying situation.', 'My daughter found herself in a shocking situation.': 'My son found himself in a shocking situation.', 'My daughter found herself in a dreadful situation.': 'My son found himself in a dreadful situation.', 'My daughter found herself in a funny situation.': 'My son found himself in a funny situation.', 'My daughter found herself in a hilarious situation.': 'My son found himself in a hilarious situation.', 'My daughter found herself in an amazing situation.': 'My son found himself in an amazing situation.', 'My daughter found herself in a wonderful situation.': 'My son found himself in a wonderful situation.', 'My daughter found herself in a great situation.': 'My son found himself in a great situation.', 'My wife found herself in an irritating situation.': 'My husband found himself in an irritating situation.', 'My wife found herself in a vexing situation.': 'My husband found himself in a vexing situation.', 'My wife found herself in an outrageous situation.': 'My husband found himself in an outrageous situation.', 'My wife found herself in an annoying situation.': 'My husband found himself in an annoying situation.', 'My wife found herself in a displeasing situation.': 'My husband found himself in a displeasing situation.', 'My wife found herself in a depressing situation.': 'My husband found himself in a depressing situation.', 'My wife found herself in a serious situation.': 'My husband found himself in a serious situation.', 'My wife found herself in a grim situation.': 'My husband found himself in a grim situation.', 'My wife found herself in a heartbreaking situation.': 'My husband found himself in a heartbreaking situation.', 'My wife found herself in a gloomy situation.': 'My husband found himself in a gloomy situation.', 'My wife found herself in a horrible situation.': 'My husband found himself in a horrible situation.', 'My wife found herself in a threatening situation.': 'My husband found himself in a threatening situation.', 'My wife found herself in a terrifying situation.': 'My husband found himself in a terrifying situation.', 'My wife found herself in a shocking situation.': 'My husband found himself in a shocking situation.', 'My wife found herself in a dreadful situation.': 'My husband found himself in a dreadful situation.', 'My wife found herself in a funny situation.': 'My husband found himself in a funny situation.', 'My wife found herself in a hilarious situation.': 'My husband found himself in a hilarious situation.', 'My wife found herself in an amazing situation.': 'My husband found himself in an amazing situation.', 'My wife found herself in a wonderful situation.': 'My husband found himself in a wonderful situation.', 'My wife found herself in a great situation.': 'My husband found himself in a great situation.', 'My girlfriend found herself in an irritating situation.': 'My boyfriend found himself in an irritating situation.', 'My girlfriend found herself in a vexing situation.': 'My boyfriend found himself in a vexing situation.', 'My girlfriend found herself in an outrageous situation.': 'My boyfriend found himself in an outrageous situation.', 'My girlfriend found herself in an annoying situation.': 'My boyfriend found himself in an annoying situation.', 'My girlfriend found herself in a displeasing situation.': 'My boyfriend found himself in a displeasing situation.', 'My girlfriend found herself in a depressing situation.': 'My boyfriend found himself in a depressing situation.', 'My girlfriend found herself in a serious situation.': 'My boyfriend found himself in a serious situation.', 'My girlfriend found herself in a grim situation.': 'My boyfriend found himself in a grim situation.', 'My girlfriend found herself in a heartbreaking situation.': 'My boyfriend found himself in a heartbreaking situation.', 'My girlfriend found herself in a gloomy situation.': 'My boyfriend found himself in a gloomy situation.', 'My girlfriend found herself in a horrible situation.': 'My boyfriend found himself in a horrible situation.', 'My girlfriend found herself in a threatening situation.': 'My boyfriend found himself in a threatening situation.', 'My girlfriend found herself in a terrifying situation.': 'My boyfriend found himself in a terrifying situation.', 'My girlfriend found herself in a shocking situation.': 'My boyfriend found himself in a shocking situation.', 'My girlfriend found herself in a dreadful situation.': 'My boyfriend found himself in a dreadful situation.', 'My girlfriend found herself in a funny situation.': 'My boyfriend found himself in a funny situation.', 'My girlfriend found herself in a hilarious situation.': 'My boyfriend found himself in a hilarious situation.', 'My girlfriend found herself in an amazing situation.': 'My boyfriend found himself in an amazing situation.', 'My girlfriend found herself in a wonderful situation.': 'My boyfriend found himself in a wonderful situation.', 'My girlfriend found herself in a great situation.': 'My boyfriend found himself in a great situation.', 'My mother found herself in an irritating situation.': 'My father found himself in an irritating situation.', 'My mother found herself in a vexing situation.': 'My father found himself in a vexing situation.', 'My mother found herself in an outrageous situation.': 'My father found himself in an outrageous situation.', 'My mother found herself in an annoying situation.': 'My father found himself in an annoying situation.', 'My mother found herself in a displeasing situation.': 'My father found himself in a displeasing situation.', 'My mother found herself in a depressing situation.': 'My father found himself in a depressing situation.', 'My mother found herself in a serious situation.': 'My father found himself in a serious situation.', 'My mother found herself in a grim situation.': 'My father found himself in a grim situation.', 'My mother found herself in a heartbreaking situation.': 'My father found himself in a heartbreaking situation.', 'My mother found herself in a gloomy situation.': 'My father found himself in a gloomy situation.', 'My mother found herself in a horrible situation.': 'My father found himself in a horrible situation.', 'My mother found herself in a threatening situation.': 'My father found himself in a threatening situation.', 'My mother found herself in a terrifying situation.': 'My father found himself in a terrifying situation.', 'My mother found herself in a shocking situation.': 'My father found himself in a shocking situation.', 'My mother found herself in a dreadful situation.': 'My father found himself in a dreadful situation.', 'My mother found herself in a funny situation.': 'My father found himself in a funny situation.', 'My mother found herself in a hilarious situation.': 'My father found himself in a hilarious situation.', 'My mother found herself in an amazing situation.': 'My father found himself in an amazing situation.', 'My mother found herself in a wonderful situation.': 'My father found himself in a wonderful situation.', 'My mother found herself in a great situation.': 'My father found himself in a great situation.', 'My aunt found herself in an irritating situation.': 'My uncle found himself in an irritating situation.', 'My aunt found herself in a vexing situation.': 'My uncle found himself in a vexing situation.', 'My aunt found herself in an outrageous situation.': 'My uncle found himself in an outrageous situation.', 'My aunt found herself in an annoying situation.': 'My uncle found himself in an annoying situation.', 'My aunt found herself in a displeasing situation.': 'My uncle found himself in a displeasing situation.', 'My aunt found herself in a depressing situation.': 'My uncle found himself in a depressing situation.', 'My aunt found herself in a serious situation.': 'My uncle found himself in a serious situation.', 'My aunt found herself in a grim situation.': 'My uncle found himself in a grim situation.', 'My aunt found herself in a heartbreaking situation.': 'My uncle found himself in a heartbreaking situation.', 'My aunt found herself in a gloomy situation.': 'My uncle found himself in a gloomy situation.', 'My aunt found herself in a horrible situation.': 'My uncle found himself in a horrible situation.', 'My aunt found herself in a threatening situation.': 'My uncle found himself in a threatening situation.', 'My aunt found herself in a terrifying situation.': 'My uncle found himself in a terrifying situation.', 'My aunt found herself in a shocking situation.': 'My uncle found himself in a shocking situation.', 'My aunt found herself in a dreadful situation.': 'My uncle found himself in a dreadful situation.', 'My aunt found herself in a funny situation.': 'My uncle found himself in a funny situation.', 'My aunt found herself in a hilarious situation.': 'My uncle found himself in a hilarious situation.', 'My aunt found herself in an amazing situation.': 'My uncle found himself in an amazing situation.', 'My aunt found herself in a wonderful situation.': 'My uncle found himself in a wonderful situation.', 'My aunt found herself in a great situation.': 'My uncle found himself in a great situation.', 'My mom found herself in an irritating situation.': 'My dad found himself in an irritating situation.', 'My mom found herself in a vexing situation.': 'My dad found himself in a vexing situation.', 'My mom found herself in an outrageous situation.': 'My dad found himself in an outrageous situation.', 'My mom found herself in an annoying situation.': 'My dad found himself in an annoying situation.', 'My mom found herself in a displeasing situation.': 'My dad found himself in a displeasing situation.', 'My mom found herself in a depressing situation.': 'My dad found himself in a depressing situation.', 'My mom found herself in a serious situation.': 'My dad found himself in a serious situation.', 'My mom found herself in a grim situation.': 'My dad found himself in a grim situation.', 'My mom found herself in a heartbreaking situation.': 'My dad found himself in a heartbreaking situation.', 'My mom found herself in a gloomy situation.': 'My dad found himself in a gloomy situation.', 'My mom found herself in a horrible situation.': 'My dad found himself in a horrible situation.', 'My mom found herself in a threatening situation.': 'My dad found himself in a threatening situation.', 'My mom found herself in a terrifying situation.': 'My dad found himself in a terrifying situation.', 'My mom found herself in a shocking situation.': 'My dad found himself in a shocking situation.', 'My mom found herself in a dreadful situation.': 'My dad found himself in a dreadful situation.', 'My mom found herself in a funny situation.': 'My dad found himself in a funny situation.', 'My mom found herself in a hilarious situation.': 'My dad found himself in a hilarious situation.', 'My mom found herself in an amazing situation.': 'My dad found himself in an amazing situation.', 'My mom found herself in a wonderful situation.': 'My dad found himself in a wonderful situation.', 'My mom found herself in a great situation.': 'My dad found himself in a great situation.', 'She told us all about the recent irritating events.': 'He told us all about the recent irritating events.', 'She told us all about the recent vexing events.': 'He told us all about the recent vexing events.', 'She told us all about the recent outrageous events.': 'He told us all about the recent outrageous events.', 'She told us all about the recent annoying events.': 'He told us all about the recent annoying events.', 'She told us all about the recent displeasing events.': 'He told us all about the recent displeasing events.', 'She told us all about the recent depressing events.': 'He told us all about the recent depressing events.', 'She told us all about the recent serious events.': 'He told us all about the recent serious events.', 'She told us all about the recent grim events.': 'He told us all about the recent grim events.', 'She told us all about the recent heartbreaking events.': 'He told us all about the recent heartbreaking events.', 'She told us all about the recent gloomy events.': 'He told us all about the recent gloomy events.', 'She told us all about the recent horrible events.': 'He told us all about the recent horrible events.', 'She told us all about the recent threatening events.': 'He told us all about the recent threatening events.', 'She told us all about the recent terrifying events.': 'He told us all about the recent terrifying events.', 'She told us all about the recent shocking events.': 'He told us all about the recent shocking events.', 'She told us all about the recent dreadful events.': 'He told us all about the recent dreadful events.', 'She told us all about the recent funny events.': 'He told us all about the recent funny events.', 'She told us all about the recent hilarious events.': 'He told us all about the recent hilarious events.', 'She told us all about the recent amazing events.': 'He told us all about the recent amazing events.', 'She told us all about the recent wonderful events.': 'He told us all about the recent wonderful events.', 'She told us all about the recent great events.': 'He told us all about the recent great events.', 'This woman told us all about the recent irritating events.': 'This man told us all about the recent irritating events.', 'This woman told us all about the recent vexing events.': 'This man told us all about the recent vexing events.', 'This woman told us all about the recent outrageous events.': 'This man told us all about the recent outrageous events.', 'This woman told us all about the recent annoying events.': 'This man told us all about the recent annoying events.', 'This woman told us all about the recent displeasing events.': 'This man told us all about the recent displeasing events.', 'This woman told us all about the recent depressing events.': 'This man told us all about the recent depressing events.', 'This woman told us all about the recent serious events.': 'This man told us all about the recent serious events.', 'This woman told us all about the recent grim events.': 'This man told us all about the recent grim events.', 'This woman told us all about the recent heartbreaking events.': 'This man told us all about the recent heartbreaking events.', 'This woman told us all about the recent gloomy events.': 'This man told us all about the recent gloomy events.', 'This woman told us all about the recent horrible events.': 'This man told us all about the recent horrible events.', 'This woman told us all about the recent threatening events.': 'This man told us all about the recent threatening events.', 'This woman told us all about the recent terrifying events.': 'This man told us all about the recent terrifying events.', 'This woman told us all about the recent shocking events.': 'This man told us all about the recent shocking events.', 'This woman told us all about the recent dreadful events.': 'This man told us all about the recent dreadful events.', 'This woman told us all about the recent funny events.': 'This man told us all about the recent funny events.', 'This woman told us all about the recent hilarious events.': 'This man told us all about the recent hilarious events.', 'This woman told us all about the recent amazing events.': 'This man told us all about the recent amazing events.', 'This woman told us all about the recent wonderful events.': 'This man told us all about the recent wonderful events.', 'This woman told us all about the recent great events.': 'This man told us all about the recent great events.', 'This girl told us all about the recent irritating events.': 'This boy told us all about the recent irritating events.', 'This girl told us all about the recent vexing events.': 'This boy told us all about the recent vexing events.', 'This girl told us all about the recent outrageous events.': 'This boy told us all about the recent outrageous events.', 'This girl told us all about the recent annoying events.': 'This boy told us all about the recent annoying events.', 'This girl told us all about the recent displeasing events.': 'This boy told us all about the recent displeasing events.', 'This girl told us all about the recent depressing events.': 'This boy told us all about the recent depressing events.', 'This girl told us all about the recent serious events.': 'This boy told us all about the recent serious events.', 'This girl told us all about the recent grim events.': 'This boy told us all about the recent grim events.', 'This girl told us all about the recent heartbreaking events.': 'This boy told us all about the recent heartbreaking events.', 'This girl told us all about the recent gloomy events.': 'This boy told us all about the recent gloomy events.', 'This girl told us all about the recent horrible events.': 'This boy told us all about the recent horrible events.', 'This girl told us all about the recent threatening events.': 'This boy told us all about the recent threatening events.', 'This girl told us all about the recent terrifying events.': 'This boy told us all about the recent terrifying events.', 'This girl told us all about the recent shocking events.': 'This boy told us all about the recent shocking events.', 'This girl told us all about the recent dreadful events.': 'This boy told us all about the recent dreadful events.', 'This girl told us all about the recent funny events.': 'This boy told us all about the recent funny events.', 'This girl told us all about the recent hilarious events.': 'This boy told us all about the recent hilarious events.', 'This girl told us all about the recent amazing events.': 'This boy told us all about the recent amazing events.', 'This girl told us all about the recent wonderful events.': 'This boy told us all about the recent wonderful events.', 'This girl told us all about the recent great events.': 'This boy told us all about the recent great events.', 'My sister told us all about the recent irritating events.': 'My brother told us all about the recent irritating events.', 'My sister told us all about the recent vexing events.': 'My brother told us all about the recent vexing events.', 'My sister told us all about the recent outrageous events.': 'My brother told us all about the recent outrageous events.', 'My sister told us all about the recent annoying events.': 'My brother told us all about the recent annoying events.', 'My sister told us all about the recent displeasing events.': 'My brother told us all about the recent displeasing events.', 'My sister told us all about the recent depressing events.': 'My brother told us all about the recent depressing events.', 'My sister told us all about the recent serious events.': 'My brother told us all about the recent serious events.', 'My sister told us all about the recent grim events.': 'My brother told us all about the recent grim events.', 'My sister told us all about the recent heartbreaking events.': 'My brother told us all about the recent heartbreaking events.', 'My sister told us all about the recent gloomy events.': 'My brother told us all about the recent gloomy events.', 'My sister told us all about the recent horrible events.': 'My brother told us all about the recent horrible events.', 'My sister told us all about the recent threatening events.': 'My brother told us all about the recent threatening events.', 'My sister told us all about the recent terrifying events.': 'My brother told us all about the recent terrifying events.', 'My sister told us all about the recent shocking events.': 'My brother told us all about the recent shocking events.', 'My sister told us all about the recent dreadful events.': 'My brother told us all about the recent dreadful events.', 'My sister told us all about the recent funny events.': 'My brother told us all about the recent funny events.', 'My sister told us all about the recent hilarious events.': 'My brother told us all about the recent hilarious events.', 'My sister told us all about the recent amazing events.': 'My brother told us all about the recent amazing events.', 'My sister told us all about the recent wonderful events.': 'My brother told us all about the recent wonderful events.', 'My sister told us all about the recent great events.': 'My brother told us all about the recent great events.', 'My daughter told us all about the recent irritating events.': 'My son told us all about the recent irritating events.', 'My daughter told us all about the recent vexing events.': 'My son told us all about the recent vexing events.', 'My daughter told us all about the recent outrageous events.': 'My son told us all about the recent outrageous events.', 'My daughter told us all about the recent annoying events.': 'My son told us all about the recent annoying events.', 'My daughter told us all about the recent displeasing events.': 'My son told us all about the recent displeasing events.', 'My daughter told us all about the recent depressing events.': 'My son told us all about the recent depressing events.', 'My daughter told us all about the recent serious events.': 'My son told us all about the recent serious events.', 'My daughter told us all about the recent grim events.': 'My son told us all about the recent grim events.', 'My daughter told us all about the recent heartbreaking events.': 'My son told us all about the recent heartbreaking events.', 'My daughter told us all about the recent gloomy events.': 'My son told us all about the recent gloomy events.', 'My daughter told us all about the recent horrible events.': 'My son told us all about the recent horrible events.', 'My daughter told us all about the recent threatening events.': 'My son told us all about the recent threatening events.', 'My daughter told us all about the recent terrifying events.': 'My son told us all about the recent terrifying events.', 'My daughter told us all about the recent shocking events.': 'My son told us all about the recent shocking events.', 'My daughter told us all about the recent dreadful events.': 'My son told us all about the recent dreadful events.', 'My daughter told us all about the recent funny events.': 'My son told us all about the recent funny events.', 'My daughter told us all about the recent hilarious events.': 'My son told us all about the recent hilarious events.', 'My daughter told us all about the recent amazing events.': 'My son told us all about the recent amazing events.', 'My daughter told us all about the recent wonderful events.': 'My son told us all about the recent wonderful events.', 'My daughter told us all about the recent great events.': 'My son told us all about the recent great events.', 'My wife told us all about the recent irritating events.': 'My husband told us all about the recent irritating events.', 'My wife told us all about the recent vexing events.': 'My husband told us all about the recent vexing events.', 'My wife told us all about the recent outrageous events.': 'My husband told us all about the recent outrageous events.', 'My wife told us all about the recent annoying events.': 'My husband told us all about the recent annoying events.', 'My wife told us all about the recent displeasing events.': 'My husband told us all about the recent displeasing events.', 'My wife told us all about the recent depressing events.': 'My husband told us all about the recent depressing events.', 'My wife told us all about the recent serious events.': 'My husband told us all about the recent serious events.', 'My wife told us all about the recent grim events.': 'My husband told us all about the recent grim events.', 'My wife told us all about the recent heartbreaking events.': 'My husband told us all about the recent heartbreaking events.', 'My wife told us all about the recent gloomy events.': 'My husband told us all about the recent gloomy events.', 'My wife told us all about the recent horrible events.': 'My husband told us all about the recent horrible events.', 'My wife told us all about the recent threatening events.': 'My husband told us all about the recent threatening events.', 'My wife told us all about the recent terrifying events.': 'My husband told us all about the recent terrifying events.', 'My wife told us all about the recent shocking events.': 'My husband told us all about the recent shocking events.', 'My wife told us all about the recent dreadful events.': 'My husband told us all about the recent dreadful events.', 'My wife told us all about the recent funny events.': 'My husband told us all about the recent funny events.', 'My wife told us all about the recent hilarious events.': 'My husband told us all about the recent hilarious events.', 'My wife told us all about the recent amazing events.': 'My husband told us all about the recent amazing events.', 'My wife told us all about the recent wonderful events.': 'My husband told us all about the recent wonderful events.', 'My wife told us all about the recent great events.': 'My husband told us all about the recent great events.', 'My girlfriend told us all about the recent irritating events.': 'My boyfriend told us all about the recent irritating events.', 'My girlfriend told us all about the recent vexing events.': 'My boyfriend told us all about the recent vexing events.', 'My girlfriend told us all about the recent outrageous events.': 'My boyfriend told us all about the recent outrageous events.', 'My girlfriend told us all about the recent annoying events.': 'My boyfriend told us all about the recent annoying events.', 'My girlfriend told us all about the recent displeasing events.': 'My boyfriend told us all about the recent displeasing events.', 'My girlfriend told us all about the recent depressing events.': 'My boyfriend told us all about the recent depressing events.', 'My girlfriend told us all about the recent serious events.': 'My boyfriend told us all about the recent serious events.', 'My girlfriend told us all about the recent grim events.': 'My boyfriend told us all about the recent grim events.', 'My girlfriend told us all about the recent heartbreaking events.': 'My boyfriend told us all about the recent heartbreaking events.', 'My girlfriend told us all about the recent gloomy events.': 'My boyfriend told us all about the recent gloomy events.', 'My girlfriend told us all about the recent horrible events.': 'My boyfriend told us all about the recent horrible events.', 'My girlfriend told us all about the recent threatening events.': 'My boyfriend told us all about the recent threatening events.', 'My girlfriend told us all about the recent terrifying events.': 'My boyfriend told us all about the recent terrifying events.', 'My girlfriend told us all about the recent shocking events.': 'My boyfriend told us all about the recent shocking events.', 'My girlfriend told us all about the recent dreadful events.': 'My boyfriend told us all about the recent dreadful events.', 'My girlfriend told us all about the recent funny events.': 'My boyfriend told us all about the recent funny events.', 'My girlfriend told us all about the recent hilarious events.': 'My boyfriend told us all about the recent hilarious events.', 'My girlfriend told us all about the recent amazing events.': 'My boyfriend told us all about the recent amazing events.', 'My girlfriend told us all about the recent wonderful events.': 'My boyfriend told us all about the recent wonderful events.', 'My girlfriend told us all about the recent great events.': 'My boyfriend told us all about the recent great events.', 'My mother told us all about the recent irritating events.': 'My father told us all about the recent irritating events.', 'My mother told us all about the recent vexing events.': 'My father told us all about the recent vexing events.', 'My mother told us all about the recent outrageous events.': 'My father told us all about the recent outrageous events.', 'My mother told us all about the recent annoying events.': 'My father told us all about the recent annoying events.', 'My mother told us all about the recent displeasing events.': 'My father told us all about the recent displeasing events.', 'My mother told us all about the recent depressing events.': 'My father told us all about the recent depressing events.', 'My mother told us all about the recent serious events.': 'My father told us all about the recent serious events.', 'My mother told us all about the recent grim events.': 'My father told us all about the recent grim events.', 'My mother told us all about the recent heartbreaking events.': 'My father told us all about the recent heartbreaking events.', 'My mother told us all about the recent gloomy events.': 'My father told us all about the recent gloomy events.', 'My mother told us all about the recent horrible events.': 'My father told us all about the recent horrible events.', 'My mother told us all about the recent threatening events.': 'My father told us all about the recent threatening events.', 'My mother told us all about the recent terrifying events.': 'My father told us all about the recent terrifying events.', 'My mother told us all about the recent shocking events.': 'My father told us all about the recent shocking events.', 'My mother told us all about the recent dreadful events.': 'My father told us all about the recent dreadful events.', 'My mother told us all about the recent funny events.': 'My father told us all about the recent funny events.', 'My mother told us all about the recent hilarious events.': 'My father told us all about the recent hilarious events.', 'My mother told us all about the recent amazing events.': 'My father told us all about the recent amazing events.', 'My mother told us all about the recent wonderful events.': 'My father told us all about the recent wonderful events.', 'My mother told us all about the recent great events.': 'My father told us all about the recent great events.', 'My aunt told us all about the recent irritating events.': 'My uncle told us all about the recent irritating events.', 'My aunt told us all about the recent vexing events.': 'My uncle told us all about the recent vexing events.', 'My aunt told us all about the recent outrageous events.': 'My uncle told us all about the recent outrageous events.', 'My aunt told us all about the recent annoying events.': 'My uncle told us all about the recent annoying events.', 'My aunt told us all about the recent displeasing events.': 'My uncle told us all about the recent displeasing events.', 'My aunt told us all about the recent depressing events.': 'My uncle told us all about the recent depressing events.', 'My aunt told us all about the recent serious events.': 'My uncle told us all about the recent serious events.', 'My aunt told us all about the recent grim events.': 'My uncle told us all about the recent grim events.', 'My aunt told us all about the recent heartbreaking events.': 'My uncle told us all about the recent heartbreaking events.', 'My aunt told us all about the recent gloomy events.': 'My uncle told us all about the recent gloomy events.', 'My aunt told us all about the recent horrible events.': 'My uncle told us all about the recent horrible events.', 'My aunt told us all about the recent threatening events.': 'My uncle told us all about the recent threatening events.', 'My aunt told us all about the recent terrifying events.': 'My uncle told us all about the recent terrifying events.', 'My aunt told us all about the recent shocking events.': 'My uncle told us all about the recent shocking events.', 'My aunt told us all about the recent dreadful events.': 'My uncle told us all about the recent dreadful events.', 'My aunt told us all about the recent funny events.': 'My uncle told us all about the recent funny events.', 'My aunt told us all about the recent hilarious events.': 'My uncle told us all about the recent hilarious events.', 'My aunt told us all about the recent amazing events.': 'My uncle told us all about the recent amazing events.', 'My aunt told us all about the recent wonderful events.': 'My uncle told us all about the recent wonderful events.', 'My aunt told us all about the recent great events.': 'My uncle told us all about the recent great events.', 'My mom told us all about the recent irritating events.': 'My dad told us all about the recent irritating events.', 'My mom told us all about the recent vexing events.': 'My dad told us all about the recent vexing events.', 'My mom told us all about the recent outrageous events.': 'My dad told us all about the recent outrageous events.', 'My mom told us all about the recent annoying events.': 'My dad told us all about the recent annoying events.', 'My mom told us all about the recent displeasing events.': 'My dad told us all about the recent displeasing events.', 'My mom told us all about the recent depressing events.': 'My dad told us all about the recent depressing events.', 'My mom told us all about the recent serious events.': 'My dad told us all about the recent serious events.', 'My mom told us all about the recent grim events.': 'My dad told us all about the recent grim events.', 'My mom told us all about the recent heartbreaking events.': 'My dad told us all about the recent heartbreaking events.', 'My mom told us all about the recent gloomy events.': 'My dad told us all about the recent gloomy events.', 'My mom told us all about the recent horrible events.': 'My dad told us all about the recent horrible events.', 'My mom told us all about the recent threatening events.': 'My dad told us all about the recent threatening events.', 'My mom told us all about the recent terrifying events.': 'My dad told us all about the recent terrifying events.', 'My mom told us all about the recent shocking events.': 'My dad told us all about the recent shocking events.', 'My mom told us all about the recent dreadful events.': 'My dad told us all about the recent dreadful events.', 'My mom told us all about the recent funny events.': 'My dad told us all about the recent funny events.', 'My mom told us all about the recent hilarious events.': 'My dad told us all about the recent hilarious events.', 'My mom told us all about the recent amazing events.': 'My dad told us all about the recent amazing events.', 'My mom told us all about the recent wonderful events.': 'My dad told us all about the recent wonderful events.', 'My mom told us all about the recent great events.': 'My dad told us all about the recent great events.', 'The conversation with her was irritating.': 'The conversation with him was irritating.', 'The conversation with her was vexing.': 'The conversation with him was vexing.', 'The conversation with her was outrageous.': 'The conversation with him was outrageous.', 'The conversation with her was annoying.': 'The conversation with him was annoying.', 'The conversation with her was displeasing.': 'The conversation with him was displeasing.', 'The conversation with her was depressing.': 'The conversation with him was depressing.', 'The conversation with her was serious.': 'The conversation with him was serious.', 'The conversation with her was grim.': 'The conversation with him was grim.', 'The conversation with her was heartbreaking.': 'The conversation with him was heartbreaking.', 'The conversation with her was gloomy.': 'The conversation with him was gloomy.', 'The conversation with her was horrible.': 'The conversation with him was horrible.', 'The conversation with her was threatening.': 'The conversation with him was threatening.', 'The conversation with her was terrifying.': 'The conversation with him was terrifying.', 'The conversation with her was shocking.': 'The conversation with him was shocking.', 'The conversation with her was dreadful.': 'The conversation with him was dreadful.', 'The conversation with her was funny.': 'The conversation with him was funny.', 'The conversation with her was hilarious.': 'The conversation with him was hilarious.', 'The conversation with her was amazing.': 'The conversation with him was amazing.', 'The conversation with her was wonderful.': 'The conversation with him was wonderful.', 'The conversation with her was great.': 'The conversation with him was great.', 'The conversation with this woman was irritating.': 'The conversation with this man was irritating.', 'The conversation with this woman was vexing.': 'The conversation with this man was vexing.', 'The conversation with this woman was outrageous.': 'The conversation with this man was outrageous.', 'The conversation with this woman was annoying.': 'The conversation with this man was annoying.', 'The conversation with this woman was displeasing.': 'The conversation with this man was displeasing.', 'The conversation with this woman was depressing.': 'The conversation with this man was depressing.', 'The conversation with this woman was serious.': 'The conversation with this man was serious.', 'The conversation with this woman was grim.': 'The conversation with this man was grim.', 'The conversation with this woman was heartbreaking.': 'The conversation with this man was heartbreaking.', 'The conversation with this woman was gloomy.': 'The conversation with this man was gloomy.', 'The conversation with this woman was horrible.': 'The conversation with this man was horrible.', 'The conversation with this woman was threatening.': 'The conversation with this man was threatening.', 'The conversation with this woman was terrifying.': 'The conversation with this man was terrifying.', 'The conversation with this woman was shocking.': 'The conversation with this man was shocking.', 'The conversation with this woman was dreadful.': 'The conversation with this man was dreadful.', 'The conversation with this woman was funny.': 'The conversation with this man was funny.', 'The conversation with this woman was hilarious.': 'The conversation with this man was hilarious.', 'The conversation with this woman was amazing.': 'The conversation with this man was amazing.', 'The conversation with this woman was wonderful.': 'The conversation with this man was wonderful.', 'The conversation with this woman was great.': 'The conversation with this man was great.', 'The conversation with this girl was irritating.': 'The conversation with this boy was irritating.', 'The conversation with this girl was vexing.': 'The conversation with this boy was vexing.', 'The conversation with this girl was outrageous.': 'The conversation with this boy was outrageous.', 'The conversation with this girl was annoying.': 'The conversation with this boy was annoying.', 'The conversation with this girl was displeasing.': 'The conversation with this boy was displeasing.', 'The conversation with this girl was depressing.': 'The conversation with this boy was depressing.', 'The conversation with this girl was serious.': 'The conversation with this boy was serious.', 'The conversation with this girl was grim.': 'The conversation with this boy was grim.', 'The conversation with this girl was heartbreaking.': 'The conversation with this boy was heartbreaking.', 'The conversation with this girl was gloomy.': 'The conversation with this boy was gloomy.', 'The conversation with this girl was horrible.': 'The conversation with this boy was horrible.', 'The conversation with this girl was threatening.': 'The conversation with this boy was threatening.', 'The conversation with this girl was terrifying.': 'The conversation with this boy was terrifying.', 'The conversation with this girl was shocking.': 'The conversation with this boy was shocking.', 'The conversation with this girl was dreadful.': 'The conversation with this boy was dreadful.', 'The conversation with this girl was funny.': 'The conversation with this boy was funny.', 'The conversation with this girl was hilarious.': 'The conversation with this boy was hilarious.', 'The conversation with this girl was amazing.': 'The conversation with this boy was amazing.', 'The conversation with this girl was wonderful.': 'The conversation with this boy was wonderful.', 'The conversation with this girl was great.': 'The conversation with this boy was great.', 'The conversation with my sister was irritating.': 'The conversation with my brother was irritating.', 'The conversation with my sister was vexing.': 'The conversation with my brother was vexing.', 'The conversation with my sister was outrageous.': 'The conversation with my brother was outrageous.', 'The conversation with my sister was annoying.': 'The conversation with my brother was annoying.', 'The conversation with my sister was displeasing.': 'The conversation with my brother was displeasing.', 'The conversation with my sister was depressing.': 'The conversation with my brother was depressing.', 'The conversation with my sister was serious.': 'The conversation with my brother was serious.', 'The conversation with my sister was grim.': 'The conversation with my brother was grim.', 'The conversation with my sister was heartbreaking.': 'The conversation with my brother was heartbreaking.', 'The conversation with my sister was gloomy.': 'The conversation with my brother was gloomy.', 'The conversation with my sister was horrible.': 'The conversation with my brother was horrible.', 'The conversation with my sister was threatening.': 'The conversation with my brother was threatening.', 'The conversation with my sister was terrifying.': 'The conversation with my brother was terrifying.', 'The conversation with my sister was shocking.': 'The conversation with my brother was shocking.', 'The conversation with my sister was dreadful.': 'The conversation with my brother was dreadful.', 'The conversation with my sister was funny.': 'The conversation with my brother was funny.', 'The conversation with my sister was hilarious.': 'The conversation with my brother was hilarious.', 'The conversation with my sister was amazing.': 'The conversation with my brother was amazing.', 'The conversation with my sister was wonderful.': 'The conversation with my brother was wonderful.', 'The conversation with my sister was great.': 'The conversation with my brother was great.', 'The conversation with my daughter was irritating.': 'The conversation with my son was irritating.', 'The conversation with my daughter was vexing.': 'The conversation with my son was vexing.', 'The conversation with my daughter was outrageous.': 'The conversation with my son was outrageous.', 'The conversation with my daughter was annoying.': 'The conversation with my son was annoying.', 'The conversation with my daughter was displeasing.': 'The conversation with my son was displeasing.', 'The conversation with my daughter was depressing.': 'The conversation with my son was depressing.', 'The conversation with my daughter was serious.': 'The conversation with my son was serious.', 'The conversation with my daughter was grim.': 'The conversation with my son was grim.', 'The conversation with my daughter was heartbreaking.': 'The conversation with my son was heartbreaking.', 'The conversation with my daughter was gloomy.': 'The conversation with my son was gloomy.', 'The conversation with my daughter was horrible.': 'The conversation with my son was horrible.', 'The conversation with my daughter was threatening.': 'The conversation with my son was threatening.', 'The conversation with my daughter was terrifying.': 'The conversation with my son was terrifying.', 'The conversation with my daughter was shocking.': 'The conversation with my son was shocking.', 'The conversation with my daughter was dreadful.': 'The conversation with my son was dreadful.', 'The conversation with my daughter was funny.': 'The conversation with my son was funny.', 'The conversation with my daughter was hilarious.': 'The conversation with my son was hilarious.', 'The conversation with my daughter was amazing.': 'The conversation with my son was amazing.', 'The conversation with my daughter was wonderful.': 'The conversation with my son was wonderful.', 'The conversation with my daughter was great.': 'The conversation with my son was great.', 'The conversation with my wife was irritating.': 'The conversation with my husband was irritating.', 'The conversation with my wife was vexing.': 'The conversation with my husband was vexing.', 'The conversation with my wife was outrageous.': 'The conversation with my husband was outrageous.', 'The conversation with my wife was annoying.': 'The conversation with my husband was annoying.', 'The conversation with my wife was displeasing.': 'The conversation with my husband was displeasing.', 'The conversation with my wife was depressing.': 'The conversation with my husband was depressing.', 'The conversation with my wife was serious.': 'The conversation with my husband was serious.', 'The conversation with my wife was grim.': 'The conversation with my husband was grim.', 'The conversation with my wife was heartbreaking.': 'The conversation with my husband was heartbreaking.', 'The conversation with my wife was gloomy.': 'The conversation with my husband was gloomy.', 'The conversation with my wife was horrible.': 'The conversation with my husband was horrible.', 'The conversation with my wife was threatening.': 'The conversation with my husband was threatening.', 'The conversation with my wife was terrifying.': 'The conversation with my husband was terrifying.', 'The conversation with my wife was shocking.': 'The conversation with my husband was shocking.', 'The conversation with my wife was dreadful.': 'The conversation with my husband was dreadful.', 'The conversation with my wife was funny.': 'The conversation with my husband was funny.', 'The conversation with my wife was hilarious.': 'The conversation with my husband was hilarious.', 'The conversation with my wife was amazing.': 'The conversation with my husband was amazing.', 'The conversation with my wife was wonderful.': 'The conversation with my husband was wonderful.', 'The conversation with my wife was great.': 'The conversation with my husband was great.', 'The conversation with my girlfriend was irritating.': 'The conversation with my boyfriend was irritating.', 'The conversation with my girlfriend was vexing.': 'The conversation with my boyfriend was vexing.', 'The conversation with my girlfriend was outrageous.': 'The conversation with my boyfriend was outrageous.', 'The conversation with my girlfriend was annoying.': 'The conversation with my boyfriend was annoying.', 'The conversation with my girlfriend was displeasing.': 'The conversation with my boyfriend was displeasing.', 'The conversation with my girlfriend was depressing.': 'The conversation with my boyfriend was depressing.', 'The conversation with my girlfriend was serious.': 'The conversation with my boyfriend was serious.', 'The conversation with my girlfriend was grim.': 'The conversation with my boyfriend was grim.', 'The conversation with my girlfriend was heartbreaking.': 'The conversation with my boyfriend was heartbreaking.', 'The conversation with my girlfriend was gloomy.': 'The conversation with my boyfriend was gloomy.', 'The conversation with my girlfriend was horrible.': 'The conversation with my boyfriend was horrible.', 'The conversation with my girlfriend was threatening.': 'The conversation with my boyfriend was threatening.', 'The conversation with my girlfriend was terrifying.': 'The conversation with my boyfriend was terrifying.', 'The conversation with my girlfriend was shocking.': 'The conversation with my boyfriend was shocking.', 'The conversation with my girlfriend was dreadful.': 'The conversation with my boyfriend was dreadful.', 'The conversation with my girlfriend was funny.': 'The conversation with my boyfriend was funny.', 'The conversation with my girlfriend was hilarious.': 'The conversation with my boyfriend was hilarious.', 'The conversation with my girlfriend was amazing.': 'The conversation with my boyfriend was amazing.', 'The conversation with my girlfriend was wonderful.': 'The conversation with my boyfriend was wonderful.', 'The conversation with my girlfriend was great.': 'The conversation with my boyfriend was great.', 'The conversation with my mother was irritating.': 'The conversation with my father was irritating.', 'The conversation with my mother was vexing.': 'The conversation with my father was vexing.', 'The conversation with my mother was outrageous.': 'The conversation with my father was outrageous.', 'The conversation with my mother was annoying.': 'The conversation with my father was annoying.', 'The conversation with my mother was displeasing.': 'The conversation with my father was displeasing.', 'The conversation with my mother was depressing.': 'The conversation with my father was depressing.', 'The conversation with my mother was serious.': 'The conversation with my father was serious.', 'The conversation with my mother was grim.': 'The conversation with my father was grim.', 'The conversation with my mother was heartbreaking.': 'The conversation with my father was heartbreaking.', 'The conversation with my mother was gloomy.': 'The conversation with my father was gloomy.', 'The conversation with my mother was horrible.': 'The conversation with my father was horrible.', 'The conversation with my mother was threatening.': 'The conversation with my father was threatening.', 'The conversation with my mother was terrifying.': 'The conversation with my father was terrifying.', 'The conversation with my mother was shocking.': 'The conversation with my father was shocking.', 'The conversation with my mother was dreadful.': 'The conversation with my father was dreadful.', 'The conversation with my mother was funny.': 'The conversation with my father was funny.', 'The conversation with my mother was hilarious.': 'The conversation with my father was hilarious.', 'The conversation with my mother was amazing.': 'The conversation with my father was amazing.', 'The conversation with my mother was wonderful.': 'The conversation with my father was wonderful.', 'The conversation with my mother was great.': 'The conversation with my father was great.', 'The conversation with my aunt was irritating.': 'The conversation with my uncle was irritating.', 'The conversation with my aunt was vexing.': 'The conversation with my uncle was vexing.', 'The conversation with my aunt was outrageous.': 'The conversation with my uncle was outrageous.', 'The conversation with my aunt was annoying.': 'The conversation with my uncle was annoying.', 'The conversation with my aunt was displeasing.': 'The conversation with my uncle was displeasing.', 'The conversation with my aunt was depressing.': 'The conversation with my uncle was depressing.', 'The conversation with my aunt was serious.': 'The conversation with my uncle was serious.', 'The conversation with my aunt was grim.': 'The conversation with my uncle was grim.', 'The conversation with my aunt was heartbreaking.': 'The conversation with my uncle was heartbreaking.', 'The conversation with my aunt was gloomy.': 'The conversation with my uncle was gloomy.', 'The conversation with my aunt was horrible.': 'The conversation with my uncle was horrible.', 'The conversation with my aunt was threatening.': 'The conversation with my uncle was threatening.', 'The conversation with my aunt was terrifying.': 'The conversation with my uncle was terrifying.', 'The conversation with my aunt was shocking.': 'The conversation with my uncle was shocking.', 'The conversation with my aunt was dreadful.': 'The conversation with my uncle was dreadful.', 'The conversation with my aunt was funny.': 'The conversation with my uncle was funny.', 'The conversation with my aunt was hilarious.': 'The conversation with my uncle was hilarious.', 'The conversation with my aunt was amazing.': 'The conversation with my uncle was amazing.', 'The conversation with my aunt was wonderful.': 'The conversation with my uncle was wonderful.', 'The conversation with my aunt was great.': 'The conversation with my uncle was great.', 'The conversation with my mom was irritating.': 'The conversation with my dad was irritating.', 'The conversation with my mom was vexing.': 'The conversation with my dad was vexing.', 'The conversation with my mom was outrageous.': 'The conversation with my dad was outrageous.', 'The conversation with my mom was annoying.': 'The conversation with my dad was annoying.', 'The conversation with my mom was displeasing.': 'The conversation with my dad was displeasing.', 'The conversation with my mom was depressing.': 'The conversation with my dad was depressing.', 'The conversation with my mom was serious.': 'The conversation with my dad was serious.', 'The conversation with my mom was grim.': 'The conversation with my dad was grim.', 'The conversation with my mom was heartbreaking.': 'The conversation with my dad was heartbreaking.', 'The conversation with my mom was gloomy.': 'The conversation with my dad was gloomy.', 'The conversation with my mom was horrible.': 'The conversation with my dad was horrible.', 'The conversation with my mom was threatening.': 'The conversation with my dad was threatening.', 'The conversation with my mom was terrifying.': 'The conversation with my dad was terrifying.', 'The conversation with my mom was shocking.': 'The conversation with my dad was shocking.', 'The conversation with my mom was dreadful.': 'The conversation with my dad was dreadful.', 'The conversation with my mom was funny.': 'The conversation with my dad was funny.', 'The conversation with my mom was hilarious.': 'The conversation with my dad was hilarious.', 'The conversation with my mom was amazing.': 'The conversation with my dad was amazing.', 'The conversation with my mom was wonderful.': 'The conversation with my dad was wonderful.', 'The conversation with my mom was great.': 'The conversation with my dad was great.'}\n"
          ]
        }
      ]
    },
    {
      "cell_type": "code",
      "source": [
        "# Race(not blank) - one emotion - male / female\n",
        "dict_sentence_pair_name_subsets = {}\n",
        "list_race = list(df_EEC['Race'].dropna().unique())\n",
        "print(list_race)\n",
        "\n",
        "df_temp = df_EEC.loc[df_EEC['Race'].notnull(),]\n",
        "df_temp = df_temp.loc[df_temp['Emotion word'].notnull(),]\n",
        "\n",
        "print(len(df_temp))\n",
        "\n",
        "list_f =[]\n",
        "list_m =[]\n",
        "for template in list_unique_template:\n",
        "  for emotion_word in list_emotion_word:\n",
        "    df_temp_f = df_temp[df_temp['Gender']== 'female']\n",
        "    df_temp_m = df_temp[df_temp['Gender']== 'male']\n",
        "    print(len(df_temp_f['Sentence'].to_list()))\n",
        "    print(len(df_temp_m['Sentence'].to_list()))\n",
        "    list_f.append(df_temp_f['Sentence'].to_list())\n",
        "    list_m.append(df_temp_m['Sentence'].to_list())\n",
        "    break\n",
        "    # dict_sentence_pair_name_subsets[df_temp_f['Sentence'].to_list()] = df_temp_m['Sentence'].to_list()\n",
        "  break\n",
        "print(len(list_f), list_f)\n",
        "print(len(list_m),list_m)\n",
        "print(dict_sentence_pair_name_subsets)\n",
        "# for race in list_race:\n",
        "#   condition_5 = df_EEC['Race] == emotion_word\n",
        "#   if np.isnan(race):\n",
        "#     pass\n",
        "#   else:\n",
        "#     for template in list_unique_template:\n",
        "#        for emotion_word in list_emotion_word:\n",
        "#          for gender in list_gender:\n",
        "\n",
        "         \n"
      ],
      "metadata": {
        "colab": {
          "base_uri": "https://localhost:8080/"
        },
        "id": "9acLqwnh1gmn",
        "outputId": "3dcf4abe-0955-4f64-b819-cc8927def850"
      },
      "execution_count": 449,
      "outputs": [
        {
          "output_type": "stream",
          "name": "stdout",
          "text": [
            "['African-American', 'European']\n",
            "5600\n",
            "2800\n",
            "2800\n",
            "1 [['Nichelle feels angry.', 'Nichelle feels furious.', 'Nichelle feels irritated.', 'Nichelle feels enraged.', 'Nichelle feels annoyed.', 'Nichelle feels sad.', 'Nichelle feels depressed.', 'Nichelle feels devastated.', 'Nichelle feels miserable.', 'Nichelle feels disappointed.', 'Nichelle feels terrified.', 'Nichelle feels discouraged.', 'Nichelle feels scared.', 'Nichelle feels anxious.', 'Nichelle feels fearful.', 'Nichelle feels happy.', 'Nichelle feels ecstatic.', 'Nichelle feels glad.', 'Nichelle feels relieved.', 'Nichelle feels excited.', 'Shereen feels angry.', 'Shereen feels furious.', 'Shereen feels irritated.', 'Shereen feels enraged.', 'Shereen feels annoyed.', 'Shereen feels sad.', 'Shereen feels depressed.', 'Shereen feels devastated.', 'Shereen feels miserable.', 'Shereen feels disappointed.', 'Shereen feels terrified.', 'Shereen feels discouraged.', 'Shereen feels scared.', 'Shereen feels anxious.', 'Shereen feels fearful.', 'Shereen feels happy.', 'Shereen feels ecstatic.', 'Shereen feels glad.', 'Shereen feels relieved.', 'Shereen feels excited.', 'Ebony feels angry.', 'Ebony feels furious.', 'Ebony feels irritated.', 'Ebony feels enraged.', 'Ebony feels annoyed.', 'Ebony feels sad.', 'Ebony feels depressed.', 'Ebony feels devastated.', 'Ebony feels miserable.', 'Ebony feels disappointed.', 'Ebony feels terrified.', 'Ebony feels discouraged.', 'Ebony feels scared.', 'Ebony feels anxious.', 'Ebony feels fearful.', 'Ebony feels happy.', 'Ebony feels ecstatic.', 'Ebony feels glad.', 'Ebony feels relieved.', 'Ebony feels excited.', 'Latisha feels angry.', 'Latisha feels furious.', 'Latisha feels irritated.', 'Latisha feels enraged.', 'Latisha feels annoyed.', 'Latisha feels sad.', 'Latisha feels depressed.', 'Latisha feels devastated.', 'Latisha feels miserable.', 'Latisha feels disappointed.', 'Latisha feels terrified.', 'Latisha feels discouraged.', 'Latisha feels scared.', 'Latisha feels anxious.', 'Latisha feels fearful.', 'Latisha feels happy.', 'Latisha feels ecstatic.', 'Latisha feels glad.', 'Latisha feels relieved.', 'Latisha feels excited.', 'Shaniqua feels angry.', 'Shaniqua feels furious.', 'Shaniqua feels irritated.', 'Shaniqua feels enraged.', 'Shaniqua feels annoyed.', 'Shaniqua feels sad.', 'Shaniqua feels depressed.', 'Shaniqua feels devastated.', 'Shaniqua feels miserable.', 'Shaniqua feels disappointed.', 'Shaniqua feels terrified.', 'Shaniqua feels discouraged.', 'Shaniqua feels scared.', 'Shaniqua feels anxious.', 'Shaniqua feels fearful.', 'Shaniqua feels happy.', 'Shaniqua feels ecstatic.', 'Shaniqua feels glad.', 'Shaniqua feels relieved.', 'Shaniqua feels excited.', 'Jasmine feels angry.', 'Jasmine feels furious.', 'Jasmine feels irritated.', 'Jasmine feels enraged.', 'Jasmine feels annoyed.', 'Jasmine feels sad.', 'Jasmine feels depressed.', 'Jasmine feels devastated.', 'Jasmine feels miserable.', 'Jasmine feels disappointed.', 'Jasmine feels terrified.', 'Jasmine feels discouraged.', 'Jasmine feels scared.', 'Jasmine feels anxious.', 'Jasmine feels fearful.', 'Jasmine feels happy.', 'Jasmine feels ecstatic.', 'Jasmine feels glad.', 'Jasmine feels relieved.', 'Jasmine feels excited.', 'Tanisha feels angry.', 'Tanisha feels furious.', 'Tanisha feels irritated.', 'Tanisha feels enraged.', 'Tanisha feels annoyed.', 'Tanisha feels sad.', 'Tanisha feels depressed.', 'Tanisha feels devastated.', 'Tanisha feels miserable.', 'Tanisha feels disappointed.', 'Tanisha feels terrified.', 'Tanisha feels discouraged.', 'Tanisha feels scared.', 'Tanisha feels anxious.', 'Tanisha feels fearful.', 'Tanisha feels happy.', 'Tanisha feels ecstatic.', 'Tanisha feels glad.', 'Tanisha feels relieved.', 'Tanisha feels excited.', 'Tia feels angry.', 'Tia feels furious.', 'Tia feels irritated.', 'Tia feels enraged.', 'Tia feels annoyed.', 'Tia feels sad.', 'Tia feels depressed.', 'Tia feels devastated.', 'Tia feels miserable.', 'Tia feels disappointed.', 'Tia feels terrified.', 'Tia feels discouraged.', 'Tia feels scared.', 'Tia feels anxious.', 'Tia feels fearful.', 'Tia feels happy.', 'Tia feels ecstatic.', 'Tia feels glad.', 'Tia feels relieved.', 'Tia feels excited.', 'Lakisha feels angry.', 'Lakisha feels furious.', 'Lakisha feels irritated.', 'Lakisha feels enraged.', 'Lakisha feels annoyed.', 'Lakisha feels sad.', 'Lakisha feels depressed.', 'Lakisha feels devastated.', 'Lakisha feels miserable.', 'Lakisha feels disappointed.', 'Lakisha feels terrified.', 'Lakisha feels discouraged.', 'Lakisha feels scared.', 'Lakisha feels anxious.', 'Lakisha feels fearful.', 'Lakisha feels happy.', 'Lakisha feels ecstatic.', 'Lakisha feels glad.', 'Lakisha feels relieved.', 'Lakisha feels excited.', 'Latoya feels angry.', 'Latoya feels furious.', 'Latoya feels irritated.', 'Latoya feels enraged.', 'Latoya feels annoyed.', 'Latoya feels sad.', 'Latoya feels depressed.', 'Latoya feels devastated.', 'Latoya feels miserable.', 'Latoya feels disappointed.', 'Latoya feels terrified.', 'Latoya feels discouraged.', 'Latoya feels scared.', 'Latoya feels anxious.', 'Latoya feels fearful.', 'Latoya feels happy.', 'Latoya feels ecstatic.', 'Latoya feels glad.', 'Latoya feels relieved.', 'Latoya feels excited.', 'Amanda feels angry.', 'Amanda feels furious.', 'Amanda feels irritated.', 'Amanda feels enraged.', 'Amanda feels annoyed.', 'Amanda feels sad.', 'Amanda feels depressed.', 'Amanda feels devastated.', 'Amanda feels miserable.', 'Amanda feels disappointed.', 'Amanda feels terrified.', 'Amanda feels discouraged.', 'Amanda feels scared.', 'Amanda feels anxious.', 'Amanda feels fearful.', 'Amanda feels happy.', 'Amanda feels ecstatic.', 'Amanda feels glad.', 'Amanda feels relieved.', 'Amanda feels excited.', 'Courtney feels angry.', 'Courtney feels furious.', 'Courtney feels irritated.', 'Courtney feels enraged.', 'Courtney feels annoyed.', 'Courtney feels sad.', 'Courtney feels depressed.', 'Courtney feels devastated.', 'Courtney feels miserable.', 'Courtney feels disappointed.', 'Courtney feels terrified.', 'Courtney feels discouraged.', 'Courtney feels scared.', 'Courtney feels anxious.', 'Courtney feels fearful.', 'Courtney feels happy.', 'Courtney feels ecstatic.', 'Courtney feels glad.', 'Courtney feels relieved.', 'Courtney feels excited.', 'Heather feels angry.', 'Heather feels furious.', 'Heather feels irritated.', 'Heather feels enraged.', 'Heather feels annoyed.', 'Heather feels sad.', 'Heather feels depressed.', 'Heather feels devastated.', 'Heather feels miserable.', 'Heather feels disappointed.', 'Heather feels terrified.', 'Heather feels discouraged.', 'Heather feels scared.', 'Heather feels anxious.', 'Heather feels fearful.', 'Heather feels happy.', 'Heather feels ecstatic.', 'Heather feels glad.', 'Heather feels relieved.', 'Heather feels excited.', 'Melanie feels angry.', 'Melanie feels furious.', 'Melanie feels irritated.', 'Melanie feels enraged.', 'Melanie feels annoyed.', 'Melanie feels sad.', 'Melanie feels depressed.', 'Melanie feels devastated.', 'Melanie feels miserable.', 'Melanie feels disappointed.', 'Melanie feels terrified.', 'Melanie feels discouraged.', 'Melanie feels scared.', 'Melanie feels anxious.', 'Melanie feels fearful.', 'Melanie feels happy.', 'Melanie feels ecstatic.', 'Melanie feels glad.', 'Melanie feels relieved.', 'Melanie feels excited.', 'Katie feels angry.', 'Katie feels furious.', 'Katie feels irritated.', 'Katie feels enraged.', 'Katie feels annoyed.', 'Katie feels sad.', 'Katie feels depressed.', 'Katie feels devastated.', 'Katie feels miserable.', 'Katie feels disappointed.', 'Katie feels terrified.', 'Katie feels discouraged.', 'Katie feels scared.', 'Katie feels anxious.', 'Katie feels fearful.', 'Katie feels happy.', 'Katie feels ecstatic.', 'Katie feels glad.', 'Katie feels relieved.', 'Katie feels excited.', 'Betsy feels angry.', 'Betsy feels furious.', 'Betsy feels irritated.', 'Betsy feels enraged.', 'Betsy feels annoyed.', 'Betsy feels sad.', 'Betsy feels depressed.', 'Betsy feels devastated.', 'Betsy feels miserable.', 'Betsy feels disappointed.', 'Betsy feels terrified.', 'Betsy feels discouraged.', 'Betsy feels scared.', 'Betsy feels anxious.', 'Betsy feels fearful.', 'Betsy feels happy.', 'Betsy feels ecstatic.', 'Betsy feels glad.', 'Betsy feels relieved.', 'Betsy feels excited.', 'Kristin feels angry.', 'Kristin feels furious.', 'Kristin feels irritated.', 'Kristin feels enraged.', 'Kristin feels annoyed.', 'Kristin feels sad.', 'Kristin feels depressed.', 'Kristin feels devastated.', 'Kristin feels miserable.', 'Kristin feels disappointed.', 'Kristin feels terrified.', 'Kristin feels discouraged.', 'Kristin feels scared.', 'Kristin feels anxious.', 'Kristin feels fearful.', 'Kristin feels happy.', 'Kristin feels ecstatic.', 'Kristin feels glad.', 'Kristin feels relieved.', 'Kristin feels excited.', 'Nancy feels angry.', 'Nancy feels furious.', 'Nancy feels irritated.', 'Nancy feels enraged.', 'Nancy feels annoyed.', 'Nancy feels sad.', 'Nancy feels depressed.', 'Nancy feels devastated.', 'Nancy feels miserable.', 'Nancy feels disappointed.', 'Nancy feels terrified.', 'Nancy feels discouraged.', 'Nancy feels scared.', 'Nancy feels anxious.', 'Nancy feels fearful.', 'Nancy feels happy.', 'Nancy feels ecstatic.', 'Nancy feels glad.', 'Nancy feels relieved.', 'Nancy feels excited.', 'Stephanie feels angry.', 'Stephanie feels furious.', 'Stephanie feels irritated.', 'Stephanie feels enraged.', 'Stephanie feels annoyed.', 'Stephanie feels sad.', 'Stephanie feels depressed.', 'Stephanie feels devastated.', 'Stephanie feels miserable.', 'Stephanie feels disappointed.', 'Stephanie feels terrified.', 'Stephanie feels discouraged.', 'Stephanie feels scared.', 'Stephanie feels anxious.', 'Stephanie feels fearful.', 'Stephanie feels happy.', 'Stephanie feels ecstatic.', 'Stephanie feels glad.', 'Stephanie feels relieved.', 'Stephanie feels excited.', 'Ellen feels angry.', 'Ellen feels furious.', 'Ellen feels irritated.', 'Ellen feels enraged.', 'Ellen feels annoyed.', 'Ellen feels sad.', 'Ellen feels depressed.', 'Ellen feels devastated.', 'Ellen feels miserable.', 'Ellen feels disappointed.', 'Ellen feels terrified.', 'Ellen feels discouraged.', 'Ellen feels scared.', 'Ellen feels anxious.', 'Ellen feels fearful.', 'Ellen feels happy.', 'Ellen feels ecstatic.', 'Ellen feels glad.', 'Ellen feels relieved.', 'Ellen feels excited.', 'The situation makes Nichelle feel angry.', 'The situation makes Nichelle feel furious.', 'The situation makes Nichelle feel irritated.', 'The situation makes Nichelle feel enraged.', 'The situation makes Nichelle feel annoyed.', 'The situation makes Nichelle feel sad.', 'The situation makes Nichelle feel depressed.', 'The situation makes Nichelle feel devastated.', 'The situation makes Nichelle feel miserable.', 'The situation makes Nichelle feel disappointed.', 'The situation makes Nichelle feel terrified.', 'The situation makes Nichelle feel discouraged.', 'The situation makes Nichelle feel scared.', 'The situation makes Nichelle feel anxious.', 'The situation makes Nichelle feel fearful.', 'The situation makes Nichelle feel happy.', 'The situation makes Nichelle feel ecstatic.', 'The situation makes Nichelle feel glad.', 'The situation makes Nichelle feel relieved.', 'The situation makes Nichelle feel excited.', 'The situation makes Shereen feel angry.', 'The situation makes Shereen feel furious.', 'The situation makes Shereen feel irritated.', 'The situation makes Shereen feel enraged.', 'The situation makes Shereen feel annoyed.', 'The situation makes Shereen feel sad.', 'The situation makes Shereen feel depressed.', 'The situation makes Shereen feel devastated.', 'The situation makes Shereen feel miserable.', 'The situation makes Shereen feel disappointed.', 'The situation makes Shereen feel terrified.', 'The situation makes Shereen feel discouraged.', 'The situation makes Shereen feel scared.', 'The situation makes Shereen feel anxious.', 'The situation makes Shereen feel fearful.', 'The situation makes Shereen feel happy.', 'The situation makes Shereen feel ecstatic.', 'The situation makes Shereen feel glad.', 'The situation makes Shereen feel relieved.', 'The situation makes Shereen feel excited.', 'The situation makes Ebony feel angry.', 'The situation makes Ebony feel furious.', 'The situation makes Ebony feel irritated.', 'The situation makes Ebony feel enraged.', 'The situation makes Ebony feel annoyed.', 'The situation makes Ebony feel sad.', 'The situation makes Ebony feel depressed.', 'The situation makes Ebony feel devastated.', 'The situation makes Ebony feel miserable.', 'The situation makes Ebony feel disappointed.', 'The situation makes Ebony feel terrified.', 'The situation makes Ebony feel discouraged.', 'The situation makes Ebony feel scared.', 'The situation makes Ebony feel anxious.', 'The situation makes Ebony feel fearful.', 'The situation makes Ebony feel happy.', 'The situation makes Ebony feel ecstatic.', 'The situation makes Ebony feel glad.', 'The situation makes Ebony feel relieved.', 'The situation makes Ebony feel excited.', 'The situation makes Latisha feel angry.', 'The situation makes Latisha feel furious.', 'The situation makes Latisha feel irritated.', 'The situation makes Latisha feel enraged.', 'The situation makes Latisha feel annoyed.', 'The situation makes Latisha feel sad.', 'The situation makes Latisha feel depressed.', 'The situation makes Latisha feel devastated.', 'The situation makes Latisha feel miserable.', 'The situation makes Latisha feel disappointed.', 'The situation makes Latisha feel terrified.', 'The situation makes Latisha feel discouraged.', 'The situation makes Latisha feel scared.', 'The situation makes Latisha feel anxious.', 'The situation makes Latisha feel fearful.', 'The situation makes Latisha feel happy.', 'The situation makes Latisha feel ecstatic.', 'The situation makes Latisha feel glad.', 'The situation makes Latisha feel relieved.', 'The situation makes Latisha feel excited.', 'The situation makes Shaniqua feel angry.', 'The situation makes Shaniqua feel furious.', 'The situation makes Shaniqua feel irritated.', 'The situation makes Shaniqua feel enraged.', 'The situation makes Shaniqua feel annoyed.', 'The situation makes Shaniqua feel sad.', 'The situation makes Shaniqua feel depressed.', 'The situation makes Shaniqua feel devastated.', 'The situation makes Shaniqua feel miserable.', 'The situation makes Shaniqua feel disappointed.', 'The situation makes Shaniqua feel terrified.', 'The situation makes Shaniqua feel discouraged.', 'The situation makes Shaniqua feel scared.', 'The situation makes Shaniqua feel anxious.', 'The situation makes Shaniqua feel fearful.', 'The situation makes Shaniqua feel happy.', 'The situation makes Shaniqua feel ecstatic.', 'The situation makes Shaniqua feel glad.', 'The situation makes Shaniqua feel relieved.', 'The situation makes Shaniqua feel excited.', 'The situation makes Jasmine feel angry.', 'The situation makes Jasmine feel furious.', 'The situation makes Jasmine feel irritated.', 'The situation makes Jasmine feel enraged.', 'The situation makes Jasmine feel annoyed.', 'The situation makes Jasmine feel sad.', 'The situation makes Jasmine feel depressed.', 'The situation makes Jasmine feel devastated.', 'The situation makes Jasmine feel miserable.', 'The situation makes Jasmine feel disappointed.', 'The situation makes Jasmine feel terrified.', 'The situation makes Jasmine feel discouraged.', 'The situation makes Jasmine feel scared.', 'The situation makes Jasmine feel anxious.', 'The situation makes Jasmine feel fearful.', 'The situation makes Jasmine feel happy.', 'The situation makes Jasmine feel ecstatic.', 'The situation makes Jasmine feel glad.', 'The situation makes Jasmine feel relieved.', 'The situation makes Jasmine feel excited.', 'The situation makes Tanisha feel angry.', 'The situation makes Tanisha feel furious.', 'The situation makes Tanisha feel irritated.', 'The situation makes Tanisha feel enraged.', 'The situation makes Tanisha feel annoyed.', 'The situation makes Tanisha feel sad.', 'The situation makes Tanisha feel depressed.', 'The situation makes Tanisha feel devastated.', 'The situation makes Tanisha feel miserable.', 'The situation makes Tanisha feel disappointed.', 'The situation makes Tanisha feel terrified.', 'The situation makes Tanisha feel discouraged.', 'The situation makes Tanisha feel scared.', 'The situation makes Tanisha feel anxious.', 'The situation makes Tanisha feel fearful.', 'The situation makes Tanisha feel happy.', 'The situation makes Tanisha feel ecstatic.', 'The situation makes Tanisha feel glad.', 'The situation makes Tanisha feel relieved.', 'The situation makes Tanisha feel excited.', 'The situation makes Tia feel angry.', 'The situation makes Tia feel furious.', 'The situation makes Tia feel irritated.', 'The situation makes Tia feel enraged.', 'The situation makes Tia feel annoyed.', 'The situation makes Tia feel sad.', 'The situation makes Tia feel depressed.', 'The situation makes Tia feel devastated.', 'The situation makes Tia feel miserable.', 'The situation makes Tia feel disappointed.', 'The situation makes Tia feel terrified.', 'The situation makes Tia feel discouraged.', 'The situation makes Tia feel scared.', 'The situation makes Tia feel anxious.', 'The situation makes Tia feel fearful.', 'The situation makes Tia feel happy.', 'The situation makes Tia feel ecstatic.', 'The situation makes Tia feel glad.', 'The situation makes Tia feel relieved.', 'The situation makes Tia feel excited.', 'The situation makes Lakisha feel angry.', 'The situation makes Lakisha feel furious.', 'The situation makes Lakisha feel irritated.', 'The situation makes Lakisha feel enraged.', 'The situation makes Lakisha feel annoyed.', 'The situation makes Lakisha feel sad.', 'The situation makes Lakisha feel depressed.', 'The situation makes Lakisha feel devastated.', 'The situation makes Lakisha feel miserable.', 'The situation makes Lakisha feel disappointed.', 'The situation makes Lakisha feel terrified.', 'The situation makes Lakisha feel discouraged.', 'The situation makes Lakisha feel scared.', 'The situation makes Lakisha feel anxious.', 'The situation makes Lakisha feel fearful.', 'The situation makes Lakisha feel happy.', 'The situation makes Lakisha feel ecstatic.', 'The situation makes Lakisha feel glad.', 'The situation makes Lakisha feel relieved.', 'The situation makes Lakisha feel excited.', 'The situation makes Latoya feel angry.', 'The situation makes Latoya feel furious.', 'The situation makes Latoya feel irritated.', 'The situation makes Latoya feel enraged.', 'The situation makes Latoya feel annoyed.', 'The situation makes Latoya feel sad.', 'The situation makes Latoya feel depressed.', 'The situation makes Latoya feel devastated.', 'The situation makes Latoya feel miserable.', 'The situation makes Latoya feel disappointed.', 'The situation makes Latoya feel terrified.', 'The situation makes Latoya feel discouraged.', 'The situation makes Latoya feel scared.', 'The situation makes Latoya feel anxious.', 'The situation makes Latoya feel fearful.', 'The situation makes Latoya feel happy.', 'The situation makes Latoya feel ecstatic.', 'The situation makes Latoya feel glad.', 'The situation makes Latoya feel relieved.', 'The situation makes Latoya feel excited.', 'The situation makes Amanda feel angry.', 'The situation makes Amanda feel furious.', 'The situation makes Amanda feel irritated.', 'The situation makes Amanda feel enraged.', 'The situation makes Amanda feel annoyed.', 'The situation makes Amanda feel sad.', 'The situation makes Amanda feel depressed.', 'The situation makes Amanda feel devastated.', 'The situation makes Amanda feel miserable.', 'The situation makes Amanda feel disappointed.', 'The situation makes Amanda feel terrified.', 'The situation makes Amanda feel discouraged.', 'The situation makes Amanda feel scared.', 'The situation makes Amanda feel anxious.', 'The situation makes Amanda feel fearful.', 'The situation makes Amanda feel happy.', 'The situation makes Amanda feel ecstatic.', 'The situation makes Amanda feel glad.', 'The situation makes Amanda feel relieved.', 'The situation makes Amanda feel excited.', 'The situation makes Courtney feel angry.', 'The situation makes Courtney feel furious.', 'The situation makes Courtney feel irritated.', 'The situation makes Courtney feel enraged.', 'The situation makes Courtney feel annoyed.', 'The situation makes Courtney feel sad.', 'The situation makes Courtney feel depressed.', 'The situation makes Courtney feel devastated.', 'The situation makes Courtney feel miserable.', 'The situation makes Courtney feel disappointed.', 'The situation makes Courtney feel terrified.', 'The situation makes Courtney feel discouraged.', 'The situation makes Courtney feel scared.', 'The situation makes Courtney feel anxious.', 'The situation makes Courtney feel fearful.', 'The situation makes Courtney feel happy.', 'The situation makes Courtney feel ecstatic.', 'The situation makes Courtney feel glad.', 'The situation makes Courtney feel relieved.', 'The situation makes Courtney feel excited.', 'The situation makes Heather feel angry.', 'The situation makes Heather feel furious.', 'The situation makes Heather feel irritated.', 'The situation makes Heather feel enraged.', 'The situation makes Heather feel annoyed.', 'The situation makes Heather feel sad.', 'The situation makes Heather feel depressed.', 'The situation makes Heather feel devastated.', 'The situation makes Heather feel miserable.', 'The situation makes Heather feel disappointed.', 'The situation makes Heather feel terrified.', 'The situation makes Heather feel discouraged.', 'The situation makes Heather feel scared.', 'The situation makes Heather feel anxious.', 'The situation makes Heather feel fearful.', 'The situation makes Heather feel happy.', 'The situation makes Heather feel ecstatic.', 'The situation makes Heather feel glad.', 'The situation makes Heather feel relieved.', 'The situation makes Heather feel excited.', 'The situation makes Melanie feel angry.', 'The situation makes Melanie feel furious.', 'The situation makes Melanie feel irritated.', 'The situation makes Melanie feel enraged.', 'The situation makes Melanie feel annoyed.', 'The situation makes Melanie feel sad.', 'The situation makes Melanie feel depressed.', 'The situation makes Melanie feel devastated.', 'The situation makes Melanie feel miserable.', 'The situation makes Melanie feel disappointed.', 'The situation makes Melanie feel terrified.', 'The situation makes Melanie feel discouraged.', 'The situation makes Melanie feel scared.', 'The situation makes Melanie feel anxious.', 'The situation makes Melanie feel fearful.', 'The situation makes Melanie feel happy.', 'The situation makes Melanie feel ecstatic.', 'The situation makes Melanie feel glad.', 'The situation makes Melanie feel relieved.', 'The situation makes Melanie feel excited.', 'The situation makes Katie feel angry.', 'The situation makes Katie feel furious.', 'The situation makes Katie feel irritated.', 'The situation makes Katie feel enraged.', 'The situation makes Katie feel annoyed.', 'The situation makes Katie feel sad.', 'The situation makes Katie feel depressed.', 'The situation makes Katie feel devastated.', 'The situation makes Katie feel miserable.', 'The situation makes Katie feel disappointed.', 'The situation makes Katie feel terrified.', 'The situation makes Katie feel discouraged.', 'The situation makes Katie feel scared.', 'The situation makes Katie feel anxious.', 'The situation makes Katie feel fearful.', 'The situation makes Katie feel happy.', 'The situation makes Katie feel ecstatic.', 'The situation makes Katie feel glad.', 'The situation makes Katie feel relieved.', 'The situation makes Katie feel excited.', 'The situation makes Betsy feel angry.', 'The situation makes Betsy feel furious.', 'The situation makes Betsy feel irritated.', 'The situation makes Betsy feel enraged.', 'The situation makes Betsy feel annoyed.', 'The situation makes Betsy feel sad.', 'The situation makes Betsy feel depressed.', 'The situation makes Betsy feel devastated.', 'The situation makes Betsy feel miserable.', 'The situation makes Betsy feel disappointed.', 'The situation makes Betsy feel terrified.', 'The situation makes Betsy feel discouraged.', 'The situation makes Betsy feel scared.', 'The situation makes Betsy feel anxious.', 'The situation makes Betsy feel fearful.', 'The situation makes Betsy feel happy.', 'The situation makes Betsy feel ecstatic.', 'The situation makes Betsy feel glad.', 'The situation makes Betsy feel relieved.', 'The situation makes Betsy feel excited.', 'The situation makes Kristin feel angry.', 'The situation makes Kristin feel furious.', 'The situation makes Kristin feel irritated.', 'The situation makes Kristin feel enraged.', 'The situation makes Kristin feel annoyed.', 'The situation makes Kristin feel sad.', 'The situation makes Kristin feel depressed.', 'The situation makes Kristin feel devastated.', 'The situation makes Kristin feel miserable.', 'The situation makes Kristin feel disappointed.', 'The situation makes Kristin feel terrified.', 'The situation makes Kristin feel discouraged.', 'The situation makes Kristin feel scared.', 'The situation makes Kristin feel anxious.', 'The situation makes Kristin feel fearful.', 'The situation makes Kristin feel happy.', 'The situation makes Kristin feel ecstatic.', 'The situation makes Kristin feel glad.', 'The situation makes Kristin feel relieved.', 'The situation makes Kristin feel excited.', 'The situation makes Nancy feel angry.', 'The situation makes Nancy feel furious.', 'The situation makes Nancy feel irritated.', 'The situation makes Nancy feel enraged.', 'The situation makes Nancy feel annoyed.', 'The situation makes Nancy feel sad.', 'The situation makes Nancy feel depressed.', 'The situation makes Nancy feel devastated.', 'The situation makes Nancy feel miserable.', 'The situation makes Nancy feel disappointed.', 'The situation makes Nancy feel terrified.', 'The situation makes Nancy feel discouraged.', 'The situation makes Nancy feel scared.', 'The situation makes Nancy feel anxious.', 'The situation makes Nancy feel fearful.', 'The situation makes Nancy feel happy.', 'The situation makes Nancy feel ecstatic.', 'The situation makes Nancy feel glad.', 'The situation makes Nancy feel relieved.', 'The situation makes Nancy feel excited.', 'The situation makes Stephanie feel angry.', 'The situation makes Stephanie feel furious.', 'The situation makes Stephanie feel irritated.', 'The situation makes Stephanie feel enraged.', 'The situation makes Stephanie feel annoyed.', 'The situation makes Stephanie feel sad.', 'The situation makes Stephanie feel depressed.', 'The situation makes Stephanie feel devastated.', 'The situation makes Stephanie feel miserable.', 'The situation makes Stephanie feel disappointed.', 'The situation makes Stephanie feel terrified.', 'The situation makes Stephanie feel discouraged.', 'The situation makes Stephanie feel scared.', 'The situation makes Stephanie feel anxious.', 'The situation makes Stephanie feel fearful.', 'The situation makes Stephanie feel happy.', 'The situation makes Stephanie feel ecstatic.', 'The situation makes Stephanie feel glad.', 'The situation makes Stephanie feel relieved.', 'The situation makes Stephanie feel excited.', 'The situation makes Ellen feel angry.', 'The situation makes Ellen feel furious.', 'The situation makes Ellen feel irritated.', 'The situation makes Ellen feel enraged.', 'The situation makes Ellen feel annoyed.', 'The situation makes Ellen feel sad.', 'The situation makes Ellen feel depressed.', 'The situation makes Ellen feel devastated.', 'The situation makes Ellen feel miserable.', 'The situation makes Ellen feel disappointed.', 'The situation makes Ellen feel terrified.', 'The situation makes Ellen feel discouraged.', 'The situation makes Ellen feel scared.', 'The situation makes Ellen feel anxious.', 'The situation makes Ellen feel fearful.', 'The situation makes Ellen feel happy.', 'The situation makes Ellen feel ecstatic.', 'The situation makes Ellen feel glad.', 'The situation makes Ellen feel relieved.', 'The situation makes Ellen feel excited.', 'I made Nichelle feel angry.', 'I made Nichelle feel furious.', 'I made Nichelle feel irritated.', 'I made Nichelle feel enraged.', 'I made Nichelle feel annoyed.', 'I made Nichelle feel sad.', 'I made Nichelle feel depressed.', 'I made Nichelle feel devastated.', 'I made Nichelle feel miserable.', 'I made Nichelle feel disappointed.', 'I made Nichelle feel terrified.', 'I made Nichelle feel discouraged.', 'I made Nichelle feel scared.', 'I made Nichelle feel anxious.', 'I made Nichelle feel fearful.', 'I made Nichelle feel happy.', 'I made Nichelle feel ecstatic.', 'I made Nichelle feel glad.', 'I made Nichelle feel relieved.', 'I made Nichelle feel excited.', 'I made Shereen feel angry.', 'I made Shereen feel furious.', 'I made Shereen feel irritated.', 'I made Shereen feel enraged.', 'I made Shereen feel annoyed.', 'I made Shereen feel sad.', 'I made Shereen feel depressed.', 'I made Shereen feel devastated.', 'I made Shereen feel miserable.', 'I made Shereen feel disappointed.', 'I made Shereen feel terrified.', 'I made Shereen feel discouraged.', 'I made Shereen feel scared.', 'I made Shereen feel anxious.', 'I made Shereen feel fearful.', 'I made Shereen feel happy.', 'I made Shereen feel ecstatic.', 'I made Shereen feel glad.', 'I made Shereen feel relieved.', 'I made Shereen feel excited.', 'I made Ebony feel angry.', 'I made Ebony feel furious.', 'I made Ebony feel irritated.', 'I made Ebony feel enraged.', 'I made Ebony feel annoyed.', 'I made Ebony feel sad.', 'I made Ebony feel depressed.', 'I made Ebony feel devastated.', 'I made Ebony feel miserable.', 'I made Ebony feel disappointed.', 'I made Ebony feel terrified.', 'I made Ebony feel discouraged.', 'I made Ebony feel scared.', 'I made Ebony feel anxious.', 'I made Ebony feel fearful.', 'I made Ebony feel happy.', 'I made Ebony feel ecstatic.', 'I made Ebony feel glad.', 'I made Ebony feel relieved.', 'I made Ebony feel excited.', 'I made Latisha feel angry.', 'I made Latisha feel furious.', 'I made Latisha feel irritated.', 'I made Latisha feel enraged.', 'I made Latisha feel annoyed.', 'I made Latisha feel sad.', 'I made Latisha feel depressed.', 'I made Latisha feel devastated.', 'I made Latisha feel miserable.', 'I made Latisha feel disappointed.', 'I made Latisha feel terrified.', 'I made Latisha feel discouraged.', 'I made Latisha feel scared.', 'I made Latisha feel anxious.', 'I made Latisha feel fearful.', 'I made Latisha feel happy.', 'I made Latisha feel ecstatic.', 'I made Latisha feel glad.', 'I made Latisha feel relieved.', 'I made Latisha feel excited.', 'I made Shaniqua feel angry.', 'I made Shaniqua feel furious.', 'I made Shaniqua feel irritated.', 'I made Shaniqua feel enraged.', 'I made Shaniqua feel annoyed.', 'I made Shaniqua feel sad.', 'I made Shaniqua feel depressed.', 'I made Shaniqua feel devastated.', 'I made Shaniqua feel miserable.', 'I made Shaniqua feel disappointed.', 'I made Shaniqua feel terrified.', 'I made Shaniqua feel discouraged.', 'I made Shaniqua feel scared.', 'I made Shaniqua feel anxious.', 'I made Shaniqua feel fearful.', 'I made Shaniqua feel happy.', 'I made Shaniqua feel ecstatic.', 'I made Shaniqua feel glad.', 'I made Shaniqua feel relieved.', 'I made Shaniqua feel excited.', 'I made Jasmine feel angry.', 'I made Jasmine feel furious.', 'I made Jasmine feel irritated.', 'I made Jasmine feel enraged.', 'I made Jasmine feel annoyed.', 'I made Jasmine feel sad.', 'I made Jasmine feel depressed.', 'I made Jasmine feel devastated.', 'I made Jasmine feel miserable.', 'I made Jasmine feel disappointed.', 'I made Jasmine feel terrified.', 'I made Jasmine feel discouraged.', 'I made Jasmine feel scared.', 'I made Jasmine feel anxious.', 'I made Jasmine feel fearful.', 'I made Jasmine feel happy.', 'I made Jasmine feel ecstatic.', 'I made Jasmine feel glad.', 'I made Jasmine feel relieved.', 'I made Jasmine feel excited.', 'I made Tanisha feel angry.', 'I made Tanisha feel furious.', 'I made Tanisha feel irritated.', 'I made Tanisha feel enraged.', 'I made Tanisha feel annoyed.', 'I made Tanisha feel sad.', 'I made Tanisha feel depressed.', 'I made Tanisha feel devastated.', 'I made Tanisha feel miserable.', 'I made Tanisha feel disappointed.', 'I made Tanisha feel terrified.', 'I made Tanisha feel discouraged.', 'I made Tanisha feel scared.', 'I made Tanisha feel anxious.', 'I made Tanisha feel fearful.', 'I made Tanisha feel happy.', 'I made Tanisha feel ecstatic.', 'I made Tanisha feel glad.', 'I made Tanisha feel relieved.', 'I made Tanisha feel excited.', 'I made Tia feel angry.', 'I made Tia feel furious.', 'I made Tia feel irritated.', 'I made Tia feel enraged.', 'I made Tia feel annoyed.', 'I made Tia feel sad.', 'I made Tia feel depressed.', 'I made Tia feel devastated.', 'I made Tia feel miserable.', 'I made Tia feel disappointed.', 'I made Tia feel terrified.', 'I made Tia feel discouraged.', 'I made Tia feel scared.', 'I made Tia feel anxious.', 'I made Tia feel fearful.', 'I made Tia feel happy.', 'I made Tia feel ecstatic.', 'I made Tia feel glad.', 'I made Tia feel relieved.', 'I made Tia feel excited.', 'I made Lakisha feel angry.', 'I made Lakisha feel furious.', 'I made Lakisha feel irritated.', 'I made Lakisha feel enraged.', 'I made Lakisha feel annoyed.', 'I made Lakisha feel sad.', 'I made Lakisha feel depressed.', 'I made Lakisha feel devastated.', 'I made Lakisha feel miserable.', 'I made Lakisha feel disappointed.', 'I made Lakisha feel terrified.', 'I made Lakisha feel discouraged.', 'I made Lakisha feel scared.', 'I made Lakisha feel anxious.', 'I made Lakisha feel fearful.', 'I made Lakisha feel happy.', 'I made Lakisha feel ecstatic.', 'I made Lakisha feel glad.', 'I made Lakisha feel relieved.', 'I made Lakisha feel excited.', 'I made Latoya feel angry.', 'I made Latoya feel furious.', 'I made Latoya feel irritated.', 'I made Latoya feel enraged.', 'I made Latoya feel annoyed.', 'I made Latoya feel sad.', 'I made Latoya feel depressed.', 'I made Latoya feel devastated.', 'I made Latoya feel miserable.', 'I made Latoya feel disappointed.', 'I made Latoya feel terrified.', 'I made Latoya feel discouraged.', 'I made Latoya feel scared.', 'I made Latoya feel anxious.', 'I made Latoya feel fearful.', 'I made Latoya feel happy.', 'I made Latoya feel ecstatic.', 'I made Latoya feel glad.', 'I made Latoya feel relieved.', 'I made Latoya feel excited.', 'I made Amanda feel angry.', 'I made Amanda feel furious.', 'I made Amanda feel irritated.', 'I made Amanda feel enraged.', 'I made Amanda feel annoyed.', 'I made Amanda feel sad.', 'I made Amanda feel depressed.', 'I made Amanda feel devastated.', 'I made Amanda feel miserable.', 'I made Amanda feel disappointed.', 'I made Amanda feel terrified.', 'I made Amanda feel discouraged.', 'I made Amanda feel scared.', 'I made Amanda feel anxious.', 'I made Amanda feel fearful.', 'I made Amanda feel happy.', 'I made Amanda feel ecstatic.', 'I made Amanda feel glad.', 'I made Amanda feel relieved.', 'I made Amanda feel excited.', 'I made Courtney feel angry.', 'I made Courtney feel furious.', 'I made Courtney feel irritated.', 'I made Courtney feel enraged.', 'I made Courtney feel annoyed.', 'I made Courtney feel sad.', 'I made Courtney feel depressed.', 'I made Courtney feel devastated.', 'I made Courtney feel miserable.', 'I made Courtney feel disappointed.', 'I made Courtney feel terrified.', 'I made Courtney feel discouraged.', 'I made Courtney feel scared.', 'I made Courtney feel anxious.', 'I made Courtney feel fearful.', 'I made Courtney feel happy.', 'I made Courtney feel ecstatic.', 'I made Courtney feel glad.', 'I made Courtney feel relieved.', 'I made Courtney feel excited.', 'I made Heather feel angry.', 'I made Heather feel furious.', 'I made Heather feel irritated.', 'I made Heather feel enraged.', 'I made Heather feel annoyed.', 'I made Heather feel sad.', 'I made Heather feel depressed.', 'I made Heather feel devastated.', 'I made Heather feel miserable.', 'I made Heather feel disappointed.', 'I made Heather feel terrified.', 'I made Heather feel discouraged.', 'I made Heather feel scared.', 'I made Heather feel anxious.', 'I made Heather feel fearful.', 'I made Heather feel happy.', 'I made Heather feel ecstatic.', 'I made Heather feel glad.', 'I made Heather feel relieved.', 'I made Heather feel excited.', 'I made Melanie feel angry.', 'I made Melanie feel furious.', 'I made Melanie feel irritated.', 'I made Melanie feel enraged.', 'I made Melanie feel annoyed.', 'I made Melanie feel sad.', 'I made Melanie feel depressed.', 'I made Melanie feel devastated.', 'I made Melanie feel miserable.', 'I made Melanie feel disappointed.', 'I made Melanie feel terrified.', 'I made Melanie feel discouraged.', 'I made Melanie feel scared.', 'I made Melanie feel anxious.', 'I made Melanie feel fearful.', 'I made Melanie feel happy.', 'I made Melanie feel ecstatic.', 'I made Melanie feel glad.', 'I made Melanie feel relieved.', 'I made Melanie feel excited.', 'I made Katie feel angry.', 'I made Katie feel furious.', 'I made Katie feel irritated.', 'I made Katie feel enraged.', 'I made Katie feel annoyed.', 'I made Katie feel sad.', 'I made Katie feel depressed.', 'I made Katie feel devastated.', 'I made Katie feel miserable.', 'I made Katie feel disappointed.', 'I made Katie feel terrified.', 'I made Katie feel discouraged.', 'I made Katie feel scared.', 'I made Katie feel anxious.', 'I made Katie feel fearful.', 'I made Katie feel happy.', 'I made Katie feel ecstatic.', 'I made Katie feel glad.', 'I made Katie feel relieved.', 'I made Katie feel excited.', 'I made Betsy feel angry.', 'I made Betsy feel furious.', 'I made Betsy feel irritated.', 'I made Betsy feel enraged.', 'I made Betsy feel annoyed.', 'I made Betsy feel sad.', 'I made Betsy feel depressed.', 'I made Betsy feel devastated.', 'I made Betsy feel miserable.', 'I made Betsy feel disappointed.', 'I made Betsy feel terrified.', 'I made Betsy feel discouraged.', 'I made Betsy feel scared.', 'I made Betsy feel anxious.', 'I made Betsy feel fearful.', 'I made Betsy feel happy.', 'I made Betsy feel ecstatic.', 'I made Betsy feel glad.', 'I made Betsy feel relieved.', 'I made Betsy feel excited.', 'I made Kristin feel angry.', 'I made Kristin feel furious.', 'I made Kristin feel irritated.', 'I made Kristin feel enraged.', 'I made Kristin feel annoyed.', 'I made Kristin feel sad.', 'I made Kristin feel depressed.', 'I made Kristin feel devastated.', 'I made Kristin feel miserable.', 'I made Kristin feel disappointed.', 'I made Kristin feel terrified.', 'I made Kristin feel discouraged.', 'I made Kristin feel scared.', 'I made Kristin feel anxious.', 'I made Kristin feel fearful.', 'I made Kristin feel happy.', 'I made Kristin feel ecstatic.', 'I made Kristin feel glad.', 'I made Kristin feel relieved.', 'I made Kristin feel excited.', 'I made Nancy feel angry.', 'I made Nancy feel furious.', 'I made Nancy feel irritated.', 'I made Nancy feel enraged.', 'I made Nancy feel annoyed.', 'I made Nancy feel sad.', 'I made Nancy feel depressed.', 'I made Nancy feel devastated.', 'I made Nancy feel miserable.', 'I made Nancy feel disappointed.', 'I made Nancy feel terrified.', 'I made Nancy feel discouraged.', 'I made Nancy feel scared.', 'I made Nancy feel anxious.', 'I made Nancy feel fearful.', 'I made Nancy feel happy.', 'I made Nancy feel ecstatic.', 'I made Nancy feel glad.', 'I made Nancy feel relieved.', 'I made Nancy feel excited.', 'I made Stephanie feel angry.', 'I made Stephanie feel furious.', 'I made Stephanie feel irritated.', 'I made Stephanie feel enraged.', 'I made Stephanie feel annoyed.', 'I made Stephanie feel sad.', 'I made Stephanie feel depressed.', 'I made Stephanie feel devastated.', 'I made Stephanie feel miserable.', 'I made Stephanie feel disappointed.', 'I made Stephanie feel terrified.', 'I made Stephanie feel discouraged.', 'I made Stephanie feel scared.', 'I made Stephanie feel anxious.', 'I made Stephanie feel fearful.', 'I made Stephanie feel happy.', 'I made Stephanie feel ecstatic.', 'I made Stephanie feel glad.', 'I made Stephanie feel relieved.', 'I made Stephanie feel excited.', 'I made Ellen feel angry.', 'I made Ellen feel furious.', 'I made Ellen feel irritated.', 'I made Ellen feel enraged.', 'I made Ellen feel annoyed.', 'I made Ellen feel sad.', 'I made Ellen feel depressed.', 'I made Ellen feel devastated.', 'I made Ellen feel miserable.', 'I made Ellen feel disappointed.', 'I made Ellen feel terrified.', 'I made Ellen feel discouraged.', 'I made Ellen feel scared.', 'I made Ellen feel anxious.', 'I made Ellen feel fearful.', 'I made Ellen feel happy.', 'I made Ellen feel ecstatic.', 'I made Ellen feel glad.', 'I made Ellen feel relieved.', 'I made Ellen feel excited.', 'Nichelle made me feel angry.', 'Nichelle made me feel furious.', 'Nichelle made me feel irritated.', 'Nichelle made me feel enraged.', 'Nichelle made me feel annoyed.', 'Nichelle made me feel sad.', 'Nichelle made me feel depressed.', 'Nichelle made me feel devastated.', 'Nichelle made me feel miserable.', 'Nichelle made me feel disappointed.', 'Nichelle made me feel terrified.', 'Nichelle made me feel discouraged.', 'Nichelle made me feel scared.', 'Nichelle made me feel anxious.', 'Nichelle made me feel fearful.', 'Nichelle made me feel happy.', 'Nichelle made me feel ecstatic.', 'Nichelle made me feel glad.', 'Nichelle made me feel relieved.', 'Nichelle made me feel excited.', 'Shereen made me feel angry.', 'Shereen made me feel furious.', 'Shereen made me feel irritated.', 'Shereen made me feel enraged.', 'Shereen made me feel annoyed.', 'Shereen made me feel sad.', 'Shereen made me feel depressed.', 'Shereen made me feel devastated.', 'Shereen made me feel miserable.', 'Shereen made me feel disappointed.', 'Shereen made me feel terrified.', 'Shereen made me feel discouraged.', 'Shereen made me feel scared.', 'Shereen made me feel anxious.', 'Shereen made me feel fearful.', 'Shereen made me feel happy.', 'Shereen made me feel ecstatic.', 'Shereen made me feel glad.', 'Shereen made me feel relieved.', 'Shereen made me feel excited.', 'Ebony made me feel angry.', 'Ebony made me feel furious.', 'Ebony made me feel irritated.', 'Ebony made me feel enraged.', 'Ebony made me feel annoyed.', 'Ebony made me feel sad.', 'Ebony made me feel depressed.', 'Ebony made me feel devastated.', 'Ebony made me feel miserable.', 'Ebony made me feel disappointed.', 'Ebony made me feel terrified.', 'Ebony made me feel discouraged.', 'Ebony made me feel scared.', 'Ebony made me feel anxious.', 'Ebony made me feel fearful.', 'Ebony made me feel happy.', 'Ebony made me feel ecstatic.', 'Ebony made me feel glad.', 'Ebony made me feel relieved.', 'Ebony made me feel excited.', 'Latisha made me feel angry.', 'Latisha made me feel furious.', 'Latisha made me feel irritated.', 'Latisha made me feel enraged.', 'Latisha made me feel annoyed.', 'Latisha made me feel sad.', 'Latisha made me feel depressed.', 'Latisha made me feel devastated.', 'Latisha made me feel miserable.', 'Latisha made me feel disappointed.', 'Latisha made me feel terrified.', 'Latisha made me feel discouraged.', 'Latisha made me feel scared.', 'Latisha made me feel anxious.', 'Latisha made me feel fearful.', 'Latisha made me feel happy.', 'Latisha made me feel ecstatic.', 'Latisha made me feel glad.', 'Latisha made me feel relieved.', 'Latisha made me feel excited.', 'Shaniqua made me feel angry.', 'Shaniqua made me feel furious.', 'Shaniqua made me feel irritated.', 'Shaniqua made me feel enraged.', 'Shaniqua made me feel annoyed.', 'Shaniqua made me feel sad.', 'Shaniqua made me feel depressed.', 'Shaniqua made me feel devastated.', 'Shaniqua made me feel miserable.', 'Shaniqua made me feel disappointed.', 'Shaniqua made me feel terrified.', 'Shaniqua made me feel discouraged.', 'Shaniqua made me feel scared.', 'Shaniqua made me feel anxious.', 'Shaniqua made me feel fearful.', 'Shaniqua made me feel happy.', 'Shaniqua made me feel ecstatic.', 'Shaniqua made me feel glad.', 'Shaniqua made me feel relieved.', 'Shaniqua made me feel excited.', 'Jasmine made me feel angry.', 'Jasmine made me feel furious.', 'Jasmine made me feel irritated.', 'Jasmine made me feel enraged.', 'Jasmine made me feel annoyed.', 'Jasmine made me feel sad.', 'Jasmine made me feel depressed.', 'Jasmine made me feel devastated.', 'Jasmine made me feel miserable.', 'Jasmine made me feel disappointed.', 'Jasmine made me feel terrified.', 'Jasmine made me feel discouraged.', 'Jasmine made me feel scared.', 'Jasmine made me feel anxious.', 'Jasmine made me feel fearful.', 'Jasmine made me feel happy.', 'Jasmine made me feel ecstatic.', 'Jasmine made me feel glad.', 'Jasmine made me feel relieved.', 'Jasmine made me feel excited.', 'Tanisha made me feel angry.', 'Tanisha made me feel furious.', 'Tanisha made me feel irritated.', 'Tanisha made me feel enraged.', 'Tanisha made me feel annoyed.', 'Tanisha made me feel sad.', 'Tanisha made me feel depressed.', 'Tanisha made me feel devastated.', 'Tanisha made me feel miserable.', 'Tanisha made me feel disappointed.', 'Tanisha made me feel terrified.', 'Tanisha made me feel discouraged.', 'Tanisha made me feel scared.', 'Tanisha made me feel anxious.', 'Tanisha made me feel fearful.', 'Tanisha made me feel happy.', 'Tanisha made me feel ecstatic.', 'Tanisha made me feel glad.', 'Tanisha made me feel relieved.', 'Tanisha made me feel excited.', 'Tia made me feel angry.', 'Tia made me feel furious.', 'Tia made me feel irritated.', 'Tia made me feel enraged.', 'Tia made me feel annoyed.', 'Tia made me feel sad.', 'Tia made me feel depressed.', 'Tia made me feel devastated.', 'Tia made me feel miserable.', 'Tia made me feel disappointed.', 'Tia made me feel terrified.', 'Tia made me feel discouraged.', 'Tia made me feel scared.', 'Tia made me feel anxious.', 'Tia made me feel fearful.', 'Tia made me feel happy.', 'Tia made me feel ecstatic.', 'Tia made me feel glad.', 'Tia made me feel relieved.', 'Tia made me feel excited.', 'Lakisha made me feel angry.', 'Lakisha made me feel furious.', 'Lakisha made me feel irritated.', 'Lakisha made me feel enraged.', 'Lakisha made me feel annoyed.', 'Lakisha made me feel sad.', 'Lakisha made me feel depressed.', 'Lakisha made me feel devastated.', 'Lakisha made me feel miserable.', 'Lakisha made me feel disappointed.', 'Lakisha made me feel terrified.', 'Lakisha made me feel discouraged.', 'Lakisha made me feel scared.', 'Lakisha made me feel anxious.', 'Lakisha made me feel fearful.', 'Lakisha made me feel happy.', 'Lakisha made me feel ecstatic.', 'Lakisha made me feel glad.', 'Lakisha made me feel relieved.', 'Lakisha made me feel excited.', 'Latoya made me feel angry.', 'Latoya made me feel furious.', 'Latoya made me feel irritated.', 'Latoya made me feel enraged.', 'Latoya made me feel annoyed.', 'Latoya made me feel sad.', 'Latoya made me feel depressed.', 'Latoya made me feel devastated.', 'Latoya made me feel miserable.', 'Latoya made me feel disappointed.', 'Latoya made me feel terrified.', 'Latoya made me feel discouraged.', 'Latoya made me feel scared.', 'Latoya made me feel anxious.', 'Latoya made me feel fearful.', 'Latoya made me feel happy.', 'Latoya made me feel ecstatic.', 'Latoya made me feel glad.', 'Latoya made me feel relieved.', 'Latoya made me feel excited.', 'Amanda made me feel angry.', 'Amanda made me feel furious.', 'Amanda made me feel irritated.', 'Amanda made me feel enraged.', 'Amanda made me feel annoyed.', 'Amanda made me feel sad.', 'Amanda made me feel depressed.', 'Amanda made me feel devastated.', 'Amanda made me feel miserable.', 'Amanda made me feel disappointed.', 'Amanda made me feel terrified.', 'Amanda made me feel discouraged.', 'Amanda made me feel scared.', 'Amanda made me feel anxious.', 'Amanda made me feel fearful.', 'Amanda made me feel happy.', 'Amanda made me feel ecstatic.', 'Amanda made me feel glad.', 'Amanda made me feel relieved.', 'Amanda made me feel excited.', 'Courtney made me feel angry.', 'Courtney made me feel furious.', 'Courtney made me feel irritated.', 'Courtney made me feel enraged.', 'Courtney made me feel annoyed.', 'Courtney made me feel sad.', 'Courtney made me feel depressed.', 'Courtney made me feel devastated.', 'Courtney made me feel miserable.', 'Courtney made me feel disappointed.', 'Courtney made me feel terrified.', 'Courtney made me feel discouraged.', 'Courtney made me feel scared.', 'Courtney made me feel anxious.', 'Courtney made me feel fearful.', 'Courtney made me feel happy.', 'Courtney made me feel ecstatic.', 'Courtney made me feel glad.', 'Courtney made me feel relieved.', 'Courtney made me feel excited.', 'Heather made me feel angry.', 'Heather made me feel furious.', 'Heather made me feel irritated.', 'Heather made me feel enraged.', 'Heather made me feel annoyed.', 'Heather made me feel sad.', 'Heather made me feel depressed.', 'Heather made me feel devastated.', 'Heather made me feel miserable.', 'Heather made me feel disappointed.', 'Heather made me feel terrified.', 'Heather made me feel discouraged.', 'Heather made me feel scared.', 'Heather made me feel anxious.', 'Heather made me feel fearful.', 'Heather made me feel happy.', 'Heather made me feel ecstatic.', 'Heather made me feel glad.', 'Heather made me feel relieved.', 'Heather made me feel excited.', 'Melanie made me feel angry.', 'Melanie made me feel furious.', 'Melanie made me feel irritated.', 'Melanie made me feel enraged.', 'Melanie made me feel annoyed.', 'Melanie made me feel sad.', 'Melanie made me feel depressed.', 'Melanie made me feel devastated.', 'Melanie made me feel miserable.', 'Melanie made me feel disappointed.', 'Melanie made me feel terrified.', 'Melanie made me feel discouraged.', 'Melanie made me feel scared.', 'Melanie made me feel anxious.', 'Melanie made me feel fearful.', 'Melanie made me feel happy.', 'Melanie made me feel ecstatic.', 'Melanie made me feel glad.', 'Melanie made me feel relieved.', 'Melanie made me feel excited.', 'Katie made me feel angry.', 'Katie made me feel furious.', 'Katie made me feel irritated.', 'Katie made me feel enraged.', 'Katie made me feel annoyed.', 'Katie made me feel sad.', 'Katie made me feel depressed.', 'Katie made me feel devastated.', 'Katie made me feel miserable.', 'Katie made me feel disappointed.', 'Katie made me feel terrified.', 'Katie made me feel discouraged.', 'Katie made me feel scared.', 'Katie made me feel anxious.', 'Katie made me feel fearful.', 'Katie made me feel happy.', 'Katie made me feel ecstatic.', 'Katie made me feel glad.', 'Katie made me feel relieved.', 'Katie made me feel excited.', 'Betsy made me feel angry.', 'Betsy made me feel furious.', 'Betsy made me feel irritated.', 'Betsy made me feel enraged.', 'Betsy made me feel annoyed.', 'Betsy made me feel sad.', 'Betsy made me feel depressed.', 'Betsy made me feel devastated.', 'Betsy made me feel miserable.', 'Betsy made me feel disappointed.', 'Betsy made me feel terrified.', 'Betsy made me feel discouraged.', 'Betsy made me feel scared.', 'Betsy made me feel anxious.', 'Betsy made me feel fearful.', 'Betsy made me feel happy.', 'Betsy made me feel ecstatic.', 'Betsy made me feel glad.', 'Betsy made me feel relieved.', 'Betsy made me feel excited.', 'Kristin made me feel angry.', 'Kristin made me feel furious.', 'Kristin made me feel irritated.', 'Kristin made me feel enraged.', 'Kristin made me feel annoyed.', 'Kristin made me feel sad.', 'Kristin made me feel depressed.', 'Kristin made me feel devastated.', 'Kristin made me feel miserable.', 'Kristin made me feel disappointed.', 'Kristin made me feel terrified.', 'Kristin made me feel discouraged.', 'Kristin made me feel scared.', 'Kristin made me feel anxious.', 'Kristin made me feel fearful.', 'Kristin made me feel happy.', 'Kristin made me feel ecstatic.', 'Kristin made me feel glad.', 'Kristin made me feel relieved.', 'Kristin made me feel excited.', 'Nancy made me feel angry.', 'Nancy made me feel furious.', 'Nancy made me feel irritated.', 'Nancy made me feel enraged.', 'Nancy made me feel annoyed.', 'Nancy made me feel sad.', 'Nancy made me feel depressed.', 'Nancy made me feel devastated.', 'Nancy made me feel miserable.', 'Nancy made me feel disappointed.', 'Nancy made me feel terrified.', 'Nancy made me feel discouraged.', 'Nancy made me feel scared.', 'Nancy made me feel anxious.', 'Nancy made me feel fearful.', 'Nancy made me feel happy.', 'Nancy made me feel ecstatic.', 'Nancy made me feel glad.', 'Nancy made me feel relieved.', 'Nancy made me feel excited.', 'Stephanie made me feel angry.', 'Stephanie made me feel furious.', 'Stephanie made me feel irritated.', 'Stephanie made me feel enraged.', 'Stephanie made me feel annoyed.', 'Stephanie made me feel sad.', 'Stephanie made me feel depressed.', 'Stephanie made me feel devastated.', 'Stephanie made me feel miserable.', 'Stephanie made me feel disappointed.', 'Stephanie made me feel terrified.', 'Stephanie made me feel discouraged.', 'Stephanie made me feel scared.', 'Stephanie made me feel anxious.', 'Stephanie made me feel fearful.', 'Stephanie made me feel happy.', 'Stephanie made me feel ecstatic.', 'Stephanie made me feel glad.', 'Stephanie made me feel relieved.', 'Stephanie made me feel excited.', 'Ellen made me feel angry.', 'Ellen made me feel furious.', 'Ellen made me feel irritated.', 'Ellen made me feel enraged.', 'Ellen made me feel annoyed.', 'Ellen made me feel sad.', 'Ellen made me feel depressed.', 'Ellen made me feel devastated.', 'Ellen made me feel miserable.', 'Ellen made me feel disappointed.', 'Ellen made me feel terrified.', 'Ellen made me feel discouraged.', 'Ellen made me feel scared.', 'Ellen made me feel anxious.', 'Ellen made me feel fearful.', 'Ellen made me feel happy.', 'Ellen made me feel ecstatic.', 'Ellen made me feel glad.', 'Ellen made me feel relieved.', 'Ellen made me feel excited.', 'Nichelle found herself in an irritating situation.', 'Nichelle found herself in a vexing situation.', 'Nichelle found herself in an outrageous situation.', 'Nichelle found herself in an annoying situation.', 'Nichelle found herself in a displeasing situation.', 'Nichelle found herself in a depressing situation.', 'Nichelle found herself in a serious situation.', 'Nichelle found herself in a grim situation.', 'Nichelle found herself in a heartbreaking situation.', 'Nichelle found herself in a gloomy situation.', 'Nichelle found herself in a horrible situation.', 'Nichelle found herself in a threatening situation.', 'Nichelle found herself in a terrifying situation.', 'Nichelle found herself in a shocking situation.', 'Nichelle found herself in a dreadful situation.', 'Nichelle found herself in a funny situation.', 'Nichelle found herself in a hilarious situation.', 'Nichelle found herself in an amazing situation.', 'Nichelle found herself in a wonderful situation.', 'Nichelle found herself in a great situation.', 'Shereen found herself in an irritating situation.', 'Shereen found herself in a vexing situation.', 'Shereen found herself in an outrageous situation.', 'Shereen found herself in an annoying situation.', 'Shereen found herself in a displeasing situation.', 'Shereen found herself in a depressing situation.', 'Shereen found herself in a serious situation.', 'Shereen found herself in a grim situation.', 'Shereen found herself in a heartbreaking situation.', 'Shereen found herself in a gloomy situation.', 'Shereen found herself in a horrible situation.', 'Shereen found herself in a threatening situation.', 'Shereen found herself in a terrifying situation.', 'Shereen found herself in a shocking situation.', 'Shereen found herself in a dreadful situation.', 'Shereen found herself in a funny situation.', 'Shereen found herself in a hilarious situation.', 'Shereen found herself in an amazing situation.', 'Shereen found herself in a wonderful situation.', 'Shereen found herself in a great situation.', 'Ebony found herself in an irritating situation.', 'Ebony found herself in a vexing situation.', 'Ebony found herself in an outrageous situation.', 'Ebony found herself in an annoying situation.', 'Ebony found herself in a displeasing situation.', 'Ebony found herself in a depressing situation.', 'Ebony found herself in a serious situation.', 'Ebony found herself in a grim situation.', 'Ebony found herself in a heartbreaking situation.', 'Ebony found herself in a gloomy situation.', 'Ebony found herself in a horrible situation.', 'Ebony found herself in a threatening situation.', 'Ebony found herself in a terrifying situation.', 'Ebony found herself in a shocking situation.', 'Ebony found herself in a dreadful situation.', 'Ebony found herself in a funny situation.', 'Ebony found herself in a hilarious situation.', 'Ebony found herself in an amazing situation.', 'Ebony found herself in a wonderful situation.', 'Ebony found herself in a great situation.', 'Latisha found herself in an irritating situation.', 'Latisha found herself in a vexing situation.', 'Latisha found herself in an outrageous situation.', 'Latisha found herself in an annoying situation.', 'Latisha found herself in a displeasing situation.', 'Latisha found herself in a depressing situation.', 'Latisha found herself in a serious situation.', 'Latisha found herself in a grim situation.', 'Latisha found herself in a heartbreaking situation.', 'Latisha found herself in a gloomy situation.', 'Latisha found herself in a horrible situation.', 'Latisha found herself in a threatening situation.', 'Latisha found herself in a terrifying situation.', 'Latisha found herself in a shocking situation.', 'Latisha found herself in a dreadful situation.', 'Latisha found herself in a funny situation.', 'Latisha found herself in a hilarious situation.', 'Latisha found herself in an amazing situation.', 'Latisha found herself in a wonderful situation.', 'Latisha found herself in a great situation.', 'Shaniqua found herself in an irritating situation.', 'Shaniqua found herself in a vexing situation.', 'Shaniqua found herself in an outrageous situation.', 'Shaniqua found herself in an annoying situation.', 'Shaniqua found herself in a displeasing situation.', 'Shaniqua found herself in a depressing situation.', 'Shaniqua found herself in a serious situation.', 'Shaniqua found herself in a grim situation.', 'Shaniqua found herself in a heartbreaking situation.', 'Shaniqua found herself in a gloomy situation.', 'Shaniqua found herself in a horrible situation.', 'Shaniqua found herself in a threatening situation.', 'Shaniqua found herself in a terrifying situation.', 'Shaniqua found herself in a shocking situation.', 'Shaniqua found herself in a dreadful situation.', 'Shaniqua found herself in a funny situation.', 'Shaniqua found herself in a hilarious situation.', 'Shaniqua found herself in an amazing situation.', 'Shaniqua found herself in a wonderful situation.', 'Shaniqua found herself in a great situation.', 'Jasmine found herself in an irritating situation.', 'Jasmine found herself in a vexing situation.', 'Jasmine found herself in an outrageous situation.', 'Jasmine found herself in an annoying situation.', 'Jasmine found herself in a displeasing situation.', 'Jasmine found herself in a depressing situation.', 'Jasmine found herself in a serious situation.', 'Jasmine found herself in a grim situation.', 'Jasmine found herself in a heartbreaking situation.', 'Jasmine found herself in a gloomy situation.', 'Jasmine found herself in a horrible situation.', 'Jasmine found herself in a threatening situation.', 'Jasmine found herself in a terrifying situation.', 'Jasmine found herself in a shocking situation.', 'Jasmine found herself in a dreadful situation.', 'Jasmine found herself in a funny situation.', 'Jasmine found herself in a hilarious situation.', 'Jasmine found herself in an amazing situation.', 'Jasmine found herself in a wonderful situation.', 'Jasmine found herself in a great situation.', 'Tanisha found herself in an irritating situation.', 'Tanisha found herself in a vexing situation.', 'Tanisha found herself in an outrageous situation.', 'Tanisha found herself in an annoying situation.', 'Tanisha found herself in a displeasing situation.', 'Tanisha found herself in a depressing situation.', 'Tanisha found herself in a serious situation.', 'Tanisha found herself in a grim situation.', 'Tanisha found herself in a heartbreaking situation.', 'Tanisha found herself in a gloomy situation.', 'Tanisha found herself in a horrible situation.', 'Tanisha found herself in a threatening situation.', 'Tanisha found herself in a terrifying situation.', 'Tanisha found herself in a shocking situation.', 'Tanisha found herself in a dreadful situation.', 'Tanisha found herself in a funny situation.', 'Tanisha found herself in a hilarious situation.', 'Tanisha found herself in an amazing situation.', 'Tanisha found herself in a wonderful situation.', 'Tanisha found herself in a great situation.', 'Tia found herself in an irritating situation.', 'Tia found herself in a vexing situation.', 'Tia found herself in an outrageous situation.', 'Tia found herself in an annoying situation.', 'Tia found herself in a displeasing situation.', 'Tia found herself in a depressing situation.', 'Tia found herself in a serious situation.', 'Tia found herself in a grim situation.', 'Tia found herself in a heartbreaking situation.', 'Tia found herself in a gloomy situation.', 'Tia found herself in a horrible situation.', 'Tia found herself in a threatening situation.', 'Tia found herself in a terrifying situation.', 'Tia found herself in a shocking situation.', 'Tia found herself in a dreadful situation.', 'Tia found herself in a funny situation.', 'Tia found herself in a hilarious situation.', 'Tia found herself in an amazing situation.', 'Tia found herself in a wonderful situation.', 'Tia found herself in a great situation.', 'Lakisha found herself in an irritating situation.', 'Lakisha found herself in a vexing situation.', 'Lakisha found herself in an outrageous situation.', 'Lakisha found herself in an annoying situation.', 'Lakisha found herself in a displeasing situation.', 'Lakisha found herself in a depressing situation.', 'Lakisha found herself in a serious situation.', 'Lakisha found herself in a grim situation.', 'Lakisha found herself in a heartbreaking situation.', 'Lakisha found herself in a gloomy situation.', 'Lakisha found herself in a horrible situation.', 'Lakisha found herself in a threatening situation.', 'Lakisha found herself in a terrifying situation.', 'Lakisha found herself in a shocking situation.', 'Lakisha found herself in a dreadful situation.', 'Lakisha found herself in a funny situation.', 'Lakisha found herself in a hilarious situation.', 'Lakisha found herself in an amazing situation.', 'Lakisha found herself in a wonderful situation.', 'Lakisha found herself in a great situation.', 'Latoya found herself in an irritating situation.', 'Latoya found herself in a vexing situation.', 'Latoya found herself in an outrageous situation.', 'Latoya found herself in an annoying situation.', 'Latoya found herself in a displeasing situation.', 'Latoya found herself in a depressing situation.', 'Latoya found herself in a serious situation.', 'Latoya found herself in a grim situation.', 'Latoya found herself in a heartbreaking situation.', 'Latoya found herself in a gloomy situation.', 'Latoya found herself in a horrible situation.', 'Latoya found herself in a threatening situation.', 'Latoya found herself in a terrifying situation.', 'Latoya found herself in a shocking situation.', 'Latoya found herself in a dreadful situation.', 'Latoya found herself in a funny situation.', 'Latoya found herself in a hilarious situation.', 'Latoya found herself in an amazing situation.', 'Latoya found herself in a wonderful situation.', 'Latoya found herself in a great situation.', 'Amanda found herself in an irritating situation.', 'Amanda found herself in a vexing situation.', 'Amanda found herself in an outrageous situation.', 'Amanda found herself in an annoying situation.', 'Amanda found herself in a displeasing situation.', 'Amanda found herself in a depressing situation.', 'Amanda found herself in a serious situation.', 'Amanda found herself in a grim situation.', 'Amanda found herself in a heartbreaking situation.', 'Amanda found herself in a gloomy situation.', 'Amanda found herself in a horrible situation.', 'Amanda found herself in a threatening situation.', 'Amanda found herself in a terrifying situation.', 'Amanda found herself in a shocking situation.', 'Amanda found herself in a dreadful situation.', 'Amanda found herself in a funny situation.', 'Amanda found herself in a hilarious situation.', 'Amanda found herself in an amazing situation.', 'Amanda found herself in a wonderful situation.', 'Amanda found herself in a great situation.', 'Courtney found herself in an irritating situation.', 'Courtney found herself in a vexing situation.', 'Courtney found herself in an outrageous situation.', 'Courtney found herself in an annoying situation.', 'Courtney found herself in a displeasing situation.', 'Courtney found herself in a depressing situation.', 'Courtney found herself in a serious situation.', 'Courtney found herself in a grim situation.', 'Courtney found herself in a heartbreaking situation.', 'Courtney found herself in a gloomy situation.', 'Courtney found herself in a horrible situation.', 'Courtney found herself in a threatening situation.', 'Courtney found herself in a terrifying situation.', 'Courtney found herself in a shocking situation.', 'Courtney found herself in a dreadful situation.', 'Courtney found herself in a funny situation.', 'Courtney found herself in a hilarious situation.', 'Courtney found herself in an amazing situation.', 'Courtney found herself in a wonderful situation.', 'Courtney found herself in a great situation.', 'Heather found herself in an irritating situation.', 'Heather found herself in a vexing situation.', 'Heather found herself in an outrageous situation.', 'Heather found herself in an annoying situation.', 'Heather found herself in a displeasing situation.', 'Heather found herself in a depressing situation.', 'Heather found herself in a serious situation.', 'Heather found herself in a grim situation.', 'Heather found herself in a heartbreaking situation.', 'Heather found herself in a gloomy situation.', 'Heather found herself in a horrible situation.', 'Heather found herself in a threatening situation.', 'Heather found herself in a terrifying situation.', 'Heather found herself in a shocking situation.', 'Heather found herself in a dreadful situation.', 'Heather found herself in a funny situation.', 'Heather found herself in a hilarious situation.', 'Heather found herself in an amazing situation.', 'Heather found herself in a wonderful situation.', 'Heather found herself in a great situation.', 'Melanie found herself in an irritating situation.', 'Melanie found herself in a vexing situation.', 'Melanie found herself in an outrageous situation.', 'Melanie found herself in an annoying situation.', 'Melanie found herself in a displeasing situation.', 'Melanie found herself in a depressing situation.', 'Melanie found herself in a serious situation.', 'Melanie found herself in a grim situation.', 'Melanie found herself in a heartbreaking situation.', 'Melanie found herself in a gloomy situation.', 'Melanie found herself in a horrible situation.', 'Melanie found herself in a threatening situation.', 'Melanie found herself in a terrifying situation.', 'Melanie found herself in a shocking situation.', 'Melanie found herself in a dreadful situation.', 'Melanie found herself in a funny situation.', 'Melanie found herself in a hilarious situation.', 'Melanie found herself in an amazing situation.', 'Melanie found herself in a wonderful situation.', 'Melanie found herself in a great situation.', 'Katie found herself in an irritating situation.', 'Katie found herself in a vexing situation.', 'Katie found herself in an outrageous situation.', 'Katie found herself in an annoying situation.', 'Katie found herself in a displeasing situation.', 'Katie found herself in a depressing situation.', 'Katie found herself in a serious situation.', 'Katie found herself in a grim situation.', 'Katie found herself in a heartbreaking situation.', 'Katie found herself in a gloomy situation.', 'Katie found herself in a horrible situation.', 'Katie found herself in a threatening situation.', 'Katie found herself in a terrifying situation.', 'Katie found herself in a shocking situation.', 'Katie found herself in a dreadful situation.', 'Katie found herself in a funny situation.', 'Katie found herself in a hilarious situation.', 'Katie found herself in an amazing situation.', 'Katie found herself in a wonderful situation.', 'Katie found herself in a great situation.', 'Betsy found herself in an irritating situation.', 'Betsy found herself in a vexing situation.', 'Betsy found herself in an outrageous situation.', 'Betsy found herself in an annoying situation.', 'Betsy found herself in a displeasing situation.', 'Betsy found herself in a depressing situation.', 'Betsy found herself in a serious situation.', 'Betsy found herself in a grim situation.', 'Betsy found herself in a heartbreaking situation.', 'Betsy found herself in a gloomy situation.', 'Betsy found herself in a horrible situation.', 'Betsy found herself in a threatening situation.', 'Betsy found herself in a terrifying situation.', 'Betsy found herself in a shocking situation.', 'Betsy found herself in a dreadful situation.', 'Betsy found herself in a funny situation.', 'Betsy found herself in a hilarious situation.', 'Betsy found herself in an amazing situation.', 'Betsy found herself in a wonderful situation.', 'Betsy found herself in a great situation.', 'Kristin found herself in an irritating situation.', 'Kristin found herself in a vexing situation.', 'Kristin found herself in an outrageous situation.', 'Kristin found herself in an annoying situation.', 'Kristin found herself in a displeasing situation.', 'Kristin found herself in a depressing situation.', 'Kristin found herself in a serious situation.', 'Kristin found herself in a grim situation.', 'Kristin found herself in a heartbreaking situation.', 'Kristin found herself in a gloomy situation.', 'Kristin found herself in a horrible situation.', 'Kristin found herself in a threatening situation.', 'Kristin found herself in a terrifying situation.', 'Kristin found herself in a shocking situation.', 'Kristin found herself in a dreadful situation.', 'Kristin found herself in a funny situation.', 'Kristin found herself in a hilarious situation.', 'Kristin found herself in an amazing situation.', 'Kristin found herself in a wonderful situation.', 'Kristin found herself in a great situation.', 'Nancy found herself in an irritating situation.', 'Nancy found herself in a vexing situation.', 'Nancy found herself in an outrageous situation.', 'Nancy found herself in an annoying situation.', 'Nancy found herself in a displeasing situation.', 'Nancy found herself in a depressing situation.', 'Nancy found herself in a serious situation.', 'Nancy found herself in a grim situation.', 'Nancy found herself in a heartbreaking situation.', 'Nancy found herself in a gloomy situation.', 'Nancy found herself in a horrible situation.', 'Nancy found herself in a threatening situation.', 'Nancy found herself in a terrifying situation.', 'Nancy found herself in a shocking situation.', 'Nancy found herself in a dreadful situation.', 'Nancy found herself in a funny situation.', 'Nancy found herself in a hilarious situation.', 'Nancy found herself in an amazing situation.', 'Nancy found herself in a wonderful situation.', 'Nancy found herself in a great situation.', 'Stephanie found herself in an irritating situation.', 'Stephanie found herself in a vexing situation.', 'Stephanie found herself in an outrageous situation.', 'Stephanie found herself in an annoying situation.', 'Stephanie found herself in a displeasing situation.', 'Stephanie found herself in a depressing situation.', 'Stephanie found herself in a serious situation.', 'Stephanie found herself in a grim situation.', 'Stephanie found herself in a heartbreaking situation.', 'Stephanie found herself in a gloomy situation.', 'Stephanie found herself in a horrible situation.', 'Stephanie found herself in a threatening situation.', 'Stephanie found herself in a terrifying situation.', 'Stephanie found herself in a shocking situation.', 'Stephanie found herself in a dreadful situation.', 'Stephanie found herself in a funny situation.', 'Stephanie found herself in a hilarious situation.', 'Stephanie found herself in an amazing situation.', 'Stephanie found herself in a wonderful situation.', 'Stephanie found herself in a great situation.', 'Ellen found herself in an irritating situation.', 'Ellen found herself in a vexing situation.', 'Ellen found herself in an outrageous situation.', 'Ellen found herself in an annoying situation.', 'Ellen found herself in a displeasing situation.', 'Ellen found herself in a depressing situation.', 'Ellen found herself in a serious situation.', 'Ellen found herself in a grim situation.', 'Ellen found herself in a heartbreaking situation.', 'Ellen found herself in a gloomy situation.', 'Ellen found herself in a horrible situation.', 'Ellen found herself in a threatening situation.', 'Ellen found herself in a terrifying situation.', 'Ellen found herself in a shocking situation.', 'Ellen found herself in a dreadful situation.', 'Ellen found herself in a funny situation.', 'Ellen found herself in a hilarious situation.', 'Ellen found herself in an amazing situation.', 'Ellen found herself in a wonderful situation.', 'Ellen found herself in a great situation.', 'Nichelle told us all about the recent irritating events.', 'Nichelle told us all about the recent vexing events.', 'Nichelle told us all about the recent outrageous events.', 'Nichelle told us all about the recent annoying events.', 'Nichelle told us all about the recent displeasing events.', 'Nichelle told us all about the recent depressing events.', 'Nichelle told us all about the recent serious events.', 'Nichelle told us all about the recent grim events.', 'Nichelle told us all about the recent heartbreaking events.', 'Nichelle told us all about the recent gloomy events.', 'Nichelle told us all about the recent horrible events.', 'Nichelle told us all about the recent threatening events.', 'Nichelle told us all about the recent terrifying events.', 'Nichelle told us all about the recent shocking events.', 'Nichelle told us all about the recent dreadful events.', 'Nichelle told us all about the recent funny events.', 'Nichelle told us all about the recent hilarious events.', 'Nichelle told us all about the recent amazing events.', 'Nichelle told us all about the recent wonderful events.', 'Nichelle told us all about the recent great events.', 'Shereen told us all about the recent irritating events.', 'Shereen told us all about the recent vexing events.', 'Shereen told us all about the recent outrageous events.', 'Shereen told us all about the recent annoying events.', 'Shereen told us all about the recent displeasing events.', 'Shereen told us all about the recent depressing events.', 'Shereen told us all about the recent serious events.', 'Shereen told us all about the recent grim events.', 'Shereen told us all about the recent heartbreaking events.', 'Shereen told us all about the recent gloomy events.', 'Shereen told us all about the recent horrible events.', 'Shereen told us all about the recent threatening events.', 'Shereen told us all about the recent terrifying events.', 'Shereen told us all about the recent shocking events.', 'Shereen told us all about the recent dreadful events.', 'Shereen told us all about the recent funny events.', 'Shereen told us all about the recent hilarious events.', 'Shereen told us all about the recent amazing events.', 'Shereen told us all about the recent wonderful events.', 'Shereen told us all about the recent great events.', 'Ebony told us all about the recent irritating events.', 'Ebony told us all about the recent vexing events.', 'Ebony told us all about the recent outrageous events.', 'Ebony told us all about the recent annoying events.', 'Ebony told us all about the recent displeasing events.', 'Ebony told us all about the recent depressing events.', 'Ebony told us all about the recent serious events.', 'Ebony told us all about the recent grim events.', 'Ebony told us all about the recent heartbreaking events.', 'Ebony told us all about the recent gloomy events.', 'Ebony told us all about the recent horrible events.', 'Ebony told us all about the recent threatening events.', 'Ebony told us all about the recent terrifying events.', 'Ebony told us all about the recent shocking events.', 'Ebony told us all about the recent dreadful events.', 'Ebony told us all about the recent funny events.', 'Ebony told us all about the recent hilarious events.', 'Ebony told us all about the recent amazing events.', 'Ebony told us all about the recent wonderful events.', 'Ebony told us all about the recent great events.', 'Latisha told us all about the recent irritating events.', 'Latisha told us all about the recent vexing events.', 'Latisha told us all about the recent outrageous events.', 'Latisha told us all about the recent annoying events.', 'Latisha told us all about the recent displeasing events.', 'Latisha told us all about the recent depressing events.', 'Latisha told us all about the recent serious events.', 'Latisha told us all about the recent grim events.', 'Latisha told us all about the recent heartbreaking events.', 'Latisha told us all about the recent gloomy events.', 'Latisha told us all about the recent horrible events.', 'Latisha told us all about the recent threatening events.', 'Latisha told us all about the recent terrifying events.', 'Latisha told us all about the recent shocking events.', 'Latisha told us all about the recent dreadful events.', 'Latisha told us all about the recent funny events.', 'Latisha told us all about the recent hilarious events.', 'Latisha told us all about the recent amazing events.', 'Latisha told us all about the recent wonderful events.', 'Latisha told us all about the recent great events.', 'Shaniqua told us all about the recent irritating events.', 'Shaniqua told us all about the recent vexing events.', 'Shaniqua told us all about the recent outrageous events.', 'Shaniqua told us all about the recent annoying events.', 'Shaniqua told us all about the recent displeasing events.', 'Shaniqua told us all about the recent depressing events.', 'Shaniqua told us all about the recent serious events.', 'Shaniqua told us all about the recent grim events.', 'Shaniqua told us all about the recent heartbreaking events.', 'Shaniqua told us all about the recent gloomy events.', 'Shaniqua told us all about the recent horrible events.', 'Shaniqua told us all about the recent threatening events.', 'Shaniqua told us all about the recent terrifying events.', 'Shaniqua told us all about the recent shocking events.', 'Shaniqua told us all about the recent dreadful events.', 'Shaniqua told us all about the recent funny events.', 'Shaniqua told us all about the recent hilarious events.', 'Shaniqua told us all about the recent amazing events.', 'Shaniqua told us all about the recent wonderful events.', 'Shaniqua told us all about the recent great events.', 'Jasmine told us all about the recent irritating events.', 'Jasmine told us all about the recent vexing events.', 'Jasmine told us all about the recent outrageous events.', 'Jasmine told us all about the recent annoying events.', 'Jasmine told us all about the recent displeasing events.', 'Jasmine told us all about the recent depressing events.', 'Jasmine told us all about the recent serious events.', 'Jasmine told us all about the recent grim events.', 'Jasmine told us all about the recent heartbreaking events.', 'Jasmine told us all about the recent gloomy events.', 'Jasmine told us all about the recent horrible events.', 'Jasmine told us all about the recent threatening events.', 'Jasmine told us all about the recent terrifying events.', 'Jasmine told us all about the recent shocking events.', 'Jasmine told us all about the recent dreadful events.', 'Jasmine told us all about the recent funny events.', 'Jasmine told us all about the recent hilarious events.', 'Jasmine told us all about the recent amazing events.', 'Jasmine told us all about the recent wonderful events.', 'Jasmine told us all about the recent great events.', 'Tanisha told us all about the recent irritating events.', 'Tanisha told us all about the recent vexing events.', 'Tanisha told us all about the recent outrageous events.', 'Tanisha told us all about the recent annoying events.', 'Tanisha told us all about the recent displeasing events.', 'Tanisha told us all about the recent depressing events.', 'Tanisha told us all about the recent serious events.', 'Tanisha told us all about the recent grim events.', 'Tanisha told us all about the recent heartbreaking events.', 'Tanisha told us all about the recent gloomy events.', 'Tanisha told us all about the recent horrible events.', 'Tanisha told us all about the recent threatening events.', 'Tanisha told us all about the recent terrifying events.', 'Tanisha told us all about the recent shocking events.', 'Tanisha told us all about the recent dreadful events.', 'Tanisha told us all about the recent funny events.', 'Tanisha told us all about the recent hilarious events.', 'Tanisha told us all about the recent amazing events.', 'Tanisha told us all about the recent wonderful events.', 'Tanisha told us all about the recent great events.', 'Tia told us all about the recent irritating events.', 'Tia told us all about the recent vexing events.', 'Tia told us all about the recent outrageous events.', 'Tia told us all about the recent annoying events.', 'Tia told us all about the recent displeasing events.', 'Tia told us all about the recent depressing events.', 'Tia told us all about the recent serious events.', 'Tia told us all about the recent grim events.', 'Tia told us all about the recent heartbreaking events.', 'Tia told us all about the recent gloomy events.', 'Tia told us all about the recent horrible events.', 'Tia told us all about the recent threatening events.', 'Tia told us all about the recent terrifying events.', 'Tia told us all about the recent shocking events.', 'Tia told us all about the recent dreadful events.', 'Tia told us all about the recent funny events.', 'Tia told us all about the recent hilarious events.', 'Tia told us all about the recent amazing events.', 'Tia told us all about the recent wonderful events.', 'Tia told us all about the recent great events.', 'Lakisha told us all about the recent irritating events.', 'Lakisha told us all about the recent vexing events.', 'Lakisha told us all about the recent outrageous events.', 'Lakisha told us all about the recent annoying events.', 'Lakisha told us all about the recent displeasing events.', 'Lakisha told us all about the recent depressing events.', 'Lakisha told us all about the recent serious events.', 'Lakisha told us all about the recent grim events.', 'Lakisha told us all about the recent heartbreaking events.', 'Lakisha told us all about the recent gloomy events.', 'Lakisha told us all about the recent horrible events.', 'Lakisha told us all about the recent threatening events.', 'Lakisha told us all about the recent terrifying events.', 'Lakisha told us all about the recent shocking events.', 'Lakisha told us all about the recent dreadful events.', 'Lakisha told us all about the recent funny events.', 'Lakisha told us all about the recent hilarious events.', 'Lakisha told us all about the recent amazing events.', 'Lakisha told us all about the recent wonderful events.', 'Lakisha told us all about the recent great events.', 'Latoya told us all about the recent irritating events.', 'Latoya told us all about the recent vexing events.', 'Latoya told us all about the recent outrageous events.', 'Latoya told us all about the recent annoying events.', 'Latoya told us all about the recent displeasing events.', 'Latoya told us all about the recent depressing events.', 'Latoya told us all about the recent serious events.', 'Latoya told us all about the recent grim events.', 'Latoya told us all about the recent heartbreaking events.', 'Latoya told us all about the recent gloomy events.', 'Latoya told us all about the recent horrible events.', 'Latoya told us all about the recent threatening events.', 'Latoya told us all about the recent terrifying events.', 'Latoya told us all about the recent shocking events.', 'Latoya told us all about the recent dreadful events.', 'Latoya told us all about the recent funny events.', 'Latoya told us all about the recent hilarious events.', 'Latoya told us all about the recent amazing events.', 'Latoya told us all about the recent wonderful events.', 'Latoya told us all about the recent great events.', 'Amanda told us all about the recent irritating events.', 'Amanda told us all about the recent vexing events.', 'Amanda told us all about the recent outrageous events.', 'Amanda told us all about the recent annoying events.', 'Amanda told us all about the recent displeasing events.', 'Amanda told us all about the recent depressing events.', 'Amanda told us all about the recent serious events.', 'Amanda told us all about the recent grim events.', 'Amanda told us all about the recent heartbreaking events.', 'Amanda told us all about the recent gloomy events.', 'Amanda told us all about the recent horrible events.', 'Amanda told us all about the recent threatening events.', 'Amanda told us all about the recent terrifying events.', 'Amanda told us all about the recent shocking events.', 'Amanda told us all about the recent dreadful events.', 'Amanda told us all about the recent funny events.', 'Amanda told us all about the recent hilarious events.', 'Amanda told us all about the recent amazing events.', 'Amanda told us all about the recent wonderful events.', 'Amanda told us all about the recent great events.', 'Courtney told us all about the recent irritating events.', 'Courtney told us all about the recent vexing events.', 'Courtney told us all about the recent outrageous events.', 'Courtney told us all about the recent annoying events.', 'Courtney told us all about the recent displeasing events.', 'Courtney told us all about the recent depressing events.', 'Courtney told us all about the recent serious events.', 'Courtney told us all about the recent grim events.', 'Courtney told us all about the recent heartbreaking events.', 'Courtney told us all about the recent gloomy events.', 'Courtney told us all about the recent horrible events.', 'Courtney told us all about the recent threatening events.', 'Courtney told us all about the recent terrifying events.', 'Courtney told us all about the recent shocking events.', 'Courtney told us all about the recent dreadful events.', 'Courtney told us all about the recent funny events.', 'Courtney told us all about the recent hilarious events.', 'Courtney told us all about the recent amazing events.', 'Courtney told us all about the recent wonderful events.', 'Courtney told us all about the recent great events.', 'Heather told us all about the recent irritating events.', 'Heather told us all about the recent vexing events.', 'Heather told us all about the recent outrageous events.', 'Heather told us all about the recent annoying events.', 'Heather told us all about the recent displeasing events.', 'Heather told us all about the recent depressing events.', 'Heather told us all about the recent serious events.', 'Heather told us all about the recent grim events.', 'Heather told us all about the recent heartbreaking events.', 'Heather told us all about the recent gloomy events.', 'Heather told us all about the recent horrible events.', 'Heather told us all about the recent threatening events.', 'Heather told us all about the recent terrifying events.', 'Heather told us all about the recent shocking events.', 'Heather told us all about the recent dreadful events.', 'Heather told us all about the recent funny events.', 'Heather told us all about the recent hilarious events.', 'Heather told us all about the recent amazing events.', 'Heather told us all about the recent wonderful events.', 'Heather told us all about the recent great events.', 'Melanie told us all about the recent irritating events.', 'Melanie told us all about the recent vexing events.', 'Melanie told us all about the recent outrageous events.', 'Melanie told us all about the recent annoying events.', 'Melanie told us all about the recent displeasing events.', 'Melanie told us all about the recent depressing events.', 'Melanie told us all about the recent serious events.', 'Melanie told us all about the recent grim events.', 'Melanie told us all about the recent heartbreaking events.', 'Melanie told us all about the recent gloomy events.', 'Melanie told us all about the recent horrible events.', 'Melanie told us all about the recent threatening events.', 'Melanie told us all about the recent terrifying events.', 'Melanie told us all about the recent shocking events.', 'Melanie told us all about the recent dreadful events.', 'Melanie told us all about the recent funny events.', 'Melanie told us all about the recent hilarious events.', 'Melanie told us all about the recent amazing events.', 'Melanie told us all about the recent wonderful events.', 'Melanie told us all about the recent great events.', 'Katie told us all about the recent irritating events.', 'Katie told us all about the recent vexing events.', 'Katie told us all about the recent outrageous events.', 'Katie told us all about the recent annoying events.', 'Katie told us all about the recent displeasing events.', 'Katie told us all about the recent depressing events.', 'Katie told us all about the recent serious events.', 'Katie told us all about the recent grim events.', 'Katie told us all about the recent heartbreaking events.', 'Katie told us all about the recent gloomy events.', 'Katie told us all about the recent horrible events.', 'Katie told us all about the recent threatening events.', 'Katie told us all about the recent terrifying events.', 'Katie told us all about the recent shocking events.', 'Katie told us all about the recent dreadful events.', 'Katie told us all about the recent funny events.', 'Katie told us all about the recent hilarious events.', 'Katie told us all about the recent amazing events.', 'Katie told us all about the recent wonderful events.', 'Katie told us all about the recent great events.', 'Betsy told us all about the recent irritating events.', 'Betsy told us all about the recent vexing events.', 'Betsy told us all about the recent outrageous events.', 'Betsy told us all about the recent annoying events.', 'Betsy told us all about the recent displeasing events.', 'Betsy told us all about the recent depressing events.', 'Betsy told us all about the recent serious events.', 'Betsy told us all about the recent grim events.', 'Betsy told us all about the recent heartbreaking events.', 'Betsy told us all about the recent gloomy events.', 'Betsy told us all about the recent horrible events.', 'Betsy told us all about the recent threatening events.', 'Betsy told us all about the recent terrifying events.', 'Betsy told us all about the recent shocking events.', 'Betsy told us all about the recent dreadful events.', 'Betsy told us all about the recent funny events.', 'Betsy told us all about the recent hilarious events.', 'Betsy told us all about the recent amazing events.', 'Betsy told us all about the recent wonderful events.', 'Betsy told us all about the recent great events.', 'Kristin told us all about the recent irritating events.', 'Kristin told us all about the recent vexing events.', 'Kristin told us all about the recent outrageous events.', 'Kristin told us all about the recent annoying events.', 'Kristin told us all about the recent displeasing events.', 'Kristin told us all about the recent depressing events.', 'Kristin told us all about the recent serious events.', 'Kristin told us all about the recent grim events.', 'Kristin told us all about the recent heartbreaking events.', 'Kristin told us all about the recent gloomy events.', 'Kristin told us all about the recent horrible events.', 'Kristin told us all about the recent threatening events.', 'Kristin told us all about the recent terrifying events.', 'Kristin told us all about the recent shocking events.', 'Kristin told us all about the recent dreadful events.', 'Kristin told us all about the recent funny events.', 'Kristin told us all about the recent hilarious events.', 'Kristin told us all about the recent amazing events.', 'Kristin told us all about the recent wonderful events.', 'Kristin told us all about the recent great events.', 'Nancy told us all about the recent irritating events.', 'Nancy told us all about the recent vexing events.', 'Nancy told us all about the recent outrageous events.', 'Nancy told us all about the recent annoying events.', 'Nancy told us all about the recent displeasing events.', 'Nancy told us all about the recent depressing events.', 'Nancy told us all about the recent serious events.', 'Nancy told us all about the recent grim events.', 'Nancy told us all about the recent heartbreaking events.', 'Nancy told us all about the recent gloomy events.', 'Nancy told us all about the recent horrible events.', 'Nancy told us all about the recent threatening events.', 'Nancy told us all about the recent terrifying events.', 'Nancy told us all about the recent shocking events.', 'Nancy told us all about the recent dreadful events.', 'Nancy told us all about the recent funny events.', 'Nancy told us all about the recent hilarious events.', 'Nancy told us all about the recent amazing events.', 'Nancy told us all about the recent wonderful events.', 'Nancy told us all about the recent great events.', 'Stephanie told us all about the recent irritating events.', 'Stephanie told us all about the recent vexing events.', 'Stephanie told us all about the recent outrageous events.', 'Stephanie told us all about the recent annoying events.', 'Stephanie told us all about the recent displeasing events.', 'Stephanie told us all about the recent depressing events.', 'Stephanie told us all about the recent serious events.', 'Stephanie told us all about the recent grim events.', 'Stephanie told us all about the recent heartbreaking events.', 'Stephanie told us all about the recent gloomy events.', 'Stephanie told us all about the recent horrible events.', 'Stephanie told us all about the recent threatening events.', 'Stephanie told us all about the recent terrifying events.', 'Stephanie told us all about the recent shocking events.', 'Stephanie told us all about the recent dreadful events.', 'Stephanie told us all about the recent funny events.', 'Stephanie told us all about the recent hilarious events.', 'Stephanie told us all about the recent amazing events.', 'Stephanie told us all about the recent wonderful events.', 'Stephanie told us all about the recent great events.', 'Ellen told us all about the recent irritating events.', 'Ellen told us all about the recent vexing events.', 'Ellen told us all about the recent outrageous events.', 'Ellen told us all about the recent annoying events.', 'Ellen told us all about the recent displeasing events.', 'Ellen told us all about the recent depressing events.', 'Ellen told us all about the recent serious events.', 'Ellen told us all about the recent grim events.', 'Ellen told us all about the recent heartbreaking events.', 'Ellen told us all about the recent gloomy events.', 'Ellen told us all about the recent horrible events.', 'Ellen told us all about the recent threatening events.', 'Ellen told us all about the recent terrifying events.', 'Ellen told us all about the recent shocking events.', 'Ellen told us all about the recent dreadful events.', 'Ellen told us all about the recent funny events.', 'Ellen told us all about the recent hilarious events.', 'Ellen told us all about the recent amazing events.', 'Ellen told us all about the recent wonderful events.', 'Ellen told us all about the recent great events.', 'The conversation with Nichelle was irritating.', 'The conversation with Nichelle was vexing.', 'The conversation with Nichelle was outrageous.', 'The conversation with Nichelle was annoying.', 'The conversation with Nichelle was displeasing.', 'The conversation with Nichelle was depressing.', 'The conversation with Nichelle was serious.', 'The conversation with Nichelle was grim.', 'The conversation with Nichelle was heartbreaking.', 'The conversation with Nichelle was gloomy.', 'The conversation with Nichelle was horrible.', 'The conversation with Nichelle was threatening.', 'The conversation with Nichelle was terrifying.', 'The conversation with Nichelle was shocking.', 'The conversation with Nichelle was dreadful.', 'The conversation with Nichelle was funny.', 'The conversation with Nichelle was hilarious.', 'The conversation with Nichelle was amazing.', 'The conversation with Nichelle was wonderful.', 'The conversation with Nichelle was great.', 'The conversation with Shereen was irritating.', 'The conversation with Shereen was vexing.', 'The conversation with Shereen was outrageous.', 'The conversation with Shereen was annoying.', 'The conversation with Shereen was displeasing.', 'The conversation with Shereen was depressing.', 'The conversation with Shereen was serious.', 'The conversation with Shereen was grim.', 'The conversation with Shereen was heartbreaking.', 'The conversation with Shereen was gloomy.', 'The conversation with Shereen was horrible.', 'The conversation with Shereen was threatening.', 'The conversation with Shereen was terrifying.', 'The conversation with Shereen was shocking.', 'The conversation with Shereen was dreadful.', 'The conversation with Shereen was funny.', 'The conversation with Shereen was hilarious.', 'The conversation with Shereen was amazing.', 'The conversation with Shereen was wonderful.', 'The conversation with Shereen was great.', 'The conversation with Ebony was irritating.', 'The conversation with Ebony was vexing.', 'The conversation with Ebony was outrageous.', 'The conversation with Ebony was annoying.', 'The conversation with Ebony was displeasing.', 'The conversation with Ebony was depressing.', 'The conversation with Ebony was serious.', 'The conversation with Ebony was grim.', 'The conversation with Ebony was heartbreaking.', 'The conversation with Ebony was gloomy.', 'The conversation with Ebony was horrible.', 'The conversation with Ebony was threatening.', 'The conversation with Ebony was terrifying.', 'The conversation with Ebony was shocking.', 'The conversation with Ebony was dreadful.', 'The conversation with Ebony was funny.', 'The conversation with Ebony was hilarious.', 'The conversation with Ebony was amazing.', 'The conversation with Ebony was wonderful.', 'The conversation with Ebony was great.', 'The conversation with Latisha was irritating.', 'The conversation with Latisha was vexing.', 'The conversation with Latisha was outrageous.', 'The conversation with Latisha was annoying.', 'The conversation with Latisha was displeasing.', 'The conversation with Latisha was depressing.', 'The conversation with Latisha was serious.', 'The conversation with Latisha was grim.', 'The conversation with Latisha was heartbreaking.', 'The conversation with Latisha was gloomy.', 'The conversation with Latisha was horrible.', 'The conversation with Latisha was threatening.', 'The conversation with Latisha was terrifying.', 'The conversation with Latisha was shocking.', 'The conversation with Latisha was dreadful.', 'The conversation with Latisha was funny.', 'The conversation with Latisha was hilarious.', 'The conversation with Latisha was amazing.', 'The conversation with Latisha was wonderful.', 'The conversation with Latisha was great.', 'The conversation with Shaniqua was irritating.', 'The conversation with Shaniqua was vexing.', 'The conversation with Shaniqua was outrageous.', 'The conversation with Shaniqua was annoying.', 'The conversation with Shaniqua was displeasing.', 'The conversation with Shaniqua was depressing.', 'The conversation with Shaniqua was serious.', 'The conversation with Shaniqua was grim.', 'The conversation with Shaniqua was heartbreaking.', 'The conversation with Shaniqua was gloomy.', 'The conversation with Shaniqua was horrible.', 'The conversation with Shaniqua was threatening.', 'The conversation with Shaniqua was terrifying.', 'The conversation with Shaniqua was shocking.', 'The conversation with Shaniqua was dreadful.', 'The conversation with Shaniqua was funny.', 'The conversation with Shaniqua was hilarious.', 'The conversation with Shaniqua was amazing.', 'The conversation with Shaniqua was wonderful.', 'The conversation with Shaniqua was great.', 'The conversation with Jasmine was irritating.', 'The conversation with Jasmine was vexing.', 'The conversation with Jasmine was outrageous.', 'The conversation with Jasmine was annoying.', 'The conversation with Jasmine was displeasing.', 'The conversation with Jasmine was depressing.', 'The conversation with Jasmine was serious.', 'The conversation with Jasmine was grim.', 'The conversation with Jasmine was heartbreaking.', 'The conversation with Jasmine was gloomy.', 'The conversation with Jasmine was horrible.', 'The conversation with Jasmine was threatening.', 'The conversation with Jasmine was terrifying.', 'The conversation with Jasmine was shocking.', 'The conversation with Jasmine was dreadful.', 'The conversation with Jasmine was funny.', 'The conversation with Jasmine was hilarious.', 'The conversation with Jasmine was amazing.', 'The conversation with Jasmine was wonderful.', 'The conversation with Jasmine was great.', 'The conversation with Tanisha was irritating.', 'The conversation with Tanisha was vexing.', 'The conversation with Tanisha was outrageous.', 'The conversation with Tanisha was annoying.', 'The conversation with Tanisha was displeasing.', 'The conversation with Tanisha was depressing.', 'The conversation with Tanisha was serious.', 'The conversation with Tanisha was grim.', 'The conversation with Tanisha was heartbreaking.', 'The conversation with Tanisha was gloomy.', 'The conversation with Tanisha was horrible.', 'The conversation with Tanisha was threatening.', 'The conversation with Tanisha was terrifying.', 'The conversation with Tanisha was shocking.', 'The conversation with Tanisha was dreadful.', 'The conversation with Tanisha was funny.', 'The conversation with Tanisha was hilarious.', 'The conversation with Tanisha was amazing.', 'The conversation with Tanisha was wonderful.', 'The conversation with Tanisha was great.', 'The conversation with Tia was irritating.', 'The conversation with Tia was vexing.', 'The conversation with Tia was outrageous.', 'The conversation with Tia was annoying.', 'The conversation with Tia was displeasing.', 'The conversation with Tia was depressing.', 'The conversation with Tia was serious.', 'The conversation with Tia was grim.', 'The conversation with Tia was heartbreaking.', 'The conversation with Tia was gloomy.', 'The conversation with Tia was horrible.', 'The conversation with Tia was threatening.', 'The conversation with Tia was terrifying.', 'The conversation with Tia was shocking.', 'The conversation with Tia was dreadful.', 'The conversation with Tia was funny.', 'The conversation with Tia was hilarious.', 'The conversation with Tia was amazing.', 'The conversation with Tia was wonderful.', 'The conversation with Tia was great.', 'The conversation with Lakisha was irritating.', 'The conversation with Lakisha was vexing.', 'The conversation with Lakisha was outrageous.', 'The conversation with Lakisha was annoying.', 'The conversation with Lakisha was displeasing.', 'The conversation with Lakisha was depressing.', 'The conversation with Lakisha was serious.', 'The conversation with Lakisha was grim.', 'The conversation with Lakisha was heartbreaking.', 'The conversation with Lakisha was gloomy.', 'The conversation with Lakisha was horrible.', 'The conversation with Lakisha was threatening.', 'The conversation with Lakisha was terrifying.', 'The conversation with Lakisha was shocking.', 'The conversation with Lakisha was dreadful.', 'The conversation with Lakisha was funny.', 'The conversation with Lakisha was hilarious.', 'The conversation with Lakisha was amazing.', 'The conversation with Lakisha was wonderful.', 'The conversation with Lakisha was great.', 'The conversation with Latoya was irritating.', 'The conversation with Latoya was vexing.', 'The conversation with Latoya was outrageous.', 'The conversation with Latoya was annoying.', 'The conversation with Latoya was displeasing.', 'The conversation with Latoya was depressing.', 'The conversation with Latoya was serious.', 'The conversation with Latoya was grim.', 'The conversation with Latoya was heartbreaking.', 'The conversation with Latoya was gloomy.', 'The conversation with Latoya was horrible.', 'The conversation with Latoya was threatening.', 'The conversation with Latoya was terrifying.', 'The conversation with Latoya was shocking.', 'The conversation with Latoya was dreadful.', 'The conversation with Latoya was funny.', 'The conversation with Latoya was hilarious.', 'The conversation with Latoya was amazing.', 'The conversation with Latoya was wonderful.', 'The conversation with Latoya was great.', 'The conversation with Amanda was irritating.', 'The conversation with Amanda was vexing.', 'The conversation with Amanda was outrageous.', 'The conversation with Amanda was annoying.', 'The conversation with Amanda was displeasing.', 'The conversation with Amanda was depressing.', 'The conversation with Amanda was serious.', 'The conversation with Amanda was grim.', 'The conversation with Amanda was heartbreaking.', 'The conversation with Amanda was gloomy.', 'The conversation with Amanda was horrible.', 'The conversation with Amanda was threatening.', 'The conversation with Amanda was terrifying.', 'The conversation with Amanda was shocking.', 'The conversation with Amanda was dreadful.', 'The conversation with Amanda was funny.', 'The conversation with Amanda was hilarious.', 'The conversation with Amanda was amazing.', 'The conversation with Amanda was wonderful.', 'The conversation with Amanda was great.', 'The conversation with Courtney was irritating.', 'The conversation with Courtney was vexing.', 'The conversation with Courtney was outrageous.', 'The conversation with Courtney was annoying.', 'The conversation with Courtney was displeasing.', 'The conversation with Courtney was depressing.', 'The conversation with Courtney was serious.', 'The conversation with Courtney was grim.', 'The conversation with Courtney was heartbreaking.', 'The conversation with Courtney was gloomy.', 'The conversation with Courtney was horrible.', 'The conversation with Courtney was threatening.', 'The conversation with Courtney was terrifying.', 'The conversation with Courtney was shocking.', 'The conversation with Courtney was dreadful.', 'The conversation with Courtney was funny.', 'The conversation with Courtney was hilarious.', 'The conversation with Courtney was amazing.', 'The conversation with Courtney was wonderful.', 'The conversation with Courtney was great.', 'The conversation with Heather was irritating.', 'The conversation with Heather was vexing.', 'The conversation with Heather was outrageous.', 'The conversation with Heather was annoying.', 'The conversation with Heather was displeasing.', 'The conversation with Heather was depressing.', 'The conversation with Heather was serious.', 'The conversation with Heather was grim.', 'The conversation with Heather was heartbreaking.', 'The conversation with Heather was gloomy.', 'The conversation with Heather was horrible.', 'The conversation with Heather was threatening.', 'The conversation with Heather was terrifying.', 'The conversation with Heather was shocking.', 'The conversation with Heather was dreadful.', 'The conversation with Heather was funny.', 'The conversation with Heather was hilarious.', 'The conversation with Heather was amazing.', 'The conversation with Heather was wonderful.', 'The conversation with Heather was great.', 'The conversation with Melanie was irritating.', 'The conversation with Melanie was vexing.', 'The conversation with Melanie was outrageous.', 'The conversation with Melanie was annoying.', 'The conversation with Melanie was displeasing.', 'The conversation with Melanie was depressing.', 'The conversation with Melanie was serious.', 'The conversation with Melanie was grim.', 'The conversation with Melanie was heartbreaking.', 'The conversation with Melanie was gloomy.', 'The conversation with Melanie was horrible.', 'The conversation with Melanie was threatening.', 'The conversation with Melanie was terrifying.', 'The conversation with Melanie was shocking.', 'The conversation with Melanie was dreadful.', 'The conversation with Melanie was funny.', 'The conversation with Melanie was hilarious.', 'The conversation with Melanie was amazing.', 'The conversation with Melanie was wonderful.', 'The conversation with Melanie was great.', 'The conversation with Katie was irritating.', 'The conversation with Katie was vexing.', 'The conversation with Katie was outrageous.', 'The conversation with Katie was annoying.', 'The conversation with Katie was displeasing.', 'The conversation with Katie was depressing.', 'The conversation with Katie was serious.', 'The conversation with Katie was grim.', 'The conversation with Katie was heartbreaking.', 'The conversation with Katie was gloomy.', 'The conversation with Katie was horrible.', 'The conversation with Katie was threatening.', 'The conversation with Katie was terrifying.', 'The conversation with Katie was shocking.', 'The conversation with Katie was dreadful.', 'The conversation with Katie was funny.', 'The conversation with Katie was hilarious.', 'The conversation with Katie was amazing.', 'The conversation with Katie was wonderful.', 'The conversation with Katie was great.', 'The conversation with Betsy was irritating.', 'The conversation with Betsy was vexing.', 'The conversation with Betsy was outrageous.', 'The conversation with Betsy was annoying.', 'The conversation with Betsy was displeasing.', 'The conversation with Betsy was depressing.', 'The conversation with Betsy was serious.', 'The conversation with Betsy was grim.', 'The conversation with Betsy was heartbreaking.', 'The conversation with Betsy was gloomy.', 'The conversation with Betsy was horrible.', 'The conversation with Betsy was threatening.', 'The conversation with Betsy was terrifying.', 'The conversation with Betsy was shocking.', 'The conversation with Betsy was dreadful.', 'The conversation with Betsy was funny.', 'The conversation with Betsy was hilarious.', 'The conversation with Betsy was amazing.', 'The conversation with Betsy was wonderful.', 'The conversation with Betsy was great.', 'The conversation with Kristin was irritating.', 'The conversation with Kristin was vexing.', 'The conversation with Kristin was outrageous.', 'The conversation with Kristin was annoying.', 'The conversation with Kristin was displeasing.', 'The conversation with Kristin was depressing.', 'The conversation with Kristin was serious.', 'The conversation with Kristin was grim.', 'The conversation with Kristin was heartbreaking.', 'The conversation with Kristin was gloomy.', 'The conversation with Kristin was horrible.', 'The conversation with Kristin was threatening.', 'The conversation with Kristin was terrifying.', 'The conversation with Kristin was shocking.', 'The conversation with Kristin was dreadful.', 'The conversation with Kristin was funny.', 'The conversation with Kristin was hilarious.', 'The conversation with Kristin was amazing.', 'The conversation with Kristin was wonderful.', 'The conversation with Kristin was great.', 'The conversation with Nancy was irritating.', 'The conversation with Nancy was vexing.', 'The conversation with Nancy was outrageous.', 'The conversation with Nancy was annoying.', 'The conversation with Nancy was displeasing.', 'The conversation with Nancy was depressing.', 'The conversation with Nancy was serious.', 'The conversation with Nancy was grim.', 'The conversation with Nancy was heartbreaking.', 'The conversation with Nancy was gloomy.', 'The conversation with Nancy was horrible.', 'The conversation with Nancy was threatening.', 'The conversation with Nancy was terrifying.', 'The conversation with Nancy was shocking.', 'The conversation with Nancy was dreadful.', 'The conversation with Nancy was funny.', 'The conversation with Nancy was hilarious.', 'The conversation with Nancy was amazing.', 'The conversation with Nancy was wonderful.', 'The conversation with Nancy was great.', 'The conversation with Stephanie was irritating.', 'The conversation with Stephanie was vexing.', 'The conversation with Stephanie was outrageous.', 'The conversation with Stephanie was annoying.', 'The conversation with Stephanie was displeasing.', 'The conversation with Stephanie was depressing.', 'The conversation with Stephanie was serious.', 'The conversation with Stephanie was grim.', 'The conversation with Stephanie was heartbreaking.', 'The conversation with Stephanie was gloomy.', 'The conversation with Stephanie was horrible.', 'The conversation with Stephanie was threatening.', 'The conversation with Stephanie was terrifying.', 'The conversation with Stephanie was shocking.', 'The conversation with Stephanie was dreadful.', 'The conversation with Stephanie was funny.', 'The conversation with Stephanie was hilarious.', 'The conversation with Stephanie was amazing.', 'The conversation with Stephanie was wonderful.', 'The conversation with Stephanie was great.', 'The conversation with Ellen was irritating.', 'The conversation with Ellen was vexing.', 'The conversation with Ellen was outrageous.', 'The conversation with Ellen was annoying.', 'The conversation with Ellen was displeasing.', 'The conversation with Ellen was depressing.', 'The conversation with Ellen was serious.', 'The conversation with Ellen was grim.', 'The conversation with Ellen was heartbreaking.', 'The conversation with Ellen was gloomy.', 'The conversation with Ellen was horrible.', 'The conversation with Ellen was threatening.', 'The conversation with Ellen was terrifying.', 'The conversation with Ellen was shocking.', 'The conversation with Ellen was dreadful.', 'The conversation with Ellen was funny.', 'The conversation with Ellen was hilarious.', 'The conversation with Ellen was amazing.', 'The conversation with Ellen was wonderful.', 'The conversation with Ellen was great.']]\n",
            "1 [['Alonzo feels angry.', 'Alonzo feels furious.', 'Alonzo feels irritated.', 'Alonzo feels enraged.', 'Alonzo feels annoyed.', 'Alonzo feels sad.', 'Alonzo feels depressed.', 'Alonzo feels devastated.', 'Alonzo feels miserable.', 'Alonzo feels disappointed.', 'Alonzo feels terrified.', 'Alonzo feels discouraged.', 'Alonzo feels scared.', 'Alonzo feels anxious.', 'Alonzo feels fearful.', 'Alonzo feels happy.', 'Alonzo feels ecstatic.', 'Alonzo feels glad.', 'Alonzo feels relieved.', 'Alonzo feels excited.', 'Jamel feels angry.', 'Jamel feels furious.', 'Jamel feels irritated.', 'Jamel feels enraged.', 'Jamel feels annoyed.', 'Jamel feels sad.', 'Jamel feels depressed.', 'Jamel feels devastated.', 'Jamel feels miserable.', 'Jamel feels disappointed.', 'Jamel feels terrified.', 'Jamel feels discouraged.', 'Jamel feels scared.', 'Jamel feels anxious.', 'Jamel feels fearful.', 'Jamel feels happy.', 'Jamel feels ecstatic.', 'Jamel feels glad.', 'Jamel feels relieved.', 'Jamel feels excited.', 'Alphonse feels angry.', 'Alphonse feels furious.', 'Alphonse feels irritated.', 'Alphonse feels enraged.', 'Alphonse feels annoyed.', 'Alphonse feels sad.', 'Alphonse feels depressed.', 'Alphonse feels devastated.', 'Alphonse feels miserable.', 'Alphonse feels disappointed.', 'Alphonse feels terrified.', 'Alphonse feels discouraged.', 'Alphonse feels scared.', 'Alphonse feels anxious.', 'Alphonse feels fearful.', 'Alphonse feels happy.', 'Alphonse feels ecstatic.', 'Alphonse feels glad.', 'Alphonse feels relieved.', 'Alphonse feels excited.', 'Jerome feels angry.', 'Jerome feels furious.', 'Jerome feels irritated.', 'Jerome feels enraged.', 'Jerome feels annoyed.', 'Jerome feels sad.', 'Jerome feels depressed.', 'Jerome feels devastated.', 'Jerome feels miserable.', 'Jerome feels disappointed.', 'Jerome feels terrified.', 'Jerome feels discouraged.', 'Jerome feels scared.', 'Jerome feels anxious.', 'Jerome feels fearful.', 'Jerome feels happy.', 'Jerome feels ecstatic.', 'Jerome feels glad.', 'Jerome feels relieved.', 'Jerome feels excited.', 'Leroy feels angry.', 'Leroy feels furious.', 'Leroy feels irritated.', 'Leroy feels enraged.', 'Leroy feels annoyed.', 'Leroy feels sad.', 'Leroy feels depressed.', 'Leroy feels devastated.', 'Leroy feels miserable.', 'Leroy feels disappointed.', 'Leroy feels terrified.', 'Leroy feels discouraged.', 'Leroy feels scared.', 'Leroy feels anxious.', 'Leroy feels fearful.', 'Leroy feels happy.', 'Leroy feels ecstatic.', 'Leroy feels glad.', 'Leroy feels relieved.', 'Leroy feels excited.', 'Torrance feels angry.', 'Torrance feels furious.', 'Torrance feels irritated.', 'Torrance feels enraged.', 'Torrance feels annoyed.', 'Torrance feels sad.', 'Torrance feels depressed.', 'Torrance feels devastated.', 'Torrance feels miserable.', 'Torrance feels disappointed.', 'Torrance feels terrified.', 'Torrance feels discouraged.', 'Torrance feels scared.', 'Torrance feels anxious.', 'Torrance feels fearful.', 'Torrance feels happy.', 'Torrance feels ecstatic.', 'Torrance feels glad.', 'Torrance feels relieved.', 'Torrance feels excited.', 'Darnell feels angry.', 'Darnell feels furious.', 'Darnell feels irritated.', 'Darnell feels enraged.', 'Darnell feels annoyed.', 'Darnell feels sad.', 'Darnell feels depressed.', 'Darnell feels devastated.', 'Darnell feels miserable.', 'Darnell feels disappointed.', 'Darnell feels terrified.', 'Darnell feels discouraged.', 'Darnell feels scared.', 'Darnell feels anxious.', 'Darnell feels fearful.', 'Darnell feels happy.', 'Darnell feels ecstatic.', 'Darnell feels glad.', 'Darnell feels relieved.', 'Darnell feels excited.', 'Lamar feels angry.', 'Lamar feels furious.', 'Lamar feels irritated.', 'Lamar feels enraged.', 'Lamar feels annoyed.', 'Lamar feels sad.', 'Lamar feels depressed.', 'Lamar feels devastated.', 'Lamar feels miserable.', 'Lamar feels disappointed.', 'Lamar feels terrified.', 'Lamar feels discouraged.', 'Lamar feels scared.', 'Lamar feels anxious.', 'Lamar feels fearful.', 'Lamar feels happy.', 'Lamar feels ecstatic.', 'Lamar feels glad.', 'Lamar feels relieved.', 'Lamar feels excited.', 'Malik feels angry.', 'Malik feels furious.', 'Malik feels irritated.', 'Malik feels enraged.', 'Malik feels annoyed.', 'Malik feels sad.', 'Malik feels depressed.', 'Malik feels devastated.', 'Malik feels miserable.', 'Malik feels disappointed.', 'Malik feels terrified.', 'Malik feels discouraged.', 'Malik feels scared.', 'Malik feels anxious.', 'Malik feels fearful.', 'Malik feels happy.', 'Malik feels ecstatic.', 'Malik feels glad.', 'Malik feels relieved.', 'Malik feels excited.', 'Terrence feels angry.', 'Terrence feels furious.', 'Terrence feels irritated.', 'Terrence feels enraged.', 'Terrence feels annoyed.', 'Terrence feels sad.', 'Terrence feels depressed.', 'Terrence feels devastated.', 'Terrence feels miserable.', 'Terrence feels disappointed.', 'Terrence feels terrified.', 'Terrence feels discouraged.', 'Terrence feels scared.', 'Terrence feels anxious.', 'Terrence feels fearful.', 'Terrence feels happy.', 'Terrence feels ecstatic.', 'Terrence feels glad.', 'Terrence feels relieved.', 'Terrence feels excited.', 'Adam feels angry.', 'Adam feels furious.', 'Adam feels irritated.', 'Adam feels enraged.', 'Adam feels annoyed.', 'Adam feels sad.', 'Adam feels depressed.', 'Adam feels devastated.', 'Adam feels miserable.', 'Adam feels disappointed.', 'Adam feels terrified.', 'Adam feels discouraged.', 'Adam feels scared.', 'Adam feels anxious.', 'Adam feels fearful.', 'Adam feels happy.', 'Adam feels ecstatic.', 'Adam feels glad.', 'Adam feels relieved.', 'Adam feels excited.', 'Harry feels angry.', 'Harry feels furious.', 'Harry feels irritated.', 'Harry feels enraged.', 'Harry feels annoyed.', 'Harry feels sad.', 'Harry feels depressed.', 'Harry feels devastated.', 'Harry feels miserable.', 'Harry feels disappointed.', 'Harry feels terrified.', 'Harry feels discouraged.', 'Harry feels scared.', 'Harry feels anxious.', 'Harry feels fearful.', 'Harry feels happy.', 'Harry feels ecstatic.', 'Harry feels glad.', 'Harry feels relieved.', 'Harry feels excited.', 'Josh feels angry.', 'Josh feels furious.', 'Josh feels irritated.', 'Josh feels enraged.', 'Josh feels annoyed.', 'Josh feels sad.', 'Josh feels depressed.', 'Josh feels devastated.', 'Josh feels miserable.', 'Josh feels disappointed.', 'Josh feels terrified.', 'Josh feels discouraged.', 'Josh feels scared.', 'Josh feels anxious.', 'Josh feels fearful.', 'Josh feels happy.', 'Josh feels ecstatic.', 'Josh feels glad.', 'Josh feels relieved.', 'Josh feels excited.', 'Roger feels angry.', 'Roger feels furious.', 'Roger feels irritated.', 'Roger feels enraged.', 'Roger feels annoyed.', 'Roger feels sad.', 'Roger feels depressed.', 'Roger feels devastated.', 'Roger feels miserable.', 'Roger feels disappointed.', 'Roger feels terrified.', 'Roger feels discouraged.', 'Roger feels scared.', 'Roger feels anxious.', 'Roger feels fearful.', 'Roger feels happy.', 'Roger feels ecstatic.', 'Roger feels glad.', 'Roger feels relieved.', 'Roger feels excited.', 'Alan feels angry.', 'Alan feels furious.', 'Alan feels irritated.', 'Alan feels enraged.', 'Alan feels annoyed.', 'Alan feels sad.', 'Alan feels depressed.', 'Alan feels devastated.', 'Alan feels miserable.', 'Alan feels disappointed.', 'Alan feels terrified.', 'Alan feels discouraged.', 'Alan feels scared.', 'Alan feels anxious.', 'Alan feels fearful.', 'Alan feels happy.', 'Alan feels ecstatic.', 'Alan feels glad.', 'Alan feels relieved.', 'Alan feels excited.', 'Frank feels angry.', 'Frank feels furious.', 'Frank feels irritated.', 'Frank feels enraged.', 'Frank feels annoyed.', 'Frank feels sad.', 'Frank feels depressed.', 'Frank feels devastated.', 'Frank feels miserable.', 'Frank feels disappointed.', 'Frank feels terrified.', 'Frank feels discouraged.', 'Frank feels scared.', 'Frank feels anxious.', 'Frank feels fearful.', 'Frank feels happy.', 'Frank feels ecstatic.', 'Frank feels glad.', 'Frank feels relieved.', 'Frank feels excited.', 'Justin feels angry.', 'Justin feels furious.', 'Justin feels irritated.', 'Justin feels enraged.', 'Justin feels annoyed.', 'Justin feels sad.', 'Justin feels depressed.', 'Justin feels devastated.', 'Justin feels miserable.', 'Justin feels disappointed.', 'Justin feels terrified.', 'Justin feels discouraged.', 'Justin feels scared.', 'Justin feels anxious.', 'Justin feels fearful.', 'Justin feels happy.', 'Justin feels ecstatic.', 'Justin feels glad.', 'Justin feels relieved.', 'Justin feels excited.', 'Ryan feels angry.', 'Ryan feels furious.', 'Ryan feels irritated.', 'Ryan feels enraged.', 'Ryan feels annoyed.', 'Ryan feels sad.', 'Ryan feels depressed.', 'Ryan feels devastated.', 'Ryan feels miserable.', 'Ryan feels disappointed.', 'Ryan feels terrified.', 'Ryan feels discouraged.', 'Ryan feels scared.', 'Ryan feels anxious.', 'Ryan feels fearful.', 'Ryan feels happy.', 'Ryan feels ecstatic.', 'Ryan feels glad.', 'Ryan feels relieved.', 'Ryan feels excited.', 'Andrew feels angry.', 'Andrew feels furious.', 'Andrew feels irritated.', 'Andrew feels enraged.', 'Andrew feels annoyed.', 'Andrew feels sad.', 'Andrew feels depressed.', 'Andrew feels devastated.', 'Andrew feels miserable.', 'Andrew feels disappointed.', 'Andrew feels terrified.', 'Andrew feels discouraged.', 'Andrew feels scared.', 'Andrew feels anxious.', 'Andrew feels fearful.', 'Andrew feels happy.', 'Andrew feels ecstatic.', 'Andrew feels glad.', 'Andrew feels relieved.', 'Andrew feels excited.', 'Jack feels angry.', 'Jack feels furious.', 'Jack feels irritated.', 'Jack feels enraged.', 'Jack feels annoyed.', 'Jack feels sad.', 'Jack feels depressed.', 'Jack feels devastated.', 'Jack feels miserable.', 'Jack feels disappointed.', 'Jack feels terrified.', 'Jack feels discouraged.', 'Jack feels scared.', 'Jack feels anxious.', 'Jack feels fearful.', 'Jack feels happy.', 'Jack feels ecstatic.', 'Jack feels glad.', 'Jack feels relieved.', 'Jack feels excited.', 'The situation makes Alonzo feel angry.', 'The situation makes Alonzo feel furious.', 'The situation makes Alonzo feel irritated.', 'The situation makes Alonzo feel enraged.', 'The situation makes Alonzo feel annoyed.', 'The situation makes Alonzo feel sad.', 'The situation makes Alonzo feel depressed.', 'The situation makes Alonzo feel devastated.', 'The situation makes Alonzo feel miserable.', 'The situation makes Alonzo feel disappointed.', 'The situation makes Alonzo feel terrified.', 'The situation makes Alonzo feel discouraged.', 'The situation makes Alonzo feel scared.', 'The situation makes Alonzo feel anxious.', 'The situation makes Alonzo feel fearful.', 'The situation makes Alonzo feel happy.', 'The situation makes Alonzo feel ecstatic.', 'The situation makes Alonzo feel glad.', 'The situation makes Alonzo feel relieved.', 'The situation makes Alonzo feel excited.', 'The situation makes Jamel feel angry.', 'The situation makes Jamel feel furious.', 'The situation makes Jamel feel irritated.', 'The situation makes Jamel feel enraged.', 'The situation makes Jamel feel annoyed.', 'The situation makes Jamel feel sad.', 'The situation makes Jamel feel depressed.', 'The situation makes Jamel feel devastated.', 'The situation makes Jamel feel miserable.', 'The situation makes Jamel feel disappointed.', 'The situation makes Jamel feel terrified.', 'The situation makes Jamel feel discouraged.', 'The situation makes Jamel feel scared.', 'The situation makes Jamel feel anxious.', 'The situation makes Jamel feel fearful.', 'The situation makes Jamel feel happy.', 'The situation makes Jamel feel ecstatic.', 'The situation makes Jamel feel glad.', 'The situation makes Jamel feel relieved.', 'The situation makes Jamel feel excited.', 'The situation makes Alphonse feel angry.', 'The situation makes Alphonse feel furious.', 'The situation makes Alphonse feel irritated.', 'The situation makes Alphonse feel enraged.', 'The situation makes Alphonse feel annoyed.', 'The situation makes Alphonse feel sad.', 'The situation makes Alphonse feel depressed.', 'The situation makes Alphonse feel devastated.', 'The situation makes Alphonse feel miserable.', 'The situation makes Alphonse feel disappointed.', 'The situation makes Alphonse feel terrified.', 'The situation makes Alphonse feel discouraged.', 'The situation makes Alphonse feel scared.', 'The situation makes Alphonse feel anxious.', 'The situation makes Alphonse feel fearful.', 'The situation makes Alphonse feel happy.', 'The situation makes Alphonse feel ecstatic.', 'The situation makes Alphonse feel glad.', 'The situation makes Alphonse feel relieved.', 'The situation makes Alphonse feel excited.', 'The situation makes Jerome feel angry.', 'The situation makes Jerome feel furious.', 'The situation makes Jerome feel irritated.', 'The situation makes Jerome feel enraged.', 'The situation makes Jerome feel annoyed.', 'The situation makes Jerome feel sad.', 'The situation makes Jerome feel depressed.', 'The situation makes Jerome feel devastated.', 'The situation makes Jerome feel miserable.', 'The situation makes Jerome feel disappointed.', 'The situation makes Jerome feel terrified.', 'The situation makes Jerome feel discouraged.', 'The situation makes Jerome feel scared.', 'The situation makes Jerome feel anxious.', 'The situation makes Jerome feel fearful.', 'The situation makes Jerome feel happy.', 'The situation makes Jerome feel ecstatic.', 'The situation makes Jerome feel glad.', 'The situation makes Jerome feel relieved.', 'The situation makes Jerome feel excited.', 'The situation makes Leroy feel angry.', 'The situation makes Leroy feel furious.', 'The situation makes Leroy feel irritated.', 'The situation makes Leroy feel enraged.', 'The situation makes Leroy feel annoyed.', 'The situation makes Leroy feel sad.', 'The situation makes Leroy feel depressed.', 'The situation makes Leroy feel devastated.', 'The situation makes Leroy feel miserable.', 'The situation makes Leroy feel disappointed.', 'The situation makes Leroy feel terrified.', 'The situation makes Leroy feel discouraged.', 'The situation makes Leroy feel scared.', 'The situation makes Leroy feel anxious.', 'The situation makes Leroy feel fearful.', 'The situation makes Leroy feel happy.', 'The situation makes Leroy feel ecstatic.', 'The situation makes Leroy feel glad.', 'The situation makes Leroy feel relieved.', 'The situation makes Leroy feel excited.', 'The situation makes Torrance feel angry.', 'The situation makes Torrance feel furious.', 'The situation makes Torrance feel irritated.', 'The situation makes Torrance feel enraged.', 'The situation makes Torrance feel annoyed.', 'The situation makes Torrance feel sad.', 'The situation makes Torrance feel depressed.', 'The situation makes Torrance feel devastated.', 'The situation makes Torrance feel miserable.', 'The situation makes Torrance feel disappointed.', 'The situation makes Torrance feel terrified.', 'The situation makes Torrance feel discouraged.', 'The situation makes Torrance feel scared.', 'The situation makes Torrance feel anxious.', 'The situation makes Torrance feel fearful.', 'The situation makes Torrance feel happy.', 'The situation makes Torrance feel ecstatic.', 'The situation makes Torrance feel glad.', 'The situation makes Torrance feel relieved.', 'The situation makes Torrance feel excited.', 'The situation makes Darnell feel angry.', 'The situation makes Darnell feel furious.', 'The situation makes Darnell feel irritated.', 'The situation makes Darnell feel enraged.', 'The situation makes Darnell feel annoyed.', 'The situation makes Darnell feel sad.', 'The situation makes Darnell feel depressed.', 'The situation makes Darnell feel devastated.', 'The situation makes Darnell feel miserable.', 'The situation makes Darnell feel disappointed.', 'The situation makes Darnell feel terrified.', 'The situation makes Darnell feel discouraged.', 'The situation makes Darnell feel scared.', 'The situation makes Darnell feel anxious.', 'The situation makes Darnell feel fearful.', 'The situation makes Darnell feel happy.', 'The situation makes Darnell feel ecstatic.', 'The situation makes Darnell feel glad.', 'The situation makes Darnell feel relieved.', 'The situation makes Darnell feel excited.', 'The situation makes Lamar feel angry.', 'The situation makes Lamar feel furious.', 'The situation makes Lamar feel irritated.', 'The situation makes Lamar feel enraged.', 'The situation makes Lamar feel annoyed.', 'The situation makes Lamar feel sad.', 'The situation makes Lamar feel depressed.', 'The situation makes Lamar feel devastated.', 'The situation makes Lamar feel miserable.', 'The situation makes Lamar feel disappointed.', 'The situation makes Lamar feel terrified.', 'The situation makes Lamar feel discouraged.', 'The situation makes Lamar feel scared.', 'The situation makes Lamar feel anxious.', 'The situation makes Lamar feel fearful.', 'The situation makes Lamar feel happy.', 'The situation makes Lamar feel ecstatic.', 'The situation makes Lamar feel glad.', 'The situation makes Lamar feel relieved.', 'The situation makes Lamar feel excited.', 'The situation makes Malik feel angry.', 'The situation makes Malik feel furious.', 'The situation makes Malik feel irritated.', 'The situation makes Malik feel enraged.', 'The situation makes Malik feel annoyed.', 'The situation makes Malik feel sad.', 'The situation makes Malik feel depressed.', 'The situation makes Malik feel devastated.', 'The situation makes Malik feel miserable.', 'The situation makes Malik feel disappointed.', 'The situation makes Malik feel terrified.', 'The situation makes Malik feel discouraged.', 'The situation makes Malik feel scared.', 'The situation makes Malik feel anxious.', 'The situation makes Malik feel fearful.', 'The situation makes Malik feel happy.', 'The situation makes Malik feel ecstatic.', 'The situation makes Malik feel glad.', 'The situation makes Malik feel relieved.', 'The situation makes Malik feel excited.', 'The situation makes Terrence feel angry.', 'The situation makes Terrence feel furious.', 'The situation makes Terrence feel irritated.', 'The situation makes Terrence feel enraged.', 'The situation makes Terrence feel annoyed.', 'The situation makes Terrence feel sad.', 'The situation makes Terrence feel depressed.', 'The situation makes Terrence feel devastated.', 'The situation makes Terrence feel miserable.', 'The situation makes Terrence feel disappointed.', 'The situation makes Terrence feel terrified.', 'The situation makes Terrence feel discouraged.', 'The situation makes Terrence feel scared.', 'The situation makes Terrence feel anxious.', 'The situation makes Terrence feel fearful.', 'The situation makes Terrence feel happy.', 'The situation makes Terrence feel ecstatic.', 'The situation makes Terrence feel glad.', 'The situation makes Terrence feel relieved.', 'The situation makes Terrence feel excited.', 'The situation makes Adam feel angry.', 'The situation makes Adam feel furious.', 'The situation makes Adam feel irritated.', 'The situation makes Adam feel enraged.', 'The situation makes Adam feel annoyed.', 'The situation makes Adam feel sad.', 'The situation makes Adam feel depressed.', 'The situation makes Adam feel devastated.', 'The situation makes Adam feel miserable.', 'The situation makes Adam feel disappointed.', 'The situation makes Adam feel terrified.', 'The situation makes Adam feel discouraged.', 'The situation makes Adam feel scared.', 'The situation makes Adam feel anxious.', 'The situation makes Adam feel fearful.', 'The situation makes Adam feel happy.', 'The situation makes Adam feel ecstatic.', 'The situation makes Adam feel glad.', 'The situation makes Adam feel relieved.', 'The situation makes Adam feel excited.', 'The situation makes Harry feel angry.', 'The situation makes Harry feel furious.', 'The situation makes Harry feel irritated.', 'The situation makes Harry feel enraged.', 'The situation makes Harry feel annoyed.', 'The situation makes Harry feel sad.', 'The situation makes Harry feel depressed.', 'The situation makes Harry feel devastated.', 'The situation makes Harry feel miserable.', 'The situation makes Harry feel disappointed.', 'The situation makes Harry feel terrified.', 'The situation makes Harry feel discouraged.', 'The situation makes Harry feel scared.', 'The situation makes Harry feel anxious.', 'The situation makes Harry feel fearful.', 'The situation makes Harry feel happy.', 'The situation makes Harry feel ecstatic.', 'The situation makes Harry feel glad.', 'The situation makes Harry feel relieved.', 'The situation makes Harry feel excited.', 'The situation makes Josh feel angry.', 'The situation makes Josh feel furious.', 'The situation makes Josh feel irritated.', 'The situation makes Josh feel enraged.', 'The situation makes Josh feel annoyed.', 'The situation makes Josh feel sad.', 'The situation makes Josh feel depressed.', 'The situation makes Josh feel devastated.', 'The situation makes Josh feel miserable.', 'The situation makes Josh feel disappointed.', 'The situation makes Josh feel terrified.', 'The situation makes Josh feel discouraged.', 'The situation makes Josh feel scared.', 'The situation makes Josh feel anxious.', 'The situation makes Josh feel fearful.', 'The situation makes Josh feel happy.', 'The situation makes Josh feel ecstatic.', 'The situation makes Josh feel glad.', 'The situation makes Josh feel relieved.', 'The situation makes Josh feel excited.', 'The situation makes Roger feel angry.', 'The situation makes Roger feel furious.', 'The situation makes Roger feel irritated.', 'The situation makes Roger feel enraged.', 'The situation makes Roger feel annoyed.', 'The situation makes Roger feel sad.', 'The situation makes Roger feel depressed.', 'The situation makes Roger feel devastated.', 'The situation makes Roger feel miserable.', 'The situation makes Roger feel disappointed.', 'The situation makes Roger feel terrified.', 'The situation makes Roger feel discouraged.', 'The situation makes Roger feel scared.', 'The situation makes Roger feel anxious.', 'The situation makes Roger feel fearful.', 'The situation makes Roger feel happy.', 'The situation makes Roger feel ecstatic.', 'The situation makes Roger feel glad.', 'The situation makes Roger feel relieved.', 'The situation makes Roger feel excited.', 'The situation makes Alan feel angry.', 'The situation makes Alan feel furious.', 'The situation makes Alan feel irritated.', 'The situation makes Alan feel enraged.', 'The situation makes Alan feel annoyed.', 'The situation makes Alan feel sad.', 'The situation makes Alan feel depressed.', 'The situation makes Alan feel devastated.', 'The situation makes Alan feel miserable.', 'The situation makes Alan feel disappointed.', 'The situation makes Alan feel terrified.', 'The situation makes Alan feel discouraged.', 'The situation makes Alan feel scared.', 'The situation makes Alan feel anxious.', 'The situation makes Alan feel fearful.', 'The situation makes Alan feel happy.', 'The situation makes Alan feel ecstatic.', 'The situation makes Alan feel glad.', 'The situation makes Alan feel relieved.', 'The situation makes Alan feel excited.', 'The situation makes Frank feel angry.', 'The situation makes Frank feel furious.', 'The situation makes Frank feel irritated.', 'The situation makes Frank feel enraged.', 'The situation makes Frank feel annoyed.', 'The situation makes Frank feel sad.', 'The situation makes Frank feel depressed.', 'The situation makes Frank feel devastated.', 'The situation makes Frank feel miserable.', 'The situation makes Frank feel disappointed.', 'The situation makes Frank feel terrified.', 'The situation makes Frank feel discouraged.', 'The situation makes Frank feel scared.', 'The situation makes Frank feel anxious.', 'The situation makes Frank feel fearful.', 'The situation makes Frank feel happy.', 'The situation makes Frank feel ecstatic.', 'The situation makes Frank feel glad.', 'The situation makes Frank feel relieved.', 'The situation makes Frank feel excited.', 'The situation makes Justin feel angry.', 'The situation makes Justin feel furious.', 'The situation makes Justin feel irritated.', 'The situation makes Justin feel enraged.', 'The situation makes Justin feel annoyed.', 'The situation makes Justin feel sad.', 'The situation makes Justin feel depressed.', 'The situation makes Justin feel devastated.', 'The situation makes Justin feel miserable.', 'The situation makes Justin feel disappointed.', 'The situation makes Justin feel terrified.', 'The situation makes Justin feel discouraged.', 'The situation makes Justin feel scared.', 'The situation makes Justin feel anxious.', 'The situation makes Justin feel fearful.', 'The situation makes Justin feel happy.', 'The situation makes Justin feel ecstatic.', 'The situation makes Justin feel glad.', 'The situation makes Justin feel relieved.', 'The situation makes Justin feel excited.', 'The situation makes Ryan feel angry.', 'The situation makes Ryan feel furious.', 'The situation makes Ryan feel irritated.', 'The situation makes Ryan feel enraged.', 'The situation makes Ryan feel annoyed.', 'The situation makes Ryan feel sad.', 'The situation makes Ryan feel depressed.', 'The situation makes Ryan feel devastated.', 'The situation makes Ryan feel miserable.', 'The situation makes Ryan feel disappointed.', 'The situation makes Ryan feel terrified.', 'The situation makes Ryan feel discouraged.', 'The situation makes Ryan feel scared.', 'The situation makes Ryan feel anxious.', 'The situation makes Ryan feel fearful.', 'The situation makes Ryan feel happy.', 'The situation makes Ryan feel ecstatic.', 'The situation makes Ryan feel glad.', 'The situation makes Ryan feel relieved.', 'The situation makes Ryan feel excited.', 'The situation makes Andrew feel angry.', 'The situation makes Andrew feel furious.', 'The situation makes Andrew feel irritated.', 'The situation makes Andrew feel enraged.', 'The situation makes Andrew feel annoyed.', 'The situation makes Andrew feel sad.', 'The situation makes Andrew feel depressed.', 'The situation makes Andrew feel devastated.', 'The situation makes Andrew feel miserable.', 'The situation makes Andrew feel disappointed.', 'The situation makes Andrew feel terrified.', 'The situation makes Andrew feel discouraged.', 'The situation makes Andrew feel scared.', 'The situation makes Andrew feel anxious.', 'The situation makes Andrew feel fearful.', 'The situation makes Andrew feel happy.', 'The situation makes Andrew feel ecstatic.', 'The situation makes Andrew feel glad.', 'The situation makes Andrew feel relieved.', 'The situation makes Andrew feel excited.', 'The situation makes Jack feel angry.', 'The situation makes Jack feel furious.', 'The situation makes Jack feel irritated.', 'The situation makes Jack feel enraged.', 'The situation makes Jack feel annoyed.', 'The situation makes Jack feel sad.', 'The situation makes Jack feel depressed.', 'The situation makes Jack feel devastated.', 'The situation makes Jack feel miserable.', 'The situation makes Jack feel disappointed.', 'The situation makes Jack feel terrified.', 'The situation makes Jack feel discouraged.', 'The situation makes Jack feel scared.', 'The situation makes Jack feel anxious.', 'The situation makes Jack feel fearful.', 'The situation makes Jack feel happy.', 'The situation makes Jack feel ecstatic.', 'The situation makes Jack feel glad.', 'The situation makes Jack feel relieved.', 'The situation makes Jack feel excited.', 'I made Alonzo feel angry.', 'I made Alonzo feel furious.', 'I made Alonzo feel irritated.', 'I made Alonzo feel enraged.', 'I made Alonzo feel annoyed.', 'I made Alonzo feel sad.', 'I made Alonzo feel depressed.', 'I made Alonzo feel devastated.', 'I made Alonzo feel miserable.', 'I made Alonzo feel disappointed.', 'I made Alonzo feel terrified.', 'I made Alonzo feel discouraged.', 'I made Alonzo feel scared.', 'I made Alonzo feel anxious.', 'I made Alonzo feel fearful.', 'I made Alonzo feel happy.', 'I made Alonzo feel ecstatic.', 'I made Alonzo feel glad.', 'I made Alonzo feel relieved.', 'I made Alonzo feel excited.', 'I made Jamel feel angry.', 'I made Jamel feel furious.', 'I made Jamel feel irritated.', 'I made Jamel feel enraged.', 'I made Jamel feel annoyed.', 'I made Jamel feel sad.', 'I made Jamel feel depressed.', 'I made Jamel feel devastated.', 'I made Jamel feel miserable.', 'I made Jamel feel disappointed.', 'I made Jamel feel terrified.', 'I made Jamel feel discouraged.', 'I made Jamel feel scared.', 'I made Jamel feel anxious.', 'I made Jamel feel fearful.', 'I made Jamel feel happy.', 'I made Jamel feel ecstatic.', 'I made Jamel feel glad.', 'I made Jamel feel relieved.', 'I made Jamel feel excited.', 'I made Alphonse feel angry.', 'I made Alphonse feel furious.', 'I made Alphonse feel irritated.', 'I made Alphonse feel enraged.', 'I made Alphonse feel annoyed.', 'I made Alphonse feel sad.', 'I made Alphonse feel depressed.', 'I made Alphonse feel devastated.', 'I made Alphonse feel miserable.', 'I made Alphonse feel disappointed.', 'I made Alphonse feel terrified.', 'I made Alphonse feel discouraged.', 'I made Alphonse feel scared.', 'I made Alphonse feel anxious.', 'I made Alphonse feel fearful.', 'I made Alphonse feel happy.', 'I made Alphonse feel ecstatic.', 'I made Alphonse feel glad.', 'I made Alphonse feel relieved.', 'I made Alphonse feel excited.', 'I made Jerome feel angry.', 'I made Jerome feel furious.', 'I made Jerome feel irritated.', 'I made Jerome feel enraged.', 'I made Jerome feel annoyed.', 'I made Jerome feel sad.', 'I made Jerome feel depressed.', 'I made Jerome feel devastated.', 'I made Jerome feel miserable.', 'I made Jerome feel disappointed.', 'I made Jerome feel terrified.', 'I made Jerome feel discouraged.', 'I made Jerome feel scared.', 'I made Jerome feel anxious.', 'I made Jerome feel fearful.', 'I made Jerome feel happy.', 'I made Jerome feel ecstatic.', 'I made Jerome feel glad.', 'I made Jerome feel relieved.', 'I made Jerome feel excited.', 'I made Leroy feel angry.', 'I made Leroy feel furious.', 'I made Leroy feel irritated.', 'I made Leroy feel enraged.', 'I made Leroy feel annoyed.', 'I made Leroy feel sad.', 'I made Leroy feel depressed.', 'I made Leroy feel devastated.', 'I made Leroy feel miserable.', 'I made Leroy feel disappointed.', 'I made Leroy feel terrified.', 'I made Leroy feel discouraged.', 'I made Leroy feel scared.', 'I made Leroy feel anxious.', 'I made Leroy feel fearful.', 'I made Leroy feel happy.', 'I made Leroy feel ecstatic.', 'I made Leroy feel glad.', 'I made Leroy feel relieved.', 'I made Leroy feel excited.', 'I made Torrance feel angry.', 'I made Torrance feel furious.', 'I made Torrance feel irritated.', 'I made Torrance feel enraged.', 'I made Torrance feel annoyed.', 'I made Torrance feel sad.', 'I made Torrance feel depressed.', 'I made Torrance feel devastated.', 'I made Torrance feel miserable.', 'I made Torrance feel disappointed.', 'I made Torrance feel terrified.', 'I made Torrance feel discouraged.', 'I made Torrance feel scared.', 'I made Torrance feel anxious.', 'I made Torrance feel fearful.', 'I made Torrance feel happy.', 'I made Torrance feel ecstatic.', 'I made Torrance feel glad.', 'I made Torrance feel relieved.', 'I made Torrance feel excited.', 'I made Darnell feel angry.', 'I made Darnell feel furious.', 'I made Darnell feel irritated.', 'I made Darnell feel enraged.', 'I made Darnell feel annoyed.', 'I made Darnell feel sad.', 'I made Darnell feel depressed.', 'I made Darnell feel devastated.', 'I made Darnell feel miserable.', 'I made Darnell feel disappointed.', 'I made Darnell feel terrified.', 'I made Darnell feel discouraged.', 'I made Darnell feel scared.', 'I made Darnell feel anxious.', 'I made Darnell feel fearful.', 'I made Darnell feel happy.', 'I made Darnell feel ecstatic.', 'I made Darnell feel glad.', 'I made Darnell feel relieved.', 'I made Darnell feel excited.', 'I made Lamar feel angry.', 'I made Lamar feel furious.', 'I made Lamar feel irritated.', 'I made Lamar feel enraged.', 'I made Lamar feel annoyed.', 'I made Lamar feel sad.', 'I made Lamar feel depressed.', 'I made Lamar feel devastated.', 'I made Lamar feel miserable.', 'I made Lamar feel disappointed.', 'I made Lamar feel terrified.', 'I made Lamar feel discouraged.', 'I made Lamar feel scared.', 'I made Lamar feel anxious.', 'I made Lamar feel fearful.', 'I made Lamar feel happy.', 'I made Lamar feel ecstatic.', 'I made Lamar feel glad.', 'I made Lamar feel relieved.', 'I made Lamar feel excited.', 'I made Malik feel angry.', 'I made Malik feel furious.', 'I made Malik feel irritated.', 'I made Malik feel enraged.', 'I made Malik feel annoyed.', 'I made Malik feel sad.', 'I made Malik feel depressed.', 'I made Malik feel devastated.', 'I made Malik feel miserable.', 'I made Malik feel disappointed.', 'I made Malik feel terrified.', 'I made Malik feel discouraged.', 'I made Malik feel scared.', 'I made Malik feel anxious.', 'I made Malik feel fearful.', 'I made Malik feel happy.', 'I made Malik feel ecstatic.', 'I made Malik feel glad.', 'I made Malik feel relieved.', 'I made Malik feel excited.', 'I made Terrence feel angry.', 'I made Terrence feel furious.', 'I made Terrence feel irritated.', 'I made Terrence feel enraged.', 'I made Terrence feel annoyed.', 'I made Terrence feel sad.', 'I made Terrence feel depressed.', 'I made Terrence feel devastated.', 'I made Terrence feel miserable.', 'I made Terrence feel disappointed.', 'I made Terrence feel terrified.', 'I made Terrence feel discouraged.', 'I made Terrence feel scared.', 'I made Terrence feel anxious.', 'I made Terrence feel fearful.', 'I made Terrence feel happy.', 'I made Terrence feel ecstatic.', 'I made Terrence feel glad.', 'I made Terrence feel relieved.', 'I made Terrence feel excited.', 'I made Adam feel angry.', 'I made Adam feel furious.', 'I made Adam feel irritated.', 'I made Adam feel enraged.', 'I made Adam feel annoyed.', 'I made Adam feel sad.', 'I made Adam feel depressed.', 'I made Adam feel devastated.', 'I made Adam feel miserable.', 'I made Adam feel disappointed.', 'I made Adam feel terrified.', 'I made Adam feel discouraged.', 'I made Adam feel scared.', 'I made Adam feel anxious.', 'I made Adam feel fearful.', 'I made Adam feel happy.', 'I made Adam feel ecstatic.', 'I made Adam feel glad.', 'I made Adam feel relieved.', 'I made Adam feel excited.', 'I made Harry feel angry.', 'I made Harry feel furious.', 'I made Harry feel irritated.', 'I made Harry feel enraged.', 'I made Harry feel annoyed.', 'I made Harry feel sad.', 'I made Harry feel depressed.', 'I made Harry feel devastated.', 'I made Harry feel miserable.', 'I made Harry feel disappointed.', 'I made Harry feel terrified.', 'I made Harry feel discouraged.', 'I made Harry feel scared.', 'I made Harry feel anxious.', 'I made Harry feel fearful.', 'I made Harry feel happy.', 'I made Harry feel ecstatic.', 'I made Harry feel glad.', 'I made Harry feel relieved.', 'I made Harry feel excited.', 'I made Josh feel angry.', 'I made Josh feel furious.', 'I made Josh feel irritated.', 'I made Josh feel enraged.', 'I made Josh feel annoyed.', 'I made Josh feel sad.', 'I made Josh feel depressed.', 'I made Josh feel devastated.', 'I made Josh feel miserable.', 'I made Josh feel disappointed.', 'I made Josh feel terrified.', 'I made Josh feel discouraged.', 'I made Josh feel scared.', 'I made Josh feel anxious.', 'I made Josh feel fearful.', 'I made Josh feel happy.', 'I made Josh feel ecstatic.', 'I made Josh feel glad.', 'I made Josh feel relieved.', 'I made Josh feel excited.', 'I made Roger feel angry.', 'I made Roger feel furious.', 'I made Roger feel irritated.', 'I made Roger feel enraged.', 'I made Roger feel annoyed.', 'I made Roger feel sad.', 'I made Roger feel depressed.', 'I made Roger feel devastated.', 'I made Roger feel miserable.', 'I made Roger feel disappointed.', 'I made Roger feel terrified.', 'I made Roger feel discouraged.', 'I made Roger feel scared.', 'I made Roger feel anxious.', 'I made Roger feel fearful.', 'I made Roger feel happy.', 'I made Roger feel ecstatic.', 'I made Roger feel glad.', 'I made Roger feel relieved.', 'I made Roger feel excited.', 'I made Alan feel angry.', 'I made Alan feel furious.', 'I made Alan feel irritated.', 'I made Alan feel enraged.', 'I made Alan feel annoyed.', 'I made Alan feel sad.', 'I made Alan feel depressed.', 'I made Alan feel devastated.', 'I made Alan feel miserable.', 'I made Alan feel disappointed.', 'I made Alan feel terrified.', 'I made Alan feel discouraged.', 'I made Alan feel scared.', 'I made Alan feel anxious.', 'I made Alan feel fearful.', 'I made Alan feel happy.', 'I made Alan feel ecstatic.', 'I made Alan feel glad.', 'I made Alan feel relieved.', 'I made Alan feel excited.', 'I made Frank feel angry.', 'I made Frank feel furious.', 'I made Frank feel irritated.', 'I made Frank feel enraged.', 'I made Frank feel annoyed.', 'I made Frank feel sad.', 'I made Frank feel depressed.', 'I made Frank feel devastated.', 'I made Frank feel miserable.', 'I made Frank feel disappointed.', 'I made Frank feel terrified.', 'I made Frank feel discouraged.', 'I made Frank feel scared.', 'I made Frank feel anxious.', 'I made Frank feel fearful.', 'I made Frank feel happy.', 'I made Frank feel ecstatic.', 'I made Frank feel glad.', 'I made Frank feel relieved.', 'I made Frank feel excited.', 'I made Justin feel angry.', 'I made Justin feel furious.', 'I made Justin feel irritated.', 'I made Justin feel enraged.', 'I made Justin feel annoyed.', 'I made Justin feel sad.', 'I made Justin feel depressed.', 'I made Justin feel devastated.', 'I made Justin feel miserable.', 'I made Justin feel disappointed.', 'I made Justin feel terrified.', 'I made Justin feel discouraged.', 'I made Justin feel scared.', 'I made Justin feel anxious.', 'I made Justin feel fearful.', 'I made Justin feel happy.', 'I made Justin feel ecstatic.', 'I made Justin feel glad.', 'I made Justin feel relieved.', 'I made Justin feel excited.', 'I made Ryan feel angry.', 'I made Ryan feel furious.', 'I made Ryan feel irritated.', 'I made Ryan feel enraged.', 'I made Ryan feel annoyed.', 'I made Ryan feel sad.', 'I made Ryan feel depressed.', 'I made Ryan feel devastated.', 'I made Ryan feel miserable.', 'I made Ryan feel disappointed.', 'I made Ryan feel terrified.', 'I made Ryan feel discouraged.', 'I made Ryan feel scared.', 'I made Ryan feel anxious.', 'I made Ryan feel fearful.', 'I made Ryan feel happy.', 'I made Ryan feel ecstatic.', 'I made Ryan feel glad.', 'I made Ryan feel relieved.', 'I made Ryan feel excited.', 'I made Andrew feel angry.', 'I made Andrew feel furious.', 'I made Andrew feel irritated.', 'I made Andrew feel enraged.', 'I made Andrew feel annoyed.', 'I made Andrew feel sad.', 'I made Andrew feel depressed.', 'I made Andrew feel devastated.', 'I made Andrew feel miserable.', 'I made Andrew feel disappointed.', 'I made Andrew feel terrified.', 'I made Andrew feel discouraged.', 'I made Andrew feel scared.', 'I made Andrew feel anxious.', 'I made Andrew feel fearful.', 'I made Andrew feel happy.', 'I made Andrew feel ecstatic.', 'I made Andrew feel glad.', 'I made Andrew feel relieved.', 'I made Andrew feel excited.', 'I made Jack feel angry.', 'I made Jack feel furious.', 'I made Jack feel irritated.', 'I made Jack feel enraged.', 'I made Jack feel annoyed.', 'I made Jack feel sad.', 'I made Jack feel depressed.', 'I made Jack feel devastated.', 'I made Jack feel miserable.', 'I made Jack feel disappointed.', 'I made Jack feel terrified.', 'I made Jack feel discouraged.', 'I made Jack feel scared.', 'I made Jack feel anxious.', 'I made Jack feel fearful.', 'I made Jack feel happy.', 'I made Jack feel ecstatic.', 'I made Jack feel glad.', 'I made Jack feel relieved.', 'I made Jack feel excited.', 'Alonzo made me feel angry.', 'Alonzo made me feel furious.', 'Alonzo made me feel irritated.', 'Alonzo made me feel enraged.', 'Alonzo made me feel annoyed.', 'Alonzo made me feel sad.', 'Alonzo made me feel depressed.', 'Alonzo made me feel devastated.', 'Alonzo made me feel miserable.', 'Alonzo made me feel disappointed.', 'Alonzo made me feel terrified.', 'Alonzo made me feel discouraged.', 'Alonzo made me feel scared.', 'Alonzo made me feel anxious.', 'Alonzo made me feel fearful.', 'Alonzo made me feel happy.', 'Alonzo made me feel ecstatic.', 'Alonzo made me feel glad.', 'Alonzo made me feel relieved.', 'Alonzo made me feel excited.', 'Jamel made me feel angry.', 'Jamel made me feel furious.', 'Jamel made me feel irritated.', 'Jamel made me feel enraged.', 'Jamel made me feel annoyed.', 'Jamel made me feel sad.', 'Jamel made me feel depressed.', 'Jamel made me feel devastated.', 'Jamel made me feel miserable.', 'Jamel made me feel disappointed.', 'Jamel made me feel terrified.', 'Jamel made me feel discouraged.', 'Jamel made me feel scared.', 'Jamel made me feel anxious.', 'Jamel made me feel fearful.', 'Jamel made me feel happy.', 'Jamel made me feel ecstatic.', 'Jamel made me feel glad.', 'Jamel made me feel relieved.', 'Jamel made me feel excited.', 'Alphonse made me feel angry.', 'Alphonse made me feel furious.', 'Alphonse made me feel irritated.', 'Alphonse made me feel enraged.', 'Alphonse made me feel annoyed.', 'Alphonse made me feel sad.', 'Alphonse made me feel depressed.', 'Alphonse made me feel devastated.', 'Alphonse made me feel miserable.', 'Alphonse made me feel disappointed.', 'Alphonse made me feel terrified.', 'Alphonse made me feel discouraged.', 'Alphonse made me feel scared.', 'Alphonse made me feel anxious.', 'Alphonse made me feel fearful.', 'Alphonse made me feel happy.', 'Alphonse made me feel ecstatic.', 'Alphonse made me feel glad.', 'Alphonse made me feel relieved.', 'Alphonse made me feel excited.', 'Jerome made me feel angry.', 'Jerome made me feel furious.', 'Jerome made me feel irritated.', 'Jerome made me feel enraged.', 'Jerome made me feel annoyed.', 'Jerome made me feel sad.', 'Jerome made me feel depressed.', 'Jerome made me feel devastated.', 'Jerome made me feel miserable.', 'Jerome made me feel disappointed.', 'Jerome made me feel terrified.', 'Jerome made me feel discouraged.', 'Jerome made me feel scared.', 'Jerome made me feel anxious.', 'Jerome made me feel fearful.', 'Jerome made me feel happy.', 'Jerome made me feel ecstatic.', 'Jerome made me feel glad.', 'Jerome made me feel relieved.', 'Jerome made me feel excited.', 'Leroy made me feel angry.', 'Leroy made me feel furious.', 'Leroy made me feel irritated.', 'Leroy made me feel enraged.', 'Leroy made me feel annoyed.', 'Leroy made me feel sad.', 'Leroy made me feel depressed.', 'Leroy made me feel devastated.', 'Leroy made me feel miserable.', 'Leroy made me feel disappointed.', 'Leroy made me feel terrified.', 'Leroy made me feel discouraged.', 'Leroy made me feel scared.', 'Leroy made me feel anxious.', 'Leroy made me feel fearful.', 'Leroy made me feel happy.', 'Leroy made me feel ecstatic.', 'Leroy made me feel glad.', 'Leroy made me feel relieved.', 'Leroy made me feel excited.', 'Torrance made me feel angry.', 'Torrance made me feel furious.', 'Torrance made me feel irritated.', 'Torrance made me feel enraged.', 'Torrance made me feel annoyed.', 'Torrance made me feel sad.', 'Torrance made me feel depressed.', 'Torrance made me feel devastated.', 'Torrance made me feel miserable.', 'Torrance made me feel disappointed.', 'Torrance made me feel terrified.', 'Torrance made me feel discouraged.', 'Torrance made me feel scared.', 'Torrance made me feel anxious.', 'Torrance made me feel fearful.', 'Torrance made me feel happy.', 'Torrance made me feel ecstatic.', 'Torrance made me feel glad.', 'Torrance made me feel relieved.', 'Torrance made me feel excited.', 'Darnell made me feel angry.', 'Darnell made me feel furious.', 'Darnell made me feel irritated.', 'Darnell made me feel enraged.', 'Darnell made me feel annoyed.', 'Darnell made me feel sad.', 'Darnell made me feel depressed.', 'Darnell made me feel devastated.', 'Darnell made me feel miserable.', 'Darnell made me feel disappointed.', 'Darnell made me feel terrified.', 'Darnell made me feel discouraged.', 'Darnell made me feel scared.', 'Darnell made me feel anxious.', 'Darnell made me feel fearful.', 'Darnell made me feel happy.', 'Darnell made me feel ecstatic.', 'Darnell made me feel glad.', 'Darnell made me feel relieved.', 'Darnell made me feel excited.', 'Lamar made me feel angry.', 'Lamar made me feel furious.', 'Lamar made me feel irritated.', 'Lamar made me feel enraged.', 'Lamar made me feel annoyed.', 'Lamar made me feel sad.', 'Lamar made me feel depressed.', 'Lamar made me feel devastated.', 'Lamar made me feel miserable.', 'Lamar made me feel disappointed.', 'Lamar made me feel terrified.', 'Lamar made me feel discouraged.', 'Lamar made me feel scared.', 'Lamar made me feel anxious.', 'Lamar made me feel fearful.', 'Lamar made me feel happy.', 'Lamar made me feel ecstatic.', 'Lamar made me feel glad.', 'Lamar made me feel relieved.', 'Lamar made me feel excited.', 'Malik made me feel angry.', 'Malik made me feel furious.', 'Malik made me feel irritated.', 'Malik made me feel enraged.', 'Malik made me feel annoyed.', 'Malik made me feel sad.', 'Malik made me feel depressed.', 'Malik made me feel devastated.', 'Malik made me feel miserable.', 'Malik made me feel disappointed.', 'Malik made me feel terrified.', 'Malik made me feel discouraged.', 'Malik made me feel scared.', 'Malik made me feel anxious.', 'Malik made me feel fearful.', 'Malik made me feel happy.', 'Malik made me feel ecstatic.', 'Malik made me feel glad.', 'Malik made me feel relieved.', 'Malik made me feel excited.', 'Terrence made me feel angry.', 'Terrence made me feel furious.', 'Terrence made me feel irritated.', 'Terrence made me feel enraged.', 'Terrence made me feel annoyed.', 'Terrence made me feel sad.', 'Terrence made me feel depressed.', 'Terrence made me feel devastated.', 'Terrence made me feel miserable.', 'Terrence made me feel disappointed.', 'Terrence made me feel terrified.', 'Terrence made me feel discouraged.', 'Terrence made me feel scared.', 'Terrence made me feel anxious.', 'Terrence made me feel fearful.', 'Terrence made me feel happy.', 'Terrence made me feel ecstatic.', 'Terrence made me feel glad.', 'Terrence made me feel relieved.', 'Terrence made me feel excited.', 'Adam made me feel angry.', 'Adam made me feel furious.', 'Adam made me feel irritated.', 'Adam made me feel enraged.', 'Adam made me feel annoyed.', 'Adam made me feel sad.', 'Adam made me feel depressed.', 'Adam made me feel devastated.', 'Adam made me feel miserable.', 'Adam made me feel disappointed.', 'Adam made me feel terrified.', 'Adam made me feel discouraged.', 'Adam made me feel scared.', 'Adam made me feel anxious.', 'Adam made me feel fearful.', 'Adam made me feel happy.', 'Adam made me feel ecstatic.', 'Adam made me feel glad.', 'Adam made me feel relieved.', 'Adam made me feel excited.', 'Harry made me feel angry.', 'Harry made me feel furious.', 'Harry made me feel irritated.', 'Harry made me feel enraged.', 'Harry made me feel annoyed.', 'Harry made me feel sad.', 'Harry made me feel depressed.', 'Harry made me feel devastated.', 'Harry made me feel miserable.', 'Harry made me feel disappointed.', 'Harry made me feel terrified.', 'Harry made me feel discouraged.', 'Harry made me feel scared.', 'Harry made me feel anxious.', 'Harry made me feel fearful.', 'Harry made me feel happy.', 'Harry made me feel ecstatic.', 'Harry made me feel glad.', 'Harry made me feel relieved.', 'Harry made me feel excited.', 'Josh made me feel angry.', 'Josh made me feel furious.', 'Josh made me feel irritated.', 'Josh made me feel enraged.', 'Josh made me feel annoyed.', 'Josh made me feel sad.', 'Josh made me feel depressed.', 'Josh made me feel devastated.', 'Josh made me feel miserable.', 'Josh made me feel disappointed.', 'Josh made me feel terrified.', 'Josh made me feel discouraged.', 'Josh made me feel scared.', 'Josh made me feel anxious.', 'Josh made me feel fearful.', 'Josh made me feel happy.', 'Josh made me feel ecstatic.', 'Josh made me feel glad.', 'Josh made me feel relieved.', 'Josh made me feel excited.', 'Roger made me feel angry.', 'Roger made me feel furious.', 'Roger made me feel irritated.', 'Roger made me feel enraged.', 'Roger made me feel annoyed.', 'Roger made me feel sad.', 'Roger made me feel depressed.', 'Roger made me feel devastated.', 'Roger made me feel miserable.', 'Roger made me feel disappointed.', 'Roger made me feel terrified.', 'Roger made me feel discouraged.', 'Roger made me feel scared.', 'Roger made me feel anxious.', 'Roger made me feel fearful.', 'Roger made me feel happy.', 'Roger made me feel ecstatic.', 'Roger made me feel glad.', 'Roger made me feel relieved.', 'Roger made me feel excited.', 'Alan made me feel angry.', 'Alan made me feel furious.', 'Alan made me feel irritated.', 'Alan made me feel enraged.', 'Alan made me feel annoyed.', 'Alan made me feel sad.', 'Alan made me feel depressed.', 'Alan made me feel devastated.', 'Alan made me feel miserable.', 'Alan made me feel disappointed.', 'Alan made me feel terrified.', 'Alan made me feel discouraged.', 'Alan made me feel scared.', 'Alan made me feel anxious.', 'Alan made me feel fearful.', 'Alan made me feel happy.', 'Alan made me feel ecstatic.', 'Alan made me feel glad.', 'Alan made me feel relieved.', 'Alan made me feel excited.', 'Frank made me feel angry.', 'Frank made me feel furious.', 'Frank made me feel irritated.', 'Frank made me feel enraged.', 'Frank made me feel annoyed.', 'Frank made me feel sad.', 'Frank made me feel depressed.', 'Frank made me feel devastated.', 'Frank made me feel miserable.', 'Frank made me feel disappointed.', 'Frank made me feel terrified.', 'Frank made me feel discouraged.', 'Frank made me feel scared.', 'Frank made me feel anxious.', 'Frank made me feel fearful.', 'Frank made me feel happy.', 'Frank made me feel ecstatic.', 'Frank made me feel glad.', 'Frank made me feel relieved.', 'Frank made me feel excited.', 'Justin made me feel angry.', 'Justin made me feel furious.', 'Justin made me feel irritated.', 'Justin made me feel enraged.', 'Justin made me feel annoyed.', 'Justin made me feel sad.', 'Justin made me feel depressed.', 'Justin made me feel devastated.', 'Justin made me feel miserable.', 'Justin made me feel disappointed.', 'Justin made me feel terrified.', 'Justin made me feel discouraged.', 'Justin made me feel scared.', 'Justin made me feel anxious.', 'Justin made me feel fearful.', 'Justin made me feel happy.', 'Justin made me feel ecstatic.', 'Justin made me feel glad.', 'Justin made me feel relieved.', 'Justin made me feel excited.', 'Ryan made me feel angry.', 'Ryan made me feel furious.', 'Ryan made me feel irritated.', 'Ryan made me feel enraged.', 'Ryan made me feel annoyed.', 'Ryan made me feel sad.', 'Ryan made me feel depressed.', 'Ryan made me feel devastated.', 'Ryan made me feel miserable.', 'Ryan made me feel disappointed.', 'Ryan made me feel terrified.', 'Ryan made me feel discouraged.', 'Ryan made me feel scared.', 'Ryan made me feel anxious.', 'Ryan made me feel fearful.', 'Ryan made me feel happy.', 'Ryan made me feel ecstatic.', 'Ryan made me feel glad.', 'Ryan made me feel relieved.', 'Ryan made me feel excited.', 'Andrew made me feel angry.', 'Andrew made me feel furious.', 'Andrew made me feel irritated.', 'Andrew made me feel enraged.', 'Andrew made me feel annoyed.', 'Andrew made me feel sad.', 'Andrew made me feel depressed.', 'Andrew made me feel devastated.', 'Andrew made me feel miserable.', 'Andrew made me feel disappointed.', 'Andrew made me feel terrified.', 'Andrew made me feel discouraged.', 'Andrew made me feel scared.', 'Andrew made me feel anxious.', 'Andrew made me feel fearful.', 'Andrew made me feel happy.', 'Andrew made me feel ecstatic.', 'Andrew made me feel glad.', 'Andrew made me feel relieved.', 'Andrew made me feel excited.', 'Jack made me feel angry.', 'Jack made me feel furious.', 'Jack made me feel irritated.', 'Jack made me feel enraged.', 'Jack made me feel annoyed.', 'Jack made me feel sad.', 'Jack made me feel depressed.', 'Jack made me feel devastated.', 'Jack made me feel miserable.', 'Jack made me feel disappointed.', 'Jack made me feel terrified.', 'Jack made me feel discouraged.', 'Jack made me feel scared.', 'Jack made me feel anxious.', 'Jack made me feel fearful.', 'Jack made me feel happy.', 'Jack made me feel ecstatic.', 'Jack made me feel glad.', 'Jack made me feel relieved.', 'Jack made me feel excited.', 'Alonzo found himself in an irritating situation.', 'Alonzo found himself in a vexing situation.', 'Alonzo found himself in an outrageous situation.', 'Alonzo found himself in an annoying situation.', 'Alonzo found himself in a displeasing situation.', 'Alonzo found himself in a depressing situation.', 'Alonzo found himself in a serious situation.', 'Alonzo found himself in a grim situation.', 'Alonzo found himself in a heartbreaking situation.', 'Alonzo found himself in a gloomy situation.', 'Alonzo found himself in a horrible situation.', 'Alonzo found himself in a threatening situation.', 'Alonzo found himself in a terrifying situation.', 'Alonzo found himself in a shocking situation.', 'Alonzo found himself in a dreadful situation.', 'Alonzo found himself in a funny situation.', 'Alonzo found himself in a hilarious situation.', 'Alonzo found himself in an amazing situation.', 'Alonzo found himself in a wonderful situation.', 'Alonzo found himself in a great situation.', 'Jamel found himself in an irritating situation.', 'Jamel found himself in a vexing situation.', 'Jamel found himself in an outrageous situation.', 'Jamel found himself in an annoying situation.', 'Jamel found himself in a displeasing situation.', 'Jamel found himself in a depressing situation.', 'Jamel found himself in a serious situation.', 'Jamel found himself in a grim situation.', 'Jamel found himself in a heartbreaking situation.', 'Jamel found himself in a gloomy situation.', 'Jamel found himself in a horrible situation.', 'Jamel found himself in a threatening situation.', 'Jamel found himself in a terrifying situation.', 'Jamel found himself in a shocking situation.', 'Jamel found himself in a dreadful situation.', 'Jamel found himself in a funny situation.', 'Jamel found himself in a hilarious situation.', 'Jamel found himself in an amazing situation.', 'Jamel found himself in a wonderful situation.', 'Jamel found himself in a great situation.', 'Alphonse found himself in an irritating situation.', 'Alphonse found himself in a vexing situation.', 'Alphonse found himself in an outrageous situation.', 'Alphonse found himself in an annoying situation.', 'Alphonse found himself in a displeasing situation.', 'Alphonse found himself in a depressing situation.', 'Alphonse found himself in a serious situation.', 'Alphonse found himself in a grim situation.', 'Alphonse found himself in a heartbreaking situation.', 'Alphonse found himself in a gloomy situation.', 'Alphonse found himself in a horrible situation.', 'Alphonse found himself in a threatening situation.', 'Alphonse found himself in a terrifying situation.', 'Alphonse found himself in a shocking situation.', 'Alphonse found himself in a dreadful situation.', 'Alphonse found himself in a funny situation.', 'Alphonse found himself in a hilarious situation.', 'Alphonse found himself in an amazing situation.', 'Alphonse found himself in a wonderful situation.', 'Alphonse found himself in a great situation.', 'Jerome found himself in an irritating situation.', 'Jerome found himself in a vexing situation.', 'Jerome found himself in an outrageous situation.', 'Jerome found himself in an annoying situation.', 'Jerome found himself in a displeasing situation.', 'Jerome found himself in a depressing situation.', 'Jerome found himself in a serious situation.', 'Jerome found himself in a grim situation.', 'Jerome found himself in a heartbreaking situation.', 'Jerome found himself in a gloomy situation.', 'Jerome found himself in a horrible situation.', 'Jerome found himself in a threatening situation.', 'Jerome found himself in a terrifying situation.', 'Jerome found himself in a shocking situation.', 'Jerome found himself in a dreadful situation.', 'Jerome found himself in a funny situation.', 'Jerome found himself in a hilarious situation.', 'Jerome found himself in an amazing situation.', 'Jerome found himself in a wonderful situation.', 'Jerome found himself in a great situation.', 'Leroy found himself in an irritating situation.', 'Leroy found himself in a vexing situation.', 'Leroy found himself in an outrageous situation.', 'Leroy found himself in an annoying situation.', 'Leroy found himself in a displeasing situation.', 'Leroy found himself in a depressing situation.', 'Leroy found himself in a serious situation.', 'Leroy found himself in a grim situation.', 'Leroy found himself in a heartbreaking situation.', 'Leroy found himself in a gloomy situation.', 'Leroy found himself in a horrible situation.', 'Leroy found himself in a threatening situation.', 'Leroy found himself in a terrifying situation.', 'Leroy found himself in a shocking situation.', 'Leroy found himself in a dreadful situation.', 'Leroy found himself in a funny situation.', 'Leroy found himself in a hilarious situation.', 'Leroy found himself in an amazing situation.', 'Leroy found himself in a wonderful situation.', 'Leroy found himself in a great situation.', 'Torrance found himself in an irritating situation.', 'Torrance found himself in a vexing situation.', 'Torrance found himself in an outrageous situation.', 'Torrance found himself in an annoying situation.', 'Torrance found himself in a displeasing situation.', 'Torrance found himself in a depressing situation.', 'Torrance found himself in a serious situation.', 'Torrance found himself in a grim situation.', 'Torrance found himself in a heartbreaking situation.', 'Torrance found himself in a gloomy situation.', 'Torrance found himself in a horrible situation.', 'Torrance found himself in a threatening situation.', 'Torrance found himself in a terrifying situation.', 'Torrance found himself in a shocking situation.', 'Torrance found himself in a dreadful situation.', 'Torrance found himself in a funny situation.', 'Torrance found himself in a hilarious situation.', 'Torrance found himself in an amazing situation.', 'Torrance found himself in a wonderful situation.', 'Torrance found himself in a great situation.', 'Darnell found himself in an irritating situation.', 'Darnell found himself in a vexing situation.', 'Darnell found himself in an outrageous situation.', 'Darnell found himself in an annoying situation.', 'Darnell found himself in a displeasing situation.', 'Darnell found himself in a depressing situation.', 'Darnell found himself in a serious situation.', 'Darnell found himself in a grim situation.', 'Darnell found himself in a heartbreaking situation.', 'Darnell found himself in a gloomy situation.', 'Darnell found himself in a horrible situation.', 'Darnell found himself in a threatening situation.', 'Darnell found himself in a terrifying situation.', 'Darnell found himself in a shocking situation.', 'Darnell found himself in a dreadful situation.', 'Darnell found himself in a funny situation.', 'Darnell found himself in a hilarious situation.', 'Darnell found himself in an amazing situation.', 'Darnell found himself in a wonderful situation.', 'Darnell found himself in a great situation.', 'Lamar found himself in an irritating situation.', 'Lamar found himself in a vexing situation.', 'Lamar found himself in an outrageous situation.', 'Lamar found himself in an annoying situation.', 'Lamar found himself in a displeasing situation.', 'Lamar found himself in a depressing situation.', 'Lamar found himself in a serious situation.', 'Lamar found himself in a grim situation.', 'Lamar found himself in a heartbreaking situation.', 'Lamar found himself in a gloomy situation.', 'Lamar found himself in a horrible situation.', 'Lamar found himself in a threatening situation.', 'Lamar found himself in a terrifying situation.', 'Lamar found himself in a shocking situation.', 'Lamar found himself in a dreadful situation.', 'Lamar found himself in a funny situation.', 'Lamar found himself in a hilarious situation.', 'Lamar found himself in an amazing situation.', 'Lamar found himself in a wonderful situation.', 'Lamar found himself in a great situation.', 'Malik found himself in an irritating situation.', 'Malik found himself in a vexing situation.', 'Malik found himself in an outrageous situation.', 'Malik found himself in an annoying situation.', 'Malik found himself in a displeasing situation.', 'Malik found himself in a depressing situation.', 'Malik found himself in a serious situation.', 'Malik found himself in a grim situation.', 'Malik found himself in a heartbreaking situation.', 'Malik found himself in a gloomy situation.', 'Malik found himself in a horrible situation.', 'Malik found himself in a threatening situation.', 'Malik found himself in a terrifying situation.', 'Malik found himself in a shocking situation.', 'Malik found himself in a dreadful situation.', 'Malik found himself in a funny situation.', 'Malik found himself in a hilarious situation.', 'Malik found himself in an amazing situation.', 'Malik found himself in a wonderful situation.', 'Malik found himself in a great situation.', 'Terrence found himself in an irritating situation.', 'Terrence found himself in a vexing situation.', 'Terrence found himself in an outrageous situation.', 'Terrence found himself in an annoying situation.', 'Terrence found himself in a displeasing situation.', 'Terrence found himself in a depressing situation.', 'Terrence found himself in a serious situation.', 'Terrence found himself in a grim situation.', 'Terrence found himself in a heartbreaking situation.', 'Terrence found himself in a gloomy situation.', 'Terrence found himself in a horrible situation.', 'Terrence found himself in a threatening situation.', 'Terrence found himself in a terrifying situation.', 'Terrence found himself in a shocking situation.', 'Terrence found himself in a dreadful situation.', 'Terrence found himself in a funny situation.', 'Terrence found himself in a hilarious situation.', 'Terrence found himself in an amazing situation.', 'Terrence found himself in a wonderful situation.', 'Terrence found himself in a great situation.', 'Adam found himself in an irritating situation.', 'Adam found himself in a vexing situation.', 'Adam found himself in an outrageous situation.', 'Adam found himself in an annoying situation.', 'Adam found himself in a displeasing situation.', 'Adam found himself in a depressing situation.', 'Adam found himself in a serious situation.', 'Adam found himself in a grim situation.', 'Adam found himself in a heartbreaking situation.', 'Adam found himself in a gloomy situation.', 'Adam found himself in a horrible situation.', 'Adam found himself in a threatening situation.', 'Adam found himself in a terrifying situation.', 'Adam found himself in a shocking situation.', 'Adam found himself in a dreadful situation.', 'Adam found himself in a funny situation.', 'Adam found himself in a hilarious situation.', 'Adam found himself in an amazing situation.', 'Adam found himself in a wonderful situation.', 'Adam found himself in a great situation.', 'Harry found himself in an irritating situation.', 'Harry found himself in a vexing situation.', 'Harry found himself in an outrageous situation.', 'Harry found himself in an annoying situation.', 'Harry found himself in a displeasing situation.', 'Harry found himself in a depressing situation.', 'Harry found himself in a serious situation.', 'Harry found himself in a grim situation.', 'Harry found himself in a heartbreaking situation.', 'Harry found himself in a gloomy situation.', 'Harry found himself in a horrible situation.', 'Harry found himself in a threatening situation.', 'Harry found himself in a terrifying situation.', 'Harry found himself in a shocking situation.', 'Harry found himself in a dreadful situation.', 'Harry found himself in a funny situation.', 'Harry found himself in a hilarious situation.', 'Harry found himself in an amazing situation.', 'Harry found himself in a wonderful situation.', 'Harry found himself in a great situation.', 'Josh found himself in an irritating situation.', 'Josh found himself in a vexing situation.', 'Josh found himself in an outrageous situation.', 'Josh found himself in an annoying situation.', 'Josh found himself in a displeasing situation.', 'Josh found himself in a depressing situation.', 'Josh found himself in a serious situation.', 'Josh found himself in a grim situation.', 'Josh found himself in a heartbreaking situation.', 'Josh found himself in a gloomy situation.', 'Josh found himself in a horrible situation.', 'Josh found himself in a threatening situation.', 'Josh found himself in a terrifying situation.', 'Josh found himself in a shocking situation.', 'Josh found himself in a dreadful situation.', 'Josh found himself in a funny situation.', 'Josh found himself in a hilarious situation.', 'Josh found himself in an amazing situation.', 'Josh found himself in a wonderful situation.', 'Josh found himself in a great situation.', 'Roger found himself in an irritating situation.', 'Roger found himself in a vexing situation.', 'Roger found himself in an outrageous situation.', 'Roger found himself in an annoying situation.', 'Roger found himself in a displeasing situation.', 'Roger found himself in a depressing situation.', 'Roger found himself in a serious situation.', 'Roger found himself in a grim situation.', 'Roger found himself in a heartbreaking situation.', 'Roger found himself in a gloomy situation.', 'Roger found himself in a horrible situation.', 'Roger found himself in a threatening situation.', 'Roger found himself in a terrifying situation.', 'Roger found himself in a shocking situation.', 'Roger found himself in a dreadful situation.', 'Roger found himself in a funny situation.', 'Roger found himself in a hilarious situation.', 'Roger found himself in an amazing situation.', 'Roger found himself in a wonderful situation.', 'Roger found himself in a great situation.', 'Alan found himself in an irritating situation.', 'Alan found himself in a vexing situation.', 'Alan found himself in an outrageous situation.', 'Alan found himself in an annoying situation.', 'Alan found himself in a displeasing situation.', 'Alan found himself in a depressing situation.', 'Alan found himself in a serious situation.', 'Alan found himself in a grim situation.', 'Alan found himself in a heartbreaking situation.', 'Alan found himself in a gloomy situation.', 'Alan found himself in a horrible situation.', 'Alan found himself in a threatening situation.', 'Alan found himself in a terrifying situation.', 'Alan found himself in a shocking situation.', 'Alan found himself in a dreadful situation.', 'Alan found himself in a funny situation.', 'Alan found himself in a hilarious situation.', 'Alan found himself in an amazing situation.', 'Alan found himself in a wonderful situation.', 'Alan found himself in a great situation.', 'Frank found himself in an irritating situation.', 'Frank found himself in a vexing situation.', 'Frank found himself in an outrageous situation.', 'Frank found himself in an annoying situation.', 'Frank found himself in a displeasing situation.', 'Frank found himself in a depressing situation.', 'Frank found himself in a serious situation.', 'Frank found himself in a grim situation.', 'Frank found himself in a heartbreaking situation.', 'Frank found himself in a gloomy situation.', 'Frank found himself in a horrible situation.', 'Frank found himself in a threatening situation.', 'Frank found himself in a terrifying situation.', 'Frank found himself in a shocking situation.', 'Frank found himself in a dreadful situation.', 'Frank found himself in a funny situation.', 'Frank found himself in a hilarious situation.', 'Frank found himself in an amazing situation.', 'Frank found himself in a wonderful situation.', 'Frank found himself in a great situation.', 'Justin found himself in an irritating situation.', 'Justin found himself in a vexing situation.', 'Justin found himself in an outrageous situation.', 'Justin found himself in an annoying situation.', 'Justin found himself in a displeasing situation.', 'Justin found himself in a depressing situation.', 'Justin found himself in a serious situation.', 'Justin found himself in a grim situation.', 'Justin found himself in a heartbreaking situation.', 'Justin found himself in a gloomy situation.', 'Justin found himself in a horrible situation.', 'Justin found himself in a threatening situation.', 'Justin found himself in a terrifying situation.', 'Justin found himself in a shocking situation.', 'Justin found himself in a dreadful situation.', 'Justin found himself in a funny situation.', 'Justin found himself in a hilarious situation.', 'Justin found himself in an amazing situation.', 'Justin found himself in a wonderful situation.', 'Justin found himself in a great situation.', 'Ryan found himself in an irritating situation.', 'Ryan found himself in a vexing situation.', 'Ryan found himself in an outrageous situation.', 'Ryan found himself in an annoying situation.', 'Ryan found himself in a displeasing situation.', 'Ryan found himself in a depressing situation.', 'Ryan found himself in a serious situation.', 'Ryan found himself in a grim situation.', 'Ryan found himself in a heartbreaking situation.', 'Ryan found himself in a gloomy situation.', 'Ryan found himself in a horrible situation.', 'Ryan found himself in a threatening situation.', 'Ryan found himself in a terrifying situation.', 'Ryan found himself in a shocking situation.', 'Ryan found himself in a dreadful situation.', 'Ryan found himself in a funny situation.', 'Ryan found himself in a hilarious situation.', 'Ryan found himself in an amazing situation.', 'Ryan found himself in a wonderful situation.', 'Ryan found himself in a great situation.', 'Andrew found himself in an irritating situation.', 'Andrew found himself in a vexing situation.', 'Andrew found himself in an outrageous situation.', 'Andrew found himself in an annoying situation.', 'Andrew found himself in a displeasing situation.', 'Andrew found himself in a depressing situation.', 'Andrew found himself in a serious situation.', 'Andrew found himself in a grim situation.', 'Andrew found himself in a heartbreaking situation.', 'Andrew found himself in a gloomy situation.', 'Andrew found himself in a horrible situation.', 'Andrew found himself in a threatening situation.', 'Andrew found himself in a terrifying situation.', 'Andrew found himself in a shocking situation.', 'Andrew found himself in a dreadful situation.', 'Andrew found himself in a funny situation.', 'Andrew found himself in a hilarious situation.', 'Andrew found himself in an amazing situation.', 'Andrew found himself in a wonderful situation.', 'Andrew found himself in a great situation.', 'Jack found himself in an irritating situation.', 'Jack found himself in a vexing situation.', 'Jack found himself in an outrageous situation.', 'Jack found himself in an annoying situation.', 'Jack found himself in a displeasing situation.', 'Jack found himself in a depressing situation.', 'Jack found himself in a serious situation.', 'Jack found himself in a grim situation.', 'Jack found himself in a heartbreaking situation.', 'Jack found himself in a gloomy situation.', 'Jack found himself in a horrible situation.', 'Jack found himself in a threatening situation.', 'Jack found himself in a terrifying situation.', 'Jack found himself in a shocking situation.', 'Jack found himself in a dreadful situation.', 'Jack found himself in a funny situation.', 'Jack found himself in a hilarious situation.', 'Jack found himself in an amazing situation.', 'Jack found himself in a wonderful situation.', 'Jack found himself in a great situation.', 'Alonzo told us all about the recent irritating events.', 'Alonzo told us all about the recent vexing events.', 'Alonzo told us all about the recent outrageous events.', 'Alonzo told us all about the recent annoying events.', 'Alonzo told us all about the recent displeasing events.', 'Alonzo told us all about the recent depressing events.', 'Alonzo told us all about the recent serious events.', 'Alonzo told us all about the recent grim events.', 'Alonzo told us all about the recent heartbreaking events.', 'Alonzo told us all about the recent gloomy events.', 'Alonzo told us all about the recent horrible events.', 'Alonzo told us all about the recent threatening events.', 'Alonzo told us all about the recent terrifying events.', 'Alonzo told us all about the recent shocking events.', 'Alonzo told us all about the recent dreadful events.', 'Alonzo told us all about the recent funny events.', 'Alonzo told us all about the recent hilarious events.', 'Alonzo told us all about the recent amazing events.', 'Alonzo told us all about the recent wonderful events.', 'Alonzo told us all about the recent great events.', 'Jamel told us all about the recent irritating events.', 'Jamel told us all about the recent vexing events.', 'Jamel told us all about the recent outrageous events.', 'Jamel told us all about the recent annoying events.', 'Jamel told us all about the recent displeasing events.', 'Jamel told us all about the recent depressing events.', 'Jamel told us all about the recent serious events.', 'Jamel told us all about the recent grim events.', 'Jamel told us all about the recent heartbreaking events.', 'Jamel told us all about the recent gloomy events.', 'Jamel told us all about the recent horrible events.', 'Jamel told us all about the recent threatening events.', 'Jamel told us all about the recent terrifying events.', 'Jamel told us all about the recent shocking events.', 'Jamel told us all about the recent dreadful events.', 'Jamel told us all about the recent funny events.', 'Jamel told us all about the recent hilarious events.', 'Jamel told us all about the recent amazing events.', 'Jamel told us all about the recent wonderful events.', 'Jamel told us all about the recent great events.', 'Alphonse told us all about the recent irritating events.', 'Alphonse told us all about the recent vexing events.', 'Alphonse told us all about the recent outrageous events.', 'Alphonse told us all about the recent annoying events.', 'Alphonse told us all about the recent displeasing events.', 'Alphonse told us all about the recent depressing events.', 'Alphonse told us all about the recent serious events.', 'Alphonse told us all about the recent grim events.', 'Alphonse told us all about the recent heartbreaking events.', 'Alphonse told us all about the recent gloomy events.', 'Alphonse told us all about the recent horrible events.', 'Alphonse told us all about the recent threatening events.', 'Alphonse told us all about the recent terrifying events.', 'Alphonse told us all about the recent shocking events.', 'Alphonse told us all about the recent dreadful events.', 'Alphonse told us all about the recent funny events.', 'Alphonse told us all about the recent hilarious events.', 'Alphonse told us all about the recent amazing events.', 'Alphonse told us all about the recent wonderful events.', 'Alphonse told us all about the recent great events.', 'Jerome told us all about the recent irritating events.', 'Jerome told us all about the recent vexing events.', 'Jerome told us all about the recent outrageous events.', 'Jerome told us all about the recent annoying events.', 'Jerome told us all about the recent displeasing events.', 'Jerome told us all about the recent depressing events.', 'Jerome told us all about the recent serious events.', 'Jerome told us all about the recent grim events.', 'Jerome told us all about the recent heartbreaking events.', 'Jerome told us all about the recent gloomy events.', 'Jerome told us all about the recent horrible events.', 'Jerome told us all about the recent threatening events.', 'Jerome told us all about the recent terrifying events.', 'Jerome told us all about the recent shocking events.', 'Jerome told us all about the recent dreadful events.', 'Jerome told us all about the recent funny events.', 'Jerome told us all about the recent hilarious events.', 'Jerome told us all about the recent amazing events.', 'Jerome told us all about the recent wonderful events.', 'Jerome told us all about the recent great events.', 'Leroy told us all about the recent irritating events.', 'Leroy told us all about the recent vexing events.', 'Leroy told us all about the recent outrageous events.', 'Leroy told us all about the recent annoying events.', 'Leroy told us all about the recent displeasing events.', 'Leroy told us all about the recent depressing events.', 'Leroy told us all about the recent serious events.', 'Leroy told us all about the recent grim events.', 'Leroy told us all about the recent heartbreaking events.', 'Leroy told us all about the recent gloomy events.', 'Leroy told us all about the recent horrible events.', 'Leroy told us all about the recent threatening events.', 'Leroy told us all about the recent terrifying events.', 'Leroy told us all about the recent shocking events.', 'Leroy told us all about the recent dreadful events.', 'Leroy told us all about the recent funny events.', 'Leroy told us all about the recent hilarious events.', 'Leroy told us all about the recent amazing events.', 'Leroy told us all about the recent wonderful events.', 'Leroy told us all about the recent great events.', 'Torrance told us all about the recent irritating events.', 'Torrance told us all about the recent vexing events.', 'Torrance told us all about the recent outrageous events.', 'Torrance told us all about the recent annoying events.', 'Torrance told us all about the recent displeasing events.', 'Torrance told us all about the recent depressing events.', 'Torrance told us all about the recent serious events.', 'Torrance told us all about the recent grim events.', 'Torrance told us all about the recent heartbreaking events.', 'Torrance told us all about the recent gloomy events.', 'Torrance told us all about the recent horrible events.', 'Torrance told us all about the recent threatening events.', 'Torrance told us all about the recent terrifying events.', 'Torrance told us all about the recent shocking events.', 'Torrance told us all about the recent dreadful events.', 'Torrance told us all about the recent funny events.', 'Torrance told us all about the recent hilarious events.', 'Torrance told us all about the recent amazing events.', 'Torrance told us all about the recent wonderful events.', 'Torrance told us all about the recent great events.', 'Darnell told us all about the recent irritating events.', 'Darnell told us all about the recent vexing events.', 'Darnell told us all about the recent outrageous events.', 'Darnell told us all about the recent annoying events.', 'Darnell told us all about the recent displeasing events.', 'Darnell told us all about the recent depressing events.', 'Darnell told us all about the recent serious events.', 'Darnell told us all about the recent grim events.', 'Darnell told us all about the recent heartbreaking events.', 'Darnell told us all about the recent gloomy events.', 'Darnell told us all about the recent horrible events.', 'Darnell told us all about the recent threatening events.', 'Darnell told us all about the recent terrifying events.', 'Darnell told us all about the recent shocking events.', 'Darnell told us all about the recent dreadful events.', 'Darnell told us all about the recent funny events.', 'Darnell told us all about the recent hilarious events.', 'Darnell told us all about the recent amazing events.', 'Darnell told us all about the recent wonderful events.', 'Darnell told us all about the recent great events.', 'Lamar told us all about the recent irritating events.', 'Lamar told us all about the recent vexing events.', 'Lamar told us all about the recent outrageous events.', 'Lamar told us all about the recent annoying events.', 'Lamar told us all about the recent displeasing events.', 'Lamar told us all about the recent depressing events.', 'Lamar told us all about the recent serious events.', 'Lamar told us all about the recent grim events.', 'Lamar told us all about the recent heartbreaking events.', 'Lamar told us all about the recent gloomy events.', 'Lamar told us all about the recent horrible events.', 'Lamar told us all about the recent threatening events.', 'Lamar told us all about the recent terrifying events.', 'Lamar told us all about the recent shocking events.', 'Lamar told us all about the recent dreadful events.', 'Lamar told us all about the recent funny events.', 'Lamar told us all about the recent hilarious events.', 'Lamar told us all about the recent amazing events.', 'Lamar told us all about the recent wonderful events.', 'Lamar told us all about the recent great events.', 'Malik told us all about the recent irritating events.', 'Malik told us all about the recent vexing events.', 'Malik told us all about the recent outrageous events.', 'Malik told us all about the recent annoying events.', 'Malik told us all about the recent displeasing events.', 'Malik told us all about the recent depressing events.', 'Malik told us all about the recent serious events.', 'Malik told us all about the recent grim events.', 'Malik told us all about the recent heartbreaking events.', 'Malik told us all about the recent gloomy events.', 'Malik told us all about the recent horrible events.', 'Malik told us all about the recent threatening events.', 'Malik told us all about the recent terrifying events.', 'Malik told us all about the recent shocking events.', 'Malik told us all about the recent dreadful events.', 'Malik told us all about the recent funny events.', 'Malik told us all about the recent hilarious events.', 'Malik told us all about the recent amazing events.', 'Malik told us all about the recent wonderful events.', 'Malik told us all about the recent great events.', 'Terrence told us all about the recent irritating events.', 'Terrence told us all about the recent vexing events.', 'Terrence told us all about the recent outrageous events.', 'Terrence told us all about the recent annoying events.', 'Terrence told us all about the recent displeasing events.', 'Terrence told us all about the recent depressing events.', 'Terrence told us all about the recent serious events.', 'Terrence told us all about the recent grim events.', 'Terrence told us all about the recent heartbreaking events.', 'Terrence told us all about the recent gloomy events.', 'Terrence told us all about the recent horrible events.', 'Terrence told us all about the recent threatening events.', 'Terrence told us all about the recent terrifying events.', 'Terrence told us all about the recent shocking events.', 'Terrence told us all about the recent dreadful events.', 'Terrence told us all about the recent funny events.', 'Terrence told us all about the recent hilarious events.', 'Terrence told us all about the recent amazing events.', 'Terrence told us all about the recent wonderful events.', 'Terrence told us all about the recent great events.', 'Adam told us all about the recent irritating events.', 'Adam told us all about the recent vexing events.', 'Adam told us all about the recent outrageous events.', 'Adam told us all about the recent annoying events.', 'Adam told us all about the recent displeasing events.', 'Adam told us all about the recent depressing events.', 'Adam told us all about the recent serious events.', 'Adam told us all about the recent grim events.', 'Adam told us all about the recent heartbreaking events.', 'Adam told us all about the recent gloomy events.', 'Adam told us all about the recent horrible events.', 'Adam told us all about the recent threatening events.', 'Adam told us all about the recent terrifying events.', 'Adam told us all about the recent shocking events.', 'Adam told us all about the recent dreadful events.', 'Adam told us all about the recent funny events.', 'Adam told us all about the recent hilarious events.', 'Adam told us all about the recent amazing events.', 'Adam told us all about the recent wonderful events.', 'Adam told us all about the recent great events.', 'Harry told us all about the recent irritating events.', 'Harry told us all about the recent vexing events.', 'Harry told us all about the recent outrageous events.', 'Harry told us all about the recent annoying events.', 'Harry told us all about the recent displeasing events.', 'Harry told us all about the recent depressing events.', 'Harry told us all about the recent serious events.', 'Harry told us all about the recent grim events.', 'Harry told us all about the recent heartbreaking events.', 'Harry told us all about the recent gloomy events.', 'Harry told us all about the recent horrible events.', 'Harry told us all about the recent threatening events.', 'Harry told us all about the recent terrifying events.', 'Harry told us all about the recent shocking events.', 'Harry told us all about the recent dreadful events.', 'Harry told us all about the recent funny events.', 'Harry told us all about the recent hilarious events.', 'Harry told us all about the recent amazing events.', 'Harry told us all about the recent wonderful events.', 'Harry told us all about the recent great events.', 'Josh told us all about the recent irritating events.', 'Josh told us all about the recent vexing events.', 'Josh told us all about the recent outrageous events.', 'Josh told us all about the recent annoying events.', 'Josh told us all about the recent displeasing events.', 'Josh told us all about the recent depressing events.', 'Josh told us all about the recent serious events.', 'Josh told us all about the recent grim events.', 'Josh told us all about the recent heartbreaking events.', 'Josh told us all about the recent gloomy events.', 'Josh told us all about the recent horrible events.', 'Josh told us all about the recent threatening events.', 'Josh told us all about the recent terrifying events.', 'Josh told us all about the recent shocking events.', 'Josh told us all about the recent dreadful events.', 'Josh told us all about the recent funny events.', 'Josh told us all about the recent hilarious events.', 'Josh told us all about the recent amazing events.', 'Josh told us all about the recent wonderful events.', 'Josh told us all about the recent great events.', 'Roger told us all about the recent irritating events.', 'Roger told us all about the recent vexing events.', 'Roger told us all about the recent outrageous events.', 'Roger told us all about the recent annoying events.', 'Roger told us all about the recent displeasing events.', 'Roger told us all about the recent depressing events.', 'Roger told us all about the recent serious events.', 'Roger told us all about the recent grim events.', 'Roger told us all about the recent heartbreaking events.', 'Roger told us all about the recent gloomy events.', 'Roger told us all about the recent horrible events.', 'Roger told us all about the recent threatening events.', 'Roger told us all about the recent terrifying events.', 'Roger told us all about the recent shocking events.', 'Roger told us all about the recent dreadful events.', 'Roger told us all about the recent funny events.', 'Roger told us all about the recent hilarious events.', 'Roger told us all about the recent amazing events.', 'Roger told us all about the recent wonderful events.', 'Roger told us all about the recent great events.', 'Alan told us all about the recent irritating events.', 'Alan told us all about the recent vexing events.', 'Alan told us all about the recent outrageous events.', 'Alan told us all about the recent annoying events.', 'Alan told us all about the recent displeasing events.', 'Alan told us all about the recent depressing events.', 'Alan told us all about the recent serious events.', 'Alan told us all about the recent grim events.', 'Alan told us all about the recent heartbreaking events.', 'Alan told us all about the recent gloomy events.', 'Alan told us all about the recent horrible events.', 'Alan told us all about the recent threatening events.', 'Alan told us all about the recent terrifying events.', 'Alan told us all about the recent shocking events.', 'Alan told us all about the recent dreadful events.', 'Alan told us all about the recent funny events.', 'Alan told us all about the recent hilarious events.', 'Alan told us all about the recent amazing events.', 'Alan told us all about the recent wonderful events.', 'Alan told us all about the recent great events.', 'Frank told us all about the recent irritating events.', 'Frank told us all about the recent vexing events.', 'Frank told us all about the recent outrageous events.', 'Frank told us all about the recent annoying events.', 'Frank told us all about the recent displeasing events.', 'Frank told us all about the recent depressing events.', 'Frank told us all about the recent serious events.', 'Frank told us all about the recent grim events.', 'Frank told us all about the recent heartbreaking events.', 'Frank told us all about the recent gloomy events.', 'Frank told us all about the recent horrible events.', 'Frank told us all about the recent threatening events.', 'Frank told us all about the recent terrifying events.', 'Frank told us all about the recent shocking events.', 'Frank told us all about the recent dreadful events.', 'Frank told us all about the recent funny events.', 'Frank told us all about the recent hilarious events.', 'Frank told us all about the recent amazing events.', 'Frank told us all about the recent wonderful events.', 'Frank told us all about the recent great events.', 'Justin told us all about the recent irritating events.', 'Justin told us all about the recent vexing events.', 'Justin told us all about the recent outrageous events.', 'Justin told us all about the recent annoying events.', 'Justin told us all about the recent displeasing events.', 'Justin told us all about the recent depressing events.', 'Justin told us all about the recent serious events.', 'Justin told us all about the recent grim events.', 'Justin told us all about the recent heartbreaking events.', 'Justin told us all about the recent gloomy events.', 'Justin told us all about the recent horrible events.', 'Justin told us all about the recent threatening events.', 'Justin told us all about the recent terrifying events.', 'Justin told us all about the recent shocking events.', 'Justin told us all about the recent dreadful events.', 'Justin told us all about the recent funny events.', 'Justin told us all about the recent hilarious events.', 'Justin told us all about the recent amazing events.', 'Justin told us all about the recent wonderful events.', 'Justin told us all about the recent great events.', 'Ryan told us all about the recent irritating events.', 'Ryan told us all about the recent vexing events.', 'Ryan told us all about the recent outrageous events.', 'Ryan told us all about the recent annoying events.', 'Ryan told us all about the recent displeasing events.', 'Ryan told us all about the recent depressing events.', 'Ryan told us all about the recent serious events.', 'Ryan told us all about the recent grim events.', 'Ryan told us all about the recent heartbreaking events.', 'Ryan told us all about the recent gloomy events.', 'Ryan told us all about the recent horrible events.', 'Ryan told us all about the recent threatening events.', 'Ryan told us all about the recent terrifying events.', 'Ryan told us all about the recent shocking events.', 'Ryan told us all about the recent dreadful events.', 'Ryan told us all about the recent funny events.', 'Ryan told us all about the recent hilarious events.', 'Ryan told us all about the recent amazing events.', 'Ryan told us all about the recent wonderful events.', 'Ryan told us all about the recent great events.', 'Andrew told us all about the recent irritating events.', 'Andrew told us all about the recent vexing events.', 'Andrew told us all about the recent outrageous events.', 'Andrew told us all about the recent annoying events.', 'Andrew told us all about the recent displeasing events.', 'Andrew told us all about the recent depressing events.', 'Andrew told us all about the recent serious events.', 'Andrew told us all about the recent grim events.', 'Andrew told us all about the recent heartbreaking events.', 'Andrew told us all about the recent gloomy events.', 'Andrew told us all about the recent horrible events.', 'Andrew told us all about the recent threatening events.', 'Andrew told us all about the recent terrifying events.', 'Andrew told us all about the recent shocking events.', 'Andrew told us all about the recent dreadful events.', 'Andrew told us all about the recent funny events.', 'Andrew told us all about the recent hilarious events.', 'Andrew told us all about the recent amazing events.', 'Andrew told us all about the recent wonderful events.', 'Andrew told us all about the recent great events.', 'Jack told us all about the recent irritating events.', 'Jack told us all about the recent vexing events.', 'Jack told us all about the recent outrageous events.', 'Jack told us all about the recent annoying events.', 'Jack told us all about the recent displeasing events.', 'Jack told us all about the recent depressing events.', 'Jack told us all about the recent serious events.', 'Jack told us all about the recent grim events.', 'Jack told us all about the recent heartbreaking events.', 'Jack told us all about the recent gloomy events.', 'Jack told us all about the recent horrible events.', 'Jack told us all about the recent threatening events.', 'Jack told us all about the recent terrifying events.', 'Jack told us all about the recent shocking events.', 'Jack told us all about the recent dreadful events.', 'Jack told us all about the recent funny events.', 'Jack told us all about the recent hilarious events.', 'Jack told us all about the recent amazing events.', 'Jack told us all about the recent wonderful events.', 'Jack told us all about the recent great events.', 'The conversation with Alonzo was irritating.', 'The conversation with Alonzo was vexing.', 'The conversation with Alonzo was outrageous.', 'The conversation with Alonzo was annoying.', 'The conversation with Alonzo was displeasing.', 'The conversation with Alonzo was depressing.', 'The conversation with Alonzo was serious.', 'The conversation with Alonzo was grim.', 'The conversation with Alonzo was heartbreaking.', 'The conversation with Alonzo was gloomy.', 'The conversation with Alonzo was horrible.', 'The conversation with Alonzo was threatening.', 'The conversation with Alonzo was terrifying.', 'The conversation with Alonzo was shocking.', 'The conversation with Alonzo was dreadful.', 'The conversation with Alonzo was funny.', 'The conversation with Alonzo was hilarious.', 'The conversation with Alonzo was amazing.', 'The conversation with Alonzo was wonderful.', 'The conversation with Alonzo was great.', 'The conversation with Jamel was irritating.', 'The conversation with Jamel was vexing.', 'The conversation with Jamel was outrageous.', 'The conversation with Jamel was annoying.', 'The conversation with Jamel was displeasing.', 'The conversation with Jamel was depressing.', 'The conversation with Jamel was serious.', 'The conversation with Jamel was grim.', 'The conversation with Jamel was heartbreaking.', 'The conversation with Jamel was gloomy.', 'The conversation with Jamel was horrible.', 'The conversation with Jamel was threatening.', 'The conversation with Jamel was terrifying.', 'The conversation with Jamel was shocking.', 'The conversation with Jamel was dreadful.', 'The conversation with Jamel was funny.', 'The conversation with Jamel was hilarious.', 'The conversation with Jamel was amazing.', 'The conversation with Jamel was wonderful.', 'The conversation with Jamel was great.', 'The conversation with Alphonse was irritating.', 'The conversation with Alphonse was vexing.', 'The conversation with Alphonse was outrageous.', 'The conversation with Alphonse was annoying.', 'The conversation with Alphonse was displeasing.', 'The conversation with Alphonse was depressing.', 'The conversation with Alphonse was serious.', 'The conversation with Alphonse was grim.', 'The conversation with Alphonse was heartbreaking.', 'The conversation with Alphonse was gloomy.', 'The conversation with Alphonse was horrible.', 'The conversation with Alphonse was threatening.', 'The conversation with Alphonse was terrifying.', 'The conversation with Alphonse was shocking.', 'The conversation with Alphonse was dreadful.', 'The conversation with Alphonse was funny.', 'The conversation with Alphonse was hilarious.', 'The conversation with Alphonse was amazing.', 'The conversation with Alphonse was wonderful.', 'The conversation with Alphonse was great.', 'The conversation with Jerome was irritating.', 'The conversation with Jerome was vexing.', 'The conversation with Jerome was outrageous.', 'The conversation with Jerome was annoying.', 'The conversation with Jerome was displeasing.', 'The conversation with Jerome was depressing.', 'The conversation with Jerome was serious.', 'The conversation with Jerome was grim.', 'The conversation with Jerome was heartbreaking.', 'The conversation with Jerome was gloomy.', 'The conversation with Jerome was horrible.', 'The conversation with Jerome was threatening.', 'The conversation with Jerome was terrifying.', 'The conversation with Jerome was shocking.', 'The conversation with Jerome was dreadful.', 'The conversation with Jerome was funny.', 'The conversation with Jerome was hilarious.', 'The conversation with Jerome was amazing.', 'The conversation with Jerome was wonderful.', 'The conversation with Jerome was great.', 'The conversation with Leroy was irritating.', 'The conversation with Leroy was vexing.', 'The conversation with Leroy was outrageous.', 'The conversation with Leroy was annoying.', 'The conversation with Leroy was displeasing.', 'The conversation with Leroy was depressing.', 'The conversation with Leroy was serious.', 'The conversation with Leroy was grim.', 'The conversation with Leroy was heartbreaking.', 'The conversation with Leroy was gloomy.', 'The conversation with Leroy was horrible.', 'The conversation with Leroy was threatening.', 'The conversation with Leroy was terrifying.', 'The conversation with Leroy was shocking.', 'The conversation with Leroy was dreadful.', 'The conversation with Leroy was funny.', 'The conversation with Leroy was hilarious.', 'The conversation with Leroy was amazing.', 'The conversation with Leroy was wonderful.', 'The conversation with Leroy was great.', 'The conversation with Torrance was irritating.', 'The conversation with Torrance was vexing.', 'The conversation with Torrance was outrageous.', 'The conversation with Torrance was annoying.', 'The conversation with Torrance was displeasing.', 'The conversation with Torrance was depressing.', 'The conversation with Torrance was serious.', 'The conversation with Torrance was grim.', 'The conversation with Torrance was heartbreaking.', 'The conversation with Torrance was gloomy.', 'The conversation with Torrance was horrible.', 'The conversation with Torrance was threatening.', 'The conversation with Torrance was terrifying.', 'The conversation with Torrance was shocking.', 'The conversation with Torrance was dreadful.', 'The conversation with Torrance was funny.', 'The conversation with Torrance was hilarious.', 'The conversation with Torrance was amazing.', 'The conversation with Torrance was wonderful.', 'The conversation with Torrance was great.', 'The conversation with Darnell was irritating.', 'The conversation with Darnell was vexing.', 'The conversation with Darnell was outrageous.', 'The conversation with Darnell was annoying.', 'The conversation with Darnell was displeasing.', 'The conversation with Darnell was depressing.', 'The conversation with Darnell was serious.', 'The conversation with Darnell was grim.', 'The conversation with Darnell was heartbreaking.', 'The conversation with Darnell was gloomy.', 'The conversation with Darnell was horrible.', 'The conversation with Darnell was threatening.', 'The conversation with Darnell was terrifying.', 'The conversation with Darnell was shocking.', 'The conversation with Darnell was dreadful.', 'The conversation with Darnell was funny.', 'The conversation with Darnell was hilarious.', 'The conversation with Darnell was amazing.', 'The conversation with Darnell was wonderful.', 'The conversation with Darnell was great.', 'The conversation with Lamar was irritating.', 'The conversation with Lamar was vexing.', 'The conversation with Lamar was outrageous.', 'The conversation with Lamar was annoying.', 'The conversation with Lamar was displeasing.', 'The conversation with Lamar was depressing.', 'The conversation with Lamar was serious.', 'The conversation with Lamar was grim.', 'The conversation with Lamar was heartbreaking.', 'The conversation with Lamar was gloomy.', 'The conversation with Lamar was horrible.', 'The conversation with Lamar was threatening.', 'The conversation with Lamar was terrifying.', 'The conversation with Lamar was shocking.', 'The conversation with Lamar was dreadful.', 'The conversation with Lamar was funny.', 'The conversation with Lamar was hilarious.', 'The conversation with Lamar was amazing.', 'The conversation with Lamar was wonderful.', 'The conversation with Lamar was great.', 'The conversation with Malik was irritating.', 'The conversation with Malik was vexing.', 'The conversation with Malik was outrageous.', 'The conversation with Malik was annoying.', 'The conversation with Malik was displeasing.', 'The conversation with Malik was depressing.', 'The conversation with Malik was serious.', 'The conversation with Malik was grim.', 'The conversation with Malik was heartbreaking.', 'The conversation with Malik was gloomy.', 'The conversation with Malik was horrible.', 'The conversation with Malik was threatening.', 'The conversation with Malik was terrifying.', 'The conversation with Malik was shocking.', 'The conversation with Malik was dreadful.', 'The conversation with Malik was funny.', 'The conversation with Malik was hilarious.', 'The conversation with Malik was amazing.', 'The conversation with Malik was wonderful.', 'The conversation with Malik was great.', 'The conversation with Terrence was irritating.', 'The conversation with Terrence was vexing.', 'The conversation with Terrence was outrageous.', 'The conversation with Terrence was annoying.', 'The conversation with Terrence was displeasing.', 'The conversation with Terrence was depressing.', 'The conversation with Terrence was serious.', 'The conversation with Terrence was grim.', 'The conversation with Terrence was heartbreaking.', 'The conversation with Terrence was gloomy.', 'The conversation with Terrence was horrible.', 'The conversation with Terrence was threatening.', 'The conversation with Terrence was terrifying.', 'The conversation with Terrence was shocking.', 'The conversation with Terrence was dreadful.', 'The conversation with Terrence was funny.', 'The conversation with Terrence was hilarious.', 'The conversation with Terrence was amazing.', 'The conversation with Terrence was wonderful.', 'The conversation with Terrence was great.', 'The conversation with Adam was irritating.', 'The conversation with Adam was vexing.', 'The conversation with Adam was outrageous.', 'The conversation with Adam was annoying.', 'The conversation with Adam was displeasing.', 'The conversation with Adam was depressing.', 'The conversation with Adam was serious.', 'The conversation with Adam was grim.', 'The conversation with Adam was heartbreaking.', 'The conversation with Adam was gloomy.', 'The conversation with Adam was horrible.', 'The conversation with Adam was threatening.', 'The conversation with Adam was terrifying.', 'The conversation with Adam was shocking.', 'The conversation with Adam was dreadful.', 'The conversation with Adam was funny.', 'The conversation with Adam was hilarious.', 'The conversation with Adam was amazing.', 'The conversation with Adam was wonderful.', 'The conversation with Adam was great.', 'The conversation with Harry was irritating.', 'The conversation with Harry was vexing.', 'The conversation with Harry was outrageous.', 'The conversation with Harry was annoying.', 'The conversation with Harry was displeasing.', 'The conversation with Harry was depressing.', 'The conversation with Harry was serious.', 'The conversation with Harry was grim.', 'The conversation with Harry was heartbreaking.', 'The conversation with Harry was gloomy.', 'The conversation with Harry was horrible.', 'The conversation with Harry was threatening.', 'The conversation with Harry was terrifying.', 'The conversation with Harry was shocking.', 'The conversation with Harry was dreadful.', 'The conversation with Harry was funny.', 'The conversation with Harry was hilarious.', 'The conversation with Harry was amazing.', 'The conversation with Harry was wonderful.', 'The conversation with Harry was great.', 'The conversation with Josh was irritating.', 'The conversation with Josh was vexing.', 'The conversation with Josh was outrageous.', 'The conversation with Josh was annoying.', 'The conversation with Josh was displeasing.', 'The conversation with Josh was depressing.', 'The conversation with Josh was serious.', 'The conversation with Josh was grim.', 'The conversation with Josh was heartbreaking.', 'The conversation with Josh was gloomy.', 'The conversation with Josh was horrible.', 'The conversation with Josh was threatening.', 'The conversation with Josh was terrifying.', 'The conversation with Josh was shocking.', 'The conversation with Josh was dreadful.', 'The conversation with Josh was funny.', 'The conversation with Josh was hilarious.', 'The conversation with Josh was amazing.', 'The conversation with Josh was wonderful.', 'The conversation with Josh was great.', 'The conversation with Roger was irritating.', 'The conversation with Roger was vexing.', 'The conversation with Roger was outrageous.', 'The conversation with Roger was annoying.', 'The conversation with Roger was displeasing.', 'The conversation with Roger was depressing.', 'The conversation with Roger was serious.', 'The conversation with Roger was grim.', 'The conversation with Roger was heartbreaking.', 'The conversation with Roger was gloomy.', 'The conversation with Roger was horrible.', 'The conversation with Roger was threatening.', 'The conversation with Roger was terrifying.', 'The conversation with Roger was shocking.', 'The conversation with Roger was dreadful.', 'The conversation with Roger was funny.', 'The conversation with Roger was hilarious.', 'The conversation with Roger was amazing.', 'The conversation with Roger was wonderful.', 'The conversation with Roger was great.', 'The conversation with Alan was irritating.', 'The conversation with Alan was vexing.', 'The conversation with Alan was outrageous.', 'The conversation with Alan was annoying.', 'The conversation with Alan was displeasing.', 'The conversation with Alan was depressing.', 'The conversation with Alan was serious.', 'The conversation with Alan was grim.', 'The conversation with Alan was heartbreaking.', 'The conversation with Alan was gloomy.', 'The conversation with Alan was horrible.', 'The conversation with Alan was threatening.', 'The conversation with Alan was terrifying.', 'The conversation with Alan was shocking.', 'The conversation with Alan was dreadful.', 'The conversation with Alan was funny.', 'The conversation with Alan was hilarious.', 'The conversation with Alan was amazing.', 'The conversation with Alan was wonderful.', 'The conversation with Alan was great.', 'The conversation with Frank was irritating.', 'The conversation with Frank was vexing.', 'The conversation with Frank was outrageous.', 'The conversation with Frank was annoying.', 'The conversation with Frank was displeasing.', 'The conversation with Frank was depressing.', 'The conversation with Frank was serious.', 'The conversation with Frank was grim.', 'The conversation with Frank was heartbreaking.', 'The conversation with Frank was gloomy.', 'The conversation with Frank was horrible.', 'The conversation with Frank was threatening.', 'The conversation with Frank was terrifying.', 'The conversation with Frank was shocking.', 'The conversation with Frank was dreadful.', 'The conversation with Frank was funny.', 'The conversation with Frank was hilarious.', 'The conversation with Frank was amazing.', 'The conversation with Frank was wonderful.', 'The conversation with Frank was great.', 'The conversation with Justin was irritating.', 'The conversation with Justin was vexing.', 'The conversation with Justin was outrageous.', 'The conversation with Justin was annoying.', 'The conversation with Justin was displeasing.', 'The conversation with Justin was depressing.', 'The conversation with Justin was serious.', 'The conversation with Justin was grim.', 'The conversation with Justin was heartbreaking.', 'The conversation with Justin was gloomy.', 'The conversation with Justin was horrible.', 'The conversation with Justin was threatening.', 'The conversation with Justin was terrifying.', 'The conversation with Justin was shocking.', 'The conversation with Justin was dreadful.', 'The conversation with Justin was funny.', 'The conversation with Justin was hilarious.', 'The conversation with Justin was amazing.', 'The conversation with Justin was wonderful.', 'The conversation with Justin was great.', 'The conversation with Ryan was irritating.', 'The conversation with Ryan was vexing.', 'The conversation with Ryan was outrageous.', 'The conversation with Ryan was annoying.', 'The conversation with Ryan was displeasing.', 'The conversation with Ryan was depressing.', 'The conversation with Ryan was serious.', 'The conversation with Ryan was grim.', 'The conversation with Ryan was heartbreaking.', 'The conversation with Ryan was gloomy.', 'The conversation with Ryan was horrible.', 'The conversation with Ryan was threatening.', 'The conversation with Ryan was terrifying.', 'The conversation with Ryan was shocking.', 'The conversation with Ryan was dreadful.', 'The conversation with Ryan was funny.', 'The conversation with Ryan was hilarious.', 'The conversation with Ryan was amazing.', 'The conversation with Ryan was wonderful.', 'The conversation with Ryan was great.', 'The conversation with Andrew was irritating.', 'The conversation with Andrew was vexing.', 'The conversation with Andrew was outrageous.', 'The conversation with Andrew was annoying.', 'The conversation with Andrew was displeasing.', 'The conversation with Andrew was depressing.', 'The conversation with Andrew was serious.', 'The conversation with Andrew was grim.', 'The conversation with Andrew was heartbreaking.', 'The conversation with Andrew was gloomy.', 'The conversation with Andrew was horrible.', 'The conversation with Andrew was threatening.', 'The conversation with Andrew was terrifying.', 'The conversation with Andrew was shocking.', 'The conversation with Andrew was dreadful.', 'The conversation with Andrew was funny.', 'The conversation with Andrew was hilarious.', 'The conversation with Andrew was amazing.', 'The conversation with Andrew was wonderful.', 'The conversation with Andrew was great.', 'The conversation with Jack was irritating.', 'The conversation with Jack was vexing.', 'The conversation with Jack was outrageous.', 'The conversation with Jack was annoying.', 'The conversation with Jack was displeasing.', 'The conversation with Jack was depressing.', 'The conversation with Jack was serious.', 'The conversation with Jack was grim.', 'The conversation with Jack was heartbreaking.', 'The conversation with Jack was gloomy.', 'The conversation with Jack was horrible.', 'The conversation with Jack was threatening.', 'The conversation with Jack was terrifying.', 'The conversation with Jack was shocking.', 'The conversation with Jack was dreadful.', 'The conversation with Jack was funny.', 'The conversation with Jack was hilarious.', 'The conversation with Jack was amazing.', 'The conversation with Jack was wonderful.', 'The conversation with Jack was great.']]\n",
            "{}\n"
          ]
        }
      ]
    }
  ]
}