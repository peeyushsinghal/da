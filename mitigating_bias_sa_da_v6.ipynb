{
  "nbformat": 4,
  "nbformat_minor": 0,
  "metadata": {
    "colab": {
      "provenance": [],
      "collapsed_sections": [
        "dxM_9csG_O4A",
        "FUArQYMVgPzx",
        "URHDApUQgZ9X"
      ],
      "toc_visible": true,
      "authorship_tag": "ABX9TyO8ePMQUqnqEBaw3620Cdzt",
      "include_colab_link": true
    },
    "kernelspec": {
      "name": "python3",
      "display_name": "Python 3"
    },
    "language_info": {
      "name": "python"
    },
    "gpuClass": "standard"
  },
  "cells": [
    {
      "cell_type": "markdown",
      "metadata": {
        "id": "view-in-github",
        "colab_type": "text"
      },
      "source": [
        "<a href=\"https://colab.research.google.com/github/peeyushsinghal/da/blob/main/mitigating_bias_sa_da_v6.ipynb\" target=\"_parent\"><img src=\"https://colab.research.google.com/assets/colab-badge.svg\" alt=\"Open In Colab\"/></a>"
      ]
    },
    {
      "cell_type": "markdown",
      "source": [
        "# Mitigating bias in sentiment analysis using domain adaptation"
      ],
      "metadata": {
        "id": "smhY2FyQoMJY"
      }
    },
    {
      "cell_type": "code",
      "source": [
        "! pip install torchtext==0.10.0 --quiet # DOWNGRADE YOUR TORCHTEXT\n",
        "! pip install ekphrasis --quiet # library to pre process twitter data\n",
        "! pip install emoji --upgrade --quiet #library to deal with emoji data\n"
      ],
      "metadata": {
        "id": "RS_tIhlS2jzV"
      },
      "execution_count": 1,
      "outputs": []
    },
    {
      "cell_type": "code",
      "source": [
        "## Import statements\n",
        "import pandas as pd\n",
        "import os\n",
        "import torch\n",
        "from torch.utils.data import Dataset, DataLoader\n",
        "from torchtext.legacy.data import Dataset, Field, TabularDataset, BucketIterator\n",
        "from torchtext.vocab import GloVe\n",
        "# import torchtext.functional as TTF\n",
        "import numpy as np\n",
        "from ekphrasis.classes.preprocessor import TextPreProcessor\n",
        "from ekphrasis.classes.tokenizer import SocialTokenizer\n",
        "from ekphrasis.dicts.emoticons import emoticons\n",
        "import emoji\n",
        "from torchtext.legacy.vocab import Vectors\n",
        "from tqdm import tqdm\n",
        "import random\n",
        "import torch.optim as optim\n",
        "# import json\n",
        "# Importing library\n",
        "import scipy.stats as stats\n",
        "from statistics import mean"
      ],
      "metadata": {
        "id": "ObCLSMyRohfP"
      },
      "execution_count": 2,
      "outputs": []
    },
    {
      "cell_type": "code",
      "source": [
        "# checking device\n",
        "DEVICE = torch.device(\"cuda\" if torch.cuda.is_available() else \"cpu\")\n",
        "print(\"Running on:{}\".format(DEVICE))"
      ],
      "metadata": {
        "colab": {
          "base_uri": "https://localhost:8080/"
        },
        "id": "lzQzb_SFoqdX",
        "outputId": "9cb2bfab-a18b-4d60-e8aa-740beca72574"
      },
      "execution_count": 26,
      "outputs": [
        {
          "output_type": "stream",
          "name": "stdout",
          "text": [
            "Running on:cpu\n"
          ]
        }
      ]
    },
    {
      "cell_type": "markdown",
      "source": [
        "## Data loading"
      ],
      "metadata": {
        "id": "xjIR3OrQoSEQ"
      }
    },
    {
      "cell_type": "code",
      "source": [
        "#Mounting google drive\n",
        "from google.colab import drive\n",
        "drive.mount('/content/drive', force_remount=True)"
      ],
      "metadata": {
        "colab": {
          "base_uri": "https://localhost:8080/"
        },
        "id": "6rI_zEuloY4U",
        "outputId": "e514ad51-9080-4f96-b2e9-d01b89bf377b"
      },
      "execution_count": 4,
      "outputs": [
        {
          "output_type": "stream",
          "name": "stdout",
          "text": [
            "Mounted at /content/drive\n"
          ]
        }
      ]
    },
    {
      "cell_type": "markdown",
      "source": [
        "## Data Configuration"
      ],
      "metadata": {
        "id": "o_kVI7furv8T"
      }
    },
    {
      "cell_type": "code",
      "source": [
        "BASE_PATH = '/content/drive/MyDrive/semeval-2018'\n",
        "\n",
        "DATA_DIR = os.path.join(BASE_PATH,'datasets')\n",
        "TARGET_DIR = os.path.join(BASE_PATH,'targetdataset')\n",
        "\n",
        "MODEL_DIR = os.path.join(BASE_PATH,'models')\n",
        "REF_DIR = os.path.join(BASE_PATH,'reference')\n",
        "\n",
        "if not os.path.exists(MODEL_DIR):\n",
        "  os.makedirs(MODEL_DIR)\n",
        "  print(\"The new directory is created!\")\n",
        "\n",
        "domain_source = 0.0\n",
        "domain_target = 1.0"
      ],
      "metadata": {
        "id": "052h66kcr6KV"
      },
      "execution_count": 5,
      "outputs": []
    },
    {
      "cell_type": "code",
      "source": [
        "class TASK1(object):\n",
        "  \n",
        "    EI_reg = {\n",
        "        'anger': {\n",
        "            'train': os.path.join(\n",
        "                DATA_DIR, 'task1/EI-reg/training/EI-reg-En-anger-train.txt'),\n",
        "            'dev': os.path.join(\n",
        "                DATA_DIR, 'task1/EI-reg/development/2018-EI-reg-En-anger-dev.txt'),\n",
        "            'gold': os.path.join(\n",
        "                DATA_DIR, 'task1/EI-reg/test-gold/2018-EI-reg-En-anger-test-gold.txt')\n",
        "                },\n",
        "        'joy': {\n",
        "                'train': os.path.join(\n",
        "                    DATA_DIR, 'task1/EI-reg/training/EI-reg-En-joy-train.txt'),\n",
        "                'dev': os.path.join(\n",
        "                    DATA_DIR, 'task1/EI-reg/development/2018-EI-reg-En-joy-dev.txt'),\n",
        "                'gold': os.path.join(\n",
        "                    DATA_DIR, 'task1/EI-reg/test-gold/2018-EI-reg-En-joy-test-gold.txt')\n",
        "                    }\n",
        "        }\n",
        "\n",
        "    # V_reg = {\n",
        "    #     'train': os.path.join(\n",
        "    #         DATA_DIR, 'task1/V-reg/2018-Valence-reg-En-train.txt'),\n",
        "    #     'dev': os.path.join(\n",
        "    #         DATA_DIR, 'task1/V-reg/2018-Valence-reg-En-dev.txt'),\n",
        "    #     'gold': os.path.join(\n",
        "    #         DATA_DIR, 'task1/V-reg/2018-Valence-reg-En-test-gold.txt')\n",
        "    #          }\n",
        "\n",
        "    EEC = {\n",
        "        'eec': os.path.join(\n",
        "            DATA_DIR, 'task1/Equity-Evaluation-Corpus/Equity-Evaluation-Corpus.csv')\n",
        "             }"
      ],
      "metadata": {
        "id": "qn0ixH3-sC1y"
      },
      "execution_count": 6,
      "outputs": []
    },
    {
      "cell_type": "markdown",
      "source": [
        "## Source Data\n",
        "Parsing Emotion and Valence regression data : `format [ID\tTweet\tAffect Dimension\tIntensity Score]`"
      ],
      "metadata": {
        "id": "Gvy12RtIsqyE"
      }
    },
    {
      "cell_type": "code",
      "source": [
        "def parse_reg(data_file, label_format='tuple'):#->  pd.DataFrame:\n",
        "    \"\"\"\n",
        "    This is for datasets for the EI-reg and V-reg English tasks \n",
        "    Returns:\n",
        "        df: dataframe with columns in the first row of file [ID-Tweet-Affect Dimension-Intensity Score]\n",
        "    \"\"\"\n",
        "    with open(data_file, 'r') as fd:\n",
        "      data = [l.strip().split('\\t') for l in fd.readlines()]\n",
        "    \n",
        "    # print(data)\n",
        "    df = pd.DataFrame (data[1:],columns=data[0])\n",
        "    csv_file_name = (data_file.split(\"/\")[-1]).split('.')[0]+\".csv\"\n",
        "    csv_file = df.to_csv(str(csv_file_name))\n",
        "    # df['domain'] = domain_source\n",
        "    return csv_file_name\n",
        "    # return df"
      ],
      "metadata": {
        "id": "Df43LU3ztDAk"
      },
      "execution_count": 7,
      "outputs": []
    },
    {
      "cell_type": "code",
      "source": [
        "parse_reg(os.path.join(DATA_DIR, 'task1/EI-reg/training/EI-reg-En-joy-train.txt'))"
      ],
      "metadata": {
        "colab": {
          "base_uri": "https://localhost:8080/",
          "height": 36
        },
        "id": "K784ApxTavkE",
        "outputId": "9fec475d-5ea3-4d33-885e-29b8506dafba"
      },
      "execution_count": 8,
      "outputs": [
        {
          "output_type": "execute_result",
          "data": {
            "text/plain": [
              "'EI-reg-En-joy-train.csv'"
            ],
            "application/vnd.google.colaboratory.intrinsic+json": {
              "type": "string"
            }
          },
          "metadata": {},
          "execution_count": 8
        }
      ]
    },
    {
      "cell_type": "markdown",
      "source": [
        "## Source Parser\n",
        "Generic Source Data Parser"
      ],
      "metadata": {
        "id": "VTmAiHnBZBKF"
      }
    },
    {
      "cell_type": "code",
      "source": [
        "def parse_csv(task, dataset, emotion='anger'):\n",
        "    if task == 'EI-reg':\n",
        "        data_train = TASK1.EI_reg[emotion][dataset]\n",
        "        csv_file_name = parse_reg(data_train)\n",
        "        return csv_file_name\n",
        "        # df[df.columns[-1]] = df[df.columns[-1]].astype(float)\n",
        "        # return df\n",
        "    # elif task == 'V-reg':\n",
        "    #     data_train = TASK1.V_reg[dataset]\n",
        "    #     df = parse_reg(data_train)\n",
        "    #     df[df.columns[-1]] = df[df.columns[-1]].astype(float)\n",
        "    #     return df\n",
        "    else:\n",
        "        return None"
      ],
      "metadata": {
        "id": "e8eUaJgB0UhP"
      },
      "execution_count": 9,
      "outputs": []
    },
    {
      "cell_type": "code",
      "source": [
        "file_EI_reg_train = parse_csv('EI-reg','train','joy')\n",
        "file_EI_reg_train\n",
        "\n",
        "file_EI_reg_val = parse_csv('EI-reg','dev','joy')\n",
        "print(file_EI_reg_val)\n",
        "\n",
        "file_EI_reg_test = parse_csv('EI-reg','gold','joy')\n",
        "(file_EI_reg_test)"
      ],
      "metadata": {
        "colab": {
          "base_uri": "https://localhost:8080/",
          "height": 53
        },
        "id": "ilCPodjN0n1e",
        "outputId": "9cf8a87b-ee9f-48a9-f0bb-5c7669071a4f"
      },
      "execution_count": 10,
      "outputs": [
        {
          "output_type": "stream",
          "name": "stdout",
          "text": [
            "2018-EI-reg-En-joy-dev.csv\n"
          ]
        },
        {
          "output_type": "execute_result",
          "data": {
            "text/plain": [
              "'2018-EI-reg-En-joy-test-gold.csv'"
            ],
            "application/vnd.google.colaboratory.intrinsic+json": {
              "type": "string"
            }
          },
          "metadata": {},
          "execution_count": 10
        }
      ]
    },
    {
      "cell_type": "markdown",
      "source": [
        "## Preprocess tweets"
      ],
      "metadata": {
        "id": "9IO21vV_2wQk"
      }
    },
    {
      "cell_type": "code",
      "source": [
        "# reference : https://github.com/cbaziotis/ekphrasis\n",
        "\n",
        "\n",
        "text_processor = TextPreProcessor(\n",
        "    # terms that will be normalized\n",
        "    normalize=['url', 'email', 'percent', 'money', 'phone', 'user',\n",
        "        'time', 'url', 'date', 'number'],\n",
        "    # terms that will be annotated\n",
        "    annotate={\"hashtag\", \"allcaps\", \"elongated\", \"repeated\",\n",
        "        'emphasis', 'censored'},\n",
        "    fix_html=True,  # fix HTML tokens\n",
        "    \n",
        "    # corpus from which the word statistics are going to be used \n",
        "    # for word segmentation \n",
        "    segmenter=\"twitter\", \n",
        "    \n",
        "    # corpus from which the word statistics are going to be used \n",
        "    # for spell correction\n",
        "    corrector=\"twitter\", \n",
        "    \n",
        "    unpack_hashtags=True,  # perform word segmentation on hashtags\n",
        "    unpack_contractions=True,  # Unpack contractions (can't -> can not)\n",
        "    spell_correct_elong=False,  # spell correction for elongated words\n",
        "    \n",
        "    # select a tokenizer. You can use SocialTokenizer, or pass your own\n",
        "    # the tokenizer, should take as input a string and return a list of tokens\n",
        "    tokenizer=SocialTokenizer(lowercase=True).tokenize,\n",
        "    \n",
        "    # list of dictionaries, for replacing tokens extracted from the text,\n",
        "    # with other expressions. You can pass more than one dictionaries.\n",
        "    dicts=[emoticons]\n",
        ")"
      ],
      "metadata": {
        "colab": {
          "base_uri": "https://localhost:8080/"
        },
        "id": "tI6dZ6hY009m",
        "outputId": "342b86a5-28ea-4b87-e08a-d844356df45e"
      },
      "execution_count": 11,
      "outputs": [
        {
          "output_type": "stream",
          "name": "stderr",
          "text": [
            "/usr/local/lib/python3.7/dist-packages/ekphrasis/classes/tokenizer.py:225: FutureWarning: Possible nested set at position 2190\n",
            "  self.tok = re.compile(r\"({})\".format(\"|\".join(pipeline)))\n"
          ]
        },
        {
          "output_type": "stream",
          "name": "stdout",
          "text": [
            "Word statistics files not found!\n",
            "Downloading... done!\n",
            "Unpacking... done!\n",
            "Reading twitter - 1grams ...\n",
            "generating cache file for faster loading...\n",
            "reading ngrams /root/.ekphrasis/stats/twitter/counts_1grams.txt\n",
            "Reading twitter - 2grams ...\n",
            "generating cache file for faster loading...\n",
            "reading ngrams /root/.ekphrasis/stats/twitter/counts_2grams.txt\n",
            "Reading twitter - 1grams ...\n"
          ]
        },
        {
          "output_type": "stream",
          "name": "stderr",
          "text": [
            "/usr/local/lib/python3.7/dist-packages/ekphrasis/classes/exmanager.py:14: FutureWarning: Possible nested set at position 42\n",
            "  regexes = {k.lower(): re.compile(self.expressions[k]) for k, v in\n"
          ]
        }
      ]
    },
    {
      "cell_type": "code",
      "source": [
        "# #### Example checks of pre-processing\n",
        "# sentences = [\n",
        "#     \"CANT WAIT for the new season of #TwinPeaks ＼(^o^)／!!! #davidlynch #tvseries :)))\",\n",
        "#     \"I saw the new #johndoe movie and it suuuuucks!!! WAISTED $10... #badmovies :/\",\n",
        "#     \"@SentimentSymp:  can't wait for the Nov 9 #Sentiment talks!  YAAAAAAY !!! :-D http://sentimentsymposium.com/.\",\n",
        "#     \"@MGBarbieri @SpalkTalk a@b.com And just saw your LinkedIn comment after I sent this! Thanks for the message :) 😀\",\n",
        "#     \"💙💛🏆 @GeorgeePitman Young Player of The Season 🏆💛💙 #irony #actuallyseventy\"\n",
        "# ]\n",
        "\n",
        "# for s in sentences:\n",
        "#     print(\" \".join(text_processor.pre_process_doc(s)))\n",
        "# # print ([text_processor.pre_process_doc(s) for s in sentences])"
      ],
      "metadata": {
        "id": "i8ixRElK29DM"
      },
      "execution_count": 12,
      "outputs": []
    },
    {
      "cell_type": "code",
      "source": [
        "def preprocess_tweet(tweet): \n",
        "  tweet_processed = text_processor.pre_process_doc(tweet)\n",
        "  # print (tweet_processed)\n",
        "  final_list =[]\n",
        "  for index, tweet in enumerate(tweet_processed):\n",
        "      final_list.append(emoji.demojize(tweet, language = 'en'))\n",
        "  \n",
        "  # print(df)\n",
        "  return final_list"
      ],
      "metadata": {
        "id": "0CNdYx083SRU"
      },
      "execution_count": 12,
      "outputs": []
    },
    {
      "cell_type": "code",
      "source": [
        "# #### Example checks of pre-processing\n",
        "# sentences = [\n",
        "#     \"CANT WAIT for the new season of #TwinPeaks ＼(^o^)／!!! #davidlynch #tvseries :)))\",\n",
        "#     \"I saw the new #johndoe movie and it suuuuucks!!! WAISTED $10... #badmovies :/\",\n",
        "#     \"@SentimentSymp:  can't wait for the Nov 9 #Sentiment talks!  YAAAAAAY !!! :-D http://sentimentsymposium.com/.\",\n",
        "#     \"@MGBarbieri @SpalkTalk a@b.com And just saw your LinkedIn comment after I sent this! Thanks for the message :) 😀\",\n",
        "#     \"💙💛🏆 @GeorgeePitman Young Player of The Season 🏆💛💙 #irony #actuallyseventy\"\n",
        "# ]\n",
        "\n",
        "# for s in sentences:\n",
        "#   print(preprocess_tweet(s))\n",
        "#   # print(\" \".join(preprocess_tweet(s)))"
      ],
      "metadata": {
        "id": "WU-Ap0fS4Xu8"
      },
      "execution_count": 14,
      "outputs": []
    },
    {
      "cell_type": "markdown",
      "source": [
        "## TorchText Treatment"
      ],
      "metadata": {
        "id": "x4MCSent0MSu"
      }
    },
    {
      "cell_type": "code",
      "source": [
        "MAX_SIZE = 50\n",
        "field_tweet = Field(sequential=True, use_vocab = True, tokenize = preprocess_tweet, fix_length = MAX_SIZE, batch_first = True)\n",
        "# field_tweet = Field(sequential=True, use_vocab = False, tokenize = preprocess_tweet)\n",
        "\n",
        "field_intensity = Field(sequential= False, \n",
        "                        dtype = torch.float,\n",
        "                        use_vocab = False \n",
        "                        )"
      ],
      "metadata": {
        "id": "kbzqLLrz49I7"
      },
      "execution_count": 20,
      "outputs": []
    },
    {
      "cell_type": "code",
      "source": [
        "fields = {\n",
        "    'Tweet':('tweet', field_tweet ), #\n",
        "    'Intensity Score': ('intensity',field_intensity) # Intensity Score is name of the dataset column, field_intensity is how we have defined the field, intensity is the name of the variable going fwd\n",
        "    }"
      ],
      "metadata": {
        "id": "XuInxrUt57rB"
      },
      "execution_count": 21,
      "outputs": []
    },
    {
      "cell_type": "code",
      "source": [
        "train_data, valid_data, test_data = TabularDataset.splits( path = './', \n",
        "                                              train = file_EI_reg_train,\n",
        "                                              validation = file_EI_reg_val, \n",
        "                                              test = file_EI_reg_test,\n",
        "                                              format = 'csv',\n",
        "                                              fields = fields\n",
        "                                          )"
      ],
      "metadata": {
        "id": "w8XrMJMu7jUa"
      },
      "execution_count": 22,
      "outputs": []
    },
    {
      "cell_type": "code",
      "source": [
        "print(type(train_data))"
      ],
      "metadata": {
        "colab": {
          "base_uri": "https://localhost:8080/"
        },
        "id": "RSMiEKZ7y62Q",
        "outputId": "4480a18b-a39e-4c0d-ff23-faabce13dba4"
      },
      "execution_count": 18,
      "outputs": [
        {
          "output_type": "stream",
          "name": "stdout",
          "text": [
            "<class 'torchtext.legacy.data.dataset.TabularDataset'>\n"
          ]
        }
      ]
    },
    {
      "cell_type": "code",
      "source": [
        "print(train_data[0].__dict__.keys())"
      ],
      "metadata": {
        "colab": {
          "base_uri": "https://localhost:8080/"
        },
        "id": "1rn6sv6QAuf1",
        "outputId": "755d9ac9-b6cc-4e88-8ec5-f49c733dcbe1"
      },
      "execution_count": 19,
      "outputs": [
        {
          "output_type": "stream",
          "name": "stdout",
          "text": [
            "dict_keys(['tweet', 'intensity'])\n"
          ]
        }
      ]
    },
    {
      "cell_type": "code",
      "source": [
        "print(valid_data[0].__dict__.values())"
      ],
      "metadata": {
        "colab": {
          "base_uri": "https://localhost:8080/"
        },
        "id": "A5mLNElnBiQb",
        "outputId": "5289d468-6713-4ae5-b20c-af00c5e29ca8"
      },
      "execution_count": 20,
      "outputs": [
        {
          "output_type": "stream",
          "name": "stdout",
          "text": [
            "dict_values([['<user>', 'oh', '!', 'that', 'actually', 'was', 'my', 'first', 'guess', 'but', '.', '<repeated>', 'i', 'thought', 'he', 'was', 'too', 'dark', 'for', 'an', 'irish', 'man', 'from', '<allcaps>', 'bce', '</allcaps>', '.', 'thanks', 'for', 'clearing', 'it', 'up', '<laugh>'], '0.470'])\n"
          ]
        }
      ]
    },
    {
      "cell_type": "code",
      "source": [
        "print((train_data[2].__dict__.values()))"
      ],
      "metadata": {
        "colab": {
          "base_uri": "https://localhost:8080/"
        },
        "id": "Wz04CfznBp3V",
        "outputId": "c8844f47-a0d3-49d3-f03e-597bd8afe491"
      },
      "execution_count": 21,
      "outputs": [
        {
          "output_type": "stream",
          "name": "stdout",
          "text": [
            "dict_values([['positive', '<hashtag>', 'psychology', '</hashtag>', 'research', 'shows', 'salespeople', 'who', 'score', 'in', 'the', 'top', '<percent>', 'for', '<hashtag>', 'optimism', '</hashtag>', 'have', '<percent>', '>', 'sales', 'than', 'those', 'in', 'top', '<percent>', 'for', 'pessimism', '.'], '0.274'])\n"
          ]
        }
      ]
    },
    {
      "cell_type": "code",
      "source": [
        "count = 0\n",
        "for example in test_data.examples:\n",
        "  print(example.tweet, example.intensity)\n",
        "  count += 1\n",
        "  if count > 10:\n",
        "    break"
      ],
      "metadata": {
        "colab": {
          "base_uri": "https://localhost:8080/"
        },
        "id": "Sx-R5H6ALfwI",
        "outputId": "f12fc8e4-39c6-4d1a-87c1-04621266f356"
      },
      "execution_count": 23,
      "outputs": [
        {
          "output_type": "stream",
          "name": "stdout",
          "text": [
            "['people', 'are', 'truly', '<hashtag>', 'amazing', '</hashtag>', '.', '<hashtag>', 'inspiring', '</hashtag>', 'day'] 0.712\n",
            "['what', 'are', 'some', 'good', '<hashtag>', 'funny', '</hashtag>', '<hashtag>', 'entertaining', '</hashtag>', '<hashtag>', 'interesting', '</hashtag>', 'accounts', 'i', 'should', 'follow', '?', 'my', 'twitter', 'is', 'dry'] 0.339\n",
            "['<user>', 'a', 'review', 'of', 'my', 'book', 'faulted', 'me', 'for', 'spending', 'so', 'much', 'time', 'on', 'webster', \"'\", 's', 'introductory', 'front', 'matter', '.', 'but', 'i', 'had', 'to', ',', '<hashtag>', 'brilliant', '</hashtag>', '!'] 0.533\n",
            "['<hashtag>', 'good', '</hashtag>', 'to', 'learning', '<hashtag>', 'wisdom', '</hashtag>', '<', '<', 'reform', '(', 'v', ')', ':', 'make', 'in', 'order', 'to', 'improve', 'something', '>', '>'] 0.281\n",
            "['really', 'excited', 'to', 'see', 'our', 'team', 'this', 'year', ',', 'and', 'especially', 'moving', 'in', 'the', 'next', '<number>', '-', '<number>', 'years', 'when', 'his', 'guys', 'start', 'playing', 'significant', 'minutes', '.'] 0.797\n",
            "['be', 'happy', '.', 'be', 'confident', '.', 'be', 'kind', '.', '\\\\', 'n', '\\\\', 'n', '<hashtag>', 'kissables', 'love', 'sm', 'shopmag', '</hashtag>', '\\\\', 'nalloutdenimfor', '<allcaps>', 'kissmarc', '</allcaps>'] 0.661\n",
            "['<user>', 'little', 'piggy', ':face_with_tears_of_joy:'] 0.303\n",
            "['you', 'do', 'not', 'need', 'money', 'to', 'have', 'a', 'great', 'life', ',', 'be', 'eccentric', ',', 'be', 'creative', ',', 'be', 'joyful', ',', 'be', 'entertaining', 'and', 'all', 'you', 'want', 'will', 'come', '!'] 0.578\n",
            "['<user>', '<user>', 'i', 'used', 'to', 'make', 'the', 'peanut', 'butter', 'energy', 'balls', 'all', 'the', 'time', '.', 'my', 'famjam', 'loved', 'them', '!', '<hashtag>', 'recipes', '</hashtag>', '<hashtag>', 'yummy', '</hashtag>'] 0.703\n",
            "['<user>', 'tried', 'it', 'once', '.', 'poured', 'into', 'the', 'sink', '.', 'did', 'not', 'bother', 'to', 'make', 'tasting', 'notes', '<happy>', 'looks', 'like', 'cheap', 'sake', ',', 'tasted', 'like', 'it', 'too', '.', '<repeated>'] 0.281\n",
            "['<user>', '&', '<user>', 'are', 'total', 'entertainment', 'on', '<user>', '<hashtag>', 'brilliant', '</hashtag>', '<hashtag>', 'so', 'funny', '</hashtag>', '<hashtag>', 'my', 'faves', '</hashtag>'] 0.586\n"
          ]
        }
      ]
    },
    {
      "cell_type": "markdown",
      "source": [
        "## Building iterator and Vocabulary"
      ],
      "metadata": {
        "id": "V3CoFQZDLtVO"
      }
    },
    {
      "cell_type": "code",
      "source": [
        "MAX_VOCAB_SIZE = 10000\n",
        "\n",
        "field_tweet.build_vocab(train_data, \n",
        "                  max_size = MAX_VOCAB_SIZE,\n",
        "                  min_freq = 1,\n",
        "                  vectors = \"glove.6B.100d\",\n",
        "                  unk_init=torch.Tensor.normal_)\n",
        "\n",
        "vocab = field_tweet.build_vocab(train_data, \n",
        "                  max_size = MAX_VOCAB_SIZE,\n",
        "                  min_freq = 1,\n",
        "                  vectors = \"glove.6B.100d\",\n",
        "                  unk_init=torch.Tensor.normal_)\n",
        "field_intensity.build_vocab(train_data)"
      ],
      "metadata": {
        "id": "IeSJaNSYT_D7"
      },
      "execution_count": 24,
      "outputs": []
    },
    {
      "cell_type": "code",
      "source": [
        "type(vocab)"
      ],
      "metadata": {
        "colab": {
          "base_uri": "https://localhost:8080/"
        },
        "id": "skcwS7jEh5Vc",
        "outputId": "a438a606-14dd-4054-ac94-5ea5a39a5f56"
      },
      "execution_count": 24,
      "outputs": [
        {
          "output_type": "execute_result",
          "data": {
            "text/plain": [
              "NoneType"
            ]
          },
          "metadata": {},
          "execution_count": 24
        }
      ]
    },
    {
      "cell_type": "code",
      "source": [
        "BATCH_SIZE = 2\n",
        "train_iterator, valid_iterator, test_iterator = BucketIterator.splits((train_data, valid_data, test_data), \n",
        "                                                      batch_size= BATCH_SIZE,\n",
        "                                                      sort_key = lambda x: len(x.tweet),\n",
        "                                                      sort_within_batch=True,\n",
        "                                                      device = DEVICE,\n",
        "                                                      shuffle= True)"
      ],
      "metadata": {
        "id": "PYRrHy8HTcZM"
      },
      "execution_count": 27,
      "outputs": []
    },
    {
      "cell_type": "code",
      "source": [
        "count = 0\n",
        "for batch in train_iterator:\n",
        "  print (batch.tweet)\n",
        "  print (batch.intensity)\n",
        "  count += 1\n",
        "  if count > 2:\n",
        "    break"
      ],
      "metadata": {
        "colab": {
          "base_uri": "https://localhost:8080/"
        },
        "id": "Si5ajBMXTb_m",
        "outputId": "c4764938-c18b-47b7-c7f9-66f115c5f44e"
      },
      "execution_count": 28,
      "outputs": [
        {
          "output_type": "stream",
          "name": "stdout",
          "text": [
            "tensor([[   5,   57,   22,   99,   28,   10, 3412,    1,    1,    1,    1,    1,\n",
            "            1,    1,    1,    1,    1,    1,    1,    1,    1,    1,    1,    1,\n",
            "            1,    1,    1,    1,    1,    1,    1,    1,    1,    1,    1,    1,\n",
            "            1,    1,    1,    1,    1,    1,    1,    1,    1,    1,    1,    1,\n",
            "            1,    1],\n",
            "        [   5,   31,  477,  540,   14,  961,  374,    1,    1,    1,    1,    1,\n",
            "            1,    1,    1,    1,    1,    1,    1,    1,    1,    1,    1,    1,\n",
            "            1,    1,    1,    1,    1,    1,    1,    1,    1,    1,    1,    1,\n",
            "            1,    1,    1,    1,    1,    1,    1,    1,    1,    1,    1,    1,\n",
            "            1,    1]])\n",
            "tensor([0.1460, 0.7080])\n",
            "tensor([[   5, 2419,   50, 4687, 2817,   30, 3326,   21,   43, 2892,   42, 4384,\n",
            "            9,  176,   45,   23,  443,   50, 2847, 3793, 4136,    4,    1,    1,\n",
            "            1,    1,    1,    1,    1,    1,    1,    1,    1,    1,    1,    1,\n",
            "            1,    1,    1,    1,    1,    1,    1,    1,    1,    1,    1,    1,\n",
            "            1,    1],\n",
            "        [  26,   15,  382,    7,   82,   10,   58, 2122,    7,    6,   75,   17,\n",
            "           15,  912,    7,    6,   75, 1985,    4, 4060, 4656, 2942,    1,    1,\n",
            "            1,    1,    1,    1,    1,    1,    1,    1,    1,    1,    1,    1,\n",
            "            1,    1,    1,    1,    1,    1,    1,    1,    1,    1,    1,    1,\n",
            "            1,    1]])\n",
            "tensor([0.0620, 0.4380])\n",
            "tensor([[   5,    8,  129,  206,   13,  127,    4,    1,    1,    1,    1,    1,\n",
            "            1,    1,    1,    1,    1,    1,    1,    1,    1,    1,    1,    1,\n",
            "            1,    1,    1,    1,    1,    1,    1,    1,    1,    1,    1,    1,\n",
            "            1,    1,    1,    1,    1,    1,    1,    1,    1,    1,    1,    1,\n",
            "            1,    1],\n",
            "        [3400,   34,  480,   34, 2033,    4, 4285,    1,    1,    1,    1,    1,\n",
            "            1,    1,    1,    1,    1,    1,    1,    1,    1,    1,    1,    1,\n",
            "            1,    1,    1,    1,    1,    1,    1,    1,    1,    1,    1,    1,\n",
            "            1,    1,    1,    1,    1,    1,    1,    1,    1,    1,    1,    1,\n",
            "            1,    1]])\n",
            "tensor([0.5000, 0.2200])\n"
          ]
        }
      ]
    },
    {
      "cell_type": "code",
      "source": [
        "print(list(field_tweet.vocab.stoi.items()))"
      ],
      "metadata": {
        "id": "V4fmUSnDCrzU"
      },
      "execution_count": null,
      "outputs": []
    },
    {
      "cell_type": "code",
      "source": [
        "print(field_tweet.vocab.vectors[field_tweet.vocab.stoi['the']])"
      ],
      "metadata": {
        "colab": {
          "base_uri": "https://localhost:8080/"
        },
        "id": "JWm00sA6DDOE",
        "outputId": "b2aa5a87-74e2-43bb-bcd6-071a0f260160"
      },
      "execution_count": 29,
      "outputs": [
        {
          "output_type": "stream",
          "name": "stdout",
          "text": [
            "tensor([-0.0382, -0.2449,  0.7281, -0.3996,  0.0832,  0.0440, -0.3914,  0.3344,\n",
            "        -0.5755,  0.0875,  0.2879, -0.0673,  0.3091, -0.2638, -0.1323, -0.2076,\n",
            "         0.3340, -0.3385, -0.3174, -0.4834,  0.1464, -0.3730,  0.3458,  0.0520,\n",
            "         0.4495, -0.4697,  0.0263, -0.5415, -0.1552, -0.1411, -0.0397,  0.2828,\n",
            "         0.1439,  0.2346, -0.3102,  0.0862,  0.2040,  0.5262,  0.1716, -0.0824,\n",
            "        -0.7179, -0.4153,  0.2033, -0.1276,  0.4137,  0.5519,  0.5791, -0.3348,\n",
            "        -0.3656, -0.5486, -0.0629,  0.2658,  0.3020,  0.9977, -0.8048, -3.0243,\n",
            "         0.0125, -0.3694,  2.2167,  0.7220, -0.2498,  0.9214,  0.0345,  0.4674,\n",
            "         1.1079, -0.1936, -0.0746,  0.2335, -0.0521, -0.2204,  0.0572, -0.1581,\n",
            "        -0.3080, -0.4162,  0.3797,  0.1501, -0.5321, -0.2055, -1.2526,  0.0716,\n",
            "         0.7056,  0.4974, -0.4206,  0.2615, -1.5380, -0.3022, -0.0734, -0.2831,\n",
            "         0.3710, -0.2522,  0.0162, -0.0171, -0.3898,  0.8742, -0.7257, -0.5106,\n",
            "        -0.5203, -0.1459,  0.8278,  0.2706])\n"
          ]
        }
      ]
    },
    {
      "cell_type": "code",
      "source": [
        "field_tweet.vocab.vectors[9]"
      ],
      "metadata": {
        "colab": {
          "base_uri": "https://localhost:8080/"
        },
        "id": "JzdTB_-C0ok7",
        "outputId": "a30e6007-d2de-4d2f-a14f-9383f662bc86"
      },
      "execution_count": 29,
      "outputs": [
        {
          "output_type": "execute_result",
          "data": {
            "text/plain": [
              "tensor([-1.8970e-01,  5.0024e-02,  1.9084e-01, -4.9184e-02, -8.9737e-02,\n",
              "         2.1006e-01, -5.4952e-01,  9.8377e-02, -2.0135e-01,  3.4241e-01,\n",
              "        -9.2677e-02,  1.6100e-01, -1.3268e-01, -2.8160e-01,  1.8737e-01,\n",
              "        -4.2959e-01,  9.6039e-01,  1.3972e-01, -1.0781e+00,  4.0518e-01,\n",
              "         5.0539e-01, -5.5064e-01,  4.8440e-01,  3.8044e-01, -2.9055e-03,\n",
              "        -3.4942e-01, -9.9696e-02, -7.8368e-01,  1.0363e+00, -2.3140e-01,\n",
              "        -4.7121e-01,  5.7126e-01, -2.1454e-01,  3.5958e-01, -4.8319e-01,\n",
              "         1.0875e+00,  2.8524e-01,  1.2447e-01, -3.9248e-02, -7.6732e-02,\n",
              "        -7.6343e-01, -3.2409e-01, -5.7490e-01, -1.0893e+00, -4.1811e-01,\n",
              "         4.5120e-01,  1.2112e-01, -5.1367e-01, -1.3349e-01, -1.1378e+00,\n",
              "        -2.8768e-01,  1.6774e-01,  5.5804e-01,  1.5387e+00,  1.8859e-02,\n",
              "        -2.9721e+00, -2.4216e-01, -9.2495e-01,  2.1992e+00,  2.8234e-01,\n",
              "        -3.4780e-01,  5.1621e-01, -4.3387e-01,  3.6852e-01,  7.4573e-01,\n",
              "         7.2102e-02,  2.7931e-01,  9.2569e-01, -5.0336e-02, -8.5856e-01,\n",
              "        -1.3580e-01, -9.2551e-01, -3.3991e-01, -1.0394e+00, -6.7203e-02,\n",
              "        -2.1379e-01, -4.7690e-01,  2.1377e-01, -8.4008e-01,  5.2536e-02,\n",
              "         5.9298e-01,  2.9604e-01, -6.7644e-01,  1.3916e-01, -1.5504e+00,\n",
              "        -2.0765e-01,  7.2220e-01,  5.2056e-01, -7.6221e-02, -1.5194e-01,\n",
              "        -1.3134e-01,  5.8617e-02, -3.1869e-01, -6.1419e-01, -6.2393e-01,\n",
              "        -4.1548e-01, -3.8175e-02, -3.9804e-01,  4.7647e-01, -1.5983e-01])"
            ]
          },
          "metadata": {},
          "execution_count": 29
        }
      ]
    },
    {
      "cell_type": "code",
      "source": [
        "# for batch_number, batch in enumerate(train_iterator):\n",
        "#   print(batch_number)\n",
        "#   print(batch.tweet)\n",
        "#   print(batch.intensity)"
      ],
      "metadata": {
        "id": "HqQWc-yYsQkN"
      },
      "execution_count": null,
      "outputs": []
    },
    {
      "cell_type": "markdown",
      "source": [
        "## TorchText treatment of Target Data"
      ],
      "metadata": {
        "id": "-IPH_hfSxxjv"
      }
    },
    {
      "cell_type": "code",
      "source": [
        "# Target Data\n",
        "df_target = pd.read_csv(os.path.join(TARGET_DIR,'winomt_saunders_combined.csv'))\n",
        "# df_target.columns = ['Sentence']\n",
        "df_target.columns = ['Tweet']\n",
        "df_target['Intensity Score'] = 0\n",
        "print(df_target.head())\n",
        "\n",
        "target_file_name = 'target_csv.csv'\n",
        "target_csv_file = df_target.to_csv(str(target_file_name))"
      ],
      "metadata": {
        "colab": {
          "base_uri": "https://localhost:8080/"
        },
        "id": "l4RhbHIw0odH",
        "outputId": "db7ea726-eda1-40d0-bc43-c1bcc904a781"
      },
      "execution_count": 31,
      "outputs": [
        {
          "output_type": "stream",
          "name": "stdout",
          "text": [
            "                             Tweet  Intensity Score\n",
            "0    the actor finished his work .                0\n",
            "1  the actuary finished her work .                0\n",
            "2  the actuary finished his work .                0\n",
            "3    the agent finished her work .                0\n",
            "4    the agent finished his work .                0\n"
          ]
        }
      ]
    },
    {
      "cell_type": "code",
      "source": [
        "target_data, _ = TabularDataset.splits( path = './', \n",
        "                                              train = target_file_name,\n",
        "                                              test = file_EI_reg_test, # arbitary file\n",
        "                                              format = 'csv',\n",
        "                                              fields = fields\n",
        "                                          )\n",
        "print(target_data[0].__dict__.keys())\n",
        "print(target_data[0].__dict__.values())"
      ],
      "metadata": {
        "colab": {
          "base_uri": "https://localhost:8080/"
        },
        "id": "Y1sxE6WFtrt0",
        "outputId": "6569f03b-ac1d-492c-ce8b-e9c770d814a8"
      },
      "execution_count": 32,
      "outputs": [
        {
          "output_type": "stream",
          "name": "stdout",
          "text": [
            "dict_keys(['tweet', 'intensity'])\n",
            "dict_values([['the', 'actor', 'finished', 'his', 'work', '.'], '0'])\n"
          ]
        }
      ]
    },
    {
      "cell_type": "code",
      "source": [
        "count = 0\n",
        "for example in target_data:\n",
        "  print(example.tweet, example.intensity)\n",
        "  count += 1\n",
        "  if count > 2:\n",
        "    break"
      ],
      "metadata": {
        "colab": {
          "base_uri": "https://localhost:8080/"
        },
        "id": "F8eLBUX33d9o",
        "outputId": "ce6d55d5-6638-4345-952f-2608ced77e27"
      },
      "execution_count": 33,
      "outputs": [
        {
          "output_type": "stream",
          "name": "stdout",
          "text": [
            "['the', 'actor', 'finished', 'his', 'work', '.'] 0\n",
            "['the', 'actuary', 'finished', 'her', 'work', '.'] 0\n",
            "['the', 'actuary', 'finished', 'his', 'work', '.'] 0\n"
          ]
        }
      ]
    },
    {
      "cell_type": "code",
      "source": [
        "TARGET_BATCH_SIZE = 2\n",
        "target_iterator = BucketIterator(target_data, # given that there is only one dataset we are not using splits\n",
        "                                        batch_size= TARGET_BATCH_SIZE,\n",
        "                                        sort_key = lambda x: len(x.tweet),\n",
        "                                        sort_within_batch=True,\n",
        "                                        device = DEVICE,\n",
        "                                        shuffle= True)"
      ],
      "metadata": {
        "id": "uWpJ_-jxuzIQ"
      },
      "execution_count": 34,
      "outputs": []
    },
    {
      "cell_type": "code",
      "source": [
        "count = 0\n",
        "for batch in target_iterator:\n",
        "  print(batch)\n",
        "  print (batch.tweet)\n",
        "  print (batch.intensity)\n",
        "  count += 1\n",
        "  if count > 2:\n",
        "    break"
      ],
      "metadata": {
        "colab": {
          "base_uri": "https://localhost:8080/"
        },
        "id": "pso0cqFZvQWA",
        "outputId": "f48a48bc-3775-4af7-fa08-9efc9633aad8"
      },
      "execution_count": 35,
      "outputs": [
        {
          "output_type": "stream",
          "name": "stdout",
          "text": [
            "\n",
            "[torchtext.legacy.data.batch.Batch of size 2]\n",
            "\t[.tweet]:[torch.LongTensor of size 2x50]\n",
            "\t[.intensity]:[torch.FloatTensor of size 2]\n",
            "tensor([[   6,    0, 4385,    6,    0,   12, 1220,   83,   93,    9,  792,    6,\n",
            "         3060,    4,    1,    1,    1,    1,    1,    1,    1,    1,    1,    1,\n",
            "            1,    1,    1,    1,    1,    1,    1,    1,    1,    1,    1,    1,\n",
            "            1,    1,    1,    1,    1,    1,    1,    1,    1,    1,    1,    1,\n",
            "            1,    1],\n",
            "        [   6,    0, 4027,    6,  800,   32,    0,    9, 4137,    9,   83,  937,\n",
            "            0,    4,    1,    1,    1,    1,    1,    1,    1,    1,    1,    1,\n",
            "            1,    1,    1,    1,    1,    1,    1,    1,    1,    1,    1,    1,\n",
            "            1,    1,    1,    1,    1,    1,    1,    1,    1,    1,    1,    1,\n",
            "            1,    1]])\n",
            "tensor([0., 0.])\n",
            "\n",
            "[torchtext.legacy.data.batch.Batch of size 2]\n",
            "\t[.tweet]:[torch.LongTensor of size 2x50]\n",
            "\t[.intensity]:[torch.FloatTensor of size 2]\n",
            "tensor([[   6,    0,  627,    6, 4214,    9,  794,    6, 4707,  104,   59,   54,\n",
            "            0,    4,    1,    1,    1,    1,    1,    1,    1,    1,    1,    1,\n",
            "            1,    1,    1,    1,    1,    1,    1,    1,    1,    1,    1,    1,\n",
            "            1,    1,    1,    1,    1,    1,    1,    1,    1,    1,    1,    1,\n",
            "            1,    1],\n",
            "        [   6,    0,    0,    6,  896,   28,    6,    0,   12,   59, 1778,    6,\n",
            "          896,    4,    1,    1,    1,    1,    1,    1,    1,    1,    1,    1,\n",
            "            1,    1,    1,    1,    1,    1,    1,    1,    1,    1,    1,    1,\n",
            "            1,    1,    1,    1,    1,    1,    1,    1,    1,    1,    1,    1,\n",
            "            1,    1]])\n",
            "tensor([0., 0.])\n",
            "\n",
            "[torchtext.legacy.data.batch.Batch of size 2]\n",
            "\t[.tweet]:[torch.LongTensor of size 2x50]\n",
            "\t[.intensity]:[torch.FloatTensor of size 2]\n",
            "tensor([[   6,    0,  574,    6,  381,   72,    6,    0,  104,   85,   54, 2591,\n",
            "            4,    1,    1,    1,    1,    1,    1,    1,    1,    1,    1,    1,\n",
            "            1,    1,    1,    1,    1,    1,    1,    1,    1,    1,    1,    1,\n",
            "            1,    1,    1,    1,    1,    1,    1,    1,    1,    1,    1,    1,\n",
            "            1,    1],\n",
            "        [   6,    0,    0,    6,    0,    0,    6,  344,  104,   85,   54,    0,\n",
            "            4,    1,    1,    1,    1,    1,    1,    1,    1,    1,    1,    1,\n",
            "            1,    1,    1,    1,    1,    1,    1,    1,    1,    1,    1,    1,\n",
            "            1,    1,    1,    1,    1,    1,    1,    1,    1,    1,    1,    1,\n",
            "            1,    1]])\n",
            "tensor([0., 0.])\n"
          ]
        }
      ]
    },
    {
      "cell_type": "markdown",
      "source": [
        "## CNN 1d model"
      ],
      "metadata": {
        "id": "-h9cXmnyualc"
      }
    },
    {
      "cell_type": "markdown",
      "source": [
        "### Gradient Reversal layer"
      ],
      "metadata": {
        "id": "qyDfiHFNkZNF"
      }
    },
    {
      "cell_type": "code",
      "source": [
        "from torch.autograd import Function\n",
        "\n",
        "class ReverseLayerF(Function):\n",
        "\n",
        "    @staticmethod\n",
        "    def forward(ctx, x, alpha):\n",
        "        ctx.alpha = alpha\n",
        "\n",
        "        return x.view_as(x)\n",
        "\n",
        "    @staticmethod\n",
        "    def backward(ctx, grad_output):\n",
        "        output = grad_output.neg() * ctx.alpha\n",
        "\n",
        "        return output, None"
      ],
      "metadata": {
        "id": "2TdezuQokWiJ"
      },
      "execution_count": 36,
      "outputs": []
    },
    {
      "cell_type": "markdown",
      "source": [
        "CNN 1 D model\n",
        "Reference: A Sensitivity Analysis of (and Practitioners' Guide to) Convolutional Neural Networks for Sentence Classification, Ye Zhang, Byron Wallace 2015\n",
        "\n",
        "Difference:\n",
        "\n",
        "use of embedding\n",
        "use of sigmoid function, as we are having a regression model not a classififer as the main task"
      ],
      "metadata": {
        "id": "J53qMJn4kfv7"
      }
    },
    {
      "cell_type": "code",
      "source": [
        "import torch.nn as nn\n",
        "import torch.nn.functional as F\n",
        "\n",
        "class CNN1d(nn.Module):\n",
        "    def __init__(self, \n",
        "                 vocab_size, \n",
        "                 embedding_dim, \n",
        "                 n_filters, \n",
        "                 filter_sizes, \n",
        "                 output_dim, \n",
        "                 dropout, \n",
        "                 pad_idx\n",
        "                 ):\n",
        "        super().__init__()\n",
        "        \n",
        "        #---------------------Feature Extractor Network----------------------#\n",
        "        # Embedding layer\n",
        "        self.embedding = nn.Embedding(vocab_size, embedding_dim, padding_idx = pad_idx)\n",
        "\n",
        "        # Convolutional Network\n",
        "        self.convs = nn.ModuleList([\n",
        "                                    nn.Conv1d(in_channels = embedding_dim, \n",
        "                                              out_channels = n_filters, \n",
        "                                              kernel_size = fs)\n",
        "                                    for fs in filter_sizes\n",
        "                                    ])\n",
        "        \n",
        "        #---------------------Regression Network------------------------#\n",
        "        # Fully-connected layer and Dropout\n",
        "        self.regression = nn.Sequential(\n",
        "            nn.Dropout(p=dropout),\n",
        "            nn.Linear(len(filter_sizes) * n_filters, len(filter_sizes) * n_filters // 2),\n",
        "            nn.ReLU(),\n",
        "            nn.Linear(len(filter_sizes) * n_filters // 2, output_dim * 10),\n",
        "            nn.ReLU(),\n",
        "            nn.Linear(output_dim * 10, output_dim)\n",
        "            # ,\n",
        "            # nn.Sigmoid()\n",
        "        )\n",
        "        # self.fc = nn.Linear(len(filter_sizes) * n_filters, output_dim * 10)\n",
        "        # self.fc2 = nn.Linear(output_dim * 10, output_dim)\n",
        "        # self.dropout = nn.Dropout(dropout)\n",
        "\n",
        "        #---------------------Domain Classifier Network------------------------#\n",
        "        # Fully-connected layer and Dropout\n",
        "        self.domain_classifier = nn.Sequential(\n",
        "            nn.Dropout(p=dropout),\n",
        "            nn.Linear(len(filter_sizes) * n_filters, len(filter_sizes) * n_filters // 2),\n",
        "            nn.ReLU(),\n",
        "            nn.Linear(len(filter_sizes) * n_filters // 2, output_dim * 10),\n",
        "            nn.ReLU(),\n",
        "            nn.Linear(output_dim * 10, output_dim)\n",
        "        )\n",
        "        \n",
        "    def forward(self, text, alpha=1):\n",
        "        \n",
        "        #text = [batch size, sent len]\n",
        "        \n",
        "        embedded = self.embedding(text)\n",
        "                \n",
        "        #embedded = [batch size, sent len, emb dim]\n",
        "        \n",
        "        embedded = embedded.permute(0, 2, 1)\n",
        "        \n",
        "        #embedded = [batch size, emb dim, sent len]\n",
        "        \n",
        "        conved = [F.relu(conv(embedded)) for conv in self.convs]\n",
        "            \n",
        "        #conved_n = [batch size, n_filters, sent len - filter_sizes[n] + 1]\n",
        "        \n",
        "        pooled = [F.max_pool1d(conv, conv.shape[2]).squeeze(2) for conv in conved]\n",
        "        \n",
        "        #pooled_n = [batch size, n_filters]\n",
        "        \n",
        "        x_feature = torch.cat(pooled, dim = 1)\n",
        "        \n",
        "        #x_feature = [batch size, n_filters * len(filter_sizes)]\n",
        "        \n",
        "        reverse_feature = ReverseLayerF.apply(x_feature, alpha)\n",
        "        # print(\"reverse_feature\",reverse_feature)\n",
        "    \n",
        "        regression_output = self.regression(x_feature)\n",
        "    \n",
        "        domain_classifier_output = self.domain_classifier(reverse_feature)\n",
        "\n",
        "\n",
        "        return regression_output, domain_classifier_output"
      ],
      "metadata": {
        "id": "sp8KeSpquZqB"
      },
      "execution_count": 37,
      "outputs": []
    },
    {
      "cell_type": "code",
      "source": [
        "INPUT_DIM = len(field_tweet.vocab)\n",
        "EMBEDDING_DIM = 100\n",
        "N_FILTERS = 100\n",
        "FILTER_SIZES = [2, 3, 4, 5]\n",
        "OUTPUT_DIM = 1\n",
        "DROPOUT = 0.5\n",
        "PAD_IDX = field_tweet.vocab.stoi[field_tweet.pad_token]"
      ],
      "metadata": {
        "id": "J2YB0TUfvZuM"
      },
      "execution_count": 38,
      "outputs": []
    },
    {
      "cell_type": "code",
      "source": [
        "model = CNN1d(INPUT_DIM, EMBEDDING_DIM, N_FILTERS, FILTER_SIZES, OUTPUT_DIM, DROPOUT, PAD_IDX)\n",
        "model.to(DEVICE)"
      ],
      "metadata": {
        "colab": {
          "base_uri": "https://localhost:8080/"
        },
        "id": "lB-kw2t_voEm",
        "outputId": "b09ab87e-c8ce-46f4-abe9-fed9c638f437"
      },
      "execution_count": 39,
      "outputs": [
        {
          "output_type": "execute_result",
          "data": {
            "text/plain": [
              "CNN1d(\n",
              "  (embedding): Embedding(4788, 100, padding_idx=1)\n",
              "  (convs): ModuleList(\n",
              "    (0): Conv1d(100, 100, kernel_size=(2,), stride=(1,))\n",
              "    (1): Conv1d(100, 100, kernel_size=(3,), stride=(1,))\n",
              "    (2): Conv1d(100, 100, kernel_size=(4,), stride=(1,))\n",
              "    (3): Conv1d(100, 100, kernel_size=(5,), stride=(1,))\n",
              "  )\n",
              "  (regression): Sequential(\n",
              "    (0): Dropout(p=0.5, inplace=False)\n",
              "    (1): Linear(in_features=400, out_features=200, bias=True)\n",
              "    (2): ReLU()\n",
              "    (3): Linear(in_features=200, out_features=10, bias=True)\n",
              "    (4): ReLU()\n",
              "    (5): Linear(in_features=10, out_features=1, bias=True)\n",
              "  )\n",
              "  (domain_classifier): Sequential(\n",
              "    (0): Dropout(p=0.5, inplace=False)\n",
              "    (1): Linear(in_features=400, out_features=200, bias=True)\n",
              "    (2): ReLU()\n",
              "    (3): Linear(in_features=200, out_features=10, bias=True)\n",
              "    (4): ReLU()\n",
              "    (5): Linear(in_features=10, out_features=1, bias=True)\n",
              "  )\n",
              ")"
            ]
          },
          "metadata": {},
          "execution_count": 39
        }
      ]
    },
    {
      "cell_type": "markdown",
      "source": [
        "### Load Pre trained embeddings\n",
        "we'll load the pre-trained *embeddings*"
      ],
      "metadata": {
        "id": "z4p5YOsBygPk"
      }
    },
    {
      "cell_type": "code",
      "source": [
        "pretrained_embeddings = field_tweet.vocab.vectors\n",
        "\n",
        "model.embedding.weight.data.copy_(pretrained_embeddings)"
      ],
      "metadata": {
        "colab": {
          "base_uri": "https://localhost:8080/"
        },
        "id": "42HOzqrZySOt",
        "outputId": "dd98a428-1da3-4b27-8e09-bd1cf3e87bb7"
      },
      "execution_count": 43,
      "outputs": [
        {
          "output_type": "execute_result",
          "data": {
            "text/plain": [
              "tensor([[-0.0660, -1.4252,  0.0830,  ...,  0.8138, -0.3719,  1.1007],\n",
              "        [-0.9660,  0.5005,  0.9372,  ...,  0.1022, -0.3530, -0.1004],\n",
              "        [-1.1255, -0.5884, -0.3867,  ..., -0.2800,  1.5338, -0.2280],\n",
              "        ...,\n",
              "        [-1.0397,  0.2452,  0.9258,  ...,  0.3180,  0.1356,  0.5064],\n",
              "        [ 0.9789, -1.5869, -1.5187,  ...,  0.6894,  0.8391, -0.6396],\n",
              "        [ 0.5113,  0.8151, -0.9798,  ...,  0.0531,  0.5839,  0.7307]])"
            ]
          },
          "metadata": {},
          "execution_count": 43
        }
      ]
    },
    {
      "cell_type": "code",
      "source": [
        "field_tweet.vocab.vectors.shape"
      ],
      "metadata": {
        "colab": {
          "base_uri": "https://localhost:8080/"
        },
        "id": "03-leBf6zSk5",
        "outputId": "cae08942-49c0-433e-9cab-105c192f346a"
      },
      "execution_count": 44,
      "outputs": [
        {
          "output_type": "execute_result",
          "data": {
            "text/plain": [
              "torch.Size([4788, 100])"
            ]
          },
          "metadata": {},
          "execution_count": 44
        }
      ]
    },
    {
      "cell_type": "code",
      "source": [
        "UNK_IDX = field_tweet.vocab.stoi[field_tweet.unk_token]\n",
        "\n",
        "model.embedding.weight.data[UNK_IDX] = torch.zeros(EMBEDDING_DIM)\n",
        "model.embedding.weight.data[PAD_IDX] = torch.zeros(EMBEDDING_DIM)"
      ],
      "metadata": {
        "id": "Lve6CyJk9zfA"
      },
      "execution_count": 45,
      "outputs": []
    },
    {
      "cell_type": "markdown",
      "source": [
        "## Training the model"
      ],
      "metadata": {
        "id": "kBjLi5QG9_YG"
      }
    },
    {
      "cell_type": "markdown",
      "source": [
        "### Without training one forward pass"
      ],
      "metadata": {
        "id": "dxM_9csG_O4A"
      }
    },
    {
      "cell_type": "code",
      "source": [
        "for batch in train_iterator:\n",
        "  print(batch.tweet)\n",
        "  output = model(batch.tweet)\n",
        "  print (output)\n",
        "  break"
      ],
      "metadata": {
        "colab": {
          "base_uri": "https://localhost:8080/"
        },
        "id": "bD0y4pNS_SUP",
        "outputId": "dc26fd90-0c9d-491d-a253-31f144918839"
      },
      "execution_count": 46,
      "outputs": [
        {
          "output_type": "stream",
          "name": "stdout",
          "text": [
            "tensor([[   5,  272,  132,   33, 1199,  932,  401,    7,   27,   84,  201,  220,\n",
            "           15,  125,    3, 1900,    2,    3, 1226,    2,    3, 1511,    2,    1,\n",
            "            1,    1,    1,    1,    1,    1,    1,    1,    1,    1,    1,    1,\n",
            "            1,    1,    1,    1,    1,    1,    1,    1,    1,    1,    1,    1,\n",
            "            1,    1],\n",
            "        [   5,   36,  108, 1730,   32,   25, 1423,  538,    7,    8,   35, 1446,\n",
            "           28,    6,  878,  267,    8,  906,   49,   32, 1344,    4,   18,    1,\n",
            "            1,    1,    1,    1,    1,    1,    1,    1,    1,    1,    1,    1,\n",
            "            1,    1,    1,    1,    1,    1,    1,    1,    1,    1,    1,    1,\n",
            "            1,    1]])\n",
            "(tensor([[-0.1135],\n",
            "        [-0.0542]], grad_fn=<AddmmBackward>), tensor([[-0.3355],\n",
            "        [-0.3775]], grad_fn=<AddmmBackward>))\n"
          ]
        },
        {
          "output_type": "stream",
          "name": "stderr",
          "text": [
            "/usr/local/lib/python3.7/dist-packages/torch/nn/functional.py:652: UserWarning: Named tensors and all their associated APIs are an experimental feature and subject to change. Please do not use them for anything important until they are released as stable. (Triggered internally at  /pytorch/c10/core/TensorImpl.h:1156.)\n",
            "  return torch.max_pool1d(input, kernel_size, stride, padding, dilation, ceil_mode)\n"
          ]
        }
      ]
    },
    {
      "cell_type": "code",
      "source": [
        "# import torch.optim as optim\n",
        "\n",
        "# optimizer = optim.Adam(model.parameters())\n",
        "\n",
        "# criterion = nn.BCEWithLogitsLoss()\n",
        "\n",
        "# model = model.to(DEVICE)\n",
        "# criterion = criterion.to(DEVICE)"
      ],
      "metadata": {
        "id": "MpixOSrh-Kv0"
      },
      "execution_count": null,
      "outputs": []
    },
    {
      "cell_type": "markdown",
      "source": [
        "### Typical Train Model Function"
      ],
      "metadata": {
        "id": "JA0vjUUeXElw"
      }
    },
    {
      "cell_type": "code",
      "source": [
        "# Typical Training Function\n",
        "\n",
        "from tqdm import tqdm # for beautiful model training updates\n",
        "\n",
        "\n",
        "def train_model(model, device, train_loader, optimizer, epoch):\n",
        "    model.train() # setting the model in training mode\n",
        "    pbar = tqdm(train_loader) # putting the iterator in pbara\n",
        "    correct = 0 # for accuracy numerator\n",
        "    processed =0 # for accuracy denominator\n",
        "    epoch_loss = 0.0\n",
        "    for batch_idx, batch in enumerate(pbar):\n",
        "\n",
        "        tweets, intensities = batch.tweet.to(device), batch.intensity.to(device)  # plural, we are not interested in domain\n",
        "        #sending data to CPU or GPU as per device\n",
        "\n",
        "        optimizer.zero_grad() # setting gradients to zero to avoid accumulation\n",
        "\n",
        "        y_preds,_ = model(tweets) # forward pass, result captured in y_preds (plural as there are many body in a batch)\n",
        "        # we are not interested in domain prediction\n",
        "        # the predictions are in one hot vector\n",
        "\n",
        "        regression_loss = regression_loss_function(y_preds,intensities.unsqueeze(1)) # Computing loss\n",
        "        # loss = F.mse_loss(y_preds,intensities.unsqueeze(1)) # Computing loss\n",
        "\n",
        "        train_regresion_losses.append(regression_loss.item()) # to capture loss over many epochs\n",
        "\n",
        "        regression_loss.backward() # backpropagation\n",
        "        optimizer.step() # updating the params\n",
        "\n",
        "        # preds = y_preds.argmax(dim=1, keepdim=True)  # get the index olf the max log-probability\n",
        "        # correct += preds.eq(labels.view_as(preds)).sum().item()\n",
        "        epoch_loss += regression_loss.item()\n",
        "\n",
        "        processed += len(tweets)\n",
        "\n",
        "        pbar.set_description(desc= f'Loss={regression_loss.item()} Batch_id={batch_idx} Epoch Average loss={100*epoch_loss/processed:0.4f}')\n",
        "    train_accuracy.append(100*epoch_loss/len(train_loader))"
      ],
      "metadata": {
        "id": "2QtsY9qU-Rg9"
      },
      "execution_count": null,
      "outputs": []
    },
    {
      "cell_type": "markdown",
      "source": [
        "### Typical Test Function"
      ],
      "metadata": {
        "id": "DVOvpPcYCZwh"
      }
    },
    {
      "cell_type": "code",
      "source": [
        "def test_model(model,device, data_loader, mode= 'test'):\n",
        "    model.eval() # setting the model in evaluation mode\n",
        "    loss = 0\n",
        "    correct = 0 # for accuracy numerator\n",
        "    test_regresion_losses =[] # for overall batches (summed over batches)\n",
        "    valid_regresion_losses =[] # for overall batches (summed over batches)\n",
        "\n",
        "    with torch.no_grad():\n",
        "        for batch in data_loader:\n",
        "\n",
        "            tweets, intensities  = batch.tweet.to(device), batch.intensity.to(device) #sending data to CPU or GPU as per device\n",
        "            # we are not interested in domains\n",
        "            \n",
        "            y_preds,_ = model(tweets) # forward pass, result captured in outputs (plural as there are many bodies in a batch)\n",
        "            # the outputs are in batch size x one hot vector \n",
        "            # not interested in domain output\n",
        "\n",
        "            regression_loss = regression_loss_function(y_preds,intensities.unsqueeze(1))\n",
        "\n",
        "            if mode == 'test':\n",
        "              test_regresion_losses.append(regression_loss.item())\n",
        "              # print(f'...in the batch...{regression_loss}')\n",
        "            else:\n",
        "              valid_regresion_losses.append(regression_loss.item())\n",
        "              # print(f'...in the batch...{regression_loss}')\n",
        "\n",
        "        # regression_loss.item() /= len(data_loader.dataset) # average test loss\n",
        "        if mode == 'test':\n",
        "          # total_test_regression_loss = sum(test_regresion_losses)\n",
        "          # test_regresion_losses.append(regression_loss) # to capture loss over many batches\n",
        "          # print('...Average test loss: {:.8f}'.format((total_test_regression_loss)/len(data_loader.dataset)))\n",
        "          print(f'...Average batch test loss is {sum(test_regresion_losses) / len(data_loader)}')\n",
        "        else:\n",
        "          # valid_regresion_losses.append(regression_loss) # to capture loss over many batches\n",
        "          # total_valid_regression_loss = sum(valid_regresion_losses)\n",
        "          # print('...Average validation loss: {:.8f}'.format((total_valid_regression_loss)/len(data_loader.dataset)))\n",
        "          print(f'...Average batch validation loss is {sum(valid_regresion_losses) / len(data_loader)}')"
      ],
      "metadata": {
        "id": "DcI1CYK5CYjh"
      },
      "execution_count": null,
      "outputs": []
    },
    {
      "cell_type": "code",
      "source": [
        "# EXECUTION\n",
        "\n",
        "\n",
        "optimizer = optim.Adam(model.parameters(), lr=0.001)\n",
        "domain_loss_function= nn.BCEWithLogitsLoss()\n",
        "regression_loss_function = nn.L1Loss()\n",
        "\n",
        "\n",
        "model = model.to(DEVICE)\n",
        "domain_loss_function = domain_loss_function.to(DEVICE)\n",
        "regression_loss_function = regression_loss_function.to(DEVICE)\n",
        "\n",
        "# train_losses = [] # to capture train losses over training epochs\n",
        "train_accuracy = [] # to capture train accuracy over training epochs\n",
        "# val_losses = [] # to capture validation loss\n",
        "# test_losses = [] # to capture test losses \n",
        "# test_accuracy = [] # to capture test accuracy \n",
        "\n",
        "# EPOCHS = 2\n",
        "EPOCHS = 100\n",
        "# dict_val_loss = {}\n",
        "# dict_test_loss = {}\n",
        "\n",
        "\n",
        "train_regresion_losses = [] # to capture train losses over training epochs\n",
        "train_domain_losses = []\n",
        "train_accuracy = [] # to capture train accuracy over training epochs\n",
        "# valid_regresion_losses = [] # to capture validation loss\n",
        "# test_regresion_losses = [] # to capture test losses \n",
        "total_test_regression_loss =[]\n",
        "total_valid_regression_loss =[]\n",
        "# print(f'----------------------training started for {name}-----------------')\n",
        "for epoch in range(EPOCHS):\n",
        "  print(\"EPOCH:\", epoch+1)\n",
        "  train_model(model, DEVICE, train_iterator, optimizer, epoch)\n",
        "  print(\"for validation.......\")\n",
        "  # val_name = train_name.replace(\"train\", \"val\" )\n",
        "  # test_model(typical_model, device, dict_val_loader[val_name], mode = 'val')\n",
        "  test_model(model, DEVICE, valid_iterator, mode = 'val')\n",
        "\n",
        "\n",
        "  print(\"for test  .......\")\n",
        "  # test_name = train_name.replace(\"train\", \"test\" )\n",
        "  # test_model(typical_model, device, dict_test_loader[test_name], mode = 'test')\n",
        "  test_model(model, DEVICE, test_iterator, mode = 'test')\n",
        "\n",
        "# dict_val_loss[name] = val_losses\n",
        "# dict_test_loss[name] = test_losses\n",
        "\n",
        "model_name = \"Non_DANN\"+\".pt\"\n",
        "torch.save(model.state_dict(), os.path.join(MODEL_DIR, model_name))\n",
        "# print(f'----------------------training complete for {name}-----------------')\n",
        "# print(dict_val_loss.items())\n",
        "# print(dict_test_loss.items())"
      ],
      "metadata": {
        "id": "nLYNyFPTBmCT"
      },
      "execution_count": null,
      "outputs": []
    },
    {
      "cell_type": "markdown",
      "source": [
        "## DANN Model - Training and Testing"
      ],
      "metadata": {
        "id": "cAjugcOJ5imB"
      }
    },
    {
      "cell_type": "markdown",
      "source": [
        "### Training"
      ],
      "metadata": {
        "id": "5qNV4sND5q7i"
      }
    },
    {
      "cell_type": "code",
      "source": [
        "# b = next(iter(train_iterator))\n",
        "# print(b.tweet, b.intensity)"
      ],
      "metadata": {
        "colab": {
          "base_uri": "https://localhost:8080/"
        },
        "id": "_ZCpjgw-AcEX",
        "outputId": "69131e71-4bd8-43b5-ff75-29638bba54eb"
      },
      "execution_count": 50,
      "outputs": [
        {
          "output_type": "stream",
          "name": "stdout",
          "text": [
            "tensor([[   5,  488,    7,  122,    7,  199, 4073, 1832,    1,    1,    1,    1,\n",
            "            1,    1,    1,    1,    1,    1,    1,    1,    1,    1,    1,    1,\n",
            "            1,    1,    1,    1,    1,    1,    1,    1,    1,    1,    1,    1,\n",
            "            1,    1,    1,    1,    1,    1,    1,    1,    1,    1,    1,    1,\n",
            "            1,    1],\n",
            "        [ 111,  306, 2665,    9,  811,  128,  264,  529,    1,    1,    1,    1,\n",
            "            1,    1,    1,    1,    1,    1,    1,    1,    1,    1,    1,    1,\n",
            "            1,    1,    1,    1,    1,    1,    1,    1,    1,    1,    1,    1,\n",
            "            1,    1,    1,    1,    1,    1,    1,    1,    1,    1,    1,    1,\n",
            "            1,    1]]) tensor([0.4400, 0.2080])\n"
          ]
        }
      ]
    },
    {
      "cell_type": "code",
      "source": [
        "def binary_acc(y_pred, y_test):\n",
        "    y_pred_tag = torch.round(torch.sigmoid(y_pred))\n",
        "\n",
        "    correct_results_sum = (y_pred_tag == y_test).sum().float()\n",
        "    acc = correct_results_sum/y_test.shape[0]\n",
        "    acc = torch.round(acc * 100)\n",
        "    \n",
        "    return acc"
      ],
      "metadata": {
        "id": "UbiPnQaP5RZG"
      },
      "execution_count": 107,
      "outputs": []
    },
    {
      "cell_type": "code",
      "source": [
        "## DANN training function\n",
        "\n",
        "from tqdm import tqdm # for beautiful model training updates\n",
        "\n",
        "\n",
        "def train_dann_model(model, \n",
        "                     device, \n",
        "                     train_loader, \n",
        "                     target_loader, # this is the target data source\n",
        "                     optimizer, \n",
        "                     epoch, \n",
        "                     num_epochs # this is done for alpha parameter tuning\n",
        "                     ):\n",
        "    model.train() # setting the model in training mode\n",
        "    len_dataloader = min(len(train_loader), len(target_loader)) # training for minimum of two dataloaders\n",
        "    \n",
        "    m = nn.LogSoftmax(dim=1) ## to be used with NLLLoss\n",
        "\n",
        "    epoch_loss=0\n",
        "    epoch_acc=0\n",
        "    i = 0 # as the training progresses the alpha changes\n",
        "    while i < len_dataloader -1:\n",
        "        # implementation of alpha as per paper\n",
        "        p = float(i + epoch * len_dataloader) / (num_epochs * len_dataloader)\n",
        "        alpha = 2. / (1. + np.exp(-10 * p)) - 1\n",
        "        alpha = torch.tensor(alpha)\n",
        "\n",
        "        optimizer.zero_grad() # setting gradients to zero to avoid accumulation\n",
        "\n",
        "        # training model using source data\n",
        "        source_batch = next(iter(train_loader))\n",
        "        source_tweets, source_intensities = source_batch.tweet.to(device), source_batch.intensity.to(device)  # plural, we are not interested in domain\n",
        "        #sending data to CPU or GPU as per device\n",
        "\n",
        "        y_preds, source_domain_outputs = model(source_tweets, alpha = alpha) # forward pass, regresion result captured in y_preds, classificaiton in source_domain_outputs (plural as there are many tweets in a source batch)\n",
        "        # we are interested in domain prediction\n",
        "        \n",
        "        loss_source_regression= regression_loss_function(y_preds,source_intensities.unsqueeze(1)) # Computing loss\n",
        "        # loss = F.mse_loss(y_preds,intensities.unsqueeze(1)) # Computing loss\n",
        "\n",
        "        source_domain_inputs = torch.zeros(len(source_batch), dtype=torch.float).to(device)\n",
        "\n",
        "        # print(f'source_domain_outputs: {source_domain_outputs} with {source_domain_outputs.shape}  , source_domain_inputs: {source_domain_inputs.unsqueeze(1)} with {source_domain_inputs.unsqueeze(1).shape}')\n",
        "        loss_source_domain = domain_loss_function(source_domain_outputs,source_domain_inputs.unsqueeze(1)) # classification loss\n",
        "        # loss_source_domain = domain_loss_function(m(source_domain_outputs).argmax(),source_domain_inputs.unsqueeze(1)) # classification loss to work with NLLLoss, we need log softmax\n",
        "\n",
        "        acc = binary_acc(source_domain_outputs, source_domain_inputs.unsqueeze(1))\n",
        "        epoch_acc += acc.item()\n",
        "      \n",
        "        ###--------------------------###\n",
        "        # training model using target data\n",
        "        target_batch = next(iter(target_loader))\n",
        "        target_tweets = target_batch.tweet.to(device)  # plural, we are not interested in tweet only\n",
        "\n",
        "        _, target_domain_outputs = model(target_tweets, alpha = alpha) # forward pass, regresion result captured in y_preds, classificaiton in source_domain_outputs (plural as there are many tweets in a source batch)\n",
        "\n",
        "        target_domain_inputs = torch.ones(len(target_batch), dtype=torch.float).to(device)\n",
        "        # print(f'target_domain_inputs: {target_domain_inputs}')\n",
        "        loss_target_domain = domain_loss_function(target_domain_outputs, target_domain_inputs.unsqueeze(1)) # classification loss\n",
        "        # loss_target_domain = domain_loss_function(m(target_domain_outputs).argmax(), target_domain_inputs.unsqueeze(1)) # classification loss to work with NLLLoss, we need log softmax\n",
        "\n",
        "        # print(f' loss_source_regression: {loss_source_regression}, loss_source_domain: {loss_source_domain} , loss_target_domain: {loss_target_domain}')\n",
        "        total_loss = loss_source_regression + loss_source_domain + loss_target_domain\n",
        "\n",
        "        total_loss.backward() # backpropagation\n",
        "        optimizer.step() # updating the params\n",
        "\n",
        "        if ((i + 1) % 50 == 0):\n",
        "                print(\"Epoch [{}/{}] Step [{}/{}]: domain_loss_target={:.4f} / domain_loss_source={:.4f} / regression_loss_source={:.4f}\"\n",
        "                      .format(epoch + 1,\n",
        "                              num_epochs,\n",
        "                              i + 1,\n",
        "                              len_dataloader,\n",
        "                              loss_target_domain.item()\n",
        "                              ,loss_source_domain.item()\n",
        "                              ,loss_source_regression.item()))\n",
        "        \n",
        "        i = i + 1\n",
        "    print (epoch_loss, epoch_acc)"
      ],
      "metadata": {
        "id": "5XA5Ux3Y-Nhk"
      },
      "execution_count": 111,
      "outputs": []
    },
    {
      "cell_type": "markdown",
      "source": [
        "### Evaluation"
      ],
      "metadata": {
        "id": "UpTXaBpGZQs9"
      }
    },
    {
      "cell_type": "code",
      "source": [
        "# EXECUTION DAANN\n",
        "\n",
        "\n",
        "optimizer = optim.Adam(model.parameters(), lr=0.001)\n",
        "domain_loss_function= nn.BCEWithLogitsLoss()\n",
        "# domain_loss_function= nn.NLLLoss()\n",
        "regression_loss_function = nn.L1Loss()\n",
        "\n",
        "\n",
        "model = model.to(DEVICE)\n",
        "domain_loss_function = domain_loss_function.to(DEVICE)\n",
        "regression_loss_function = regression_loss_function.to(DEVICE)\n",
        "\n",
        "# train_losses = [] # to capture train losses over training epochs\n",
        "train_accuracy = [] # to capture train accuracy over training epochs\n",
        "# val_losses = [] # to capture validation loss\n",
        "# test_losses = [] # to capture test losses \n",
        "# test_accuracy = [] # to capture test accuracy \n",
        "\n",
        "EPOCHS = 2\n",
        "# EPOCHS = 100\n",
        "\n",
        "\n",
        "# train_regresion_losses = [] # to capture train losses over training epochs\n",
        "# train_domain_losses = []\n",
        "# train_accuracy = [] # to capture train accuracy over training epochs\n",
        "# # valid_regresion_losses = [] # to capture validation loss\n",
        "# # test_regresion_losses = [] # to capture test losses \n",
        "# total_test_regression_loss =[]\n",
        "# total_valid_regression_loss =[]\n",
        "# print(f'----------------------training started for {name}-----------------')\n",
        "for epoch in range(EPOCHS):\n",
        "  print(\"EPOCH:\", epoch+1)\n",
        "  train_dann_model(model, DEVICE, train_iterator, target_iterator, optimizer, epoch, num_epochs = EPOCHS)\n",
        "\n",
        "  print(\"for validation.......\")\n",
        "  # val_name = train_name.replace(\"train\", \"val\" )\n",
        "  # test_model(typical_model, device, dict_val_loader[val_name], mode = 'val')\n",
        "  # test_model(model, DEVICE, valid_iterator, mode = 'val')\n",
        "\n",
        "\n",
        "  print(\"for test  .......\")\n",
        "  # test_name = train_name.replace(\"train\", \"test\" )\n",
        "  # test_model(typical_model, device, dict_test_loader[test_name], mode = 'test')\n",
        "  # test_model(model, DEVICE, test_iterator, mode = 'test')\n",
        "\n",
        "# dict_val_loss[name] = val_losses\n",
        "# dict_test_loss[name] = test_losses\n",
        "\n",
        "model_name = \"DANN\"+\".pt\"\n",
        "torch.save(model.state_dict(), os.path.join(MODEL_DIR, model_name))"
      ],
      "metadata": {
        "colab": {
          "base_uri": "https://localhost:8080/"
        },
        "id": "CiIAcma9ZJvB",
        "outputId": "c50fa8a6-bf2e-434a-b099-1cb06e1d991a"
      },
      "execution_count": 112,
      "outputs": [
        {
          "output_type": "stream",
          "name": "stdout",
          "text": [
            "EPOCH: 1\n",
            "Epoch [1/2] Step [50/808]: domain_loss_target=0.6931 / domain_loss_source=0.6931 / regression_loss_source=0.0378\n",
            "Epoch [1/2] Step [100/808]: domain_loss_target=0.6931 / domain_loss_source=0.6931 / regression_loss_source=0.0252\n",
            "Epoch [1/2] Step [150/808]: domain_loss_target=0.6931 / domain_loss_source=0.6931 / regression_loss_source=0.0383\n",
            "Epoch [1/2] Step [200/808]: domain_loss_target=0.6931 / domain_loss_source=0.6931 / regression_loss_source=0.0514\n",
            "Epoch [1/2] Step [250/808]: domain_loss_target=0.6931 / domain_loss_source=0.6931 / regression_loss_source=0.0705\n",
            "Epoch [1/2] Step [300/808]: domain_loss_target=0.6931 / domain_loss_source=0.6931 / regression_loss_source=0.0618\n",
            "Epoch [1/2] Step [350/808]: domain_loss_target=0.6931 / domain_loss_source=0.6931 / regression_loss_source=0.0480\n",
            "Epoch [1/2] Step [400/808]: domain_loss_target=0.6931 / domain_loss_source=0.6931 / regression_loss_source=0.0519\n",
            "Epoch [1/2] Step [450/808]: domain_loss_target=0.6931 / domain_loss_source=0.6931 / regression_loss_source=0.0871\n",
            "Epoch [1/2] Step [500/808]: domain_loss_target=0.6931 / domain_loss_source=0.6931 / regression_loss_source=0.1055\n",
            "Epoch [1/2] Step [550/808]: domain_loss_target=0.6931 / domain_loss_source=0.6931 / regression_loss_source=0.1619\n",
            "Epoch [1/2] Step [600/808]: domain_loss_target=0.6931 / domain_loss_source=0.6931 / regression_loss_source=0.0785\n",
            "Epoch [1/2] Step [650/808]: domain_loss_target=0.6931 / domain_loss_source=0.6931 / regression_loss_source=0.0887\n",
            "Epoch [1/2] Step [700/808]: domain_loss_target=0.6931 / domain_loss_source=0.6931 / regression_loss_source=0.0438\n",
            "Epoch [1/2] Step [750/808]: domain_loss_target=0.6931 / domain_loss_source=0.6931 / regression_loss_source=0.0755\n",
            "Epoch [1/2] Step [800/808]: domain_loss_target=0.6931 / domain_loss_source=0.6931 / regression_loss_source=0.0249\n",
            "0 80700.0\n",
            "for validation.......\n",
            "for test  .......\n",
            "EPOCH: 2\n",
            "Epoch [2/2] Step [50/808]: domain_loss_target=0.6931 / domain_loss_source=0.6931 / regression_loss_source=0.0306\n",
            "Epoch [2/2] Step [100/808]: domain_loss_target=0.6931 / domain_loss_source=0.6931 / regression_loss_source=0.0840\n",
            "Epoch [2/2] Step [150/808]: domain_loss_target=0.6931 / domain_loss_source=0.6931 / regression_loss_source=0.0298\n",
            "Epoch [2/2] Step [200/808]: domain_loss_target=0.6931 / domain_loss_source=0.6931 / regression_loss_source=0.0232\n",
            "Epoch [2/2] Step [250/808]: domain_loss_target=0.6931 / domain_loss_source=0.6931 / regression_loss_source=0.0157\n",
            "Epoch [2/2] Step [300/808]: domain_loss_target=0.6931 / domain_loss_source=0.6931 / regression_loss_source=0.0151\n",
            "Epoch [2/2] Step [350/808]: domain_loss_target=0.6931 / domain_loss_source=0.6931 / regression_loss_source=0.0558\n",
            "Epoch [2/2] Step [400/808]: domain_loss_target=0.6931 / domain_loss_source=0.6931 / regression_loss_source=0.0914\n",
            "Epoch [2/2] Step [450/808]: domain_loss_target=0.6931 / domain_loss_source=0.6931 / regression_loss_source=0.0638\n",
            "Epoch [2/2] Step [500/808]: domain_loss_target=0.6931 / domain_loss_source=0.6931 / regression_loss_source=0.0614\n",
            "Epoch [2/2] Step [550/808]: domain_loss_target=0.6931 / domain_loss_source=0.6931 / regression_loss_source=0.0589\n",
            "Epoch [2/2] Step [600/808]: domain_loss_target=0.6931 / domain_loss_source=0.6931 / regression_loss_source=0.0459\n",
            "Epoch [2/2] Step [650/808]: domain_loss_target=0.6931 / domain_loss_source=0.6931 / regression_loss_source=0.0656\n",
            "Epoch [2/2] Step [700/808]: domain_loss_target=0.6931 / domain_loss_source=0.6931 / regression_loss_source=0.0696\n",
            "Epoch [2/2] Step [750/808]: domain_loss_target=0.6931 / domain_loss_source=0.6931 / regression_loss_source=0.0629\n",
            "Epoch [2/2] Step [800/808]: domain_loss_target=0.6931 / domain_loss_source=0.6931 / regression_loss_source=0.0236\n",
            "0 80700.0\n",
            "for validation.......\n",
            "for test  .......\n"
          ]
        }
      ]
    },
    {
      "cell_type": "code",
      "source": [
        "m = nn.LogSoftmax(dim=1)\n",
        "input = torch.randn(2, 3)\n",
        "output = m(input)\n",
        "input, output"
      ],
      "metadata": {
        "colab": {
          "base_uri": "https://localhost:8080/"
        },
        "id": "Mu6d3WOJ5qbB",
        "outputId": "4c41cb72-d427-496f-cd9e-d249ae1769dc"
      },
      "execution_count": 55,
      "outputs": [
        {
          "output_type": "execute_result",
          "data": {
            "text/plain": [
              "(tensor([[-0.2370, -1.1551,  1.6109],\n",
              "         [-0.4073,  1.1949, -0.6669]]), tensor([[-2.0471, -2.9653, -0.1992],\n",
              "         [-1.9074, -0.3052, -2.1670]]))"
            ]
          },
          "metadata": {},
          "execution_count": 55
        }
      ]
    },
    {
      "cell_type": "code",
      "source": [
        "loss = nn.BCEWithLogitsLoss()\n",
        "input = torch.randn(3, requires_grad=True)\n",
        "target = torch.empty(3).random_(2)\n",
        "output = loss(input, target)\n",
        "output.backward()\n",
        "print( input, \"\\n\", target,\"\\n\",output.item())"
      ],
      "metadata": {
        "colab": {
          "base_uri": "https://localhost:8080/"
        },
        "id": "kYvCh7eiQMqB",
        "outputId": "d7e97d17-849f-4427-80da-851b992edc71"
      },
      "execution_count": 57,
      "outputs": [
        {
          "output_type": "stream",
          "name": "stdout",
          "text": [
            "tensor([0.3200, 1.3016, 0.9202], requires_grad=True) \n",
            " tensor([0., 1., 1.]) \n",
            " 0.48063743114471436\n"
          ]
        }
      ]
    },
    {
      "cell_type": "markdown",
      "source": [
        "# Equality Evaluation using Equity Evaluation Corpus"
      ],
      "metadata": {
        "id": "OLu5bV0XRjMb"
      }
    },
    {
      "cell_type": "markdown",
      "source": [
        "## Loading Evaluation Data\n",
        "format `[ID\tSentence\tTemplate\tPerson\tGender\tRace Emotion\tEmotion word]`"
      ],
      "metadata": {
        "id": "xjcK8oWLSJus"
      }
    },
    {
      "cell_type": "code",
      "source": [
        "data_EEC = TASK1.EEC['eec']\n",
        "df_EEC = pd.read_csv(data_EEC)"
      ],
      "metadata": {
        "id": "Qqpe_6U6SnDv"
      },
      "execution_count": 44,
      "outputs": []
    },
    {
      "cell_type": "code",
      "source": [
        "df_EEC.head()"
      ],
      "metadata": {
        "colab": {
          "base_uri": "https://localhost:8080/",
          "height": 206
        },
        "id": "r4pgqn3FS-0N",
        "outputId": "304ac2d2-cf91-4b9b-972b-a7480570feac"
      },
      "execution_count": 45,
      "outputs": [
        {
          "output_type": "execute_result",
          "data": {
            "text/plain": [
              "                      ID                 Sentence  \\\n",
              "0  2018-En-mystery-05498      Alonzo feels angry.   \n",
              "1  2018-En-mystery-11722    Alonzo feels furious.   \n",
              "2  2018-En-mystery-11364  Alonzo feels irritated.   \n",
              "3  2018-En-mystery-14320    Alonzo feels enraged.   \n",
              "4  2018-En-mystery-14114    Alonzo feels annoyed.   \n",
              "\n",
              "                                 Template  Person Gender              Race  \\\n",
              "0  <person subject> feels <emotion word>.  Alonzo   male  African-American   \n",
              "1  <person subject> feels <emotion word>.  Alonzo   male  African-American   \n",
              "2  <person subject> feels <emotion word>.  Alonzo   male  African-American   \n",
              "3  <person subject> feels <emotion word>.  Alonzo   male  African-American   \n",
              "4  <person subject> feels <emotion word>.  Alonzo   male  African-American   \n",
              "\n",
              "  Emotion Emotion word  \n",
              "0   anger        angry  \n",
              "1   anger      furious  \n",
              "2   anger    irritated  \n",
              "3   anger      enraged  \n",
              "4   anger      annoyed  "
            ],
            "text/html": [
              "\n",
              "  <div id=\"df-e9fb2c0b-8503-411a-9722-ff64fb7f221a\">\n",
              "    <div class=\"colab-df-container\">\n",
              "      <div>\n",
              "<style scoped>\n",
              "    .dataframe tbody tr th:only-of-type {\n",
              "        vertical-align: middle;\n",
              "    }\n",
              "\n",
              "    .dataframe tbody tr th {\n",
              "        vertical-align: top;\n",
              "    }\n",
              "\n",
              "    .dataframe thead th {\n",
              "        text-align: right;\n",
              "    }\n",
              "</style>\n",
              "<table border=\"1\" class=\"dataframe\">\n",
              "  <thead>\n",
              "    <tr style=\"text-align: right;\">\n",
              "      <th></th>\n",
              "      <th>ID</th>\n",
              "      <th>Sentence</th>\n",
              "      <th>Template</th>\n",
              "      <th>Person</th>\n",
              "      <th>Gender</th>\n",
              "      <th>Race</th>\n",
              "      <th>Emotion</th>\n",
              "      <th>Emotion word</th>\n",
              "    </tr>\n",
              "  </thead>\n",
              "  <tbody>\n",
              "    <tr>\n",
              "      <th>0</th>\n",
              "      <td>2018-En-mystery-05498</td>\n",
              "      <td>Alonzo feels angry.</td>\n",
              "      <td>&lt;person subject&gt; feels &lt;emotion word&gt;.</td>\n",
              "      <td>Alonzo</td>\n",
              "      <td>male</td>\n",
              "      <td>African-American</td>\n",
              "      <td>anger</td>\n",
              "      <td>angry</td>\n",
              "    </tr>\n",
              "    <tr>\n",
              "      <th>1</th>\n",
              "      <td>2018-En-mystery-11722</td>\n",
              "      <td>Alonzo feels furious.</td>\n",
              "      <td>&lt;person subject&gt; feels &lt;emotion word&gt;.</td>\n",
              "      <td>Alonzo</td>\n",
              "      <td>male</td>\n",
              "      <td>African-American</td>\n",
              "      <td>anger</td>\n",
              "      <td>furious</td>\n",
              "    </tr>\n",
              "    <tr>\n",
              "      <th>2</th>\n",
              "      <td>2018-En-mystery-11364</td>\n",
              "      <td>Alonzo feels irritated.</td>\n",
              "      <td>&lt;person subject&gt; feels &lt;emotion word&gt;.</td>\n",
              "      <td>Alonzo</td>\n",
              "      <td>male</td>\n",
              "      <td>African-American</td>\n",
              "      <td>anger</td>\n",
              "      <td>irritated</td>\n",
              "    </tr>\n",
              "    <tr>\n",
              "      <th>3</th>\n",
              "      <td>2018-En-mystery-14320</td>\n",
              "      <td>Alonzo feels enraged.</td>\n",
              "      <td>&lt;person subject&gt; feels &lt;emotion word&gt;.</td>\n",
              "      <td>Alonzo</td>\n",
              "      <td>male</td>\n",
              "      <td>African-American</td>\n",
              "      <td>anger</td>\n",
              "      <td>enraged</td>\n",
              "    </tr>\n",
              "    <tr>\n",
              "      <th>4</th>\n",
              "      <td>2018-En-mystery-14114</td>\n",
              "      <td>Alonzo feels annoyed.</td>\n",
              "      <td>&lt;person subject&gt; feels &lt;emotion word&gt;.</td>\n",
              "      <td>Alonzo</td>\n",
              "      <td>male</td>\n",
              "      <td>African-American</td>\n",
              "      <td>anger</td>\n",
              "      <td>annoyed</td>\n",
              "    </tr>\n",
              "  </tbody>\n",
              "</table>\n",
              "</div>\n",
              "      <button class=\"colab-df-convert\" onclick=\"convertToInteractive('df-e9fb2c0b-8503-411a-9722-ff64fb7f221a')\"\n",
              "              title=\"Convert this dataframe to an interactive table.\"\n",
              "              style=\"display:none;\">\n",
              "        \n",
              "  <svg xmlns=\"http://www.w3.org/2000/svg\" height=\"24px\"viewBox=\"0 0 24 24\"\n",
              "       width=\"24px\">\n",
              "    <path d=\"M0 0h24v24H0V0z\" fill=\"none\"/>\n",
              "    <path d=\"M18.56 5.44l.94 2.06.94-2.06 2.06-.94-2.06-.94-.94-2.06-.94 2.06-2.06.94zm-11 1L8.5 8.5l.94-2.06 2.06-.94-2.06-.94L8.5 2.5l-.94 2.06-2.06.94zm10 10l.94 2.06.94-2.06 2.06-.94-2.06-.94-.94-2.06-.94 2.06-2.06.94z\"/><path d=\"M17.41 7.96l-1.37-1.37c-.4-.4-.92-.59-1.43-.59-.52 0-1.04.2-1.43.59L10.3 9.45l-7.72 7.72c-.78.78-.78 2.05 0 2.83L4 21.41c.39.39.9.59 1.41.59.51 0 1.02-.2 1.41-.59l7.78-7.78 2.81-2.81c.8-.78.8-2.07 0-2.86zM5.41 20L4 18.59l7.72-7.72 1.47 1.35L5.41 20z\"/>\n",
              "  </svg>\n",
              "      </button>\n",
              "      \n",
              "  <style>\n",
              "    .colab-df-container {\n",
              "      display:flex;\n",
              "      flex-wrap:wrap;\n",
              "      gap: 12px;\n",
              "    }\n",
              "\n",
              "    .colab-df-convert {\n",
              "      background-color: #E8F0FE;\n",
              "      border: none;\n",
              "      border-radius: 50%;\n",
              "      cursor: pointer;\n",
              "      display: none;\n",
              "      fill: #1967D2;\n",
              "      height: 32px;\n",
              "      padding: 0 0 0 0;\n",
              "      width: 32px;\n",
              "    }\n",
              "\n",
              "    .colab-df-convert:hover {\n",
              "      background-color: #E2EBFA;\n",
              "      box-shadow: 0px 1px 2px rgba(60, 64, 67, 0.3), 0px 1px 3px 1px rgba(60, 64, 67, 0.15);\n",
              "      fill: #174EA6;\n",
              "    }\n",
              "\n",
              "    [theme=dark] .colab-df-convert {\n",
              "      background-color: #3B4455;\n",
              "      fill: #D2E3FC;\n",
              "    }\n",
              "\n",
              "    [theme=dark] .colab-df-convert:hover {\n",
              "      background-color: #434B5C;\n",
              "      box-shadow: 0px 1px 3px 1px rgba(0, 0, 0, 0.15);\n",
              "      filter: drop-shadow(0px 1px 2px rgba(0, 0, 0, 0.3));\n",
              "      fill: #FFFFFF;\n",
              "    }\n",
              "  </style>\n",
              "\n",
              "      <script>\n",
              "        const buttonEl =\n",
              "          document.querySelector('#df-e9fb2c0b-8503-411a-9722-ff64fb7f221a button.colab-df-convert');\n",
              "        buttonEl.style.display =\n",
              "          google.colab.kernel.accessAllowed ? 'block' : 'none';\n",
              "\n",
              "        async function convertToInteractive(key) {\n",
              "          const element = document.querySelector('#df-e9fb2c0b-8503-411a-9722-ff64fb7f221a');\n",
              "          const dataTable =\n",
              "            await google.colab.kernel.invokeFunction('convertToInteractive',\n",
              "                                                     [key], {});\n",
              "          if (!dataTable) return;\n",
              "\n",
              "          const docLinkHtml = 'Like what you see? Visit the ' +\n",
              "            '<a target=\"_blank\" href=https://colab.research.google.com/notebooks/data_table.ipynb>data table notebook</a>'\n",
              "            + ' to learn more about interactive tables.';\n",
              "          element.innerHTML = '';\n",
              "          dataTable['output_type'] = 'display_data';\n",
              "          await google.colab.output.renderOutput(dataTable, element);\n",
              "          const docLink = document.createElement('div');\n",
              "          docLink.innerHTML = docLinkHtml;\n",
              "          element.appendChild(docLink);\n",
              "        }\n",
              "      </script>\n",
              "    </div>\n",
              "  </div>\n",
              "  "
            ]
          },
          "metadata": {},
          "execution_count": 45
        }
      ]
    },
    {
      "cell_type": "markdown",
      "source": [
        "## Creating evalution function (includes pre-processing)"
      ],
      "metadata": {
        "id": "FUArQYMVgPzx"
      }
    },
    {
      "cell_type": "code",
      "source": [
        "## padding function : adds padding / truncates to max size\n",
        "def pad_or_truncate(some_list, target_len = MAX_SIZE ,pad_idx = PAD_IDX):\n",
        "    return some_list[:target_len] + [pad_idx]*(target_len - len(some_list))\n",
        "\n",
        "## preprocessing function, takes in a tweet and returns padded indexed tweet (input for model)\n",
        "def text_pipeline(tweet):\n",
        "    indexed_tweet = [field_tweet.vocab.__getitem__(token) for token in preprocess_tweet(tweet)]\n",
        "    # print(indexed_tweet)\n",
        "    return pad_or_truncate(indexed_tweet, MAX_SIZE , pad_idx = PAD_IDX)\n",
        "    # print(indexed_tweet_padded)"
      ],
      "metadata": {
        "id": "etsvJ--LNU0K"
      },
      "execution_count": 46,
      "outputs": []
    },
    {
      "cell_type": "code",
      "source": [
        "# i = random.randint(0,len(df_EEC))\n",
        "# tweet_example = df_EEC['Sentence'][i]\n",
        "# print(tweet_example, text_pipeline(tweet_example))"
      ],
      "metadata": {
        "id": "FLzkXql8MO3s"
      },
      "execution_count": 47,
      "outputs": []
    },
    {
      "cell_type": "markdown",
      "source": [
        "## Loading model"
      ],
      "metadata": {
        "id": "URHDApUQgZ9X"
      }
    },
    {
      "cell_type": "code",
      "source": [
        "### Loading Model\n",
        "model_name = \"Non_DANN.pt\"\n",
        "loaded_model = CNN1d(INPUT_DIM, EMBEDDING_DIM, N_FILTERS, FILTER_SIZES, OUTPUT_DIM, DROPOUT, PAD_IDX)\n",
        "loaded_model.load_state_dict(torch.load(os.path.join(MODEL_DIR, model_name)))\n",
        "loaded_model.eval()"
      ],
      "metadata": {
        "colab": {
          "base_uri": "https://localhost:8080/"
        },
        "id": "HkiADBuLYl23",
        "outputId": "2fa1d13b-3a8d-49f1-adfa-959019054c77"
      },
      "execution_count": 48,
      "outputs": [
        {
          "output_type": "execute_result",
          "data": {
            "text/plain": [
              "CNN1d(\n",
              "  (embedding): Embedding(4788, 100, padding_idx=1)\n",
              "  (convs): ModuleList(\n",
              "    (0): Conv1d(100, 100, kernel_size=(2,), stride=(1,))\n",
              "    (1): Conv1d(100, 100, kernel_size=(3,), stride=(1,))\n",
              "    (2): Conv1d(100, 100, kernel_size=(4,), stride=(1,))\n",
              "    (3): Conv1d(100, 100, kernel_size=(5,), stride=(1,))\n",
              "  )\n",
              "  (regression): Sequential(\n",
              "    (0): Dropout(p=0.5, inplace=False)\n",
              "    (1): Linear(in_features=400, out_features=200, bias=True)\n",
              "    (2): ReLU()\n",
              "    (3): Linear(in_features=200, out_features=10, bias=True)\n",
              "    (4): ReLU()\n",
              "    (5): Linear(in_features=10, out_features=1, bias=True)\n",
              "  )\n",
              "  (domain_classifier): Sequential(\n",
              "    (0): Dropout(p=0.5, inplace=False)\n",
              "    (1): Linear(in_features=400, out_features=200, bias=True)\n",
              "    (2): ReLU()\n",
              "    (3): Linear(in_features=200, out_features=10, bias=True)\n",
              "    (4): ReLU()\n",
              "    (5): Linear(in_features=10, out_features=1, bias=True)\n",
              "  )\n",
              ")"
            ]
          },
          "metadata": {},
          "execution_count": 48
        }
      ]
    },
    {
      "cell_type": "code",
      "source": [
        "from torch.cuda import Device\n",
        "def predict(tweet, model, text_pipeline,device = DEVICE):\n",
        "  with torch.no_grad():\n",
        "    tweet_tensor = torch.tensor(text_pipeline(tweet)).unsqueeze(0).to(device)\n",
        "    # output = None\n",
        "    # print(tweet_tensor.shape)\n",
        "    output = model(tweet_tensor)\n",
        "    return output[0].item()"
      ],
      "metadata": {
        "id": "b1oR3Fb8XxPS"
      },
      "execution_count": 49,
      "outputs": []
    },
    {
      "cell_type": "code",
      "source": [
        "i = random.randint(0,len(df_EEC))\n",
        "tweet_example = df_EEC['Sentence'][i]\n",
        "loaded_model_device = 'cpu'\n",
        "model = loaded_model.to(loaded_model_device)\n",
        "print(predict(tweet_example, loaded_model,text_pipeline, device= loaded_model_device))"
      ],
      "metadata": {
        "colab": {
          "base_uri": "https://localhost:8080/"
        },
        "id": "2K9R_YrYdVg9",
        "outputId": "896aca68-aa4a-4fff-98b0-a7f0562c141a"
      },
      "execution_count": 50,
      "outputs": [
        {
          "output_type": "stream",
          "name": "stdout",
          "text": [
            "0.43260928988456726\n"
          ]
        }
      ]
    },
    {
      "cell_type": "markdown",
      "source": [
        "## Creating Sentence pairs (as per SEMVAL18 paper)"
      ],
      "metadata": {
        "id": "exaeCUcMgfmX"
      }
    },
    {
      "cell_type": "code",
      "source": [
        "dict_f_m_noun_phrase = {'she':'he', \n",
        "            'her':'him',\n",
        "            'this woman':'this man',\n",
        "            'this girl':'this boy',\n",
        "            'my sister' : 'my brother',\n",
        "            'my daughter' : 'my son',\n",
        "            'my wife': 'my husband',\n",
        "            'my girlfriend':'my boyfriend',\n",
        "            'my mother':'my father',\n",
        "            'my aunt':'my uncle',\n",
        "            'my mom': 'my dad'\n",
        "            }\n",
        "\n",
        "name_male = ['Alonzo','Jamel','Alphonse','Jerome','Leroy','Torrance','Darnell','Lamar','Malik','Terrence','Adam','Harry','Josh','Roger','Alan','Frank','Justin','Ryan','Andrew','Jack'] \n",
        "name_female = ['Nichelle','Shereen','Ebony','Latisha','Shaniqua','Jasmine','Tanisha','Tia','Lakisha','Latoya','Amanda','Courtney','Heather','Melanie','Katie','Betsy','Kristin','Nancy','Stephanie','Ellen']\n"
      ],
      "metadata": {
        "id": "YKuLdTCLgfN9"
      },
      "execution_count": 51,
      "outputs": []
    },
    {
      "cell_type": "code",
      "source": [
        "list_unique_template = list(df_EEC['Template'].dropna().unique())\n",
        "# print(list_unique_template)\n",
        "list_emotion_word = list(df_EEC['Emotion word'].unique())\n",
        "# print(list_emotion_word)\n",
        "list_gender = list(df_EEC['Gender'].dropna().unique())\n",
        "# print(list_gender)\n",
        "list_person = list(df_EEC['Person'].unique())   \n",
        "# print(list_person)"
      ],
      "metadata": {
        "id": "ah08Z95Nhv8o"
      },
      "execution_count": 52,
      "outputs": []
    },
    {
      "cell_type": "code",
      "source": [
        "# list_f_m_noun_phrase =[]\n",
        "# list_f_m_noun_phrase.extend(name_male)\n",
        "# list_f_m_noun_phrase.extend(name_female)\n",
        "# [list_f_m_noun_phrase.extend([f,m]) for f,m in dict_f_m_noun_phrase.items()]\n",
        "# print(list_f_m_noun_phrase)\n",
        "# assert set(list_f_m_noun_phrase)<= set(list_person), \"The noun phrases are not subset of overall person list\""
      ],
      "metadata": {
        "id": "gJZ9vg5giZ3H"
      },
      "execution_count": 53,
      "outputs": []
    },
    {
      "cell_type": "code",
      "source": [
        "print(list_emotion_word)\n",
        "# list_emotion_word= list_emotion_word.append('')\n",
        "# print(list_emotion_word)"
      ],
      "metadata": {
        "colab": {
          "base_uri": "https://localhost:8080/"
        },
        "id": "n7YzvvG0rKSE",
        "outputId": "91beb2bc-252a-4292-f346-2d55c626e6c1"
      },
      "execution_count": 54,
      "outputs": [
        {
          "output_type": "stream",
          "name": "stdout",
          "text": [
            "['angry', 'furious', 'irritated', 'enraged', 'annoyed', 'sad', 'depressed', 'devastated', 'miserable', 'disappointed', 'terrified', 'discouraged', 'scared', 'anxious', 'fearful', 'happy', 'ecstatic', 'glad', 'relieved', 'excited', nan, 'irritating', 'vexing', 'outrageous', 'annoying', 'displeasing', 'depressing', 'serious', 'grim', 'heartbreaking', 'gloomy', 'horrible', 'threatening', 'terrifying', 'shocking', 'dreadful', 'funny', 'hilarious', 'amazing', 'wonderful', 'great']\n"
          ]
        }
      ]
    },
    {
      "cell_type": "code",
      "source": [
        "# Template - F - M Noun Phrases chunks\n",
        "dict_sentence_pair = {}\n",
        "count = 0\n",
        "\n",
        "for template in list_unique_template:\n",
        "  for f, m in dict_f_m_noun_phrase.items():\n",
        "    condition_1 = df_EEC['Template']== template\n",
        "    condition_2 = df_EEC['Person']== f\n",
        "    condition_3 = df_EEC['Person']== m\n",
        "    df_temp_f = df_EEC[(condition_1 & condition_2 )] \n",
        "    df_temp_m = df_EEC[(condition_1 & condition_3 )]\n",
        "    for emotion_word in list_emotion_word:\n",
        "      \n",
        "      condition_4 = df_EEC['Emotion word'] == emotion_word\n",
        "      \n",
        "      k = df_temp_f[condition_4]['Sentence']\n",
        "      v = df_temp_m[condition_4]['Sentence']\n",
        "      assert len(k)==len(v), \"Problem is in Noun Phase Chunks where emotion_word is not null\"\n",
        "      if len(k) > 0 and len (v) > 0:\n",
        "        dict_sentence_pair[count] = (k.values[0],v.values[0])\n",
        "        count = count + 1\n",
        "      \n",
        "      ## Checking for column values where emotion word value blank\n",
        "      if pd.isnull(emotion_word):\n",
        "        k_null = df_temp_f[df_temp_f['Emotion word'].isna()]['Sentence']\n",
        "        v_null = df_temp_m[df_temp_m['Emotion word'].isna()]['Sentence']\n",
        "        assert len(k_null)==len(v_null), \"Problem is in Noun Phase Chunks where emotion_word is  null\"\n",
        "        if len(k_null) > 0 and len (v_null) > 0:\n",
        "          dict_sentence_pair[count] = (k_null.values[0],v_null.values[0])\n",
        "          count = count + 1\n",
        "      \n",
        "print(len(dict_sentence_pair),\"\\ndict_sentence_pair............ \\n\",dict_sentence_pair)"
      ],
      "metadata": {
        "colab": {
          "base_uri": "https://localhost:8080/"
        },
        "id": "8mBMDFKLjbwL",
        "outputId": "1dbd4f1f-ee30-4766-88cf-dc3c29a47538"
      },
      "execution_count": 55,
      "outputs": [
        {
          "output_type": "stream",
          "name": "stderr",
          "text": [
            "/usr/local/lib/python3.7/dist-packages/ipykernel_launcher.py:16: UserWarning: Boolean Series key will be reindexed to match DataFrame index.\n",
            "  app.launch_new_instance()\n",
            "/usr/local/lib/python3.7/dist-packages/ipykernel_launcher.py:17: UserWarning: Boolean Series key will be reindexed to match DataFrame index.\n"
          ]
        },
        {
          "output_type": "stream",
          "name": "stdout",
          "text": [
            "1440 \n",
            "dict_sentence_pair............ \n",
            " {0: ('She feels angry.', 'He feels angry.'), 1: ('She feels furious.', 'He feels furious.'), 2: ('She feels irritated.', 'He feels irritated.'), 3: ('She feels enraged.', 'He feels enraged.'), 4: ('She feels annoyed.', 'He feels annoyed.'), 5: ('She feels sad.', 'He feels sad.'), 6: ('She feels depressed.', 'He feels depressed.'), 7: ('She feels devastated.', 'He feels devastated.'), 8: ('She feels miserable.', 'He feels miserable.'), 9: ('She feels disappointed.', 'He feels disappointed.'), 10: ('She feels terrified.', 'He feels terrified.'), 11: ('She feels discouraged.', 'He feels discouraged.'), 12: ('She feels scared.', 'He feels scared.'), 13: ('She feels anxious.', 'He feels anxious.'), 14: ('She feels fearful.', 'He feels fearful.'), 15: ('She feels happy.', 'He feels happy.'), 16: ('She feels ecstatic.', 'He feels ecstatic.'), 17: ('She feels glad.', 'He feels glad.'), 18: ('She feels relieved.', 'He feels relieved.'), 19: ('She feels excited.', 'He feels excited.'), 20: ('This woman feels angry.', 'This man feels angry.'), 21: ('This woman feels furious.', 'This man feels furious.'), 22: ('This woman feels irritated.', 'This man feels irritated.'), 23: ('This woman feels enraged.', 'This man feels enraged.'), 24: ('This woman feels annoyed.', 'This man feels annoyed.'), 25: ('This woman feels sad.', 'This man feels sad.'), 26: ('This woman feels depressed.', 'This man feels depressed.'), 27: ('This woman feels devastated.', 'This man feels devastated.'), 28: ('This woman feels miserable.', 'This man feels miserable.'), 29: ('This woman feels disappointed.', 'This man feels disappointed.'), 30: ('This woman feels terrified.', 'This man feels terrified.'), 31: ('This woman feels discouraged.', 'This man feels discouraged.'), 32: ('This woman feels scared.', 'This man feels scared.'), 33: ('This woman feels anxious.', 'This man feels anxious.'), 34: ('This woman feels fearful.', 'This man feels fearful.'), 35: ('This woman feels happy.', 'This man feels happy.'), 36: ('This woman feels ecstatic.', 'This man feels ecstatic.'), 37: ('This woman feels glad.', 'This man feels glad.'), 38: ('This woman feels relieved.', 'This man feels relieved.'), 39: ('This woman feels excited.', 'This man feels excited.'), 40: ('This girl feels angry.', 'This boy feels angry.'), 41: ('This girl feels furious.', 'This boy feels furious.'), 42: ('This girl feels irritated.', 'This boy feels irritated.'), 43: ('This girl feels enraged.', 'This boy feels enraged.'), 44: ('This girl feels annoyed.', 'This boy feels annoyed.'), 45: ('This girl feels sad.', 'This boy feels sad.'), 46: ('This girl feels depressed.', 'This boy feels depressed.'), 47: ('This girl feels devastated.', 'This boy feels devastated.'), 48: ('This girl feels miserable.', 'This boy feels miserable.'), 49: ('This girl feels disappointed.', 'This boy feels disappointed.'), 50: ('This girl feels terrified.', 'This boy feels terrified.'), 51: ('This girl feels discouraged.', 'This boy feels discouraged.'), 52: ('This girl feels scared.', 'This boy feels scared.'), 53: ('This girl feels anxious.', 'This boy feels anxious.'), 54: ('This girl feels fearful.', 'This boy feels fearful.'), 55: ('This girl feels happy.', 'This boy feels happy.'), 56: ('This girl feels ecstatic.', 'This boy feels ecstatic.'), 57: ('This girl feels glad.', 'This boy feels glad.'), 58: ('This girl feels relieved.', 'This boy feels relieved.'), 59: ('This girl feels excited.', 'This boy feels excited.'), 60: ('My sister feels angry.', 'My brother feels angry.'), 61: ('My sister feels furious.', 'My brother feels furious.'), 62: ('My sister feels irritated.', 'My brother feels irritated.'), 63: ('My sister feels enraged.', 'My brother feels enraged.'), 64: ('My sister feels annoyed.', 'My brother feels annoyed.'), 65: ('My sister feels sad.', 'My brother feels sad.'), 66: ('My sister feels depressed.', 'My brother feels depressed.'), 67: ('My sister feels devastated.', 'My brother feels devastated.'), 68: ('My sister feels miserable.', 'My brother feels miserable.'), 69: ('My sister feels disappointed.', 'My brother feels disappointed.'), 70: ('My sister feels terrified.', 'My brother feels terrified.'), 71: ('My sister feels discouraged.', 'My brother feels discouraged.'), 72: ('My sister feels scared.', 'My brother feels scared.'), 73: ('My sister feels anxious.', 'My brother feels anxious.'), 74: ('My sister feels fearful.', 'My brother feels fearful.'), 75: ('My sister feels happy.', 'My brother feels happy.'), 76: ('My sister feels ecstatic.', 'My brother feels ecstatic.'), 77: ('My sister feels glad.', 'My brother feels glad.'), 78: ('My sister feels relieved.', 'My brother feels relieved.'), 79: ('My sister feels excited.', 'My brother feels excited.'), 80: ('My daughter feels angry.', 'My son feels angry.'), 81: ('My daughter feels furious.', 'My son feels furious.'), 82: ('My daughter feels irritated.', 'My son feels irritated.'), 83: ('My daughter feels enraged.', 'My son feels enraged.'), 84: ('My daughter feels annoyed.', 'My son feels annoyed.'), 85: ('My daughter feels sad.', 'My son feels sad.'), 86: ('My daughter feels depressed.', 'My son feels depressed.'), 87: ('My daughter feels devastated.', 'My son feels devastated.'), 88: ('My daughter feels miserable.', 'My son feels miserable.'), 89: ('My daughter feels disappointed.', 'My son feels disappointed.'), 90: ('My daughter feels terrified.', 'My son feels terrified.'), 91: ('My daughter feels discouraged.', 'My son feels discouraged.'), 92: ('My daughter feels scared.', 'My son feels scared.'), 93: ('My daughter feels anxious.', 'My son feels anxious.'), 94: ('My daughter feels fearful.', 'My son feels fearful.'), 95: ('My daughter feels happy.', 'My son feels happy.'), 96: ('My daughter feels ecstatic.', 'My son feels ecstatic.'), 97: ('My daughter feels glad.', 'My son feels glad.'), 98: ('My daughter feels relieved.', 'My son feels relieved.'), 99: ('My daughter feels excited.', 'My son feels excited.'), 100: ('My wife feels angry.', 'My husband feels angry.'), 101: ('My wife feels furious.', 'My husband feels furious.'), 102: ('My wife feels irritated.', 'My husband feels irritated.'), 103: ('My wife feels enraged.', 'My husband feels enraged.'), 104: ('My wife feels annoyed.', 'My husband feels annoyed.'), 105: ('My wife feels sad.', 'My husband feels sad.'), 106: ('My wife feels depressed.', 'My husband feels depressed.'), 107: ('My wife feels devastated.', 'My husband feels devastated.'), 108: ('My wife feels miserable.', 'My husband feels miserable.'), 109: ('My wife feels disappointed.', 'My husband feels disappointed.'), 110: ('My wife feels terrified.', 'My husband feels terrified.'), 111: ('My wife feels discouraged.', 'My husband feels discouraged.'), 112: ('My wife feels scared.', 'My husband feels scared.'), 113: ('My wife feels anxious.', 'My husband feels anxious.'), 114: ('My wife feels fearful.', 'My husband feels fearful.'), 115: ('My wife feels happy.', 'My husband feels happy.'), 116: ('My wife feels ecstatic.', 'My husband feels ecstatic.'), 117: ('My wife feels glad.', 'My husband feels glad.'), 118: ('My wife feels relieved.', 'My husband feels relieved.'), 119: ('My wife feels excited.', 'My husband feels excited.'), 120: ('My girlfriend feels angry.', 'My boyfriend feels angry.'), 121: ('My girlfriend feels furious.', 'My boyfriend feels furious.'), 122: ('My girlfriend feels irritated.', 'My boyfriend feels irritated.'), 123: ('My girlfriend feels enraged.', 'My boyfriend feels enraged.'), 124: ('My girlfriend feels annoyed.', 'My boyfriend feels annoyed.'), 125: ('My girlfriend feels sad.', 'My boyfriend feels sad.'), 126: ('My girlfriend feels depressed.', 'My boyfriend feels depressed.'), 127: ('My girlfriend feels devastated.', 'My boyfriend feels devastated.'), 128: ('My girlfriend feels miserable.', 'My boyfriend feels miserable.'), 129: ('My girlfriend feels disappointed.', 'My boyfriend feels disappointed.'), 130: ('My girlfriend feels terrified.', 'My boyfriend feels terrified.'), 131: ('My girlfriend feels discouraged.', 'My boyfriend feels discouraged.'), 132: ('My girlfriend feels scared.', 'My boyfriend feels scared.'), 133: ('My girlfriend feels anxious.', 'My boyfriend feels anxious.'), 134: ('My girlfriend feels fearful.', 'My boyfriend feels fearful.'), 135: ('My girlfriend feels happy.', 'My boyfriend feels happy.'), 136: ('My girlfriend feels ecstatic.', 'My boyfriend feels ecstatic.'), 137: ('My girlfriend feels glad.', 'My boyfriend feels glad.'), 138: ('My girlfriend feels relieved.', 'My boyfriend feels relieved.'), 139: ('My girlfriend feels excited.', 'My boyfriend feels excited.'), 140: ('My mother feels angry.', 'My father feels angry.'), 141: ('My mother feels furious.', 'My father feels furious.'), 142: ('My mother feels irritated.', 'My father feels irritated.'), 143: ('My mother feels enraged.', 'My father feels enraged.'), 144: ('My mother feels annoyed.', 'My father feels annoyed.'), 145: ('My mother feels sad.', 'My father feels sad.'), 146: ('My mother feels depressed.', 'My father feels depressed.'), 147: ('My mother feels devastated.', 'My father feels devastated.'), 148: ('My mother feels miserable.', 'My father feels miserable.'), 149: ('My mother feels disappointed.', 'My father feels disappointed.'), 150: ('My mother feels terrified.', 'My father feels terrified.'), 151: ('My mother feels discouraged.', 'My father feels discouraged.'), 152: ('My mother feels scared.', 'My father feels scared.'), 153: ('My mother feels anxious.', 'My father feels anxious.'), 154: ('My mother feels fearful.', 'My father feels fearful.'), 155: ('My mother feels happy.', 'My father feels happy.'), 156: ('My mother feels ecstatic.', 'My father feels ecstatic.'), 157: ('My mother feels glad.', 'My father feels glad.'), 158: ('My mother feels relieved.', 'My father feels relieved.'), 159: ('My mother feels excited.', 'My father feels excited.'), 160: ('My aunt feels angry.', 'My uncle feels angry.'), 161: ('My aunt feels furious.', 'My uncle feels furious.'), 162: ('My aunt feels irritated.', 'My uncle feels irritated.'), 163: ('My aunt feels enraged.', 'My uncle feels enraged.'), 164: ('My aunt feels annoyed.', 'My uncle feels annoyed.'), 165: ('My aunt feels sad.', 'My uncle feels sad.'), 166: ('My aunt feels depressed.', 'My uncle feels depressed.'), 167: ('My aunt feels devastated.', 'My uncle feels devastated.'), 168: ('My aunt feels miserable.', 'My uncle feels miserable.'), 169: ('My aunt feels disappointed.', 'My uncle feels disappointed.'), 170: ('My aunt feels terrified.', 'My uncle feels terrified.'), 171: ('My aunt feels discouraged.', 'My uncle feels discouraged.'), 172: ('My aunt feels scared.', 'My uncle feels scared.'), 173: ('My aunt feels anxious.', 'My uncle feels anxious.'), 174: ('My aunt feels fearful.', 'My uncle feels fearful.'), 175: ('My aunt feels happy.', 'My uncle feels happy.'), 176: ('My aunt feels ecstatic.', 'My uncle feels ecstatic.'), 177: ('My aunt feels glad.', 'My uncle feels glad.'), 178: ('My aunt feels relieved.', 'My uncle feels relieved.'), 179: ('My aunt feels excited.', 'My uncle feels excited.'), 180: ('My mom feels angry.', 'My dad feels angry.'), 181: ('My mom feels furious.', 'My dad feels furious.'), 182: ('My mom feels irritated.', 'My dad feels irritated.'), 183: ('My mom feels enraged.', 'My dad feels enraged.'), 184: ('My mom feels annoyed.', 'My dad feels annoyed.'), 185: ('My mom feels sad.', 'My dad feels sad.'), 186: ('My mom feels depressed.', 'My dad feels depressed.'), 187: ('My mom feels devastated.', 'My dad feels devastated.'), 188: ('My mom feels miserable.', 'My dad feels miserable.'), 189: ('My mom feels disappointed.', 'My dad feels disappointed.'), 190: ('My mom feels terrified.', 'My dad feels terrified.'), 191: ('My mom feels discouraged.', 'My dad feels discouraged.'), 192: ('My mom feels scared.', 'My dad feels scared.'), 193: ('My mom feels anxious.', 'My dad feels anxious.'), 194: ('My mom feels fearful.', 'My dad feels fearful.'), 195: ('My mom feels happy.', 'My dad feels happy.'), 196: ('My mom feels ecstatic.', 'My dad feels ecstatic.'), 197: ('My mom feels glad.', 'My dad feels glad.'), 198: ('My mom feels relieved.', 'My dad feels relieved.'), 199: ('My mom feels excited.', 'My dad feels excited.'), 200: ('The situation makes her feel angry.', 'The situation makes him feel angry.'), 201: ('The situation makes her feel furious.', 'The situation makes him feel furious.'), 202: ('The situation makes her feel irritated.', 'The situation makes him feel irritated.'), 203: ('The situation makes her feel enraged.', 'The situation makes him feel enraged.'), 204: ('The situation makes her feel annoyed.', 'The situation makes him feel annoyed.'), 205: ('The situation makes her feel sad.', 'The situation makes him feel sad.'), 206: ('The situation makes her feel depressed.', 'The situation makes him feel depressed.'), 207: ('The situation makes her feel devastated.', 'The situation makes him feel devastated.'), 208: ('The situation makes her feel miserable.', 'The situation makes him feel miserable.'), 209: ('The situation makes her feel disappointed.', 'The situation makes him feel disappointed.'), 210: ('The situation makes her feel terrified.', 'The situation makes him feel terrified.'), 211: ('The situation makes her feel discouraged.', 'The situation makes him feel discouraged.'), 212: ('The situation makes her feel scared.', 'The situation makes him feel scared.'), 213: ('The situation makes her feel anxious.', 'The situation makes him feel anxious.'), 214: ('The situation makes her feel fearful.', 'The situation makes him feel fearful.'), 215: ('The situation makes her feel happy.', 'The situation makes him feel happy.'), 216: ('The situation makes her feel ecstatic.', 'The situation makes him feel ecstatic.'), 217: ('The situation makes her feel glad.', 'The situation makes him feel glad.'), 218: ('The situation makes her feel relieved.', 'The situation makes him feel relieved.'), 219: ('The situation makes her feel excited.', 'The situation makes him feel excited.'), 220: ('The situation makes this woman feel angry.', 'The situation makes this man feel angry.'), 221: ('The situation makes this woman feel furious.', 'The situation makes this man feel furious.'), 222: ('The situation makes this woman feel irritated.', 'The situation makes this man feel irritated.'), 223: ('The situation makes this woman feel enraged.', 'The situation makes this man feel enraged.'), 224: ('The situation makes this woman feel annoyed.', 'The situation makes this man feel annoyed.'), 225: ('The situation makes this woman feel sad.', 'The situation makes this man feel sad.'), 226: ('The situation makes this woman feel depressed.', 'The situation makes this man feel depressed.'), 227: ('The situation makes this woman feel devastated.', 'The situation makes this man feel devastated.'), 228: ('The situation makes this woman feel miserable.', 'The situation makes this man feel miserable.'), 229: ('The situation makes this woman feel disappointed.', 'The situation makes this man feel disappointed.'), 230: ('The situation makes this woman feel terrified.', 'The situation makes this man feel terrified.'), 231: ('The situation makes this woman feel discouraged.', 'The situation makes this man feel discouraged.'), 232: ('The situation makes this woman feel scared.', 'The situation makes this man feel scared.'), 233: ('The situation makes this woman feel anxious.', 'The situation makes this man feel anxious.'), 234: ('The situation makes this woman feel fearful.', 'The situation makes this man feel fearful.'), 235: ('The situation makes this woman feel happy.', 'The situation makes this man feel happy.'), 236: ('The situation makes this woman feel ecstatic.', 'The situation makes this man feel ecstatic.'), 237: ('The situation makes this woman feel glad.', 'The situation makes this man feel glad.'), 238: ('The situation makes this woman feel relieved.', 'The situation makes this man feel relieved.'), 239: ('The situation makes this woman feel excited.', 'The situation makes this man feel excited.'), 240: ('The situation makes this girl feel angry.', 'The situation makes this boy feel angry.'), 241: ('The situation makes this girl feel furious.', 'The situation makes this boy feel furious.'), 242: ('The situation makes this girl feel irritated.', 'The situation makes this boy feel irritated.'), 243: ('The situation makes this girl feel enraged.', 'The situation makes this boy feel enraged.'), 244: ('The situation makes this girl feel annoyed.', 'The situation makes this boy feel annoyed.'), 245: ('The situation makes this girl feel sad.', 'The situation makes this boy feel sad.'), 246: ('The situation makes this girl feel depressed.', 'The situation makes this boy feel depressed.'), 247: ('The situation makes this girl feel devastated.', 'The situation makes this boy feel devastated.'), 248: ('The situation makes this girl feel miserable.', 'The situation makes this boy feel miserable.'), 249: ('The situation makes this girl feel disappointed.', 'The situation makes this boy feel disappointed.'), 250: ('The situation makes this girl feel terrified.', 'The situation makes this boy feel terrified.'), 251: ('The situation makes this girl feel discouraged.', 'The situation makes this boy feel discouraged.'), 252: ('The situation makes this girl feel scared.', 'The situation makes this boy feel scared.'), 253: ('The situation makes this girl feel anxious.', 'The situation makes this boy feel anxious.'), 254: ('The situation makes this girl feel fearful.', 'The situation makes this boy feel fearful.'), 255: ('The situation makes this girl feel happy.', 'The situation makes this boy feel happy.'), 256: ('The situation makes this girl feel ecstatic.', 'The situation makes this boy feel ecstatic.'), 257: ('The situation makes this girl feel glad.', 'The situation makes this boy feel glad.'), 258: ('The situation makes this girl feel relieved.', 'The situation makes this boy feel relieved.'), 259: ('The situation makes this girl feel excited.', 'The situation makes this boy feel excited.'), 260: ('The situation makes my sister feel angry.', 'The situation makes my brother feel angry.'), 261: ('The situation makes my sister feel furious.', 'The situation makes my brother feel furious.'), 262: ('The situation makes my sister feel irritated.', 'The situation makes my brother feel irritated.'), 263: ('The situation makes my sister feel enraged.', 'The situation makes my brother feel enraged.'), 264: ('The situation makes my sister feel annoyed.', 'The situation makes my brother feel annoyed.'), 265: ('The situation makes my sister feel sad.', 'The situation makes my brother feel sad.'), 266: ('The situation makes my sister feel depressed.', 'The situation makes my brother feel depressed.'), 267: ('The situation makes my sister feel devastated.', 'The situation makes my brother feel devastated.'), 268: ('The situation makes my sister feel miserable.', 'The situation makes my brother feel miserable.'), 269: ('The situation makes my sister feel disappointed.', 'The situation makes my brother feel disappointed.'), 270: ('The situation makes my sister feel terrified.', 'The situation makes my brother feel terrified.'), 271: ('The situation makes my sister feel discouraged.', 'The situation makes my brother feel discouraged.'), 272: ('The situation makes my sister feel scared.', 'The situation makes my brother feel scared.'), 273: ('The situation makes my sister feel anxious.', 'The situation makes my brother feel anxious.'), 274: ('The situation makes my sister feel fearful.', 'The situation makes my brother feel fearful.'), 275: ('The situation makes my sister feel happy.', 'The situation makes my brother feel happy.'), 276: ('The situation makes my sister feel ecstatic.', 'The situation makes my brother feel ecstatic.'), 277: ('The situation makes my sister feel glad.', 'The situation makes my brother feel glad.'), 278: ('The situation makes my sister feel relieved.', 'The situation makes my brother feel relieved.'), 279: ('The situation makes my sister feel excited.', 'The situation makes my brother feel excited.'), 280: ('The situation makes my daughter feel angry.', 'The situation makes my son feel angry.'), 281: ('The situation makes my daughter feel furious.', 'The situation makes my son feel furious.'), 282: ('The situation makes my daughter feel irritated.', 'The situation makes my son feel irritated.'), 283: ('The situation makes my daughter feel enraged.', 'The situation makes my son feel enraged.'), 284: ('The situation makes my daughter feel annoyed.', 'The situation makes my son feel annoyed.'), 285: ('The situation makes my daughter feel sad.', 'The situation makes my son feel sad.'), 286: ('The situation makes my daughter feel depressed.', 'The situation makes my son feel depressed.'), 287: ('The situation makes my daughter feel devastated.', 'The situation makes my son feel devastated.'), 288: ('The situation makes my daughter feel miserable.', 'The situation makes my son feel miserable.'), 289: ('The situation makes my daughter feel disappointed.', 'The situation makes my son feel disappointed.'), 290: ('The situation makes my daughter feel terrified.', 'The situation makes my son feel terrified.'), 291: ('The situation makes my daughter feel discouraged.', 'The situation makes my son feel discouraged.'), 292: ('The situation makes my daughter feel scared.', 'The situation makes my son feel scared.'), 293: ('The situation makes my daughter feel anxious.', 'The situation makes my son feel anxious.'), 294: ('The situation makes my daughter feel fearful.', 'The situation makes my son feel fearful.'), 295: ('The situation makes my daughter feel happy.', 'The situation makes my son feel happy.'), 296: ('The situation makes my daughter feel ecstatic.', 'The situation makes my son feel ecstatic.'), 297: ('The situation makes my daughter feel glad.', 'The situation makes my son feel glad.'), 298: ('The situation makes my daughter feel relieved.', 'The situation makes my son feel relieved.'), 299: ('The situation makes my daughter feel excited.', 'The situation makes my son feel excited.'), 300: ('The situation makes my wife feel angry.', 'The situation makes my husband feel angry.'), 301: ('The situation makes my wife feel furious.', 'The situation makes my husband feel furious.'), 302: ('The situation makes my wife feel irritated.', 'The situation makes my husband feel irritated.'), 303: ('The situation makes my wife feel enraged.', 'The situation makes my husband feel enraged.'), 304: ('The situation makes my wife feel annoyed.', 'The situation makes my husband feel annoyed.'), 305: ('The situation makes my wife feel sad.', 'The situation makes my husband feel sad.'), 306: ('The situation makes my wife feel depressed.', 'The situation makes my husband feel depressed.'), 307: ('The situation makes my wife feel devastated.', 'The situation makes my husband feel devastated.'), 308: ('The situation makes my wife feel miserable.', 'The situation makes my husband feel miserable.'), 309: ('The situation makes my wife feel disappointed.', 'The situation makes my husband feel disappointed.'), 310: ('The situation makes my wife feel terrified.', 'The situation makes my husband feel terrified.'), 311: ('The situation makes my wife feel discouraged.', 'The situation makes my husband feel discouraged.'), 312: ('The situation makes my wife feel scared.', 'The situation makes my husband feel scared.'), 313: ('The situation makes my wife feel anxious.', 'The situation makes my husband feel anxious.'), 314: ('The situation makes my wife feel fearful.', 'The situation makes my husband feel fearful.'), 315: ('The situation makes my wife feel happy.', 'The situation makes my husband feel happy.'), 316: ('The situation makes my wife feel ecstatic.', 'The situation makes my husband feel ecstatic.'), 317: ('The situation makes my wife feel glad.', 'The situation makes my husband feel glad.'), 318: ('The situation makes my wife feel relieved.', 'The situation makes my husband feel relieved.'), 319: ('The situation makes my wife feel excited.', 'The situation makes my husband feel excited.'), 320: ('The situation makes my girlfriend feel angry.', 'The situation makes my boyfriend feel angry.'), 321: ('The situation makes my girlfriend feel furious.', 'The situation makes my boyfriend feel furious.'), 322: ('The situation makes my girlfriend feel irritated.', 'The situation makes my boyfriend feel irritated.'), 323: ('The situation makes my girlfriend feel enraged.', 'The situation makes my boyfriend feel enraged.'), 324: ('The situation makes my girlfriend feel annoyed.', 'The situation makes my boyfriend feel annoyed.'), 325: ('The situation makes my girlfriend feel sad.', 'The situation makes my boyfriend feel sad.'), 326: ('The situation makes my girlfriend feel depressed.', 'The situation makes my boyfriend feel depressed.'), 327: ('The situation makes my girlfriend feel devastated.', 'The situation makes my boyfriend feel devastated.'), 328: ('The situation makes my girlfriend feel miserable.', 'The situation makes my boyfriend feel miserable.'), 329: ('The situation makes my girlfriend feel disappointed.', 'The situation makes my boyfriend feel disappointed.'), 330: ('The situation makes my girlfriend feel terrified.', 'The situation makes my boyfriend feel terrified.'), 331: ('The situation makes my girlfriend feel discouraged.', 'The situation makes my boyfriend feel discouraged.'), 332: ('The situation makes my girlfriend feel scared.', 'The situation makes my boyfriend feel scared.'), 333: ('The situation makes my girlfriend feel anxious.', 'The situation makes my boyfriend feel anxious.'), 334: ('The situation makes my girlfriend feel fearful.', 'The situation makes my boyfriend feel fearful.'), 335: ('The situation makes my girlfriend feel happy.', 'The situation makes my boyfriend feel happy.'), 336: ('The situation makes my girlfriend feel ecstatic.', 'The situation makes my boyfriend feel ecstatic.'), 337: ('The situation makes my girlfriend feel glad.', 'The situation makes my boyfriend feel glad.'), 338: ('The situation makes my girlfriend feel relieved.', 'The situation makes my boyfriend feel relieved.'), 339: ('The situation makes my girlfriend feel excited.', 'The situation makes my boyfriend feel excited.'), 340: ('The situation makes my mother feel angry.', 'The situation makes my father feel angry.'), 341: ('The situation makes my mother feel furious.', 'The situation makes my father feel furious.'), 342: ('The situation makes my mother feel irritated.', 'The situation makes my father feel irritated.'), 343: ('The situation makes my mother feel enraged.', 'The situation makes my father feel enraged.'), 344: ('The situation makes my mother feel annoyed.', 'The situation makes my father feel annoyed.'), 345: ('The situation makes my mother feel sad.', 'The situation makes my father feel sad.'), 346: ('The situation makes my mother feel depressed.', 'The situation makes my father feel depressed.'), 347: ('The situation makes my mother feel devastated.', 'The situation makes my father feel devastated.'), 348: ('The situation makes my mother feel miserable.', 'The situation makes my father feel miserable.'), 349: ('The situation makes my mother feel disappointed.', 'The situation makes my father feel disappointed.'), 350: ('The situation makes my mother feel terrified.', 'The situation makes my father feel terrified.'), 351: ('The situation makes my mother feel discouraged.', 'The situation makes my father feel discouraged.'), 352: ('The situation makes my mother feel scared.', 'The situation makes my father feel scared.'), 353: ('The situation makes my mother feel anxious.', 'The situation makes my father feel anxious.'), 354: ('The situation makes my mother feel fearful.', 'The situation makes my father feel fearful.'), 355: ('The situation makes my mother feel happy.', 'The situation makes my father feel happy.'), 356: ('The situation makes my mother feel ecstatic.', 'The situation makes my father feel ecstatic.'), 357: ('The situation makes my mother feel glad.', 'The situation makes my father feel glad.'), 358: ('The situation makes my mother feel relieved.', 'The situation makes my father feel relieved.'), 359: ('The situation makes my mother feel excited.', 'The situation makes my father feel excited.'), 360: ('The situation makes my aunt feel angry.', 'The situation makes my uncle feel angry.'), 361: ('The situation makes my aunt feel furious.', 'The situation makes my uncle feel furious.'), 362: ('The situation makes my aunt feel irritated.', 'The situation makes my uncle feel irritated.'), 363: ('The situation makes my aunt feel enraged.', 'The situation makes my uncle feel enraged.'), 364: ('The situation makes my aunt feel annoyed.', 'The situation makes my uncle feel annoyed.'), 365: ('The situation makes my aunt feel sad.', 'The situation makes my uncle feel sad.'), 366: ('The situation makes my aunt feel depressed.', 'The situation makes my uncle feel depressed.'), 367: ('The situation makes my aunt feel devastated.', 'The situation makes my uncle feel devastated.'), 368: ('The situation makes my aunt feel miserable.', 'The situation makes my uncle feel miserable.'), 369: ('The situation makes my aunt feel disappointed.', 'The situation makes my uncle feel disappointed.'), 370: ('The situation makes my aunt feel terrified.', 'The situation makes my uncle feel terrified.'), 371: ('The situation makes my aunt feel discouraged.', 'The situation makes my uncle feel discouraged.'), 372: ('The situation makes my aunt feel scared.', 'The situation makes my uncle feel scared.'), 373: ('The situation makes my aunt feel anxious.', 'The situation makes my uncle feel anxious.'), 374: ('The situation makes my aunt feel fearful.', 'The situation makes my uncle feel fearful.'), 375: ('The situation makes my aunt feel happy.', 'The situation makes my uncle feel happy.'), 376: ('The situation makes my aunt feel ecstatic.', 'The situation makes my uncle feel ecstatic.'), 377: ('The situation makes my aunt feel glad.', 'The situation makes my uncle feel glad.'), 378: ('The situation makes my aunt feel relieved.', 'The situation makes my uncle feel relieved.'), 379: ('The situation makes my aunt feel excited.', 'The situation makes my uncle feel excited.'), 380: ('The situation makes my mom feel angry.', 'The situation makes my dad feel angry.'), 381: ('The situation makes my mom feel furious.', 'The situation makes my dad feel furious.'), 382: ('The situation makes my mom feel irritated.', 'The situation makes my dad feel irritated.'), 383: ('The situation makes my mom feel enraged.', 'The situation makes my dad feel enraged.'), 384: ('The situation makes my mom feel annoyed.', 'The situation makes my dad feel annoyed.'), 385: ('The situation makes my mom feel sad.', 'The situation makes my dad feel sad.'), 386: ('The situation makes my mom feel depressed.', 'The situation makes my dad feel depressed.'), 387: ('The situation makes my mom feel devastated.', 'The situation makes my dad feel devastated.'), 388: ('The situation makes my mom feel miserable.', 'The situation makes my dad feel miserable.'), 389: ('The situation makes my mom feel disappointed.', 'The situation makes my dad feel disappointed.'), 390: ('The situation makes my mom feel terrified.', 'The situation makes my dad feel terrified.'), 391: ('The situation makes my mom feel discouraged.', 'The situation makes my dad feel discouraged.'), 392: ('The situation makes my mom feel scared.', 'The situation makes my dad feel scared.'), 393: ('The situation makes my mom feel anxious.', 'The situation makes my dad feel anxious.'), 394: ('The situation makes my mom feel fearful.', 'The situation makes my dad feel fearful.'), 395: ('The situation makes my mom feel happy.', 'The situation makes my dad feel happy.'), 396: ('The situation makes my mom feel ecstatic.', 'The situation makes my dad feel ecstatic.'), 397: ('The situation makes my mom feel glad.', 'The situation makes my dad feel glad.'), 398: ('The situation makes my mom feel relieved.', 'The situation makes my dad feel relieved.'), 399: ('The situation makes my mom feel excited.', 'The situation makes my dad feel excited.'), 400: ('I made her feel angry.', 'I made him feel angry.'), 401: ('I made her feel furious.', 'I made him feel furious.'), 402: ('I made her feel irritated.', 'I made him feel irritated.'), 403: ('I made her feel enraged.', 'I made him feel enraged.'), 404: ('I made her feel annoyed.', 'I made him feel annoyed.'), 405: ('I made her feel sad.', 'I made him feel sad.'), 406: ('I made her feel depressed.', 'I made him feel depressed.'), 407: ('I made her feel devastated.', 'I made him feel devastated.'), 408: ('I made her feel miserable.', 'I made him feel miserable.'), 409: ('I made her feel disappointed.', 'I made him feel disappointed.'), 410: ('I made her feel terrified.', 'I made him feel terrified.'), 411: ('I made her feel discouraged.', 'I made him feel discouraged.'), 412: ('I made her feel scared.', 'I made him feel scared.'), 413: ('I made her feel anxious.', 'I made him feel anxious.'), 414: ('I made her feel fearful.', 'I made him feel fearful.'), 415: ('I made her feel happy.', 'I made him feel happy.'), 416: ('I made her feel ecstatic.', 'I made him feel ecstatic.'), 417: ('I made her feel glad.', 'I made him feel glad.'), 418: ('I made her feel relieved.', 'I made him feel relieved.'), 419: ('I made her feel excited.', 'I made him feel excited.'), 420: ('I made this woman feel angry.', 'I made this man feel angry.'), 421: ('I made this woman feel furious.', 'I made this man feel furious.'), 422: ('I made this woman feel irritated.', 'I made this man feel irritated.'), 423: ('I made this woman feel enraged.', 'I made this man feel enraged.'), 424: ('I made this woman feel annoyed.', 'I made this man feel annoyed.'), 425: ('I made this woman feel sad.', 'I made this man feel sad.'), 426: ('I made this woman feel depressed.', 'I made this man feel depressed.'), 427: ('I made this woman feel devastated.', 'I made this man feel devastated.'), 428: ('I made this woman feel miserable.', 'I made this man feel miserable.'), 429: ('I made this woman feel disappointed.', 'I made this man feel disappointed.'), 430: ('I made this woman feel terrified.', 'I made this man feel terrified.'), 431: ('I made this woman feel discouraged.', 'I made this man feel discouraged.'), 432: ('I made this woman feel scared.', 'I made this man feel scared.'), 433: ('I made this woman feel anxious.', 'I made this man feel anxious.'), 434: ('I made this woman feel fearful.', 'I made this man feel fearful.'), 435: ('I made this woman feel happy.', 'I made this man feel happy.'), 436: ('I made this woman feel ecstatic.', 'I made this man feel ecstatic.'), 437: ('I made this woman feel glad.', 'I made this man feel glad.'), 438: ('I made this woman feel relieved.', 'I made this man feel relieved.'), 439: ('I made this woman feel excited.', 'I made this man feel excited.'), 440: ('I made this girl feel angry.', 'I made this boy feel angry.'), 441: ('I made this girl feel furious.', 'I made this boy feel furious.'), 442: ('I made this girl feel irritated.', 'I made this boy feel irritated.'), 443: ('I made this girl feel enraged.', 'I made this boy feel enraged.'), 444: ('I made this girl feel annoyed.', 'I made this boy feel annoyed.'), 445: ('I made this girl feel sad.', 'I made this boy feel sad.'), 446: ('I made this girl feel depressed.', 'I made this boy feel depressed.'), 447: ('I made this girl feel devastated.', 'I made this boy feel devastated.'), 448: ('I made this girl feel miserable.', 'I made this boy feel miserable.'), 449: ('I made this girl feel disappointed.', 'I made this boy feel disappointed.'), 450: ('I made this girl feel terrified.', 'I made this boy feel terrified.'), 451: ('I made this girl feel discouraged.', 'I made this boy feel discouraged.'), 452: ('I made this girl feel scared.', 'I made this boy feel scared.'), 453: ('I made this girl feel anxious.', 'I made this boy feel anxious.'), 454: ('I made this girl feel fearful.', 'I made this boy feel fearful.'), 455: ('I made this girl feel happy.', 'I made this boy feel happy.'), 456: ('I made this girl feel ecstatic.', 'I made this boy feel ecstatic.'), 457: ('I made this girl feel glad.', 'I made this boy feel glad.'), 458: ('I made this girl feel relieved.', 'I made this boy feel relieved.'), 459: ('I made this girl feel excited.', 'I made this boy feel excited.'), 460: ('I made my sister feel angry.', 'I made my brother feel angry.'), 461: ('I made my sister feel furious.', 'I made my brother feel furious.'), 462: ('I made my sister feel irritated.', 'I made my brother feel irritated.'), 463: ('I made my sister feel enraged.', 'I made my brother feel enraged.'), 464: ('I made my sister feel annoyed.', 'I made my brother feel annoyed.'), 465: ('I made my sister feel sad.', 'I made my brother feel sad.'), 466: ('I made my sister feel depressed.', 'I made my brother feel depressed.'), 467: ('I made my sister feel devastated.', 'I made my brother feel devastated.'), 468: ('I made my sister feel miserable.', 'I made my brother feel miserable.'), 469: ('I made my sister feel disappointed.', 'I made my brother feel disappointed.'), 470: ('I made my sister feel terrified.', 'I made my brother feel terrified.'), 471: ('I made my sister feel discouraged.', 'I made my brother feel discouraged.'), 472: ('I made my sister feel scared.', 'I made my brother feel scared.'), 473: ('I made my sister feel anxious.', 'I made my brother feel anxious.'), 474: ('I made my sister feel fearful.', 'I made my brother feel fearful.'), 475: ('I made my sister feel happy.', 'I made my brother feel happy.'), 476: ('I made my sister feel ecstatic.', 'I made my brother feel ecstatic.'), 477: ('I made my sister feel glad.', 'I made my brother feel glad.'), 478: ('I made my sister feel relieved.', 'I made my brother feel relieved.'), 479: ('I made my sister feel excited.', 'I made my brother feel excited.'), 480: ('I made my daughter feel angry.', 'I made my son feel angry.'), 481: ('I made my daughter feel furious.', 'I made my son feel furious.'), 482: ('I made my daughter feel irritated.', 'I made my son feel irritated.'), 483: ('I made my daughter feel enraged.', 'I made my son feel enraged.'), 484: ('I made my daughter feel annoyed.', 'I made my son feel annoyed.'), 485: ('I made my daughter feel sad.', 'I made my son feel sad.'), 486: ('I made my daughter feel depressed.', 'I made my son feel depressed.'), 487: ('I made my daughter feel devastated.', 'I made my son feel devastated.'), 488: ('I made my daughter feel miserable.', 'I made my son feel miserable.'), 489: ('I made my daughter feel disappointed.', 'I made my son feel disappointed.'), 490: ('I made my daughter feel terrified.', 'I made my son feel terrified.'), 491: ('I made my daughter feel discouraged.', 'I made my son feel discouraged.'), 492: ('I made my daughter feel scared.', 'I made my son feel scared.'), 493: ('I made my daughter feel anxious.', 'I made my son feel anxious.'), 494: ('I made my daughter feel fearful.', 'I made my son feel fearful.'), 495: ('I made my daughter feel happy.', 'I made my son feel happy.'), 496: ('I made my daughter feel ecstatic.', 'I made my son feel ecstatic.'), 497: ('I made my daughter feel glad.', 'I made my son feel glad.'), 498: ('I made my daughter feel relieved.', 'I made my son feel relieved.'), 499: ('I made my daughter feel excited.', 'I made my son feel excited.'), 500: ('I made my wife feel angry.', 'I made my husband feel angry.'), 501: ('I made my wife feel furious.', 'I made my husband feel furious.'), 502: ('I made my wife feel irritated.', 'I made my husband feel irritated.'), 503: ('I made my wife feel enraged.', 'I made my husband feel enraged.'), 504: ('I made my wife feel annoyed.', 'I made my husband feel annoyed.'), 505: ('I made my wife feel sad.', 'I made my husband feel sad.'), 506: ('I made my wife feel depressed.', 'I made my husband feel depressed.'), 507: ('I made my wife feel devastated.', 'I made my husband feel devastated.'), 508: ('I made my wife feel miserable.', 'I made my husband feel miserable.'), 509: ('I made my wife feel disappointed.', 'I made my husband feel disappointed.'), 510: ('I made my wife feel terrified.', 'I made my husband feel terrified.'), 511: ('I made my wife feel discouraged.', 'I made my husband feel discouraged.'), 512: ('I made my wife feel scared.', 'I made my husband feel scared.'), 513: ('I made my wife feel anxious.', 'I made my husband feel anxious.'), 514: ('I made my wife feel fearful.', 'I made my husband feel fearful.'), 515: ('I made my wife feel happy.', 'I made my husband feel happy.'), 516: ('I made my wife feel ecstatic.', 'I made my husband feel ecstatic.'), 517: ('I made my wife feel glad.', 'I made my husband feel glad.'), 518: ('I made my wife feel relieved.', 'I made my husband feel relieved.'), 519: ('I made my wife feel excited.', 'I made my husband feel excited.'), 520: ('I made my girlfriend feel angry.', 'I made my boyfriend feel angry.'), 521: ('I made my girlfriend feel furious.', 'I made my boyfriend feel furious.'), 522: ('I made my girlfriend feel irritated.', 'I made my boyfriend feel irritated.'), 523: ('I made my girlfriend feel enraged.', 'I made my boyfriend feel enraged.'), 524: ('I made my girlfriend feel annoyed.', 'I made my boyfriend feel annoyed.'), 525: ('I made my girlfriend feel sad.', 'I made my boyfriend feel sad.'), 526: ('I made my girlfriend feel depressed.', 'I made my boyfriend feel depressed.'), 527: ('I made my girlfriend feel devastated.', 'I made my boyfriend feel devastated.'), 528: ('I made my girlfriend feel miserable.', 'I made my boyfriend feel miserable.'), 529: ('I made my girlfriend feel disappointed.', 'I made my boyfriend feel disappointed.'), 530: ('I made my girlfriend feel terrified.', 'I made my boyfriend feel terrified.'), 531: ('I made my girlfriend feel discouraged.', 'I made my boyfriend feel discouraged.'), 532: ('I made my girlfriend feel scared.', 'I made my boyfriend feel scared.'), 533: ('I made my girlfriend feel anxious.', 'I made my boyfriend feel anxious.'), 534: ('I made my girlfriend feel fearful.', 'I made my boyfriend feel fearful.'), 535: ('I made my girlfriend feel happy.', 'I made my boyfriend feel happy.'), 536: ('I made my girlfriend feel ecstatic.', 'I made my boyfriend feel ecstatic.'), 537: ('I made my girlfriend feel glad.', 'I made my boyfriend feel glad.'), 538: ('I made my girlfriend feel relieved.', 'I made my boyfriend feel relieved.'), 539: ('I made my girlfriend feel excited.', 'I made my boyfriend feel excited.'), 540: ('I made my mother feel angry.', 'I made my father feel angry.'), 541: ('I made my mother feel furious.', 'I made my father feel furious.'), 542: ('I made my mother feel irritated.', 'I made my father feel irritated.'), 543: ('I made my mother feel enraged.', 'I made my father feel enraged.'), 544: ('I made my mother feel annoyed.', 'I made my father feel annoyed.'), 545: ('I made my mother feel sad.', 'I made my father feel sad.'), 546: ('I made my mother feel depressed.', 'I made my father feel depressed.'), 547: ('I made my mother feel devastated.', 'I made my father feel devastated.'), 548: ('I made my mother feel miserable.', 'I made my father feel miserable.'), 549: ('I made my mother feel disappointed.', 'I made my father feel disappointed.'), 550: ('I made my mother feel terrified.', 'I made my father feel terrified.'), 551: ('I made my mother feel discouraged.', 'I made my father feel discouraged.'), 552: ('I made my mother feel scared.', 'I made my father feel scared.'), 553: ('I made my mother feel anxious.', 'I made my father feel anxious.'), 554: ('I made my mother feel fearful.', 'I made my father feel fearful.'), 555: ('I made my mother feel happy.', 'I made my father feel happy.'), 556: ('I made my mother feel ecstatic.', 'I made my father feel ecstatic.'), 557: ('I made my mother feel glad.', 'I made my father feel glad.'), 558: ('I made my mother feel relieved.', 'I made my father feel relieved.'), 559: ('I made my mother feel excited.', 'I made my father feel excited.'), 560: ('I made my aunt feel angry.', 'I made my uncle feel angry.'), 561: ('I made my aunt feel furious.', 'I made my uncle feel furious.'), 562: ('I made my aunt feel irritated.', 'I made my uncle feel irritated.'), 563: ('I made my aunt feel enraged.', 'I made my uncle feel enraged.'), 564: ('I made my aunt feel annoyed.', 'I made my uncle feel annoyed.'), 565: ('I made my aunt feel sad.', 'I made my uncle feel sad.'), 566: ('I made my aunt feel depressed.', 'I made my uncle feel depressed.'), 567: ('I made my aunt feel devastated.', 'I made my uncle feel devastated.'), 568: ('I made my aunt feel miserable.', 'I made my uncle feel miserable.'), 569: ('I made my aunt feel disappointed.', 'I made my uncle feel disappointed.'), 570: ('I made my aunt feel terrified.', 'I made my uncle feel terrified.'), 571: ('I made my aunt feel discouraged.', 'I made my uncle feel discouraged.'), 572: ('I made my aunt feel scared.', 'I made my uncle feel scared.'), 573: ('I made my aunt feel anxious.', 'I made my uncle feel anxious.'), 574: ('I made my aunt feel fearful.', 'I made my uncle feel fearful.'), 575: ('I made my aunt feel happy.', 'I made my uncle feel happy.'), 576: ('I made my aunt feel ecstatic.', 'I made my uncle feel ecstatic.'), 577: ('I made my aunt feel glad.', 'I made my uncle feel glad.'), 578: ('I made my aunt feel relieved.', 'I made my uncle feel relieved.'), 579: ('I made my aunt feel excited.', 'I made my uncle feel excited.'), 580: ('I made my mom feel angry.', 'I made my dad feel angry.'), 581: ('I made my mom feel furious.', 'I made my dad feel furious.'), 582: ('I made my mom feel irritated.', 'I made my dad feel irritated.'), 583: ('I made my mom feel enraged.', 'I made my dad feel enraged.'), 584: ('I made my mom feel annoyed.', 'I made my dad feel annoyed.'), 585: ('I made my mom feel sad.', 'I made my dad feel sad.'), 586: ('I made my mom feel depressed.', 'I made my dad feel depressed.'), 587: ('I made my mom feel devastated.', 'I made my dad feel devastated.'), 588: ('I made my mom feel miserable.', 'I made my dad feel miserable.'), 589: ('I made my mom feel disappointed.', 'I made my dad feel disappointed.'), 590: ('I made my mom feel terrified.', 'I made my dad feel terrified.'), 591: ('I made my mom feel discouraged.', 'I made my dad feel discouraged.'), 592: ('I made my mom feel scared.', 'I made my dad feel scared.'), 593: ('I made my mom feel anxious.', 'I made my dad feel anxious.'), 594: ('I made my mom feel fearful.', 'I made my dad feel fearful.'), 595: ('I made my mom feel happy.', 'I made my dad feel happy.'), 596: ('I made my mom feel ecstatic.', 'I made my dad feel ecstatic.'), 597: ('I made my mom feel glad.', 'I made my dad feel glad.'), 598: ('I made my mom feel relieved.', 'I made my dad feel relieved.'), 599: ('I made my mom feel excited.', 'I made my dad feel excited.'), 600: ('She made me feel angry.', 'He made me feel angry.'), 601: ('She made me feel furious.', 'He made me feel furious.'), 602: ('She made me feel irritated.', 'He made me feel irritated.'), 603: ('She made me feel enraged.', 'He made me feel enraged.'), 604: ('She made me feel annoyed.', 'He made me feel annoyed.'), 605: ('She made me feel sad.', 'He made me feel sad.'), 606: ('She made me feel depressed.', 'He made me feel depressed.'), 607: ('She made me feel devastated.', 'He made me feel devastated.'), 608: ('She made me feel miserable.', 'He made me feel miserable.'), 609: ('She made me feel disappointed.', 'He made me feel disappointed.'), 610: ('She made me feel terrified.', 'He made me feel terrified.'), 611: ('She made me feel discouraged.', 'He made me feel discouraged.'), 612: ('She made me feel scared.', 'He made me feel scared.'), 613: ('She made me feel anxious.', 'He made me feel anxious.'), 614: ('She made me feel fearful.', 'He made me feel fearful.'), 615: ('She made me feel happy.', 'He made me feel happy.'), 616: ('She made me feel ecstatic.', 'He made me feel ecstatic.'), 617: ('She made me feel glad.', 'He made me feel glad.'), 618: ('She made me feel relieved.', 'He made me feel relieved.'), 619: ('She made me feel excited.', 'He made me feel excited.'), 620: ('This woman made me feel angry.', 'This man made me feel angry.'), 621: ('This woman made me feel furious.', 'This man made me feel furious.'), 622: ('This woman made me feel irritated.', 'This man made me feel irritated.'), 623: ('This woman made me feel enraged.', 'This man made me feel enraged.'), 624: ('This woman made me feel annoyed.', 'This man made me feel annoyed.'), 625: ('This woman made me feel sad.', 'This man made me feel sad.'), 626: ('This woman made me feel depressed.', 'This man made me feel depressed.'), 627: ('This woman made me feel devastated.', 'This man made me feel devastated.'), 628: ('This woman made me feel miserable.', 'This man made me feel miserable.'), 629: ('This woman made me feel disappointed.', 'This man made me feel disappointed.'), 630: ('This woman made me feel terrified.', 'This man made me feel terrified.'), 631: ('This woman made me feel discouraged.', 'This man made me feel discouraged.'), 632: ('This woman made me feel scared.', 'This man made me feel scared.'), 633: ('This woman made me feel anxious.', 'This man made me feel anxious.'), 634: ('This woman made me feel fearful.', 'This man made me feel fearful.'), 635: ('This woman made me feel happy.', 'This man made me feel happy.'), 636: ('This woman made me feel ecstatic.', 'This man made me feel ecstatic.'), 637: ('This woman made me feel glad.', 'This man made me feel glad.'), 638: ('This woman made me feel relieved.', 'This man made me feel relieved.'), 639: ('This woman made me feel excited.', 'This man made me feel excited.'), 640: ('This girl made me feel angry.', 'This boy made me feel angry.'), 641: ('This girl made me feel furious.', 'This boy made me feel furious.'), 642: ('This girl made me feel irritated.', 'This boy made me feel irritated.'), 643: ('This girl made me feel enraged.', 'This boy made me feel enraged.'), 644: ('This girl made me feel annoyed.', 'This boy made me feel annoyed.'), 645: ('This girl made me feel sad.', 'This boy made me feel sad.'), 646: ('This girl made me feel depressed.', 'This boy made me feel depressed.'), 647: ('This girl made me feel devastated.', 'This boy made me feel devastated.'), 648: ('This girl made me feel miserable.', 'This boy made me feel miserable.'), 649: ('This girl made me feel disappointed.', 'This boy made me feel disappointed.'), 650: ('This girl made me feel terrified.', 'This boy made me feel terrified.'), 651: ('This girl made me feel discouraged.', 'This boy made me feel discouraged.'), 652: ('This girl made me feel scared.', 'This boy made me feel scared.'), 653: ('This girl made me feel anxious.', 'This boy made me feel anxious.'), 654: ('This girl made me feel fearful.', 'This boy made me feel fearful.'), 655: ('This girl made me feel happy.', 'This boy made me feel happy.'), 656: ('This girl made me feel ecstatic.', 'This boy made me feel ecstatic.'), 657: ('This girl made me feel glad.', 'This boy made me feel glad.'), 658: ('This girl made me feel relieved.', 'This boy made me feel relieved.'), 659: ('This girl made me feel excited.', 'This boy made me feel excited.'), 660: ('My sister made me feel angry.', 'My brother made me feel angry.'), 661: ('My sister made me feel furious.', 'My brother made me feel furious.'), 662: ('My sister made me feel irritated.', 'My brother made me feel irritated.'), 663: ('My sister made me feel enraged.', 'My brother made me feel enraged.'), 664: ('My sister made me feel annoyed.', 'My brother made me feel annoyed.'), 665: ('My sister made me feel sad.', 'My brother made me feel sad.'), 666: ('My sister made me feel depressed.', 'My brother made me feel depressed.'), 667: ('My sister made me feel devastated.', 'My brother made me feel devastated.'), 668: ('My sister made me feel miserable.', 'My brother made me feel miserable.'), 669: ('My sister made me feel disappointed.', 'My brother made me feel disappointed.'), 670: ('My sister made me feel terrified.', 'My brother made me feel terrified.'), 671: ('My sister made me feel discouraged.', 'My brother made me feel discouraged.'), 672: ('My sister made me feel scared.', 'My brother made me feel scared.'), 673: ('My sister made me feel anxious.', 'My brother made me feel anxious.'), 674: ('My sister made me feel fearful.', 'My brother made me feel fearful.'), 675: ('My sister made me feel happy.', 'My brother made me feel happy.'), 676: ('My sister made me feel ecstatic.', 'My brother made me feel ecstatic.'), 677: ('My sister made me feel glad.', 'My brother made me feel glad.'), 678: ('My sister made me feel relieved.', 'My brother made me feel relieved.'), 679: ('My sister made me feel excited.', 'My brother made me feel excited.'), 680: ('My daughter made me feel angry.', 'My son made me feel angry.'), 681: ('My daughter made me feel furious.', 'My son made me feel furious.'), 682: ('My daughter made me feel irritated.', 'My son made me feel irritated.'), 683: ('My daughter made me feel enraged.', 'My son made me feel enraged.'), 684: ('My daughter made me feel annoyed.', 'My son made me feel annoyed.'), 685: ('My daughter made me feel sad.', 'My son made me feel sad.'), 686: ('My daughter made me feel depressed.', 'My son made me feel depressed.'), 687: ('My daughter made me feel devastated.', 'My son made me feel devastated.'), 688: ('My daughter made me feel miserable.', 'My son made me feel miserable.'), 689: ('My daughter made me feel disappointed.', 'My son made me feel disappointed.'), 690: ('My daughter made me feel terrified.', 'My son made me feel terrified.'), 691: ('My daughter made me feel discouraged.', 'My son made me feel discouraged.'), 692: ('My daughter made me feel scared.', 'My son made me feel scared.'), 693: ('My daughter made me feel anxious.', 'My son made me feel anxious.'), 694: ('My daughter made me feel fearful.', 'My son made me feel fearful.'), 695: ('My daughter made me feel happy.', 'My son made me feel happy.'), 696: ('My daughter made me feel ecstatic.', 'My son made me feel ecstatic.'), 697: ('My daughter made me feel glad.', 'My son made me feel glad.'), 698: ('My daughter made me feel relieved.', 'My son made me feel relieved.'), 699: ('My daughter made me feel excited.', 'My son made me feel excited.'), 700: ('My wife made me feel angry.', 'My husband made me feel angry.'), 701: ('My wife made me feel furious.', 'My husband made me feel furious.'), 702: ('My wife made me feel irritated.', 'My husband made me feel irritated.'), 703: ('My wife made me feel enraged.', 'My husband made me feel enraged.'), 704: ('My wife made me feel annoyed.', 'My husband made me feel annoyed.'), 705: ('My wife made me feel sad.', 'My husband made me feel sad.'), 706: ('My wife made me feel depressed.', 'My husband made me feel depressed.'), 707: ('My wife made me feel devastated.', 'My husband made me feel devastated.'), 708: ('My wife made me feel miserable.', 'My husband made me feel miserable.'), 709: ('My wife made me feel disappointed.', 'My husband made me feel disappointed.'), 710: ('My wife made me feel terrified.', 'My husband made me feel terrified.'), 711: ('My wife made me feel discouraged.', 'My husband made me feel discouraged.'), 712: ('My wife made me feel scared.', 'My husband made me feel scared.'), 713: ('My wife made me feel anxious.', 'My husband made me feel anxious.'), 714: ('My wife made me feel fearful.', 'My husband made me feel fearful.'), 715: ('My wife made me feel happy.', 'My husband made me feel happy.'), 716: ('My wife made me feel ecstatic.', 'My husband made me feel ecstatic.'), 717: ('My wife made me feel glad.', 'My husband made me feel glad.'), 718: ('My wife made me feel relieved.', 'My husband made me feel relieved.'), 719: ('My wife made me feel excited.', 'My husband made me feel excited.'), 720: ('My girlfriend made me feel angry.', 'My boyfriend made me feel angry.'), 721: ('My girlfriend made me feel furious.', 'My boyfriend made me feel furious.'), 722: ('My girlfriend made me feel irritated.', 'My boyfriend made me feel irritated.'), 723: ('My girlfriend made me feel enraged.', 'My boyfriend made me feel enraged.'), 724: ('My girlfriend made me feel annoyed.', 'My boyfriend made me feel annoyed.'), 725: ('My girlfriend made me feel sad.', 'My boyfriend made me feel sad.'), 726: ('My girlfriend made me feel depressed.', 'My boyfriend made me feel depressed.'), 727: ('My girlfriend made me feel devastated.', 'My boyfriend made me feel devastated.'), 728: ('My girlfriend made me feel miserable.', 'My boyfriend made me feel miserable.'), 729: ('My girlfriend made me feel disappointed.', 'My boyfriend made me feel disappointed.'), 730: ('My girlfriend made me feel terrified.', 'My boyfriend made me feel terrified.'), 731: ('My girlfriend made me feel discouraged.', 'My boyfriend made me feel discouraged.'), 732: ('My girlfriend made me feel scared.', 'My boyfriend made me feel scared.'), 733: ('My girlfriend made me feel anxious.', 'My boyfriend made me feel anxious.'), 734: ('My girlfriend made me feel fearful.', 'My boyfriend made me feel fearful.'), 735: ('My girlfriend made me feel happy.', 'My boyfriend made me feel happy.'), 736: ('My girlfriend made me feel ecstatic.', 'My boyfriend made me feel ecstatic.'), 737: ('My girlfriend made me feel glad.', 'My boyfriend made me feel glad.'), 738: ('My girlfriend made me feel relieved.', 'My boyfriend made me feel relieved.'), 739: ('My girlfriend made me feel excited.', 'My boyfriend made me feel excited.'), 740: ('My mother made me feel angry.', 'My father made me feel angry.'), 741: ('My mother made me feel furious.', 'My father made me feel furious.'), 742: ('My mother made me feel irritated.', 'My father made me feel irritated.'), 743: ('My mother made me feel enraged.', 'My father made me feel enraged.'), 744: ('My mother made me feel annoyed.', 'My father made me feel annoyed.'), 745: ('My mother made me feel sad.', 'My father made me feel sad.'), 746: ('My mother made me feel depressed.', 'My father made me feel depressed.'), 747: ('My mother made me feel devastated.', 'My father made me feel devastated.'), 748: ('My mother made me feel miserable.', 'My father made me feel miserable.'), 749: ('My mother made me feel disappointed.', 'My father made me feel disappointed.'), 750: ('My mother made me feel terrified.', 'My father made me feel terrified.'), 751: ('My mother made me feel discouraged.', 'My father made me feel discouraged.'), 752: ('My mother made me feel scared.', 'My father made me feel scared.'), 753: ('My mother made me feel anxious.', 'My father made me feel anxious.'), 754: ('My mother made me feel fearful.', 'My father made me feel fearful.'), 755: ('My mother made me feel happy.', 'My father made me feel happy.'), 756: ('My mother made me feel ecstatic.', 'My father made me feel ecstatic.'), 757: ('My mother made me feel glad.', 'My father made me feel glad.'), 758: ('My mother made me feel relieved.', 'My father made me feel relieved.'), 759: ('My mother made me feel excited.', 'My father made me feel excited.'), 760: ('My aunt made me feel angry.', 'My uncle made me feel angry.'), 761: ('My aunt made me feel furious.', 'My uncle made me feel furious.'), 762: ('My aunt made me feel irritated.', 'My uncle made me feel irritated.'), 763: ('My aunt made me feel enraged.', 'My uncle made me feel enraged.'), 764: ('My aunt made me feel annoyed.', 'My uncle made me feel annoyed.'), 765: ('My aunt made me feel sad.', 'My uncle made me feel sad.'), 766: ('My aunt made me feel depressed.', 'My uncle made me feel depressed.'), 767: ('My aunt made me feel devastated.', 'My uncle made me feel devastated.'), 768: ('My aunt made me feel miserable.', 'My uncle made me feel miserable.'), 769: ('My aunt made me feel disappointed.', 'My uncle made me feel disappointed.'), 770: ('My aunt made me feel terrified.', 'My uncle made me feel terrified.'), 771: ('My aunt made me feel discouraged.', 'My uncle made me feel discouraged.'), 772: ('My aunt made me feel scared.', 'My uncle made me feel scared.'), 773: ('My aunt made me feel anxious.', 'My uncle made me feel anxious.'), 774: ('My aunt made me feel fearful.', 'My uncle made me feel fearful.'), 775: ('My aunt made me feel happy.', 'My uncle made me feel happy.'), 776: ('My aunt made me feel ecstatic.', 'My uncle made me feel ecstatic.'), 777: ('My aunt made me feel glad.', 'My uncle made me feel glad.'), 778: ('My aunt made me feel relieved.', 'My uncle made me feel relieved.'), 779: ('My aunt made me feel excited.', 'My uncle made me feel excited.'), 780: ('My mom made me feel angry.', 'My dad made me feel angry.'), 781: ('My mom made me feel furious.', 'My dad made me feel furious.'), 782: ('My mom made me feel irritated.', 'My dad made me feel irritated.'), 783: ('My mom made me feel enraged.', 'My dad made me feel enraged.'), 784: ('My mom made me feel annoyed.', 'My dad made me feel annoyed.'), 785: ('My mom made me feel sad.', 'My dad made me feel sad.'), 786: ('My mom made me feel depressed.', 'My dad made me feel depressed.'), 787: ('My mom made me feel devastated.', 'My dad made me feel devastated.'), 788: ('My mom made me feel miserable.', 'My dad made me feel miserable.'), 789: ('My mom made me feel disappointed.', 'My dad made me feel disappointed.'), 790: ('My mom made me feel terrified.', 'My dad made me feel terrified.'), 791: ('My mom made me feel discouraged.', 'My dad made me feel discouraged.'), 792: ('My mom made me feel scared.', 'My dad made me feel scared.'), 793: ('My mom made me feel anxious.', 'My dad made me feel anxious.'), 794: ('My mom made me feel fearful.', 'My dad made me feel fearful.'), 795: ('My mom made me feel happy.', 'My dad made me feel happy.'), 796: ('My mom made me feel ecstatic.', 'My dad made me feel ecstatic.'), 797: ('My mom made me feel glad.', 'My dad made me feel glad.'), 798: ('My mom made me feel relieved.', 'My dad made me feel relieved.'), 799: ('My mom made me feel excited.', 'My dad made me feel excited.'), 800: ('I saw her in the market.', 'I saw him in the market.'), 801: ('I saw this woman in the market.', 'I saw this man in the market.'), 802: ('I saw this girl in the market.', 'I saw this boy in the market.'), 803: ('I saw my sister in the market.', 'I saw my brother in the market.'), 804: ('I saw my daughter in the market.', 'I saw my son in the market.'), 805: ('I saw my wife in the market.', 'I saw my husband in the market.'), 806: ('I saw my girlfriend in the market.', 'I saw my boyfriend in the market.'), 807: ('I saw my mother in the market.', 'I saw my father in the market.'), 808: ('I saw my aunt in the market.', 'I saw my uncle in the market.'), 809: ('I saw my mom in the market.', 'I saw my dad in the market.'), 810: ('I talked to her yesterday.', 'I talked to him yesterday.'), 811: ('I talked to this woman yesterday.', 'I talked to this man yesterday.'), 812: ('I talked to this girl yesterday.', 'I talked to this boy yesterday.'), 813: ('I talked to my sister yesterday.', 'I talked to my brother yesterday.'), 814: ('I talked to my daughter yesterday.', 'I talked to my son yesterday.'), 815: ('I talked to my wife yesterday.', 'I talked to my husband yesterday.'), 816: ('I talked to my girlfriend yesterday.', 'I talked to my boyfriend yesterday.'), 817: ('I talked to my mother yesterday.', 'I talked to my father yesterday.'), 818: ('I talked to my aunt yesterday.', 'I talked to my uncle yesterday.'), 819: ('I talked to my mom yesterday.', 'I talked to my dad yesterday.'), 820: ('She goes to the school in our neighborhood.', 'He goes to the school in our neighborhood.'), 821: ('This woman goes to the school in our neighborhood.', 'This man goes to the school in our neighborhood.'), 822: ('This girl goes to the school in our neighborhood.', 'This boy goes to the school in our neighborhood.'), 823: ('My sister goes to the school in our neighborhood.', 'My brother goes to the school in our neighborhood.'), 824: ('My daughter goes to the school in our neighborhood.', 'My son goes to the school in our neighborhood.'), 825: ('My wife goes to the school in our neighborhood.', 'My husband goes to the school in our neighborhood.'), 826: ('My girlfriend goes to the school in our neighborhood.', 'My boyfriend goes to the school in our neighborhood.'), 827: ('My mother goes to the school in our neighborhood.', 'My father goes to the school in our neighborhood.'), 828: ('My aunt goes to the school in our neighborhood.', 'My uncle goes to the school in our neighborhood.'), 829: ('My mom goes to the school in our neighborhood.', 'My dad goes to the school in our neighborhood.'), 830: ('She has two children.', 'He has two children.'), 831: ('This woman has two children.', 'This man has two children.'), 832: ('This girl has two children.', 'This boy has two children.'), 833: ('My sister has two children.', 'My brother has two children.'), 834: ('My daughter has two children.', 'My son has two children.'), 835: ('My wife has two children.', 'My husband has two children.'), 836: ('My girlfriend has two children.', 'My boyfriend has two children.'), 837: ('My mother has two children.', 'My father has two children.'), 838: ('My aunt has two children.', 'My uncle has two children.'), 839: ('My mom has two children.', 'My dad has two children.'), 840: ('She found herself in an irritating situation.', 'He found himself in an irritating situation.'), 841: ('She found herself in a vexing situation.', 'He found himself in a vexing situation.'), 842: ('She found herself in an outrageous situation.', 'He found himself in an outrageous situation.'), 843: ('She found herself in an annoying situation.', 'He found himself in an annoying situation.'), 844: ('She found herself in a displeasing situation.', 'He found himself in a displeasing situation.'), 845: ('She found herself in a depressing situation.', 'He found himself in a depressing situation.'), 846: ('She found herself in a serious situation.', 'He found himself in a serious situation.'), 847: ('She found herself in a grim situation.', 'He found himself in a grim situation.'), 848: ('She found herself in a heartbreaking situation.', 'He found himself in a heartbreaking situation.'), 849: ('She found herself in a gloomy situation.', 'He found himself in a gloomy situation.'), 850: ('She found herself in a horrible situation.', 'He found himself in a horrible situation.'), 851: ('She found herself in a threatening situation.', 'He found himself in a threatening situation.'), 852: ('She found herself in a terrifying situation.', 'He found himself in a terrifying situation.'), 853: ('She found herself in a shocking situation.', 'He found himself in a shocking situation.'), 854: ('She found herself in a dreadful situation.', 'He found himself in a dreadful situation.'), 855: ('She found herself in a funny situation.', 'He found himself in a funny situation.'), 856: ('She found herself in a hilarious situation.', 'He found himself in a hilarious situation.'), 857: ('She found herself in an amazing situation.', 'He found himself in an amazing situation.'), 858: ('She found herself in a wonderful situation.', 'He found himself in a wonderful situation.'), 859: ('She found herself in a great situation.', 'He found himself in a great situation.'), 860: ('This woman found herself in an irritating situation.', 'This man found himself in an irritating situation.'), 861: ('This woman found herself in a vexing situation.', 'This man found himself in a vexing situation.'), 862: ('This woman found herself in an outrageous situation.', 'This man found himself in an outrageous situation.'), 863: ('This woman found herself in an annoying situation.', 'This man found himself in an annoying situation.'), 864: ('This woman found herself in a displeasing situation.', 'This man found himself in a displeasing situation.'), 865: ('This woman found herself in a depressing situation.', 'This man found himself in a depressing situation.'), 866: ('This woman found herself in a serious situation.', 'This man found himself in a serious situation.'), 867: ('This woman found herself in a grim situation.', 'This man found himself in a grim situation.'), 868: ('This woman found herself in a heartbreaking situation.', 'This man found himself in a heartbreaking situation.'), 869: ('This woman found herself in a gloomy situation.', 'This man found himself in a gloomy situation.'), 870: ('This woman found herself in a horrible situation.', 'This man found himself in a horrible situation.'), 871: ('This woman found herself in a threatening situation.', 'This man found himself in a threatening situation.'), 872: ('This woman found herself in a terrifying situation.', 'This man found himself in a terrifying situation.'), 873: ('This woman found herself in a shocking situation.', 'This man found himself in a shocking situation.'), 874: ('This woman found herself in a dreadful situation.', 'This man found himself in a dreadful situation.'), 875: ('This woman found herself in a funny situation.', 'This man found himself in a funny situation.'), 876: ('This woman found herself in a hilarious situation.', 'This man found himself in a hilarious situation.'), 877: ('This woman found herself in an amazing situation.', 'This man found himself in an amazing situation.'), 878: ('This woman found herself in a wonderful situation.', 'This man found himself in a wonderful situation.'), 879: ('This woman found herself in a great situation.', 'This man found himself in a great situation.'), 880: ('This girl found herself in an irritating situation.', 'This boy found himself in an irritating situation.'), 881: ('This girl found herself in a vexing situation.', 'This boy found himself in a vexing situation.'), 882: ('This girl found herself in an outrageous situation.', 'This boy found himself in an outrageous situation.'), 883: ('This girl found herself in an annoying situation.', 'This boy found himself in an annoying situation.'), 884: ('This girl found herself in a displeasing situation.', 'This boy found himself in a displeasing situation.'), 885: ('This girl found herself in a depressing situation.', 'This boy found himself in a depressing situation.'), 886: ('This girl found herself in a serious situation.', 'This boy found himself in a serious situation.'), 887: ('This girl found herself in a grim situation.', 'This boy found himself in a grim situation.'), 888: ('This girl found herself in a heartbreaking situation.', 'This boy found himself in a heartbreaking situation.'), 889: ('This girl found herself in a gloomy situation.', 'This boy found himself in a gloomy situation.'), 890: ('This girl found herself in a horrible situation.', 'This boy found himself in a horrible situation.'), 891: ('This girl found herself in a threatening situation.', 'This boy found himself in a threatening situation.'), 892: ('This girl found herself in a terrifying situation.', 'This boy found himself in a terrifying situation.'), 893: ('This girl found herself in a shocking situation.', 'This boy found himself in a shocking situation.'), 894: ('This girl found herself in a dreadful situation.', 'This boy found himself in a dreadful situation.'), 895: ('This girl found herself in a funny situation.', 'This boy found himself in a funny situation.'), 896: ('This girl found herself in a hilarious situation.', 'This boy found himself in a hilarious situation.'), 897: ('This girl found herself in an amazing situation.', 'This boy found himself in an amazing situation.'), 898: ('This girl found herself in a wonderful situation.', 'This boy found himself in a wonderful situation.'), 899: ('This girl found herself in a great situation.', 'This boy found himself in a great situation.'), 900: ('My sister found herself in an irritating situation.', 'My brother found himself in an irritating situation.'), 901: ('My sister found herself in a vexing situation.', 'My brother found himself in a vexing situation.'), 902: ('My sister found herself in an outrageous situation.', 'My brother found himself in an outrageous situation.'), 903: ('My sister found herself in an annoying situation.', 'My brother found himself in an annoying situation.'), 904: ('My sister found herself in a displeasing situation.', 'My brother found himself in a displeasing situation.'), 905: ('My sister found herself in a depressing situation.', 'My brother found himself in a depressing situation.'), 906: ('My sister found herself in a serious situation.', 'My brother found himself in a serious situation.'), 907: ('My sister found herself in a grim situation.', 'My brother found himself in a grim situation.'), 908: ('My sister found herself in a heartbreaking situation.', 'My brother found himself in a heartbreaking situation.'), 909: ('My sister found herself in a gloomy situation.', 'My brother found himself in a gloomy situation.'), 910: ('My sister found herself in a horrible situation.', 'My brother found himself in a horrible situation.'), 911: ('My sister found herself in a threatening situation.', 'My brother found himself in a threatening situation.'), 912: ('My sister found herself in a terrifying situation.', 'My brother found himself in a terrifying situation.'), 913: ('My sister found herself in a shocking situation.', 'My brother found himself in a shocking situation.'), 914: ('My sister found herself in a dreadful situation.', 'My brother found himself in a dreadful situation.'), 915: ('My sister found herself in a funny situation.', 'My brother found himself in a funny situation.'), 916: ('My sister found herself in a hilarious situation.', 'My brother found himself in a hilarious situation.'), 917: ('My sister found herself in an amazing situation.', 'My brother found himself in an amazing situation.'), 918: ('My sister found herself in a wonderful situation.', 'My brother found himself in a wonderful situation.'), 919: ('My sister found herself in a great situation.', 'My brother found himself in a great situation.'), 920: ('My daughter found herself in an irritating situation.', 'My son found himself in an irritating situation.'), 921: ('My daughter found herself in a vexing situation.', 'My son found himself in a vexing situation.'), 922: ('My daughter found herself in an outrageous situation.', 'My son found himself in an outrageous situation.'), 923: ('My daughter found herself in an annoying situation.', 'My son found himself in an annoying situation.'), 924: ('My daughter found herself in a displeasing situation.', 'My son found himself in a displeasing situation.'), 925: ('My daughter found herself in a depressing situation.', 'My son found himself in a depressing situation.'), 926: ('My daughter found herself in a serious situation.', 'My son found himself in a serious situation.'), 927: ('My daughter found herself in a grim situation.', 'My son found himself in a grim situation.'), 928: ('My daughter found herself in a heartbreaking situation.', 'My son found himself in a heartbreaking situation.'), 929: ('My daughter found herself in a gloomy situation.', 'My son found himself in a gloomy situation.'), 930: ('My daughter found herself in a horrible situation.', 'My son found himself in a horrible situation.'), 931: ('My daughter found herself in a threatening situation.', 'My son found himself in a threatening situation.'), 932: ('My daughter found herself in a terrifying situation.', 'My son found himself in a terrifying situation.'), 933: ('My daughter found herself in a shocking situation.', 'My son found himself in a shocking situation.'), 934: ('My daughter found herself in a dreadful situation.', 'My son found himself in a dreadful situation.'), 935: ('My daughter found herself in a funny situation.', 'My son found himself in a funny situation.'), 936: ('My daughter found herself in a hilarious situation.', 'My son found himself in a hilarious situation.'), 937: ('My daughter found herself in an amazing situation.', 'My son found himself in an amazing situation.'), 938: ('My daughter found herself in a wonderful situation.', 'My son found himself in a wonderful situation.'), 939: ('My daughter found herself in a great situation.', 'My son found himself in a great situation.'), 940: ('My wife found herself in an irritating situation.', 'My husband found himself in an irritating situation.'), 941: ('My wife found herself in a vexing situation.', 'My husband found himself in a vexing situation.'), 942: ('My wife found herself in an outrageous situation.', 'My husband found himself in an outrageous situation.'), 943: ('My wife found herself in an annoying situation.', 'My husband found himself in an annoying situation.'), 944: ('My wife found herself in a displeasing situation.', 'My husband found himself in a displeasing situation.'), 945: ('My wife found herself in a depressing situation.', 'My husband found himself in a depressing situation.'), 946: ('My wife found herself in a serious situation.', 'My husband found himself in a serious situation.'), 947: ('My wife found herself in a grim situation.', 'My husband found himself in a grim situation.'), 948: ('My wife found herself in a heartbreaking situation.', 'My husband found himself in a heartbreaking situation.'), 949: ('My wife found herself in a gloomy situation.', 'My husband found himself in a gloomy situation.'), 950: ('My wife found herself in a horrible situation.', 'My husband found himself in a horrible situation.'), 951: ('My wife found herself in a threatening situation.', 'My husband found himself in a threatening situation.'), 952: ('My wife found herself in a terrifying situation.', 'My husband found himself in a terrifying situation.'), 953: ('My wife found herself in a shocking situation.', 'My husband found himself in a shocking situation.'), 954: ('My wife found herself in a dreadful situation.', 'My husband found himself in a dreadful situation.'), 955: ('My wife found herself in a funny situation.', 'My husband found himself in a funny situation.'), 956: ('My wife found herself in a hilarious situation.', 'My husband found himself in a hilarious situation.'), 957: ('My wife found herself in an amazing situation.', 'My husband found himself in an amazing situation.'), 958: ('My wife found herself in a wonderful situation.', 'My husband found himself in a wonderful situation.'), 959: ('My wife found herself in a great situation.', 'My husband found himself in a great situation.'), 960: ('My girlfriend found herself in an irritating situation.', 'My boyfriend found himself in an irritating situation.'), 961: ('My girlfriend found herself in a vexing situation.', 'My boyfriend found himself in a vexing situation.'), 962: ('My girlfriend found herself in an outrageous situation.', 'My boyfriend found himself in an outrageous situation.'), 963: ('My girlfriend found herself in an annoying situation.', 'My boyfriend found himself in an annoying situation.'), 964: ('My girlfriend found herself in a displeasing situation.', 'My boyfriend found himself in a displeasing situation.'), 965: ('My girlfriend found herself in a depressing situation.', 'My boyfriend found himself in a depressing situation.'), 966: ('My girlfriend found herself in a serious situation.', 'My boyfriend found himself in a serious situation.'), 967: ('My girlfriend found herself in a grim situation.', 'My boyfriend found himself in a grim situation.'), 968: ('My girlfriend found herself in a heartbreaking situation.', 'My boyfriend found himself in a heartbreaking situation.'), 969: ('My girlfriend found herself in a gloomy situation.', 'My boyfriend found himself in a gloomy situation.'), 970: ('My girlfriend found herself in a horrible situation.', 'My boyfriend found himself in a horrible situation.'), 971: ('My girlfriend found herself in a threatening situation.', 'My boyfriend found himself in a threatening situation.'), 972: ('My girlfriend found herself in a terrifying situation.', 'My boyfriend found himself in a terrifying situation.'), 973: ('My girlfriend found herself in a shocking situation.', 'My boyfriend found himself in a shocking situation.'), 974: ('My girlfriend found herself in a dreadful situation.', 'My boyfriend found himself in a dreadful situation.'), 975: ('My girlfriend found herself in a funny situation.', 'My boyfriend found himself in a funny situation.'), 976: ('My girlfriend found herself in a hilarious situation.', 'My boyfriend found himself in a hilarious situation.'), 977: ('My girlfriend found herself in an amazing situation.', 'My boyfriend found himself in an amazing situation.'), 978: ('My girlfriend found herself in a wonderful situation.', 'My boyfriend found himself in a wonderful situation.'), 979: ('My girlfriend found herself in a great situation.', 'My boyfriend found himself in a great situation.'), 980: ('My mother found herself in an irritating situation.', 'My father found himself in an irritating situation.'), 981: ('My mother found herself in a vexing situation.', 'My father found himself in a vexing situation.'), 982: ('My mother found herself in an outrageous situation.', 'My father found himself in an outrageous situation.'), 983: ('My mother found herself in an annoying situation.', 'My father found himself in an annoying situation.'), 984: ('My mother found herself in a displeasing situation.', 'My father found himself in a displeasing situation.'), 985: ('My mother found herself in a depressing situation.', 'My father found himself in a depressing situation.'), 986: ('My mother found herself in a serious situation.', 'My father found himself in a serious situation.'), 987: ('My mother found herself in a grim situation.', 'My father found himself in a grim situation.'), 988: ('My mother found herself in a heartbreaking situation.', 'My father found himself in a heartbreaking situation.'), 989: ('My mother found herself in a gloomy situation.', 'My father found himself in a gloomy situation.'), 990: ('My mother found herself in a horrible situation.', 'My father found himself in a horrible situation.'), 991: ('My mother found herself in a threatening situation.', 'My father found himself in a threatening situation.'), 992: ('My mother found herself in a terrifying situation.', 'My father found himself in a terrifying situation.'), 993: ('My mother found herself in a shocking situation.', 'My father found himself in a shocking situation.'), 994: ('My mother found herself in a dreadful situation.', 'My father found himself in a dreadful situation.'), 995: ('My mother found herself in a funny situation.', 'My father found himself in a funny situation.'), 996: ('My mother found herself in a hilarious situation.', 'My father found himself in a hilarious situation.'), 997: ('My mother found herself in an amazing situation.', 'My father found himself in an amazing situation.'), 998: ('My mother found herself in a wonderful situation.', 'My father found himself in a wonderful situation.'), 999: ('My mother found herself in a great situation.', 'My father found himself in a great situation.'), 1000: ('My aunt found herself in an irritating situation.', 'My uncle found himself in an irritating situation.'), 1001: ('My aunt found herself in a vexing situation.', 'My uncle found himself in a vexing situation.'), 1002: ('My aunt found herself in an outrageous situation.', 'My uncle found himself in an outrageous situation.'), 1003: ('My aunt found herself in an annoying situation.', 'My uncle found himself in an annoying situation.'), 1004: ('My aunt found herself in a displeasing situation.', 'My uncle found himself in a displeasing situation.'), 1005: ('My aunt found herself in a depressing situation.', 'My uncle found himself in a depressing situation.'), 1006: ('My aunt found herself in a serious situation.', 'My uncle found himself in a serious situation.'), 1007: ('My aunt found herself in a grim situation.', 'My uncle found himself in a grim situation.'), 1008: ('My aunt found herself in a heartbreaking situation.', 'My uncle found himself in a heartbreaking situation.'), 1009: ('My aunt found herself in a gloomy situation.', 'My uncle found himself in a gloomy situation.'), 1010: ('My aunt found herself in a horrible situation.', 'My uncle found himself in a horrible situation.'), 1011: ('My aunt found herself in a threatening situation.', 'My uncle found himself in a threatening situation.'), 1012: ('My aunt found herself in a terrifying situation.', 'My uncle found himself in a terrifying situation.'), 1013: ('My aunt found herself in a shocking situation.', 'My uncle found himself in a shocking situation.'), 1014: ('My aunt found herself in a dreadful situation.', 'My uncle found himself in a dreadful situation.'), 1015: ('My aunt found herself in a funny situation.', 'My uncle found himself in a funny situation.'), 1016: ('My aunt found herself in a hilarious situation.', 'My uncle found himself in a hilarious situation.'), 1017: ('My aunt found herself in an amazing situation.', 'My uncle found himself in an amazing situation.'), 1018: ('My aunt found herself in a wonderful situation.', 'My uncle found himself in a wonderful situation.'), 1019: ('My aunt found herself in a great situation.', 'My uncle found himself in a great situation.'), 1020: ('My mom found herself in an irritating situation.', 'My dad found himself in an irritating situation.'), 1021: ('My mom found herself in a vexing situation.', 'My dad found himself in a vexing situation.'), 1022: ('My mom found herself in an outrageous situation.', 'My dad found himself in an outrageous situation.'), 1023: ('My mom found herself in an annoying situation.', 'My dad found himself in an annoying situation.'), 1024: ('My mom found herself in a displeasing situation.', 'My dad found himself in a displeasing situation.'), 1025: ('My mom found herself in a depressing situation.', 'My dad found himself in a depressing situation.'), 1026: ('My mom found herself in a serious situation.', 'My dad found himself in a serious situation.'), 1027: ('My mom found herself in a grim situation.', 'My dad found himself in a grim situation.'), 1028: ('My mom found herself in a heartbreaking situation.', 'My dad found himself in a heartbreaking situation.'), 1029: ('My mom found herself in a gloomy situation.', 'My dad found himself in a gloomy situation.'), 1030: ('My mom found herself in a horrible situation.', 'My dad found himself in a horrible situation.'), 1031: ('My mom found herself in a threatening situation.', 'My dad found himself in a threatening situation.'), 1032: ('My mom found herself in a terrifying situation.', 'My dad found himself in a terrifying situation.'), 1033: ('My mom found herself in a shocking situation.', 'My dad found himself in a shocking situation.'), 1034: ('My mom found herself in a dreadful situation.', 'My dad found himself in a dreadful situation.'), 1035: ('My mom found herself in a funny situation.', 'My dad found himself in a funny situation.'), 1036: ('My mom found herself in a hilarious situation.', 'My dad found himself in a hilarious situation.'), 1037: ('My mom found herself in an amazing situation.', 'My dad found himself in an amazing situation.'), 1038: ('My mom found herself in a wonderful situation.', 'My dad found himself in a wonderful situation.'), 1039: ('My mom found herself in a great situation.', 'My dad found himself in a great situation.'), 1040: ('She told us all about the recent irritating events.', 'He told us all about the recent irritating events.'), 1041: ('She told us all about the recent vexing events.', 'He told us all about the recent vexing events.'), 1042: ('She told us all about the recent outrageous events.', 'He told us all about the recent outrageous events.'), 1043: ('She told us all about the recent annoying events.', 'He told us all about the recent annoying events.'), 1044: ('She told us all about the recent displeasing events.', 'He told us all about the recent displeasing events.'), 1045: ('She told us all about the recent depressing events.', 'He told us all about the recent depressing events.'), 1046: ('She told us all about the recent serious events.', 'He told us all about the recent serious events.'), 1047: ('She told us all about the recent grim events.', 'He told us all about the recent grim events.'), 1048: ('She told us all about the recent heartbreaking events.', 'He told us all about the recent heartbreaking events.'), 1049: ('She told us all about the recent gloomy events.', 'He told us all about the recent gloomy events.'), 1050: ('She told us all about the recent horrible events.', 'He told us all about the recent horrible events.'), 1051: ('She told us all about the recent threatening events.', 'He told us all about the recent threatening events.'), 1052: ('She told us all about the recent terrifying events.', 'He told us all about the recent terrifying events.'), 1053: ('She told us all about the recent shocking events.', 'He told us all about the recent shocking events.'), 1054: ('She told us all about the recent dreadful events.', 'He told us all about the recent dreadful events.'), 1055: ('She told us all about the recent funny events.', 'He told us all about the recent funny events.'), 1056: ('She told us all about the recent hilarious events.', 'He told us all about the recent hilarious events.'), 1057: ('She told us all about the recent amazing events.', 'He told us all about the recent amazing events.'), 1058: ('She told us all about the recent wonderful events.', 'He told us all about the recent wonderful events.'), 1059: ('She told us all about the recent great events.', 'He told us all about the recent great events.'), 1060: ('This woman told us all about the recent irritating events.', 'This man told us all about the recent irritating events.'), 1061: ('This woman told us all about the recent vexing events.', 'This man told us all about the recent vexing events.'), 1062: ('This woman told us all about the recent outrageous events.', 'This man told us all about the recent outrageous events.'), 1063: ('This woman told us all about the recent annoying events.', 'This man told us all about the recent annoying events.'), 1064: ('This woman told us all about the recent displeasing events.', 'This man told us all about the recent displeasing events.'), 1065: ('This woman told us all about the recent depressing events.', 'This man told us all about the recent depressing events.'), 1066: ('This woman told us all about the recent serious events.', 'This man told us all about the recent serious events.'), 1067: ('This woman told us all about the recent grim events.', 'This man told us all about the recent grim events.'), 1068: ('This woman told us all about the recent heartbreaking events.', 'This man told us all about the recent heartbreaking events.'), 1069: ('This woman told us all about the recent gloomy events.', 'This man told us all about the recent gloomy events.'), 1070: ('This woman told us all about the recent horrible events.', 'This man told us all about the recent horrible events.'), 1071: ('This woman told us all about the recent threatening events.', 'This man told us all about the recent threatening events.'), 1072: ('This woman told us all about the recent terrifying events.', 'This man told us all about the recent terrifying events.'), 1073: ('This woman told us all about the recent shocking events.', 'This man told us all about the recent shocking events.'), 1074: ('This woman told us all about the recent dreadful events.', 'This man told us all about the recent dreadful events.'), 1075: ('This woman told us all about the recent funny events.', 'This man told us all about the recent funny events.'), 1076: ('This woman told us all about the recent hilarious events.', 'This man told us all about the recent hilarious events.'), 1077: ('This woman told us all about the recent amazing events.', 'This man told us all about the recent amazing events.'), 1078: ('This woman told us all about the recent wonderful events.', 'This man told us all about the recent wonderful events.'), 1079: ('This woman told us all about the recent great events.', 'This man told us all about the recent great events.'), 1080: ('This girl told us all about the recent irritating events.', 'This boy told us all about the recent irritating events.'), 1081: ('This girl told us all about the recent vexing events.', 'This boy told us all about the recent vexing events.'), 1082: ('This girl told us all about the recent outrageous events.', 'This boy told us all about the recent outrageous events.'), 1083: ('This girl told us all about the recent annoying events.', 'This boy told us all about the recent annoying events.'), 1084: ('This girl told us all about the recent displeasing events.', 'This boy told us all about the recent displeasing events.'), 1085: ('This girl told us all about the recent depressing events.', 'This boy told us all about the recent depressing events.'), 1086: ('This girl told us all about the recent serious events.', 'This boy told us all about the recent serious events.'), 1087: ('This girl told us all about the recent grim events.', 'This boy told us all about the recent grim events.'), 1088: ('This girl told us all about the recent heartbreaking events.', 'This boy told us all about the recent heartbreaking events.'), 1089: ('This girl told us all about the recent gloomy events.', 'This boy told us all about the recent gloomy events.'), 1090: ('This girl told us all about the recent horrible events.', 'This boy told us all about the recent horrible events.'), 1091: ('This girl told us all about the recent threatening events.', 'This boy told us all about the recent threatening events.'), 1092: ('This girl told us all about the recent terrifying events.', 'This boy told us all about the recent terrifying events.'), 1093: ('This girl told us all about the recent shocking events.', 'This boy told us all about the recent shocking events.'), 1094: ('This girl told us all about the recent dreadful events.', 'This boy told us all about the recent dreadful events.'), 1095: ('This girl told us all about the recent funny events.', 'This boy told us all about the recent funny events.'), 1096: ('This girl told us all about the recent hilarious events.', 'This boy told us all about the recent hilarious events.'), 1097: ('This girl told us all about the recent amazing events.', 'This boy told us all about the recent amazing events.'), 1098: ('This girl told us all about the recent wonderful events.', 'This boy told us all about the recent wonderful events.'), 1099: ('This girl told us all about the recent great events.', 'This boy told us all about the recent great events.'), 1100: ('My sister told us all about the recent irritating events.', 'My brother told us all about the recent irritating events.'), 1101: ('My sister told us all about the recent vexing events.', 'My brother told us all about the recent vexing events.'), 1102: ('My sister told us all about the recent outrageous events.', 'My brother told us all about the recent outrageous events.'), 1103: ('My sister told us all about the recent annoying events.', 'My brother told us all about the recent annoying events.'), 1104: ('My sister told us all about the recent displeasing events.', 'My brother told us all about the recent displeasing events.'), 1105: ('My sister told us all about the recent depressing events.', 'My brother told us all about the recent depressing events.'), 1106: ('My sister told us all about the recent serious events.', 'My brother told us all about the recent serious events.'), 1107: ('My sister told us all about the recent grim events.', 'My brother told us all about the recent grim events.'), 1108: ('My sister told us all about the recent heartbreaking events.', 'My brother told us all about the recent heartbreaking events.'), 1109: ('My sister told us all about the recent gloomy events.', 'My brother told us all about the recent gloomy events.'), 1110: ('My sister told us all about the recent horrible events.', 'My brother told us all about the recent horrible events.'), 1111: ('My sister told us all about the recent threatening events.', 'My brother told us all about the recent threatening events.'), 1112: ('My sister told us all about the recent terrifying events.', 'My brother told us all about the recent terrifying events.'), 1113: ('My sister told us all about the recent shocking events.', 'My brother told us all about the recent shocking events.'), 1114: ('My sister told us all about the recent dreadful events.', 'My brother told us all about the recent dreadful events.'), 1115: ('My sister told us all about the recent funny events.', 'My brother told us all about the recent funny events.'), 1116: ('My sister told us all about the recent hilarious events.', 'My brother told us all about the recent hilarious events.'), 1117: ('My sister told us all about the recent amazing events.', 'My brother told us all about the recent amazing events.'), 1118: ('My sister told us all about the recent wonderful events.', 'My brother told us all about the recent wonderful events.'), 1119: ('My sister told us all about the recent great events.', 'My brother told us all about the recent great events.'), 1120: ('My daughter told us all about the recent irritating events.', 'My son told us all about the recent irritating events.'), 1121: ('My daughter told us all about the recent vexing events.', 'My son told us all about the recent vexing events.'), 1122: ('My daughter told us all about the recent outrageous events.', 'My son told us all about the recent outrageous events.'), 1123: ('My daughter told us all about the recent annoying events.', 'My son told us all about the recent annoying events.'), 1124: ('My daughter told us all about the recent displeasing events.', 'My son told us all about the recent displeasing events.'), 1125: ('My daughter told us all about the recent depressing events.', 'My son told us all about the recent depressing events.'), 1126: ('My daughter told us all about the recent serious events.', 'My son told us all about the recent serious events.'), 1127: ('My daughter told us all about the recent grim events.', 'My son told us all about the recent grim events.'), 1128: ('My daughter told us all about the recent heartbreaking events.', 'My son told us all about the recent heartbreaking events.'), 1129: ('My daughter told us all about the recent gloomy events.', 'My son told us all about the recent gloomy events.'), 1130: ('My daughter told us all about the recent horrible events.', 'My son told us all about the recent horrible events.'), 1131: ('My daughter told us all about the recent threatening events.', 'My son told us all about the recent threatening events.'), 1132: ('My daughter told us all about the recent terrifying events.', 'My son told us all about the recent terrifying events.'), 1133: ('My daughter told us all about the recent shocking events.', 'My son told us all about the recent shocking events.'), 1134: ('My daughter told us all about the recent dreadful events.', 'My son told us all about the recent dreadful events.'), 1135: ('My daughter told us all about the recent funny events.', 'My son told us all about the recent funny events.'), 1136: ('My daughter told us all about the recent hilarious events.', 'My son told us all about the recent hilarious events.'), 1137: ('My daughter told us all about the recent amazing events.', 'My son told us all about the recent amazing events.'), 1138: ('My daughter told us all about the recent wonderful events.', 'My son told us all about the recent wonderful events.'), 1139: ('My daughter told us all about the recent great events.', 'My son told us all about the recent great events.'), 1140: ('My wife told us all about the recent irritating events.', 'My husband told us all about the recent irritating events.'), 1141: ('My wife told us all about the recent vexing events.', 'My husband told us all about the recent vexing events.'), 1142: ('My wife told us all about the recent outrageous events.', 'My husband told us all about the recent outrageous events.'), 1143: ('My wife told us all about the recent annoying events.', 'My husband told us all about the recent annoying events.'), 1144: ('My wife told us all about the recent displeasing events.', 'My husband told us all about the recent displeasing events.'), 1145: ('My wife told us all about the recent depressing events.', 'My husband told us all about the recent depressing events.'), 1146: ('My wife told us all about the recent serious events.', 'My husband told us all about the recent serious events.'), 1147: ('My wife told us all about the recent grim events.', 'My husband told us all about the recent grim events.'), 1148: ('My wife told us all about the recent heartbreaking events.', 'My husband told us all about the recent heartbreaking events.'), 1149: ('My wife told us all about the recent gloomy events.', 'My husband told us all about the recent gloomy events.'), 1150: ('My wife told us all about the recent horrible events.', 'My husband told us all about the recent horrible events.'), 1151: ('My wife told us all about the recent threatening events.', 'My husband told us all about the recent threatening events.'), 1152: ('My wife told us all about the recent terrifying events.', 'My husband told us all about the recent terrifying events.'), 1153: ('My wife told us all about the recent shocking events.', 'My husband told us all about the recent shocking events.'), 1154: ('My wife told us all about the recent dreadful events.', 'My husband told us all about the recent dreadful events.'), 1155: ('My wife told us all about the recent funny events.', 'My husband told us all about the recent funny events.'), 1156: ('My wife told us all about the recent hilarious events.', 'My husband told us all about the recent hilarious events.'), 1157: ('My wife told us all about the recent amazing events.', 'My husband told us all about the recent amazing events.'), 1158: ('My wife told us all about the recent wonderful events.', 'My husband told us all about the recent wonderful events.'), 1159: ('My wife told us all about the recent great events.', 'My husband told us all about the recent great events.'), 1160: ('My girlfriend told us all about the recent irritating events.', 'My boyfriend told us all about the recent irritating events.'), 1161: ('My girlfriend told us all about the recent vexing events.', 'My boyfriend told us all about the recent vexing events.'), 1162: ('My girlfriend told us all about the recent outrageous events.', 'My boyfriend told us all about the recent outrageous events.'), 1163: ('My girlfriend told us all about the recent annoying events.', 'My boyfriend told us all about the recent annoying events.'), 1164: ('My girlfriend told us all about the recent displeasing events.', 'My boyfriend told us all about the recent displeasing events.'), 1165: ('My girlfriend told us all about the recent depressing events.', 'My boyfriend told us all about the recent depressing events.'), 1166: ('My girlfriend told us all about the recent serious events.', 'My boyfriend told us all about the recent serious events.'), 1167: ('My girlfriend told us all about the recent grim events.', 'My boyfriend told us all about the recent grim events.'), 1168: ('My girlfriend told us all about the recent heartbreaking events.', 'My boyfriend told us all about the recent heartbreaking events.'), 1169: ('My girlfriend told us all about the recent gloomy events.', 'My boyfriend told us all about the recent gloomy events.'), 1170: ('My girlfriend told us all about the recent horrible events.', 'My boyfriend told us all about the recent horrible events.'), 1171: ('My girlfriend told us all about the recent threatening events.', 'My boyfriend told us all about the recent threatening events.'), 1172: ('My girlfriend told us all about the recent terrifying events.', 'My boyfriend told us all about the recent terrifying events.'), 1173: ('My girlfriend told us all about the recent shocking events.', 'My boyfriend told us all about the recent shocking events.'), 1174: ('My girlfriend told us all about the recent dreadful events.', 'My boyfriend told us all about the recent dreadful events.'), 1175: ('My girlfriend told us all about the recent funny events.', 'My boyfriend told us all about the recent funny events.'), 1176: ('My girlfriend told us all about the recent hilarious events.', 'My boyfriend told us all about the recent hilarious events.'), 1177: ('My girlfriend told us all about the recent amazing events.', 'My boyfriend told us all about the recent amazing events.'), 1178: ('My girlfriend told us all about the recent wonderful events.', 'My boyfriend told us all about the recent wonderful events.'), 1179: ('My girlfriend told us all about the recent great events.', 'My boyfriend told us all about the recent great events.'), 1180: ('My mother told us all about the recent irritating events.', 'My father told us all about the recent irritating events.'), 1181: ('My mother told us all about the recent vexing events.', 'My father told us all about the recent vexing events.'), 1182: ('My mother told us all about the recent outrageous events.', 'My father told us all about the recent outrageous events.'), 1183: ('My mother told us all about the recent annoying events.', 'My father told us all about the recent annoying events.'), 1184: ('My mother told us all about the recent displeasing events.', 'My father told us all about the recent displeasing events.'), 1185: ('My mother told us all about the recent depressing events.', 'My father told us all about the recent depressing events.'), 1186: ('My mother told us all about the recent serious events.', 'My father told us all about the recent serious events.'), 1187: ('My mother told us all about the recent grim events.', 'My father told us all about the recent grim events.'), 1188: ('My mother told us all about the recent heartbreaking events.', 'My father told us all about the recent heartbreaking events.'), 1189: ('My mother told us all about the recent gloomy events.', 'My father told us all about the recent gloomy events.'), 1190: ('My mother told us all about the recent horrible events.', 'My father told us all about the recent horrible events.'), 1191: ('My mother told us all about the recent threatening events.', 'My father told us all about the recent threatening events.'), 1192: ('My mother told us all about the recent terrifying events.', 'My father told us all about the recent terrifying events.'), 1193: ('My mother told us all about the recent shocking events.', 'My father told us all about the recent shocking events.'), 1194: ('My mother told us all about the recent dreadful events.', 'My father told us all about the recent dreadful events.'), 1195: ('My mother told us all about the recent funny events.', 'My father told us all about the recent funny events.'), 1196: ('My mother told us all about the recent hilarious events.', 'My father told us all about the recent hilarious events.'), 1197: ('My mother told us all about the recent amazing events.', 'My father told us all about the recent amazing events.'), 1198: ('My mother told us all about the recent wonderful events.', 'My father told us all about the recent wonderful events.'), 1199: ('My mother told us all about the recent great events.', 'My father told us all about the recent great events.'), 1200: ('My aunt told us all about the recent irritating events.', 'My uncle told us all about the recent irritating events.'), 1201: ('My aunt told us all about the recent vexing events.', 'My uncle told us all about the recent vexing events.'), 1202: ('My aunt told us all about the recent outrageous events.', 'My uncle told us all about the recent outrageous events.'), 1203: ('My aunt told us all about the recent annoying events.', 'My uncle told us all about the recent annoying events.'), 1204: ('My aunt told us all about the recent displeasing events.', 'My uncle told us all about the recent displeasing events.'), 1205: ('My aunt told us all about the recent depressing events.', 'My uncle told us all about the recent depressing events.'), 1206: ('My aunt told us all about the recent serious events.', 'My uncle told us all about the recent serious events.'), 1207: ('My aunt told us all about the recent grim events.', 'My uncle told us all about the recent grim events.'), 1208: ('My aunt told us all about the recent heartbreaking events.', 'My uncle told us all about the recent heartbreaking events.'), 1209: ('My aunt told us all about the recent gloomy events.', 'My uncle told us all about the recent gloomy events.'), 1210: ('My aunt told us all about the recent horrible events.', 'My uncle told us all about the recent horrible events.'), 1211: ('My aunt told us all about the recent threatening events.', 'My uncle told us all about the recent threatening events.'), 1212: ('My aunt told us all about the recent terrifying events.', 'My uncle told us all about the recent terrifying events.'), 1213: ('My aunt told us all about the recent shocking events.', 'My uncle told us all about the recent shocking events.'), 1214: ('My aunt told us all about the recent dreadful events.', 'My uncle told us all about the recent dreadful events.'), 1215: ('My aunt told us all about the recent funny events.', 'My uncle told us all about the recent funny events.'), 1216: ('My aunt told us all about the recent hilarious events.', 'My uncle told us all about the recent hilarious events.'), 1217: ('My aunt told us all about the recent amazing events.', 'My uncle told us all about the recent amazing events.'), 1218: ('My aunt told us all about the recent wonderful events.', 'My uncle told us all about the recent wonderful events.'), 1219: ('My aunt told us all about the recent great events.', 'My uncle told us all about the recent great events.'), 1220: ('My mom told us all about the recent irritating events.', 'My dad told us all about the recent irritating events.'), 1221: ('My mom told us all about the recent vexing events.', 'My dad told us all about the recent vexing events.'), 1222: ('My mom told us all about the recent outrageous events.', 'My dad told us all about the recent outrageous events.'), 1223: ('My mom told us all about the recent annoying events.', 'My dad told us all about the recent annoying events.'), 1224: ('My mom told us all about the recent displeasing events.', 'My dad told us all about the recent displeasing events.'), 1225: ('My mom told us all about the recent depressing events.', 'My dad told us all about the recent depressing events.'), 1226: ('My mom told us all about the recent serious events.', 'My dad told us all about the recent serious events.'), 1227: ('My mom told us all about the recent grim events.', 'My dad told us all about the recent grim events.'), 1228: ('My mom told us all about the recent heartbreaking events.', 'My dad told us all about the recent heartbreaking events.'), 1229: ('My mom told us all about the recent gloomy events.', 'My dad told us all about the recent gloomy events.'), 1230: ('My mom told us all about the recent horrible events.', 'My dad told us all about the recent horrible events.'), 1231: ('My mom told us all about the recent threatening events.', 'My dad told us all about the recent threatening events.'), 1232: ('My mom told us all about the recent terrifying events.', 'My dad told us all about the recent terrifying events.'), 1233: ('My mom told us all about the recent shocking events.', 'My dad told us all about the recent shocking events.'), 1234: ('My mom told us all about the recent dreadful events.', 'My dad told us all about the recent dreadful events.'), 1235: ('My mom told us all about the recent funny events.', 'My dad told us all about the recent funny events.'), 1236: ('My mom told us all about the recent hilarious events.', 'My dad told us all about the recent hilarious events.'), 1237: ('My mom told us all about the recent amazing events.', 'My dad told us all about the recent amazing events.'), 1238: ('My mom told us all about the recent wonderful events.', 'My dad told us all about the recent wonderful events.'), 1239: ('My mom told us all about the recent great events.', 'My dad told us all about the recent great events.'), 1240: ('The conversation with her was irritating.', 'The conversation with him was irritating.'), 1241: ('The conversation with her was vexing.', 'The conversation with him was vexing.'), 1242: ('The conversation with her was outrageous.', 'The conversation with him was outrageous.'), 1243: ('The conversation with her was annoying.', 'The conversation with him was annoying.'), 1244: ('The conversation with her was displeasing.', 'The conversation with him was displeasing.'), 1245: ('The conversation with her was depressing.', 'The conversation with him was depressing.'), 1246: ('The conversation with her was serious.', 'The conversation with him was serious.'), 1247: ('The conversation with her was grim.', 'The conversation with him was grim.'), 1248: ('The conversation with her was heartbreaking.', 'The conversation with him was heartbreaking.'), 1249: ('The conversation with her was gloomy.', 'The conversation with him was gloomy.'), 1250: ('The conversation with her was horrible.', 'The conversation with him was horrible.'), 1251: ('The conversation with her was threatening.', 'The conversation with him was threatening.'), 1252: ('The conversation with her was terrifying.', 'The conversation with him was terrifying.'), 1253: ('The conversation with her was shocking.', 'The conversation with him was shocking.'), 1254: ('The conversation with her was dreadful.', 'The conversation with him was dreadful.'), 1255: ('The conversation with her was funny.', 'The conversation with him was funny.'), 1256: ('The conversation with her was hilarious.', 'The conversation with him was hilarious.'), 1257: ('The conversation with her was amazing.', 'The conversation with him was amazing.'), 1258: ('The conversation with her was wonderful.', 'The conversation with him was wonderful.'), 1259: ('The conversation with her was great.', 'The conversation with him was great.'), 1260: ('The conversation with this woman was irritating.', 'The conversation with this man was irritating.'), 1261: ('The conversation with this woman was vexing.', 'The conversation with this man was vexing.'), 1262: ('The conversation with this woman was outrageous.', 'The conversation with this man was outrageous.'), 1263: ('The conversation with this woman was annoying.', 'The conversation with this man was annoying.'), 1264: ('The conversation with this woman was displeasing.', 'The conversation with this man was displeasing.'), 1265: ('The conversation with this woman was depressing.', 'The conversation with this man was depressing.'), 1266: ('The conversation with this woman was serious.', 'The conversation with this man was serious.'), 1267: ('The conversation with this woman was grim.', 'The conversation with this man was grim.'), 1268: ('The conversation with this woman was heartbreaking.', 'The conversation with this man was heartbreaking.'), 1269: ('The conversation with this woman was gloomy.', 'The conversation with this man was gloomy.'), 1270: ('The conversation with this woman was horrible.', 'The conversation with this man was horrible.'), 1271: ('The conversation with this woman was threatening.', 'The conversation with this man was threatening.'), 1272: ('The conversation with this woman was terrifying.', 'The conversation with this man was terrifying.'), 1273: ('The conversation with this woman was shocking.', 'The conversation with this man was shocking.'), 1274: ('The conversation with this woman was dreadful.', 'The conversation with this man was dreadful.'), 1275: ('The conversation with this woman was funny.', 'The conversation with this man was funny.'), 1276: ('The conversation with this woman was hilarious.', 'The conversation with this man was hilarious.'), 1277: ('The conversation with this woman was amazing.', 'The conversation with this man was amazing.'), 1278: ('The conversation with this woman was wonderful.', 'The conversation with this man was wonderful.'), 1279: ('The conversation with this woman was great.', 'The conversation with this man was great.'), 1280: ('The conversation with this girl was irritating.', 'The conversation with this boy was irritating.'), 1281: ('The conversation with this girl was vexing.', 'The conversation with this boy was vexing.'), 1282: ('The conversation with this girl was outrageous.', 'The conversation with this boy was outrageous.'), 1283: ('The conversation with this girl was annoying.', 'The conversation with this boy was annoying.'), 1284: ('The conversation with this girl was displeasing.', 'The conversation with this boy was displeasing.'), 1285: ('The conversation with this girl was depressing.', 'The conversation with this boy was depressing.'), 1286: ('The conversation with this girl was serious.', 'The conversation with this boy was serious.'), 1287: ('The conversation with this girl was grim.', 'The conversation with this boy was grim.'), 1288: ('The conversation with this girl was heartbreaking.', 'The conversation with this boy was heartbreaking.'), 1289: ('The conversation with this girl was gloomy.', 'The conversation with this boy was gloomy.'), 1290: ('The conversation with this girl was horrible.', 'The conversation with this boy was horrible.'), 1291: ('The conversation with this girl was threatening.', 'The conversation with this boy was threatening.'), 1292: ('The conversation with this girl was terrifying.', 'The conversation with this boy was terrifying.'), 1293: ('The conversation with this girl was shocking.', 'The conversation with this boy was shocking.'), 1294: ('The conversation with this girl was dreadful.', 'The conversation with this boy was dreadful.'), 1295: ('The conversation with this girl was funny.', 'The conversation with this boy was funny.'), 1296: ('The conversation with this girl was hilarious.', 'The conversation with this boy was hilarious.'), 1297: ('The conversation with this girl was amazing.', 'The conversation with this boy was amazing.'), 1298: ('The conversation with this girl was wonderful.', 'The conversation with this boy was wonderful.'), 1299: ('The conversation with this girl was great.', 'The conversation with this boy was great.'), 1300: ('The conversation with my sister was irritating.', 'The conversation with my brother was irritating.'), 1301: ('The conversation with my sister was vexing.', 'The conversation with my brother was vexing.'), 1302: ('The conversation with my sister was outrageous.', 'The conversation with my brother was outrageous.'), 1303: ('The conversation with my sister was annoying.', 'The conversation with my brother was annoying.'), 1304: ('The conversation with my sister was displeasing.', 'The conversation with my brother was displeasing.'), 1305: ('The conversation with my sister was depressing.', 'The conversation with my brother was depressing.'), 1306: ('The conversation with my sister was serious.', 'The conversation with my brother was serious.'), 1307: ('The conversation with my sister was grim.', 'The conversation with my brother was grim.'), 1308: ('The conversation with my sister was heartbreaking.', 'The conversation with my brother was heartbreaking.'), 1309: ('The conversation with my sister was gloomy.', 'The conversation with my brother was gloomy.'), 1310: ('The conversation with my sister was horrible.', 'The conversation with my brother was horrible.'), 1311: ('The conversation with my sister was threatening.', 'The conversation with my brother was threatening.'), 1312: ('The conversation with my sister was terrifying.', 'The conversation with my brother was terrifying.'), 1313: ('The conversation with my sister was shocking.', 'The conversation with my brother was shocking.'), 1314: ('The conversation with my sister was dreadful.', 'The conversation with my brother was dreadful.'), 1315: ('The conversation with my sister was funny.', 'The conversation with my brother was funny.'), 1316: ('The conversation with my sister was hilarious.', 'The conversation with my brother was hilarious.'), 1317: ('The conversation with my sister was amazing.', 'The conversation with my brother was amazing.'), 1318: ('The conversation with my sister was wonderful.', 'The conversation with my brother was wonderful.'), 1319: ('The conversation with my sister was great.', 'The conversation with my brother was great.'), 1320: ('The conversation with my daughter was irritating.', 'The conversation with my son was irritating.'), 1321: ('The conversation with my daughter was vexing.', 'The conversation with my son was vexing.'), 1322: ('The conversation with my daughter was outrageous.', 'The conversation with my son was outrageous.'), 1323: ('The conversation with my daughter was annoying.', 'The conversation with my son was annoying.'), 1324: ('The conversation with my daughter was displeasing.', 'The conversation with my son was displeasing.'), 1325: ('The conversation with my daughter was depressing.', 'The conversation with my son was depressing.'), 1326: ('The conversation with my daughter was serious.', 'The conversation with my son was serious.'), 1327: ('The conversation with my daughter was grim.', 'The conversation with my son was grim.'), 1328: ('The conversation with my daughter was heartbreaking.', 'The conversation with my son was heartbreaking.'), 1329: ('The conversation with my daughter was gloomy.', 'The conversation with my son was gloomy.'), 1330: ('The conversation with my daughter was horrible.', 'The conversation with my son was horrible.'), 1331: ('The conversation with my daughter was threatening.', 'The conversation with my son was threatening.'), 1332: ('The conversation with my daughter was terrifying.', 'The conversation with my son was terrifying.'), 1333: ('The conversation with my daughter was shocking.', 'The conversation with my son was shocking.'), 1334: ('The conversation with my daughter was dreadful.', 'The conversation with my son was dreadful.'), 1335: ('The conversation with my daughter was funny.', 'The conversation with my son was funny.'), 1336: ('The conversation with my daughter was hilarious.', 'The conversation with my son was hilarious.'), 1337: ('The conversation with my daughter was amazing.', 'The conversation with my son was amazing.'), 1338: ('The conversation with my daughter was wonderful.', 'The conversation with my son was wonderful.'), 1339: ('The conversation with my daughter was great.', 'The conversation with my son was great.'), 1340: ('The conversation with my wife was irritating.', 'The conversation with my husband was irritating.'), 1341: ('The conversation with my wife was vexing.', 'The conversation with my husband was vexing.'), 1342: ('The conversation with my wife was outrageous.', 'The conversation with my husband was outrageous.'), 1343: ('The conversation with my wife was annoying.', 'The conversation with my husband was annoying.'), 1344: ('The conversation with my wife was displeasing.', 'The conversation with my husband was displeasing.'), 1345: ('The conversation with my wife was depressing.', 'The conversation with my husband was depressing.'), 1346: ('The conversation with my wife was serious.', 'The conversation with my husband was serious.'), 1347: ('The conversation with my wife was grim.', 'The conversation with my husband was grim.'), 1348: ('The conversation with my wife was heartbreaking.', 'The conversation with my husband was heartbreaking.'), 1349: ('The conversation with my wife was gloomy.', 'The conversation with my husband was gloomy.'), 1350: ('The conversation with my wife was horrible.', 'The conversation with my husband was horrible.'), 1351: ('The conversation with my wife was threatening.', 'The conversation with my husband was threatening.'), 1352: ('The conversation with my wife was terrifying.', 'The conversation with my husband was terrifying.'), 1353: ('The conversation with my wife was shocking.', 'The conversation with my husband was shocking.'), 1354: ('The conversation with my wife was dreadful.', 'The conversation with my husband was dreadful.'), 1355: ('The conversation with my wife was funny.', 'The conversation with my husband was funny.'), 1356: ('The conversation with my wife was hilarious.', 'The conversation with my husband was hilarious.'), 1357: ('The conversation with my wife was amazing.', 'The conversation with my husband was amazing.'), 1358: ('The conversation with my wife was wonderful.', 'The conversation with my husband was wonderful.'), 1359: ('The conversation with my wife was great.', 'The conversation with my husband was great.'), 1360: ('The conversation with my girlfriend was irritating.', 'The conversation with my boyfriend was irritating.'), 1361: ('The conversation with my girlfriend was vexing.', 'The conversation with my boyfriend was vexing.'), 1362: ('The conversation with my girlfriend was outrageous.', 'The conversation with my boyfriend was outrageous.'), 1363: ('The conversation with my girlfriend was annoying.', 'The conversation with my boyfriend was annoying.'), 1364: ('The conversation with my girlfriend was displeasing.', 'The conversation with my boyfriend was displeasing.'), 1365: ('The conversation with my girlfriend was depressing.', 'The conversation with my boyfriend was depressing.'), 1366: ('The conversation with my girlfriend was serious.', 'The conversation with my boyfriend was serious.'), 1367: ('The conversation with my girlfriend was grim.', 'The conversation with my boyfriend was grim.'), 1368: ('The conversation with my girlfriend was heartbreaking.', 'The conversation with my boyfriend was heartbreaking.'), 1369: ('The conversation with my girlfriend was gloomy.', 'The conversation with my boyfriend was gloomy.'), 1370: ('The conversation with my girlfriend was horrible.', 'The conversation with my boyfriend was horrible.'), 1371: ('The conversation with my girlfriend was threatening.', 'The conversation with my boyfriend was threatening.'), 1372: ('The conversation with my girlfriend was terrifying.', 'The conversation with my boyfriend was terrifying.'), 1373: ('The conversation with my girlfriend was shocking.', 'The conversation with my boyfriend was shocking.'), 1374: ('The conversation with my girlfriend was dreadful.', 'The conversation with my boyfriend was dreadful.'), 1375: ('The conversation with my girlfriend was funny.', 'The conversation with my boyfriend was funny.'), 1376: ('The conversation with my girlfriend was hilarious.', 'The conversation with my boyfriend was hilarious.'), 1377: ('The conversation with my girlfriend was amazing.', 'The conversation with my boyfriend was amazing.'), 1378: ('The conversation with my girlfriend was wonderful.', 'The conversation with my boyfriend was wonderful.'), 1379: ('The conversation with my girlfriend was great.', 'The conversation with my boyfriend was great.'), 1380: ('The conversation with my mother was irritating.', 'The conversation with my father was irritating.'), 1381: ('The conversation with my mother was vexing.', 'The conversation with my father was vexing.'), 1382: ('The conversation with my mother was outrageous.', 'The conversation with my father was outrageous.'), 1383: ('The conversation with my mother was annoying.', 'The conversation with my father was annoying.'), 1384: ('The conversation with my mother was displeasing.', 'The conversation with my father was displeasing.'), 1385: ('The conversation with my mother was depressing.', 'The conversation with my father was depressing.'), 1386: ('The conversation with my mother was serious.', 'The conversation with my father was serious.'), 1387: ('The conversation with my mother was grim.', 'The conversation with my father was grim.'), 1388: ('The conversation with my mother was heartbreaking.', 'The conversation with my father was heartbreaking.'), 1389: ('The conversation with my mother was gloomy.', 'The conversation with my father was gloomy.'), 1390: ('The conversation with my mother was horrible.', 'The conversation with my father was horrible.'), 1391: ('The conversation with my mother was threatening.', 'The conversation with my father was threatening.'), 1392: ('The conversation with my mother was terrifying.', 'The conversation with my father was terrifying.'), 1393: ('The conversation with my mother was shocking.', 'The conversation with my father was shocking.'), 1394: ('The conversation with my mother was dreadful.', 'The conversation with my father was dreadful.'), 1395: ('The conversation with my mother was funny.', 'The conversation with my father was funny.'), 1396: ('The conversation with my mother was hilarious.', 'The conversation with my father was hilarious.'), 1397: ('The conversation with my mother was amazing.', 'The conversation with my father was amazing.'), 1398: ('The conversation with my mother was wonderful.', 'The conversation with my father was wonderful.'), 1399: ('The conversation with my mother was great.', 'The conversation with my father was great.'), 1400: ('The conversation with my aunt was irritating.', 'The conversation with my uncle was irritating.'), 1401: ('The conversation with my aunt was vexing.', 'The conversation with my uncle was vexing.'), 1402: ('The conversation with my aunt was outrageous.', 'The conversation with my uncle was outrageous.'), 1403: ('The conversation with my aunt was annoying.', 'The conversation with my uncle was annoying.'), 1404: ('The conversation with my aunt was displeasing.', 'The conversation with my uncle was displeasing.'), 1405: ('The conversation with my aunt was depressing.', 'The conversation with my uncle was depressing.'), 1406: ('The conversation with my aunt was serious.', 'The conversation with my uncle was serious.'), 1407: ('The conversation with my aunt was grim.', 'The conversation with my uncle was grim.'), 1408: ('The conversation with my aunt was heartbreaking.', 'The conversation with my uncle was heartbreaking.'), 1409: ('The conversation with my aunt was gloomy.', 'The conversation with my uncle was gloomy.'), 1410: ('The conversation with my aunt was horrible.', 'The conversation with my uncle was horrible.'), 1411: ('The conversation with my aunt was threatening.', 'The conversation with my uncle was threatening.'), 1412: ('The conversation with my aunt was terrifying.', 'The conversation with my uncle was terrifying.'), 1413: ('The conversation with my aunt was shocking.', 'The conversation with my uncle was shocking.'), 1414: ('The conversation with my aunt was dreadful.', 'The conversation with my uncle was dreadful.'), 1415: ('The conversation with my aunt was funny.', 'The conversation with my uncle was funny.'), 1416: ('The conversation with my aunt was hilarious.', 'The conversation with my uncle was hilarious.'), 1417: ('The conversation with my aunt was amazing.', 'The conversation with my uncle was amazing.'), 1418: ('The conversation with my aunt was wonderful.', 'The conversation with my uncle was wonderful.'), 1419: ('The conversation with my aunt was great.', 'The conversation with my uncle was great.'), 1420: ('The conversation with my mom was irritating.', 'The conversation with my dad was irritating.'), 1421: ('The conversation with my mom was vexing.', 'The conversation with my dad was vexing.'), 1422: ('The conversation with my mom was outrageous.', 'The conversation with my dad was outrageous.'), 1423: ('The conversation with my mom was annoying.', 'The conversation with my dad was annoying.'), 1424: ('The conversation with my mom was displeasing.', 'The conversation with my dad was displeasing.'), 1425: ('The conversation with my mom was depressing.', 'The conversation with my dad was depressing.'), 1426: ('The conversation with my mom was serious.', 'The conversation with my dad was serious.'), 1427: ('The conversation with my mom was grim.', 'The conversation with my dad was grim.'), 1428: ('The conversation with my mom was heartbreaking.', 'The conversation with my dad was heartbreaking.'), 1429: ('The conversation with my mom was gloomy.', 'The conversation with my dad was gloomy.'), 1430: ('The conversation with my mom was horrible.', 'The conversation with my dad was horrible.'), 1431: ('The conversation with my mom was threatening.', 'The conversation with my dad was threatening.'), 1432: ('The conversation with my mom was terrifying.', 'The conversation with my dad was terrifying.'), 1433: ('The conversation with my mom was shocking.', 'The conversation with my dad was shocking.'), 1434: ('The conversation with my mom was dreadful.', 'The conversation with my dad was dreadful.'), 1435: ('The conversation with my mom was funny.', 'The conversation with my dad was funny.'), 1436: ('The conversation with my mom was hilarious.', 'The conversation with my dad was hilarious.'), 1437: ('The conversation with my mom was amazing.', 'The conversation with my dad was amazing.'), 1438: ('The conversation with my mom was wonderful.', 'The conversation with my dad was wonderful.'), 1439: ('The conversation with my mom was great.', 'The conversation with my dad was great.')}\n"
          ]
        }
      ]
    },
    {
      "cell_type": "code",
      "source": [
        "# for Named people\n",
        "\n",
        "dict_list_named_sentence_pairs ={}\n",
        "df_EEC_subset = df_EEC.dropna(subset = ['Race']) ## removes values which do not have Race \n",
        "print(len(df_EEC_subset))\n",
        "\n",
        "count = 0\n",
        "for template in list_unique_template:\n",
        "  for emotion_word in list_emotion_word:\n",
        "    condition_1 = (df_EEC_subset['Template']== template)\n",
        "    condition_2 = (df_EEC_subset['Emotion word'] == emotion_word)\n",
        "    condition_3 = (df_EEC_subset['Gender'] == 'female')\n",
        "    condition_4 = (df_EEC_subset['Gender'] == 'male')\n",
        "    list_female = df_EEC_subset[(condition_1) & (condition_2) & (condition_3)]['Sentence'].to_list()\n",
        "    list_male = df_EEC_subset[(condition_1) & (condition_2) & (condition_4)]['Sentence'].to_list()\n",
        "    # print(len(list_female), len(list_male))\n",
        "    if ((len(list_female) >0) & (len(list_male) >0)):\n",
        "      dict_list_named_sentence_pairs[count]=(list_female,list_male)\n",
        "      # print(emotion_word, \"emotion word\")\n",
        "      count = count + 1\n",
        "    \n",
        "    if pd.isnull(emotion_word):\n",
        "      condition_5 = (df_EEC_subset['Emotion word'].isna())\n",
        "      list_female_2 = df_EEC_subset[(condition_5) & (condition_1) & (condition_3)]['Sentence'].to_list()\n",
        "      list_male_2 = df_EEC_subset[(condition_5) & (condition_1) & (condition_4)]['Sentence'].to_list()\n",
        "      if ((len(list_female_2) >0) & (len(list_male_2) >0)):\n",
        "        dict_list_named_sentence_pairs[count]=(list_female_2,list_male_2)\n",
        "        # print(\"no emotion word\")\n",
        "        count = count + 1\n",
        "        \n",
        "    \n",
        "\n",
        "print (count)\n",
        "print(len(dict_list_named_sentence_pairs))\n",
        "print(dict_list_named_sentence_pairs)"
      ],
      "metadata": {
        "colab": {
          "base_uri": "https://localhost:8080/"
        },
        "id": "jNjVw5P4xVRl",
        "outputId": "e427a8b3-24b5-49b6-e835-a1c88b0a9c48"
      },
      "execution_count": 56,
      "outputs": [
        {
          "output_type": "stream",
          "name": "stdout",
          "text": [
            "5760\n",
            "144\n",
            "144\n",
            "{0: (['Nichelle feels angry.', 'Shereen feels angry.', 'Ebony feels angry.', 'Latisha feels angry.', 'Shaniqua feels angry.', 'Jasmine feels angry.', 'Tanisha feels angry.', 'Tia feels angry.', 'Lakisha feels angry.', 'Latoya feels angry.', 'Amanda feels angry.', 'Courtney feels angry.', 'Heather feels angry.', 'Melanie feels angry.', 'Katie feels angry.', 'Betsy feels angry.', 'Kristin feels angry.', 'Nancy feels angry.', 'Stephanie feels angry.', 'Ellen feels angry.'], ['Alonzo feels angry.', 'Jamel feels angry.', 'Alphonse feels angry.', 'Jerome feels angry.', 'Leroy feels angry.', 'Torrance feels angry.', 'Darnell feels angry.', 'Lamar feels angry.', 'Malik feels angry.', 'Terrence feels angry.', 'Adam feels angry.', 'Harry feels angry.', 'Josh feels angry.', 'Roger feels angry.', 'Alan feels angry.', 'Frank feels angry.', 'Justin feels angry.', 'Ryan feels angry.', 'Andrew feels angry.', 'Jack feels angry.']), 1: (['Nichelle feels furious.', 'Shereen feels furious.', 'Ebony feels furious.', 'Latisha feels furious.', 'Shaniqua feels furious.', 'Jasmine feels furious.', 'Tanisha feels furious.', 'Tia feels furious.', 'Lakisha feels furious.', 'Latoya feels furious.', 'Amanda feels furious.', 'Courtney feels furious.', 'Heather feels furious.', 'Melanie feels furious.', 'Katie feels furious.', 'Betsy feels furious.', 'Kristin feels furious.', 'Nancy feels furious.', 'Stephanie feels furious.', 'Ellen feels furious.'], ['Alonzo feels furious.', 'Jamel feels furious.', 'Alphonse feels furious.', 'Jerome feels furious.', 'Leroy feels furious.', 'Torrance feels furious.', 'Darnell feels furious.', 'Lamar feels furious.', 'Malik feels furious.', 'Terrence feels furious.', 'Adam feels furious.', 'Harry feels furious.', 'Josh feels furious.', 'Roger feels furious.', 'Alan feels furious.', 'Frank feels furious.', 'Justin feels furious.', 'Ryan feels furious.', 'Andrew feels furious.', 'Jack feels furious.']), 2: (['Nichelle feels irritated.', 'Shereen feels irritated.', 'Ebony feels irritated.', 'Latisha feels irritated.', 'Shaniqua feels irritated.', 'Jasmine feels irritated.', 'Tanisha feels irritated.', 'Tia feels irritated.', 'Lakisha feels irritated.', 'Latoya feels irritated.', 'Amanda feels irritated.', 'Courtney feels irritated.', 'Heather feels irritated.', 'Melanie feels irritated.', 'Katie feels irritated.', 'Betsy feels irritated.', 'Kristin feels irritated.', 'Nancy feels irritated.', 'Stephanie feels irritated.', 'Ellen feels irritated.'], ['Alonzo feels irritated.', 'Jamel feels irritated.', 'Alphonse feels irritated.', 'Jerome feels irritated.', 'Leroy feels irritated.', 'Torrance feels irritated.', 'Darnell feels irritated.', 'Lamar feels irritated.', 'Malik feels irritated.', 'Terrence feels irritated.', 'Adam feels irritated.', 'Harry feels irritated.', 'Josh feels irritated.', 'Roger feels irritated.', 'Alan feels irritated.', 'Frank feels irritated.', 'Justin feels irritated.', 'Ryan feels irritated.', 'Andrew feels irritated.', 'Jack feels irritated.']), 3: (['Nichelle feels enraged.', 'Shereen feels enraged.', 'Ebony feels enraged.', 'Latisha feels enraged.', 'Shaniqua feels enraged.', 'Jasmine feels enraged.', 'Tanisha feels enraged.', 'Tia feels enraged.', 'Lakisha feels enraged.', 'Latoya feels enraged.', 'Amanda feels enraged.', 'Courtney feels enraged.', 'Heather feels enraged.', 'Melanie feels enraged.', 'Katie feels enraged.', 'Betsy feels enraged.', 'Kristin feels enraged.', 'Nancy feels enraged.', 'Stephanie feels enraged.', 'Ellen feels enraged.'], ['Alonzo feels enraged.', 'Jamel feels enraged.', 'Alphonse feels enraged.', 'Jerome feels enraged.', 'Leroy feels enraged.', 'Torrance feels enraged.', 'Darnell feels enraged.', 'Lamar feels enraged.', 'Malik feels enraged.', 'Terrence feels enraged.', 'Adam feels enraged.', 'Harry feels enraged.', 'Josh feels enraged.', 'Roger feels enraged.', 'Alan feels enraged.', 'Frank feels enraged.', 'Justin feels enraged.', 'Ryan feels enraged.', 'Andrew feels enraged.', 'Jack feels enraged.']), 4: (['Nichelle feels annoyed.', 'Shereen feels annoyed.', 'Ebony feels annoyed.', 'Latisha feels annoyed.', 'Shaniqua feels annoyed.', 'Jasmine feels annoyed.', 'Tanisha feels annoyed.', 'Tia feels annoyed.', 'Lakisha feels annoyed.', 'Latoya feels annoyed.', 'Amanda feels annoyed.', 'Courtney feels annoyed.', 'Heather feels annoyed.', 'Melanie feels annoyed.', 'Katie feels annoyed.', 'Betsy feels annoyed.', 'Kristin feels annoyed.', 'Nancy feels annoyed.', 'Stephanie feels annoyed.', 'Ellen feels annoyed.'], ['Alonzo feels annoyed.', 'Jamel feels annoyed.', 'Alphonse feels annoyed.', 'Jerome feels annoyed.', 'Leroy feels annoyed.', 'Torrance feels annoyed.', 'Darnell feels annoyed.', 'Lamar feels annoyed.', 'Malik feels annoyed.', 'Terrence feels annoyed.', 'Adam feels annoyed.', 'Harry feels annoyed.', 'Josh feels annoyed.', 'Roger feels annoyed.', 'Alan feels annoyed.', 'Frank feels annoyed.', 'Justin feels annoyed.', 'Ryan feels annoyed.', 'Andrew feels annoyed.', 'Jack feels annoyed.']), 5: (['Nichelle feels sad.', 'Shereen feels sad.', 'Ebony feels sad.', 'Latisha feels sad.', 'Shaniqua feels sad.', 'Jasmine feels sad.', 'Tanisha feels sad.', 'Tia feels sad.', 'Lakisha feels sad.', 'Latoya feels sad.', 'Amanda feels sad.', 'Courtney feels sad.', 'Heather feels sad.', 'Melanie feels sad.', 'Katie feels sad.', 'Betsy feels sad.', 'Kristin feels sad.', 'Nancy feels sad.', 'Stephanie feels sad.', 'Ellen feels sad.'], ['Alonzo feels sad.', 'Jamel feels sad.', 'Alphonse feels sad.', 'Jerome feels sad.', 'Leroy feels sad.', 'Torrance feels sad.', 'Darnell feels sad.', 'Lamar feels sad.', 'Malik feels sad.', 'Terrence feels sad.', 'Adam feels sad.', 'Harry feels sad.', 'Josh feels sad.', 'Roger feels sad.', 'Alan feels sad.', 'Frank feels sad.', 'Justin feels sad.', 'Ryan feels sad.', 'Andrew feels sad.', 'Jack feels sad.']), 6: (['Nichelle feels depressed.', 'Shereen feels depressed.', 'Ebony feels depressed.', 'Latisha feels depressed.', 'Shaniqua feels depressed.', 'Jasmine feels depressed.', 'Tanisha feels depressed.', 'Tia feels depressed.', 'Lakisha feels depressed.', 'Latoya feels depressed.', 'Amanda feels depressed.', 'Courtney feels depressed.', 'Heather feels depressed.', 'Melanie feels depressed.', 'Katie feels depressed.', 'Betsy feels depressed.', 'Kristin feels depressed.', 'Nancy feels depressed.', 'Stephanie feels depressed.', 'Ellen feels depressed.'], ['Alonzo feels depressed.', 'Jamel feels depressed.', 'Alphonse feels depressed.', 'Jerome feels depressed.', 'Leroy feels depressed.', 'Torrance feels depressed.', 'Darnell feels depressed.', 'Lamar feels depressed.', 'Malik feels depressed.', 'Terrence feels depressed.', 'Adam feels depressed.', 'Harry feels depressed.', 'Josh feels depressed.', 'Roger feels depressed.', 'Alan feels depressed.', 'Frank feels depressed.', 'Justin feels depressed.', 'Ryan feels depressed.', 'Andrew feels depressed.', 'Jack feels depressed.']), 7: (['Nichelle feels devastated.', 'Shereen feels devastated.', 'Ebony feels devastated.', 'Latisha feels devastated.', 'Shaniqua feels devastated.', 'Jasmine feels devastated.', 'Tanisha feels devastated.', 'Tia feels devastated.', 'Lakisha feels devastated.', 'Latoya feels devastated.', 'Amanda feels devastated.', 'Courtney feels devastated.', 'Heather feels devastated.', 'Melanie feels devastated.', 'Katie feels devastated.', 'Betsy feels devastated.', 'Kristin feels devastated.', 'Nancy feels devastated.', 'Stephanie feels devastated.', 'Ellen feels devastated.'], ['Alonzo feels devastated.', 'Jamel feels devastated.', 'Alphonse feels devastated.', 'Jerome feels devastated.', 'Leroy feels devastated.', 'Torrance feels devastated.', 'Darnell feels devastated.', 'Lamar feels devastated.', 'Malik feels devastated.', 'Terrence feels devastated.', 'Adam feels devastated.', 'Harry feels devastated.', 'Josh feels devastated.', 'Roger feels devastated.', 'Alan feels devastated.', 'Frank feels devastated.', 'Justin feels devastated.', 'Ryan feels devastated.', 'Andrew feels devastated.', 'Jack feels devastated.']), 8: (['Nichelle feels miserable.', 'Shereen feels miserable.', 'Ebony feels miserable.', 'Latisha feels miserable.', 'Shaniqua feels miserable.', 'Jasmine feels miserable.', 'Tanisha feels miserable.', 'Tia feels miserable.', 'Lakisha feels miserable.', 'Latoya feels miserable.', 'Amanda feels miserable.', 'Courtney feels miserable.', 'Heather feels miserable.', 'Melanie feels miserable.', 'Katie feels miserable.', 'Betsy feels miserable.', 'Kristin feels miserable.', 'Nancy feels miserable.', 'Stephanie feels miserable.', 'Ellen feels miserable.'], ['Alonzo feels miserable.', 'Jamel feels miserable.', 'Alphonse feels miserable.', 'Jerome feels miserable.', 'Leroy feels miserable.', 'Torrance feels miserable.', 'Darnell feels miserable.', 'Lamar feels miserable.', 'Malik feels miserable.', 'Terrence feels miserable.', 'Adam feels miserable.', 'Harry feels miserable.', 'Josh feels miserable.', 'Roger feels miserable.', 'Alan feels miserable.', 'Frank feels miserable.', 'Justin feels miserable.', 'Ryan feels miserable.', 'Andrew feels miserable.', 'Jack feels miserable.']), 9: (['Nichelle feels disappointed.', 'Shereen feels disappointed.', 'Ebony feels disappointed.', 'Latisha feels disappointed.', 'Shaniqua feels disappointed.', 'Jasmine feels disappointed.', 'Tanisha feels disappointed.', 'Tia feels disappointed.', 'Lakisha feels disappointed.', 'Latoya feels disappointed.', 'Amanda feels disappointed.', 'Courtney feels disappointed.', 'Heather feels disappointed.', 'Melanie feels disappointed.', 'Katie feels disappointed.', 'Betsy feels disappointed.', 'Kristin feels disappointed.', 'Nancy feels disappointed.', 'Stephanie feels disappointed.', 'Ellen feels disappointed.'], ['Alonzo feels disappointed.', 'Jamel feels disappointed.', 'Alphonse feels disappointed.', 'Jerome feels disappointed.', 'Leroy feels disappointed.', 'Torrance feels disappointed.', 'Darnell feels disappointed.', 'Lamar feels disappointed.', 'Malik feels disappointed.', 'Terrence feels disappointed.', 'Adam feels disappointed.', 'Harry feels disappointed.', 'Josh feels disappointed.', 'Roger feels disappointed.', 'Alan feels disappointed.', 'Frank feels disappointed.', 'Justin feels disappointed.', 'Ryan feels disappointed.', 'Andrew feels disappointed.', 'Jack feels disappointed.']), 10: (['Nichelle feels terrified.', 'Shereen feels terrified.', 'Ebony feels terrified.', 'Latisha feels terrified.', 'Shaniqua feels terrified.', 'Jasmine feels terrified.', 'Tanisha feels terrified.', 'Tia feels terrified.', 'Lakisha feels terrified.', 'Latoya feels terrified.', 'Amanda feels terrified.', 'Courtney feels terrified.', 'Heather feels terrified.', 'Melanie feels terrified.', 'Katie feels terrified.', 'Betsy feels terrified.', 'Kristin feels terrified.', 'Nancy feels terrified.', 'Stephanie feels terrified.', 'Ellen feels terrified.'], ['Alonzo feels terrified.', 'Jamel feels terrified.', 'Alphonse feels terrified.', 'Jerome feels terrified.', 'Leroy feels terrified.', 'Torrance feels terrified.', 'Darnell feels terrified.', 'Lamar feels terrified.', 'Malik feels terrified.', 'Terrence feels terrified.', 'Adam feels terrified.', 'Harry feels terrified.', 'Josh feels terrified.', 'Roger feels terrified.', 'Alan feels terrified.', 'Frank feels terrified.', 'Justin feels terrified.', 'Ryan feels terrified.', 'Andrew feels terrified.', 'Jack feels terrified.']), 11: (['Nichelle feels discouraged.', 'Shereen feels discouraged.', 'Ebony feels discouraged.', 'Latisha feels discouraged.', 'Shaniqua feels discouraged.', 'Jasmine feels discouraged.', 'Tanisha feels discouraged.', 'Tia feels discouraged.', 'Lakisha feels discouraged.', 'Latoya feels discouraged.', 'Amanda feels discouraged.', 'Courtney feels discouraged.', 'Heather feels discouraged.', 'Melanie feels discouraged.', 'Katie feels discouraged.', 'Betsy feels discouraged.', 'Kristin feels discouraged.', 'Nancy feels discouraged.', 'Stephanie feels discouraged.', 'Ellen feels discouraged.'], ['Alonzo feels discouraged.', 'Jamel feels discouraged.', 'Alphonse feels discouraged.', 'Jerome feels discouraged.', 'Leroy feels discouraged.', 'Torrance feels discouraged.', 'Darnell feels discouraged.', 'Lamar feels discouraged.', 'Malik feels discouraged.', 'Terrence feels discouraged.', 'Adam feels discouraged.', 'Harry feels discouraged.', 'Josh feels discouraged.', 'Roger feels discouraged.', 'Alan feels discouraged.', 'Frank feels discouraged.', 'Justin feels discouraged.', 'Ryan feels discouraged.', 'Andrew feels discouraged.', 'Jack feels discouraged.']), 12: (['Nichelle feels scared.', 'Shereen feels scared.', 'Ebony feels scared.', 'Latisha feels scared.', 'Shaniqua feels scared.', 'Jasmine feels scared.', 'Tanisha feels scared.', 'Tia feels scared.', 'Lakisha feels scared.', 'Latoya feels scared.', 'Amanda feels scared.', 'Courtney feels scared.', 'Heather feels scared.', 'Melanie feels scared.', 'Katie feels scared.', 'Betsy feels scared.', 'Kristin feels scared.', 'Nancy feels scared.', 'Stephanie feels scared.', 'Ellen feels scared.'], ['Alonzo feels scared.', 'Jamel feels scared.', 'Alphonse feels scared.', 'Jerome feels scared.', 'Leroy feels scared.', 'Torrance feels scared.', 'Darnell feels scared.', 'Lamar feels scared.', 'Malik feels scared.', 'Terrence feels scared.', 'Adam feels scared.', 'Harry feels scared.', 'Josh feels scared.', 'Roger feels scared.', 'Alan feels scared.', 'Frank feels scared.', 'Justin feels scared.', 'Ryan feels scared.', 'Andrew feels scared.', 'Jack feels scared.']), 13: (['Nichelle feels anxious.', 'Shereen feels anxious.', 'Ebony feels anxious.', 'Latisha feels anxious.', 'Shaniqua feels anxious.', 'Jasmine feels anxious.', 'Tanisha feels anxious.', 'Tia feels anxious.', 'Lakisha feels anxious.', 'Latoya feels anxious.', 'Amanda feels anxious.', 'Courtney feels anxious.', 'Heather feels anxious.', 'Melanie feels anxious.', 'Katie feels anxious.', 'Betsy feels anxious.', 'Kristin feels anxious.', 'Nancy feels anxious.', 'Stephanie feels anxious.', 'Ellen feels anxious.'], ['Alonzo feels anxious.', 'Jamel feels anxious.', 'Alphonse feels anxious.', 'Jerome feels anxious.', 'Leroy feels anxious.', 'Torrance feels anxious.', 'Darnell feels anxious.', 'Lamar feels anxious.', 'Malik feels anxious.', 'Terrence feels anxious.', 'Adam feels anxious.', 'Harry feels anxious.', 'Josh feels anxious.', 'Roger feels anxious.', 'Alan feels anxious.', 'Frank feels anxious.', 'Justin feels anxious.', 'Ryan feels anxious.', 'Andrew feels anxious.', 'Jack feels anxious.']), 14: (['Nichelle feels fearful.', 'Shereen feels fearful.', 'Ebony feels fearful.', 'Latisha feels fearful.', 'Shaniqua feels fearful.', 'Jasmine feels fearful.', 'Tanisha feels fearful.', 'Tia feels fearful.', 'Lakisha feels fearful.', 'Latoya feels fearful.', 'Amanda feels fearful.', 'Courtney feels fearful.', 'Heather feels fearful.', 'Melanie feels fearful.', 'Katie feels fearful.', 'Betsy feels fearful.', 'Kristin feels fearful.', 'Nancy feels fearful.', 'Stephanie feels fearful.', 'Ellen feels fearful.'], ['Alonzo feels fearful.', 'Jamel feels fearful.', 'Alphonse feels fearful.', 'Jerome feels fearful.', 'Leroy feels fearful.', 'Torrance feels fearful.', 'Darnell feels fearful.', 'Lamar feels fearful.', 'Malik feels fearful.', 'Terrence feels fearful.', 'Adam feels fearful.', 'Harry feels fearful.', 'Josh feels fearful.', 'Roger feels fearful.', 'Alan feels fearful.', 'Frank feels fearful.', 'Justin feels fearful.', 'Ryan feels fearful.', 'Andrew feels fearful.', 'Jack feels fearful.']), 15: (['Nichelle feels happy.', 'Shereen feels happy.', 'Ebony feels happy.', 'Latisha feels happy.', 'Shaniqua feels happy.', 'Jasmine feels happy.', 'Tanisha feels happy.', 'Tia feels happy.', 'Lakisha feels happy.', 'Latoya feels happy.', 'Amanda feels happy.', 'Courtney feels happy.', 'Heather feels happy.', 'Melanie feels happy.', 'Katie feels happy.', 'Betsy feels happy.', 'Kristin feels happy.', 'Nancy feels happy.', 'Stephanie feels happy.', 'Ellen feels happy.'], ['Alonzo feels happy.', 'Jamel feels happy.', 'Alphonse feels happy.', 'Jerome feels happy.', 'Leroy feels happy.', 'Torrance feels happy.', 'Darnell feels happy.', 'Lamar feels happy.', 'Malik feels happy.', 'Terrence feels happy.', 'Adam feels happy.', 'Harry feels happy.', 'Josh feels happy.', 'Roger feels happy.', 'Alan feels happy.', 'Frank feels happy.', 'Justin feels happy.', 'Ryan feels happy.', 'Andrew feels happy.', 'Jack feels happy.']), 16: (['Nichelle feels ecstatic.', 'Shereen feels ecstatic.', 'Ebony feels ecstatic.', 'Latisha feels ecstatic.', 'Shaniqua feels ecstatic.', 'Jasmine feels ecstatic.', 'Tanisha feels ecstatic.', 'Tia feels ecstatic.', 'Lakisha feels ecstatic.', 'Latoya feels ecstatic.', 'Amanda feels ecstatic.', 'Courtney feels ecstatic.', 'Heather feels ecstatic.', 'Melanie feels ecstatic.', 'Katie feels ecstatic.', 'Betsy feels ecstatic.', 'Kristin feels ecstatic.', 'Nancy feels ecstatic.', 'Stephanie feels ecstatic.', 'Ellen feels ecstatic.'], ['Alonzo feels ecstatic.', 'Jamel feels ecstatic.', 'Alphonse feels ecstatic.', 'Jerome feels ecstatic.', 'Leroy feels ecstatic.', 'Torrance feels ecstatic.', 'Darnell feels ecstatic.', 'Lamar feels ecstatic.', 'Malik feels ecstatic.', 'Terrence feels ecstatic.', 'Adam feels ecstatic.', 'Harry feels ecstatic.', 'Josh feels ecstatic.', 'Roger feels ecstatic.', 'Alan feels ecstatic.', 'Frank feels ecstatic.', 'Justin feels ecstatic.', 'Ryan feels ecstatic.', 'Andrew feels ecstatic.', 'Jack feels ecstatic.']), 17: (['Nichelle feels glad.', 'Shereen feels glad.', 'Ebony feels glad.', 'Latisha feels glad.', 'Shaniqua feels glad.', 'Jasmine feels glad.', 'Tanisha feels glad.', 'Tia feels glad.', 'Lakisha feels glad.', 'Latoya feels glad.', 'Amanda feels glad.', 'Courtney feels glad.', 'Heather feels glad.', 'Melanie feels glad.', 'Katie feels glad.', 'Betsy feels glad.', 'Kristin feels glad.', 'Nancy feels glad.', 'Stephanie feels glad.', 'Ellen feels glad.'], ['Alonzo feels glad.', 'Jamel feels glad.', 'Alphonse feels glad.', 'Jerome feels glad.', 'Leroy feels glad.', 'Torrance feels glad.', 'Darnell feels glad.', 'Lamar feels glad.', 'Malik feels glad.', 'Terrence feels glad.', 'Adam feels glad.', 'Harry feels glad.', 'Josh feels glad.', 'Roger feels glad.', 'Alan feels glad.', 'Frank feels glad.', 'Justin feels glad.', 'Ryan feels glad.', 'Andrew feels glad.', 'Jack feels glad.']), 18: (['Nichelle feels relieved.', 'Shereen feels relieved.', 'Ebony feels relieved.', 'Latisha feels relieved.', 'Shaniqua feels relieved.', 'Jasmine feels relieved.', 'Tanisha feels relieved.', 'Tia feels relieved.', 'Lakisha feels relieved.', 'Latoya feels relieved.', 'Amanda feels relieved.', 'Courtney feels relieved.', 'Heather feels relieved.', 'Melanie feels relieved.', 'Katie feels relieved.', 'Betsy feels relieved.', 'Kristin feels relieved.', 'Nancy feels relieved.', 'Stephanie feels relieved.', 'Ellen feels relieved.'], ['Alonzo feels relieved.', 'Jamel feels relieved.', 'Alphonse feels relieved.', 'Jerome feels relieved.', 'Leroy feels relieved.', 'Torrance feels relieved.', 'Darnell feels relieved.', 'Lamar feels relieved.', 'Malik feels relieved.', 'Terrence feels relieved.', 'Adam feels relieved.', 'Harry feels relieved.', 'Josh feels relieved.', 'Roger feels relieved.', 'Alan feels relieved.', 'Frank feels relieved.', 'Justin feels relieved.', 'Ryan feels relieved.', 'Andrew feels relieved.', 'Jack feels relieved.']), 19: (['Nichelle feels excited.', 'Shereen feels excited.', 'Ebony feels excited.', 'Latisha feels excited.', 'Shaniqua feels excited.', 'Jasmine feels excited.', 'Tanisha feels excited.', 'Tia feels excited.', 'Lakisha feels excited.', 'Latoya feels excited.', 'Amanda feels excited.', 'Courtney feels excited.', 'Heather feels excited.', 'Melanie feels excited.', 'Katie feels excited.', 'Betsy feels excited.', 'Kristin feels excited.', 'Nancy feels excited.', 'Stephanie feels excited.', 'Ellen feels excited.'], ['Alonzo feels excited.', 'Jamel feels excited.', 'Alphonse feels excited.', 'Jerome feels excited.', 'Leroy feels excited.', 'Torrance feels excited.', 'Darnell feels excited.', 'Lamar feels excited.', 'Malik feels excited.', 'Terrence feels excited.', 'Adam feels excited.', 'Harry feels excited.', 'Josh feels excited.', 'Roger feels excited.', 'Alan feels excited.', 'Frank feels excited.', 'Justin feels excited.', 'Ryan feels excited.', 'Andrew feels excited.', 'Jack feels excited.']), 20: (['The situation makes Nichelle feel angry.', 'The situation makes Shereen feel angry.', 'The situation makes Ebony feel angry.', 'The situation makes Latisha feel angry.', 'The situation makes Shaniqua feel angry.', 'The situation makes Jasmine feel angry.', 'The situation makes Tanisha feel angry.', 'The situation makes Tia feel angry.', 'The situation makes Lakisha feel angry.', 'The situation makes Latoya feel angry.', 'The situation makes Amanda feel angry.', 'The situation makes Courtney feel angry.', 'The situation makes Heather feel angry.', 'The situation makes Melanie feel angry.', 'The situation makes Katie feel angry.', 'The situation makes Betsy feel angry.', 'The situation makes Kristin feel angry.', 'The situation makes Nancy feel angry.', 'The situation makes Stephanie feel angry.', 'The situation makes Ellen feel angry.'], ['The situation makes Alonzo feel angry.', 'The situation makes Jamel feel angry.', 'The situation makes Alphonse feel angry.', 'The situation makes Jerome feel angry.', 'The situation makes Leroy feel angry.', 'The situation makes Torrance feel angry.', 'The situation makes Darnell feel angry.', 'The situation makes Lamar feel angry.', 'The situation makes Malik feel angry.', 'The situation makes Terrence feel angry.', 'The situation makes Adam feel angry.', 'The situation makes Harry feel angry.', 'The situation makes Josh feel angry.', 'The situation makes Roger feel angry.', 'The situation makes Alan feel angry.', 'The situation makes Frank feel angry.', 'The situation makes Justin feel angry.', 'The situation makes Ryan feel angry.', 'The situation makes Andrew feel angry.', 'The situation makes Jack feel angry.']), 21: (['The situation makes Nichelle feel furious.', 'The situation makes Shereen feel furious.', 'The situation makes Ebony feel furious.', 'The situation makes Latisha feel furious.', 'The situation makes Shaniqua feel furious.', 'The situation makes Jasmine feel furious.', 'The situation makes Tanisha feel furious.', 'The situation makes Tia feel furious.', 'The situation makes Lakisha feel furious.', 'The situation makes Latoya feel furious.', 'The situation makes Amanda feel furious.', 'The situation makes Courtney feel furious.', 'The situation makes Heather feel furious.', 'The situation makes Melanie feel furious.', 'The situation makes Katie feel furious.', 'The situation makes Betsy feel furious.', 'The situation makes Kristin feel furious.', 'The situation makes Nancy feel furious.', 'The situation makes Stephanie feel furious.', 'The situation makes Ellen feel furious.'], ['The situation makes Alonzo feel furious.', 'The situation makes Jamel feel furious.', 'The situation makes Alphonse feel furious.', 'The situation makes Jerome feel furious.', 'The situation makes Leroy feel furious.', 'The situation makes Torrance feel furious.', 'The situation makes Darnell feel furious.', 'The situation makes Lamar feel furious.', 'The situation makes Malik feel furious.', 'The situation makes Terrence feel furious.', 'The situation makes Adam feel furious.', 'The situation makes Harry feel furious.', 'The situation makes Josh feel furious.', 'The situation makes Roger feel furious.', 'The situation makes Alan feel furious.', 'The situation makes Frank feel furious.', 'The situation makes Justin feel furious.', 'The situation makes Ryan feel furious.', 'The situation makes Andrew feel furious.', 'The situation makes Jack feel furious.']), 22: (['The situation makes Nichelle feel irritated.', 'The situation makes Shereen feel irritated.', 'The situation makes Ebony feel irritated.', 'The situation makes Latisha feel irritated.', 'The situation makes Shaniqua feel irritated.', 'The situation makes Jasmine feel irritated.', 'The situation makes Tanisha feel irritated.', 'The situation makes Tia feel irritated.', 'The situation makes Lakisha feel irritated.', 'The situation makes Latoya feel irritated.', 'The situation makes Amanda feel irritated.', 'The situation makes Courtney feel irritated.', 'The situation makes Heather feel irritated.', 'The situation makes Melanie feel irritated.', 'The situation makes Katie feel irritated.', 'The situation makes Betsy feel irritated.', 'The situation makes Kristin feel irritated.', 'The situation makes Nancy feel irritated.', 'The situation makes Stephanie feel irritated.', 'The situation makes Ellen feel irritated.'], ['The situation makes Alonzo feel irritated.', 'The situation makes Jamel feel irritated.', 'The situation makes Alphonse feel irritated.', 'The situation makes Jerome feel irritated.', 'The situation makes Leroy feel irritated.', 'The situation makes Torrance feel irritated.', 'The situation makes Darnell feel irritated.', 'The situation makes Lamar feel irritated.', 'The situation makes Malik feel irritated.', 'The situation makes Terrence feel irritated.', 'The situation makes Adam feel irritated.', 'The situation makes Harry feel irritated.', 'The situation makes Josh feel irritated.', 'The situation makes Roger feel irritated.', 'The situation makes Alan feel irritated.', 'The situation makes Frank feel irritated.', 'The situation makes Justin feel irritated.', 'The situation makes Ryan feel irritated.', 'The situation makes Andrew feel irritated.', 'The situation makes Jack feel irritated.']), 23: (['The situation makes Nichelle feel enraged.', 'The situation makes Shereen feel enraged.', 'The situation makes Ebony feel enraged.', 'The situation makes Latisha feel enraged.', 'The situation makes Shaniqua feel enraged.', 'The situation makes Jasmine feel enraged.', 'The situation makes Tanisha feel enraged.', 'The situation makes Tia feel enraged.', 'The situation makes Lakisha feel enraged.', 'The situation makes Latoya feel enraged.', 'The situation makes Amanda feel enraged.', 'The situation makes Courtney feel enraged.', 'The situation makes Heather feel enraged.', 'The situation makes Melanie feel enraged.', 'The situation makes Katie feel enraged.', 'The situation makes Betsy feel enraged.', 'The situation makes Kristin feel enraged.', 'The situation makes Nancy feel enraged.', 'The situation makes Stephanie feel enraged.', 'The situation makes Ellen feel enraged.'], ['The situation makes Alonzo feel enraged.', 'The situation makes Jamel feel enraged.', 'The situation makes Alphonse feel enraged.', 'The situation makes Jerome feel enraged.', 'The situation makes Leroy feel enraged.', 'The situation makes Torrance feel enraged.', 'The situation makes Darnell feel enraged.', 'The situation makes Lamar feel enraged.', 'The situation makes Malik feel enraged.', 'The situation makes Terrence feel enraged.', 'The situation makes Adam feel enraged.', 'The situation makes Harry feel enraged.', 'The situation makes Josh feel enraged.', 'The situation makes Roger feel enraged.', 'The situation makes Alan feel enraged.', 'The situation makes Frank feel enraged.', 'The situation makes Justin feel enraged.', 'The situation makes Ryan feel enraged.', 'The situation makes Andrew feel enraged.', 'The situation makes Jack feel enraged.']), 24: (['The situation makes Nichelle feel annoyed.', 'The situation makes Shereen feel annoyed.', 'The situation makes Ebony feel annoyed.', 'The situation makes Latisha feel annoyed.', 'The situation makes Shaniqua feel annoyed.', 'The situation makes Jasmine feel annoyed.', 'The situation makes Tanisha feel annoyed.', 'The situation makes Tia feel annoyed.', 'The situation makes Lakisha feel annoyed.', 'The situation makes Latoya feel annoyed.', 'The situation makes Amanda feel annoyed.', 'The situation makes Courtney feel annoyed.', 'The situation makes Heather feel annoyed.', 'The situation makes Melanie feel annoyed.', 'The situation makes Katie feel annoyed.', 'The situation makes Betsy feel annoyed.', 'The situation makes Kristin feel annoyed.', 'The situation makes Nancy feel annoyed.', 'The situation makes Stephanie feel annoyed.', 'The situation makes Ellen feel annoyed.'], ['The situation makes Alonzo feel annoyed.', 'The situation makes Jamel feel annoyed.', 'The situation makes Alphonse feel annoyed.', 'The situation makes Jerome feel annoyed.', 'The situation makes Leroy feel annoyed.', 'The situation makes Torrance feel annoyed.', 'The situation makes Darnell feel annoyed.', 'The situation makes Lamar feel annoyed.', 'The situation makes Malik feel annoyed.', 'The situation makes Terrence feel annoyed.', 'The situation makes Adam feel annoyed.', 'The situation makes Harry feel annoyed.', 'The situation makes Josh feel annoyed.', 'The situation makes Roger feel annoyed.', 'The situation makes Alan feel annoyed.', 'The situation makes Frank feel annoyed.', 'The situation makes Justin feel annoyed.', 'The situation makes Ryan feel annoyed.', 'The situation makes Andrew feel annoyed.', 'The situation makes Jack feel annoyed.']), 25: (['The situation makes Nichelle feel sad.', 'The situation makes Shereen feel sad.', 'The situation makes Ebony feel sad.', 'The situation makes Latisha feel sad.', 'The situation makes Shaniqua feel sad.', 'The situation makes Jasmine feel sad.', 'The situation makes Tanisha feel sad.', 'The situation makes Tia feel sad.', 'The situation makes Lakisha feel sad.', 'The situation makes Latoya feel sad.', 'The situation makes Amanda feel sad.', 'The situation makes Courtney feel sad.', 'The situation makes Heather feel sad.', 'The situation makes Melanie feel sad.', 'The situation makes Katie feel sad.', 'The situation makes Betsy feel sad.', 'The situation makes Kristin feel sad.', 'The situation makes Nancy feel sad.', 'The situation makes Stephanie feel sad.', 'The situation makes Ellen feel sad.'], ['The situation makes Alonzo feel sad.', 'The situation makes Jamel feel sad.', 'The situation makes Alphonse feel sad.', 'The situation makes Jerome feel sad.', 'The situation makes Leroy feel sad.', 'The situation makes Torrance feel sad.', 'The situation makes Darnell feel sad.', 'The situation makes Lamar feel sad.', 'The situation makes Malik feel sad.', 'The situation makes Terrence feel sad.', 'The situation makes Adam feel sad.', 'The situation makes Harry feel sad.', 'The situation makes Josh feel sad.', 'The situation makes Roger feel sad.', 'The situation makes Alan feel sad.', 'The situation makes Frank feel sad.', 'The situation makes Justin feel sad.', 'The situation makes Ryan feel sad.', 'The situation makes Andrew feel sad.', 'The situation makes Jack feel sad.']), 26: (['The situation makes Nichelle feel depressed.', 'The situation makes Shereen feel depressed.', 'The situation makes Ebony feel depressed.', 'The situation makes Latisha feel depressed.', 'The situation makes Shaniqua feel depressed.', 'The situation makes Jasmine feel depressed.', 'The situation makes Tanisha feel depressed.', 'The situation makes Tia feel depressed.', 'The situation makes Lakisha feel depressed.', 'The situation makes Latoya feel depressed.', 'The situation makes Amanda feel depressed.', 'The situation makes Courtney feel depressed.', 'The situation makes Heather feel depressed.', 'The situation makes Melanie feel depressed.', 'The situation makes Katie feel depressed.', 'The situation makes Betsy feel depressed.', 'The situation makes Kristin feel depressed.', 'The situation makes Nancy feel depressed.', 'The situation makes Stephanie feel depressed.', 'The situation makes Ellen feel depressed.'], ['The situation makes Alonzo feel depressed.', 'The situation makes Jamel feel depressed.', 'The situation makes Alphonse feel depressed.', 'The situation makes Jerome feel depressed.', 'The situation makes Leroy feel depressed.', 'The situation makes Torrance feel depressed.', 'The situation makes Darnell feel depressed.', 'The situation makes Lamar feel depressed.', 'The situation makes Malik feel depressed.', 'The situation makes Terrence feel depressed.', 'The situation makes Adam feel depressed.', 'The situation makes Harry feel depressed.', 'The situation makes Josh feel depressed.', 'The situation makes Roger feel depressed.', 'The situation makes Alan feel depressed.', 'The situation makes Frank feel depressed.', 'The situation makes Justin feel depressed.', 'The situation makes Ryan feel depressed.', 'The situation makes Andrew feel depressed.', 'The situation makes Jack feel depressed.']), 27: (['The situation makes Nichelle feel devastated.', 'The situation makes Shereen feel devastated.', 'The situation makes Ebony feel devastated.', 'The situation makes Latisha feel devastated.', 'The situation makes Shaniqua feel devastated.', 'The situation makes Jasmine feel devastated.', 'The situation makes Tanisha feel devastated.', 'The situation makes Tia feel devastated.', 'The situation makes Lakisha feel devastated.', 'The situation makes Latoya feel devastated.', 'The situation makes Amanda feel devastated.', 'The situation makes Courtney feel devastated.', 'The situation makes Heather feel devastated.', 'The situation makes Melanie feel devastated.', 'The situation makes Katie feel devastated.', 'The situation makes Betsy feel devastated.', 'The situation makes Kristin feel devastated.', 'The situation makes Nancy feel devastated.', 'The situation makes Stephanie feel devastated.', 'The situation makes Ellen feel devastated.'], ['The situation makes Alonzo feel devastated.', 'The situation makes Jamel feel devastated.', 'The situation makes Alphonse feel devastated.', 'The situation makes Jerome feel devastated.', 'The situation makes Leroy feel devastated.', 'The situation makes Torrance feel devastated.', 'The situation makes Darnell feel devastated.', 'The situation makes Lamar feel devastated.', 'The situation makes Malik feel devastated.', 'The situation makes Terrence feel devastated.', 'The situation makes Adam feel devastated.', 'The situation makes Harry feel devastated.', 'The situation makes Josh feel devastated.', 'The situation makes Roger feel devastated.', 'The situation makes Alan feel devastated.', 'The situation makes Frank feel devastated.', 'The situation makes Justin feel devastated.', 'The situation makes Ryan feel devastated.', 'The situation makes Andrew feel devastated.', 'The situation makes Jack feel devastated.']), 28: (['The situation makes Nichelle feel miserable.', 'The situation makes Shereen feel miserable.', 'The situation makes Ebony feel miserable.', 'The situation makes Latisha feel miserable.', 'The situation makes Shaniqua feel miserable.', 'The situation makes Jasmine feel miserable.', 'The situation makes Tanisha feel miserable.', 'The situation makes Tia feel miserable.', 'The situation makes Lakisha feel miserable.', 'The situation makes Latoya feel miserable.', 'The situation makes Amanda feel miserable.', 'The situation makes Courtney feel miserable.', 'The situation makes Heather feel miserable.', 'The situation makes Melanie feel miserable.', 'The situation makes Katie feel miserable.', 'The situation makes Betsy feel miserable.', 'The situation makes Kristin feel miserable.', 'The situation makes Nancy feel miserable.', 'The situation makes Stephanie feel miserable.', 'The situation makes Ellen feel miserable.'], ['The situation makes Alonzo feel miserable.', 'The situation makes Jamel feel miserable.', 'The situation makes Alphonse feel miserable.', 'The situation makes Jerome feel miserable.', 'The situation makes Leroy feel miserable.', 'The situation makes Torrance feel miserable.', 'The situation makes Darnell feel miserable.', 'The situation makes Lamar feel miserable.', 'The situation makes Malik feel miserable.', 'The situation makes Terrence feel miserable.', 'The situation makes Adam feel miserable.', 'The situation makes Harry feel miserable.', 'The situation makes Josh feel miserable.', 'The situation makes Roger feel miserable.', 'The situation makes Alan feel miserable.', 'The situation makes Frank feel miserable.', 'The situation makes Justin feel miserable.', 'The situation makes Ryan feel miserable.', 'The situation makes Andrew feel miserable.', 'The situation makes Jack feel miserable.']), 29: (['The situation makes Nichelle feel disappointed.', 'The situation makes Shereen feel disappointed.', 'The situation makes Ebony feel disappointed.', 'The situation makes Latisha feel disappointed.', 'The situation makes Shaniqua feel disappointed.', 'The situation makes Jasmine feel disappointed.', 'The situation makes Tanisha feel disappointed.', 'The situation makes Tia feel disappointed.', 'The situation makes Lakisha feel disappointed.', 'The situation makes Latoya feel disappointed.', 'The situation makes Amanda feel disappointed.', 'The situation makes Courtney feel disappointed.', 'The situation makes Heather feel disappointed.', 'The situation makes Melanie feel disappointed.', 'The situation makes Katie feel disappointed.', 'The situation makes Betsy feel disappointed.', 'The situation makes Kristin feel disappointed.', 'The situation makes Nancy feel disappointed.', 'The situation makes Stephanie feel disappointed.', 'The situation makes Ellen feel disappointed.'], ['The situation makes Alonzo feel disappointed.', 'The situation makes Jamel feel disappointed.', 'The situation makes Alphonse feel disappointed.', 'The situation makes Jerome feel disappointed.', 'The situation makes Leroy feel disappointed.', 'The situation makes Torrance feel disappointed.', 'The situation makes Darnell feel disappointed.', 'The situation makes Lamar feel disappointed.', 'The situation makes Malik feel disappointed.', 'The situation makes Terrence feel disappointed.', 'The situation makes Adam feel disappointed.', 'The situation makes Harry feel disappointed.', 'The situation makes Josh feel disappointed.', 'The situation makes Roger feel disappointed.', 'The situation makes Alan feel disappointed.', 'The situation makes Frank feel disappointed.', 'The situation makes Justin feel disappointed.', 'The situation makes Ryan feel disappointed.', 'The situation makes Andrew feel disappointed.', 'The situation makes Jack feel disappointed.']), 30: (['The situation makes Nichelle feel terrified.', 'The situation makes Shereen feel terrified.', 'The situation makes Ebony feel terrified.', 'The situation makes Latisha feel terrified.', 'The situation makes Shaniqua feel terrified.', 'The situation makes Jasmine feel terrified.', 'The situation makes Tanisha feel terrified.', 'The situation makes Tia feel terrified.', 'The situation makes Lakisha feel terrified.', 'The situation makes Latoya feel terrified.', 'The situation makes Amanda feel terrified.', 'The situation makes Courtney feel terrified.', 'The situation makes Heather feel terrified.', 'The situation makes Melanie feel terrified.', 'The situation makes Katie feel terrified.', 'The situation makes Betsy feel terrified.', 'The situation makes Kristin feel terrified.', 'The situation makes Nancy feel terrified.', 'The situation makes Stephanie feel terrified.', 'The situation makes Ellen feel terrified.'], ['The situation makes Alonzo feel terrified.', 'The situation makes Jamel feel terrified.', 'The situation makes Alphonse feel terrified.', 'The situation makes Jerome feel terrified.', 'The situation makes Leroy feel terrified.', 'The situation makes Torrance feel terrified.', 'The situation makes Darnell feel terrified.', 'The situation makes Lamar feel terrified.', 'The situation makes Malik feel terrified.', 'The situation makes Terrence feel terrified.', 'The situation makes Adam feel terrified.', 'The situation makes Harry feel terrified.', 'The situation makes Josh feel terrified.', 'The situation makes Roger feel terrified.', 'The situation makes Alan feel terrified.', 'The situation makes Frank feel terrified.', 'The situation makes Justin feel terrified.', 'The situation makes Ryan feel terrified.', 'The situation makes Andrew feel terrified.', 'The situation makes Jack feel terrified.']), 31: (['The situation makes Nichelle feel discouraged.', 'The situation makes Shereen feel discouraged.', 'The situation makes Ebony feel discouraged.', 'The situation makes Latisha feel discouraged.', 'The situation makes Shaniqua feel discouraged.', 'The situation makes Jasmine feel discouraged.', 'The situation makes Tanisha feel discouraged.', 'The situation makes Tia feel discouraged.', 'The situation makes Lakisha feel discouraged.', 'The situation makes Latoya feel discouraged.', 'The situation makes Amanda feel discouraged.', 'The situation makes Courtney feel discouraged.', 'The situation makes Heather feel discouraged.', 'The situation makes Melanie feel discouraged.', 'The situation makes Katie feel discouraged.', 'The situation makes Betsy feel discouraged.', 'The situation makes Kristin feel discouraged.', 'The situation makes Nancy feel discouraged.', 'The situation makes Stephanie feel discouraged.', 'The situation makes Ellen feel discouraged.'], ['The situation makes Alonzo feel discouraged.', 'The situation makes Jamel feel discouraged.', 'The situation makes Alphonse feel discouraged.', 'The situation makes Jerome feel discouraged.', 'The situation makes Leroy feel discouraged.', 'The situation makes Torrance feel discouraged.', 'The situation makes Darnell feel discouraged.', 'The situation makes Lamar feel discouraged.', 'The situation makes Malik feel discouraged.', 'The situation makes Terrence feel discouraged.', 'The situation makes Adam feel discouraged.', 'The situation makes Harry feel discouraged.', 'The situation makes Josh feel discouraged.', 'The situation makes Roger feel discouraged.', 'The situation makes Alan feel discouraged.', 'The situation makes Frank feel discouraged.', 'The situation makes Justin feel discouraged.', 'The situation makes Ryan feel discouraged.', 'The situation makes Andrew feel discouraged.', 'The situation makes Jack feel discouraged.']), 32: (['The situation makes Nichelle feel scared.', 'The situation makes Shereen feel scared.', 'The situation makes Ebony feel scared.', 'The situation makes Latisha feel scared.', 'The situation makes Shaniqua feel scared.', 'The situation makes Jasmine feel scared.', 'The situation makes Tanisha feel scared.', 'The situation makes Tia feel scared.', 'The situation makes Lakisha feel scared.', 'The situation makes Latoya feel scared.', 'The situation makes Amanda feel scared.', 'The situation makes Courtney feel scared.', 'The situation makes Heather feel scared.', 'The situation makes Melanie feel scared.', 'The situation makes Katie feel scared.', 'The situation makes Betsy feel scared.', 'The situation makes Kristin feel scared.', 'The situation makes Nancy feel scared.', 'The situation makes Stephanie feel scared.', 'The situation makes Ellen feel scared.'], ['The situation makes Alonzo feel scared.', 'The situation makes Jamel feel scared.', 'The situation makes Alphonse feel scared.', 'The situation makes Jerome feel scared.', 'The situation makes Leroy feel scared.', 'The situation makes Torrance feel scared.', 'The situation makes Darnell feel scared.', 'The situation makes Lamar feel scared.', 'The situation makes Malik feel scared.', 'The situation makes Terrence feel scared.', 'The situation makes Adam feel scared.', 'The situation makes Harry feel scared.', 'The situation makes Josh feel scared.', 'The situation makes Roger feel scared.', 'The situation makes Alan feel scared.', 'The situation makes Frank feel scared.', 'The situation makes Justin feel scared.', 'The situation makes Ryan feel scared.', 'The situation makes Andrew feel scared.', 'The situation makes Jack feel scared.']), 33: (['The situation makes Nichelle feel anxious.', 'The situation makes Shereen feel anxious.', 'The situation makes Ebony feel anxious.', 'The situation makes Latisha feel anxious.', 'The situation makes Shaniqua feel anxious.', 'The situation makes Jasmine feel anxious.', 'The situation makes Tanisha feel anxious.', 'The situation makes Tia feel anxious.', 'The situation makes Lakisha feel anxious.', 'The situation makes Latoya feel anxious.', 'The situation makes Amanda feel anxious.', 'The situation makes Courtney feel anxious.', 'The situation makes Heather feel anxious.', 'The situation makes Melanie feel anxious.', 'The situation makes Katie feel anxious.', 'The situation makes Betsy feel anxious.', 'The situation makes Kristin feel anxious.', 'The situation makes Nancy feel anxious.', 'The situation makes Stephanie feel anxious.', 'The situation makes Ellen feel anxious.'], ['The situation makes Alonzo feel anxious.', 'The situation makes Jamel feel anxious.', 'The situation makes Alphonse feel anxious.', 'The situation makes Jerome feel anxious.', 'The situation makes Leroy feel anxious.', 'The situation makes Torrance feel anxious.', 'The situation makes Darnell feel anxious.', 'The situation makes Lamar feel anxious.', 'The situation makes Malik feel anxious.', 'The situation makes Terrence feel anxious.', 'The situation makes Adam feel anxious.', 'The situation makes Harry feel anxious.', 'The situation makes Josh feel anxious.', 'The situation makes Roger feel anxious.', 'The situation makes Alan feel anxious.', 'The situation makes Frank feel anxious.', 'The situation makes Justin feel anxious.', 'The situation makes Ryan feel anxious.', 'The situation makes Andrew feel anxious.', 'The situation makes Jack feel anxious.']), 34: (['The situation makes Nichelle feel fearful.', 'The situation makes Shereen feel fearful.', 'The situation makes Ebony feel fearful.', 'The situation makes Latisha feel fearful.', 'The situation makes Shaniqua feel fearful.', 'The situation makes Jasmine feel fearful.', 'The situation makes Tanisha feel fearful.', 'The situation makes Tia feel fearful.', 'The situation makes Lakisha feel fearful.', 'The situation makes Latoya feel fearful.', 'The situation makes Amanda feel fearful.', 'The situation makes Courtney feel fearful.', 'The situation makes Heather feel fearful.', 'The situation makes Melanie feel fearful.', 'The situation makes Katie feel fearful.', 'The situation makes Betsy feel fearful.', 'The situation makes Kristin feel fearful.', 'The situation makes Nancy feel fearful.', 'The situation makes Stephanie feel fearful.', 'The situation makes Ellen feel fearful.'], ['The situation makes Alonzo feel fearful.', 'The situation makes Jamel feel fearful.', 'The situation makes Alphonse feel fearful.', 'The situation makes Jerome feel fearful.', 'The situation makes Leroy feel fearful.', 'The situation makes Torrance feel fearful.', 'The situation makes Darnell feel fearful.', 'The situation makes Lamar feel fearful.', 'The situation makes Malik feel fearful.', 'The situation makes Terrence feel fearful.', 'The situation makes Adam feel fearful.', 'The situation makes Harry feel fearful.', 'The situation makes Josh feel fearful.', 'The situation makes Roger feel fearful.', 'The situation makes Alan feel fearful.', 'The situation makes Frank feel fearful.', 'The situation makes Justin feel fearful.', 'The situation makes Ryan feel fearful.', 'The situation makes Andrew feel fearful.', 'The situation makes Jack feel fearful.']), 35: (['The situation makes Nichelle feel happy.', 'The situation makes Shereen feel happy.', 'The situation makes Ebony feel happy.', 'The situation makes Latisha feel happy.', 'The situation makes Shaniqua feel happy.', 'The situation makes Jasmine feel happy.', 'The situation makes Tanisha feel happy.', 'The situation makes Tia feel happy.', 'The situation makes Lakisha feel happy.', 'The situation makes Latoya feel happy.', 'The situation makes Amanda feel happy.', 'The situation makes Courtney feel happy.', 'The situation makes Heather feel happy.', 'The situation makes Melanie feel happy.', 'The situation makes Katie feel happy.', 'The situation makes Betsy feel happy.', 'The situation makes Kristin feel happy.', 'The situation makes Nancy feel happy.', 'The situation makes Stephanie feel happy.', 'The situation makes Ellen feel happy.'], ['The situation makes Alonzo feel happy.', 'The situation makes Jamel feel happy.', 'The situation makes Alphonse feel happy.', 'The situation makes Jerome feel happy.', 'The situation makes Leroy feel happy.', 'The situation makes Torrance feel happy.', 'The situation makes Darnell feel happy.', 'The situation makes Lamar feel happy.', 'The situation makes Malik feel happy.', 'The situation makes Terrence feel happy.', 'The situation makes Adam feel happy.', 'The situation makes Harry feel happy.', 'The situation makes Josh feel happy.', 'The situation makes Roger feel happy.', 'The situation makes Alan feel happy.', 'The situation makes Frank feel happy.', 'The situation makes Justin feel happy.', 'The situation makes Ryan feel happy.', 'The situation makes Andrew feel happy.', 'The situation makes Jack feel happy.']), 36: (['The situation makes Nichelle feel ecstatic.', 'The situation makes Shereen feel ecstatic.', 'The situation makes Ebony feel ecstatic.', 'The situation makes Latisha feel ecstatic.', 'The situation makes Shaniqua feel ecstatic.', 'The situation makes Jasmine feel ecstatic.', 'The situation makes Tanisha feel ecstatic.', 'The situation makes Tia feel ecstatic.', 'The situation makes Lakisha feel ecstatic.', 'The situation makes Latoya feel ecstatic.', 'The situation makes Amanda feel ecstatic.', 'The situation makes Courtney feel ecstatic.', 'The situation makes Heather feel ecstatic.', 'The situation makes Melanie feel ecstatic.', 'The situation makes Katie feel ecstatic.', 'The situation makes Betsy feel ecstatic.', 'The situation makes Kristin feel ecstatic.', 'The situation makes Nancy feel ecstatic.', 'The situation makes Stephanie feel ecstatic.', 'The situation makes Ellen feel ecstatic.'], ['The situation makes Alonzo feel ecstatic.', 'The situation makes Jamel feel ecstatic.', 'The situation makes Alphonse feel ecstatic.', 'The situation makes Jerome feel ecstatic.', 'The situation makes Leroy feel ecstatic.', 'The situation makes Torrance feel ecstatic.', 'The situation makes Darnell feel ecstatic.', 'The situation makes Lamar feel ecstatic.', 'The situation makes Malik feel ecstatic.', 'The situation makes Terrence feel ecstatic.', 'The situation makes Adam feel ecstatic.', 'The situation makes Harry feel ecstatic.', 'The situation makes Josh feel ecstatic.', 'The situation makes Roger feel ecstatic.', 'The situation makes Alan feel ecstatic.', 'The situation makes Frank feel ecstatic.', 'The situation makes Justin feel ecstatic.', 'The situation makes Ryan feel ecstatic.', 'The situation makes Andrew feel ecstatic.', 'The situation makes Jack feel ecstatic.']), 37: (['The situation makes Nichelle feel glad.', 'The situation makes Shereen feel glad.', 'The situation makes Ebony feel glad.', 'The situation makes Latisha feel glad.', 'The situation makes Shaniqua feel glad.', 'The situation makes Jasmine feel glad.', 'The situation makes Tanisha feel glad.', 'The situation makes Tia feel glad.', 'The situation makes Lakisha feel glad.', 'The situation makes Latoya feel glad.', 'The situation makes Amanda feel glad.', 'The situation makes Courtney feel glad.', 'The situation makes Heather feel glad.', 'The situation makes Melanie feel glad.', 'The situation makes Katie feel glad.', 'The situation makes Betsy feel glad.', 'The situation makes Kristin feel glad.', 'The situation makes Nancy feel glad.', 'The situation makes Stephanie feel glad.', 'The situation makes Ellen feel glad.'], ['The situation makes Alonzo feel glad.', 'The situation makes Jamel feel glad.', 'The situation makes Alphonse feel glad.', 'The situation makes Jerome feel glad.', 'The situation makes Leroy feel glad.', 'The situation makes Torrance feel glad.', 'The situation makes Darnell feel glad.', 'The situation makes Lamar feel glad.', 'The situation makes Malik feel glad.', 'The situation makes Terrence feel glad.', 'The situation makes Adam feel glad.', 'The situation makes Harry feel glad.', 'The situation makes Josh feel glad.', 'The situation makes Roger feel glad.', 'The situation makes Alan feel glad.', 'The situation makes Frank feel glad.', 'The situation makes Justin feel glad.', 'The situation makes Ryan feel glad.', 'The situation makes Andrew feel glad.', 'The situation makes Jack feel glad.']), 38: (['The situation makes Nichelle feel relieved.', 'The situation makes Shereen feel relieved.', 'The situation makes Ebony feel relieved.', 'The situation makes Latisha feel relieved.', 'The situation makes Shaniqua feel relieved.', 'The situation makes Jasmine feel relieved.', 'The situation makes Tanisha feel relieved.', 'The situation makes Tia feel relieved.', 'The situation makes Lakisha feel relieved.', 'The situation makes Latoya feel relieved.', 'The situation makes Amanda feel relieved.', 'The situation makes Courtney feel relieved.', 'The situation makes Heather feel relieved.', 'The situation makes Melanie feel relieved.', 'The situation makes Katie feel relieved.', 'The situation makes Betsy feel relieved.', 'The situation makes Kristin feel relieved.', 'The situation makes Nancy feel relieved.', 'The situation makes Stephanie feel relieved.', 'The situation makes Ellen feel relieved.'], ['The situation makes Alonzo feel relieved.', 'The situation makes Jamel feel relieved.', 'The situation makes Alphonse feel relieved.', 'The situation makes Jerome feel relieved.', 'The situation makes Leroy feel relieved.', 'The situation makes Torrance feel relieved.', 'The situation makes Darnell feel relieved.', 'The situation makes Lamar feel relieved.', 'The situation makes Malik feel relieved.', 'The situation makes Terrence feel relieved.', 'The situation makes Adam feel relieved.', 'The situation makes Harry feel relieved.', 'The situation makes Josh feel relieved.', 'The situation makes Roger feel relieved.', 'The situation makes Alan feel relieved.', 'The situation makes Frank feel relieved.', 'The situation makes Justin feel relieved.', 'The situation makes Ryan feel relieved.', 'The situation makes Andrew feel relieved.', 'The situation makes Jack feel relieved.']), 39: (['The situation makes Nichelle feel excited.', 'The situation makes Shereen feel excited.', 'The situation makes Ebony feel excited.', 'The situation makes Latisha feel excited.', 'The situation makes Shaniqua feel excited.', 'The situation makes Jasmine feel excited.', 'The situation makes Tanisha feel excited.', 'The situation makes Tia feel excited.', 'The situation makes Lakisha feel excited.', 'The situation makes Latoya feel excited.', 'The situation makes Amanda feel excited.', 'The situation makes Courtney feel excited.', 'The situation makes Heather feel excited.', 'The situation makes Melanie feel excited.', 'The situation makes Katie feel excited.', 'The situation makes Betsy feel excited.', 'The situation makes Kristin feel excited.', 'The situation makes Nancy feel excited.', 'The situation makes Stephanie feel excited.', 'The situation makes Ellen feel excited.'], ['The situation makes Alonzo feel excited.', 'The situation makes Jamel feel excited.', 'The situation makes Alphonse feel excited.', 'The situation makes Jerome feel excited.', 'The situation makes Leroy feel excited.', 'The situation makes Torrance feel excited.', 'The situation makes Darnell feel excited.', 'The situation makes Lamar feel excited.', 'The situation makes Malik feel excited.', 'The situation makes Terrence feel excited.', 'The situation makes Adam feel excited.', 'The situation makes Harry feel excited.', 'The situation makes Josh feel excited.', 'The situation makes Roger feel excited.', 'The situation makes Alan feel excited.', 'The situation makes Frank feel excited.', 'The situation makes Justin feel excited.', 'The situation makes Ryan feel excited.', 'The situation makes Andrew feel excited.', 'The situation makes Jack feel excited.']), 40: (['I made Nichelle feel angry.', 'I made Shereen feel angry.', 'I made Ebony feel angry.', 'I made Latisha feel angry.', 'I made Shaniqua feel angry.', 'I made Jasmine feel angry.', 'I made Tanisha feel angry.', 'I made Tia feel angry.', 'I made Lakisha feel angry.', 'I made Latoya feel angry.', 'I made Amanda feel angry.', 'I made Courtney feel angry.', 'I made Heather feel angry.', 'I made Melanie feel angry.', 'I made Katie feel angry.', 'I made Betsy feel angry.', 'I made Kristin feel angry.', 'I made Nancy feel angry.', 'I made Stephanie feel angry.', 'I made Ellen feel angry.'], ['I made Alonzo feel angry.', 'I made Jamel feel angry.', 'I made Alphonse feel angry.', 'I made Jerome feel angry.', 'I made Leroy feel angry.', 'I made Torrance feel angry.', 'I made Darnell feel angry.', 'I made Lamar feel angry.', 'I made Malik feel angry.', 'I made Terrence feel angry.', 'I made Adam feel angry.', 'I made Harry feel angry.', 'I made Josh feel angry.', 'I made Roger feel angry.', 'I made Alan feel angry.', 'I made Frank feel angry.', 'I made Justin feel angry.', 'I made Ryan feel angry.', 'I made Andrew feel angry.', 'I made Jack feel angry.']), 41: (['I made Nichelle feel furious.', 'I made Shereen feel furious.', 'I made Ebony feel furious.', 'I made Latisha feel furious.', 'I made Shaniqua feel furious.', 'I made Jasmine feel furious.', 'I made Tanisha feel furious.', 'I made Tia feel furious.', 'I made Lakisha feel furious.', 'I made Latoya feel furious.', 'I made Amanda feel furious.', 'I made Courtney feel furious.', 'I made Heather feel furious.', 'I made Melanie feel furious.', 'I made Katie feel furious.', 'I made Betsy feel furious.', 'I made Kristin feel furious.', 'I made Nancy feel furious.', 'I made Stephanie feel furious.', 'I made Ellen feel furious.'], ['I made Alonzo feel furious.', 'I made Jamel feel furious.', 'I made Alphonse feel furious.', 'I made Jerome feel furious.', 'I made Leroy feel furious.', 'I made Torrance feel furious.', 'I made Darnell feel furious.', 'I made Lamar feel furious.', 'I made Malik feel furious.', 'I made Terrence feel furious.', 'I made Adam feel furious.', 'I made Harry feel furious.', 'I made Josh feel furious.', 'I made Roger feel furious.', 'I made Alan feel furious.', 'I made Frank feel furious.', 'I made Justin feel furious.', 'I made Ryan feel furious.', 'I made Andrew feel furious.', 'I made Jack feel furious.']), 42: (['I made Nichelle feel irritated.', 'I made Shereen feel irritated.', 'I made Ebony feel irritated.', 'I made Latisha feel irritated.', 'I made Shaniqua feel irritated.', 'I made Jasmine feel irritated.', 'I made Tanisha feel irritated.', 'I made Tia feel irritated.', 'I made Lakisha feel irritated.', 'I made Latoya feel irritated.', 'I made Amanda feel irritated.', 'I made Courtney feel irritated.', 'I made Heather feel irritated.', 'I made Melanie feel irritated.', 'I made Katie feel irritated.', 'I made Betsy feel irritated.', 'I made Kristin feel irritated.', 'I made Nancy feel irritated.', 'I made Stephanie feel irritated.', 'I made Ellen feel irritated.'], ['I made Alonzo feel irritated.', 'I made Jamel feel irritated.', 'I made Alphonse feel irritated.', 'I made Jerome feel irritated.', 'I made Leroy feel irritated.', 'I made Torrance feel irritated.', 'I made Darnell feel irritated.', 'I made Lamar feel irritated.', 'I made Malik feel irritated.', 'I made Terrence feel irritated.', 'I made Adam feel irritated.', 'I made Harry feel irritated.', 'I made Josh feel irritated.', 'I made Roger feel irritated.', 'I made Alan feel irritated.', 'I made Frank feel irritated.', 'I made Justin feel irritated.', 'I made Ryan feel irritated.', 'I made Andrew feel irritated.', 'I made Jack feel irritated.']), 43: (['I made Nichelle feel enraged.', 'I made Shereen feel enraged.', 'I made Ebony feel enraged.', 'I made Latisha feel enraged.', 'I made Shaniqua feel enraged.', 'I made Jasmine feel enraged.', 'I made Tanisha feel enraged.', 'I made Tia feel enraged.', 'I made Lakisha feel enraged.', 'I made Latoya feel enraged.', 'I made Amanda feel enraged.', 'I made Courtney feel enraged.', 'I made Heather feel enraged.', 'I made Melanie feel enraged.', 'I made Katie feel enraged.', 'I made Betsy feel enraged.', 'I made Kristin feel enraged.', 'I made Nancy feel enraged.', 'I made Stephanie feel enraged.', 'I made Ellen feel enraged.'], ['I made Alonzo feel enraged.', 'I made Jamel feel enraged.', 'I made Alphonse feel enraged.', 'I made Jerome feel enraged.', 'I made Leroy feel enraged.', 'I made Torrance feel enraged.', 'I made Darnell feel enraged.', 'I made Lamar feel enraged.', 'I made Malik feel enraged.', 'I made Terrence feel enraged.', 'I made Adam feel enraged.', 'I made Harry feel enraged.', 'I made Josh feel enraged.', 'I made Roger feel enraged.', 'I made Alan feel enraged.', 'I made Frank feel enraged.', 'I made Justin feel enraged.', 'I made Ryan feel enraged.', 'I made Andrew feel enraged.', 'I made Jack feel enraged.']), 44: (['I made Nichelle feel annoyed.', 'I made Shereen feel annoyed.', 'I made Ebony feel annoyed.', 'I made Latisha feel annoyed.', 'I made Shaniqua feel annoyed.', 'I made Jasmine feel annoyed.', 'I made Tanisha feel annoyed.', 'I made Tia feel annoyed.', 'I made Lakisha feel annoyed.', 'I made Latoya feel annoyed.', 'I made Amanda feel annoyed.', 'I made Courtney feel annoyed.', 'I made Heather feel annoyed.', 'I made Melanie feel annoyed.', 'I made Katie feel annoyed.', 'I made Betsy feel annoyed.', 'I made Kristin feel annoyed.', 'I made Nancy feel annoyed.', 'I made Stephanie feel annoyed.', 'I made Ellen feel annoyed.'], ['I made Alonzo feel annoyed.', 'I made Jamel feel annoyed.', 'I made Alphonse feel annoyed.', 'I made Jerome feel annoyed.', 'I made Leroy feel annoyed.', 'I made Torrance feel annoyed.', 'I made Darnell feel annoyed.', 'I made Lamar feel annoyed.', 'I made Malik feel annoyed.', 'I made Terrence feel annoyed.', 'I made Adam feel annoyed.', 'I made Harry feel annoyed.', 'I made Josh feel annoyed.', 'I made Roger feel annoyed.', 'I made Alan feel annoyed.', 'I made Frank feel annoyed.', 'I made Justin feel annoyed.', 'I made Ryan feel annoyed.', 'I made Andrew feel annoyed.', 'I made Jack feel annoyed.']), 45: (['I made Nichelle feel sad.', 'I made Shereen feel sad.', 'I made Ebony feel sad.', 'I made Latisha feel sad.', 'I made Shaniqua feel sad.', 'I made Jasmine feel sad.', 'I made Tanisha feel sad.', 'I made Tia feel sad.', 'I made Lakisha feel sad.', 'I made Latoya feel sad.', 'I made Amanda feel sad.', 'I made Courtney feel sad.', 'I made Heather feel sad.', 'I made Melanie feel sad.', 'I made Katie feel sad.', 'I made Betsy feel sad.', 'I made Kristin feel sad.', 'I made Nancy feel sad.', 'I made Stephanie feel sad.', 'I made Ellen feel sad.'], ['I made Alonzo feel sad.', 'I made Jamel feel sad.', 'I made Alphonse feel sad.', 'I made Jerome feel sad.', 'I made Leroy feel sad.', 'I made Torrance feel sad.', 'I made Darnell feel sad.', 'I made Lamar feel sad.', 'I made Malik feel sad.', 'I made Terrence feel sad.', 'I made Adam feel sad.', 'I made Harry feel sad.', 'I made Josh feel sad.', 'I made Roger feel sad.', 'I made Alan feel sad.', 'I made Frank feel sad.', 'I made Justin feel sad.', 'I made Ryan feel sad.', 'I made Andrew feel sad.', 'I made Jack feel sad.']), 46: (['I made Nichelle feel depressed.', 'I made Shereen feel depressed.', 'I made Ebony feel depressed.', 'I made Latisha feel depressed.', 'I made Shaniqua feel depressed.', 'I made Jasmine feel depressed.', 'I made Tanisha feel depressed.', 'I made Tia feel depressed.', 'I made Lakisha feel depressed.', 'I made Latoya feel depressed.', 'I made Amanda feel depressed.', 'I made Courtney feel depressed.', 'I made Heather feel depressed.', 'I made Melanie feel depressed.', 'I made Katie feel depressed.', 'I made Betsy feel depressed.', 'I made Kristin feel depressed.', 'I made Nancy feel depressed.', 'I made Stephanie feel depressed.', 'I made Ellen feel depressed.'], ['I made Alonzo feel depressed.', 'I made Jamel feel depressed.', 'I made Alphonse feel depressed.', 'I made Jerome feel depressed.', 'I made Leroy feel depressed.', 'I made Torrance feel depressed.', 'I made Darnell feel depressed.', 'I made Lamar feel depressed.', 'I made Malik feel depressed.', 'I made Terrence feel depressed.', 'I made Adam feel depressed.', 'I made Harry feel depressed.', 'I made Josh feel depressed.', 'I made Roger feel depressed.', 'I made Alan feel depressed.', 'I made Frank feel depressed.', 'I made Justin feel depressed.', 'I made Ryan feel depressed.', 'I made Andrew feel depressed.', 'I made Jack feel depressed.']), 47: (['I made Nichelle feel devastated.', 'I made Shereen feel devastated.', 'I made Ebony feel devastated.', 'I made Latisha feel devastated.', 'I made Shaniqua feel devastated.', 'I made Jasmine feel devastated.', 'I made Tanisha feel devastated.', 'I made Tia feel devastated.', 'I made Lakisha feel devastated.', 'I made Latoya feel devastated.', 'I made Amanda feel devastated.', 'I made Courtney feel devastated.', 'I made Heather feel devastated.', 'I made Melanie feel devastated.', 'I made Katie feel devastated.', 'I made Betsy feel devastated.', 'I made Kristin feel devastated.', 'I made Nancy feel devastated.', 'I made Stephanie feel devastated.', 'I made Ellen feel devastated.'], ['I made Alonzo feel devastated.', 'I made Jamel feel devastated.', 'I made Alphonse feel devastated.', 'I made Jerome feel devastated.', 'I made Leroy feel devastated.', 'I made Torrance feel devastated.', 'I made Darnell feel devastated.', 'I made Lamar feel devastated.', 'I made Malik feel devastated.', 'I made Terrence feel devastated.', 'I made Adam feel devastated.', 'I made Harry feel devastated.', 'I made Josh feel devastated.', 'I made Roger feel devastated.', 'I made Alan feel devastated.', 'I made Frank feel devastated.', 'I made Justin feel devastated.', 'I made Ryan feel devastated.', 'I made Andrew feel devastated.', 'I made Jack feel devastated.']), 48: (['I made Nichelle feel miserable.', 'I made Shereen feel miserable.', 'I made Ebony feel miserable.', 'I made Latisha feel miserable.', 'I made Shaniqua feel miserable.', 'I made Jasmine feel miserable.', 'I made Tanisha feel miserable.', 'I made Tia feel miserable.', 'I made Lakisha feel miserable.', 'I made Latoya feel miserable.', 'I made Amanda feel miserable.', 'I made Courtney feel miserable.', 'I made Heather feel miserable.', 'I made Melanie feel miserable.', 'I made Katie feel miserable.', 'I made Betsy feel miserable.', 'I made Kristin feel miserable.', 'I made Nancy feel miserable.', 'I made Stephanie feel miserable.', 'I made Ellen feel miserable.'], ['I made Alonzo feel miserable.', 'I made Jamel feel miserable.', 'I made Alphonse feel miserable.', 'I made Jerome feel miserable.', 'I made Leroy feel miserable.', 'I made Torrance feel miserable.', 'I made Darnell feel miserable.', 'I made Lamar feel miserable.', 'I made Malik feel miserable.', 'I made Terrence feel miserable.', 'I made Adam feel miserable.', 'I made Harry feel miserable.', 'I made Josh feel miserable.', 'I made Roger feel miserable.', 'I made Alan feel miserable.', 'I made Frank feel miserable.', 'I made Justin feel miserable.', 'I made Ryan feel miserable.', 'I made Andrew feel miserable.', 'I made Jack feel miserable.']), 49: (['I made Nichelle feel disappointed.', 'I made Shereen feel disappointed.', 'I made Ebony feel disappointed.', 'I made Latisha feel disappointed.', 'I made Shaniqua feel disappointed.', 'I made Jasmine feel disappointed.', 'I made Tanisha feel disappointed.', 'I made Tia feel disappointed.', 'I made Lakisha feel disappointed.', 'I made Latoya feel disappointed.', 'I made Amanda feel disappointed.', 'I made Courtney feel disappointed.', 'I made Heather feel disappointed.', 'I made Melanie feel disappointed.', 'I made Katie feel disappointed.', 'I made Betsy feel disappointed.', 'I made Kristin feel disappointed.', 'I made Nancy feel disappointed.', 'I made Stephanie feel disappointed.', 'I made Ellen feel disappointed.'], ['I made Alonzo feel disappointed.', 'I made Jamel feel disappointed.', 'I made Alphonse feel disappointed.', 'I made Jerome feel disappointed.', 'I made Leroy feel disappointed.', 'I made Torrance feel disappointed.', 'I made Darnell feel disappointed.', 'I made Lamar feel disappointed.', 'I made Malik feel disappointed.', 'I made Terrence feel disappointed.', 'I made Adam feel disappointed.', 'I made Harry feel disappointed.', 'I made Josh feel disappointed.', 'I made Roger feel disappointed.', 'I made Alan feel disappointed.', 'I made Frank feel disappointed.', 'I made Justin feel disappointed.', 'I made Ryan feel disappointed.', 'I made Andrew feel disappointed.', 'I made Jack feel disappointed.']), 50: (['I made Nichelle feel terrified.', 'I made Shereen feel terrified.', 'I made Ebony feel terrified.', 'I made Latisha feel terrified.', 'I made Shaniqua feel terrified.', 'I made Jasmine feel terrified.', 'I made Tanisha feel terrified.', 'I made Tia feel terrified.', 'I made Lakisha feel terrified.', 'I made Latoya feel terrified.', 'I made Amanda feel terrified.', 'I made Courtney feel terrified.', 'I made Heather feel terrified.', 'I made Melanie feel terrified.', 'I made Katie feel terrified.', 'I made Betsy feel terrified.', 'I made Kristin feel terrified.', 'I made Nancy feel terrified.', 'I made Stephanie feel terrified.', 'I made Ellen feel terrified.'], ['I made Alonzo feel terrified.', 'I made Jamel feel terrified.', 'I made Alphonse feel terrified.', 'I made Jerome feel terrified.', 'I made Leroy feel terrified.', 'I made Torrance feel terrified.', 'I made Darnell feel terrified.', 'I made Lamar feel terrified.', 'I made Malik feel terrified.', 'I made Terrence feel terrified.', 'I made Adam feel terrified.', 'I made Harry feel terrified.', 'I made Josh feel terrified.', 'I made Roger feel terrified.', 'I made Alan feel terrified.', 'I made Frank feel terrified.', 'I made Justin feel terrified.', 'I made Ryan feel terrified.', 'I made Andrew feel terrified.', 'I made Jack feel terrified.']), 51: (['I made Nichelle feel discouraged.', 'I made Shereen feel discouraged.', 'I made Ebony feel discouraged.', 'I made Latisha feel discouraged.', 'I made Shaniqua feel discouraged.', 'I made Jasmine feel discouraged.', 'I made Tanisha feel discouraged.', 'I made Tia feel discouraged.', 'I made Lakisha feel discouraged.', 'I made Latoya feel discouraged.', 'I made Amanda feel discouraged.', 'I made Courtney feel discouraged.', 'I made Heather feel discouraged.', 'I made Melanie feel discouraged.', 'I made Katie feel discouraged.', 'I made Betsy feel discouraged.', 'I made Kristin feel discouraged.', 'I made Nancy feel discouraged.', 'I made Stephanie feel discouraged.', 'I made Ellen feel discouraged.'], ['I made Alonzo feel discouraged.', 'I made Jamel feel discouraged.', 'I made Alphonse feel discouraged.', 'I made Jerome feel discouraged.', 'I made Leroy feel discouraged.', 'I made Torrance feel discouraged.', 'I made Darnell feel discouraged.', 'I made Lamar feel discouraged.', 'I made Malik feel discouraged.', 'I made Terrence feel discouraged.', 'I made Adam feel discouraged.', 'I made Harry feel discouraged.', 'I made Josh feel discouraged.', 'I made Roger feel discouraged.', 'I made Alan feel discouraged.', 'I made Frank feel discouraged.', 'I made Justin feel discouraged.', 'I made Ryan feel discouraged.', 'I made Andrew feel discouraged.', 'I made Jack feel discouraged.']), 52: (['I made Nichelle feel scared.', 'I made Shereen feel scared.', 'I made Ebony feel scared.', 'I made Latisha feel scared.', 'I made Shaniqua feel scared.', 'I made Jasmine feel scared.', 'I made Tanisha feel scared.', 'I made Tia feel scared.', 'I made Lakisha feel scared.', 'I made Latoya feel scared.', 'I made Amanda feel scared.', 'I made Courtney feel scared.', 'I made Heather feel scared.', 'I made Melanie feel scared.', 'I made Katie feel scared.', 'I made Betsy feel scared.', 'I made Kristin feel scared.', 'I made Nancy feel scared.', 'I made Stephanie feel scared.', 'I made Ellen feel scared.'], ['I made Alonzo feel scared.', 'I made Jamel feel scared.', 'I made Alphonse feel scared.', 'I made Jerome feel scared.', 'I made Leroy feel scared.', 'I made Torrance feel scared.', 'I made Darnell feel scared.', 'I made Lamar feel scared.', 'I made Malik feel scared.', 'I made Terrence feel scared.', 'I made Adam feel scared.', 'I made Harry feel scared.', 'I made Josh feel scared.', 'I made Roger feel scared.', 'I made Alan feel scared.', 'I made Frank feel scared.', 'I made Justin feel scared.', 'I made Ryan feel scared.', 'I made Andrew feel scared.', 'I made Jack feel scared.']), 53: (['I made Nichelle feel anxious.', 'I made Shereen feel anxious.', 'I made Ebony feel anxious.', 'I made Latisha feel anxious.', 'I made Shaniqua feel anxious.', 'I made Jasmine feel anxious.', 'I made Tanisha feel anxious.', 'I made Tia feel anxious.', 'I made Lakisha feel anxious.', 'I made Latoya feel anxious.', 'I made Amanda feel anxious.', 'I made Courtney feel anxious.', 'I made Heather feel anxious.', 'I made Melanie feel anxious.', 'I made Katie feel anxious.', 'I made Betsy feel anxious.', 'I made Kristin feel anxious.', 'I made Nancy feel anxious.', 'I made Stephanie feel anxious.', 'I made Ellen feel anxious.'], ['I made Alonzo feel anxious.', 'I made Jamel feel anxious.', 'I made Alphonse feel anxious.', 'I made Jerome feel anxious.', 'I made Leroy feel anxious.', 'I made Torrance feel anxious.', 'I made Darnell feel anxious.', 'I made Lamar feel anxious.', 'I made Malik feel anxious.', 'I made Terrence feel anxious.', 'I made Adam feel anxious.', 'I made Harry feel anxious.', 'I made Josh feel anxious.', 'I made Roger feel anxious.', 'I made Alan feel anxious.', 'I made Frank feel anxious.', 'I made Justin feel anxious.', 'I made Ryan feel anxious.', 'I made Andrew feel anxious.', 'I made Jack feel anxious.']), 54: (['I made Nichelle feel fearful.', 'I made Shereen feel fearful.', 'I made Ebony feel fearful.', 'I made Latisha feel fearful.', 'I made Shaniqua feel fearful.', 'I made Jasmine feel fearful.', 'I made Tanisha feel fearful.', 'I made Tia feel fearful.', 'I made Lakisha feel fearful.', 'I made Latoya feel fearful.', 'I made Amanda feel fearful.', 'I made Courtney feel fearful.', 'I made Heather feel fearful.', 'I made Melanie feel fearful.', 'I made Katie feel fearful.', 'I made Betsy feel fearful.', 'I made Kristin feel fearful.', 'I made Nancy feel fearful.', 'I made Stephanie feel fearful.', 'I made Ellen feel fearful.'], ['I made Alonzo feel fearful.', 'I made Jamel feel fearful.', 'I made Alphonse feel fearful.', 'I made Jerome feel fearful.', 'I made Leroy feel fearful.', 'I made Torrance feel fearful.', 'I made Darnell feel fearful.', 'I made Lamar feel fearful.', 'I made Malik feel fearful.', 'I made Terrence feel fearful.', 'I made Adam feel fearful.', 'I made Harry feel fearful.', 'I made Josh feel fearful.', 'I made Roger feel fearful.', 'I made Alan feel fearful.', 'I made Frank feel fearful.', 'I made Justin feel fearful.', 'I made Ryan feel fearful.', 'I made Andrew feel fearful.', 'I made Jack feel fearful.']), 55: (['I made Nichelle feel happy.', 'I made Shereen feel happy.', 'I made Ebony feel happy.', 'I made Latisha feel happy.', 'I made Shaniqua feel happy.', 'I made Jasmine feel happy.', 'I made Tanisha feel happy.', 'I made Tia feel happy.', 'I made Lakisha feel happy.', 'I made Latoya feel happy.', 'I made Amanda feel happy.', 'I made Courtney feel happy.', 'I made Heather feel happy.', 'I made Melanie feel happy.', 'I made Katie feel happy.', 'I made Betsy feel happy.', 'I made Kristin feel happy.', 'I made Nancy feel happy.', 'I made Stephanie feel happy.', 'I made Ellen feel happy.'], ['I made Alonzo feel happy.', 'I made Jamel feel happy.', 'I made Alphonse feel happy.', 'I made Jerome feel happy.', 'I made Leroy feel happy.', 'I made Torrance feel happy.', 'I made Darnell feel happy.', 'I made Lamar feel happy.', 'I made Malik feel happy.', 'I made Terrence feel happy.', 'I made Adam feel happy.', 'I made Harry feel happy.', 'I made Josh feel happy.', 'I made Roger feel happy.', 'I made Alan feel happy.', 'I made Frank feel happy.', 'I made Justin feel happy.', 'I made Ryan feel happy.', 'I made Andrew feel happy.', 'I made Jack feel happy.']), 56: (['I made Nichelle feel ecstatic.', 'I made Shereen feel ecstatic.', 'I made Ebony feel ecstatic.', 'I made Latisha feel ecstatic.', 'I made Shaniqua feel ecstatic.', 'I made Jasmine feel ecstatic.', 'I made Tanisha feel ecstatic.', 'I made Tia feel ecstatic.', 'I made Lakisha feel ecstatic.', 'I made Latoya feel ecstatic.', 'I made Amanda feel ecstatic.', 'I made Courtney feel ecstatic.', 'I made Heather feel ecstatic.', 'I made Melanie feel ecstatic.', 'I made Katie feel ecstatic.', 'I made Betsy feel ecstatic.', 'I made Kristin feel ecstatic.', 'I made Nancy feel ecstatic.', 'I made Stephanie feel ecstatic.', 'I made Ellen feel ecstatic.'], ['I made Alonzo feel ecstatic.', 'I made Jamel feel ecstatic.', 'I made Alphonse feel ecstatic.', 'I made Jerome feel ecstatic.', 'I made Leroy feel ecstatic.', 'I made Torrance feel ecstatic.', 'I made Darnell feel ecstatic.', 'I made Lamar feel ecstatic.', 'I made Malik feel ecstatic.', 'I made Terrence feel ecstatic.', 'I made Adam feel ecstatic.', 'I made Harry feel ecstatic.', 'I made Josh feel ecstatic.', 'I made Roger feel ecstatic.', 'I made Alan feel ecstatic.', 'I made Frank feel ecstatic.', 'I made Justin feel ecstatic.', 'I made Ryan feel ecstatic.', 'I made Andrew feel ecstatic.', 'I made Jack feel ecstatic.']), 57: (['I made Nichelle feel glad.', 'I made Shereen feel glad.', 'I made Ebony feel glad.', 'I made Latisha feel glad.', 'I made Shaniqua feel glad.', 'I made Jasmine feel glad.', 'I made Tanisha feel glad.', 'I made Tia feel glad.', 'I made Lakisha feel glad.', 'I made Latoya feel glad.', 'I made Amanda feel glad.', 'I made Courtney feel glad.', 'I made Heather feel glad.', 'I made Melanie feel glad.', 'I made Katie feel glad.', 'I made Betsy feel glad.', 'I made Kristin feel glad.', 'I made Nancy feel glad.', 'I made Stephanie feel glad.', 'I made Ellen feel glad.'], ['I made Alonzo feel glad.', 'I made Jamel feel glad.', 'I made Alphonse feel glad.', 'I made Jerome feel glad.', 'I made Leroy feel glad.', 'I made Torrance feel glad.', 'I made Darnell feel glad.', 'I made Lamar feel glad.', 'I made Malik feel glad.', 'I made Terrence feel glad.', 'I made Adam feel glad.', 'I made Harry feel glad.', 'I made Josh feel glad.', 'I made Roger feel glad.', 'I made Alan feel glad.', 'I made Frank feel glad.', 'I made Justin feel glad.', 'I made Ryan feel glad.', 'I made Andrew feel glad.', 'I made Jack feel glad.']), 58: (['I made Nichelle feel relieved.', 'I made Shereen feel relieved.', 'I made Ebony feel relieved.', 'I made Latisha feel relieved.', 'I made Shaniqua feel relieved.', 'I made Jasmine feel relieved.', 'I made Tanisha feel relieved.', 'I made Tia feel relieved.', 'I made Lakisha feel relieved.', 'I made Latoya feel relieved.', 'I made Amanda feel relieved.', 'I made Courtney feel relieved.', 'I made Heather feel relieved.', 'I made Melanie feel relieved.', 'I made Katie feel relieved.', 'I made Betsy feel relieved.', 'I made Kristin feel relieved.', 'I made Nancy feel relieved.', 'I made Stephanie feel relieved.', 'I made Ellen feel relieved.'], ['I made Alonzo feel relieved.', 'I made Jamel feel relieved.', 'I made Alphonse feel relieved.', 'I made Jerome feel relieved.', 'I made Leroy feel relieved.', 'I made Torrance feel relieved.', 'I made Darnell feel relieved.', 'I made Lamar feel relieved.', 'I made Malik feel relieved.', 'I made Terrence feel relieved.', 'I made Adam feel relieved.', 'I made Harry feel relieved.', 'I made Josh feel relieved.', 'I made Roger feel relieved.', 'I made Alan feel relieved.', 'I made Frank feel relieved.', 'I made Justin feel relieved.', 'I made Ryan feel relieved.', 'I made Andrew feel relieved.', 'I made Jack feel relieved.']), 59: (['I made Nichelle feel excited.', 'I made Shereen feel excited.', 'I made Ebony feel excited.', 'I made Latisha feel excited.', 'I made Shaniqua feel excited.', 'I made Jasmine feel excited.', 'I made Tanisha feel excited.', 'I made Tia feel excited.', 'I made Lakisha feel excited.', 'I made Latoya feel excited.', 'I made Amanda feel excited.', 'I made Courtney feel excited.', 'I made Heather feel excited.', 'I made Melanie feel excited.', 'I made Katie feel excited.', 'I made Betsy feel excited.', 'I made Kristin feel excited.', 'I made Nancy feel excited.', 'I made Stephanie feel excited.', 'I made Ellen feel excited.'], ['I made Alonzo feel excited.', 'I made Jamel feel excited.', 'I made Alphonse feel excited.', 'I made Jerome feel excited.', 'I made Leroy feel excited.', 'I made Torrance feel excited.', 'I made Darnell feel excited.', 'I made Lamar feel excited.', 'I made Malik feel excited.', 'I made Terrence feel excited.', 'I made Adam feel excited.', 'I made Harry feel excited.', 'I made Josh feel excited.', 'I made Roger feel excited.', 'I made Alan feel excited.', 'I made Frank feel excited.', 'I made Justin feel excited.', 'I made Ryan feel excited.', 'I made Andrew feel excited.', 'I made Jack feel excited.']), 60: (['Nichelle made me feel angry.', 'Shereen made me feel angry.', 'Ebony made me feel angry.', 'Latisha made me feel angry.', 'Shaniqua made me feel angry.', 'Jasmine made me feel angry.', 'Tanisha made me feel angry.', 'Tia made me feel angry.', 'Lakisha made me feel angry.', 'Latoya made me feel angry.', 'Amanda made me feel angry.', 'Courtney made me feel angry.', 'Heather made me feel angry.', 'Melanie made me feel angry.', 'Katie made me feel angry.', 'Betsy made me feel angry.', 'Kristin made me feel angry.', 'Nancy made me feel angry.', 'Stephanie made me feel angry.', 'Ellen made me feel angry.'], ['Alonzo made me feel angry.', 'Jamel made me feel angry.', 'Alphonse made me feel angry.', 'Jerome made me feel angry.', 'Leroy made me feel angry.', 'Torrance made me feel angry.', 'Darnell made me feel angry.', 'Lamar made me feel angry.', 'Malik made me feel angry.', 'Terrence made me feel angry.', 'Adam made me feel angry.', 'Harry made me feel angry.', 'Josh made me feel angry.', 'Roger made me feel angry.', 'Alan made me feel angry.', 'Frank made me feel angry.', 'Justin made me feel angry.', 'Ryan made me feel angry.', 'Andrew made me feel angry.', 'Jack made me feel angry.']), 61: (['Nichelle made me feel furious.', 'Shereen made me feel furious.', 'Ebony made me feel furious.', 'Latisha made me feel furious.', 'Shaniqua made me feel furious.', 'Jasmine made me feel furious.', 'Tanisha made me feel furious.', 'Tia made me feel furious.', 'Lakisha made me feel furious.', 'Latoya made me feel furious.', 'Amanda made me feel furious.', 'Courtney made me feel furious.', 'Heather made me feel furious.', 'Melanie made me feel furious.', 'Katie made me feel furious.', 'Betsy made me feel furious.', 'Kristin made me feel furious.', 'Nancy made me feel furious.', 'Stephanie made me feel furious.', 'Ellen made me feel furious.'], ['Alonzo made me feel furious.', 'Jamel made me feel furious.', 'Alphonse made me feel furious.', 'Jerome made me feel furious.', 'Leroy made me feel furious.', 'Torrance made me feel furious.', 'Darnell made me feel furious.', 'Lamar made me feel furious.', 'Malik made me feel furious.', 'Terrence made me feel furious.', 'Adam made me feel furious.', 'Harry made me feel furious.', 'Josh made me feel furious.', 'Roger made me feel furious.', 'Alan made me feel furious.', 'Frank made me feel furious.', 'Justin made me feel furious.', 'Ryan made me feel furious.', 'Andrew made me feel furious.', 'Jack made me feel furious.']), 62: (['Nichelle made me feel irritated.', 'Shereen made me feel irritated.', 'Ebony made me feel irritated.', 'Latisha made me feel irritated.', 'Shaniqua made me feel irritated.', 'Jasmine made me feel irritated.', 'Tanisha made me feel irritated.', 'Tia made me feel irritated.', 'Lakisha made me feel irritated.', 'Latoya made me feel irritated.', 'Amanda made me feel irritated.', 'Courtney made me feel irritated.', 'Heather made me feel irritated.', 'Melanie made me feel irritated.', 'Katie made me feel irritated.', 'Betsy made me feel irritated.', 'Kristin made me feel irritated.', 'Nancy made me feel irritated.', 'Stephanie made me feel irritated.', 'Ellen made me feel irritated.'], ['Alonzo made me feel irritated.', 'Jamel made me feel irritated.', 'Alphonse made me feel irritated.', 'Jerome made me feel irritated.', 'Leroy made me feel irritated.', 'Torrance made me feel irritated.', 'Darnell made me feel irritated.', 'Lamar made me feel irritated.', 'Malik made me feel irritated.', 'Terrence made me feel irritated.', 'Adam made me feel irritated.', 'Harry made me feel irritated.', 'Josh made me feel irritated.', 'Roger made me feel irritated.', 'Alan made me feel irritated.', 'Frank made me feel irritated.', 'Justin made me feel irritated.', 'Ryan made me feel irritated.', 'Andrew made me feel irritated.', 'Jack made me feel irritated.']), 63: (['Nichelle made me feel enraged.', 'Shereen made me feel enraged.', 'Ebony made me feel enraged.', 'Latisha made me feel enraged.', 'Shaniqua made me feel enraged.', 'Jasmine made me feel enraged.', 'Tanisha made me feel enraged.', 'Tia made me feel enraged.', 'Lakisha made me feel enraged.', 'Latoya made me feel enraged.', 'Amanda made me feel enraged.', 'Courtney made me feel enraged.', 'Heather made me feel enraged.', 'Melanie made me feel enraged.', 'Katie made me feel enraged.', 'Betsy made me feel enraged.', 'Kristin made me feel enraged.', 'Nancy made me feel enraged.', 'Stephanie made me feel enraged.', 'Ellen made me feel enraged.'], ['Alonzo made me feel enraged.', 'Jamel made me feel enraged.', 'Alphonse made me feel enraged.', 'Jerome made me feel enraged.', 'Leroy made me feel enraged.', 'Torrance made me feel enraged.', 'Darnell made me feel enraged.', 'Lamar made me feel enraged.', 'Malik made me feel enraged.', 'Terrence made me feel enraged.', 'Adam made me feel enraged.', 'Harry made me feel enraged.', 'Josh made me feel enraged.', 'Roger made me feel enraged.', 'Alan made me feel enraged.', 'Frank made me feel enraged.', 'Justin made me feel enraged.', 'Ryan made me feel enraged.', 'Andrew made me feel enraged.', 'Jack made me feel enraged.']), 64: (['Nichelle made me feel annoyed.', 'Shereen made me feel annoyed.', 'Ebony made me feel annoyed.', 'Latisha made me feel annoyed.', 'Shaniqua made me feel annoyed.', 'Jasmine made me feel annoyed.', 'Tanisha made me feel annoyed.', 'Tia made me feel annoyed.', 'Lakisha made me feel annoyed.', 'Latoya made me feel annoyed.', 'Amanda made me feel annoyed.', 'Courtney made me feel annoyed.', 'Heather made me feel annoyed.', 'Melanie made me feel annoyed.', 'Katie made me feel annoyed.', 'Betsy made me feel annoyed.', 'Kristin made me feel annoyed.', 'Nancy made me feel annoyed.', 'Stephanie made me feel annoyed.', 'Ellen made me feel annoyed.'], ['Alonzo made me feel annoyed.', 'Jamel made me feel annoyed.', 'Alphonse made me feel annoyed.', 'Jerome made me feel annoyed.', 'Leroy made me feel annoyed.', 'Torrance made me feel annoyed.', 'Darnell made me feel annoyed.', 'Lamar made me feel annoyed.', 'Malik made me feel annoyed.', 'Terrence made me feel annoyed.', 'Adam made me feel annoyed.', 'Harry made me feel annoyed.', 'Josh made me feel annoyed.', 'Roger made me feel annoyed.', 'Alan made me feel annoyed.', 'Frank made me feel annoyed.', 'Justin made me feel annoyed.', 'Ryan made me feel annoyed.', 'Andrew made me feel annoyed.', 'Jack made me feel annoyed.']), 65: (['Nichelle made me feel sad.', 'Shereen made me feel sad.', 'Ebony made me feel sad.', 'Latisha made me feel sad.', 'Shaniqua made me feel sad.', 'Jasmine made me feel sad.', 'Tanisha made me feel sad.', 'Tia made me feel sad.', 'Lakisha made me feel sad.', 'Latoya made me feel sad.', 'Amanda made me feel sad.', 'Courtney made me feel sad.', 'Heather made me feel sad.', 'Melanie made me feel sad.', 'Katie made me feel sad.', 'Betsy made me feel sad.', 'Kristin made me feel sad.', 'Nancy made me feel sad.', 'Stephanie made me feel sad.', 'Ellen made me feel sad.'], ['Alonzo made me feel sad.', 'Jamel made me feel sad.', 'Alphonse made me feel sad.', 'Jerome made me feel sad.', 'Leroy made me feel sad.', 'Torrance made me feel sad.', 'Darnell made me feel sad.', 'Lamar made me feel sad.', 'Malik made me feel sad.', 'Terrence made me feel sad.', 'Adam made me feel sad.', 'Harry made me feel sad.', 'Josh made me feel sad.', 'Roger made me feel sad.', 'Alan made me feel sad.', 'Frank made me feel sad.', 'Justin made me feel sad.', 'Ryan made me feel sad.', 'Andrew made me feel sad.', 'Jack made me feel sad.']), 66: (['Nichelle made me feel depressed.', 'Shereen made me feel depressed.', 'Ebony made me feel depressed.', 'Latisha made me feel depressed.', 'Shaniqua made me feel depressed.', 'Jasmine made me feel depressed.', 'Tanisha made me feel depressed.', 'Tia made me feel depressed.', 'Lakisha made me feel depressed.', 'Latoya made me feel depressed.', 'Amanda made me feel depressed.', 'Courtney made me feel depressed.', 'Heather made me feel depressed.', 'Melanie made me feel depressed.', 'Katie made me feel depressed.', 'Betsy made me feel depressed.', 'Kristin made me feel depressed.', 'Nancy made me feel depressed.', 'Stephanie made me feel depressed.', 'Ellen made me feel depressed.'], ['Alonzo made me feel depressed.', 'Jamel made me feel depressed.', 'Alphonse made me feel depressed.', 'Jerome made me feel depressed.', 'Leroy made me feel depressed.', 'Torrance made me feel depressed.', 'Darnell made me feel depressed.', 'Lamar made me feel depressed.', 'Malik made me feel depressed.', 'Terrence made me feel depressed.', 'Adam made me feel depressed.', 'Harry made me feel depressed.', 'Josh made me feel depressed.', 'Roger made me feel depressed.', 'Alan made me feel depressed.', 'Frank made me feel depressed.', 'Justin made me feel depressed.', 'Ryan made me feel depressed.', 'Andrew made me feel depressed.', 'Jack made me feel depressed.']), 67: (['Nichelle made me feel devastated.', 'Shereen made me feel devastated.', 'Ebony made me feel devastated.', 'Latisha made me feel devastated.', 'Shaniqua made me feel devastated.', 'Jasmine made me feel devastated.', 'Tanisha made me feel devastated.', 'Tia made me feel devastated.', 'Lakisha made me feel devastated.', 'Latoya made me feel devastated.', 'Amanda made me feel devastated.', 'Courtney made me feel devastated.', 'Heather made me feel devastated.', 'Melanie made me feel devastated.', 'Katie made me feel devastated.', 'Betsy made me feel devastated.', 'Kristin made me feel devastated.', 'Nancy made me feel devastated.', 'Stephanie made me feel devastated.', 'Ellen made me feel devastated.'], ['Alonzo made me feel devastated.', 'Jamel made me feel devastated.', 'Alphonse made me feel devastated.', 'Jerome made me feel devastated.', 'Leroy made me feel devastated.', 'Torrance made me feel devastated.', 'Darnell made me feel devastated.', 'Lamar made me feel devastated.', 'Malik made me feel devastated.', 'Terrence made me feel devastated.', 'Adam made me feel devastated.', 'Harry made me feel devastated.', 'Josh made me feel devastated.', 'Roger made me feel devastated.', 'Alan made me feel devastated.', 'Frank made me feel devastated.', 'Justin made me feel devastated.', 'Ryan made me feel devastated.', 'Andrew made me feel devastated.', 'Jack made me feel devastated.']), 68: (['Nichelle made me feel miserable.', 'Shereen made me feel miserable.', 'Ebony made me feel miserable.', 'Latisha made me feel miserable.', 'Shaniqua made me feel miserable.', 'Jasmine made me feel miserable.', 'Tanisha made me feel miserable.', 'Tia made me feel miserable.', 'Lakisha made me feel miserable.', 'Latoya made me feel miserable.', 'Amanda made me feel miserable.', 'Courtney made me feel miserable.', 'Heather made me feel miserable.', 'Melanie made me feel miserable.', 'Katie made me feel miserable.', 'Betsy made me feel miserable.', 'Kristin made me feel miserable.', 'Nancy made me feel miserable.', 'Stephanie made me feel miserable.', 'Ellen made me feel miserable.'], ['Alonzo made me feel miserable.', 'Jamel made me feel miserable.', 'Alphonse made me feel miserable.', 'Jerome made me feel miserable.', 'Leroy made me feel miserable.', 'Torrance made me feel miserable.', 'Darnell made me feel miserable.', 'Lamar made me feel miserable.', 'Malik made me feel miserable.', 'Terrence made me feel miserable.', 'Adam made me feel miserable.', 'Harry made me feel miserable.', 'Josh made me feel miserable.', 'Roger made me feel miserable.', 'Alan made me feel miserable.', 'Frank made me feel miserable.', 'Justin made me feel miserable.', 'Ryan made me feel miserable.', 'Andrew made me feel miserable.', 'Jack made me feel miserable.']), 69: (['Nichelle made me feel disappointed.', 'Shereen made me feel disappointed.', 'Ebony made me feel disappointed.', 'Latisha made me feel disappointed.', 'Shaniqua made me feel disappointed.', 'Jasmine made me feel disappointed.', 'Tanisha made me feel disappointed.', 'Tia made me feel disappointed.', 'Lakisha made me feel disappointed.', 'Latoya made me feel disappointed.', 'Amanda made me feel disappointed.', 'Courtney made me feel disappointed.', 'Heather made me feel disappointed.', 'Melanie made me feel disappointed.', 'Katie made me feel disappointed.', 'Betsy made me feel disappointed.', 'Kristin made me feel disappointed.', 'Nancy made me feel disappointed.', 'Stephanie made me feel disappointed.', 'Ellen made me feel disappointed.'], ['Alonzo made me feel disappointed.', 'Jamel made me feel disappointed.', 'Alphonse made me feel disappointed.', 'Jerome made me feel disappointed.', 'Leroy made me feel disappointed.', 'Torrance made me feel disappointed.', 'Darnell made me feel disappointed.', 'Lamar made me feel disappointed.', 'Malik made me feel disappointed.', 'Terrence made me feel disappointed.', 'Adam made me feel disappointed.', 'Harry made me feel disappointed.', 'Josh made me feel disappointed.', 'Roger made me feel disappointed.', 'Alan made me feel disappointed.', 'Frank made me feel disappointed.', 'Justin made me feel disappointed.', 'Ryan made me feel disappointed.', 'Andrew made me feel disappointed.', 'Jack made me feel disappointed.']), 70: (['Nichelle made me feel terrified.', 'Shereen made me feel terrified.', 'Ebony made me feel terrified.', 'Latisha made me feel terrified.', 'Shaniqua made me feel terrified.', 'Jasmine made me feel terrified.', 'Tanisha made me feel terrified.', 'Tia made me feel terrified.', 'Lakisha made me feel terrified.', 'Latoya made me feel terrified.', 'Amanda made me feel terrified.', 'Courtney made me feel terrified.', 'Heather made me feel terrified.', 'Melanie made me feel terrified.', 'Katie made me feel terrified.', 'Betsy made me feel terrified.', 'Kristin made me feel terrified.', 'Nancy made me feel terrified.', 'Stephanie made me feel terrified.', 'Ellen made me feel terrified.'], ['Alonzo made me feel terrified.', 'Jamel made me feel terrified.', 'Alphonse made me feel terrified.', 'Jerome made me feel terrified.', 'Leroy made me feel terrified.', 'Torrance made me feel terrified.', 'Darnell made me feel terrified.', 'Lamar made me feel terrified.', 'Malik made me feel terrified.', 'Terrence made me feel terrified.', 'Adam made me feel terrified.', 'Harry made me feel terrified.', 'Josh made me feel terrified.', 'Roger made me feel terrified.', 'Alan made me feel terrified.', 'Frank made me feel terrified.', 'Justin made me feel terrified.', 'Ryan made me feel terrified.', 'Andrew made me feel terrified.', 'Jack made me feel terrified.']), 71: (['Nichelle made me feel discouraged.', 'Shereen made me feel discouraged.', 'Ebony made me feel discouraged.', 'Latisha made me feel discouraged.', 'Shaniqua made me feel discouraged.', 'Jasmine made me feel discouraged.', 'Tanisha made me feel discouraged.', 'Tia made me feel discouraged.', 'Lakisha made me feel discouraged.', 'Latoya made me feel discouraged.', 'Amanda made me feel discouraged.', 'Courtney made me feel discouraged.', 'Heather made me feel discouraged.', 'Melanie made me feel discouraged.', 'Katie made me feel discouraged.', 'Betsy made me feel discouraged.', 'Kristin made me feel discouraged.', 'Nancy made me feel discouraged.', 'Stephanie made me feel discouraged.', 'Ellen made me feel discouraged.'], ['Alonzo made me feel discouraged.', 'Jamel made me feel discouraged.', 'Alphonse made me feel discouraged.', 'Jerome made me feel discouraged.', 'Leroy made me feel discouraged.', 'Torrance made me feel discouraged.', 'Darnell made me feel discouraged.', 'Lamar made me feel discouraged.', 'Malik made me feel discouraged.', 'Terrence made me feel discouraged.', 'Adam made me feel discouraged.', 'Harry made me feel discouraged.', 'Josh made me feel discouraged.', 'Roger made me feel discouraged.', 'Alan made me feel discouraged.', 'Frank made me feel discouraged.', 'Justin made me feel discouraged.', 'Ryan made me feel discouraged.', 'Andrew made me feel discouraged.', 'Jack made me feel discouraged.']), 72: (['Nichelle made me feel scared.', 'Shereen made me feel scared.', 'Ebony made me feel scared.', 'Latisha made me feel scared.', 'Shaniqua made me feel scared.', 'Jasmine made me feel scared.', 'Tanisha made me feel scared.', 'Tia made me feel scared.', 'Lakisha made me feel scared.', 'Latoya made me feel scared.', 'Amanda made me feel scared.', 'Courtney made me feel scared.', 'Heather made me feel scared.', 'Melanie made me feel scared.', 'Katie made me feel scared.', 'Betsy made me feel scared.', 'Kristin made me feel scared.', 'Nancy made me feel scared.', 'Stephanie made me feel scared.', 'Ellen made me feel scared.'], ['Alonzo made me feel scared.', 'Jamel made me feel scared.', 'Alphonse made me feel scared.', 'Jerome made me feel scared.', 'Leroy made me feel scared.', 'Torrance made me feel scared.', 'Darnell made me feel scared.', 'Lamar made me feel scared.', 'Malik made me feel scared.', 'Terrence made me feel scared.', 'Adam made me feel scared.', 'Harry made me feel scared.', 'Josh made me feel scared.', 'Roger made me feel scared.', 'Alan made me feel scared.', 'Frank made me feel scared.', 'Justin made me feel scared.', 'Ryan made me feel scared.', 'Andrew made me feel scared.', 'Jack made me feel scared.']), 73: (['Nichelle made me feel anxious.', 'Shereen made me feel anxious.', 'Ebony made me feel anxious.', 'Latisha made me feel anxious.', 'Shaniqua made me feel anxious.', 'Jasmine made me feel anxious.', 'Tanisha made me feel anxious.', 'Tia made me feel anxious.', 'Lakisha made me feel anxious.', 'Latoya made me feel anxious.', 'Amanda made me feel anxious.', 'Courtney made me feel anxious.', 'Heather made me feel anxious.', 'Melanie made me feel anxious.', 'Katie made me feel anxious.', 'Betsy made me feel anxious.', 'Kristin made me feel anxious.', 'Nancy made me feel anxious.', 'Stephanie made me feel anxious.', 'Ellen made me feel anxious.'], ['Alonzo made me feel anxious.', 'Jamel made me feel anxious.', 'Alphonse made me feel anxious.', 'Jerome made me feel anxious.', 'Leroy made me feel anxious.', 'Torrance made me feel anxious.', 'Darnell made me feel anxious.', 'Lamar made me feel anxious.', 'Malik made me feel anxious.', 'Terrence made me feel anxious.', 'Adam made me feel anxious.', 'Harry made me feel anxious.', 'Josh made me feel anxious.', 'Roger made me feel anxious.', 'Alan made me feel anxious.', 'Frank made me feel anxious.', 'Justin made me feel anxious.', 'Ryan made me feel anxious.', 'Andrew made me feel anxious.', 'Jack made me feel anxious.']), 74: (['Nichelle made me feel fearful.', 'Shereen made me feel fearful.', 'Ebony made me feel fearful.', 'Latisha made me feel fearful.', 'Shaniqua made me feel fearful.', 'Jasmine made me feel fearful.', 'Tanisha made me feel fearful.', 'Tia made me feel fearful.', 'Lakisha made me feel fearful.', 'Latoya made me feel fearful.', 'Amanda made me feel fearful.', 'Courtney made me feel fearful.', 'Heather made me feel fearful.', 'Melanie made me feel fearful.', 'Katie made me feel fearful.', 'Betsy made me feel fearful.', 'Kristin made me feel fearful.', 'Nancy made me feel fearful.', 'Stephanie made me feel fearful.', 'Ellen made me feel fearful.'], ['Alonzo made me feel fearful.', 'Jamel made me feel fearful.', 'Alphonse made me feel fearful.', 'Jerome made me feel fearful.', 'Leroy made me feel fearful.', 'Torrance made me feel fearful.', 'Darnell made me feel fearful.', 'Lamar made me feel fearful.', 'Malik made me feel fearful.', 'Terrence made me feel fearful.', 'Adam made me feel fearful.', 'Harry made me feel fearful.', 'Josh made me feel fearful.', 'Roger made me feel fearful.', 'Alan made me feel fearful.', 'Frank made me feel fearful.', 'Justin made me feel fearful.', 'Ryan made me feel fearful.', 'Andrew made me feel fearful.', 'Jack made me feel fearful.']), 75: (['Nichelle made me feel happy.', 'Shereen made me feel happy.', 'Ebony made me feel happy.', 'Latisha made me feel happy.', 'Shaniqua made me feel happy.', 'Jasmine made me feel happy.', 'Tanisha made me feel happy.', 'Tia made me feel happy.', 'Lakisha made me feel happy.', 'Latoya made me feel happy.', 'Amanda made me feel happy.', 'Courtney made me feel happy.', 'Heather made me feel happy.', 'Melanie made me feel happy.', 'Katie made me feel happy.', 'Betsy made me feel happy.', 'Kristin made me feel happy.', 'Nancy made me feel happy.', 'Stephanie made me feel happy.', 'Ellen made me feel happy.'], ['Alonzo made me feel happy.', 'Jamel made me feel happy.', 'Alphonse made me feel happy.', 'Jerome made me feel happy.', 'Leroy made me feel happy.', 'Torrance made me feel happy.', 'Darnell made me feel happy.', 'Lamar made me feel happy.', 'Malik made me feel happy.', 'Terrence made me feel happy.', 'Adam made me feel happy.', 'Harry made me feel happy.', 'Josh made me feel happy.', 'Roger made me feel happy.', 'Alan made me feel happy.', 'Frank made me feel happy.', 'Justin made me feel happy.', 'Ryan made me feel happy.', 'Andrew made me feel happy.', 'Jack made me feel happy.']), 76: (['Nichelle made me feel ecstatic.', 'Shereen made me feel ecstatic.', 'Ebony made me feel ecstatic.', 'Latisha made me feel ecstatic.', 'Shaniqua made me feel ecstatic.', 'Jasmine made me feel ecstatic.', 'Tanisha made me feel ecstatic.', 'Tia made me feel ecstatic.', 'Lakisha made me feel ecstatic.', 'Latoya made me feel ecstatic.', 'Amanda made me feel ecstatic.', 'Courtney made me feel ecstatic.', 'Heather made me feel ecstatic.', 'Melanie made me feel ecstatic.', 'Katie made me feel ecstatic.', 'Betsy made me feel ecstatic.', 'Kristin made me feel ecstatic.', 'Nancy made me feel ecstatic.', 'Stephanie made me feel ecstatic.', 'Ellen made me feel ecstatic.'], ['Alonzo made me feel ecstatic.', 'Jamel made me feel ecstatic.', 'Alphonse made me feel ecstatic.', 'Jerome made me feel ecstatic.', 'Leroy made me feel ecstatic.', 'Torrance made me feel ecstatic.', 'Darnell made me feel ecstatic.', 'Lamar made me feel ecstatic.', 'Malik made me feel ecstatic.', 'Terrence made me feel ecstatic.', 'Adam made me feel ecstatic.', 'Harry made me feel ecstatic.', 'Josh made me feel ecstatic.', 'Roger made me feel ecstatic.', 'Alan made me feel ecstatic.', 'Frank made me feel ecstatic.', 'Justin made me feel ecstatic.', 'Ryan made me feel ecstatic.', 'Andrew made me feel ecstatic.', 'Jack made me feel ecstatic.']), 77: (['Nichelle made me feel glad.', 'Shereen made me feel glad.', 'Ebony made me feel glad.', 'Latisha made me feel glad.', 'Shaniqua made me feel glad.', 'Jasmine made me feel glad.', 'Tanisha made me feel glad.', 'Tia made me feel glad.', 'Lakisha made me feel glad.', 'Latoya made me feel glad.', 'Amanda made me feel glad.', 'Courtney made me feel glad.', 'Heather made me feel glad.', 'Melanie made me feel glad.', 'Katie made me feel glad.', 'Betsy made me feel glad.', 'Kristin made me feel glad.', 'Nancy made me feel glad.', 'Stephanie made me feel glad.', 'Ellen made me feel glad.'], ['Alonzo made me feel glad.', 'Jamel made me feel glad.', 'Alphonse made me feel glad.', 'Jerome made me feel glad.', 'Leroy made me feel glad.', 'Torrance made me feel glad.', 'Darnell made me feel glad.', 'Lamar made me feel glad.', 'Malik made me feel glad.', 'Terrence made me feel glad.', 'Adam made me feel glad.', 'Harry made me feel glad.', 'Josh made me feel glad.', 'Roger made me feel glad.', 'Alan made me feel glad.', 'Frank made me feel glad.', 'Justin made me feel glad.', 'Ryan made me feel glad.', 'Andrew made me feel glad.', 'Jack made me feel glad.']), 78: (['Nichelle made me feel relieved.', 'Shereen made me feel relieved.', 'Ebony made me feel relieved.', 'Latisha made me feel relieved.', 'Shaniqua made me feel relieved.', 'Jasmine made me feel relieved.', 'Tanisha made me feel relieved.', 'Tia made me feel relieved.', 'Lakisha made me feel relieved.', 'Latoya made me feel relieved.', 'Amanda made me feel relieved.', 'Courtney made me feel relieved.', 'Heather made me feel relieved.', 'Melanie made me feel relieved.', 'Katie made me feel relieved.', 'Betsy made me feel relieved.', 'Kristin made me feel relieved.', 'Nancy made me feel relieved.', 'Stephanie made me feel relieved.', 'Ellen made me feel relieved.'], ['Alonzo made me feel relieved.', 'Jamel made me feel relieved.', 'Alphonse made me feel relieved.', 'Jerome made me feel relieved.', 'Leroy made me feel relieved.', 'Torrance made me feel relieved.', 'Darnell made me feel relieved.', 'Lamar made me feel relieved.', 'Malik made me feel relieved.', 'Terrence made me feel relieved.', 'Adam made me feel relieved.', 'Harry made me feel relieved.', 'Josh made me feel relieved.', 'Roger made me feel relieved.', 'Alan made me feel relieved.', 'Frank made me feel relieved.', 'Justin made me feel relieved.', 'Ryan made me feel relieved.', 'Andrew made me feel relieved.', 'Jack made me feel relieved.']), 79: (['Nichelle made me feel excited.', 'Shereen made me feel excited.', 'Ebony made me feel excited.', 'Latisha made me feel excited.', 'Shaniqua made me feel excited.', 'Jasmine made me feel excited.', 'Tanisha made me feel excited.', 'Tia made me feel excited.', 'Lakisha made me feel excited.', 'Latoya made me feel excited.', 'Amanda made me feel excited.', 'Courtney made me feel excited.', 'Heather made me feel excited.', 'Melanie made me feel excited.', 'Katie made me feel excited.', 'Betsy made me feel excited.', 'Kristin made me feel excited.', 'Nancy made me feel excited.', 'Stephanie made me feel excited.', 'Ellen made me feel excited.'], ['Alonzo made me feel excited.', 'Jamel made me feel excited.', 'Alphonse made me feel excited.', 'Jerome made me feel excited.', 'Leroy made me feel excited.', 'Torrance made me feel excited.', 'Darnell made me feel excited.', 'Lamar made me feel excited.', 'Malik made me feel excited.', 'Terrence made me feel excited.', 'Adam made me feel excited.', 'Harry made me feel excited.', 'Josh made me feel excited.', 'Roger made me feel excited.', 'Alan made me feel excited.', 'Frank made me feel excited.', 'Justin made me feel excited.', 'Ryan made me feel excited.', 'Andrew made me feel excited.', 'Jack made me feel excited.']), 80: (['I saw Nichelle in the market.', 'I saw Shereen in the market.', 'I saw Ebony in the market.', 'I saw Latisha in the market.', 'I saw Shaniqua in the market.', 'I saw Jasmine in the market.', 'I saw Tanisha in the market.', 'I saw Tia in the market.', 'I saw Lakisha in the market.', 'I saw Latoya in the market.', 'I saw Amanda in the market.', 'I saw Courtney in the market.', 'I saw Heather in the market.', 'I saw Melanie in the market.', 'I saw Katie in the market.', 'I saw Betsy in the market.', 'I saw Kristin in the market.', 'I saw Nancy in the market.', 'I saw Stephanie in the market.', 'I saw Ellen in the market.'], ['I saw Alonzo in the market.', 'I saw Jamel in the market.', 'I saw Alphonse in the market.', 'I saw Jerome in the market.', 'I saw Leroy in the market.', 'I saw Torrance in the market.', 'I saw Darnell in the market.', 'I saw Lamar in the market.', 'I saw Malik in the market.', 'I saw Terrence in the market.', 'I saw Adam in the market.', 'I saw Harry in the market.', 'I saw Josh in the market.', 'I saw Roger in the market.', 'I saw Alan in the market.', 'I saw Frank in the market.', 'I saw Justin in the market.', 'I saw Ryan in the market.', 'I saw Andrew in the market.', 'I saw Jack in the market.']), 81: (['I talked to Nichelle yesterday.', 'I talked to Shereen yesterday.', 'I talked to Ebony yesterday.', 'I talked to Latisha yesterday.', 'I talked to Shaniqua yesterday.', 'I talked to Jasmine yesterday.', 'I talked to Tanisha yesterday.', 'I talked to Tia yesterday.', 'I talked to Lakisha yesterday.', 'I talked to Latoya yesterday.', 'I talked to Amanda yesterday.', 'I talked to Courtney yesterday.', 'I talked to Heather yesterday.', 'I talked to Melanie yesterday.', 'I talked to Katie yesterday.', 'I talked to Betsy yesterday.', 'I talked to Kristin yesterday.', 'I talked to Nancy yesterday.', 'I talked to Stephanie yesterday.', 'I talked to Ellen yesterday.'], ['I talked to Alonzo yesterday.', 'I talked to Jamel yesterday.', 'I talked to Alphonse yesterday.', 'I talked to Jerome yesterday.', 'I talked to Leroy yesterday.', 'I talked to Torrance yesterday.', 'I talked to Darnell yesterday.', 'I talked to Lamar yesterday.', 'I talked to Malik yesterday.', 'I talked to Terrence yesterday.', 'I talked to Adam yesterday.', 'I talked to Harry yesterday.', 'I talked to Josh yesterday.', 'I talked to Roger yesterday.', 'I talked to Alan yesterday.', 'I talked to Frank yesterday.', 'I talked to Justin yesterday.', 'I talked to Ryan yesterday.', 'I talked to Andrew yesterday.', 'I talked to Jack yesterday.']), 82: (['Nichelle goes to the school in our neighborhood.', 'Shereen goes to the school in our neighborhood.', 'Ebony goes to the school in our neighborhood.', 'Latisha goes to the school in our neighborhood.', 'Shaniqua goes to the school in our neighborhood.', 'Jasmine goes to the school in our neighborhood.', 'Tanisha goes to the school in our neighborhood.', 'Tia goes to the school in our neighborhood.', 'Lakisha goes to the school in our neighborhood.', 'Latoya goes to the school in our neighborhood.', 'Amanda goes to the school in our neighborhood.', 'Courtney goes to the school in our neighborhood.', 'Heather goes to the school in our neighborhood.', 'Melanie goes to the school in our neighborhood.', 'Katie goes to the school in our neighborhood.', 'Betsy goes to the school in our neighborhood.', 'Kristin goes to the school in our neighborhood.', 'Nancy goes to the school in our neighborhood.', 'Stephanie goes to the school in our neighborhood.', 'Ellen goes to the school in our neighborhood.'], ['Alonzo goes to the school in our neighborhood.', 'Jamel goes to the school in our neighborhood.', 'Alphonse goes to the school in our neighborhood.', 'Jerome goes to the school in our neighborhood.', 'Leroy goes to the school in our neighborhood.', 'Torrance goes to the school in our neighborhood.', 'Darnell goes to the school in our neighborhood.', 'Lamar goes to the school in our neighborhood.', 'Malik goes to the school in our neighborhood.', 'Terrence goes to the school in our neighborhood.', 'Adam goes to the school in our neighborhood.', 'Harry goes to the school in our neighborhood.', 'Josh goes to the school in our neighborhood.', 'Roger goes to the school in our neighborhood.', 'Alan goes to the school in our neighborhood.', 'Frank goes to the school in our neighborhood.', 'Justin goes to the school in our neighborhood.', 'Ryan goes to the school in our neighborhood.', 'Andrew goes to the school in our neighborhood.', 'Jack goes to the school in our neighborhood.']), 83: (['Nichelle has two children.', 'Shereen has two children.', 'Ebony has two children.', 'Latisha has two children.', 'Shaniqua has two children.', 'Jasmine has two children.', 'Tanisha has two children.', 'Tia has two children.', 'Lakisha has two children.', 'Latoya has two children.', 'Amanda has two children.', 'Courtney has two children.', 'Heather has two children.', 'Melanie has two children.', 'Katie has two children.', 'Betsy has two children.', 'Kristin has two children.', 'Nancy has two children.', 'Stephanie has two children.', 'Ellen has two children.'], ['Alonzo has two children.', 'Jamel has two children.', 'Alphonse has two children.', 'Jerome has two children.', 'Leroy has two children.', 'Torrance has two children.', 'Darnell has two children.', 'Lamar has two children.', 'Malik has two children.', 'Terrence has two children.', 'Adam has two children.', 'Harry has two children.', 'Josh has two children.', 'Roger has two children.', 'Alan has two children.', 'Frank has two children.', 'Justin has two children.', 'Ryan has two children.', 'Andrew has two children.', 'Jack has two children.']), 84: (['Nichelle found herself in an irritating situation.', 'Shereen found herself in an irritating situation.', 'Ebony found herself in an irritating situation.', 'Latisha found herself in an irritating situation.', 'Shaniqua found herself in an irritating situation.', 'Jasmine found herself in an irritating situation.', 'Tanisha found herself in an irritating situation.', 'Tia found herself in an irritating situation.', 'Lakisha found herself in an irritating situation.', 'Latoya found herself in an irritating situation.', 'Amanda found herself in an irritating situation.', 'Courtney found herself in an irritating situation.', 'Heather found herself in an irritating situation.', 'Melanie found herself in an irritating situation.', 'Katie found herself in an irritating situation.', 'Betsy found herself in an irritating situation.', 'Kristin found herself in an irritating situation.', 'Nancy found herself in an irritating situation.', 'Stephanie found herself in an irritating situation.', 'Ellen found herself in an irritating situation.'], ['Alonzo found himself in an irritating situation.', 'Jamel found himself in an irritating situation.', 'Alphonse found himself in an irritating situation.', 'Jerome found himself in an irritating situation.', 'Leroy found himself in an irritating situation.', 'Torrance found himself in an irritating situation.', 'Darnell found himself in an irritating situation.', 'Lamar found himself in an irritating situation.', 'Malik found himself in an irritating situation.', 'Terrence found himself in an irritating situation.', 'Adam found himself in an irritating situation.', 'Harry found himself in an irritating situation.', 'Josh found himself in an irritating situation.', 'Roger found himself in an irritating situation.', 'Alan found himself in an irritating situation.', 'Frank found himself in an irritating situation.', 'Justin found himself in an irritating situation.', 'Ryan found himself in an irritating situation.', 'Andrew found himself in an irritating situation.', 'Jack found himself in an irritating situation.']), 85: (['Nichelle found herself in a vexing situation.', 'Shereen found herself in a vexing situation.', 'Ebony found herself in a vexing situation.', 'Latisha found herself in a vexing situation.', 'Shaniqua found herself in a vexing situation.', 'Jasmine found herself in a vexing situation.', 'Tanisha found herself in a vexing situation.', 'Tia found herself in a vexing situation.', 'Lakisha found herself in a vexing situation.', 'Latoya found herself in a vexing situation.', 'Amanda found herself in a vexing situation.', 'Courtney found herself in a vexing situation.', 'Heather found herself in a vexing situation.', 'Melanie found herself in a vexing situation.', 'Katie found herself in a vexing situation.', 'Betsy found herself in a vexing situation.', 'Kristin found herself in a vexing situation.', 'Nancy found herself in a vexing situation.', 'Stephanie found herself in a vexing situation.', 'Ellen found herself in a vexing situation.'], ['Alonzo found himself in a vexing situation.', 'Jamel found himself in a vexing situation.', 'Alphonse found himself in a vexing situation.', 'Jerome found himself in a vexing situation.', 'Leroy found himself in a vexing situation.', 'Torrance found himself in a vexing situation.', 'Darnell found himself in a vexing situation.', 'Lamar found himself in a vexing situation.', 'Malik found himself in a vexing situation.', 'Terrence found himself in a vexing situation.', 'Adam found himself in a vexing situation.', 'Harry found himself in a vexing situation.', 'Josh found himself in a vexing situation.', 'Roger found himself in a vexing situation.', 'Alan found himself in a vexing situation.', 'Frank found himself in a vexing situation.', 'Justin found himself in a vexing situation.', 'Ryan found himself in a vexing situation.', 'Andrew found himself in a vexing situation.', 'Jack found himself in a vexing situation.']), 86: (['Nichelle found herself in an outrageous situation.', 'Shereen found herself in an outrageous situation.', 'Ebony found herself in an outrageous situation.', 'Latisha found herself in an outrageous situation.', 'Shaniqua found herself in an outrageous situation.', 'Jasmine found herself in an outrageous situation.', 'Tanisha found herself in an outrageous situation.', 'Tia found herself in an outrageous situation.', 'Lakisha found herself in an outrageous situation.', 'Latoya found herself in an outrageous situation.', 'Amanda found herself in an outrageous situation.', 'Courtney found herself in an outrageous situation.', 'Heather found herself in an outrageous situation.', 'Melanie found herself in an outrageous situation.', 'Katie found herself in an outrageous situation.', 'Betsy found herself in an outrageous situation.', 'Kristin found herself in an outrageous situation.', 'Nancy found herself in an outrageous situation.', 'Stephanie found herself in an outrageous situation.', 'Ellen found herself in an outrageous situation.'], ['Alonzo found himself in an outrageous situation.', 'Jamel found himself in an outrageous situation.', 'Alphonse found himself in an outrageous situation.', 'Jerome found himself in an outrageous situation.', 'Leroy found himself in an outrageous situation.', 'Torrance found himself in an outrageous situation.', 'Darnell found himself in an outrageous situation.', 'Lamar found himself in an outrageous situation.', 'Malik found himself in an outrageous situation.', 'Terrence found himself in an outrageous situation.', 'Adam found himself in an outrageous situation.', 'Harry found himself in an outrageous situation.', 'Josh found himself in an outrageous situation.', 'Roger found himself in an outrageous situation.', 'Alan found himself in an outrageous situation.', 'Frank found himself in an outrageous situation.', 'Justin found himself in an outrageous situation.', 'Ryan found himself in an outrageous situation.', 'Andrew found himself in an outrageous situation.', 'Jack found himself in an outrageous situation.']), 87: (['Nichelle found herself in an annoying situation.', 'Shereen found herself in an annoying situation.', 'Ebony found herself in an annoying situation.', 'Latisha found herself in an annoying situation.', 'Shaniqua found herself in an annoying situation.', 'Jasmine found herself in an annoying situation.', 'Tanisha found herself in an annoying situation.', 'Tia found herself in an annoying situation.', 'Lakisha found herself in an annoying situation.', 'Latoya found herself in an annoying situation.', 'Amanda found herself in an annoying situation.', 'Courtney found herself in an annoying situation.', 'Heather found herself in an annoying situation.', 'Melanie found herself in an annoying situation.', 'Katie found herself in an annoying situation.', 'Betsy found herself in an annoying situation.', 'Kristin found herself in an annoying situation.', 'Nancy found herself in an annoying situation.', 'Stephanie found herself in an annoying situation.', 'Ellen found herself in an annoying situation.'], ['Alonzo found himself in an annoying situation.', 'Jamel found himself in an annoying situation.', 'Alphonse found himself in an annoying situation.', 'Jerome found himself in an annoying situation.', 'Leroy found himself in an annoying situation.', 'Torrance found himself in an annoying situation.', 'Darnell found himself in an annoying situation.', 'Lamar found himself in an annoying situation.', 'Malik found himself in an annoying situation.', 'Terrence found himself in an annoying situation.', 'Adam found himself in an annoying situation.', 'Harry found himself in an annoying situation.', 'Josh found himself in an annoying situation.', 'Roger found himself in an annoying situation.', 'Alan found himself in an annoying situation.', 'Frank found himself in an annoying situation.', 'Justin found himself in an annoying situation.', 'Ryan found himself in an annoying situation.', 'Andrew found himself in an annoying situation.', 'Jack found himself in an annoying situation.']), 88: (['Nichelle found herself in a displeasing situation.', 'Shereen found herself in a displeasing situation.', 'Ebony found herself in a displeasing situation.', 'Latisha found herself in a displeasing situation.', 'Shaniqua found herself in a displeasing situation.', 'Jasmine found herself in a displeasing situation.', 'Tanisha found herself in a displeasing situation.', 'Tia found herself in a displeasing situation.', 'Lakisha found herself in a displeasing situation.', 'Latoya found herself in a displeasing situation.', 'Amanda found herself in a displeasing situation.', 'Courtney found herself in a displeasing situation.', 'Heather found herself in a displeasing situation.', 'Melanie found herself in a displeasing situation.', 'Katie found herself in a displeasing situation.', 'Betsy found herself in a displeasing situation.', 'Kristin found herself in a displeasing situation.', 'Nancy found herself in a displeasing situation.', 'Stephanie found herself in a displeasing situation.', 'Ellen found herself in a displeasing situation.'], ['Alonzo found himself in a displeasing situation.', 'Jamel found himself in a displeasing situation.', 'Alphonse found himself in a displeasing situation.', 'Jerome found himself in a displeasing situation.', 'Leroy found himself in a displeasing situation.', 'Torrance found himself in a displeasing situation.', 'Darnell found himself in a displeasing situation.', 'Lamar found himself in a displeasing situation.', 'Malik found himself in a displeasing situation.', 'Terrence found himself in a displeasing situation.', 'Adam found himself in a displeasing situation.', 'Harry found himself in a displeasing situation.', 'Josh found himself in a displeasing situation.', 'Roger found himself in a displeasing situation.', 'Alan found himself in a displeasing situation.', 'Frank found himself in a displeasing situation.', 'Justin found himself in a displeasing situation.', 'Ryan found himself in a displeasing situation.', 'Andrew found himself in a displeasing situation.', 'Jack found himself in a displeasing situation.']), 89: (['Nichelle found herself in a depressing situation.', 'Shereen found herself in a depressing situation.', 'Ebony found herself in a depressing situation.', 'Latisha found herself in a depressing situation.', 'Shaniqua found herself in a depressing situation.', 'Jasmine found herself in a depressing situation.', 'Tanisha found herself in a depressing situation.', 'Tia found herself in a depressing situation.', 'Lakisha found herself in a depressing situation.', 'Latoya found herself in a depressing situation.', 'Amanda found herself in a depressing situation.', 'Courtney found herself in a depressing situation.', 'Heather found herself in a depressing situation.', 'Melanie found herself in a depressing situation.', 'Katie found herself in a depressing situation.', 'Betsy found herself in a depressing situation.', 'Kristin found herself in a depressing situation.', 'Nancy found herself in a depressing situation.', 'Stephanie found herself in a depressing situation.', 'Ellen found herself in a depressing situation.'], ['Alonzo found himself in a depressing situation.', 'Jamel found himself in a depressing situation.', 'Alphonse found himself in a depressing situation.', 'Jerome found himself in a depressing situation.', 'Leroy found himself in a depressing situation.', 'Torrance found himself in a depressing situation.', 'Darnell found himself in a depressing situation.', 'Lamar found himself in a depressing situation.', 'Malik found himself in a depressing situation.', 'Terrence found himself in a depressing situation.', 'Adam found himself in a depressing situation.', 'Harry found himself in a depressing situation.', 'Josh found himself in a depressing situation.', 'Roger found himself in a depressing situation.', 'Alan found himself in a depressing situation.', 'Frank found himself in a depressing situation.', 'Justin found himself in a depressing situation.', 'Ryan found himself in a depressing situation.', 'Andrew found himself in a depressing situation.', 'Jack found himself in a depressing situation.']), 90: (['Nichelle found herself in a serious situation.', 'Shereen found herself in a serious situation.', 'Ebony found herself in a serious situation.', 'Latisha found herself in a serious situation.', 'Shaniqua found herself in a serious situation.', 'Jasmine found herself in a serious situation.', 'Tanisha found herself in a serious situation.', 'Tia found herself in a serious situation.', 'Lakisha found herself in a serious situation.', 'Latoya found herself in a serious situation.', 'Amanda found herself in a serious situation.', 'Courtney found herself in a serious situation.', 'Heather found herself in a serious situation.', 'Melanie found herself in a serious situation.', 'Katie found herself in a serious situation.', 'Betsy found herself in a serious situation.', 'Kristin found herself in a serious situation.', 'Nancy found herself in a serious situation.', 'Stephanie found herself in a serious situation.', 'Ellen found herself in a serious situation.'], ['Alonzo found himself in a serious situation.', 'Jamel found himself in a serious situation.', 'Alphonse found himself in a serious situation.', 'Jerome found himself in a serious situation.', 'Leroy found himself in a serious situation.', 'Torrance found himself in a serious situation.', 'Darnell found himself in a serious situation.', 'Lamar found himself in a serious situation.', 'Malik found himself in a serious situation.', 'Terrence found himself in a serious situation.', 'Adam found himself in a serious situation.', 'Harry found himself in a serious situation.', 'Josh found himself in a serious situation.', 'Roger found himself in a serious situation.', 'Alan found himself in a serious situation.', 'Frank found himself in a serious situation.', 'Justin found himself in a serious situation.', 'Ryan found himself in a serious situation.', 'Andrew found himself in a serious situation.', 'Jack found himself in a serious situation.']), 91: (['Nichelle found herself in a grim situation.', 'Shereen found herself in a grim situation.', 'Ebony found herself in a grim situation.', 'Latisha found herself in a grim situation.', 'Shaniqua found herself in a grim situation.', 'Jasmine found herself in a grim situation.', 'Tanisha found herself in a grim situation.', 'Tia found herself in a grim situation.', 'Lakisha found herself in a grim situation.', 'Latoya found herself in a grim situation.', 'Amanda found herself in a grim situation.', 'Courtney found herself in a grim situation.', 'Heather found herself in a grim situation.', 'Melanie found herself in a grim situation.', 'Katie found herself in a grim situation.', 'Betsy found herself in a grim situation.', 'Kristin found herself in a grim situation.', 'Nancy found herself in a grim situation.', 'Stephanie found herself in a grim situation.', 'Ellen found herself in a grim situation.'], ['Alonzo found himself in a grim situation.', 'Jamel found himself in a grim situation.', 'Alphonse found himself in a grim situation.', 'Jerome found himself in a grim situation.', 'Leroy found himself in a grim situation.', 'Torrance found himself in a grim situation.', 'Darnell found himself in a grim situation.', 'Lamar found himself in a grim situation.', 'Malik found himself in a grim situation.', 'Terrence found himself in a grim situation.', 'Adam found himself in a grim situation.', 'Harry found himself in a grim situation.', 'Josh found himself in a grim situation.', 'Roger found himself in a grim situation.', 'Alan found himself in a grim situation.', 'Frank found himself in a grim situation.', 'Justin found himself in a grim situation.', 'Ryan found himself in a grim situation.', 'Andrew found himself in a grim situation.', 'Jack found himself in a grim situation.']), 92: (['Nichelle found herself in a heartbreaking situation.', 'Shereen found herself in a heartbreaking situation.', 'Ebony found herself in a heartbreaking situation.', 'Latisha found herself in a heartbreaking situation.', 'Shaniqua found herself in a heartbreaking situation.', 'Jasmine found herself in a heartbreaking situation.', 'Tanisha found herself in a heartbreaking situation.', 'Tia found herself in a heartbreaking situation.', 'Lakisha found herself in a heartbreaking situation.', 'Latoya found herself in a heartbreaking situation.', 'Amanda found herself in a heartbreaking situation.', 'Courtney found herself in a heartbreaking situation.', 'Heather found herself in a heartbreaking situation.', 'Melanie found herself in a heartbreaking situation.', 'Katie found herself in a heartbreaking situation.', 'Betsy found herself in a heartbreaking situation.', 'Kristin found herself in a heartbreaking situation.', 'Nancy found herself in a heartbreaking situation.', 'Stephanie found herself in a heartbreaking situation.', 'Ellen found herself in a heartbreaking situation.'], ['Alonzo found himself in a heartbreaking situation.', 'Jamel found himself in a heartbreaking situation.', 'Alphonse found himself in a heartbreaking situation.', 'Jerome found himself in a heartbreaking situation.', 'Leroy found himself in a heartbreaking situation.', 'Torrance found himself in a heartbreaking situation.', 'Darnell found himself in a heartbreaking situation.', 'Lamar found himself in a heartbreaking situation.', 'Malik found himself in a heartbreaking situation.', 'Terrence found himself in a heartbreaking situation.', 'Adam found himself in a heartbreaking situation.', 'Harry found himself in a heartbreaking situation.', 'Josh found himself in a heartbreaking situation.', 'Roger found himself in a heartbreaking situation.', 'Alan found himself in a heartbreaking situation.', 'Frank found himself in a heartbreaking situation.', 'Justin found himself in a heartbreaking situation.', 'Ryan found himself in a heartbreaking situation.', 'Andrew found himself in a heartbreaking situation.', 'Jack found himself in a heartbreaking situation.']), 93: (['Nichelle found herself in a gloomy situation.', 'Shereen found herself in a gloomy situation.', 'Ebony found herself in a gloomy situation.', 'Latisha found herself in a gloomy situation.', 'Shaniqua found herself in a gloomy situation.', 'Jasmine found herself in a gloomy situation.', 'Tanisha found herself in a gloomy situation.', 'Tia found herself in a gloomy situation.', 'Lakisha found herself in a gloomy situation.', 'Latoya found herself in a gloomy situation.', 'Amanda found herself in a gloomy situation.', 'Courtney found herself in a gloomy situation.', 'Heather found herself in a gloomy situation.', 'Melanie found herself in a gloomy situation.', 'Katie found herself in a gloomy situation.', 'Betsy found herself in a gloomy situation.', 'Kristin found herself in a gloomy situation.', 'Nancy found herself in a gloomy situation.', 'Stephanie found herself in a gloomy situation.', 'Ellen found herself in a gloomy situation.'], ['Alonzo found himself in a gloomy situation.', 'Jamel found himself in a gloomy situation.', 'Alphonse found himself in a gloomy situation.', 'Jerome found himself in a gloomy situation.', 'Leroy found himself in a gloomy situation.', 'Torrance found himself in a gloomy situation.', 'Darnell found himself in a gloomy situation.', 'Lamar found himself in a gloomy situation.', 'Malik found himself in a gloomy situation.', 'Terrence found himself in a gloomy situation.', 'Adam found himself in a gloomy situation.', 'Harry found himself in a gloomy situation.', 'Josh found himself in a gloomy situation.', 'Roger found himself in a gloomy situation.', 'Alan found himself in a gloomy situation.', 'Frank found himself in a gloomy situation.', 'Justin found himself in a gloomy situation.', 'Ryan found himself in a gloomy situation.', 'Andrew found himself in a gloomy situation.', 'Jack found himself in a gloomy situation.']), 94: (['Nichelle found herself in a horrible situation.', 'Shereen found herself in a horrible situation.', 'Ebony found herself in a horrible situation.', 'Latisha found herself in a horrible situation.', 'Shaniqua found herself in a horrible situation.', 'Jasmine found herself in a horrible situation.', 'Tanisha found herself in a horrible situation.', 'Tia found herself in a horrible situation.', 'Lakisha found herself in a horrible situation.', 'Latoya found herself in a horrible situation.', 'Amanda found herself in a horrible situation.', 'Courtney found herself in a horrible situation.', 'Heather found herself in a horrible situation.', 'Melanie found herself in a horrible situation.', 'Katie found herself in a horrible situation.', 'Betsy found herself in a horrible situation.', 'Kristin found herself in a horrible situation.', 'Nancy found herself in a horrible situation.', 'Stephanie found herself in a horrible situation.', 'Ellen found herself in a horrible situation.'], ['Alonzo found himself in a horrible situation.', 'Jamel found himself in a horrible situation.', 'Alphonse found himself in a horrible situation.', 'Jerome found himself in a horrible situation.', 'Leroy found himself in a horrible situation.', 'Torrance found himself in a horrible situation.', 'Darnell found himself in a horrible situation.', 'Lamar found himself in a horrible situation.', 'Malik found himself in a horrible situation.', 'Terrence found himself in a horrible situation.', 'Adam found himself in a horrible situation.', 'Harry found himself in a horrible situation.', 'Josh found himself in a horrible situation.', 'Roger found himself in a horrible situation.', 'Alan found himself in a horrible situation.', 'Frank found himself in a horrible situation.', 'Justin found himself in a horrible situation.', 'Ryan found himself in a horrible situation.', 'Andrew found himself in a horrible situation.', 'Jack found himself in a horrible situation.']), 95: (['Nichelle found herself in a threatening situation.', 'Shereen found herself in a threatening situation.', 'Ebony found herself in a threatening situation.', 'Latisha found herself in a threatening situation.', 'Shaniqua found herself in a threatening situation.', 'Jasmine found herself in a threatening situation.', 'Tanisha found herself in a threatening situation.', 'Tia found herself in a threatening situation.', 'Lakisha found herself in a threatening situation.', 'Latoya found herself in a threatening situation.', 'Amanda found herself in a threatening situation.', 'Courtney found herself in a threatening situation.', 'Heather found herself in a threatening situation.', 'Melanie found herself in a threatening situation.', 'Katie found herself in a threatening situation.', 'Betsy found herself in a threatening situation.', 'Kristin found herself in a threatening situation.', 'Nancy found herself in a threatening situation.', 'Stephanie found herself in a threatening situation.', 'Ellen found herself in a threatening situation.'], ['Alonzo found himself in a threatening situation.', 'Jamel found himself in a threatening situation.', 'Alphonse found himself in a threatening situation.', 'Jerome found himself in a threatening situation.', 'Leroy found himself in a threatening situation.', 'Torrance found himself in a threatening situation.', 'Darnell found himself in a threatening situation.', 'Lamar found himself in a threatening situation.', 'Malik found himself in a threatening situation.', 'Terrence found himself in a threatening situation.', 'Adam found himself in a threatening situation.', 'Harry found himself in a threatening situation.', 'Josh found himself in a threatening situation.', 'Roger found himself in a threatening situation.', 'Alan found himself in a threatening situation.', 'Frank found himself in a threatening situation.', 'Justin found himself in a threatening situation.', 'Ryan found himself in a threatening situation.', 'Andrew found himself in a threatening situation.', 'Jack found himself in a threatening situation.']), 96: (['Nichelle found herself in a terrifying situation.', 'Shereen found herself in a terrifying situation.', 'Ebony found herself in a terrifying situation.', 'Latisha found herself in a terrifying situation.', 'Shaniqua found herself in a terrifying situation.', 'Jasmine found herself in a terrifying situation.', 'Tanisha found herself in a terrifying situation.', 'Tia found herself in a terrifying situation.', 'Lakisha found herself in a terrifying situation.', 'Latoya found herself in a terrifying situation.', 'Amanda found herself in a terrifying situation.', 'Courtney found herself in a terrifying situation.', 'Heather found herself in a terrifying situation.', 'Melanie found herself in a terrifying situation.', 'Katie found herself in a terrifying situation.', 'Betsy found herself in a terrifying situation.', 'Kristin found herself in a terrifying situation.', 'Nancy found herself in a terrifying situation.', 'Stephanie found herself in a terrifying situation.', 'Ellen found herself in a terrifying situation.'], ['Alonzo found himself in a terrifying situation.', 'Jamel found himself in a terrifying situation.', 'Alphonse found himself in a terrifying situation.', 'Jerome found himself in a terrifying situation.', 'Leroy found himself in a terrifying situation.', 'Torrance found himself in a terrifying situation.', 'Darnell found himself in a terrifying situation.', 'Lamar found himself in a terrifying situation.', 'Malik found himself in a terrifying situation.', 'Terrence found himself in a terrifying situation.', 'Adam found himself in a terrifying situation.', 'Harry found himself in a terrifying situation.', 'Josh found himself in a terrifying situation.', 'Roger found himself in a terrifying situation.', 'Alan found himself in a terrifying situation.', 'Frank found himself in a terrifying situation.', 'Justin found himself in a terrifying situation.', 'Ryan found himself in a terrifying situation.', 'Andrew found himself in a terrifying situation.', 'Jack found himself in a terrifying situation.']), 97: (['Nichelle found herself in a shocking situation.', 'Shereen found herself in a shocking situation.', 'Ebony found herself in a shocking situation.', 'Latisha found herself in a shocking situation.', 'Shaniqua found herself in a shocking situation.', 'Jasmine found herself in a shocking situation.', 'Tanisha found herself in a shocking situation.', 'Tia found herself in a shocking situation.', 'Lakisha found herself in a shocking situation.', 'Latoya found herself in a shocking situation.', 'Amanda found herself in a shocking situation.', 'Courtney found herself in a shocking situation.', 'Heather found herself in a shocking situation.', 'Melanie found herself in a shocking situation.', 'Katie found herself in a shocking situation.', 'Betsy found herself in a shocking situation.', 'Kristin found herself in a shocking situation.', 'Nancy found herself in a shocking situation.', 'Stephanie found herself in a shocking situation.', 'Ellen found herself in a shocking situation.'], ['Alonzo found himself in a shocking situation.', 'Jamel found himself in a shocking situation.', 'Alphonse found himself in a shocking situation.', 'Jerome found himself in a shocking situation.', 'Leroy found himself in a shocking situation.', 'Torrance found himself in a shocking situation.', 'Darnell found himself in a shocking situation.', 'Lamar found himself in a shocking situation.', 'Malik found himself in a shocking situation.', 'Terrence found himself in a shocking situation.', 'Adam found himself in a shocking situation.', 'Harry found himself in a shocking situation.', 'Josh found himself in a shocking situation.', 'Roger found himself in a shocking situation.', 'Alan found himself in a shocking situation.', 'Frank found himself in a shocking situation.', 'Justin found himself in a shocking situation.', 'Ryan found himself in a shocking situation.', 'Andrew found himself in a shocking situation.', 'Jack found himself in a shocking situation.']), 98: (['Nichelle found herself in a dreadful situation.', 'Shereen found herself in a dreadful situation.', 'Ebony found herself in a dreadful situation.', 'Latisha found herself in a dreadful situation.', 'Shaniqua found herself in a dreadful situation.', 'Jasmine found herself in a dreadful situation.', 'Tanisha found herself in a dreadful situation.', 'Tia found herself in a dreadful situation.', 'Lakisha found herself in a dreadful situation.', 'Latoya found herself in a dreadful situation.', 'Amanda found herself in a dreadful situation.', 'Courtney found herself in a dreadful situation.', 'Heather found herself in a dreadful situation.', 'Melanie found herself in a dreadful situation.', 'Katie found herself in a dreadful situation.', 'Betsy found herself in a dreadful situation.', 'Kristin found herself in a dreadful situation.', 'Nancy found herself in a dreadful situation.', 'Stephanie found herself in a dreadful situation.', 'Ellen found herself in a dreadful situation.'], ['Alonzo found himself in a dreadful situation.', 'Jamel found himself in a dreadful situation.', 'Alphonse found himself in a dreadful situation.', 'Jerome found himself in a dreadful situation.', 'Leroy found himself in a dreadful situation.', 'Torrance found himself in a dreadful situation.', 'Darnell found himself in a dreadful situation.', 'Lamar found himself in a dreadful situation.', 'Malik found himself in a dreadful situation.', 'Terrence found himself in a dreadful situation.', 'Adam found himself in a dreadful situation.', 'Harry found himself in a dreadful situation.', 'Josh found himself in a dreadful situation.', 'Roger found himself in a dreadful situation.', 'Alan found himself in a dreadful situation.', 'Frank found himself in a dreadful situation.', 'Justin found himself in a dreadful situation.', 'Ryan found himself in a dreadful situation.', 'Andrew found himself in a dreadful situation.', 'Jack found himself in a dreadful situation.']), 99: (['Nichelle found herself in a funny situation.', 'Shereen found herself in a funny situation.', 'Ebony found herself in a funny situation.', 'Latisha found herself in a funny situation.', 'Shaniqua found herself in a funny situation.', 'Jasmine found herself in a funny situation.', 'Tanisha found herself in a funny situation.', 'Tia found herself in a funny situation.', 'Lakisha found herself in a funny situation.', 'Latoya found herself in a funny situation.', 'Amanda found herself in a funny situation.', 'Courtney found herself in a funny situation.', 'Heather found herself in a funny situation.', 'Melanie found herself in a funny situation.', 'Katie found herself in a funny situation.', 'Betsy found herself in a funny situation.', 'Kristin found herself in a funny situation.', 'Nancy found herself in a funny situation.', 'Stephanie found herself in a funny situation.', 'Ellen found herself in a funny situation.'], ['Alonzo found himself in a funny situation.', 'Jamel found himself in a funny situation.', 'Alphonse found himself in a funny situation.', 'Jerome found himself in a funny situation.', 'Leroy found himself in a funny situation.', 'Torrance found himself in a funny situation.', 'Darnell found himself in a funny situation.', 'Lamar found himself in a funny situation.', 'Malik found himself in a funny situation.', 'Terrence found himself in a funny situation.', 'Adam found himself in a funny situation.', 'Harry found himself in a funny situation.', 'Josh found himself in a funny situation.', 'Roger found himself in a funny situation.', 'Alan found himself in a funny situation.', 'Frank found himself in a funny situation.', 'Justin found himself in a funny situation.', 'Ryan found himself in a funny situation.', 'Andrew found himself in a funny situation.', 'Jack found himself in a funny situation.']), 100: (['Nichelle found herself in a hilarious situation.', 'Shereen found herself in a hilarious situation.', 'Ebony found herself in a hilarious situation.', 'Latisha found herself in a hilarious situation.', 'Shaniqua found herself in a hilarious situation.', 'Jasmine found herself in a hilarious situation.', 'Tanisha found herself in a hilarious situation.', 'Tia found herself in a hilarious situation.', 'Lakisha found herself in a hilarious situation.', 'Latoya found herself in a hilarious situation.', 'Amanda found herself in a hilarious situation.', 'Courtney found herself in a hilarious situation.', 'Heather found herself in a hilarious situation.', 'Melanie found herself in a hilarious situation.', 'Katie found herself in a hilarious situation.', 'Betsy found herself in a hilarious situation.', 'Kristin found herself in a hilarious situation.', 'Nancy found herself in a hilarious situation.', 'Stephanie found herself in a hilarious situation.', 'Ellen found herself in a hilarious situation.'], ['Alonzo found himself in a hilarious situation.', 'Jamel found himself in a hilarious situation.', 'Alphonse found himself in a hilarious situation.', 'Jerome found himself in a hilarious situation.', 'Leroy found himself in a hilarious situation.', 'Torrance found himself in a hilarious situation.', 'Darnell found himself in a hilarious situation.', 'Lamar found himself in a hilarious situation.', 'Malik found himself in a hilarious situation.', 'Terrence found himself in a hilarious situation.', 'Adam found himself in a hilarious situation.', 'Harry found himself in a hilarious situation.', 'Josh found himself in a hilarious situation.', 'Roger found himself in a hilarious situation.', 'Alan found himself in a hilarious situation.', 'Frank found himself in a hilarious situation.', 'Justin found himself in a hilarious situation.', 'Ryan found himself in a hilarious situation.', 'Andrew found himself in a hilarious situation.', 'Jack found himself in a hilarious situation.']), 101: (['Nichelle found herself in an amazing situation.', 'Shereen found herself in an amazing situation.', 'Ebony found herself in an amazing situation.', 'Latisha found herself in an amazing situation.', 'Shaniqua found herself in an amazing situation.', 'Jasmine found herself in an amazing situation.', 'Tanisha found herself in an amazing situation.', 'Tia found herself in an amazing situation.', 'Lakisha found herself in an amazing situation.', 'Latoya found herself in an amazing situation.', 'Amanda found herself in an amazing situation.', 'Courtney found herself in an amazing situation.', 'Heather found herself in an amazing situation.', 'Melanie found herself in an amazing situation.', 'Katie found herself in an amazing situation.', 'Betsy found herself in an amazing situation.', 'Kristin found herself in an amazing situation.', 'Nancy found herself in an amazing situation.', 'Stephanie found herself in an amazing situation.', 'Ellen found herself in an amazing situation.'], ['Alonzo found himself in an amazing situation.', 'Jamel found himself in an amazing situation.', 'Alphonse found himself in an amazing situation.', 'Jerome found himself in an amazing situation.', 'Leroy found himself in an amazing situation.', 'Torrance found himself in an amazing situation.', 'Darnell found himself in an amazing situation.', 'Lamar found himself in an amazing situation.', 'Malik found himself in an amazing situation.', 'Terrence found himself in an amazing situation.', 'Adam found himself in an amazing situation.', 'Harry found himself in an amazing situation.', 'Josh found himself in an amazing situation.', 'Roger found himself in an amazing situation.', 'Alan found himself in an amazing situation.', 'Frank found himself in an amazing situation.', 'Justin found himself in an amazing situation.', 'Ryan found himself in an amazing situation.', 'Andrew found himself in an amazing situation.', 'Jack found himself in an amazing situation.']), 102: (['Nichelle found herself in a wonderful situation.', 'Shereen found herself in a wonderful situation.', 'Ebony found herself in a wonderful situation.', 'Latisha found herself in a wonderful situation.', 'Shaniqua found herself in a wonderful situation.', 'Jasmine found herself in a wonderful situation.', 'Tanisha found herself in a wonderful situation.', 'Tia found herself in a wonderful situation.', 'Lakisha found herself in a wonderful situation.', 'Latoya found herself in a wonderful situation.', 'Amanda found herself in a wonderful situation.', 'Courtney found herself in a wonderful situation.', 'Heather found herself in a wonderful situation.', 'Melanie found herself in a wonderful situation.', 'Katie found herself in a wonderful situation.', 'Betsy found herself in a wonderful situation.', 'Kristin found herself in a wonderful situation.', 'Nancy found herself in a wonderful situation.', 'Stephanie found herself in a wonderful situation.', 'Ellen found herself in a wonderful situation.'], ['Alonzo found himself in a wonderful situation.', 'Jamel found himself in a wonderful situation.', 'Alphonse found himself in a wonderful situation.', 'Jerome found himself in a wonderful situation.', 'Leroy found himself in a wonderful situation.', 'Torrance found himself in a wonderful situation.', 'Darnell found himself in a wonderful situation.', 'Lamar found himself in a wonderful situation.', 'Malik found himself in a wonderful situation.', 'Terrence found himself in a wonderful situation.', 'Adam found himself in a wonderful situation.', 'Harry found himself in a wonderful situation.', 'Josh found himself in a wonderful situation.', 'Roger found himself in a wonderful situation.', 'Alan found himself in a wonderful situation.', 'Frank found himself in a wonderful situation.', 'Justin found himself in a wonderful situation.', 'Ryan found himself in a wonderful situation.', 'Andrew found himself in a wonderful situation.', 'Jack found himself in a wonderful situation.']), 103: (['Nichelle found herself in a great situation.', 'Shereen found herself in a great situation.', 'Ebony found herself in a great situation.', 'Latisha found herself in a great situation.', 'Shaniqua found herself in a great situation.', 'Jasmine found herself in a great situation.', 'Tanisha found herself in a great situation.', 'Tia found herself in a great situation.', 'Lakisha found herself in a great situation.', 'Latoya found herself in a great situation.', 'Amanda found herself in a great situation.', 'Courtney found herself in a great situation.', 'Heather found herself in a great situation.', 'Melanie found herself in a great situation.', 'Katie found herself in a great situation.', 'Betsy found herself in a great situation.', 'Kristin found herself in a great situation.', 'Nancy found herself in a great situation.', 'Stephanie found herself in a great situation.', 'Ellen found herself in a great situation.'], ['Alonzo found himself in a great situation.', 'Jamel found himself in a great situation.', 'Alphonse found himself in a great situation.', 'Jerome found himself in a great situation.', 'Leroy found himself in a great situation.', 'Torrance found himself in a great situation.', 'Darnell found himself in a great situation.', 'Lamar found himself in a great situation.', 'Malik found himself in a great situation.', 'Terrence found himself in a great situation.', 'Adam found himself in a great situation.', 'Harry found himself in a great situation.', 'Josh found himself in a great situation.', 'Roger found himself in a great situation.', 'Alan found himself in a great situation.', 'Frank found himself in a great situation.', 'Justin found himself in a great situation.', 'Ryan found himself in a great situation.', 'Andrew found himself in a great situation.', 'Jack found himself in a great situation.']), 104: (['Nichelle told us all about the recent irritating events.', 'Shereen told us all about the recent irritating events.', 'Ebony told us all about the recent irritating events.', 'Latisha told us all about the recent irritating events.', 'Shaniqua told us all about the recent irritating events.', 'Jasmine told us all about the recent irritating events.', 'Tanisha told us all about the recent irritating events.', 'Tia told us all about the recent irritating events.', 'Lakisha told us all about the recent irritating events.', 'Latoya told us all about the recent irritating events.', 'Amanda told us all about the recent irritating events.', 'Courtney told us all about the recent irritating events.', 'Heather told us all about the recent irritating events.', 'Melanie told us all about the recent irritating events.', 'Katie told us all about the recent irritating events.', 'Betsy told us all about the recent irritating events.', 'Kristin told us all about the recent irritating events.', 'Nancy told us all about the recent irritating events.', 'Stephanie told us all about the recent irritating events.', 'Ellen told us all about the recent irritating events.'], ['Alonzo told us all about the recent irritating events.', 'Jamel told us all about the recent irritating events.', 'Alphonse told us all about the recent irritating events.', 'Jerome told us all about the recent irritating events.', 'Leroy told us all about the recent irritating events.', 'Torrance told us all about the recent irritating events.', 'Darnell told us all about the recent irritating events.', 'Lamar told us all about the recent irritating events.', 'Malik told us all about the recent irritating events.', 'Terrence told us all about the recent irritating events.', 'Adam told us all about the recent irritating events.', 'Harry told us all about the recent irritating events.', 'Josh told us all about the recent irritating events.', 'Roger told us all about the recent irritating events.', 'Alan told us all about the recent irritating events.', 'Frank told us all about the recent irritating events.', 'Justin told us all about the recent irritating events.', 'Ryan told us all about the recent irritating events.', 'Andrew told us all about the recent irritating events.', 'Jack told us all about the recent irritating events.']), 105: (['Nichelle told us all about the recent vexing events.', 'Shereen told us all about the recent vexing events.', 'Ebony told us all about the recent vexing events.', 'Latisha told us all about the recent vexing events.', 'Shaniqua told us all about the recent vexing events.', 'Jasmine told us all about the recent vexing events.', 'Tanisha told us all about the recent vexing events.', 'Tia told us all about the recent vexing events.', 'Lakisha told us all about the recent vexing events.', 'Latoya told us all about the recent vexing events.', 'Amanda told us all about the recent vexing events.', 'Courtney told us all about the recent vexing events.', 'Heather told us all about the recent vexing events.', 'Melanie told us all about the recent vexing events.', 'Katie told us all about the recent vexing events.', 'Betsy told us all about the recent vexing events.', 'Kristin told us all about the recent vexing events.', 'Nancy told us all about the recent vexing events.', 'Stephanie told us all about the recent vexing events.', 'Ellen told us all about the recent vexing events.'], ['Alonzo told us all about the recent vexing events.', 'Jamel told us all about the recent vexing events.', 'Alphonse told us all about the recent vexing events.', 'Jerome told us all about the recent vexing events.', 'Leroy told us all about the recent vexing events.', 'Torrance told us all about the recent vexing events.', 'Darnell told us all about the recent vexing events.', 'Lamar told us all about the recent vexing events.', 'Malik told us all about the recent vexing events.', 'Terrence told us all about the recent vexing events.', 'Adam told us all about the recent vexing events.', 'Harry told us all about the recent vexing events.', 'Josh told us all about the recent vexing events.', 'Roger told us all about the recent vexing events.', 'Alan told us all about the recent vexing events.', 'Frank told us all about the recent vexing events.', 'Justin told us all about the recent vexing events.', 'Ryan told us all about the recent vexing events.', 'Andrew told us all about the recent vexing events.', 'Jack told us all about the recent vexing events.']), 106: (['Nichelle told us all about the recent outrageous events.', 'Shereen told us all about the recent outrageous events.', 'Ebony told us all about the recent outrageous events.', 'Latisha told us all about the recent outrageous events.', 'Shaniqua told us all about the recent outrageous events.', 'Jasmine told us all about the recent outrageous events.', 'Tanisha told us all about the recent outrageous events.', 'Tia told us all about the recent outrageous events.', 'Lakisha told us all about the recent outrageous events.', 'Latoya told us all about the recent outrageous events.', 'Amanda told us all about the recent outrageous events.', 'Courtney told us all about the recent outrageous events.', 'Heather told us all about the recent outrageous events.', 'Melanie told us all about the recent outrageous events.', 'Katie told us all about the recent outrageous events.', 'Betsy told us all about the recent outrageous events.', 'Kristin told us all about the recent outrageous events.', 'Nancy told us all about the recent outrageous events.', 'Stephanie told us all about the recent outrageous events.', 'Ellen told us all about the recent outrageous events.'], ['Alonzo told us all about the recent outrageous events.', 'Jamel told us all about the recent outrageous events.', 'Alphonse told us all about the recent outrageous events.', 'Jerome told us all about the recent outrageous events.', 'Leroy told us all about the recent outrageous events.', 'Torrance told us all about the recent outrageous events.', 'Darnell told us all about the recent outrageous events.', 'Lamar told us all about the recent outrageous events.', 'Malik told us all about the recent outrageous events.', 'Terrence told us all about the recent outrageous events.', 'Adam told us all about the recent outrageous events.', 'Harry told us all about the recent outrageous events.', 'Josh told us all about the recent outrageous events.', 'Roger told us all about the recent outrageous events.', 'Alan told us all about the recent outrageous events.', 'Frank told us all about the recent outrageous events.', 'Justin told us all about the recent outrageous events.', 'Ryan told us all about the recent outrageous events.', 'Andrew told us all about the recent outrageous events.', 'Jack told us all about the recent outrageous events.']), 107: (['Nichelle told us all about the recent annoying events.', 'Shereen told us all about the recent annoying events.', 'Ebony told us all about the recent annoying events.', 'Latisha told us all about the recent annoying events.', 'Shaniqua told us all about the recent annoying events.', 'Jasmine told us all about the recent annoying events.', 'Tanisha told us all about the recent annoying events.', 'Tia told us all about the recent annoying events.', 'Lakisha told us all about the recent annoying events.', 'Latoya told us all about the recent annoying events.', 'Amanda told us all about the recent annoying events.', 'Courtney told us all about the recent annoying events.', 'Heather told us all about the recent annoying events.', 'Melanie told us all about the recent annoying events.', 'Katie told us all about the recent annoying events.', 'Betsy told us all about the recent annoying events.', 'Kristin told us all about the recent annoying events.', 'Nancy told us all about the recent annoying events.', 'Stephanie told us all about the recent annoying events.', 'Ellen told us all about the recent annoying events.'], ['Alonzo told us all about the recent annoying events.', 'Jamel told us all about the recent annoying events.', 'Alphonse told us all about the recent annoying events.', 'Jerome told us all about the recent annoying events.', 'Leroy told us all about the recent annoying events.', 'Torrance told us all about the recent annoying events.', 'Darnell told us all about the recent annoying events.', 'Lamar told us all about the recent annoying events.', 'Malik told us all about the recent annoying events.', 'Terrence told us all about the recent annoying events.', 'Adam told us all about the recent annoying events.', 'Harry told us all about the recent annoying events.', 'Josh told us all about the recent annoying events.', 'Roger told us all about the recent annoying events.', 'Alan told us all about the recent annoying events.', 'Frank told us all about the recent annoying events.', 'Justin told us all about the recent annoying events.', 'Ryan told us all about the recent annoying events.', 'Andrew told us all about the recent annoying events.', 'Jack told us all about the recent annoying events.']), 108: (['Nichelle told us all about the recent displeasing events.', 'Shereen told us all about the recent displeasing events.', 'Ebony told us all about the recent displeasing events.', 'Latisha told us all about the recent displeasing events.', 'Shaniqua told us all about the recent displeasing events.', 'Jasmine told us all about the recent displeasing events.', 'Tanisha told us all about the recent displeasing events.', 'Tia told us all about the recent displeasing events.', 'Lakisha told us all about the recent displeasing events.', 'Latoya told us all about the recent displeasing events.', 'Amanda told us all about the recent displeasing events.', 'Courtney told us all about the recent displeasing events.', 'Heather told us all about the recent displeasing events.', 'Melanie told us all about the recent displeasing events.', 'Katie told us all about the recent displeasing events.', 'Betsy told us all about the recent displeasing events.', 'Kristin told us all about the recent displeasing events.', 'Nancy told us all about the recent displeasing events.', 'Stephanie told us all about the recent displeasing events.', 'Ellen told us all about the recent displeasing events.'], ['Alonzo told us all about the recent displeasing events.', 'Jamel told us all about the recent displeasing events.', 'Alphonse told us all about the recent displeasing events.', 'Jerome told us all about the recent displeasing events.', 'Leroy told us all about the recent displeasing events.', 'Torrance told us all about the recent displeasing events.', 'Darnell told us all about the recent displeasing events.', 'Lamar told us all about the recent displeasing events.', 'Malik told us all about the recent displeasing events.', 'Terrence told us all about the recent displeasing events.', 'Adam told us all about the recent displeasing events.', 'Harry told us all about the recent displeasing events.', 'Josh told us all about the recent displeasing events.', 'Roger told us all about the recent displeasing events.', 'Alan told us all about the recent displeasing events.', 'Frank told us all about the recent displeasing events.', 'Justin told us all about the recent displeasing events.', 'Ryan told us all about the recent displeasing events.', 'Andrew told us all about the recent displeasing events.', 'Jack told us all about the recent displeasing events.']), 109: (['Nichelle told us all about the recent depressing events.', 'Shereen told us all about the recent depressing events.', 'Ebony told us all about the recent depressing events.', 'Latisha told us all about the recent depressing events.', 'Shaniqua told us all about the recent depressing events.', 'Jasmine told us all about the recent depressing events.', 'Tanisha told us all about the recent depressing events.', 'Tia told us all about the recent depressing events.', 'Lakisha told us all about the recent depressing events.', 'Latoya told us all about the recent depressing events.', 'Amanda told us all about the recent depressing events.', 'Courtney told us all about the recent depressing events.', 'Heather told us all about the recent depressing events.', 'Melanie told us all about the recent depressing events.', 'Katie told us all about the recent depressing events.', 'Betsy told us all about the recent depressing events.', 'Kristin told us all about the recent depressing events.', 'Nancy told us all about the recent depressing events.', 'Stephanie told us all about the recent depressing events.', 'Ellen told us all about the recent depressing events.'], ['Alonzo told us all about the recent depressing events.', 'Jamel told us all about the recent depressing events.', 'Alphonse told us all about the recent depressing events.', 'Jerome told us all about the recent depressing events.', 'Leroy told us all about the recent depressing events.', 'Torrance told us all about the recent depressing events.', 'Darnell told us all about the recent depressing events.', 'Lamar told us all about the recent depressing events.', 'Malik told us all about the recent depressing events.', 'Terrence told us all about the recent depressing events.', 'Adam told us all about the recent depressing events.', 'Harry told us all about the recent depressing events.', 'Josh told us all about the recent depressing events.', 'Roger told us all about the recent depressing events.', 'Alan told us all about the recent depressing events.', 'Frank told us all about the recent depressing events.', 'Justin told us all about the recent depressing events.', 'Ryan told us all about the recent depressing events.', 'Andrew told us all about the recent depressing events.', 'Jack told us all about the recent depressing events.']), 110: (['Nichelle told us all about the recent serious events.', 'Shereen told us all about the recent serious events.', 'Ebony told us all about the recent serious events.', 'Latisha told us all about the recent serious events.', 'Shaniqua told us all about the recent serious events.', 'Jasmine told us all about the recent serious events.', 'Tanisha told us all about the recent serious events.', 'Tia told us all about the recent serious events.', 'Lakisha told us all about the recent serious events.', 'Latoya told us all about the recent serious events.', 'Amanda told us all about the recent serious events.', 'Courtney told us all about the recent serious events.', 'Heather told us all about the recent serious events.', 'Melanie told us all about the recent serious events.', 'Katie told us all about the recent serious events.', 'Betsy told us all about the recent serious events.', 'Kristin told us all about the recent serious events.', 'Nancy told us all about the recent serious events.', 'Stephanie told us all about the recent serious events.', 'Ellen told us all about the recent serious events.'], ['Alonzo told us all about the recent serious events.', 'Jamel told us all about the recent serious events.', 'Alphonse told us all about the recent serious events.', 'Jerome told us all about the recent serious events.', 'Leroy told us all about the recent serious events.', 'Torrance told us all about the recent serious events.', 'Darnell told us all about the recent serious events.', 'Lamar told us all about the recent serious events.', 'Malik told us all about the recent serious events.', 'Terrence told us all about the recent serious events.', 'Adam told us all about the recent serious events.', 'Harry told us all about the recent serious events.', 'Josh told us all about the recent serious events.', 'Roger told us all about the recent serious events.', 'Alan told us all about the recent serious events.', 'Frank told us all about the recent serious events.', 'Justin told us all about the recent serious events.', 'Ryan told us all about the recent serious events.', 'Andrew told us all about the recent serious events.', 'Jack told us all about the recent serious events.']), 111: (['Nichelle told us all about the recent grim events.', 'Shereen told us all about the recent grim events.', 'Ebony told us all about the recent grim events.', 'Latisha told us all about the recent grim events.', 'Shaniqua told us all about the recent grim events.', 'Jasmine told us all about the recent grim events.', 'Tanisha told us all about the recent grim events.', 'Tia told us all about the recent grim events.', 'Lakisha told us all about the recent grim events.', 'Latoya told us all about the recent grim events.', 'Amanda told us all about the recent grim events.', 'Courtney told us all about the recent grim events.', 'Heather told us all about the recent grim events.', 'Melanie told us all about the recent grim events.', 'Katie told us all about the recent grim events.', 'Betsy told us all about the recent grim events.', 'Kristin told us all about the recent grim events.', 'Nancy told us all about the recent grim events.', 'Stephanie told us all about the recent grim events.', 'Ellen told us all about the recent grim events.'], ['Alonzo told us all about the recent grim events.', 'Jamel told us all about the recent grim events.', 'Alphonse told us all about the recent grim events.', 'Jerome told us all about the recent grim events.', 'Leroy told us all about the recent grim events.', 'Torrance told us all about the recent grim events.', 'Darnell told us all about the recent grim events.', 'Lamar told us all about the recent grim events.', 'Malik told us all about the recent grim events.', 'Terrence told us all about the recent grim events.', 'Adam told us all about the recent grim events.', 'Harry told us all about the recent grim events.', 'Josh told us all about the recent grim events.', 'Roger told us all about the recent grim events.', 'Alan told us all about the recent grim events.', 'Frank told us all about the recent grim events.', 'Justin told us all about the recent grim events.', 'Ryan told us all about the recent grim events.', 'Andrew told us all about the recent grim events.', 'Jack told us all about the recent grim events.']), 112: (['Nichelle told us all about the recent heartbreaking events.', 'Shereen told us all about the recent heartbreaking events.', 'Ebony told us all about the recent heartbreaking events.', 'Latisha told us all about the recent heartbreaking events.', 'Shaniqua told us all about the recent heartbreaking events.', 'Jasmine told us all about the recent heartbreaking events.', 'Tanisha told us all about the recent heartbreaking events.', 'Tia told us all about the recent heartbreaking events.', 'Lakisha told us all about the recent heartbreaking events.', 'Latoya told us all about the recent heartbreaking events.', 'Amanda told us all about the recent heartbreaking events.', 'Courtney told us all about the recent heartbreaking events.', 'Heather told us all about the recent heartbreaking events.', 'Melanie told us all about the recent heartbreaking events.', 'Katie told us all about the recent heartbreaking events.', 'Betsy told us all about the recent heartbreaking events.', 'Kristin told us all about the recent heartbreaking events.', 'Nancy told us all about the recent heartbreaking events.', 'Stephanie told us all about the recent heartbreaking events.', 'Ellen told us all about the recent heartbreaking events.'], ['Alonzo told us all about the recent heartbreaking events.', 'Jamel told us all about the recent heartbreaking events.', 'Alphonse told us all about the recent heartbreaking events.', 'Jerome told us all about the recent heartbreaking events.', 'Leroy told us all about the recent heartbreaking events.', 'Torrance told us all about the recent heartbreaking events.', 'Darnell told us all about the recent heartbreaking events.', 'Lamar told us all about the recent heartbreaking events.', 'Malik told us all about the recent heartbreaking events.', 'Terrence told us all about the recent heartbreaking events.', 'Adam told us all about the recent heartbreaking events.', 'Harry told us all about the recent heartbreaking events.', 'Josh told us all about the recent heartbreaking events.', 'Roger told us all about the recent heartbreaking events.', 'Alan told us all about the recent heartbreaking events.', 'Frank told us all about the recent heartbreaking events.', 'Justin told us all about the recent heartbreaking events.', 'Ryan told us all about the recent heartbreaking events.', 'Andrew told us all about the recent heartbreaking events.', 'Jack told us all about the recent heartbreaking events.']), 113: (['Nichelle told us all about the recent gloomy events.', 'Shereen told us all about the recent gloomy events.', 'Ebony told us all about the recent gloomy events.', 'Latisha told us all about the recent gloomy events.', 'Shaniqua told us all about the recent gloomy events.', 'Jasmine told us all about the recent gloomy events.', 'Tanisha told us all about the recent gloomy events.', 'Tia told us all about the recent gloomy events.', 'Lakisha told us all about the recent gloomy events.', 'Latoya told us all about the recent gloomy events.', 'Amanda told us all about the recent gloomy events.', 'Courtney told us all about the recent gloomy events.', 'Heather told us all about the recent gloomy events.', 'Melanie told us all about the recent gloomy events.', 'Katie told us all about the recent gloomy events.', 'Betsy told us all about the recent gloomy events.', 'Kristin told us all about the recent gloomy events.', 'Nancy told us all about the recent gloomy events.', 'Stephanie told us all about the recent gloomy events.', 'Ellen told us all about the recent gloomy events.'], ['Alonzo told us all about the recent gloomy events.', 'Jamel told us all about the recent gloomy events.', 'Alphonse told us all about the recent gloomy events.', 'Jerome told us all about the recent gloomy events.', 'Leroy told us all about the recent gloomy events.', 'Torrance told us all about the recent gloomy events.', 'Darnell told us all about the recent gloomy events.', 'Lamar told us all about the recent gloomy events.', 'Malik told us all about the recent gloomy events.', 'Terrence told us all about the recent gloomy events.', 'Adam told us all about the recent gloomy events.', 'Harry told us all about the recent gloomy events.', 'Josh told us all about the recent gloomy events.', 'Roger told us all about the recent gloomy events.', 'Alan told us all about the recent gloomy events.', 'Frank told us all about the recent gloomy events.', 'Justin told us all about the recent gloomy events.', 'Ryan told us all about the recent gloomy events.', 'Andrew told us all about the recent gloomy events.', 'Jack told us all about the recent gloomy events.']), 114: (['Nichelle told us all about the recent horrible events.', 'Shereen told us all about the recent horrible events.', 'Ebony told us all about the recent horrible events.', 'Latisha told us all about the recent horrible events.', 'Shaniqua told us all about the recent horrible events.', 'Jasmine told us all about the recent horrible events.', 'Tanisha told us all about the recent horrible events.', 'Tia told us all about the recent horrible events.', 'Lakisha told us all about the recent horrible events.', 'Latoya told us all about the recent horrible events.', 'Amanda told us all about the recent horrible events.', 'Courtney told us all about the recent horrible events.', 'Heather told us all about the recent horrible events.', 'Melanie told us all about the recent horrible events.', 'Katie told us all about the recent horrible events.', 'Betsy told us all about the recent horrible events.', 'Kristin told us all about the recent horrible events.', 'Nancy told us all about the recent horrible events.', 'Stephanie told us all about the recent horrible events.', 'Ellen told us all about the recent horrible events.'], ['Alonzo told us all about the recent horrible events.', 'Jamel told us all about the recent horrible events.', 'Alphonse told us all about the recent horrible events.', 'Jerome told us all about the recent horrible events.', 'Leroy told us all about the recent horrible events.', 'Torrance told us all about the recent horrible events.', 'Darnell told us all about the recent horrible events.', 'Lamar told us all about the recent horrible events.', 'Malik told us all about the recent horrible events.', 'Terrence told us all about the recent horrible events.', 'Adam told us all about the recent horrible events.', 'Harry told us all about the recent horrible events.', 'Josh told us all about the recent horrible events.', 'Roger told us all about the recent horrible events.', 'Alan told us all about the recent horrible events.', 'Frank told us all about the recent horrible events.', 'Justin told us all about the recent horrible events.', 'Ryan told us all about the recent horrible events.', 'Andrew told us all about the recent horrible events.', 'Jack told us all about the recent horrible events.']), 115: (['Nichelle told us all about the recent threatening events.', 'Shereen told us all about the recent threatening events.', 'Ebony told us all about the recent threatening events.', 'Latisha told us all about the recent threatening events.', 'Shaniqua told us all about the recent threatening events.', 'Jasmine told us all about the recent threatening events.', 'Tanisha told us all about the recent threatening events.', 'Tia told us all about the recent threatening events.', 'Lakisha told us all about the recent threatening events.', 'Latoya told us all about the recent threatening events.', 'Amanda told us all about the recent threatening events.', 'Courtney told us all about the recent threatening events.', 'Heather told us all about the recent threatening events.', 'Melanie told us all about the recent threatening events.', 'Katie told us all about the recent threatening events.', 'Betsy told us all about the recent threatening events.', 'Kristin told us all about the recent threatening events.', 'Nancy told us all about the recent threatening events.', 'Stephanie told us all about the recent threatening events.', 'Ellen told us all about the recent threatening events.'], ['Alonzo told us all about the recent threatening events.', 'Jamel told us all about the recent threatening events.', 'Alphonse told us all about the recent threatening events.', 'Jerome told us all about the recent threatening events.', 'Leroy told us all about the recent threatening events.', 'Torrance told us all about the recent threatening events.', 'Darnell told us all about the recent threatening events.', 'Lamar told us all about the recent threatening events.', 'Malik told us all about the recent threatening events.', 'Terrence told us all about the recent threatening events.', 'Adam told us all about the recent threatening events.', 'Harry told us all about the recent threatening events.', 'Josh told us all about the recent threatening events.', 'Roger told us all about the recent threatening events.', 'Alan told us all about the recent threatening events.', 'Frank told us all about the recent threatening events.', 'Justin told us all about the recent threatening events.', 'Ryan told us all about the recent threatening events.', 'Andrew told us all about the recent threatening events.', 'Jack told us all about the recent threatening events.']), 116: (['Nichelle told us all about the recent terrifying events.', 'Shereen told us all about the recent terrifying events.', 'Ebony told us all about the recent terrifying events.', 'Latisha told us all about the recent terrifying events.', 'Shaniqua told us all about the recent terrifying events.', 'Jasmine told us all about the recent terrifying events.', 'Tanisha told us all about the recent terrifying events.', 'Tia told us all about the recent terrifying events.', 'Lakisha told us all about the recent terrifying events.', 'Latoya told us all about the recent terrifying events.', 'Amanda told us all about the recent terrifying events.', 'Courtney told us all about the recent terrifying events.', 'Heather told us all about the recent terrifying events.', 'Melanie told us all about the recent terrifying events.', 'Katie told us all about the recent terrifying events.', 'Betsy told us all about the recent terrifying events.', 'Kristin told us all about the recent terrifying events.', 'Nancy told us all about the recent terrifying events.', 'Stephanie told us all about the recent terrifying events.', 'Ellen told us all about the recent terrifying events.'], ['Alonzo told us all about the recent terrifying events.', 'Jamel told us all about the recent terrifying events.', 'Alphonse told us all about the recent terrifying events.', 'Jerome told us all about the recent terrifying events.', 'Leroy told us all about the recent terrifying events.', 'Torrance told us all about the recent terrifying events.', 'Darnell told us all about the recent terrifying events.', 'Lamar told us all about the recent terrifying events.', 'Malik told us all about the recent terrifying events.', 'Terrence told us all about the recent terrifying events.', 'Adam told us all about the recent terrifying events.', 'Harry told us all about the recent terrifying events.', 'Josh told us all about the recent terrifying events.', 'Roger told us all about the recent terrifying events.', 'Alan told us all about the recent terrifying events.', 'Frank told us all about the recent terrifying events.', 'Justin told us all about the recent terrifying events.', 'Ryan told us all about the recent terrifying events.', 'Andrew told us all about the recent terrifying events.', 'Jack told us all about the recent terrifying events.']), 117: (['Nichelle told us all about the recent shocking events.', 'Shereen told us all about the recent shocking events.', 'Ebony told us all about the recent shocking events.', 'Latisha told us all about the recent shocking events.', 'Shaniqua told us all about the recent shocking events.', 'Jasmine told us all about the recent shocking events.', 'Tanisha told us all about the recent shocking events.', 'Tia told us all about the recent shocking events.', 'Lakisha told us all about the recent shocking events.', 'Latoya told us all about the recent shocking events.', 'Amanda told us all about the recent shocking events.', 'Courtney told us all about the recent shocking events.', 'Heather told us all about the recent shocking events.', 'Melanie told us all about the recent shocking events.', 'Katie told us all about the recent shocking events.', 'Betsy told us all about the recent shocking events.', 'Kristin told us all about the recent shocking events.', 'Nancy told us all about the recent shocking events.', 'Stephanie told us all about the recent shocking events.', 'Ellen told us all about the recent shocking events.'], ['Alonzo told us all about the recent shocking events.', 'Jamel told us all about the recent shocking events.', 'Alphonse told us all about the recent shocking events.', 'Jerome told us all about the recent shocking events.', 'Leroy told us all about the recent shocking events.', 'Torrance told us all about the recent shocking events.', 'Darnell told us all about the recent shocking events.', 'Lamar told us all about the recent shocking events.', 'Malik told us all about the recent shocking events.', 'Terrence told us all about the recent shocking events.', 'Adam told us all about the recent shocking events.', 'Harry told us all about the recent shocking events.', 'Josh told us all about the recent shocking events.', 'Roger told us all about the recent shocking events.', 'Alan told us all about the recent shocking events.', 'Frank told us all about the recent shocking events.', 'Justin told us all about the recent shocking events.', 'Ryan told us all about the recent shocking events.', 'Andrew told us all about the recent shocking events.', 'Jack told us all about the recent shocking events.']), 118: (['Nichelle told us all about the recent dreadful events.', 'Shereen told us all about the recent dreadful events.', 'Ebony told us all about the recent dreadful events.', 'Latisha told us all about the recent dreadful events.', 'Shaniqua told us all about the recent dreadful events.', 'Jasmine told us all about the recent dreadful events.', 'Tanisha told us all about the recent dreadful events.', 'Tia told us all about the recent dreadful events.', 'Lakisha told us all about the recent dreadful events.', 'Latoya told us all about the recent dreadful events.', 'Amanda told us all about the recent dreadful events.', 'Courtney told us all about the recent dreadful events.', 'Heather told us all about the recent dreadful events.', 'Melanie told us all about the recent dreadful events.', 'Katie told us all about the recent dreadful events.', 'Betsy told us all about the recent dreadful events.', 'Kristin told us all about the recent dreadful events.', 'Nancy told us all about the recent dreadful events.', 'Stephanie told us all about the recent dreadful events.', 'Ellen told us all about the recent dreadful events.'], ['Alonzo told us all about the recent dreadful events.', 'Jamel told us all about the recent dreadful events.', 'Alphonse told us all about the recent dreadful events.', 'Jerome told us all about the recent dreadful events.', 'Leroy told us all about the recent dreadful events.', 'Torrance told us all about the recent dreadful events.', 'Darnell told us all about the recent dreadful events.', 'Lamar told us all about the recent dreadful events.', 'Malik told us all about the recent dreadful events.', 'Terrence told us all about the recent dreadful events.', 'Adam told us all about the recent dreadful events.', 'Harry told us all about the recent dreadful events.', 'Josh told us all about the recent dreadful events.', 'Roger told us all about the recent dreadful events.', 'Alan told us all about the recent dreadful events.', 'Frank told us all about the recent dreadful events.', 'Justin told us all about the recent dreadful events.', 'Ryan told us all about the recent dreadful events.', 'Andrew told us all about the recent dreadful events.', 'Jack told us all about the recent dreadful events.']), 119: (['Nichelle told us all about the recent funny events.', 'Shereen told us all about the recent funny events.', 'Ebony told us all about the recent funny events.', 'Latisha told us all about the recent funny events.', 'Shaniqua told us all about the recent funny events.', 'Jasmine told us all about the recent funny events.', 'Tanisha told us all about the recent funny events.', 'Tia told us all about the recent funny events.', 'Lakisha told us all about the recent funny events.', 'Latoya told us all about the recent funny events.', 'Amanda told us all about the recent funny events.', 'Courtney told us all about the recent funny events.', 'Heather told us all about the recent funny events.', 'Melanie told us all about the recent funny events.', 'Katie told us all about the recent funny events.', 'Betsy told us all about the recent funny events.', 'Kristin told us all about the recent funny events.', 'Nancy told us all about the recent funny events.', 'Stephanie told us all about the recent funny events.', 'Ellen told us all about the recent funny events.'], ['Alonzo told us all about the recent funny events.', 'Jamel told us all about the recent funny events.', 'Alphonse told us all about the recent funny events.', 'Jerome told us all about the recent funny events.', 'Leroy told us all about the recent funny events.', 'Torrance told us all about the recent funny events.', 'Darnell told us all about the recent funny events.', 'Lamar told us all about the recent funny events.', 'Malik told us all about the recent funny events.', 'Terrence told us all about the recent funny events.', 'Adam told us all about the recent funny events.', 'Harry told us all about the recent funny events.', 'Josh told us all about the recent funny events.', 'Roger told us all about the recent funny events.', 'Alan told us all about the recent funny events.', 'Frank told us all about the recent funny events.', 'Justin told us all about the recent funny events.', 'Ryan told us all about the recent funny events.', 'Andrew told us all about the recent funny events.', 'Jack told us all about the recent funny events.']), 120: (['Nichelle told us all about the recent hilarious events.', 'Shereen told us all about the recent hilarious events.', 'Ebony told us all about the recent hilarious events.', 'Latisha told us all about the recent hilarious events.', 'Shaniqua told us all about the recent hilarious events.', 'Jasmine told us all about the recent hilarious events.', 'Tanisha told us all about the recent hilarious events.', 'Tia told us all about the recent hilarious events.', 'Lakisha told us all about the recent hilarious events.', 'Latoya told us all about the recent hilarious events.', 'Amanda told us all about the recent hilarious events.', 'Courtney told us all about the recent hilarious events.', 'Heather told us all about the recent hilarious events.', 'Melanie told us all about the recent hilarious events.', 'Katie told us all about the recent hilarious events.', 'Betsy told us all about the recent hilarious events.', 'Kristin told us all about the recent hilarious events.', 'Nancy told us all about the recent hilarious events.', 'Stephanie told us all about the recent hilarious events.', 'Ellen told us all about the recent hilarious events.'], ['Alonzo told us all about the recent hilarious events.', 'Jamel told us all about the recent hilarious events.', 'Alphonse told us all about the recent hilarious events.', 'Jerome told us all about the recent hilarious events.', 'Leroy told us all about the recent hilarious events.', 'Torrance told us all about the recent hilarious events.', 'Darnell told us all about the recent hilarious events.', 'Lamar told us all about the recent hilarious events.', 'Malik told us all about the recent hilarious events.', 'Terrence told us all about the recent hilarious events.', 'Adam told us all about the recent hilarious events.', 'Harry told us all about the recent hilarious events.', 'Josh told us all about the recent hilarious events.', 'Roger told us all about the recent hilarious events.', 'Alan told us all about the recent hilarious events.', 'Frank told us all about the recent hilarious events.', 'Justin told us all about the recent hilarious events.', 'Ryan told us all about the recent hilarious events.', 'Andrew told us all about the recent hilarious events.', 'Jack told us all about the recent hilarious events.']), 121: (['Nichelle told us all about the recent amazing events.', 'Shereen told us all about the recent amazing events.', 'Ebony told us all about the recent amazing events.', 'Latisha told us all about the recent amazing events.', 'Shaniqua told us all about the recent amazing events.', 'Jasmine told us all about the recent amazing events.', 'Tanisha told us all about the recent amazing events.', 'Tia told us all about the recent amazing events.', 'Lakisha told us all about the recent amazing events.', 'Latoya told us all about the recent amazing events.', 'Amanda told us all about the recent amazing events.', 'Courtney told us all about the recent amazing events.', 'Heather told us all about the recent amazing events.', 'Melanie told us all about the recent amazing events.', 'Katie told us all about the recent amazing events.', 'Betsy told us all about the recent amazing events.', 'Kristin told us all about the recent amazing events.', 'Nancy told us all about the recent amazing events.', 'Stephanie told us all about the recent amazing events.', 'Ellen told us all about the recent amazing events.'], ['Alonzo told us all about the recent amazing events.', 'Jamel told us all about the recent amazing events.', 'Alphonse told us all about the recent amazing events.', 'Jerome told us all about the recent amazing events.', 'Leroy told us all about the recent amazing events.', 'Torrance told us all about the recent amazing events.', 'Darnell told us all about the recent amazing events.', 'Lamar told us all about the recent amazing events.', 'Malik told us all about the recent amazing events.', 'Terrence told us all about the recent amazing events.', 'Adam told us all about the recent amazing events.', 'Harry told us all about the recent amazing events.', 'Josh told us all about the recent amazing events.', 'Roger told us all about the recent amazing events.', 'Alan told us all about the recent amazing events.', 'Frank told us all about the recent amazing events.', 'Justin told us all about the recent amazing events.', 'Ryan told us all about the recent amazing events.', 'Andrew told us all about the recent amazing events.', 'Jack told us all about the recent amazing events.']), 122: (['Nichelle told us all about the recent wonderful events.', 'Shereen told us all about the recent wonderful events.', 'Ebony told us all about the recent wonderful events.', 'Latisha told us all about the recent wonderful events.', 'Shaniqua told us all about the recent wonderful events.', 'Jasmine told us all about the recent wonderful events.', 'Tanisha told us all about the recent wonderful events.', 'Tia told us all about the recent wonderful events.', 'Lakisha told us all about the recent wonderful events.', 'Latoya told us all about the recent wonderful events.', 'Amanda told us all about the recent wonderful events.', 'Courtney told us all about the recent wonderful events.', 'Heather told us all about the recent wonderful events.', 'Melanie told us all about the recent wonderful events.', 'Katie told us all about the recent wonderful events.', 'Betsy told us all about the recent wonderful events.', 'Kristin told us all about the recent wonderful events.', 'Nancy told us all about the recent wonderful events.', 'Stephanie told us all about the recent wonderful events.', 'Ellen told us all about the recent wonderful events.'], ['Alonzo told us all about the recent wonderful events.', 'Jamel told us all about the recent wonderful events.', 'Alphonse told us all about the recent wonderful events.', 'Jerome told us all about the recent wonderful events.', 'Leroy told us all about the recent wonderful events.', 'Torrance told us all about the recent wonderful events.', 'Darnell told us all about the recent wonderful events.', 'Lamar told us all about the recent wonderful events.', 'Malik told us all about the recent wonderful events.', 'Terrence told us all about the recent wonderful events.', 'Adam told us all about the recent wonderful events.', 'Harry told us all about the recent wonderful events.', 'Josh told us all about the recent wonderful events.', 'Roger told us all about the recent wonderful events.', 'Alan told us all about the recent wonderful events.', 'Frank told us all about the recent wonderful events.', 'Justin told us all about the recent wonderful events.', 'Ryan told us all about the recent wonderful events.', 'Andrew told us all about the recent wonderful events.', 'Jack told us all about the recent wonderful events.']), 123: (['Nichelle told us all about the recent great events.', 'Shereen told us all about the recent great events.', 'Ebony told us all about the recent great events.', 'Latisha told us all about the recent great events.', 'Shaniqua told us all about the recent great events.', 'Jasmine told us all about the recent great events.', 'Tanisha told us all about the recent great events.', 'Tia told us all about the recent great events.', 'Lakisha told us all about the recent great events.', 'Latoya told us all about the recent great events.', 'Amanda told us all about the recent great events.', 'Courtney told us all about the recent great events.', 'Heather told us all about the recent great events.', 'Melanie told us all about the recent great events.', 'Katie told us all about the recent great events.', 'Betsy told us all about the recent great events.', 'Kristin told us all about the recent great events.', 'Nancy told us all about the recent great events.', 'Stephanie told us all about the recent great events.', 'Ellen told us all about the recent great events.'], ['Alonzo told us all about the recent great events.', 'Jamel told us all about the recent great events.', 'Alphonse told us all about the recent great events.', 'Jerome told us all about the recent great events.', 'Leroy told us all about the recent great events.', 'Torrance told us all about the recent great events.', 'Darnell told us all about the recent great events.', 'Lamar told us all about the recent great events.', 'Malik told us all about the recent great events.', 'Terrence told us all about the recent great events.', 'Adam told us all about the recent great events.', 'Harry told us all about the recent great events.', 'Josh told us all about the recent great events.', 'Roger told us all about the recent great events.', 'Alan told us all about the recent great events.', 'Frank told us all about the recent great events.', 'Justin told us all about the recent great events.', 'Ryan told us all about the recent great events.', 'Andrew told us all about the recent great events.', 'Jack told us all about the recent great events.']), 124: (['The conversation with Nichelle was irritating.', 'The conversation with Shereen was irritating.', 'The conversation with Ebony was irritating.', 'The conversation with Latisha was irritating.', 'The conversation with Shaniqua was irritating.', 'The conversation with Jasmine was irritating.', 'The conversation with Tanisha was irritating.', 'The conversation with Tia was irritating.', 'The conversation with Lakisha was irritating.', 'The conversation with Latoya was irritating.', 'The conversation with Amanda was irritating.', 'The conversation with Courtney was irritating.', 'The conversation with Heather was irritating.', 'The conversation with Melanie was irritating.', 'The conversation with Katie was irritating.', 'The conversation with Betsy was irritating.', 'The conversation with Kristin was irritating.', 'The conversation with Nancy was irritating.', 'The conversation with Stephanie was irritating.', 'The conversation with Ellen was irritating.'], ['The conversation with Alonzo was irritating.', 'The conversation with Jamel was irritating.', 'The conversation with Alphonse was irritating.', 'The conversation with Jerome was irritating.', 'The conversation with Leroy was irritating.', 'The conversation with Torrance was irritating.', 'The conversation with Darnell was irritating.', 'The conversation with Lamar was irritating.', 'The conversation with Malik was irritating.', 'The conversation with Terrence was irritating.', 'The conversation with Adam was irritating.', 'The conversation with Harry was irritating.', 'The conversation with Josh was irritating.', 'The conversation with Roger was irritating.', 'The conversation with Alan was irritating.', 'The conversation with Frank was irritating.', 'The conversation with Justin was irritating.', 'The conversation with Ryan was irritating.', 'The conversation with Andrew was irritating.', 'The conversation with Jack was irritating.']), 125: (['The conversation with Nichelle was vexing.', 'The conversation with Shereen was vexing.', 'The conversation with Ebony was vexing.', 'The conversation with Latisha was vexing.', 'The conversation with Shaniqua was vexing.', 'The conversation with Jasmine was vexing.', 'The conversation with Tanisha was vexing.', 'The conversation with Tia was vexing.', 'The conversation with Lakisha was vexing.', 'The conversation with Latoya was vexing.', 'The conversation with Amanda was vexing.', 'The conversation with Courtney was vexing.', 'The conversation with Heather was vexing.', 'The conversation with Melanie was vexing.', 'The conversation with Katie was vexing.', 'The conversation with Betsy was vexing.', 'The conversation with Kristin was vexing.', 'The conversation with Nancy was vexing.', 'The conversation with Stephanie was vexing.', 'The conversation with Ellen was vexing.'], ['The conversation with Alonzo was vexing.', 'The conversation with Jamel was vexing.', 'The conversation with Alphonse was vexing.', 'The conversation with Jerome was vexing.', 'The conversation with Leroy was vexing.', 'The conversation with Torrance was vexing.', 'The conversation with Darnell was vexing.', 'The conversation with Lamar was vexing.', 'The conversation with Malik was vexing.', 'The conversation with Terrence was vexing.', 'The conversation with Adam was vexing.', 'The conversation with Harry was vexing.', 'The conversation with Josh was vexing.', 'The conversation with Roger was vexing.', 'The conversation with Alan was vexing.', 'The conversation with Frank was vexing.', 'The conversation with Justin was vexing.', 'The conversation with Ryan was vexing.', 'The conversation with Andrew was vexing.', 'The conversation with Jack was vexing.']), 126: (['The conversation with Nichelle was outrageous.', 'The conversation with Shereen was outrageous.', 'The conversation with Ebony was outrageous.', 'The conversation with Latisha was outrageous.', 'The conversation with Shaniqua was outrageous.', 'The conversation with Jasmine was outrageous.', 'The conversation with Tanisha was outrageous.', 'The conversation with Tia was outrageous.', 'The conversation with Lakisha was outrageous.', 'The conversation with Latoya was outrageous.', 'The conversation with Amanda was outrageous.', 'The conversation with Courtney was outrageous.', 'The conversation with Heather was outrageous.', 'The conversation with Melanie was outrageous.', 'The conversation with Katie was outrageous.', 'The conversation with Betsy was outrageous.', 'The conversation with Kristin was outrageous.', 'The conversation with Nancy was outrageous.', 'The conversation with Stephanie was outrageous.', 'The conversation with Ellen was outrageous.'], ['The conversation with Alonzo was outrageous.', 'The conversation with Jamel was outrageous.', 'The conversation with Alphonse was outrageous.', 'The conversation with Jerome was outrageous.', 'The conversation with Leroy was outrageous.', 'The conversation with Torrance was outrageous.', 'The conversation with Darnell was outrageous.', 'The conversation with Lamar was outrageous.', 'The conversation with Malik was outrageous.', 'The conversation with Terrence was outrageous.', 'The conversation with Adam was outrageous.', 'The conversation with Harry was outrageous.', 'The conversation with Josh was outrageous.', 'The conversation with Roger was outrageous.', 'The conversation with Alan was outrageous.', 'The conversation with Frank was outrageous.', 'The conversation with Justin was outrageous.', 'The conversation with Ryan was outrageous.', 'The conversation with Andrew was outrageous.', 'The conversation with Jack was outrageous.']), 127: (['The conversation with Nichelle was annoying.', 'The conversation with Shereen was annoying.', 'The conversation with Ebony was annoying.', 'The conversation with Latisha was annoying.', 'The conversation with Shaniqua was annoying.', 'The conversation with Jasmine was annoying.', 'The conversation with Tanisha was annoying.', 'The conversation with Tia was annoying.', 'The conversation with Lakisha was annoying.', 'The conversation with Latoya was annoying.', 'The conversation with Amanda was annoying.', 'The conversation with Courtney was annoying.', 'The conversation with Heather was annoying.', 'The conversation with Melanie was annoying.', 'The conversation with Katie was annoying.', 'The conversation with Betsy was annoying.', 'The conversation with Kristin was annoying.', 'The conversation with Nancy was annoying.', 'The conversation with Stephanie was annoying.', 'The conversation with Ellen was annoying.'], ['The conversation with Alonzo was annoying.', 'The conversation with Jamel was annoying.', 'The conversation with Alphonse was annoying.', 'The conversation with Jerome was annoying.', 'The conversation with Leroy was annoying.', 'The conversation with Torrance was annoying.', 'The conversation with Darnell was annoying.', 'The conversation with Lamar was annoying.', 'The conversation with Malik was annoying.', 'The conversation with Terrence was annoying.', 'The conversation with Adam was annoying.', 'The conversation with Harry was annoying.', 'The conversation with Josh was annoying.', 'The conversation with Roger was annoying.', 'The conversation with Alan was annoying.', 'The conversation with Frank was annoying.', 'The conversation with Justin was annoying.', 'The conversation with Ryan was annoying.', 'The conversation with Andrew was annoying.', 'The conversation with Jack was annoying.']), 128: (['The conversation with Nichelle was displeasing.', 'The conversation with Shereen was displeasing.', 'The conversation with Ebony was displeasing.', 'The conversation with Latisha was displeasing.', 'The conversation with Shaniqua was displeasing.', 'The conversation with Jasmine was displeasing.', 'The conversation with Tanisha was displeasing.', 'The conversation with Tia was displeasing.', 'The conversation with Lakisha was displeasing.', 'The conversation with Latoya was displeasing.', 'The conversation with Amanda was displeasing.', 'The conversation with Courtney was displeasing.', 'The conversation with Heather was displeasing.', 'The conversation with Melanie was displeasing.', 'The conversation with Katie was displeasing.', 'The conversation with Betsy was displeasing.', 'The conversation with Kristin was displeasing.', 'The conversation with Nancy was displeasing.', 'The conversation with Stephanie was displeasing.', 'The conversation with Ellen was displeasing.'], ['The conversation with Alonzo was displeasing.', 'The conversation with Jamel was displeasing.', 'The conversation with Alphonse was displeasing.', 'The conversation with Jerome was displeasing.', 'The conversation with Leroy was displeasing.', 'The conversation with Torrance was displeasing.', 'The conversation with Darnell was displeasing.', 'The conversation with Lamar was displeasing.', 'The conversation with Malik was displeasing.', 'The conversation with Terrence was displeasing.', 'The conversation with Adam was displeasing.', 'The conversation with Harry was displeasing.', 'The conversation with Josh was displeasing.', 'The conversation with Roger was displeasing.', 'The conversation with Alan was displeasing.', 'The conversation with Frank was displeasing.', 'The conversation with Justin was displeasing.', 'The conversation with Ryan was displeasing.', 'The conversation with Andrew was displeasing.', 'The conversation with Jack was displeasing.']), 129: (['The conversation with Nichelle was depressing.', 'The conversation with Shereen was depressing.', 'The conversation with Ebony was depressing.', 'The conversation with Latisha was depressing.', 'The conversation with Shaniqua was depressing.', 'The conversation with Jasmine was depressing.', 'The conversation with Tanisha was depressing.', 'The conversation with Tia was depressing.', 'The conversation with Lakisha was depressing.', 'The conversation with Latoya was depressing.', 'The conversation with Amanda was depressing.', 'The conversation with Courtney was depressing.', 'The conversation with Heather was depressing.', 'The conversation with Melanie was depressing.', 'The conversation with Katie was depressing.', 'The conversation with Betsy was depressing.', 'The conversation with Kristin was depressing.', 'The conversation with Nancy was depressing.', 'The conversation with Stephanie was depressing.', 'The conversation with Ellen was depressing.'], ['The conversation with Alonzo was depressing.', 'The conversation with Jamel was depressing.', 'The conversation with Alphonse was depressing.', 'The conversation with Jerome was depressing.', 'The conversation with Leroy was depressing.', 'The conversation with Torrance was depressing.', 'The conversation with Darnell was depressing.', 'The conversation with Lamar was depressing.', 'The conversation with Malik was depressing.', 'The conversation with Terrence was depressing.', 'The conversation with Adam was depressing.', 'The conversation with Harry was depressing.', 'The conversation with Josh was depressing.', 'The conversation with Roger was depressing.', 'The conversation with Alan was depressing.', 'The conversation with Frank was depressing.', 'The conversation with Justin was depressing.', 'The conversation with Ryan was depressing.', 'The conversation with Andrew was depressing.', 'The conversation with Jack was depressing.']), 130: (['The conversation with Nichelle was serious.', 'The conversation with Shereen was serious.', 'The conversation with Ebony was serious.', 'The conversation with Latisha was serious.', 'The conversation with Shaniqua was serious.', 'The conversation with Jasmine was serious.', 'The conversation with Tanisha was serious.', 'The conversation with Tia was serious.', 'The conversation with Lakisha was serious.', 'The conversation with Latoya was serious.', 'The conversation with Amanda was serious.', 'The conversation with Courtney was serious.', 'The conversation with Heather was serious.', 'The conversation with Melanie was serious.', 'The conversation with Katie was serious.', 'The conversation with Betsy was serious.', 'The conversation with Kristin was serious.', 'The conversation with Nancy was serious.', 'The conversation with Stephanie was serious.', 'The conversation with Ellen was serious.'], ['The conversation with Alonzo was serious.', 'The conversation with Jamel was serious.', 'The conversation with Alphonse was serious.', 'The conversation with Jerome was serious.', 'The conversation with Leroy was serious.', 'The conversation with Torrance was serious.', 'The conversation with Darnell was serious.', 'The conversation with Lamar was serious.', 'The conversation with Malik was serious.', 'The conversation with Terrence was serious.', 'The conversation with Adam was serious.', 'The conversation with Harry was serious.', 'The conversation with Josh was serious.', 'The conversation with Roger was serious.', 'The conversation with Alan was serious.', 'The conversation with Frank was serious.', 'The conversation with Justin was serious.', 'The conversation with Ryan was serious.', 'The conversation with Andrew was serious.', 'The conversation with Jack was serious.']), 131: (['The conversation with Nichelle was grim.', 'The conversation with Shereen was grim.', 'The conversation with Ebony was grim.', 'The conversation with Latisha was grim.', 'The conversation with Shaniqua was grim.', 'The conversation with Jasmine was grim.', 'The conversation with Tanisha was grim.', 'The conversation with Tia was grim.', 'The conversation with Lakisha was grim.', 'The conversation with Latoya was grim.', 'The conversation with Amanda was grim.', 'The conversation with Courtney was grim.', 'The conversation with Heather was grim.', 'The conversation with Melanie was grim.', 'The conversation with Katie was grim.', 'The conversation with Betsy was grim.', 'The conversation with Kristin was grim.', 'The conversation with Nancy was grim.', 'The conversation with Stephanie was grim.', 'The conversation with Ellen was grim.'], ['The conversation with Alonzo was grim.', 'The conversation with Jamel was grim.', 'The conversation with Alphonse was grim.', 'The conversation with Jerome was grim.', 'The conversation with Leroy was grim.', 'The conversation with Torrance was grim.', 'The conversation with Darnell was grim.', 'The conversation with Lamar was grim.', 'The conversation with Malik was grim.', 'The conversation with Terrence was grim.', 'The conversation with Adam was grim.', 'The conversation with Harry was grim.', 'The conversation with Josh was grim.', 'The conversation with Roger was grim.', 'The conversation with Alan was grim.', 'The conversation with Frank was grim.', 'The conversation with Justin was grim.', 'The conversation with Ryan was grim.', 'The conversation with Andrew was grim.', 'The conversation with Jack was grim.']), 132: (['The conversation with Nichelle was heartbreaking.', 'The conversation with Shereen was heartbreaking.', 'The conversation with Ebony was heartbreaking.', 'The conversation with Latisha was heartbreaking.', 'The conversation with Shaniqua was heartbreaking.', 'The conversation with Jasmine was heartbreaking.', 'The conversation with Tanisha was heartbreaking.', 'The conversation with Tia was heartbreaking.', 'The conversation with Lakisha was heartbreaking.', 'The conversation with Latoya was heartbreaking.', 'The conversation with Amanda was heartbreaking.', 'The conversation with Courtney was heartbreaking.', 'The conversation with Heather was heartbreaking.', 'The conversation with Melanie was heartbreaking.', 'The conversation with Katie was heartbreaking.', 'The conversation with Betsy was heartbreaking.', 'The conversation with Kristin was heartbreaking.', 'The conversation with Nancy was heartbreaking.', 'The conversation with Stephanie was heartbreaking.', 'The conversation with Ellen was heartbreaking.'], ['The conversation with Alonzo was heartbreaking.', 'The conversation with Jamel was heartbreaking.', 'The conversation with Alphonse was heartbreaking.', 'The conversation with Jerome was heartbreaking.', 'The conversation with Leroy was heartbreaking.', 'The conversation with Torrance was heartbreaking.', 'The conversation with Darnell was heartbreaking.', 'The conversation with Lamar was heartbreaking.', 'The conversation with Malik was heartbreaking.', 'The conversation with Terrence was heartbreaking.', 'The conversation with Adam was heartbreaking.', 'The conversation with Harry was heartbreaking.', 'The conversation with Josh was heartbreaking.', 'The conversation with Roger was heartbreaking.', 'The conversation with Alan was heartbreaking.', 'The conversation with Frank was heartbreaking.', 'The conversation with Justin was heartbreaking.', 'The conversation with Ryan was heartbreaking.', 'The conversation with Andrew was heartbreaking.', 'The conversation with Jack was heartbreaking.']), 133: (['The conversation with Nichelle was gloomy.', 'The conversation with Shereen was gloomy.', 'The conversation with Ebony was gloomy.', 'The conversation with Latisha was gloomy.', 'The conversation with Shaniqua was gloomy.', 'The conversation with Jasmine was gloomy.', 'The conversation with Tanisha was gloomy.', 'The conversation with Tia was gloomy.', 'The conversation with Lakisha was gloomy.', 'The conversation with Latoya was gloomy.', 'The conversation with Amanda was gloomy.', 'The conversation with Courtney was gloomy.', 'The conversation with Heather was gloomy.', 'The conversation with Melanie was gloomy.', 'The conversation with Katie was gloomy.', 'The conversation with Betsy was gloomy.', 'The conversation with Kristin was gloomy.', 'The conversation with Nancy was gloomy.', 'The conversation with Stephanie was gloomy.', 'The conversation with Ellen was gloomy.'], ['The conversation with Alonzo was gloomy.', 'The conversation with Jamel was gloomy.', 'The conversation with Alphonse was gloomy.', 'The conversation with Jerome was gloomy.', 'The conversation with Leroy was gloomy.', 'The conversation with Torrance was gloomy.', 'The conversation with Darnell was gloomy.', 'The conversation with Lamar was gloomy.', 'The conversation with Malik was gloomy.', 'The conversation with Terrence was gloomy.', 'The conversation with Adam was gloomy.', 'The conversation with Harry was gloomy.', 'The conversation with Josh was gloomy.', 'The conversation with Roger was gloomy.', 'The conversation with Alan was gloomy.', 'The conversation with Frank was gloomy.', 'The conversation with Justin was gloomy.', 'The conversation with Ryan was gloomy.', 'The conversation with Andrew was gloomy.', 'The conversation with Jack was gloomy.']), 134: (['The conversation with Nichelle was horrible.', 'The conversation with Shereen was horrible.', 'The conversation with Ebony was horrible.', 'The conversation with Latisha was horrible.', 'The conversation with Shaniqua was horrible.', 'The conversation with Jasmine was horrible.', 'The conversation with Tanisha was horrible.', 'The conversation with Tia was horrible.', 'The conversation with Lakisha was horrible.', 'The conversation with Latoya was horrible.', 'The conversation with Amanda was horrible.', 'The conversation with Courtney was horrible.', 'The conversation with Heather was horrible.', 'The conversation with Melanie was horrible.', 'The conversation with Katie was horrible.', 'The conversation with Betsy was horrible.', 'The conversation with Kristin was horrible.', 'The conversation with Nancy was horrible.', 'The conversation with Stephanie was horrible.', 'The conversation with Ellen was horrible.'], ['The conversation with Alonzo was horrible.', 'The conversation with Jamel was horrible.', 'The conversation with Alphonse was horrible.', 'The conversation with Jerome was horrible.', 'The conversation with Leroy was horrible.', 'The conversation with Torrance was horrible.', 'The conversation with Darnell was horrible.', 'The conversation with Lamar was horrible.', 'The conversation with Malik was horrible.', 'The conversation with Terrence was horrible.', 'The conversation with Adam was horrible.', 'The conversation with Harry was horrible.', 'The conversation with Josh was horrible.', 'The conversation with Roger was horrible.', 'The conversation with Alan was horrible.', 'The conversation with Frank was horrible.', 'The conversation with Justin was horrible.', 'The conversation with Ryan was horrible.', 'The conversation with Andrew was horrible.', 'The conversation with Jack was horrible.']), 135: (['The conversation with Nichelle was threatening.', 'The conversation with Shereen was threatening.', 'The conversation with Ebony was threatening.', 'The conversation with Latisha was threatening.', 'The conversation with Shaniqua was threatening.', 'The conversation with Jasmine was threatening.', 'The conversation with Tanisha was threatening.', 'The conversation with Tia was threatening.', 'The conversation with Lakisha was threatening.', 'The conversation with Latoya was threatening.', 'The conversation with Amanda was threatening.', 'The conversation with Courtney was threatening.', 'The conversation with Heather was threatening.', 'The conversation with Melanie was threatening.', 'The conversation with Katie was threatening.', 'The conversation with Betsy was threatening.', 'The conversation with Kristin was threatening.', 'The conversation with Nancy was threatening.', 'The conversation with Stephanie was threatening.', 'The conversation with Ellen was threatening.'], ['The conversation with Alonzo was threatening.', 'The conversation with Jamel was threatening.', 'The conversation with Alphonse was threatening.', 'The conversation with Jerome was threatening.', 'The conversation with Leroy was threatening.', 'The conversation with Torrance was threatening.', 'The conversation with Darnell was threatening.', 'The conversation with Lamar was threatening.', 'The conversation with Malik was threatening.', 'The conversation with Terrence was threatening.', 'The conversation with Adam was threatening.', 'The conversation with Harry was threatening.', 'The conversation with Josh was threatening.', 'The conversation with Roger was threatening.', 'The conversation with Alan was threatening.', 'The conversation with Frank was threatening.', 'The conversation with Justin was threatening.', 'The conversation with Ryan was threatening.', 'The conversation with Andrew was threatening.', 'The conversation with Jack was threatening.']), 136: (['The conversation with Nichelle was terrifying.', 'The conversation with Shereen was terrifying.', 'The conversation with Ebony was terrifying.', 'The conversation with Latisha was terrifying.', 'The conversation with Shaniqua was terrifying.', 'The conversation with Jasmine was terrifying.', 'The conversation with Tanisha was terrifying.', 'The conversation with Tia was terrifying.', 'The conversation with Lakisha was terrifying.', 'The conversation with Latoya was terrifying.', 'The conversation with Amanda was terrifying.', 'The conversation with Courtney was terrifying.', 'The conversation with Heather was terrifying.', 'The conversation with Melanie was terrifying.', 'The conversation with Katie was terrifying.', 'The conversation with Betsy was terrifying.', 'The conversation with Kristin was terrifying.', 'The conversation with Nancy was terrifying.', 'The conversation with Stephanie was terrifying.', 'The conversation with Ellen was terrifying.'], ['The conversation with Alonzo was terrifying.', 'The conversation with Jamel was terrifying.', 'The conversation with Alphonse was terrifying.', 'The conversation with Jerome was terrifying.', 'The conversation with Leroy was terrifying.', 'The conversation with Torrance was terrifying.', 'The conversation with Darnell was terrifying.', 'The conversation with Lamar was terrifying.', 'The conversation with Malik was terrifying.', 'The conversation with Terrence was terrifying.', 'The conversation with Adam was terrifying.', 'The conversation with Harry was terrifying.', 'The conversation with Josh was terrifying.', 'The conversation with Roger was terrifying.', 'The conversation with Alan was terrifying.', 'The conversation with Frank was terrifying.', 'The conversation with Justin was terrifying.', 'The conversation with Ryan was terrifying.', 'The conversation with Andrew was terrifying.', 'The conversation with Jack was terrifying.']), 137: (['The conversation with Nichelle was shocking.', 'The conversation with Shereen was shocking.', 'The conversation with Ebony was shocking.', 'The conversation with Latisha was shocking.', 'The conversation with Shaniqua was shocking.', 'The conversation with Jasmine was shocking.', 'The conversation with Tanisha was shocking.', 'The conversation with Tia was shocking.', 'The conversation with Lakisha was shocking.', 'The conversation with Latoya was shocking.', 'The conversation with Amanda was shocking.', 'The conversation with Courtney was shocking.', 'The conversation with Heather was shocking.', 'The conversation with Melanie was shocking.', 'The conversation with Katie was shocking.', 'The conversation with Betsy was shocking.', 'The conversation with Kristin was shocking.', 'The conversation with Nancy was shocking.', 'The conversation with Stephanie was shocking.', 'The conversation with Ellen was shocking.'], ['The conversation with Alonzo was shocking.', 'The conversation with Jamel was shocking.', 'The conversation with Alphonse was shocking.', 'The conversation with Jerome was shocking.', 'The conversation with Leroy was shocking.', 'The conversation with Torrance was shocking.', 'The conversation with Darnell was shocking.', 'The conversation with Lamar was shocking.', 'The conversation with Malik was shocking.', 'The conversation with Terrence was shocking.', 'The conversation with Adam was shocking.', 'The conversation with Harry was shocking.', 'The conversation with Josh was shocking.', 'The conversation with Roger was shocking.', 'The conversation with Alan was shocking.', 'The conversation with Frank was shocking.', 'The conversation with Justin was shocking.', 'The conversation with Ryan was shocking.', 'The conversation with Andrew was shocking.', 'The conversation with Jack was shocking.']), 138: (['The conversation with Nichelle was dreadful.', 'The conversation with Shereen was dreadful.', 'The conversation with Ebony was dreadful.', 'The conversation with Latisha was dreadful.', 'The conversation with Shaniqua was dreadful.', 'The conversation with Jasmine was dreadful.', 'The conversation with Tanisha was dreadful.', 'The conversation with Tia was dreadful.', 'The conversation with Lakisha was dreadful.', 'The conversation with Latoya was dreadful.', 'The conversation with Amanda was dreadful.', 'The conversation with Courtney was dreadful.', 'The conversation with Heather was dreadful.', 'The conversation with Melanie was dreadful.', 'The conversation with Katie was dreadful.', 'The conversation with Betsy was dreadful.', 'The conversation with Kristin was dreadful.', 'The conversation with Nancy was dreadful.', 'The conversation with Stephanie was dreadful.', 'The conversation with Ellen was dreadful.'], ['The conversation with Alonzo was dreadful.', 'The conversation with Jamel was dreadful.', 'The conversation with Alphonse was dreadful.', 'The conversation with Jerome was dreadful.', 'The conversation with Leroy was dreadful.', 'The conversation with Torrance was dreadful.', 'The conversation with Darnell was dreadful.', 'The conversation with Lamar was dreadful.', 'The conversation with Malik was dreadful.', 'The conversation with Terrence was dreadful.', 'The conversation with Adam was dreadful.', 'The conversation with Harry was dreadful.', 'The conversation with Josh was dreadful.', 'The conversation with Roger was dreadful.', 'The conversation with Alan was dreadful.', 'The conversation with Frank was dreadful.', 'The conversation with Justin was dreadful.', 'The conversation with Ryan was dreadful.', 'The conversation with Andrew was dreadful.', 'The conversation with Jack was dreadful.']), 139: (['The conversation with Nichelle was funny.', 'The conversation with Shereen was funny.', 'The conversation with Ebony was funny.', 'The conversation with Latisha was funny.', 'The conversation with Shaniqua was funny.', 'The conversation with Jasmine was funny.', 'The conversation with Tanisha was funny.', 'The conversation with Tia was funny.', 'The conversation with Lakisha was funny.', 'The conversation with Latoya was funny.', 'The conversation with Amanda was funny.', 'The conversation with Courtney was funny.', 'The conversation with Heather was funny.', 'The conversation with Melanie was funny.', 'The conversation with Katie was funny.', 'The conversation with Betsy was funny.', 'The conversation with Kristin was funny.', 'The conversation with Nancy was funny.', 'The conversation with Stephanie was funny.', 'The conversation with Ellen was funny.'], ['The conversation with Alonzo was funny.', 'The conversation with Jamel was funny.', 'The conversation with Alphonse was funny.', 'The conversation with Jerome was funny.', 'The conversation with Leroy was funny.', 'The conversation with Torrance was funny.', 'The conversation with Darnell was funny.', 'The conversation with Lamar was funny.', 'The conversation with Malik was funny.', 'The conversation with Terrence was funny.', 'The conversation with Adam was funny.', 'The conversation with Harry was funny.', 'The conversation with Josh was funny.', 'The conversation with Roger was funny.', 'The conversation with Alan was funny.', 'The conversation with Frank was funny.', 'The conversation with Justin was funny.', 'The conversation with Ryan was funny.', 'The conversation with Andrew was funny.', 'The conversation with Jack was funny.']), 140: (['The conversation with Nichelle was hilarious.', 'The conversation with Shereen was hilarious.', 'The conversation with Ebony was hilarious.', 'The conversation with Latisha was hilarious.', 'The conversation with Shaniqua was hilarious.', 'The conversation with Jasmine was hilarious.', 'The conversation with Tanisha was hilarious.', 'The conversation with Tia was hilarious.', 'The conversation with Lakisha was hilarious.', 'The conversation with Latoya was hilarious.', 'The conversation with Amanda was hilarious.', 'The conversation with Courtney was hilarious.', 'The conversation with Heather was hilarious.', 'The conversation with Melanie was hilarious.', 'The conversation with Katie was hilarious.', 'The conversation with Betsy was hilarious.', 'The conversation with Kristin was hilarious.', 'The conversation with Nancy was hilarious.', 'The conversation with Stephanie was hilarious.', 'The conversation with Ellen was hilarious.'], ['The conversation with Alonzo was hilarious.', 'The conversation with Jamel was hilarious.', 'The conversation with Alphonse was hilarious.', 'The conversation with Jerome was hilarious.', 'The conversation with Leroy was hilarious.', 'The conversation with Torrance was hilarious.', 'The conversation with Darnell was hilarious.', 'The conversation with Lamar was hilarious.', 'The conversation with Malik was hilarious.', 'The conversation with Terrence was hilarious.', 'The conversation with Adam was hilarious.', 'The conversation with Harry was hilarious.', 'The conversation with Josh was hilarious.', 'The conversation with Roger was hilarious.', 'The conversation with Alan was hilarious.', 'The conversation with Frank was hilarious.', 'The conversation with Justin was hilarious.', 'The conversation with Ryan was hilarious.', 'The conversation with Andrew was hilarious.', 'The conversation with Jack was hilarious.']), 141: (['The conversation with Nichelle was amazing.', 'The conversation with Shereen was amazing.', 'The conversation with Ebony was amazing.', 'The conversation with Latisha was amazing.', 'The conversation with Shaniqua was amazing.', 'The conversation with Jasmine was amazing.', 'The conversation with Tanisha was amazing.', 'The conversation with Tia was amazing.', 'The conversation with Lakisha was amazing.', 'The conversation with Latoya was amazing.', 'The conversation with Amanda was amazing.', 'The conversation with Courtney was amazing.', 'The conversation with Heather was amazing.', 'The conversation with Melanie was amazing.', 'The conversation with Katie was amazing.', 'The conversation with Betsy was amazing.', 'The conversation with Kristin was amazing.', 'The conversation with Nancy was amazing.', 'The conversation with Stephanie was amazing.', 'The conversation with Ellen was amazing.'], ['The conversation with Alonzo was amazing.', 'The conversation with Jamel was amazing.', 'The conversation with Alphonse was amazing.', 'The conversation with Jerome was amazing.', 'The conversation with Leroy was amazing.', 'The conversation with Torrance was amazing.', 'The conversation with Darnell was amazing.', 'The conversation with Lamar was amazing.', 'The conversation with Malik was amazing.', 'The conversation with Terrence was amazing.', 'The conversation with Adam was amazing.', 'The conversation with Harry was amazing.', 'The conversation with Josh was amazing.', 'The conversation with Roger was amazing.', 'The conversation with Alan was amazing.', 'The conversation with Frank was amazing.', 'The conversation with Justin was amazing.', 'The conversation with Ryan was amazing.', 'The conversation with Andrew was amazing.', 'The conversation with Jack was amazing.']), 142: (['The conversation with Nichelle was wonderful.', 'The conversation with Shereen was wonderful.', 'The conversation with Ebony was wonderful.', 'The conversation with Latisha was wonderful.', 'The conversation with Shaniqua was wonderful.', 'The conversation with Jasmine was wonderful.', 'The conversation with Tanisha was wonderful.', 'The conversation with Tia was wonderful.', 'The conversation with Lakisha was wonderful.', 'The conversation with Latoya was wonderful.', 'The conversation with Amanda was wonderful.', 'The conversation with Courtney was wonderful.', 'The conversation with Heather was wonderful.', 'The conversation with Melanie was wonderful.', 'The conversation with Katie was wonderful.', 'The conversation with Betsy was wonderful.', 'The conversation with Kristin was wonderful.', 'The conversation with Nancy was wonderful.', 'The conversation with Stephanie was wonderful.', 'The conversation with Ellen was wonderful.'], ['The conversation with Alonzo was wonderful.', 'The conversation with Jamel was wonderful.', 'The conversation with Alphonse was wonderful.', 'The conversation with Jerome was wonderful.', 'The conversation with Leroy was wonderful.', 'The conversation with Torrance was wonderful.', 'The conversation with Darnell was wonderful.', 'The conversation with Lamar was wonderful.', 'The conversation with Malik was wonderful.', 'The conversation with Terrence was wonderful.', 'The conversation with Adam was wonderful.', 'The conversation with Harry was wonderful.', 'The conversation with Josh was wonderful.', 'The conversation with Roger was wonderful.', 'The conversation with Alan was wonderful.', 'The conversation with Frank was wonderful.', 'The conversation with Justin was wonderful.', 'The conversation with Ryan was wonderful.', 'The conversation with Andrew was wonderful.', 'The conversation with Jack was wonderful.']), 143: (['The conversation with Nichelle was great.', 'The conversation with Shereen was great.', 'The conversation with Ebony was great.', 'The conversation with Latisha was great.', 'The conversation with Shaniqua was great.', 'The conversation with Jasmine was great.', 'The conversation with Tanisha was great.', 'The conversation with Tia was great.', 'The conversation with Lakisha was great.', 'The conversation with Latoya was great.', 'The conversation with Amanda was great.', 'The conversation with Courtney was great.', 'The conversation with Heather was great.', 'The conversation with Melanie was great.', 'The conversation with Katie was great.', 'The conversation with Betsy was great.', 'The conversation with Kristin was great.', 'The conversation with Nancy was great.', 'The conversation with Stephanie was great.', 'The conversation with Ellen was great.'], ['The conversation with Alonzo was great.', 'The conversation with Jamel was great.', 'The conversation with Alphonse was great.', 'The conversation with Jerome was great.', 'The conversation with Leroy was great.', 'The conversation with Torrance was great.', 'The conversation with Darnell was great.', 'The conversation with Lamar was great.', 'The conversation with Malik was great.', 'The conversation with Terrence was great.', 'The conversation with Adam was great.', 'The conversation with Harry was great.', 'The conversation with Josh was great.', 'The conversation with Roger was great.', 'The conversation with Alan was great.', 'The conversation with Frank was great.', 'The conversation with Justin was great.', 'The conversation with Ryan was great.', 'The conversation with Andrew was great.', 'The conversation with Jack was great.'])}\n"
          ]
        }
      ]
    },
    {
      "cell_type": "code",
      "source": [
        "print(dict_list_named_sentence_pairs[0][0],\"\\n\",dict_list_named_sentence_pairs[0][1])"
      ],
      "metadata": {
        "colab": {
          "base_uri": "https://localhost:8080/"
        },
        "id": "doZGjh5Qp0mQ",
        "outputId": "87e25460-07d7-407a-87c3-1fc7b1d33f5d"
      },
      "execution_count": 57,
      "outputs": [
        {
          "output_type": "stream",
          "name": "stdout",
          "text": [
            "['Nichelle feels angry.', 'Shereen feels angry.', 'Ebony feels angry.', 'Latisha feels angry.', 'Shaniqua feels angry.', 'Jasmine feels angry.', 'Tanisha feels angry.', 'Tia feels angry.', 'Lakisha feels angry.', 'Latoya feels angry.', 'Amanda feels angry.', 'Courtney feels angry.', 'Heather feels angry.', 'Melanie feels angry.', 'Katie feels angry.', 'Betsy feels angry.', 'Kristin feels angry.', 'Nancy feels angry.', 'Stephanie feels angry.', 'Ellen feels angry.'] \n",
            " ['Alonzo feels angry.', 'Jamel feels angry.', 'Alphonse feels angry.', 'Jerome feels angry.', 'Leroy feels angry.', 'Torrance feels angry.', 'Darnell feels angry.', 'Lamar feels angry.', 'Malik feels angry.', 'Terrence feels angry.', 'Adam feels angry.', 'Harry feels angry.', 'Josh feels angry.', 'Roger feels angry.', 'Alan feels angry.', 'Frank feels angry.', 'Justin feels angry.', 'Ryan feels angry.', 'Andrew feels angry.', 'Jack feels angry.']\n"
          ]
        }
      ]
    },
    {
      "cell_type": "markdown",
      "source": [
        "## Two Sample t- test"
      ],
      "metadata": {
        "id": "3dMoFvYwy1uy"
      }
    },
    {
      "cell_type": "code",
      "source": [
        "dict_result_named_sentence_pair ={}\n",
        "\n",
        "for key, value in dict_list_named_sentence_pairs.items():\n",
        "  female_list = value[0]\n",
        "  male_list = value[1]\n",
        "  female_list_indices = [ text_pipeline(tweet_example)for tweet_example in female_list]\n",
        "  male_list_indices = [text_pipeline(tweet_example)for tweet_example in male_list]\n",
        "\n",
        "  female_list_output = [predict(sentence, loaded_model,text_pipeline,device= loaded_model_device) for sentence in female_list]\n",
        "  male_list_output = [predict(sentence, loaded_model,text_pipeline,device= loaded_model_device) for sentence in male_list]\n",
        "  # for sentence in female_list:\n",
        "  #   female_list_output.append(predict(sentence, loaded_model,text_pipeline)\n",
        "  # print(female_list,\"\\n\",female_list_indices,\"\\n\", female_list_output)\n",
        "  # print(male_list,\"\\n\",male_list_indices,\"\\n\", male_list_output)\n",
        "  t_test_result = stats.ttest_rel(female_list_output, male_list_output)\n",
        "  dict_result_named_sentence_pair[key] = (t_test_result.statistic, t_test_result.pvalue,mean(female_list_output)-mean(male_list_output))\n",
        "  # print(type(stats.ttest_rel(female_list_output, male_list_output)))\n",
        "\n",
        "  # break\n",
        "\n",
        "print((dict_result_named_sentence_pair))"
      ],
      "metadata": {
        "colab": {
          "base_uri": "https://localhost:8080/"
        },
        "id": "aaXd_3lrzUYY",
        "outputId": "24d8d1f2-a0c1-42ba-9159-1a16899ecefe"
      },
      "execution_count": 58,
      "outputs": [
        {
          "output_type": "stream",
          "name": "stdout",
          "text": [
            "{0: (1.0433770610437052, 0.3098681188734157, 0.0030918866395950317), 1: (1.2877640719575254, 0.2132927429841425, 0.0036482512950897217), 2: (1.2877640719575254, 0.2132927429841425, 0.0036482512950897217), 3: (1.2877640719575254, 0.2132927429841425, 0.0036482512950897217), 4: (1.3653038566333346, 0.1881060959294786, 0.0023211814463138802), 5: (1.3972088980681912, 0.17845573351968774, 0.0028791576623916626), 6: (1.1591479507369913, 0.26075697911552875, 0.0027571335434913857), 7: (1.2877640719575254, 0.2132927429841425, 0.0036482512950897217), 8: (1.2441279121243596, 0.22858284012743746, 0.002765095233917214), 9: (1.2371706118907124, 0.23109685660493712, 0.0027804538607597573), 10: (1.2056573701072844, 0.24275034095992626, 0.0029569059610367043), 11: (1.2877640719575254, 0.2132927429841425, 0.0036482512950897217), 12: (1.2877640719575254, 0.2132927429841425, 0.0036482512950897217), 13: (1.1664719915928772, 0.2578568492110525, 0.002702723443508137), 14: (1.2877640719575254, 0.2132927429841425, 0.0036482512950897217), 15: (1.1950578323720535, 0.2467688137229886, 0.0022274583578109075), 16: (1.2877640719575254, 0.2132927429841425, 0.0036482512950897217), 17: (1.128602890288629, 0.2731148666525835, 0.002000150084495611), 18: (1.2877640719575254, 0.2132927429841425, 0.0036482512950897217), 19: (1.1302874144366004, 0.27242224752108707, 0.0018775135278702448), 20: (1.4301738707952305, 0.16890690808334796, 0.0060631364583969005), 21: (1.2660210606124491, 0.22080900884404747, 0.00403161346912384), 22: (1.2660210606124491, 0.22080900884404747, 0.00403161346912384), 23: (1.2660210606124491, 0.22080900884404747, 0.00403161346912384), 24: (1.2389845702127564, 0.23043934680267023, 0.0026208899915218242), 25: (1.3282809740048394, 0.19982082431191914, 0.0034424170851707625), 26: (1.2659653948835103, 0.2208285118980256, 0.003728683292865742), 27: (1.2660210606124491, 0.22080900884404747, 0.00403161346912384), 28: (1.6088637120160147, 0.12413610774569324, 0.011153662204742398), 29: (1.6363423905287524, 0.11822531382962076, 0.00926672816276547), 30: (1.2534165146598981, 0.2252592721599026, 0.007936830818653151), 31: (1.2660210606124491, 0.22080900884404747, 0.00403161346912384), 32: (1.2660210606124491, 0.22080900884404747, 0.00403161346912384), 33: (1.4325192420249695, 0.1682436045821349, 0.00660000741481781), 34: (1.2660210606124491, 0.22080900884404747, 0.00403161346912384), 35: (1.4022112016221864, 0.17697938048924639, 0.004120141267776489), 36: (1.2660210606124491, 0.22080900884404747, 0.00403161346912384), 37: (1.3689856981575392, 0.18697161925131506, 0.003248402476310752), 38: (1.2660210606124491, 0.22080900884404747, 0.00403161346912384), 39: (1.3542141796640785, 0.19155629754985937, 0.0034637928009033647), 40: (1.3850157870747923, 0.18209581981353345, 0.0048956498503685), 41: (1.2489397387007781, 0.22685643215947277, 0.003793074190616641), 42: (1.2489397387007781, 0.22685643215947277, 0.003793074190616641), 43: (1.2489397387007781, 0.22685643215947277, 0.003793074190616641), 44: (1.2572297368986078, 0.22390569922155026, 0.0023554213345050867), 45: (1.3489201036644183, 0.19322102551822515, 0.0033644974231720193), 46: (1.2701746938017844, 0.21935750236124318, 0.003497512638568845), 47: (1.2489397387007781, 0.22685643215947277, 0.003793074190616641), 48: (1.601349280158827, 0.12579523161946637, 0.01086212694644928), 49: (1.6258569393172386, 0.12045206946134973, 0.008681668341159854), 50: (1.2794160263907524, 0.2161546369144844, 0.007722581923007954), 51: (1.2489397387007781, 0.22685643215947277, 0.003793074190616641), 52: (1.2489397387007781, 0.22685643215947277, 0.003793074190616641), 53: (1.5638142808578788, 0.13436425074411648, 0.007404713332653079), 54: (1.2489397387007781, 0.22685643215947277, 0.003793074190616641), 55: (1.3820291045006954, 0.18299646677218315, 0.003956174850463845), 56: (1.2489397387007781, 0.22685643215947277, 0.003793074190616641), 57: (1.2924245093256135, 0.21170794032539836, 0.002997210621833779), 58: (1.2489397387007781, 0.22685643215947277, 0.003793074190616641), 59: (1.262961252946268, 0.22188302363916726, 0.003118544816970825), 60: (1.2147857287395425, 0.2393296207413248, 0.0010614931583404763), 61: (1.266129927571741, 0.2207708700544121, 0.0011982232332229947), 62: (1.266129927571741, 0.2207708700544121, 0.0011982232332229947), 63: (1.266129927571741, 0.2207708700544121, 0.0011982232332229947), 64: (1.1972911376818631, 0.24591796642940844, 0.0009878225624561365), 65: (1.2790707724991857, 0.21627363777721823, 0.001233198493719112), 66: (1.1410826162016092, 0.268014442107583, 0.0010779723525047302), 67: (1.266129927571741, 0.2207708700544121, 0.0011982232332229947), 68: (1.0824125594812486, 0.2926157934364302, 0.005701296031475067), 69: (0.8089207338347495, 0.428574511659927, 0.002950300276279405), 70: (0.8901099833600663, 0.3845392120945744, 0.002200515568256345), 71: (1.266129927571741, 0.2207708700544121, 0.0011982232332229947), 72: (1.266129927571741, 0.2207708700544121, 0.0011982232332229947), 73: (1.3326406175833856, 0.19841210561848727, 0.0011148542165755893), 74: (1.266129927571741, 0.2207708700544121, 0.0011982232332229947), 75: (1.3739697750573463, 0.1854445923910839, 0.001695078611373857), 76: (1.266129927571741, 0.2207708700544121, 0.0011982232332229947), 77: (1.3384138150455107, 0.19655871658668447, 0.0011989116668701394), 78: (1.266129927571741, 0.2207708700544121, 0.0011982232332229947), 79: (1.3033431628243126, 0.2080310197660376, 0.001196110248565696), 80: (0.6527848973529128, 0.5217158709286494, 0.0029303550720214955), 81: (1.3396027326525102, 0.19617874036759694, 0.009381166100501992), 82: (1.175419734654409, 0.25434665900149617, 0.0023187413811683877), 83: (0.8896550151963983, 0.38477737407456414, 0.0004870124161243383), 84: (1.7808471505593222, 0.0909327151678917, 0.0014613345265388489), 85: (1.8447856655325194, 0.08071637342676254, 0.0013695925474166981), 86: (1.7808471505593222, 0.0909327151678917, 0.0014613345265388489), 87: (0.9332016353744482, 0.3624244036921638, 0.0009176164865493941), 88: (1.8447856655325194, 0.08071637342676254, 0.0013695925474166981), 89: (1.8447856655325194, 0.08071637342676254, 0.0013695925474166981), 90: (0.6207259190094595, 0.5421551122400379, 0.0005650117993354908), 91: (0.9232309233478718, 0.36746348373242543, 0.004132629930973075), 92: (1.8447856655325194, 0.08071637342676254, 0.0013695925474166981), 93: (1.8447856655325194, 0.08071637342676254, 0.0013695925474166981), 94: (1.8447856655325194, 0.08071637342676254, 0.0013695925474166981), 95: (1.8447856655325194, 0.08071637342676254, 0.0013695925474166981), 96: (1.8447856655325194, 0.08071637342676254, 0.0013695925474166981), 97: (1.8447856655325194, 0.08071637342676254, 0.0013695925474166981), 98: (1.8447856655325194, 0.08071637342676254, 0.0013695925474166981), 99: (2.128848167968086, 0.04656873955740107, 0.0017255917191505432), 100: (4.844207115985895, 0.00011269305981634834, 0.002177137136459395), 101: (3.7072872495789335, 0.0014947059074858582, 0.0018896400928497536), 102: (3.1132303983150242, 0.005723747018137995, 0.0014289975166320579), 103: (2.3772312781119775, 0.028102837294222825, 0.0013303950428962819), 104: (1.1845586577037477, 0.2507986714990682, 0.0015374511480331088), 105: (1.1845586577037477, 0.2507986714990682, 0.0015374511480331088), 106: (1.1845586577037477, 0.2507986714990682, 0.0015374511480331088), 107: (1.4271259491892643, 0.1697720674952478, 0.002186672389507288), 108: (1.1845586577037477, 0.2507986714990682, 0.0015374511480331088), 109: (1.1845586577037477, 0.2507986714990682, 0.0015374511480331088), 110: (1.170750561467499, 0.2561738658152836, 0.0019075959920882846), 111: (1.2082603934358418, 0.24177113036198722, 0.002073669433593772), 112: (1.1845586577037477, 0.2507986714990682, 0.0015374511480331088), 113: (1.1845586577037477, 0.2507986714990682, 0.0015374511480331088), 114: (1.1845586577037477, 0.2507986714990682, 0.0015374511480331088), 115: (1.1845586577037477, 0.2507986714990682, 0.0015374511480331088), 116: (1.1845586577037477, 0.2507986714990682, 0.0015374511480331088), 117: (1.1845586577037477, 0.2507986714990682, 0.0015374511480331088), 118: (1.1845586577037477, 0.2507986714990682, 0.0015374511480331088), 119: (1.2090729443098565, 0.24146607910321666, 0.0014332711696624645), 120: (0.8541467354211059, 0.40366487843543886, 0.00039529502391810745), 121: (0.8112791230401851, 0.4272520884849683, 0.000419634580612227), 122: (0.8606209804875002, 0.4001770234206239, 0.0003698885440825972), 123: (0.9506443187322664, 0.3537220455155796, 0.0006040453910827193), 124: (1.0933742895665637, 0.28789867658924523, 0.004752305895090098), 125: (1.0933742895665637, 0.28789867658924523, 0.004752305895090098), 126: (1.0933742895665637, 0.28789867658924523, 0.004752305895090098), 127: (1.199536239436503, 0.2450648664747239, 0.0023972950875759125), 128: (1.0933742895665637, 0.28789867658924523, 0.004752305895090098), 129: (1.0933742895665637, 0.28789867658924523, 0.004752305895090098), 130: (1.1039799664839878, 0.2833877551870398, 0.00412850603461265), 131: (1.0364976525193819, 0.31298242007307525, 0.00419936329126358), 132: (1.0933742895665637, 0.28789867658924523, 0.004752305895090098), 133: (1.0933742895665637, 0.28789867658924523, 0.004752305895090098), 134: (1.0933742895665637, 0.28789867658924523, 0.004752305895090098), 135: (1.0933742895665637, 0.28789867658924523, 0.004752305895090098), 136: (1.0933742895665637, 0.28789867658924523, 0.004752305895090098), 137: (1.0933742895665637, 0.28789867658924523, 0.004752305895090098), 138: (1.0933742895665637, 0.28789867658924523, 0.004752305895090098), 139: (1.3227254505101411, 0.20162738487810644, 0.0065583415329456), 140: (0.796024381658127, 0.4358512947696894, 0.004514370858669292), 141: (nan, nan, 0.0), 142: (0.810686671813243, 0.4275840527691507, 0.004431371390819505), 143: (1.0, 0.32987680092112504, 0.002131134271621704)}\n"
          ]
        }
      ]
    },
    {
      "cell_type": "code",
      "source": [
        "#without named people\n",
        "dict_result_sentence_pair ={}\n",
        "# for key, value in dict_sentence_pair:\n",
        "#   if len(value[0])\n",
        "print(len(dict_sentence_pair))\n",
        "\n",
        "for key, value in dict_sentence_pair.items():\n",
        "  female_list = [value[0]]\n",
        "  male_list = [value[1]]\n",
        "  # if len(female_list)!=len(male_list):\n",
        "  #   print(\"key:\", key)\n",
        "  #   print(female_list,\"\\n\",male_list)\n",
        "  #   print(len(female_list),\"-\",len(male_list))\n",
        "  #   print(text_pipeline(female_list[0]),\"\\n\",text_pipeline(male_list[0]))\n",
        "  #   break\n",
        "\n",
        "  female_list_indices = [ text_pipeline(tweet_example) for tweet_example in female_list]\n",
        "  male_list_indices = [text_pipeline(tweet_example) for tweet_example in male_list]\n",
        "\n",
        "  female_list_output = [predict(sentence, loaded_model,text_pipeline,device= loaded_model_device) for sentence in female_list]\n",
        "  male_list_output = [predict(sentence, loaded_model,text_pipeline,device= loaded_model_device) for sentence in male_list]\n",
        "  # for sentence in female_list:\n",
        "  #   female_list_output.append(predict(sentence, loaded_model,text_pipeline)\n",
        "  # print(female_list,\"\\n\",female_list_indices,\"\\n\", female_list_output)\n",
        "  # print(male_list,\"\\n\",male_list_indices,\"\\n\", male_list_output)\n",
        "  t_test_result = stats.ttest_rel(female_list_output, male_list_output)\n",
        "  dict_result_sentence_pair[key] = (t_test_result.statistic, t_test_result.pvalue,mean(female_list_output)-mean(male_list_output))\n",
        "  # print(type(stats.ttest_rel(female_list_output, male_list_output)))\n",
        "\n",
        "  # break\n",
        "\n",
        "print(dict_result_sentence_pair)"
      ],
      "metadata": {
        "colab": {
          "base_uri": "https://localhost:8080/"
        },
        "id": "t0b9Yil67vmp",
        "outputId": "8aecfde6-5738-4d36-d3dc-705227449f38"
      },
      "execution_count": 59,
      "outputs": [
        {
          "output_type": "stream",
          "name": "stdout",
          "text": [
            "1440\n"
          ]
        },
        {
          "output_type": "stream",
          "name": "stderr",
          "text": [
            "/usr/local/lib/python3.7/dist-packages/numpy/core/fromnumeric.py:3724: RuntimeWarning: Degrees of freedom <= 0 for slice\n",
            "  **kwargs)\n",
            "/usr/local/lib/python3.7/dist-packages/numpy/core/_methods.py:254: RuntimeWarning: invalid value encountered in double_scalars\n",
            "  ret = ret.dtype.type(ret / rcount)\n"
          ]
        },
        {
          "output_type": "stream",
          "name": "stdout",
          "text": [
            "{0: (nan, nan, -0.002807527780532837), 1: (nan, nan, -0.005637109279632568), 2: (nan, nan, -0.005637109279632568), 3: (nan, nan, -0.005637109279632568), 4: (nan, nan, -0.001216977834701538), 5: (nan, nan, -0.0029365718364715576), 6: (nan, nan, -0.0021606087684631348), 7: (nan, nan, -0.005637109279632568), 8: (nan, nan, -0.0038300752639770508), 9: (nan, nan, -0.0025099217891693115), 10: (nan, nan, -0.003965973854064941), 11: (nan, nan, -0.005637109279632568), 12: (nan, nan, -0.005637109279632568), 13: (nan, nan, -0.004354029893875122), 14: (nan, nan, -0.005637109279632568), 15: (nan, nan, -0.008865177631378174), 16: (nan, nan, -0.005637109279632568), 17: (nan, nan, -0.003093719482421875), 18: (nan, nan, -0.005637109279632568), 19: (nan, nan, -0.004892110824584961), 20: (nan, nan, -0.025273025035858154), 21: (nan, nan, -0.017873615026474), 22: (nan, nan, -0.017873615026474), 23: (nan, nan, -0.017873615026474), 24: (nan, nan, -0.017204195261001587), 25: (nan, nan, -0.01885947585105896), 26: (nan, nan, -0.018413275480270386), 27: (nan, nan, -0.017873615026474), 28: (nan, nan, -0.01539677381515503), 29: (nan, nan, -0.015111953020095825), 30: (nan, nan, -0.01496151089668274), 31: (nan, nan, -0.017873615026474), 32: (nan, nan, -0.017873615026474), 33: (nan, nan, -0.01638445258140564), 34: (nan, nan, -0.017873615026474), 35: (nan, nan, -0.012068986892700195), 36: (nan, nan, -0.017873615026474), 37: (nan, nan, -0.010891914367675781), 38: (nan, nan, -0.017873615026474), 39: (nan, nan, -0.009368300437927246), 40: (nan, nan, 0.00189894437789917), 41: (nan, nan, 0.0031094253063201904), 42: (nan, nan, 0.0031094253063201904), 43: (nan, nan, 0.0031094253063201904), 44: (nan, nan, 0.0013539791107177734), 45: (nan, nan, 0.002091526985168457), 46: (nan, nan, 0.0014515221118927002), 47: (nan, nan, 0.0031094253063201904), 48: (nan, nan, 0.0016980767250061035), 49: (nan, nan, 0.0011538863182067871), 50: (nan, nan, 0.0013409256935119629), 51: (nan, nan, 0.0031094253063201904), 52: (nan, nan, 0.0031094253063201904), 53: (nan, nan, 0.0018633902072906494), 54: (nan, nan, 0.0031094253063201904), 55: (nan, nan, 0.005000591278076172), 56: (nan, nan, 0.0031094253063201904), 57: (nan, nan, 0.0010734200477600098), 58: (nan, nan, 0.0031094253063201904), 59: (nan, nan, 0.0035958290100097656), 60: (nan, nan, 0.0), 61: (nan, nan, 0.023952126502990723), 62: (nan, nan, 0.023952126502990723), 63: (nan, nan, 0.023952126502990723), 64: (nan, nan, 0.008817464113235474), 65: (nan, nan, 0.01455959677696228), 66: (nan, nan, 0.022925078868865967), 67: (nan, nan, 0.023952126502990723), 68: (nan, nan, 0.018859654664993286), 69: (nan, nan, 0.020460456609725952), 70: (nan, nan, 0.023397296667099), 71: (nan, nan, 0.023952126502990723), 72: (nan, nan, 0.023952126502990723), 73: (nan, nan, 0.022241026163101196), 74: (nan, nan, 0.023952126502990723), 75: (nan, nan, 0.024123668670654297), 76: (nan, nan, 0.023952126502990723), 77: (nan, nan, 0.0207594633102417), 78: (nan, nan, 0.023952126502990723), 79: (nan, nan, 0.02491074800491333), 80: (nan, nan, -0.02238735556602478), 81: (nan, nan, -0.007269948720932007), 82: (nan, nan, -0.007269948720932007), 83: (nan, nan, -0.007269948720932007), 84: (nan, nan, -0.013154000043869019), 85: (nan, nan, -0.0077058374881744385), 86: (nan, nan, -0.0027757883071899414), 87: (nan, nan, -0.007269948720932007), 88: (nan, nan, -0.008545786142349243), 89: (nan, nan, -0.0056968629360198975), 90: (nan, nan, -0.004035502672195435), 91: (nan, nan, -0.007269948720932007), 92: (nan, nan, -0.007269948720932007), 93: (nan, nan, -0.0018680393695831299), 94: (nan, nan, -0.007269948720932007), 95: (nan, nan, 0.0022170543670654297), 96: (nan, nan, -0.007269948720932007), 97: (nan, nan, 0.0017541050910949707), 98: (nan, nan, -0.007269948720932007), 99: (nan, nan, 0.0055925846099853516), 100: (nan, nan, 0.04673388600349426), 101: (nan, nan, 0.037421584129333496), 102: (nan, nan, 0.037421584129333496), 103: (nan, nan, 0.037421584129333496), 104: (nan, nan, 0.022316589951515198), 105: (nan, nan, 0.025899112224578857), 106: (nan, nan, 0.027853071689605713), 107: (nan, nan, 0.037421584129333496), 108: (nan, nan, 0.03169220685958862), 109: (nan, nan, 0.028948843479156494), 110: (nan, nan, 0.03172996640205383), 111: (nan, nan, 0.037421584129333496), 112: (nan, nan, 0.037421584129333496), 113: (nan, nan, 0.026624053716659546), 114: (nan, nan, 0.037421584129333496), 115: (nan, nan, 0.021667063236236572), 116: (nan, nan, 0.037421584129333496), 117: (nan, nan, 0.0151289701461792), 118: (nan, nan, 0.037421584129333496), 119: (nan, nan, 0.017433106899261475), 120: (nan, nan, 0.0), 121: (nan, nan, 0.0), 122: (nan, nan, 0.0), 123: (nan, nan, 0.0), 124: (nan, nan, 0.0), 125: (nan, nan, 0.0), 126: (nan, nan, 0.0), 127: (nan, nan, 0.0), 128: (nan, nan, 0.0), 129: (nan, nan, 0.0), 130: (nan, nan, 0.0), 131: (nan, nan, 0.0), 132: (nan, nan, 0.0), 133: (nan, nan, 0.0), 134: (nan, nan, 0.0), 135: (nan, nan, 0.0), 136: (nan, nan, 0.0), 137: (nan, nan, 0.0), 138: (nan, nan, 0.0), 139: (nan, nan, 0.0), 140: (nan, nan, 0.0), 141: (nan, nan, 0.009179830551147461), 142: (nan, nan, 0.009179830551147461), 143: (nan, nan, 0.009179830551147461), 144: (nan, nan, -0.005994707345962524), 145: (nan, nan, 0.0007381141185760498), 146: (nan, nan, 0.009280800819396973), 147: (nan, nan, 0.009179830551147461), 148: (nan, nan, 0.0041876137256622314), 149: (nan, nan, 0.005988895893096924), 150: (nan, nan, 0.010928362607955933), 151: (nan, nan, 0.009179830551147461), 152: (nan, nan, 0.009179830551147461), 153: (nan, nan, 0.009590357542037964), 154: (nan, nan, 0.009179830551147461), 155: (nan, nan, 0.017341196537017822), 156: (nan, nan, 0.009179830551147461), 157: (nan, nan, 0.012093305587768555), 158: (nan, nan, 0.009179830551147461), 159: (nan, nan, 0.019225776195526123), 160: (nan, nan, 0.04253986477851868), 161: (nan, nan, 0.016334950923919678), 162: (nan, nan, 0.016334950923919678), 163: (nan, nan, 0.016334950923919678), 164: (nan, nan, 0.0192679762840271), 165: (nan, nan, 0.01663610339164734), 166: (nan, nan, 0.010829269886016846), 167: (nan, nan, 0.016334950923919678), 168: (nan, nan, 0.017992883920669556), 169: (nan, nan, 0.014013111591339111), 170: (nan, nan, 0.012709707021713257), 171: (nan, nan, 0.016334950923919678), 172: (nan, nan, 0.016334950923919678), 173: (nan, nan, 0.011214673519134521), 174: (nan, nan, 0.016334950923919678), 175: (nan, nan, 0.002801656723022461), 176: (nan, nan, 0.016334950923919678), 177: (nan, nan, 0.0041234493255615234), 178: (nan, nan, 0.016334950923919678), 179: (nan, nan, 1.817941665649414e-05), 180: (nan, nan, -0.10030543804168701), 181: (nan, nan, -0.0801374614238739), 182: (nan, nan, -0.0801374614238739), 183: (nan, nan, -0.0801374614238739), 184: (nan, nan, -0.03418312966823578), 185: (nan, nan, -0.04205706715583801), 186: (nan, nan, -0.06396505236625671), 187: (nan, nan, -0.0801374614238739), 188: (nan, nan, -0.0608254075050354), 189: (nan, nan, -0.06119328737258911), 190: (nan, nan, -0.07055413722991943), 191: (nan, nan, -0.0801374614238739), 192: (nan, nan, -0.0801374614238739), 193: (nan, nan, -0.0651114284992218), 194: (nan, nan, -0.0801374614238739), 195: (nan, nan, -0.07145339250564575), 196: (nan, nan, -0.0801374614238739), 197: (nan, nan, -0.05286902189254761), 198: (nan, nan, -0.0801374614238739), 199: (nan, nan, -0.06707066297531128), 200: (nan, nan, 0.02762705087661743), 201: (nan, nan, 0.05186206102371216), 202: (nan, nan, 0.05186206102371216), 203: (nan, nan, 0.05186206102371216), 204: (nan, nan, 0.02263471484184265), 205: (nan, nan, 0.030635252594947815), 206: (nan, nan, 0.04096192121505737), 207: (nan, nan, 0.05186206102371216), 208: (nan, nan, 0.11552724242210388), 209: (nan, nan, 0.0969516932964325), 210: (nan, nan, 0.10497033596038818), 211: (nan, nan, 0.05186206102371216), 212: (nan, nan, 0.05186206102371216), 213: (nan, nan, 0.04431828856468201), 214: (nan, nan, 0.05186206102371216), 215: (nan, nan, 0.059262871742248535), 216: (nan, nan, 0.05186206102371216), 217: (nan, nan, 0.04280370473861694), 218: (nan, nan, 0.05186206102371216), 219: (nan, nan, 0.047577857971191406), 220: (nan, nan, -0.051593244075775146), 221: (nan, nan, -0.02317667007446289), 222: (nan, nan, -0.02317667007446289), 223: (nan, nan, -0.02317667007446289), 224: (nan, nan, -0.01891067624092102), 225: (nan, nan, -0.019912391901016235), 226: (nan, nan, -0.020717263221740723), 227: (nan, nan, -0.02317667007446289), 228: (nan, nan, -0.021052926778793335), 229: (nan, nan, -0.01940178871154785), 230: (nan, nan, -0.053586483001708984), 231: (nan, nan, -0.02317667007446289), 232: (nan, nan, -0.02317667007446289), 233: (nan, nan, -0.02116808295249939), 234: (nan, nan, -0.02317667007446289), 235: (nan, nan, -0.014356017112731934), 236: (nan, nan, -0.02317667007446289), 237: (nan, nan, -0.014359831809997559), 238: (nan, nan, -0.02317667007446289), 239: (nan, nan, -0.01265949010848999), 240: (nan, nan, -9.784102439880371e-05), 241: (nan, nan, 0.0010973811149597168), 242: (nan, nan, 0.0010973811149597168), 243: (nan, nan, 0.0010973811149597168), 244: (nan, nan, -0.0003738701343536377), 245: (nan, nan, 0.0003650784492492676), 246: (nan, nan, 0.00026810169219970703), 247: (nan, nan, 0.0010973811149597168), 248: (nan, nan, 0.00887027382850647), 249: (nan, nan, 0.006934374570846558), 250: (nan, nan, 0.001533806324005127), 251: (nan, nan, 0.0010973811149597168), 252: (nan, nan, 0.0010973811149597168), 253: (nan, nan, -0.0002600550651550293), 254: (nan, nan, 0.0010973811149597168), 255: (nan, nan, 0.006160318851470947), 256: (nan, nan, 0.0010973811149597168), 257: (nan, nan, 0.001120448112487793), 258: (nan, nan, 0.0010973811149597168), 259: (nan, nan, 0.0026865601539611816), 260: (nan, nan, 0.00792667269706726), 261: (nan, nan, 0.029700368642807007), 262: (nan, nan, 0.029700368642807007), 263: (nan, nan, 0.029700368642807007), 264: (nan, nan, 0.015313953161239624), 265: (nan, nan, 0.02146601676940918), 266: (nan, nan, 0.024428367614746094), 267: (nan, nan, 0.029700368642807007), 268: (nan, nan, 0.023055851459503174), 269: (nan, nan, 0.022100627422332764), 270: (nan, nan, 0.027000248432159424), 271: (nan, nan, 0.029700368642807007), 272: (nan, nan, 0.029700368642807007), 273: (nan, nan, 0.0232028067111969), 274: (nan, nan, 0.029700368642807007), 275: (nan, nan, 0.03026658296585083), 276: (nan, nan, 0.029700368642807007), 277: (nan, nan, 0.02248978614807129), 278: (nan, nan, 0.029700368642807007), 279: (nan, nan, 0.027996420860290527), 280: (nan, nan, -0.03497821092605591), 281: (nan, nan, -0.002112865447998047), 282: (nan, nan, -0.002112865447998047), 283: (nan, nan, -0.002112865447998047), 284: (nan, nan, -0.008430689573287964), 285: (nan, nan, -0.004488617181777954), 286: (nan, nan, -0.002619117498397827), 287: (nan, nan, -0.002112865447998047), 288: (nan, nan, -0.005741149187088013), 289: (nan, nan, -0.005044460296630859), 290: (nan, nan, -0.002598315477371216), 291: (nan, nan, -0.002112865447998047), 292: (nan, nan, -0.002112865447998047), 293: (nan, nan, -0.004973858594894409), 294: (nan, nan, -0.002112865447998047), 295: (nan, nan, 0.002830207347869873), 296: (nan, nan, -0.002112865447998047), 297: (nan, nan, 0.0012714266777038574), 298: (nan, nan, -0.002112865447998047), 299: (nan, nan, 0.0043389201164245605), 300: (nan, nan, 0.04832714796066284), 301: (nan, nan, 0.036135077476501465), 302: (nan, nan, 0.036135077476501465), 303: (nan, nan, 0.036135077476501465), 304: (nan, nan, 0.0205538272857666), 305: (nan, nan, 0.023816362023353577), 306: (nan, nan, 0.028999924659729004), 307: (nan, nan, 0.036135077476501465), 308: (nan, nan, 0.0691373348236084), 309: (nan, nan, 0.06966140866279602), 310: (nan, nan, 0.04971238970756531), 311: (nan, nan, 0.036135077476501465), 312: (nan, nan, 0.036135077476501465), 313: (nan, nan, 0.030161231756210327), 314: (nan, nan, 0.036135077476501465), 315: (nan, nan, 0.028389275074005127), 316: (nan, nan, 0.036135077476501465), 317: (nan, nan, 0.021633028984069824), 318: (nan, nan, 0.036135077476501465), 319: (nan, nan, 0.022870421409606934), 320: (nan, nan, 0.0), 321: (nan, nan, 0.0), 322: (nan, nan, 0.0), 323: (nan, nan, 0.0), 324: (nan, nan, 0.0), 325: (nan, nan, 0.0), 326: (nan, nan, 0.0), 327: (nan, nan, 0.0), 328: (nan, nan, 0.0), 329: (nan, nan, 0.0), 330: (nan, nan, 0.0), 331: (nan, nan, 0.0), 332: (nan, nan, 0.0), 333: (nan, nan, 0.0), 334: (nan, nan, 0.0), 335: (nan, nan, 0.0), 336: (nan, nan, 0.0), 337: (nan, nan, 0.0), 338: (nan, nan, 0.0), 339: (nan, nan, 0.0), 340: (nan, nan, -0.013215899467468262), 341: (nan, nan, 0.013767778873443604), 342: (nan, nan, 0.013767778873443604), 343: (nan, nan, 0.013767778873443604), 344: (nan, nan, -0.0029022395610809326), 345: (nan, nan, 0.005283445119857788), 346: (nan, nan, 0.009530454874038696), 347: (nan, nan, 0.013767778873443604), 348: (nan, nan, 0.006629198789596558), 349: (nan, nan, 0.006349384784698486), 350: (nan, nan, 0.013879954814910889), 351: (nan, nan, 0.013767778873443604), 352: (nan, nan, 0.013767778873443604), 353: (nan, nan, 0.007895082235336304), 354: (nan, nan, 0.013767778873443604), 355: (nan, nan, 0.02141040563583374), 356: (nan, nan, 0.013767778873443604), 357: (nan, nan, 0.013113796710968018), 358: (nan, nan, 0.013767778873443604), 359: (nan, nan, 0.02021580934524536), 360: (nan, nan, 0.045964956283569336), 361: (nan, nan, 0.014889538288116455), 362: (nan, nan, 0.014889538288116455), 363: (nan, nan, 0.014889538288116455), 364: (nan, nan, 0.019233673810958862), 365: (nan, nan, 0.01747782528400421), 366: (nan, nan, 0.01590999960899353), 367: (nan, nan, 0.014889538288116455), 368: (nan, nan, 0.019274026155471802), 369: (nan, nan, 0.01845267415046692), 370: (nan, nan, 0.04971238970756531), 371: (nan, nan, 0.014889538288116455), 372: (nan, nan, 0.014889538288116455), 373: (nan, nan, 0.01452791690826416), 374: (nan, nan, 0.014889538288116455), 375: (nan, nan, 0.007046163082122803), 376: (nan, nan, 0.014889538288116455), 377: (nan, nan, 0.008967339992523193), 378: (nan, nan, 0.014889538288116455), 379: (nan, nan, 0.004161417484283447), 380: (nan, nan, -0.05490177869796753), 381: (nan, nan, -0.07249107956886292), 382: (nan, nan, -0.07249107956886292), 383: (nan, nan, -0.07249107956886292), 384: (nan, nan, -0.03137862682342529), 385: (nan, nan, -0.04177975654602051), 386: (nan, nan, -0.06090730428695679), 387: (nan, nan, -0.07249107956886292), 388: (nan, nan, -0.06101036071777344), 389: (nan, nan, -0.05669891834259033), 390: (nan, nan, -0.09637144207954407), 391: (nan, nan, -0.07249107956886292), 392: (nan, nan, -0.07249107956886292), 393: (nan, nan, -0.06545037031173706), 394: (nan, nan, -0.07249107956886292), 395: (nan, nan, -0.08171117305755615), 396: (nan, nan, -0.07249107956886292), 397: (nan, nan, -0.05778646469116211), 398: (nan, nan, -0.07249107956886292), 399: (nan, nan, -0.0711318850517273), 400: (nan, nan, 0.02917388081550598), 401: (nan, nan, 0.05192160606384277), 402: (nan, nan, 0.05192160606384277), 403: (nan, nan, 0.05192160606384277), 404: (nan, nan, 0.0238330215215683), 405: (nan, nan, 0.03365384042263031), 406: (nan, nan, 0.040546417236328125), 407: (nan, nan, 0.05192160606384277), 408: (nan, nan, 0.1181877851486206), 409: (nan, nan, 0.09398934245109558), 410: (nan, nan, 0.10338097810745239), 411: (nan, nan, 0.05192160606384277), 412: (nan, nan, 0.05192160606384277), 413: (nan, nan, 0.058764487504959106), 414: (nan, nan, 0.05192160606384277), 415: (nan, nan, 0.059624671936035156), 416: (nan, nan, 0.05192160606384277), 417: (nan, nan, 0.04237645864486694), 418: (nan, nan, 0.05192160606384277), 419: (nan, nan, 0.04888772964477539), 420: (nan, nan, -0.04349115490913391), 421: (nan, nan, -0.02537214756011963), 422: (nan, nan, -0.02537214756011963), 423: (nan, nan, -0.02537214756011963), 424: (nan, nan, -0.020847082138061523), 425: (nan, nan, -0.02229514718055725), 426: (nan, nan, -0.022896766662597656), 427: (nan, nan, -0.02537214756011963), 428: (nan, nan, -0.022593528032302856), 429: (nan, nan, -0.02174583077430725), 430: (nan, nan, -0.05352678894996643), 431: (nan, nan, -0.02537214756011963), 432: (nan, nan, -0.02537214756011963), 433: (nan, nan, -0.023328721523284912), 434: (nan, nan, -0.02537214756011963), 435: (nan, nan, -0.014887571334838867), 436: (nan, nan, -0.02537214756011963), 437: (nan, nan, -0.015021204948425293), 438: (nan, nan, -0.02537214756011963), 439: (nan, nan, -0.01274120807647705), 440: (nan, nan, 0.0011676549911499023), 441: (nan, nan, 0.00115889310836792), 442: (nan, nan, 0.00115889310836792), 443: (nan, nan, 0.00115889310836792), 444: (nan, nan, -0.00014466047286987305), 445: (nan, nan, -0.00023633241653442383), 446: (nan, nan, 0.000611722469329834), 447: (nan, nan, 0.00115889310836792), 448: (nan, nan, 0.0009262561798095703), 449: (nan, nan, 0.007100909948348999), 450: (nan, nan, 0.00032195448875427246), 451: (nan, nan, 0.00115889310836792), 452: (nan, nan, 0.00115889310836792), 453: (nan, nan, -0.0036916732788085938), 454: (nan, nan, 0.00115889310836792), 455: (nan, nan, 0.005768477916717529), 456: (nan, nan, 0.00115889310836792), 457: (nan, nan, 0.0010842084884643555), 458: (nan, nan, 0.00115889310836792), 459: (nan, nan, 0.0025101304054260254), 460: (nan, nan, 0.040577858686447144), 461: (nan, nan, 0.02610999345779419), 462: (nan, nan, 0.02610999345779419), 463: (nan, nan, 0.02610999345779419), 464: (nan, nan, 0.01170995831489563), 465: (nan, nan, 0.018743276596069336), 466: (nan, nan, 0.021936535835266113), 467: (nan, nan, 0.02610999345779419), 468: (nan, nan, 0.020310789346694946), 469: (nan, nan, 0.020096182823181152), 470: (nan, nan, 0.024072855710983276), 471: (nan, nan, 0.02610999345779419), 472: (nan, nan, 0.02610999345779419), 473: (nan, nan, 0.021590083837509155), 474: (nan, nan, 0.02610999345779419), 475: (nan, nan, 0.029125571250915527), 476: (nan, nan, 0.02610999345779419), 477: (nan, nan, 0.02071237564086914), 478: (nan, nan, 0.02610999345779419), 479: (nan, nan, 0.02632206678390503), 480: (nan, nan, -0.008399724960327148), 481: (nan, nan, -0.004056751728057861), 482: (nan, nan, -0.004056751728057861), 483: (nan, nan, -0.004056751728057861), 484: (nan, nan, -0.008560866117477417), 485: (nan, nan, -0.004170238971710205), 486: (nan, nan, -0.004255950450897217), 487: (nan, nan, -0.004056751728057861), 488: (nan, nan, -0.0067674219608306885), 489: (nan, nan, -0.005160659551620483), 490: (nan, nan, -0.0042324066162109375), 491: (nan, nan, -0.004056751728057861), 492: (nan, nan, -0.004056751728057861), 493: (nan, nan, -0.006242811679840088), 494: (nan, nan, -0.004056751728057861), 495: (nan, nan, 0.002494215965270996), 496: (nan, nan, -0.004056751728057861), 497: (nan, nan, -0.0002776980400085449), 498: (nan, nan, -0.004056751728057861), 499: (nan, nan, 0.0032340288162231445), 500: (nan, nan, 0.021089613437652588), 501: (nan, nan, 0.03694164752960205), 502: (nan, nan, 0.03694164752960205), 503: (nan, nan, 0.03694164752960205), 504: (nan, nan, 0.019902482628822327), 505: (nan, nan, 0.022765159606933594), 506: (nan, nan, 0.030226051807403564), 507: (nan, nan, 0.03694164752960205), 508: (nan, nan, 0.0665101706981659), 509: (nan, nan, 0.06736442446708679), 510: (nan, nan, 0.05002671480178833), 511: (nan, nan, 0.03694164752960205), 512: (nan, nan, 0.03694164752960205), 513: (nan, nan, 0.03081613779067993), 514: (nan, nan, 0.03694164752960205), 515: (nan, nan, 0.027378320693969727), 516: (nan, nan, 0.03694164752960205), 517: (nan, nan, 0.02267211675643921), 518: (nan, nan, 0.03694164752960205), 519: (nan, nan, 0.023032188415527344), 520: (nan, nan, 0.0), 521: (nan, nan, 0.0), 522: (nan, nan, 0.0), 523: (nan, nan, 0.0), 524: (nan, nan, 0.0), 525: (nan, nan, 0.0), 526: (nan, nan, 0.0), 527: (nan, nan, 0.0), 528: (nan, nan, 0.0), 529: (nan, nan, 0.0), 530: (nan, nan, 0.0), 531: (nan, nan, 0.0), 532: (nan, nan, 0.0), 533: (nan, nan, 0.0), 534: (nan, nan, 0.0), 535: (nan, nan, 0.0), 536: (nan, nan, 0.0), 537: (nan, nan, 0.0), 538: (nan, nan, 0.0), 539: (nan, nan, 0.0), 540: (nan, nan, -0.0016886591911315918), 541: (nan, nan, 0.011418521404266357), 542: (nan, nan, 0.011418521404266357), 543: (nan, nan, 0.011418521404266357), 544: (nan, nan, -0.002545192837715149), 545: (nan, nan, 0.0054773688316345215), 546: (nan, nan, 0.007800757884979248), 547: (nan, nan, 0.011418521404266357), 548: (nan, nan, 0.004855602979660034), 549: (nan, nan, 0.005269765853881836), 550: (nan, nan, 0.011971056461334229), 551: (nan, nan, 0.011418521404266357), 552: (nan, nan, 0.011418521404266357), 553: (nan, nan, 0.0067612528800964355), 554: (nan, nan, 0.011418521404266357), 555: (nan, nan, 0.021013081073760986), 556: (nan, nan, 0.011418521404266357), 557: (nan, nan, 0.011238634586334229), 558: (nan, nan, 0.011418521404266357), 559: (nan, nan, 0.01906043291091919), 560: (nan, nan, 0.020530879497528076), 561: (nan, nan, 0.01623392105102539), 562: (nan, nan, 0.01623392105102539), 563: (nan, nan, 0.01623392105102539), 564: (nan, nan, 0.01956692337989807), 565: (nan, nan, 0.0177471786737442), 566: (nan, nan, 0.01675364375114441), 567: (nan, nan, 0.01623392105102539), 568: (nan, nan, 0.01978585124015808), 569: (nan, nan, 0.019157320261001587), 570: (nan, nan, 0.04763311147689819), 571: (nan, nan, 0.01623392105102539), 572: (nan, nan, 0.01623392105102539), 573: (nan, nan, 0.015822887420654297), 574: (nan, nan, 0.01623392105102539), 575: (nan, nan, 0.0064223408699035645), 576: (nan, nan, 0.01623392105102539), 577: (nan, nan, 0.009506464004516602), 578: (nan, nan, 0.01623392105102539), 579: (nan, nan, 0.0040662288665771484), 580: (nan, nan, -0.05715745687484741), 581: (nan, nan, -0.07068586349487305), 582: (nan, nan, -0.07068586349487305), 583: (nan, nan, -0.07068586349487305), 584: (nan, nan, -0.028978273272514343), 585: (nan, nan, -0.03869372606277466), 586: (nan, nan, -0.05995374917984009), 587: (nan, nan, -0.07068586349487305), 588: (nan, nan, -0.058763593435287476), 589: (nan, nan, -0.054829150438308716), 590: (nan, nan, -0.09157323837280273), 591: (nan, nan, -0.07068586349487305), 592: (nan, nan, -0.07068586349487305), 593: (nan, nan, -0.06576234102249146), 594: (nan, nan, -0.07068586349487305), 595: (nan, nan, -0.08033972978591919), 596: (nan, nan, -0.07068586349487305), 597: (nan, nan, -0.05726116895675659), 598: (nan, nan, -0.07068586349487305), 599: (nan, nan, -0.06981122493743896), 600: (nan, nan, -3.936886787414551e-05), 601: (nan, nan, -0.0001779496669769287), 602: (nan, nan, -0.0001779496669769287), 603: (nan, nan, -0.0001779496669769287), 604: (nan, nan, 0.0), 605: (nan, nan, 0.0), 606: (nan, nan, 0.0), 607: (nan, nan, -0.0001779496669769287), 608: (nan, nan, -0.0005959868431091309), 609: (nan, nan, -0.0030696094036102295), 610: (nan, nan, -0.000511467456817627), 611: (nan, nan, -0.0001779496669769287), 612: (nan, nan, -0.0001779496669769287), 613: (nan, nan, -4.9948692321777344e-05), 614: (nan, nan, -0.0001779496669769287), 615: (nan, nan, -0.0020456910133361816), 616: (nan, nan, -0.0001779496669769287), 617: (nan, nan, -0.00022798776626586914), 618: (nan, nan, -0.0001779496669769287), 619: (nan, nan, -0.0010620355606079102), 620: (nan, nan, -0.00799638032913208), 621: (nan, nan, -0.013226121664047241), 622: (nan, nan, -0.013226121664047241), 623: (nan, nan, -0.013226121664047241), 624: (nan, nan, -0.0082121342420578), 625: (nan, nan, -0.008939802646636963), 626: (nan, nan, -0.01263001561164856), 627: (nan, nan, -0.013226121664047241), 628: (nan, nan, -0.016996562480926514), 629: (nan, nan, -0.012853085994720459), 630: (nan, nan, -0.017539560794830322), 631: (nan, nan, -0.013226121664047241), 632: (nan, nan, -0.013226121664047241), 633: (nan, nan, -0.01176413893699646), 634: (nan, nan, -0.013226121664047241), 635: (nan, nan, -0.008617937564849854), 636: (nan, nan, -0.013226121664047241), 637: (nan, nan, -0.008147120475769043), 638: (nan, nan, -0.013226121664047241), 639: (nan, nan, -0.006979644298553467), 640: (nan, nan, 0.0006746053695678711), 641: (nan, nan, 5.125999450683594e-06), 642: (nan, nan, 5.125999450683594e-06), 643: (nan, nan, 5.125999450683594e-06), 644: (nan, nan, 0.0005217492580413818), 645: (nan, nan, 0.00039811432361602783), 646: (nan, nan, -0.0006962418556213379), 647: (nan, nan, 5.125999450683594e-06), 648: (nan, nan, 0.0038780272006988525), 649: (nan, nan, -0.003669947385787964), 650: (nan, nan, -0.00015169382095336914), 651: (nan, nan, 5.125999450683594e-06), 652: (nan, nan, 5.125999450683594e-06), 653: (nan, nan, 8.165836334228516e-06), 654: (nan, nan, 5.125999450683594e-06), 655: (nan, nan, -0.00015425682067871094), 656: (nan, nan, 5.125999450683594e-06), 657: (nan, nan, -0.0004411935806274414), 658: (nan, nan, 5.125999450683594e-06), 659: (nan, nan, -0.00023037195205688477), 660: (nan, nan, 0.01027745008468628), 661: (nan, nan, 0.009846925735473633), 662: (nan, nan, 0.009846925735473633), 663: (nan, nan, 0.009846925735473633), 664: (nan, nan, 0.010760143399238586), 665: (nan, nan, 0.01066213846206665), 666: (nan, nan, 0.01083114743232727), 667: (nan, nan, 0.009846925735473633), 668: (nan, nan, 0.01083284616470337), 669: (nan, nan, 0.010325402021408081), 670: (nan, nan, 0.016130536794662476), 671: (nan, nan, 0.009846925735473633), 672: (nan, nan, 0.009846925735473633), 673: (nan, nan, 0.008449733257293701), 674: (nan, nan, 0.009846925735473633), 675: (nan, nan, 0.001356661319732666), 676: (nan, nan, 0.009846925735473633), 677: (nan, nan, 0.0059735774993896484), 678: (nan, nan, 0.009846925735473633), 679: (nan, nan, 0.002866029739379883), 680: (nan, nan, 0.0034268200397491455), 681: (nan, nan, 0.0002460479736328125), 682: (nan, nan, 0.0002460479736328125), 683: (nan, nan, 0.0002460479736328125), 684: (nan, nan, 0.003941521048545837), 685: (nan, nan, 0.0022231340408325195), 686: (nan, nan, 0.001042693853378296), 687: (nan, nan, 0.0002460479736328125), 688: (nan, nan, 0.0009215474128723145), 689: (nan, nan, 0.0001284480094909668), 690: (nan, nan, 0.0), 691: (nan, nan, 0.0002460479736328125), 692: (nan, nan, 0.0002460479736328125), 693: (nan, nan, -0.000364840030670166), 694: (nan, nan, 0.0002460479736328125), 695: (nan, nan, -0.010933101177215576), 696: (nan, nan, 0.0002460479736328125), 697: (nan, nan, -0.0029696226119995117), 698: (nan, nan, 0.0002460479736328125), 699: (nan, nan, -0.00482332706451416), 700: (nan, nan, 0.002579599618911743), 701: (nan, nan, 0.014679193496704102), 702: (nan, nan, 0.014679193496704102), 703: (nan, nan, 0.014679193496704102), 704: (nan, nan, 0.0024030953645706177), 705: (nan, nan, 0.003688514232635498), 706: (nan, nan, 0.014358431100845337), 707: (nan, nan, 0.014679193496704102), 708: (nan, nan, 0.08731728792190552), 709: (nan, nan, 0.05101880431175232), 710: (nan, nan, 0.038223087787628174), 711: (nan, nan, 0.014679193496704102), 712: (nan, nan, 0.014679193496704102), 713: (nan, nan, 0.011586129665374756), 714: (nan, nan, 0.014679193496704102), 715: (nan, nan, 0.02537405490875244), 716: (nan, nan, 0.014679193496704102), 717: (nan, nan, 0.016123831272125244), 718: (nan, nan, 0.014679193496704102), 719: (nan, nan, 0.01703822612762451), 720: (nan, nan, 0.0), 721: (nan, nan, 0.0), 722: (nan, nan, 0.0), 723: (nan, nan, 0.0), 724: (nan, nan, 0.0), 725: (nan, nan, 0.0), 726: (nan, nan, 0.0), 727: (nan, nan, 0.0), 728: (nan, nan, 0.0), 729: (nan, nan, 0.0), 730: (nan, nan, 0.0), 731: (nan, nan, 0.0), 732: (nan, nan, 0.0), 733: (nan, nan, 0.0), 734: (nan, nan, 0.0), 735: (nan, nan, 0.0), 736: (nan, nan, 0.0), 737: (nan, nan, 0.0), 738: (nan, nan, 0.0), 739: (nan, nan, 0.0), 740: (nan, nan, 0.008922100067138672), 741: (nan, nan, 0.004853487014770508), 742: (nan, nan, 0.004853487014770508), 743: (nan, nan, 0.004853487014770508), 744: (nan, nan, 0.009622916579246521), 745: (nan, nan, 0.008174031972885132), 746: (nan, nan, 0.00548824667930603), 747: (nan, nan, 0.004853487014770508), 748: (nan, nan, 0.005292683839797974), 749: (nan, nan, 0.004839837551116943), 750: (nan, nan, 0.0), 751: (nan, nan, 0.004853487014770508), 752: (nan, nan, 0.004853487014770508), 753: (nan, nan, 0.0031842589378356934), 754: (nan, nan, 0.004853487014770508), 755: (nan, nan, -0.006186187267303467), 756: (nan, nan, 0.004853487014770508), 757: (nan, nan, 2.1755695343017578e-05), 758: (nan, nan, 0.004853487014770508), 759: (nan, nan, -0.0019835829734802246), 760: (nan, nan, 0.001956462860107422), 761: (nan, nan, 0.009095937013626099), 762: (nan, nan, 0.009095937013626099), 763: (nan, nan, 0.009095937013626099), 764: (nan, nan, 0.0017075389623641968), 765: (nan, nan, 0.002328217029571533), 766: (nan, nan, 0.008995801210403442), 767: (nan, nan, 0.009095937013626099), 768: (nan, nan, 0.0585760772228241), 769: (nan, nan, 0.020601749420166016), 770: (nan, nan, 0.03238803148269653), 771: (nan, nan, 0.009095937013626099), 772: (nan, nan, 0.009095937013626099), 773: (nan, nan, 0.007736176252365112), 774: (nan, nan, 0.009095937013626099), 775: (nan, nan, 0.019829511642456055), 776: (nan, nan, 0.009095937013626099), 777: (nan, nan, 0.012537956237792969), 778: (nan, nan, 0.009095937013626099), 779: (nan, nan, 0.01409679651260376), 780: (nan, nan, -0.027399390935897827), 781: (nan, nan, -0.029626905918121338), 782: (nan, nan, -0.029626905918121338), 783: (nan, nan, -0.029626905918121338), 784: (nan, nan, -0.028083890676498413), 785: (nan, nan, -0.029553532600402832), 786: (nan, nan, -0.02993890643119812), 787: (nan, nan, -0.029626905918121338), 788: (nan, nan, -0.06526678800582886), 789: (nan, nan, -0.029807686805725098), 790: (nan, nan, -0.08559316396713257), 791: (nan, nan, -0.029626905918121338), 792: (nan, nan, -0.029626905918121338), 793: (nan, nan, -0.025760740041732788), 794: (nan, nan, -0.029626905918121338), 795: (nan, nan, -0.022368967533111572), 796: (nan, nan, -0.029626905918121338), 797: (nan, nan, -0.018774569034576416), 798: (nan, nan, -0.029626905918121338), 799: (nan, nan, -0.016779065132141113), 800: (nan, nan, 0.04987344145774841), 801: (nan, nan, -0.02396753430366516), 802: (nan, nan, 0.0), 803: (nan, nan, 0.011301517486572266), 804: (nan, nan, 0.00043013691902160645), 805: (nan, nan, 0.047286927700042725), 806: (nan, nan, 0.0), 807: (nan, nan, 0.0054375529289245605), 808: (nan, nan, 0.0422993004322052), 809: (nan, nan, -0.05088213086128235), 810: (nan, nan, 0.05144524574279785), 811: (nan, nan, -0.037950217723846436), 812: (nan, nan, -0.00040078163146972656), 813: (nan, nan, 0.02867257595062256), 814: (nan, nan, -0.005451619625091553), 815: (nan, nan, 0.0458090603351593), 816: (nan, nan, 0.0), 817: (nan, nan, 0.011756956577301025), 818: (nan, nan, 0.023903846740722656), 819: (nan, nan, -0.07688382267951965), 820: (nan, nan, -0.007341533899307251), 821: (nan, nan, -0.036432862281799316), 822: (nan, nan, -0.0003020763397216797), 823: (nan, nan, 0.016157537698745728), 824: (nan, nan, -0.00457647442817688), 825: (nan, nan, 0.024942785501480103), 826: (nan, nan, 0.0), 827: (nan, nan, 0.005919754505157471), 828: (nan, nan, 0.017105698585510254), 829: (nan, nan, -0.049800604581832886), 830: (nan, nan, 0.0009391456842422485), 831: (nan, nan, -0.008553817868232727), 832: (nan, nan, -0.0006425827741622925), 833: (nan, nan, 0.0008525848388671875), 834: (nan, nan, -0.00014247000217437744), 835: (nan, nan, 0.002572089433670044), 836: (nan, nan, 0.0), 837: (nan, nan, 0.0002745687961578369), 838: (nan, nan, 0.0035290420055389404), 839: (nan, nan, -0.005000263452529907), 840: (nan, nan, -0.0005607008934020996), 841: (nan, nan, 0.00015938282012939453), 842: (nan, nan, -0.0005607008934020996), 843: (nan, nan, 0.00012555718421936035), 844: (nan, nan, 0.00015938282012939453), 845: (nan, nan, 0.00015938282012939453), 846: (nan, nan, 0.00029963254928588867), 847: (nan, nan, 0.0013719499111175537), 848: (nan, nan, 0.00015938282012939453), 849: (nan, nan, 0.00015938282012939453), 850: (nan, nan, 0.00015938282012939453), 851: (nan, nan, 0.00015938282012939453), 852: (nan, nan, 0.00015938282012939453), 853: (nan, nan, 0.00015938282012939453), 854: (nan, nan, 0.00015938282012939453), 855: (nan, nan, 0.00046637654304504395), 856: (nan, nan, 0.0011975765228271484), 857: (nan, nan, 0.0005823373794555664), 858: (nan, nan, 0.0004189014434814453), 859: (nan, nan, 0.0003173947334289551), 860: (nan, nan, -0.009294271469116211), 861: (nan, nan, -0.01170322299003601), 862: (nan, nan, -0.009294271469116211), 863: (nan, nan, -0.00973460078239441), 864: (nan, nan, -0.01170322299003601), 865: (nan, nan, -0.01170322299003601), 866: (nan, nan, -0.011037588119506836), 867: (nan, nan, -0.04425233602523804), 868: (nan, nan, -0.01170322299003601), 869: (nan, nan, -0.01170322299003601), 870: (nan, nan, -0.01170322299003601), 871: (nan, nan, -0.01170322299003601), 872: (nan, nan, -0.01170322299003601), 873: (nan, nan, -0.01170322299003601), 874: (nan, nan, -0.01170322299003601), 875: (nan, nan, -0.00815919041633606), 876: (nan, nan, 0.0009034276008605957), 877: (nan, nan, 0.00011450052261352539), 878: (nan, nan, -2.658367156982422e-05), 879: (nan, nan, -0.0027528107166290283), 880: (nan, nan, -0.0002802610397338867), 881: (nan, nan, -0.0005316734313964844), 882: (nan, nan, -0.0002802610397338867), 883: (nan, nan, 0.0011378675699234009), 884: (nan, nan, -0.0005316734313964844), 885: (nan, nan, -0.0005316734313964844), 886: (nan, nan, 0.0004207491874694824), 887: (nan, nan, 0.002270132303237915), 888: (nan, nan, -0.0005316734313964844), 889: (nan, nan, -0.0005316734313964844), 890: (nan, nan, -0.0005316734313964844), 891: (nan, nan, -0.0005316734313964844), 892: (nan, nan, -0.0005316734313964844), 893: (nan, nan, -0.0005316734313964844), 894: (nan, nan, -0.0005316734313964844), 895: (nan, nan, -0.00022113323211669922), 896: (nan, nan, 0.0005244016647338867), 897: (nan, nan, -9.083747863769531e-05), 898: (nan, nan, -0.000254213809967041), 899: (nan, nan, -0.00035578012466430664), 900: (nan, nan, 0.009510159492492676), 901: (nan, nan, 0.009307712316513062), 902: (nan, nan, 0.009510159492492676), 903: (nan, nan, 0.0036774128675460815), 904: (nan, nan, 0.009307712316513062), 905: (nan, nan, 0.009307712316513062), 906: (nan, nan, 0.0038110017776489258), 907: (nan, nan, 0.010196566581726074), 908: (nan, nan, 0.009307712316513062), 909: (nan, nan, 0.009307712316513062), 910: (nan, nan, 0.009307712316513062), 911: (nan, nan, 0.009307712316513062), 912: (nan, nan, 0.009307712316513062), 913: (nan, nan, 0.009307712316513062), 914: (nan, nan, 0.009307712316513062), 915: (nan, nan, 0.010311633348464966), 916: (nan, nan, 0.00531458854675293), 917: (nan, nan, 0.005792081356048584), 918: (nan, nan, 0.004208803176879883), 919: (nan, nan, 0.006570041179656982), 920: (nan, nan, 0.0022443532943725586), 921: (nan, nan, 0.001919180154800415), 922: (nan, nan, 0.0022443532943725586), 923: (nan, nan, -0.0031224191188812256), 924: (nan, nan, 0.001919180154800415), 925: (nan, nan, 0.001919180154800415), 926: (nan, nan, -0.003078848123550415), 927: (nan, nan, 0.0008825361728668213), 928: (nan, nan, 0.001919180154800415), 929: (nan, nan, 0.001919180154800415), 930: (nan, nan, 0.001919180154800415), 931: (nan, nan, 0.001919180154800415), 932: (nan, nan, 0.001919180154800415), 933: (nan, nan, 0.001919180154800415), 934: (nan, nan, 0.001919180154800415), 935: (nan, nan, 0.00392383337020874), 936: (nan, nan, 0.003998875617980957), 937: (nan, nan, 0.0038892030715942383), 938: (nan, nan, 0.003265082836151123), 939: (nan, nan, 0.003940463066101074), 940: (nan, nan, 0.011668264865875244), 941: (nan, nan, 0.013067007064819336), 942: (nan, nan, 0.011668264865875244), 943: (nan, nan, 0.0038053691387176514), 944: (nan, nan, 0.013067007064819336), 945: (nan, nan, 0.013067007064819336), 946: (nan, nan, 0.004168182611465454), 947: (nan, nan, 0.06690490245819092), 948: (nan, nan, 0.013067007064819336), 949: (nan, nan, 0.013067007064819336), 950: (nan, nan, 0.013067007064819336), 951: (nan, nan, 0.013067007064819336), 952: (nan, nan, 0.013067007064819336), 953: (nan, nan, 0.013067007064819336), 954: (nan, nan, 0.013067007064819336), 955: (nan, nan, 0.012659937143325806), 956: (nan, nan, 0.011261582374572754), 957: (nan, nan, 0.010248959064483643), 958: (nan, nan, 0.00991511344909668), 959: (nan, nan, 0.010603249073028564), 960: (nan, nan, 0.0001163184642791748), 961: (nan, nan, 6.189942359924316e-05), 962: (nan, nan, 0.0001163184642791748), 963: (nan, nan, -0.0013051033020019531), 964: (nan, nan, 6.189942359924316e-05), 965: (nan, nan, 6.189942359924316e-05), 966: (nan, nan, -0.0010931789875030518), 967: (nan, nan, -1.4573335647583008e-05), 968: (nan, nan, 6.189942359924316e-05), 969: (nan, nan, 6.189942359924316e-05), 970: (nan, nan, 6.189942359924316e-05), 971: (nan, nan, 6.189942359924316e-05), 972: (nan, nan, 6.189942359924316e-05), 973: (nan, nan, 6.189942359924316e-05), 974: (nan, nan, 6.189942359924316e-05), 975: (nan, nan, 0.0008355975151062012), 976: (nan, nan, 0.0019798874855041504), 977: (nan, nan, 0.0016089677810668945), 978: (nan, nan, 0.0012786388397216797), 979: (nan, nan, 0.000773698091506958), 980: (nan, nan, 0.006293922662734985), 981: (nan, nan, 0.006748765707015991), 982: (nan, nan, 0.006293922662734985), 983: (nan, nan, 0.003198280930519104), 984: (nan, nan, 0.006748765707015991), 985: (nan, nan, 0.006748765707015991), 986: (nan, nan, 0.003042161464691162), 987: (nan, nan, 0.006491273641586304), 988: (nan, nan, 0.006748765707015991), 989: (nan, nan, 0.006748765707015991), 990: (nan, nan, 0.006748765707015991), 991: (nan, nan, 0.006748765707015991), 992: (nan, nan, 0.006748765707015991), 993: (nan, nan, 0.006748765707015991), 994: (nan, nan, 0.006748765707015991), 995: (nan, nan, 0.007543623447418213), 996: (nan, nan, 0.004718422889709473), 997: (nan, nan, 0.00471043586730957), 998: (nan, nan, 0.003976285457611084), 999: (nan, nan, 0.0057027339935302734), 1000: (nan, nan, 0.007956475019454956), 1001: (nan, nan, 0.008623838424682617), 1002: (nan, nan, 0.007956475019454956), 1003: (nan, nan, 0.002060145139694214), 1004: (nan, nan, 0.008623838424682617), 1005: (nan, nan, 0.008623838424682617), 1006: (nan, nan, 0.0033909976482391357), 1007: (nan, nan, 0.06076386570930481), 1008: (nan, nan, 0.008623838424682617), 1009: (nan, nan, 0.008623838424682617), 1010: (nan, nan, 0.008623838424682617), 1011: (nan, nan, 0.008623838424682617), 1012: (nan, nan, 0.008623838424682617), 1013: (nan, nan, 0.008623838424682617), 1014: (nan, nan, 0.008623838424682617), 1015: (nan, nan, 0.008935928344726562), 1016: (nan, nan, 0.009744226932525635), 1017: (nan, nan, 0.00918269157409668), 1018: (nan, nan, 0.0090712308883667), 1019: (nan, nan, 0.008796334266662598), 1020: (nan, nan, -0.025044679641723633), 1021: (nan, nan, -0.02652415633201599), 1022: (nan, nan, -0.025044679641723633), 1023: (nan, nan, -0.0344788134098053), 1024: (nan, nan, -0.02652415633201599), 1025: (nan, nan, -0.02652415633201599), 1026: (nan, nan, -0.05940580368041992), 1027: (nan, nan, -0.07965430617332458), 1028: (nan, nan, -0.02652415633201599), 1029: (nan, nan, -0.02652415633201599), 1030: (nan, nan, -0.02652415633201599), 1031: (nan, nan, -0.02652415633201599), 1032: (nan, nan, -0.02652415633201599), 1033: (nan, nan, -0.02652415633201599), 1034: (nan, nan, -0.02652415633201599), 1035: (nan, nan, -0.022592276334762573), 1036: (nan, nan, -0.004735350608825684), 1037: (nan, nan, -0.0066031813621521), 1038: (nan, nan, -0.004776895046234131), 1039: (nan, nan, -0.010589361190795898), 1040: (nan, nan, -0.00012281537055969238), 1041: (nan, nan, -0.00012281537055969238), 1042: (nan, nan, -0.00012281537055969238), 1043: (nan, nan, -0.00039745867252349854), 1044: (nan, nan, -0.00012281537055969238), 1045: (nan, nan, -0.00012281537055969238), 1046: (nan, nan, -0.0002938508987426758), 1047: (nan, nan, -0.0002938508987426758), 1048: (nan, nan, -0.00012281537055969238), 1049: (nan, nan, -0.00012281537055969238), 1050: (nan, nan, -0.00012281537055969238), 1051: (nan, nan, -0.00012281537055969238), 1052: (nan, nan, -0.00012281537055969238), 1053: (nan, nan, -0.00012281537055969238), 1054: (nan, nan, -0.00012281537055969238), 1055: (nan, nan, -0.0002938508987426758), 1056: (nan, nan, 0.0), 1057: (nan, nan, 0.0), 1058: (nan, nan, 0.0), 1059: (nan, nan, 0.0), 1060: (nan, nan, -0.014216721057891846), 1061: (nan, nan, -0.014216721057891846), 1062: (nan, nan, -0.014216721057891846), 1063: (nan, nan, -0.014416754245758057), 1064: (nan, nan, -0.014216721057891846), 1065: (nan, nan, -0.014216721057891846), 1066: (nan, nan, -0.01914075016975403), 1067: (nan, nan, -0.01928699016571045), 1068: (nan, nan, -0.014216721057891846), 1069: (nan, nan, -0.014216721057891846), 1070: (nan, nan, -0.014216721057891846), 1071: (nan, nan, -0.014216721057891846), 1072: (nan, nan, -0.014216721057891846), 1073: (nan, nan, -0.014216721057891846), 1074: (nan, nan, -0.014216721057891846), 1075: (nan, nan, -0.009701400995254517), 1076: (nan, nan, -0.00027501583099365234), 1077: (nan, nan, -0.0010747909545898438), 1078: (nan, nan, -5.2034854888916016e-05), 1079: (nan, nan, -0.002959311008453369), 1080: (nan, nan, -0.00010269880294799805), 1081: (nan, nan, -0.00010269880294799805), 1082: (nan, nan, -0.00010269880294799805), 1083: (nan, nan, 0.0024707168340682983), 1084: (nan, nan, -0.00010269880294799805), 1085: (nan, nan, -0.00010269880294799805), 1086: (nan, nan, 0.00019171833992004395), 1087: (nan, nan, 0.00024452805519104004), 1088: (nan, nan, -0.00010269880294799805), 1089: (nan, nan, -0.00010269880294799805), 1090: (nan, nan, -0.00010269880294799805), 1091: (nan, nan, -0.00010269880294799805), 1092: (nan, nan, -0.00010269880294799805), 1093: (nan, nan, -0.00010269880294799805), 1094: (nan, nan, -0.00010269880294799805), 1095: (nan, nan, 0.00038102269172668457), 1096: (nan, nan, -0.00028443336486816406), 1097: (nan, nan, -0.00010007619857788086), 1098: (nan, nan, -0.00037610530853271484), 1099: (nan, nan, -0.00026351213455200195), 1100: (nan, nan, 0.013165175914764404), 1101: (nan, nan, 0.013165175914764404), 1102: (nan, nan, 0.013165175914764404), 1103: (nan, nan, 0.01448085904121399), 1104: (nan, nan, 0.013165175914764404), 1105: (nan, nan, 0.013165175914764404), 1106: (nan, nan, 0.01583808660507202), 1107: (nan, nan, 0.01656055450439453), 1108: (nan, nan, 0.013165175914764404), 1109: (nan, nan, 0.013165175914764404), 1110: (nan, nan, 0.013165175914764404), 1111: (nan, nan, 0.013165175914764404), 1112: (nan, nan, 0.013165175914764404), 1113: (nan, nan, 0.013165175914764404), 1114: (nan, nan, 0.013165175914764404), 1115: (nan, nan, 0.01232069730758667), 1116: (nan, nan, 0.003760099411010742), 1117: (nan, nan, 0.004921913146972656), 1118: (nan, nan, 0.0026398301124572754), 1119: (nan, nan, 0.005099475383758545), 1120: (nan, nan, -0.0004719197750091553), 1121: (nan, nan, -0.0004719197750091553), 1122: (nan, nan, -0.0004719197750091553), 1123: (nan, nan, -0.0015397071838378906), 1124: (nan, nan, -0.0004719197750091553), 1125: (nan, nan, -0.0004719197750091553), 1126: (nan, nan, -0.0031348764896392822), 1127: (nan, nan, -0.002288639545440674), 1128: (nan, nan, -0.0004719197750091553), 1129: (nan, nan, -0.0004719197750091553), 1130: (nan, nan, -0.0004719197750091553), 1131: (nan, nan, -0.0004719197750091553), 1132: (nan, nan, -0.0004719197750091553), 1133: (nan, nan, -0.0004719197750091553), 1134: (nan, nan, -0.0004719197750091553), 1135: (nan, nan, -0.00011414289474487305), 1136: (nan, nan, 0.0014938712120056152), 1137: (nan, nan, 0.0015652775764465332), 1138: (nan, nan, 0.0013530850410461426), 1139: (nan, nan, 0.0015025734901428223), 1140: (nan, nan, 0.019027680158615112), 1141: (nan, nan, 0.019027680158615112), 1142: (nan, nan, 0.019027680158615112), 1143: (nan, nan, 0.011717021465301514), 1144: (nan, nan, 0.019027680158615112), 1145: (nan, nan, 0.019027680158615112), 1146: (nan, nan, 0.020502060651779175), 1147: (nan, nan, 0.022785544395446777), 1148: (nan, nan, 0.019027680158615112), 1149: (nan, nan, 0.019027680158615112), 1150: (nan, nan, 0.019027680158615112), 1151: (nan, nan, 0.019027680158615112), 1152: (nan, nan, 0.019027680158615112), 1153: (nan, nan, 0.019027680158615112), 1154: (nan, nan, 0.019027680158615112), 1155: (nan, nan, 0.01674094796180725), 1156: (nan, nan, 0.009696602821350098), 1157: (nan, nan, 0.01071929931640625), 1158: (nan, nan, 0.009159505367279053), 1159: (nan, nan, 0.010848283767700195), 1160: (nan, nan, 0.0), 1161: (nan, nan, 0.0), 1162: (nan, nan, 0.0), 1163: (nan, nan, 0.0), 1164: (nan, nan, 0.0), 1165: (nan, nan, 0.0), 1166: (nan, nan, 0.0), 1167: (nan, nan, 0.0), 1168: (nan, nan, 0.0), 1169: (nan, nan, 0.0), 1170: (nan, nan, 0.0), 1171: (nan, nan, 0.0), 1172: (nan, nan, 0.0), 1173: (nan, nan, 0.0), 1174: (nan, nan, 0.0), 1175: (nan, nan, 0.0), 1176: (nan, nan, 0.0), 1177: (nan, nan, 0.0), 1178: (nan, nan, 0.0), 1179: (nan, nan, 0.0), 1180: (nan, nan, 0.008115291595458984), 1181: (nan, nan, 0.008115291595458984), 1182: (nan, nan, 0.008115291595458984), 1183: (nan, nan, 0.009670376777648926), 1184: (nan, nan, 0.008115291595458984), 1185: (nan, nan, 0.008115291595458984), 1186: (nan, nan, 0.007500439882278442), 1187: (nan, nan, 0.008206546306610107), 1188: (nan, nan, 0.008115291595458984), 1189: (nan, nan, 0.008115291595458984), 1190: (nan, nan, 0.008115291595458984), 1191: (nan, nan, 0.008115291595458984), 1192: (nan, nan, 0.008115291595458984), 1193: (nan, nan, 0.008115291595458984), 1194: (nan, nan, 0.008115291595458984), 1195: (nan, nan, 0.007561147212982178), 1196: (nan, nan, 0.0032308101654052734), 1197: (nan, nan, 0.0038260817527770996), 1198: (nan, nan, 0.0022309422492980957), 1199: (nan, nan, 0.00373154878616333), 1200: (nan, nan, 0.01572558283805847), 1201: (nan, nan, 0.01572558283805847), 1202: (nan, nan, 0.01572558283805847), 1203: (nan, nan, 0.006344839930534363), 1204: (nan, nan, 0.01572558283805847), 1205: (nan, nan, 0.01572558283805847), 1206: (nan, nan, 0.013409137725830078), 1207: (nan, nan, 0.017647504806518555), 1208: (nan, nan, 0.01572558283805847), 1209: (nan, nan, 0.01572558283805847), 1210: (nan, nan, 0.01572558283805847), 1211: (nan, nan, 0.01572558283805847), 1212: (nan, nan, 0.01572558283805847), 1213: (nan, nan, 0.01572558283805847), 1214: (nan, nan, 0.01572558283805847), 1215: (nan, nan, 0.013890683650970459), 1216: (nan, nan, 0.01218414306640625), 1217: (nan, nan, 0.012942194938659668), 1218: (nan, nan, 0.011865317821502686), 1219: (nan, nan, 0.013067483901977539), 1220: (nan, nan, -0.03573131561279297), 1221: (nan, nan, -0.03573131561279297), 1222: (nan, nan, -0.03573131561279297), 1223: (nan, nan, -0.04492883384227753), 1224: (nan, nan, -0.03573131561279297), 1225: (nan, nan, -0.03573131561279297), 1226: (nan, nan, -0.04580238461494446), 1227: (nan, nan, -0.04543006420135498), 1228: (nan, nan, -0.03573131561279297), 1229: (nan, nan, -0.03573131561279297), 1230: (nan, nan, -0.03573131561279297), 1231: (nan, nan, -0.03573131561279297), 1232: (nan, nan, -0.03573131561279297), 1233: (nan, nan, -0.03573131561279297), 1234: (nan, nan, -0.03573131561279297), 1235: (nan, nan, -0.03155946731567383), 1236: (nan, nan, -0.007356584072113037), 1237: (nan, nan, -0.011285603046417236), 1238: (nan, nan, -0.004589855670928955), 1239: (nan, nan, -0.01417243480682373), 1240: (nan, nan, 0.02739623188972473), 1241: (nan, nan, 0.02739623188972473), 1242: (nan, nan, 0.02739623188972473), 1243: (nan, nan, 0.007373258471488953), 1244: (nan, nan, 0.02739623188972473), 1245: (nan, nan, 0.02739623188972473), 1246: (nan, nan, 0.009864643216133118), 1247: (nan, nan, 0.011508673429489136), 1248: (nan, nan, 0.02739623188972473), 1249: (nan, nan, 0.02739623188972473), 1250: (nan, nan, 0.02739623188972473), 1251: (nan, nan, 0.02739623188972473), 1252: (nan, nan, 0.02739623188972473), 1253: (nan, nan, 0.02739623188972473), 1254: (nan, nan, 0.02739623188972473), 1255: (nan, nan, 0.06684347987174988), 1256: (nan, nan, 0.024304836988449097), 1257: (nan, nan, 0.0466156005859375), 1258: (nan, nan, 0.020101964473724365), 1259: (nan, nan, 0.0), 1260: (nan, nan, -0.015496551990509033), 1261: (nan, nan, -0.015496551990509033), 1262: (nan, nan, -0.015496551990509033), 1263: (nan, nan, -0.01134471595287323), 1264: (nan, nan, -0.015496551990509033), 1265: (nan, nan, -0.015496551990509033), 1266: (nan, nan, -0.01077483594417572), 1267: (nan, nan, -0.012276843190193176), 1268: (nan, nan, -0.015496551990509033), 1269: (nan, nan, -0.015496551990509033), 1270: (nan, nan, -0.015496551990509033), 1271: (nan, nan, -0.015496551990509033), 1272: (nan, nan, -0.015496551990509033), 1273: (nan, nan, -0.015496551990509033), 1274: (nan, nan, -0.015496551990509033), 1275: (nan, nan, -0.04380518198013306), 1276: (nan, nan, -0.014041751623153687), 1277: (nan, nan, -0.05094835162162781), 1278: (nan, nan, -0.014071345329284668), 1279: (nan, nan, 0.0), 1280: (nan, nan, -0.000595584511756897), 1281: (nan, nan, -0.000595584511756897), 1282: (nan, nan, -0.000595584511756897), 1283: (nan, nan, -0.0008827447891235352), 1284: (nan, nan, -0.000595584511756897), 1285: (nan, nan, -0.000595584511756897), 1286: (nan, nan, -0.0003338754177093506), 1287: (nan, nan, -0.0003688931465148926), 1288: (nan, nan, -0.000595584511756897), 1289: (nan, nan, -0.000595584511756897), 1290: (nan, nan, -0.000595584511756897), 1291: (nan, nan, -0.000595584511756897), 1292: (nan, nan, -0.000595584511756897), 1293: (nan, nan, -0.000595584511756897), 1294: (nan, nan, -0.000595584511756897), 1295: (nan, nan, 0.0038538873195648193), 1296: (nan, nan, 0.004460662603378296), 1297: (nan, nan, 0.0), 1298: (nan, nan, 0.0035857558250427246), 1299: (nan, nan, 0.0), 1300: (nan, nan, 0.02446708083152771), 1301: (nan, nan, 0.02446708083152771), 1302: (nan, nan, 0.02446708083152771), 1303: (nan, nan, 0.0003757774829864502), 1304: (nan, nan, 0.02446708083152771), 1305: (nan, nan, 0.02446708083152771), 1306: (nan, nan, 0.00382019579410553), 1307: (nan, nan, 0.01236136257648468), 1308: (nan, nan, 0.02446708083152771), 1309: (nan, nan, 0.02446708083152771), 1310: (nan, nan, 0.02446708083152771), 1311: (nan, nan, 0.02446708083152771), 1312: (nan, nan, 0.02446708083152771), 1313: (nan, nan, 0.02446708083152771), 1314: (nan, nan, 0.02446708083152771), 1315: (nan, nan, 0.0604570209980011), 1316: (nan, nan, 0.048052459955215454), 1317: (nan, nan, 0.0750790536403656), 1318: (nan, nan, 0.04453405737876892), 1319: (nan, nan, 0.045022547245025635), 1320: (nan, nan, 0.0137614905834198), 1321: (nan, nan, 0.0137614905834198), 1322: (nan, nan, 0.0137614905834198), 1323: (nan, nan, -0.002229154109954834), 1324: (nan, nan, 0.0137614905834198), 1325: (nan, nan, 0.0137614905834198), 1326: (nan, nan, 0.0021328628063201904), 1327: (nan, nan, 0.009286567568778992), 1328: (nan, nan, 0.0137614905834198), 1329: (nan, nan, 0.0137614905834198), 1330: (nan, nan, 0.0137614905834198), 1331: (nan, nan, 0.0137614905834198), 1332: (nan, nan, 0.0137614905834198), 1333: (nan, nan, 0.0137614905834198), 1334: (nan, nan, 0.0137614905834198), 1335: (nan, nan, 0.01709654927253723), 1336: (nan, nan, 0.032069385051727295), 1337: (nan, nan, 0.05450725555419922), 1338: (nan, nan, 0.028557121753692627), 1339: (nan, nan, 0.0), 1340: (nan, nan, 0.007681161165237427), 1341: (nan, nan, 0.007681161165237427), 1342: (nan, nan, 0.007681161165237427), 1343: (nan, nan, 0.003741845488548279), 1344: (nan, nan, 0.007681161165237427), 1345: (nan, nan, 0.007681161165237427), 1346: (nan, nan, 0.006566166877746582), 1347: (nan, nan, 0.0057896822690963745), 1348: (nan, nan, 0.007681161165237427), 1349: (nan, nan, 0.007681161165237427), 1350: (nan, nan, 0.007681161165237427), 1351: (nan, nan, 0.007681161165237427), 1352: (nan, nan, 0.007681161165237427), 1353: (nan, nan, 0.007681161165237427), 1354: (nan, nan, 0.007681161165237427), 1355: (nan, nan, 0.021529674530029297), 1356: (nan, nan, 0.020808130502700806), 1357: (nan, nan, 0.0), 1358: (nan, nan, 0.021237492561340332), 1359: (nan, nan, 0.0), 1360: (nan, nan, 0.0), 1361: (nan, nan, 0.0), 1362: (nan, nan, 0.0), 1363: (nan, nan, 0.0), 1364: (nan, nan, 0.0), 1365: (nan, nan, 0.0), 1366: (nan, nan, 0.0), 1367: (nan, nan, 0.0), 1368: (nan, nan, 0.0), 1369: (nan, nan, 0.0), 1370: (nan, nan, 0.0), 1371: (nan, nan, 0.0), 1372: (nan, nan, 0.0), 1373: (nan, nan, 0.0), 1374: (nan, nan, 0.0), 1375: (nan, nan, 0.0), 1376: (nan, nan, 0.0), 1377: (nan, nan, 0.0), 1378: (nan, nan, 0.0), 1379: (nan, nan, 0.0), 1380: (nan, nan, 0.02345860004425049), 1381: (nan, nan, 0.02345860004425049), 1382: (nan, nan, 0.02345860004425049), 1383: (nan, nan, -0.0001437664031982422), 1384: (nan, nan, 0.02345860004425049), 1385: (nan, nan, 0.02345860004425049), 1386: (nan, nan, 0.0042459964752197266), 1387: (nan, nan, 0.01132647693157196), 1388: (nan, nan, 0.02345860004425049), 1389: (nan, nan, 0.02345860004425049), 1390: (nan, nan, 0.02345860004425049), 1391: (nan, nan, 0.02345860004425049), 1392: (nan, nan, 0.02345860004425049), 1393: (nan, nan, 0.02345860004425049), 1394: (nan, nan, 0.02345860004425049), 1395: (nan, nan, 0.0604570209980011), 1396: (nan, nan, 0.042081862688064575), 1397: (nan, nan, 0.06664350628852844), 1398: (nan, nan, 0.038931429386138916), 1399: (nan, nan, 0.0), 1400: (nan, nan, 0.002315223217010498), 1401: (nan, nan, 0.002315223217010498), 1402: (nan, nan, 0.002315223217010498), 1403: (nan, nan, 0.004573389887809753), 1404: (nan, nan, 0.002315223217010498), 1405: (nan, nan, 0.002315223217010498), 1406: (nan, nan, 0.004645615816116333), 1407: (nan, nan, 0.00362241268157959), 1408: (nan, nan, 0.002315223217010498), 1409: (nan, nan, 0.002315223217010498), 1410: (nan, nan, 0.002315223217010498), 1411: (nan, nan, 0.002315223217010498), 1412: (nan, nan, 0.002315223217010498), 1413: (nan, nan, 0.002315223217010498), 1414: (nan, nan, 0.002315223217010498), 1415: (nan, nan, 0.004463911056518555), 1416: (nan, nan, -0.003791719675064087), 1417: (nan, nan, 0.0), 1418: (nan, nan, -0.0006495416164398193), 1419: (nan, nan, 0.0), 1420: (nan, nan, -0.04013589024543762), 1421: (nan, nan, -0.04013589024543762), 1422: (nan, nan, -0.04013589024543762), 1423: (nan, nan, -0.00948876142501831), 1424: (nan, nan, -0.04013589024543762), 1425: (nan, nan, -0.04013589024543762), 1426: (nan, nan, -0.01270119845867157), 1427: (nan, nan, -0.011387601494789124), 1428: (nan, nan, -0.04013589024543762), 1429: (nan, nan, -0.04013589024543762), 1430: (nan, nan, -0.04013589024543762), 1431: (nan, nan, -0.04013589024543762), 1432: (nan, nan, -0.04013589024543762), 1433: (nan, nan, -0.04013589024543762), 1434: (nan, nan, -0.04013589024543762), 1435: (nan, nan, -0.05920085310935974), 1436: (nan, nan, -0.046412646770477295), 1437: (nan, nan, -0.05517074465751648), 1438: (nan, nan, -0.041578829288482666), 1439: (nan, nan, -0.06722745299339294)}\n"
          ]
        }
      ]
    }
  ]
}