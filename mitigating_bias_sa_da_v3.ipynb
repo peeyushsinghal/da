{
  "nbformat": 4,
  "nbformat_minor": 0,
  "metadata": {
    "colab": {
      "provenance": [],
      "collapsed_sections": [],
      "toc_visible": true,
      "authorship_tag": "ABX9TyNWEbmMIJeM46a/jpiY/I2N",
      "include_colab_link": true
    },
    "kernelspec": {
      "name": "python3",
      "display_name": "Python 3"
    },
    "language_info": {
      "name": "python"
    },
    "gpuClass": "standard",
    "accelerator": "GPU"
  },
  "cells": [
    {
      "cell_type": "markdown",
      "metadata": {
        "id": "view-in-github",
        "colab_type": "text"
      },
      "source": [
        "<a href=\"https://colab.research.google.com/github/peeyushsinghal/da/blob/main/mitigating_bias_sa_da_v3.ipynb\" target=\"_parent\"><img src=\"https://colab.research.google.com/assets/colab-badge.svg\" alt=\"Open In Colab\"/></a>"
      ]
    },
    {
      "cell_type": "markdown",
      "source": [
        "# Mitigating bias in sentiment analysis using domain adaptation"
      ],
      "metadata": {
        "id": "smhY2FyQoMJY"
      }
    },
    {
      "cell_type": "code",
      "source": [
        "! pip install ekphrasis --quiet # library to pre process twitter data\n",
        "! pip install emoji --upgrade --quiet #library to deal with emoji data\n",
        "!pip install torchtext==0.10.0 --quiet # DOWNGRADE YOUR TORCHTEXT"
      ],
      "metadata": {
        "colab": {
          "base_uri": "https://localhost:8080/"
        },
        "id": "RS_tIhlS2jzV",
        "outputId": "35c99521-bec6-4af4-8376-85c02aea745f"
      },
      "execution_count": 1,
      "outputs": [
        {
          "output_type": "stream",
          "name": "stdout",
          "text": [
            "\u001b[K     |████████████████████████████████| 83 kB 899 kB/s \n",
            "\u001b[K     |████████████████████████████████| 53 kB 863 kB/s \n",
            "\u001b[K     |████████████████████████████████| 45 kB 1.2 MB/s \n",
            "\u001b[K     |████████████████████████████████| 240 kB 5.1 MB/s \n",
            "\u001b[?25h  Building wheel for emoji (setup.py) ... \u001b[?25l\u001b[?25hdone\n",
            "\u001b[K     |████████████████████████████████| 7.6 MB 5.3 MB/s \n",
            "\u001b[K     |████████████████████████████████| 831.4 MB 2.6 kB/s \n",
            "\u001b[31mERROR: pip's dependency resolver does not currently take into account all the packages that are installed. This behaviour is the source of the following dependency conflicts.\n",
            "torchvision 0.13.1+cu113 requires torch==1.12.1, but you have torch 1.9.0 which is incompatible.\n",
            "torchaudio 0.12.1+cu113 requires torch==1.12.1, but you have torch 1.9.0 which is incompatible.\u001b[0m\n",
            "\u001b[?25h"
          ]
        }
      ]
    },
    {
      "cell_type": "code",
      "source": [
        "## Import statements\n",
        "import pandas as pd\n",
        "import os\n",
        "import torch\n",
        "from torch.utils.data import Dataset, DataLoader\n",
        "from torchtext.legacy.data import Dataset, Field, TabularDataset, BucketIterator\n",
        "from torchtext.vocab import GloVe\n",
        "import numpy as np\n",
        "from ekphrasis.classes.preprocessor import TextPreProcessor\n",
        "from ekphrasis.classes.tokenizer import SocialTokenizer\n",
        "from ekphrasis.dicts.emoticons import emoticons\n",
        "import emoji\n",
        "from torchtext.legacy.vocab import Vectors\n",
        "from tqdm import tqdm\n",
        "import random\n",
        "import torch.optim as optim\n",
        "# import json"
      ],
      "metadata": {
        "id": "ObCLSMyRohfP"
      },
      "execution_count": 2,
      "outputs": []
    },
    {
      "cell_type": "code",
      "source": [
        "# checking device\n",
        "DEVICE = torch.device(\"cuda\" if torch.cuda.is_available() else \"cpu\")\n",
        "print(\"Running on:{}\".format(DEVICE))"
      ],
      "metadata": {
        "colab": {
          "base_uri": "https://localhost:8080/"
        },
        "id": "lzQzb_SFoqdX",
        "outputId": "800eff44-b0a8-47d3-aaf4-83171b6c8fa7"
      },
      "execution_count": 3,
      "outputs": [
        {
          "output_type": "stream",
          "name": "stdout",
          "text": [
            "Running on:cpu\n"
          ]
        }
      ]
    },
    {
      "cell_type": "markdown",
      "source": [
        "## Data loading"
      ],
      "metadata": {
        "id": "xjIR3OrQoSEQ"
      }
    },
    {
      "cell_type": "code",
      "source": [
        "#Mounting google drive\n",
        "from google.colab import drive\n",
        "drive.mount('/content/drive', force_remount=True)"
      ],
      "metadata": {
        "colab": {
          "base_uri": "https://localhost:8080/"
        },
        "id": "6rI_zEuloY4U",
        "outputId": "3a5f33fc-7e31-403e-e6a9-66d7b95da6ff"
      },
      "execution_count": 4,
      "outputs": [
        {
          "output_type": "stream",
          "name": "stdout",
          "text": [
            "Mounted at /content/drive\n"
          ]
        }
      ]
    },
    {
      "cell_type": "markdown",
      "source": [
        "## Data Configuration"
      ],
      "metadata": {
        "id": "o_kVI7furv8T"
      }
    },
    {
      "cell_type": "code",
      "source": [
        "BASE_PATH = '/content/drive/MyDrive/semeval-2018'\n",
        "DATA_DIR = os.path.join(BASE_PATH,'datasets')\n",
        "MODEL_DIR = os.path.join(BASE_PATH,'models')\n",
        "REF_DIR = os.path.join(BASE_PATH,'reference')\n",
        "\n",
        "if not os.path.exists(MODEL_DIR):\n",
        "  os.makedirs(MODEL_DIR)\n",
        "  print(\"The new directory is created!\")\n",
        "\n",
        "domain_source = 0.0\n",
        "domain_target = 1.0"
      ],
      "metadata": {
        "id": "052h66kcr6KV"
      },
      "execution_count": 5,
      "outputs": []
    },
    {
      "cell_type": "code",
      "source": [
        "class TASK1(object):\n",
        "  \n",
        "    EI_reg = {\n",
        "        'anger': {\n",
        "            'train': os.path.join(\n",
        "                DATA_DIR, 'task1/EI-reg/training/EI-reg-En-anger-train.txt'),\n",
        "            'dev': os.path.join(\n",
        "                DATA_DIR, 'task1/EI-reg/development/2018-EI-reg-En-anger-dev.txt'),\n",
        "            'gold': os.path.join(\n",
        "                DATA_DIR, 'task1/EI-reg/test-gold/2018-EI-reg-En-anger-test-gold.txt')\n",
        "                },\n",
        "        'joy': {\n",
        "                'train': os.path.join(\n",
        "                    DATA_DIR, 'task1/EI-reg/training/EI-reg-En-joy-train.txt'),\n",
        "                'dev': os.path.join(\n",
        "                    DATA_DIR, 'task1/EI-reg/development/2018-EI-reg-En-joy-dev.txt'),\n",
        "                'gold': os.path.join(\n",
        "                    DATA_DIR, 'task1/EI-reg/test-gold/2018-EI-reg-En-joy-test-gold.txt')\n",
        "                    }\n",
        "        }\n",
        "\n",
        "    # V_reg = {\n",
        "    #     'train': os.path.join(\n",
        "    #         DATA_DIR, 'task1/V-reg/2018-Valence-reg-En-train.txt'),\n",
        "    #     'dev': os.path.join(\n",
        "    #         DATA_DIR, 'task1/V-reg/2018-Valence-reg-En-dev.txt'),\n",
        "    #     'gold': os.path.join(\n",
        "    #         DATA_DIR, 'task1/V-reg/2018-Valence-reg-En-test-gold.txt')\n",
        "    #          }\n",
        "\n",
        "    # EEC = {\n",
        "    #     'eec': os.path.join(\n",
        "    #         DATA_DIR, 'task1/Equity-Evaluation-Corpus/Equity-Evaluation-Corpus.csv')\n",
        "    #          }"
      ],
      "metadata": {
        "id": "qn0ixH3-sC1y"
      },
      "execution_count": 6,
      "outputs": []
    },
    {
      "cell_type": "markdown",
      "source": [
        "## Source Data\n",
        "Parsing Emotion and Valence regression data : `format [ID\tTweet\tAffect Dimension\tIntensity Score]`"
      ],
      "metadata": {
        "id": "Gvy12RtIsqyE"
      }
    },
    {
      "cell_type": "code",
      "source": [
        "def parse_reg(data_file, label_format='tuple'):#->  pd.DataFrame:\n",
        "    \"\"\"\n",
        "    This is for datasets for the EI-reg and V-reg English tasks \n",
        "    Returns:\n",
        "        df: dataframe with columns in the first row of file [ID-Tweet-Affect Dimension-Intensity Score]\n",
        "    \"\"\"\n",
        "    with open(data_file, 'r') as fd:\n",
        "      data = [l.strip().split('\\t') for l in fd.readlines()]\n",
        "    \n",
        "    # print(data)\n",
        "    df = pd.DataFrame (data[1:],columns=data[0])\n",
        "    csv_file_name = (data_file.split(\"/\")[-1]).split('.')[0]+\".csv\"\n",
        "    csv_file = df.to_csv(str(csv_file_name))\n",
        "    # df['domain'] = domain_source\n",
        "    return csv_file_name\n",
        "    # return df"
      ],
      "metadata": {
        "id": "Df43LU3ztDAk"
      },
      "execution_count": 7,
      "outputs": []
    },
    {
      "cell_type": "code",
      "source": [
        "parse_reg(os.path.join(DATA_DIR, 'task1/EI-reg/training/EI-reg-En-joy-train.txt'))"
      ],
      "metadata": {
        "colab": {
          "base_uri": "https://localhost:8080/",
          "height": 36
        },
        "id": "K784ApxTavkE",
        "outputId": "3581862f-9e05-4bba-a447-5a69b17739d1"
      },
      "execution_count": 8,
      "outputs": [
        {
          "output_type": "execute_result",
          "data": {
            "text/plain": [
              "'EI-reg-En-joy-train.csv'"
            ],
            "application/vnd.google.colaboratory.intrinsic+json": {
              "type": "string"
            }
          },
          "metadata": {},
          "execution_count": 8
        }
      ]
    },
    {
      "cell_type": "markdown",
      "source": [
        "## Source Parser\n",
        "Generic Source Data Parser"
      ],
      "metadata": {
        "id": "VTmAiHnBZBKF"
      }
    },
    {
      "cell_type": "code",
      "source": [
        "def parse_csv(task, dataset, emotion='anger'):\n",
        "    if task == 'EI-reg':\n",
        "        data_train = TASK1.EI_reg[emotion][dataset]\n",
        "        csv_file_name = parse_reg(data_train)\n",
        "        return csv_file_name\n",
        "        # df[df.columns[-1]] = df[df.columns[-1]].astype(float)\n",
        "        # return df\n",
        "    # elif task == 'V-reg':\n",
        "    #     data_train = TASK1.V_reg[dataset]\n",
        "    #     df = parse_reg(data_train)\n",
        "    #     df[df.columns[-1]] = df[df.columns[-1]].astype(float)\n",
        "    #     return df\n",
        "    else:\n",
        "        return None"
      ],
      "metadata": {
        "id": "e8eUaJgB0UhP"
      },
      "execution_count": 9,
      "outputs": []
    },
    {
      "cell_type": "code",
      "source": [
        "file_EI_reg_train = parse_csv('EI-reg','train','joy')\n",
        "file_EI_reg_train\n",
        "\n",
        "file_EI_reg_test = parse_csv('EI-reg','gold','joy')\n",
        "(file_EI_reg_test)"
      ],
      "metadata": {
        "colab": {
          "base_uri": "https://localhost:8080/",
          "height": 36
        },
        "id": "ilCPodjN0n1e",
        "outputId": "d52d27a9-efac-4313-b466-0ed88c9b552b"
      },
      "execution_count": 10,
      "outputs": [
        {
          "output_type": "execute_result",
          "data": {
            "text/plain": [
              "'2018-EI-reg-En-joy-test-gold.csv'"
            ],
            "application/vnd.google.colaboratory.intrinsic+json": {
              "type": "string"
            }
          },
          "metadata": {},
          "execution_count": 10
        }
      ]
    },
    {
      "cell_type": "markdown",
      "source": [
        "## Preprocess tweets"
      ],
      "metadata": {
        "id": "9IO21vV_2wQk"
      }
    },
    {
      "cell_type": "code",
      "source": [
        "# reference : https://github.com/cbaziotis/ekphrasis\n",
        "\n",
        "\n",
        "text_processor = TextPreProcessor(\n",
        "    # terms that will be normalized\n",
        "    normalize=['url', 'email', 'percent', 'money', 'phone', 'user',\n",
        "        'time', 'url', 'date', 'number'],\n",
        "    # terms that will be annotated\n",
        "    annotate={\"hashtag\", \"allcaps\", \"elongated\", \"repeated\",\n",
        "        'emphasis', 'censored'},\n",
        "    fix_html=True,  # fix HTML tokens\n",
        "    \n",
        "    # corpus from which the word statistics are going to be used \n",
        "    # for word segmentation \n",
        "    segmenter=\"twitter\", \n",
        "    \n",
        "    # corpus from which the word statistics are going to be used \n",
        "    # for spell correction\n",
        "    corrector=\"twitter\", \n",
        "    \n",
        "    unpack_hashtags=True,  # perform word segmentation on hashtags\n",
        "    unpack_contractions=True,  # Unpack contractions (can't -> can not)\n",
        "    spell_correct_elong=False,  # spell correction for elongated words\n",
        "    \n",
        "    # select a tokenizer. You can use SocialTokenizer, or pass your own\n",
        "    # the tokenizer, should take as input a string and return a list of tokens\n",
        "    tokenizer=SocialTokenizer(lowercase=True).tokenize,\n",
        "    \n",
        "    # list of dictionaries, for replacing tokens extracted from the text,\n",
        "    # with other expressions. You can pass more than one dictionaries.\n",
        "    dicts=[emoticons]\n",
        ")"
      ],
      "metadata": {
        "colab": {
          "base_uri": "https://localhost:8080/"
        },
        "id": "tI6dZ6hY009m",
        "outputId": "f6882748-1450-4ea8-dd5b-1e5122766089"
      },
      "execution_count": 11,
      "outputs": [
        {
          "output_type": "stream",
          "name": "stderr",
          "text": [
            "/usr/local/lib/python3.7/dist-packages/ekphrasis/classes/tokenizer.py:225: FutureWarning: Possible nested set at position 2190\n",
            "  self.tok = re.compile(r\"({})\".format(\"|\".join(pipeline)))\n"
          ]
        },
        {
          "output_type": "stream",
          "name": "stdout",
          "text": [
            "Word statistics files not found!\n",
            "Downloading... done!\n",
            "Unpacking... done!\n",
            "Reading twitter - 1grams ...\n",
            "generating cache file for faster loading...\n",
            "reading ngrams /root/.ekphrasis/stats/twitter/counts_1grams.txt\n",
            "Reading twitter - 2grams ...\n",
            "generating cache file for faster loading...\n",
            "reading ngrams /root/.ekphrasis/stats/twitter/counts_2grams.txt\n",
            "Reading twitter - 1grams ...\n"
          ]
        },
        {
          "output_type": "stream",
          "name": "stderr",
          "text": [
            "/usr/local/lib/python3.7/dist-packages/ekphrasis/classes/exmanager.py:14: FutureWarning: Possible nested set at position 42\n",
            "  regexes = {k.lower(): re.compile(self.expressions[k]) for k, v in\n"
          ]
        }
      ]
    },
    {
      "cell_type": "code",
      "source": [
        "# #### Example checks of pre-processing\n",
        "# sentences = [\n",
        "#     \"CANT WAIT for the new season of #TwinPeaks ＼(^o^)／!!! #davidlynch #tvseries :)))\",\n",
        "#     \"I saw the new #johndoe movie and it suuuuucks!!! WAISTED $10... #badmovies :/\",\n",
        "#     \"@SentimentSymp:  can't wait for the Nov 9 #Sentiment talks!  YAAAAAAY !!! :-D http://sentimentsymposium.com/.\",\n",
        "#     \"@MGBarbieri @SpalkTalk a@b.com And just saw your LinkedIn comment after I sent this! Thanks for the message :) 😀\",\n",
        "#     \"💙💛🏆 @GeorgeePitman Young Player of The Season 🏆💛💙 #irony #actuallyseventy\"\n",
        "# ]\n",
        "\n",
        "# for s in sentences:\n",
        "#     print(\" \".join(text_processor.pre_process_doc(s)))\n",
        "# # print ([text_processor.pre_process_doc(s) for s in sentences])"
      ],
      "metadata": {
        "id": "i8ixRElK29DM"
      },
      "execution_count": 12,
      "outputs": []
    },
    {
      "cell_type": "code",
      "source": [
        "def preprocess_tweet(tweet): \n",
        "  tweet_processed = text_processor.pre_process_doc(tweet)\n",
        "  # print (tweet_processed)\n",
        "  final_list =[]\n",
        "  for index, tweet in enumerate(tweet_processed):\n",
        "      final_list.append(emoji.demojize(tweet, language = 'en'))\n",
        "  \n",
        "  # print(df)\n",
        "  return final_list"
      ],
      "metadata": {
        "id": "0CNdYx083SRU"
      },
      "execution_count": 13,
      "outputs": []
    },
    {
      "cell_type": "code",
      "source": [
        "# #### Example checks of pre-processing\n",
        "# sentences = [\n",
        "#     \"CANT WAIT for the new season of #TwinPeaks ＼(^o^)／!!! #davidlynch #tvseries :)))\",\n",
        "#     \"I saw the new #johndoe movie and it suuuuucks!!! WAISTED $10... #badmovies :/\",\n",
        "#     \"@SentimentSymp:  can't wait for the Nov 9 #Sentiment talks!  YAAAAAAY !!! :-D http://sentimentsymposium.com/.\",\n",
        "#     \"@MGBarbieri @SpalkTalk a@b.com And just saw your LinkedIn comment after I sent this! Thanks for the message :) 😀\",\n",
        "#     \"💙💛🏆 @GeorgeePitman Young Player of The Season 🏆💛💙 #irony #actuallyseventy\"\n",
        "# ]\n",
        "\n",
        "# for s in sentences:\n",
        "#   print(preprocess_tweet(s))\n",
        "#   # print(\" \".join(preprocess_tweet(s)))"
      ],
      "metadata": {
        "id": "WU-Ap0fS4Xu8"
      },
      "execution_count": 14,
      "outputs": []
    },
    {
      "cell_type": "markdown",
      "source": [
        "## TorchText Treatment"
      ],
      "metadata": {
        "id": "x4MCSent0MSu"
      }
    },
    {
      "cell_type": "code",
      "source": [
        "MAX_SIZE = 100\n",
        "field_tweet = Field(sequential=True, use_vocab = True, tokenize = preprocess_tweet, fix_length = MAX_SIZE, batch_first = True)\n",
        "# field_tweet = Field(sequential=True, use_vocab = False, tokenize = preprocess_tweet)\n",
        "\n",
        "field_intensity = Field(sequential= False, \n",
        "                        dtype = torch.float,\n",
        "                        use_vocab = False \n",
        "                        )"
      ],
      "metadata": {
        "id": "kbzqLLrz49I7"
      },
      "execution_count": 15,
      "outputs": []
    },
    {
      "cell_type": "code",
      "source": [
        "fields = {\n",
        "    'Tweet':('tweet', field_tweet ), #\n",
        "    'Intensity Score': ('intensity',field_intensity) # Intensity Score is name of the dataset column, field_intensity is how we have defined the field, intensity is the name of the variable going fwd\n",
        "    }"
      ],
      "metadata": {
        "id": "XuInxrUt57rB"
      },
      "execution_count": 16,
      "outputs": []
    },
    {
      "cell_type": "code",
      "source": [
        "train_data, test_data = TabularDataset.splits( path = './', \n",
        "                                              train = file_EI_reg_train, \n",
        "                                              test = file_EI_reg_test,\n",
        "                                              format = 'csv',\n",
        "                                              fields = fields\n",
        "                                          )"
      ],
      "metadata": {
        "id": "w8XrMJMu7jUa"
      },
      "execution_count": 17,
      "outputs": []
    },
    {
      "cell_type": "code",
      "source": [
        "print(train_data[0].__dict__.keys())"
      ],
      "metadata": {
        "colab": {
          "base_uri": "https://localhost:8080/"
        },
        "id": "1rn6sv6QAuf1",
        "outputId": "c018b4f8-f480-4c6f-e3e7-197c0710c181"
      },
      "execution_count": 18,
      "outputs": [
        {
          "output_type": "stream",
          "name": "stdout",
          "text": [
            "dict_keys(['tweet', 'intensity'])\n"
          ]
        }
      ]
    },
    {
      "cell_type": "code",
      "source": [
        "print((train_data[2].__dict__.values()))"
      ],
      "metadata": {
        "colab": {
          "base_uri": "https://localhost:8080/"
        },
        "id": "Wz04CfznBp3V",
        "outputId": "86ece2aa-2a86-4cec-e360-1724d412e01f"
      },
      "execution_count": 19,
      "outputs": [
        {
          "output_type": "stream",
          "name": "stdout",
          "text": [
            "dict_values([['positive', '<hashtag>', 'psychology', '</hashtag>', 'research', 'shows', 'salespeople', 'who', 'score', 'in', 'the', 'top', '<percent>', 'for', '<hashtag>', 'optimism', '</hashtag>', 'have', '<percent>', '>', 'sales', 'than', 'those', 'in', 'top', '<percent>', 'for', 'pessimism', '.'], '0.274'])\n"
          ]
        }
      ]
    },
    {
      "cell_type": "code",
      "source": [
        "count = 0\n",
        "for example in train_data.examples:\n",
        "  print(example.tweet, example.intensity)\n",
        "  count += 1\n",
        "  if count > 10:\n",
        "    break"
      ],
      "metadata": {
        "colab": {
          "base_uri": "https://localhost:8080/"
        },
        "id": "Sx-R5H6ALfwI",
        "outputId": "c334c085-ea5f-42b7-f470-51f87cbe8fe5"
      },
      "execution_count": 20,
      "outputs": [
        {
          "output_type": "stream",
          "name": "stdout",
          "text": [
            "['<user>', 'quite', 'saddened', '.', '<repeated>', 'no', 'us', 'dates', ',', 'no', 'joyous', 'anticipation', 'of', 'attending', 'a', 'dg', 'concert', '(', 'since', '<number>', ')', '.', 'happy', 'you', 'are', 'keeping', 'busy', '.'] 0.140\n",
            "['<number>', 'days', 'until', '<hashtag>', 'go', 'pack', 'go', '</hashtag>', 'and', '<number>', 'days', 'until', '<hashtag>', 'go', 'gipe', 'go', '</hashtag>', '.', '<repeated>', 'i', 'am', 'so', 'excited', '!'] 0.792\n",
            "['positive', '<hashtag>', 'psychology', '</hashtag>', 'research', 'shows', 'salespeople', 'who', 'score', 'in', 'the', 'top', '<percent>', 'for', '<hashtag>', 'optimism', '</hashtag>', 'have', '<percent>', '>', 'sales', 'than', 'those', 'in', 'top', '<percent>', 'for', 'pessimism', '.'] 0.274\n",
            "['as', 'the', 'birds', 'chirp', 'and', 'the', 'cows', 'moo', 'we', 'need', 'to', 'listen', 'to', 'the', 'sound', 'of', 'nature', 'to', 'ensure', 'that', 'all', 'is', 'well', '.'] 0.480\n",
            "['howling', 'with', 'laughter', 'at', '“', '<allcaps>', 'well', 'done', 'bezza', '</allcaps>', '!', '”', '<hashtag>', 'bake', 'off', '</hashtag>', '<hashtag>', 'gbbo', '</hashtag>'] 0.940\n",
            "['<user>', 'afternoon', 'delight'] 0.539\n",
            "['<user>', 'defo', 'a', 'hearty', 'root', 'veg', 'gratin', '.', 'nice', 'comfort', 'food', 'as', 'autumn', 'kicks', 'in'] 0.480\n",
            "['as', 'i', 'remember', 'and', 'reflect', 'on', 'reginald', 'denny', 'on', 'a', 'night', 'much', 'like', 'this', '(', 'like', '<hashtag>', 'charlotte', '</hashtag>', ')', 'i', 'think', 'to', 'myself', ',', 'the', 'gun', 'lobby', 'must', 'be', 'rejoicing', '.'] 0.422\n",
            "['<user>', 'that', \"'\", 's', 'the', 'spirit', '<hashtag>', 'optimism', '</hashtag>'] 0.396\n",
            "['<user>', '<user>', 'also', 'a'] 0.340\n",
            "['<user>', 'thank', 'you', 'for', 'that', ',', 'the', 'notification', 'came', 'in', 'the', 'nick', 'of', 'time', 'to', 'cheer', 'me', 'up', '-', 'have', 'to', 're', '-', 'tweet'] 0.708\n"
          ]
        }
      ]
    },
    {
      "cell_type": "markdown",
      "source": [
        "## Building iterator and Vocabulary"
      ],
      "metadata": {
        "id": "V3CoFQZDLtVO"
      }
    },
    {
      "cell_type": "code",
      "source": [
        "MAX_VOCAB_SIZE = 10000\n",
        "\n",
        "field_tweet.build_vocab(train_data, \n",
        "                  max_size = MAX_VOCAB_SIZE,\n",
        "                  min_freq = 1,\n",
        "                  vectors = \"glove.6B.100d\",\n",
        "                  unk_init=torch.Tensor.normal_)\n",
        "field_intensity.build_vocab(train_data)"
      ],
      "metadata": {
        "colab": {
          "base_uri": "https://localhost:8080/"
        },
        "id": "IeSJaNSYT_D7",
        "outputId": "083bed7c-210b-4dbf-ebf2-4ba08957bbe1"
      },
      "execution_count": 21,
      "outputs": [
        {
          "output_type": "stream",
          "name": "stderr",
          "text": [
            ".vector_cache/glove.6B.zip: 862MB [02:39, 5.40MB/s]                           \n",
            "100%|█████████▉| 399999/400000 [00:16<00:00, 24925.22it/s]\n"
          ]
        }
      ]
    },
    {
      "cell_type": "code",
      "source": [
        "BATCH_SIZE = 2\n",
        "train_iterator, test_iterator = BucketIterator.splits((train_data, test_data), \n",
        "                                                      batch_size= BATCH_SIZE,\n",
        "                                                      sort_key = lambda x: len(x.tweet),\n",
        "                                                      sort_within_batch=True,\n",
        "                                                      device = DEVICE,\n",
        "                                                      shuffle= True)"
      ],
      "metadata": {
        "id": "PYRrHy8HTcZM"
      },
      "execution_count": 22,
      "outputs": []
    },
    {
      "cell_type": "code",
      "source": [
        "count = 0\n",
        "for batch in train_iterator:\n",
        "  print (batch.tweet)\n",
        "  print (batch.intensity)\n",
        "  count += 1\n",
        "  if count > 2:\n",
        "    break"
      ],
      "metadata": {
        "colab": {
          "base_uri": "https://localhost:8080/"
        },
        "id": "Si5ajBMXTb_m",
        "outputId": "324cbb43-53bf-4feb-f1e9-c25c6fbc0c4f"
      },
      "execution_count": 23,
      "outputs": [
        {
          "output_type": "stream",
          "name": "stdout",
          "text": [
            "tensor([[   5,  155,   17,   54,  198,   25,  231,  154,    8,   35,  988,    7,\n",
            "            8,   54, 2995,  338,  599,  378,    8, 4085,    4,   96, 1341,   30,\n",
            "         3204, 1313,    8,   35,   26,  360,  119,    1,    1,    1,    1,    1,\n",
            "            1,    1,    1,    1,    1,    1,    1,    1,    1,    1,    1,    1,\n",
            "            1,    1,    1,    1,    1,    1,    1,    1,    1,    1,    1,    1,\n",
            "            1,    1,    1,    1,    1,    1,    1,    1,    1,    1,    1,    1,\n",
            "            1,    1,    1,    1,    1,    1,    1,    1,    1,    1,    1,    1,\n",
            "            1,    1,    1,    1,    1,    1,    1,    1,    1,    1,    1,    1,\n",
            "            1,    1,    1,    1],\n",
            "        [  56,    6,  385,  940,  157, 2173,   38,  278,   20,    6,  332,  897,\n",
            "            4,   18,   24, 3704,   13,  131,   28, 3770,   82,  157, 2173,  201,\n",
            "           96,   52,   24,   40,    3, 3548,    2,    1,    1,    1,    1,    1,\n",
            "            1,    1,    1,    1,    1,    1,    1,    1,    1,    1,    1,    1,\n",
            "            1,    1,    1,    1,    1,    1,    1,    1,    1,    1,    1,    1,\n",
            "            1,    1,    1,    1,    1,    1,    1,    1,    1,    1,    1,    1,\n",
            "            1,    1,    1,    1,    1,    1,    1,    1,    1,    1,    1,    1,\n",
            "            1,    1,    1,    1,    1,    1,    1,    1,    1,    1,    1,    1,\n",
            "            1,    1,    1,    1]])\n",
            "tensor([0.3270, 0.2920])\n",
            "tensor([[3423,   11,   19, 3508, 3808, 2401,   37,   98,  180,   10,  123,    1,\n",
            "            1,    1,    1,    1,    1,    1,    1,    1,    1,    1,    1,    1,\n",
            "            1,    1,    1,    1,    1,    1,    1,    1,    1,    1,    1,    1,\n",
            "            1,    1,    1,    1,    1,    1,    1,    1,    1,    1,    1,    1,\n",
            "            1,    1,    1,    1,    1,    1,    1,    1,    1,    1,    1,    1,\n",
            "            1,    1,    1,    1,    1,    1,    1,    1,    1,    1,    1,    1,\n",
            "            1,    1,    1,    1,    1,    1,    1,    1,    1,    1,    1,    1,\n",
            "            1,    1,    1,    1,    1,    1,    1,    1,    1,    1,    1,    1,\n",
            "            1,    1,    1,    1],\n",
            "        [   5,   27,   84,   54, 1358,  628,    9,   74, 3689,   31, 2261,    1,\n",
            "            1,    1,    1,    1,    1,    1,    1,    1,    1,    1,    1,    1,\n",
            "            1,    1,    1,    1,    1,    1,    1,    1,    1,    1,    1,    1,\n",
            "            1,    1,    1,    1,    1,    1,    1,    1,    1,    1,    1,    1,\n",
            "            1,    1,    1,    1,    1,    1,    1,    1,    1,    1,    1,    1,\n",
            "            1,    1,    1,    1,    1,    1,    1,    1,    1,    1,    1,    1,\n",
            "            1,    1,    1,    1,    1,    1,    1,    1,    1,    1,    1,    1,\n",
            "            1,    1,    1,    1,    1,    1,    1,    1,    1,    1,    1,    1,\n",
            "            1,    1,    1,    1]])\n",
            "tensor([0.5800, 0.3800])\n",
            "tensor([[  46,   30,   12,    8,   35,  142,  104,    8,   35,  456,   43, 4032,\n",
            "           42,  246,   26,    8,   35,  255,  166,    4,   41,   55,    1,    1,\n",
            "            1,    1,    1,    1,    1,    1,    1,    1,    1,    1,    1,    1,\n",
            "            1,    1,    1,    1,    1,    1,    1,    1,    1,    1,    1,    1,\n",
            "            1,    1,    1,    1,    1,    1,    1,    1,    1,    1,    1,    1,\n",
            "            1,    1,    1,    1,    1,    1,    1,    1,    1,    1,    1,    1,\n",
            "            1,    1,    1,    1,    1,    1,    1,    1,    1,    1,    1,    1,\n",
            "            1,    1,    1,    1,    1,    1,    1,    1,    1,    1,    1,    1,\n",
            "            1,    1,    1,    1],\n",
            "        [  48,   22,  452, 3019, 1524,   20,   10,  460,   32,  122,  152,  650,\n",
            "           15,   21, 1084, 1524,   10, 1003,  572,   40,  503,  416,    1,    1,\n",
            "            1,    1,    1,    1,    1,    1,    1,    1,    1,    1,    1,    1,\n",
            "            1,    1,    1,    1,    1,    1,    1,    1,    1,    1,    1,    1,\n",
            "            1,    1,    1,    1,    1,    1,    1,    1,    1,    1,    1,    1,\n",
            "            1,    1,    1,    1,    1,    1,    1,    1,    1,    1,    1,    1,\n",
            "            1,    1,    1,    1,    1,    1,    1,    1,    1,    1,    1,    1,\n",
            "            1,    1,    1,    1,    1,    1,    1,    1,    1,    1,    1,    1,\n",
            "            1,    1,    1,    1]])\n",
            "tensor([0.6800, 0.3540])\n"
          ]
        }
      ]
    },
    {
      "cell_type": "code",
      "source": [
        "print(list(field_tweet.vocab.stoi.items()))"
      ],
      "metadata": {
        "colab": {
          "base_uri": "https://localhost:8080/"
        },
        "id": "V4fmUSnDCrzU",
        "outputId": "1796f077-66e7-457d-b200-799acb2f0d26"
      },
      "execution_count": 24,
      "outputs": [
        {
          "output_type": "stream",
          "name": "stdout",
          "text": [
            "[('<unk>', 0), ('<pad>', 1), ('</hashtag>', 2), ('<hashtag>', 3), ('.', 4), ('<user>', 5), ('the', 6), (',', 7), ('i', 8), ('to', 9), ('a', 10), (\"'\", 11), ('and', 12), ('you', 13), ('!', 14), ('is', 15), ('of', 16), ('it', 17), ('<repeated>', 18), ('s', 19), ('in', 20), ('that', 21), ('not', 22), ('be', 23), ('\\\\', 24), ('my', 25), ('so', 26), ('this', 27), ('for', 28), ('me', 29), ('<number>', 30), ('happy', 31), ('with', 32), ('on', 33), ('-', 34), ('am', 35), ('have', 36), ('are', 37), ('at', 38), ('your', 39), ('n', 40), ('but', 41), ('</allcaps>', 42), ('<allcaps>', 43), ('just', 44), ('will', 45), ('day', 46), ('love', 47), ('do', 48), ('up', 49), ('by', 50), ('&', 51), ('?', 52), ('smile', 53), ('was', 54), (':', 55), ('all', 56), ('can', 57), ('good', 58), ('he', 59), ('hilarious', 60), ('like', 61), ('as', 62), ('we', 63), ('when', 64), ('watch', 65), ('if', 66), ('optimism', 67), ('live', 68), ('amazing', 69), ('they', 70), ('about', 71), ('from', 72), ('laughter', 73), ('make', 74), ('more', 75), ('out', 76), ('what', 77), ('lively', 78), ('life', 79), ('time', 80), ('glee', 81), ('or', 82), ('her', 83), ('one', 84), ('she', 85), ('get', 86), ('musically', 87), ('broadcast', 88), ('his', 89), ('ly', 90), ('see', 91), ('/', 92), ('how', 93), ('know', 94), ('go', 95), ('now', 96), ('smiling', 97), ('always', 98), ('cheer', 99), ('much', 100), ('there', 101), ('an', 102), (':face_with_tears_of_joy:', 103), ('because', 104), ('has', 105), ('new', 106), ('u', 107), ('some', 108), ('today', 109), ('us', 110), ('who', 111), ('over', 112), ('people', 113), ('want', 114), ('did', 115), ('feel', 116), ('got', 117), ('our', 118), ('<happy>', 119), ('joyful', 120), ('no', 121), ('breezy', 122), ('delight', 123), ('rejoice', 124), ('great', 125), ('cheerful', 126), ('pleasing', 127), ('sparkling', 128), ('still', 129), ('animated', 130), ('cheering', 131), ('back', 132), ('hilarity', 133), ('need', 134), ('way', 135), ('*', 136), ('being', 137), ('best', 138), ('never', 139), ('why', 140), ('would', 141), ('elated', 142), ('had', 143), ('makes', 144), ('playful', 145), ('rejoicing', 146), ('bright', 147), ('exhilarating', 148), ('hearty', 149), ('cheery', 150), ('chirp', 151), ('lol', 152), ('than', 153), ('too', 154), ('well', 155), ('joyous', 156), ('man', 157), ('most', 158), ('thank', 159), ('their', 160), (';', 161), ('give', 162), ('them', 163), ('think', 164), (':red_heart:', 165), ('<elongated>', 166), ('better', 167), ('birthday', 168), ('cheerfully', 169), ('could', 170), ('him', 171), ('off', 172), ('been', 173), ('every', 174), ('everything', 175), ('levity', 176), ('little', 177), ('look', 178), ('night', 179), ('such', 180), ('team', 181), ('(', 182), ('going', 183), ('morning', 184), ('really', 185), ('something', 186), ('watching', 187), ('<time>', 188), ('funny', 189), ('someone', 190), ('then', 191), ('were', 192), ('ever', 193), ('everyone', 194), ('let', 195), ('world', 196), (')', 197), ('after', 198), ('beautiful', 199), ('quote', 200), ('right', 201), ('show', 202), ('t', 203), ('thanks', 204), ('come', 205), ('find', 206), ('fun', 207), ('god', 208), ('jovial', 209), ('keep', 210), ('very', 211), ('any', 212), ('even', 213), ('nice', 214), ('only', 215), ('week', 216), ('accept', 217), ('down', 218), ('exhilaration', 219), ('here', 220), ('into', 221), ('least', 222), ('say', 223), ('things', 224), ('days', 225), ('follow', 226), ('girl', 227), ('gleeful', 228), ('happiness', 229), ('heart', 230), ('heyday', 231), ('long', 232), ('may', 233), ('mirth', 234), ('said', 235), ('thing', 236), (':fire:', 237), (':smiling_face_with_heart-eyes:', 238), (':smiling_face_with_smiling_eyes:', 239), (':sparkling_heart:', 240), ('also', 241), ('bad', 242), ('face', 243), ('hope', 244), ('joy', 245), ('tomorrow', 246), ('victory', 247), ('wonderful', 248), ('work', 249), (':loudly_crying_face:', 250), ('<sad>', 251), ('again', 252), ('challenges', 253), ('d', 254), ('done', 255), ('getting', 256), ('hour', 257), ('its', 258), ('maybe', 259), ('mind', 260), ('side', 261), ('sure', 262), ('those', 263), ('water', 264), ('while', 265), ('yet', 266), ('before', 267), ('first', 268), ('future', 269), ('gbbo', 270), ('last', 271), ('looking', 272), ('looks', 273), ('nd', 274), ('through', 275), ('tonight', 276), ('big', 277), ('home', 278), ('laughing', 279), ('oh', 280), ('open', 281), ('since', 282), ('started', 283), ('stop', 284), ('tears', 285), ('tell', 286), ('’', 287), ('“', 288), ('change', 289), ('end', 290), ('feeling', 291), ('having', 292), ('laugh', 293), ('lord', 294), ('lots', 295), ('once', 296), ('others', 297), ('remember', 298), ('sweet', 299), ('wine', 300), ('x', 301), ('year', 302), ('young', 303), ('yourself', 304), ('—', 305), ('actually', 306), ('family', 307), ('friend', 308), ('lot', 309), ('made', 310), ('myself', 311), ('other', 312), ('person', 313), ('place', 314), ('same', 315), ('singing', 316), ('success', 317), ('thought', 318), ('try', 319), ('which', 320), ('~', 321), ('around', 322), ('bot', 323), ('does', 324), ('episode', 325), ('fucking', 326), ('gets', 327), ('hard', 328), ('head', 329), ('jeep', 330), ('miss', 331), ('next', 332), ('should', 333), ('took', 334), ('wait', 335), ('wanna', 336), ('+', 337), ('1', 338), ('2016', 339), (':smiling_face:', 340), ('bc', 341), ('bit', 342), ('blessed', 343), ('book', 344), ('break', 345), ('class', 346), ('dont', 347), ('far', 348), ('following', 349), ('free', 350), ('game', 351), ('gave', 352), ('glad', 353), ('grateful', 354), ('lost', 355), ('making', 356), ('many', 357), ('must', 358), ('news', 359), ('old', 360), ('own', 361), ('please', 362), ('re', 363), ('shit', 364), ('short', 365), ('strong', 366), ('take', 367), ('talk', 368), ('these', 369), ('together', 370), ('used', 371), ('wish', 372), ('”', 373), (':light_skin_tone:', 374), (':smiling_face_with_open_hands:', 375), ('against', 376), ('another', 377), ('baby', 378), ('balls', 379), ('boy', 380), ('call', 381), ('cheerfulness', 382), ('during', 383), ('each', 384), ('fans', 385), ('food', 386), ('half', 387), ('hey', 388), ('jaunty', 389), ('literally', 390), ('m', 391), ('media', 392), ('ok', 393), ('outside', 394), ('play', 395), ('r', 396), ('sad', 397), ('saw', 398), ('school', 399), ('seeing', 400), ('seen', 401), ('social', 402), ('spry', 403), ('stay', 404), ('tired', 405), ('trump', 406), ('twitter', 407), ('ur', 408), ('w', 409), ('wake', 410), ('watched', 411), ('welcome', 412), ('without', 413), (':face_blowing_a_kiss:', 414), ('ain', 415), ('ass', 416), ('awesome', 417), ('bet', 418), ('body', 419), ('both', 420), ('bring', 421), ('city', 422), ('enough', 423), ('excited', 424), ('fact', 425), ('fall', 426), ('friends', 427), ('fuck', 428), ('gen', 429), ('goals', 430), ('guys', 431), ('gym', 432), ('hate', 433), ('hear', 434), ('high', 435), ('im', 436), ('jubilant', 437), ('juggle', 438), ('living', 439), ('lucky', 440), ('means', 441), ('memories', 442), ('met', 443), ('mom', 444), ('moment', 445), ('nhe', 446), ('north', 447), ('nothing', 448), ('proud', 449), ('pun', 450), ('punny', 451), ('put', 452), ('race', 453), ('real', 454), ('sometimes', 455), ('taking', 456), ('top', 457), ('truly', 458), ('trying', 459), ('tweet', 460), ('use', 461), ('v', 462), ('voice', 463), ('wednesday', 464), ('where', 465), ('whole', 466), ('words', 467), ('working', 468), ('yeah', 469), ('years', 470), ('…', 471), ('<percent>', 472), ('ago', 473), ('almost', 474), ('anyone', 475), ('anything', 476), ('bday', 477), ('boss', 478), ('bridget', 479), ('buoyant', 480), ('cake', 481), ('crying', 482), ('cute', 483), ('death', 484), ('deserve', 485), ('doing', 486), ('door', 487), ('easy', 488), ('evening', 489), ('experience', 490), ('forward', 491), ('found', 492), ('hell', 493), ('help', 494), ('house', 495), ('job', 496), ('light', 497), ('lips', 498), ('listen', 499), ('listening', 500), ('lovely', 501), ('mean', 502), ('music', 503), ('ni', 504), ('part', 505), ('picture', 506), ('positive', 507), ('problems', 508), ('quite', 509), ('series', 510), ('sick', 511), ('soul', 512), ('start', 513), ('survivor', 514), ('talking', 515), ('tho', 516), ('though', 517), ('truth', 518), ('tv', 519), ('two', 520), ('until', 521), ('video', 522), ('woman', 523), ('word', 524), ('worst', 525), ('4', 526), (':blue_heart:', 527), (':party_popper:', 528), (':thinking_face:', 529), (':tongue:', 530), (':winking_face:', 531), ('[', 532), ('act', 533), ('aesthetically', 534), ('afternoon', 535), ('ages', 536), ('arms', 537), ('bill', 538), ('black', 539), ('bro', 540), ('called', 541), ('care', 542), ('chat', 543), ('comes', 544), ('coming', 545), ('cry', 546), ('damn', 547), ('debate', 548), ('different', 549), ('draw', 550), ('due', 551), ('eat', 552), ('enjoy', 553), ('eyes', 554), ('feels', 555), ('felt', 556), ('few', 557), ('film', 558), ('full', 559), ('gift', 560), ('goal', 561), ('goes', 562), ('important', 563), ('incredible', 564), ('jones', 565), ('key', 566), ('kids', 567), ('kind', 568), ('king', 569), ('kurt', 570), ('lets', 571), ('lmao', 572), ('mighty', 573), ('missed', 574), ('movie', 575), ('na', 576), ('past', 577), ('peace', 578), ('phone', 579), ('player', 580), ('playing', 581), ('point', 582), ('possible', 583), ('present', 584), ('problem', 585), ('promise', 586), ('read', 587), ('ready', 588), ('red', 589), ('saying', 590), ('season', 591), ('send', 592), ('set', 593), ('simply', 594), ('sleep', 595), ('somebody', 596), ('spirit', 597), ('spot', 598), ('st', 599), ('stuff', 600), ('super', 601), ('thy', 602), ('treat', 603), ('vs', 604), ('went', 605), ('white', 606), ('wonder', 607), ('yoga', 608), ('2', 609), ('5', 610), (':face_with_rolling_eyes:', 611), (':grinning_face_with_sweat:', 612), (':heart_suit:', 613), (':neutral_face:', 614), (':purple_heart:', 615), (':smirking_face:', 616), (':sparkles:', 617), (':sweat_droplets:', 618), ('<money>', 619), ('=', 620), (']', 621), ('age', 622), ('air', 623), ('along', 624), ('already', 625), ('american', 626), ('asked', 627), ('attempt', 628), ('away', 629), ('awful', 630), ('awkward', 631), ('b', 632), ('became', 633), ('bed', 634), ('begin', 635), ('bf', 636), ('biz', 637), ('blithe', 638), ('boys', 639), ('breakfast', 640), ('brilliant', 641), ('brought', 642), ('bunch', 643), ('business', 644), ('challenge', 645), ('charlotte', 646), ('check', 647), ('child', 648), ('children', 649), ('chris', 650), ('church', 651), ('club', 652), ('coffee', 653), ('confident', 654), ('content', 655), ('cool', 656), ('country', 657), ('coys', 658), ('cut', 659), ('cuz', 660), ('decide', 661), ('definitely', 662), ('don', 663), ('double', 664), ('dude', 665), ('early', 666), ('eating', 667), ('either', 668), ('endless', 669), ('everyday', 670), ('evil', 671), ('extra', 672), ('fight', 673), ('finally', 674), ('fine', 675), ('forgot', 676), ('four', 677), ('g', 678), ('george', 679), ('gladness', 680), ('gotta', 681), ('grand', 682), ('green', 683), ('gun', 684), ('hair', 685), ('happier', 686), ('history', 687), ('hopefully', 688), ('imagine', 689), ('individual', 690), ('instead', 691), ('joys', 692), ('kindness', 693), ('late', 694), ('less', 695), ('lie', 696), ('liveliness', 697), ('medicine', 698), ('meet', 699), ('merriment', 700), ('might', 701), ('minutes', 702), ('mood', 703), ('name', 704), ('nation', 705), ('nawaz', 706), ('needed', 707), ('needs', 708), ('negative', 709), ('okay', 710), ('omg', 711), ('pack', 712), ('patton', 713), ('pleasure', 714), ('positivity', 715), ('pure', 716), ('reason', 717), ('rest', 718), ('second', 719), ('secret', 720), ('seem', 721), ('self', 722), ('service', 723), ('share', 724), ('sharif', 725), ('sir', 726), ('sit', 727), ('smart', 728), ('smiles', 729), ('solving', 730), ('soon', 731), ('thursday', 732), ('totally', 733), ('true', 734), ('turn', 735), ('val', 736), ('wch', 737), ('within', 738), ('wolf', 739), ('wow', 740), ('ya', 741), ('yes', 742), ('yesterday', 743), ('yo', 744), ('', 745), ('#', 746), ('*\\\\', 747), (':balance_scale:', 748), (':bouquet:', 749), (':collision:', 750), (':double_exclamation_mark:', 751), (':fallen_leaf:', 752), (':grinning_squinting_face:', 753), (':hundred_points:', 754), (':maple_leaf:', 755), (':medium-light_skin_tone:', 756), (':raising_hands:', 757), (':squinting_face_with_tongue:', 758), (':zipper-mouth_face:', 759), ('<laugh>', 760), ('<wink>', 761), ('>', 762), ('able', 763), ('absolutely', 764), ('angelou', 765), ('angry', 766), ('anxiety', 767), ('apart', 768), ('ask', 769), ('attitude', 770), ('autumn', 771), ('bag', 772), ('bb', 773), ('beauty', 774), ('behind', 775), ('believe', 776), ('beyond', 777), ('birds', 778), ('blood', 779), ('books', 780), ('bored', 781), ('bout', 782), ('brown', 783), ('buck', 784), ('buy', 785), ('calm', 786), ('came', 787), ('cannot', 788), ('changing', 789), ('channel', 790), ('choir', 791), ('clean', 792), ('clear', 793), ('close', 794), ('college', 795), ('comedy', 796), ('company', 797), ('course', 798), ('create', 799), ('customer', 800), ('dance', 801), ('dancing', 802), ('decision', 803), ('dental', 804), ('describe', 805), ('die', 806), ('died', 807), ('direction', 808), ('disney', 809), ('dream', 810), ('drink', 811), ('dumb', 812), ('e', 813), ('else', 814), ('embrace', 815), ('events', 816), ('everybody', 817), ('everywhere', 818), ('expect', 819), ('fails', 820), ('failure', 821), ('fallen', 822), ('fan', 823), ('fat', 824), ('fear', 825), ('football', 826), ('forever', 827), ('girlfriends', 828), ('given', 829), ('gonna', 830), ('greatest', 831), ('greyhound', 832), ('hall', 833), ('happened', 834), ('health', 835), ('heard', 836), ('hearing', 837), ('hit', 838), ('holiday', 839), ('hoping', 840), ('hot', 841), ('impractical', 842), ('inspire', 843), ('isis', 844), ('italian', 845), ('jinyoung', 846), ('join', 847), ('jokers', 848), ('k', 849), ('keeping', 850), ('kinda', 851), ('known', 852), ('later', 853), ('learning', 854), ('leave', 855), ('letting', 856), ('likes', 857), ('lives', 858), ('london', 859), ('lose', 860), ('loved', 861), ('loves', 862), ('loving', 863), ('mad', 864), ('mansfield', 865), ('mark', 866), ('match', 867), ('maya', 868), ('men', 869), ('mercy', 870), ('midst', 871), ('minds', 872), ('mine', 873), ('mini', 874), ('minute', 875), ('misery', 876), ('modern', 877), ('month', 878), ('oil', 879), ('order', 880), ('party', 881), ('pastor', 882), ('phil', 883), ('players', 884), ('plays', 885), ('pre', 886), ('prince', 887), ('proverbs', 888), ('quinn', 889), ('quote_soup', 890), ('racism', 891), ('reality', 892), ('realize', 893), ('relief', 894), ('rojo', 895), ('room', 896), ('round', 897), ('sadness', 898), ('sam', 899), ('save', 900), ('says', 901), ('seems', 902), ('serious', 903), ('sharpened', 904), ('shower', 905), ('signed', 906), ('single', 907), ('situation', 908), ('snapchat', 909), ('song', 910), ('sound', 911), ('spent', 912), ('starts', 913), ('store', 914), ('story', 915), ('student', 916), ('support', 917), ('supposed', 918), ('talkin', 919), ('terrible', 920), ('thee', 921), ('thenicebot', 922), ('thoughts', 923), ('times', 924), ('tip', 925), ('told', 926), ('tour', 927), ('toward', 928), ('tried', 929), ('trust', 930), ('tumblr', 931), ('tweets', 932), ('uk', 933), ('ukulele', 934), ('uncle', 935), ('united', 936), ('upon', 937), ('using', 938), ('version', 939), ('wanted', 940), ('wasn', 941), ('weapon', 942), ('whatever', 943), ('whether', 944), ('william', 945), ('winning', 946), ('wisdom', 947), ('wise', 948), ('wishing', 949), ('worse', 950), ('worship', 951), ('writing', 952), ('wrong', 953), ('xmas', 954), ('$', 955), ('%', 956), ('0', 957), ('18', 958), ('7', 959), ('9', 960), (':OK_hand:', 961), (':clapping_hands:', 962), (':confused_face:', 963), (':crying_face:', 964), (':disappointed_face:', 965), (':flexed_biceps:', 966), (':folded_hands:', 967), (':grinning_face:', 968), (':grinning_face_with_smiling_eyes:', 969), (':heart_with_arrow:', 970), (':leaf_fluttering_in_wind:', 971), (':pensive_face:', 972), (':slightly_smiling_face:', 973), (':smiling_face_with_sunglasses:', 974), (':thumbs_up:', 975), (':weary_face:', 976), (':yellow_heart:', 977), ('<', 978), ('<tong>', 979), ('@', 980), ('above', 981), ('abt', 982), ('achieve', 983), ('across', 984), ('acting', 985), ('addiction', 986), ('af', 987), ('afraid', 988), ('alert', 989), ('alive', 990), ('allowed', 991), ('alright', 992), ('america', 993), ('anna', 994), ('answer', 995), ('anthony', 996), ('app', 997), ('appreciate', 998), ('asks', 999), ('babies', 1000), ('beer', 1001), ('beg', 1002), ('bitch', 1003), ('blake', 1004), ('blast', 1005), ('blessing', 1006), ('bob', 1007), ('bought', 1008), ('brave', 1009), ('bringing', 1010), ('brings', 1011), ('canceled', 1012), ('candles', 1013), ('cant', 1014), ('cats', 1015), ('cause', 1016), ('celebrity', 1017), ('chair', 1018), ('character', 1019), ('characters', 1020), ('cheerleaders', 1021), ('cheese', 1022), ('chelsea', 1023), ('chick', 1024), ('choice', 1025), ('choose', 1026), ('clever', 1027), ('clients', 1028), ('clouds', 1029), ('cluck', 1030), ('collect', 1031), ('comics', 1032), ('constantly', 1033), ('continue', 1034), ('convinced', 1035), ('cook', 1036), ('copy', 1037), ('coworker', 1038), ('currently', 1039), ('dad', 1040), ('daily', 1041), ('dead', 1042), ('dear', 1043), ('deserves', 1044), ('development', 1045), ('dirty', 1046), ('disappointed', 1047), ('dog', 1048), ('drinking', 1049), ('drinks', 1050), ('drug', 1051), ('dry', 1052), ('dying', 1053), ('entire', 1054), ('envy', 1055), ('experiences', 1056), ('eye', 1057), ('eyebrows', 1058), ('fantastic', 1059), ('fi', 1060), ('filled', 1061), ('final', 1062), ('finished', 1063), ('flying', 1064), ('focus', 1065), ('forget', 1066), ('friday', 1067), ('front', 1068), ('gained', 1069), ('games', 1070), ('gas', 1071), ('genuinely', 1072), ('gif', 1073), ('gifs', 1074), ('girls', 1075), ('gives', 1076), ('giving', 1077), ('glasses', 1078), ('gleek', 1079), ('glorious', 1080), ('gratefully', 1081), ('grind', 1082), ('grow', 1083), ('guy', 1084), ('habit', 1085), ('haha', 1086), ('hands', 1087), ('hang', 1088), ('happens', 1089), ('healthy', 1090), ('hearts', 1091), ('heaven', 1092), ('hello', 1093), ('hillary', 1094), ('hip', 1095), ('hockey', 1096), ('housing', 1097), ('human', 1098), ('hun', 1099), ('hungry', 1100), ('hurt', 1101), ('husband', 1102), ('idiot', 1103), ('incredibly', 1104), ('indeed', 1105), ('international', 1106), ('jesus', 1107), ('jobs', 1108), ('john', 1109), ('joviality', 1110), ('justice', 1111), ('kanye', 1112), ('keeps', 1113), ('kick', 1114), ('killed', 1115), ('kiss', 1116), ('ladies', 1117), ('lady', 1118), ('laughed', 1119), ('laughs', 1120), ('lautner', 1121), ('laws', 1122), ('leads', 1123), ('leaning', 1124), ('lethal', 1125), ('level', 1126), ('liking', 1127), ('lil', 1128), ('ll', 1129), ('lmfao', 1130), ('loud', 1131), ('luv', 1132), ('mc', 1133), ('meeting', 1134), ('method', 1135), ('miami', 1136), ('min', 1137), ('minded', 1138), ('modicum', 1139), ('money', 1140), ('moon', 1141), ('moonlight', 1142), ('mr', 1143), ('national', 1144), ('nephew', 1145), ('nit', 1146), ('nlet', 1147), ('nme', 1148), ('noir', 1149), ('noise', 1150), ('normal', 1151), ('numbers', 1152), ('ny', 1153), ('obama', 1154), ('occasion', 1155), ('odds', 1156), ('offers', 1157), ('office', 1158), ('often', 1159), ('ones', 1160), ('online', 1161), ('opening', 1162), ('otherwise', 1163), ('ought', 1164), ('overtime', 1165), ('p', 1166), ('pain', 1167), ('pak', 1168), ('pakistan', 1169), ('paper', 1170), ('paul', 1171), ('perfume', 1172), ('peter', 1173), ('photo', 1174), ('photographer', 1175), ('pie', 1176), ('piece', 1177), ('pile', 1178), ('pity', 1179), ('pizza', 1180), ('plus', 1181), ('policy', 1182), ('post', 1183), ('power', 1184), ('practice', 1185), ('praise', 1186), ('prayer', 1187), ('premiere', 1188), ('pretty', 1189), ('prices', 1190), ('productivity', 1191), ('provide', 1192), ('ps', 1193), ('questions', 1194), ('quotes', 1195), ('rape', 1196), ('raw', 1197), ('reading', 1198), ('recent', 1199), ('recipe', 1200), ('reflection', 1201), ('reminds', 1202), ('replace', 1203), ('respect', 1204), ('rewatching', 1205), ('ride', 1206), ('ring', 1207), ('rn', 1208), ('rock', 1209), ('romance', 1210), ('root', 1211), ('russian', 1212), ('ryan', 1213), ('scene', 1214), ('sci', 1215), ('score', 1216), ('seriously', 1217), ('sharing', 1218), ('shitty', 1219), ('showed', 1220), ('shows', 1221), ('shut', 1222), ('silence', 1223), ('simple', 1224), ('speak', 1225), ('speechless', 1226), ('spiritual', 1227), ('sports', 1228), ('sprightly', 1229), ('stand', 1230), ('state', 1231), ('strength', 1232), ('stretch', 1233), ('stupid', 1234), ('successful', 1235), ('sugar', 1236), ('surprise', 1237), ('swans', 1238), ('swear', 1239), ('sweden', 1240), ('swim', 1241), ('tag', 1242), ('taylor', 1243), ('technology', 1244), ('th', 1245), ('thankyou', 1246), ('thin', 1247), ('thinking', 1248), ('three', 1249), ('thumbs', 1250), ('tone', 1251), ('trans', 1252), ('under', 1253), ('ustinov', 1254), ('visit', 1255), ('vote', 1256), ('walking', 1257), ('ways', 1258), ('weakness', 1259), ('wearing', 1260), ('weather', 1261), ('weekend', 1262), ('weeks', 1263), ('weiner', 1264), ('whose', 1265), ('wicked', 1266), ('win', 1267), ('wink', 1268), ('wished', 1269), ('women', 1270), ('worry', 1271), ('ye', 1272), ('yeg', 1273), ('yep', 1274), ('youtube', 1275), ('yr', 1276), ('yrs', 1277), ('―', 1278), ('•', 1279), ('16', 1280), ('22', 1281), ('3', 1282), ('6', 1283), ('62', 1284), ('69', 1285), (':beaming_face_with_smiling_eyes:', 1286), (':beating_heart:', 1287), (':bow_and_arrow:', 1288), (':cherry_blossom:', 1289), (':confetti_ball:', 1290), (':crown:', 1291), (':ewe:', 1292), (':face_screaming_in_fear:', 1293), (':flushed_face:', 1294), (':green_heart:', 1295), (':headphone:', 1296), (':hushed_face:', 1297), (':pencil:', 1298), (':red_circle:', 1299), (':right_arrow:', 1300), (':skis:', 1301), (':smiling_face_with_halo:', 1302), (':smiling_face_with_horns:', 1303), (':soft_ice_cream:', 1304), (':two_hearts:', 1305), (':unamused_face:', 1306), (':white_circle:', 1307), (':winking_face_with_tongue:', 1308), (\";'(\\\\\", 1309), ('<annoyed>', 1310), ('<censored>', 1311), ('<date>', 1312), ('<emphasis>', 1313), ('<surprise>', 1314), ('>_<', 1315), ('__', 1316), ('`', 1317), ('a4', 1318), ('ab', 1319), ('ability', 1320), ('abs', 1321), ('absolute', 1322), ('accepted', 1323), ('access', 1324), ('accommodate', 1325), ('accounts', 1326), ('accurate', 1327), ('achievements', 1328), ('acquire', 1329), ('actions', 1330), ('actor', 1331), ('actors', 1332), ('actual', 1333), ('addicted', 1334), ('adorable', 1335), ('adult', 1336), ('advances', 1337), ('adverts', 1338), ('afghanistan', 1339), ('afl', 1340), ('aged', 1341), ('agreed', 1342), ('ahs', 1343), ('airtel', 1344), ('album', 1345), ('aldub', 1346), ('alike', 1347), ('aloha', 1348), ('alone', 1349), ('americans', 1350), ('among', 1351), ('amystery', 1352), ('angel', 1353), ('annoyed', 1354), ('answers', 1355), ('anti', 1356), ('anticipating', 1357), ('apples', 1358), ('appreciated', 1359), ('apprehension', 1360), ('appropriate', 1361), ('arc', 1362), ('armed', 1363), ('arrival', 1364), ('art', 1365), ('asking', 1366), ('assume', 1367), ('assured', 1368), ('atmosphere', 1369), ('au', 1370), ('auction', 1371), ('australia', 1372), ('avoid', 1373), ('award', 1374), ('awareness', 1375), ('awfy', 1376), ('aww', 1377), ('bachelorette', 1378), ('backed', 1379), ('bailey', 1380), ('ballons', 1381), ('balloons', 1382), ('baloch', 1383), ('band', 1384), ('banging', 1385), ('banned', 1386), ('banter', 1387), ('bar', 1388), ('barns', 1389), ('basic', 1390), ('basically', 1391), ('basket', 1392), ('bass', 1393), ('batman', 1394), ('battleground', 1395), ('bcoz', 1396), ('beat', 1397), ('beep', 1398), ('begins', 1399), ('biased', 1400), ('binge', 1401), ('bits', 1402), ('bizitalk', 1403), ('blackish', 1404), ('blacks', 1405), ('blaine', 1406), ('bldg', 1407), ('bless', 1408), ('blow', 1409), ('blue', 1410), ('bolts', 1411), ('bones', 1412), ('boostercourse', 1413), ('bottle', 1414), ('braces', 1415), ('brain', 1416), ('brand', 1417), ('braved', 1418), ('breaks', 1419), ('brewing', 1420), ('brexit', 1421), ('bri', 1422), ('broadband', 1423), ('broken', 1424), ('bs', 1425), ('burslem', 1426), ('busquet', 1427), ('c', 1428), ('cab', 1429), ('cable', 1430), ('calmness', 1431), ('canada', 1432), ('canal', 1433), ('cantor', 1434), ('car', 1435), ('cases', 1436), ('castlez', 1437), ('catch', 1438), ('caught', 1439), ('ceased', 1440), ('certainly', 1441), ('championship', 1442), ('chance', 1443), ('changed', 1444), ('chapter', 1445), ('charged', 1446), ('charles', 1447), ('charlie', 1448), ('chases', 1449), ('cheddar', 1450), ('cheeseburger', 1451), ('chewing', 1452), ('chills', 1453), ('chiropractor', 1454), ('chopper', 1455), ('christ', 1456), ('christmas', 1457), ('chuck', 1458), ('chuckin', 1459), ('ciara', 1460), ('cider', 1461), ('claire', 1462), ('classic', 1463), ('clayton', 1464), ('cletsgo', 1465), ('clip', 1466), ('closer', 1467), ('coffey1617', 1468), ('coincidence', 1469), ('cold', 1470), ('color', 1471), ('colors', 1472), ('comedic', 1473), ('comfortable', 1474), ('comment', 1475), ('commercial', 1476), ('common', 1477), ('compassion', 1478), ('compliment', 1479), ('concerned', 1480), ('confused', 1481), ('conjunction', 1482), ('contentwiththe', 1483), ('continues', 1484), ('contract', 1485), ('conversation', 1486), ('converting', 1487), ('cooked', 1488), ('cooking', 1489), ('cooped', 1490), ('correct', 1491), ('corridor', 1492), ('cost', 1493), ('coughing', 1494), ('council', 1495), ('couple', 1496), ('cover', 1497), ('cracks', 1498), ('creative', 1499), ('cried', 1500), ('cross', 1501), ('crushed', 1502), ('cuddles', 1503), ('cynicism', 1504), ('daddy', 1505), ('dancer', 1506), ('dark', 1507), ('dat', 1508), ('date', 1509), ('de', 1510), ('deal', 1511), ('dealing', 1512), ('dedicated', 1513), ('deeply', 1514), ('defined', 1515), ('dehydrated', 1516), ('delightful', 1517), ('delivered', 1518), ('despair', 1519), ('despite', 1520), ('destruction', 1521), ('detours', 1522), ('deuces', 1523), ('dex', 1524), ('dhoni', 1525), ('dick', 1526), ('differ', 1527), ('differently', 1528), ('digging', 1529), ('dinner', 1530), ('disallowed', 1531), ('discover', 1532), ('display', 1533), ('disposition', 1534), ('distracting', 1535), ('ditto', 1536), ('division', 1537), ('dm', 1538), ('doc', 1539), ('documentary', 1540), ('doesnt', 1541), ('dollar', 1542), ('donalds', 1543), ('donation', 1544), ('download', 1545), ('downtown', 1546), ('draft', 1547), ('drawing', 1548), ('dries', 1549), ('drive', 1550), ('drop', 1551), ('dropped', 1552), ('drove', 1553), ('dt', 1554), ('dudes', 1555), ('dwts', 1556), ('ear', 1557), ('earlier', 1558), ('economy', 1559), ('ed', 1560), ('edinburgh', 1561), ('editing', 1562), ('educate', 1563), ('education', 1564), ('effective', 1565), ('effects', 1566), ('efl', 1567), ('eh', 1568), ('elate', 1569), ('elkracken', 1570), ('email', 1571), ('en', 1572), ('encounter', 1573), ('enjoyment', 1574), ('enrique', 1575), ('entertaining', 1576), ('entrepreneur', 1577), ('environment', 1578), ('episodes', 1579), ('equally', 1580), ('especially', 1581), ('etc', 1582), ('etep', 1583), ('eventual', 1584), ('ex', 1585), ('excites', 1586), ('exciting', 1587), ('exhausted', 1588), ('expectant', 1589), ('expression', 1590), ('extends', 1591), ('extension', 1592), ('extremely', 1593), ('facebook', 1594), ('facing', 1595), ('fail', 1596), ('fake', 1597), ('farm365', 1598), ('fashionable', 1599), ('favourite', 1600), ('fellowship', 1601), ('fictional', 1602), ('file', 1603), ('films', 1604), ('finds', 1605), ('finest', 1606), ('finfin', 1607), ('finish', 1608), ('finishers', 1609), ('finn', 1610), ('fire', 1611), ('fireworks', 1612), ('fitness', 1613), ('fitted', 1614), ('flavored', 1615), ('flavors', 1616), ('flock', 1617), ('florida', 1618), ('folks', 1619), ('followback', 1620), ('followers', 1621), ('fond', 1622), ('foolish', 1623), ('foot', 1624), ('forced', 1625), ('form', 1626), ('forté', 1627), ('freaking', 1628), ('fresh', 1629), ('freshers', 1630), ('fri', 1631), ('friedrich', 1632), ('fscts', 1633), ('fulfilled', 1634), ('fundraiser', 1635), ('funeral', 1636), ('funnier', 1637), ('garoppolo', 1638), ('gay', 1639), ('genius', 1640), ('genocide', 1641), ('german', 1642), ('gesture', 1643), ('ghast', 1644), ('gifts', 1645), ('giggle', 1646), ('giggles', 1647), ('gipe', 1648), ('glen', 1649), ('glutting', 1650), ('goddamn', 1651), ('gods', 1652), ('gone', 1653), ('goodbye', 1654), ('gospel', 1655), ('gossip', 1656), ('grad', 1657), ('grass', 1658), ('grey', 1659), ('grindah', 1660), ('group', 1661), ('guess', 1662), ('gunnysmith93', 1663), ('guns', 1664), ('hahaha', 1665), ('haircut', 1666), ('haitian', 1667), ('hale', 1668), ('halfway', 1669), ('hamlet', 1670), ('handed', 1671), ('hannah', 1672), ('happen', 1673), ('happening', 1674), ('harbor', 1675), ('hardwork', 1676), ('harvest', 1677), ('haters', 1678), ('heavy', 1679), ('height', 1680), ('helpful', 1681), ('helping', 1682), ('helpline', 1683), ('hero', 1684), ('hi', 1685), ('highly', 1686), ('hihi', 1687), ('hillsboro', 1688), ('hips', 1689), ('hoe', 1690), ('hold', 1691), ('holding', 1692), ('holds', 1693), ('holidays', 1694), ('holmes', 1695), ('homecoming', 1696), ('homes', 1697), ('honest', 1698), ('honesty', 1699), ('honks', 1700), ('hood', 1701), ('hopeful', 1702), ('however', 1703), ('hubs', 1704), ('hugots', 1705), ('hugs', 1706), ('humanbeing', 1707), ('humbleness', 1708), ('hundred', 1709), ('hunter', 1710), ('hurts', 1711), ('hygge', 1712), ('hyper', 1713), ('ice', 1714), ('impressed', 1715), ('including', 1716), ('independence', 1717), ('independent', 1718), ('indian', 1719), ('inside', 1720), ('inspiration', 1721), ('insta', 1722), ('instructor', 1723), ('insults', 1724), ('interest', 1725), ('interests', 1726), ('interview', 1727), ('irony', 1728), ('israel', 1729), ('issues', 1730), ('itching', 1731), ('ive', 1732), ('izn', 1733), ('james', 1734), ('jasmine', 1735), ('jean', 1736), ('jen', 1737), ('jeremy', 1738), ('jh', 1739), ('jimmy', 1740), ('jin', 1741), ('jk', 1742), ('jkt', 1743), ('joe', 1744), ('joey', 1745), ('johnson', 1746), ('journey', 1747), ('julie', 1748), ('karma', 1749), ('kashmir', 1750), ('katherine', 1751), ('katie', 1752), ('kemayoran', 1753), ('kerr', 1754), ('kg', 1755), ('kicks', 1756), ('kid', 1757), ('kidding', 1758), ('kill', 1759), ('killgrave', 1760), ('killing', 1761), ('knew', 1762), ('knowing', 1763), ('kris', 1764), ('ksu', 1765), ('kwoir', 1766), ('kx4', 1767), ('l', 1768), ('la', 1769), ('lane', 1770), ('language', 1771), ('large', 1772), ('laundry', 1773), ('lazy', 1774), ('leadership', 1775), ('leaned', 1776), ('leaving', 1777), ('left', 1778), ('legit', 1779), ('legs', 1780), ('library', 1781), ('libtard', 1782), ('lights', 1783), ('liked', 1784), ('line', 1785), ('lion', 1786), ('listed', 1787), ('listened', 1788), ('lit', 1789), ('literal', 1790), ('lmboo', 1791), ('lolol', 1792), ('lololol', 1793), ('longer', 1794), ('looked', 1795), ('lopez', 1796), ('lords', 1797), ('lrt', 1798), ('luck', 1799), ('luke', 1800), ('ma', 1801), ('mae', 1802), ('magazines', 1803), ('magical', 1804), ('manchester', 1805), ('marmite', 1806), ('massali', 1807), ('master', 1808), ('mate', 1809), ('matilda', 1810), ('mccloud', 1811), ('meal', 1812), ('meant', 1813), ('meldonium', 1814), ('melts', 1815), ('meme', 1816), ('memphis', 1817), ('mercure', 1818), ('messaged', 1819), ('messages', 1820), ('messed', 1821), ('messenger', 1822), ('metro', 1823), ('midnight', 1824), ('mil', 1825), ('mila', 1826), ('millennials', 1827), ('milti', 1828), ('mindfulness', 1829), ('ministers', 1830), ('minority', 1831), ('mon', 1832), ('mornings', 1833), ('morrow', 1834), ('mostly', 1835), ('mother', 1836), ('motivation', 1837), ('mou', 1838), ('move', 1839), ('moved', 1840), ('mrs', 1841), ('msg', 1842), ('msnbc', 1843), ('mums', 1844), ('musical', 1845), ('mustache', 1846), ('mustard', 1847), ('nails', 1848), ('nascar', 1849), ('nconclusion', 1850), ('ndays', 1851), ('ndon', 1852), ('negro', 1853), ('neighbor', 1854), ('neighborhoods', 1855), ('nhf16', 1856), ('nietzsche', 1857), ('niggas', 1858), ('nightmares', 1859), ('nj', 1860), ('nmom', 1861), ('non', 1862), ('none', 1863), ('nose', 1864), ('nosing', 1865), ('notts', 1866), ('nrl', 1867), ('nso', 1868), ('number', 1869), ('nurse', 1870), ('nut', 1871), ('nyc', 1872), ('nzephaniah', 1873), ('o', 1874), ('odd', 1875), ('oi', 1876), ('older', 1877), ('onion', 1878), ('ooh', 1879), ('optimist', 1880), ('option', 1881), ('ortiz', 1882), ('ot', 1883), ('overdose', 1884), ('overflow', 1885), ('owner', 1886), ('pakis', 1887), ('pampered', 1888), ('panda', 1889), ('park', 1890), ('parody', 1891), ('passage', 1892), ('passed', 1893), ('pats', 1894), ('pause', 1895), ('pays', 1896), ('peaceful', 1897), ('peeps', 1898), ('pencil', 1899), ('perfect', 1900), ('perhaps', 1901), ('period', 1902), ('permissive', 1903), ('personal', 1904), ('phenomenal', 1905), ('philipp', 1906), ('photography', 1907), ('photos', 1908), ('physical', 1909), ('pig', 1910), ('pillow', 1911), ('pimp', 1912), ('piss', 1913), ('pitch', 1914), ('pitchers', 1915), ('places', 1916), ('planned', 1917), ('plein', 1918), ('plenty', 1919), ('pls', 1920), ('pm', 1921), ('podcasts', 1922), ('polish', 1923), ('poor', 1924), ('pop', 1925), ('portion', 1926), ('posi', 1927), ('possibilities', 1928), ('possibly', 1929), ('posted', 1930), ('posts', 1931), ('potential', 1932), ('pour', 1933), ('pouring', 1934), ('pov', 1935), ('ppl', 1936), ('practically', 1937), ('prayed', 1938), ('preparation', 1939), ('preparing', 1940), ('president', 1941), ('price', 1942), ('princess', 1943), ('priorities', 1944), ('privately', 1945), ('probably', 1946), ('procedures', 1947), ('proctor', 1948), ('prospect', 1949), ('protected', 1950), ('protests', 1951), ('proudly', 1952), ('prowess', 1953), ('prussian', 1954), ('public', 1955), ('pull', 1956), ('pumpkin', 1957), ('purpose', 1958), ('quality', 1959), ('quarterback', 1960), ('question', 1961), ('quiet', 1962), ('quit', 1963), ('quotient', 1964), ('racist', 1965), ('raising', 1966), ('rap', 1967), ('rather', 1968), ('razor', 1969), ('reached', 1970), ('realise', 1971), ('realized', 1972), ('reaper', 1973), ('reasons', 1974), ('rec', 1975), ('recently', 1976), ('reciprocated', 1977), ('recruiter', 1978), ('refreshing', 1979), ('regardless', 1980), ('reinforce', 1981), ('relate', 1982), ('relationship', 1983), ('relaxation', 1984), ('remains', 1985), ('remembered', 1986), ('reminder', 1987), ('reputation', 1988), ('research', 1989), ('reservations', 1990), ('respond', 1991), ('response', 1992), ('restoration', 1993), ('returns', 1994), ('retweeted', 1995), ('rhys', 1996), ('rian', 1997), ('ribena', 1998), ('rich', 1999), ('richness', 2000), ('riggs', 2001), ('rip', 2002), ('road', 2003), ('robin', 2004), ('robocoq', 2005), ('rohan', 2006), ('role', 2007), ('rollin', 2008), ('romans', 2009), ('roosters', 2010), ('route', 2011), ('routine', 2012), ('rugby', 2013), ('rule', 2014), ('running', 2015), ('runs', 2016), ('ruthann', 2017), ('salty', 2018), ('sanatana', 2019), ('satisfy', 2020), ('satisfying', 2021), ('saved', 2022), ('scares', 2023), ('scary', 2024), ('scenes', 2025), ('science', 2026), ('scum', 2027), ('seat', 2028), ('secrets', 2029), ('seed', 2030), ('selfie', 2031), ('sentence', 2032), ('session', 2033), ('sex', 2034), ('sexuality', 2035), ('shades', 2036), ('shakespeare', 2037), ('shaped', 2038), ('shawarma', 2039), ('sheffield', 2040), ('sherlock', 2041), ('shield', 2042), ('shift', 2043), ('shines', 2044), ('shirt', 2045), ('shop', 2046), ('shorts', 2047), ('sight', 2048), ('signs', 2049), ('silly', 2050), ('sis', 2051), ('sister', 2052), ('skies', 2053), ('skiving', 2054), ('skywalkers', 2055), ('sleeping', 2056), ('sloth', 2057), ('slowly', 2058), ('sniffle', 2059), ('snowgang', 2060), ('snuggle', 2061), ('songs', 2062), ('sorry', 2063), ('souls', 2064), ('south', 2065), ('spag', 2066), ('speaking', 2067), ('speech', 2068), ('speed', 2069), ('spend', 2070), ('spying', 2071), ('stands', 2072), ('stare', 2073), ('stars', 2074), ('starting', 2075), ('steve', 2076), ('stock', 2077), ('stomach', 2078), ('storm', 2079), ('straight', 2080), ('strangers', 2081), ('stressed', 2082), ('stronger', 2083), ('struck', 2084), ('struggles', 2085), ('students', 2086), ('stunt', 2087), ('styles', 2088), ('sub', 2089), ('subscribers', 2090), ('sucks', 2091), ('suds', 2092), ('sufficiently', 2093), ('summer', 2094), ('sun', 2095), ('sunbeds', 2096), ('sunny', 2097), ('sunrise', 2098), ('sunshine', 2099), ('superman', 2100), ('surfing', 2101), ('surprises', 2102), ('survived', 2103), ('swapping', 2104), ('swimming', 2105), ('switch', 2106), ('sydney', 2107), ('system', 2108), ('taken', 2109), ('talent', 2110), ('talented', 2111), ('talked', 2112), ('tamron', 2113), ('taste', 2114), ('tasted', 2115), ('tea', 2116), ('teams', 2117), ('teasing', 2118), ('teeth', 2119), ('telling', 2120), ('tells', 2121), ('temper', 2122), ('ten', 2123), ('tenacious', 2124), ('tend', 2125), ('terrified', 2126), ('test', 2127), ('testimonies', 2128), ('text', 2129), ('tf', 2130), ('tfw', 2131), ('tgit', 2132), ('thankful', 2133), ('themed', 2134), ('theobald', 2135), ('theory', 2136), ('therapy', 2137), ('thine', 2138), ('thinks', 2139), ('thoughtful', 2140), ('thousand', 2141), ('thru', 2142), ('thus', 2143), ('tigers', 2144), ('tiller', 2145), ('tips', 2146), ('toddler', 2147), ('tom', 2148), ('toronto', 2149), ('towne', 2150), ('train', 2151), ('training', 2152), ('tribez', 2153), ('truck', 2154), ('tumble', 2155), ('tumbling', 2156), ('turlock', 2157), ('turns', 2158), ('twd', 2159), ('twice', 2160), ('twilight', 2161), ('twitching', 2162), ('u20', 2163), ('ugh', 2164), ('un', 2165), ('understand', 2166), ('understood', 2167), ('underwear', 2168), ('unknown', 2169), ('untill', 2170), ('update', 2171), ('uses', 2172), ('utd', 2173), ('utterly', 2174), ('ve', 2175), ('waiting', 2176), ('walk', 2177), ('walterdale', 2178), ('wants', 2179), ('war', 2180), ('warfare', 2181), ('warmth', 2182), ('warrior', 2183), ('wasteful', 2184), ('wave', 2185), ('waves', 2186), ('wear', 2187), ('web', 2188), ('wee', 2189), ('weekly', 2190), ('weeksary', 2191), ('wetter', 2192), ('whistle', 2193), ('whitegirlwednesday', 2194), ('wild', 2195), ('wins', 2196), ('wit', 2197), ('wives', 2198), ('wobble', 2199), ('won', 2200), ('workout', 2201), ('workplace', 2202), ('works', 2203), ('worried', 2204), ('wrecks', 2205), ('written', 2206), ('wsjnordics', 2207), ('x33', 2208), ('xx', 2209), ('y', 2210), ('yacht', 2211), ('yankees', 2212), ('yawning', 2213), ('yay', 2214), ('yorkshire', 2215), ('yt', 2216), ('yup', 2217), ('yvr', 2218), ('z', 2219), ('zen', 2220), ('zoolander', 2221), ('»', 2222), ('الخفجي', 2223), ('♪', 2224), ('・', 2225), ('\\uf602', 2226), ('$$', 2227), ('$srpt', 2228), ('(*', 2229), ('-_-', 2230), ('10', 2231), ('20', 2232), ('30', 2233), ('8', 2234), (':Aquarius:', 2235), (':ZZZ:', 2236), (':alien_monster:', 2237), (':atom_symbol:', 2238), (':automobile:', 2239), (':baby_chick:', 2240), (':balloon:', 2241), (':bird:', 2242), (':blossom:', 2243), (':books:', 2244), (':cheese_wedge:', 2245), (':copyright:', 2246), (':crayon:', 2247), (':desktop_computer:', 2248), (':dog_face:', 2249), (':enraged_face:', 2250), (':expressionless_face:', 2251), (':face_with_open_mouth:', 2252), (':face_with_steam_from_nose:', 2253), (':fountain_pen:', 2254), (':front-facing_baby_chick:', 2255), (':grapes:', 2256), (':grinning_face_with_big_eyes:', 2257), (':growing_heart:', 2258), (':heart_exclamation:', 2259), (':hot_beverage:', 2260), (':kaaba:', 2261), (':laptop:', 2262), (':left_arrow:', 2263), (':lemon:', 2264), (':money-mouth_face:', 2265), (':nerd_face:', 2266), (':office_building:', 2267), (':open_book:', 2268), (':paw_prints:', 2269), (':person_lifting_weights:', 2270), (':person_raising_hand:', 2271), (':person_tipping_hand:', 2272), (':popcorn:', 2273), (':raised_hand:', 2274), (':relieved_face:', 2275), (':rosette:', 2276), (':rugby_football:', 2277), (':see-no-evil_monkey:', 2278), (':sheaf_of_rice:', 2279), (':skull:', 2280), (':slightly_frowning_face:', 2281), (':sport_utility_vehicle:', 2282), (':sun_behind_cloud:', 2283), (':taxi:', 2284), (':telephone_receiver:', 2285), (':television:', 2286), (':trade_mark:', 2287), (':victory_hand:', 2288), (':water_pistol:', 2289), (':wind_face:', 2290), (':wolf:', 2291), (':woman’s_clothes:', 2292), (':wrapped_gift:', 2293), (';s', 2294), ('<kiss>', 2295), ('^', 2296), ('^_^', 2297), ('___', 2298), ('_full_plus_by_gora', 2299), ('aaron', 2300), ('abby', 2301), ('abla', 2302), ('abuses', 2303), ('abysmal', 2304), ('academia', 2305), ('acapella', 2306), ('accepts', 2307), ('accidental', 2308), ('accomplished', 2309), ('account', 2310), ('actively', 2311), ('actresses', 2312), ('acts', 2313), ('adcomm', 2314), ('add', 2315), ('adding', 2316), ('addition', 2317), ('adj', 2318), ('administrators', 2319), ('admits', 2320), ('admittedly', 2321), ('adopted', 2322), ('adoring', 2323), ('adrenaline', 2324), ('adressed', 2325), ('adults', 2326), ('advance', 2327), ('adventures', 2328), ('advocate', 2329), ('afc', 2330), ('affection', 2331), ('afflicted', 2332), ('affliction', 2333), ('afford', 2334), ('affordable', 2335), ('aflame', 2336), ('agentsof', 2337), ('ah', 2338), ('ahead', 2339), ('ahh', 2340), ('aico', 2341), ('aimed', 2342), ('aint', 2343), ('aja', 2344), ('ajafue', 2345), ('akon', 2346), ('akt', 2347), ('alias', 2348), ('alleged', 2349), ('allow', 2350), ('alternate', 2351), ('amelie', 2352), ('amen', 2353), ('amendment', 2354), ('amidst', 2355), ('amirite', 2356), ('amnd', 2357), ('amount', 2358), ('amy', 2359), ('anfield', 2360), ('angelina', 2361), ('anger', 2362), ('angle', 2363), ('angles', 2364), ('animals', 2365), ('animation', 2366), ('anime', 2367), ('annotated', 2368), ('announce', 2369), ('annoying', 2370), ('annual', 2371), ('answered', 2372), ('anthem', 2373), ('anticipation', 2374), ('anxious', 2375), ('anyway', 2376), ('apartment', 2377), ('apj', 2378), ('apocalypse', 2379), ('apologize', 2380), ('apparently', 2381), ('applauding', 2382), ('apply', 2383), ('appreciation', 2384), ('apps', 2385), ('arabia', 2386), ('archers', 2387), ('aren', 2388), ('argue', 2389), ('ari', 2390), ('aria', 2391), ('ariel', 2392), ('arkham', 2393), ('aroma', 2394), ('arrive', 2395), ('arrogance', 2396), ('arround', 2397), ('arrowverse', 2398), ('arsenal', 2399), ('arthur', 2400), ('articles', 2401), ('arts', 2402), ('arty', 2403), ('ashland', 2404), ('aside', 2405), ('aspire', 2406), ('assault', 2407), ('asshole', 2408), ('assure', 2409), ('astros', 2410), ('asylum', 2411), ('athenian', 2412), ('atkins', 2413), ('atop', 2414), ('attachment', 2415), ('attack', 2416), ('attacked', 2417), ('attempted', 2418), ('attempts', 2419), ('attend', 2420), ('attendance', 2421), ('attended', 2422), ('attending', 2423), ('attention', 2424), ('attentive', 2425), ('audacity', 2426), ('audience', 2427), ('audio', 2428), ('aurora', 2429), ('auto', 2430), ('automatic', 2431), ('av', 2432), ('avatar', 2433), ('ave', 2434), ('average', 2435), ('avid', 2436), ('avoiding', 2437), ('aw', 2438), ('awol', 2439), ('b4', 2440), ('b41', 2441), ('babe', 2442), ('bachelor', 2443), ('backbone', 2444), ('backfire', 2445), ('backing', 2446), ('badd', 2447), ('badger', 2448), ('bahahahaha', 2449), ('bainton', 2450), ('bake', 2451), ('balance', 2452), ('balancing', 2453), ('ball', 2454), ('banger', 2455), ('banquet', 2456), ('baptist', 2457), ('barbaria', 2458), ('barca', 2459), ('bare', 2460), ('barren', 2461), ('bartolomeo', 2462), ('baseball', 2463), ('based', 2464), ('bashir', 2465), ('basset', 2466), ('battle', 2467), ('bazigaga', 2468), ('bbva', 2469), ('beaches', 2470), ('beaming', 2471), ('bear', 2472), ('beats', 2473), ('beaut', 2474), ('beautifully', 2475), ('becca', 2476), ('become', 2477), ('becomes', 2478), ('becoming', 2479), ('bedtime', 2480), ('beef', 2481), ('beginning', 2482), ('beings', 2483), ('bellario', 2484), ('bellboy', 2485), ('belle', 2486), ('bells', 2487), ('belly', 2488), ('benefit', 2489), ('benefits', 2490), ('benoist', 2491), ('bernblade', 2492), ('betelgeuse', 2493), ('between', 2494), ('bey', 2495), ('bezza', 2496), ('bffing', 2497), ('bible', 2498), ('bigger', 2499), ('billie', 2500), ('biraz', 2501), ('bird', 2502), ('birth', 2503), ('birthdays', 2504), ('bitchass', 2505), ('bitches', 2506), ('biweekly', 2507), ('bizarre', 2508), ('bjp', 2509), ('blaiming', 2510), ('blame', 2511), ('blend', 2512), ('blew', 2513), ('blind', 2514), ('blinding', 2515), ('bliss', 2516), ('block', 2517), ('blocked', 2518), ('blocking', 2519), ('bloody', 2520), ('blossoming', 2521), ('blowing', 2522), ('blues', 2523), ('blushing', 2524), ('bobs', 2525), ('bodies', 2526), ('boggling', 2527), ('bomb', 2528), ('bonnie', 2529), ('boobs', 2530), ('boots', 2531), ('bops', 2532), ('boro', 2533), ('bother', 2534), ('bots', 2535), ('bounce', 2536), ('bounty', 2537), ('bouquet', 2538), ('bow', 2539), ('bowels', 2540), ('bowls', 2541), ('boxers', 2542), ('boxing', 2543), ('bqavtja', 2544), ('brad', 2545), ('brag', 2546), ('branch', 2547), ('bravado', 2548), ('bravo', 2549), ('brb', 2550), ('bread', 2551), ('breaking', 2552), ('breakups', 2553), ('breathe', 2554), ('breathes', 2555), ('breeze', 2556), ('brennan', 2557), ('brian', 2558), ('bribe', 2559), ('bribing', 2560), ('bridesmaid', 2561), ('brightens', 2562), ('brims', 2563), ('british', 2564), ('broad', 2565), ('brock', 2566), ('broke', 2567), ('brothers', 2568), ('bruce', 2569), ('brushing', 2570), ('brussels', 2571), ('brutality', 2572), ('bsnl', 2573), ('bt', 2574), ('btw', 2575), ('buffn', 2576), ('bull', 2577), ('bulldogs', 2578), ('bulushi', 2579), ('bumping', 2580), ('bunk', 2581), ('bunkface', 2582), ('burgers', 2583), ('burn', 2584), ('burning', 2585), ('burp', 2586), ('bursting', 2587), ('bushes', 2588), ('bust', 2589), ('busty', 2590), ('busy', 2591), ('butt', 2592), ('button', 2593), ('buying', 2594), ('buzzin', 2595), ('bway', 2596), ('bye', 2597), ('c4', 2598), ('cackle', 2599), ('caffeine', 2600), ('cahracter', 2601), ('calling', 2602), ('calming', 2603), ('cam', 2604), ('camera', 2605), ('camshaft', 2606), ('canadian', 2607), ('cannabis', 2608), ('canning', 2609), ('capable', 2610), ('caps', 2611), ('captivating', 2612), ('caramel', 2613), ('carbonation', 2614), ('card', 2615), ('careful', 2616), ('caressing', 2617), ('caring', 2618), ('carnal', 2619), ('carolina', 2620), ('carrell', 2621), ('carrick', 2622), ('carry', 2623), ('cars', 2624), ('cashcow', 2625), ('cast', 2626), ('caste', 2627), ('cat', 2628), ('categ', 2629), ('catering', 2630), ('cave', 2631), ('cavity', 2632), ('cb', 2633), ('cease', 2634), ('celebrated', 2635), ('celebration', 2636), ('celtic', 2637), ('cencerned', 2638), ('certain', 2639), ('challenged', 2640), ('challenging', 2641), ('champ', 2642), ('chances', 2643), ('changes', 2644), ('charm', 2645), ('chasing', 2646), ('chaudhry', 2647), ('chd', 2648), ('cheat', 2649), ('cheated', 2650), ('cheerios', 2651), ('chests', 2652), ('chicago', 2653), ('chicken', 2654), ('chief', 2655), ('childlike', 2656), ('chill', 2657), ('chilly', 2658), ('chime', 2659), ('chimes', 2660), ('chirps', 2661), ('chock', 2662), ('choked', 2663), ('chokes', 2664), ('chooses', 2665), ('chosen', 2666), ('christian', 2667), ('chuckle', 2668), ('cigarette', 2669), ('cinematography', 2670), ('cities', 2671), ('civil', 2672), ('clapping', 2673), ('classics', 2674), ('click', 2675), ('client', 2676), ('climb', 2677), ('climbed', 2678), ('clinging', 2679), ('clinton', 2680), ('closed', 2681), ('closest', 2682), ('cloud', 2683), ('cloudy', 2684), ('clowns', 2685), ('cmmyd', 2686), ('co', 2687), ('coaches', 2688), ('cocktails', 2689), ('coffin', 2690), ('coke', 2691), ('cokie', 2692), ('collab', 2693), ('collapse', 2694), ('collapses', 2695), ('colts', 2696), ('combination', 2697), ('combined', 2698), ('comedies', 2699), ('comfort', 2700), ('comforting', 2701), ('commando', 2702), ('commentary', 2703), ('comments', 2704), ('community', 2705), ('communitysleepcoach', 2706), ('companies', 2707), ('companion', 2708), ('companions', 2709), ('compatibility', 2710), ('competitive', 2711), ('compilations', 2712), ('compiled', 2713), ('complete', 2714), ('completely', 2715), ('complimentary', 2716), ('compromise', 2717), ('concert', 2718), ('condolences', 2719), ('confessions', 2720), ('confidence', 2721), ('congratulate', 2722), ('congress', 2723), ('connie', 2724), ('constant', 2725), ('constraints', 2726), ('cont2', 2727), ('contestants', 2728), ('continually', 2729), ('control', 2730), ('controlled', 2731), ('converse', 2732), ('convo', 2733), ('convos', 2734), ('cookie', 2735), ('coon', 2736), ('coping', 2737), ('cops', 2738), ('coq', 2739), ('core', 2740), ('corner', 2741), ('corners', 2742), ('corridors', 2743), ('cos', 2744), ('costs', 2745), ('couch', 2746), ('counsel', 2747), ('counted', 2748), ('countenance', 2749), ('counterintuitively', 2750), ('countryside', 2751), ('court', 2752), ('covered', 2753), ('cowboys', 2754), ('cows', 2755), ('coz', 2756), ('cqhshjsi', 2757), ('crack', 2758), ('cracking', 2759), ('created', 2760), ('crew', 2761), ('crickets', 2762), ('criminal', 2763), ('crinkling', 2764), ('crofting', 2765), ('cronies', 2766), ('crossfit', 2767), ('crossing', 2768), ('crossover', 2769), ('crowd', 2770), ('crushes', 2771), ('cst', 2772), ('cultivate', 2773), ('cum', 2774), ('cup', 2775), ('curiosity', 2776), ('current', 2777), ('curtains', 2778), ('curve', 2779), ('curving', 2780), ('cushion', 2781), ('cutest', 2782), ('cx', 2783), ('cyprus', 2784), ('da', 2785), ('dabbed', 2786), ('dalai', 2787), ('damon', 2788), ('dan', 2789), ('darker', 2790), ('darkest', 2791), ('darn', 2792), ('darren', 2793), ('dashed', 2794), ('data', 2795), ('dates', 2796), ('dating', 2797), ('daughter', 2798), ('daughters', 2799), ('david', 2800), ('dawn', 2801), ('dayof', 2802), ('dbs', 2803), ('dc', 2804), ('dean', 2805), ('deaths', 2806), ('debuts', 2807), ('decent', 2808), ('decided', 2809), ('decomposing', 2810), ('deep', 2811), ('def', 2812), ('defeated', 2813), ('defending', 2814), ('defiantly', 2815), ('defo', 2816), ('degenerates', 2817), ('delegation', 2818), ('deleted', 2819), ('delicious', 2820), ('deliver', 2821), ('dell', 2822), ('demi', 2823), ('demilterization', 2824), ('demise', 2825), ('demon', 2826), ('demonstrating', 2827), ('denigrate', 2828), ('denny', 2829), ('dense', 2830), ('denser', 2831), ('dependent', 2832), ('depict', 2833), ('depravity', 2834), ('depressed', 2835), ('dept', 2836), ('depth', 2837), ('describes', 2838), ('desgusting', 2839), ('design', 2840), ('designs', 2841), ('dessert', 2842), ('details', 2843), ('determined', 2844), ('determining', 2845), ('detroit', 2846), ('devastating', 2847), ('developed', 2848), ('developers', 2849), ('deviant', 2850), ('devil', 2851), ('devoid', 2852), ('devon', 2853), ('devout', 2854), ('dg', 2855), ('dialogue', 2856), ('dies', 2857), ('dignified', 2858), ('dilemma', 2859), ('diminish', 2860), ('diner', 2861), ('dingle', 2862), ('diplomacy', 2863), ('diplomat', 2864), ('directions', 2865), ('director', 2866), ('disappearing', 2867), ('discomfort', 2868), ('discord', 2869), ('discovered', 2870), ('discuss', 2871), ('disgrace', 2872), ('dishes', 2873), ('disrespect', 2874), ('distance', 2875), ('distinguished', 2876), ('distracted', 2877), ('diversity', 2878), ('divided', 2879), ('django', 2880), ('dming', 2881), ('dn', 2882), ('doctor', 2883), ('docu', 2884), ('doings', 2885), ('dolores', 2886), ('domestic', 2887), ('doorjambs', 2888), ('doth', 2889), ('doubles', 2890), ('doubt', 2891), ('dprk', 2892), ('drake', 2893), ('dramatically', 2894), ('dreams', 2895), ('dress', 2896), ('dressers', 2897), ('dresses', 2898), ('driven', 2899), ('drivers', 2900), ('driving', 2901), ('drooling', 2902), ('drown', 2903), ('drunk', 2904), ('drunken', 2905), ('ducked', 2906), ('duha', 2907), ('dunno', 2908), ('dutch', 2909), ('duterte', 2910), ('dvlpt', 2911), ('dwight', 2912), ('dysfunctional', 2913), ('ealing', 2914), ('earth', 2915), ('eas', 2916), ('easily', 2917), ('echoed', 2918), ('echoes', 2919), ('economic', 2920), ('eddy', 2921), ('educational', 2922), ('efficient', 2923), ('egg', 2924), ('ego', 2925), ('egypt', 2926), ('el', 2927), ('elation', 2928), ('election', 2929), ('electro', 2930), ('elegance', 2931), ('elevated', 2932), ('elicits', 2933), ('eliminated', 2934), ('elinor', 2935), ('elites', 2936), ('elizabeth', 2937), ('elizabethan', 2938), ('elton', 2939), ('elyse', 2940), ('embarrassed', 2941), ('emerson', 2942), ('emoji', 2943), ('emoticons', 2944), ('emotion', 2945), ('emotional', 2946), ('emotionalhedge', 2947), ('emotions', 2948), ('empty', 2949), ('endearing', 2950), ('ended', 2951), ('endorsement', 2952), ('ends', 2953), ('engineering', 2954), ('engiybhekayo', 2955), ('english', 2956), ('enhanced', 2957), ('enhancment', 2958), ('enigmatic', 2959), ('enjoyable', 2960), ('enjoying', 2961), ('enliven', 2962), ('ensue', 2963), ('ensues', 2964), ('ensure', 2965), ('entertainment', 2966), ('enthusiastic', 2967), ('entice', 2968), ('entirely', 2969), ('epicurus', 2970), ('equestrian', 2971), ('equivalent', 2972), ('ers', 2973), ('escape', 2974), ('espinosa', 2975), ('essential', 2976), ('eternal', 2977), ('eternity', 2978), ('eva', 2979), ('eve', 2980), ('evenin', 2981), ('everone', 2982), ('everythings', 2983), ('evolution', 2984), ('evolve', 2985), ('evolvement', 2986), ('exact', 2987), ('exactment', 2988), ('excitement', 2989), ('exhilarate', 2990), ('exist', 2991), ('existence', 2992), ('expectation', 2993), ('expected', 2994), ('expecting', 2995), ('expense', 2996), ('expensive', 2997), ('explain', 2998), ('explaining', 2999), ('explanation', 3000), ('explicits', 3001), ('exponentially', 3002), ('expressed', 3003), ('extended', 3004), ('eyed', 3005), ('eyelashes', 3006), ('eyepatch', 3007), ('eyggjxml', 3008), ('f', 3009), ('fab', 3010), ('faced', 3011), ('facets', 3012), ('failed', 3013), ('faith', 3014), ('faithful', 3015), ('faking', 3016), ('familiar', 3017), ('families', 3018), ('famous', 3019), ('fancy', 3020), ('fanfiction', 3021), ('fanz', 3022), ('farmhouse', 3023), ('fashion', 3024), ('fast', 3025), ('faster', 3026), ('fault', 3027), ('fave', 3028), ('favor', 3029), ('favorite', 3030), ('fays', 3031), ('fcking', 3032), ('fee', 3033), ('feed', 3034), ('feelings', 3035), ('fees', 3036), ('feet', 3037), ('fellow', 3038), ('females', 3039), ('fence', 3040), ('ff', 3041), ('ffs', 3042), ('fg2a', 3043), ('fighting', 3044), ('fights', 3045), ('figuring', 3046), ('filming', 3047), ('finale', 3048), ('finger', 3049), ('fingers', 3050), ('fitlife', 3051), ('fix', 3052), ('flag', 3053), ('flailing', 3054), ('flakes', 3055), ('flash', 3056), ('flawless', 3057), ('flick', 3058), ('flirting', 3059), ('floor', 3060), ('flourishes', 3061), ('flower', 3062), ('flushed', 3063), ('fodder', 3064), ('folding', 3065), ('folk', 3066), ('followed', 3067), ('follower', 3068), ('font', 3069), ('fooled', 3070), ('force', 3071), ('forego', 3072), ('foreign', 3073), ('foreigners', 3074), ('forest', 3075), ('forgiving', 3076), ('former', 3077), ('forth', 3078), ('foundation', 3079), ('fox', 3080), ('fr', 3081), ('francoise', 3082), ('freedom', 3083), ('freezer', 3084), ('french', 3085), ('freshly', 3086), ('freshmen', 3087), ('freudian', 3088), ('fried', 3089), ('friendship', 3090), ('frighteningly', 3091), ('frisbee', 3092), ('frivolity', 3093), ('froa', 3094), ('frolicsome', 3095), ('frown', 3096), ('fructose', 3097), ('fruit', 3098), ('frustrate', 3099), ('frustrated', 3100), ('frybread', 3101), ('ft', 3102), ('fu*king', 3103), ('fucked', 3104), ('fuckign', 3105), ('fuckin', 3106), ('fueled', 3107), ('fulfilling', 3108), ('function', 3109), ('funerals', 3110), ('funniest', 3111), ('funsville', 3112), ('furniture', 3113), ('further', 3114), ('fut', 3115), ('fx', 3116), ('galaxy', 3117), ('gamay', 3118), ('gaming', 3119), ('gangster', 3120), ('garageband', 3121), ('garbage', 3122), ('garden', 3123), ('garrett', 3124), ('gasp', 3125), ('gaudreau', 3126), ('gby', 3127), ('gears', 3128), ('geek', 3129), ('geese', 3130), ('gemma', 3131), ('generally', 3132), ('generations', 3133), ('genetics', 3134), ('geniuses', 3135), ('gently', 3136), ('geo', 3137), ('geometry', 3138), ('gershwin', 3139), ('gets20', 3140), ('gf', 3141), ('ghost', 3142), ('gideon', 3143), ('gkn', 3144), ('glance', 3145), ('glanced', 3146), ('glasgow', 3147), ('glass', 3148), ('gleesome', 3149), ('gloria', 3150), ('gloriosa', 3151), ('glossed', 3152), ('glow', 3153), ('glowing', 3154), ('gluttony', 3155), ('gn', 3156), ('goats', 3157), ('gobbler', 3158), ('goggles', 3159), ('goldbergs', 3160), ('gona', 3161), ('goo', 3162), ('goofiest', 3163), ('goofy', 3164), ('google', 3165), ('goosebumps', 3166), ('gorgeous', 3167), ('gosh', 3168), ('gosling', 3169), ('gough', 3170), ('gov', 3171), ('grace', 3172), ('graced', 3173), ('graceful', 3174), ('grade', 3175), ('grandson', 3176), ('granny', 3177), ('grant', 3178), ('grate', 3179), ('gratin', 3180), ('gratitude', 3181), ('greed', 3182), ('greengrass', 3183), ('greet', 3184), ('greeted', 3185), ('grid', 3186), ('grief', 3187), ('grim', 3188), ('grin', 3189), ('grinned', 3190), ('grins', 3191), ('gripping', 3192), ('groans', 3193), ('growls', 3194), ('grudgingly', 3195), ('grumbled', 3196), ('grumpy', 3197), ('guber', 3198), ('gud', 3199), ('guesses', 3200), ('guffaw', 3201), ('guilt', 3202), ('guitar', 3203), ('gulps', 3204), ('gunna', 3205), ('gunners', 3206), ('gustin', 3207), ('guts', 3208), ('gutted', 3209), ('h', 3210), ('ha', 3211), ('hah', 3212), ('hahahaha', 3213), ('hahahahahaha', 3214), ('hahahahahahaha', 3215), ('haired', 3216), ('halloween', 3217), ('halsey', 3218), ('ham', 3219), ('hand', 3220), ('handmade', 3221), ('handshake', 3222), ('harbour', 3223), ('harder', 3224), ('harking', 3225), ('harley', 3226), ('harry', 3227), ('harwood', 3228), ('hashtag', 3229), ('hassle', 3230), ('hater', 3231), ('hates', 3232), ('hats', 3233), ('hattrick', 3234), ('havent', 3235), ('hawkings', 3236), ('headed', 3237), ('heads', 3238), ('heap', 3239), ('hears', 3240), ('heartfelt', 3241), ('heather', 3242), ('hedonic', 3243), ('heel', 3244), ('held', 3245), ('hella', 3246), ('helluva', 3247), ('helpless', 3248), ('helps', 3249), ('hemmings', 3250), ('hephxho', 3251), ('heres', 3252), ('hernandez', 3253), ('heroes', 3254), ('herself', 3255), ('hesitantly', 3256), ('hestia', 3257), ('hide', 3258), ('highlight', 3259), ('hilt', 3260), ('himself', 3261), ('hindsight', 3262), ('hire', 3263), ('hitting', 3264), ('hms', 3265), ('hobbit', 3266), ('hole', 3267), ('hollywood', 3268), ('homefolks', 3269), ('homestyle', 3270), ('honestly', 3271), ('honor', 3272), ('honorable', 3273), ('honored', 3274), ('honoured', 3275), ('hooked', 3276), ('hop', 3277), ('horny', 3278), ('horror', 3279), ('horse', 3280), ('hospitalized', 3281), ('hotel', 3282), ('hound', 3283), ('houston', 3284), ('hovering', 3285), ('hovers', 3286), ('howling', 3287), ('hrs', 3288), ('hsnhzmjsc', 3289), ('hssu', 3290), ('htt', 3291), ('hubby', 3292), ('hug', 3293), ('hugging', 3294), ('hughes', 3295), ('hulu', 3296), ('humbly', 3297), ('humor', 3298), ('humping', 3299), ('hurting', 3300), ('hysterical', 3301), ('ian', 3302), ('icc', 3303), ('iced', 3304), ('ices', 3305), ('icon', 3306), ('icy', 3307), ('id', 3308), ('idc', 3309), ('idea', 3310), ('ideal', 3311), ('identity', 3312), ('idol', 3313), ('idolize', 3314), ('ignorance', 3315), ('ignored', 3316), ('ignoring', 3317), ('ihwph', 3318), ('ill', 3319), ('ily', 3320), ('images', 3321), ('imaginative', 3322), ('imessage', 3323), ('immolation', 3324), ('imo', 3325), ('imply', 3326), ('impress', 3327), ('impressive', 3328), ('improving', 3329), ('inactive', 3330), ('inappropriate', 3331), ('inc', 3332), ('incetown', 3333), ('included', 3334), ('increasing', 3335), ('indymn', 3336), ('infants', 3337), ('infectious', 3338), ('infinite', 3339), ('inflatable', 3340), ('influence', 3341), ('influenced', 3342), ('info', 3343), ('ing', 3344), ('ingest', 3345), ('inglorious', 3346), ('inhuman', 3347), ('iniesta', 3348), ('injecting', 3349), ('inmates', 3350), ('inner', 3351), ('innovative', 3352), ('inquiries', 3353), ('insides', 3354), ('inspired', 3355), ('instagram', 3356), ('instagramers', 3357), ('installed', 3358), ('instantly', 3359), ('instructional', 3360), ('insurance', 3361), ('insure', 3362), ('intelligence', 3363), ('interested', 3364), ('intermit', 3365), ('internet', 3366), ('interpreting', 3367), ('interrogation', 3368), ('interrupt', 3369), ('interviews', 3370), ('introducing', 3371), ('invaluable', 3372), ('invisible', 3373), ('invite', 3374), ('inviting', 3375), ('involved', 3376), ('ios10', 3377), ('ipaglabanmo', 3378), ('iphone', 3379), ('ipswich', 3380), ('iraq', 3381), ('ironman', 3382), ('irrelevant', 3383), ('irruptive', 3384), ('isaiah', 3385), ('ish', 3386), ('ishqbaaz', 3387), ('itll', 3388), ('itnis', 3389), ('itself', 3390), ('itt', 3391), ('iwldpe', 3392), ('izzy', 3393), ('jade', 3394), ('jail', 3395), ('jammies', 3396), ('jammy', 3397), ('janak', 3398), ('japes', 3399), ('jasperino', 3400), ('jauntily', 3401), ('jawbone', 3402), ('jaws', 3403), ('jd', 3404), ('jedi', 3405), ('jelly', 3406), ('jerk', 3407), ('jerkass', 3408), ('jersey', 3409), ('jetlag', 3410), ('jewels', 3411), ('jigaboo', 3412), ('jkuvmvqxy', 3413), ('johnny', 3414), ('joined', 3415), ('joining', 3416), ('joke', 3417), ('jokes', 3418), ('jolie', 3419), ('jonza', 3420), ('joyce', 3421), ('jpod', 3422), ('jstor', 3423), ('judge', 3424), ('julian', 3425), ('jummah', 3426), ('jumping', 3427), ('jungle', 3428), ('jus', 3429), ('justin', 3430), ('juxtaposition', 3431), ('kaml', 3432), ('kap', 3433), ('kardashian', 3434), ('karl', 3435), ('kashmires', 3436), ('kayaking', 3437), ('kayaks', 3438), ('kda', 3439), ('keifer', 3440), ('kelvin', 3441), ('kenneth', 3442), ('kept', 3443), ('kerry', 3444), ('kicked', 3445), ('killer', 3446), ('kills', 3447), ('kip', 3448), ('kirby', 3449), ('kisses', 3450), ('kissing', 3451), ('kitten', 3452), ('kjv', 3453), ('knitting', 3454), ('knocks', 3455), ('knows', 3456), ('knvfkkjg', 3457), ('korgoth', 3458), ('kudos', 3459), ('kyle', 3460), ('kzfqr', 3461), ('labeled', 3462), ('lacan', 3463), ('lack', 3464), ('lackeys', 3465), ('lakis', 3466), ('lama', 3467), ('lame', 3468), ('lara', 3469), ('latest', 3470), ('laudrup', 3471), ('laurel', 3472), ('laurie', 3473), ('lawsuit', 3474), ('layout', 3475), ('le', 3476), ('lea', 3477), ('lead', 3478), ('leafy', 3479), ('leap', 3480), ('leaqiwy', 3481), ('learned', 3482), ('learnt', 3483), ('lebanon', 3484), ('led', 3485), ('lengthening', 3486), ('leon', 3487), ('lers', 3488), ('lesson', 3489), ('lest', 3490), ('letter', 3491), ('letters', 3492), ('levels', 3493), ('ley', 3494), ('lfc', 3495), ('li', 3496), ('liarthiefscoundrel', 3497), ('liberals', 3498), ('liberated', 3499), ('lick', 3500), ('lies', 3501), ('lifelong', 3502), ('lifetime', 3503), ('lighthearted', 3504), ('lightly', 3505), ('likefor', 3506), ('likely', 3507), ('lingua', 3508), ('link', 3509), ('lip', 3510), ('lipped', 3511), ('lipstick', 3512), ('lisavikingstad', 3513), ('lisse', 3514), ('literature', 3515), ('liver', 3516), ('liverpool', 3517), ('lkskqufke', 3518), ('llnp', 3519), ('lmaoo', 3520), ('lo', 3521), ('loading', 3522), ('lobby', 3523), ('lochte', 3524), ('lock', 3525), ('lof', 3526), ('logically', 3527), ('lolz', 3528), ('loosen', 3529), ('looting', 3530), ('lordderply', 3531), ('losers', 3532), ('losing', 3533), ('losses', 3534), ('lott', 3535), ('loudon', 3536), ('lovato', 3537), ('loveet', 3538), ('lovelier', 3539), ('lover', 3540), ('lowe', 3541), ('lowers', 3542), ('lowkey', 3543), ('lowly', 3544), ('lucha', 3545), ('lucina', 3546), ('luckii', 3547), ('lufc', 3548), ('luis', 3549), ('lunatic', 3550), ('lundqvist', 3551), ('lungs', 3552), ('lurk', 3553), ('luther', 3554), ('luxurious', 3555), ('lv', 3556), ('lways', 3557), ('lyre', 3558), ('mackinnon', 3559), ('mackinonns', 3560), ('macos', 3561), ('madhouse', 3562), ('madly', 3563), ('mail', 3564), ('maine', 3565), ('maintain', 3566), ('maker', 3567), ('maketh', 3568), ('maliciously', 3569), ('mam', 3570), ('manage', 3571), ('manager', 3572), ('managers', 3573), ('maniac', 3574), ('manner', 3575), ('manuellynch99', 3576), ('manutd', 3577), ('margaret', 3578), ('marilyn', 3579), ('mariners', 3580), ('mario', 3581), ('marks', 3582), ('martin', 3583), ('mary', 3584), ('mass', 3585), ('mastered', 3586), ('matches', 3587), ('materialistic', 3588), ('math', 3589), ('matrix', 3590), ('matt', 3591), ('matter', 3592), ('matters', 3593), ('mattress', 3594), ('mb', 3595), ('md', 3596), ('meaningful', 3597), ('meanwhile', 3598), ('meatloaf', 3599), ('mebbe', 3600), ('medically', 3601), ('meditative', 3602), ('meetings', 3603), ('meets', 3604), ('mel', 3605), ('melbjs', 3606), ('melissa', 3607), ('melt', 3608), ('memorable', 3609), ('mendes', 3610), ('menninger', 3611), ('mental', 3612), ('mention', 3613), ('mentioned', 3614), ('mentions', 3615), ('menus', 3616), ('meogys', 3617), ('merci', 3618), ('merrier', 3619), ('messaging', 3620), ('metal', 3621), ('metaphor', 3622), ('metaphysics', 3623), ('meters', 3624), ('meth', 3625), ('mh', 3626), ('michael', 3627), ('michelle', 3628), ('mick', 3629), ('microsoft_', 3630), ('mid', 3631), ('middlesbrough', 3632), ('midterm', 3633), ('midweek', 3634), ('mikey', 3635), ('mile', 3636), ('milkmaid', 3637), ('millenials', 3638), ('million', 3639), ('mingo', 3640), ('minimize', 3641), ('mins', 3642), ('mints', 3643), ('mirana', 3644), ('mirror', 3645), ('mischievous', 3646), ('miserable', 3647), ('mishle', 3648), ('misogyny', 3649), ('missing', 3650), ('mississippi', 3651), ('mistook', 3652), ('mitts', 3653), ('mitzvah', 3654), ('mix', 3655), ('mode', 3656), ('moderately', 3657), ('modi', 3658), ('moments', 3659), ('monday', 3660), ('monotonous', 3661), ('monroe', 3662), ('monster', 3663), ('monsters', 3664), ('montalvo', 3665), ('moo', 3666), ('moons', 3667), ('moron', 3668), ('motivational', 3669), ('motteville', 3670), ('mouchole', 3671), ('mountain', 3672), ('mourinho', 3673), ('mouth', 3674), ('movements', 3675), ('moves', 3676), ('movies', 3677), ('moving', 3678), ('mpn', 3679), ('mqnaocu', 3680), ('ms', 3681), ('msm', 3682), ('mt', 3683), ('mubarak', 3684), ('mucus', 3685), ('mug', 3686), ('murmuring', 3687), ('murphy', 3688), ('muslims', 3689), ('mustache_harbor', 3690), ('muzzle', 3691), ('myspace', 3692), ('n*she', 3693), ('n10', 3694), ('n311', 3695), ('nah', 3696), ('naivety', 3697), ('nalso', 3698), ('nalways', 3699), ('named', 3700), ('nand', 3701), ('nanny', 3702), ('narcoleptic', 3703), ('nare', 3704), ('narkham', 3705), ('nat', 3706), ('natong', 3707), ('naturally', 3708), ('nature', 3709), ('nbaby', 3710), ('nblushing', 3711), ('nbut', 3712), ('ncaa', 3713), ('ndare', 3714), ('near', 3715), ('nearly', 3716), ('neating', 3717), ('necessary', 3718), ('necessity', 3719), ('neck', 3720), ('neeze', 3721), ('nephalism', 3722), ('nephews', 3723), ('nerve', 3724), ('nerves', 3725), ('nervous', 3726), ('net', 3727), ('net_framework_4', 3728), ('newbies', 3729), ('nga', 3730), ('ngood', 3731), ('nharry', 3732), ('nheart', 3733), ('nhlnyc', 3734), ('nhlnycsweepstakes', 3735), ('nhobbit', 3736), ('nhow', 3737), ('nibbles', 3738), ('nicest', 3739), ('nick', 3740), ('nif', 3741), ('nigger', 3742), ('nights', 3743), ('nihari', 3744), ('nill', 3745), ('nin', 3746), ('ninaturner', 3747), ('ninto', 3748), ('nirvana', 3749), ('niv', 3750), ('nkindly', 3751), ('nmake', 3752), ('nmichael', 3753), ('nmore', 3754), ('nmummified', 3755), ('nmy', 3756), ('nnot', 3757), ('nnow', 3758), ('noah', 3759), ('nods', 3760), ('nof', 3761), ('nol', 3762), ('nominate', 3763), ('nonsense', 3764), ('noodle', 3765), ('noodles', 3766), ('nor', 3767), ('normally', 3768), ('normy', 3769), ('northampton', 3770), ('nostalgia', 3771), ('note', 3772), ('notebooks', 3773), ('nother', 3774), ('notice', 3775), ('notification', 3776), ('nov26', 3777), ('npraise', 3778), ('npsa113', 3779), ('npursing', 3780), ('nsam', 3781), ('nsfw', 3782), ('nshe', 3783), ('nshut', 3784), ('ntalk', 3785), ('nthank', 3786), ('nthat', 3787), ('nthere', 3788), ('nthey', 3789), ('nto', 3790), ('ntoday', 3791), ('ntomiho', 3792), ('nuclear', 3793), ('nuse', 3794), ('nwest', 3795), ('nwhat', 3796), ('nwho', 3797), ('nwill', 3798), ('nyes', 3799), ('nyou', 3800), ('nything', 3801), ('oakland', 3802), ('obc', 3803), ('obfuscated', 3804), ('object', 3805), ('oblivion', 3806), ('obnoxious', 3807), ('obscura', 3808), ('observant', 3809), ('observation', 3810), ('observing', 3811), ('obvious', 3812), ('obviously', 3813), ('occasional', 3814), ('occasionally', 3815), ('od', 3816), ('odell', 3817), ('offensive', 3818), ('offer', 3819), ('official', 3820), ('offline', 3821), ('ogre', 3822), ('oii', 3823), ('ointment', 3824), ('olives', 3825), ('omd', 3826), ('ondo', 3827), ('onision', 3828), ('onstage', 3829), ('onto', 3830), ('opened', 3831), ('openly', 3832), ('opinions', 3833), ('oppressor', 3834), ('optimistic', 3835), ('optimization', 3836), ('options', 3837), ('ordering', 3838), ('oregon', 3839), ('organ', 3840), ('orient', 3841), ('origins', 3842), ('os', 3843), ('oscillation', 3844), ('ostentatious', 3845), ('ounce', 3846), ('ours', 3847), ('ourselves', 3848), ('outage', 3849), ('outfit', 3850), ('outta', 3851), ('overheard', 3852), ('overthinking', 3853), ('ovet', 3854), ('owners', 3855), ('pa', 3856), ('package', 3857), ('pages', 3858), ('paid', 3859), ('paige', 3860), ('painful', 3861), ('paint', 3862), ('pal', 3863), ('pale', 3864), ('palm', 3865), ('pals', 3866), ('pampa', 3867), ('pandering', 3868), ('panel', 3869), ('panther', 3870), ('parade', 3871), ('paradigm', 3872), ('parched', 3873), ('parent', 3874), ('parents', 3875), ('parking', 3876), ('participants', 3877), ('particularly', 3878), ('parties', 3879), ('partners', 3880), ('passenger', 3881), ('passing', 3882), ('passionate', 3883), ('pastel', 3884), ('path', 3885), ('pathetic', 3886), ('patience', 3887), ('patient', 3888), ('patients', 3889), ('patron', 3890), ('patroons', 3891), ('paused', 3892), ('pavel', 3893), ('pawpaw', 3894), ('paws', 3895), ('pay', 3896), ('payet', 3897), ('peacebuilding', 3898), ('peacekeepers', 3899), ('peeping', 3900), ('peer', 3901), ('peers', 3902), ('peg', 3903), ('pens', 3904), ('per', 3905), ('perceived', 3906), ('performance', 3907), ('performances', 3908), ('personality', 3909), ('personally', 3910), ('pervert', 3911), ('pessimism', 3912), ('pet', 3913), ('peterson', 3914), ('phases', 3915), ('phenomanal', 3916), ('philippians', 3917), ('phillips', 3918), ('phones', 3919), ('photograph', 3920), ('php54', 3921), ('pic', 3922), ('pick', 3923), ('picked', 3924), ('pickup', 3925), ('pics', 3926), ('pictures', 3927), ('piers', 3928), ('pikxb', 3929), ('pilot', 3930), ('pinafore', 3931), ('pinch', 3932), ('pink', 3933), ('pinky', 3934), ('pinning', 3935), ('pinterest', 3936), ('pissed', 3937), ('pistols', 3938), ('pitt', 3939), ('pittsburgh', 3940), ('pixel', 3941), ('plan', 3942), ('planet', 3943), ('planning', 3944), ('plant', 3945), ('plants', 3946), ('plop', 3947), ('plot', 3948), ('plum', 3949), ('pno', 3950), ('po', 3951), ('pochama', 3952), ('pochettino', 3953), ('pocket', 3954), ('poems', 3955), ('poet', 3956), ('poetic', 3957), ('pointless', 3958), ('points', 3959), ('pole', 3960), ('political', 3961), ('poll', 3962), ('pool', 3963), ('popped', 3964), ('popular', 3965), ('popularization', 3966), ('port', 3967), ('porthole', 3968), ('portrait', 3969), ('pos', 3970), ('pose', 3971), ('positions', 3972), ('positives', 3973), ('pot', 3974), ('potter', 3975), ('poured', 3976), ('powerful', 3977), ('powerpoint', 3978), ('pp', 3979), ('pray', 3980), ('prayers', 3981), ('predictions', 3982), ('predicts', 3983), ('prefer', 3984), ('prematured', 3985), ('premiers', 3986), ('prepare', 3987), ('prepped', 3988), ('prescription', 3989), ('presentation', 3990), ('presentations', 3991), ('press', 3992), ('pressed', 3993), ('pressure', 3994), ('previous', 3995), ('priceless', 3996), ('prick', 3997), ('pricks', 3998), ('pride', 3999), ('priests', 4000), ('principle', 4001), ('prison', 4002), ('private', 4003), ('pro', 4004), ('produced', 4005), ('produces', 4006), ('productive', 4007), ('prof', 4008), ('profession', 4009), ('professional', 4010), ('professor', 4011), ('proficiency', 4012), ('profile', 4013), ('profit', 4014), ('profitable', 4015), ('prohibitionists', 4016), ('project', 4017), ('prolly', 4018), ('prom', 4019), ('pronouncing', 4020), ('propensity', 4021), ('proper', 4022), ('proprieties', 4023), ('protect', 4024), ('protesters', 4025), ('proven', 4026), ('provided', 4027), ('ps2', 4028), ('psa', 4029), ('psalm', 4030), ('psychology', 4031), ('pto', 4032), ('ptsd', 4033), ('publicly', 4034), ('pulls', 4035), ('pulpit', 4036), ('pummeling', 4037), ('pumping', 4038), ('punchline', 4039), ('punkin', 4040), ('puppies', 4041), ('pups', 4042), ('push', 4043), ('pussy', 4044), ('qmiv', 4045), ('queen', 4046), ('queendom', 4047), ('queens', 4048), ('quick', 4049), ('quickly', 4050), ('quoteoftheday', 4051), ('rachel', 4052), ('raiders', 4053), ('rain', 4054), ('rainbows', 4055), ('raining', 4056), ('rainy', 4057), ('raise', 4058), ('raised', 4059), ('ralph', 4060), ('random', 4061), ('randomly', 4062), ('range', 4063), ('raper', 4064), ('rapeseed', 4065), ('rapidly', 4066), ('rapids', 4067), ('rappers', 4068), ('rapping', 4069), ('rar', 4070), ('rare', 4071), ('rast', 4072), ('rasta', 4073), ('rat', 4074), ('ratio', 4075), ('rcmh', 4076), ('reaches', 4077), ('react', 4078), ('reactions', 4079), ('realisation', 4080), ('realising', 4081), ('realization', 4082), ('rebuild', 4083), ('receive', 4084), ('reckon', 4085), ('reclaimed', 4086), ('recognized', 4087), ('record', 4088), ('recorded', 4089), ('recording', 4090), ('redefine', 4091), ('reflect', 4092), ('reformation', 4093), ('refs', 4094), ('refuse', 4095), ('regard', 4096), ('regenerated', 4097), ('regimes', 4098), ('reginald', 4099), ('regular', 4100), ('regulation', 4101), ('regulus', 4102), ('rehoi', 4103), ('rei', 4104), ('reid', 4105), ('reinvigorated', 4106), ('rejoices', 4107), ('relations', 4108), ('relationships', 4109), ('relatives', 4110), ('relaxing', 4111), ('release', 4112), ('relentless', 4113), ('relentlessly', 4114), ('relevant', 4115), ('religious', 4116), ('relive', 4117), ('remain', 4118), ('remembering', 4119), ('remind', 4120), ('render', 4121), ('renew', 4122), ('renown', 4123), ('rep', 4124), ('reparations', 4125), ('repentance', 4126), ('replaced', 4127), ('reporting', 4128), ('require', 4129), ('researching', 4130), ('reservation', 4131), ('resident', 4132), ('respectful', 4133), ('responsibility', 4134), ('restaurant', 4135), ('retaliation', 4136), ('return', 4137), ('returned', 4138), ('retweet', 4139), ('reveal', 4140), ('revealed', 4141), ('revelation', 4142), ('review', 4143), ('revision', 4144), ('reynolds', 4145), ('rfpbax', 4146), ('rhythm', 4147), ('ri', 4148), ('riches', 4149), ('ridiculous', 4150), ('riding', 4151), ('rikona', 4152), ('rise', 4153), ('risk', 4154), ('risky', 4155), ('ritual', 4156), ('rivers', 4157), ('rob', 4158), ('robot', 4159), ('rodrigo', 4160), ('roland', 4161), ('rollerblades', 4162), ('romcoms', 4163), ('rope', 4164), ('rose', 4165), ('roses', 4166), ('rosy', 4167), ('roth', 4168), ('rub', 4169), ('rubbing', 4170), ('ruins', 4171), ('run', 4172), ('russia', 4173), ('ruth', 4174), ('rwanda', 4175), ('sable', 4176), ('sacrificed', 4177), ('sacrifices', 4178), ('saddened', 4179), ('saf', 4180), ('safe', 4181), ('sager', 4182), ('sales', 4183), ('salespeople', 4184), ('salon', 4185), ('salt', 4186), ('saltes', 4187), ('sanki', 4188), ('saps', 4189), ('sat', 4190), ('satan', 4191), ('satisfied', 4192), ('saturdaynightlive', 4193), ('saudi', 4194), ('saves', 4195), ('savory', 4196), ('scarf', 4197), ('scarring', 4198), ('sceen', 4199), ('scenery', 4200), ('scent', 4201), ('schaaf', 4202), ('schools', 4203), ('scoffed', 4204), ('scra', 4205), ('scratched', 4206), ('scream', 4207), ('screams', 4208), ('screen', 4209), ('scripted', 4210), ('scrum', 4211), ('searching', 4212), ('seasons', 4213), ('secretary', 4214), ('section', 4215), ('seek', 4216), ('seemed', 4217), ('sef', 4218), ('segment', 4219), ('selflessly', 4220), ('selling', 4221), ('semores', 4222), ('senator', 4223), ('sending', 4224), ('sends', 4225), ('senior', 4226), ('sense', 4227), ('sentient', 4228), ('seo', 4229), ('separates', 4230), ('servants', 4231), ('served', 4232), ('services', 4233), ('settled', 4234), ('sevylor', 4235), ('sexually', 4236), ('sg', 4237), ('shabazz', 4238), ('shade', 4239), ('shakespearean', 4240), ('shame', 4241), ('shanghais', 4242), ('shared', 4243), ('shark', 4244), ('shattering', 4245), ('shawty', 4246), ('sheet', 4247), ('shh', 4248), ('shining', 4249), ('shiny', 4250), ('shipped', 4251), ('shite', 4252), ('shittalking', 4253), ('shoes', 4254), ('shook', 4255), ('shooting', 4256), ('shopping', 4257), ('shorty', 4258), ('shot', 4259), ('shots', 4260), ('shoulders', 4261), ('shouting', 4262), ('shove', 4263), ('shown', 4264), ('shred', 4265), ('shy', 4266), ('siblings', 4267), ('sid', 4268), ('sidedly', 4269), ('sign', 4270), ('siguemeytesigo', 4271), ('silky', 4272), ('similar', 4273), ('simmons', 4274), ('simon', 4275), ('simultaneously', 4276), ('sincere', 4277), ('sing', 4278), ('sioux', 4279), ('sip', 4280), ('sipping', 4281), ('sisters', 4282), ('sites', 4283), ('sitting', 4284), ('six', 4285), ('sixth', 4286), ('skating', 4287), ('skein', 4288), ('skin', 4289), ('skinny', 4290), ('skull', 4291), ('sky', 4292), ('skydrive', 4293), ('slavery', 4294), ('slid', 4295), ('slide', 4296), ('slip', 4297), ('slutty', 4298), ('smack', 4299), ('small', 4300), ('smallest', 4301), ('smell', 4302), ('smelled', 4303), ('smells', 4304), ('smiled', 4305), ('smirk', 4306), ('smith', 4307), ('smithsonian', 4308), ('smoking', 4309), ('smoky', 4310), ('smoother', 4311), ('smth', 4312), ('snap', 4313), ('snow', 4314), ('soaked', 4315), ('sob', 4316), ('socialmedia', 4317), ('society', 4318), ('sofa', 4319), ('soft', 4320), ('solange', 4321), ('sold', 4322), ('soldier', 4323), ('solo', 4324), ('solutions', 4325), ('solved', 4326), ('someday', 4327), ('somewhere', 4328), ('soo', 4329), ('soothe', 4330), ('soros', 4331), ('sort', 4332), ('sorta', 4333), ('soundtrack', 4334), ('soup', 4335), ('sour', 4336), ('source', 4337), ('sox', 4338), ('soy', 4339), ('space', 4340), ('spanish', 4341), ('spar', 4342), ('sparkly', 4343), ('special', 4344), ('specific', 4345), ('spell', 4346), ('spice', 4347), ('spider', 4348), ('spin', 4349), ('spiritually', 4350), ('spit', 4351), ('spoken', 4352), ('spontaneous', 4353), ('sporting', 4354), ('sprouts', 4355), ('spy', 4356), ('sq', 4357), ('squad', 4358), ('squats', 4359), ('squeak', 4360), ('squealed', 4361), ('squirrel', 4362), ('stack', 4363), ('stadium', 4364), ('stairs', 4365), ('stalkers', 4366), ('starbucks', 4367), ('starving', 4368), ('statement', 4369), ('statuses', 4370), ('statutes', 4371), ('steady', 4372), ('steam', 4373), ('steer', 4374), ('step', 4375), ('stewards', 4376), ('sticking', 4377), ('stiff', 4378), ('stifle', 4379), ('stifled', 4380), ('stitch', 4381), ('stitches', 4382), ('stool', 4383), ('stoops', 4384), ('stopped', 4385), ('stories', 4386), ('storing', 4387), ('stormy', 4388), ('strange', 4389), ('strangely', 4390), ('stratagem', 4391), ('stream', 4392), ('street', 4393), ('stress', 4394), ('string', 4395), ('stringing', 4396), ('strongman', 4397), ('struggle', 4398), ('strutting', 4399), ('studio', 4400), ('studying', 4401), ('stupefied', 4402), ('stupendous', 4403), ('style', 4404), ('subscribe', 4405), ('subsidised', 4406), ('subway', 4407), ('succeed', 4408), ('suck', 4409), ('sucked', 4410), ('sue', 4411), ('suffering', 4412), ('suffocate', 4413), ('sugarboy', 4414), ('suggest', 4415), ('suggesting', 4416), ('suicidal', 4417), ('summerof', 4418), ('sunday', 4419), ('sunniness', 4420), ('sunset', 4421), ('supper', 4422), ('supported', 4423), ('supporters', 4424), ('suppose', 4425), ('surely', 4426), ('surprised', 4427), ('surrey', 4428), ('survive', 4429), ('sushi', 4430), ('suspect', 4431), ('swallow', 4432), ('swam', 4433), ('swan', 4434), ('sweater', 4435), ('sweaty', 4436), ('sweeping', 4437), ('sweepstakes', 4438), ('sweetmeats', 4439), ('sweetness', 4440), ('sweets', 4441), ('sweety', 4442), ('swinging', 4443), ('sylvia', 4444), ('symmetry', 4445), ('symptomatize', 4446), ('table', 4447), ('taco', 4448), ('tags', 4449), ('taguchi', 4450), ('taht', 4451), ('tail', 4452), ('takeru', 4453), ('takes', 4454), ('talkative', 4455), ('tambourines', 4456), ('tame', 4457), ('tamu', 4458), ('tapingday2', 4459), ('target', 4460), ('tatenashi', 4461), ('tattoos', 4462), ('taurus', 4463), ('tax', 4464), ('taxed', 4465), ('tbh', 4466), ('teach', 4467), ('teacher', 4468), ('teaching', 4469), ('tear', 4470), ('teases', 4471), ('technics', 4472), ('ted', 4473), ('telly', 4474), ('temperament', 4475), ('tenaciously', 4476), ('teppu', 4477), ('term', 4478), ('terrorism', 4479), ('texting', 4480), ('texture', 4481), ('thatcher', 4482), ('theaters', 4483), ('thehulk', 4484), ('theirs', 4485), ('themselves', 4486), ('thfc', 4487), ('thicker', 4488), ('thighs', 4489), ('thoroughly', 4490), ('thou', 4491), ('thread', 4492), ('threats', 4493), ('threesome', 4494), ('thrilled', 4495), ('throat', 4496), ('throughout', 4497), ('tht', 4498), ('thugs', 4499), ('tiburonchamber', 4500), ('ticket', 4501), ('tickets', 4502), ('tiger', 4503), ('tightly', 4504), ('tilting', 4505), ('timeless', 4506), ('timid', 4507), ('tinted', 4508), ('tiny', 4509), ('tipped', 4510), ('titan', 4511), ('title', 4512), ('titter', 4513), ('token', 4514), ('tolerate', 4515), ('tonite', 4516), ('tops', 4517), ('tore', 4518), ('totes', 4519), ('touching', 4520), ('tough', 4521), ('towel', 4522), ('tower', 4523), ('town', 4524), ('toy', 4525), ('trace', 4526), ('tradition', 4527), ('traditionalists', 4528), ('tragically', 4529), ('transcendent', 4530), ('transitioning', 4531), ('transmission', 4532), ('transpo', 4533), ('transportation', 4534), ('trashy', 4535), ('travelled', 4536), ('treated', 4537), ('trepidation', 4538), ('tribal', 4539), ('tribute', 4540), ('tricks', 4541), ('triggered', 4542), ('trip', 4543), ('tripping', 4544), ('trips', 4545), ('trondheim', 4546), ('troops', 4547), ('trusted', 4548), ('trusting', 4549), ('truthfm', 4550), ('tryna', 4551), ('tuhday', 4552), ('tune', 4553), ('turkish', 4554), ('turned', 4555), ('tutoring', 4556), ('twain', 4557), ('tweegram', 4558), ('tweeted', 4559), ('tweeting', 4560), ('twelvemonth', 4561), ('twin', 4562), ('ty', 4563), ('types', 4564), ('typical', 4565), ('tzxchldaq', 4566), ('u.k.', 4567), ('uff', 4568), ('ugly', 4569), ('ulysses', 4570), ('unable', 4571), ('unappetizing', 4572), ('unbelievably', 4573), ('uncertainty', 4574), ('unchained', 4575), ('unchecked', 4576), ('unconceivable', 4577), ('underground', 4578), ('underlord', 4579), ('underneath', 4580), ('underrated', 4581), ('undying', 4582), ('unending', 4583), ('unexpectedly', 4584), ('unfailingly', 4585), ('unintentional', 4586), ('unite', 4587), ('universal', 4588), ('unixware', 4589), ('unless', 4590), ('unlikely', 4591), ('unlimited', 4592), ('uno', 4593), ('unplug', 4594), ('unreal', 4595), ('unwelcome', 4596), ('upbeat', 4597), ('updated', 4598), ('uplifting', 4599), ('upper', 4600), ('uproarious', 4601), ('upset', 4602), ('upside', 4603), ('uranus', 4604), ('ure', 4605), ('useless', 4606), ('username', 4607), ('usual', 4608), ('usually', 4609), ('uudqujcia', 4610), ('vacation', 4611), ('valerie', 4612), ('vallely', 4613), ('valley', 4614), ('vals', 4615), ('value', 4616), ('vampire', 4617), ('various', 4618), ('varsity', 4619), ('vawyzad', 4620), ('veg', 4621), ('vegas', 4622), ('venezuela', 4623), ('vents', 4624), ('verified', 4625), ('vernon', 4626), ('versus', 4627), ('vest', 4628), ('vet', 4629), ('veteran', 4630), ('vibes', 4631), ('vice', 4632), ('victim', 4633), ('vids', 4634), ('view', 4635), ('viewers', 4636), ('vigorous', 4637), ('vile', 4638), ('village', 4639), ('vincent', 4640), ('violence', 4641), ('violently', 4642), ('visitors', 4643), ('visually', 4644), ('vitriolic', 4645), ('vivacious', 4646), ('vixx', 4647), ('vocab', 4648), ('volatility', 4649), ('vrlfeyrn', 4650), ('vulnerable', 4651), ('wagging', 4652), ('waist', 4653), ('waited', 4654), ('wakes', 4655), ('waldo', 4656), ('walked', 4657), ('wall', 4658), ('waltz', 4659), ('warblers', 4660), ('ward', 4661), ('warm', 4662), ('wasted', 4663), ('watering', 4664), ('waving', 4665), ('wavy', 4666), ('wawa', 4667), ('waxen', 4668), ('wcw', 4669), ('weak', 4670), ('wealth', 4671), ('weans', 4672), ('weary', 4673), ('weathers', 4674), ('webcast', 4675), ('webiversary', 4676), ('website', 4677), ('websites', 4678), ('weed', 4679), ('weighty', 4680), ('weird', 4681), ('wel', 4682), ('werent', 4683), ('wesszz', 4684), ('west', 4685), ('westbank', 4686), ('western', 4687), ('westminster', 4688), ('wet', 4689), ('wgj', 4690), ('whenever', 4691), ('whiney', 4692), ('whistling', 4693), ('whitfield', 4694), ('whoo', 4695), ('whu', 4696), ('wide', 4697), ('widows', 4698), ('wifl', 4699), ('wiki', 4700), ('willing', 4701), ('willingness', 4702), ('willxbe', 4703), ('wind', 4704), ('windermere', 4705), ('windmill', 4706), ('window', 4707), ('winds', 4708), ('winter', 4709), ('wiser', 4710), ('witches', 4711), ('witness', 4712), ('witout', 4713), ('wl', 4714), ('woah', 4715), ('woke', 4716), ('wondering', 4717), ('wonderstruck', 4718), ('wondrful', 4719), ('woods', 4720), ('woolwich', 4721), ('worker', 4722), ('wormhole', 4723), ('worth', 4724), ('worthy', 4725), ('wps', 4726), ('wrapped', 4727), ('wraps', 4728), ('wrath', 4729), ('wrinkling', 4730), ('writes', 4731), ('wtf', 4732), ('wyd', 4733), ('x16', 4734), ('x225', 4735), ('xhaka', 4736), ('xucqb', 4737), ('yahweh', 4738), ('yall', 4739), ('yapyap', 4740), ('yasezayoni', 4741), ('ydxef', 4742), ('yell', 4743), ('yelling', 4744), ('yells', 4745), ('yessir', 4746), ('yesyesyes', 4747), ('yiu', 4748), ('yoosung', 4749), ('younger', 4750), ('yourselves', 4751), ('youthful', 4752), ('youthfulness', 4753), ('yugioh', 4754), ('zales', 4755), ('zaza', 4756), ('zeph', 4757), ('zephaniah', 4758), ('zero', 4759), ('zeth', 4760), ('{', 4761), ('}', 4762), ('\\x92', 4763), ('ω', 4764), ('деньги', 4765), ('الوطني', 4766), ('اليوم', 4767), ('∇', 4768), ('≦', 4769), ('≧', 4770), ('➤', 4771), ('「', 4772), ('」', 4773), ('\\uf3fc', 4774), ('\\uf481', 4775), ('\\uf499', 4776), ('\\uf525', 4777), ('\\uf610', 4778), ('\\uf631', 4779), ('珞', 4780), ('（', 4781), ('）', 4782), ('🇦', 4783), ('🇨', 4784), ('🇳', 4785), ('🇴', 4786), ('\\U000fe334', 4787)]\n"
          ]
        }
      ]
    },
    {
      "cell_type": "code",
      "source": [
        "print(field_tweet.vocab.vectors[field_tweet.vocab.stoi['the']])"
      ],
      "metadata": {
        "colab": {
          "base_uri": "https://localhost:8080/"
        },
        "id": "JWm00sA6DDOE",
        "outputId": "90d4fd86-7d62-459e-927d-707fff9cfca1"
      },
      "execution_count": 25,
      "outputs": [
        {
          "output_type": "stream",
          "name": "stdout",
          "text": [
            "tensor([-0.0382, -0.2449,  0.7281, -0.3996,  0.0832,  0.0440, -0.3914,  0.3344,\n",
            "        -0.5755,  0.0875,  0.2879, -0.0673,  0.3091, -0.2638, -0.1323, -0.2076,\n",
            "         0.3340, -0.3385, -0.3174, -0.4834,  0.1464, -0.3730,  0.3458,  0.0520,\n",
            "         0.4495, -0.4697,  0.0263, -0.5415, -0.1552, -0.1411, -0.0397,  0.2828,\n",
            "         0.1439,  0.2346, -0.3102,  0.0862,  0.2040,  0.5262,  0.1716, -0.0824,\n",
            "        -0.7179, -0.4153,  0.2033, -0.1276,  0.4137,  0.5519,  0.5791, -0.3348,\n",
            "        -0.3656, -0.5486, -0.0629,  0.2658,  0.3020,  0.9977, -0.8048, -3.0243,\n",
            "         0.0125, -0.3694,  2.2167,  0.7220, -0.2498,  0.9214,  0.0345,  0.4674,\n",
            "         1.1079, -0.1936, -0.0746,  0.2335, -0.0521, -0.2204,  0.0572, -0.1581,\n",
            "        -0.3080, -0.4162,  0.3797,  0.1501, -0.5321, -0.2055, -1.2526,  0.0716,\n",
            "         0.7056,  0.4974, -0.4206,  0.2615, -1.5380, -0.3022, -0.0734, -0.2831,\n",
            "         0.3710, -0.2522,  0.0162, -0.0171, -0.3898,  0.8742, -0.7257, -0.5106,\n",
            "        -0.5203, -0.1459,  0.8278,  0.2706])\n"
          ]
        }
      ]
    },
    {
      "cell_type": "code",
      "source": [
        "field_tweet.vocab.vectors[9]"
      ],
      "metadata": {
        "colab": {
          "base_uri": "https://localhost:8080/"
        },
        "id": "JzdTB_-C0ok7",
        "outputId": "509cb84e-7af7-47f4-a67f-1aa9783ffb15"
      },
      "execution_count": 26,
      "outputs": [
        {
          "output_type": "execute_result",
          "data": {
            "text/plain": [
              "tensor([-1.8970e-01,  5.0024e-02,  1.9084e-01, -4.9184e-02, -8.9737e-02,\n",
              "         2.1006e-01, -5.4952e-01,  9.8377e-02, -2.0135e-01,  3.4241e-01,\n",
              "        -9.2677e-02,  1.6100e-01, -1.3268e-01, -2.8160e-01,  1.8737e-01,\n",
              "        -4.2959e-01,  9.6039e-01,  1.3972e-01, -1.0781e+00,  4.0518e-01,\n",
              "         5.0539e-01, -5.5064e-01,  4.8440e-01,  3.8044e-01, -2.9055e-03,\n",
              "        -3.4942e-01, -9.9696e-02, -7.8368e-01,  1.0363e+00, -2.3140e-01,\n",
              "        -4.7121e-01,  5.7126e-01, -2.1454e-01,  3.5958e-01, -4.8319e-01,\n",
              "         1.0875e+00,  2.8524e-01,  1.2447e-01, -3.9248e-02, -7.6732e-02,\n",
              "        -7.6343e-01, -3.2409e-01, -5.7490e-01, -1.0893e+00, -4.1811e-01,\n",
              "         4.5120e-01,  1.2112e-01, -5.1367e-01, -1.3349e-01, -1.1378e+00,\n",
              "        -2.8768e-01,  1.6774e-01,  5.5804e-01,  1.5387e+00,  1.8859e-02,\n",
              "        -2.9721e+00, -2.4216e-01, -9.2495e-01,  2.1992e+00,  2.8234e-01,\n",
              "        -3.4780e-01,  5.1621e-01, -4.3387e-01,  3.6852e-01,  7.4573e-01,\n",
              "         7.2102e-02,  2.7931e-01,  9.2569e-01, -5.0336e-02, -8.5856e-01,\n",
              "        -1.3580e-01, -9.2551e-01, -3.3991e-01, -1.0394e+00, -6.7203e-02,\n",
              "        -2.1379e-01, -4.7690e-01,  2.1377e-01, -8.4008e-01,  5.2536e-02,\n",
              "         5.9298e-01,  2.9604e-01, -6.7644e-01,  1.3916e-01, -1.5504e+00,\n",
              "        -2.0765e-01,  7.2220e-01,  5.2056e-01, -7.6221e-02, -1.5194e-01,\n",
              "        -1.3134e-01,  5.8617e-02, -3.1869e-01, -6.1419e-01, -6.2393e-01,\n",
              "        -4.1548e-01, -3.8175e-02, -3.9804e-01,  4.7647e-01, -1.5983e-01])"
            ]
          },
          "metadata": {},
          "execution_count": 26
        }
      ]
    },
    {
      "cell_type": "code",
      "source": [
        "# for batch_number, batch in enumerate(train_iterator):\n",
        "#   print(batch_number)\n",
        "#   print(batch.tweet)\n",
        "#   print(batch.intensity)"
      ],
      "metadata": {
        "id": "HqQWc-yYsQkN"
      },
      "execution_count": 27,
      "outputs": []
    },
    {
      "cell_type": "markdown",
      "source": [
        "## CNN 1d model"
      ],
      "metadata": {
        "id": "-h9cXmnyualc"
      }
    },
    {
      "cell_type": "code",
      "source": [
        "import torch.nn as nn\n",
        "import torch.nn.functional as F\n",
        "\n",
        "class CNN1d(nn.Module):\n",
        "    def __init__(self, vocab_size, embedding_dim, n_filters, filter_sizes, output_dim, \n",
        "                 dropout, pad_idx):\n",
        "        super().__init__()\n",
        "        \n",
        "        self.embedding = nn.Embedding(vocab_size, embedding_dim, padding_idx = pad_idx)\n",
        "        self.convs = nn.ModuleList([\n",
        "                                    nn.Conv1d(in_channels = embedding_dim, \n",
        "                                              out_channels = n_filters, \n",
        "                                              kernel_size = fs)\n",
        "                                    for fs in filter_sizes\n",
        "                                    ])\n",
        "        \n",
        "        self.fc = nn.Linear(len(filter_sizes) * n_filters, output_dim)\n",
        "        \n",
        "        self.dropout = nn.Dropout(dropout)\n",
        "        \n",
        "    def forward(self, text):\n",
        "        \n",
        "        #text = [batch size, sent len]\n",
        "        \n",
        "        embedded = self.embedding(text)\n",
        "                \n",
        "        #embedded = [batch size, sent len, emb dim]\n",
        "        \n",
        "        embedded = embedded.permute(0, 2, 1)\n",
        "        \n",
        "        #embedded = [batch size, emb dim, sent len]\n",
        "        \n",
        "        conved = [F.relu(conv(embedded)) for conv in self.convs]\n",
        "            \n",
        "        #conved_n = [batch size, n_filters, sent len - filter_sizes[n] + 1]\n",
        "        \n",
        "        pooled = [F.max_pool1d(conv, conv.shape[2]).squeeze(2) for conv in conved]\n",
        "        \n",
        "        #pooled_n = [batch size, n_filters]\n",
        "        \n",
        "        cat = self.dropout(torch.cat(pooled, dim = 1))\n",
        "        \n",
        "        #cat = [batch size, n_filters * len(filter_sizes)]\n",
        "            \n",
        "        return self.fc(cat)"
      ],
      "metadata": {
        "id": "sp8KeSpquZqB"
      },
      "execution_count": 28,
      "outputs": []
    },
    {
      "cell_type": "code",
      "source": [
        "INPUT_DIM = len(field_tweet.vocab)\n",
        "EMBEDDING_DIM = 100\n",
        "N_FILTERS = 100\n",
        "FILTER_SIZES = [2, 3, 4, 5]\n",
        "OUTPUT_DIM = 1\n",
        "DROPOUT = 0.5\n",
        "PAD_IDX = field_tweet.vocab.stoi[field_tweet.pad_token]"
      ],
      "metadata": {
        "id": "J2YB0TUfvZuM"
      },
      "execution_count": 29,
      "outputs": []
    },
    {
      "cell_type": "code",
      "source": [
        "model = CNN1d(INPUT_DIM, EMBEDDING_DIM, N_FILTERS, FILTER_SIZES, OUTPUT_DIM, DROPOUT, PAD_IDX)"
      ],
      "metadata": {
        "id": "lB-kw2t_voEm"
      },
      "execution_count": 30,
      "outputs": []
    },
    {
      "cell_type": "code",
      "source": [
        "print(model)"
      ],
      "metadata": {
        "colab": {
          "base_uri": "https://localhost:8080/"
        },
        "id": "3rmWk_FHvu3T",
        "outputId": "b56ff6a0-61e2-49d3-ce69-aacc39c83857"
      },
      "execution_count": 31,
      "outputs": [
        {
          "output_type": "stream",
          "name": "stdout",
          "text": [
            "CNN1d(\n",
            "  (embedding): Embedding(4788, 100, padding_idx=1)\n",
            "  (convs): ModuleList(\n",
            "    (0): Conv1d(100, 100, kernel_size=(2,), stride=(1,))\n",
            "    (1): Conv1d(100, 100, kernel_size=(3,), stride=(1,))\n",
            "    (2): Conv1d(100, 100, kernel_size=(4,), stride=(1,))\n",
            "    (3): Conv1d(100, 100, kernel_size=(5,), stride=(1,))\n",
            "  )\n",
            "  (fc): Linear(in_features=400, out_features=1, bias=True)\n",
            "  (dropout): Dropout(p=0.5, inplace=False)\n",
            ")\n"
          ]
        }
      ]
    },
    {
      "cell_type": "markdown",
      "source": [
        "### Load Pre trained embeddings\n",
        "we'll load the pre-trained *embeddings*"
      ],
      "metadata": {
        "id": "z4p5YOsBygPk"
      }
    },
    {
      "cell_type": "code",
      "source": [
        "pretrained_embeddings = field_tweet.vocab.vectors\n",
        "\n",
        "model.embedding.weight.data.copy_(pretrained_embeddings)"
      ],
      "metadata": {
        "colab": {
          "base_uri": "https://localhost:8080/"
        },
        "id": "42HOzqrZySOt",
        "outputId": "ffd71cea-d068-4abc-c475-9e4f7f9730b1"
      },
      "execution_count": 32,
      "outputs": [
        {
          "output_type": "execute_result",
          "data": {
            "text/plain": [
              "tensor([[ 0.2962,  1.7695, -0.3753,  ...,  0.6108,  0.9870,  1.4013],\n",
              "        [ 0.9379,  0.0977, -0.0512,  ...,  1.0824, -0.5521, -0.7536],\n",
              "        [-1.0006,  0.1637,  0.0558,  ..., -0.2318,  0.0228, -0.5063],\n",
              "        ...,\n",
              "        [ 2.2101,  0.9584, -0.9633,  ..., -0.6489,  0.7088, -1.1412],\n",
              "        [ 1.5186, -1.7275, -0.9734,  ...,  0.7294, -0.5465, -1.4925],\n",
              "        [-0.0742,  0.7225,  1.5210,  ...,  0.7322,  1.0388,  0.8350]])"
            ]
          },
          "metadata": {},
          "execution_count": 32
        }
      ]
    },
    {
      "cell_type": "code",
      "source": [
        "field_tweet.vocab.vectors.shape"
      ],
      "metadata": {
        "colab": {
          "base_uri": "https://localhost:8080/"
        },
        "id": "03-leBf6zSk5",
        "outputId": "d2438511-7ce6-4d5e-8c0e-32d17aa3a47c"
      },
      "execution_count": 33,
      "outputs": [
        {
          "output_type": "execute_result",
          "data": {
            "text/plain": [
              "torch.Size([4788, 100])"
            ]
          },
          "metadata": {},
          "execution_count": 33
        }
      ]
    },
    {
      "cell_type": "code",
      "source": [
        "UNK_IDX = field_tweet.vocab.stoi[field_tweet.unk_token]\n",
        "\n",
        "model.embedding.weight.data[UNK_IDX] = torch.zeros(EMBEDDING_DIM)\n",
        "model.embedding.weight.data[PAD_IDX] = torch.zeros(EMBEDDING_DIM)"
      ],
      "metadata": {
        "id": "Lve6CyJk9zfA"
      },
      "execution_count": 34,
      "outputs": []
    },
    {
      "cell_type": "markdown",
      "source": [
        "## Training the model"
      ],
      "metadata": {
        "id": "kBjLi5QG9_YG"
      }
    },
    {
      "cell_type": "markdown",
      "source": [
        "### Without training one forward pass"
      ],
      "metadata": {
        "id": "dxM_9csG_O4A"
      }
    },
    {
      "cell_type": "code",
      "source": [
        "for batch in train_iterator:\n",
        "  output = model(batch.tweet)\n",
        "  print (output)\n",
        "  break"
      ],
      "metadata": {
        "colab": {
          "base_uri": "https://localhost:8080/"
        },
        "id": "bD0y4pNS_SUP",
        "outputId": "b179035d-f230-4473-e56b-e43f08b1774e"
      },
      "execution_count": 35,
      "outputs": [
        {
          "output_type": "stream",
          "name": "stdout",
          "text": [
            "tensor([[-0.7209],\n",
            "        [ 0.0949]], grad_fn=<AddmmBackward>)\n"
          ]
        },
        {
          "output_type": "stream",
          "name": "stderr",
          "text": [
            "/usr/local/lib/python3.7/dist-packages/torch/nn/functional.py:652: UserWarning: Named tensors and all their associated APIs are an experimental feature and subject to change. Please do not use them for anything important until they are released as stable. (Triggered internally at  /pytorch/c10/core/TensorImpl.h:1156.)\n",
            "  return torch.max_pool1d(input, kernel_size, stride, padding, dilation, ceil_mode)\n"
          ]
        }
      ]
    },
    {
      "cell_type": "code",
      "source": [
        "# import torch.optim as optim\n",
        "\n",
        "# optimizer = optim.Adam(model.parameters())\n",
        "\n",
        "# criterion = nn.BCEWithLogitsLoss()\n",
        "\n",
        "# model = model.to(DEVICE)\n",
        "# criterion = criterion.to(DEVICE)"
      ],
      "metadata": {
        "id": "MpixOSrh-Kv0"
      },
      "execution_count": 36,
      "outputs": []
    },
    {
      "cell_type": "markdown",
      "source": [
        "### Train Model Function"
      ],
      "metadata": {
        "id": "JA0vjUUeXElw"
      }
    },
    {
      "cell_type": "code",
      "source": [
        "# Training Function\n",
        "\n",
        "from tqdm import tqdm # for beautiful model training updates\n",
        "\n",
        "\n",
        "def train_model(model, device, train_loader, optimizer, epoch):\n",
        "    model.train() # setting the model in training mode\n",
        "    pbar = tqdm(train_loader) # putting the iterator in pbara\n",
        "    correct = 0 # for accuracy numerator\n",
        "    processed =0 # for accuracy denominator\n",
        "    epoch_loss = 0.0\n",
        "    for batch_idx, batch in enumerate(pbar):\n",
        "\n",
        "        tweets, intensities = batch.tweet.to(device), batch.intensity.to(device)  # plural, we are not interested in domain\n",
        "        #sending data to CPU or GPU as per device\n",
        "\n",
        "        optimizer.zero_grad() # setting gradients to zero to avoid accumulation\n",
        "\n",
        "        y_preds = model(tweets) # forward pass, result captured in y_preds (plural as there are many body in a batch)\n",
        "        # we are not interested in domain prediction\n",
        "        # the predictions are in one hot vector\n",
        "\n",
        "        loss = F.l1_loss(y_preds,intensities.unsqueeze(1)) # Computing loss\n",
        "\n",
        "\n",
        "        # loss = F.mse_loss(y_preds,intensities.unsqueeze(1)) # Computing loss\n",
        "\n",
        "        train_losses.append(loss) # to capture loss over many epochs\n",
        "\n",
        "        loss.backward() # backpropagation\n",
        "        optimizer.step() # updating the params\n",
        "\n",
        "        # preds = y_preds.argmax(dim=1, keepdim=True)  # get the index olf the max log-probability\n",
        "        # correct += preds.eq(labels.view_as(preds)).sum().item()\n",
        "        epoch_loss += loss.item()\n",
        "\n",
        "        processed += len(tweets)\n",
        "\n",
        "        pbar.set_description(desc= f'Loss={loss.item()} Batch_id={batch_idx} Epoch Average loss={100*epoch_loss/processed:0.4f}')\n",
        "    train_accuracy.append(100*epoch_loss/len(train_loader))"
      ],
      "metadata": {
        "id": "2QtsY9qU-Rg9"
      },
      "execution_count": 37,
      "outputs": []
    },
    {
      "cell_type": "code",
      "source": [
        "# EXECUTION\n",
        "\n",
        "\n",
        "optimizer = optim.Adam(model.parameters(), lr=0.001)\n",
        "\n",
        "# train_losses = [] # to capture train losses over training epochs\n",
        "# train_accuracy = [] # to capture train accuracy over training epochs\n",
        "# val_losses = [] # to capture validation loss\n",
        "# test_losses = [] # to capture test losses \n",
        "# test_accuracy = [] # to capture test accuracy \n",
        "\n",
        "# EPOCHS = 2\n",
        "EPOCHS = 5\n",
        "# dict_val_loss = {}\n",
        "# dict_test_loss = {}\n",
        "\n",
        "\n",
        "train_losses = [] # to capture train losses over training epochs\n",
        "train_accuracy = [] # to capture train accuracy over training epochs\n",
        "val_losses = [] # to capture validation loss\n",
        "test_losses = [] # to capture test losses \n",
        "# print(f'----------------------training started for {name}-----------------')\n",
        "for epoch in range(EPOCHS):\n",
        "  print(\"EPOCH:\", epoch+1)\n",
        "  train_model(model, DEVICE, train_iterator, optimizer, epoch)\n",
        "  # print(\"\\nfor validation.......\")\n",
        "  # val_name = train_name.replace(\"train\", \"val\" )\n",
        "  # test_model(typical_model, device, dict_val_loader[val_name], mode = 'val')\n",
        "  \n",
        "\n",
        "\n",
        "  # print(\"for test  .......\")\n",
        "  # test_name = train_name.replace(\"train\", \"test\" )\n",
        "  # test_model(typical_model, device, dict_test_loader[test_name], mode = 'test')\n",
        "\n",
        "# dict_val_loss[name] = val_losses\n",
        "# dict_test_loss[name] = test_losses\n",
        "\n",
        "# model_name = name+\".pt\"\n",
        "# torch.save(typical_model.state_dict(), os.path.join(MODEL_DIR, model_name))\n",
        "# print(f'----------------------training complete for {name}-----------------')\n",
        "# # print(dict_val_loss.items())\n",
        "# # print(dict_test_loss.items())"
      ],
      "metadata": {
        "colab": {
          "base_uri": "https://localhost:8080/"
        },
        "id": "nLYNyFPTBmCT",
        "outputId": "605cec77-9040-4ef9-ff12-3d5c2ba09d4c"
      },
      "execution_count": 38,
      "outputs": [
        {
          "output_type": "stream",
          "name": "stdout",
          "text": [
            "EPOCH: 1\n"
          ]
        },
        {
          "output_type": "stream",
          "name": "stderr",
          "text": [
            "Loss=0.00420360779389739 Batch_id=807 Epoch Average loss=8.9457: 100%|██████████| 808/808 [00:23<00:00, 34.62it/s]\n"
          ]
        },
        {
          "output_type": "stream",
          "name": "stdout",
          "text": [
            "EPOCH: 2\n"
          ]
        },
        {
          "output_type": "stream",
          "name": "stderr",
          "text": [
            "Loss=0.004489339888095856 Batch_id=807 Epoch Average loss=2.2830: 100%|██████████| 808/808 [00:20<00:00, 39.78it/s]\n"
          ]
        },
        {
          "output_type": "stream",
          "name": "stdout",
          "text": [
            "EPOCH: 3\n"
          ]
        },
        {
          "output_type": "stream",
          "name": "stderr",
          "text": [
            "Loss=0.004034465178847313 Batch_id=807 Epoch Average loss=1.8448: 100%|██████████| 808/808 [00:20<00:00, 39.30it/s]\n"
          ]
        },
        {
          "output_type": "stream",
          "name": "stdout",
          "text": [
            "EPOCH: 4\n"
          ]
        },
        {
          "output_type": "stream",
          "name": "stderr",
          "text": [
            "Loss=0.14098365604877472 Batch_id=807 Epoch Average loss=1.8886: 100%|██████████| 808/808 [00:21<00:00, 38.30it/s]\n"
          ]
        },
        {
          "output_type": "stream",
          "name": "stdout",
          "text": [
            "EPOCH: 5\n"
          ]
        },
        {
          "output_type": "stream",
          "name": "stderr",
          "text": [
            "Loss=0.15413236618041992 Batch_id=807 Epoch Average loss=1.8969: 100%|██████████| 808/808 [00:17<00:00, 45.22it/s]\n"
          ]
        }
      ]
    },
    {
      "cell_type": "code",
      "source": [
        "optimizer = optim.Adam(model.parameters(), lr=0.001)\n",
        "\n",
        "# train_losses = [] # to capture train losses over training epochs\n",
        "# train_accuracy = [] # to capture train accuracy over training epochs\n",
        "# val_losses = [] # to capture validation loss\n",
        "# test_losses = [] # to capture test losses \n",
        "# test_accuracy = [] # to capture test accuracy \n",
        "\n",
        "# EPOCHS = 2\n",
        "EPOCHS = 5\n",
        "# dict_val_loss = {}\n",
        "# dict_test_loss = {}\n",
        "\n",
        "\n",
        "train_losses = [] # to capture train losses over training epochs\n",
        "train_accuracy = [] # to capture train accuracy over training epochs\n",
        "val_losses = [] # to capture validation loss\n",
        "test_losses = [] # to capture test losses \n",
        "# print(f'----------------------training started for {name}-----------------')\n",
        "for epoch in range(EPOCHS):\n",
        "  print(\"EPOCH:\", epoch+1)\n",
        "  train_model(model, DEVICE, train_iterator, optimizer, epoch)"
      ],
      "metadata": {
        "colab": {
          "base_uri": "https://localhost:8080/"
        },
        "id": "VpbFmFXxDA2A",
        "outputId": "cac45022-72c0-45a7-c6ef-0c4f6f452b84"
      },
      "execution_count": 39,
      "outputs": [
        {
          "output_type": "stream",
          "name": "stdout",
          "text": [
            "EPOCH: 1\n"
          ]
        },
        {
          "output_type": "stream",
          "name": "stderr",
          "text": [
            "Loss=0.015686871483922005 Batch_id=807 Epoch Average loss=2.1725: 100%|██████████| 808/808 [00:17<00:00, 46.39it/s]\n"
          ]
        },
        {
          "output_type": "stream",
          "name": "stdout",
          "text": [
            "EPOCH: 2\n"
          ]
        },
        {
          "output_type": "stream",
          "name": "stderr",
          "text": [
            "Loss=0.004623284097760916 Batch_id=807 Epoch Average loss=2.2477: 100%|██████████| 808/808 [00:17<00:00, 45.49it/s]\n"
          ]
        },
        {
          "output_type": "stream",
          "name": "stdout",
          "text": [
            "EPOCH: 3\n"
          ]
        },
        {
          "output_type": "stream",
          "name": "stderr",
          "text": [
            "Loss=0.002241383073851466 Batch_id=807 Epoch Average loss=3.7912: 100%|██████████| 808/808 [00:17<00:00, 45.45it/s]\n"
          ]
        },
        {
          "output_type": "stream",
          "name": "stdout",
          "text": [
            "EPOCH: 4\n"
          ]
        },
        {
          "output_type": "stream",
          "name": "stderr",
          "text": [
            "Loss=0.09278494864702225 Batch_id=807 Epoch Average loss=5.3251: 100%|██████████| 808/808 [00:17<00:00, 45.15it/s]\n"
          ]
        },
        {
          "output_type": "stream",
          "name": "stdout",
          "text": [
            "EPOCH: 5\n"
          ]
        },
        {
          "output_type": "stream",
          "name": "stderr",
          "text": [
            "Loss=0.023505859076976776 Batch_id=807 Epoch Average loss=9.4223: 100%|██████████| 808/808 [00:18<00:00, 44.29it/s]\n"
          ]
        }
      ]
    }
  ]
}