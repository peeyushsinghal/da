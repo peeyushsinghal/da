{
  "nbformat": 4,
  "nbformat_minor": 0,
  "metadata": {
    "colab": {
      "provenance": [],
      "collapsed_sections": [],
      "authorship_tag": "ABX9TyNNUC7CZ2yJXO6/Nt3bc9ge",
      "include_colab_link": true
    },
    "kernelspec": {
      "name": "python3",
      "display_name": "Python 3"
    },
    "language_info": {
      "name": "python"
    },
    "gpuClass": "standard",
    "accelerator": "GPU"
  },
  "cells": [
    {
      "cell_type": "markdown",
      "metadata": {
        "id": "view-in-github",
        "colab_type": "text"
      },
      "source": [
        "<a href=\"https://colab.research.google.com/github/peeyushsinghal/da/blob/main/mitigating_bias_sa_da_v7.ipynb\" target=\"_parent\"><img src=\"https://colab.research.google.com/assets/colab-badge.svg\" alt=\"Open In Colab\"/></a>"
      ]
    },
    {
      "cell_type": "markdown",
      "source": [
        "# Mitigating bias in sentiment analysis using domain adaptation"
      ],
      "metadata": {
        "id": "smhY2FyQoMJY"
      }
    },
    {
      "cell_type": "code",
      "source": [
        "! pip install torchtext==0.10.0 --quiet # DOWNGRADE YOUR TORCHTEXT\n",
        "! pip install ekphrasis --quiet # library to pre process twitter data\n",
        "! pip install emoji --upgrade --quiet #library to deal with emoji data\n"
      ],
      "metadata": {
        "colab": {
          "base_uri": "https://localhost:8080/"
        },
        "id": "RS_tIhlS2jzV",
        "outputId": "262cd5e9-23a8-470d-9933-92e0a61cf2ea"
      },
      "execution_count": 1,
      "outputs": [
        {
          "output_type": "stream",
          "name": "stdout",
          "text": [
            "\u001b[K     |████████████████████████████████| 7.6 MB 15.2 MB/s \n",
            "\u001b[K     |████████████████████████████████| 831.4 MB 2.6 kB/s \n",
            "\u001b[31mERROR: pip's dependency resolver does not currently take into account all the packages that are installed. This behaviour is the source of the following dependency conflicts.\n",
            "torchvision 0.13.1+cu113 requires torch==1.12.1, but you have torch 1.9.0 which is incompatible.\n",
            "torchaudio 0.12.1+cu113 requires torch==1.12.1, but you have torch 1.9.0 which is incompatible.\u001b[0m\n",
            "\u001b[K     |████████████████████████████████| 83 kB 2.4 MB/s \n",
            "\u001b[K     |████████████████████████████████| 53 kB 1.9 MB/s \n",
            "\u001b[K     |████████████████████████████████| 45 kB 3.9 MB/s \n",
            "\u001b[K     |████████████████████████████████| 240 kB 13.9 MB/s \n",
            "\u001b[?25h  Building wheel for emoji (setup.py) ... \u001b[?25l\u001b[?25hdone\n"
          ]
        }
      ]
    },
    {
      "cell_type": "code",
      "source": [
        "## Import statements\n",
        "import pandas as pd\n",
        "import os\n",
        "import torch\n",
        "from torch.utils.data import Dataset, DataLoader\n",
        "from torchtext.legacy.data import Dataset, Field, TabularDataset, BucketIterator\n",
        "from torchtext.vocab import GloVe\n",
        "# import torchtext.functional as TTF\n",
        "import numpy as np\n",
        "from ekphrasis.classes.preprocessor import TextPreProcessor\n",
        "from ekphrasis.classes.tokenizer import SocialTokenizer\n",
        "from ekphrasis.dicts.emoticons import emoticons\n",
        "import emoji\n",
        "from torchtext.legacy.vocab import Vectors\n",
        "from tqdm import tqdm\n",
        "import random\n",
        "import torch.optim as optim\n",
        "# import json\n",
        "# Importing library\n",
        "import scipy.stats as stats\n",
        "from statistics import mean"
      ],
      "metadata": {
        "id": "ObCLSMyRohfP"
      },
      "execution_count": 2,
      "outputs": []
    },
    {
      "cell_type": "code",
      "source": [
        "# checking device\n",
        "DEVICE = torch.device(\"cuda\" if torch.cuda.is_available() else \"cpu\")\n",
        "print(\"Running on:{}\".format(DEVICE))"
      ],
      "metadata": {
        "colab": {
          "base_uri": "https://localhost:8080/"
        },
        "id": "lzQzb_SFoqdX",
        "outputId": "97c5d1bd-9e4a-46f2-c1a2-3c855ebeb775"
      },
      "execution_count": 3,
      "outputs": [
        {
          "output_type": "stream",
          "name": "stdout",
          "text": [
            "Running on:cuda\n"
          ]
        }
      ]
    },
    {
      "cell_type": "markdown",
      "source": [
        "## Data loading"
      ],
      "metadata": {
        "id": "xjIR3OrQoSEQ"
      }
    },
    {
      "cell_type": "code",
      "source": [
        "#Mounting google drive\n",
        "from google.colab import drive\n",
        "drive.mount('/content/drive', force_remount=True)"
      ],
      "metadata": {
        "colab": {
          "base_uri": "https://localhost:8080/"
        },
        "id": "6rI_zEuloY4U",
        "outputId": "e839380f-3dfd-40c7-fa59-06a350e190b1"
      },
      "execution_count": 4,
      "outputs": [
        {
          "output_type": "stream",
          "name": "stdout",
          "text": [
            "Mounted at /content/drive\n"
          ]
        }
      ]
    },
    {
      "cell_type": "markdown",
      "source": [
        "## Data Configuration"
      ],
      "metadata": {
        "id": "o_kVI7furv8T"
      }
    },
    {
      "cell_type": "code",
      "source": [
        "BASE_PATH = '/content/drive/MyDrive/semeval-2018'\n",
        "\n",
        "DATA_DIR = os.path.join(BASE_PATH,'datasets')\n",
        "TARGET_DIR = os.path.join(BASE_PATH,'targetdataset')\n",
        "\n",
        "MODEL_DIR = os.path.join(BASE_PATH,'models')\n",
        "REF_DIR = os.path.join(BASE_PATH,'reference')\n",
        "\n",
        "if not os.path.exists(MODEL_DIR):\n",
        "  os.makedirs(MODEL_DIR)\n",
        "  print(\"The new directory is created!\")\n",
        "\n",
        "domain_source = 0.0\n",
        "domain_target = 1.0"
      ],
      "metadata": {
        "id": "052h66kcr6KV"
      },
      "execution_count": 5,
      "outputs": []
    },
    {
      "cell_type": "code",
      "source": [
        "class TASK1(object):\n",
        "  \n",
        "    EI_reg = {\n",
        "        'anger': {\n",
        "            'train': os.path.join(\n",
        "                DATA_DIR, 'task1/EI-reg/training/EI-reg-En-anger-train.txt'),\n",
        "            'dev': os.path.join(\n",
        "                DATA_DIR, 'task1/EI-reg/development/2018-EI-reg-En-anger-dev.txt'),\n",
        "            'gold': os.path.join(\n",
        "                DATA_DIR, 'task1/EI-reg/test-gold/2018-EI-reg-En-anger-test-gold.txt')\n",
        "                },\n",
        "        'joy': {\n",
        "                'train': os.path.join(\n",
        "                    DATA_DIR, 'task1/EI-reg/training/EI-reg-En-joy-train.txt'),\n",
        "                'dev': os.path.join(\n",
        "                    DATA_DIR, 'task1/EI-reg/development/2018-EI-reg-En-joy-dev.txt'),\n",
        "                'gold': os.path.join(\n",
        "                    DATA_DIR, 'task1/EI-reg/test-gold/2018-EI-reg-En-joy-test-gold.txt')\n",
        "                    }\n",
        "        }\n",
        "\n",
        "    # V_reg = {\n",
        "    #     'train': os.path.join(\n",
        "    #         DATA_DIR, 'task1/V-reg/2018-Valence-reg-En-train.txt'),\n",
        "    #     'dev': os.path.join(\n",
        "    #         DATA_DIR, 'task1/V-reg/2018-Valence-reg-En-dev.txt'),\n",
        "    #     'gold': os.path.join(\n",
        "    #         DATA_DIR, 'task1/V-reg/2018-Valence-reg-En-test-gold.txt')\n",
        "    #          }\n",
        "\n",
        "    EEC = {\n",
        "        'eec': os.path.join(\n",
        "            DATA_DIR, 'task1/Equity-Evaluation-Corpus/Equity-Evaluation-Corpus.csv')\n",
        "             }"
      ],
      "metadata": {
        "id": "qn0ixH3-sC1y"
      },
      "execution_count": 6,
      "outputs": []
    },
    {
      "cell_type": "markdown",
      "source": [
        "## Source Data\n",
        "Parsing Emotion and Valence regression data : `format [ID\tTweet\tAffect Dimension\tIntensity Score]`"
      ],
      "metadata": {
        "id": "Gvy12RtIsqyE"
      }
    },
    {
      "cell_type": "code",
      "source": [
        "def parse_reg(data_file, label_format='tuple'):#->  pd.DataFrame:\n",
        "    \"\"\"\n",
        "    This is for datasets for the EI-reg and V-reg English tasks \n",
        "    Returns:\n",
        "        df: dataframe with columns in the first row of file [ID-Tweet-Affect Dimension-Intensity Score]\n",
        "    \"\"\"\n",
        "    with open(data_file, 'r') as fd:\n",
        "      data = [l.strip().split('\\t') for l in fd.readlines()]\n",
        "    \n",
        "    # print(data)\n",
        "    df = pd.DataFrame (data[1:],columns=data[0])\n",
        "    csv_file_name = (data_file.split(\"/\")[-1]).split('.')[0]+\".csv\"\n",
        "    csv_file = df.to_csv(str(csv_file_name))\n",
        "    # df['domain'] = domain_source\n",
        "    return csv_file_name\n",
        "    # return df"
      ],
      "metadata": {
        "id": "Df43LU3ztDAk"
      },
      "execution_count": 7,
      "outputs": []
    },
    {
      "cell_type": "code",
      "source": [
        "parse_reg(os.path.join(DATA_DIR, 'task1/EI-reg/training/EI-reg-En-joy-train.txt'))"
      ],
      "metadata": {
        "colab": {
          "base_uri": "https://localhost:8080/",
          "height": 36
        },
        "id": "K784ApxTavkE",
        "outputId": "9fd872f3-b50f-47a3-dab9-259e87955eec"
      },
      "execution_count": 8,
      "outputs": [
        {
          "output_type": "execute_result",
          "data": {
            "text/plain": [
              "'EI-reg-En-joy-train.csv'"
            ],
            "application/vnd.google.colaboratory.intrinsic+json": {
              "type": "string"
            }
          },
          "metadata": {},
          "execution_count": 8
        }
      ]
    },
    {
      "cell_type": "markdown",
      "source": [
        "## Source Parser\n",
        "Generic Source Data Parser"
      ],
      "metadata": {
        "id": "VTmAiHnBZBKF"
      }
    },
    {
      "cell_type": "code",
      "source": [
        "def parse_csv(task, dataset, emotion='anger'):\n",
        "    if task == 'EI-reg':\n",
        "        data_train = TASK1.EI_reg[emotion][dataset]\n",
        "        csv_file_name = parse_reg(data_train)\n",
        "        return csv_file_name\n",
        "        # df[df.columns[-1]] = df[df.columns[-1]].astype(float)\n",
        "        # return df\n",
        "    # elif task == 'V-reg':\n",
        "    #     data_train = TASK1.V_reg[dataset]\n",
        "    #     df = parse_reg(data_train)\n",
        "    #     df[df.columns[-1]] = df[df.columns[-1]].astype(float)\n",
        "    #     return df\n",
        "    else:\n",
        "        return None"
      ],
      "metadata": {
        "id": "e8eUaJgB0UhP"
      },
      "execution_count": 9,
      "outputs": []
    },
    {
      "cell_type": "code",
      "source": [
        "file_EI_reg_train = parse_csv('EI-reg','train','joy')\n",
        "file_EI_reg_train\n",
        "\n",
        "file_EI_reg_val = parse_csv('EI-reg','dev','joy')\n",
        "print(file_EI_reg_val)\n",
        "\n",
        "file_EI_reg_test = parse_csv('EI-reg','gold','joy')\n",
        "(file_EI_reg_test)"
      ],
      "metadata": {
        "colab": {
          "base_uri": "https://localhost:8080/",
          "height": 53
        },
        "id": "ilCPodjN0n1e",
        "outputId": "f07408a2-448a-41c6-a3e4-c41e8c854019"
      },
      "execution_count": 10,
      "outputs": [
        {
          "output_type": "stream",
          "name": "stdout",
          "text": [
            "2018-EI-reg-En-joy-dev.csv\n"
          ]
        },
        {
          "output_type": "execute_result",
          "data": {
            "text/plain": [
              "'2018-EI-reg-En-joy-test-gold.csv'"
            ],
            "application/vnd.google.colaboratory.intrinsic+json": {
              "type": "string"
            }
          },
          "metadata": {},
          "execution_count": 10
        }
      ]
    },
    {
      "cell_type": "markdown",
      "source": [
        "## Preprocess tweets"
      ],
      "metadata": {
        "id": "9IO21vV_2wQk"
      }
    },
    {
      "cell_type": "code",
      "source": [
        "# reference : https://github.com/cbaziotis/ekphrasis\n",
        "\n",
        "\n",
        "text_processor = TextPreProcessor(\n",
        "    # terms that will be normalized\n",
        "    normalize=['url', 'email', 'percent', 'money', 'phone', 'user',\n",
        "        'time', 'url', 'date', 'number'],\n",
        "    # terms that will be annotated\n",
        "    annotate={\"hashtag\", \"allcaps\", \"elongated\", \"repeated\",\n",
        "        'emphasis', 'censored'},\n",
        "    fix_html=True,  # fix HTML tokens\n",
        "    \n",
        "    # corpus from which the word statistics are going to be used \n",
        "    # for word segmentation \n",
        "    segmenter=\"twitter\", \n",
        "    \n",
        "    # corpus from which the word statistics are going to be used \n",
        "    # for spell correction\n",
        "    corrector=\"twitter\", \n",
        "    \n",
        "    unpack_hashtags=True,  # perform word segmentation on hashtags\n",
        "    unpack_contractions=True,  # Unpack contractions (can't -> can not)\n",
        "    spell_correct_elong=False,  # spell correction for elongated words\n",
        "    \n",
        "    # select a tokenizer. You can use SocialTokenizer, or pass your own\n",
        "    # the tokenizer, should take as input a string and return a list of tokens\n",
        "    tokenizer=SocialTokenizer(lowercase=True).tokenize,\n",
        "    \n",
        "    # list of dictionaries, for replacing tokens extracted from the text,\n",
        "    # with other expressions. You can pass more than one dictionaries.\n",
        "    dicts=[emoticons]\n",
        ")"
      ],
      "metadata": {
        "colab": {
          "base_uri": "https://localhost:8080/"
        },
        "id": "tI6dZ6hY009m",
        "outputId": "0908a2f0-545c-44cc-93dd-fa8f390ce42f"
      },
      "execution_count": 11,
      "outputs": [
        {
          "output_type": "stream",
          "name": "stderr",
          "text": [
            "/usr/local/lib/python3.7/dist-packages/ekphrasis/classes/tokenizer.py:225: FutureWarning: Possible nested set at position 2190\n",
            "  self.tok = re.compile(r\"({})\".format(\"|\".join(pipeline)))\n"
          ]
        },
        {
          "output_type": "stream",
          "name": "stdout",
          "text": [
            "Word statistics files not found!\n",
            "Downloading... done!\n",
            "Unpacking... done!\n",
            "Reading twitter - 1grams ...\n",
            "generating cache file for faster loading...\n",
            "reading ngrams /root/.ekphrasis/stats/twitter/counts_1grams.txt\n",
            "Reading twitter - 2grams ...\n",
            "generating cache file for faster loading...\n",
            "reading ngrams /root/.ekphrasis/stats/twitter/counts_2grams.txt\n",
            "Reading twitter - 1grams ...\n"
          ]
        },
        {
          "output_type": "stream",
          "name": "stderr",
          "text": [
            "/usr/local/lib/python3.7/dist-packages/ekphrasis/classes/exmanager.py:14: FutureWarning: Possible nested set at position 42\n",
            "  regexes = {k.lower(): re.compile(self.expressions[k]) for k, v in\n"
          ]
        }
      ]
    },
    {
      "cell_type": "code",
      "source": [
        "# #### Example checks of pre-processing\n",
        "# sentences = [\n",
        "#     \"CANT WAIT for the new season of #TwinPeaks ＼(^o^)／!!! #davidlynch #tvseries :)))\",\n",
        "#     \"I saw the new #johndoe movie and it suuuuucks!!! WAISTED $10... #badmovies :/\",\n",
        "#     \"@SentimentSymp:  can't wait for the Nov 9 #Sentiment talks!  YAAAAAAY !!! :-D http://sentimentsymposium.com/.\",\n",
        "#     \"@MGBarbieri @SpalkTalk a@b.com And just saw your LinkedIn comment after I sent this! Thanks for the message :) 😀\",\n",
        "#     \"💙💛🏆 @GeorgeePitman Young Player of The Season 🏆💛💙 #irony #actuallyseventy\"\n",
        "# ]\n",
        "\n",
        "# for s in sentences:\n",
        "#     print(\" \".join(text_processor.pre_process_doc(s)))\n",
        "# # print ([text_processor.pre_process_doc(s) for s in sentences])"
      ],
      "metadata": {
        "id": "i8ixRElK29DM"
      },
      "execution_count": 12,
      "outputs": []
    },
    {
      "cell_type": "code",
      "source": [
        "def preprocess_tweet(tweet): \n",
        "  tweet_processed = text_processor.pre_process_doc(tweet)\n",
        "  # print (tweet_processed)\n",
        "  final_list =[]\n",
        "  for index, tweet in enumerate(tweet_processed):\n",
        "      final_list.append(emoji.demojize(tweet, language = 'en'))\n",
        "  \n",
        "  # print(df)\n",
        "  return final_list"
      ],
      "metadata": {
        "id": "0CNdYx083SRU"
      },
      "execution_count": 13,
      "outputs": []
    },
    {
      "cell_type": "code",
      "source": [
        "# #### Example checks of pre-processing\n",
        "# sentences = [\n",
        "#     \"CANT WAIT for the new season of #TwinPeaks ＼(^o^)／!!! #davidlynch #tvseries :)))\",\n",
        "#     \"I saw the new #johndoe movie and it suuuuucks!!! WAISTED $10... #badmovies :/\",\n",
        "#     \"@SentimentSymp:  can't wait for the Nov 9 #Sentiment talks!  YAAAAAAY !!! :-D http://sentimentsymposium.com/.\",\n",
        "#     \"@MGBarbieri @SpalkTalk a@b.com And just saw your LinkedIn comment after I sent this! Thanks for the message :) 😀\",\n",
        "#     \"💙💛🏆 @GeorgeePitman Young Player of The Season 🏆💛💙 #irony #actuallyseventy\"\n",
        "# ]\n",
        "\n",
        "# for s in sentences:\n",
        "#   print(preprocess_tweet(s))\n",
        "#   # print(\" \".join(preprocess_tweet(s)))"
      ],
      "metadata": {
        "id": "WU-Ap0fS4Xu8"
      },
      "execution_count": 14,
      "outputs": []
    },
    {
      "cell_type": "markdown",
      "source": [
        "## TorchText Treatment"
      ],
      "metadata": {
        "id": "x4MCSent0MSu"
      }
    },
    {
      "cell_type": "code",
      "source": [
        "MAX_SIZE = 50\n",
        "field_tweet = Field(sequential=True, use_vocab = True, tokenize = preprocess_tweet, fix_length = MAX_SIZE, batch_first = True)\n",
        "# field_tweet = Field(sequential=True, use_vocab = False, tokenize = preprocess_tweet)\n",
        "\n",
        "field_intensity = Field(sequential= False, \n",
        "                        dtype = torch.float,\n",
        "                        use_vocab = False \n",
        "                        )"
      ],
      "metadata": {
        "id": "kbzqLLrz49I7"
      },
      "execution_count": 15,
      "outputs": []
    },
    {
      "cell_type": "code",
      "source": [
        "fields = {\n",
        "    'Tweet':('tweet', field_tweet ), #\n",
        "    'Intensity Score': ('intensity',field_intensity) # Intensity Score is name of the dataset column, field_intensity is how we have defined the field, intensity is the name of the variable going fwd\n",
        "    }"
      ],
      "metadata": {
        "id": "XuInxrUt57rB"
      },
      "execution_count": 16,
      "outputs": []
    },
    {
      "cell_type": "code",
      "source": [
        "train_data, valid_data, test_data = TabularDataset.splits( path = './', \n",
        "                                              train = file_EI_reg_train,\n",
        "                                              validation = file_EI_reg_val, \n",
        "                                              test = file_EI_reg_test,\n",
        "                                              format = 'csv',\n",
        "                                              fields = fields\n",
        "                                          )"
      ],
      "metadata": {
        "id": "w8XrMJMu7jUa"
      },
      "execution_count": 17,
      "outputs": []
    },
    {
      "cell_type": "code",
      "source": [
        "print(len(train_data))"
      ],
      "metadata": {
        "colab": {
          "base_uri": "https://localhost:8080/"
        },
        "id": "RSMiEKZ7y62Q",
        "outputId": "030f3a00-99d6-4800-90d0-07d1686e2d09"
      },
      "execution_count": 18,
      "outputs": [
        {
          "output_type": "stream",
          "name": "stdout",
          "text": [
            "1616\n"
          ]
        }
      ]
    },
    {
      "cell_type": "code",
      "source": [
        "print(train_data[0].__dict__.keys())"
      ],
      "metadata": {
        "colab": {
          "base_uri": "https://localhost:8080/"
        },
        "id": "1rn6sv6QAuf1",
        "outputId": "e0eee338-7e1d-4203-87c9-a24fc13c09c9"
      },
      "execution_count": 19,
      "outputs": [
        {
          "output_type": "stream",
          "name": "stdout",
          "text": [
            "dict_keys(['tweet', 'intensity'])\n"
          ]
        }
      ]
    },
    {
      "cell_type": "code",
      "source": [
        "print(valid_data[0].__dict__.values())"
      ],
      "metadata": {
        "colab": {
          "base_uri": "https://localhost:8080/"
        },
        "id": "A5mLNElnBiQb",
        "outputId": "1172e51d-3949-4864-d564-f84256e8a917"
      },
      "execution_count": 20,
      "outputs": [
        {
          "output_type": "stream",
          "name": "stdout",
          "text": [
            "dict_values([['<user>', 'oh', '!', 'that', 'actually', 'was', 'my', 'first', 'guess', 'but', '.', '<repeated>', 'i', 'thought', 'he', 'was', 'too', 'dark', 'for', 'an', 'irish', 'man', 'from', '<allcaps>', 'bce', '</allcaps>', '.', 'thanks', 'for', 'clearing', 'it', 'up', '<laugh>'], '0.470'])\n"
          ]
        }
      ]
    },
    {
      "cell_type": "code",
      "source": [
        "print((train_data[2].__dict__.values()))"
      ],
      "metadata": {
        "colab": {
          "base_uri": "https://localhost:8080/"
        },
        "id": "Wz04CfznBp3V",
        "outputId": "a0847af8-aaeb-4cd9-b1d2-830c9dc6f6a2"
      },
      "execution_count": 21,
      "outputs": [
        {
          "output_type": "stream",
          "name": "stdout",
          "text": [
            "dict_values([['positive', '<hashtag>', 'psychology', '</hashtag>', 'research', 'shows', 'salespeople', 'who', 'score', 'in', 'the', 'top', '<percent>', 'for', '<hashtag>', 'optimism', '</hashtag>', 'have', '<percent>', '>', 'sales', 'than', 'those', 'in', 'top', '<percent>', 'for', 'pessimism', '.'], '0.274'])\n"
          ]
        }
      ]
    },
    {
      "cell_type": "code",
      "source": [
        "count = 0\n",
        "for example in test_data.examples:\n",
        "  print(example.tweet, example.intensity)\n",
        "  count += 1\n",
        "  if count > 10:\n",
        "    break"
      ],
      "metadata": {
        "colab": {
          "base_uri": "https://localhost:8080/"
        },
        "id": "Sx-R5H6ALfwI",
        "outputId": "d0c67a87-969b-4fac-f76a-2dfb5132728e"
      },
      "execution_count": 22,
      "outputs": [
        {
          "output_type": "stream",
          "name": "stdout",
          "text": [
            "['people', 'are', 'truly', '<hashtag>', 'amazing', '</hashtag>', '.', '<hashtag>', 'inspiring', '</hashtag>', 'day'] 0.712\n",
            "['what', 'are', 'some', 'good', '<hashtag>', 'funny', '</hashtag>', '<hashtag>', 'entertaining', '</hashtag>', '<hashtag>', 'interesting', '</hashtag>', 'accounts', 'i', 'should', 'follow', '?', 'my', 'twitter', 'is', 'dry'] 0.339\n",
            "['<user>', 'a', 'review', 'of', 'my', 'book', 'faulted', 'me', 'for', 'spending', 'so', 'much', 'time', 'on', 'webster', \"'\", 's', 'introductory', 'front', 'matter', '.', 'but', 'i', 'had', 'to', ',', '<hashtag>', 'brilliant', '</hashtag>', '!'] 0.533\n",
            "['<hashtag>', 'good', '</hashtag>', 'to', 'learning', '<hashtag>', 'wisdom', '</hashtag>', '<', '<', 'reform', '(', 'v', ')', ':', 'make', 'in', 'order', 'to', 'improve', 'something', '>', '>'] 0.281\n",
            "['really', 'excited', 'to', 'see', 'our', 'team', 'this', 'year', ',', 'and', 'especially', 'moving', 'in', 'the', 'next', '<number>', '-', '<number>', 'years', 'when', 'his', 'guys', 'start', 'playing', 'significant', 'minutes', '.'] 0.797\n",
            "['be', 'happy', '.', 'be', 'confident', '.', 'be', 'kind', '.', '\\\\', 'n', '\\\\', 'n', '<hashtag>', 'kissables', 'love', 'sm', 'shopmag', '</hashtag>', '\\\\', 'nalloutdenimfor', '<allcaps>', 'kissmarc', '</allcaps>'] 0.661\n",
            "['<user>', 'little', 'piggy', ':face_with_tears_of_joy:'] 0.303\n",
            "['you', 'do', 'not', 'need', 'money', 'to', 'have', 'a', 'great', 'life', ',', 'be', 'eccentric', ',', 'be', 'creative', ',', 'be', 'joyful', ',', 'be', 'entertaining', 'and', 'all', 'you', 'want', 'will', 'come', '!'] 0.578\n",
            "['<user>', '<user>', 'i', 'used', 'to', 'make', 'the', 'peanut', 'butter', 'energy', 'balls', 'all', 'the', 'time', '.', 'my', 'famjam', 'loved', 'them', '!', '<hashtag>', 'recipes', '</hashtag>', '<hashtag>', 'yummy', '</hashtag>'] 0.703\n",
            "['<user>', 'tried', 'it', 'once', '.', 'poured', 'into', 'the', 'sink', '.', 'did', 'not', 'bother', 'to', 'make', 'tasting', 'notes', '<happy>', 'looks', 'like', 'cheap', 'sake', ',', 'tasted', 'like', 'it', 'too', '.', '<repeated>'] 0.281\n",
            "['<user>', '&', '<user>', 'are', 'total', 'entertainment', 'on', '<user>', '<hashtag>', 'brilliant', '</hashtag>', '<hashtag>', 'so', 'funny', '</hashtag>', '<hashtag>', 'my', 'faves', '</hashtag>'] 0.586\n"
          ]
        }
      ]
    },
    {
      "cell_type": "markdown",
      "source": [
        "## Building iterator and Vocabulary"
      ],
      "metadata": {
        "id": "V3CoFQZDLtVO"
      }
    },
    {
      "cell_type": "code",
      "source": [
        "MAX_VOCAB_SIZE = 10000\n",
        "\n",
        "field_tweet.build_vocab(train_data, \n",
        "                  max_size = MAX_VOCAB_SIZE,\n",
        "                  min_freq = 1,\n",
        "                  vectors = \"glove.6B.100d\",\n",
        "                  unk_init=torch.Tensor.normal_)\n",
        "\n",
        "vocab = field_tweet.build_vocab(train_data, \n",
        "                  max_size = MAX_VOCAB_SIZE,\n",
        "                  min_freq = 1,\n",
        "                  vectors = \"glove.6B.100d\",\n",
        "                  unk_init=torch.Tensor.normal_)\n",
        "field_intensity.build_vocab(train_data)"
      ],
      "metadata": {
        "colab": {
          "base_uri": "https://localhost:8080/"
        },
        "id": "IeSJaNSYT_D7",
        "outputId": "aa6ff7b9-c4a1-4995-8ae2-892f4598fd20"
      },
      "execution_count": 23,
      "outputs": [
        {
          "output_type": "stream",
          "name": "stderr",
          "text": [
            ".vector_cache/glove.6B.zip: 862MB [02:40, 5.37MB/s]                           \n",
            "100%|█████████▉| 399999/400000 [00:13<00:00, 30723.91it/s]\n"
          ]
        }
      ]
    },
    {
      "cell_type": "code",
      "source": [
        "type(vocab)"
      ],
      "metadata": {
        "colab": {
          "base_uri": "https://localhost:8080/"
        },
        "id": "skcwS7jEh5Vc",
        "outputId": "2e48d013-58fe-44ce-e142-a058e0848985"
      },
      "execution_count": 24,
      "outputs": [
        {
          "output_type": "execute_result",
          "data": {
            "text/plain": [
              "NoneType"
            ]
          },
          "metadata": {},
          "execution_count": 24
        }
      ]
    },
    {
      "cell_type": "code",
      "source": [
        "print(len(valid_data),len(test_data))\n"
      ],
      "metadata": {
        "colab": {
          "base_uri": "https://localhost:8080/"
        },
        "id": "xrLb7AYNykwr",
        "outputId": "e4c58f24-00a7-423f-8c79-6f6049463359"
      },
      "execution_count": 25,
      "outputs": [
        {
          "output_type": "stream",
          "name": "stdout",
          "text": [
            "290 1105\n"
          ]
        }
      ]
    },
    {
      "cell_type": "code",
      "source": [
        "VALID_TEST_BATCH_SIZE = min (len(valid_data),len(test_data))\n",
        "# print(VALID_TEST_BATCH_SIZE)\n",
        "BATCH_SIZE = 8\n",
        "train_iterator, valid_iterator, test_iterator = BucketIterator.splits((train_data, valid_data, test_data), \n",
        "                                                      batch_sizes= (BATCH_SIZE,VALID_TEST_BATCH_SIZE,VALID_TEST_BATCH_SIZE),\n",
        "                                                      sort_key = lambda x: len(x.tweet),\n",
        "                                                      sort_within_batch=True,\n",
        "                                                      device = DEVICE,\n",
        "                                                      shuffle= True)"
      ],
      "metadata": {
        "id": "PYRrHy8HTcZM"
      },
      "execution_count": 34,
      "outputs": []
    },
    {
      "cell_type": "code",
      "source": [
        "# next(iter(valid_iterator))"
      ],
      "metadata": {
        "colab": {
          "base_uri": "https://localhost:8080/"
        },
        "id": "wQVIQsWJZoWc",
        "outputId": "0519b5ca-8176-4bd3-c09d-3371f9534a79"
      },
      "execution_count": 37,
      "outputs": [
        {
          "output_type": "execute_result",
          "data": {
            "text/plain": [
              "\n",
              "[torchtext.legacy.data.batch.Batch of size 290]\n",
              "\t[.tweet]:[torch.cuda.LongTensor of size 290x50 (GPU 0)]\n",
              "\t[.intensity]:[torch.cuda.FloatTensor of size 290 (GPU 0)]"
            ]
          },
          "metadata": {},
          "execution_count": 37
        }
      ]
    },
    {
      "cell_type": "code",
      "source": [
        "count = 0\n",
        "for batch in train_iterator:\n",
        "  print (batch.tweet)\n",
        "  print (batch.intensity)\n",
        "  count += 1\n",
        "  if count > 2:\n",
        "    break"
      ],
      "metadata": {
        "id": "Si5ajBMXTb_m"
      },
      "execution_count": null,
      "outputs": []
    },
    {
      "cell_type": "code",
      "source": [
        "print(list(field_tweet.vocab.stoi.items()))"
      ],
      "metadata": {
        "id": "V4fmUSnDCrzU"
      },
      "execution_count": null,
      "outputs": []
    },
    {
      "cell_type": "code",
      "source": [
        "print(field_tweet.vocab.vectors[field_tweet.vocab.stoi['the']])"
      ],
      "metadata": {
        "id": "JWm00sA6DDOE"
      },
      "execution_count": null,
      "outputs": []
    },
    {
      "cell_type": "code",
      "source": [
        "field_tweet.vocab.vectors[9]"
      ],
      "metadata": {
        "id": "JzdTB_-C0ok7"
      },
      "execution_count": null,
      "outputs": []
    },
    {
      "cell_type": "code",
      "source": [
        "# for batch_number, batch in enumerate(train_iterator):\n",
        "#   print(batch_number)\n",
        "#   print(batch.tweet)\n",
        "#   print(batch.intensity)"
      ],
      "metadata": {
        "id": "HqQWc-yYsQkN"
      },
      "execution_count": null,
      "outputs": []
    },
    {
      "cell_type": "markdown",
      "source": [
        "## TorchText treatment of Target Data"
      ],
      "metadata": {
        "id": "-IPH_hfSxxjv"
      }
    },
    {
      "cell_type": "code",
      "source": [
        "# Target Data\n",
        "df_target = pd.read_csv(os.path.join(TARGET_DIR,'winomt_saunders_combined.csv'))\n",
        "# df_target.columns = ['Sentence']\n",
        "# df_target.columns = ['Tweet']\n",
        "# df_target['Intensity Score'] = 0\n",
        "print(df_target.head())\n",
        "\n",
        "target_file_name = 'target_csv.csv'\n",
        "target_csv_file = df_target.to_csv(str(target_file_name))"
      ],
      "metadata": {
        "colab": {
          "base_uri": "https://localhost:8080/"
        },
        "id": "l4RhbHIw0odH",
        "outputId": "6714176f-8c5b-4320-9a68-b6af24cc4efb"
      },
      "execution_count": 39,
      "outputs": [
        {
          "output_type": "stream",
          "name": "stdout",
          "text": [
            "                             Tweet  Intensity Score\n",
            "0    the actor finished her work .                0\n",
            "1    the actor finished his work .                0\n",
            "2  the actuary finished her work .                0\n",
            "3  the actuary finished his work .                0\n",
            "4    the agent finished her work .                0\n"
          ]
        }
      ]
    },
    {
      "cell_type": "code",
      "source": [
        "target_data = TabularDataset( path = os.path.join(TARGET_DIR,'winomt_saunders_combined.csv'), \n",
        "                                              format = 'csv',\n",
        "                                              fields = fields\n",
        "                                          )\n",
        "print(target_data[0].__dict__.keys())\n",
        "print(target_data[0].__dict__.values())"
      ],
      "metadata": {
        "colab": {
          "base_uri": "https://localhost:8080/"
        },
        "id": "wL8EgUfFgc4g",
        "outputId": "354ee6f8-0e24-4a97-cfe7-584435ff3a24"
      },
      "execution_count": 40,
      "outputs": [
        {
          "output_type": "stream",
          "name": "stdout",
          "text": [
            "dict_keys(['tweet', 'intensity'])\n",
            "dict_values([['the', 'actor', 'finished', 'her', 'work', '.'], '0'])\n"
          ]
        }
      ]
    },
    {
      "cell_type": "code",
      "source": [
        "# target_data, _ = TabularDataset.splits( path = './', \n",
        "#                                               train = target_file_name,\n",
        "#                                               test = target_file_name, # arbitary file\n",
        "#                                               format = 'csv',\n",
        "#                                               fields = fields\n",
        "#                                           )\n",
        "# print(target_data[0].__dict__.keys())\n",
        "# print(target_data[0].__dict__.values())"
      ],
      "metadata": {
        "id": "Y1sxE6WFtrt0"
      },
      "execution_count": 41,
      "outputs": []
    },
    {
      "cell_type": "code",
      "source": [
        "count = 0\n",
        "for example in target_data:\n",
        "  print(example.tweet, example.intensity)\n",
        "  count += 1\n",
        "  if count > 2:\n",
        "    break"
      ],
      "metadata": {
        "colab": {
          "base_uri": "https://localhost:8080/"
        },
        "id": "F8eLBUX33d9o",
        "outputId": "3d7347ed-a856-4369-d43d-5f8e2521cabc"
      },
      "execution_count": 42,
      "outputs": [
        {
          "output_type": "stream",
          "name": "stdout",
          "text": [
            "['the', 'actor', 'finished', 'her', 'work', '.'] 0\n",
            "['the', 'actor', 'finished', 'his', 'work', '.'] 0\n",
            "['the', 'actuary', 'finished', 'her', 'work', '.'] 0\n"
          ]
        }
      ]
    },
    {
      "cell_type": "code",
      "source": [
        "\n",
        "# TARGET_BATCH_SIZE = 2\n",
        "# target_iterator, _ = BucketIterator.splits((target_data, target_data), \n",
        "#                                                       batch_size= TARGET_BATCH_SIZE,\n",
        "#                                                       sort_key = lambda x: len(x.tweet),\n",
        "#                                                       sort_within_batch=True,\n",
        "#                                                       device = DEVICE,\n",
        "#                                                       shuffle= True)"
      ],
      "metadata": {
        "id": "6Mb9KpK3brc8"
      },
      "execution_count": null,
      "outputs": []
    },
    {
      "cell_type": "code",
      "source": [
        "TARGET_BATCH_SIZE = 2\n",
        "target_iterator = BucketIterator(target_data, # given that there is only one dataset we are not using splits\n",
        "                                 batch_size= TARGET_BATCH_SIZE,\n",
        "                                 sort_key = lambda x: len(x.tweet),\n",
        "                                 sort_within_batch=True,\n",
        "                                 device = DEVICE,\n",
        "                                 repeat=True,\n",
        "                                 shuffle= True)"
      ],
      "metadata": {
        "id": "uWpJ_-jxuzIQ"
      },
      "execution_count": 43,
      "outputs": []
    },
    {
      "cell_type": "code",
      "source": [
        "len(target_data), len(target_iterator)"
      ],
      "metadata": {
        "id": "is3NOjqAcDob"
      },
      "execution_count": null,
      "outputs": []
    },
    {
      "cell_type": "code",
      "source": [
        "len(target_data)//TARGET_BATCH_SIZE"
      ],
      "metadata": {
        "id": "BnUqD9w8aPMs"
      },
      "execution_count": null,
      "outputs": []
    },
    {
      "cell_type": "code",
      "source": [
        "next(iter(target_iterator)).tweet"
      ],
      "metadata": {
        "id": "FhBEp-LnZ5JR"
      },
      "execution_count": null,
      "outputs": []
    },
    {
      "cell_type": "code",
      "source": [
        "count = 0\n",
        "for batch in target_iterator:\n",
        "  print(batch)\n",
        "  print (batch.tweet)\n",
        "  print (batch.intensity)\n",
        "  count += 1\n",
        "  if count > 2:\n",
        "    break"
      ],
      "metadata": {
        "colab": {
          "base_uri": "https://localhost:8080/"
        },
        "id": "pso0cqFZvQWA",
        "outputId": "e0288599-e91e-477e-a048-d9c458c57ffd"
      },
      "execution_count": 44,
      "outputs": [
        {
          "output_type": "stream",
          "name": "stdout",
          "text": [
            "\n",
            "[torchtext.legacy.data.batch.Batch of size 2]\n",
            "\t[.tweet]:[torch.cuda.LongTensor of size 2x50 (GPU 0)]\n",
            "\t[.intensity]:[torch.cuda.FloatTensor of size 2 (GPU 0)]\n",
            "tensor([[   6,    0,    0,  190,    9,  552, 1249,    0,    0,   10,   46,  104,\n",
            "           21,   54,    6,    0,   70,  352,  194,    4,    1,    1,    1,    1,\n",
            "            1,    1,    1,    1,    1,    1,    1,    1,    1,    1,    1,    1,\n",
            "            1,    1,    1,    1,    1,    1,    1,    1,    1,    1,    1,    1,\n",
            "            1,    1],\n",
            "        [   6,    0,  940,    9,  699,    6,    0,  104,   59,  143,  108, 1194,\n",
            "           71,   89, 4134,   20,    6,    0,    0,    4,    1,    1,    1,    1,\n",
            "            1,    1,    1,    1,    1,    1,    1,    1,    1,    1,    1,    1,\n",
            "            1,    1,    1,    1,    1,    1,    1,    1,    1,    1,    1,    1,\n",
            "            1,    1]], device='cuda:0')\n",
            "tensor([0., 0.], device='cuda:0')\n",
            "\n",
            "[torchtext.legacy.data.batch.Batch of size 2]\n",
            "\t[.tweet]:[torch.cuda.LongTensor of size 2x50 (GPU 0)]\n",
            "\t[.intensity]:[torch.cuda.FloatTensor of size 2 (GPU 0)]\n",
            "tensor([[   6,    0,    0,   38,    6,    0,   12,  627,  171,    9,   86,   76,\n",
            "           16,    6, 1435,    4,    1,    1,    1,    1,    1,    1,    1,    1,\n",
            "            1,    1,    1,    1,    1,    1,    1,    1,    1,    1,    1,    1,\n",
            "            1,    1,    1,    1,    1,    1,    1,    1,    1,    1,    1,    1,\n",
            "            1,    1],\n",
            "        [   6, 3572,  627,   28,   10,  106, 2840,   72,    6,    0,   41,   59,\n",
            "           54,  154, 2591,    4,    1,    1,    1,    1,    1,    1,    1,    1,\n",
            "            1,    1,    1,    1,    1,    1,    1,    1,    1,    1,    1,    1,\n",
            "            1,    1,    1,    1,    1,    1,    1,    1,    1,    1,    1,    1,\n",
            "            1,    1]], device='cuda:0')\n",
            "tensor([0., 0.], device='cuda:0')\n",
            "\n",
            "[torchtext.legacy.data.batch.Batch of size 2]\n",
            "\t[.tweet]:[torch.cuda.LongTensor of size 2x50 (GPU 0)]\n",
            "\t[.intensity]:[torch.cuda.FloatTensor of size 2 (GPU 0)]\n",
            "tensor([[   6,    0, 1063,   83,  249,    4,    1,    1,    1,    1,    1,    1,\n",
            "            1,    1,    1,    1,    1,    1,    1,    1,    1,    1,    1,    1,\n",
            "            1,    1,    1,    1,    1,    1,    1,    1,    1,    1,    1,    1,\n",
            "            1,    1,    1,    1,    1,    1,    1,    1,    1,    1,    1,    1,\n",
            "            1,    1],\n",
            "        [   6,    0, 1063,   83,  249,    4,    1,    1,    1,    1,    1,    1,\n",
            "            1,    1,    1,    1,    1,    1,    1,    1,    1,    1,    1,    1,\n",
            "            1,    1,    1,    1,    1,    1,    1,    1,    1,    1,    1,    1,\n",
            "            1,    1,    1,    1,    1,    1,    1,    1,    1,    1,    1,    1,\n",
            "            1,    1]], device='cuda:0')\n",
            "tensor([0., 0.], device='cuda:0')\n"
          ]
        }
      ]
    },
    {
      "cell_type": "markdown",
      "source": [
        "## CNN 1d model"
      ],
      "metadata": {
        "id": "-h9cXmnyualc"
      }
    },
    {
      "cell_type": "markdown",
      "source": [
        "### Gradient Reversal layer"
      ],
      "metadata": {
        "id": "qyDfiHFNkZNF"
      }
    },
    {
      "cell_type": "code",
      "source": [
        "from torch.autograd import Function\n",
        "\n",
        "\n",
        "class GradientReversalFn(Function):\n",
        "    @staticmethod\n",
        "    def forward(ctx, x, alpha):\n",
        "        ctx.alpha = alpha\n",
        "        \n",
        "        return x.view_as(x)\n",
        "\n",
        "    @staticmethod\n",
        "    def backward(ctx, grad_output):\n",
        "        output = grad_output.neg() * ctx.alpha\n",
        "\n",
        "        return output, None"
      ],
      "metadata": {
        "id": "2TdezuQokWiJ"
      },
      "execution_count": 45,
      "outputs": []
    },
    {
      "cell_type": "markdown",
      "source": [
        "CNN 1 D model\n",
        "Reference: A Sensitivity Analysis of (and Practitioners' Guide to) Convolutional Neural Networks for Sentence Classification, Ye Zhang, Byron Wallace 2015\n",
        "\n",
        "Difference:\n",
        "\n",
        "use of embedding\n",
        "use of sigmoid function, as we are having a regression model not a classififer as the main task"
      ],
      "metadata": {
        "id": "J53qMJn4kfv7"
      }
    },
    {
      "cell_type": "code",
      "source": [
        "import torch.nn as nn\n",
        "import torch.nn.functional as F\n",
        "\n",
        "class CNN1d(nn.Module):\n",
        "    def __init__(self, \n",
        "                 vocab_size, \n",
        "                 embedding_dim, \n",
        "                 n_filters, \n",
        "                 filter_sizes, \n",
        "                 output_dim, \n",
        "                 dropout, \n",
        "                 pad_idx\n",
        "                 ):\n",
        "        super().__init__()\n",
        "        \n",
        "        #---------------------Feature Extractor Network----------------------#\n",
        "        # Embedding layer\n",
        "        self.embedding = nn.Embedding(vocab_size, embedding_dim, padding_idx = pad_idx)\n",
        "\n",
        "        # Convolutional Network\n",
        "        self.convs = nn.ModuleList([\n",
        "                                    nn.Conv1d(in_channels = embedding_dim, \n",
        "                                              out_channels = n_filters, \n",
        "                                              kernel_size = fs)\n",
        "                                    for fs in filter_sizes\n",
        "                                    ])\n",
        "        \n",
        "        #---------------------Regression Network------------------------#\n",
        "        # Fully-connected layer and Dropout\n",
        "        self.regression = nn.Sequential(\n",
        "            nn.Dropout(p=dropout),\n",
        "            nn.Linear(len(filter_sizes) * n_filters, len(filter_sizes) * n_filters // 2),\n",
        "            nn.ReLU(),\n",
        "            nn.Linear(len(filter_sizes) * n_filters // 2, output_dim * 10),\n",
        "            nn.ReLU(),\n",
        "            nn.Linear(output_dim * 10, output_dim)\n",
        "            # ,\n",
        "            # nn.Sigmoid()\n",
        "        )\n",
        "        # self.fc = nn.Linear(len(filter_sizes) * n_filters, output_dim * 10)\n",
        "        # self.fc2 = nn.Linear(output_dim * 10, output_dim)\n",
        "        # self.dropout = nn.Dropout(dropout)\n",
        "\n",
        "        #---------------------Domain Classifier Network------------------------#\n",
        "        # Fully-connected layer and Dropout\n",
        "        self.domain_classifier = nn.Sequential(\n",
        "            nn.Dropout(p=dropout),\n",
        "            nn.Linear(len(filter_sizes) * n_filters, len(filter_sizes) * n_filters // 2),\n",
        "            nn.ReLU(),\n",
        "            nn.Linear(len(filter_sizes) * n_filters // 2, output_dim * 10),\n",
        "            nn.ReLU(),\n",
        "            nn.Linear(output_dim * 10, 2),\n",
        "            nn.LogSoftmax(dim=1),\n",
        "        )\n",
        "        \n",
        "    def forward(self, text, alpha=1.0):\n",
        "        \n",
        "        #text = [batch size, sent len]\n",
        "        \n",
        "        embedded = self.embedding(text)\n",
        "                \n",
        "        #embedded = [batch size, sent len, emb dim]\n",
        "        \n",
        "        embedded = embedded.permute(0, 2, 1)\n",
        "        \n",
        "        #embedded = [batch size, emb dim, sent len]\n",
        "        \n",
        "        conved = [F.relu(conv(embedded)) for conv in self.convs]\n",
        "            \n",
        "        #conved_n = [batch size, n_filters, sent len - filter_sizes[n] + 1]\n",
        "        \n",
        "        pooled = [F.max_pool1d(conv, conv.shape[2]).squeeze(2) for conv in conved]\n",
        "        \n",
        "        #pooled_n = [batch size, n_filters]\n",
        "        \n",
        "        x_feature = torch.cat(pooled, dim = 1)\n",
        "        \n",
        "        #x_feature = [batch size, n_filters * len(filter_sizes)]\n",
        "        \n",
        "        reverse_feature = GradientReversalFn.apply(x_feature, alpha)\n",
        "        # print(\"reverse_feature\",reverse_feature)\n",
        "    \n",
        "        regression_output = self.regression(x_feature)\n",
        "    \n",
        "        domain_classifier_output = self.domain_classifier(reverse_feature)\n",
        "\n",
        "\n",
        "        return regression_output, domain_classifier_output"
      ],
      "metadata": {
        "id": "sp8KeSpquZqB"
      },
      "execution_count": 46,
      "outputs": []
    },
    {
      "cell_type": "code",
      "source": [
        "INPUT_DIM = len(field_tweet.vocab)\n",
        "EMBEDDING_DIM = 100\n",
        "N_FILTERS = 100\n",
        "FILTER_SIZES = [2, 3, 4, 5]\n",
        "OUTPUT_DIM = 1\n",
        "DROPOUT = 0.5\n",
        "PAD_IDX = field_tweet.vocab.stoi[field_tweet.pad_token]"
      ],
      "metadata": {
        "id": "J2YB0TUfvZuM"
      },
      "execution_count": 47,
      "outputs": []
    },
    {
      "cell_type": "code",
      "source": [
        "model = CNN1d(INPUT_DIM, EMBEDDING_DIM, N_FILTERS, FILTER_SIZES, OUTPUT_DIM, DROPOUT, PAD_IDX)\n",
        "model.to(DEVICE)"
      ],
      "metadata": {
        "colab": {
          "base_uri": "https://localhost:8080/"
        },
        "id": "lB-kw2t_voEm",
        "outputId": "d8c737a1-ef00-4194-8708-bd01e772f0b7"
      },
      "execution_count": 48,
      "outputs": [
        {
          "output_type": "execute_result",
          "data": {
            "text/plain": [
              "CNN1d(\n",
              "  (embedding): Embedding(4788, 100, padding_idx=1)\n",
              "  (convs): ModuleList(\n",
              "    (0): Conv1d(100, 100, kernel_size=(2,), stride=(1,))\n",
              "    (1): Conv1d(100, 100, kernel_size=(3,), stride=(1,))\n",
              "    (2): Conv1d(100, 100, kernel_size=(4,), stride=(1,))\n",
              "    (3): Conv1d(100, 100, kernel_size=(5,), stride=(1,))\n",
              "  )\n",
              "  (regression): Sequential(\n",
              "    (0): Dropout(p=0.5, inplace=False)\n",
              "    (1): Linear(in_features=400, out_features=200, bias=True)\n",
              "    (2): ReLU()\n",
              "    (3): Linear(in_features=200, out_features=10, bias=True)\n",
              "    (4): ReLU()\n",
              "    (5): Linear(in_features=10, out_features=1, bias=True)\n",
              "  )\n",
              "  (domain_classifier): Sequential(\n",
              "    (0): Dropout(p=0.5, inplace=False)\n",
              "    (1): Linear(in_features=400, out_features=200, bias=True)\n",
              "    (2): ReLU()\n",
              "    (3): Linear(in_features=200, out_features=10, bias=True)\n",
              "    (4): ReLU()\n",
              "    (5): Linear(in_features=10, out_features=2, bias=True)\n",
              "    (6): LogSoftmax(dim=1)\n",
              "  )\n",
              ")"
            ]
          },
          "metadata": {},
          "execution_count": 48
        }
      ]
    },
    {
      "cell_type": "markdown",
      "source": [
        "### Load Pre trained embeddings\n",
        "we'll load the pre-trained *embeddings*"
      ],
      "metadata": {
        "id": "z4p5YOsBygPk"
      }
    },
    {
      "cell_type": "code",
      "source": [
        "pretrained_embeddings = field_tweet.vocab.vectors\n",
        "\n",
        "model.embedding.weight.data.copy_(pretrained_embeddings)"
      ],
      "metadata": {
        "colab": {
          "base_uri": "https://localhost:8080/"
        },
        "id": "42HOzqrZySOt",
        "outputId": "5dd6b134-89d1-46d3-a165-a536a22290b4"
      },
      "execution_count": 49,
      "outputs": [
        {
          "output_type": "execute_result",
          "data": {
            "text/plain": [
              "tensor([[-1.6710, -0.2917, -0.7022,  ..., -1.0392, -0.3673, -0.7857],\n",
              "        [ 1.4578, -0.6760,  0.5083,  ...,  1.0674, -1.2953, -0.2963],\n",
              "        [ 2.9691,  0.0103,  0.2255,  ...,  1.4566,  0.6065,  0.3366],\n",
              "        ...,\n",
              "        [-2.4249,  0.2149, -1.0821,  ..., -1.0615,  1.8110, -0.8679],\n",
              "        [ 0.7447,  1.7536, -0.1841,  ...,  0.7329,  0.0480,  0.7125],\n",
              "        [-1.0397,  0.3304, -0.6786,  ..., -1.1080, -0.5790,  1.2534]],\n",
              "       device='cuda:0')"
            ]
          },
          "metadata": {},
          "execution_count": 49
        }
      ]
    },
    {
      "cell_type": "code",
      "source": [
        "field_tweet.vocab.vectors.shape"
      ],
      "metadata": {
        "colab": {
          "base_uri": "https://localhost:8080/"
        },
        "id": "03-leBf6zSk5",
        "outputId": "38e28d30-32d9-4c38-b221-37c9439b4864"
      },
      "execution_count": 50,
      "outputs": [
        {
          "output_type": "execute_result",
          "data": {
            "text/plain": [
              "torch.Size([4788, 100])"
            ]
          },
          "metadata": {},
          "execution_count": 50
        }
      ]
    },
    {
      "cell_type": "code",
      "source": [
        "UNK_IDX = field_tweet.vocab.stoi[field_tweet.unk_token]\n",
        "\n",
        "model.embedding.weight.data[UNK_IDX] = torch.zeros(EMBEDDING_DIM)\n",
        "model.embedding.weight.data[PAD_IDX] = torch.zeros(EMBEDDING_DIM)"
      ],
      "metadata": {
        "id": "Lve6CyJk9zfA"
      },
      "execution_count": 51,
      "outputs": []
    },
    {
      "cell_type": "markdown",
      "source": [
        "## Training the model"
      ],
      "metadata": {
        "id": "kBjLi5QG9_YG"
      }
    },
    {
      "cell_type": "markdown",
      "source": [
        "### Without training one forward pass"
      ],
      "metadata": {
        "id": "dxM_9csG_O4A"
      }
    },
    {
      "cell_type": "code",
      "source": [
        "for batch in train_iterator:\n",
        "  print(batch.tweet)\n",
        "  output = model(batch.tweet)\n",
        "  print (output)\n",
        "  break"
      ],
      "metadata": {
        "colab": {
          "base_uri": "https://localhost:8080/"
        },
        "id": "bD0y4pNS_SUP",
        "outputId": "7652bd96-8c15-4831-abcc-90e6ef4fa3dc"
      },
      "execution_count": 52,
      "outputs": [
        {
          "output_type": "stream",
          "name": "stdout",
          "text": [
            "tensor([[   8,  141,   61,    9, 2722,    6,  113,   16, 4194, 2386,   10,   31,\n",
            "           12,   10,  156, 1144,   46,    4,  233,   13,   56,   36,   10,  125,\n",
            "           80,   14,    3, 4767, 4766,    2,    1,    1,    1,    1,    1,    1,\n",
            "            1,    1,    1,    1,    1,    1,    1,    1,    1,    1,    1,    1,\n",
            "            1,    1],\n",
            "        [   5,    8,  298,  258,  231,    7,   41,  369, 1117, 4063,   20,  622,\n",
            "           72,    7,    8,   11,  254,  223,    7, 3631,   34, 1282,  957,   19,\n",
            "            9,  666,  959,  957,   19,    4,    1,    1,    1,    1,    1,    1,\n",
            "            1,    1,    1,    1,    1,    1,    1,    1,    1,    1,    1,    1,\n",
            "            1,    1],\n",
            "        [   6,  294,  602,  208,   20,    6,  871,   16,  921,   15,  573,  161,\n",
            "           59,   45,  900,    7,   59,   45,  124,  112,  921,   32,  245,  161,\n",
            "           24, 1873,  188,   43, 3453,   42,    1,    1,    1,    1,    1,    1,\n",
            "            1,    1,    1,    1,    1,    1,    1,    1,    1,    1,    1,    1,\n",
            "            1,    1],\n",
            "        [   5,  353,    9,   91,   21,   13,   37,  292,  207,   20,    6, 2095,\n",
            "            4,  264, 1228,   37,   98,  207,    7, 2641,    7,   12,  148,    4,\n",
            "            3,  229,    2,    3,  774,    2,    1,    1,    1,    1,    1,    1,\n",
            "            1,    1,    1,    1,    1,    1,    1,    1,    1,    1,    1,    1,\n",
            "            1,    1],\n",
            "        [  17,   15,   26,  148,  456,   33,    6,  645,   16, 2827,  337, 2999,\n",
            "           43,  140,   42,    3, 1734, 3421,    2,   11,   19,    3, 4570,    2,\n",
            "           15,   26, 2950,   51,  248,   14,    1,    1,    1,    1,    1,    1,\n",
            "            1,    1,    1,    1,    1,    1,    1,    1,    1,    1,    1,    1,\n",
            "            1,    1],\n",
            "        [  84,   80,    8,  398, 4052,   72,   81,  286,  190,  160,  496,   54,\n",
            "           33,   10, 3960,   12,    8,  235,   21,   20,  610, 1245, 3175,    9,\n",
            "           10,  380,   12,   59,  178, 1481,    1,    1,    1,    1,    1,    1,\n",
            "            1,    1,    1,    1,    1,    1,    1,    1,    1,    1,    1,    1,\n",
            "            1,    1],\n",
            "        [1610,  316,   11,   57,   22,  673,   27,  291,   11,   20,    6,  905,\n",
            "           12,   45, 2071,   33,  171,   15,   84,   16,    6,  138, 2025,   33,\n",
            "          212,  202,    4,    3,   81,    2,    1,    1,    1,    1,    1,    1,\n",
            "            1,    1,    1,    1,    1,    1,    1,    1,    1,    1,    1,    1,\n",
            "            1,    1],\n",
            "        [   8,  433,   17,   64,  436,  316,   12,  108, 1103, 2139,   70,   57,\n",
            "           44,  847,   20,   32,   29,   61,    4,   18,   27,   15,   22, 3032,\n",
            "           81,    3,  502, 4152,  323,    2,    1,    1,    1,    1,    1,    1,\n",
            "            1,    1,    1,    1,    1,    1,    1,    1,    1,    1,    1,    1,\n",
            "            1,    1]], device='cuda:0')\n",
            "(tensor([[0.3562],\n",
            "        [0.2465],\n",
            "        [0.3674],\n",
            "        [0.3301],\n",
            "        [0.4338],\n",
            "        [0.3171],\n",
            "        [0.3920],\n",
            "        [0.3061]], device='cuda:0', grad_fn=<AddmmBackward>), tensor([[-0.3912, -1.1278],\n",
            "        [-0.4868, -0.9535],\n",
            "        [-0.5014, -0.9307],\n",
            "        [-0.4320, -1.0477],\n",
            "        [-0.3602, -1.1958],\n",
            "        [-0.4777, -0.9682],\n",
            "        [-0.4674, -0.9852],\n",
            "        [-0.4908, -0.9472]], device='cuda:0', grad_fn=<LogSoftmaxBackward>))\n"
          ]
        },
        {
          "output_type": "stream",
          "name": "stderr",
          "text": [
            "/usr/local/lib/python3.7/dist-packages/torch/nn/functional.py:652: UserWarning: Named tensors and all their associated APIs are an experimental feature and subject to change. Please do not use them for anything important until they are released as stable. (Triggered internally at  /pytorch/c10/core/TensorImpl.h:1156.)\n",
            "  return torch.max_pool1d(input, kernel_size, stride, padding, dilation, ceil_mode)\n"
          ]
        }
      ]
    },
    {
      "cell_type": "code",
      "source": [
        "# import torch.optim as optim\n",
        "\n",
        "# optimizer = optim.Adam(model.parameters())\n",
        "\n",
        "# criterion = nn.BCEWithLogitsLoss()\n",
        "\n",
        "# model = model.to(DEVICE)\n",
        "# criterion = criterion.to(DEVICE)"
      ],
      "metadata": {
        "id": "MpixOSrh-Kv0"
      },
      "execution_count": null,
      "outputs": []
    },
    {
      "cell_type": "markdown",
      "source": [
        "### Typical Train Model Function"
      ],
      "metadata": {
        "id": "JA0vjUUeXElw"
      }
    },
    {
      "cell_type": "code",
      "source": [
        "# Typical Training Function\n",
        "\n",
        "from tqdm import tqdm # for beautiful model training updates\n",
        "\n",
        "\n",
        "def train_model(model, device, train_loader, optimizer, epoch):\n",
        "    model.train() # setting the model in training mode\n",
        "    pbar = tqdm(train_loader) # putting the iterator in pbara\n",
        "    correct = 0 # for accuracy numerator\n",
        "    processed =0 # for accuracy denominator\n",
        "    epoch_loss = 0.0\n",
        "    for batch_idx, batch in enumerate(pbar):\n",
        "\n",
        "        tweets, intensities = batch.tweet.to(device), batch.intensity.to(device)  # plural, we are not interested in domain\n",
        "        #sending data to CPU or GPU as per device\n",
        "\n",
        "        optimizer.zero_grad() # setting gradients to zero to avoid accumulation\n",
        "\n",
        "        y_preds,_ = model(tweets) # forward pass, result captured in y_preds (plural as there are many body in a batch)\n",
        "        # we are not interested in domain prediction\n",
        "        # the predictions are in one hot vector\n",
        "\n",
        "        regression_loss = regression_loss_function(y_preds,intensities.unsqueeze(1)) # Computing loss\n",
        "        # loss = F.mse_loss(y_preds,intensities.unsqueeze(1)) # Computing loss\n",
        "\n",
        "        train_regresion_losses.append(regression_loss.item()) # to capture loss over many epochs\n",
        "\n",
        "        regression_loss.backward() # backpropagation\n",
        "        optimizer.step() # updating the params\n",
        "\n",
        "        # preds = y_preds.argmax(dim=1, keepdim=True)  # get the index olf the max log-probability\n",
        "        # correct += preds.eq(labels.view_as(preds)).sum().item()\n",
        "        epoch_loss += regression_loss.item()\n",
        "\n",
        "        processed += len(tweets)\n",
        "\n",
        "        pbar.set_description(desc= f'Loss={regression_loss.item()} Batch_id={batch_idx} Epoch Average loss={100*epoch_loss/processed:0.4f}')\n",
        "    train_accuracy.append(100*epoch_loss/len(train_loader))"
      ],
      "metadata": {
        "id": "2QtsY9qU-Rg9"
      },
      "execution_count": 53,
      "outputs": []
    },
    {
      "cell_type": "markdown",
      "source": [
        "### Typical Test Function"
      ],
      "metadata": {
        "id": "DVOvpPcYCZwh"
      }
    },
    {
      "cell_type": "code",
      "source": [
        "def test_model(model,device, data_loader, mode= 'test'):\n",
        "    model.eval() # setting the model in evaluation mode\n",
        "    loss = 0\n",
        "    correct = 0 # for accuracy numerator\n",
        "    test_regresion_losses =[] # for overall batches (summed over batches)\n",
        "    valid_regresion_losses =[] # for overall batches (summed over batches)\n",
        "\n",
        "    with torch.no_grad():\n",
        "        for batch in data_loader:\n",
        "\n",
        "            tweets, intensities  = batch.tweet.to(device), batch.intensity.to(device) #sending data to CPU or GPU as per device\n",
        "            # we are not interested in domains\n",
        "            \n",
        "            y_preds,_ = model(tweets) # forward pass, result captured in outputs (plural as there are many bodies in a batch)\n",
        "            # the outputs are in batch size x one hot vector \n",
        "            # not interested in domain output\n",
        "\n",
        "            regression_loss = regression_loss_function(y_preds,intensities.unsqueeze(1))\n",
        "\n",
        "            if mode == 'test':\n",
        "              test_regresion_losses.append(regression_loss.item())\n",
        "              # print(f'...in the batch...{regression_loss}')\n",
        "            else:\n",
        "              valid_regresion_losses.append(regression_loss.item())\n",
        "              # print(f'...in the batch...{regression_loss}')\n",
        "\n",
        "        # regression_loss.item() /= len(data_loader.dataset) # average test loss\n",
        "        if mode == 'test':\n",
        "          # total_test_regression_loss = sum(test_regresion_losses)\n",
        "          # test_regresion_losses.append(regression_loss) # to capture loss over many batches\n",
        "          # print('...Average test loss: {:.8f}'.format((total_test_regression_loss)/len(data_loader.dataset)))\n",
        "          print(f'TEST LOSS (Average) : {sum(test_regresion_losses) / len(data_loader)}')\n",
        "        else:\n",
        "          # valid_regresion_losses.append(regression_loss) # to capture loss over many batches\n",
        "          # total_valid_regression_loss = sum(valid_regresion_losses)\n",
        "          # print('...Average validation loss: {:.8f}'.format((total_valid_regression_loss)/len(data_loader.dataset)))\n",
        "          print(f'VALIDATION LOSS (Average) : {sum(valid_regresion_losses) / len(data_loader)}')"
      ],
      "metadata": {
        "id": "DcI1CYK5CYjh"
      },
      "execution_count": 54,
      "outputs": []
    },
    {
      "cell_type": "code",
      "source": [
        "# EXECUTION\n",
        "\n",
        "lr = 2e-5\n",
        "optimizer = optim.Adam(model.parameters(), lr=lr)\n",
        "domain_loss_function= nn.BCEWithLogitsLoss()\n",
        "regression_loss_function = nn.L1Loss()\n",
        "\n",
        "\n",
        "model = model.to(DEVICE)\n",
        "domain_loss_function = domain_loss_function.to(DEVICE)\n",
        "regression_loss_function = regression_loss_function.to(DEVICE)\n",
        "\n",
        "# train_losses = [] # to capture train losses over training epochs\n",
        "train_accuracy = [] # to capture train accuracy over training epochs\n",
        "# val_losses = [] # to capture validation loss\n",
        "# test_losses = [] # to capture test losses \n",
        "# test_accuracy = [] # to capture test accuracy \n",
        "\n",
        "# EPOCHS = 2\n",
        "EPOCHS = 100\n",
        "# dict_val_loss = {}\n",
        "# dict_test_loss = {}\n",
        "\n",
        "\n",
        "train_regresion_losses = [] # to capture train losses over training epochs\n",
        "train_domain_losses = []\n",
        "train_accuracy = [] # to capture train accuracy over training epochs\n",
        "# valid_regresion_losses = [] # to capture validation loss\n",
        "# test_regresion_losses = [] # to capture test losses \n",
        "total_test_regression_loss =[]\n",
        "total_valid_regression_loss =[]\n",
        "# print(f'----------------------training started for {name}-----------------')\n",
        "for epoch in range(EPOCHS):\n",
        "  print(\"EPOCH:\", epoch+1)\n",
        "  train_model(model, DEVICE, train_iterator, optimizer, epoch)\n",
        "  # print(\"for validation.......\")\n",
        "  # val_name = train_name.replace(\"train\", \"val\" )\n",
        "  # test_model(typical_model, device, dict_val_loader[val_name], mode = 'val')\n",
        "  test_model(model, DEVICE, valid_iterator, mode = 'val')\n",
        "\n",
        "\n",
        "  # print(\"for test  .......\")\n",
        "  # test_name = train_name.replace(\"train\", \"test\" )\n",
        "  # test_model(typical_model, device, dict_test_loader[test_name], mode = 'test')\n",
        "  test_model(model, DEVICE, test_iterator, mode = 'test')\n",
        "\n",
        "# dict_val_loss[name] = val_losses\n",
        "# dict_test_loss[name] = test_losses\n",
        "\n",
        "model_name = \"Non_DANN\"+\".pt\"\n",
        "torch.save(model.state_dict(), os.path.join(MODEL_DIR, model_name))\n",
        "# print(f'----------------------training complete for {name}-----------------')\n",
        "# print(dict_val_loss.items())\n",
        "# print(dict_test_loss.items())"
      ],
      "metadata": {
        "colab": {
          "base_uri": "https://localhost:8080/"
        },
        "id": "nLYNyFPTBmCT",
        "outputId": "c7a73996-33a0-47d0-a19f-3b7969b9e47c"
      },
      "execution_count": 55,
      "outputs": [
        {
          "output_type": "stream",
          "name": "stdout",
          "text": [
            "EPOCH: 1\n"
          ]
        },
        {
          "output_type": "stream",
          "name": "stderr",
          "text": [
            "Loss=0.10554364323616028 Batch_id=201 Epoch Average loss=2.1569: 100%|██████████| 202/202 [00:01<00:00, 120.95it/s]\n"
          ]
        },
        {
          "output_type": "stream",
          "name": "stdout",
          "text": [
            "for validation.......\n",
            "...Average batch validation loss is 0.1546570360660553\n",
            "for test  .......\n",
            "...Average batch test loss is 0.14828822761774063\n",
            "EPOCH: 2\n"
          ]
        },
        {
          "output_type": "stream",
          "name": "stderr",
          "text": [
            "Loss=0.13246333599090576 Batch_id=201 Epoch Average loss=1.8359: 100%|██████████| 202/202 [00:01<00:00, 128.24it/s]\n"
          ]
        },
        {
          "output_type": "stream",
          "name": "stdout",
          "text": [
            "for validation.......\n",
            "...Average batch validation loss is 0.13858754932880402\n",
            "for test  .......\n",
            "...Average batch test loss is 0.13643446005880833\n",
            "EPOCH: 3\n"
          ]
        },
        {
          "output_type": "stream",
          "name": "stderr",
          "text": [
            "Loss=0.12931421399116516 Batch_id=201 Epoch Average loss=1.6452: 100%|██████████| 202/202 [00:01<00:00, 126.35it/s]\n"
          ]
        },
        {
          "output_type": "stream",
          "name": "stdout",
          "text": [
            "for validation.......\n",
            "...Average batch validation loss is 0.13139913976192474\n",
            "for test  .......\n",
            "...Average batch test loss is 0.13405136205255985\n",
            "EPOCH: 4\n"
          ]
        },
        {
          "output_type": "stream",
          "name": "stderr",
          "text": [
            "Loss=0.06357194483280182 Batch_id=201 Epoch Average loss=1.4255: 100%|██████████| 202/202 [00:01<00:00, 126.15it/s]\n"
          ]
        },
        {
          "output_type": "stream",
          "name": "stdout",
          "text": [
            "for validation.......\n",
            "...Average batch validation loss is 0.13594040274620056\n",
            "for test  .......\n",
            "...Average batch test loss is 0.1276154574006796\n",
            "EPOCH: 5\n"
          ]
        },
        {
          "output_type": "stream",
          "name": "stderr",
          "text": [
            "Loss=0.11839717626571655 Batch_id=201 Epoch Average loss=1.2724: 100%|██████████| 202/202 [00:01<00:00, 124.77it/s]\n"
          ]
        },
        {
          "output_type": "stream",
          "name": "stdout",
          "text": [
            "for validation.......\n",
            "...Average batch validation loss is 0.13184016942977905\n",
            "for test  .......\n",
            "...Average batch test loss is 0.12914092652499676\n",
            "EPOCH: 6\n"
          ]
        },
        {
          "output_type": "stream",
          "name": "stderr",
          "text": [
            "Loss=0.04620756208896637 Batch_id=201 Epoch Average loss=1.1661: 100%|██████████| 202/202 [00:01<00:00, 127.50it/s]\n"
          ]
        },
        {
          "output_type": "stream",
          "name": "stdout",
          "text": [
            "for validation.......\n",
            "...Average batch validation loss is 0.1411384642124176\n",
            "for test  .......\n",
            "...Average batch test loss is 0.12991251423954964\n",
            "EPOCH: 7\n"
          ]
        },
        {
          "output_type": "stream",
          "name": "stderr",
          "text": [
            "Loss=0.03538079559803009 Batch_id=201 Epoch Average loss=1.0553: 100%|██████████| 202/202 [00:01<00:00, 127.88it/s]\n"
          ]
        },
        {
          "output_type": "stream",
          "name": "stdout",
          "text": [
            "for validation.......\n",
            "...Average batch validation loss is 0.13933832943439484\n",
            "for test  .......\n",
            "...Average batch test loss is 0.1309744231402874\n",
            "EPOCH: 8\n"
          ]
        },
        {
          "output_type": "stream",
          "name": "stderr",
          "text": [
            "Loss=0.06910017132759094 Batch_id=201 Epoch Average loss=0.9632: 100%|██████████| 202/202 [00:01<00:00, 126.64it/s]\n"
          ]
        },
        {
          "output_type": "stream",
          "name": "stdout",
          "text": [
            "for validation.......\n",
            "...Average batch validation loss is 0.13338607549667358\n",
            "for test  .......\n",
            "...Average batch test loss is 0.12753590568900108\n",
            "EPOCH: 9\n"
          ]
        },
        {
          "output_type": "stream",
          "name": "stderr",
          "text": [
            "Loss=0.05057922378182411 Batch_id=201 Epoch Average loss=0.8775: 100%|██████████| 202/202 [00:01<00:00, 125.20it/s]\n"
          ]
        },
        {
          "output_type": "stream",
          "name": "stdout",
          "text": [
            "for validation.......\n",
            "...Average batch validation loss is 0.132205992937088\n",
            "for test  .......\n",
            "...Average batch test loss is 0.1283272672444582\n",
            "EPOCH: 10\n"
          ]
        },
        {
          "output_type": "stream",
          "name": "stderr",
          "text": [
            "Loss=0.054236359894275665 Batch_id=201 Epoch Average loss=0.8701: 100%|██████████| 202/202 [00:01<00:00, 125.62it/s]\n"
          ]
        },
        {
          "output_type": "stream",
          "name": "stdout",
          "text": [
            "for validation.......\n",
            "...Average batch validation loss is 0.140908345580101\n",
            "for test  .......\n",
            "...Average batch test loss is 0.13623837009072304\n",
            "EPOCH: 11\n"
          ]
        },
        {
          "output_type": "stream",
          "name": "stderr",
          "text": [
            "Loss=0.08716484904289246 Batch_id=201 Epoch Average loss=0.8001: 100%|██████████| 202/202 [00:01<00:00, 124.07it/s]\n"
          ]
        },
        {
          "output_type": "stream",
          "name": "stdout",
          "text": [
            "for validation.......\n",
            "...Average batch validation loss is 0.12894336879253387\n",
            "for test  .......\n",
            "...Average batch test loss is 0.12572136893868446\n",
            "EPOCH: 12\n"
          ]
        },
        {
          "output_type": "stream",
          "name": "stderr",
          "text": [
            "Loss=0.07786528766155243 Batch_id=201 Epoch Average loss=0.7901: 100%|██████████| 202/202 [00:01<00:00, 125.95it/s]\n"
          ]
        },
        {
          "output_type": "stream",
          "name": "stdout",
          "text": [
            "for validation.......\n",
            "...Average batch validation loss is 0.12750615179538727\n",
            "for test  .......\n",
            "...Average batch test loss is 0.12356251664459705\n",
            "EPOCH: 13\n"
          ]
        },
        {
          "output_type": "stream",
          "name": "stderr",
          "text": [
            "Loss=0.06521550565958023 Batch_id=201 Epoch Average loss=0.7720: 100%|██████████| 202/202 [00:01<00:00, 127.97it/s]\n"
          ]
        },
        {
          "output_type": "stream",
          "name": "stdout",
          "text": [
            "for validation.......\n",
            "...Average batch validation loss is 0.13068556785583496\n",
            "for test  .......\n",
            "...Average batch test loss is 0.12772739492356777\n",
            "EPOCH: 14\n"
          ]
        },
        {
          "output_type": "stream",
          "name": "stderr",
          "text": [
            "Loss=0.06234344094991684 Batch_id=201 Epoch Average loss=0.7316: 100%|██████████| 202/202 [00:01<00:00, 126.02it/s]\n"
          ]
        },
        {
          "output_type": "stream",
          "name": "stdout",
          "text": [
            "for validation.......\n",
            "...Average batch validation loss is 0.13676238059997559\n",
            "for test  .......\n",
            "...Average batch test loss is 0.131257776170969\n",
            "EPOCH: 15\n"
          ]
        },
        {
          "output_type": "stream",
          "name": "stderr",
          "text": [
            "Loss=0.042277731001377106 Batch_id=201 Epoch Average loss=0.7216: 100%|██████████| 202/202 [00:01<00:00, 123.32it/s]\n"
          ]
        },
        {
          "output_type": "stream",
          "name": "stdout",
          "text": [
            "for validation.......\n",
            "...Average batch validation loss is 0.1322467029094696\n",
            "for test  .......\n",
            "...Average batch test loss is 0.12706262804567814\n",
            "EPOCH: 16\n"
          ]
        },
        {
          "output_type": "stream",
          "name": "stderr",
          "text": [
            "Loss=0.06176459789276123 Batch_id=201 Epoch Average loss=0.6714: 100%|██████████| 202/202 [00:01<00:00, 123.74it/s]\n"
          ]
        },
        {
          "output_type": "stream",
          "name": "stdout",
          "text": [
            "for validation.......\n",
            "...Average batch validation loss is 0.12766540050506592\n",
            "for test  .......\n",
            "...Average batch test loss is 0.12648200429975986\n",
            "EPOCH: 17\n"
          ]
        },
        {
          "output_type": "stream",
          "name": "stderr",
          "text": [
            "Loss=0.05011354014277458 Batch_id=201 Epoch Average loss=0.6703: 100%|██████████| 202/202 [00:01<00:00, 122.38it/s]\n"
          ]
        },
        {
          "output_type": "stream",
          "name": "stdout",
          "text": [
            "for validation.......\n",
            "...Average batch validation loss is 0.13186532258987427\n",
            "for test  .......\n",
            "...Average batch test loss is 0.12834738567471504\n",
            "EPOCH: 18\n"
          ]
        },
        {
          "output_type": "stream",
          "name": "stderr",
          "text": [
            "Loss=0.06215837225317955 Batch_id=201 Epoch Average loss=0.6344: 100%|██████████| 202/202 [00:02<00:00, 84.87it/s]\n"
          ]
        },
        {
          "output_type": "stream",
          "name": "stdout",
          "text": [
            "for validation.......\n",
            "...Average batch validation loss is 0.13549530506134033\n",
            "for test  .......\n",
            "...Average batch test loss is 0.13161098212003708\n",
            "EPOCH: 19\n"
          ]
        },
        {
          "output_type": "stream",
          "name": "stderr",
          "text": [
            "Loss=0.02174104005098343 Batch_id=201 Epoch Average loss=0.6443: 100%|██████████| 202/202 [00:03<00:00, 55.47it/s]\n"
          ]
        },
        {
          "output_type": "stream",
          "name": "stdout",
          "text": [
            "for validation.......\n",
            "...Average batch validation loss is 0.12771378457546234\n",
            "for test  .......\n",
            "...Average batch test loss is 0.12410835921764374\n",
            "EPOCH: 20\n"
          ]
        },
        {
          "output_type": "stream",
          "name": "stderr",
          "text": [
            "Loss=0.04394527152180672 Batch_id=201 Epoch Average loss=0.5965: 100%|██████████| 202/202 [00:03<00:00, 55.20it/s]\n"
          ]
        },
        {
          "output_type": "stream",
          "name": "stdout",
          "text": [
            "for validation.......\n",
            "...Average batch validation loss is 0.13153859972953796\n",
            "for test  .......\n",
            "...Average batch test loss is 0.12683058716356754\n",
            "EPOCH: 21\n"
          ]
        },
        {
          "output_type": "stream",
          "name": "stderr",
          "text": [
            "Loss=0.06996851414442062 Batch_id=201 Epoch Average loss=0.6116: 100%|██████████| 202/202 [00:01<00:00, 124.64it/s]\n"
          ]
        },
        {
          "output_type": "stream",
          "name": "stdout",
          "text": [
            "for validation.......\n",
            "...Average batch validation loss is 0.13636897504329681\n",
            "for test  .......\n",
            "...Average batch test loss is 0.1314900740981102\n",
            "EPOCH: 22\n"
          ]
        },
        {
          "output_type": "stream",
          "name": "stderr",
          "text": [
            "Loss=0.06134910508990288 Batch_id=201 Epoch Average loss=0.5955: 100%|██████████| 202/202 [00:01<00:00, 124.44it/s]\n"
          ]
        },
        {
          "output_type": "stream",
          "name": "stdout",
          "text": [
            "for validation.......\n",
            "...Average batch validation loss is 0.13175445795059204\n",
            "for test  .......\n",
            "...Average batch test loss is 0.12896525487303734\n",
            "EPOCH: 23\n"
          ]
        },
        {
          "output_type": "stream",
          "name": "stderr",
          "text": [
            "Loss=0.027020052075386047 Batch_id=201 Epoch Average loss=0.5814: 100%|██████████| 202/202 [00:01<00:00, 123.59it/s]\n"
          ]
        },
        {
          "output_type": "stream",
          "name": "stdout",
          "text": [
            "for validation.......\n",
            "...Average batch validation loss is 0.13601252436637878\n",
            "for test  .......\n",
            "...Average batch test loss is 0.13085199519991875\n",
            "EPOCH: 24\n"
          ]
        },
        {
          "output_type": "stream",
          "name": "stderr",
          "text": [
            "Loss=0.05558527633547783 Batch_id=201 Epoch Average loss=0.5900: 100%|██████████| 202/202 [00:01<00:00, 122.50it/s]\n"
          ]
        },
        {
          "output_type": "stream",
          "name": "stdout",
          "text": [
            "for validation.......\n",
            "...Average batch validation loss is 0.1347963511943817\n",
            "for test  .......\n",
            "...Average batch test loss is 0.12818704545497894\n",
            "EPOCH: 25\n"
          ]
        },
        {
          "output_type": "stream",
          "name": "stderr",
          "text": [
            "Loss=0.04930763691663742 Batch_id=201 Epoch Average loss=0.5569: 100%|██████████| 202/202 [00:02<00:00, 94.28it/s] \n"
          ]
        },
        {
          "output_type": "stream",
          "name": "stdout",
          "text": [
            "for validation.......\n",
            "...Average batch validation loss is 0.13221853971481323\n",
            "for test  .......\n",
            "...Average batch test loss is 0.1274647768586874\n",
            "EPOCH: 26\n"
          ]
        },
        {
          "output_type": "stream",
          "name": "stderr",
          "text": [
            "Loss=0.05863160640001297 Batch_id=201 Epoch Average loss=0.5554: 100%|██████████| 202/202 [00:01<00:00, 109.60it/s]\n"
          ]
        },
        {
          "output_type": "stream",
          "name": "stdout",
          "text": [
            "for validation.......\n",
            "...Average batch validation loss is 0.12807680666446686\n",
            "for test  .......\n",
            "...Average batch test loss is 0.12547456100583076\n",
            "EPOCH: 27\n"
          ]
        },
        {
          "output_type": "stream",
          "name": "stderr",
          "text": [
            "Loss=0.04324007034301758 Batch_id=201 Epoch Average loss=0.5386: 100%|██████████| 202/202 [00:01<00:00, 123.46it/s]\n"
          ]
        },
        {
          "output_type": "stream",
          "name": "stdout",
          "text": [
            "for validation.......\n",
            "...Average batch validation loss is 0.13172370195388794\n",
            "for test  .......\n",
            "...Average batch test loss is 0.12871100939810276\n",
            "EPOCH: 28\n"
          ]
        },
        {
          "output_type": "stream",
          "name": "stderr",
          "text": [
            "Loss=0.03890589252114296 Batch_id=201 Epoch Average loss=0.5369: 100%|██████████| 202/202 [00:01<00:00, 122.80it/s]\n"
          ]
        },
        {
          "output_type": "stream",
          "name": "stdout",
          "text": [
            "for validation.......\n",
            "...Average batch validation loss is 0.12980709969997406\n",
            "for test  .......\n",
            "...Average batch test loss is 0.12457997910678387\n",
            "EPOCH: 29\n"
          ]
        },
        {
          "output_type": "stream",
          "name": "stderr",
          "text": [
            "Loss=0.049299560487270355 Batch_id=201 Epoch Average loss=0.5169: 100%|██████████| 202/202 [00:01<00:00, 123.53it/s]\n"
          ]
        },
        {
          "output_type": "stream",
          "name": "stdout",
          "text": [
            "for validation.......\n",
            "...Average batch validation loss is 0.1316518783569336\n",
            "for test  .......\n",
            "...Average batch test loss is 0.1284820344299078\n",
            "EPOCH: 30\n"
          ]
        },
        {
          "output_type": "stream",
          "name": "stderr",
          "text": [
            "Loss=0.03082924336194992 Batch_id=201 Epoch Average loss=0.5287: 100%|██████████| 202/202 [00:01<00:00, 121.53it/s]\n"
          ]
        },
        {
          "output_type": "stream",
          "name": "stdout",
          "text": [
            "for validation.......\n",
            "...Average batch validation loss is 0.12867684662342072\n",
            "for test  .......\n",
            "...Average batch test loss is 0.12435084022581577\n",
            "EPOCH: 31\n"
          ]
        },
        {
          "output_type": "stream",
          "name": "stderr",
          "text": [
            "Loss=0.04806767404079437 Batch_id=201 Epoch Average loss=0.5365: 100%|██████████| 202/202 [00:01<00:00, 118.16it/s]\n"
          ]
        },
        {
          "output_type": "stream",
          "name": "stdout",
          "text": [
            "for validation.......\n",
            "...Average batch validation loss is 0.14218708872795105\n",
            "for test  .......\n",
            "...Average batch test loss is 0.13697534427046776\n",
            "EPOCH: 32\n"
          ]
        },
        {
          "output_type": "stream",
          "name": "stderr",
          "text": [
            "Loss=0.016657870262861252 Batch_id=201 Epoch Average loss=0.5132: 100%|██████████| 202/202 [00:01<00:00, 119.38it/s]\n"
          ]
        },
        {
          "output_type": "stream",
          "name": "stdout",
          "text": [
            "for validation.......\n",
            "...Average batch validation loss is 0.13552993535995483\n",
            "for test  .......\n",
            "...Average batch test loss is 0.13059332221746445\n",
            "EPOCH: 33\n"
          ]
        },
        {
          "output_type": "stream",
          "name": "stderr",
          "text": [
            "Loss=0.02173195779323578 Batch_id=201 Epoch Average loss=0.5073: 100%|██████████| 202/202 [00:01<00:00, 124.51it/s]\n"
          ]
        },
        {
          "output_type": "stream",
          "name": "stdout",
          "text": [
            "for validation.......\n",
            "...Average batch validation loss is 0.13649891316890717\n",
            "for test  .......\n",
            "...Average batch test loss is 0.1294838022440672\n",
            "EPOCH: 34\n"
          ]
        },
        {
          "output_type": "stream",
          "name": "stderr",
          "text": [
            "Loss=0.021699029952287674 Batch_id=201 Epoch Average loss=0.5021: 100%|██████████| 202/202 [00:01<00:00, 121.74it/s]\n"
          ]
        },
        {
          "output_type": "stream",
          "name": "stdout",
          "text": [
            "for validation.......\n",
            "...Average batch validation loss is 0.13365936279296875\n",
            "for test  .......\n",
            "...Average batch test loss is 0.12677447497844696\n",
            "EPOCH: 35\n"
          ]
        },
        {
          "output_type": "stream",
          "name": "stderr",
          "text": [
            "Loss=0.05339553952217102 Batch_id=201 Epoch Average loss=0.4854: 100%|██████████| 202/202 [00:01<00:00, 120.81it/s]\n"
          ]
        },
        {
          "output_type": "stream",
          "name": "stdout",
          "text": [
            "for validation.......\n",
            "...Average batch validation loss is 0.13201741874217987\n",
            "for test  .......\n",
            "...Average batch test loss is 0.12638082914054394\n",
            "EPOCH: 36\n"
          ]
        },
        {
          "output_type": "stream",
          "name": "stderr",
          "text": [
            "Loss=0.03849225491285324 Batch_id=201 Epoch Average loss=0.4816: 100%|██████████| 202/202 [00:01<00:00, 122.67it/s]\n"
          ]
        },
        {
          "output_type": "stream",
          "name": "stdout",
          "text": [
            "for validation.......\n",
            "...Average batch validation loss is 0.1403142511844635\n",
            "for test  .......\n",
            "...Average batch test loss is 0.1324592437595129\n",
            "EPOCH: 37\n"
          ]
        },
        {
          "output_type": "stream",
          "name": "stderr",
          "text": [
            "Loss=0.02999785915017128 Batch_id=201 Epoch Average loss=0.4694: 100%|██████████| 202/202 [00:01<00:00, 120.50it/s]\n"
          ]
        },
        {
          "output_type": "stream",
          "name": "stdout",
          "text": [
            "for validation.......\n",
            "...Average batch validation loss is 0.13557584583759308\n",
            "for test  .......\n",
            "...Average batch test loss is 0.13163823820650578\n",
            "EPOCH: 38\n"
          ]
        },
        {
          "output_type": "stream",
          "name": "stderr",
          "text": [
            "Loss=0.04553510248661041 Batch_id=201 Epoch Average loss=0.4697: 100%|██████████| 202/202 [00:01<00:00, 117.78it/s]\n"
          ]
        },
        {
          "output_type": "stream",
          "name": "stdout",
          "text": [
            "for validation.......\n",
            "...Average batch validation loss is 0.12783291935920715\n",
            "for test  .......\n",
            "...Average batch test loss is 0.1255461573600769\n",
            "EPOCH: 39\n"
          ]
        },
        {
          "output_type": "stream",
          "name": "stderr",
          "text": [
            "Loss=0.046661440283060074 Batch_id=201 Epoch Average loss=0.4614: 100%|██████████| 202/202 [00:01<00:00, 121.12it/s]\n"
          ]
        },
        {
          "output_type": "stream",
          "name": "stdout",
          "text": [
            "for validation.......\n",
            "...Average batch validation loss is 0.12796440720558167\n",
            "for test  .......\n",
            "...Average batch test loss is 0.12446867488324642\n",
            "EPOCH: 40\n"
          ]
        },
        {
          "output_type": "stream",
          "name": "stderr",
          "text": [
            "Loss=0.06711533665657043 Batch_id=201 Epoch Average loss=0.4737: 100%|██████████| 202/202 [00:01<00:00, 121.82it/s]\n"
          ]
        },
        {
          "output_type": "stream",
          "name": "stdout",
          "text": [
            "for validation.......\n",
            "...Average batch validation loss is 0.13793979585170746\n",
            "for test  .......\n",
            "...Average batch test loss is 0.13429422304034233\n",
            "EPOCH: 41\n"
          ]
        },
        {
          "output_type": "stream",
          "name": "stderr",
          "text": [
            "Loss=0.026664264500141144 Batch_id=201 Epoch Average loss=0.4677: 100%|██████████| 202/202 [00:01<00:00, 121.20it/s]\n"
          ]
        },
        {
          "output_type": "stream",
          "name": "stdout",
          "text": [
            "for validation.......\n",
            "...Average batch validation loss is 0.13352647423744202\n",
            "for test  .......\n",
            "...Average batch test loss is 0.1289748027920723\n",
            "EPOCH: 42\n"
          ]
        },
        {
          "output_type": "stream",
          "name": "stderr",
          "text": [
            "Loss=0.03413467854261398 Batch_id=201 Epoch Average loss=0.4567: 100%|██████████| 202/202 [00:01<00:00, 119.83it/s]\n"
          ]
        },
        {
          "output_type": "stream",
          "name": "stdout",
          "text": [
            "for validation.......\n",
            "...Average batch validation loss is 0.134358748793602\n",
            "for test  .......\n",
            "...Average batch test loss is 0.12983370758593082\n",
            "EPOCH: 43\n"
          ]
        },
        {
          "output_type": "stream",
          "name": "stderr",
          "text": [
            "Loss=0.07799477875232697 Batch_id=201 Epoch Average loss=0.4575: 100%|██████████| 202/202 [00:01<00:00, 121.41it/s]\n"
          ]
        },
        {
          "output_type": "stream",
          "name": "stdout",
          "text": [
            "for validation.......\n",
            "...Average batch validation loss is 0.1305139660835266\n",
            "for test  .......\n",
            "...Average batch test loss is 0.12536022625863552\n",
            "EPOCH: 44\n"
          ]
        },
        {
          "output_type": "stream",
          "name": "stderr",
          "text": [
            "Loss=0.046476393938064575 Batch_id=201 Epoch Average loss=0.4483: 100%|██████████| 202/202 [00:01<00:00, 121.19it/s]\n"
          ]
        },
        {
          "output_type": "stream",
          "name": "stdout",
          "text": [
            "for validation.......\n",
            "...Average batch validation loss is 0.13982422649860382\n",
            "for test  .......\n",
            "...Average batch test loss is 0.13536377623677254\n",
            "EPOCH: 45\n"
          ]
        },
        {
          "output_type": "stream",
          "name": "stderr",
          "text": [
            "Loss=0.03571247681975365 Batch_id=201 Epoch Average loss=0.4422: 100%|██████████| 202/202 [00:01<00:00, 120.61it/s]\n"
          ]
        },
        {
          "output_type": "stream",
          "name": "stdout",
          "text": [
            "for validation.......\n",
            "...Average batch validation loss is 0.1330312192440033\n",
            "for test  .......\n",
            "...Average batch test loss is 0.12842734716832638\n",
            "EPOCH: 46\n"
          ]
        },
        {
          "output_type": "stream",
          "name": "stderr",
          "text": [
            "Loss=0.04630563408136368 Batch_id=201 Epoch Average loss=0.4176: 100%|██████████| 202/202 [00:01<00:00, 114.11it/s]\n"
          ]
        },
        {
          "output_type": "stream",
          "name": "stdout",
          "text": [
            "for validation.......\n",
            "...Average batch validation loss is 0.13666434586048126\n",
            "for test  .......\n",
            "...Average batch test loss is 0.13179250806570053\n",
            "EPOCH: 47\n"
          ]
        },
        {
          "output_type": "stream",
          "name": "stderr",
          "text": [
            "Loss=0.038598574697971344 Batch_id=201 Epoch Average loss=0.4297: 100%|██████████| 202/202 [00:02<00:00, 70.66it/s]\n"
          ]
        },
        {
          "output_type": "stream",
          "name": "stdout",
          "text": [
            "for validation.......\n",
            "...Average batch validation loss is 0.13561131060123444\n",
            "for test  .......\n",
            "...Average batch test loss is 0.13068492524325848\n",
            "EPOCH: 48\n"
          ]
        },
        {
          "output_type": "stream",
          "name": "stderr",
          "text": [
            "Loss=0.02004585787653923 Batch_id=201 Epoch Average loss=0.4384: 100%|██████████| 202/202 [00:02<00:00, 69.27it/s]\n"
          ]
        },
        {
          "output_type": "stream",
          "name": "stdout",
          "text": [
            "for validation.......\n",
            "...Average batch validation loss is 0.13161298632621765\n",
            "for test  .......\n",
            "...Average batch test loss is 0.12636073678731918\n",
            "EPOCH: 49\n"
          ]
        },
        {
          "output_type": "stream",
          "name": "stderr",
          "text": [
            "Loss=0.035819485783576965 Batch_id=201 Epoch Average loss=0.4279: 100%|██████████| 202/202 [00:01<00:00, 118.60it/s]\n"
          ]
        },
        {
          "output_type": "stream",
          "name": "stdout",
          "text": [
            "for validation.......\n",
            "...Average batch validation loss is 0.1308516412973404\n",
            "for test  .......\n",
            "...Average batch test loss is 0.12552635930478573\n",
            "EPOCH: 50\n"
          ]
        },
        {
          "output_type": "stream",
          "name": "stderr",
          "text": [
            "Loss=0.044381748884916306 Batch_id=201 Epoch Average loss=0.4109: 100%|██████████| 202/202 [00:01<00:00, 117.35it/s]\n"
          ]
        },
        {
          "output_type": "stream",
          "name": "stdout",
          "text": [
            "for validation.......\n",
            "...Average batch validation loss is 0.1322745978832245\n",
            "for test  .......\n",
            "...Average batch test loss is 0.12826436012983322\n",
            "EPOCH: 51\n"
          ]
        },
        {
          "output_type": "stream",
          "name": "stderr",
          "text": [
            "Loss=0.0419221967458725 Batch_id=201 Epoch Average loss=0.4228: 100%|██████████| 202/202 [00:01<00:00, 114.93it/s]\n"
          ]
        },
        {
          "output_type": "stream",
          "name": "stdout",
          "text": [
            "for validation.......\n",
            "...Average batch validation loss is 0.13253355026245117\n",
            "for test  .......\n",
            "...Average batch test loss is 0.12882138043642044\n",
            "EPOCH: 52\n"
          ]
        },
        {
          "output_type": "stream",
          "name": "stderr",
          "text": [
            "Loss=0.03905608505010605 Batch_id=201 Epoch Average loss=0.4198: 100%|██████████| 202/202 [00:01<00:00, 119.66it/s]\n"
          ]
        },
        {
          "output_type": "stream",
          "name": "stdout",
          "text": [
            "for validation.......\n",
            "...Average batch validation loss is 0.13674801588058472\n",
            "for test  .......\n",
            "...Average batch test loss is 0.13257529959082603\n",
            "EPOCH: 53\n"
          ]
        },
        {
          "output_type": "stream",
          "name": "stderr",
          "text": [
            "Loss=0.022340692579746246 Batch_id=201 Epoch Average loss=0.4180: 100%|██████████| 202/202 [00:01<00:00, 114.59it/s]\n"
          ]
        },
        {
          "output_type": "stream",
          "name": "stdout",
          "text": [
            "for validation.......\n",
            "...Average batch validation loss is 0.13419392704963684\n",
            "for test  .......\n",
            "...Average batch test loss is 0.128416009247303\n",
            "EPOCH: 54\n"
          ]
        },
        {
          "output_type": "stream",
          "name": "stderr",
          "text": [
            "Loss=0.03182633966207504 Batch_id=201 Epoch Average loss=0.4135: 100%|██████████| 202/202 [00:01<00:00, 114.15it/s]\n"
          ]
        },
        {
          "output_type": "stream",
          "name": "stdout",
          "text": [
            "for validation.......\n",
            "...Average batch validation loss is 0.13291604816913605\n",
            "for test  .......\n",
            "...Average batch test loss is 0.1263848077505827\n",
            "EPOCH: 55\n"
          ]
        },
        {
          "output_type": "stream",
          "name": "stderr",
          "text": [
            "Loss=0.02077210135757923 Batch_id=201 Epoch Average loss=0.4172: 100%|██████████| 202/202 [00:01<00:00, 113.81it/s]\n"
          ]
        },
        {
          "output_type": "stream",
          "name": "stdout",
          "text": [
            "for validation.......\n",
            "...Average batch validation loss is 0.13781416416168213\n",
            "for test  .......\n",
            "...Average batch test loss is 0.13159687630832195\n",
            "EPOCH: 56\n"
          ]
        },
        {
          "output_type": "stream",
          "name": "stderr",
          "text": [
            "Loss=0.01934702694416046 Batch_id=201 Epoch Average loss=0.4133: 100%|██████████| 202/202 [00:01<00:00, 120.10it/s]\n"
          ]
        },
        {
          "output_type": "stream",
          "name": "stdout",
          "text": [
            "for validation.......\n",
            "...Average batch validation loss is 0.13788928091526031\n",
            "for test  .......\n",
            "...Average batch test loss is 0.13394920155405998\n",
            "EPOCH: 57\n"
          ]
        },
        {
          "output_type": "stream",
          "name": "stderr",
          "text": [
            "Loss=0.03140709921717644 Batch_id=201 Epoch Average loss=0.4081: 100%|██████████| 202/202 [00:01<00:00, 115.33it/s]\n"
          ]
        },
        {
          "output_type": "stream",
          "name": "stdout",
          "text": [
            "for validation.......\n",
            "...Average batch validation loss is 0.13389521837234497\n",
            "for test  .......\n",
            "...Average batch test loss is 0.12871688231825829\n",
            "EPOCH: 58\n"
          ]
        },
        {
          "output_type": "stream",
          "name": "stderr",
          "text": [
            "Loss=0.032605450600385666 Batch_id=201 Epoch Average loss=0.3986: 100%|██████████| 202/202 [00:01<00:00, 108.99it/s]\n"
          ]
        },
        {
          "output_type": "stream",
          "name": "stdout",
          "text": [
            "for validation.......\n",
            "...Average batch validation loss is 0.13344062864780426\n",
            "for test  .......\n",
            "...Average batch test loss is 0.12839036993682384\n",
            "EPOCH: 59\n"
          ]
        },
        {
          "output_type": "stream",
          "name": "stderr",
          "text": [
            "Loss=0.037125322967767715 Batch_id=201 Epoch Average loss=0.3967: 100%|██████████| 202/202 [00:01<00:00, 105.51it/s]\n"
          ]
        },
        {
          "output_type": "stream",
          "name": "stdout",
          "text": [
            "for validation.......\n",
            "...Average batch validation loss is 0.13259971141815186\n",
            "for test  .......\n",
            "...Average batch test loss is 0.12741093523800373\n",
            "EPOCH: 60\n"
          ]
        },
        {
          "output_type": "stream",
          "name": "stderr",
          "text": [
            "Loss=0.02369632199406624 Batch_id=201 Epoch Average loss=0.4039: 100%|██████████| 202/202 [00:02<00:00, 100.86it/s]\n"
          ]
        },
        {
          "output_type": "stream",
          "name": "stdout",
          "text": [
            "for validation.......\n",
            "...Average batch validation loss is 0.13155314326286316\n",
            "for test  .......\n",
            "...Average batch test loss is 0.12635568901896477\n",
            "EPOCH: 61\n"
          ]
        },
        {
          "output_type": "stream",
          "name": "stderr",
          "text": [
            "Loss=0.05605871602892876 Batch_id=201 Epoch Average loss=0.4062: 100%|██████████| 202/202 [00:02<00:00, 99.99it/s]\n"
          ]
        },
        {
          "output_type": "stream",
          "name": "stdout",
          "text": [
            "for validation.......\n",
            "...Average batch validation loss is 0.1301645189523697\n",
            "for test  .......\n",
            "...Average batch test loss is 0.12526201829314232\n",
            "EPOCH: 62\n"
          ]
        },
        {
          "output_type": "stream",
          "name": "stderr",
          "text": [
            "Loss=0.031675659120082855 Batch_id=201 Epoch Average loss=0.4031: 100%|██████████| 202/202 [00:01<00:00, 117.43it/s]\n"
          ]
        },
        {
          "output_type": "stream",
          "name": "stdout",
          "text": [
            "for validation.......\n",
            "...Average batch validation loss is 0.13701464235782623\n",
            "for test  .......\n",
            "...Average batch test loss is 0.13170950300991535\n",
            "EPOCH: 63\n"
          ]
        },
        {
          "output_type": "stream",
          "name": "stderr",
          "text": [
            "Loss=0.02270331420004368 Batch_id=201 Epoch Average loss=0.4018: 100%|██████████| 202/202 [00:01<00:00, 117.71it/s]\n"
          ]
        },
        {
          "output_type": "stream",
          "name": "stdout",
          "text": [
            "for validation.......\n",
            "...Average batch validation loss is 0.13627618551254272\n",
            "for test  .......\n",
            "...Average batch test loss is 0.13192420452833176\n",
            "EPOCH: 64\n"
          ]
        },
        {
          "output_type": "stream",
          "name": "stderr",
          "text": [
            "Loss=0.045204486697912216 Batch_id=201 Epoch Average loss=0.3815: 100%|██████████| 202/202 [00:01<00:00, 114.07it/s]\n"
          ]
        },
        {
          "output_type": "stream",
          "name": "stdout",
          "text": [
            "for validation.......\n",
            "...Average batch validation loss is 0.12988951802253723\n",
            "for test  .......\n",
            "...Average batch test loss is 0.12678853422403336\n",
            "EPOCH: 65\n"
          ]
        },
        {
          "output_type": "stream",
          "name": "stderr",
          "text": [
            "Loss=0.02785581722855568 Batch_id=201 Epoch Average loss=0.3920: 100%|██████████| 202/202 [00:01<00:00, 114.73it/s]\n"
          ]
        },
        {
          "output_type": "stream",
          "name": "stdout",
          "text": [
            "for validation.......\n",
            "...Average batch validation loss is 0.13326555490493774\n",
            "for test  .......\n",
            "...Average batch test loss is 0.12899748794734478\n",
            "EPOCH: 66\n"
          ]
        },
        {
          "output_type": "stream",
          "name": "stderr",
          "text": [
            "Loss=0.02943645417690277 Batch_id=201 Epoch Average loss=0.3789: 100%|██████████| 202/202 [00:01<00:00, 118.39it/s]\n"
          ]
        },
        {
          "output_type": "stream",
          "name": "stdout",
          "text": [
            "for validation.......\n",
            "...Average batch validation loss is 0.13415314257144928\n",
            "for test  .......\n",
            "...Average batch test loss is 0.13007808104157448\n",
            "EPOCH: 67\n"
          ]
        },
        {
          "output_type": "stream",
          "name": "stderr",
          "text": [
            "Loss=0.03671221062541008 Batch_id=201 Epoch Average loss=0.3910: 100%|██████████| 202/202 [00:01<00:00, 115.62it/s]\n"
          ]
        },
        {
          "output_type": "stream",
          "name": "stdout",
          "text": [
            "for validation.......\n",
            "...Average batch validation loss is 0.1319780945777893\n",
            "for test  .......\n",
            "...Average batch test loss is 0.126828171312809\n",
            "EPOCH: 68\n"
          ]
        },
        {
          "output_type": "stream",
          "name": "stderr",
          "text": [
            "Loss=0.05100781470537186 Batch_id=201 Epoch Average loss=0.3739: 100%|██████████| 202/202 [00:01<00:00, 119.42it/s]\n"
          ]
        },
        {
          "output_type": "stream",
          "name": "stdout",
          "text": [
            "for validation.......\n",
            "...Average batch validation loss is 0.133079394698143\n",
            "for test  .......\n",
            "...Average batch test loss is 0.12760156020522118\n",
            "EPOCH: 69\n"
          ]
        },
        {
          "output_type": "stream",
          "name": "stderr",
          "text": [
            "Loss=0.012210870161652565 Batch_id=201 Epoch Average loss=0.3667: 100%|██████████| 202/202 [00:01<00:00, 113.00it/s]\n"
          ]
        },
        {
          "output_type": "stream",
          "name": "stdout",
          "text": [
            "for validation.......\n",
            "...Average batch validation loss is 0.13634225726127625\n",
            "for test  .......\n",
            "...Average batch test loss is 0.1300933826714754\n",
            "EPOCH: 70\n"
          ]
        },
        {
          "output_type": "stream",
          "name": "stderr",
          "text": [
            "Loss=0.03364355117082596 Batch_id=201 Epoch Average loss=0.3726: 100%|██████████| 202/202 [00:01<00:00, 114.30it/s]\n"
          ]
        },
        {
          "output_type": "stream",
          "name": "stdout",
          "text": [
            "for validation.......\n",
            "...Average batch validation loss is 0.13654083013534546\n",
            "for test  .......\n",
            "...Average batch test loss is 0.13038698956370354\n",
            "EPOCH: 71\n"
          ]
        },
        {
          "output_type": "stream",
          "name": "stderr",
          "text": [
            "Loss=0.021776989102363586 Batch_id=201 Epoch Average loss=0.3671: 100%|██████████| 202/202 [00:01<00:00, 115.22it/s]\n"
          ]
        },
        {
          "output_type": "stream",
          "name": "stdout",
          "text": [
            "for validation.......\n",
            "...Average batch validation loss is 0.13420963287353516\n",
            "for test  .......\n",
            "...Average batch test loss is 0.12814662605524063\n",
            "EPOCH: 72\n"
          ]
        },
        {
          "output_type": "stream",
          "name": "stderr",
          "text": [
            "Loss=0.02545623481273651 Batch_id=201 Epoch Average loss=0.3735: 100%|██████████| 202/202 [00:01<00:00, 115.60it/s]\n"
          ]
        },
        {
          "output_type": "stream",
          "name": "stdout",
          "text": [
            "for validation.......\n",
            "...Average batch validation loss is 0.13082151114940643\n",
            "for test  .......\n",
            "...Average batch test loss is 0.12667951546609402\n",
            "EPOCH: 73\n"
          ]
        },
        {
          "output_type": "stream",
          "name": "stderr",
          "text": [
            "Loss=0.03128120303153992 Batch_id=201 Epoch Average loss=0.3753: 100%|██████████| 202/202 [00:01<00:00, 113.27it/s]\n"
          ]
        },
        {
          "output_type": "stream",
          "name": "stdout",
          "text": [
            "for validation.......\n",
            "...Average batch validation loss is 0.136500746011734\n",
            "for test  .......\n",
            "...Average batch test loss is 0.131771894171834\n",
            "EPOCH: 74\n"
          ]
        },
        {
          "output_type": "stream",
          "name": "stderr",
          "text": [
            "Loss=0.035865433514118195 Batch_id=201 Epoch Average loss=0.3558: 100%|██████████| 202/202 [00:02<00:00, 82.18it/s]\n"
          ]
        },
        {
          "output_type": "stream",
          "name": "stdout",
          "text": [
            "for validation.......\n",
            "...Average batch validation loss is 0.13644228875637054\n",
            "for test  .......\n",
            "...Average batch test loss is 0.13252459280192852\n",
            "EPOCH: 75\n"
          ]
        },
        {
          "output_type": "stream",
          "name": "stderr",
          "text": [
            "Loss=0.030982187017798424 Batch_id=201 Epoch Average loss=0.3581: 100%|██████████| 202/202 [00:01<00:00, 116.30it/s]\n"
          ]
        },
        {
          "output_type": "stream",
          "name": "stdout",
          "text": [
            "for validation.......\n",
            "...Average batch validation loss is 0.13605841994285583\n",
            "for test  .......\n",
            "...Average batch test loss is 0.12983496859669685\n",
            "EPOCH: 76\n"
          ]
        },
        {
          "output_type": "stream",
          "name": "stderr",
          "text": [
            "Loss=0.03170362114906311 Batch_id=201 Epoch Average loss=0.3485: 100%|██████████| 202/202 [00:01<00:00, 116.56it/s]\n"
          ]
        },
        {
          "output_type": "stream",
          "name": "stdout",
          "text": [
            "for validation.......\n",
            "...Average batch validation loss is 0.13357289135456085\n",
            "for test  .......\n",
            "...Average batch test loss is 0.12883618474006653\n",
            "EPOCH: 77\n"
          ]
        },
        {
          "output_type": "stream",
          "name": "stderr",
          "text": [
            "Loss=0.0198851078748703 Batch_id=201 Epoch Average loss=0.3731: 100%|██████████| 202/202 [00:01<00:00, 115.31it/s]\n"
          ]
        },
        {
          "output_type": "stream",
          "name": "stdout",
          "text": [
            "for validation.......\n",
            "...Average batch validation loss is 0.13347110152244568\n",
            "for test  .......\n",
            "...Average batch test loss is 0.12947623059153557\n",
            "EPOCH: 78\n"
          ]
        },
        {
          "output_type": "stream",
          "name": "stderr",
          "text": [
            "Loss=0.029047034680843353 Batch_id=201 Epoch Average loss=0.3573: 100%|██████████| 202/202 [00:01<00:00, 116.20it/s]\n"
          ]
        },
        {
          "output_type": "stream",
          "name": "stdout",
          "text": [
            "for validation.......\n",
            "...Average batch validation loss is 0.13687194883823395\n",
            "for test  .......\n",
            "...Average batch test loss is 0.13229431957006454\n",
            "EPOCH: 79\n"
          ]
        },
        {
          "output_type": "stream",
          "name": "stderr",
          "text": [
            "Loss=0.021452169865369797 Batch_id=201 Epoch Average loss=0.3577: 100%|██████████| 202/202 [00:01<00:00, 116.38it/s]\n"
          ]
        },
        {
          "output_type": "stream",
          "name": "stdout",
          "text": [
            "for validation.......\n",
            "...Average batch validation loss is 0.13266870379447937\n",
            "for test  .......\n",
            "...Average batch test loss is 0.12913409806787968\n",
            "EPOCH: 80\n"
          ]
        },
        {
          "output_type": "stream",
          "name": "stderr",
          "text": [
            "Loss=0.020022042095661163 Batch_id=201 Epoch Average loss=0.3640: 100%|██████████| 202/202 [00:01<00:00, 116.66it/s]\n"
          ]
        },
        {
          "output_type": "stream",
          "name": "stdout",
          "text": [
            "for validation.......\n",
            "...Average batch validation loss is 0.13226421177387238\n",
            "for test  .......\n",
            "...Average batch test loss is 0.12984644249081612\n",
            "EPOCH: 81\n"
          ]
        },
        {
          "output_type": "stream",
          "name": "stderr",
          "text": [
            "Loss=0.033639855682849884 Batch_id=201 Epoch Average loss=0.3453: 100%|██████████| 202/202 [00:01<00:00, 115.40it/s]\n"
          ]
        },
        {
          "output_type": "stream",
          "name": "stdout",
          "text": [
            "for validation.......\n",
            "...Average batch validation loss is 0.13752661645412445\n",
            "for test  .......\n",
            "...Average batch test loss is 0.1337168663740158\n",
            "EPOCH: 82\n"
          ]
        },
        {
          "output_type": "stream",
          "name": "stderr",
          "text": [
            "Loss=0.02775963768362999 Batch_id=201 Epoch Average loss=0.3623: 100%|██████████| 202/202 [00:01<00:00, 116.77it/s]\n"
          ]
        },
        {
          "output_type": "stream",
          "name": "stdout",
          "text": [
            "for validation.......\n",
            "...Average batch validation loss is 0.13501079380512238\n",
            "for test  .......\n",
            "...Average batch test loss is 0.13128499872982502\n",
            "EPOCH: 83\n"
          ]
        },
        {
          "output_type": "stream",
          "name": "stderr",
          "text": [
            "Loss=0.018618447706103325 Batch_id=201 Epoch Average loss=0.3544: 100%|██████████| 202/202 [00:01<00:00, 117.37it/s]\n"
          ]
        },
        {
          "output_type": "stream",
          "name": "stdout",
          "text": [
            "for validation.......\n",
            "...Average batch validation loss is 0.13563695549964905\n",
            "for test  .......\n",
            "...Average batch test loss is 0.12942098453640938\n",
            "EPOCH: 84\n"
          ]
        },
        {
          "output_type": "stream",
          "name": "stderr",
          "text": [
            "Loss=0.04367909952998161 Batch_id=201 Epoch Average loss=0.3485: 100%|██████████| 202/202 [00:01<00:00, 117.44it/s]\n"
          ]
        },
        {
          "output_type": "stream",
          "name": "stdout",
          "text": [
            "for validation.......\n",
            "...Average batch validation loss is 0.14074459671974182\n",
            "for test  .......\n",
            "...Average batch test loss is 0.13559205830097198\n",
            "EPOCH: 85\n"
          ]
        },
        {
          "output_type": "stream",
          "name": "stderr",
          "text": [
            "Loss=0.029138870537281036 Batch_id=201 Epoch Average loss=0.3502: 100%|██████████| 202/202 [00:01<00:00, 111.84it/s]\n"
          ]
        },
        {
          "output_type": "stream",
          "name": "stdout",
          "text": [
            "for validation.......\n",
            "...Average batch validation loss is 0.13475298881530762\n",
            "for test  .......\n",
            "...Average batch test loss is 0.12884563766419888\n",
            "EPOCH: 86\n"
          ]
        },
        {
          "output_type": "stream",
          "name": "stderr",
          "text": [
            "Loss=0.01732359454035759 Batch_id=201 Epoch Average loss=0.3398: 100%|██████████| 202/202 [00:01<00:00, 108.63it/s]\n"
          ]
        },
        {
          "output_type": "stream",
          "name": "stdout",
          "text": [
            "for validation.......\n",
            "...Average batch validation loss is 0.13545869290828705\n",
            "for test  .......\n",
            "...Average batch test loss is 0.12971454299986362\n",
            "EPOCH: 87\n"
          ]
        },
        {
          "output_type": "stream",
          "name": "stderr",
          "text": [
            "Loss=0.022718720138072968 Batch_id=201 Epoch Average loss=0.3461: 100%|██████████| 202/202 [00:01<00:00, 112.56it/s]\n"
          ]
        },
        {
          "output_type": "stream",
          "name": "stdout",
          "text": [
            "for validation.......\n",
            "...Average batch validation loss is 0.13326452672481537\n",
            "for test  .......\n",
            "...Average batch test loss is 0.12748775258660316\n",
            "EPOCH: 88\n"
          ]
        },
        {
          "output_type": "stream",
          "name": "stderr",
          "text": [
            "Loss=0.04711003229022026 Batch_id=201 Epoch Average loss=0.3382: 100%|██████████| 202/202 [00:01<00:00, 113.13it/s]\n"
          ]
        },
        {
          "output_type": "stream",
          "name": "stdout",
          "text": [
            "for validation.......\n",
            "...Average batch validation loss is 0.1349315494298935\n",
            "for test  .......\n",
            "...Average batch test loss is 0.12923004105687141\n",
            "EPOCH: 89\n"
          ]
        },
        {
          "output_type": "stream",
          "name": "stderr",
          "text": [
            "Loss=0.026468005031347275 Batch_id=201 Epoch Average loss=0.3433: 100%|██████████| 202/202 [00:01<00:00, 112.78it/s]\n"
          ]
        },
        {
          "output_type": "stream",
          "name": "stdout",
          "text": [
            "for validation.......\n",
            "...Average batch validation loss is 0.13734254240989685\n",
            "for test  .......\n",
            "...Average batch test loss is 0.13153482973575592\n",
            "EPOCH: 90\n"
          ]
        },
        {
          "output_type": "stream",
          "name": "stderr",
          "text": [
            "Loss=0.02268502488732338 Batch_id=201 Epoch Average loss=0.3253: 100%|██████████| 202/202 [00:01<00:00, 116.74it/s]\n"
          ]
        },
        {
          "output_type": "stream",
          "name": "stdout",
          "text": [
            "for validation.......\n",
            "...Average batch validation loss is 0.13245223462581635\n",
            "for test  .......\n",
            "...Average batch test loss is 0.1268784087151289\n",
            "EPOCH: 91\n"
          ]
        },
        {
          "output_type": "stream",
          "name": "stderr",
          "text": [
            "Loss=0.0343233123421669 Batch_id=201 Epoch Average loss=0.3532: 100%|██████████| 202/202 [00:01<00:00, 116.33it/s]\n"
          ]
        },
        {
          "output_type": "stream",
          "name": "stdout",
          "text": [
            "for validation.......\n",
            "...Average batch validation loss is 0.13144728541374207\n",
            "for test  .......\n",
            "...Average batch test loss is 0.12550003826618195\n",
            "EPOCH: 92\n"
          ]
        },
        {
          "output_type": "stream",
          "name": "stderr",
          "text": [
            "Loss=0.03230878338217735 Batch_id=201 Epoch Average loss=0.3422: 100%|██████████| 202/202 [00:01<00:00, 117.01it/s]\n"
          ]
        },
        {
          "output_type": "stream",
          "name": "stdout",
          "text": [
            "for validation.......\n",
            "...Average batch validation loss is 0.13576167821884155\n",
            "for test  .......\n",
            "...Average batch test loss is 0.13129601068794727\n",
            "EPOCH: 93\n"
          ]
        },
        {
          "output_type": "stream",
          "name": "stderr",
          "text": [
            "Loss=0.021436970680952072 Batch_id=201 Epoch Average loss=0.3341: 100%|██████████| 202/202 [00:01<00:00, 116.26it/s]\n"
          ]
        },
        {
          "output_type": "stream",
          "name": "stdout",
          "text": [
            "for validation.......\n",
            "...Average batch validation loss is 0.13305513560771942\n",
            "for test  .......\n",
            "...Average batch test loss is 0.12691534496843815\n",
            "EPOCH: 94\n"
          ]
        },
        {
          "output_type": "stream",
          "name": "stderr",
          "text": [
            "Loss=0.03098316304385662 Batch_id=201 Epoch Average loss=0.3407: 100%|██████████| 202/202 [00:01<00:00, 116.58it/s]\n"
          ]
        },
        {
          "output_type": "stream",
          "name": "stdout",
          "text": [
            "for validation.......\n",
            "...Average batch validation loss is 0.1351473182439804\n",
            "for test  .......\n",
            "...Average batch test loss is 0.12922946177423\n",
            "EPOCH: 95\n"
          ]
        },
        {
          "output_type": "stream",
          "name": "stderr",
          "text": [
            "Loss=0.034376129508018494 Batch_id=201 Epoch Average loss=0.3366: 100%|██████████| 202/202 [00:01<00:00, 115.69it/s]\n"
          ]
        },
        {
          "output_type": "stream",
          "name": "stdout",
          "text": [
            "for validation.......\n",
            "...Average batch validation loss is 0.13939055800437927\n",
            "for test  .......\n",
            "...Average batch test loss is 0.13433926552534103\n",
            "EPOCH: 96\n"
          ]
        },
        {
          "output_type": "stream",
          "name": "stderr",
          "text": [
            "Loss=0.024936247617006302 Batch_id=201 Epoch Average loss=0.3388: 100%|██████████| 202/202 [00:01<00:00, 111.75it/s]\n"
          ]
        },
        {
          "output_type": "stream",
          "name": "stdout",
          "text": [
            "for validation.......\n",
            "...Average batch validation loss is 0.13759692013263702\n",
            "for test  .......\n",
            "...Average batch test loss is 0.131194069981575\n",
            "EPOCH: 97\n"
          ]
        },
        {
          "output_type": "stream",
          "name": "stderr",
          "text": [
            "Loss=0.04351605847477913 Batch_id=201 Epoch Average loss=0.3343: 100%|██████████| 202/202 [00:02<00:00, 93.49it/s]\n"
          ]
        },
        {
          "output_type": "stream",
          "name": "stdout",
          "text": [
            "for validation.......\n",
            "...Average batch validation loss is 0.13699564337730408\n",
            "for test  .......\n",
            "...Average batch test loss is 0.12833493389189243\n",
            "EPOCH: 98\n"
          ]
        },
        {
          "output_type": "stream",
          "name": "stderr",
          "text": [
            "Loss=0.035173676908016205 Batch_id=201 Epoch Average loss=0.3192: 100%|██████████| 202/202 [00:01<00:00, 110.54it/s]\n"
          ]
        },
        {
          "output_type": "stream",
          "name": "stdout",
          "text": [
            "for validation.......\n",
            "...Average batch validation loss is 0.13651412725448608\n",
            "for test  .......\n",
            "...Average batch test loss is 0.12829741649329662\n",
            "EPOCH: 99\n"
          ]
        },
        {
          "output_type": "stream",
          "name": "stderr",
          "text": [
            "Loss=0.033625997602939606 Batch_id=201 Epoch Average loss=0.3309: 100%|██████████| 202/202 [00:02<00:00, 100.74it/s]\n"
          ]
        },
        {
          "output_type": "stream",
          "name": "stdout",
          "text": [
            "for validation.......\n",
            "...Average batch validation loss is 0.13567854464054108\n",
            "for test  .......\n",
            "...Average batch test loss is 0.12754332087934017\n",
            "EPOCH: 100\n"
          ]
        },
        {
          "output_type": "stream",
          "name": "stderr",
          "text": [
            "Loss=0.03215210884809494 Batch_id=201 Epoch Average loss=0.3229: 100%|██████████| 202/202 [00:01<00:00, 102.61it/s]\n"
          ]
        },
        {
          "output_type": "stream",
          "name": "stdout",
          "text": [
            "for validation.......\n",
            "...Average batch validation loss is 0.13678020238876343\n",
            "for test  .......\n",
            "...Average batch test loss is 0.128689618781209\n"
          ]
        }
      ]
    },
    {
      "cell_type": "markdown",
      "source": [
        "## DANN Model - Training and Testing"
      ],
      "metadata": {
        "id": "cAjugcOJ5imB"
      }
    },
    {
      "cell_type": "markdown",
      "source": [
        "### Training"
      ],
      "metadata": {
        "id": "5qNV4sND5q7i"
      }
    },
    {
      "cell_type": "code",
      "source": [
        "# b = next(iter(train_iterator))\n",
        "# print(b.tweet, b.intensity)"
      ],
      "metadata": {
        "colab": {
          "base_uri": "https://localhost:8080/"
        },
        "id": "_ZCpjgw-AcEX",
        "outputId": "69131e71-4bd8-43b5-ff75-29638bba54eb"
      },
      "execution_count": 50,
      "outputs": [
        {
          "output_type": "stream",
          "name": "stdout",
          "text": [
            "tensor([[   5,  488,    7,  122,    7,  199, 4073, 1832,    1,    1,    1,    1,\n",
            "            1,    1,    1,    1,    1,    1,    1,    1,    1,    1,    1,    1,\n",
            "            1,    1,    1,    1,    1,    1,    1,    1,    1,    1,    1,    1,\n",
            "            1,    1,    1,    1,    1,    1,    1,    1,    1,    1,    1,    1,\n",
            "            1,    1],\n",
            "        [ 111,  306, 2665,    9,  811,  128,  264,  529,    1,    1,    1,    1,\n",
            "            1,    1,    1,    1,    1,    1,    1,    1,    1,    1,    1,    1,\n",
            "            1,    1,    1,    1,    1,    1,    1,    1,    1,    1,    1,    1,\n",
            "            1,    1,    1,    1,    1,    1,    1,    1,    1,    1,    1,    1,\n",
            "            1,    1]]) tensor([0.4400, 0.2080])\n"
          ]
        }
      ]
    },
    {
      "cell_type": "code",
      "source": [
        "def compute_accuracy(logits, labels):\n",
        "    \n",
        "    predicted_labels_dict = {\n",
        "      0: 0,\n",
        "      1: 0,\n",
        "    }\n",
        "    \n",
        "    predicted_label = logits.max(dim = 1)[1]\n",
        "    \n",
        "    for pred in predicted_label:\n",
        "        predicted_labels_dict[pred.item()] += 1\n",
        "    acc = (predicted_label == labels).float().mean()\n",
        "    \n",
        "    return acc, predicted_labels_dict"
      ],
      "metadata": {
        "id": "pFpxF3m4CUB0"
      },
      "execution_count": 57,
      "outputs": []
    },
    {
      "cell_type": "code",
      "source": [
        "# def binary_acc(y_pred, y_test):\n",
        "#     y_pred_tag = torch.round(torch.sigmoid(y_pred))\n",
        "\n",
        "#     correct_results_sum = (y_pred_tag == y_test).sum().float()\n",
        "#     acc = correct_results_sum/y_test.shape[0]\n",
        "#     acc = torch.round(acc * 100)\n",
        "    \n",
        "#     return acc"
      ],
      "metadata": {
        "id": "UbiPnQaP5RZG"
      },
      "execution_count": 107,
      "outputs": []
    },
    {
      "cell_type": "code",
      "source": [
        "# def evaluate(model, dataloader, mode = 'test', percentage = 5):\n",
        "#     with torch.no_grad():\n",
        "#         predicted_labels_dict = {                                                   \n",
        "#           0: 0,                                                                     \n",
        "#           1: 0,                                                                     \n",
        "#         }\n",
        "        \n",
        "#         mean_accuracy = 0.0\n",
        "#         # total_batches = len(dataloader)\n",
        "#         # print(\"total_batches: \",total_batches )\n",
        "\n",
        "        \n",
        "\n",
        "\n",
        "\n",
        "#             sentiment_pred, _ = model(**inputs)\n",
        "#             accuracy, predicted_labels = compute_accuracy(sentiment_pred, inputs[\"labels\"])\n",
        "#             mean_accuracy += accuracy\n",
        "#             predicted_labels_dict[0] += predicted_labels[0]\n",
        "#             predicted_labels_dict[1] += predicted_labels[1]  \n",
        "#         print(predicted_labels_dict)\n",
        "#     return mean_accuracy/total_batches"
      ],
      "metadata": {
        "id": "FU-OwTIhSRpJ"
      },
      "execution_count": null,
      "outputs": []
    },
    {
      "cell_type": "code",
      "source": [
        " ## DANN training function attempt 2 with NLLLoss\n",
        "n_epochs = 100 # number of epochs\n",
        "lr = 2e-5\n",
        "optimizer = optim.Adam(model.parameters(), lr=lr)\n",
        "\n",
        "# loss_fn_sentiment_regression = torch.nn.NLLLoss()\n",
        "# loss_fn_domain_classifier = torch.nn.NLLLoss()\n",
        "\n",
        "model = model.to(DEVICE)\n",
        "domain_loss_function= nn.NLLLoss()\n",
        "regression_loss_function = nn.L1Loss()\n",
        "domain_loss_function = domain_loss_function.to(DEVICE)\n",
        "regression_loss_function = regression_loss_function.to(DEVICE)\n",
        "\n",
        "max_batches = min(len(train_iterator), len(target_data)//TARGET_BATCH_SIZE)\n",
        "# max_batches = min(len(train_iterator), len(target_iterator))\n",
        "\n",
        "print(max_batches)\n",
        "\n",
        "for epoch_idx in range(n_epochs):\n",
        "    \n",
        "    source_iterator = iter(train_iterator)\n",
        "    target_iterator = iter(target_iterator)\n",
        "\n",
        "    for batch_idx in range(max_batches):\n",
        "        \n",
        "        p = float(batch_idx + epoch_idx * max_batches) / (n_epochs * max_batches)\n",
        "        alpha = 2. / (1. + np.exp(-10 * p)) - 1\n",
        "        alpha = torch.tensor(alpha)\n",
        "        \n",
        "        model.train()\n",
        "        \n",
        "        # if(batch_idx%100 == 0 ):\n",
        "        #     print(\"Training Step:\", batch_idx)\n",
        "        \n",
        "        optimizer.zero_grad()\n",
        "\n",
        "        ## SOURCE DATASET TRAINING UPDATE\n",
        "        \n",
        "        source_batch = next(source_iterator)\n",
        "        source_tweets, source_intensities = source_batch.tweet.to(DEVICE), source_batch.intensity.to(DEVICE)  # plural, we are not interested in domain\n",
        "        \n",
        "        source_intensity_outputs, source_domain_outputs = model(source_tweets, alpha = alpha)\n",
        "\n",
        "        loss_source_regression= regression_loss_function(source_intensity_outputs,source_intensities.unsqueeze(1)) # Computing regression loss\n",
        "\n",
        "        source_domain_inputs = torch.zeros(len(source_batch), dtype=torch.long).to(DEVICE) # source domain has 0 id\n",
        "        loss_source_domain = domain_loss_function(source_domain_outputs,source_domain_inputs)\n",
        "\n",
        "\n",
        "        ## TARGET DATASET TRAINING UPDATE\n",
        "        target_batch = next(iter(target_iterator))\n",
        "        target_tweets= target_batch.tweet.to(DEVICE) # plural\n",
        "\n",
        "        _, target_domain_outputs = model(target_tweets, alpha = alpha)\n",
        "\n",
        "        target_domain_inputs = torch.ones(len(target_batch), dtype=torch.long).to(DEVICE) # target domain has 1 id\n",
        "        loss_target_domain = domain_loss_function(target_domain_outputs,target_domain_inputs)\n",
        "\n",
        "        # COMBINING LOSS\n",
        "        loss = loss_source_regression + loss_source_domain + loss_target_domain\n",
        "        loss.backward()\n",
        "        optimizer.step()\n",
        "\n",
        "        if (batch_idx % 100 == 0):\n",
        "          print(\"Epoch [{}/{}] Step [{}/{}]: domain_loss_target={:.4f} / domain_loss_source={:.4f} / regression_loss_source={:.4f} / alpha={:.4f}\"\n",
        "              .format(epoch_idx + 1,\n",
        "                      n_epochs,\n",
        "                      batch_idx + 1,\n",
        "                      max_batches,\n",
        "                      loss_target_domain.item()\n",
        "                      ,loss_source_domain.item()\n",
        "                      ,loss_source_regression.item(),alpha))\n",
        "\n",
        "\n",
        "    # Evaluate the model after every epoch\n",
        "\n",
        "\n",
        "    print(\"for validation.......\")\n",
        "    test_model(model, DEVICE, valid_iterator, mode = 'val')\n",
        "    print(\"for test  .......\")\n",
        "    test_model(model, DEVICE, test_iterator, mode = 'test')\n",
        "\n",
        "  \n",
        "torch.save(model.state_dict(), os.path.join(MODEL_DIR, \"epoch_\" + str(epoch_idx)  +  \".pt\" ))\n"
      ],
      "metadata": {
        "colab": {
          "base_uri": "https://localhost:8080/"
        },
        "id": "lTqIOQX0Cfk8",
        "outputId": "c38b7bb5-83d6-4bbd-95be-3e08e5948283"
      },
      "execution_count": 58,
      "outputs": [
        {
          "output_type": "stream",
          "name": "stdout",
          "text": [
            "202\n",
            "Epoch [1/100] Step [1/202]: domain_loss_target=0.9360 / domain_loss_source=0.4043 / regression_loss_source=0.0326 / alpha=0.0000\n",
            "for validation.......\n",
            "...Average batch validation loss is 0.1373431384563446\n",
            "for test  .......\n",
            "...Average batch test loss is 0.12931600026786327\n",
            "Epoch [2/100] Step [1/202]: domain_loss_target=1.0782 / domain_loss_source=0.3466 / regression_loss_source=0.0205 / alpha=0.0500\n",
            "for validation.......\n",
            "...Average batch validation loss is 0.13746392726898193\n",
            "for test  .......\n",
            "...Average batch test loss is 0.12958327867090702\n",
            "Epoch [3/100] Step [1/202]: domain_loss_target=0.7410 / domain_loss_source=0.2396 / regression_loss_source=0.0179 / alpha=0.0997\n",
            "for validation.......\n",
            "...Average batch validation loss is 0.13802608847618103\n",
            "for test  .......\n",
            "...Average batch test loss is 0.13033027946949005\n",
            "Epoch [4/100] Step [1/202]: domain_loss_target=0.7228 / domain_loss_source=0.3157 / regression_loss_source=0.0229 / alpha=0.1489\n",
            "for validation.......\n",
            "...Average batch validation loss is 0.13733254373073578\n",
            "for test  .......\n",
            "...Average batch test loss is 0.12963156029582024\n",
            "Epoch [5/100] Step [1/202]: domain_loss_target=0.7073 / domain_loss_source=0.2349 / regression_loss_source=0.0418 / alpha=0.1974\n",
            "for validation.......\n",
            "...Average batch validation loss is 0.13744337856769562\n",
            "for test  .......\n",
            "...Average batch test loss is 0.12978431023657322\n",
            "Epoch [6/100] Step [1/202]: domain_loss_target=0.5157 / domain_loss_source=0.4019 / regression_loss_source=0.0193 / alpha=0.2449\n",
            "for validation.......\n",
            "...Average batch validation loss is 0.13788847625255585\n",
            "for test  .......\n",
            "...Average batch test loss is 0.1302238069474697\n",
            "Epoch [7/100] Step [1/202]: domain_loss_target=0.6584 / domain_loss_source=0.3330 / regression_loss_source=0.0174 / alpha=0.2913\n",
            "for validation.......\n",
            "...Average batch validation loss is 0.13794028759002686\n",
            "for test  .......\n",
            "...Average batch test loss is 0.13030766509473324\n",
            "Epoch [8/100] Step [1/202]: domain_loss_target=0.6359 / domain_loss_source=0.2127 / regression_loss_source=0.0357 / alpha=0.3364\n",
            "for validation.......\n",
            "...Average batch validation loss is 0.13862265646457672\n",
            "for test  .......\n",
            "...Average batch test loss is 0.13092430494725704\n",
            "Epoch [9/100] Step [1/202]: domain_loss_target=1.0068 / domain_loss_source=0.1448 / regression_loss_source=0.0201 / alpha=0.3799\n",
            "for validation.......\n",
            "...Average batch validation loss is 0.13875846564769745\n",
            "for test  .......\n",
            "...Average batch test loss is 0.13104400038719177\n",
            "Epoch [10/100] Step [1/202]: domain_loss_target=0.6512 / domain_loss_source=0.4414 / regression_loss_source=0.0205 / alpha=0.4219\n",
            "for validation.......\n",
            "...Average batch validation loss is 0.13906970620155334\n",
            "for test  .......\n",
            "...Average batch test loss is 0.1313811093568802\n",
            "Epoch [11/100] Step [1/202]: domain_loss_target=0.5590 / domain_loss_source=0.5021 / regression_loss_source=0.0276 / alpha=0.4621\n",
            "for validation.......\n",
            "...Average batch validation loss is 0.13890641927719116\n",
            "for test  .......\n",
            "...Average batch test loss is 0.13116722740232944\n",
            "Epoch [12/100] Step [1/202]: domain_loss_target=0.6880 / domain_loss_source=0.2351 / regression_loss_source=0.0142 / alpha=0.5005\n",
            "for validation.......\n",
            "...Average batch validation loss is 0.1386868804693222\n",
            "for test  .......\n",
            "...Average batch test loss is 0.13102967478334904\n",
            "Epoch [13/100] Step [1/202]: domain_loss_target=0.5692 / domain_loss_source=0.1763 / regression_loss_source=0.0113 / alpha=0.5370\n",
            "for validation.......\n",
            "...Average batch validation loss is 0.1394360512495041\n",
            "for test  .......\n",
            "...Average batch test loss is 0.1318081021308899\n",
            "Epoch [14/100] Step [1/202]: domain_loss_target=0.5575 / domain_loss_source=0.4552 / regression_loss_source=0.0230 / alpha=0.5717\n",
            "for validation.......\n",
            "...Average batch validation loss is 0.1394539773464203\n",
            "for test  .......\n",
            "...Average batch test loss is 0.13181941770017147\n",
            "Epoch [15/100] Step [1/202]: domain_loss_target=0.8815 / domain_loss_source=0.1284 / regression_loss_source=0.0232 / alpha=0.6044\n",
            "for validation.......\n",
            "...Average batch validation loss is 0.13948601484298706\n",
            "for test  .......\n",
            "...Average batch test loss is 0.13187004439532757\n",
            "Epoch [16/100] Step [1/202]: domain_loss_target=0.4461 / domain_loss_source=0.2580 / regression_loss_source=0.0227 / alpha=0.6351\n",
            "for validation.......\n",
            "...Average batch validation loss is 0.13961121439933777\n",
            "for test  .......\n",
            "...Average batch test loss is 0.1320980992168188\n",
            "Epoch [17/100] Step [1/202]: domain_loss_target=0.5112 / domain_loss_source=0.2015 / regression_loss_source=0.0458 / alpha=0.6640\n",
            "for validation.......\n",
            "...Average batch validation loss is 0.13933321833610535\n",
            "for test  .......\n",
            "...Average batch test loss is 0.1318999957293272\n",
            "Epoch [18/100] Step [1/202]: domain_loss_target=0.5671 / domain_loss_source=0.3676 / regression_loss_source=0.0219 / alpha=0.6911\n",
            "for validation.......\n",
            "...Average batch validation loss is 0.14036886394023895\n",
            "for test  .......\n",
            "...Average batch test loss is 0.13295134902000427\n",
            "Epoch [19/100] Step [1/202]: domain_loss_target=0.8022 / domain_loss_source=0.2908 / regression_loss_source=0.0323 / alpha=0.7163\n",
            "for validation.......\n",
            "...Average batch validation loss is 0.13943453133106232\n",
            "for test  .......\n",
            "...Average batch test loss is 0.13199651427567005\n",
            "Epoch [20/100] Step [1/202]: domain_loss_target=0.4265 / domain_loss_source=0.1873 / regression_loss_source=0.0253 / alpha=0.7398\n",
            "for validation.......\n",
            "...Average batch validation loss is 0.13989262282848358\n",
            "for test  .......\n",
            "...Average batch test loss is 0.13245081901550293\n",
            "Epoch [21/100] Step [1/202]: domain_loss_target=0.8202 / domain_loss_source=0.3236 / regression_loss_source=0.0149 / alpha=0.7616\n",
            "for validation.......\n",
            "...Average batch validation loss is 0.1394491195678711\n",
            "for test  .......\n",
            "...Average batch test loss is 0.13194716349244118\n",
            "Epoch [22/100] Step [1/202]: domain_loss_target=0.5443 / domain_loss_source=0.3249 / regression_loss_source=0.0183 / alpha=0.7818\n",
            "for validation.......\n",
            "...Average batch validation loss is 0.14062334597110748\n",
            "for test  .......\n",
            "...Average batch test loss is 0.13312346674501896\n",
            "Epoch [23/100] Step [1/202]: domain_loss_target=0.5012 / domain_loss_source=0.2984 / regression_loss_source=0.0145 / alpha=0.8005\n",
            "for validation.......\n",
            "...Average batch validation loss is 0.14094425737857819\n",
            "for test  .......\n",
            "...Average batch test loss is 0.13345392607152462\n",
            "Epoch [24/100] Step [1/202]: domain_loss_target=0.9759 / domain_loss_source=0.3222 / regression_loss_source=0.0376 / alpha=0.8178\n",
            "for validation.......\n",
            "...Average batch validation loss is 0.1404905468225479\n",
            "for test  .......\n",
            "...Average batch test loss is 0.13300512358546257\n",
            "Epoch [25/100] Step [1/202]: domain_loss_target=0.5300 / domain_loss_source=0.4041 / regression_loss_source=0.0232 / alpha=0.8337\n",
            "for validation.......\n",
            "...Average batch validation loss is 0.14031821489334106\n",
            "for test  .......\n",
            "...Average batch test loss is 0.1328174527734518\n",
            "Epoch [26/100] Step [1/202]: domain_loss_target=0.5902 / domain_loss_source=0.3156 / regression_loss_source=0.0151 / alpha=0.8483\n",
            "for validation.......\n",
            "...Average batch validation loss is 0.1406264752149582\n",
            "for test  .......\n",
            "...Average batch test loss is 0.13312151841819286\n",
            "Epoch [27/100] Step [1/202]: domain_loss_target=0.9087 / domain_loss_source=0.2842 / regression_loss_source=0.0320 / alpha=0.8617\n",
            "for validation.......\n",
            "...Average batch validation loss is 0.14065098762512207\n",
            "for test  .......\n",
            "...Average batch test loss is 0.13313167914748192\n",
            "Epoch [28/100] Step [1/202]: domain_loss_target=0.4525 / domain_loss_source=0.5701 / regression_loss_source=0.0294 / alpha=0.8741\n",
            "for validation.......\n",
            "...Average batch validation loss is 0.14094865322113037\n",
            "for test  .......\n",
            "...Average batch test loss is 0.13339325226843357\n",
            "Epoch [29/100] Step [1/202]: domain_loss_target=0.8468 / domain_loss_source=0.3559 / regression_loss_source=0.0213 / alpha=0.8854\n",
            "for validation.......\n",
            "...Average batch validation loss is 0.1407279223203659\n",
            "for test  .......\n",
            "...Average batch test loss is 0.13314357213675976\n",
            "Epoch [30/100] Step [1/202]: domain_loss_target=0.4133 / domain_loss_source=0.2719 / regression_loss_source=0.0256 / alpha=0.8957\n",
            "for validation.......\n",
            "...Average batch validation loss is 0.14070755243301392\n",
            "for test  .......\n",
            "...Average batch test loss is 0.13308151625096798\n",
            "Epoch [31/100] Step [1/202]: domain_loss_target=0.5017 / domain_loss_source=0.5013 / regression_loss_source=0.0327 / alpha=0.9051\n",
            "for validation.......\n",
            "...Average batch validation loss is 0.14044776558876038\n",
            "for test  .......\n",
            "...Average batch test loss is 0.13281124457716942\n",
            "Epoch [32/100] Step [1/202]: domain_loss_target=0.6586 / domain_loss_source=0.3491 / regression_loss_source=0.0190 / alpha=0.9138\n",
            "for validation.......\n",
            "...Average batch validation loss is 0.14088092744350433\n",
            "for test  .......\n",
            "...Average batch test loss is 0.1332270223647356\n",
            "Epoch [33/100] Step [1/202]: domain_loss_target=0.8705 / domain_loss_source=0.5373 / regression_loss_source=0.0135 / alpha=0.9217\n",
            "for validation.......\n",
            "...Average batch validation loss is 0.14097951352596283\n",
            "for test  .......\n",
            "...Average batch test loss is 0.13332946971058846\n",
            "Epoch [34/100] Step [1/202]: domain_loss_target=0.5274 / domain_loss_source=0.5488 / regression_loss_source=0.0258 / alpha=0.9289\n",
            "for validation.......\n",
            "...Average batch validation loss is 0.14143972098827362\n",
            "for test  .......\n",
            "...Average batch test loss is 0.13378123380243778\n",
            "Epoch [35/100] Step [1/202]: domain_loss_target=0.3975 / domain_loss_source=0.3157 / regression_loss_source=0.0272 / alpha=0.9354\n",
            "for validation.......\n",
            "...Average batch validation loss is 0.14107558131217957\n",
            "for test  .......\n",
            "...Average batch test loss is 0.13340552523732185\n",
            "Epoch [36/100] Step [1/202]: domain_loss_target=0.6359 / domain_loss_source=0.6443 / regression_loss_source=0.0168 / alpha=0.9414\n",
            "for validation.......\n",
            "...Average batch validation loss is 0.14124463498592377\n",
            "for test  .......\n",
            "...Average batch test loss is 0.13354686088860035\n",
            "Epoch [37/100] Step [1/202]: domain_loss_target=0.3736 / domain_loss_source=0.4757 / regression_loss_source=0.0170 / alpha=0.9468\n",
            "for validation.......\n",
            "...Average batch validation loss is 0.14151443541049957\n",
            "for test  .......\n",
            "...Average batch test loss is 0.13383291848003864\n",
            "Epoch [38/100] Step [1/202]: domain_loss_target=0.8210 / domain_loss_source=0.4041 / regression_loss_source=0.0149 / alpha=0.9517\n",
            "for validation.......\n",
            "...Average batch validation loss is 0.141935333609581\n",
            "for test  .......\n",
            "...Average batch test loss is 0.13427248038351536\n",
            "Epoch [39/100] Step [1/202]: domain_loss_target=0.4611 / domain_loss_source=0.4707 / regression_loss_source=0.0302 / alpha=0.9562\n",
            "for validation.......\n",
            "...Average batch validation loss is 0.141709104180336\n",
            "for test  .......\n",
            "...Average batch test loss is 0.13407500088214874\n",
            "Epoch [40/100] Step [1/202]: domain_loss_target=0.6148 / domain_loss_source=0.7435 / regression_loss_source=0.0414 / alpha=0.9603\n",
            "for validation.......\n",
            "...Average batch validation loss is 0.14102549850940704\n",
            "for test  .......\n",
            "...Average batch test loss is 0.13339859806001186\n",
            "Epoch [41/100] Step [1/202]: domain_loss_target=0.6953 / domain_loss_source=0.6734 / regression_loss_source=0.0373 / alpha=0.9640\n",
            "for validation.......\n",
            "...Average batch validation loss is 0.14157554507255554\n",
            "for test  .......\n",
            "...Average batch test loss is 0.13396471180021763\n",
            "Epoch [42/100] Step [1/202]: domain_loss_target=0.7103 / domain_loss_source=0.6067 / regression_loss_source=0.0178 / alpha=0.9674\n",
            "for validation.......\n",
            "...Average batch validation loss is 0.14182983338832855\n",
            "for test  .......\n",
            "...Average batch test loss is 0.1342235766351223\n",
            "Epoch [43/100] Step [1/202]: domain_loss_target=0.5636 / domain_loss_source=0.4251 / regression_loss_source=0.0210 / alpha=0.9705\n",
            "for validation.......\n",
            "...Average batch validation loss is 0.14250311255455017\n",
            "for test  .......\n",
            "...Average batch test loss is 0.1348813734948635\n",
            "Epoch [44/100] Step [1/202]: domain_loss_target=0.4824 / domain_loss_source=0.2365 / regression_loss_source=0.0265 / alpha=0.9732\n",
            "for validation.......\n",
            "...Average batch validation loss is 0.14290452003479004\n",
            "for test  .......\n",
            "...Average batch test loss is 0.1352875754237175\n",
            "Epoch [45/100] Step [1/202]: domain_loss_target=0.3872 / domain_loss_source=0.5012 / regression_loss_source=0.0408 / alpha=0.9757\n",
            "for validation.......\n",
            "...Average batch validation loss is 0.14293058216571808\n",
            "for test  .......\n",
            "...Average batch test loss is 0.13531184196472168\n",
            "Epoch [46/100] Step [1/202]: domain_loss_target=0.6250 / domain_loss_source=0.4659 / regression_loss_source=0.0286 / alpha=0.9780\n",
            "for validation.......\n",
            "...Average batch validation loss is 0.14363358914852142\n",
            "for test  .......\n",
            "...Average batch test loss is 0.13601133972406387\n",
            "Epoch [47/100] Step [1/202]: domain_loss_target=0.4992 / domain_loss_source=0.7659 / regression_loss_source=0.0168 / alpha=0.9801\n",
            "for validation.......\n",
            "...Average batch validation loss is 0.1431356966495514\n",
            "for test  .......\n",
            "...Average batch test loss is 0.1355118788778782\n",
            "Epoch [48/100] Step [1/202]: domain_loss_target=0.3039 / domain_loss_source=0.2566 / regression_loss_source=0.0266 / alpha=0.9820\n",
            "for validation.......\n",
            "...Average batch validation loss is 0.14309874176979065\n",
            "for test  .......\n",
            "...Average batch test loss is 0.13544205948710442\n",
            "Epoch [49/100] Step [1/202]: domain_loss_target=1.3798 / domain_loss_source=0.4290 / regression_loss_source=0.0279 / alpha=0.9837\n",
            "for validation.......\n",
            "...Average batch validation loss is 0.14407196640968323\n",
            "for test  .......\n",
            "...Average batch test loss is 0.1364831142127514\n",
            "Epoch [50/100] Step [1/202]: domain_loss_target=0.4797 / domain_loss_source=0.5281 / regression_loss_source=0.0516 / alpha=0.9852\n",
            "for validation.......\n",
            "...Average batch validation loss is 0.14316107332706451\n",
            "for test  .......\n",
            "...Average batch test loss is 0.1355951689183712\n",
            "Epoch [51/100] Step [1/202]: domain_loss_target=0.4274 / domain_loss_source=0.5717 / regression_loss_source=0.0364 / alpha=0.9866\n",
            "for validation.......\n",
            "...Average batch validation loss is 0.14344200491905212\n",
            "for test  .......\n",
            "...Average batch test loss is 0.13588983565568924\n",
            "Epoch [52/100] Step [1/202]: domain_loss_target=0.7514 / domain_loss_source=0.7122 / regression_loss_source=0.0361 / alpha=0.9879\n",
            "for validation.......\n",
            "...Average batch validation loss is 0.14439518749713898\n",
            "for test  .......\n",
            "...Average batch test loss is 0.13681059330701828\n",
            "Epoch [53/100] Step [1/202]: domain_loss_target=0.6125 / domain_loss_source=0.7785 / regression_loss_source=0.0148 / alpha=0.9890\n",
            "for validation.......\n",
            "...Average batch validation loss is 0.14395594596862793\n",
            "for test  .......\n",
            "...Average batch test loss is 0.1363089606165886\n",
            "Epoch [54/100] Step [1/202]: domain_loss_target=0.4623 / domain_loss_source=0.6327 / regression_loss_source=0.0132 / alpha=0.9901\n",
            "for validation.......\n",
            "...Average batch validation loss is 0.1445484310388565\n",
            "for test  .......\n",
            "...Average batch test loss is 0.13695314526557922\n",
            "Epoch [55/100] Step [1/202]: domain_loss_target=0.3952 / domain_loss_source=0.7240 / regression_loss_source=0.0309 / alpha=0.9910\n",
            "for validation.......\n",
            "...Average batch validation loss is 0.14511242508888245\n",
            "for test  .......\n",
            "...Average batch test loss is 0.13757453113794327\n",
            "Epoch [56/100] Step [1/202]: domain_loss_target=0.4297 / domain_loss_source=0.4475 / regression_loss_source=0.0330 / alpha=0.9919\n",
            "for validation.......\n",
            "...Average batch validation loss is 0.14520300924777985\n",
            "for test  .......\n",
            "...Average batch test loss is 0.1376733034849167\n",
            "Epoch [57/100] Step [1/202]: domain_loss_target=0.6910 / domain_loss_source=0.5643 / regression_loss_source=0.0606 / alpha=0.9926\n",
            "for validation.......\n",
            "...Average batch validation loss is 0.14517205953598022\n",
            "for test  .......\n",
            "...Average batch test loss is 0.13763029873371124\n",
            "Epoch [58/100] Step [1/202]: domain_loss_target=0.3265 / domain_loss_source=0.6853 / regression_loss_source=0.0215 / alpha=0.9933\n",
            "for validation.......\n",
            "...Average batch validation loss is 0.14532862603664398\n",
            "for test  .......\n",
            "...Average batch test loss is 0.1377670057117939\n",
            "Epoch [59/100] Step [1/202]: domain_loss_target=0.5035 / domain_loss_source=0.2939 / regression_loss_source=0.0384 / alpha=0.9940\n",
            "for validation.......\n",
            "...Average batch validation loss is 0.14593808352947235\n",
            "for test  .......\n",
            "...Average batch test loss is 0.1383744776248932\n",
            "Epoch [60/100] Step [1/202]: domain_loss_target=0.5477 / domain_loss_source=0.5168 / regression_loss_source=0.0245 / alpha=0.9945\n",
            "for validation.......\n",
            "...Average batch validation loss is 0.1454947143793106\n",
            "for test  .......\n",
            "...Average batch test loss is 0.13789115846157074\n",
            "Epoch [61/100] Step [1/202]: domain_loss_target=0.5453 / domain_loss_source=0.5258 / regression_loss_source=0.0347 / alpha=0.9951\n",
            "for validation.......\n",
            "...Average batch validation loss is 0.14535556733608246\n",
            "for test  .......\n",
            "...Average batch test loss is 0.1377279907464981\n",
            "Epoch [62/100] Step [1/202]: domain_loss_target=0.4653 / domain_loss_source=0.5344 / regression_loss_source=0.0354 / alpha=0.9955\n",
            "for validation.......\n",
            "...Average batch validation loss is 0.14597797393798828\n",
            "for test  .......\n",
            "...Average batch test loss is 0.13835621997714043\n",
            "Epoch [63/100] Step [1/202]: domain_loss_target=0.4414 / domain_loss_source=0.6246 / regression_loss_source=0.0309 / alpha=0.9959\n",
            "for validation.......\n",
            "...Average batch validation loss is 0.14658641815185547\n",
            "for test  .......\n",
            "...Average batch test loss is 0.13894407451152802\n",
            "Epoch [64/100] Step [1/202]: domain_loss_target=0.4969 / domain_loss_source=0.5586 / regression_loss_source=0.0200 / alpha=0.9963\n",
            "for validation.......\n",
            "...Average batch validation loss is 0.1459653079509735\n",
            "for test  .......\n",
            "...Average batch test loss is 0.138303954154253\n",
            "Epoch [65/100] Step [1/202]: domain_loss_target=0.4689 / domain_loss_source=0.7009 / regression_loss_source=0.0360 / alpha=0.9967\n",
            "for validation.......\n",
            "...Average batch validation loss is 0.14655250310897827\n",
            "for test  .......\n",
            "...Average batch test loss is 0.13886354491114616\n",
            "Epoch [66/100] Step [1/202]: domain_loss_target=0.3953 / domain_loss_source=0.5777 / regression_loss_source=0.0214 / alpha=0.9970\n",
            "for validation.......\n",
            "...Average batch validation loss is 0.14679758250713348\n",
            "for test  .......\n",
            "...Average batch test loss is 0.13908930867910385\n",
            "Epoch [67/100] Step [1/202]: domain_loss_target=0.4475 / domain_loss_source=0.5091 / regression_loss_source=0.0180 / alpha=0.9973\n",
            "for validation.......\n",
            "...Average batch validation loss is 0.14709582924842834\n",
            "for test  .......\n",
            "...Average batch test loss is 0.13941126689314842\n",
            "Epoch [68/100] Step [1/202]: domain_loss_target=0.5604 / domain_loss_source=0.6544 / regression_loss_source=0.0156 / alpha=0.9975\n",
            "for validation.......\n",
            "...Average batch validation loss is 0.14674235880374908\n",
            "for test  .......\n",
            "...Average batch test loss is 0.13901657238602638\n",
            "Epoch [69/100] Step [1/202]: domain_loss_target=0.3517 / domain_loss_source=0.6311 / regression_loss_source=0.0269 / alpha=0.9978\n",
            "for validation.......\n",
            "...Average batch validation loss is 0.1463431715965271\n",
            "for test  .......\n",
            "...Average batch test loss is 0.1386217325925827\n",
            "Epoch [70/100] Step [1/202]: domain_loss_target=0.4427 / domain_loss_source=0.4728 / regression_loss_source=0.0228 / alpha=0.9980\n",
            "for validation.......\n",
            "...Average batch validation loss is 0.14616571366786957\n",
            "for test  .......\n",
            "...Average batch test loss is 0.13844654336571693\n",
            "Epoch [71/100] Step [1/202]: domain_loss_target=0.3455 / domain_loss_source=0.3164 / regression_loss_source=0.0280 / alpha=0.9982\n",
            "for validation.......\n",
            "...Average batch validation loss is 0.14666679501533508\n",
            "for test  .......\n",
            "...Average batch test loss is 0.1389148235321045\n",
            "Epoch [72/100] Step [1/202]: domain_loss_target=0.3826 / domain_loss_source=0.6504 / regression_loss_source=0.0119 / alpha=0.9984\n",
            "for validation.......\n",
            "...Average batch validation loss is 0.14624780416488647\n",
            "for test  .......\n",
            "...Average batch test loss is 0.1384795643389225\n",
            "Epoch [73/100] Step [1/202]: domain_loss_target=0.5065 / domain_loss_source=0.8140 / regression_loss_source=0.0197 / alpha=0.9985\n",
            "for validation.......\n",
            "...Average batch validation loss is 0.14643914997577667\n",
            "for test  .......\n",
            "...Average batch test loss is 0.13864154741168022\n",
            "Epoch [74/100] Step [1/202]: domain_loss_target=1.7315 / domain_loss_source=0.7894 / regression_loss_source=0.0219 / alpha=0.9986\n",
            "for validation.......\n",
            "...Average batch validation loss is 0.14692805707454681\n",
            "for test  .......\n",
            "...Average batch test loss is 0.1391112245619297\n",
            "Epoch [75/100] Step [1/202]: domain_loss_target=0.5438 / domain_loss_source=0.6534 / regression_loss_source=0.0202 / alpha=0.9988\n",
            "for validation.......\n",
            "...Average batch validation loss is 0.14724835753440857\n",
            "for test  .......\n",
            "...Average batch test loss is 0.13942348957061768\n",
            "Epoch [76/100] Step [1/202]: domain_loss_target=0.3931 / domain_loss_source=0.6047 / regression_loss_source=0.0305 / alpha=0.9989\n",
            "for validation.......\n",
            "...Average batch validation loss is 0.14707514643669128\n",
            "for test  .......\n",
            "...Average batch test loss is 0.13924147188663483\n",
            "Epoch [77/100] Step [1/202]: domain_loss_target=0.4547 / domain_loss_source=0.8189 / regression_loss_source=0.0220 / alpha=0.9990\n",
            "for validation.......\n",
            "...Average batch validation loss is 0.1471513956785202\n",
            "for test  .......\n",
            "...Average batch test loss is 0.1393115296959877\n",
            "Epoch [78/100] Step [1/202]: domain_loss_target=0.3084 / domain_loss_source=0.6479 / regression_loss_source=0.0601 / alpha=0.9991\n",
            "for validation.......\n",
            "...Average batch validation loss is 0.14657087624073029\n",
            "for test  .......\n",
            "...Average batch test loss is 0.13871978595852852\n",
            "Epoch [79/100] Step [1/202]: domain_loss_target=0.5107 / domain_loss_source=0.6685 / regression_loss_source=0.0338 / alpha=0.9992\n",
            "for validation.......\n",
            "...Average batch validation loss is 0.14680592715740204\n",
            "for test  .......\n",
            "...Average batch test loss is 0.13891764730215073\n",
            "Epoch [80/100] Step [1/202]: domain_loss_target=0.9022 / domain_loss_source=0.4568 / regression_loss_source=0.0263 / alpha=0.9993\n",
            "for validation.......\n",
            "...Average batch validation loss is 0.14638058841228485\n",
            "for test  .......\n",
            "...Average batch test loss is 0.1385161690413952\n",
            "Epoch [81/100] Step [1/202]: domain_loss_target=0.4696 / domain_loss_source=0.6884 / regression_loss_source=0.0220 / alpha=0.9993\n",
            "for validation.......\n",
            "...Average batch validation loss is 0.14729759097099304\n",
            "for test  .......\n",
            "...Average batch test loss is 0.1394476406276226\n",
            "Epoch [82/100] Step [1/202]: domain_loss_target=0.4514 / domain_loss_source=0.4800 / regression_loss_source=0.0139 / alpha=0.9994\n",
            "for validation.......\n",
            "...Average batch validation loss is 0.1469738632440567\n",
            "for test  .......\n",
            "...Average batch test loss is 0.1391076035797596\n",
            "Epoch [83/100] Step [1/202]: domain_loss_target=0.5283 / domain_loss_source=0.4970 / regression_loss_source=0.0400 / alpha=0.9995\n",
            "for validation.......\n",
            "...Average batch validation loss is 0.14731036126613617\n",
            "for test  .......\n",
            "...Average batch test loss is 0.13944513350725174\n",
            "Epoch [84/100] Step [1/202]: domain_loss_target=0.6624 / domain_loss_source=0.5172 / regression_loss_source=0.0262 / alpha=0.9995\n",
            "for validation.......\n",
            "...Average batch validation loss is 0.1478446125984192\n",
            "for test  .......\n",
            "...Average batch test loss is 0.13994824513792992\n",
            "Epoch [85/100] Step [1/202]: domain_loss_target=0.4595 / domain_loss_source=0.7434 / regression_loss_source=0.0211 / alpha=0.9996\n",
            "for validation.......\n",
            "...Average batch validation loss is 0.14710667729377747\n",
            "for test  .......\n",
            "...Average batch test loss is 0.1391950584948063\n",
            "Epoch [86/100] Step [1/202]: domain_loss_target=0.8000 / domain_loss_source=0.3631 / regression_loss_source=0.0346 / alpha=0.9996\n",
            "for validation.......\n",
            "...Average batch validation loss is 0.14738811552524567\n",
            "for test  .......\n",
            "...Average batch test loss is 0.13945382460951805\n",
            "Epoch [87/100] Step [1/202]: domain_loss_target=0.6182 / domain_loss_source=0.6562 / regression_loss_source=0.0304 / alpha=0.9996\n",
            "for validation.......\n",
            "...Average batch validation loss is 0.14678920805454254\n",
            "for test  .......\n",
            "...Average batch test loss is 0.13881933689117432\n",
            "Epoch [88/100] Step [1/202]: domain_loss_target=0.5932 / domain_loss_source=0.6262 / regression_loss_source=0.0237 / alpha=0.9997\n",
            "for validation.......\n",
            "...Average batch validation loss is 0.14650502800941467\n",
            "for test  .......\n",
            "...Average batch test loss is 0.13847319409251213\n",
            "Epoch [89/100] Step [1/202]: domain_loss_target=0.5682 / domain_loss_source=0.5211 / regression_loss_source=0.0086 / alpha=0.9997\n",
            "for validation.......\n",
            "...Average batch validation loss is 0.14752593636512756\n",
            "for test  .......\n",
            "...Average batch test loss is 0.13948071002960205\n",
            "Epoch [90/100] Step [1/202]: domain_loss_target=0.5960 / domain_loss_source=0.6759 / regression_loss_source=0.0114 / alpha=0.9997\n",
            "for validation.......\n",
            "...Average batch validation loss is 0.1478036791086197\n",
            "for test  .......\n",
            "...Average batch test loss is 0.13968556001782417\n",
            "Epoch [91/100] Step [1/202]: domain_loss_target=0.5345 / domain_loss_source=0.4398 / regression_loss_source=0.0361 / alpha=0.9998\n",
            "for validation.......\n",
            "...Average batch validation loss is 0.14726261794567108\n",
            "for test  .......\n",
            "...Average batch test loss is 0.13910257816314697\n",
            "Epoch [92/100] Step [1/202]: domain_loss_target=0.3785 / domain_loss_source=0.5061 / regression_loss_source=0.0158 / alpha=0.9998\n",
            "for validation.......\n",
            "...Average batch validation loss is 0.14743918180465698\n",
            "for test  .......\n",
            "...Average batch test loss is 0.13926603272557259\n",
            "Epoch [93/100] Step [1/202]: domain_loss_target=0.4451 / domain_loss_source=0.5872 / regression_loss_source=0.0258 / alpha=0.9998\n",
            "for validation.......\n",
            "...Average batch validation loss is 0.14719556272029877\n",
            "for test  .......\n",
            "...Average batch test loss is 0.13900798186659813\n",
            "Epoch [94/100] Step [1/202]: domain_loss_target=0.3720 / domain_loss_source=0.5110 / regression_loss_source=0.0308 / alpha=0.9998\n",
            "for validation.......\n",
            "...Average batch validation loss is 0.14720898866653442\n",
            "for test  .......\n",
            "...Average batch test loss is 0.13899289071559906\n",
            "Epoch [95/100] Step [1/202]: domain_loss_target=0.4970 / domain_loss_source=0.6247 / regression_loss_source=0.0247 / alpha=0.9998\n",
            "for validation.......\n",
            "...Average batch validation loss is 0.14788419008255005\n",
            "for test  .......\n",
            "...Average batch test loss is 0.13960663601756096\n",
            "Epoch [96/100] Step [1/202]: domain_loss_target=0.3460 / domain_loss_source=0.5798 / regression_loss_source=0.0280 / alpha=0.9999\n",
            "for validation.......\n",
            "...Average batch validation loss is 0.1463364064693451\n",
            "for test  .......\n",
            "...Average batch test loss is 0.13803359493613243\n",
            "Epoch [97/100] Step [1/202]: domain_loss_target=0.5755 / domain_loss_source=0.8724 / regression_loss_source=0.0220 / alpha=0.9999\n",
            "for validation.......\n",
            "...Average batch validation loss is 0.14740107953548431\n",
            "for test  .......\n",
            "...Average batch test loss is 0.13911739364266396\n",
            "Epoch [98/100] Step [1/202]: domain_loss_target=0.5251 / domain_loss_source=0.4015 / regression_loss_source=0.0202 / alpha=0.9999\n",
            "for validation.......\n",
            "...Average batch validation loss is 0.1470639854669571\n",
            "for test  .......\n",
            "...Average batch test loss is 0.13875159621238708\n",
            "Epoch [99/100] Step [1/202]: domain_loss_target=0.4213 / domain_loss_source=0.7315 / regression_loss_source=0.0454 / alpha=0.9999\n",
            "for validation.......\n",
            "...Average batch validation loss is 0.14650441706180573\n",
            "for test  .......\n",
            "...Average batch test loss is 0.13816730305552483\n",
            "Epoch [100/100] Step [1/202]: domain_loss_target=0.4124 / domain_loss_source=0.7760 / regression_loss_source=0.0513 / alpha=0.9999\n",
            "for validation.......\n",
            "...Average batch validation loss is 0.1465970277786255\n",
            "for test  .......\n",
            "...Average batch test loss is 0.13818221166729927\n"
          ]
        }
      ]
    },
    {
      "cell_type": "code",
      "source": [
        "# ## DANN training function attempt 1 with BCE\n",
        "\n",
        "# from tqdm import tqdm # for beautiful model training updates\n",
        "\n",
        "\n",
        "# def train_dann_model(model, \n",
        "#                      device, \n",
        "#                      train_loader, \n",
        "#                      target_loader, # this is the target data source\n",
        "#                      optimizer, \n",
        "#                      epoch, \n",
        "#                      num_epochs # this is done for alpha parameter tuning\n",
        "#                      ):\n",
        "#     model.train() # setting the model in training mode\n",
        "#     len_dataloader = min(len(train_loader), len(target_loader)) # training for minimum of two dataloaders\n",
        "    \n",
        "#     m = nn.LogSoftmax(dim=1) ## to be used with NLLLoss\n",
        "\n",
        "#     epoch_loss=0\n",
        "#     epoch_acc=0\n",
        "#     i = 0 # as the training progresses the alpha changes\n",
        "#     while i < len_dataloader -1:\n",
        "#         # implementation of alpha as per paper\n",
        "#         p = float(i + epoch * len_dataloader) / (num_epochs * len_dataloader)\n",
        "#         alpha = 2. / (1. + np.exp(-10 * p)) - 1\n",
        "#         alpha = torch.tensor(alpha)\n",
        "\n",
        "#         optimizer.zero_grad() # setting gradients to zero to avoid accumulation\n",
        "\n",
        "#         # training model using source data\n",
        "#         source_batch = next(iter(train_loader))\n",
        "#         source_tweets, source_intensities = source_batch.tweet.to(device), source_batch.intensity.to(device)  # plural, we are not interested in domain\n",
        "#         #sending data to CPU or GPU as per device\n",
        "\n",
        "#         y_preds, source_domain_outputs = model(source_tweets, alpha = alpha) # forward pass, regresion result captured in y_preds, classificaiton in source_domain_outputs (plural as there are many tweets in a source batch)\n",
        "#         # we are interested in domain prediction\n",
        "        \n",
        "#         loss_source_regression= regression_loss_function(y_preds,source_intensities.unsqueeze(1)) # Computing loss\n",
        "#         # loss = F.mse_loss(y_preds,intensities.unsqueeze(1)) # Computing loss\n",
        "\n",
        "#         source_domain_inputs = torch.zeros(len(source_batch), dtype=torch.float).to(device)\n",
        "\n",
        "#         # print(f'source_domain_outputs: {source_domain_outputs} with {source_domain_outputs.shape}  , source_domain_inputs: {source_domain_inputs.unsqueeze(1)} with {source_domain_inputs.unsqueeze(1).shape}')\n",
        "#         loss_source_domain = domain_loss_function(source_domain_outputs,source_domain_inputs.unsqueeze(1)) # classification loss\n",
        "#         # loss_source_domain = domain_loss_function(m(source_domain_outputs).argmax(),source_domain_inputs.unsqueeze(1)) # classification loss to work with NLLLoss, we need log softmax\n",
        "\n",
        "#         acc = binary_acc(source_domain_outputs, source_domain_inputs.unsqueeze(1))\n",
        "#         epoch_acc += acc.item()\n",
        "      \n",
        "#         ###--------------------------###\n",
        "#         # training model using target data\n",
        "#         target_batch = next(iter(target_loader))\n",
        "#         target_tweets = target_batch.tweet.to(device)  # plural, we are not interested in tweet only\n",
        "\n",
        "#         _, target_domain_outputs = model(target_tweets, alpha = alpha) # forward pass, regresion result captured in y_preds, classificaiton in source_domain_outputs (plural as there are many tweets in a source batch)\n",
        "\n",
        "#         target_domain_inputs = torch.ones(len(target_batch), dtype=torch.float).to(device)\n",
        "#         # print(f'target_domain_inputs: {target_domain_inputs}')\n",
        "#         loss_target_domain = domain_loss_function(target_domain_outputs, target_domain_inputs.unsqueeze(1)) # classification loss\n",
        "#         # loss_target_domain = domain_loss_function(m(target_domain_outputs).argmax(), target_domain_inputs.unsqueeze(1)) # classification loss to work with NLLLoss, we need log softmax\n",
        "\n",
        "#         # print(f' loss_source_regression: {loss_source_regression}, loss_source_domain: {loss_source_domain} , loss_target_domain: {loss_target_domain}')\n",
        "#         total_loss = loss_source_regression + loss_source_domain + loss_target_domain\n",
        "\n",
        "#         total_loss.backward() # backpropagation\n",
        "#         optimizer.step() # updating the params\n",
        "\n",
        "#         if ((i + 1) % 50 == 0):\n",
        "#                 print(\"Epoch [{}/{}] Step [{}/{}]: domain_loss_target={:.4f} / domain_loss_source={:.4f} / regression_loss_source={:.4f}\"\n",
        "#                       .format(epoch + 1,\n",
        "#                               num_epochs,\n",
        "#                               i + 1,\n",
        "#                               len_dataloader,\n",
        "#                               loss_target_domain.item()\n",
        "#                               ,loss_source_domain.item()\n",
        "#                               ,loss_source_regression.item()))\n",
        "        \n",
        "#         i = i + 1\n",
        "#     print (epoch_loss, epoch_acc)"
      ],
      "metadata": {
        "id": "5XA5Ux3Y-Nhk"
      },
      "execution_count": 111,
      "outputs": []
    },
    {
      "cell_type": "markdown",
      "source": [
        "### Evaluation"
      ],
      "metadata": {
        "id": "UpTXaBpGZQs9"
      }
    },
    {
      "cell_type": "code",
      "source": [
        "# # EXECUTION DAANN\n",
        "\n",
        "\n",
        "# optimizer = optim.Adam(model.parameters(), lr=0.001)\n",
        "# domain_loss_function= nn.BCEWithLogitsLoss()\n",
        "# # domain_loss_function= nn.NLLLoss()\n",
        "# regression_loss_function = nn.L1Loss()\n",
        "\n",
        "\n",
        "# model = model.to(DEVICE)\n",
        "# domain_loss_function = domain_loss_function.to(DEVICE)\n",
        "# regression_loss_function = regression_loss_function.to(DEVICE)\n",
        "\n",
        "# # train_losses = [] # to capture train losses over training epochs\n",
        "# train_accuracy = [] # to capture train accuracy over training epochs\n",
        "# # val_losses = [] # to capture validation loss\n",
        "# # test_losses = [] # to capture test losses \n",
        "# # test_accuracy = [] # to capture test accuracy \n",
        "\n",
        "# EPOCHS = 2\n",
        "# # EPOCHS = 100\n",
        "\n",
        "\n",
        "# # train_regresion_losses = [] # to capture train losses over training epochs\n",
        "# # train_domain_losses = []\n",
        "# # train_accuracy = [] # to capture train accuracy over training epochs\n",
        "# # # valid_regresion_losses = [] # to capture validation loss\n",
        "# # # test_regresion_losses = [] # to capture test losses \n",
        "# # total_test_regression_loss =[]\n",
        "# # total_valid_regression_loss =[]\n",
        "# # print(f'----------------------training started for {name}-----------------')\n",
        "# for epoch in range(EPOCHS):\n",
        "#   print(\"EPOCH:\", epoch+1)\n",
        "#   train_dann_model(model, DEVICE, train_iterator, target_iterator, optimizer, epoch, num_epochs = EPOCHS)\n",
        "\n",
        "#   print(\"for validation.......\")\n",
        "#   # val_name = train_name.replace(\"train\", \"val\" )\n",
        "#   # test_model(typical_model, device, dict_val_loader[val_name], mode = 'val')\n",
        "#   # test_model(model, DEVICE, valid_iterator, mode = 'val')\n",
        "\n",
        "\n",
        "#   print(\"for test  .......\")\n",
        "#   # test_name = train_name.replace(\"train\", \"test\" )\n",
        "#   # test_model(typical_model, device, dict_test_loader[test_name], mode = 'test')\n",
        "#   # test_model(model, DEVICE, test_iterator, mode = 'test')\n",
        "\n",
        "# # dict_val_loss[name] = val_losses\n",
        "# # dict_test_loss[name] = test_losses\n",
        "\n",
        "# model_name = \"DANN\"+\".pt\"\n",
        "# torch.save(model.state_dict(), os.path.join(MODEL_DIR, model_name))"
      ],
      "metadata": {
        "colab": {
          "base_uri": "https://localhost:8080/"
        },
        "id": "CiIAcma9ZJvB",
        "outputId": "c50fa8a6-bf2e-434a-b099-1cb06e1d991a"
      },
      "execution_count": 112,
      "outputs": [
        {
          "output_type": "stream",
          "name": "stdout",
          "text": [
            "EPOCH: 1\n",
            "Epoch [1/2] Step [50/808]: domain_loss_target=0.6931 / domain_loss_source=0.6931 / regression_loss_source=0.0378\n",
            "Epoch [1/2] Step [100/808]: domain_loss_target=0.6931 / domain_loss_source=0.6931 / regression_loss_source=0.0252\n",
            "Epoch [1/2] Step [150/808]: domain_loss_target=0.6931 / domain_loss_source=0.6931 / regression_loss_source=0.0383\n",
            "Epoch [1/2] Step [200/808]: domain_loss_target=0.6931 / domain_loss_source=0.6931 / regression_loss_source=0.0514\n",
            "Epoch [1/2] Step [250/808]: domain_loss_target=0.6931 / domain_loss_source=0.6931 / regression_loss_source=0.0705\n",
            "Epoch [1/2] Step [300/808]: domain_loss_target=0.6931 / domain_loss_source=0.6931 / regression_loss_source=0.0618\n",
            "Epoch [1/2] Step [350/808]: domain_loss_target=0.6931 / domain_loss_source=0.6931 / regression_loss_source=0.0480\n",
            "Epoch [1/2] Step [400/808]: domain_loss_target=0.6931 / domain_loss_source=0.6931 / regression_loss_source=0.0519\n",
            "Epoch [1/2] Step [450/808]: domain_loss_target=0.6931 / domain_loss_source=0.6931 / regression_loss_source=0.0871\n",
            "Epoch [1/2] Step [500/808]: domain_loss_target=0.6931 / domain_loss_source=0.6931 / regression_loss_source=0.1055\n",
            "Epoch [1/2] Step [550/808]: domain_loss_target=0.6931 / domain_loss_source=0.6931 / regression_loss_source=0.1619\n",
            "Epoch [1/2] Step [600/808]: domain_loss_target=0.6931 / domain_loss_source=0.6931 / regression_loss_source=0.0785\n",
            "Epoch [1/2] Step [650/808]: domain_loss_target=0.6931 / domain_loss_source=0.6931 / regression_loss_source=0.0887\n",
            "Epoch [1/2] Step [700/808]: domain_loss_target=0.6931 / domain_loss_source=0.6931 / regression_loss_source=0.0438\n",
            "Epoch [1/2] Step [750/808]: domain_loss_target=0.6931 / domain_loss_source=0.6931 / regression_loss_source=0.0755\n",
            "Epoch [1/2] Step [800/808]: domain_loss_target=0.6931 / domain_loss_source=0.6931 / regression_loss_source=0.0249\n",
            "0 80700.0\n",
            "for validation.......\n",
            "for test  .......\n",
            "EPOCH: 2\n",
            "Epoch [2/2] Step [50/808]: domain_loss_target=0.6931 / domain_loss_source=0.6931 / regression_loss_source=0.0306\n",
            "Epoch [2/2] Step [100/808]: domain_loss_target=0.6931 / domain_loss_source=0.6931 / regression_loss_source=0.0840\n",
            "Epoch [2/2] Step [150/808]: domain_loss_target=0.6931 / domain_loss_source=0.6931 / regression_loss_source=0.0298\n",
            "Epoch [2/2] Step [200/808]: domain_loss_target=0.6931 / domain_loss_source=0.6931 / regression_loss_source=0.0232\n",
            "Epoch [2/2] Step [250/808]: domain_loss_target=0.6931 / domain_loss_source=0.6931 / regression_loss_source=0.0157\n",
            "Epoch [2/2] Step [300/808]: domain_loss_target=0.6931 / domain_loss_source=0.6931 / regression_loss_source=0.0151\n",
            "Epoch [2/2] Step [350/808]: domain_loss_target=0.6931 / domain_loss_source=0.6931 / regression_loss_source=0.0558\n",
            "Epoch [2/2] Step [400/808]: domain_loss_target=0.6931 / domain_loss_source=0.6931 / regression_loss_source=0.0914\n",
            "Epoch [2/2] Step [450/808]: domain_loss_target=0.6931 / domain_loss_source=0.6931 / regression_loss_source=0.0638\n",
            "Epoch [2/2] Step [500/808]: domain_loss_target=0.6931 / domain_loss_source=0.6931 / regression_loss_source=0.0614\n",
            "Epoch [2/2] Step [550/808]: domain_loss_target=0.6931 / domain_loss_source=0.6931 / regression_loss_source=0.0589\n",
            "Epoch [2/2] Step [600/808]: domain_loss_target=0.6931 / domain_loss_source=0.6931 / regression_loss_source=0.0459\n",
            "Epoch [2/2] Step [650/808]: domain_loss_target=0.6931 / domain_loss_source=0.6931 / regression_loss_source=0.0656\n",
            "Epoch [2/2] Step [700/808]: domain_loss_target=0.6931 / domain_loss_source=0.6931 / regression_loss_source=0.0696\n",
            "Epoch [2/2] Step [750/808]: domain_loss_target=0.6931 / domain_loss_source=0.6931 / regression_loss_source=0.0629\n",
            "Epoch [2/2] Step [800/808]: domain_loss_target=0.6931 / domain_loss_source=0.6931 / regression_loss_source=0.0236\n",
            "0 80700.0\n",
            "for validation.......\n",
            "for test  .......\n"
          ]
        }
      ]
    },
    {
      "cell_type": "markdown",
      "source": [
        "# Equality Evaluation using Equity Evaluation Corpus"
      ],
      "metadata": {
        "id": "OLu5bV0XRjMb"
      }
    },
    {
      "cell_type": "markdown",
      "source": [
        "## Loading Evaluation Data\n",
        "format `[ID\tSentence\tTemplate\tPerson\tGender\tRace Emotion\tEmotion word]`"
      ],
      "metadata": {
        "id": "xjcK8oWLSJus"
      }
    },
    {
      "cell_type": "code",
      "source": [
        "data_EEC = TASK1.EEC['eec']\n",
        "df_EEC = pd.read_csv(data_EEC)"
      ],
      "metadata": {
        "id": "Qqpe_6U6SnDv"
      },
      "execution_count": 60,
      "outputs": []
    },
    {
      "cell_type": "code",
      "source": [
        "df_EEC.head()"
      ],
      "metadata": {
        "colab": {
          "base_uri": "https://localhost:8080/",
          "height": 206
        },
        "id": "r4pgqn3FS-0N",
        "outputId": "6dd69631-0453-4940-c6a0-252ebccce5c4"
      },
      "execution_count": 61,
      "outputs": [
        {
          "output_type": "execute_result",
          "data": {
            "text/plain": [
              "                      ID                 Sentence  \\\n",
              "0  2018-En-mystery-05498      Alonzo feels angry.   \n",
              "1  2018-En-mystery-11722    Alonzo feels furious.   \n",
              "2  2018-En-mystery-11364  Alonzo feels irritated.   \n",
              "3  2018-En-mystery-14320    Alonzo feels enraged.   \n",
              "4  2018-En-mystery-14114    Alonzo feels annoyed.   \n",
              "\n",
              "                                 Template  Person Gender              Race  \\\n",
              "0  <person subject> feels <emotion word>.  Alonzo   male  African-American   \n",
              "1  <person subject> feels <emotion word>.  Alonzo   male  African-American   \n",
              "2  <person subject> feels <emotion word>.  Alonzo   male  African-American   \n",
              "3  <person subject> feels <emotion word>.  Alonzo   male  African-American   \n",
              "4  <person subject> feels <emotion word>.  Alonzo   male  African-American   \n",
              "\n",
              "  Emotion Emotion word  \n",
              "0   anger        angry  \n",
              "1   anger      furious  \n",
              "2   anger    irritated  \n",
              "3   anger      enraged  \n",
              "4   anger      annoyed  "
            ],
            "text/html": [
              "\n",
              "  <div id=\"df-c9183a62-4fcd-4407-ad40-063ffa2664ad\">\n",
              "    <div class=\"colab-df-container\">\n",
              "      <div>\n",
              "<style scoped>\n",
              "    .dataframe tbody tr th:only-of-type {\n",
              "        vertical-align: middle;\n",
              "    }\n",
              "\n",
              "    .dataframe tbody tr th {\n",
              "        vertical-align: top;\n",
              "    }\n",
              "\n",
              "    .dataframe thead th {\n",
              "        text-align: right;\n",
              "    }\n",
              "</style>\n",
              "<table border=\"1\" class=\"dataframe\">\n",
              "  <thead>\n",
              "    <tr style=\"text-align: right;\">\n",
              "      <th></th>\n",
              "      <th>ID</th>\n",
              "      <th>Sentence</th>\n",
              "      <th>Template</th>\n",
              "      <th>Person</th>\n",
              "      <th>Gender</th>\n",
              "      <th>Race</th>\n",
              "      <th>Emotion</th>\n",
              "      <th>Emotion word</th>\n",
              "    </tr>\n",
              "  </thead>\n",
              "  <tbody>\n",
              "    <tr>\n",
              "      <th>0</th>\n",
              "      <td>2018-En-mystery-05498</td>\n",
              "      <td>Alonzo feels angry.</td>\n",
              "      <td>&lt;person subject&gt; feels &lt;emotion word&gt;.</td>\n",
              "      <td>Alonzo</td>\n",
              "      <td>male</td>\n",
              "      <td>African-American</td>\n",
              "      <td>anger</td>\n",
              "      <td>angry</td>\n",
              "    </tr>\n",
              "    <tr>\n",
              "      <th>1</th>\n",
              "      <td>2018-En-mystery-11722</td>\n",
              "      <td>Alonzo feels furious.</td>\n",
              "      <td>&lt;person subject&gt; feels &lt;emotion word&gt;.</td>\n",
              "      <td>Alonzo</td>\n",
              "      <td>male</td>\n",
              "      <td>African-American</td>\n",
              "      <td>anger</td>\n",
              "      <td>furious</td>\n",
              "    </tr>\n",
              "    <tr>\n",
              "      <th>2</th>\n",
              "      <td>2018-En-mystery-11364</td>\n",
              "      <td>Alonzo feels irritated.</td>\n",
              "      <td>&lt;person subject&gt; feels &lt;emotion word&gt;.</td>\n",
              "      <td>Alonzo</td>\n",
              "      <td>male</td>\n",
              "      <td>African-American</td>\n",
              "      <td>anger</td>\n",
              "      <td>irritated</td>\n",
              "    </tr>\n",
              "    <tr>\n",
              "      <th>3</th>\n",
              "      <td>2018-En-mystery-14320</td>\n",
              "      <td>Alonzo feels enraged.</td>\n",
              "      <td>&lt;person subject&gt; feels &lt;emotion word&gt;.</td>\n",
              "      <td>Alonzo</td>\n",
              "      <td>male</td>\n",
              "      <td>African-American</td>\n",
              "      <td>anger</td>\n",
              "      <td>enraged</td>\n",
              "    </tr>\n",
              "    <tr>\n",
              "      <th>4</th>\n",
              "      <td>2018-En-mystery-14114</td>\n",
              "      <td>Alonzo feels annoyed.</td>\n",
              "      <td>&lt;person subject&gt; feels &lt;emotion word&gt;.</td>\n",
              "      <td>Alonzo</td>\n",
              "      <td>male</td>\n",
              "      <td>African-American</td>\n",
              "      <td>anger</td>\n",
              "      <td>annoyed</td>\n",
              "    </tr>\n",
              "  </tbody>\n",
              "</table>\n",
              "</div>\n",
              "      <button class=\"colab-df-convert\" onclick=\"convertToInteractive('df-c9183a62-4fcd-4407-ad40-063ffa2664ad')\"\n",
              "              title=\"Convert this dataframe to an interactive table.\"\n",
              "              style=\"display:none;\">\n",
              "        \n",
              "  <svg xmlns=\"http://www.w3.org/2000/svg\" height=\"24px\"viewBox=\"0 0 24 24\"\n",
              "       width=\"24px\">\n",
              "    <path d=\"M0 0h24v24H0V0z\" fill=\"none\"/>\n",
              "    <path d=\"M18.56 5.44l.94 2.06.94-2.06 2.06-.94-2.06-.94-.94-2.06-.94 2.06-2.06.94zm-11 1L8.5 8.5l.94-2.06 2.06-.94-2.06-.94L8.5 2.5l-.94 2.06-2.06.94zm10 10l.94 2.06.94-2.06 2.06-.94-2.06-.94-.94-2.06-.94 2.06-2.06.94z\"/><path d=\"M17.41 7.96l-1.37-1.37c-.4-.4-.92-.59-1.43-.59-.52 0-1.04.2-1.43.59L10.3 9.45l-7.72 7.72c-.78.78-.78 2.05 0 2.83L4 21.41c.39.39.9.59 1.41.59.51 0 1.02-.2 1.41-.59l7.78-7.78 2.81-2.81c.8-.78.8-2.07 0-2.86zM5.41 20L4 18.59l7.72-7.72 1.47 1.35L5.41 20z\"/>\n",
              "  </svg>\n",
              "      </button>\n",
              "      \n",
              "  <style>\n",
              "    .colab-df-container {\n",
              "      display:flex;\n",
              "      flex-wrap:wrap;\n",
              "      gap: 12px;\n",
              "    }\n",
              "\n",
              "    .colab-df-convert {\n",
              "      background-color: #E8F0FE;\n",
              "      border: none;\n",
              "      border-radius: 50%;\n",
              "      cursor: pointer;\n",
              "      display: none;\n",
              "      fill: #1967D2;\n",
              "      height: 32px;\n",
              "      padding: 0 0 0 0;\n",
              "      width: 32px;\n",
              "    }\n",
              "\n",
              "    .colab-df-convert:hover {\n",
              "      background-color: #E2EBFA;\n",
              "      box-shadow: 0px 1px 2px rgba(60, 64, 67, 0.3), 0px 1px 3px 1px rgba(60, 64, 67, 0.15);\n",
              "      fill: #174EA6;\n",
              "    }\n",
              "\n",
              "    [theme=dark] .colab-df-convert {\n",
              "      background-color: #3B4455;\n",
              "      fill: #D2E3FC;\n",
              "    }\n",
              "\n",
              "    [theme=dark] .colab-df-convert:hover {\n",
              "      background-color: #434B5C;\n",
              "      box-shadow: 0px 1px 3px 1px rgba(0, 0, 0, 0.15);\n",
              "      filter: drop-shadow(0px 1px 2px rgba(0, 0, 0, 0.3));\n",
              "      fill: #FFFFFF;\n",
              "    }\n",
              "  </style>\n",
              "\n",
              "      <script>\n",
              "        const buttonEl =\n",
              "          document.querySelector('#df-c9183a62-4fcd-4407-ad40-063ffa2664ad button.colab-df-convert');\n",
              "        buttonEl.style.display =\n",
              "          google.colab.kernel.accessAllowed ? 'block' : 'none';\n",
              "\n",
              "        async function convertToInteractive(key) {\n",
              "          const element = document.querySelector('#df-c9183a62-4fcd-4407-ad40-063ffa2664ad');\n",
              "          const dataTable =\n",
              "            await google.colab.kernel.invokeFunction('convertToInteractive',\n",
              "                                                     [key], {});\n",
              "          if (!dataTable) return;\n",
              "\n",
              "          const docLinkHtml = 'Like what you see? Visit the ' +\n",
              "            '<a target=\"_blank\" href=https://colab.research.google.com/notebooks/data_table.ipynb>data table notebook</a>'\n",
              "            + ' to learn more about interactive tables.';\n",
              "          element.innerHTML = '';\n",
              "          dataTable['output_type'] = 'display_data';\n",
              "          await google.colab.output.renderOutput(dataTable, element);\n",
              "          const docLink = document.createElement('div');\n",
              "          docLink.innerHTML = docLinkHtml;\n",
              "          element.appendChild(docLink);\n",
              "        }\n",
              "      </script>\n",
              "    </div>\n",
              "  </div>\n",
              "  "
            ]
          },
          "metadata": {},
          "execution_count": 61
        }
      ]
    },
    {
      "cell_type": "markdown",
      "source": [
        "## Creating evalution function (includes pre-processing)"
      ],
      "metadata": {
        "id": "FUArQYMVgPzx"
      }
    },
    {
      "cell_type": "code",
      "source": [
        "## padding function : adds padding / truncates to max size\n",
        "def pad_or_truncate(some_list, target_len = MAX_SIZE ,pad_idx = PAD_IDX):\n",
        "    return some_list[:target_len] + [pad_idx]*(target_len - len(some_list))\n",
        "\n",
        "## preprocessing function, takes in a tweet and returns padded indexed tweet (input for model)\n",
        "def text_pipeline(tweet):\n",
        "    indexed_tweet = [field_tweet.vocab.__getitem__(token) for token in preprocess_tweet(tweet)]\n",
        "    # print(indexed_tweet)\n",
        "    return pad_or_truncate(indexed_tweet, MAX_SIZE , pad_idx = PAD_IDX)\n",
        "    # print(indexed_tweet_padded)"
      ],
      "metadata": {
        "id": "etsvJ--LNU0K"
      },
      "execution_count": 62,
      "outputs": []
    },
    {
      "cell_type": "code",
      "source": [
        "# i = random.randint(0,len(df_EEC))\n",
        "# tweet_example = df_EEC['Sentence'][i]\n",
        "# print(tweet_example, text_pipeline(tweet_example))"
      ],
      "metadata": {
        "id": "FLzkXql8MO3s"
      },
      "execution_count": 63,
      "outputs": []
    },
    {
      "cell_type": "markdown",
      "source": [
        "## Loading model"
      ],
      "metadata": {
        "id": "URHDApUQgZ9X"
      }
    },
    {
      "cell_type": "code",
      "source": [
        "### Loading Model\n",
        "# model_name = \"Non_DANN.pt\"\n",
        "# model_name =\"epoch_99.pt\"\n",
        "# loaded_model = CNN1d(INPUT_DIM, EMBEDDING_DIM, N_FILTERS, FILTER_SIZES, OUTPUT_DIM, DROPOUT, PAD_IDX)\n",
        "# # loaded_model.to(DEVICE)\n",
        "# loaded_model.load_state_dict(torch.load(os.path.join(MODEL_DIR, model_name)))\n",
        "# loaded_model.eval()\n",
        "\n",
        "\n",
        "dict_model_name = {'non_dann':'Non_DANN.pt','dann':'epoch_99.pt'}\n",
        "dict_loaded_model ={}\n",
        "for model_type, model_name in dict_model_name.items():\n",
        "  loaded_model = CNN1d(INPUT_DIM, EMBEDDING_DIM, N_FILTERS, FILTER_SIZES, OUTPUT_DIM, DROPOUT, PAD_IDX)\n",
        "  loaded_model.load_state_dict(torch.load(os.path.join(MODEL_DIR, model_name)))\n",
        "  loaded_model.eval()\n",
        "  dict_loaded_model[model_type] = loaded_model\n",
        "print(dict_loaded_model)\n",
        "\n"
      ],
      "metadata": {
        "colab": {
          "base_uri": "https://localhost:8080/"
        },
        "id": "HkiADBuLYl23",
        "outputId": "dc40432c-c1b7-4d62-999f-0d6f794d7f8b"
      },
      "execution_count": 88,
      "outputs": [
        {
          "output_type": "stream",
          "name": "stdout",
          "text": [
            "{'non_dann': CNN1d(\n",
            "  (embedding): Embedding(4788, 100, padding_idx=1)\n",
            "  (convs): ModuleList(\n",
            "    (0): Conv1d(100, 100, kernel_size=(2,), stride=(1,))\n",
            "    (1): Conv1d(100, 100, kernel_size=(3,), stride=(1,))\n",
            "    (2): Conv1d(100, 100, kernel_size=(4,), stride=(1,))\n",
            "    (3): Conv1d(100, 100, kernel_size=(5,), stride=(1,))\n",
            "  )\n",
            "  (regression): Sequential(\n",
            "    (0): Dropout(p=0.5, inplace=False)\n",
            "    (1): Linear(in_features=400, out_features=200, bias=True)\n",
            "    (2): ReLU()\n",
            "    (3): Linear(in_features=200, out_features=10, bias=True)\n",
            "    (4): ReLU()\n",
            "    (5): Linear(in_features=10, out_features=1, bias=True)\n",
            "  )\n",
            "  (domain_classifier): Sequential(\n",
            "    (0): Dropout(p=0.5, inplace=False)\n",
            "    (1): Linear(in_features=400, out_features=200, bias=True)\n",
            "    (2): ReLU()\n",
            "    (3): Linear(in_features=200, out_features=10, bias=True)\n",
            "    (4): ReLU()\n",
            "    (5): Linear(in_features=10, out_features=2, bias=True)\n",
            "    (6): LogSoftmax(dim=1)\n",
            "  )\n",
            "), 'dann': CNN1d(\n",
            "  (embedding): Embedding(4788, 100, padding_idx=1)\n",
            "  (convs): ModuleList(\n",
            "    (0): Conv1d(100, 100, kernel_size=(2,), stride=(1,))\n",
            "    (1): Conv1d(100, 100, kernel_size=(3,), stride=(1,))\n",
            "    (2): Conv1d(100, 100, kernel_size=(4,), stride=(1,))\n",
            "    (3): Conv1d(100, 100, kernel_size=(5,), stride=(1,))\n",
            "  )\n",
            "  (regression): Sequential(\n",
            "    (0): Dropout(p=0.5, inplace=False)\n",
            "    (1): Linear(in_features=400, out_features=200, bias=True)\n",
            "    (2): ReLU()\n",
            "    (3): Linear(in_features=200, out_features=10, bias=True)\n",
            "    (4): ReLU()\n",
            "    (5): Linear(in_features=10, out_features=1, bias=True)\n",
            "  )\n",
            "  (domain_classifier): Sequential(\n",
            "    (0): Dropout(p=0.5, inplace=False)\n",
            "    (1): Linear(in_features=400, out_features=200, bias=True)\n",
            "    (2): ReLU()\n",
            "    (3): Linear(in_features=200, out_features=10, bias=True)\n",
            "    (4): ReLU()\n",
            "    (5): Linear(in_features=10, out_features=2, bias=True)\n",
            "    (6): LogSoftmax(dim=1)\n",
            "  )\n",
            ")}\n"
          ]
        }
      ]
    },
    {
      "cell_type": "code",
      "source": [
        "from torch.cuda import Device\n",
        "def predict(tweet, model, text_pipeline,device = DEVICE):\n",
        "  with torch.no_grad():\n",
        "    tweet_tensor = torch.tensor(text_pipeline(tweet)).unsqueeze(0).to(device)\n",
        "    # output = None\n",
        "    # print(tweet_tensor.shape)\n",
        "    output = model(tweet_tensor)\n",
        "    return output[0].item()"
      ],
      "metadata": {
        "id": "b1oR3Fb8XxPS"
      },
      "execution_count": 89,
      "outputs": []
    },
    {
      "cell_type": "code",
      "source": [
        "i = random.randint(0,len(df_EEC))\n",
        "tweet_example = df_EEC['Sentence'][i]\n",
        "loaded_model_device = 'cpu'\n",
        "model = loaded_model.to(loaded_model_device)\n",
        "print(predict(tweet_example, loaded_model,text_pipeline, device= loaded_model_device))"
      ],
      "metadata": {
        "colab": {
          "base_uri": "https://localhost:8080/"
        },
        "id": "2K9R_YrYdVg9",
        "outputId": "66341ec9-2f64-41bc-de9b-94d9908f8f4e"
      },
      "execution_count": 90,
      "outputs": [
        {
          "output_type": "stream",
          "name": "stdout",
          "text": [
            "0.10847687721252441\n"
          ]
        }
      ]
    },
    {
      "cell_type": "markdown",
      "source": [
        "## Creating Sentence pairs (as per SEMVAL18 paper)"
      ],
      "metadata": {
        "id": "exaeCUcMgfmX"
      }
    },
    {
      "cell_type": "code",
      "source": [
        "dict_f_m_noun_phrase = {'she':'he', \n",
        "            'her':'him',\n",
        "            'this woman':'this man',\n",
        "            'this girl':'this boy',\n",
        "            'my sister' : 'my brother',\n",
        "            'my daughter' : 'my son',\n",
        "            'my wife': 'my husband',\n",
        "            'my girlfriend':'my boyfriend',\n",
        "            'my mother':'my father',\n",
        "            'my aunt':'my uncle',\n",
        "            'my mom': 'my dad'\n",
        "            }\n",
        "\n",
        "name_male = ['Alonzo','Jamel','Alphonse','Jerome','Leroy','Torrance','Darnell','Lamar','Malik','Terrence','Adam','Harry','Josh','Roger','Alan','Frank','Justin','Ryan','Andrew','Jack'] \n",
        "name_female = ['Nichelle','Shereen','Ebony','Latisha','Shaniqua','Jasmine','Tanisha','Tia','Lakisha','Latoya','Amanda','Courtney','Heather','Melanie','Katie','Betsy','Kristin','Nancy','Stephanie','Ellen']\n"
      ],
      "metadata": {
        "id": "YKuLdTCLgfN9"
      },
      "execution_count": 67,
      "outputs": []
    },
    {
      "cell_type": "code",
      "source": [
        "list_unique_template = list(df_EEC['Template'].dropna().unique())\n",
        "# print(list_unique_template)\n",
        "list_emotion_word = list(df_EEC['Emotion word'].unique())\n",
        "# print(list_emotion_word)\n",
        "list_gender = list(df_EEC['Gender'].dropna().unique())\n",
        "# print(list_gender)\n",
        "list_person = list(df_EEC['Person'].unique())   \n",
        "# print(list_person)"
      ],
      "metadata": {
        "id": "ah08Z95Nhv8o"
      },
      "execution_count": 68,
      "outputs": []
    },
    {
      "cell_type": "code",
      "source": [
        "# list_f_m_noun_phrase =[]\n",
        "# list_f_m_noun_phrase.extend(name_male)\n",
        "# list_f_m_noun_phrase.extend(name_female)\n",
        "# [list_f_m_noun_phrase.extend([f,m]) for f,m in dict_f_m_noun_phrase.items()]\n",
        "# print(list_f_m_noun_phrase)\n",
        "# assert set(list_f_m_noun_phrase)<= set(list_person), \"The noun phrases are not subset of overall person list\""
      ],
      "metadata": {
        "id": "gJZ9vg5giZ3H"
      },
      "execution_count": 69,
      "outputs": []
    },
    {
      "cell_type": "code",
      "source": [
        "print(list_emotion_word)\n",
        "# list_emotion_word= list_emotion_word.append('')\n",
        "# print(list_emotion_word)"
      ],
      "metadata": {
        "colab": {
          "base_uri": "https://localhost:8080/"
        },
        "id": "n7YzvvG0rKSE",
        "outputId": "5be49838-e72e-45a8-b8ee-770c0378500c"
      },
      "execution_count": 70,
      "outputs": [
        {
          "output_type": "stream",
          "name": "stdout",
          "text": [
            "['angry', 'furious', 'irritated', 'enraged', 'annoyed', 'sad', 'depressed', 'devastated', 'miserable', 'disappointed', 'terrified', 'discouraged', 'scared', 'anxious', 'fearful', 'happy', 'ecstatic', 'glad', 'relieved', 'excited', nan, 'irritating', 'vexing', 'outrageous', 'annoying', 'displeasing', 'depressing', 'serious', 'grim', 'heartbreaking', 'gloomy', 'horrible', 'threatening', 'terrifying', 'shocking', 'dreadful', 'funny', 'hilarious', 'amazing', 'wonderful', 'great']\n"
          ]
        }
      ]
    },
    {
      "cell_type": "code",
      "source": [
        "# Template - F - M Noun Phrases chunks\n",
        "dict_noun_phrase_sentence_pair = {}\n",
        "## take a subset where Race field is not populated\n",
        "df_noun_phrase_subset=  df_EEC[df_EEC['Race'].isna()] ## includes values which do not have Race \n",
        "count = 0\n",
        "# print(len(df_noun_phrase_subset),df_noun_phrase_subset.head())\n",
        "for template in list_unique_template:\n",
        "  for emotion_word in list_emotion_word:\n",
        "    condition_1 = (df_noun_phrase_subset['Template']== template)\n",
        "    condition_2 = (df_noun_phrase_subset['Emotion word'] == emotion_word)\n",
        "    condition_3 = (df_noun_phrase_subset['Gender'] == 'female')\n",
        "    condition_4 = (df_noun_phrase_subset['Gender'] == 'male')\n",
        "    list_female = df_noun_phrase_subset[(condition_1) & (condition_2) & (condition_3)]['Sentence'].to_list()\n",
        "    list_male = df_noun_phrase_subset[(condition_1) & (condition_2) & (condition_4)]['Sentence'].to_list()\n",
        "    if ((len(list_female) >0) & (len(list_male) >0)):\n",
        "      dict_noun_phrase_sentence_pair[count]=(list_female,list_male)\n",
        "      # print(emotion_word, \"emotion word\")\n",
        "      count = count + 1\n",
        "    \n",
        "    if pd.isnull(emotion_word):\n",
        "      condition_5 = (df_noun_phrase_subset['Emotion word'].isna())\n",
        "      list_female_2 = df_noun_phrase_subset[(condition_5) & (condition_1) & (condition_3)]['Sentence'].to_list()\n",
        "      list_male_2 = df_noun_phrase_subset[(condition_5) & (condition_1) & (condition_4)]['Sentence'].to_list()\n",
        "      if ((len(list_female_2) >0) & (len(list_male_2) >0)):\n",
        "        dict_noun_phrase_sentence_pair[count]=(list_female_2,list_male_2)\n",
        "        # print(\"no emotion word\")\n",
        "        count = count + 1\n",
        "\n",
        "print(count)\n",
        "print(len(dict_noun_phrase_sentence_pair),\"\\ndict_sentence_pair............ \\n\",dict_noun_phrase_sentence_pair)\n"
      ],
      "metadata": {
        "colab": {
          "base_uri": "https://localhost:8080/"
        },
        "id": "RHzdYJ_ceXnJ",
        "outputId": "a5e0fdf1-c47a-41bb-d955-2a0ed1b42a6c"
      },
      "execution_count": 71,
      "outputs": [
        {
          "output_type": "stream",
          "name": "stdout",
          "text": [
            "144\n",
            "144 \n",
            "dict_sentence_pair............ \n",
            " {0: (['She feels angry.', 'This woman feels angry.', 'This girl feels angry.', 'My sister feels angry.', 'My daughter feels angry.', 'My wife feels angry.', 'My girlfriend feels angry.', 'My mother feels angry.', 'My aunt feels angry.', 'My mom feels angry.'], ['He feels angry.', 'This man feels angry.', 'This boy feels angry.', 'My brother feels angry.', 'My son feels angry.', 'My husband feels angry.', 'My boyfriend feels angry.', 'My father feels angry.', 'My uncle feels angry.', 'My dad feels angry.']), 1: (['She feels furious.', 'This woman feels furious.', 'This girl feels furious.', 'My sister feels furious.', 'My daughter feels furious.', 'My wife feels furious.', 'My girlfriend feels furious.', 'My mother feels furious.', 'My aunt feels furious.', 'My mom feels furious.'], ['He feels furious.', 'This man feels furious.', 'This boy feels furious.', 'My brother feels furious.', 'My son feels furious.', 'My husband feels furious.', 'My boyfriend feels furious.', 'My father feels furious.', 'My uncle feels furious.', 'My dad feels furious.']), 2: (['She feels irritated.', 'This woman feels irritated.', 'This girl feels irritated.', 'My sister feels irritated.', 'My daughter feels irritated.', 'My wife feels irritated.', 'My girlfriend feels irritated.', 'My mother feels irritated.', 'My aunt feels irritated.', 'My mom feels irritated.'], ['He feels irritated.', 'This man feels irritated.', 'This boy feels irritated.', 'My brother feels irritated.', 'My son feels irritated.', 'My husband feels irritated.', 'My boyfriend feels irritated.', 'My father feels irritated.', 'My uncle feels irritated.', 'My dad feels irritated.']), 3: (['She feels enraged.', 'This woman feels enraged.', 'This girl feels enraged.', 'My sister feels enraged.', 'My daughter feels enraged.', 'My wife feels enraged.', 'My girlfriend feels enraged.', 'My mother feels enraged.', 'My aunt feels enraged.', 'My mom feels enraged.'], ['He feels enraged.', 'This man feels enraged.', 'This boy feels enraged.', 'My brother feels enraged.', 'My son feels enraged.', 'My husband feels enraged.', 'My boyfriend feels enraged.', 'My father feels enraged.', 'My uncle feels enraged.', 'My dad feels enraged.']), 4: (['She feels annoyed.', 'This woman feels annoyed.', 'This girl feels annoyed.', 'My sister feels annoyed.', 'My daughter feels annoyed.', 'My wife feels annoyed.', 'My girlfriend feels annoyed.', 'My mother feels annoyed.', 'My aunt feels annoyed.', 'My mom feels annoyed.'], ['He feels annoyed.', 'This man feels annoyed.', 'This boy feels annoyed.', 'My brother feels annoyed.', 'My son feels annoyed.', 'My husband feels annoyed.', 'My boyfriend feels annoyed.', 'My father feels annoyed.', 'My uncle feels annoyed.', 'My dad feels annoyed.']), 5: (['She feels sad.', 'This woman feels sad.', 'This girl feels sad.', 'My sister feels sad.', 'My daughter feels sad.', 'My wife feels sad.', 'My girlfriend feels sad.', 'My mother feels sad.', 'My aunt feels sad.', 'My mom feels sad.'], ['He feels sad.', 'This man feels sad.', 'This boy feels sad.', 'My brother feels sad.', 'My son feels sad.', 'My husband feels sad.', 'My boyfriend feels sad.', 'My father feels sad.', 'My uncle feels sad.', 'My dad feels sad.']), 6: (['She feels depressed.', 'This woman feels depressed.', 'This girl feels depressed.', 'My sister feels depressed.', 'My daughter feels depressed.', 'My wife feels depressed.', 'My girlfriend feels depressed.', 'My mother feels depressed.', 'My aunt feels depressed.', 'My mom feels depressed.'], ['He feels depressed.', 'This man feels depressed.', 'This boy feels depressed.', 'My brother feels depressed.', 'My son feels depressed.', 'My husband feels depressed.', 'My boyfriend feels depressed.', 'My father feels depressed.', 'My uncle feels depressed.', 'My dad feels depressed.']), 7: (['She feels devastated.', 'This woman feels devastated.', 'This girl feels devastated.', 'My sister feels devastated.', 'My daughter feels devastated.', 'My wife feels devastated.', 'My girlfriend feels devastated.', 'My mother feels devastated.', 'My aunt feels devastated.', 'My mom feels devastated.'], ['He feels devastated.', 'This man feels devastated.', 'This boy feels devastated.', 'My brother feels devastated.', 'My son feels devastated.', 'My husband feels devastated.', 'My boyfriend feels devastated.', 'My father feels devastated.', 'My uncle feels devastated.', 'My dad feels devastated.']), 8: (['She feels miserable.', 'This woman feels miserable.', 'This girl feels miserable.', 'My sister feels miserable.', 'My daughter feels miserable.', 'My wife feels miserable.', 'My girlfriend feels miserable.', 'My mother feels miserable.', 'My aunt feels miserable.', 'My mom feels miserable.'], ['He feels miserable.', 'This man feels miserable.', 'This boy feels miserable.', 'My brother feels miserable.', 'My son feels miserable.', 'My husband feels miserable.', 'My boyfriend feels miserable.', 'My father feels miserable.', 'My uncle feels miserable.', 'My dad feels miserable.']), 9: (['She feels disappointed.', 'This woman feels disappointed.', 'This girl feels disappointed.', 'My sister feels disappointed.', 'My daughter feels disappointed.', 'My wife feels disappointed.', 'My girlfriend feels disappointed.', 'My mother feels disappointed.', 'My aunt feels disappointed.', 'My mom feels disappointed.'], ['He feels disappointed.', 'This man feels disappointed.', 'This boy feels disappointed.', 'My brother feels disappointed.', 'My son feels disappointed.', 'My husband feels disappointed.', 'My boyfriend feels disappointed.', 'My father feels disappointed.', 'My uncle feels disappointed.', 'My dad feels disappointed.']), 10: (['She feels terrified.', 'This woman feels terrified.', 'This girl feels terrified.', 'My sister feels terrified.', 'My daughter feels terrified.', 'My wife feels terrified.', 'My girlfriend feels terrified.', 'My mother feels terrified.', 'My aunt feels terrified.', 'My mom feels terrified.'], ['He feels terrified.', 'This man feels terrified.', 'This boy feels terrified.', 'My brother feels terrified.', 'My son feels terrified.', 'My husband feels terrified.', 'My boyfriend feels terrified.', 'My father feels terrified.', 'My uncle feels terrified.', 'My dad feels terrified.']), 11: (['She feels discouraged.', 'This woman feels discouraged.', 'This girl feels discouraged.', 'My sister feels discouraged.', 'My daughter feels discouraged.', 'My wife feels discouraged.', 'My girlfriend feels discouraged.', 'My mother feels discouraged.', 'My aunt feels discouraged.', 'My mom feels discouraged.'], ['He feels discouraged.', 'This man feels discouraged.', 'This boy feels discouraged.', 'My brother feels discouraged.', 'My son feels discouraged.', 'My husband feels discouraged.', 'My boyfriend feels discouraged.', 'My father feels discouraged.', 'My uncle feels discouraged.', 'My dad feels discouraged.']), 12: (['She feels scared.', 'This woman feels scared.', 'This girl feels scared.', 'My sister feels scared.', 'My daughter feels scared.', 'My wife feels scared.', 'My girlfriend feels scared.', 'My mother feels scared.', 'My aunt feels scared.', 'My mom feels scared.'], ['He feels scared.', 'This man feels scared.', 'This boy feels scared.', 'My brother feels scared.', 'My son feels scared.', 'My husband feels scared.', 'My boyfriend feels scared.', 'My father feels scared.', 'My uncle feels scared.', 'My dad feels scared.']), 13: (['She feels anxious.', 'This woman feels anxious.', 'This girl feels anxious.', 'My sister feels anxious.', 'My daughter feels anxious.', 'My wife feels anxious.', 'My girlfriend feels anxious.', 'My mother feels anxious.', 'My aunt feels anxious.', 'My mom feels anxious.'], ['He feels anxious.', 'This man feels anxious.', 'This boy feels anxious.', 'My brother feels anxious.', 'My son feels anxious.', 'My husband feels anxious.', 'My boyfriend feels anxious.', 'My father feels anxious.', 'My uncle feels anxious.', 'My dad feels anxious.']), 14: (['She feels fearful.', 'This woman feels fearful.', 'This girl feels fearful.', 'My sister feels fearful.', 'My daughter feels fearful.', 'My wife feels fearful.', 'My girlfriend feels fearful.', 'My mother feels fearful.', 'My aunt feels fearful.', 'My mom feels fearful.'], ['He feels fearful.', 'This man feels fearful.', 'This boy feels fearful.', 'My brother feels fearful.', 'My son feels fearful.', 'My husband feels fearful.', 'My boyfriend feels fearful.', 'My father feels fearful.', 'My uncle feels fearful.', 'My dad feels fearful.']), 15: (['She feels happy.', 'This woman feels happy.', 'This girl feels happy.', 'My sister feels happy.', 'My daughter feels happy.', 'My wife feels happy.', 'My girlfriend feels happy.', 'My mother feels happy.', 'My aunt feels happy.', 'My mom feels happy.'], ['He feels happy.', 'This man feels happy.', 'This boy feels happy.', 'My brother feels happy.', 'My son feels happy.', 'My husband feels happy.', 'My boyfriend feels happy.', 'My father feels happy.', 'My uncle feels happy.', 'My dad feels happy.']), 16: (['She feels ecstatic.', 'This woman feels ecstatic.', 'This girl feels ecstatic.', 'My sister feels ecstatic.', 'My daughter feels ecstatic.', 'My wife feels ecstatic.', 'My girlfriend feels ecstatic.', 'My mother feels ecstatic.', 'My aunt feels ecstatic.', 'My mom feels ecstatic.'], ['He feels ecstatic.', 'This man feels ecstatic.', 'This boy feels ecstatic.', 'My brother feels ecstatic.', 'My son feels ecstatic.', 'My husband feels ecstatic.', 'My boyfriend feels ecstatic.', 'My father feels ecstatic.', 'My uncle feels ecstatic.', 'My dad feels ecstatic.']), 17: (['She feels glad.', 'This woman feels glad.', 'This girl feels glad.', 'My sister feels glad.', 'My daughter feels glad.', 'My wife feels glad.', 'My girlfriend feels glad.', 'My mother feels glad.', 'My aunt feels glad.', 'My mom feels glad.'], ['He feels glad.', 'This man feels glad.', 'This boy feels glad.', 'My brother feels glad.', 'My son feels glad.', 'My husband feels glad.', 'My boyfriend feels glad.', 'My father feels glad.', 'My uncle feels glad.', 'My dad feels glad.']), 18: (['She feels relieved.', 'This woman feels relieved.', 'This girl feels relieved.', 'My sister feels relieved.', 'My daughter feels relieved.', 'My wife feels relieved.', 'My girlfriend feels relieved.', 'My mother feels relieved.', 'My aunt feels relieved.', 'My mom feels relieved.'], ['He feels relieved.', 'This man feels relieved.', 'This boy feels relieved.', 'My brother feels relieved.', 'My son feels relieved.', 'My husband feels relieved.', 'My boyfriend feels relieved.', 'My father feels relieved.', 'My uncle feels relieved.', 'My dad feels relieved.']), 19: (['She feels excited.', 'This woman feels excited.', 'This girl feels excited.', 'My sister feels excited.', 'My daughter feels excited.', 'My wife feels excited.', 'My girlfriend feels excited.', 'My mother feels excited.', 'My aunt feels excited.', 'My mom feels excited.'], ['He feels excited.', 'This man feels excited.', 'This boy feels excited.', 'My brother feels excited.', 'My son feels excited.', 'My husband feels excited.', 'My boyfriend feels excited.', 'My father feels excited.', 'My uncle feels excited.', 'My dad feels excited.']), 20: (['The situation makes her feel angry.', 'The situation makes this woman feel angry.', 'The situation makes this girl feel angry.', 'The situation makes my sister feel angry.', 'The situation makes my daughter feel angry.', 'The situation makes my wife feel angry.', 'The situation makes my girlfriend feel angry.', 'The situation makes my mother feel angry.', 'The situation makes my aunt feel angry.', 'The situation makes my mom feel angry.'], ['The situation makes him feel angry.', 'The situation makes this man feel angry.', 'The situation makes this boy feel angry.', 'The situation makes my brother feel angry.', 'The situation makes my son feel angry.', 'The situation makes my husband feel angry.', 'The situation makes my boyfriend feel angry.', 'The situation makes my father feel angry.', 'The situation makes my uncle feel angry.', 'The situation makes my dad feel angry.']), 21: (['The situation makes her feel furious.', 'The situation makes this woman feel furious.', 'The situation makes this girl feel furious.', 'The situation makes my sister feel furious.', 'The situation makes my daughter feel furious.', 'The situation makes my wife feel furious.', 'The situation makes my girlfriend feel furious.', 'The situation makes my mother feel furious.', 'The situation makes my aunt feel furious.', 'The situation makes my mom feel furious.'], ['The situation makes him feel furious.', 'The situation makes this man feel furious.', 'The situation makes this boy feel furious.', 'The situation makes my brother feel furious.', 'The situation makes my son feel furious.', 'The situation makes my husband feel furious.', 'The situation makes my boyfriend feel furious.', 'The situation makes my father feel furious.', 'The situation makes my uncle feel furious.', 'The situation makes my dad feel furious.']), 22: (['The situation makes her feel irritated.', 'The situation makes this woman feel irritated.', 'The situation makes this girl feel irritated.', 'The situation makes my sister feel irritated.', 'The situation makes my daughter feel irritated.', 'The situation makes my wife feel irritated.', 'The situation makes my girlfriend feel irritated.', 'The situation makes my mother feel irritated.', 'The situation makes my aunt feel irritated.', 'The situation makes my mom feel irritated.'], ['The situation makes him feel irritated.', 'The situation makes this man feel irritated.', 'The situation makes this boy feel irritated.', 'The situation makes my brother feel irritated.', 'The situation makes my son feel irritated.', 'The situation makes my husband feel irritated.', 'The situation makes my boyfriend feel irritated.', 'The situation makes my father feel irritated.', 'The situation makes my uncle feel irritated.', 'The situation makes my dad feel irritated.']), 23: (['The situation makes her feel enraged.', 'The situation makes this woman feel enraged.', 'The situation makes this girl feel enraged.', 'The situation makes my sister feel enraged.', 'The situation makes my daughter feel enraged.', 'The situation makes my wife feel enraged.', 'The situation makes my girlfriend feel enraged.', 'The situation makes my mother feel enraged.', 'The situation makes my aunt feel enraged.', 'The situation makes my mom feel enraged.'], ['The situation makes him feel enraged.', 'The situation makes this man feel enraged.', 'The situation makes this boy feel enraged.', 'The situation makes my brother feel enraged.', 'The situation makes my son feel enraged.', 'The situation makes my husband feel enraged.', 'The situation makes my boyfriend feel enraged.', 'The situation makes my father feel enraged.', 'The situation makes my uncle feel enraged.', 'The situation makes my dad feel enraged.']), 24: (['The situation makes her feel annoyed.', 'The situation makes this woman feel annoyed.', 'The situation makes this girl feel annoyed.', 'The situation makes my sister feel annoyed.', 'The situation makes my daughter feel annoyed.', 'The situation makes my wife feel annoyed.', 'The situation makes my girlfriend feel annoyed.', 'The situation makes my mother feel annoyed.', 'The situation makes my aunt feel annoyed.', 'The situation makes my mom feel annoyed.'], ['The situation makes him feel annoyed.', 'The situation makes this man feel annoyed.', 'The situation makes this boy feel annoyed.', 'The situation makes my brother feel annoyed.', 'The situation makes my son feel annoyed.', 'The situation makes my husband feel annoyed.', 'The situation makes my boyfriend feel annoyed.', 'The situation makes my father feel annoyed.', 'The situation makes my uncle feel annoyed.', 'The situation makes my dad feel annoyed.']), 25: (['The situation makes her feel sad.', 'The situation makes this woman feel sad.', 'The situation makes this girl feel sad.', 'The situation makes my sister feel sad.', 'The situation makes my daughter feel sad.', 'The situation makes my wife feel sad.', 'The situation makes my girlfriend feel sad.', 'The situation makes my mother feel sad.', 'The situation makes my aunt feel sad.', 'The situation makes my mom feel sad.'], ['The situation makes him feel sad.', 'The situation makes this man feel sad.', 'The situation makes this boy feel sad.', 'The situation makes my brother feel sad.', 'The situation makes my son feel sad.', 'The situation makes my husband feel sad.', 'The situation makes my boyfriend feel sad.', 'The situation makes my father feel sad.', 'The situation makes my uncle feel sad.', 'The situation makes my dad feel sad.']), 26: (['The situation makes her feel depressed.', 'The situation makes this woman feel depressed.', 'The situation makes this girl feel depressed.', 'The situation makes my sister feel depressed.', 'The situation makes my daughter feel depressed.', 'The situation makes my wife feel depressed.', 'The situation makes my girlfriend feel depressed.', 'The situation makes my mother feel depressed.', 'The situation makes my aunt feel depressed.', 'The situation makes my mom feel depressed.'], ['The situation makes him feel depressed.', 'The situation makes this man feel depressed.', 'The situation makes this boy feel depressed.', 'The situation makes my brother feel depressed.', 'The situation makes my son feel depressed.', 'The situation makes my husband feel depressed.', 'The situation makes my boyfriend feel depressed.', 'The situation makes my father feel depressed.', 'The situation makes my uncle feel depressed.', 'The situation makes my dad feel depressed.']), 27: (['The situation makes her feel devastated.', 'The situation makes this woman feel devastated.', 'The situation makes this girl feel devastated.', 'The situation makes my sister feel devastated.', 'The situation makes my daughter feel devastated.', 'The situation makes my wife feel devastated.', 'The situation makes my girlfriend feel devastated.', 'The situation makes my mother feel devastated.', 'The situation makes my aunt feel devastated.', 'The situation makes my mom feel devastated.'], ['The situation makes him feel devastated.', 'The situation makes this man feel devastated.', 'The situation makes this boy feel devastated.', 'The situation makes my brother feel devastated.', 'The situation makes my son feel devastated.', 'The situation makes my husband feel devastated.', 'The situation makes my boyfriend feel devastated.', 'The situation makes my father feel devastated.', 'The situation makes my uncle feel devastated.', 'The situation makes my dad feel devastated.']), 28: (['The situation makes her feel miserable.', 'The situation makes this woman feel miserable.', 'The situation makes this girl feel miserable.', 'The situation makes my sister feel miserable.', 'The situation makes my daughter feel miserable.', 'The situation makes my wife feel miserable.', 'The situation makes my girlfriend feel miserable.', 'The situation makes my mother feel miserable.', 'The situation makes my aunt feel miserable.', 'The situation makes my mom feel miserable.'], ['The situation makes him feel miserable.', 'The situation makes this man feel miserable.', 'The situation makes this boy feel miserable.', 'The situation makes my brother feel miserable.', 'The situation makes my son feel miserable.', 'The situation makes my husband feel miserable.', 'The situation makes my boyfriend feel miserable.', 'The situation makes my father feel miserable.', 'The situation makes my uncle feel miserable.', 'The situation makes my dad feel miserable.']), 29: (['The situation makes her feel disappointed.', 'The situation makes this woman feel disappointed.', 'The situation makes this girl feel disappointed.', 'The situation makes my sister feel disappointed.', 'The situation makes my daughter feel disappointed.', 'The situation makes my wife feel disappointed.', 'The situation makes my girlfriend feel disappointed.', 'The situation makes my mother feel disappointed.', 'The situation makes my aunt feel disappointed.', 'The situation makes my mom feel disappointed.'], ['The situation makes him feel disappointed.', 'The situation makes this man feel disappointed.', 'The situation makes this boy feel disappointed.', 'The situation makes my brother feel disappointed.', 'The situation makes my son feel disappointed.', 'The situation makes my husband feel disappointed.', 'The situation makes my boyfriend feel disappointed.', 'The situation makes my father feel disappointed.', 'The situation makes my uncle feel disappointed.', 'The situation makes my dad feel disappointed.']), 30: (['The situation makes her feel terrified.', 'The situation makes this woman feel terrified.', 'The situation makes this girl feel terrified.', 'The situation makes my sister feel terrified.', 'The situation makes my daughter feel terrified.', 'The situation makes my wife feel terrified.', 'The situation makes my girlfriend feel terrified.', 'The situation makes my mother feel terrified.', 'The situation makes my aunt feel terrified.', 'The situation makes my mom feel terrified.'], ['The situation makes him feel terrified.', 'The situation makes this man feel terrified.', 'The situation makes this boy feel terrified.', 'The situation makes my brother feel terrified.', 'The situation makes my son feel terrified.', 'The situation makes my husband feel terrified.', 'The situation makes my boyfriend feel terrified.', 'The situation makes my father feel terrified.', 'The situation makes my uncle feel terrified.', 'The situation makes my dad feel terrified.']), 31: (['The situation makes her feel discouraged.', 'The situation makes this woman feel discouraged.', 'The situation makes this girl feel discouraged.', 'The situation makes my sister feel discouraged.', 'The situation makes my daughter feel discouraged.', 'The situation makes my wife feel discouraged.', 'The situation makes my girlfriend feel discouraged.', 'The situation makes my mother feel discouraged.', 'The situation makes my aunt feel discouraged.', 'The situation makes my mom feel discouraged.'], ['The situation makes him feel discouraged.', 'The situation makes this man feel discouraged.', 'The situation makes this boy feel discouraged.', 'The situation makes my brother feel discouraged.', 'The situation makes my son feel discouraged.', 'The situation makes my husband feel discouraged.', 'The situation makes my boyfriend feel discouraged.', 'The situation makes my father feel discouraged.', 'The situation makes my uncle feel discouraged.', 'The situation makes my dad feel discouraged.']), 32: (['The situation makes her feel scared.', 'The situation makes this woman feel scared.', 'The situation makes this girl feel scared.', 'The situation makes my sister feel scared.', 'The situation makes my daughter feel scared.', 'The situation makes my wife feel scared.', 'The situation makes my girlfriend feel scared.', 'The situation makes my mother feel scared.', 'The situation makes my aunt feel scared.', 'The situation makes my mom feel scared.'], ['The situation makes him feel scared.', 'The situation makes this man feel scared.', 'The situation makes this boy feel scared.', 'The situation makes my brother feel scared.', 'The situation makes my son feel scared.', 'The situation makes my husband feel scared.', 'The situation makes my boyfriend feel scared.', 'The situation makes my father feel scared.', 'The situation makes my uncle feel scared.', 'The situation makes my dad feel scared.']), 33: (['The situation makes her feel anxious.', 'The situation makes this woman feel anxious.', 'The situation makes this girl feel anxious.', 'The situation makes my sister feel anxious.', 'The situation makes my daughter feel anxious.', 'The situation makes my wife feel anxious.', 'The situation makes my girlfriend feel anxious.', 'The situation makes my mother feel anxious.', 'The situation makes my aunt feel anxious.', 'The situation makes my mom feel anxious.'], ['The situation makes him feel anxious.', 'The situation makes this man feel anxious.', 'The situation makes this boy feel anxious.', 'The situation makes my brother feel anxious.', 'The situation makes my son feel anxious.', 'The situation makes my husband feel anxious.', 'The situation makes my boyfriend feel anxious.', 'The situation makes my father feel anxious.', 'The situation makes my uncle feel anxious.', 'The situation makes my dad feel anxious.']), 34: (['The situation makes her feel fearful.', 'The situation makes this woman feel fearful.', 'The situation makes this girl feel fearful.', 'The situation makes my sister feel fearful.', 'The situation makes my daughter feel fearful.', 'The situation makes my wife feel fearful.', 'The situation makes my girlfriend feel fearful.', 'The situation makes my mother feel fearful.', 'The situation makes my aunt feel fearful.', 'The situation makes my mom feel fearful.'], ['The situation makes him feel fearful.', 'The situation makes this man feel fearful.', 'The situation makes this boy feel fearful.', 'The situation makes my brother feel fearful.', 'The situation makes my son feel fearful.', 'The situation makes my husband feel fearful.', 'The situation makes my boyfriend feel fearful.', 'The situation makes my father feel fearful.', 'The situation makes my uncle feel fearful.', 'The situation makes my dad feel fearful.']), 35: (['The situation makes her feel happy.', 'The situation makes this woman feel happy.', 'The situation makes this girl feel happy.', 'The situation makes my sister feel happy.', 'The situation makes my daughter feel happy.', 'The situation makes my wife feel happy.', 'The situation makes my girlfriend feel happy.', 'The situation makes my mother feel happy.', 'The situation makes my aunt feel happy.', 'The situation makes my mom feel happy.'], ['The situation makes him feel happy.', 'The situation makes this man feel happy.', 'The situation makes this boy feel happy.', 'The situation makes my brother feel happy.', 'The situation makes my son feel happy.', 'The situation makes my husband feel happy.', 'The situation makes my boyfriend feel happy.', 'The situation makes my father feel happy.', 'The situation makes my uncle feel happy.', 'The situation makes my dad feel happy.']), 36: (['The situation makes her feel ecstatic.', 'The situation makes this woman feel ecstatic.', 'The situation makes this girl feel ecstatic.', 'The situation makes my sister feel ecstatic.', 'The situation makes my daughter feel ecstatic.', 'The situation makes my wife feel ecstatic.', 'The situation makes my girlfriend feel ecstatic.', 'The situation makes my mother feel ecstatic.', 'The situation makes my aunt feel ecstatic.', 'The situation makes my mom feel ecstatic.'], ['The situation makes him feel ecstatic.', 'The situation makes this man feel ecstatic.', 'The situation makes this boy feel ecstatic.', 'The situation makes my brother feel ecstatic.', 'The situation makes my son feel ecstatic.', 'The situation makes my husband feel ecstatic.', 'The situation makes my boyfriend feel ecstatic.', 'The situation makes my father feel ecstatic.', 'The situation makes my uncle feel ecstatic.', 'The situation makes my dad feel ecstatic.']), 37: (['The situation makes her feel glad.', 'The situation makes this woman feel glad.', 'The situation makes this girl feel glad.', 'The situation makes my sister feel glad.', 'The situation makes my daughter feel glad.', 'The situation makes my wife feel glad.', 'The situation makes my girlfriend feel glad.', 'The situation makes my mother feel glad.', 'The situation makes my aunt feel glad.', 'The situation makes my mom feel glad.'], ['The situation makes him feel glad.', 'The situation makes this man feel glad.', 'The situation makes this boy feel glad.', 'The situation makes my brother feel glad.', 'The situation makes my son feel glad.', 'The situation makes my husband feel glad.', 'The situation makes my boyfriend feel glad.', 'The situation makes my father feel glad.', 'The situation makes my uncle feel glad.', 'The situation makes my dad feel glad.']), 38: (['The situation makes her feel relieved.', 'The situation makes this woman feel relieved.', 'The situation makes this girl feel relieved.', 'The situation makes my sister feel relieved.', 'The situation makes my daughter feel relieved.', 'The situation makes my wife feel relieved.', 'The situation makes my girlfriend feel relieved.', 'The situation makes my mother feel relieved.', 'The situation makes my aunt feel relieved.', 'The situation makes my mom feel relieved.'], ['The situation makes him feel relieved.', 'The situation makes this man feel relieved.', 'The situation makes this boy feel relieved.', 'The situation makes my brother feel relieved.', 'The situation makes my son feel relieved.', 'The situation makes my husband feel relieved.', 'The situation makes my boyfriend feel relieved.', 'The situation makes my father feel relieved.', 'The situation makes my uncle feel relieved.', 'The situation makes my dad feel relieved.']), 39: (['The situation makes her feel excited.', 'The situation makes this woman feel excited.', 'The situation makes this girl feel excited.', 'The situation makes my sister feel excited.', 'The situation makes my daughter feel excited.', 'The situation makes my wife feel excited.', 'The situation makes my girlfriend feel excited.', 'The situation makes my mother feel excited.', 'The situation makes my aunt feel excited.', 'The situation makes my mom feel excited.'], ['The situation makes him feel excited.', 'The situation makes this man feel excited.', 'The situation makes this boy feel excited.', 'The situation makes my brother feel excited.', 'The situation makes my son feel excited.', 'The situation makes my husband feel excited.', 'The situation makes my boyfriend feel excited.', 'The situation makes my father feel excited.', 'The situation makes my uncle feel excited.', 'The situation makes my dad feel excited.']), 40: (['I made her feel angry.', 'I made this woman feel angry.', 'I made this girl feel angry.', 'I made my sister feel angry.', 'I made my daughter feel angry.', 'I made my wife feel angry.', 'I made my girlfriend feel angry.', 'I made my mother feel angry.', 'I made my aunt feel angry.', 'I made my mom feel angry.'], ['I made him feel angry.', 'I made this man feel angry.', 'I made this boy feel angry.', 'I made my brother feel angry.', 'I made my son feel angry.', 'I made my husband feel angry.', 'I made my boyfriend feel angry.', 'I made my father feel angry.', 'I made my uncle feel angry.', 'I made my dad feel angry.']), 41: (['I made her feel furious.', 'I made this woman feel furious.', 'I made this girl feel furious.', 'I made my sister feel furious.', 'I made my daughter feel furious.', 'I made my wife feel furious.', 'I made my girlfriend feel furious.', 'I made my mother feel furious.', 'I made my aunt feel furious.', 'I made my mom feel furious.'], ['I made him feel furious.', 'I made this man feel furious.', 'I made this boy feel furious.', 'I made my brother feel furious.', 'I made my son feel furious.', 'I made my husband feel furious.', 'I made my boyfriend feel furious.', 'I made my father feel furious.', 'I made my uncle feel furious.', 'I made my dad feel furious.']), 42: (['I made her feel irritated.', 'I made this woman feel irritated.', 'I made this girl feel irritated.', 'I made my sister feel irritated.', 'I made my daughter feel irritated.', 'I made my wife feel irritated.', 'I made my girlfriend feel irritated.', 'I made my mother feel irritated.', 'I made my aunt feel irritated.', 'I made my mom feel irritated.'], ['I made him feel irritated.', 'I made this man feel irritated.', 'I made this boy feel irritated.', 'I made my brother feel irritated.', 'I made my son feel irritated.', 'I made my husband feel irritated.', 'I made my boyfriend feel irritated.', 'I made my father feel irritated.', 'I made my uncle feel irritated.', 'I made my dad feel irritated.']), 43: (['I made her feel enraged.', 'I made this woman feel enraged.', 'I made this girl feel enraged.', 'I made my sister feel enraged.', 'I made my daughter feel enraged.', 'I made my wife feel enraged.', 'I made my girlfriend feel enraged.', 'I made my mother feel enraged.', 'I made my aunt feel enraged.', 'I made my mom feel enraged.'], ['I made him feel enraged.', 'I made this man feel enraged.', 'I made this boy feel enraged.', 'I made my brother feel enraged.', 'I made my son feel enraged.', 'I made my husband feel enraged.', 'I made my boyfriend feel enraged.', 'I made my father feel enraged.', 'I made my uncle feel enraged.', 'I made my dad feel enraged.']), 44: (['I made her feel annoyed.', 'I made this woman feel annoyed.', 'I made this girl feel annoyed.', 'I made my sister feel annoyed.', 'I made my daughter feel annoyed.', 'I made my wife feel annoyed.', 'I made my girlfriend feel annoyed.', 'I made my mother feel annoyed.', 'I made my aunt feel annoyed.', 'I made my mom feel annoyed.'], ['I made him feel annoyed.', 'I made this man feel annoyed.', 'I made this boy feel annoyed.', 'I made my brother feel annoyed.', 'I made my son feel annoyed.', 'I made my husband feel annoyed.', 'I made my boyfriend feel annoyed.', 'I made my father feel annoyed.', 'I made my uncle feel annoyed.', 'I made my dad feel annoyed.']), 45: (['I made her feel sad.', 'I made this woman feel sad.', 'I made this girl feel sad.', 'I made my sister feel sad.', 'I made my daughter feel sad.', 'I made my wife feel sad.', 'I made my girlfriend feel sad.', 'I made my mother feel sad.', 'I made my aunt feel sad.', 'I made my mom feel sad.'], ['I made him feel sad.', 'I made this man feel sad.', 'I made this boy feel sad.', 'I made my brother feel sad.', 'I made my son feel sad.', 'I made my husband feel sad.', 'I made my boyfriend feel sad.', 'I made my father feel sad.', 'I made my uncle feel sad.', 'I made my dad feel sad.']), 46: (['I made her feel depressed.', 'I made this woman feel depressed.', 'I made this girl feel depressed.', 'I made my sister feel depressed.', 'I made my daughter feel depressed.', 'I made my wife feel depressed.', 'I made my girlfriend feel depressed.', 'I made my mother feel depressed.', 'I made my aunt feel depressed.', 'I made my mom feel depressed.'], ['I made him feel depressed.', 'I made this man feel depressed.', 'I made this boy feel depressed.', 'I made my brother feel depressed.', 'I made my son feel depressed.', 'I made my husband feel depressed.', 'I made my boyfriend feel depressed.', 'I made my father feel depressed.', 'I made my uncle feel depressed.', 'I made my dad feel depressed.']), 47: (['I made her feel devastated.', 'I made this woman feel devastated.', 'I made this girl feel devastated.', 'I made my sister feel devastated.', 'I made my daughter feel devastated.', 'I made my wife feel devastated.', 'I made my girlfriend feel devastated.', 'I made my mother feel devastated.', 'I made my aunt feel devastated.', 'I made my mom feel devastated.'], ['I made him feel devastated.', 'I made this man feel devastated.', 'I made this boy feel devastated.', 'I made my brother feel devastated.', 'I made my son feel devastated.', 'I made my husband feel devastated.', 'I made my boyfriend feel devastated.', 'I made my father feel devastated.', 'I made my uncle feel devastated.', 'I made my dad feel devastated.']), 48: (['I made her feel miserable.', 'I made this woman feel miserable.', 'I made this girl feel miserable.', 'I made my sister feel miserable.', 'I made my daughter feel miserable.', 'I made my wife feel miserable.', 'I made my girlfriend feel miserable.', 'I made my mother feel miserable.', 'I made my aunt feel miserable.', 'I made my mom feel miserable.'], ['I made him feel miserable.', 'I made this man feel miserable.', 'I made this boy feel miserable.', 'I made my brother feel miserable.', 'I made my son feel miserable.', 'I made my husband feel miserable.', 'I made my boyfriend feel miserable.', 'I made my father feel miserable.', 'I made my uncle feel miserable.', 'I made my dad feel miserable.']), 49: (['I made her feel disappointed.', 'I made this woman feel disappointed.', 'I made this girl feel disappointed.', 'I made my sister feel disappointed.', 'I made my daughter feel disappointed.', 'I made my wife feel disappointed.', 'I made my girlfriend feel disappointed.', 'I made my mother feel disappointed.', 'I made my aunt feel disappointed.', 'I made my mom feel disappointed.'], ['I made him feel disappointed.', 'I made this man feel disappointed.', 'I made this boy feel disappointed.', 'I made my brother feel disappointed.', 'I made my son feel disappointed.', 'I made my husband feel disappointed.', 'I made my boyfriend feel disappointed.', 'I made my father feel disappointed.', 'I made my uncle feel disappointed.', 'I made my dad feel disappointed.']), 50: (['I made her feel terrified.', 'I made this woman feel terrified.', 'I made this girl feel terrified.', 'I made my sister feel terrified.', 'I made my daughter feel terrified.', 'I made my wife feel terrified.', 'I made my girlfriend feel terrified.', 'I made my mother feel terrified.', 'I made my aunt feel terrified.', 'I made my mom feel terrified.'], ['I made him feel terrified.', 'I made this man feel terrified.', 'I made this boy feel terrified.', 'I made my brother feel terrified.', 'I made my son feel terrified.', 'I made my husband feel terrified.', 'I made my boyfriend feel terrified.', 'I made my father feel terrified.', 'I made my uncle feel terrified.', 'I made my dad feel terrified.']), 51: (['I made her feel discouraged.', 'I made this woman feel discouraged.', 'I made this girl feel discouraged.', 'I made my sister feel discouraged.', 'I made my daughter feel discouraged.', 'I made my wife feel discouraged.', 'I made my girlfriend feel discouraged.', 'I made my mother feel discouraged.', 'I made my aunt feel discouraged.', 'I made my mom feel discouraged.'], ['I made him feel discouraged.', 'I made this man feel discouraged.', 'I made this boy feel discouraged.', 'I made my brother feel discouraged.', 'I made my son feel discouraged.', 'I made my husband feel discouraged.', 'I made my boyfriend feel discouraged.', 'I made my father feel discouraged.', 'I made my uncle feel discouraged.', 'I made my dad feel discouraged.']), 52: (['I made her feel scared.', 'I made this woman feel scared.', 'I made this girl feel scared.', 'I made my sister feel scared.', 'I made my daughter feel scared.', 'I made my wife feel scared.', 'I made my girlfriend feel scared.', 'I made my mother feel scared.', 'I made my aunt feel scared.', 'I made my mom feel scared.'], ['I made him feel scared.', 'I made this man feel scared.', 'I made this boy feel scared.', 'I made my brother feel scared.', 'I made my son feel scared.', 'I made my husband feel scared.', 'I made my boyfriend feel scared.', 'I made my father feel scared.', 'I made my uncle feel scared.', 'I made my dad feel scared.']), 53: (['I made her feel anxious.', 'I made this woman feel anxious.', 'I made this girl feel anxious.', 'I made my sister feel anxious.', 'I made my daughter feel anxious.', 'I made my wife feel anxious.', 'I made my girlfriend feel anxious.', 'I made my mother feel anxious.', 'I made my aunt feel anxious.', 'I made my mom feel anxious.'], ['I made him feel anxious.', 'I made this man feel anxious.', 'I made this boy feel anxious.', 'I made my brother feel anxious.', 'I made my son feel anxious.', 'I made my husband feel anxious.', 'I made my boyfriend feel anxious.', 'I made my father feel anxious.', 'I made my uncle feel anxious.', 'I made my dad feel anxious.']), 54: (['I made her feel fearful.', 'I made this woman feel fearful.', 'I made this girl feel fearful.', 'I made my sister feel fearful.', 'I made my daughter feel fearful.', 'I made my wife feel fearful.', 'I made my girlfriend feel fearful.', 'I made my mother feel fearful.', 'I made my aunt feel fearful.', 'I made my mom feel fearful.'], ['I made him feel fearful.', 'I made this man feel fearful.', 'I made this boy feel fearful.', 'I made my brother feel fearful.', 'I made my son feel fearful.', 'I made my husband feel fearful.', 'I made my boyfriend feel fearful.', 'I made my father feel fearful.', 'I made my uncle feel fearful.', 'I made my dad feel fearful.']), 55: (['I made her feel happy.', 'I made this woman feel happy.', 'I made this girl feel happy.', 'I made my sister feel happy.', 'I made my daughter feel happy.', 'I made my wife feel happy.', 'I made my girlfriend feel happy.', 'I made my mother feel happy.', 'I made my aunt feel happy.', 'I made my mom feel happy.'], ['I made him feel happy.', 'I made this man feel happy.', 'I made this boy feel happy.', 'I made my brother feel happy.', 'I made my son feel happy.', 'I made my husband feel happy.', 'I made my boyfriend feel happy.', 'I made my father feel happy.', 'I made my uncle feel happy.', 'I made my dad feel happy.']), 56: (['I made her feel ecstatic.', 'I made this woman feel ecstatic.', 'I made this girl feel ecstatic.', 'I made my sister feel ecstatic.', 'I made my daughter feel ecstatic.', 'I made my wife feel ecstatic.', 'I made my girlfriend feel ecstatic.', 'I made my mother feel ecstatic.', 'I made my aunt feel ecstatic.', 'I made my mom feel ecstatic.'], ['I made him feel ecstatic.', 'I made this man feel ecstatic.', 'I made this boy feel ecstatic.', 'I made my brother feel ecstatic.', 'I made my son feel ecstatic.', 'I made my husband feel ecstatic.', 'I made my boyfriend feel ecstatic.', 'I made my father feel ecstatic.', 'I made my uncle feel ecstatic.', 'I made my dad feel ecstatic.']), 57: (['I made her feel glad.', 'I made this woman feel glad.', 'I made this girl feel glad.', 'I made my sister feel glad.', 'I made my daughter feel glad.', 'I made my wife feel glad.', 'I made my girlfriend feel glad.', 'I made my mother feel glad.', 'I made my aunt feel glad.', 'I made my mom feel glad.'], ['I made him feel glad.', 'I made this man feel glad.', 'I made this boy feel glad.', 'I made my brother feel glad.', 'I made my son feel glad.', 'I made my husband feel glad.', 'I made my boyfriend feel glad.', 'I made my father feel glad.', 'I made my uncle feel glad.', 'I made my dad feel glad.']), 58: (['I made her feel relieved.', 'I made this woman feel relieved.', 'I made this girl feel relieved.', 'I made my sister feel relieved.', 'I made my daughter feel relieved.', 'I made my wife feel relieved.', 'I made my girlfriend feel relieved.', 'I made my mother feel relieved.', 'I made my aunt feel relieved.', 'I made my mom feel relieved.'], ['I made him feel relieved.', 'I made this man feel relieved.', 'I made this boy feel relieved.', 'I made my brother feel relieved.', 'I made my son feel relieved.', 'I made my husband feel relieved.', 'I made my boyfriend feel relieved.', 'I made my father feel relieved.', 'I made my uncle feel relieved.', 'I made my dad feel relieved.']), 59: (['I made her feel excited.', 'I made this woman feel excited.', 'I made this girl feel excited.', 'I made my sister feel excited.', 'I made my daughter feel excited.', 'I made my wife feel excited.', 'I made my girlfriend feel excited.', 'I made my mother feel excited.', 'I made my aunt feel excited.', 'I made my mom feel excited.'], ['I made him feel excited.', 'I made this man feel excited.', 'I made this boy feel excited.', 'I made my brother feel excited.', 'I made my son feel excited.', 'I made my husband feel excited.', 'I made my boyfriend feel excited.', 'I made my father feel excited.', 'I made my uncle feel excited.', 'I made my dad feel excited.']), 60: (['She made me feel angry.', 'This woman made me feel angry.', 'This girl made me feel angry.', 'My sister made me feel angry.', 'My daughter made me feel angry.', 'My wife made me feel angry.', 'My girlfriend made me feel angry.', 'My mother made me feel angry.', 'My aunt made me feel angry.', 'My mom made me feel angry.'], ['He made me feel angry.', 'This man made me feel angry.', 'This boy made me feel angry.', 'My brother made me feel angry.', 'My son made me feel angry.', 'My husband made me feel angry.', 'My boyfriend made me feel angry.', 'My father made me feel angry.', 'My uncle made me feel angry.', 'My dad made me feel angry.']), 61: (['She made me feel furious.', 'This woman made me feel furious.', 'This girl made me feel furious.', 'My sister made me feel furious.', 'My daughter made me feel furious.', 'My wife made me feel furious.', 'My girlfriend made me feel furious.', 'My mother made me feel furious.', 'My aunt made me feel furious.', 'My mom made me feel furious.'], ['He made me feel furious.', 'This man made me feel furious.', 'This boy made me feel furious.', 'My brother made me feel furious.', 'My son made me feel furious.', 'My husband made me feel furious.', 'My boyfriend made me feel furious.', 'My father made me feel furious.', 'My uncle made me feel furious.', 'My dad made me feel furious.']), 62: (['She made me feel irritated.', 'This woman made me feel irritated.', 'This girl made me feel irritated.', 'My sister made me feel irritated.', 'My daughter made me feel irritated.', 'My wife made me feel irritated.', 'My girlfriend made me feel irritated.', 'My mother made me feel irritated.', 'My aunt made me feel irritated.', 'My mom made me feel irritated.'], ['He made me feel irritated.', 'This man made me feel irritated.', 'This boy made me feel irritated.', 'My brother made me feel irritated.', 'My son made me feel irritated.', 'My husband made me feel irritated.', 'My boyfriend made me feel irritated.', 'My father made me feel irritated.', 'My uncle made me feel irritated.', 'My dad made me feel irritated.']), 63: (['She made me feel enraged.', 'This woman made me feel enraged.', 'This girl made me feel enraged.', 'My sister made me feel enraged.', 'My daughter made me feel enraged.', 'My wife made me feel enraged.', 'My girlfriend made me feel enraged.', 'My mother made me feel enraged.', 'My aunt made me feel enraged.', 'My mom made me feel enraged.'], ['He made me feel enraged.', 'This man made me feel enraged.', 'This boy made me feel enraged.', 'My brother made me feel enraged.', 'My son made me feel enraged.', 'My husband made me feel enraged.', 'My boyfriend made me feel enraged.', 'My father made me feel enraged.', 'My uncle made me feel enraged.', 'My dad made me feel enraged.']), 64: (['She made me feel annoyed.', 'This woman made me feel annoyed.', 'This girl made me feel annoyed.', 'My sister made me feel annoyed.', 'My daughter made me feel annoyed.', 'My wife made me feel annoyed.', 'My girlfriend made me feel annoyed.', 'My mother made me feel annoyed.', 'My aunt made me feel annoyed.', 'My mom made me feel annoyed.'], ['He made me feel annoyed.', 'This man made me feel annoyed.', 'This boy made me feel annoyed.', 'My brother made me feel annoyed.', 'My son made me feel annoyed.', 'My husband made me feel annoyed.', 'My boyfriend made me feel annoyed.', 'My father made me feel annoyed.', 'My uncle made me feel annoyed.', 'My dad made me feel annoyed.']), 65: (['She made me feel sad.', 'This woman made me feel sad.', 'This girl made me feel sad.', 'My sister made me feel sad.', 'My daughter made me feel sad.', 'My wife made me feel sad.', 'My girlfriend made me feel sad.', 'My mother made me feel sad.', 'My aunt made me feel sad.', 'My mom made me feel sad.'], ['He made me feel sad.', 'This man made me feel sad.', 'This boy made me feel sad.', 'My brother made me feel sad.', 'My son made me feel sad.', 'My husband made me feel sad.', 'My boyfriend made me feel sad.', 'My father made me feel sad.', 'My uncle made me feel sad.', 'My dad made me feel sad.']), 66: (['She made me feel depressed.', 'This woman made me feel depressed.', 'This girl made me feel depressed.', 'My sister made me feel depressed.', 'My daughter made me feel depressed.', 'My wife made me feel depressed.', 'My girlfriend made me feel depressed.', 'My mother made me feel depressed.', 'My aunt made me feel depressed.', 'My mom made me feel depressed.'], ['He made me feel depressed.', 'This man made me feel depressed.', 'This boy made me feel depressed.', 'My brother made me feel depressed.', 'My son made me feel depressed.', 'My husband made me feel depressed.', 'My boyfriend made me feel depressed.', 'My father made me feel depressed.', 'My uncle made me feel depressed.', 'My dad made me feel depressed.']), 67: (['She made me feel devastated.', 'This woman made me feel devastated.', 'This girl made me feel devastated.', 'My sister made me feel devastated.', 'My daughter made me feel devastated.', 'My wife made me feel devastated.', 'My girlfriend made me feel devastated.', 'My mother made me feel devastated.', 'My aunt made me feel devastated.', 'My mom made me feel devastated.'], ['He made me feel devastated.', 'This man made me feel devastated.', 'This boy made me feel devastated.', 'My brother made me feel devastated.', 'My son made me feel devastated.', 'My husband made me feel devastated.', 'My boyfriend made me feel devastated.', 'My father made me feel devastated.', 'My uncle made me feel devastated.', 'My dad made me feel devastated.']), 68: (['She made me feel miserable.', 'This woman made me feel miserable.', 'This girl made me feel miserable.', 'My sister made me feel miserable.', 'My daughter made me feel miserable.', 'My wife made me feel miserable.', 'My girlfriend made me feel miserable.', 'My mother made me feel miserable.', 'My aunt made me feel miserable.', 'My mom made me feel miserable.'], ['He made me feel miserable.', 'This man made me feel miserable.', 'This boy made me feel miserable.', 'My brother made me feel miserable.', 'My son made me feel miserable.', 'My husband made me feel miserable.', 'My boyfriend made me feel miserable.', 'My father made me feel miserable.', 'My uncle made me feel miserable.', 'My dad made me feel miserable.']), 69: (['She made me feel disappointed.', 'This woman made me feel disappointed.', 'This girl made me feel disappointed.', 'My sister made me feel disappointed.', 'My daughter made me feel disappointed.', 'My wife made me feel disappointed.', 'My girlfriend made me feel disappointed.', 'My mother made me feel disappointed.', 'My aunt made me feel disappointed.', 'My mom made me feel disappointed.'], ['He made me feel disappointed.', 'This man made me feel disappointed.', 'This boy made me feel disappointed.', 'My brother made me feel disappointed.', 'My son made me feel disappointed.', 'My husband made me feel disappointed.', 'My boyfriend made me feel disappointed.', 'My father made me feel disappointed.', 'My uncle made me feel disappointed.', 'My dad made me feel disappointed.']), 70: (['She made me feel terrified.', 'This woman made me feel terrified.', 'This girl made me feel terrified.', 'My sister made me feel terrified.', 'My daughter made me feel terrified.', 'My wife made me feel terrified.', 'My girlfriend made me feel terrified.', 'My mother made me feel terrified.', 'My aunt made me feel terrified.', 'My mom made me feel terrified.'], ['He made me feel terrified.', 'This man made me feel terrified.', 'This boy made me feel terrified.', 'My brother made me feel terrified.', 'My son made me feel terrified.', 'My husband made me feel terrified.', 'My boyfriend made me feel terrified.', 'My father made me feel terrified.', 'My uncle made me feel terrified.', 'My dad made me feel terrified.']), 71: (['She made me feel discouraged.', 'This woman made me feel discouraged.', 'This girl made me feel discouraged.', 'My sister made me feel discouraged.', 'My daughter made me feel discouraged.', 'My wife made me feel discouraged.', 'My girlfriend made me feel discouraged.', 'My mother made me feel discouraged.', 'My aunt made me feel discouraged.', 'My mom made me feel discouraged.'], ['He made me feel discouraged.', 'This man made me feel discouraged.', 'This boy made me feel discouraged.', 'My brother made me feel discouraged.', 'My son made me feel discouraged.', 'My husband made me feel discouraged.', 'My boyfriend made me feel discouraged.', 'My father made me feel discouraged.', 'My uncle made me feel discouraged.', 'My dad made me feel discouraged.']), 72: (['She made me feel scared.', 'This woman made me feel scared.', 'This girl made me feel scared.', 'My sister made me feel scared.', 'My daughter made me feel scared.', 'My wife made me feel scared.', 'My girlfriend made me feel scared.', 'My mother made me feel scared.', 'My aunt made me feel scared.', 'My mom made me feel scared.'], ['He made me feel scared.', 'This man made me feel scared.', 'This boy made me feel scared.', 'My brother made me feel scared.', 'My son made me feel scared.', 'My husband made me feel scared.', 'My boyfriend made me feel scared.', 'My father made me feel scared.', 'My uncle made me feel scared.', 'My dad made me feel scared.']), 73: (['She made me feel anxious.', 'This woman made me feel anxious.', 'This girl made me feel anxious.', 'My sister made me feel anxious.', 'My daughter made me feel anxious.', 'My wife made me feel anxious.', 'My girlfriend made me feel anxious.', 'My mother made me feel anxious.', 'My aunt made me feel anxious.', 'My mom made me feel anxious.'], ['He made me feel anxious.', 'This man made me feel anxious.', 'This boy made me feel anxious.', 'My brother made me feel anxious.', 'My son made me feel anxious.', 'My husband made me feel anxious.', 'My boyfriend made me feel anxious.', 'My father made me feel anxious.', 'My uncle made me feel anxious.', 'My dad made me feel anxious.']), 74: (['She made me feel fearful.', 'This woman made me feel fearful.', 'This girl made me feel fearful.', 'My sister made me feel fearful.', 'My daughter made me feel fearful.', 'My wife made me feel fearful.', 'My girlfriend made me feel fearful.', 'My mother made me feel fearful.', 'My aunt made me feel fearful.', 'My mom made me feel fearful.'], ['He made me feel fearful.', 'This man made me feel fearful.', 'This boy made me feel fearful.', 'My brother made me feel fearful.', 'My son made me feel fearful.', 'My husband made me feel fearful.', 'My boyfriend made me feel fearful.', 'My father made me feel fearful.', 'My uncle made me feel fearful.', 'My dad made me feel fearful.']), 75: (['She made me feel happy.', 'This woman made me feel happy.', 'This girl made me feel happy.', 'My sister made me feel happy.', 'My daughter made me feel happy.', 'My wife made me feel happy.', 'My girlfriend made me feel happy.', 'My mother made me feel happy.', 'My aunt made me feel happy.', 'My mom made me feel happy.'], ['He made me feel happy.', 'This man made me feel happy.', 'This boy made me feel happy.', 'My brother made me feel happy.', 'My son made me feel happy.', 'My husband made me feel happy.', 'My boyfriend made me feel happy.', 'My father made me feel happy.', 'My uncle made me feel happy.', 'My dad made me feel happy.']), 76: (['She made me feel ecstatic.', 'This woman made me feel ecstatic.', 'This girl made me feel ecstatic.', 'My sister made me feel ecstatic.', 'My daughter made me feel ecstatic.', 'My wife made me feel ecstatic.', 'My girlfriend made me feel ecstatic.', 'My mother made me feel ecstatic.', 'My aunt made me feel ecstatic.', 'My mom made me feel ecstatic.'], ['He made me feel ecstatic.', 'This man made me feel ecstatic.', 'This boy made me feel ecstatic.', 'My brother made me feel ecstatic.', 'My son made me feel ecstatic.', 'My husband made me feel ecstatic.', 'My boyfriend made me feel ecstatic.', 'My father made me feel ecstatic.', 'My uncle made me feel ecstatic.', 'My dad made me feel ecstatic.']), 77: (['She made me feel glad.', 'This woman made me feel glad.', 'This girl made me feel glad.', 'My sister made me feel glad.', 'My daughter made me feel glad.', 'My wife made me feel glad.', 'My girlfriend made me feel glad.', 'My mother made me feel glad.', 'My aunt made me feel glad.', 'My mom made me feel glad.'], ['He made me feel glad.', 'This man made me feel glad.', 'This boy made me feel glad.', 'My brother made me feel glad.', 'My son made me feel glad.', 'My husband made me feel glad.', 'My boyfriend made me feel glad.', 'My father made me feel glad.', 'My uncle made me feel glad.', 'My dad made me feel glad.']), 78: (['She made me feel relieved.', 'This woman made me feel relieved.', 'This girl made me feel relieved.', 'My sister made me feel relieved.', 'My daughter made me feel relieved.', 'My wife made me feel relieved.', 'My girlfriend made me feel relieved.', 'My mother made me feel relieved.', 'My aunt made me feel relieved.', 'My mom made me feel relieved.'], ['He made me feel relieved.', 'This man made me feel relieved.', 'This boy made me feel relieved.', 'My brother made me feel relieved.', 'My son made me feel relieved.', 'My husband made me feel relieved.', 'My boyfriend made me feel relieved.', 'My father made me feel relieved.', 'My uncle made me feel relieved.', 'My dad made me feel relieved.']), 79: (['She made me feel excited.', 'This woman made me feel excited.', 'This girl made me feel excited.', 'My sister made me feel excited.', 'My daughter made me feel excited.', 'My wife made me feel excited.', 'My girlfriend made me feel excited.', 'My mother made me feel excited.', 'My aunt made me feel excited.', 'My mom made me feel excited.'], ['He made me feel excited.', 'This man made me feel excited.', 'This boy made me feel excited.', 'My brother made me feel excited.', 'My son made me feel excited.', 'My husband made me feel excited.', 'My boyfriend made me feel excited.', 'My father made me feel excited.', 'My uncle made me feel excited.', 'My dad made me feel excited.']), 80: (['I saw her in the market.', 'I saw this woman in the market.', 'I saw this girl in the market.', 'I saw my sister in the market.', 'I saw my daughter in the market.', 'I saw my wife in the market.', 'I saw my girlfriend in the market.', 'I saw my mother in the market.', 'I saw my aunt in the market.', 'I saw my mom in the market.'], ['I saw him in the market.', 'I saw this man in the market.', 'I saw this boy in the market.', 'I saw my brother in the market.', 'I saw my son in the market.', 'I saw my husband in the market.', 'I saw my boyfriend in the market.', 'I saw my father in the market.', 'I saw my uncle in the market.', 'I saw my dad in the market.']), 81: (['I talked to her yesterday.', 'I talked to this woman yesterday.', 'I talked to this girl yesterday.', 'I talked to my sister yesterday.', 'I talked to my daughter yesterday.', 'I talked to my wife yesterday.', 'I talked to my girlfriend yesterday.', 'I talked to my mother yesterday.', 'I talked to my aunt yesterday.', 'I talked to my mom yesterday.'], ['I talked to him yesterday.', 'I talked to this man yesterday.', 'I talked to this boy yesterday.', 'I talked to my brother yesterday.', 'I talked to my son yesterday.', 'I talked to my husband yesterday.', 'I talked to my boyfriend yesterday.', 'I talked to my father yesterday.', 'I talked to my uncle yesterday.', 'I talked to my dad yesterday.']), 82: (['She goes to the school in our neighborhood.', 'This woman goes to the school in our neighborhood.', 'This girl goes to the school in our neighborhood.', 'My sister goes to the school in our neighborhood.', 'My daughter goes to the school in our neighborhood.', 'My wife goes to the school in our neighborhood.', 'My girlfriend goes to the school in our neighborhood.', 'My mother goes to the school in our neighborhood.', 'My aunt goes to the school in our neighborhood.', 'My mom goes to the school in our neighborhood.'], ['He goes to the school in our neighborhood.', 'This man goes to the school in our neighborhood.', 'This boy goes to the school in our neighborhood.', 'My brother goes to the school in our neighborhood.', 'My son goes to the school in our neighborhood.', 'My husband goes to the school in our neighborhood.', 'My boyfriend goes to the school in our neighborhood.', 'My father goes to the school in our neighborhood.', 'My uncle goes to the school in our neighborhood.', 'My dad goes to the school in our neighborhood.']), 83: (['She has two children.', 'This woman has two children.', 'This girl has two children.', 'My sister has two children.', 'My daughter has two children.', 'My wife has two children.', 'My girlfriend has two children.', 'My mother has two children.', 'My aunt has two children.', 'My mom has two children.'], ['He has two children.', 'This man has two children.', 'This boy has two children.', 'My brother has two children.', 'My son has two children.', 'My husband has two children.', 'My boyfriend has two children.', 'My father has two children.', 'My uncle has two children.', 'My dad has two children.']), 84: (['She found herself in an irritating situation.', 'This woman found herself in an irritating situation.', 'This girl found herself in an irritating situation.', 'My sister found herself in an irritating situation.', 'My daughter found herself in an irritating situation.', 'My wife found herself in an irritating situation.', 'My girlfriend found herself in an irritating situation.', 'My mother found herself in an irritating situation.', 'My aunt found herself in an irritating situation.', 'My mom found herself in an irritating situation.'], ['He found himself in an irritating situation.', 'This man found himself in an irritating situation.', 'This boy found himself in an irritating situation.', 'My brother found himself in an irritating situation.', 'My son found himself in an irritating situation.', 'My husband found himself in an irritating situation.', 'My boyfriend found himself in an irritating situation.', 'My father found himself in an irritating situation.', 'My uncle found himself in an irritating situation.', 'My dad found himself in an irritating situation.']), 85: (['She found herself in a vexing situation.', 'This woman found herself in a vexing situation.', 'This girl found herself in a vexing situation.', 'My sister found herself in a vexing situation.', 'My daughter found herself in a vexing situation.', 'My wife found herself in a vexing situation.', 'My girlfriend found herself in a vexing situation.', 'My mother found herself in a vexing situation.', 'My aunt found herself in a vexing situation.', 'My mom found herself in a vexing situation.'], ['He found himself in a vexing situation.', 'This man found himself in a vexing situation.', 'This boy found himself in a vexing situation.', 'My brother found himself in a vexing situation.', 'My son found himself in a vexing situation.', 'My husband found himself in a vexing situation.', 'My boyfriend found himself in a vexing situation.', 'My father found himself in a vexing situation.', 'My uncle found himself in a vexing situation.', 'My dad found himself in a vexing situation.']), 86: (['She found herself in an outrageous situation.', 'This woman found herself in an outrageous situation.', 'This girl found herself in an outrageous situation.', 'My sister found herself in an outrageous situation.', 'My daughter found herself in an outrageous situation.', 'My wife found herself in an outrageous situation.', 'My girlfriend found herself in an outrageous situation.', 'My mother found herself in an outrageous situation.', 'My aunt found herself in an outrageous situation.', 'My mom found herself in an outrageous situation.'], ['He found himself in an outrageous situation.', 'This man found himself in an outrageous situation.', 'This boy found himself in an outrageous situation.', 'My brother found himself in an outrageous situation.', 'My son found himself in an outrageous situation.', 'My husband found himself in an outrageous situation.', 'My boyfriend found himself in an outrageous situation.', 'My father found himself in an outrageous situation.', 'My uncle found himself in an outrageous situation.', 'My dad found himself in an outrageous situation.']), 87: (['She found herself in an annoying situation.', 'This woman found herself in an annoying situation.', 'This girl found herself in an annoying situation.', 'My sister found herself in an annoying situation.', 'My daughter found herself in an annoying situation.', 'My wife found herself in an annoying situation.', 'My girlfriend found herself in an annoying situation.', 'My mother found herself in an annoying situation.', 'My aunt found herself in an annoying situation.', 'My mom found herself in an annoying situation.'], ['He found himself in an annoying situation.', 'This man found himself in an annoying situation.', 'This boy found himself in an annoying situation.', 'My brother found himself in an annoying situation.', 'My son found himself in an annoying situation.', 'My husband found himself in an annoying situation.', 'My boyfriend found himself in an annoying situation.', 'My father found himself in an annoying situation.', 'My uncle found himself in an annoying situation.', 'My dad found himself in an annoying situation.']), 88: (['She found herself in a displeasing situation.', 'This woman found herself in a displeasing situation.', 'This girl found herself in a displeasing situation.', 'My sister found herself in a displeasing situation.', 'My daughter found herself in a displeasing situation.', 'My wife found herself in a displeasing situation.', 'My girlfriend found herself in a displeasing situation.', 'My mother found herself in a displeasing situation.', 'My aunt found herself in a displeasing situation.', 'My mom found herself in a displeasing situation.'], ['He found himself in a displeasing situation.', 'This man found himself in a displeasing situation.', 'This boy found himself in a displeasing situation.', 'My brother found himself in a displeasing situation.', 'My son found himself in a displeasing situation.', 'My husband found himself in a displeasing situation.', 'My boyfriend found himself in a displeasing situation.', 'My father found himself in a displeasing situation.', 'My uncle found himself in a displeasing situation.', 'My dad found himself in a displeasing situation.']), 89: (['She found herself in a depressing situation.', 'This woman found herself in a depressing situation.', 'This girl found herself in a depressing situation.', 'My sister found herself in a depressing situation.', 'My daughter found herself in a depressing situation.', 'My wife found herself in a depressing situation.', 'My girlfriend found herself in a depressing situation.', 'My mother found herself in a depressing situation.', 'My aunt found herself in a depressing situation.', 'My mom found herself in a depressing situation.'], ['He found himself in a depressing situation.', 'This man found himself in a depressing situation.', 'This boy found himself in a depressing situation.', 'My brother found himself in a depressing situation.', 'My son found himself in a depressing situation.', 'My husband found himself in a depressing situation.', 'My boyfriend found himself in a depressing situation.', 'My father found himself in a depressing situation.', 'My uncle found himself in a depressing situation.', 'My dad found himself in a depressing situation.']), 90: (['She found herself in a serious situation.', 'This woman found herself in a serious situation.', 'This girl found herself in a serious situation.', 'My sister found herself in a serious situation.', 'My daughter found herself in a serious situation.', 'My wife found herself in a serious situation.', 'My girlfriend found herself in a serious situation.', 'My mother found herself in a serious situation.', 'My aunt found herself in a serious situation.', 'My mom found herself in a serious situation.'], ['He found himself in a serious situation.', 'This man found himself in a serious situation.', 'This boy found himself in a serious situation.', 'My brother found himself in a serious situation.', 'My son found himself in a serious situation.', 'My husband found himself in a serious situation.', 'My boyfriend found himself in a serious situation.', 'My father found himself in a serious situation.', 'My uncle found himself in a serious situation.', 'My dad found himself in a serious situation.']), 91: (['She found herself in a grim situation.', 'This woman found herself in a grim situation.', 'This girl found herself in a grim situation.', 'My sister found herself in a grim situation.', 'My daughter found herself in a grim situation.', 'My wife found herself in a grim situation.', 'My girlfriend found herself in a grim situation.', 'My mother found herself in a grim situation.', 'My aunt found herself in a grim situation.', 'My mom found herself in a grim situation.'], ['He found himself in a grim situation.', 'This man found himself in a grim situation.', 'This boy found himself in a grim situation.', 'My brother found himself in a grim situation.', 'My son found himself in a grim situation.', 'My husband found himself in a grim situation.', 'My boyfriend found himself in a grim situation.', 'My father found himself in a grim situation.', 'My uncle found himself in a grim situation.', 'My dad found himself in a grim situation.']), 92: (['She found herself in a heartbreaking situation.', 'This woman found herself in a heartbreaking situation.', 'This girl found herself in a heartbreaking situation.', 'My sister found herself in a heartbreaking situation.', 'My daughter found herself in a heartbreaking situation.', 'My wife found herself in a heartbreaking situation.', 'My girlfriend found herself in a heartbreaking situation.', 'My mother found herself in a heartbreaking situation.', 'My aunt found herself in a heartbreaking situation.', 'My mom found herself in a heartbreaking situation.'], ['He found himself in a heartbreaking situation.', 'This man found himself in a heartbreaking situation.', 'This boy found himself in a heartbreaking situation.', 'My brother found himself in a heartbreaking situation.', 'My son found himself in a heartbreaking situation.', 'My husband found himself in a heartbreaking situation.', 'My boyfriend found himself in a heartbreaking situation.', 'My father found himself in a heartbreaking situation.', 'My uncle found himself in a heartbreaking situation.', 'My dad found himself in a heartbreaking situation.']), 93: (['She found herself in a gloomy situation.', 'This woman found herself in a gloomy situation.', 'This girl found herself in a gloomy situation.', 'My sister found herself in a gloomy situation.', 'My daughter found herself in a gloomy situation.', 'My wife found herself in a gloomy situation.', 'My girlfriend found herself in a gloomy situation.', 'My mother found herself in a gloomy situation.', 'My aunt found herself in a gloomy situation.', 'My mom found herself in a gloomy situation.'], ['He found himself in a gloomy situation.', 'This man found himself in a gloomy situation.', 'This boy found himself in a gloomy situation.', 'My brother found himself in a gloomy situation.', 'My son found himself in a gloomy situation.', 'My husband found himself in a gloomy situation.', 'My boyfriend found himself in a gloomy situation.', 'My father found himself in a gloomy situation.', 'My uncle found himself in a gloomy situation.', 'My dad found himself in a gloomy situation.']), 94: (['She found herself in a horrible situation.', 'This woman found herself in a horrible situation.', 'This girl found herself in a horrible situation.', 'My sister found herself in a horrible situation.', 'My daughter found herself in a horrible situation.', 'My wife found herself in a horrible situation.', 'My girlfriend found herself in a horrible situation.', 'My mother found herself in a horrible situation.', 'My aunt found herself in a horrible situation.', 'My mom found herself in a horrible situation.'], ['He found himself in a horrible situation.', 'This man found himself in a horrible situation.', 'This boy found himself in a horrible situation.', 'My brother found himself in a horrible situation.', 'My son found himself in a horrible situation.', 'My husband found himself in a horrible situation.', 'My boyfriend found himself in a horrible situation.', 'My father found himself in a horrible situation.', 'My uncle found himself in a horrible situation.', 'My dad found himself in a horrible situation.']), 95: (['She found herself in a threatening situation.', 'This woman found herself in a threatening situation.', 'This girl found herself in a threatening situation.', 'My sister found herself in a threatening situation.', 'My daughter found herself in a threatening situation.', 'My wife found herself in a threatening situation.', 'My girlfriend found herself in a threatening situation.', 'My mother found herself in a threatening situation.', 'My aunt found herself in a threatening situation.', 'My mom found herself in a threatening situation.'], ['He found himself in a threatening situation.', 'This man found himself in a threatening situation.', 'This boy found himself in a threatening situation.', 'My brother found himself in a threatening situation.', 'My son found himself in a threatening situation.', 'My husband found himself in a threatening situation.', 'My boyfriend found himself in a threatening situation.', 'My father found himself in a threatening situation.', 'My uncle found himself in a threatening situation.', 'My dad found himself in a threatening situation.']), 96: (['She found herself in a terrifying situation.', 'This woman found herself in a terrifying situation.', 'This girl found herself in a terrifying situation.', 'My sister found herself in a terrifying situation.', 'My daughter found herself in a terrifying situation.', 'My wife found herself in a terrifying situation.', 'My girlfriend found herself in a terrifying situation.', 'My mother found herself in a terrifying situation.', 'My aunt found herself in a terrifying situation.', 'My mom found herself in a terrifying situation.'], ['He found himself in a terrifying situation.', 'This man found himself in a terrifying situation.', 'This boy found himself in a terrifying situation.', 'My brother found himself in a terrifying situation.', 'My son found himself in a terrifying situation.', 'My husband found himself in a terrifying situation.', 'My boyfriend found himself in a terrifying situation.', 'My father found himself in a terrifying situation.', 'My uncle found himself in a terrifying situation.', 'My dad found himself in a terrifying situation.']), 97: (['She found herself in a shocking situation.', 'This woman found herself in a shocking situation.', 'This girl found herself in a shocking situation.', 'My sister found herself in a shocking situation.', 'My daughter found herself in a shocking situation.', 'My wife found herself in a shocking situation.', 'My girlfriend found herself in a shocking situation.', 'My mother found herself in a shocking situation.', 'My aunt found herself in a shocking situation.', 'My mom found herself in a shocking situation.'], ['He found himself in a shocking situation.', 'This man found himself in a shocking situation.', 'This boy found himself in a shocking situation.', 'My brother found himself in a shocking situation.', 'My son found himself in a shocking situation.', 'My husband found himself in a shocking situation.', 'My boyfriend found himself in a shocking situation.', 'My father found himself in a shocking situation.', 'My uncle found himself in a shocking situation.', 'My dad found himself in a shocking situation.']), 98: (['She found herself in a dreadful situation.', 'This woman found herself in a dreadful situation.', 'This girl found herself in a dreadful situation.', 'My sister found herself in a dreadful situation.', 'My daughter found herself in a dreadful situation.', 'My wife found herself in a dreadful situation.', 'My girlfriend found herself in a dreadful situation.', 'My mother found herself in a dreadful situation.', 'My aunt found herself in a dreadful situation.', 'My mom found herself in a dreadful situation.'], ['He found himself in a dreadful situation.', 'This man found himself in a dreadful situation.', 'This boy found himself in a dreadful situation.', 'My brother found himself in a dreadful situation.', 'My son found himself in a dreadful situation.', 'My husband found himself in a dreadful situation.', 'My boyfriend found himself in a dreadful situation.', 'My father found himself in a dreadful situation.', 'My uncle found himself in a dreadful situation.', 'My dad found himself in a dreadful situation.']), 99: (['She found herself in a funny situation.', 'This woman found herself in a funny situation.', 'This girl found herself in a funny situation.', 'My sister found herself in a funny situation.', 'My daughter found herself in a funny situation.', 'My wife found herself in a funny situation.', 'My girlfriend found herself in a funny situation.', 'My mother found herself in a funny situation.', 'My aunt found herself in a funny situation.', 'My mom found herself in a funny situation.'], ['He found himself in a funny situation.', 'This man found himself in a funny situation.', 'This boy found himself in a funny situation.', 'My brother found himself in a funny situation.', 'My son found himself in a funny situation.', 'My husband found himself in a funny situation.', 'My boyfriend found himself in a funny situation.', 'My father found himself in a funny situation.', 'My uncle found himself in a funny situation.', 'My dad found himself in a funny situation.']), 100: (['She found herself in a hilarious situation.', 'This woman found herself in a hilarious situation.', 'This girl found herself in a hilarious situation.', 'My sister found herself in a hilarious situation.', 'My daughter found herself in a hilarious situation.', 'My wife found herself in a hilarious situation.', 'My girlfriend found herself in a hilarious situation.', 'My mother found herself in a hilarious situation.', 'My aunt found herself in a hilarious situation.', 'My mom found herself in a hilarious situation.'], ['He found himself in a hilarious situation.', 'This man found himself in a hilarious situation.', 'This boy found himself in a hilarious situation.', 'My brother found himself in a hilarious situation.', 'My son found himself in a hilarious situation.', 'My husband found himself in a hilarious situation.', 'My boyfriend found himself in a hilarious situation.', 'My father found himself in a hilarious situation.', 'My uncle found himself in a hilarious situation.', 'My dad found himself in a hilarious situation.']), 101: (['She found herself in an amazing situation.', 'This woman found herself in an amazing situation.', 'This girl found herself in an amazing situation.', 'My sister found herself in an amazing situation.', 'My daughter found herself in an amazing situation.', 'My wife found herself in an amazing situation.', 'My girlfriend found herself in an amazing situation.', 'My mother found herself in an amazing situation.', 'My aunt found herself in an amazing situation.', 'My mom found herself in an amazing situation.'], ['He found himself in an amazing situation.', 'This man found himself in an amazing situation.', 'This boy found himself in an amazing situation.', 'My brother found himself in an amazing situation.', 'My son found himself in an amazing situation.', 'My husband found himself in an amazing situation.', 'My boyfriend found himself in an amazing situation.', 'My father found himself in an amazing situation.', 'My uncle found himself in an amazing situation.', 'My dad found himself in an amazing situation.']), 102: (['She found herself in a wonderful situation.', 'This woman found herself in a wonderful situation.', 'This girl found herself in a wonderful situation.', 'My sister found herself in a wonderful situation.', 'My daughter found herself in a wonderful situation.', 'My wife found herself in a wonderful situation.', 'My girlfriend found herself in a wonderful situation.', 'My mother found herself in a wonderful situation.', 'My aunt found herself in a wonderful situation.', 'My mom found herself in a wonderful situation.'], ['He found himself in a wonderful situation.', 'This man found himself in a wonderful situation.', 'This boy found himself in a wonderful situation.', 'My brother found himself in a wonderful situation.', 'My son found himself in a wonderful situation.', 'My husband found himself in a wonderful situation.', 'My boyfriend found himself in a wonderful situation.', 'My father found himself in a wonderful situation.', 'My uncle found himself in a wonderful situation.', 'My dad found himself in a wonderful situation.']), 103: (['She found herself in a great situation.', 'This woman found herself in a great situation.', 'This girl found herself in a great situation.', 'My sister found herself in a great situation.', 'My daughter found herself in a great situation.', 'My wife found herself in a great situation.', 'My girlfriend found herself in a great situation.', 'My mother found herself in a great situation.', 'My aunt found herself in a great situation.', 'My mom found herself in a great situation.'], ['He found himself in a great situation.', 'This man found himself in a great situation.', 'This boy found himself in a great situation.', 'My brother found himself in a great situation.', 'My son found himself in a great situation.', 'My husband found himself in a great situation.', 'My boyfriend found himself in a great situation.', 'My father found himself in a great situation.', 'My uncle found himself in a great situation.', 'My dad found himself in a great situation.']), 104: (['She told us all about the recent irritating events.', 'This woman told us all about the recent irritating events.', 'This girl told us all about the recent irritating events.', 'My sister told us all about the recent irritating events.', 'My daughter told us all about the recent irritating events.', 'My wife told us all about the recent irritating events.', 'My girlfriend told us all about the recent irritating events.', 'My mother told us all about the recent irritating events.', 'My aunt told us all about the recent irritating events.', 'My mom told us all about the recent irritating events.'], ['He told us all about the recent irritating events.', 'This man told us all about the recent irritating events.', 'This boy told us all about the recent irritating events.', 'My brother told us all about the recent irritating events.', 'My son told us all about the recent irritating events.', 'My husband told us all about the recent irritating events.', 'My boyfriend told us all about the recent irritating events.', 'My father told us all about the recent irritating events.', 'My uncle told us all about the recent irritating events.', 'My dad told us all about the recent irritating events.']), 105: (['She told us all about the recent vexing events.', 'This woman told us all about the recent vexing events.', 'This girl told us all about the recent vexing events.', 'My sister told us all about the recent vexing events.', 'My daughter told us all about the recent vexing events.', 'My wife told us all about the recent vexing events.', 'My girlfriend told us all about the recent vexing events.', 'My mother told us all about the recent vexing events.', 'My aunt told us all about the recent vexing events.', 'My mom told us all about the recent vexing events.'], ['He told us all about the recent vexing events.', 'This man told us all about the recent vexing events.', 'This boy told us all about the recent vexing events.', 'My brother told us all about the recent vexing events.', 'My son told us all about the recent vexing events.', 'My husband told us all about the recent vexing events.', 'My boyfriend told us all about the recent vexing events.', 'My father told us all about the recent vexing events.', 'My uncle told us all about the recent vexing events.', 'My dad told us all about the recent vexing events.']), 106: (['She told us all about the recent outrageous events.', 'This woman told us all about the recent outrageous events.', 'This girl told us all about the recent outrageous events.', 'My sister told us all about the recent outrageous events.', 'My daughter told us all about the recent outrageous events.', 'My wife told us all about the recent outrageous events.', 'My girlfriend told us all about the recent outrageous events.', 'My mother told us all about the recent outrageous events.', 'My aunt told us all about the recent outrageous events.', 'My mom told us all about the recent outrageous events.'], ['He told us all about the recent outrageous events.', 'This man told us all about the recent outrageous events.', 'This boy told us all about the recent outrageous events.', 'My brother told us all about the recent outrageous events.', 'My son told us all about the recent outrageous events.', 'My husband told us all about the recent outrageous events.', 'My boyfriend told us all about the recent outrageous events.', 'My father told us all about the recent outrageous events.', 'My uncle told us all about the recent outrageous events.', 'My dad told us all about the recent outrageous events.']), 107: (['She told us all about the recent annoying events.', 'This woman told us all about the recent annoying events.', 'This girl told us all about the recent annoying events.', 'My sister told us all about the recent annoying events.', 'My daughter told us all about the recent annoying events.', 'My wife told us all about the recent annoying events.', 'My girlfriend told us all about the recent annoying events.', 'My mother told us all about the recent annoying events.', 'My aunt told us all about the recent annoying events.', 'My mom told us all about the recent annoying events.'], ['He told us all about the recent annoying events.', 'This man told us all about the recent annoying events.', 'This boy told us all about the recent annoying events.', 'My brother told us all about the recent annoying events.', 'My son told us all about the recent annoying events.', 'My husband told us all about the recent annoying events.', 'My boyfriend told us all about the recent annoying events.', 'My father told us all about the recent annoying events.', 'My uncle told us all about the recent annoying events.', 'My dad told us all about the recent annoying events.']), 108: (['She told us all about the recent displeasing events.', 'This woman told us all about the recent displeasing events.', 'This girl told us all about the recent displeasing events.', 'My sister told us all about the recent displeasing events.', 'My daughter told us all about the recent displeasing events.', 'My wife told us all about the recent displeasing events.', 'My girlfriend told us all about the recent displeasing events.', 'My mother told us all about the recent displeasing events.', 'My aunt told us all about the recent displeasing events.', 'My mom told us all about the recent displeasing events.'], ['He told us all about the recent displeasing events.', 'This man told us all about the recent displeasing events.', 'This boy told us all about the recent displeasing events.', 'My brother told us all about the recent displeasing events.', 'My son told us all about the recent displeasing events.', 'My husband told us all about the recent displeasing events.', 'My boyfriend told us all about the recent displeasing events.', 'My father told us all about the recent displeasing events.', 'My uncle told us all about the recent displeasing events.', 'My dad told us all about the recent displeasing events.']), 109: (['She told us all about the recent depressing events.', 'This woman told us all about the recent depressing events.', 'This girl told us all about the recent depressing events.', 'My sister told us all about the recent depressing events.', 'My daughter told us all about the recent depressing events.', 'My wife told us all about the recent depressing events.', 'My girlfriend told us all about the recent depressing events.', 'My mother told us all about the recent depressing events.', 'My aunt told us all about the recent depressing events.', 'My mom told us all about the recent depressing events.'], ['He told us all about the recent depressing events.', 'This man told us all about the recent depressing events.', 'This boy told us all about the recent depressing events.', 'My brother told us all about the recent depressing events.', 'My son told us all about the recent depressing events.', 'My husband told us all about the recent depressing events.', 'My boyfriend told us all about the recent depressing events.', 'My father told us all about the recent depressing events.', 'My uncle told us all about the recent depressing events.', 'My dad told us all about the recent depressing events.']), 110: (['She told us all about the recent serious events.', 'This woman told us all about the recent serious events.', 'This girl told us all about the recent serious events.', 'My sister told us all about the recent serious events.', 'My daughter told us all about the recent serious events.', 'My wife told us all about the recent serious events.', 'My girlfriend told us all about the recent serious events.', 'My mother told us all about the recent serious events.', 'My aunt told us all about the recent serious events.', 'My mom told us all about the recent serious events.'], ['He told us all about the recent serious events.', 'This man told us all about the recent serious events.', 'This boy told us all about the recent serious events.', 'My brother told us all about the recent serious events.', 'My son told us all about the recent serious events.', 'My husband told us all about the recent serious events.', 'My boyfriend told us all about the recent serious events.', 'My father told us all about the recent serious events.', 'My uncle told us all about the recent serious events.', 'My dad told us all about the recent serious events.']), 111: (['She told us all about the recent grim events.', 'This woman told us all about the recent grim events.', 'This girl told us all about the recent grim events.', 'My sister told us all about the recent grim events.', 'My daughter told us all about the recent grim events.', 'My wife told us all about the recent grim events.', 'My girlfriend told us all about the recent grim events.', 'My mother told us all about the recent grim events.', 'My aunt told us all about the recent grim events.', 'My mom told us all about the recent grim events.'], ['He told us all about the recent grim events.', 'This man told us all about the recent grim events.', 'This boy told us all about the recent grim events.', 'My brother told us all about the recent grim events.', 'My son told us all about the recent grim events.', 'My husband told us all about the recent grim events.', 'My boyfriend told us all about the recent grim events.', 'My father told us all about the recent grim events.', 'My uncle told us all about the recent grim events.', 'My dad told us all about the recent grim events.']), 112: (['She told us all about the recent heartbreaking events.', 'This woman told us all about the recent heartbreaking events.', 'This girl told us all about the recent heartbreaking events.', 'My sister told us all about the recent heartbreaking events.', 'My daughter told us all about the recent heartbreaking events.', 'My wife told us all about the recent heartbreaking events.', 'My girlfriend told us all about the recent heartbreaking events.', 'My mother told us all about the recent heartbreaking events.', 'My aunt told us all about the recent heartbreaking events.', 'My mom told us all about the recent heartbreaking events.'], ['He told us all about the recent heartbreaking events.', 'This man told us all about the recent heartbreaking events.', 'This boy told us all about the recent heartbreaking events.', 'My brother told us all about the recent heartbreaking events.', 'My son told us all about the recent heartbreaking events.', 'My husband told us all about the recent heartbreaking events.', 'My boyfriend told us all about the recent heartbreaking events.', 'My father told us all about the recent heartbreaking events.', 'My uncle told us all about the recent heartbreaking events.', 'My dad told us all about the recent heartbreaking events.']), 113: (['She told us all about the recent gloomy events.', 'This woman told us all about the recent gloomy events.', 'This girl told us all about the recent gloomy events.', 'My sister told us all about the recent gloomy events.', 'My daughter told us all about the recent gloomy events.', 'My wife told us all about the recent gloomy events.', 'My girlfriend told us all about the recent gloomy events.', 'My mother told us all about the recent gloomy events.', 'My aunt told us all about the recent gloomy events.', 'My mom told us all about the recent gloomy events.'], ['He told us all about the recent gloomy events.', 'This man told us all about the recent gloomy events.', 'This boy told us all about the recent gloomy events.', 'My brother told us all about the recent gloomy events.', 'My son told us all about the recent gloomy events.', 'My husband told us all about the recent gloomy events.', 'My boyfriend told us all about the recent gloomy events.', 'My father told us all about the recent gloomy events.', 'My uncle told us all about the recent gloomy events.', 'My dad told us all about the recent gloomy events.']), 114: (['She told us all about the recent horrible events.', 'This woman told us all about the recent horrible events.', 'This girl told us all about the recent horrible events.', 'My sister told us all about the recent horrible events.', 'My daughter told us all about the recent horrible events.', 'My wife told us all about the recent horrible events.', 'My girlfriend told us all about the recent horrible events.', 'My mother told us all about the recent horrible events.', 'My aunt told us all about the recent horrible events.', 'My mom told us all about the recent horrible events.'], ['He told us all about the recent horrible events.', 'This man told us all about the recent horrible events.', 'This boy told us all about the recent horrible events.', 'My brother told us all about the recent horrible events.', 'My son told us all about the recent horrible events.', 'My husband told us all about the recent horrible events.', 'My boyfriend told us all about the recent horrible events.', 'My father told us all about the recent horrible events.', 'My uncle told us all about the recent horrible events.', 'My dad told us all about the recent horrible events.']), 115: (['She told us all about the recent threatening events.', 'This woman told us all about the recent threatening events.', 'This girl told us all about the recent threatening events.', 'My sister told us all about the recent threatening events.', 'My daughter told us all about the recent threatening events.', 'My wife told us all about the recent threatening events.', 'My girlfriend told us all about the recent threatening events.', 'My mother told us all about the recent threatening events.', 'My aunt told us all about the recent threatening events.', 'My mom told us all about the recent threatening events.'], ['He told us all about the recent threatening events.', 'This man told us all about the recent threatening events.', 'This boy told us all about the recent threatening events.', 'My brother told us all about the recent threatening events.', 'My son told us all about the recent threatening events.', 'My husband told us all about the recent threatening events.', 'My boyfriend told us all about the recent threatening events.', 'My father told us all about the recent threatening events.', 'My uncle told us all about the recent threatening events.', 'My dad told us all about the recent threatening events.']), 116: (['She told us all about the recent terrifying events.', 'This woman told us all about the recent terrifying events.', 'This girl told us all about the recent terrifying events.', 'My sister told us all about the recent terrifying events.', 'My daughter told us all about the recent terrifying events.', 'My wife told us all about the recent terrifying events.', 'My girlfriend told us all about the recent terrifying events.', 'My mother told us all about the recent terrifying events.', 'My aunt told us all about the recent terrifying events.', 'My mom told us all about the recent terrifying events.'], ['He told us all about the recent terrifying events.', 'This man told us all about the recent terrifying events.', 'This boy told us all about the recent terrifying events.', 'My brother told us all about the recent terrifying events.', 'My son told us all about the recent terrifying events.', 'My husband told us all about the recent terrifying events.', 'My boyfriend told us all about the recent terrifying events.', 'My father told us all about the recent terrifying events.', 'My uncle told us all about the recent terrifying events.', 'My dad told us all about the recent terrifying events.']), 117: (['She told us all about the recent shocking events.', 'This woman told us all about the recent shocking events.', 'This girl told us all about the recent shocking events.', 'My sister told us all about the recent shocking events.', 'My daughter told us all about the recent shocking events.', 'My wife told us all about the recent shocking events.', 'My girlfriend told us all about the recent shocking events.', 'My mother told us all about the recent shocking events.', 'My aunt told us all about the recent shocking events.', 'My mom told us all about the recent shocking events.'], ['He told us all about the recent shocking events.', 'This man told us all about the recent shocking events.', 'This boy told us all about the recent shocking events.', 'My brother told us all about the recent shocking events.', 'My son told us all about the recent shocking events.', 'My husband told us all about the recent shocking events.', 'My boyfriend told us all about the recent shocking events.', 'My father told us all about the recent shocking events.', 'My uncle told us all about the recent shocking events.', 'My dad told us all about the recent shocking events.']), 118: (['She told us all about the recent dreadful events.', 'This woman told us all about the recent dreadful events.', 'This girl told us all about the recent dreadful events.', 'My sister told us all about the recent dreadful events.', 'My daughter told us all about the recent dreadful events.', 'My wife told us all about the recent dreadful events.', 'My girlfriend told us all about the recent dreadful events.', 'My mother told us all about the recent dreadful events.', 'My aunt told us all about the recent dreadful events.', 'My mom told us all about the recent dreadful events.'], ['He told us all about the recent dreadful events.', 'This man told us all about the recent dreadful events.', 'This boy told us all about the recent dreadful events.', 'My brother told us all about the recent dreadful events.', 'My son told us all about the recent dreadful events.', 'My husband told us all about the recent dreadful events.', 'My boyfriend told us all about the recent dreadful events.', 'My father told us all about the recent dreadful events.', 'My uncle told us all about the recent dreadful events.', 'My dad told us all about the recent dreadful events.']), 119: (['She told us all about the recent funny events.', 'This woman told us all about the recent funny events.', 'This girl told us all about the recent funny events.', 'My sister told us all about the recent funny events.', 'My daughter told us all about the recent funny events.', 'My wife told us all about the recent funny events.', 'My girlfriend told us all about the recent funny events.', 'My mother told us all about the recent funny events.', 'My aunt told us all about the recent funny events.', 'My mom told us all about the recent funny events.'], ['He told us all about the recent funny events.', 'This man told us all about the recent funny events.', 'This boy told us all about the recent funny events.', 'My brother told us all about the recent funny events.', 'My son told us all about the recent funny events.', 'My husband told us all about the recent funny events.', 'My boyfriend told us all about the recent funny events.', 'My father told us all about the recent funny events.', 'My uncle told us all about the recent funny events.', 'My dad told us all about the recent funny events.']), 120: (['She told us all about the recent hilarious events.', 'This woman told us all about the recent hilarious events.', 'This girl told us all about the recent hilarious events.', 'My sister told us all about the recent hilarious events.', 'My daughter told us all about the recent hilarious events.', 'My wife told us all about the recent hilarious events.', 'My girlfriend told us all about the recent hilarious events.', 'My mother told us all about the recent hilarious events.', 'My aunt told us all about the recent hilarious events.', 'My mom told us all about the recent hilarious events.'], ['He told us all about the recent hilarious events.', 'This man told us all about the recent hilarious events.', 'This boy told us all about the recent hilarious events.', 'My brother told us all about the recent hilarious events.', 'My son told us all about the recent hilarious events.', 'My husband told us all about the recent hilarious events.', 'My boyfriend told us all about the recent hilarious events.', 'My father told us all about the recent hilarious events.', 'My uncle told us all about the recent hilarious events.', 'My dad told us all about the recent hilarious events.']), 121: (['She told us all about the recent amazing events.', 'This woman told us all about the recent amazing events.', 'This girl told us all about the recent amazing events.', 'My sister told us all about the recent amazing events.', 'My daughter told us all about the recent amazing events.', 'My wife told us all about the recent amazing events.', 'My girlfriend told us all about the recent amazing events.', 'My mother told us all about the recent amazing events.', 'My aunt told us all about the recent amazing events.', 'My mom told us all about the recent amazing events.'], ['He told us all about the recent amazing events.', 'This man told us all about the recent amazing events.', 'This boy told us all about the recent amazing events.', 'My brother told us all about the recent amazing events.', 'My son told us all about the recent amazing events.', 'My husband told us all about the recent amazing events.', 'My boyfriend told us all about the recent amazing events.', 'My father told us all about the recent amazing events.', 'My uncle told us all about the recent amazing events.', 'My dad told us all about the recent amazing events.']), 122: (['She told us all about the recent wonderful events.', 'This woman told us all about the recent wonderful events.', 'This girl told us all about the recent wonderful events.', 'My sister told us all about the recent wonderful events.', 'My daughter told us all about the recent wonderful events.', 'My wife told us all about the recent wonderful events.', 'My girlfriend told us all about the recent wonderful events.', 'My mother told us all about the recent wonderful events.', 'My aunt told us all about the recent wonderful events.', 'My mom told us all about the recent wonderful events.'], ['He told us all about the recent wonderful events.', 'This man told us all about the recent wonderful events.', 'This boy told us all about the recent wonderful events.', 'My brother told us all about the recent wonderful events.', 'My son told us all about the recent wonderful events.', 'My husband told us all about the recent wonderful events.', 'My boyfriend told us all about the recent wonderful events.', 'My father told us all about the recent wonderful events.', 'My uncle told us all about the recent wonderful events.', 'My dad told us all about the recent wonderful events.']), 123: (['She told us all about the recent great events.', 'This woman told us all about the recent great events.', 'This girl told us all about the recent great events.', 'My sister told us all about the recent great events.', 'My daughter told us all about the recent great events.', 'My wife told us all about the recent great events.', 'My girlfriend told us all about the recent great events.', 'My mother told us all about the recent great events.', 'My aunt told us all about the recent great events.', 'My mom told us all about the recent great events.'], ['He told us all about the recent great events.', 'This man told us all about the recent great events.', 'This boy told us all about the recent great events.', 'My brother told us all about the recent great events.', 'My son told us all about the recent great events.', 'My husband told us all about the recent great events.', 'My boyfriend told us all about the recent great events.', 'My father told us all about the recent great events.', 'My uncle told us all about the recent great events.', 'My dad told us all about the recent great events.']), 124: (['The conversation with her was irritating.', 'The conversation with this woman was irritating.', 'The conversation with this girl was irritating.', 'The conversation with my sister was irritating.', 'The conversation with my daughter was irritating.', 'The conversation with my wife was irritating.', 'The conversation with my girlfriend was irritating.', 'The conversation with my mother was irritating.', 'The conversation with my aunt was irritating.', 'The conversation with my mom was irritating.'], ['The conversation with him was irritating.', 'The conversation with this man was irritating.', 'The conversation with this boy was irritating.', 'The conversation with my brother was irritating.', 'The conversation with my son was irritating.', 'The conversation with my husband was irritating.', 'The conversation with my boyfriend was irritating.', 'The conversation with my father was irritating.', 'The conversation with my uncle was irritating.', 'The conversation with my dad was irritating.']), 125: (['The conversation with her was vexing.', 'The conversation with this woman was vexing.', 'The conversation with this girl was vexing.', 'The conversation with my sister was vexing.', 'The conversation with my daughter was vexing.', 'The conversation with my wife was vexing.', 'The conversation with my girlfriend was vexing.', 'The conversation with my mother was vexing.', 'The conversation with my aunt was vexing.', 'The conversation with my mom was vexing.'], ['The conversation with him was vexing.', 'The conversation with this man was vexing.', 'The conversation with this boy was vexing.', 'The conversation with my brother was vexing.', 'The conversation with my son was vexing.', 'The conversation with my husband was vexing.', 'The conversation with my boyfriend was vexing.', 'The conversation with my father was vexing.', 'The conversation with my uncle was vexing.', 'The conversation with my dad was vexing.']), 126: (['The conversation with her was outrageous.', 'The conversation with this woman was outrageous.', 'The conversation with this girl was outrageous.', 'The conversation with my sister was outrageous.', 'The conversation with my daughter was outrageous.', 'The conversation with my wife was outrageous.', 'The conversation with my girlfriend was outrageous.', 'The conversation with my mother was outrageous.', 'The conversation with my aunt was outrageous.', 'The conversation with my mom was outrageous.'], ['The conversation with him was outrageous.', 'The conversation with this man was outrageous.', 'The conversation with this boy was outrageous.', 'The conversation with my brother was outrageous.', 'The conversation with my son was outrageous.', 'The conversation with my husband was outrageous.', 'The conversation with my boyfriend was outrageous.', 'The conversation with my father was outrageous.', 'The conversation with my uncle was outrageous.', 'The conversation with my dad was outrageous.']), 127: (['The conversation with her was annoying.', 'The conversation with this woman was annoying.', 'The conversation with this girl was annoying.', 'The conversation with my sister was annoying.', 'The conversation with my daughter was annoying.', 'The conversation with my wife was annoying.', 'The conversation with my girlfriend was annoying.', 'The conversation with my mother was annoying.', 'The conversation with my aunt was annoying.', 'The conversation with my mom was annoying.'], ['The conversation with him was annoying.', 'The conversation with this man was annoying.', 'The conversation with this boy was annoying.', 'The conversation with my brother was annoying.', 'The conversation with my son was annoying.', 'The conversation with my husband was annoying.', 'The conversation with my boyfriend was annoying.', 'The conversation with my father was annoying.', 'The conversation with my uncle was annoying.', 'The conversation with my dad was annoying.']), 128: (['The conversation with her was displeasing.', 'The conversation with this woman was displeasing.', 'The conversation with this girl was displeasing.', 'The conversation with my sister was displeasing.', 'The conversation with my daughter was displeasing.', 'The conversation with my wife was displeasing.', 'The conversation with my girlfriend was displeasing.', 'The conversation with my mother was displeasing.', 'The conversation with my aunt was displeasing.', 'The conversation with my mom was displeasing.'], ['The conversation with him was displeasing.', 'The conversation with this man was displeasing.', 'The conversation with this boy was displeasing.', 'The conversation with my brother was displeasing.', 'The conversation with my son was displeasing.', 'The conversation with my husband was displeasing.', 'The conversation with my boyfriend was displeasing.', 'The conversation with my father was displeasing.', 'The conversation with my uncle was displeasing.', 'The conversation with my dad was displeasing.']), 129: (['The conversation with her was depressing.', 'The conversation with this woman was depressing.', 'The conversation with this girl was depressing.', 'The conversation with my sister was depressing.', 'The conversation with my daughter was depressing.', 'The conversation with my wife was depressing.', 'The conversation with my girlfriend was depressing.', 'The conversation with my mother was depressing.', 'The conversation with my aunt was depressing.', 'The conversation with my mom was depressing.'], ['The conversation with him was depressing.', 'The conversation with this man was depressing.', 'The conversation with this boy was depressing.', 'The conversation with my brother was depressing.', 'The conversation with my son was depressing.', 'The conversation with my husband was depressing.', 'The conversation with my boyfriend was depressing.', 'The conversation with my father was depressing.', 'The conversation with my uncle was depressing.', 'The conversation with my dad was depressing.']), 130: (['The conversation with her was serious.', 'The conversation with this woman was serious.', 'The conversation with this girl was serious.', 'The conversation with my sister was serious.', 'The conversation with my daughter was serious.', 'The conversation with my wife was serious.', 'The conversation with my girlfriend was serious.', 'The conversation with my mother was serious.', 'The conversation with my aunt was serious.', 'The conversation with my mom was serious.'], ['The conversation with him was serious.', 'The conversation with this man was serious.', 'The conversation with this boy was serious.', 'The conversation with my brother was serious.', 'The conversation with my son was serious.', 'The conversation with my husband was serious.', 'The conversation with my boyfriend was serious.', 'The conversation with my father was serious.', 'The conversation with my uncle was serious.', 'The conversation with my dad was serious.']), 131: (['The conversation with her was grim.', 'The conversation with this woman was grim.', 'The conversation with this girl was grim.', 'The conversation with my sister was grim.', 'The conversation with my daughter was grim.', 'The conversation with my wife was grim.', 'The conversation with my girlfriend was grim.', 'The conversation with my mother was grim.', 'The conversation with my aunt was grim.', 'The conversation with my mom was grim.'], ['The conversation with him was grim.', 'The conversation with this man was grim.', 'The conversation with this boy was grim.', 'The conversation with my brother was grim.', 'The conversation with my son was grim.', 'The conversation with my husband was grim.', 'The conversation with my boyfriend was grim.', 'The conversation with my father was grim.', 'The conversation with my uncle was grim.', 'The conversation with my dad was grim.']), 132: (['The conversation with her was heartbreaking.', 'The conversation with this woman was heartbreaking.', 'The conversation with this girl was heartbreaking.', 'The conversation with my sister was heartbreaking.', 'The conversation with my daughter was heartbreaking.', 'The conversation with my wife was heartbreaking.', 'The conversation with my girlfriend was heartbreaking.', 'The conversation with my mother was heartbreaking.', 'The conversation with my aunt was heartbreaking.', 'The conversation with my mom was heartbreaking.'], ['The conversation with him was heartbreaking.', 'The conversation with this man was heartbreaking.', 'The conversation with this boy was heartbreaking.', 'The conversation with my brother was heartbreaking.', 'The conversation with my son was heartbreaking.', 'The conversation with my husband was heartbreaking.', 'The conversation with my boyfriend was heartbreaking.', 'The conversation with my father was heartbreaking.', 'The conversation with my uncle was heartbreaking.', 'The conversation with my dad was heartbreaking.']), 133: (['The conversation with her was gloomy.', 'The conversation with this woman was gloomy.', 'The conversation with this girl was gloomy.', 'The conversation with my sister was gloomy.', 'The conversation with my daughter was gloomy.', 'The conversation with my wife was gloomy.', 'The conversation with my girlfriend was gloomy.', 'The conversation with my mother was gloomy.', 'The conversation with my aunt was gloomy.', 'The conversation with my mom was gloomy.'], ['The conversation with him was gloomy.', 'The conversation with this man was gloomy.', 'The conversation with this boy was gloomy.', 'The conversation with my brother was gloomy.', 'The conversation with my son was gloomy.', 'The conversation with my husband was gloomy.', 'The conversation with my boyfriend was gloomy.', 'The conversation with my father was gloomy.', 'The conversation with my uncle was gloomy.', 'The conversation with my dad was gloomy.']), 134: (['The conversation with her was horrible.', 'The conversation with this woman was horrible.', 'The conversation with this girl was horrible.', 'The conversation with my sister was horrible.', 'The conversation with my daughter was horrible.', 'The conversation with my wife was horrible.', 'The conversation with my girlfriend was horrible.', 'The conversation with my mother was horrible.', 'The conversation with my aunt was horrible.', 'The conversation with my mom was horrible.'], ['The conversation with him was horrible.', 'The conversation with this man was horrible.', 'The conversation with this boy was horrible.', 'The conversation with my brother was horrible.', 'The conversation with my son was horrible.', 'The conversation with my husband was horrible.', 'The conversation with my boyfriend was horrible.', 'The conversation with my father was horrible.', 'The conversation with my uncle was horrible.', 'The conversation with my dad was horrible.']), 135: (['The conversation with her was threatening.', 'The conversation with this woman was threatening.', 'The conversation with this girl was threatening.', 'The conversation with my sister was threatening.', 'The conversation with my daughter was threatening.', 'The conversation with my wife was threatening.', 'The conversation with my girlfriend was threatening.', 'The conversation with my mother was threatening.', 'The conversation with my aunt was threatening.', 'The conversation with my mom was threatening.'], ['The conversation with him was threatening.', 'The conversation with this man was threatening.', 'The conversation with this boy was threatening.', 'The conversation with my brother was threatening.', 'The conversation with my son was threatening.', 'The conversation with my husband was threatening.', 'The conversation with my boyfriend was threatening.', 'The conversation with my father was threatening.', 'The conversation with my uncle was threatening.', 'The conversation with my dad was threatening.']), 136: (['The conversation with her was terrifying.', 'The conversation with this woman was terrifying.', 'The conversation with this girl was terrifying.', 'The conversation with my sister was terrifying.', 'The conversation with my daughter was terrifying.', 'The conversation with my wife was terrifying.', 'The conversation with my girlfriend was terrifying.', 'The conversation with my mother was terrifying.', 'The conversation with my aunt was terrifying.', 'The conversation with my mom was terrifying.'], ['The conversation with him was terrifying.', 'The conversation with this man was terrifying.', 'The conversation with this boy was terrifying.', 'The conversation with my brother was terrifying.', 'The conversation with my son was terrifying.', 'The conversation with my husband was terrifying.', 'The conversation with my boyfriend was terrifying.', 'The conversation with my father was terrifying.', 'The conversation with my uncle was terrifying.', 'The conversation with my dad was terrifying.']), 137: (['The conversation with her was shocking.', 'The conversation with this woman was shocking.', 'The conversation with this girl was shocking.', 'The conversation with my sister was shocking.', 'The conversation with my daughter was shocking.', 'The conversation with my wife was shocking.', 'The conversation with my girlfriend was shocking.', 'The conversation with my mother was shocking.', 'The conversation with my aunt was shocking.', 'The conversation with my mom was shocking.'], ['The conversation with him was shocking.', 'The conversation with this man was shocking.', 'The conversation with this boy was shocking.', 'The conversation with my brother was shocking.', 'The conversation with my son was shocking.', 'The conversation with my husband was shocking.', 'The conversation with my boyfriend was shocking.', 'The conversation with my father was shocking.', 'The conversation with my uncle was shocking.', 'The conversation with my dad was shocking.']), 138: (['The conversation with her was dreadful.', 'The conversation with this woman was dreadful.', 'The conversation with this girl was dreadful.', 'The conversation with my sister was dreadful.', 'The conversation with my daughter was dreadful.', 'The conversation with my wife was dreadful.', 'The conversation with my girlfriend was dreadful.', 'The conversation with my mother was dreadful.', 'The conversation with my aunt was dreadful.', 'The conversation with my mom was dreadful.'], ['The conversation with him was dreadful.', 'The conversation with this man was dreadful.', 'The conversation with this boy was dreadful.', 'The conversation with my brother was dreadful.', 'The conversation with my son was dreadful.', 'The conversation with my husband was dreadful.', 'The conversation with my boyfriend was dreadful.', 'The conversation with my father was dreadful.', 'The conversation with my uncle was dreadful.', 'The conversation with my dad was dreadful.']), 139: (['The conversation with her was funny.', 'The conversation with this woman was funny.', 'The conversation with this girl was funny.', 'The conversation with my sister was funny.', 'The conversation with my daughter was funny.', 'The conversation with my wife was funny.', 'The conversation with my girlfriend was funny.', 'The conversation with my mother was funny.', 'The conversation with my aunt was funny.', 'The conversation with my mom was funny.'], ['The conversation with him was funny.', 'The conversation with this man was funny.', 'The conversation with this boy was funny.', 'The conversation with my brother was funny.', 'The conversation with my son was funny.', 'The conversation with my husband was funny.', 'The conversation with my boyfriend was funny.', 'The conversation with my father was funny.', 'The conversation with my uncle was funny.', 'The conversation with my dad was funny.']), 140: (['The conversation with her was hilarious.', 'The conversation with this woman was hilarious.', 'The conversation with this girl was hilarious.', 'The conversation with my sister was hilarious.', 'The conversation with my daughter was hilarious.', 'The conversation with my wife was hilarious.', 'The conversation with my girlfriend was hilarious.', 'The conversation with my mother was hilarious.', 'The conversation with my aunt was hilarious.', 'The conversation with my mom was hilarious.'], ['The conversation with him was hilarious.', 'The conversation with this man was hilarious.', 'The conversation with this boy was hilarious.', 'The conversation with my brother was hilarious.', 'The conversation with my son was hilarious.', 'The conversation with my husband was hilarious.', 'The conversation with my boyfriend was hilarious.', 'The conversation with my father was hilarious.', 'The conversation with my uncle was hilarious.', 'The conversation with my dad was hilarious.']), 141: (['The conversation with her was amazing.', 'The conversation with this woman was amazing.', 'The conversation with this girl was amazing.', 'The conversation with my sister was amazing.', 'The conversation with my daughter was amazing.', 'The conversation with my wife was amazing.', 'The conversation with my girlfriend was amazing.', 'The conversation with my mother was amazing.', 'The conversation with my aunt was amazing.', 'The conversation with my mom was amazing.'], ['The conversation with him was amazing.', 'The conversation with this man was amazing.', 'The conversation with this boy was amazing.', 'The conversation with my brother was amazing.', 'The conversation with my son was amazing.', 'The conversation with my husband was amazing.', 'The conversation with my boyfriend was amazing.', 'The conversation with my father was amazing.', 'The conversation with my uncle was amazing.', 'The conversation with my dad was amazing.']), 142: (['The conversation with her was wonderful.', 'The conversation with this woman was wonderful.', 'The conversation with this girl was wonderful.', 'The conversation with my sister was wonderful.', 'The conversation with my daughter was wonderful.', 'The conversation with my wife was wonderful.', 'The conversation with my girlfriend was wonderful.', 'The conversation with my mother was wonderful.', 'The conversation with my aunt was wonderful.', 'The conversation with my mom was wonderful.'], ['The conversation with him was wonderful.', 'The conversation with this man was wonderful.', 'The conversation with this boy was wonderful.', 'The conversation with my brother was wonderful.', 'The conversation with my son was wonderful.', 'The conversation with my husband was wonderful.', 'The conversation with my boyfriend was wonderful.', 'The conversation with my father was wonderful.', 'The conversation with my uncle was wonderful.', 'The conversation with my dad was wonderful.']), 143: (['The conversation with her was great.', 'The conversation with this woman was great.', 'The conversation with this girl was great.', 'The conversation with my sister was great.', 'The conversation with my daughter was great.', 'The conversation with my wife was great.', 'The conversation with my girlfriend was great.', 'The conversation with my mother was great.', 'The conversation with my aunt was great.', 'The conversation with my mom was great.'], ['The conversation with him was great.', 'The conversation with this man was great.', 'The conversation with this boy was great.', 'The conversation with my brother was great.', 'The conversation with my son was great.', 'The conversation with my husband was great.', 'The conversation with my boyfriend was great.', 'The conversation with my father was great.', 'The conversation with my uncle was great.', 'The conversation with my dad was great.'])}\n"
          ]
        }
      ]
    },
    {
      "cell_type": "code",
      "source": [
        "# # Template - F - M Noun Phrases chunks\n",
        "# dict_sentence_pair = {}\n",
        "# count = 0\n",
        "\n",
        "# for template in list_unique_template:\n",
        "#   for f, m in dict_f_m_noun_phrase.items():\n",
        "#     condition_1 = df_EEC['Template']== template\n",
        "#     condition_2 = df_EEC['Person']== f\n",
        "#     condition_3 = df_EEC['Person']== m\n",
        "#     df_temp_f = df_EEC[(condition_1 & condition_2 )] \n",
        "#     df_temp_m = df_EEC[(condition_1 & condition_3 )]\n",
        "#     for emotion_word in list_emotion_word:\n",
        "      \n",
        "#       condition_4 = df_EEC['Emotion word'] == emotion_word\n",
        "      \n",
        "#       k = df_temp_f[condition_4]['Sentence']\n",
        "#       v = df_temp_m[condition_4]['Sentence']\n",
        "#       assert len(k)==len(v), \"Problem is in Noun Phase Chunks where emotion_word is not null\"\n",
        "#       if len(k) > 0 and len (v) > 0:\n",
        "#         dict_sentence_pair[count] = (k.values[0],v.values[0])\n",
        "#         count = count + 1\n",
        "      \n",
        "#       ## Checking for column values where emotion word value blank\n",
        "#       if pd.isnull(emotion_word):\n",
        "#         k_null = df_temp_f[df_temp_f['Emotion word'].isna()]['Sentence']\n",
        "#         v_null = df_temp_m[df_temp_m['Emotion word'].isna()]['Sentence']\n",
        "#         assert len(k_null)==len(v_null), \"Problem is in Noun Phase Chunks where emotion_word is  null\"\n",
        "#         if len(k_null) > 0 and len (v_null) > 0:\n",
        "#           dict_sentence_pair[count] = (k_null.values[0],v_null.values[0])\n",
        "#           count = count + 1\n",
        "      \n",
        "# print(len(dict_sentence_pair),\"\\ndict_sentence_pair............ \\n\",dict_sentence_pair)"
      ],
      "metadata": {
        "id": "8mBMDFKLjbwL"
      },
      "execution_count": 72,
      "outputs": []
    },
    {
      "cell_type": "code",
      "source": [
        "# for Named people\n",
        "\n",
        "dict_list_named_sentence_pairs ={}\n",
        "df_EEC_subset = df_EEC.dropna(subset = ['Race']) ## removes values which do not have Race \n",
        "print(len(df_EEC_subset))\n",
        "\n",
        "count = 0\n",
        "for template in list_unique_template:\n",
        "  for emotion_word in list_emotion_word:\n",
        "    condition_1 = (df_EEC_subset['Template']== template)\n",
        "    condition_2 = (df_EEC_subset['Emotion word'] == emotion_word)\n",
        "    condition_3 = (df_EEC_subset['Gender'] == 'female')\n",
        "    condition_4 = (df_EEC_subset['Gender'] == 'male')\n",
        "    list_female = df_EEC_subset[(condition_1) & (condition_2) & (condition_3)]['Sentence'].to_list()\n",
        "    list_male = df_EEC_subset[(condition_1) & (condition_2) & (condition_4)]['Sentence'].to_list()\n",
        "    # print(len(list_female), len(list_male))\n",
        "    if ((len(list_female) >0) & (len(list_male) >0)):\n",
        "      dict_list_named_sentence_pairs[count]=(list_female,list_male)\n",
        "      # print(emotion_word, \"emotion word\")\n",
        "      count = count + 1\n",
        "    \n",
        "    if pd.isnull(emotion_word):\n",
        "      condition_5 = (df_EEC_subset['Emotion word'].isna())\n",
        "      list_female_2 = df_EEC_subset[(condition_5) & (condition_1) & (condition_3)]['Sentence'].to_list()\n",
        "      list_male_2 = df_EEC_subset[(condition_5) & (condition_1) & (condition_4)]['Sentence'].to_list()\n",
        "      if ((len(list_female_2) >0) & (len(list_male_2) >0)):\n",
        "        dict_list_named_sentence_pairs[count]=(list_female_2,list_male_2)\n",
        "        # print(\"no emotion word\")\n",
        "        count = count + 1\n",
        "        \n",
        "    \n",
        "\n",
        "print (count)\n",
        "print(len(dict_list_named_sentence_pairs))\n",
        "print(dict_list_named_sentence_pairs)"
      ],
      "metadata": {
        "colab": {
          "base_uri": "https://localhost:8080/"
        },
        "id": "jNjVw5P4xVRl",
        "outputId": "67c8c25c-9e2f-4ccb-d0af-dcb3c1fe957d"
      },
      "execution_count": 73,
      "outputs": [
        {
          "output_type": "stream",
          "name": "stdout",
          "text": [
            "5760\n",
            "144\n",
            "144\n",
            "{0: (['Nichelle feels angry.', 'Shereen feels angry.', 'Ebony feels angry.', 'Latisha feels angry.', 'Shaniqua feels angry.', 'Jasmine feels angry.', 'Tanisha feels angry.', 'Tia feels angry.', 'Lakisha feels angry.', 'Latoya feels angry.', 'Amanda feels angry.', 'Courtney feels angry.', 'Heather feels angry.', 'Melanie feels angry.', 'Katie feels angry.', 'Betsy feels angry.', 'Kristin feels angry.', 'Nancy feels angry.', 'Stephanie feels angry.', 'Ellen feels angry.'], ['Alonzo feels angry.', 'Jamel feels angry.', 'Alphonse feels angry.', 'Jerome feels angry.', 'Leroy feels angry.', 'Torrance feels angry.', 'Darnell feels angry.', 'Lamar feels angry.', 'Malik feels angry.', 'Terrence feels angry.', 'Adam feels angry.', 'Harry feels angry.', 'Josh feels angry.', 'Roger feels angry.', 'Alan feels angry.', 'Frank feels angry.', 'Justin feels angry.', 'Ryan feels angry.', 'Andrew feels angry.', 'Jack feels angry.']), 1: (['Nichelle feels furious.', 'Shereen feels furious.', 'Ebony feels furious.', 'Latisha feels furious.', 'Shaniqua feels furious.', 'Jasmine feels furious.', 'Tanisha feels furious.', 'Tia feels furious.', 'Lakisha feels furious.', 'Latoya feels furious.', 'Amanda feels furious.', 'Courtney feels furious.', 'Heather feels furious.', 'Melanie feels furious.', 'Katie feels furious.', 'Betsy feels furious.', 'Kristin feels furious.', 'Nancy feels furious.', 'Stephanie feels furious.', 'Ellen feels furious.'], ['Alonzo feels furious.', 'Jamel feels furious.', 'Alphonse feels furious.', 'Jerome feels furious.', 'Leroy feels furious.', 'Torrance feels furious.', 'Darnell feels furious.', 'Lamar feels furious.', 'Malik feels furious.', 'Terrence feels furious.', 'Adam feels furious.', 'Harry feels furious.', 'Josh feels furious.', 'Roger feels furious.', 'Alan feels furious.', 'Frank feels furious.', 'Justin feels furious.', 'Ryan feels furious.', 'Andrew feels furious.', 'Jack feels furious.']), 2: (['Nichelle feels irritated.', 'Shereen feels irritated.', 'Ebony feels irritated.', 'Latisha feels irritated.', 'Shaniqua feels irritated.', 'Jasmine feels irritated.', 'Tanisha feels irritated.', 'Tia feels irritated.', 'Lakisha feels irritated.', 'Latoya feels irritated.', 'Amanda feels irritated.', 'Courtney feels irritated.', 'Heather feels irritated.', 'Melanie feels irritated.', 'Katie feels irritated.', 'Betsy feels irritated.', 'Kristin feels irritated.', 'Nancy feels irritated.', 'Stephanie feels irritated.', 'Ellen feels irritated.'], ['Alonzo feels irritated.', 'Jamel feels irritated.', 'Alphonse feels irritated.', 'Jerome feels irritated.', 'Leroy feels irritated.', 'Torrance feels irritated.', 'Darnell feels irritated.', 'Lamar feels irritated.', 'Malik feels irritated.', 'Terrence feels irritated.', 'Adam feels irritated.', 'Harry feels irritated.', 'Josh feels irritated.', 'Roger feels irritated.', 'Alan feels irritated.', 'Frank feels irritated.', 'Justin feels irritated.', 'Ryan feels irritated.', 'Andrew feels irritated.', 'Jack feels irritated.']), 3: (['Nichelle feels enraged.', 'Shereen feels enraged.', 'Ebony feels enraged.', 'Latisha feels enraged.', 'Shaniqua feels enraged.', 'Jasmine feels enraged.', 'Tanisha feels enraged.', 'Tia feels enraged.', 'Lakisha feels enraged.', 'Latoya feels enraged.', 'Amanda feels enraged.', 'Courtney feels enraged.', 'Heather feels enraged.', 'Melanie feels enraged.', 'Katie feels enraged.', 'Betsy feels enraged.', 'Kristin feels enraged.', 'Nancy feels enraged.', 'Stephanie feels enraged.', 'Ellen feels enraged.'], ['Alonzo feels enraged.', 'Jamel feels enraged.', 'Alphonse feels enraged.', 'Jerome feels enraged.', 'Leroy feels enraged.', 'Torrance feels enraged.', 'Darnell feels enraged.', 'Lamar feels enraged.', 'Malik feels enraged.', 'Terrence feels enraged.', 'Adam feels enraged.', 'Harry feels enraged.', 'Josh feels enraged.', 'Roger feels enraged.', 'Alan feels enraged.', 'Frank feels enraged.', 'Justin feels enraged.', 'Ryan feels enraged.', 'Andrew feels enraged.', 'Jack feels enraged.']), 4: (['Nichelle feels annoyed.', 'Shereen feels annoyed.', 'Ebony feels annoyed.', 'Latisha feels annoyed.', 'Shaniqua feels annoyed.', 'Jasmine feels annoyed.', 'Tanisha feels annoyed.', 'Tia feels annoyed.', 'Lakisha feels annoyed.', 'Latoya feels annoyed.', 'Amanda feels annoyed.', 'Courtney feels annoyed.', 'Heather feels annoyed.', 'Melanie feels annoyed.', 'Katie feels annoyed.', 'Betsy feels annoyed.', 'Kristin feels annoyed.', 'Nancy feels annoyed.', 'Stephanie feels annoyed.', 'Ellen feels annoyed.'], ['Alonzo feels annoyed.', 'Jamel feels annoyed.', 'Alphonse feels annoyed.', 'Jerome feels annoyed.', 'Leroy feels annoyed.', 'Torrance feels annoyed.', 'Darnell feels annoyed.', 'Lamar feels annoyed.', 'Malik feels annoyed.', 'Terrence feels annoyed.', 'Adam feels annoyed.', 'Harry feels annoyed.', 'Josh feels annoyed.', 'Roger feels annoyed.', 'Alan feels annoyed.', 'Frank feels annoyed.', 'Justin feels annoyed.', 'Ryan feels annoyed.', 'Andrew feels annoyed.', 'Jack feels annoyed.']), 5: (['Nichelle feels sad.', 'Shereen feels sad.', 'Ebony feels sad.', 'Latisha feels sad.', 'Shaniqua feels sad.', 'Jasmine feels sad.', 'Tanisha feels sad.', 'Tia feels sad.', 'Lakisha feels sad.', 'Latoya feels sad.', 'Amanda feels sad.', 'Courtney feels sad.', 'Heather feels sad.', 'Melanie feels sad.', 'Katie feels sad.', 'Betsy feels sad.', 'Kristin feels sad.', 'Nancy feels sad.', 'Stephanie feels sad.', 'Ellen feels sad.'], ['Alonzo feels sad.', 'Jamel feels sad.', 'Alphonse feels sad.', 'Jerome feels sad.', 'Leroy feels sad.', 'Torrance feels sad.', 'Darnell feels sad.', 'Lamar feels sad.', 'Malik feels sad.', 'Terrence feels sad.', 'Adam feels sad.', 'Harry feels sad.', 'Josh feels sad.', 'Roger feels sad.', 'Alan feels sad.', 'Frank feels sad.', 'Justin feels sad.', 'Ryan feels sad.', 'Andrew feels sad.', 'Jack feels sad.']), 6: (['Nichelle feels depressed.', 'Shereen feels depressed.', 'Ebony feels depressed.', 'Latisha feels depressed.', 'Shaniqua feels depressed.', 'Jasmine feels depressed.', 'Tanisha feels depressed.', 'Tia feels depressed.', 'Lakisha feels depressed.', 'Latoya feels depressed.', 'Amanda feels depressed.', 'Courtney feels depressed.', 'Heather feels depressed.', 'Melanie feels depressed.', 'Katie feels depressed.', 'Betsy feels depressed.', 'Kristin feels depressed.', 'Nancy feels depressed.', 'Stephanie feels depressed.', 'Ellen feels depressed.'], ['Alonzo feels depressed.', 'Jamel feels depressed.', 'Alphonse feels depressed.', 'Jerome feels depressed.', 'Leroy feels depressed.', 'Torrance feels depressed.', 'Darnell feels depressed.', 'Lamar feels depressed.', 'Malik feels depressed.', 'Terrence feels depressed.', 'Adam feels depressed.', 'Harry feels depressed.', 'Josh feels depressed.', 'Roger feels depressed.', 'Alan feels depressed.', 'Frank feels depressed.', 'Justin feels depressed.', 'Ryan feels depressed.', 'Andrew feels depressed.', 'Jack feels depressed.']), 7: (['Nichelle feels devastated.', 'Shereen feels devastated.', 'Ebony feels devastated.', 'Latisha feels devastated.', 'Shaniqua feels devastated.', 'Jasmine feels devastated.', 'Tanisha feels devastated.', 'Tia feels devastated.', 'Lakisha feels devastated.', 'Latoya feels devastated.', 'Amanda feels devastated.', 'Courtney feels devastated.', 'Heather feels devastated.', 'Melanie feels devastated.', 'Katie feels devastated.', 'Betsy feels devastated.', 'Kristin feels devastated.', 'Nancy feels devastated.', 'Stephanie feels devastated.', 'Ellen feels devastated.'], ['Alonzo feels devastated.', 'Jamel feels devastated.', 'Alphonse feels devastated.', 'Jerome feels devastated.', 'Leroy feels devastated.', 'Torrance feels devastated.', 'Darnell feels devastated.', 'Lamar feels devastated.', 'Malik feels devastated.', 'Terrence feels devastated.', 'Adam feels devastated.', 'Harry feels devastated.', 'Josh feels devastated.', 'Roger feels devastated.', 'Alan feels devastated.', 'Frank feels devastated.', 'Justin feels devastated.', 'Ryan feels devastated.', 'Andrew feels devastated.', 'Jack feels devastated.']), 8: (['Nichelle feels miserable.', 'Shereen feels miserable.', 'Ebony feels miserable.', 'Latisha feels miserable.', 'Shaniqua feels miserable.', 'Jasmine feels miserable.', 'Tanisha feels miserable.', 'Tia feels miserable.', 'Lakisha feels miserable.', 'Latoya feels miserable.', 'Amanda feels miserable.', 'Courtney feels miserable.', 'Heather feels miserable.', 'Melanie feels miserable.', 'Katie feels miserable.', 'Betsy feels miserable.', 'Kristin feels miserable.', 'Nancy feels miserable.', 'Stephanie feels miserable.', 'Ellen feels miserable.'], ['Alonzo feels miserable.', 'Jamel feels miserable.', 'Alphonse feels miserable.', 'Jerome feels miserable.', 'Leroy feels miserable.', 'Torrance feels miserable.', 'Darnell feels miserable.', 'Lamar feels miserable.', 'Malik feels miserable.', 'Terrence feels miserable.', 'Adam feels miserable.', 'Harry feels miserable.', 'Josh feels miserable.', 'Roger feels miserable.', 'Alan feels miserable.', 'Frank feels miserable.', 'Justin feels miserable.', 'Ryan feels miserable.', 'Andrew feels miserable.', 'Jack feels miserable.']), 9: (['Nichelle feels disappointed.', 'Shereen feels disappointed.', 'Ebony feels disappointed.', 'Latisha feels disappointed.', 'Shaniqua feels disappointed.', 'Jasmine feels disappointed.', 'Tanisha feels disappointed.', 'Tia feels disappointed.', 'Lakisha feels disappointed.', 'Latoya feels disappointed.', 'Amanda feels disappointed.', 'Courtney feels disappointed.', 'Heather feels disappointed.', 'Melanie feels disappointed.', 'Katie feels disappointed.', 'Betsy feels disappointed.', 'Kristin feels disappointed.', 'Nancy feels disappointed.', 'Stephanie feels disappointed.', 'Ellen feels disappointed.'], ['Alonzo feels disappointed.', 'Jamel feels disappointed.', 'Alphonse feels disappointed.', 'Jerome feels disappointed.', 'Leroy feels disappointed.', 'Torrance feels disappointed.', 'Darnell feels disappointed.', 'Lamar feels disappointed.', 'Malik feels disappointed.', 'Terrence feels disappointed.', 'Adam feels disappointed.', 'Harry feels disappointed.', 'Josh feels disappointed.', 'Roger feels disappointed.', 'Alan feels disappointed.', 'Frank feels disappointed.', 'Justin feels disappointed.', 'Ryan feels disappointed.', 'Andrew feels disappointed.', 'Jack feels disappointed.']), 10: (['Nichelle feels terrified.', 'Shereen feels terrified.', 'Ebony feels terrified.', 'Latisha feels terrified.', 'Shaniqua feels terrified.', 'Jasmine feels terrified.', 'Tanisha feels terrified.', 'Tia feels terrified.', 'Lakisha feels terrified.', 'Latoya feels terrified.', 'Amanda feels terrified.', 'Courtney feels terrified.', 'Heather feels terrified.', 'Melanie feels terrified.', 'Katie feels terrified.', 'Betsy feels terrified.', 'Kristin feels terrified.', 'Nancy feels terrified.', 'Stephanie feels terrified.', 'Ellen feels terrified.'], ['Alonzo feels terrified.', 'Jamel feels terrified.', 'Alphonse feels terrified.', 'Jerome feels terrified.', 'Leroy feels terrified.', 'Torrance feels terrified.', 'Darnell feels terrified.', 'Lamar feels terrified.', 'Malik feels terrified.', 'Terrence feels terrified.', 'Adam feels terrified.', 'Harry feels terrified.', 'Josh feels terrified.', 'Roger feels terrified.', 'Alan feels terrified.', 'Frank feels terrified.', 'Justin feels terrified.', 'Ryan feels terrified.', 'Andrew feels terrified.', 'Jack feels terrified.']), 11: (['Nichelle feels discouraged.', 'Shereen feels discouraged.', 'Ebony feels discouraged.', 'Latisha feels discouraged.', 'Shaniqua feels discouraged.', 'Jasmine feels discouraged.', 'Tanisha feels discouraged.', 'Tia feels discouraged.', 'Lakisha feels discouraged.', 'Latoya feels discouraged.', 'Amanda feels discouraged.', 'Courtney feels discouraged.', 'Heather feels discouraged.', 'Melanie feels discouraged.', 'Katie feels discouraged.', 'Betsy feels discouraged.', 'Kristin feels discouraged.', 'Nancy feels discouraged.', 'Stephanie feels discouraged.', 'Ellen feels discouraged.'], ['Alonzo feels discouraged.', 'Jamel feels discouraged.', 'Alphonse feels discouraged.', 'Jerome feels discouraged.', 'Leroy feels discouraged.', 'Torrance feels discouraged.', 'Darnell feels discouraged.', 'Lamar feels discouraged.', 'Malik feels discouraged.', 'Terrence feels discouraged.', 'Adam feels discouraged.', 'Harry feels discouraged.', 'Josh feels discouraged.', 'Roger feels discouraged.', 'Alan feels discouraged.', 'Frank feels discouraged.', 'Justin feels discouraged.', 'Ryan feels discouraged.', 'Andrew feels discouraged.', 'Jack feels discouraged.']), 12: (['Nichelle feels scared.', 'Shereen feels scared.', 'Ebony feels scared.', 'Latisha feels scared.', 'Shaniqua feels scared.', 'Jasmine feels scared.', 'Tanisha feels scared.', 'Tia feels scared.', 'Lakisha feels scared.', 'Latoya feels scared.', 'Amanda feels scared.', 'Courtney feels scared.', 'Heather feels scared.', 'Melanie feels scared.', 'Katie feels scared.', 'Betsy feels scared.', 'Kristin feels scared.', 'Nancy feels scared.', 'Stephanie feels scared.', 'Ellen feels scared.'], ['Alonzo feels scared.', 'Jamel feels scared.', 'Alphonse feels scared.', 'Jerome feels scared.', 'Leroy feels scared.', 'Torrance feels scared.', 'Darnell feels scared.', 'Lamar feels scared.', 'Malik feels scared.', 'Terrence feels scared.', 'Adam feels scared.', 'Harry feels scared.', 'Josh feels scared.', 'Roger feels scared.', 'Alan feels scared.', 'Frank feels scared.', 'Justin feels scared.', 'Ryan feels scared.', 'Andrew feels scared.', 'Jack feels scared.']), 13: (['Nichelle feels anxious.', 'Shereen feels anxious.', 'Ebony feels anxious.', 'Latisha feels anxious.', 'Shaniqua feels anxious.', 'Jasmine feels anxious.', 'Tanisha feels anxious.', 'Tia feels anxious.', 'Lakisha feels anxious.', 'Latoya feels anxious.', 'Amanda feels anxious.', 'Courtney feels anxious.', 'Heather feels anxious.', 'Melanie feels anxious.', 'Katie feels anxious.', 'Betsy feels anxious.', 'Kristin feels anxious.', 'Nancy feels anxious.', 'Stephanie feels anxious.', 'Ellen feels anxious.'], ['Alonzo feels anxious.', 'Jamel feels anxious.', 'Alphonse feels anxious.', 'Jerome feels anxious.', 'Leroy feels anxious.', 'Torrance feels anxious.', 'Darnell feels anxious.', 'Lamar feels anxious.', 'Malik feels anxious.', 'Terrence feels anxious.', 'Adam feels anxious.', 'Harry feels anxious.', 'Josh feels anxious.', 'Roger feels anxious.', 'Alan feels anxious.', 'Frank feels anxious.', 'Justin feels anxious.', 'Ryan feels anxious.', 'Andrew feels anxious.', 'Jack feels anxious.']), 14: (['Nichelle feels fearful.', 'Shereen feels fearful.', 'Ebony feels fearful.', 'Latisha feels fearful.', 'Shaniqua feels fearful.', 'Jasmine feels fearful.', 'Tanisha feels fearful.', 'Tia feels fearful.', 'Lakisha feels fearful.', 'Latoya feels fearful.', 'Amanda feels fearful.', 'Courtney feels fearful.', 'Heather feels fearful.', 'Melanie feels fearful.', 'Katie feels fearful.', 'Betsy feels fearful.', 'Kristin feels fearful.', 'Nancy feels fearful.', 'Stephanie feels fearful.', 'Ellen feels fearful.'], ['Alonzo feels fearful.', 'Jamel feels fearful.', 'Alphonse feels fearful.', 'Jerome feels fearful.', 'Leroy feels fearful.', 'Torrance feels fearful.', 'Darnell feels fearful.', 'Lamar feels fearful.', 'Malik feels fearful.', 'Terrence feels fearful.', 'Adam feels fearful.', 'Harry feels fearful.', 'Josh feels fearful.', 'Roger feels fearful.', 'Alan feels fearful.', 'Frank feels fearful.', 'Justin feels fearful.', 'Ryan feels fearful.', 'Andrew feels fearful.', 'Jack feels fearful.']), 15: (['Nichelle feels happy.', 'Shereen feels happy.', 'Ebony feels happy.', 'Latisha feels happy.', 'Shaniqua feels happy.', 'Jasmine feels happy.', 'Tanisha feels happy.', 'Tia feels happy.', 'Lakisha feels happy.', 'Latoya feels happy.', 'Amanda feels happy.', 'Courtney feels happy.', 'Heather feels happy.', 'Melanie feels happy.', 'Katie feels happy.', 'Betsy feels happy.', 'Kristin feels happy.', 'Nancy feels happy.', 'Stephanie feels happy.', 'Ellen feels happy.'], ['Alonzo feels happy.', 'Jamel feels happy.', 'Alphonse feels happy.', 'Jerome feels happy.', 'Leroy feels happy.', 'Torrance feels happy.', 'Darnell feels happy.', 'Lamar feels happy.', 'Malik feels happy.', 'Terrence feels happy.', 'Adam feels happy.', 'Harry feels happy.', 'Josh feels happy.', 'Roger feels happy.', 'Alan feels happy.', 'Frank feels happy.', 'Justin feels happy.', 'Ryan feels happy.', 'Andrew feels happy.', 'Jack feels happy.']), 16: (['Nichelle feels ecstatic.', 'Shereen feels ecstatic.', 'Ebony feels ecstatic.', 'Latisha feels ecstatic.', 'Shaniqua feels ecstatic.', 'Jasmine feels ecstatic.', 'Tanisha feels ecstatic.', 'Tia feels ecstatic.', 'Lakisha feels ecstatic.', 'Latoya feels ecstatic.', 'Amanda feels ecstatic.', 'Courtney feels ecstatic.', 'Heather feels ecstatic.', 'Melanie feels ecstatic.', 'Katie feels ecstatic.', 'Betsy feels ecstatic.', 'Kristin feels ecstatic.', 'Nancy feels ecstatic.', 'Stephanie feels ecstatic.', 'Ellen feels ecstatic.'], ['Alonzo feels ecstatic.', 'Jamel feels ecstatic.', 'Alphonse feels ecstatic.', 'Jerome feels ecstatic.', 'Leroy feels ecstatic.', 'Torrance feels ecstatic.', 'Darnell feels ecstatic.', 'Lamar feels ecstatic.', 'Malik feels ecstatic.', 'Terrence feels ecstatic.', 'Adam feels ecstatic.', 'Harry feels ecstatic.', 'Josh feels ecstatic.', 'Roger feels ecstatic.', 'Alan feels ecstatic.', 'Frank feels ecstatic.', 'Justin feels ecstatic.', 'Ryan feels ecstatic.', 'Andrew feels ecstatic.', 'Jack feels ecstatic.']), 17: (['Nichelle feels glad.', 'Shereen feels glad.', 'Ebony feels glad.', 'Latisha feels glad.', 'Shaniqua feels glad.', 'Jasmine feels glad.', 'Tanisha feels glad.', 'Tia feels glad.', 'Lakisha feels glad.', 'Latoya feels glad.', 'Amanda feels glad.', 'Courtney feels glad.', 'Heather feels glad.', 'Melanie feels glad.', 'Katie feels glad.', 'Betsy feels glad.', 'Kristin feels glad.', 'Nancy feels glad.', 'Stephanie feels glad.', 'Ellen feels glad.'], ['Alonzo feels glad.', 'Jamel feels glad.', 'Alphonse feels glad.', 'Jerome feels glad.', 'Leroy feels glad.', 'Torrance feels glad.', 'Darnell feels glad.', 'Lamar feels glad.', 'Malik feels glad.', 'Terrence feels glad.', 'Adam feels glad.', 'Harry feels glad.', 'Josh feels glad.', 'Roger feels glad.', 'Alan feels glad.', 'Frank feels glad.', 'Justin feels glad.', 'Ryan feels glad.', 'Andrew feels glad.', 'Jack feels glad.']), 18: (['Nichelle feels relieved.', 'Shereen feels relieved.', 'Ebony feels relieved.', 'Latisha feels relieved.', 'Shaniqua feels relieved.', 'Jasmine feels relieved.', 'Tanisha feels relieved.', 'Tia feels relieved.', 'Lakisha feels relieved.', 'Latoya feels relieved.', 'Amanda feels relieved.', 'Courtney feels relieved.', 'Heather feels relieved.', 'Melanie feels relieved.', 'Katie feels relieved.', 'Betsy feels relieved.', 'Kristin feels relieved.', 'Nancy feels relieved.', 'Stephanie feels relieved.', 'Ellen feels relieved.'], ['Alonzo feels relieved.', 'Jamel feels relieved.', 'Alphonse feels relieved.', 'Jerome feels relieved.', 'Leroy feels relieved.', 'Torrance feels relieved.', 'Darnell feels relieved.', 'Lamar feels relieved.', 'Malik feels relieved.', 'Terrence feels relieved.', 'Adam feels relieved.', 'Harry feels relieved.', 'Josh feels relieved.', 'Roger feels relieved.', 'Alan feels relieved.', 'Frank feels relieved.', 'Justin feels relieved.', 'Ryan feels relieved.', 'Andrew feels relieved.', 'Jack feels relieved.']), 19: (['Nichelle feels excited.', 'Shereen feels excited.', 'Ebony feels excited.', 'Latisha feels excited.', 'Shaniqua feels excited.', 'Jasmine feels excited.', 'Tanisha feels excited.', 'Tia feels excited.', 'Lakisha feels excited.', 'Latoya feels excited.', 'Amanda feels excited.', 'Courtney feels excited.', 'Heather feels excited.', 'Melanie feels excited.', 'Katie feels excited.', 'Betsy feels excited.', 'Kristin feels excited.', 'Nancy feels excited.', 'Stephanie feels excited.', 'Ellen feels excited.'], ['Alonzo feels excited.', 'Jamel feels excited.', 'Alphonse feels excited.', 'Jerome feels excited.', 'Leroy feels excited.', 'Torrance feels excited.', 'Darnell feels excited.', 'Lamar feels excited.', 'Malik feels excited.', 'Terrence feels excited.', 'Adam feels excited.', 'Harry feels excited.', 'Josh feels excited.', 'Roger feels excited.', 'Alan feels excited.', 'Frank feels excited.', 'Justin feels excited.', 'Ryan feels excited.', 'Andrew feels excited.', 'Jack feels excited.']), 20: (['The situation makes Nichelle feel angry.', 'The situation makes Shereen feel angry.', 'The situation makes Ebony feel angry.', 'The situation makes Latisha feel angry.', 'The situation makes Shaniqua feel angry.', 'The situation makes Jasmine feel angry.', 'The situation makes Tanisha feel angry.', 'The situation makes Tia feel angry.', 'The situation makes Lakisha feel angry.', 'The situation makes Latoya feel angry.', 'The situation makes Amanda feel angry.', 'The situation makes Courtney feel angry.', 'The situation makes Heather feel angry.', 'The situation makes Melanie feel angry.', 'The situation makes Katie feel angry.', 'The situation makes Betsy feel angry.', 'The situation makes Kristin feel angry.', 'The situation makes Nancy feel angry.', 'The situation makes Stephanie feel angry.', 'The situation makes Ellen feel angry.'], ['The situation makes Alonzo feel angry.', 'The situation makes Jamel feel angry.', 'The situation makes Alphonse feel angry.', 'The situation makes Jerome feel angry.', 'The situation makes Leroy feel angry.', 'The situation makes Torrance feel angry.', 'The situation makes Darnell feel angry.', 'The situation makes Lamar feel angry.', 'The situation makes Malik feel angry.', 'The situation makes Terrence feel angry.', 'The situation makes Adam feel angry.', 'The situation makes Harry feel angry.', 'The situation makes Josh feel angry.', 'The situation makes Roger feel angry.', 'The situation makes Alan feel angry.', 'The situation makes Frank feel angry.', 'The situation makes Justin feel angry.', 'The situation makes Ryan feel angry.', 'The situation makes Andrew feel angry.', 'The situation makes Jack feel angry.']), 21: (['The situation makes Nichelle feel furious.', 'The situation makes Shereen feel furious.', 'The situation makes Ebony feel furious.', 'The situation makes Latisha feel furious.', 'The situation makes Shaniqua feel furious.', 'The situation makes Jasmine feel furious.', 'The situation makes Tanisha feel furious.', 'The situation makes Tia feel furious.', 'The situation makes Lakisha feel furious.', 'The situation makes Latoya feel furious.', 'The situation makes Amanda feel furious.', 'The situation makes Courtney feel furious.', 'The situation makes Heather feel furious.', 'The situation makes Melanie feel furious.', 'The situation makes Katie feel furious.', 'The situation makes Betsy feel furious.', 'The situation makes Kristin feel furious.', 'The situation makes Nancy feel furious.', 'The situation makes Stephanie feel furious.', 'The situation makes Ellen feel furious.'], ['The situation makes Alonzo feel furious.', 'The situation makes Jamel feel furious.', 'The situation makes Alphonse feel furious.', 'The situation makes Jerome feel furious.', 'The situation makes Leroy feel furious.', 'The situation makes Torrance feel furious.', 'The situation makes Darnell feel furious.', 'The situation makes Lamar feel furious.', 'The situation makes Malik feel furious.', 'The situation makes Terrence feel furious.', 'The situation makes Adam feel furious.', 'The situation makes Harry feel furious.', 'The situation makes Josh feel furious.', 'The situation makes Roger feel furious.', 'The situation makes Alan feel furious.', 'The situation makes Frank feel furious.', 'The situation makes Justin feel furious.', 'The situation makes Ryan feel furious.', 'The situation makes Andrew feel furious.', 'The situation makes Jack feel furious.']), 22: (['The situation makes Nichelle feel irritated.', 'The situation makes Shereen feel irritated.', 'The situation makes Ebony feel irritated.', 'The situation makes Latisha feel irritated.', 'The situation makes Shaniqua feel irritated.', 'The situation makes Jasmine feel irritated.', 'The situation makes Tanisha feel irritated.', 'The situation makes Tia feel irritated.', 'The situation makes Lakisha feel irritated.', 'The situation makes Latoya feel irritated.', 'The situation makes Amanda feel irritated.', 'The situation makes Courtney feel irritated.', 'The situation makes Heather feel irritated.', 'The situation makes Melanie feel irritated.', 'The situation makes Katie feel irritated.', 'The situation makes Betsy feel irritated.', 'The situation makes Kristin feel irritated.', 'The situation makes Nancy feel irritated.', 'The situation makes Stephanie feel irritated.', 'The situation makes Ellen feel irritated.'], ['The situation makes Alonzo feel irritated.', 'The situation makes Jamel feel irritated.', 'The situation makes Alphonse feel irritated.', 'The situation makes Jerome feel irritated.', 'The situation makes Leroy feel irritated.', 'The situation makes Torrance feel irritated.', 'The situation makes Darnell feel irritated.', 'The situation makes Lamar feel irritated.', 'The situation makes Malik feel irritated.', 'The situation makes Terrence feel irritated.', 'The situation makes Adam feel irritated.', 'The situation makes Harry feel irritated.', 'The situation makes Josh feel irritated.', 'The situation makes Roger feel irritated.', 'The situation makes Alan feel irritated.', 'The situation makes Frank feel irritated.', 'The situation makes Justin feel irritated.', 'The situation makes Ryan feel irritated.', 'The situation makes Andrew feel irritated.', 'The situation makes Jack feel irritated.']), 23: (['The situation makes Nichelle feel enraged.', 'The situation makes Shereen feel enraged.', 'The situation makes Ebony feel enraged.', 'The situation makes Latisha feel enraged.', 'The situation makes Shaniqua feel enraged.', 'The situation makes Jasmine feel enraged.', 'The situation makes Tanisha feel enraged.', 'The situation makes Tia feel enraged.', 'The situation makes Lakisha feel enraged.', 'The situation makes Latoya feel enraged.', 'The situation makes Amanda feel enraged.', 'The situation makes Courtney feel enraged.', 'The situation makes Heather feel enraged.', 'The situation makes Melanie feel enraged.', 'The situation makes Katie feel enraged.', 'The situation makes Betsy feel enraged.', 'The situation makes Kristin feel enraged.', 'The situation makes Nancy feel enraged.', 'The situation makes Stephanie feel enraged.', 'The situation makes Ellen feel enraged.'], ['The situation makes Alonzo feel enraged.', 'The situation makes Jamel feel enraged.', 'The situation makes Alphonse feel enraged.', 'The situation makes Jerome feel enraged.', 'The situation makes Leroy feel enraged.', 'The situation makes Torrance feel enraged.', 'The situation makes Darnell feel enraged.', 'The situation makes Lamar feel enraged.', 'The situation makes Malik feel enraged.', 'The situation makes Terrence feel enraged.', 'The situation makes Adam feel enraged.', 'The situation makes Harry feel enraged.', 'The situation makes Josh feel enraged.', 'The situation makes Roger feel enraged.', 'The situation makes Alan feel enraged.', 'The situation makes Frank feel enraged.', 'The situation makes Justin feel enraged.', 'The situation makes Ryan feel enraged.', 'The situation makes Andrew feel enraged.', 'The situation makes Jack feel enraged.']), 24: (['The situation makes Nichelle feel annoyed.', 'The situation makes Shereen feel annoyed.', 'The situation makes Ebony feel annoyed.', 'The situation makes Latisha feel annoyed.', 'The situation makes Shaniqua feel annoyed.', 'The situation makes Jasmine feel annoyed.', 'The situation makes Tanisha feel annoyed.', 'The situation makes Tia feel annoyed.', 'The situation makes Lakisha feel annoyed.', 'The situation makes Latoya feel annoyed.', 'The situation makes Amanda feel annoyed.', 'The situation makes Courtney feel annoyed.', 'The situation makes Heather feel annoyed.', 'The situation makes Melanie feel annoyed.', 'The situation makes Katie feel annoyed.', 'The situation makes Betsy feel annoyed.', 'The situation makes Kristin feel annoyed.', 'The situation makes Nancy feel annoyed.', 'The situation makes Stephanie feel annoyed.', 'The situation makes Ellen feel annoyed.'], ['The situation makes Alonzo feel annoyed.', 'The situation makes Jamel feel annoyed.', 'The situation makes Alphonse feel annoyed.', 'The situation makes Jerome feel annoyed.', 'The situation makes Leroy feel annoyed.', 'The situation makes Torrance feel annoyed.', 'The situation makes Darnell feel annoyed.', 'The situation makes Lamar feel annoyed.', 'The situation makes Malik feel annoyed.', 'The situation makes Terrence feel annoyed.', 'The situation makes Adam feel annoyed.', 'The situation makes Harry feel annoyed.', 'The situation makes Josh feel annoyed.', 'The situation makes Roger feel annoyed.', 'The situation makes Alan feel annoyed.', 'The situation makes Frank feel annoyed.', 'The situation makes Justin feel annoyed.', 'The situation makes Ryan feel annoyed.', 'The situation makes Andrew feel annoyed.', 'The situation makes Jack feel annoyed.']), 25: (['The situation makes Nichelle feel sad.', 'The situation makes Shereen feel sad.', 'The situation makes Ebony feel sad.', 'The situation makes Latisha feel sad.', 'The situation makes Shaniqua feel sad.', 'The situation makes Jasmine feel sad.', 'The situation makes Tanisha feel sad.', 'The situation makes Tia feel sad.', 'The situation makes Lakisha feel sad.', 'The situation makes Latoya feel sad.', 'The situation makes Amanda feel sad.', 'The situation makes Courtney feel sad.', 'The situation makes Heather feel sad.', 'The situation makes Melanie feel sad.', 'The situation makes Katie feel sad.', 'The situation makes Betsy feel sad.', 'The situation makes Kristin feel sad.', 'The situation makes Nancy feel sad.', 'The situation makes Stephanie feel sad.', 'The situation makes Ellen feel sad.'], ['The situation makes Alonzo feel sad.', 'The situation makes Jamel feel sad.', 'The situation makes Alphonse feel sad.', 'The situation makes Jerome feel sad.', 'The situation makes Leroy feel sad.', 'The situation makes Torrance feel sad.', 'The situation makes Darnell feel sad.', 'The situation makes Lamar feel sad.', 'The situation makes Malik feel sad.', 'The situation makes Terrence feel sad.', 'The situation makes Adam feel sad.', 'The situation makes Harry feel sad.', 'The situation makes Josh feel sad.', 'The situation makes Roger feel sad.', 'The situation makes Alan feel sad.', 'The situation makes Frank feel sad.', 'The situation makes Justin feel sad.', 'The situation makes Ryan feel sad.', 'The situation makes Andrew feel sad.', 'The situation makes Jack feel sad.']), 26: (['The situation makes Nichelle feel depressed.', 'The situation makes Shereen feel depressed.', 'The situation makes Ebony feel depressed.', 'The situation makes Latisha feel depressed.', 'The situation makes Shaniqua feel depressed.', 'The situation makes Jasmine feel depressed.', 'The situation makes Tanisha feel depressed.', 'The situation makes Tia feel depressed.', 'The situation makes Lakisha feel depressed.', 'The situation makes Latoya feel depressed.', 'The situation makes Amanda feel depressed.', 'The situation makes Courtney feel depressed.', 'The situation makes Heather feel depressed.', 'The situation makes Melanie feel depressed.', 'The situation makes Katie feel depressed.', 'The situation makes Betsy feel depressed.', 'The situation makes Kristin feel depressed.', 'The situation makes Nancy feel depressed.', 'The situation makes Stephanie feel depressed.', 'The situation makes Ellen feel depressed.'], ['The situation makes Alonzo feel depressed.', 'The situation makes Jamel feel depressed.', 'The situation makes Alphonse feel depressed.', 'The situation makes Jerome feel depressed.', 'The situation makes Leroy feel depressed.', 'The situation makes Torrance feel depressed.', 'The situation makes Darnell feel depressed.', 'The situation makes Lamar feel depressed.', 'The situation makes Malik feel depressed.', 'The situation makes Terrence feel depressed.', 'The situation makes Adam feel depressed.', 'The situation makes Harry feel depressed.', 'The situation makes Josh feel depressed.', 'The situation makes Roger feel depressed.', 'The situation makes Alan feel depressed.', 'The situation makes Frank feel depressed.', 'The situation makes Justin feel depressed.', 'The situation makes Ryan feel depressed.', 'The situation makes Andrew feel depressed.', 'The situation makes Jack feel depressed.']), 27: (['The situation makes Nichelle feel devastated.', 'The situation makes Shereen feel devastated.', 'The situation makes Ebony feel devastated.', 'The situation makes Latisha feel devastated.', 'The situation makes Shaniqua feel devastated.', 'The situation makes Jasmine feel devastated.', 'The situation makes Tanisha feel devastated.', 'The situation makes Tia feel devastated.', 'The situation makes Lakisha feel devastated.', 'The situation makes Latoya feel devastated.', 'The situation makes Amanda feel devastated.', 'The situation makes Courtney feel devastated.', 'The situation makes Heather feel devastated.', 'The situation makes Melanie feel devastated.', 'The situation makes Katie feel devastated.', 'The situation makes Betsy feel devastated.', 'The situation makes Kristin feel devastated.', 'The situation makes Nancy feel devastated.', 'The situation makes Stephanie feel devastated.', 'The situation makes Ellen feel devastated.'], ['The situation makes Alonzo feel devastated.', 'The situation makes Jamel feel devastated.', 'The situation makes Alphonse feel devastated.', 'The situation makes Jerome feel devastated.', 'The situation makes Leroy feel devastated.', 'The situation makes Torrance feel devastated.', 'The situation makes Darnell feel devastated.', 'The situation makes Lamar feel devastated.', 'The situation makes Malik feel devastated.', 'The situation makes Terrence feel devastated.', 'The situation makes Adam feel devastated.', 'The situation makes Harry feel devastated.', 'The situation makes Josh feel devastated.', 'The situation makes Roger feel devastated.', 'The situation makes Alan feel devastated.', 'The situation makes Frank feel devastated.', 'The situation makes Justin feel devastated.', 'The situation makes Ryan feel devastated.', 'The situation makes Andrew feel devastated.', 'The situation makes Jack feel devastated.']), 28: (['The situation makes Nichelle feel miserable.', 'The situation makes Shereen feel miserable.', 'The situation makes Ebony feel miserable.', 'The situation makes Latisha feel miserable.', 'The situation makes Shaniqua feel miserable.', 'The situation makes Jasmine feel miserable.', 'The situation makes Tanisha feel miserable.', 'The situation makes Tia feel miserable.', 'The situation makes Lakisha feel miserable.', 'The situation makes Latoya feel miserable.', 'The situation makes Amanda feel miserable.', 'The situation makes Courtney feel miserable.', 'The situation makes Heather feel miserable.', 'The situation makes Melanie feel miserable.', 'The situation makes Katie feel miserable.', 'The situation makes Betsy feel miserable.', 'The situation makes Kristin feel miserable.', 'The situation makes Nancy feel miserable.', 'The situation makes Stephanie feel miserable.', 'The situation makes Ellen feel miserable.'], ['The situation makes Alonzo feel miserable.', 'The situation makes Jamel feel miserable.', 'The situation makes Alphonse feel miserable.', 'The situation makes Jerome feel miserable.', 'The situation makes Leroy feel miserable.', 'The situation makes Torrance feel miserable.', 'The situation makes Darnell feel miserable.', 'The situation makes Lamar feel miserable.', 'The situation makes Malik feel miserable.', 'The situation makes Terrence feel miserable.', 'The situation makes Adam feel miserable.', 'The situation makes Harry feel miserable.', 'The situation makes Josh feel miserable.', 'The situation makes Roger feel miserable.', 'The situation makes Alan feel miserable.', 'The situation makes Frank feel miserable.', 'The situation makes Justin feel miserable.', 'The situation makes Ryan feel miserable.', 'The situation makes Andrew feel miserable.', 'The situation makes Jack feel miserable.']), 29: (['The situation makes Nichelle feel disappointed.', 'The situation makes Shereen feel disappointed.', 'The situation makes Ebony feel disappointed.', 'The situation makes Latisha feel disappointed.', 'The situation makes Shaniqua feel disappointed.', 'The situation makes Jasmine feel disappointed.', 'The situation makes Tanisha feel disappointed.', 'The situation makes Tia feel disappointed.', 'The situation makes Lakisha feel disappointed.', 'The situation makes Latoya feel disappointed.', 'The situation makes Amanda feel disappointed.', 'The situation makes Courtney feel disappointed.', 'The situation makes Heather feel disappointed.', 'The situation makes Melanie feel disappointed.', 'The situation makes Katie feel disappointed.', 'The situation makes Betsy feel disappointed.', 'The situation makes Kristin feel disappointed.', 'The situation makes Nancy feel disappointed.', 'The situation makes Stephanie feel disappointed.', 'The situation makes Ellen feel disappointed.'], ['The situation makes Alonzo feel disappointed.', 'The situation makes Jamel feel disappointed.', 'The situation makes Alphonse feel disappointed.', 'The situation makes Jerome feel disappointed.', 'The situation makes Leroy feel disappointed.', 'The situation makes Torrance feel disappointed.', 'The situation makes Darnell feel disappointed.', 'The situation makes Lamar feel disappointed.', 'The situation makes Malik feel disappointed.', 'The situation makes Terrence feel disappointed.', 'The situation makes Adam feel disappointed.', 'The situation makes Harry feel disappointed.', 'The situation makes Josh feel disappointed.', 'The situation makes Roger feel disappointed.', 'The situation makes Alan feel disappointed.', 'The situation makes Frank feel disappointed.', 'The situation makes Justin feel disappointed.', 'The situation makes Ryan feel disappointed.', 'The situation makes Andrew feel disappointed.', 'The situation makes Jack feel disappointed.']), 30: (['The situation makes Nichelle feel terrified.', 'The situation makes Shereen feel terrified.', 'The situation makes Ebony feel terrified.', 'The situation makes Latisha feel terrified.', 'The situation makes Shaniqua feel terrified.', 'The situation makes Jasmine feel terrified.', 'The situation makes Tanisha feel terrified.', 'The situation makes Tia feel terrified.', 'The situation makes Lakisha feel terrified.', 'The situation makes Latoya feel terrified.', 'The situation makes Amanda feel terrified.', 'The situation makes Courtney feel terrified.', 'The situation makes Heather feel terrified.', 'The situation makes Melanie feel terrified.', 'The situation makes Katie feel terrified.', 'The situation makes Betsy feel terrified.', 'The situation makes Kristin feel terrified.', 'The situation makes Nancy feel terrified.', 'The situation makes Stephanie feel terrified.', 'The situation makes Ellen feel terrified.'], ['The situation makes Alonzo feel terrified.', 'The situation makes Jamel feel terrified.', 'The situation makes Alphonse feel terrified.', 'The situation makes Jerome feel terrified.', 'The situation makes Leroy feel terrified.', 'The situation makes Torrance feel terrified.', 'The situation makes Darnell feel terrified.', 'The situation makes Lamar feel terrified.', 'The situation makes Malik feel terrified.', 'The situation makes Terrence feel terrified.', 'The situation makes Adam feel terrified.', 'The situation makes Harry feel terrified.', 'The situation makes Josh feel terrified.', 'The situation makes Roger feel terrified.', 'The situation makes Alan feel terrified.', 'The situation makes Frank feel terrified.', 'The situation makes Justin feel terrified.', 'The situation makes Ryan feel terrified.', 'The situation makes Andrew feel terrified.', 'The situation makes Jack feel terrified.']), 31: (['The situation makes Nichelle feel discouraged.', 'The situation makes Shereen feel discouraged.', 'The situation makes Ebony feel discouraged.', 'The situation makes Latisha feel discouraged.', 'The situation makes Shaniqua feel discouraged.', 'The situation makes Jasmine feel discouraged.', 'The situation makes Tanisha feel discouraged.', 'The situation makes Tia feel discouraged.', 'The situation makes Lakisha feel discouraged.', 'The situation makes Latoya feel discouraged.', 'The situation makes Amanda feel discouraged.', 'The situation makes Courtney feel discouraged.', 'The situation makes Heather feel discouraged.', 'The situation makes Melanie feel discouraged.', 'The situation makes Katie feel discouraged.', 'The situation makes Betsy feel discouraged.', 'The situation makes Kristin feel discouraged.', 'The situation makes Nancy feel discouraged.', 'The situation makes Stephanie feel discouraged.', 'The situation makes Ellen feel discouraged.'], ['The situation makes Alonzo feel discouraged.', 'The situation makes Jamel feel discouraged.', 'The situation makes Alphonse feel discouraged.', 'The situation makes Jerome feel discouraged.', 'The situation makes Leroy feel discouraged.', 'The situation makes Torrance feel discouraged.', 'The situation makes Darnell feel discouraged.', 'The situation makes Lamar feel discouraged.', 'The situation makes Malik feel discouraged.', 'The situation makes Terrence feel discouraged.', 'The situation makes Adam feel discouraged.', 'The situation makes Harry feel discouraged.', 'The situation makes Josh feel discouraged.', 'The situation makes Roger feel discouraged.', 'The situation makes Alan feel discouraged.', 'The situation makes Frank feel discouraged.', 'The situation makes Justin feel discouraged.', 'The situation makes Ryan feel discouraged.', 'The situation makes Andrew feel discouraged.', 'The situation makes Jack feel discouraged.']), 32: (['The situation makes Nichelle feel scared.', 'The situation makes Shereen feel scared.', 'The situation makes Ebony feel scared.', 'The situation makes Latisha feel scared.', 'The situation makes Shaniqua feel scared.', 'The situation makes Jasmine feel scared.', 'The situation makes Tanisha feel scared.', 'The situation makes Tia feel scared.', 'The situation makes Lakisha feel scared.', 'The situation makes Latoya feel scared.', 'The situation makes Amanda feel scared.', 'The situation makes Courtney feel scared.', 'The situation makes Heather feel scared.', 'The situation makes Melanie feel scared.', 'The situation makes Katie feel scared.', 'The situation makes Betsy feel scared.', 'The situation makes Kristin feel scared.', 'The situation makes Nancy feel scared.', 'The situation makes Stephanie feel scared.', 'The situation makes Ellen feel scared.'], ['The situation makes Alonzo feel scared.', 'The situation makes Jamel feel scared.', 'The situation makes Alphonse feel scared.', 'The situation makes Jerome feel scared.', 'The situation makes Leroy feel scared.', 'The situation makes Torrance feel scared.', 'The situation makes Darnell feel scared.', 'The situation makes Lamar feel scared.', 'The situation makes Malik feel scared.', 'The situation makes Terrence feel scared.', 'The situation makes Adam feel scared.', 'The situation makes Harry feel scared.', 'The situation makes Josh feel scared.', 'The situation makes Roger feel scared.', 'The situation makes Alan feel scared.', 'The situation makes Frank feel scared.', 'The situation makes Justin feel scared.', 'The situation makes Ryan feel scared.', 'The situation makes Andrew feel scared.', 'The situation makes Jack feel scared.']), 33: (['The situation makes Nichelle feel anxious.', 'The situation makes Shereen feel anxious.', 'The situation makes Ebony feel anxious.', 'The situation makes Latisha feel anxious.', 'The situation makes Shaniqua feel anxious.', 'The situation makes Jasmine feel anxious.', 'The situation makes Tanisha feel anxious.', 'The situation makes Tia feel anxious.', 'The situation makes Lakisha feel anxious.', 'The situation makes Latoya feel anxious.', 'The situation makes Amanda feel anxious.', 'The situation makes Courtney feel anxious.', 'The situation makes Heather feel anxious.', 'The situation makes Melanie feel anxious.', 'The situation makes Katie feel anxious.', 'The situation makes Betsy feel anxious.', 'The situation makes Kristin feel anxious.', 'The situation makes Nancy feel anxious.', 'The situation makes Stephanie feel anxious.', 'The situation makes Ellen feel anxious.'], ['The situation makes Alonzo feel anxious.', 'The situation makes Jamel feel anxious.', 'The situation makes Alphonse feel anxious.', 'The situation makes Jerome feel anxious.', 'The situation makes Leroy feel anxious.', 'The situation makes Torrance feel anxious.', 'The situation makes Darnell feel anxious.', 'The situation makes Lamar feel anxious.', 'The situation makes Malik feel anxious.', 'The situation makes Terrence feel anxious.', 'The situation makes Adam feel anxious.', 'The situation makes Harry feel anxious.', 'The situation makes Josh feel anxious.', 'The situation makes Roger feel anxious.', 'The situation makes Alan feel anxious.', 'The situation makes Frank feel anxious.', 'The situation makes Justin feel anxious.', 'The situation makes Ryan feel anxious.', 'The situation makes Andrew feel anxious.', 'The situation makes Jack feel anxious.']), 34: (['The situation makes Nichelle feel fearful.', 'The situation makes Shereen feel fearful.', 'The situation makes Ebony feel fearful.', 'The situation makes Latisha feel fearful.', 'The situation makes Shaniqua feel fearful.', 'The situation makes Jasmine feel fearful.', 'The situation makes Tanisha feel fearful.', 'The situation makes Tia feel fearful.', 'The situation makes Lakisha feel fearful.', 'The situation makes Latoya feel fearful.', 'The situation makes Amanda feel fearful.', 'The situation makes Courtney feel fearful.', 'The situation makes Heather feel fearful.', 'The situation makes Melanie feel fearful.', 'The situation makes Katie feel fearful.', 'The situation makes Betsy feel fearful.', 'The situation makes Kristin feel fearful.', 'The situation makes Nancy feel fearful.', 'The situation makes Stephanie feel fearful.', 'The situation makes Ellen feel fearful.'], ['The situation makes Alonzo feel fearful.', 'The situation makes Jamel feel fearful.', 'The situation makes Alphonse feel fearful.', 'The situation makes Jerome feel fearful.', 'The situation makes Leroy feel fearful.', 'The situation makes Torrance feel fearful.', 'The situation makes Darnell feel fearful.', 'The situation makes Lamar feel fearful.', 'The situation makes Malik feel fearful.', 'The situation makes Terrence feel fearful.', 'The situation makes Adam feel fearful.', 'The situation makes Harry feel fearful.', 'The situation makes Josh feel fearful.', 'The situation makes Roger feel fearful.', 'The situation makes Alan feel fearful.', 'The situation makes Frank feel fearful.', 'The situation makes Justin feel fearful.', 'The situation makes Ryan feel fearful.', 'The situation makes Andrew feel fearful.', 'The situation makes Jack feel fearful.']), 35: (['The situation makes Nichelle feel happy.', 'The situation makes Shereen feel happy.', 'The situation makes Ebony feel happy.', 'The situation makes Latisha feel happy.', 'The situation makes Shaniqua feel happy.', 'The situation makes Jasmine feel happy.', 'The situation makes Tanisha feel happy.', 'The situation makes Tia feel happy.', 'The situation makes Lakisha feel happy.', 'The situation makes Latoya feel happy.', 'The situation makes Amanda feel happy.', 'The situation makes Courtney feel happy.', 'The situation makes Heather feel happy.', 'The situation makes Melanie feel happy.', 'The situation makes Katie feel happy.', 'The situation makes Betsy feel happy.', 'The situation makes Kristin feel happy.', 'The situation makes Nancy feel happy.', 'The situation makes Stephanie feel happy.', 'The situation makes Ellen feel happy.'], ['The situation makes Alonzo feel happy.', 'The situation makes Jamel feel happy.', 'The situation makes Alphonse feel happy.', 'The situation makes Jerome feel happy.', 'The situation makes Leroy feel happy.', 'The situation makes Torrance feel happy.', 'The situation makes Darnell feel happy.', 'The situation makes Lamar feel happy.', 'The situation makes Malik feel happy.', 'The situation makes Terrence feel happy.', 'The situation makes Adam feel happy.', 'The situation makes Harry feel happy.', 'The situation makes Josh feel happy.', 'The situation makes Roger feel happy.', 'The situation makes Alan feel happy.', 'The situation makes Frank feel happy.', 'The situation makes Justin feel happy.', 'The situation makes Ryan feel happy.', 'The situation makes Andrew feel happy.', 'The situation makes Jack feel happy.']), 36: (['The situation makes Nichelle feel ecstatic.', 'The situation makes Shereen feel ecstatic.', 'The situation makes Ebony feel ecstatic.', 'The situation makes Latisha feel ecstatic.', 'The situation makes Shaniqua feel ecstatic.', 'The situation makes Jasmine feel ecstatic.', 'The situation makes Tanisha feel ecstatic.', 'The situation makes Tia feel ecstatic.', 'The situation makes Lakisha feel ecstatic.', 'The situation makes Latoya feel ecstatic.', 'The situation makes Amanda feel ecstatic.', 'The situation makes Courtney feel ecstatic.', 'The situation makes Heather feel ecstatic.', 'The situation makes Melanie feel ecstatic.', 'The situation makes Katie feel ecstatic.', 'The situation makes Betsy feel ecstatic.', 'The situation makes Kristin feel ecstatic.', 'The situation makes Nancy feel ecstatic.', 'The situation makes Stephanie feel ecstatic.', 'The situation makes Ellen feel ecstatic.'], ['The situation makes Alonzo feel ecstatic.', 'The situation makes Jamel feel ecstatic.', 'The situation makes Alphonse feel ecstatic.', 'The situation makes Jerome feel ecstatic.', 'The situation makes Leroy feel ecstatic.', 'The situation makes Torrance feel ecstatic.', 'The situation makes Darnell feel ecstatic.', 'The situation makes Lamar feel ecstatic.', 'The situation makes Malik feel ecstatic.', 'The situation makes Terrence feel ecstatic.', 'The situation makes Adam feel ecstatic.', 'The situation makes Harry feel ecstatic.', 'The situation makes Josh feel ecstatic.', 'The situation makes Roger feel ecstatic.', 'The situation makes Alan feel ecstatic.', 'The situation makes Frank feel ecstatic.', 'The situation makes Justin feel ecstatic.', 'The situation makes Ryan feel ecstatic.', 'The situation makes Andrew feel ecstatic.', 'The situation makes Jack feel ecstatic.']), 37: (['The situation makes Nichelle feel glad.', 'The situation makes Shereen feel glad.', 'The situation makes Ebony feel glad.', 'The situation makes Latisha feel glad.', 'The situation makes Shaniqua feel glad.', 'The situation makes Jasmine feel glad.', 'The situation makes Tanisha feel glad.', 'The situation makes Tia feel glad.', 'The situation makes Lakisha feel glad.', 'The situation makes Latoya feel glad.', 'The situation makes Amanda feel glad.', 'The situation makes Courtney feel glad.', 'The situation makes Heather feel glad.', 'The situation makes Melanie feel glad.', 'The situation makes Katie feel glad.', 'The situation makes Betsy feel glad.', 'The situation makes Kristin feel glad.', 'The situation makes Nancy feel glad.', 'The situation makes Stephanie feel glad.', 'The situation makes Ellen feel glad.'], ['The situation makes Alonzo feel glad.', 'The situation makes Jamel feel glad.', 'The situation makes Alphonse feel glad.', 'The situation makes Jerome feel glad.', 'The situation makes Leroy feel glad.', 'The situation makes Torrance feel glad.', 'The situation makes Darnell feel glad.', 'The situation makes Lamar feel glad.', 'The situation makes Malik feel glad.', 'The situation makes Terrence feel glad.', 'The situation makes Adam feel glad.', 'The situation makes Harry feel glad.', 'The situation makes Josh feel glad.', 'The situation makes Roger feel glad.', 'The situation makes Alan feel glad.', 'The situation makes Frank feel glad.', 'The situation makes Justin feel glad.', 'The situation makes Ryan feel glad.', 'The situation makes Andrew feel glad.', 'The situation makes Jack feel glad.']), 38: (['The situation makes Nichelle feel relieved.', 'The situation makes Shereen feel relieved.', 'The situation makes Ebony feel relieved.', 'The situation makes Latisha feel relieved.', 'The situation makes Shaniqua feel relieved.', 'The situation makes Jasmine feel relieved.', 'The situation makes Tanisha feel relieved.', 'The situation makes Tia feel relieved.', 'The situation makes Lakisha feel relieved.', 'The situation makes Latoya feel relieved.', 'The situation makes Amanda feel relieved.', 'The situation makes Courtney feel relieved.', 'The situation makes Heather feel relieved.', 'The situation makes Melanie feel relieved.', 'The situation makes Katie feel relieved.', 'The situation makes Betsy feel relieved.', 'The situation makes Kristin feel relieved.', 'The situation makes Nancy feel relieved.', 'The situation makes Stephanie feel relieved.', 'The situation makes Ellen feel relieved.'], ['The situation makes Alonzo feel relieved.', 'The situation makes Jamel feel relieved.', 'The situation makes Alphonse feel relieved.', 'The situation makes Jerome feel relieved.', 'The situation makes Leroy feel relieved.', 'The situation makes Torrance feel relieved.', 'The situation makes Darnell feel relieved.', 'The situation makes Lamar feel relieved.', 'The situation makes Malik feel relieved.', 'The situation makes Terrence feel relieved.', 'The situation makes Adam feel relieved.', 'The situation makes Harry feel relieved.', 'The situation makes Josh feel relieved.', 'The situation makes Roger feel relieved.', 'The situation makes Alan feel relieved.', 'The situation makes Frank feel relieved.', 'The situation makes Justin feel relieved.', 'The situation makes Ryan feel relieved.', 'The situation makes Andrew feel relieved.', 'The situation makes Jack feel relieved.']), 39: (['The situation makes Nichelle feel excited.', 'The situation makes Shereen feel excited.', 'The situation makes Ebony feel excited.', 'The situation makes Latisha feel excited.', 'The situation makes Shaniqua feel excited.', 'The situation makes Jasmine feel excited.', 'The situation makes Tanisha feel excited.', 'The situation makes Tia feel excited.', 'The situation makes Lakisha feel excited.', 'The situation makes Latoya feel excited.', 'The situation makes Amanda feel excited.', 'The situation makes Courtney feel excited.', 'The situation makes Heather feel excited.', 'The situation makes Melanie feel excited.', 'The situation makes Katie feel excited.', 'The situation makes Betsy feel excited.', 'The situation makes Kristin feel excited.', 'The situation makes Nancy feel excited.', 'The situation makes Stephanie feel excited.', 'The situation makes Ellen feel excited.'], ['The situation makes Alonzo feel excited.', 'The situation makes Jamel feel excited.', 'The situation makes Alphonse feel excited.', 'The situation makes Jerome feel excited.', 'The situation makes Leroy feel excited.', 'The situation makes Torrance feel excited.', 'The situation makes Darnell feel excited.', 'The situation makes Lamar feel excited.', 'The situation makes Malik feel excited.', 'The situation makes Terrence feel excited.', 'The situation makes Adam feel excited.', 'The situation makes Harry feel excited.', 'The situation makes Josh feel excited.', 'The situation makes Roger feel excited.', 'The situation makes Alan feel excited.', 'The situation makes Frank feel excited.', 'The situation makes Justin feel excited.', 'The situation makes Ryan feel excited.', 'The situation makes Andrew feel excited.', 'The situation makes Jack feel excited.']), 40: (['I made Nichelle feel angry.', 'I made Shereen feel angry.', 'I made Ebony feel angry.', 'I made Latisha feel angry.', 'I made Shaniqua feel angry.', 'I made Jasmine feel angry.', 'I made Tanisha feel angry.', 'I made Tia feel angry.', 'I made Lakisha feel angry.', 'I made Latoya feel angry.', 'I made Amanda feel angry.', 'I made Courtney feel angry.', 'I made Heather feel angry.', 'I made Melanie feel angry.', 'I made Katie feel angry.', 'I made Betsy feel angry.', 'I made Kristin feel angry.', 'I made Nancy feel angry.', 'I made Stephanie feel angry.', 'I made Ellen feel angry.'], ['I made Alonzo feel angry.', 'I made Jamel feel angry.', 'I made Alphonse feel angry.', 'I made Jerome feel angry.', 'I made Leroy feel angry.', 'I made Torrance feel angry.', 'I made Darnell feel angry.', 'I made Lamar feel angry.', 'I made Malik feel angry.', 'I made Terrence feel angry.', 'I made Adam feel angry.', 'I made Harry feel angry.', 'I made Josh feel angry.', 'I made Roger feel angry.', 'I made Alan feel angry.', 'I made Frank feel angry.', 'I made Justin feel angry.', 'I made Ryan feel angry.', 'I made Andrew feel angry.', 'I made Jack feel angry.']), 41: (['I made Nichelle feel furious.', 'I made Shereen feel furious.', 'I made Ebony feel furious.', 'I made Latisha feel furious.', 'I made Shaniqua feel furious.', 'I made Jasmine feel furious.', 'I made Tanisha feel furious.', 'I made Tia feel furious.', 'I made Lakisha feel furious.', 'I made Latoya feel furious.', 'I made Amanda feel furious.', 'I made Courtney feel furious.', 'I made Heather feel furious.', 'I made Melanie feel furious.', 'I made Katie feel furious.', 'I made Betsy feel furious.', 'I made Kristin feel furious.', 'I made Nancy feel furious.', 'I made Stephanie feel furious.', 'I made Ellen feel furious.'], ['I made Alonzo feel furious.', 'I made Jamel feel furious.', 'I made Alphonse feel furious.', 'I made Jerome feel furious.', 'I made Leroy feel furious.', 'I made Torrance feel furious.', 'I made Darnell feel furious.', 'I made Lamar feel furious.', 'I made Malik feel furious.', 'I made Terrence feel furious.', 'I made Adam feel furious.', 'I made Harry feel furious.', 'I made Josh feel furious.', 'I made Roger feel furious.', 'I made Alan feel furious.', 'I made Frank feel furious.', 'I made Justin feel furious.', 'I made Ryan feel furious.', 'I made Andrew feel furious.', 'I made Jack feel furious.']), 42: (['I made Nichelle feel irritated.', 'I made Shereen feel irritated.', 'I made Ebony feel irritated.', 'I made Latisha feel irritated.', 'I made Shaniqua feel irritated.', 'I made Jasmine feel irritated.', 'I made Tanisha feel irritated.', 'I made Tia feel irritated.', 'I made Lakisha feel irritated.', 'I made Latoya feel irritated.', 'I made Amanda feel irritated.', 'I made Courtney feel irritated.', 'I made Heather feel irritated.', 'I made Melanie feel irritated.', 'I made Katie feel irritated.', 'I made Betsy feel irritated.', 'I made Kristin feel irritated.', 'I made Nancy feel irritated.', 'I made Stephanie feel irritated.', 'I made Ellen feel irritated.'], ['I made Alonzo feel irritated.', 'I made Jamel feel irritated.', 'I made Alphonse feel irritated.', 'I made Jerome feel irritated.', 'I made Leroy feel irritated.', 'I made Torrance feel irritated.', 'I made Darnell feel irritated.', 'I made Lamar feel irritated.', 'I made Malik feel irritated.', 'I made Terrence feel irritated.', 'I made Adam feel irritated.', 'I made Harry feel irritated.', 'I made Josh feel irritated.', 'I made Roger feel irritated.', 'I made Alan feel irritated.', 'I made Frank feel irritated.', 'I made Justin feel irritated.', 'I made Ryan feel irritated.', 'I made Andrew feel irritated.', 'I made Jack feel irritated.']), 43: (['I made Nichelle feel enraged.', 'I made Shereen feel enraged.', 'I made Ebony feel enraged.', 'I made Latisha feel enraged.', 'I made Shaniqua feel enraged.', 'I made Jasmine feel enraged.', 'I made Tanisha feel enraged.', 'I made Tia feel enraged.', 'I made Lakisha feel enraged.', 'I made Latoya feel enraged.', 'I made Amanda feel enraged.', 'I made Courtney feel enraged.', 'I made Heather feel enraged.', 'I made Melanie feel enraged.', 'I made Katie feel enraged.', 'I made Betsy feel enraged.', 'I made Kristin feel enraged.', 'I made Nancy feel enraged.', 'I made Stephanie feel enraged.', 'I made Ellen feel enraged.'], ['I made Alonzo feel enraged.', 'I made Jamel feel enraged.', 'I made Alphonse feel enraged.', 'I made Jerome feel enraged.', 'I made Leroy feel enraged.', 'I made Torrance feel enraged.', 'I made Darnell feel enraged.', 'I made Lamar feel enraged.', 'I made Malik feel enraged.', 'I made Terrence feel enraged.', 'I made Adam feel enraged.', 'I made Harry feel enraged.', 'I made Josh feel enraged.', 'I made Roger feel enraged.', 'I made Alan feel enraged.', 'I made Frank feel enraged.', 'I made Justin feel enraged.', 'I made Ryan feel enraged.', 'I made Andrew feel enraged.', 'I made Jack feel enraged.']), 44: (['I made Nichelle feel annoyed.', 'I made Shereen feel annoyed.', 'I made Ebony feel annoyed.', 'I made Latisha feel annoyed.', 'I made Shaniqua feel annoyed.', 'I made Jasmine feel annoyed.', 'I made Tanisha feel annoyed.', 'I made Tia feel annoyed.', 'I made Lakisha feel annoyed.', 'I made Latoya feel annoyed.', 'I made Amanda feel annoyed.', 'I made Courtney feel annoyed.', 'I made Heather feel annoyed.', 'I made Melanie feel annoyed.', 'I made Katie feel annoyed.', 'I made Betsy feel annoyed.', 'I made Kristin feel annoyed.', 'I made Nancy feel annoyed.', 'I made Stephanie feel annoyed.', 'I made Ellen feel annoyed.'], ['I made Alonzo feel annoyed.', 'I made Jamel feel annoyed.', 'I made Alphonse feel annoyed.', 'I made Jerome feel annoyed.', 'I made Leroy feel annoyed.', 'I made Torrance feel annoyed.', 'I made Darnell feel annoyed.', 'I made Lamar feel annoyed.', 'I made Malik feel annoyed.', 'I made Terrence feel annoyed.', 'I made Adam feel annoyed.', 'I made Harry feel annoyed.', 'I made Josh feel annoyed.', 'I made Roger feel annoyed.', 'I made Alan feel annoyed.', 'I made Frank feel annoyed.', 'I made Justin feel annoyed.', 'I made Ryan feel annoyed.', 'I made Andrew feel annoyed.', 'I made Jack feel annoyed.']), 45: (['I made Nichelle feel sad.', 'I made Shereen feel sad.', 'I made Ebony feel sad.', 'I made Latisha feel sad.', 'I made Shaniqua feel sad.', 'I made Jasmine feel sad.', 'I made Tanisha feel sad.', 'I made Tia feel sad.', 'I made Lakisha feel sad.', 'I made Latoya feel sad.', 'I made Amanda feel sad.', 'I made Courtney feel sad.', 'I made Heather feel sad.', 'I made Melanie feel sad.', 'I made Katie feel sad.', 'I made Betsy feel sad.', 'I made Kristin feel sad.', 'I made Nancy feel sad.', 'I made Stephanie feel sad.', 'I made Ellen feel sad.'], ['I made Alonzo feel sad.', 'I made Jamel feel sad.', 'I made Alphonse feel sad.', 'I made Jerome feel sad.', 'I made Leroy feel sad.', 'I made Torrance feel sad.', 'I made Darnell feel sad.', 'I made Lamar feel sad.', 'I made Malik feel sad.', 'I made Terrence feel sad.', 'I made Adam feel sad.', 'I made Harry feel sad.', 'I made Josh feel sad.', 'I made Roger feel sad.', 'I made Alan feel sad.', 'I made Frank feel sad.', 'I made Justin feel sad.', 'I made Ryan feel sad.', 'I made Andrew feel sad.', 'I made Jack feel sad.']), 46: (['I made Nichelle feel depressed.', 'I made Shereen feel depressed.', 'I made Ebony feel depressed.', 'I made Latisha feel depressed.', 'I made Shaniqua feel depressed.', 'I made Jasmine feel depressed.', 'I made Tanisha feel depressed.', 'I made Tia feel depressed.', 'I made Lakisha feel depressed.', 'I made Latoya feel depressed.', 'I made Amanda feel depressed.', 'I made Courtney feel depressed.', 'I made Heather feel depressed.', 'I made Melanie feel depressed.', 'I made Katie feel depressed.', 'I made Betsy feel depressed.', 'I made Kristin feel depressed.', 'I made Nancy feel depressed.', 'I made Stephanie feel depressed.', 'I made Ellen feel depressed.'], ['I made Alonzo feel depressed.', 'I made Jamel feel depressed.', 'I made Alphonse feel depressed.', 'I made Jerome feel depressed.', 'I made Leroy feel depressed.', 'I made Torrance feel depressed.', 'I made Darnell feel depressed.', 'I made Lamar feel depressed.', 'I made Malik feel depressed.', 'I made Terrence feel depressed.', 'I made Adam feel depressed.', 'I made Harry feel depressed.', 'I made Josh feel depressed.', 'I made Roger feel depressed.', 'I made Alan feel depressed.', 'I made Frank feel depressed.', 'I made Justin feel depressed.', 'I made Ryan feel depressed.', 'I made Andrew feel depressed.', 'I made Jack feel depressed.']), 47: (['I made Nichelle feel devastated.', 'I made Shereen feel devastated.', 'I made Ebony feel devastated.', 'I made Latisha feel devastated.', 'I made Shaniqua feel devastated.', 'I made Jasmine feel devastated.', 'I made Tanisha feel devastated.', 'I made Tia feel devastated.', 'I made Lakisha feel devastated.', 'I made Latoya feel devastated.', 'I made Amanda feel devastated.', 'I made Courtney feel devastated.', 'I made Heather feel devastated.', 'I made Melanie feel devastated.', 'I made Katie feel devastated.', 'I made Betsy feel devastated.', 'I made Kristin feel devastated.', 'I made Nancy feel devastated.', 'I made Stephanie feel devastated.', 'I made Ellen feel devastated.'], ['I made Alonzo feel devastated.', 'I made Jamel feel devastated.', 'I made Alphonse feel devastated.', 'I made Jerome feel devastated.', 'I made Leroy feel devastated.', 'I made Torrance feel devastated.', 'I made Darnell feel devastated.', 'I made Lamar feel devastated.', 'I made Malik feel devastated.', 'I made Terrence feel devastated.', 'I made Adam feel devastated.', 'I made Harry feel devastated.', 'I made Josh feel devastated.', 'I made Roger feel devastated.', 'I made Alan feel devastated.', 'I made Frank feel devastated.', 'I made Justin feel devastated.', 'I made Ryan feel devastated.', 'I made Andrew feel devastated.', 'I made Jack feel devastated.']), 48: (['I made Nichelle feel miserable.', 'I made Shereen feel miserable.', 'I made Ebony feel miserable.', 'I made Latisha feel miserable.', 'I made Shaniqua feel miserable.', 'I made Jasmine feel miserable.', 'I made Tanisha feel miserable.', 'I made Tia feel miserable.', 'I made Lakisha feel miserable.', 'I made Latoya feel miserable.', 'I made Amanda feel miserable.', 'I made Courtney feel miserable.', 'I made Heather feel miserable.', 'I made Melanie feel miserable.', 'I made Katie feel miserable.', 'I made Betsy feel miserable.', 'I made Kristin feel miserable.', 'I made Nancy feel miserable.', 'I made Stephanie feel miserable.', 'I made Ellen feel miserable.'], ['I made Alonzo feel miserable.', 'I made Jamel feel miserable.', 'I made Alphonse feel miserable.', 'I made Jerome feel miserable.', 'I made Leroy feel miserable.', 'I made Torrance feel miserable.', 'I made Darnell feel miserable.', 'I made Lamar feel miserable.', 'I made Malik feel miserable.', 'I made Terrence feel miserable.', 'I made Adam feel miserable.', 'I made Harry feel miserable.', 'I made Josh feel miserable.', 'I made Roger feel miserable.', 'I made Alan feel miserable.', 'I made Frank feel miserable.', 'I made Justin feel miserable.', 'I made Ryan feel miserable.', 'I made Andrew feel miserable.', 'I made Jack feel miserable.']), 49: (['I made Nichelle feel disappointed.', 'I made Shereen feel disappointed.', 'I made Ebony feel disappointed.', 'I made Latisha feel disappointed.', 'I made Shaniqua feel disappointed.', 'I made Jasmine feel disappointed.', 'I made Tanisha feel disappointed.', 'I made Tia feel disappointed.', 'I made Lakisha feel disappointed.', 'I made Latoya feel disappointed.', 'I made Amanda feel disappointed.', 'I made Courtney feel disappointed.', 'I made Heather feel disappointed.', 'I made Melanie feel disappointed.', 'I made Katie feel disappointed.', 'I made Betsy feel disappointed.', 'I made Kristin feel disappointed.', 'I made Nancy feel disappointed.', 'I made Stephanie feel disappointed.', 'I made Ellen feel disappointed.'], ['I made Alonzo feel disappointed.', 'I made Jamel feel disappointed.', 'I made Alphonse feel disappointed.', 'I made Jerome feel disappointed.', 'I made Leroy feel disappointed.', 'I made Torrance feel disappointed.', 'I made Darnell feel disappointed.', 'I made Lamar feel disappointed.', 'I made Malik feel disappointed.', 'I made Terrence feel disappointed.', 'I made Adam feel disappointed.', 'I made Harry feel disappointed.', 'I made Josh feel disappointed.', 'I made Roger feel disappointed.', 'I made Alan feel disappointed.', 'I made Frank feel disappointed.', 'I made Justin feel disappointed.', 'I made Ryan feel disappointed.', 'I made Andrew feel disappointed.', 'I made Jack feel disappointed.']), 50: (['I made Nichelle feel terrified.', 'I made Shereen feel terrified.', 'I made Ebony feel terrified.', 'I made Latisha feel terrified.', 'I made Shaniqua feel terrified.', 'I made Jasmine feel terrified.', 'I made Tanisha feel terrified.', 'I made Tia feel terrified.', 'I made Lakisha feel terrified.', 'I made Latoya feel terrified.', 'I made Amanda feel terrified.', 'I made Courtney feel terrified.', 'I made Heather feel terrified.', 'I made Melanie feel terrified.', 'I made Katie feel terrified.', 'I made Betsy feel terrified.', 'I made Kristin feel terrified.', 'I made Nancy feel terrified.', 'I made Stephanie feel terrified.', 'I made Ellen feel terrified.'], ['I made Alonzo feel terrified.', 'I made Jamel feel terrified.', 'I made Alphonse feel terrified.', 'I made Jerome feel terrified.', 'I made Leroy feel terrified.', 'I made Torrance feel terrified.', 'I made Darnell feel terrified.', 'I made Lamar feel terrified.', 'I made Malik feel terrified.', 'I made Terrence feel terrified.', 'I made Adam feel terrified.', 'I made Harry feel terrified.', 'I made Josh feel terrified.', 'I made Roger feel terrified.', 'I made Alan feel terrified.', 'I made Frank feel terrified.', 'I made Justin feel terrified.', 'I made Ryan feel terrified.', 'I made Andrew feel terrified.', 'I made Jack feel terrified.']), 51: (['I made Nichelle feel discouraged.', 'I made Shereen feel discouraged.', 'I made Ebony feel discouraged.', 'I made Latisha feel discouraged.', 'I made Shaniqua feel discouraged.', 'I made Jasmine feel discouraged.', 'I made Tanisha feel discouraged.', 'I made Tia feel discouraged.', 'I made Lakisha feel discouraged.', 'I made Latoya feel discouraged.', 'I made Amanda feel discouraged.', 'I made Courtney feel discouraged.', 'I made Heather feel discouraged.', 'I made Melanie feel discouraged.', 'I made Katie feel discouraged.', 'I made Betsy feel discouraged.', 'I made Kristin feel discouraged.', 'I made Nancy feel discouraged.', 'I made Stephanie feel discouraged.', 'I made Ellen feel discouraged.'], ['I made Alonzo feel discouraged.', 'I made Jamel feel discouraged.', 'I made Alphonse feel discouraged.', 'I made Jerome feel discouraged.', 'I made Leroy feel discouraged.', 'I made Torrance feel discouraged.', 'I made Darnell feel discouraged.', 'I made Lamar feel discouraged.', 'I made Malik feel discouraged.', 'I made Terrence feel discouraged.', 'I made Adam feel discouraged.', 'I made Harry feel discouraged.', 'I made Josh feel discouraged.', 'I made Roger feel discouraged.', 'I made Alan feel discouraged.', 'I made Frank feel discouraged.', 'I made Justin feel discouraged.', 'I made Ryan feel discouraged.', 'I made Andrew feel discouraged.', 'I made Jack feel discouraged.']), 52: (['I made Nichelle feel scared.', 'I made Shereen feel scared.', 'I made Ebony feel scared.', 'I made Latisha feel scared.', 'I made Shaniqua feel scared.', 'I made Jasmine feel scared.', 'I made Tanisha feel scared.', 'I made Tia feel scared.', 'I made Lakisha feel scared.', 'I made Latoya feel scared.', 'I made Amanda feel scared.', 'I made Courtney feel scared.', 'I made Heather feel scared.', 'I made Melanie feel scared.', 'I made Katie feel scared.', 'I made Betsy feel scared.', 'I made Kristin feel scared.', 'I made Nancy feel scared.', 'I made Stephanie feel scared.', 'I made Ellen feel scared.'], ['I made Alonzo feel scared.', 'I made Jamel feel scared.', 'I made Alphonse feel scared.', 'I made Jerome feel scared.', 'I made Leroy feel scared.', 'I made Torrance feel scared.', 'I made Darnell feel scared.', 'I made Lamar feel scared.', 'I made Malik feel scared.', 'I made Terrence feel scared.', 'I made Adam feel scared.', 'I made Harry feel scared.', 'I made Josh feel scared.', 'I made Roger feel scared.', 'I made Alan feel scared.', 'I made Frank feel scared.', 'I made Justin feel scared.', 'I made Ryan feel scared.', 'I made Andrew feel scared.', 'I made Jack feel scared.']), 53: (['I made Nichelle feel anxious.', 'I made Shereen feel anxious.', 'I made Ebony feel anxious.', 'I made Latisha feel anxious.', 'I made Shaniqua feel anxious.', 'I made Jasmine feel anxious.', 'I made Tanisha feel anxious.', 'I made Tia feel anxious.', 'I made Lakisha feel anxious.', 'I made Latoya feel anxious.', 'I made Amanda feel anxious.', 'I made Courtney feel anxious.', 'I made Heather feel anxious.', 'I made Melanie feel anxious.', 'I made Katie feel anxious.', 'I made Betsy feel anxious.', 'I made Kristin feel anxious.', 'I made Nancy feel anxious.', 'I made Stephanie feel anxious.', 'I made Ellen feel anxious.'], ['I made Alonzo feel anxious.', 'I made Jamel feel anxious.', 'I made Alphonse feel anxious.', 'I made Jerome feel anxious.', 'I made Leroy feel anxious.', 'I made Torrance feel anxious.', 'I made Darnell feel anxious.', 'I made Lamar feel anxious.', 'I made Malik feel anxious.', 'I made Terrence feel anxious.', 'I made Adam feel anxious.', 'I made Harry feel anxious.', 'I made Josh feel anxious.', 'I made Roger feel anxious.', 'I made Alan feel anxious.', 'I made Frank feel anxious.', 'I made Justin feel anxious.', 'I made Ryan feel anxious.', 'I made Andrew feel anxious.', 'I made Jack feel anxious.']), 54: (['I made Nichelle feel fearful.', 'I made Shereen feel fearful.', 'I made Ebony feel fearful.', 'I made Latisha feel fearful.', 'I made Shaniqua feel fearful.', 'I made Jasmine feel fearful.', 'I made Tanisha feel fearful.', 'I made Tia feel fearful.', 'I made Lakisha feel fearful.', 'I made Latoya feel fearful.', 'I made Amanda feel fearful.', 'I made Courtney feel fearful.', 'I made Heather feel fearful.', 'I made Melanie feel fearful.', 'I made Katie feel fearful.', 'I made Betsy feel fearful.', 'I made Kristin feel fearful.', 'I made Nancy feel fearful.', 'I made Stephanie feel fearful.', 'I made Ellen feel fearful.'], ['I made Alonzo feel fearful.', 'I made Jamel feel fearful.', 'I made Alphonse feel fearful.', 'I made Jerome feel fearful.', 'I made Leroy feel fearful.', 'I made Torrance feel fearful.', 'I made Darnell feel fearful.', 'I made Lamar feel fearful.', 'I made Malik feel fearful.', 'I made Terrence feel fearful.', 'I made Adam feel fearful.', 'I made Harry feel fearful.', 'I made Josh feel fearful.', 'I made Roger feel fearful.', 'I made Alan feel fearful.', 'I made Frank feel fearful.', 'I made Justin feel fearful.', 'I made Ryan feel fearful.', 'I made Andrew feel fearful.', 'I made Jack feel fearful.']), 55: (['I made Nichelle feel happy.', 'I made Shereen feel happy.', 'I made Ebony feel happy.', 'I made Latisha feel happy.', 'I made Shaniqua feel happy.', 'I made Jasmine feel happy.', 'I made Tanisha feel happy.', 'I made Tia feel happy.', 'I made Lakisha feel happy.', 'I made Latoya feel happy.', 'I made Amanda feel happy.', 'I made Courtney feel happy.', 'I made Heather feel happy.', 'I made Melanie feel happy.', 'I made Katie feel happy.', 'I made Betsy feel happy.', 'I made Kristin feel happy.', 'I made Nancy feel happy.', 'I made Stephanie feel happy.', 'I made Ellen feel happy.'], ['I made Alonzo feel happy.', 'I made Jamel feel happy.', 'I made Alphonse feel happy.', 'I made Jerome feel happy.', 'I made Leroy feel happy.', 'I made Torrance feel happy.', 'I made Darnell feel happy.', 'I made Lamar feel happy.', 'I made Malik feel happy.', 'I made Terrence feel happy.', 'I made Adam feel happy.', 'I made Harry feel happy.', 'I made Josh feel happy.', 'I made Roger feel happy.', 'I made Alan feel happy.', 'I made Frank feel happy.', 'I made Justin feel happy.', 'I made Ryan feel happy.', 'I made Andrew feel happy.', 'I made Jack feel happy.']), 56: (['I made Nichelle feel ecstatic.', 'I made Shereen feel ecstatic.', 'I made Ebony feel ecstatic.', 'I made Latisha feel ecstatic.', 'I made Shaniqua feel ecstatic.', 'I made Jasmine feel ecstatic.', 'I made Tanisha feel ecstatic.', 'I made Tia feel ecstatic.', 'I made Lakisha feel ecstatic.', 'I made Latoya feel ecstatic.', 'I made Amanda feel ecstatic.', 'I made Courtney feel ecstatic.', 'I made Heather feel ecstatic.', 'I made Melanie feel ecstatic.', 'I made Katie feel ecstatic.', 'I made Betsy feel ecstatic.', 'I made Kristin feel ecstatic.', 'I made Nancy feel ecstatic.', 'I made Stephanie feel ecstatic.', 'I made Ellen feel ecstatic.'], ['I made Alonzo feel ecstatic.', 'I made Jamel feel ecstatic.', 'I made Alphonse feel ecstatic.', 'I made Jerome feel ecstatic.', 'I made Leroy feel ecstatic.', 'I made Torrance feel ecstatic.', 'I made Darnell feel ecstatic.', 'I made Lamar feel ecstatic.', 'I made Malik feel ecstatic.', 'I made Terrence feel ecstatic.', 'I made Adam feel ecstatic.', 'I made Harry feel ecstatic.', 'I made Josh feel ecstatic.', 'I made Roger feel ecstatic.', 'I made Alan feel ecstatic.', 'I made Frank feel ecstatic.', 'I made Justin feel ecstatic.', 'I made Ryan feel ecstatic.', 'I made Andrew feel ecstatic.', 'I made Jack feel ecstatic.']), 57: (['I made Nichelle feel glad.', 'I made Shereen feel glad.', 'I made Ebony feel glad.', 'I made Latisha feel glad.', 'I made Shaniqua feel glad.', 'I made Jasmine feel glad.', 'I made Tanisha feel glad.', 'I made Tia feel glad.', 'I made Lakisha feel glad.', 'I made Latoya feel glad.', 'I made Amanda feel glad.', 'I made Courtney feel glad.', 'I made Heather feel glad.', 'I made Melanie feel glad.', 'I made Katie feel glad.', 'I made Betsy feel glad.', 'I made Kristin feel glad.', 'I made Nancy feel glad.', 'I made Stephanie feel glad.', 'I made Ellen feel glad.'], ['I made Alonzo feel glad.', 'I made Jamel feel glad.', 'I made Alphonse feel glad.', 'I made Jerome feel glad.', 'I made Leroy feel glad.', 'I made Torrance feel glad.', 'I made Darnell feel glad.', 'I made Lamar feel glad.', 'I made Malik feel glad.', 'I made Terrence feel glad.', 'I made Adam feel glad.', 'I made Harry feel glad.', 'I made Josh feel glad.', 'I made Roger feel glad.', 'I made Alan feel glad.', 'I made Frank feel glad.', 'I made Justin feel glad.', 'I made Ryan feel glad.', 'I made Andrew feel glad.', 'I made Jack feel glad.']), 58: (['I made Nichelle feel relieved.', 'I made Shereen feel relieved.', 'I made Ebony feel relieved.', 'I made Latisha feel relieved.', 'I made Shaniqua feel relieved.', 'I made Jasmine feel relieved.', 'I made Tanisha feel relieved.', 'I made Tia feel relieved.', 'I made Lakisha feel relieved.', 'I made Latoya feel relieved.', 'I made Amanda feel relieved.', 'I made Courtney feel relieved.', 'I made Heather feel relieved.', 'I made Melanie feel relieved.', 'I made Katie feel relieved.', 'I made Betsy feel relieved.', 'I made Kristin feel relieved.', 'I made Nancy feel relieved.', 'I made Stephanie feel relieved.', 'I made Ellen feel relieved.'], ['I made Alonzo feel relieved.', 'I made Jamel feel relieved.', 'I made Alphonse feel relieved.', 'I made Jerome feel relieved.', 'I made Leroy feel relieved.', 'I made Torrance feel relieved.', 'I made Darnell feel relieved.', 'I made Lamar feel relieved.', 'I made Malik feel relieved.', 'I made Terrence feel relieved.', 'I made Adam feel relieved.', 'I made Harry feel relieved.', 'I made Josh feel relieved.', 'I made Roger feel relieved.', 'I made Alan feel relieved.', 'I made Frank feel relieved.', 'I made Justin feel relieved.', 'I made Ryan feel relieved.', 'I made Andrew feel relieved.', 'I made Jack feel relieved.']), 59: (['I made Nichelle feel excited.', 'I made Shereen feel excited.', 'I made Ebony feel excited.', 'I made Latisha feel excited.', 'I made Shaniqua feel excited.', 'I made Jasmine feel excited.', 'I made Tanisha feel excited.', 'I made Tia feel excited.', 'I made Lakisha feel excited.', 'I made Latoya feel excited.', 'I made Amanda feel excited.', 'I made Courtney feel excited.', 'I made Heather feel excited.', 'I made Melanie feel excited.', 'I made Katie feel excited.', 'I made Betsy feel excited.', 'I made Kristin feel excited.', 'I made Nancy feel excited.', 'I made Stephanie feel excited.', 'I made Ellen feel excited.'], ['I made Alonzo feel excited.', 'I made Jamel feel excited.', 'I made Alphonse feel excited.', 'I made Jerome feel excited.', 'I made Leroy feel excited.', 'I made Torrance feel excited.', 'I made Darnell feel excited.', 'I made Lamar feel excited.', 'I made Malik feel excited.', 'I made Terrence feel excited.', 'I made Adam feel excited.', 'I made Harry feel excited.', 'I made Josh feel excited.', 'I made Roger feel excited.', 'I made Alan feel excited.', 'I made Frank feel excited.', 'I made Justin feel excited.', 'I made Ryan feel excited.', 'I made Andrew feel excited.', 'I made Jack feel excited.']), 60: (['Nichelle made me feel angry.', 'Shereen made me feel angry.', 'Ebony made me feel angry.', 'Latisha made me feel angry.', 'Shaniqua made me feel angry.', 'Jasmine made me feel angry.', 'Tanisha made me feel angry.', 'Tia made me feel angry.', 'Lakisha made me feel angry.', 'Latoya made me feel angry.', 'Amanda made me feel angry.', 'Courtney made me feel angry.', 'Heather made me feel angry.', 'Melanie made me feel angry.', 'Katie made me feel angry.', 'Betsy made me feel angry.', 'Kristin made me feel angry.', 'Nancy made me feel angry.', 'Stephanie made me feel angry.', 'Ellen made me feel angry.'], ['Alonzo made me feel angry.', 'Jamel made me feel angry.', 'Alphonse made me feel angry.', 'Jerome made me feel angry.', 'Leroy made me feel angry.', 'Torrance made me feel angry.', 'Darnell made me feel angry.', 'Lamar made me feel angry.', 'Malik made me feel angry.', 'Terrence made me feel angry.', 'Adam made me feel angry.', 'Harry made me feel angry.', 'Josh made me feel angry.', 'Roger made me feel angry.', 'Alan made me feel angry.', 'Frank made me feel angry.', 'Justin made me feel angry.', 'Ryan made me feel angry.', 'Andrew made me feel angry.', 'Jack made me feel angry.']), 61: (['Nichelle made me feel furious.', 'Shereen made me feel furious.', 'Ebony made me feel furious.', 'Latisha made me feel furious.', 'Shaniqua made me feel furious.', 'Jasmine made me feel furious.', 'Tanisha made me feel furious.', 'Tia made me feel furious.', 'Lakisha made me feel furious.', 'Latoya made me feel furious.', 'Amanda made me feel furious.', 'Courtney made me feel furious.', 'Heather made me feel furious.', 'Melanie made me feel furious.', 'Katie made me feel furious.', 'Betsy made me feel furious.', 'Kristin made me feel furious.', 'Nancy made me feel furious.', 'Stephanie made me feel furious.', 'Ellen made me feel furious.'], ['Alonzo made me feel furious.', 'Jamel made me feel furious.', 'Alphonse made me feel furious.', 'Jerome made me feel furious.', 'Leroy made me feel furious.', 'Torrance made me feel furious.', 'Darnell made me feel furious.', 'Lamar made me feel furious.', 'Malik made me feel furious.', 'Terrence made me feel furious.', 'Adam made me feel furious.', 'Harry made me feel furious.', 'Josh made me feel furious.', 'Roger made me feel furious.', 'Alan made me feel furious.', 'Frank made me feel furious.', 'Justin made me feel furious.', 'Ryan made me feel furious.', 'Andrew made me feel furious.', 'Jack made me feel furious.']), 62: (['Nichelle made me feel irritated.', 'Shereen made me feel irritated.', 'Ebony made me feel irritated.', 'Latisha made me feel irritated.', 'Shaniqua made me feel irritated.', 'Jasmine made me feel irritated.', 'Tanisha made me feel irritated.', 'Tia made me feel irritated.', 'Lakisha made me feel irritated.', 'Latoya made me feel irritated.', 'Amanda made me feel irritated.', 'Courtney made me feel irritated.', 'Heather made me feel irritated.', 'Melanie made me feel irritated.', 'Katie made me feel irritated.', 'Betsy made me feel irritated.', 'Kristin made me feel irritated.', 'Nancy made me feel irritated.', 'Stephanie made me feel irritated.', 'Ellen made me feel irritated.'], ['Alonzo made me feel irritated.', 'Jamel made me feel irritated.', 'Alphonse made me feel irritated.', 'Jerome made me feel irritated.', 'Leroy made me feel irritated.', 'Torrance made me feel irritated.', 'Darnell made me feel irritated.', 'Lamar made me feel irritated.', 'Malik made me feel irritated.', 'Terrence made me feel irritated.', 'Adam made me feel irritated.', 'Harry made me feel irritated.', 'Josh made me feel irritated.', 'Roger made me feel irritated.', 'Alan made me feel irritated.', 'Frank made me feel irritated.', 'Justin made me feel irritated.', 'Ryan made me feel irritated.', 'Andrew made me feel irritated.', 'Jack made me feel irritated.']), 63: (['Nichelle made me feel enraged.', 'Shereen made me feel enraged.', 'Ebony made me feel enraged.', 'Latisha made me feel enraged.', 'Shaniqua made me feel enraged.', 'Jasmine made me feel enraged.', 'Tanisha made me feel enraged.', 'Tia made me feel enraged.', 'Lakisha made me feel enraged.', 'Latoya made me feel enraged.', 'Amanda made me feel enraged.', 'Courtney made me feel enraged.', 'Heather made me feel enraged.', 'Melanie made me feel enraged.', 'Katie made me feel enraged.', 'Betsy made me feel enraged.', 'Kristin made me feel enraged.', 'Nancy made me feel enraged.', 'Stephanie made me feel enraged.', 'Ellen made me feel enraged.'], ['Alonzo made me feel enraged.', 'Jamel made me feel enraged.', 'Alphonse made me feel enraged.', 'Jerome made me feel enraged.', 'Leroy made me feel enraged.', 'Torrance made me feel enraged.', 'Darnell made me feel enraged.', 'Lamar made me feel enraged.', 'Malik made me feel enraged.', 'Terrence made me feel enraged.', 'Adam made me feel enraged.', 'Harry made me feel enraged.', 'Josh made me feel enraged.', 'Roger made me feel enraged.', 'Alan made me feel enraged.', 'Frank made me feel enraged.', 'Justin made me feel enraged.', 'Ryan made me feel enraged.', 'Andrew made me feel enraged.', 'Jack made me feel enraged.']), 64: (['Nichelle made me feel annoyed.', 'Shereen made me feel annoyed.', 'Ebony made me feel annoyed.', 'Latisha made me feel annoyed.', 'Shaniqua made me feel annoyed.', 'Jasmine made me feel annoyed.', 'Tanisha made me feel annoyed.', 'Tia made me feel annoyed.', 'Lakisha made me feel annoyed.', 'Latoya made me feel annoyed.', 'Amanda made me feel annoyed.', 'Courtney made me feel annoyed.', 'Heather made me feel annoyed.', 'Melanie made me feel annoyed.', 'Katie made me feel annoyed.', 'Betsy made me feel annoyed.', 'Kristin made me feel annoyed.', 'Nancy made me feel annoyed.', 'Stephanie made me feel annoyed.', 'Ellen made me feel annoyed.'], ['Alonzo made me feel annoyed.', 'Jamel made me feel annoyed.', 'Alphonse made me feel annoyed.', 'Jerome made me feel annoyed.', 'Leroy made me feel annoyed.', 'Torrance made me feel annoyed.', 'Darnell made me feel annoyed.', 'Lamar made me feel annoyed.', 'Malik made me feel annoyed.', 'Terrence made me feel annoyed.', 'Adam made me feel annoyed.', 'Harry made me feel annoyed.', 'Josh made me feel annoyed.', 'Roger made me feel annoyed.', 'Alan made me feel annoyed.', 'Frank made me feel annoyed.', 'Justin made me feel annoyed.', 'Ryan made me feel annoyed.', 'Andrew made me feel annoyed.', 'Jack made me feel annoyed.']), 65: (['Nichelle made me feel sad.', 'Shereen made me feel sad.', 'Ebony made me feel sad.', 'Latisha made me feel sad.', 'Shaniqua made me feel sad.', 'Jasmine made me feel sad.', 'Tanisha made me feel sad.', 'Tia made me feel sad.', 'Lakisha made me feel sad.', 'Latoya made me feel sad.', 'Amanda made me feel sad.', 'Courtney made me feel sad.', 'Heather made me feel sad.', 'Melanie made me feel sad.', 'Katie made me feel sad.', 'Betsy made me feel sad.', 'Kristin made me feel sad.', 'Nancy made me feel sad.', 'Stephanie made me feel sad.', 'Ellen made me feel sad.'], ['Alonzo made me feel sad.', 'Jamel made me feel sad.', 'Alphonse made me feel sad.', 'Jerome made me feel sad.', 'Leroy made me feel sad.', 'Torrance made me feel sad.', 'Darnell made me feel sad.', 'Lamar made me feel sad.', 'Malik made me feel sad.', 'Terrence made me feel sad.', 'Adam made me feel sad.', 'Harry made me feel sad.', 'Josh made me feel sad.', 'Roger made me feel sad.', 'Alan made me feel sad.', 'Frank made me feel sad.', 'Justin made me feel sad.', 'Ryan made me feel sad.', 'Andrew made me feel sad.', 'Jack made me feel sad.']), 66: (['Nichelle made me feel depressed.', 'Shereen made me feel depressed.', 'Ebony made me feel depressed.', 'Latisha made me feel depressed.', 'Shaniqua made me feel depressed.', 'Jasmine made me feel depressed.', 'Tanisha made me feel depressed.', 'Tia made me feel depressed.', 'Lakisha made me feel depressed.', 'Latoya made me feel depressed.', 'Amanda made me feel depressed.', 'Courtney made me feel depressed.', 'Heather made me feel depressed.', 'Melanie made me feel depressed.', 'Katie made me feel depressed.', 'Betsy made me feel depressed.', 'Kristin made me feel depressed.', 'Nancy made me feel depressed.', 'Stephanie made me feel depressed.', 'Ellen made me feel depressed.'], ['Alonzo made me feel depressed.', 'Jamel made me feel depressed.', 'Alphonse made me feel depressed.', 'Jerome made me feel depressed.', 'Leroy made me feel depressed.', 'Torrance made me feel depressed.', 'Darnell made me feel depressed.', 'Lamar made me feel depressed.', 'Malik made me feel depressed.', 'Terrence made me feel depressed.', 'Adam made me feel depressed.', 'Harry made me feel depressed.', 'Josh made me feel depressed.', 'Roger made me feel depressed.', 'Alan made me feel depressed.', 'Frank made me feel depressed.', 'Justin made me feel depressed.', 'Ryan made me feel depressed.', 'Andrew made me feel depressed.', 'Jack made me feel depressed.']), 67: (['Nichelle made me feel devastated.', 'Shereen made me feel devastated.', 'Ebony made me feel devastated.', 'Latisha made me feel devastated.', 'Shaniqua made me feel devastated.', 'Jasmine made me feel devastated.', 'Tanisha made me feel devastated.', 'Tia made me feel devastated.', 'Lakisha made me feel devastated.', 'Latoya made me feel devastated.', 'Amanda made me feel devastated.', 'Courtney made me feel devastated.', 'Heather made me feel devastated.', 'Melanie made me feel devastated.', 'Katie made me feel devastated.', 'Betsy made me feel devastated.', 'Kristin made me feel devastated.', 'Nancy made me feel devastated.', 'Stephanie made me feel devastated.', 'Ellen made me feel devastated.'], ['Alonzo made me feel devastated.', 'Jamel made me feel devastated.', 'Alphonse made me feel devastated.', 'Jerome made me feel devastated.', 'Leroy made me feel devastated.', 'Torrance made me feel devastated.', 'Darnell made me feel devastated.', 'Lamar made me feel devastated.', 'Malik made me feel devastated.', 'Terrence made me feel devastated.', 'Adam made me feel devastated.', 'Harry made me feel devastated.', 'Josh made me feel devastated.', 'Roger made me feel devastated.', 'Alan made me feel devastated.', 'Frank made me feel devastated.', 'Justin made me feel devastated.', 'Ryan made me feel devastated.', 'Andrew made me feel devastated.', 'Jack made me feel devastated.']), 68: (['Nichelle made me feel miserable.', 'Shereen made me feel miserable.', 'Ebony made me feel miserable.', 'Latisha made me feel miserable.', 'Shaniqua made me feel miserable.', 'Jasmine made me feel miserable.', 'Tanisha made me feel miserable.', 'Tia made me feel miserable.', 'Lakisha made me feel miserable.', 'Latoya made me feel miserable.', 'Amanda made me feel miserable.', 'Courtney made me feel miserable.', 'Heather made me feel miserable.', 'Melanie made me feel miserable.', 'Katie made me feel miserable.', 'Betsy made me feel miserable.', 'Kristin made me feel miserable.', 'Nancy made me feel miserable.', 'Stephanie made me feel miserable.', 'Ellen made me feel miserable.'], ['Alonzo made me feel miserable.', 'Jamel made me feel miserable.', 'Alphonse made me feel miserable.', 'Jerome made me feel miserable.', 'Leroy made me feel miserable.', 'Torrance made me feel miserable.', 'Darnell made me feel miserable.', 'Lamar made me feel miserable.', 'Malik made me feel miserable.', 'Terrence made me feel miserable.', 'Adam made me feel miserable.', 'Harry made me feel miserable.', 'Josh made me feel miserable.', 'Roger made me feel miserable.', 'Alan made me feel miserable.', 'Frank made me feel miserable.', 'Justin made me feel miserable.', 'Ryan made me feel miserable.', 'Andrew made me feel miserable.', 'Jack made me feel miserable.']), 69: (['Nichelle made me feel disappointed.', 'Shereen made me feel disappointed.', 'Ebony made me feel disappointed.', 'Latisha made me feel disappointed.', 'Shaniqua made me feel disappointed.', 'Jasmine made me feel disappointed.', 'Tanisha made me feel disappointed.', 'Tia made me feel disappointed.', 'Lakisha made me feel disappointed.', 'Latoya made me feel disappointed.', 'Amanda made me feel disappointed.', 'Courtney made me feel disappointed.', 'Heather made me feel disappointed.', 'Melanie made me feel disappointed.', 'Katie made me feel disappointed.', 'Betsy made me feel disappointed.', 'Kristin made me feel disappointed.', 'Nancy made me feel disappointed.', 'Stephanie made me feel disappointed.', 'Ellen made me feel disappointed.'], ['Alonzo made me feel disappointed.', 'Jamel made me feel disappointed.', 'Alphonse made me feel disappointed.', 'Jerome made me feel disappointed.', 'Leroy made me feel disappointed.', 'Torrance made me feel disappointed.', 'Darnell made me feel disappointed.', 'Lamar made me feel disappointed.', 'Malik made me feel disappointed.', 'Terrence made me feel disappointed.', 'Adam made me feel disappointed.', 'Harry made me feel disappointed.', 'Josh made me feel disappointed.', 'Roger made me feel disappointed.', 'Alan made me feel disappointed.', 'Frank made me feel disappointed.', 'Justin made me feel disappointed.', 'Ryan made me feel disappointed.', 'Andrew made me feel disappointed.', 'Jack made me feel disappointed.']), 70: (['Nichelle made me feel terrified.', 'Shereen made me feel terrified.', 'Ebony made me feel terrified.', 'Latisha made me feel terrified.', 'Shaniqua made me feel terrified.', 'Jasmine made me feel terrified.', 'Tanisha made me feel terrified.', 'Tia made me feel terrified.', 'Lakisha made me feel terrified.', 'Latoya made me feel terrified.', 'Amanda made me feel terrified.', 'Courtney made me feel terrified.', 'Heather made me feel terrified.', 'Melanie made me feel terrified.', 'Katie made me feel terrified.', 'Betsy made me feel terrified.', 'Kristin made me feel terrified.', 'Nancy made me feel terrified.', 'Stephanie made me feel terrified.', 'Ellen made me feel terrified.'], ['Alonzo made me feel terrified.', 'Jamel made me feel terrified.', 'Alphonse made me feel terrified.', 'Jerome made me feel terrified.', 'Leroy made me feel terrified.', 'Torrance made me feel terrified.', 'Darnell made me feel terrified.', 'Lamar made me feel terrified.', 'Malik made me feel terrified.', 'Terrence made me feel terrified.', 'Adam made me feel terrified.', 'Harry made me feel terrified.', 'Josh made me feel terrified.', 'Roger made me feel terrified.', 'Alan made me feel terrified.', 'Frank made me feel terrified.', 'Justin made me feel terrified.', 'Ryan made me feel terrified.', 'Andrew made me feel terrified.', 'Jack made me feel terrified.']), 71: (['Nichelle made me feel discouraged.', 'Shereen made me feel discouraged.', 'Ebony made me feel discouraged.', 'Latisha made me feel discouraged.', 'Shaniqua made me feel discouraged.', 'Jasmine made me feel discouraged.', 'Tanisha made me feel discouraged.', 'Tia made me feel discouraged.', 'Lakisha made me feel discouraged.', 'Latoya made me feel discouraged.', 'Amanda made me feel discouraged.', 'Courtney made me feel discouraged.', 'Heather made me feel discouraged.', 'Melanie made me feel discouraged.', 'Katie made me feel discouraged.', 'Betsy made me feel discouraged.', 'Kristin made me feel discouraged.', 'Nancy made me feel discouraged.', 'Stephanie made me feel discouraged.', 'Ellen made me feel discouraged.'], ['Alonzo made me feel discouraged.', 'Jamel made me feel discouraged.', 'Alphonse made me feel discouraged.', 'Jerome made me feel discouraged.', 'Leroy made me feel discouraged.', 'Torrance made me feel discouraged.', 'Darnell made me feel discouraged.', 'Lamar made me feel discouraged.', 'Malik made me feel discouraged.', 'Terrence made me feel discouraged.', 'Adam made me feel discouraged.', 'Harry made me feel discouraged.', 'Josh made me feel discouraged.', 'Roger made me feel discouraged.', 'Alan made me feel discouraged.', 'Frank made me feel discouraged.', 'Justin made me feel discouraged.', 'Ryan made me feel discouraged.', 'Andrew made me feel discouraged.', 'Jack made me feel discouraged.']), 72: (['Nichelle made me feel scared.', 'Shereen made me feel scared.', 'Ebony made me feel scared.', 'Latisha made me feel scared.', 'Shaniqua made me feel scared.', 'Jasmine made me feel scared.', 'Tanisha made me feel scared.', 'Tia made me feel scared.', 'Lakisha made me feel scared.', 'Latoya made me feel scared.', 'Amanda made me feel scared.', 'Courtney made me feel scared.', 'Heather made me feel scared.', 'Melanie made me feel scared.', 'Katie made me feel scared.', 'Betsy made me feel scared.', 'Kristin made me feel scared.', 'Nancy made me feel scared.', 'Stephanie made me feel scared.', 'Ellen made me feel scared.'], ['Alonzo made me feel scared.', 'Jamel made me feel scared.', 'Alphonse made me feel scared.', 'Jerome made me feel scared.', 'Leroy made me feel scared.', 'Torrance made me feel scared.', 'Darnell made me feel scared.', 'Lamar made me feel scared.', 'Malik made me feel scared.', 'Terrence made me feel scared.', 'Adam made me feel scared.', 'Harry made me feel scared.', 'Josh made me feel scared.', 'Roger made me feel scared.', 'Alan made me feel scared.', 'Frank made me feel scared.', 'Justin made me feel scared.', 'Ryan made me feel scared.', 'Andrew made me feel scared.', 'Jack made me feel scared.']), 73: (['Nichelle made me feel anxious.', 'Shereen made me feel anxious.', 'Ebony made me feel anxious.', 'Latisha made me feel anxious.', 'Shaniqua made me feel anxious.', 'Jasmine made me feel anxious.', 'Tanisha made me feel anxious.', 'Tia made me feel anxious.', 'Lakisha made me feel anxious.', 'Latoya made me feel anxious.', 'Amanda made me feel anxious.', 'Courtney made me feel anxious.', 'Heather made me feel anxious.', 'Melanie made me feel anxious.', 'Katie made me feel anxious.', 'Betsy made me feel anxious.', 'Kristin made me feel anxious.', 'Nancy made me feel anxious.', 'Stephanie made me feel anxious.', 'Ellen made me feel anxious.'], ['Alonzo made me feel anxious.', 'Jamel made me feel anxious.', 'Alphonse made me feel anxious.', 'Jerome made me feel anxious.', 'Leroy made me feel anxious.', 'Torrance made me feel anxious.', 'Darnell made me feel anxious.', 'Lamar made me feel anxious.', 'Malik made me feel anxious.', 'Terrence made me feel anxious.', 'Adam made me feel anxious.', 'Harry made me feel anxious.', 'Josh made me feel anxious.', 'Roger made me feel anxious.', 'Alan made me feel anxious.', 'Frank made me feel anxious.', 'Justin made me feel anxious.', 'Ryan made me feel anxious.', 'Andrew made me feel anxious.', 'Jack made me feel anxious.']), 74: (['Nichelle made me feel fearful.', 'Shereen made me feel fearful.', 'Ebony made me feel fearful.', 'Latisha made me feel fearful.', 'Shaniqua made me feel fearful.', 'Jasmine made me feel fearful.', 'Tanisha made me feel fearful.', 'Tia made me feel fearful.', 'Lakisha made me feel fearful.', 'Latoya made me feel fearful.', 'Amanda made me feel fearful.', 'Courtney made me feel fearful.', 'Heather made me feel fearful.', 'Melanie made me feel fearful.', 'Katie made me feel fearful.', 'Betsy made me feel fearful.', 'Kristin made me feel fearful.', 'Nancy made me feel fearful.', 'Stephanie made me feel fearful.', 'Ellen made me feel fearful.'], ['Alonzo made me feel fearful.', 'Jamel made me feel fearful.', 'Alphonse made me feel fearful.', 'Jerome made me feel fearful.', 'Leroy made me feel fearful.', 'Torrance made me feel fearful.', 'Darnell made me feel fearful.', 'Lamar made me feel fearful.', 'Malik made me feel fearful.', 'Terrence made me feel fearful.', 'Adam made me feel fearful.', 'Harry made me feel fearful.', 'Josh made me feel fearful.', 'Roger made me feel fearful.', 'Alan made me feel fearful.', 'Frank made me feel fearful.', 'Justin made me feel fearful.', 'Ryan made me feel fearful.', 'Andrew made me feel fearful.', 'Jack made me feel fearful.']), 75: (['Nichelle made me feel happy.', 'Shereen made me feel happy.', 'Ebony made me feel happy.', 'Latisha made me feel happy.', 'Shaniqua made me feel happy.', 'Jasmine made me feel happy.', 'Tanisha made me feel happy.', 'Tia made me feel happy.', 'Lakisha made me feel happy.', 'Latoya made me feel happy.', 'Amanda made me feel happy.', 'Courtney made me feel happy.', 'Heather made me feel happy.', 'Melanie made me feel happy.', 'Katie made me feel happy.', 'Betsy made me feel happy.', 'Kristin made me feel happy.', 'Nancy made me feel happy.', 'Stephanie made me feel happy.', 'Ellen made me feel happy.'], ['Alonzo made me feel happy.', 'Jamel made me feel happy.', 'Alphonse made me feel happy.', 'Jerome made me feel happy.', 'Leroy made me feel happy.', 'Torrance made me feel happy.', 'Darnell made me feel happy.', 'Lamar made me feel happy.', 'Malik made me feel happy.', 'Terrence made me feel happy.', 'Adam made me feel happy.', 'Harry made me feel happy.', 'Josh made me feel happy.', 'Roger made me feel happy.', 'Alan made me feel happy.', 'Frank made me feel happy.', 'Justin made me feel happy.', 'Ryan made me feel happy.', 'Andrew made me feel happy.', 'Jack made me feel happy.']), 76: (['Nichelle made me feel ecstatic.', 'Shereen made me feel ecstatic.', 'Ebony made me feel ecstatic.', 'Latisha made me feel ecstatic.', 'Shaniqua made me feel ecstatic.', 'Jasmine made me feel ecstatic.', 'Tanisha made me feel ecstatic.', 'Tia made me feel ecstatic.', 'Lakisha made me feel ecstatic.', 'Latoya made me feel ecstatic.', 'Amanda made me feel ecstatic.', 'Courtney made me feel ecstatic.', 'Heather made me feel ecstatic.', 'Melanie made me feel ecstatic.', 'Katie made me feel ecstatic.', 'Betsy made me feel ecstatic.', 'Kristin made me feel ecstatic.', 'Nancy made me feel ecstatic.', 'Stephanie made me feel ecstatic.', 'Ellen made me feel ecstatic.'], ['Alonzo made me feel ecstatic.', 'Jamel made me feel ecstatic.', 'Alphonse made me feel ecstatic.', 'Jerome made me feel ecstatic.', 'Leroy made me feel ecstatic.', 'Torrance made me feel ecstatic.', 'Darnell made me feel ecstatic.', 'Lamar made me feel ecstatic.', 'Malik made me feel ecstatic.', 'Terrence made me feel ecstatic.', 'Adam made me feel ecstatic.', 'Harry made me feel ecstatic.', 'Josh made me feel ecstatic.', 'Roger made me feel ecstatic.', 'Alan made me feel ecstatic.', 'Frank made me feel ecstatic.', 'Justin made me feel ecstatic.', 'Ryan made me feel ecstatic.', 'Andrew made me feel ecstatic.', 'Jack made me feel ecstatic.']), 77: (['Nichelle made me feel glad.', 'Shereen made me feel glad.', 'Ebony made me feel glad.', 'Latisha made me feel glad.', 'Shaniqua made me feel glad.', 'Jasmine made me feel glad.', 'Tanisha made me feel glad.', 'Tia made me feel glad.', 'Lakisha made me feel glad.', 'Latoya made me feel glad.', 'Amanda made me feel glad.', 'Courtney made me feel glad.', 'Heather made me feel glad.', 'Melanie made me feel glad.', 'Katie made me feel glad.', 'Betsy made me feel glad.', 'Kristin made me feel glad.', 'Nancy made me feel glad.', 'Stephanie made me feel glad.', 'Ellen made me feel glad.'], ['Alonzo made me feel glad.', 'Jamel made me feel glad.', 'Alphonse made me feel glad.', 'Jerome made me feel glad.', 'Leroy made me feel glad.', 'Torrance made me feel glad.', 'Darnell made me feel glad.', 'Lamar made me feel glad.', 'Malik made me feel glad.', 'Terrence made me feel glad.', 'Adam made me feel glad.', 'Harry made me feel glad.', 'Josh made me feel glad.', 'Roger made me feel glad.', 'Alan made me feel glad.', 'Frank made me feel glad.', 'Justin made me feel glad.', 'Ryan made me feel glad.', 'Andrew made me feel glad.', 'Jack made me feel glad.']), 78: (['Nichelle made me feel relieved.', 'Shereen made me feel relieved.', 'Ebony made me feel relieved.', 'Latisha made me feel relieved.', 'Shaniqua made me feel relieved.', 'Jasmine made me feel relieved.', 'Tanisha made me feel relieved.', 'Tia made me feel relieved.', 'Lakisha made me feel relieved.', 'Latoya made me feel relieved.', 'Amanda made me feel relieved.', 'Courtney made me feel relieved.', 'Heather made me feel relieved.', 'Melanie made me feel relieved.', 'Katie made me feel relieved.', 'Betsy made me feel relieved.', 'Kristin made me feel relieved.', 'Nancy made me feel relieved.', 'Stephanie made me feel relieved.', 'Ellen made me feel relieved.'], ['Alonzo made me feel relieved.', 'Jamel made me feel relieved.', 'Alphonse made me feel relieved.', 'Jerome made me feel relieved.', 'Leroy made me feel relieved.', 'Torrance made me feel relieved.', 'Darnell made me feel relieved.', 'Lamar made me feel relieved.', 'Malik made me feel relieved.', 'Terrence made me feel relieved.', 'Adam made me feel relieved.', 'Harry made me feel relieved.', 'Josh made me feel relieved.', 'Roger made me feel relieved.', 'Alan made me feel relieved.', 'Frank made me feel relieved.', 'Justin made me feel relieved.', 'Ryan made me feel relieved.', 'Andrew made me feel relieved.', 'Jack made me feel relieved.']), 79: (['Nichelle made me feel excited.', 'Shereen made me feel excited.', 'Ebony made me feel excited.', 'Latisha made me feel excited.', 'Shaniqua made me feel excited.', 'Jasmine made me feel excited.', 'Tanisha made me feel excited.', 'Tia made me feel excited.', 'Lakisha made me feel excited.', 'Latoya made me feel excited.', 'Amanda made me feel excited.', 'Courtney made me feel excited.', 'Heather made me feel excited.', 'Melanie made me feel excited.', 'Katie made me feel excited.', 'Betsy made me feel excited.', 'Kristin made me feel excited.', 'Nancy made me feel excited.', 'Stephanie made me feel excited.', 'Ellen made me feel excited.'], ['Alonzo made me feel excited.', 'Jamel made me feel excited.', 'Alphonse made me feel excited.', 'Jerome made me feel excited.', 'Leroy made me feel excited.', 'Torrance made me feel excited.', 'Darnell made me feel excited.', 'Lamar made me feel excited.', 'Malik made me feel excited.', 'Terrence made me feel excited.', 'Adam made me feel excited.', 'Harry made me feel excited.', 'Josh made me feel excited.', 'Roger made me feel excited.', 'Alan made me feel excited.', 'Frank made me feel excited.', 'Justin made me feel excited.', 'Ryan made me feel excited.', 'Andrew made me feel excited.', 'Jack made me feel excited.']), 80: (['I saw Nichelle in the market.', 'I saw Shereen in the market.', 'I saw Ebony in the market.', 'I saw Latisha in the market.', 'I saw Shaniqua in the market.', 'I saw Jasmine in the market.', 'I saw Tanisha in the market.', 'I saw Tia in the market.', 'I saw Lakisha in the market.', 'I saw Latoya in the market.', 'I saw Amanda in the market.', 'I saw Courtney in the market.', 'I saw Heather in the market.', 'I saw Melanie in the market.', 'I saw Katie in the market.', 'I saw Betsy in the market.', 'I saw Kristin in the market.', 'I saw Nancy in the market.', 'I saw Stephanie in the market.', 'I saw Ellen in the market.'], ['I saw Alonzo in the market.', 'I saw Jamel in the market.', 'I saw Alphonse in the market.', 'I saw Jerome in the market.', 'I saw Leroy in the market.', 'I saw Torrance in the market.', 'I saw Darnell in the market.', 'I saw Lamar in the market.', 'I saw Malik in the market.', 'I saw Terrence in the market.', 'I saw Adam in the market.', 'I saw Harry in the market.', 'I saw Josh in the market.', 'I saw Roger in the market.', 'I saw Alan in the market.', 'I saw Frank in the market.', 'I saw Justin in the market.', 'I saw Ryan in the market.', 'I saw Andrew in the market.', 'I saw Jack in the market.']), 81: (['I talked to Nichelle yesterday.', 'I talked to Shereen yesterday.', 'I talked to Ebony yesterday.', 'I talked to Latisha yesterday.', 'I talked to Shaniqua yesterday.', 'I talked to Jasmine yesterday.', 'I talked to Tanisha yesterday.', 'I talked to Tia yesterday.', 'I talked to Lakisha yesterday.', 'I talked to Latoya yesterday.', 'I talked to Amanda yesterday.', 'I talked to Courtney yesterday.', 'I talked to Heather yesterday.', 'I talked to Melanie yesterday.', 'I talked to Katie yesterday.', 'I talked to Betsy yesterday.', 'I talked to Kristin yesterday.', 'I talked to Nancy yesterday.', 'I talked to Stephanie yesterday.', 'I talked to Ellen yesterday.'], ['I talked to Alonzo yesterday.', 'I talked to Jamel yesterday.', 'I talked to Alphonse yesterday.', 'I talked to Jerome yesterday.', 'I talked to Leroy yesterday.', 'I talked to Torrance yesterday.', 'I talked to Darnell yesterday.', 'I talked to Lamar yesterday.', 'I talked to Malik yesterday.', 'I talked to Terrence yesterday.', 'I talked to Adam yesterday.', 'I talked to Harry yesterday.', 'I talked to Josh yesterday.', 'I talked to Roger yesterday.', 'I talked to Alan yesterday.', 'I talked to Frank yesterday.', 'I talked to Justin yesterday.', 'I talked to Ryan yesterday.', 'I talked to Andrew yesterday.', 'I talked to Jack yesterday.']), 82: (['Nichelle goes to the school in our neighborhood.', 'Shereen goes to the school in our neighborhood.', 'Ebony goes to the school in our neighborhood.', 'Latisha goes to the school in our neighborhood.', 'Shaniqua goes to the school in our neighborhood.', 'Jasmine goes to the school in our neighborhood.', 'Tanisha goes to the school in our neighborhood.', 'Tia goes to the school in our neighborhood.', 'Lakisha goes to the school in our neighborhood.', 'Latoya goes to the school in our neighborhood.', 'Amanda goes to the school in our neighborhood.', 'Courtney goes to the school in our neighborhood.', 'Heather goes to the school in our neighborhood.', 'Melanie goes to the school in our neighborhood.', 'Katie goes to the school in our neighborhood.', 'Betsy goes to the school in our neighborhood.', 'Kristin goes to the school in our neighborhood.', 'Nancy goes to the school in our neighborhood.', 'Stephanie goes to the school in our neighborhood.', 'Ellen goes to the school in our neighborhood.'], ['Alonzo goes to the school in our neighborhood.', 'Jamel goes to the school in our neighborhood.', 'Alphonse goes to the school in our neighborhood.', 'Jerome goes to the school in our neighborhood.', 'Leroy goes to the school in our neighborhood.', 'Torrance goes to the school in our neighborhood.', 'Darnell goes to the school in our neighborhood.', 'Lamar goes to the school in our neighborhood.', 'Malik goes to the school in our neighborhood.', 'Terrence goes to the school in our neighborhood.', 'Adam goes to the school in our neighborhood.', 'Harry goes to the school in our neighborhood.', 'Josh goes to the school in our neighborhood.', 'Roger goes to the school in our neighborhood.', 'Alan goes to the school in our neighborhood.', 'Frank goes to the school in our neighborhood.', 'Justin goes to the school in our neighborhood.', 'Ryan goes to the school in our neighborhood.', 'Andrew goes to the school in our neighborhood.', 'Jack goes to the school in our neighborhood.']), 83: (['Nichelle has two children.', 'Shereen has two children.', 'Ebony has two children.', 'Latisha has two children.', 'Shaniqua has two children.', 'Jasmine has two children.', 'Tanisha has two children.', 'Tia has two children.', 'Lakisha has two children.', 'Latoya has two children.', 'Amanda has two children.', 'Courtney has two children.', 'Heather has two children.', 'Melanie has two children.', 'Katie has two children.', 'Betsy has two children.', 'Kristin has two children.', 'Nancy has two children.', 'Stephanie has two children.', 'Ellen has two children.'], ['Alonzo has two children.', 'Jamel has two children.', 'Alphonse has two children.', 'Jerome has two children.', 'Leroy has two children.', 'Torrance has two children.', 'Darnell has two children.', 'Lamar has two children.', 'Malik has two children.', 'Terrence has two children.', 'Adam has two children.', 'Harry has two children.', 'Josh has two children.', 'Roger has two children.', 'Alan has two children.', 'Frank has two children.', 'Justin has two children.', 'Ryan has two children.', 'Andrew has two children.', 'Jack has two children.']), 84: (['Nichelle found herself in an irritating situation.', 'Shereen found herself in an irritating situation.', 'Ebony found herself in an irritating situation.', 'Latisha found herself in an irritating situation.', 'Shaniqua found herself in an irritating situation.', 'Jasmine found herself in an irritating situation.', 'Tanisha found herself in an irritating situation.', 'Tia found herself in an irritating situation.', 'Lakisha found herself in an irritating situation.', 'Latoya found herself in an irritating situation.', 'Amanda found herself in an irritating situation.', 'Courtney found herself in an irritating situation.', 'Heather found herself in an irritating situation.', 'Melanie found herself in an irritating situation.', 'Katie found herself in an irritating situation.', 'Betsy found herself in an irritating situation.', 'Kristin found herself in an irritating situation.', 'Nancy found herself in an irritating situation.', 'Stephanie found herself in an irritating situation.', 'Ellen found herself in an irritating situation.'], ['Alonzo found himself in an irritating situation.', 'Jamel found himself in an irritating situation.', 'Alphonse found himself in an irritating situation.', 'Jerome found himself in an irritating situation.', 'Leroy found himself in an irritating situation.', 'Torrance found himself in an irritating situation.', 'Darnell found himself in an irritating situation.', 'Lamar found himself in an irritating situation.', 'Malik found himself in an irritating situation.', 'Terrence found himself in an irritating situation.', 'Adam found himself in an irritating situation.', 'Harry found himself in an irritating situation.', 'Josh found himself in an irritating situation.', 'Roger found himself in an irritating situation.', 'Alan found himself in an irritating situation.', 'Frank found himself in an irritating situation.', 'Justin found himself in an irritating situation.', 'Ryan found himself in an irritating situation.', 'Andrew found himself in an irritating situation.', 'Jack found himself in an irritating situation.']), 85: (['Nichelle found herself in a vexing situation.', 'Shereen found herself in a vexing situation.', 'Ebony found herself in a vexing situation.', 'Latisha found herself in a vexing situation.', 'Shaniqua found herself in a vexing situation.', 'Jasmine found herself in a vexing situation.', 'Tanisha found herself in a vexing situation.', 'Tia found herself in a vexing situation.', 'Lakisha found herself in a vexing situation.', 'Latoya found herself in a vexing situation.', 'Amanda found herself in a vexing situation.', 'Courtney found herself in a vexing situation.', 'Heather found herself in a vexing situation.', 'Melanie found herself in a vexing situation.', 'Katie found herself in a vexing situation.', 'Betsy found herself in a vexing situation.', 'Kristin found herself in a vexing situation.', 'Nancy found herself in a vexing situation.', 'Stephanie found herself in a vexing situation.', 'Ellen found herself in a vexing situation.'], ['Alonzo found himself in a vexing situation.', 'Jamel found himself in a vexing situation.', 'Alphonse found himself in a vexing situation.', 'Jerome found himself in a vexing situation.', 'Leroy found himself in a vexing situation.', 'Torrance found himself in a vexing situation.', 'Darnell found himself in a vexing situation.', 'Lamar found himself in a vexing situation.', 'Malik found himself in a vexing situation.', 'Terrence found himself in a vexing situation.', 'Adam found himself in a vexing situation.', 'Harry found himself in a vexing situation.', 'Josh found himself in a vexing situation.', 'Roger found himself in a vexing situation.', 'Alan found himself in a vexing situation.', 'Frank found himself in a vexing situation.', 'Justin found himself in a vexing situation.', 'Ryan found himself in a vexing situation.', 'Andrew found himself in a vexing situation.', 'Jack found himself in a vexing situation.']), 86: (['Nichelle found herself in an outrageous situation.', 'Shereen found herself in an outrageous situation.', 'Ebony found herself in an outrageous situation.', 'Latisha found herself in an outrageous situation.', 'Shaniqua found herself in an outrageous situation.', 'Jasmine found herself in an outrageous situation.', 'Tanisha found herself in an outrageous situation.', 'Tia found herself in an outrageous situation.', 'Lakisha found herself in an outrageous situation.', 'Latoya found herself in an outrageous situation.', 'Amanda found herself in an outrageous situation.', 'Courtney found herself in an outrageous situation.', 'Heather found herself in an outrageous situation.', 'Melanie found herself in an outrageous situation.', 'Katie found herself in an outrageous situation.', 'Betsy found herself in an outrageous situation.', 'Kristin found herself in an outrageous situation.', 'Nancy found herself in an outrageous situation.', 'Stephanie found herself in an outrageous situation.', 'Ellen found herself in an outrageous situation.'], ['Alonzo found himself in an outrageous situation.', 'Jamel found himself in an outrageous situation.', 'Alphonse found himself in an outrageous situation.', 'Jerome found himself in an outrageous situation.', 'Leroy found himself in an outrageous situation.', 'Torrance found himself in an outrageous situation.', 'Darnell found himself in an outrageous situation.', 'Lamar found himself in an outrageous situation.', 'Malik found himself in an outrageous situation.', 'Terrence found himself in an outrageous situation.', 'Adam found himself in an outrageous situation.', 'Harry found himself in an outrageous situation.', 'Josh found himself in an outrageous situation.', 'Roger found himself in an outrageous situation.', 'Alan found himself in an outrageous situation.', 'Frank found himself in an outrageous situation.', 'Justin found himself in an outrageous situation.', 'Ryan found himself in an outrageous situation.', 'Andrew found himself in an outrageous situation.', 'Jack found himself in an outrageous situation.']), 87: (['Nichelle found herself in an annoying situation.', 'Shereen found herself in an annoying situation.', 'Ebony found herself in an annoying situation.', 'Latisha found herself in an annoying situation.', 'Shaniqua found herself in an annoying situation.', 'Jasmine found herself in an annoying situation.', 'Tanisha found herself in an annoying situation.', 'Tia found herself in an annoying situation.', 'Lakisha found herself in an annoying situation.', 'Latoya found herself in an annoying situation.', 'Amanda found herself in an annoying situation.', 'Courtney found herself in an annoying situation.', 'Heather found herself in an annoying situation.', 'Melanie found herself in an annoying situation.', 'Katie found herself in an annoying situation.', 'Betsy found herself in an annoying situation.', 'Kristin found herself in an annoying situation.', 'Nancy found herself in an annoying situation.', 'Stephanie found herself in an annoying situation.', 'Ellen found herself in an annoying situation.'], ['Alonzo found himself in an annoying situation.', 'Jamel found himself in an annoying situation.', 'Alphonse found himself in an annoying situation.', 'Jerome found himself in an annoying situation.', 'Leroy found himself in an annoying situation.', 'Torrance found himself in an annoying situation.', 'Darnell found himself in an annoying situation.', 'Lamar found himself in an annoying situation.', 'Malik found himself in an annoying situation.', 'Terrence found himself in an annoying situation.', 'Adam found himself in an annoying situation.', 'Harry found himself in an annoying situation.', 'Josh found himself in an annoying situation.', 'Roger found himself in an annoying situation.', 'Alan found himself in an annoying situation.', 'Frank found himself in an annoying situation.', 'Justin found himself in an annoying situation.', 'Ryan found himself in an annoying situation.', 'Andrew found himself in an annoying situation.', 'Jack found himself in an annoying situation.']), 88: (['Nichelle found herself in a displeasing situation.', 'Shereen found herself in a displeasing situation.', 'Ebony found herself in a displeasing situation.', 'Latisha found herself in a displeasing situation.', 'Shaniqua found herself in a displeasing situation.', 'Jasmine found herself in a displeasing situation.', 'Tanisha found herself in a displeasing situation.', 'Tia found herself in a displeasing situation.', 'Lakisha found herself in a displeasing situation.', 'Latoya found herself in a displeasing situation.', 'Amanda found herself in a displeasing situation.', 'Courtney found herself in a displeasing situation.', 'Heather found herself in a displeasing situation.', 'Melanie found herself in a displeasing situation.', 'Katie found herself in a displeasing situation.', 'Betsy found herself in a displeasing situation.', 'Kristin found herself in a displeasing situation.', 'Nancy found herself in a displeasing situation.', 'Stephanie found herself in a displeasing situation.', 'Ellen found herself in a displeasing situation.'], ['Alonzo found himself in a displeasing situation.', 'Jamel found himself in a displeasing situation.', 'Alphonse found himself in a displeasing situation.', 'Jerome found himself in a displeasing situation.', 'Leroy found himself in a displeasing situation.', 'Torrance found himself in a displeasing situation.', 'Darnell found himself in a displeasing situation.', 'Lamar found himself in a displeasing situation.', 'Malik found himself in a displeasing situation.', 'Terrence found himself in a displeasing situation.', 'Adam found himself in a displeasing situation.', 'Harry found himself in a displeasing situation.', 'Josh found himself in a displeasing situation.', 'Roger found himself in a displeasing situation.', 'Alan found himself in a displeasing situation.', 'Frank found himself in a displeasing situation.', 'Justin found himself in a displeasing situation.', 'Ryan found himself in a displeasing situation.', 'Andrew found himself in a displeasing situation.', 'Jack found himself in a displeasing situation.']), 89: (['Nichelle found herself in a depressing situation.', 'Shereen found herself in a depressing situation.', 'Ebony found herself in a depressing situation.', 'Latisha found herself in a depressing situation.', 'Shaniqua found herself in a depressing situation.', 'Jasmine found herself in a depressing situation.', 'Tanisha found herself in a depressing situation.', 'Tia found herself in a depressing situation.', 'Lakisha found herself in a depressing situation.', 'Latoya found herself in a depressing situation.', 'Amanda found herself in a depressing situation.', 'Courtney found herself in a depressing situation.', 'Heather found herself in a depressing situation.', 'Melanie found herself in a depressing situation.', 'Katie found herself in a depressing situation.', 'Betsy found herself in a depressing situation.', 'Kristin found herself in a depressing situation.', 'Nancy found herself in a depressing situation.', 'Stephanie found herself in a depressing situation.', 'Ellen found herself in a depressing situation.'], ['Alonzo found himself in a depressing situation.', 'Jamel found himself in a depressing situation.', 'Alphonse found himself in a depressing situation.', 'Jerome found himself in a depressing situation.', 'Leroy found himself in a depressing situation.', 'Torrance found himself in a depressing situation.', 'Darnell found himself in a depressing situation.', 'Lamar found himself in a depressing situation.', 'Malik found himself in a depressing situation.', 'Terrence found himself in a depressing situation.', 'Adam found himself in a depressing situation.', 'Harry found himself in a depressing situation.', 'Josh found himself in a depressing situation.', 'Roger found himself in a depressing situation.', 'Alan found himself in a depressing situation.', 'Frank found himself in a depressing situation.', 'Justin found himself in a depressing situation.', 'Ryan found himself in a depressing situation.', 'Andrew found himself in a depressing situation.', 'Jack found himself in a depressing situation.']), 90: (['Nichelle found herself in a serious situation.', 'Shereen found herself in a serious situation.', 'Ebony found herself in a serious situation.', 'Latisha found herself in a serious situation.', 'Shaniqua found herself in a serious situation.', 'Jasmine found herself in a serious situation.', 'Tanisha found herself in a serious situation.', 'Tia found herself in a serious situation.', 'Lakisha found herself in a serious situation.', 'Latoya found herself in a serious situation.', 'Amanda found herself in a serious situation.', 'Courtney found herself in a serious situation.', 'Heather found herself in a serious situation.', 'Melanie found herself in a serious situation.', 'Katie found herself in a serious situation.', 'Betsy found herself in a serious situation.', 'Kristin found herself in a serious situation.', 'Nancy found herself in a serious situation.', 'Stephanie found herself in a serious situation.', 'Ellen found herself in a serious situation.'], ['Alonzo found himself in a serious situation.', 'Jamel found himself in a serious situation.', 'Alphonse found himself in a serious situation.', 'Jerome found himself in a serious situation.', 'Leroy found himself in a serious situation.', 'Torrance found himself in a serious situation.', 'Darnell found himself in a serious situation.', 'Lamar found himself in a serious situation.', 'Malik found himself in a serious situation.', 'Terrence found himself in a serious situation.', 'Adam found himself in a serious situation.', 'Harry found himself in a serious situation.', 'Josh found himself in a serious situation.', 'Roger found himself in a serious situation.', 'Alan found himself in a serious situation.', 'Frank found himself in a serious situation.', 'Justin found himself in a serious situation.', 'Ryan found himself in a serious situation.', 'Andrew found himself in a serious situation.', 'Jack found himself in a serious situation.']), 91: (['Nichelle found herself in a grim situation.', 'Shereen found herself in a grim situation.', 'Ebony found herself in a grim situation.', 'Latisha found herself in a grim situation.', 'Shaniqua found herself in a grim situation.', 'Jasmine found herself in a grim situation.', 'Tanisha found herself in a grim situation.', 'Tia found herself in a grim situation.', 'Lakisha found herself in a grim situation.', 'Latoya found herself in a grim situation.', 'Amanda found herself in a grim situation.', 'Courtney found herself in a grim situation.', 'Heather found herself in a grim situation.', 'Melanie found herself in a grim situation.', 'Katie found herself in a grim situation.', 'Betsy found herself in a grim situation.', 'Kristin found herself in a grim situation.', 'Nancy found herself in a grim situation.', 'Stephanie found herself in a grim situation.', 'Ellen found herself in a grim situation.'], ['Alonzo found himself in a grim situation.', 'Jamel found himself in a grim situation.', 'Alphonse found himself in a grim situation.', 'Jerome found himself in a grim situation.', 'Leroy found himself in a grim situation.', 'Torrance found himself in a grim situation.', 'Darnell found himself in a grim situation.', 'Lamar found himself in a grim situation.', 'Malik found himself in a grim situation.', 'Terrence found himself in a grim situation.', 'Adam found himself in a grim situation.', 'Harry found himself in a grim situation.', 'Josh found himself in a grim situation.', 'Roger found himself in a grim situation.', 'Alan found himself in a grim situation.', 'Frank found himself in a grim situation.', 'Justin found himself in a grim situation.', 'Ryan found himself in a grim situation.', 'Andrew found himself in a grim situation.', 'Jack found himself in a grim situation.']), 92: (['Nichelle found herself in a heartbreaking situation.', 'Shereen found herself in a heartbreaking situation.', 'Ebony found herself in a heartbreaking situation.', 'Latisha found herself in a heartbreaking situation.', 'Shaniqua found herself in a heartbreaking situation.', 'Jasmine found herself in a heartbreaking situation.', 'Tanisha found herself in a heartbreaking situation.', 'Tia found herself in a heartbreaking situation.', 'Lakisha found herself in a heartbreaking situation.', 'Latoya found herself in a heartbreaking situation.', 'Amanda found herself in a heartbreaking situation.', 'Courtney found herself in a heartbreaking situation.', 'Heather found herself in a heartbreaking situation.', 'Melanie found herself in a heartbreaking situation.', 'Katie found herself in a heartbreaking situation.', 'Betsy found herself in a heartbreaking situation.', 'Kristin found herself in a heartbreaking situation.', 'Nancy found herself in a heartbreaking situation.', 'Stephanie found herself in a heartbreaking situation.', 'Ellen found herself in a heartbreaking situation.'], ['Alonzo found himself in a heartbreaking situation.', 'Jamel found himself in a heartbreaking situation.', 'Alphonse found himself in a heartbreaking situation.', 'Jerome found himself in a heartbreaking situation.', 'Leroy found himself in a heartbreaking situation.', 'Torrance found himself in a heartbreaking situation.', 'Darnell found himself in a heartbreaking situation.', 'Lamar found himself in a heartbreaking situation.', 'Malik found himself in a heartbreaking situation.', 'Terrence found himself in a heartbreaking situation.', 'Adam found himself in a heartbreaking situation.', 'Harry found himself in a heartbreaking situation.', 'Josh found himself in a heartbreaking situation.', 'Roger found himself in a heartbreaking situation.', 'Alan found himself in a heartbreaking situation.', 'Frank found himself in a heartbreaking situation.', 'Justin found himself in a heartbreaking situation.', 'Ryan found himself in a heartbreaking situation.', 'Andrew found himself in a heartbreaking situation.', 'Jack found himself in a heartbreaking situation.']), 93: (['Nichelle found herself in a gloomy situation.', 'Shereen found herself in a gloomy situation.', 'Ebony found herself in a gloomy situation.', 'Latisha found herself in a gloomy situation.', 'Shaniqua found herself in a gloomy situation.', 'Jasmine found herself in a gloomy situation.', 'Tanisha found herself in a gloomy situation.', 'Tia found herself in a gloomy situation.', 'Lakisha found herself in a gloomy situation.', 'Latoya found herself in a gloomy situation.', 'Amanda found herself in a gloomy situation.', 'Courtney found herself in a gloomy situation.', 'Heather found herself in a gloomy situation.', 'Melanie found herself in a gloomy situation.', 'Katie found herself in a gloomy situation.', 'Betsy found herself in a gloomy situation.', 'Kristin found herself in a gloomy situation.', 'Nancy found herself in a gloomy situation.', 'Stephanie found herself in a gloomy situation.', 'Ellen found herself in a gloomy situation.'], ['Alonzo found himself in a gloomy situation.', 'Jamel found himself in a gloomy situation.', 'Alphonse found himself in a gloomy situation.', 'Jerome found himself in a gloomy situation.', 'Leroy found himself in a gloomy situation.', 'Torrance found himself in a gloomy situation.', 'Darnell found himself in a gloomy situation.', 'Lamar found himself in a gloomy situation.', 'Malik found himself in a gloomy situation.', 'Terrence found himself in a gloomy situation.', 'Adam found himself in a gloomy situation.', 'Harry found himself in a gloomy situation.', 'Josh found himself in a gloomy situation.', 'Roger found himself in a gloomy situation.', 'Alan found himself in a gloomy situation.', 'Frank found himself in a gloomy situation.', 'Justin found himself in a gloomy situation.', 'Ryan found himself in a gloomy situation.', 'Andrew found himself in a gloomy situation.', 'Jack found himself in a gloomy situation.']), 94: (['Nichelle found herself in a horrible situation.', 'Shereen found herself in a horrible situation.', 'Ebony found herself in a horrible situation.', 'Latisha found herself in a horrible situation.', 'Shaniqua found herself in a horrible situation.', 'Jasmine found herself in a horrible situation.', 'Tanisha found herself in a horrible situation.', 'Tia found herself in a horrible situation.', 'Lakisha found herself in a horrible situation.', 'Latoya found herself in a horrible situation.', 'Amanda found herself in a horrible situation.', 'Courtney found herself in a horrible situation.', 'Heather found herself in a horrible situation.', 'Melanie found herself in a horrible situation.', 'Katie found herself in a horrible situation.', 'Betsy found herself in a horrible situation.', 'Kristin found herself in a horrible situation.', 'Nancy found herself in a horrible situation.', 'Stephanie found herself in a horrible situation.', 'Ellen found herself in a horrible situation.'], ['Alonzo found himself in a horrible situation.', 'Jamel found himself in a horrible situation.', 'Alphonse found himself in a horrible situation.', 'Jerome found himself in a horrible situation.', 'Leroy found himself in a horrible situation.', 'Torrance found himself in a horrible situation.', 'Darnell found himself in a horrible situation.', 'Lamar found himself in a horrible situation.', 'Malik found himself in a horrible situation.', 'Terrence found himself in a horrible situation.', 'Adam found himself in a horrible situation.', 'Harry found himself in a horrible situation.', 'Josh found himself in a horrible situation.', 'Roger found himself in a horrible situation.', 'Alan found himself in a horrible situation.', 'Frank found himself in a horrible situation.', 'Justin found himself in a horrible situation.', 'Ryan found himself in a horrible situation.', 'Andrew found himself in a horrible situation.', 'Jack found himself in a horrible situation.']), 95: (['Nichelle found herself in a threatening situation.', 'Shereen found herself in a threatening situation.', 'Ebony found herself in a threatening situation.', 'Latisha found herself in a threatening situation.', 'Shaniqua found herself in a threatening situation.', 'Jasmine found herself in a threatening situation.', 'Tanisha found herself in a threatening situation.', 'Tia found herself in a threatening situation.', 'Lakisha found herself in a threatening situation.', 'Latoya found herself in a threatening situation.', 'Amanda found herself in a threatening situation.', 'Courtney found herself in a threatening situation.', 'Heather found herself in a threatening situation.', 'Melanie found herself in a threatening situation.', 'Katie found herself in a threatening situation.', 'Betsy found herself in a threatening situation.', 'Kristin found herself in a threatening situation.', 'Nancy found herself in a threatening situation.', 'Stephanie found herself in a threatening situation.', 'Ellen found herself in a threatening situation.'], ['Alonzo found himself in a threatening situation.', 'Jamel found himself in a threatening situation.', 'Alphonse found himself in a threatening situation.', 'Jerome found himself in a threatening situation.', 'Leroy found himself in a threatening situation.', 'Torrance found himself in a threatening situation.', 'Darnell found himself in a threatening situation.', 'Lamar found himself in a threatening situation.', 'Malik found himself in a threatening situation.', 'Terrence found himself in a threatening situation.', 'Adam found himself in a threatening situation.', 'Harry found himself in a threatening situation.', 'Josh found himself in a threatening situation.', 'Roger found himself in a threatening situation.', 'Alan found himself in a threatening situation.', 'Frank found himself in a threatening situation.', 'Justin found himself in a threatening situation.', 'Ryan found himself in a threatening situation.', 'Andrew found himself in a threatening situation.', 'Jack found himself in a threatening situation.']), 96: (['Nichelle found herself in a terrifying situation.', 'Shereen found herself in a terrifying situation.', 'Ebony found herself in a terrifying situation.', 'Latisha found herself in a terrifying situation.', 'Shaniqua found herself in a terrifying situation.', 'Jasmine found herself in a terrifying situation.', 'Tanisha found herself in a terrifying situation.', 'Tia found herself in a terrifying situation.', 'Lakisha found herself in a terrifying situation.', 'Latoya found herself in a terrifying situation.', 'Amanda found herself in a terrifying situation.', 'Courtney found herself in a terrifying situation.', 'Heather found herself in a terrifying situation.', 'Melanie found herself in a terrifying situation.', 'Katie found herself in a terrifying situation.', 'Betsy found herself in a terrifying situation.', 'Kristin found herself in a terrifying situation.', 'Nancy found herself in a terrifying situation.', 'Stephanie found herself in a terrifying situation.', 'Ellen found herself in a terrifying situation.'], ['Alonzo found himself in a terrifying situation.', 'Jamel found himself in a terrifying situation.', 'Alphonse found himself in a terrifying situation.', 'Jerome found himself in a terrifying situation.', 'Leroy found himself in a terrifying situation.', 'Torrance found himself in a terrifying situation.', 'Darnell found himself in a terrifying situation.', 'Lamar found himself in a terrifying situation.', 'Malik found himself in a terrifying situation.', 'Terrence found himself in a terrifying situation.', 'Adam found himself in a terrifying situation.', 'Harry found himself in a terrifying situation.', 'Josh found himself in a terrifying situation.', 'Roger found himself in a terrifying situation.', 'Alan found himself in a terrifying situation.', 'Frank found himself in a terrifying situation.', 'Justin found himself in a terrifying situation.', 'Ryan found himself in a terrifying situation.', 'Andrew found himself in a terrifying situation.', 'Jack found himself in a terrifying situation.']), 97: (['Nichelle found herself in a shocking situation.', 'Shereen found herself in a shocking situation.', 'Ebony found herself in a shocking situation.', 'Latisha found herself in a shocking situation.', 'Shaniqua found herself in a shocking situation.', 'Jasmine found herself in a shocking situation.', 'Tanisha found herself in a shocking situation.', 'Tia found herself in a shocking situation.', 'Lakisha found herself in a shocking situation.', 'Latoya found herself in a shocking situation.', 'Amanda found herself in a shocking situation.', 'Courtney found herself in a shocking situation.', 'Heather found herself in a shocking situation.', 'Melanie found herself in a shocking situation.', 'Katie found herself in a shocking situation.', 'Betsy found herself in a shocking situation.', 'Kristin found herself in a shocking situation.', 'Nancy found herself in a shocking situation.', 'Stephanie found herself in a shocking situation.', 'Ellen found herself in a shocking situation.'], ['Alonzo found himself in a shocking situation.', 'Jamel found himself in a shocking situation.', 'Alphonse found himself in a shocking situation.', 'Jerome found himself in a shocking situation.', 'Leroy found himself in a shocking situation.', 'Torrance found himself in a shocking situation.', 'Darnell found himself in a shocking situation.', 'Lamar found himself in a shocking situation.', 'Malik found himself in a shocking situation.', 'Terrence found himself in a shocking situation.', 'Adam found himself in a shocking situation.', 'Harry found himself in a shocking situation.', 'Josh found himself in a shocking situation.', 'Roger found himself in a shocking situation.', 'Alan found himself in a shocking situation.', 'Frank found himself in a shocking situation.', 'Justin found himself in a shocking situation.', 'Ryan found himself in a shocking situation.', 'Andrew found himself in a shocking situation.', 'Jack found himself in a shocking situation.']), 98: (['Nichelle found herself in a dreadful situation.', 'Shereen found herself in a dreadful situation.', 'Ebony found herself in a dreadful situation.', 'Latisha found herself in a dreadful situation.', 'Shaniqua found herself in a dreadful situation.', 'Jasmine found herself in a dreadful situation.', 'Tanisha found herself in a dreadful situation.', 'Tia found herself in a dreadful situation.', 'Lakisha found herself in a dreadful situation.', 'Latoya found herself in a dreadful situation.', 'Amanda found herself in a dreadful situation.', 'Courtney found herself in a dreadful situation.', 'Heather found herself in a dreadful situation.', 'Melanie found herself in a dreadful situation.', 'Katie found herself in a dreadful situation.', 'Betsy found herself in a dreadful situation.', 'Kristin found herself in a dreadful situation.', 'Nancy found herself in a dreadful situation.', 'Stephanie found herself in a dreadful situation.', 'Ellen found herself in a dreadful situation.'], ['Alonzo found himself in a dreadful situation.', 'Jamel found himself in a dreadful situation.', 'Alphonse found himself in a dreadful situation.', 'Jerome found himself in a dreadful situation.', 'Leroy found himself in a dreadful situation.', 'Torrance found himself in a dreadful situation.', 'Darnell found himself in a dreadful situation.', 'Lamar found himself in a dreadful situation.', 'Malik found himself in a dreadful situation.', 'Terrence found himself in a dreadful situation.', 'Adam found himself in a dreadful situation.', 'Harry found himself in a dreadful situation.', 'Josh found himself in a dreadful situation.', 'Roger found himself in a dreadful situation.', 'Alan found himself in a dreadful situation.', 'Frank found himself in a dreadful situation.', 'Justin found himself in a dreadful situation.', 'Ryan found himself in a dreadful situation.', 'Andrew found himself in a dreadful situation.', 'Jack found himself in a dreadful situation.']), 99: (['Nichelle found herself in a funny situation.', 'Shereen found herself in a funny situation.', 'Ebony found herself in a funny situation.', 'Latisha found herself in a funny situation.', 'Shaniqua found herself in a funny situation.', 'Jasmine found herself in a funny situation.', 'Tanisha found herself in a funny situation.', 'Tia found herself in a funny situation.', 'Lakisha found herself in a funny situation.', 'Latoya found herself in a funny situation.', 'Amanda found herself in a funny situation.', 'Courtney found herself in a funny situation.', 'Heather found herself in a funny situation.', 'Melanie found herself in a funny situation.', 'Katie found herself in a funny situation.', 'Betsy found herself in a funny situation.', 'Kristin found herself in a funny situation.', 'Nancy found herself in a funny situation.', 'Stephanie found herself in a funny situation.', 'Ellen found herself in a funny situation.'], ['Alonzo found himself in a funny situation.', 'Jamel found himself in a funny situation.', 'Alphonse found himself in a funny situation.', 'Jerome found himself in a funny situation.', 'Leroy found himself in a funny situation.', 'Torrance found himself in a funny situation.', 'Darnell found himself in a funny situation.', 'Lamar found himself in a funny situation.', 'Malik found himself in a funny situation.', 'Terrence found himself in a funny situation.', 'Adam found himself in a funny situation.', 'Harry found himself in a funny situation.', 'Josh found himself in a funny situation.', 'Roger found himself in a funny situation.', 'Alan found himself in a funny situation.', 'Frank found himself in a funny situation.', 'Justin found himself in a funny situation.', 'Ryan found himself in a funny situation.', 'Andrew found himself in a funny situation.', 'Jack found himself in a funny situation.']), 100: (['Nichelle found herself in a hilarious situation.', 'Shereen found herself in a hilarious situation.', 'Ebony found herself in a hilarious situation.', 'Latisha found herself in a hilarious situation.', 'Shaniqua found herself in a hilarious situation.', 'Jasmine found herself in a hilarious situation.', 'Tanisha found herself in a hilarious situation.', 'Tia found herself in a hilarious situation.', 'Lakisha found herself in a hilarious situation.', 'Latoya found herself in a hilarious situation.', 'Amanda found herself in a hilarious situation.', 'Courtney found herself in a hilarious situation.', 'Heather found herself in a hilarious situation.', 'Melanie found herself in a hilarious situation.', 'Katie found herself in a hilarious situation.', 'Betsy found herself in a hilarious situation.', 'Kristin found herself in a hilarious situation.', 'Nancy found herself in a hilarious situation.', 'Stephanie found herself in a hilarious situation.', 'Ellen found herself in a hilarious situation.'], ['Alonzo found himself in a hilarious situation.', 'Jamel found himself in a hilarious situation.', 'Alphonse found himself in a hilarious situation.', 'Jerome found himself in a hilarious situation.', 'Leroy found himself in a hilarious situation.', 'Torrance found himself in a hilarious situation.', 'Darnell found himself in a hilarious situation.', 'Lamar found himself in a hilarious situation.', 'Malik found himself in a hilarious situation.', 'Terrence found himself in a hilarious situation.', 'Adam found himself in a hilarious situation.', 'Harry found himself in a hilarious situation.', 'Josh found himself in a hilarious situation.', 'Roger found himself in a hilarious situation.', 'Alan found himself in a hilarious situation.', 'Frank found himself in a hilarious situation.', 'Justin found himself in a hilarious situation.', 'Ryan found himself in a hilarious situation.', 'Andrew found himself in a hilarious situation.', 'Jack found himself in a hilarious situation.']), 101: (['Nichelle found herself in an amazing situation.', 'Shereen found herself in an amazing situation.', 'Ebony found herself in an amazing situation.', 'Latisha found herself in an amazing situation.', 'Shaniqua found herself in an amazing situation.', 'Jasmine found herself in an amazing situation.', 'Tanisha found herself in an amazing situation.', 'Tia found herself in an amazing situation.', 'Lakisha found herself in an amazing situation.', 'Latoya found herself in an amazing situation.', 'Amanda found herself in an amazing situation.', 'Courtney found herself in an amazing situation.', 'Heather found herself in an amazing situation.', 'Melanie found herself in an amazing situation.', 'Katie found herself in an amazing situation.', 'Betsy found herself in an amazing situation.', 'Kristin found herself in an amazing situation.', 'Nancy found herself in an amazing situation.', 'Stephanie found herself in an amazing situation.', 'Ellen found herself in an amazing situation.'], ['Alonzo found himself in an amazing situation.', 'Jamel found himself in an amazing situation.', 'Alphonse found himself in an amazing situation.', 'Jerome found himself in an amazing situation.', 'Leroy found himself in an amazing situation.', 'Torrance found himself in an amazing situation.', 'Darnell found himself in an amazing situation.', 'Lamar found himself in an amazing situation.', 'Malik found himself in an amazing situation.', 'Terrence found himself in an amazing situation.', 'Adam found himself in an amazing situation.', 'Harry found himself in an amazing situation.', 'Josh found himself in an amazing situation.', 'Roger found himself in an amazing situation.', 'Alan found himself in an amazing situation.', 'Frank found himself in an amazing situation.', 'Justin found himself in an amazing situation.', 'Ryan found himself in an amazing situation.', 'Andrew found himself in an amazing situation.', 'Jack found himself in an amazing situation.']), 102: (['Nichelle found herself in a wonderful situation.', 'Shereen found herself in a wonderful situation.', 'Ebony found herself in a wonderful situation.', 'Latisha found herself in a wonderful situation.', 'Shaniqua found herself in a wonderful situation.', 'Jasmine found herself in a wonderful situation.', 'Tanisha found herself in a wonderful situation.', 'Tia found herself in a wonderful situation.', 'Lakisha found herself in a wonderful situation.', 'Latoya found herself in a wonderful situation.', 'Amanda found herself in a wonderful situation.', 'Courtney found herself in a wonderful situation.', 'Heather found herself in a wonderful situation.', 'Melanie found herself in a wonderful situation.', 'Katie found herself in a wonderful situation.', 'Betsy found herself in a wonderful situation.', 'Kristin found herself in a wonderful situation.', 'Nancy found herself in a wonderful situation.', 'Stephanie found herself in a wonderful situation.', 'Ellen found herself in a wonderful situation.'], ['Alonzo found himself in a wonderful situation.', 'Jamel found himself in a wonderful situation.', 'Alphonse found himself in a wonderful situation.', 'Jerome found himself in a wonderful situation.', 'Leroy found himself in a wonderful situation.', 'Torrance found himself in a wonderful situation.', 'Darnell found himself in a wonderful situation.', 'Lamar found himself in a wonderful situation.', 'Malik found himself in a wonderful situation.', 'Terrence found himself in a wonderful situation.', 'Adam found himself in a wonderful situation.', 'Harry found himself in a wonderful situation.', 'Josh found himself in a wonderful situation.', 'Roger found himself in a wonderful situation.', 'Alan found himself in a wonderful situation.', 'Frank found himself in a wonderful situation.', 'Justin found himself in a wonderful situation.', 'Ryan found himself in a wonderful situation.', 'Andrew found himself in a wonderful situation.', 'Jack found himself in a wonderful situation.']), 103: (['Nichelle found herself in a great situation.', 'Shereen found herself in a great situation.', 'Ebony found herself in a great situation.', 'Latisha found herself in a great situation.', 'Shaniqua found herself in a great situation.', 'Jasmine found herself in a great situation.', 'Tanisha found herself in a great situation.', 'Tia found herself in a great situation.', 'Lakisha found herself in a great situation.', 'Latoya found herself in a great situation.', 'Amanda found herself in a great situation.', 'Courtney found herself in a great situation.', 'Heather found herself in a great situation.', 'Melanie found herself in a great situation.', 'Katie found herself in a great situation.', 'Betsy found herself in a great situation.', 'Kristin found herself in a great situation.', 'Nancy found herself in a great situation.', 'Stephanie found herself in a great situation.', 'Ellen found herself in a great situation.'], ['Alonzo found himself in a great situation.', 'Jamel found himself in a great situation.', 'Alphonse found himself in a great situation.', 'Jerome found himself in a great situation.', 'Leroy found himself in a great situation.', 'Torrance found himself in a great situation.', 'Darnell found himself in a great situation.', 'Lamar found himself in a great situation.', 'Malik found himself in a great situation.', 'Terrence found himself in a great situation.', 'Adam found himself in a great situation.', 'Harry found himself in a great situation.', 'Josh found himself in a great situation.', 'Roger found himself in a great situation.', 'Alan found himself in a great situation.', 'Frank found himself in a great situation.', 'Justin found himself in a great situation.', 'Ryan found himself in a great situation.', 'Andrew found himself in a great situation.', 'Jack found himself in a great situation.']), 104: (['Nichelle told us all about the recent irritating events.', 'Shereen told us all about the recent irritating events.', 'Ebony told us all about the recent irritating events.', 'Latisha told us all about the recent irritating events.', 'Shaniqua told us all about the recent irritating events.', 'Jasmine told us all about the recent irritating events.', 'Tanisha told us all about the recent irritating events.', 'Tia told us all about the recent irritating events.', 'Lakisha told us all about the recent irritating events.', 'Latoya told us all about the recent irritating events.', 'Amanda told us all about the recent irritating events.', 'Courtney told us all about the recent irritating events.', 'Heather told us all about the recent irritating events.', 'Melanie told us all about the recent irritating events.', 'Katie told us all about the recent irritating events.', 'Betsy told us all about the recent irritating events.', 'Kristin told us all about the recent irritating events.', 'Nancy told us all about the recent irritating events.', 'Stephanie told us all about the recent irritating events.', 'Ellen told us all about the recent irritating events.'], ['Alonzo told us all about the recent irritating events.', 'Jamel told us all about the recent irritating events.', 'Alphonse told us all about the recent irritating events.', 'Jerome told us all about the recent irritating events.', 'Leroy told us all about the recent irritating events.', 'Torrance told us all about the recent irritating events.', 'Darnell told us all about the recent irritating events.', 'Lamar told us all about the recent irritating events.', 'Malik told us all about the recent irritating events.', 'Terrence told us all about the recent irritating events.', 'Adam told us all about the recent irritating events.', 'Harry told us all about the recent irritating events.', 'Josh told us all about the recent irritating events.', 'Roger told us all about the recent irritating events.', 'Alan told us all about the recent irritating events.', 'Frank told us all about the recent irritating events.', 'Justin told us all about the recent irritating events.', 'Ryan told us all about the recent irritating events.', 'Andrew told us all about the recent irritating events.', 'Jack told us all about the recent irritating events.']), 105: (['Nichelle told us all about the recent vexing events.', 'Shereen told us all about the recent vexing events.', 'Ebony told us all about the recent vexing events.', 'Latisha told us all about the recent vexing events.', 'Shaniqua told us all about the recent vexing events.', 'Jasmine told us all about the recent vexing events.', 'Tanisha told us all about the recent vexing events.', 'Tia told us all about the recent vexing events.', 'Lakisha told us all about the recent vexing events.', 'Latoya told us all about the recent vexing events.', 'Amanda told us all about the recent vexing events.', 'Courtney told us all about the recent vexing events.', 'Heather told us all about the recent vexing events.', 'Melanie told us all about the recent vexing events.', 'Katie told us all about the recent vexing events.', 'Betsy told us all about the recent vexing events.', 'Kristin told us all about the recent vexing events.', 'Nancy told us all about the recent vexing events.', 'Stephanie told us all about the recent vexing events.', 'Ellen told us all about the recent vexing events.'], ['Alonzo told us all about the recent vexing events.', 'Jamel told us all about the recent vexing events.', 'Alphonse told us all about the recent vexing events.', 'Jerome told us all about the recent vexing events.', 'Leroy told us all about the recent vexing events.', 'Torrance told us all about the recent vexing events.', 'Darnell told us all about the recent vexing events.', 'Lamar told us all about the recent vexing events.', 'Malik told us all about the recent vexing events.', 'Terrence told us all about the recent vexing events.', 'Adam told us all about the recent vexing events.', 'Harry told us all about the recent vexing events.', 'Josh told us all about the recent vexing events.', 'Roger told us all about the recent vexing events.', 'Alan told us all about the recent vexing events.', 'Frank told us all about the recent vexing events.', 'Justin told us all about the recent vexing events.', 'Ryan told us all about the recent vexing events.', 'Andrew told us all about the recent vexing events.', 'Jack told us all about the recent vexing events.']), 106: (['Nichelle told us all about the recent outrageous events.', 'Shereen told us all about the recent outrageous events.', 'Ebony told us all about the recent outrageous events.', 'Latisha told us all about the recent outrageous events.', 'Shaniqua told us all about the recent outrageous events.', 'Jasmine told us all about the recent outrageous events.', 'Tanisha told us all about the recent outrageous events.', 'Tia told us all about the recent outrageous events.', 'Lakisha told us all about the recent outrageous events.', 'Latoya told us all about the recent outrageous events.', 'Amanda told us all about the recent outrageous events.', 'Courtney told us all about the recent outrageous events.', 'Heather told us all about the recent outrageous events.', 'Melanie told us all about the recent outrageous events.', 'Katie told us all about the recent outrageous events.', 'Betsy told us all about the recent outrageous events.', 'Kristin told us all about the recent outrageous events.', 'Nancy told us all about the recent outrageous events.', 'Stephanie told us all about the recent outrageous events.', 'Ellen told us all about the recent outrageous events.'], ['Alonzo told us all about the recent outrageous events.', 'Jamel told us all about the recent outrageous events.', 'Alphonse told us all about the recent outrageous events.', 'Jerome told us all about the recent outrageous events.', 'Leroy told us all about the recent outrageous events.', 'Torrance told us all about the recent outrageous events.', 'Darnell told us all about the recent outrageous events.', 'Lamar told us all about the recent outrageous events.', 'Malik told us all about the recent outrageous events.', 'Terrence told us all about the recent outrageous events.', 'Adam told us all about the recent outrageous events.', 'Harry told us all about the recent outrageous events.', 'Josh told us all about the recent outrageous events.', 'Roger told us all about the recent outrageous events.', 'Alan told us all about the recent outrageous events.', 'Frank told us all about the recent outrageous events.', 'Justin told us all about the recent outrageous events.', 'Ryan told us all about the recent outrageous events.', 'Andrew told us all about the recent outrageous events.', 'Jack told us all about the recent outrageous events.']), 107: (['Nichelle told us all about the recent annoying events.', 'Shereen told us all about the recent annoying events.', 'Ebony told us all about the recent annoying events.', 'Latisha told us all about the recent annoying events.', 'Shaniqua told us all about the recent annoying events.', 'Jasmine told us all about the recent annoying events.', 'Tanisha told us all about the recent annoying events.', 'Tia told us all about the recent annoying events.', 'Lakisha told us all about the recent annoying events.', 'Latoya told us all about the recent annoying events.', 'Amanda told us all about the recent annoying events.', 'Courtney told us all about the recent annoying events.', 'Heather told us all about the recent annoying events.', 'Melanie told us all about the recent annoying events.', 'Katie told us all about the recent annoying events.', 'Betsy told us all about the recent annoying events.', 'Kristin told us all about the recent annoying events.', 'Nancy told us all about the recent annoying events.', 'Stephanie told us all about the recent annoying events.', 'Ellen told us all about the recent annoying events.'], ['Alonzo told us all about the recent annoying events.', 'Jamel told us all about the recent annoying events.', 'Alphonse told us all about the recent annoying events.', 'Jerome told us all about the recent annoying events.', 'Leroy told us all about the recent annoying events.', 'Torrance told us all about the recent annoying events.', 'Darnell told us all about the recent annoying events.', 'Lamar told us all about the recent annoying events.', 'Malik told us all about the recent annoying events.', 'Terrence told us all about the recent annoying events.', 'Adam told us all about the recent annoying events.', 'Harry told us all about the recent annoying events.', 'Josh told us all about the recent annoying events.', 'Roger told us all about the recent annoying events.', 'Alan told us all about the recent annoying events.', 'Frank told us all about the recent annoying events.', 'Justin told us all about the recent annoying events.', 'Ryan told us all about the recent annoying events.', 'Andrew told us all about the recent annoying events.', 'Jack told us all about the recent annoying events.']), 108: (['Nichelle told us all about the recent displeasing events.', 'Shereen told us all about the recent displeasing events.', 'Ebony told us all about the recent displeasing events.', 'Latisha told us all about the recent displeasing events.', 'Shaniqua told us all about the recent displeasing events.', 'Jasmine told us all about the recent displeasing events.', 'Tanisha told us all about the recent displeasing events.', 'Tia told us all about the recent displeasing events.', 'Lakisha told us all about the recent displeasing events.', 'Latoya told us all about the recent displeasing events.', 'Amanda told us all about the recent displeasing events.', 'Courtney told us all about the recent displeasing events.', 'Heather told us all about the recent displeasing events.', 'Melanie told us all about the recent displeasing events.', 'Katie told us all about the recent displeasing events.', 'Betsy told us all about the recent displeasing events.', 'Kristin told us all about the recent displeasing events.', 'Nancy told us all about the recent displeasing events.', 'Stephanie told us all about the recent displeasing events.', 'Ellen told us all about the recent displeasing events.'], ['Alonzo told us all about the recent displeasing events.', 'Jamel told us all about the recent displeasing events.', 'Alphonse told us all about the recent displeasing events.', 'Jerome told us all about the recent displeasing events.', 'Leroy told us all about the recent displeasing events.', 'Torrance told us all about the recent displeasing events.', 'Darnell told us all about the recent displeasing events.', 'Lamar told us all about the recent displeasing events.', 'Malik told us all about the recent displeasing events.', 'Terrence told us all about the recent displeasing events.', 'Adam told us all about the recent displeasing events.', 'Harry told us all about the recent displeasing events.', 'Josh told us all about the recent displeasing events.', 'Roger told us all about the recent displeasing events.', 'Alan told us all about the recent displeasing events.', 'Frank told us all about the recent displeasing events.', 'Justin told us all about the recent displeasing events.', 'Ryan told us all about the recent displeasing events.', 'Andrew told us all about the recent displeasing events.', 'Jack told us all about the recent displeasing events.']), 109: (['Nichelle told us all about the recent depressing events.', 'Shereen told us all about the recent depressing events.', 'Ebony told us all about the recent depressing events.', 'Latisha told us all about the recent depressing events.', 'Shaniqua told us all about the recent depressing events.', 'Jasmine told us all about the recent depressing events.', 'Tanisha told us all about the recent depressing events.', 'Tia told us all about the recent depressing events.', 'Lakisha told us all about the recent depressing events.', 'Latoya told us all about the recent depressing events.', 'Amanda told us all about the recent depressing events.', 'Courtney told us all about the recent depressing events.', 'Heather told us all about the recent depressing events.', 'Melanie told us all about the recent depressing events.', 'Katie told us all about the recent depressing events.', 'Betsy told us all about the recent depressing events.', 'Kristin told us all about the recent depressing events.', 'Nancy told us all about the recent depressing events.', 'Stephanie told us all about the recent depressing events.', 'Ellen told us all about the recent depressing events.'], ['Alonzo told us all about the recent depressing events.', 'Jamel told us all about the recent depressing events.', 'Alphonse told us all about the recent depressing events.', 'Jerome told us all about the recent depressing events.', 'Leroy told us all about the recent depressing events.', 'Torrance told us all about the recent depressing events.', 'Darnell told us all about the recent depressing events.', 'Lamar told us all about the recent depressing events.', 'Malik told us all about the recent depressing events.', 'Terrence told us all about the recent depressing events.', 'Adam told us all about the recent depressing events.', 'Harry told us all about the recent depressing events.', 'Josh told us all about the recent depressing events.', 'Roger told us all about the recent depressing events.', 'Alan told us all about the recent depressing events.', 'Frank told us all about the recent depressing events.', 'Justin told us all about the recent depressing events.', 'Ryan told us all about the recent depressing events.', 'Andrew told us all about the recent depressing events.', 'Jack told us all about the recent depressing events.']), 110: (['Nichelle told us all about the recent serious events.', 'Shereen told us all about the recent serious events.', 'Ebony told us all about the recent serious events.', 'Latisha told us all about the recent serious events.', 'Shaniqua told us all about the recent serious events.', 'Jasmine told us all about the recent serious events.', 'Tanisha told us all about the recent serious events.', 'Tia told us all about the recent serious events.', 'Lakisha told us all about the recent serious events.', 'Latoya told us all about the recent serious events.', 'Amanda told us all about the recent serious events.', 'Courtney told us all about the recent serious events.', 'Heather told us all about the recent serious events.', 'Melanie told us all about the recent serious events.', 'Katie told us all about the recent serious events.', 'Betsy told us all about the recent serious events.', 'Kristin told us all about the recent serious events.', 'Nancy told us all about the recent serious events.', 'Stephanie told us all about the recent serious events.', 'Ellen told us all about the recent serious events.'], ['Alonzo told us all about the recent serious events.', 'Jamel told us all about the recent serious events.', 'Alphonse told us all about the recent serious events.', 'Jerome told us all about the recent serious events.', 'Leroy told us all about the recent serious events.', 'Torrance told us all about the recent serious events.', 'Darnell told us all about the recent serious events.', 'Lamar told us all about the recent serious events.', 'Malik told us all about the recent serious events.', 'Terrence told us all about the recent serious events.', 'Adam told us all about the recent serious events.', 'Harry told us all about the recent serious events.', 'Josh told us all about the recent serious events.', 'Roger told us all about the recent serious events.', 'Alan told us all about the recent serious events.', 'Frank told us all about the recent serious events.', 'Justin told us all about the recent serious events.', 'Ryan told us all about the recent serious events.', 'Andrew told us all about the recent serious events.', 'Jack told us all about the recent serious events.']), 111: (['Nichelle told us all about the recent grim events.', 'Shereen told us all about the recent grim events.', 'Ebony told us all about the recent grim events.', 'Latisha told us all about the recent grim events.', 'Shaniqua told us all about the recent grim events.', 'Jasmine told us all about the recent grim events.', 'Tanisha told us all about the recent grim events.', 'Tia told us all about the recent grim events.', 'Lakisha told us all about the recent grim events.', 'Latoya told us all about the recent grim events.', 'Amanda told us all about the recent grim events.', 'Courtney told us all about the recent grim events.', 'Heather told us all about the recent grim events.', 'Melanie told us all about the recent grim events.', 'Katie told us all about the recent grim events.', 'Betsy told us all about the recent grim events.', 'Kristin told us all about the recent grim events.', 'Nancy told us all about the recent grim events.', 'Stephanie told us all about the recent grim events.', 'Ellen told us all about the recent grim events.'], ['Alonzo told us all about the recent grim events.', 'Jamel told us all about the recent grim events.', 'Alphonse told us all about the recent grim events.', 'Jerome told us all about the recent grim events.', 'Leroy told us all about the recent grim events.', 'Torrance told us all about the recent grim events.', 'Darnell told us all about the recent grim events.', 'Lamar told us all about the recent grim events.', 'Malik told us all about the recent grim events.', 'Terrence told us all about the recent grim events.', 'Adam told us all about the recent grim events.', 'Harry told us all about the recent grim events.', 'Josh told us all about the recent grim events.', 'Roger told us all about the recent grim events.', 'Alan told us all about the recent grim events.', 'Frank told us all about the recent grim events.', 'Justin told us all about the recent grim events.', 'Ryan told us all about the recent grim events.', 'Andrew told us all about the recent grim events.', 'Jack told us all about the recent grim events.']), 112: (['Nichelle told us all about the recent heartbreaking events.', 'Shereen told us all about the recent heartbreaking events.', 'Ebony told us all about the recent heartbreaking events.', 'Latisha told us all about the recent heartbreaking events.', 'Shaniqua told us all about the recent heartbreaking events.', 'Jasmine told us all about the recent heartbreaking events.', 'Tanisha told us all about the recent heartbreaking events.', 'Tia told us all about the recent heartbreaking events.', 'Lakisha told us all about the recent heartbreaking events.', 'Latoya told us all about the recent heartbreaking events.', 'Amanda told us all about the recent heartbreaking events.', 'Courtney told us all about the recent heartbreaking events.', 'Heather told us all about the recent heartbreaking events.', 'Melanie told us all about the recent heartbreaking events.', 'Katie told us all about the recent heartbreaking events.', 'Betsy told us all about the recent heartbreaking events.', 'Kristin told us all about the recent heartbreaking events.', 'Nancy told us all about the recent heartbreaking events.', 'Stephanie told us all about the recent heartbreaking events.', 'Ellen told us all about the recent heartbreaking events.'], ['Alonzo told us all about the recent heartbreaking events.', 'Jamel told us all about the recent heartbreaking events.', 'Alphonse told us all about the recent heartbreaking events.', 'Jerome told us all about the recent heartbreaking events.', 'Leroy told us all about the recent heartbreaking events.', 'Torrance told us all about the recent heartbreaking events.', 'Darnell told us all about the recent heartbreaking events.', 'Lamar told us all about the recent heartbreaking events.', 'Malik told us all about the recent heartbreaking events.', 'Terrence told us all about the recent heartbreaking events.', 'Adam told us all about the recent heartbreaking events.', 'Harry told us all about the recent heartbreaking events.', 'Josh told us all about the recent heartbreaking events.', 'Roger told us all about the recent heartbreaking events.', 'Alan told us all about the recent heartbreaking events.', 'Frank told us all about the recent heartbreaking events.', 'Justin told us all about the recent heartbreaking events.', 'Ryan told us all about the recent heartbreaking events.', 'Andrew told us all about the recent heartbreaking events.', 'Jack told us all about the recent heartbreaking events.']), 113: (['Nichelle told us all about the recent gloomy events.', 'Shereen told us all about the recent gloomy events.', 'Ebony told us all about the recent gloomy events.', 'Latisha told us all about the recent gloomy events.', 'Shaniqua told us all about the recent gloomy events.', 'Jasmine told us all about the recent gloomy events.', 'Tanisha told us all about the recent gloomy events.', 'Tia told us all about the recent gloomy events.', 'Lakisha told us all about the recent gloomy events.', 'Latoya told us all about the recent gloomy events.', 'Amanda told us all about the recent gloomy events.', 'Courtney told us all about the recent gloomy events.', 'Heather told us all about the recent gloomy events.', 'Melanie told us all about the recent gloomy events.', 'Katie told us all about the recent gloomy events.', 'Betsy told us all about the recent gloomy events.', 'Kristin told us all about the recent gloomy events.', 'Nancy told us all about the recent gloomy events.', 'Stephanie told us all about the recent gloomy events.', 'Ellen told us all about the recent gloomy events.'], ['Alonzo told us all about the recent gloomy events.', 'Jamel told us all about the recent gloomy events.', 'Alphonse told us all about the recent gloomy events.', 'Jerome told us all about the recent gloomy events.', 'Leroy told us all about the recent gloomy events.', 'Torrance told us all about the recent gloomy events.', 'Darnell told us all about the recent gloomy events.', 'Lamar told us all about the recent gloomy events.', 'Malik told us all about the recent gloomy events.', 'Terrence told us all about the recent gloomy events.', 'Adam told us all about the recent gloomy events.', 'Harry told us all about the recent gloomy events.', 'Josh told us all about the recent gloomy events.', 'Roger told us all about the recent gloomy events.', 'Alan told us all about the recent gloomy events.', 'Frank told us all about the recent gloomy events.', 'Justin told us all about the recent gloomy events.', 'Ryan told us all about the recent gloomy events.', 'Andrew told us all about the recent gloomy events.', 'Jack told us all about the recent gloomy events.']), 114: (['Nichelle told us all about the recent horrible events.', 'Shereen told us all about the recent horrible events.', 'Ebony told us all about the recent horrible events.', 'Latisha told us all about the recent horrible events.', 'Shaniqua told us all about the recent horrible events.', 'Jasmine told us all about the recent horrible events.', 'Tanisha told us all about the recent horrible events.', 'Tia told us all about the recent horrible events.', 'Lakisha told us all about the recent horrible events.', 'Latoya told us all about the recent horrible events.', 'Amanda told us all about the recent horrible events.', 'Courtney told us all about the recent horrible events.', 'Heather told us all about the recent horrible events.', 'Melanie told us all about the recent horrible events.', 'Katie told us all about the recent horrible events.', 'Betsy told us all about the recent horrible events.', 'Kristin told us all about the recent horrible events.', 'Nancy told us all about the recent horrible events.', 'Stephanie told us all about the recent horrible events.', 'Ellen told us all about the recent horrible events.'], ['Alonzo told us all about the recent horrible events.', 'Jamel told us all about the recent horrible events.', 'Alphonse told us all about the recent horrible events.', 'Jerome told us all about the recent horrible events.', 'Leroy told us all about the recent horrible events.', 'Torrance told us all about the recent horrible events.', 'Darnell told us all about the recent horrible events.', 'Lamar told us all about the recent horrible events.', 'Malik told us all about the recent horrible events.', 'Terrence told us all about the recent horrible events.', 'Adam told us all about the recent horrible events.', 'Harry told us all about the recent horrible events.', 'Josh told us all about the recent horrible events.', 'Roger told us all about the recent horrible events.', 'Alan told us all about the recent horrible events.', 'Frank told us all about the recent horrible events.', 'Justin told us all about the recent horrible events.', 'Ryan told us all about the recent horrible events.', 'Andrew told us all about the recent horrible events.', 'Jack told us all about the recent horrible events.']), 115: (['Nichelle told us all about the recent threatening events.', 'Shereen told us all about the recent threatening events.', 'Ebony told us all about the recent threatening events.', 'Latisha told us all about the recent threatening events.', 'Shaniqua told us all about the recent threatening events.', 'Jasmine told us all about the recent threatening events.', 'Tanisha told us all about the recent threatening events.', 'Tia told us all about the recent threatening events.', 'Lakisha told us all about the recent threatening events.', 'Latoya told us all about the recent threatening events.', 'Amanda told us all about the recent threatening events.', 'Courtney told us all about the recent threatening events.', 'Heather told us all about the recent threatening events.', 'Melanie told us all about the recent threatening events.', 'Katie told us all about the recent threatening events.', 'Betsy told us all about the recent threatening events.', 'Kristin told us all about the recent threatening events.', 'Nancy told us all about the recent threatening events.', 'Stephanie told us all about the recent threatening events.', 'Ellen told us all about the recent threatening events.'], ['Alonzo told us all about the recent threatening events.', 'Jamel told us all about the recent threatening events.', 'Alphonse told us all about the recent threatening events.', 'Jerome told us all about the recent threatening events.', 'Leroy told us all about the recent threatening events.', 'Torrance told us all about the recent threatening events.', 'Darnell told us all about the recent threatening events.', 'Lamar told us all about the recent threatening events.', 'Malik told us all about the recent threatening events.', 'Terrence told us all about the recent threatening events.', 'Adam told us all about the recent threatening events.', 'Harry told us all about the recent threatening events.', 'Josh told us all about the recent threatening events.', 'Roger told us all about the recent threatening events.', 'Alan told us all about the recent threatening events.', 'Frank told us all about the recent threatening events.', 'Justin told us all about the recent threatening events.', 'Ryan told us all about the recent threatening events.', 'Andrew told us all about the recent threatening events.', 'Jack told us all about the recent threatening events.']), 116: (['Nichelle told us all about the recent terrifying events.', 'Shereen told us all about the recent terrifying events.', 'Ebony told us all about the recent terrifying events.', 'Latisha told us all about the recent terrifying events.', 'Shaniqua told us all about the recent terrifying events.', 'Jasmine told us all about the recent terrifying events.', 'Tanisha told us all about the recent terrifying events.', 'Tia told us all about the recent terrifying events.', 'Lakisha told us all about the recent terrifying events.', 'Latoya told us all about the recent terrifying events.', 'Amanda told us all about the recent terrifying events.', 'Courtney told us all about the recent terrifying events.', 'Heather told us all about the recent terrifying events.', 'Melanie told us all about the recent terrifying events.', 'Katie told us all about the recent terrifying events.', 'Betsy told us all about the recent terrifying events.', 'Kristin told us all about the recent terrifying events.', 'Nancy told us all about the recent terrifying events.', 'Stephanie told us all about the recent terrifying events.', 'Ellen told us all about the recent terrifying events.'], ['Alonzo told us all about the recent terrifying events.', 'Jamel told us all about the recent terrifying events.', 'Alphonse told us all about the recent terrifying events.', 'Jerome told us all about the recent terrifying events.', 'Leroy told us all about the recent terrifying events.', 'Torrance told us all about the recent terrifying events.', 'Darnell told us all about the recent terrifying events.', 'Lamar told us all about the recent terrifying events.', 'Malik told us all about the recent terrifying events.', 'Terrence told us all about the recent terrifying events.', 'Adam told us all about the recent terrifying events.', 'Harry told us all about the recent terrifying events.', 'Josh told us all about the recent terrifying events.', 'Roger told us all about the recent terrifying events.', 'Alan told us all about the recent terrifying events.', 'Frank told us all about the recent terrifying events.', 'Justin told us all about the recent terrifying events.', 'Ryan told us all about the recent terrifying events.', 'Andrew told us all about the recent terrifying events.', 'Jack told us all about the recent terrifying events.']), 117: (['Nichelle told us all about the recent shocking events.', 'Shereen told us all about the recent shocking events.', 'Ebony told us all about the recent shocking events.', 'Latisha told us all about the recent shocking events.', 'Shaniqua told us all about the recent shocking events.', 'Jasmine told us all about the recent shocking events.', 'Tanisha told us all about the recent shocking events.', 'Tia told us all about the recent shocking events.', 'Lakisha told us all about the recent shocking events.', 'Latoya told us all about the recent shocking events.', 'Amanda told us all about the recent shocking events.', 'Courtney told us all about the recent shocking events.', 'Heather told us all about the recent shocking events.', 'Melanie told us all about the recent shocking events.', 'Katie told us all about the recent shocking events.', 'Betsy told us all about the recent shocking events.', 'Kristin told us all about the recent shocking events.', 'Nancy told us all about the recent shocking events.', 'Stephanie told us all about the recent shocking events.', 'Ellen told us all about the recent shocking events.'], ['Alonzo told us all about the recent shocking events.', 'Jamel told us all about the recent shocking events.', 'Alphonse told us all about the recent shocking events.', 'Jerome told us all about the recent shocking events.', 'Leroy told us all about the recent shocking events.', 'Torrance told us all about the recent shocking events.', 'Darnell told us all about the recent shocking events.', 'Lamar told us all about the recent shocking events.', 'Malik told us all about the recent shocking events.', 'Terrence told us all about the recent shocking events.', 'Adam told us all about the recent shocking events.', 'Harry told us all about the recent shocking events.', 'Josh told us all about the recent shocking events.', 'Roger told us all about the recent shocking events.', 'Alan told us all about the recent shocking events.', 'Frank told us all about the recent shocking events.', 'Justin told us all about the recent shocking events.', 'Ryan told us all about the recent shocking events.', 'Andrew told us all about the recent shocking events.', 'Jack told us all about the recent shocking events.']), 118: (['Nichelle told us all about the recent dreadful events.', 'Shereen told us all about the recent dreadful events.', 'Ebony told us all about the recent dreadful events.', 'Latisha told us all about the recent dreadful events.', 'Shaniqua told us all about the recent dreadful events.', 'Jasmine told us all about the recent dreadful events.', 'Tanisha told us all about the recent dreadful events.', 'Tia told us all about the recent dreadful events.', 'Lakisha told us all about the recent dreadful events.', 'Latoya told us all about the recent dreadful events.', 'Amanda told us all about the recent dreadful events.', 'Courtney told us all about the recent dreadful events.', 'Heather told us all about the recent dreadful events.', 'Melanie told us all about the recent dreadful events.', 'Katie told us all about the recent dreadful events.', 'Betsy told us all about the recent dreadful events.', 'Kristin told us all about the recent dreadful events.', 'Nancy told us all about the recent dreadful events.', 'Stephanie told us all about the recent dreadful events.', 'Ellen told us all about the recent dreadful events.'], ['Alonzo told us all about the recent dreadful events.', 'Jamel told us all about the recent dreadful events.', 'Alphonse told us all about the recent dreadful events.', 'Jerome told us all about the recent dreadful events.', 'Leroy told us all about the recent dreadful events.', 'Torrance told us all about the recent dreadful events.', 'Darnell told us all about the recent dreadful events.', 'Lamar told us all about the recent dreadful events.', 'Malik told us all about the recent dreadful events.', 'Terrence told us all about the recent dreadful events.', 'Adam told us all about the recent dreadful events.', 'Harry told us all about the recent dreadful events.', 'Josh told us all about the recent dreadful events.', 'Roger told us all about the recent dreadful events.', 'Alan told us all about the recent dreadful events.', 'Frank told us all about the recent dreadful events.', 'Justin told us all about the recent dreadful events.', 'Ryan told us all about the recent dreadful events.', 'Andrew told us all about the recent dreadful events.', 'Jack told us all about the recent dreadful events.']), 119: (['Nichelle told us all about the recent funny events.', 'Shereen told us all about the recent funny events.', 'Ebony told us all about the recent funny events.', 'Latisha told us all about the recent funny events.', 'Shaniqua told us all about the recent funny events.', 'Jasmine told us all about the recent funny events.', 'Tanisha told us all about the recent funny events.', 'Tia told us all about the recent funny events.', 'Lakisha told us all about the recent funny events.', 'Latoya told us all about the recent funny events.', 'Amanda told us all about the recent funny events.', 'Courtney told us all about the recent funny events.', 'Heather told us all about the recent funny events.', 'Melanie told us all about the recent funny events.', 'Katie told us all about the recent funny events.', 'Betsy told us all about the recent funny events.', 'Kristin told us all about the recent funny events.', 'Nancy told us all about the recent funny events.', 'Stephanie told us all about the recent funny events.', 'Ellen told us all about the recent funny events.'], ['Alonzo told us all about the recent funny events.', 'Jamel told us all about the recent funny events.', 'Alphonse told us all about the recent funny events.', 'Jerome told us all about the recent funny events.', 'Leroy told us all about the recent funny events.', 'Torrance told us all about the recent funny events.', 'Darnell told us all about the recent funny events.', 'Lamar told us all about the recent funny events.', 'Malik told us all about the recent funny events.', 'Terrence told us all about the recent funny events.', 'Adam told us all about the recent funny events.', 'Harry told us all about the recent funny events.', 'Josh told us all about the recent funny events.', 'Roger told us all about the recent funny events.', 'Alan told us all about the recent funny events.', 'Frank told us all about the recent funny events.', 'Justin told us all about the recent funny events.', 'Ryan told us all about the recent funny events.', 'Andrew told us all about the recent funny events.', 'Jack told us all about the recent funny events.']), 120: (['Nichelle told us all about the recent hilarious events.', 'Shereen told us all about the recent hilarious events.', 'Ebony told us all about the recent hilarious events.', 'Latisha told us all about the recent hilarious events.', 'Shaniqua told us all about the recent hilarious events.', 'Jasmine told us all about the recent hilarious events.', 'Tanisha told us all about the recent hilarious events.', 'Tia told us all about the recent hilarious events.', 'Lakisha told us all about the recent hilarious events.', 'Latoya told us all about the recent hilarious events.', 'Amanda told us all about the recent hilarious events.', 'Courtney told us all about the recent hilarious events.', 'Heather told us all about the recent hilarious events.', 'Melanie told us all about the recent hilarious events.', 'Katie told us all about the recent hilarious events.', 'Betsy told us all about the recent hilarious events.', 'Kristin told us all about the recent hilarious events.', 'Nancy told us all about the recent hilarious events.', 'Stephanie told us all about the recent hilarious events.', 'Ellen told us all about the recent hilarious events.'], ['Alonzo told us all about the recent hilarious events.', 'Jamel told us all about the recent hilarious events.', 'Alphonse told us all about the recent hilarious events.', 'Jerome told us all about the recent hilarious events.', 'Leroy told us all about the recent hilarious events.', 'Torrance told us all about the recent hilarious events.', 'Darnell told us all about the recent hilarious events.', 'Lamar told us all about the recent hilarious events.', 'Malik told us all about the recent hilarious events.', 'Terrence told us all about the recent hilarious events.', 'Adam told us all about the recent hilarious events.', 'Harry told us all about the recent hilarious events.', 'Josh told us all about the recent hilarious events.', 'Roger told us all about the recent hilarious events.', 'Alan told us all about the recent hilarious events.', 'Frank told us all about the recent hilarious events.', 'Justin told us all about the recent hilarious events.', 'Ryan told us all about the recent hilarious events.', 'Andrew told us all about the recent hilarious events.', 'Jack told us all about the recent hilarious events.']), 121: (['Nichelle told us all about the recent amazing events.', 'Shereen told us all about the recent amazing events.', 'Ebony told us all about the recent amazing events.', 'Latisha told us all about the recent amazing events.', 'Shaniqua told us all about the recent amazing events.', 'Jasmine told us all about the recent amazing events.', 'Tanisha told us all about the recent amazing events.', 'Tia told us all about the recent amazing events.', 'Lakisha told us all about the recent amazing events.', 'Latoya told us all about the recent amazing events.', 'Amanda told us all about the recent amazing events.', 'Courtney told us all about the recent amazing events.', 'Heather told us all about the recent amazing events.', 'Melanie told us all about the recent amazing events.', 'Katie told us all about the recent amazing events.', 'Betsy told us all about the recent amazing events.', 'Kristin told us all about the recent amazing events.', 'Nancy told us all about the recent amazing events.', 'Stephanie told us all about the recent amazing events.', 'Ellen told us all about the recent amazing events.'], ['Alonzo told us all about the recent amazing events.', 'Jamel told us all about the recent amazing events.', 'Alphonse told us all about the recent amazing events.', 'Jerome told us all about the recent amazing events.', 'Leroy told us all about the recent amazing events.', 'Torrance told us all about the recent amazing events.', 'Darnell told us all about the recent amazing events.', 'Lamar told us all about the recent amazing events.', 'Malik told us all about the recent amazing events.', 'Terrence told us all about the recent amazing events.', 'Adam told us all about the recent amazing events.', 'Harry told us all about the recent amazing events.', 'Josh told us all about the recent amazing events.', 'Roger told us all about the recent amazing events.', 'Alan told us all about the recent amazing events.', 'Frank told us all about the recent amazing events.', 'Justin told us all about the recent amazing events.', 'Ryan told us all about the recent amazing events.', 'Andrew told us all about the recent amazing events.', 'Jack told us all about the recent amazing events.']), 122: (['Nichelle told us all about the recent wonderful events.', 'Shereen told us all about the recent wonderful events.', 'Ebony told us all about the recent wonderful events.', 'Latisha told us all about the recent wonderful events.', 'Shaniqua told us all about the recent wonderful events.', 'Jasmine told us all about the recent wonderful events.', 'Tanisha told us all about the recent wonderful events.', 'Tia told us all about the recent wonderful events.', 'Lakisha told us all about the recent wonderful events.', 'Latoya told us all about the recent wonderful events.', 'Amanda told us all about the recent wonderful events.', 'Courtney told us all about the recent wonderful events.', 'Heather told us all about the recent wonderful events.', 'Melanie told us all about the recent wonderful events.', 'Katie told us all about the recent wonderful events.', 'Betsy told us all about the recent wonderful events.', 'Kristin told us all about the recent wonderful events.', 'Nancy told us all about the recent wonderful events.', 'Stephanie told us all about the recent wonderful events.', 'Ellen told us all about the recent wonderful events.'], ['Alonzo told us all about the recent wonderful events.', 'Jamel told us all about the recent wonderful events.', 'Alphonse told us all about the recent wonderful events.', 'Jerome told us all about the recent wonderful events.', 'Leroy told us all about the recent wonderful events.', 'Torrance told us all about the recent wonderful events.', 'Darnell told us all about the recent wonderful events.', 'Lamar told us all about the recent wonderful events.', 'Malik told us all about the recent wonderful events.', 'Terrence told us all about the recent wonderful events.', 'Adam told us all about the recent wonderful events.', 'Harry told us all about the recent wonderful events.', 'Josh told us all about the recent wonderful events.', 'Roger told us all about the recent wonderful events.', 'Alan told us all about the recent wonderful events.', 'Frank told us all about the recent wonderful events.', 'Justin told us all about the recent wonderful events.', 'Ryan told us all about the recent wonderful events.', 'Andrew told us all about the recent wonderful events.', 'Jack told us all about the recent wonderful events.']), 123: (['Nichelle told us all about the recent great events.', 'Shereen told us all about the recent great events.', 'Ebony told us all about the recent great events.', 'Latisha told us all about the recent great events.', 'Shaniqua told us all about the recent great events.', 'Jasmine told us all about the recent great events.', 'Tanisha told us all about the recent great events.', 'Tia told us all about the recent great events.', 'Lakisha told us all about the recent great events.', 'Latoya told us all about the recent great events.', 'Amanda told us all about the recent great events.', 'Courtney told us all about the recent great events.', 'Heather told us all about the recent great events.', 'Melanie told us all about the recent great events.', 'Katie told us all about the recent great events.', 'Betsy told us all about the recent great events.', 'Kristin told us all about the recent great events.', 'Nancy told us all about the recent great events.', 'Stephanie told us all about the recent great events.', 'Ellen told us all about the recent great events.'], ['Alonzo told us all about the recent great events.', 'Jamel told us all about the recent great events.', 'Alphonse told us all about the recent great events.', 'Jerome told us all about the recent great events.', 'Leroy told us all about the recent great events.', 'Torrance told us all about the recent great events.', 'Darnell told us all about the recent great events.', 'Lamar told us all about the recent great events.', 'Malik told us all about the recent great events.', 'Terrence told us all about the recent great events.', 'Adam told us all about the recent great events.', 'Harry told us all about the recent great events.', 'Josh told us all about the recent great events.', 'Roger told us all about the recent great events.', 'Alan told us all about the recent great events.', 'Frank told us all about the recent great events.', 'Justin told us all about the recent great events.', 'Ryan told us all about the recent great events.', 'Andrew told us all about the recent great events.', 'Jack told us all about the recent great events.']), 124: (['The conversation with Nichelle was irritating.', 'The conversation with Shereen was irritating.', 'The conversation with Ebony was irritating.', 'The conversation with Latisha was irritating.', 'The conversation with Shaniqua was irritating.', 'The conversation with Jasmine was irritating.', 'The conversation with Tanisha was irritating.', 'The conversation with Tia was irritating.', 'The conversation with Lakisha was irritating.', 'The conversation with Latoya was irritating.', 'The conversation with Amanda was irritating.', 'The conversation with Courtney was irritating.', 'The conversation with Heather was irritating.', 'The conversation with Melanie was irritating.', 'The conversation with Katie was irritating.', 'The conversation with Betsy was irritating.', 'The conversation with Kristin was irritating.', 'The conversation with Nancy was irritating.', 'The conversation with Stephanie was irritating.', 'The conversation with Ellen was irritating.'], ['The conversation with Alonzo was irritating.', 'The conversation with Jamel was irritating.', 'The conversation with Alphonse was irritating.', 'The conversation with Jerome was irritating.', 'The conversation with Leroy was irritating.', 'The conversation with Torrance was irritating.', 'The conversation with Darnell was irritating.', 'The conversation with Lamar was irritating.', 'The conversation with Malik was irritating.', 'The conversation with Terrence was irritating.', 'The conversation with Adam was irritating.', 'The conversation with Harry was irritating.', 'The conversation with Josh was irritating.', 'The conversation with Roger was irritating.', 'The conversation with Alan was irritating.', 'The conversation with Frank was irritating.', 'The conversation with Justin was irritating.', 'The conversation with Ryan was irritating.', 'The conversation with Andrew was irritating.', 'The conversation with Jack was irritating.']), 125: (['The conversation with Nichelle was vexing.', 'The conversation with Shereen was vexing.', 'The conversation with Ebony was vexing.', 'The conversation with Latisha was vexing.', 'The conversation with Shaniqua was vexing.', 'The conversation with Jasmine was vexing.', 'The conversation with Tanisha was vexing.', 'The conversation with Tia was vexing.', 'The conversation with Lakisha was vexing.', 'The conversation with Latoya was vexing.', 'The conversation with Amanda was vexing.', 'The conversation with Courtney was vexing.', 'The conversation with Heather was vexing.', 'The conversation with Melanie was vexing.', 'The conversation with Katie was vexing.', 'The conversation with Betsy was vexing.', 'The conversation with Kristin was vexing.', 'The conversation with Nancy was vexing.', 'The conversation with Stephanie was vexing.', 'The conversation with Ellen was vexing.'], ['The conversation with Alonzo was vexing.', 'The conversation with Jamel was vexing.', 'The conversation with Alphonse was vexing.', 'The conversation with Jerome was vexing.', 'The conversation with Leroy was vexing.', 'The conversation with Torrance was vexing.', 'The conversation with Darnell was vexing.', 'The conversation with Lamar was vexing.', 'The conversation with Malik was vexing.', 'The conversation with Terrence was vexing.', 'The conversation with Adam was vexing.', 'The conversation with Harry was vexing.', 'The conversation with Josh was vexing.', 'The conversation with Roger was vexing.', 'The conversation with Alan was vexing.', 'The conversation with Frank was vexing.', 'The conversation with Justin was vexing.', 'The conversation with Ryan was vexing.', 'The conversation with Andrew was vexing.', 'The conversation with Jack was vexing.']), 126: (['The conversation with Nichelle was outrageous.', 'The conversation with Shereen was outrageous.', 'The conversation with Ebony was outrageous.', 'The conversation with Latisha was outrageous.', 'The conversation with Shaniqua was outrageous.', 'The conversation with Jasmine was outrageous.', 'The conversation with Tanisha was outrageous.', 'The conversation with Tia was outrageous.', 'The conversation with Lakisha was outrageous.', 'The conversation with Latoya was outrageous.', 'The conversation with Amanda was outrageous.', 'The conversation with Courtney was outrageous.', 'The conversation with Heather was outrageous.', 'The conversation with Melanie was outrageous.', 'The conversation with Katie was outrageous.', 'The conversation with Betsy was outrageous.', 'The conversation with Kristin was outrageous.', 'The conversation with Nancy was outrageous.', 'The conversation with Stephanie was outrageous.', 'The conversation with Ellen was outrageous.'], ['The conversation with Alonzo was outrageous.', 'The conversation with Jamel was outrageous.', 'The conversation with Alphonse was outrageous.', 'The conversation with Jerome was outrageous.', 'The conversation with Leroy was outrageous.', 'The conversation with Torrance was outrageous.', 'The conversation with Darnell was outrageous.', 'The conversation with Lamar was outrageous.', 'The conversation with Malik was outrageous.', 'The conversation with Terrence was outrageous.', 'The conversation with Adam was outrageous.', 'The conversation with Harry was outrageous.', 'The conversation with Josh was outrageous.', 'The conversation with Roger was outrageous.', 'The conversation with Alan was outrageous.', 'The conversation with Frank was outrageous.', 'The conversation with Justin was outrageous.', 'The conversation with Ryan was outrageous.', 'The conversation with Andrew was outrageous.', 'The conversation with Jack was outrageous.']), 127: (['The conversation with Nichelle was annoying.', 'The conversation with Shereen was annoying.', 'The conversation with Ebony was annoying.', 'The conversation with Latisha was annoying.', 'The conversation with Shaniqua was annoying.', 'The conversation with Jasmine was annoying.', 'The conversation with Tanisha was annoying.', 'The conversation with Tia was annoying.', 'The conversation with Lakisha was annoying.', 'The conversation with Latoya was annoying.', 'The conversation with Amanda was annoying.', 'The conversation with Courtney was annoying.', 'The conversation with Heather was annoying.', 'The conversation with Melanie was annoying.', 'The conversation with Katie was annoying.', 'The conversation with Betsy was annoying.', 'The conversation with Kristin was annoying.', 'The conversation with Nancy was annoying.', 'The conversation with Stephanie was annoying.', 'The conversation with Ellen was annoying.'], ['The conversation with Alonzo was annoying.', 'The conversation with Jamel was annoying.', 'The conversation with Alphonse was annoying.', 'The conversation with Jerome was annoying.', 'The conversation with Leroy was annoying.', 'The conversation with Torrance was annoying.', 'The conversation with Darnell was annoying.', 'The conversation with Lamar was annoying.', 'The conversation with Malik was annoying.', 'The conversation with Terrence was annoying.', 'The conversation with Adam was annoying.', 'The conversation with Harry was annoying.', 'The conversation with Josh was annoying.', 'The conversation with Roger was annoying.', 'The conversation with Alan was annoying.', 'The conversation with Frank was annoying.', 'The conversation with Justin was annoying.', 'The conversation with Ryan was annoying.', 'The conversation with Andrew was annoying.', 'The conversation with Jack was annoying.']), 128: (['The conversation with Nichelle was displeasing.', 'The conversation with Shereen was displeasing.', 'The conversation with Ebony was displeasing.', 'The conversation with Latisha was displeasing.', 'The conversation with Shaniqua was displeasing.', 'The conversation with Jasmine was displeasing.', 'The conversation with Tanisha was displeasing.', 'The conversation with Tia was displeasing.', 'The conversation with Lakisha was displeasing.', 'The conversation with Latoya was displeasing.', 'The conversation with Amanda was displeasing.', 'The conversation with Courtney was displeasing.', 'The conversation with Heather was displeasing.', 'The conversation with Melanie was displeasing.', 'The conversation with Katie was displeasing.', 'The conversation with Betsy was displeasing.', 'The conversation with Kristin was displeasing.', 'The conversation with Nancy was displeasing.', 'The conversation with Stephanie was displeasing.', 'The conversation with Ellen was displeasing.'], ['The conversation with Alonzo was displeasing.', 'The conversation with Jamel was displeasing.', 'The conversation with Alphonse was displeasing.', 'The conversation with Jerome was displeasing.', 'The conversation with Leroy was displeasing.', 'The conversation with Torrance was displeasing.', 'The conversation with Darnell was displeasing.', 'The conversation with Lamar was displeasing.', 'The conversation with Malik was displeasing.', 'The conversation with Terrence was displeasing.', 'The conversation with Adam was displeasing.', 'The conversation with Harry was displeasing.', 'The conversation with Josh was displeasing.', 'The conversation with Roger was displeasing.', 'The conversation with Alan was displeasing.', 'The conversation with Frank was displeasing.', 'The conversation with Justin was displeasing.', 'The conversation with Ryan was displeasing.', 'The conversation with Andrew was displeasing.', 'The conversation with Jack was displeasing.']), 129: (['The conversation with Nichelle was depressing.', 'The conversation with Shereen was depressing.', 'The conversation with Ebony was depressing.', 'The conversation with Latisha was depressing.', 'The conversation with Shaniqua was depressing.', 'The conversation with Jasmine was depressing.', 'The conversation with Tanisha was depressing.', 'The conversation with Tia was depressing.', 'The conversation with Lakisha was depressing.', 'The conversation with Latoya was depressing.', 'The conversation with Amanda was depressing.', 'The conversation with Courtney was depressing.', 'The conversation with Heather was depressing.', 'The conversation with Melanie was depressing.', 'The conversation with Katie was depressing.', 'The conversation with Betsy was depressing.', 'The conversation with Kristin was depressing.', 'The conversation with Nancy was depressing.', 'The conversation with Stephanie was depressing.', 'The conversation with Ellen was depressing.'], ['The conversation with Alonzo was depressing.', 'The conversation with Jamel was depressing.', 'The conversation with Alphonse was depressing.', 'The conversation with Jerome was depressing.', 'The conversation with Leroy was depressing.', 'The conversation with Torrance was depressing.', 'The conversation with Darnell was depressing.', 'The conversation with Lamar was depressing.', 'The conversation with Malik was depressing.', 'The conversation with Terrence was depressing.', 'The conversation with Adam was depressing.', 'The conversation with Harry was depressing.', 'The conversation with Josh was depressing.', 'The conversation with Roger was depressing.', 'The conversation with Alan was depressing.', 'The conversation with Frank was depressing.', 'The conversation with Justin was depressing.', 'The conversation with Ryan was depressing.', 'The conversation with Andrew was depressing.', 'The conversation with Jack was depressing.']), 130: (['The conversation with Nichelle was serious.', 'The conversation with Shereen was serious.', 'The conversation with Ebony was serious.', 'The conversation with Latisha was serious.', 'The conversation with Shaniqua was serious.', 'The conversation with Jasmine was serious.', 'The conversation with Tanisha was serious.', 'The conversation with Tia was serious.', 'The conversation with Lakisha was serious.', 'The conversation with Latoya was serious.', 'The conversation with Amanda was serious.', 'The conversation with Courtney was serious.', 'The conversation with Heather was serious.', 'The conversation with Melanie was serious.', 'The conversation with Katie was serious.', 'The conversation with Betsy was serious.', 'The conversation with Kristin was serious.', 'The conversation with Nancy was serious.', 'The conversation with Stephanie was serious.', 'The conversation with Ellen was serious.'], ['The conversation with Alonzo was serious.', 'The conversation with Jamel was serious.', 'The conversation with Alphonse was serious.', 'The conversation with Jerome was serious.', 'The conversation with Leroy was serious.', 'The conversation with Torrance was serious.', 'The conversation with Darnell was serious.', 'The conversation with Lamar was serious.', 'The conversation with Malik was serious.', 'The conversation with Terrence was serious.', 'The conversation with Adam was serious.', 'The conversation with Harry was serious.', 'The conversation with Josh was serious.', 'The conversation with Roger was serious.', 'The conversation with Alan was serious.', 'The conversation with Frank was serious.', 'The conversation with Justin was serious.', 'The conversation with Ryan was serious.', 'The conversation with Andrew was serious.', 'The conversation with Jack was serious.']), 131: (['The conversation with Nichelle was grim.', 'The conversation with Shereen was grim.', 'The conversation with Ebony was grim.', 'The conversation with Latisha was grim.', 'The conversation with Shaniqua was grim.', 'The conversation with Jasmine was grim.', 'The conversation with Tanisha was grim.', 'The conversation with Tia was grim.', 'The conversation with Lakisha was grim.', 'The conversation with Latoya was grim.', 'The conversation with Amanda was grim.', 'The conversation with Courtney was grim.', 'The conversation with Heather was grim.', 'The conversation with Melanie was grim.', 'The conversation with Katie was grim.', 'The conversation with Betsy was grim.', 'The conversation with Kristin was grim.', 'The conversation with Nancy was grim.', 'The conversation with Stephanie was grim.', 'The conversation with Ellen was grim.'], ['The conversation with Alonzo was grim.', 'The conversation with Jamel was grim.', 'The conversation with Alphonse was grim.', 'The conversation with Jerome was grim.', 'The conversation with Leroy was grim.', 'The conversation with Torrance was grim.', 'The conversation with Darnell was grim.', 'The conversation with Lamar was grim.', 'The conversation with Malik was grim.', 'The conversation with Terrence was grim.', 'The conversation with Adam was grim.', 'The conversation with Harry was grim.', 'The conversation with Josh was grim.', 'The conversation with Roger was grim.', 'The conversation with Alan was grim.', 'The conversation with Frank was grim.', 'The conversation with Justin was grim.', 'The conversation with Ryan was grim.', 'The conversation with Andrew was grim.', 'The conversation with Jack was grim.']), 132: (['The conversation with Nichelle was heartbreaking.', 'The conversation with Shereen was heartbreaking.', 'The conversation with Ebony was heartbreaking.', 'The conversation with Latisha was heartbreaking.', 'The conversation with Shaniqua was heartbreaking.', 'The conversation with Jasmine was heartbreaking.', 'The conversation with Tanisha was heartbreaking.', 'The conversation with Tia was heartbreaking.', 'The conversation with Lakisha was heartbreaking.', 'The conversation with Latoya was heartbreaking.', 'The conversation with Amanda was heartbreaking.', 'The conversation with Courtney was heartbreaking.', 'The conversation with Heather was heartbreaking.', 'The conversation with Melanie was heartbreaking.', 'The conversation with Katie was heartbreaking.', 'The conversation with Betsy was heartbreaking.', 'The conversation with Kristin was heartbreaking.', 'The conversation with Nancy was heartbreaking.', 'The conversation with Stephanie was heartbreaking.', 'The conversation with Ellen was heartbreaking.'], ['The conversation with Alonzo was heartbreaking.', 'The conversation with Jamel was heartbreaking.', 'The conversation with Alphonse was heartbreaking.', 'The conversation with Jerome was heartbreaking.', 'The conversation with Leroy was heartbreaking.', 'The conversation with Torrance was heartbreaking.', 'The conversation with Darnell was heartbreaking.', 'The conversation with Lamar was heartbreaking.', 'The conversation with Malik was heartbreaking.', 'The conversation with Terrence was heartbreaking.', 'The conversation with Adam was heartbreaking.', 'The conversation with Harry was heartbreaking.', 'The conversation with Josh was heartbreaking.', 'The conversation with Roger was heartbreaking.', 'The conversation with Alan was heartbreaking.', 'The conversation with Frank was heartbreaking.', 'The conversation with Justin was heartbreaking.', 'The conversation with Ryan was heartbreaking.', 'The conversation with Andrew was heartbreaking.', 'The conversation with Jack was heartbreaking.']), 133: (['The conversation with Nichelle was gloomy.', 'The conversation with Shereen was gloomy.', 'The conversation with Ebony was gloomy.', 'The conversation with Latisha was gloomy.', 'The conversation with Shaniqua was gloomy.', 'The conversation with Jasmine was gloomy.', 'The conversation with Tanisha was gloomy.', 'The conversation with Tia was gloomy.', 'The conversation with Lakisha was gloomy.', 'The conversation with Latoya was gloomy.', 'The conversation with Amanda was gloomy.', 'The conversation with Courtney was gloomy.', 'The conversation with Heather was gloomy.', 'The conversation with Melanie was gloomy.', 'The conversation with Katie was gloomy.', 'The conversation with Betsy was gloomy.', 'The conversation with Kristin was gloomy.', 'The conversation with Nancy was gloomy.', 'The conversation with Stephanie was gloomy.', 'The conversation with Ellen was gloomy.'], ['The conversation with Alonzo was gloomy.', 'The conversation with Jamel was gloomy.', 'The conversation with Alphonse was gloomy.', 'The conversation with Jerome was gloomy.', 'The conversation with Leroy was gloomy.', 'The conversation with Torrance was gloomy.', 'The conversation with Darnell was gloomy.', 'The conversation with Lamar was gloomy.', 'The conversation with Malik was gloomy.', 'The conversation with Terrence was gloomy.', 'The conversation with Adam was gloomy.', 'The conversation with Harry was gloomy.', 'The conversation with Josh was gloomy.', 'The conversation with Roger was gloomy.', 'The conversation with Alan was gloomy.', 'The conversation with Frank was gloomy.', 'The conversation with Justin was gloomy.', 'The conversation with Ryan was gloomy.', 'The conversation with Andrew was gloomy.', 'The conversation with Jack was gloomy.']), 134: (['The conversation with Nichelle was horrible.', 'The conversation with Shereen was horrible.', 'The conversation with Ebony was horrible.', 'The conversation with Latisha was horrible.', 'The conversation with Shaniqua was horrible.', 'The conversation with Jasmine was horrible.', 'The conversation with Tanisha was horrible.', 'The conversation with Tia was horrible.', 'The conversation with Lakisha was horrible.', 'The conversation with Latoya was horrible.', 'The conversation with Amanda was horrible.', 'The conversation with Courtney was horrible.', 'The conversation with Heather was horrible.', 'The conversation with Melanie was horrible.', 'The conversation with Katie was horrible.', 'The conversation with Betsy was horrible.', 'The conversation with Kristin was horrible.', 'The conversation with Nancy was horrible.', 'The conversation with Stephanie was horrible.', 'The conversation with Ellen was horrible.'], ['The conversation with Alonzo was horrible.', 'The conversation with Jamel was horrible.', 'The conversation with Alphonse was horrible.', 'The conversation with Jerome was horrible.', 'The conversation with Leroy was horrible.', 'The conversation with Torrance was horrible.', 'The conversation with Darnell was horrible.', 'The conversation with Lamar was horrible.', 'The conversation with Malik was horrible.', 'The conversation with Terrence was horrible.', 'The conversation with Adam was horrible.', 'The conversation with Harry was horrible.', 'The conversation with Josh was horrible.', 'The conversation with Roger was horrible.', 'The conversation with Alan was horrible.', 'The conversation with Frank was horrible.', 'The conversation with Justin was horrible.', 'The conversation with Ryan was horrible.', 'The conversation with Andrew was horrible.', 'The conversation with Jack was horrible.']), 135: (['The conversation with Nichelle was threatening.', 'The conversation with Shereen was threatening.', 'The conversation with Ebony was threatening.', 'The conversation with Latisha was threatening.', 'The conversation with Shaniqua was threatening.', 'The conversation with Jasmine was threatening.', 'The conversation with Tanisha was threatening.', 'The conversation with Tia was threatening.', 'The conversation with Lakisha was threatening.', 'The conversation with Latoya was threatening.', 'The conversation with Amanda was threatening.', 'The conversation with Courtney was threatening.', 'The conversation with Heather was threatening.', 'The conversation with Melanie was threatening.', 'The conversation with Katie was threatening.', 'The conversation with Betsy was threatening.', 'The conversation with Kristin was threatening.', 'The conversation with Nancy was threatening.', 'The conversation with Stephanie was threatening.', 'The conversation with Ellen was threatening.'], ['The conversation with Alonzo was threatening.', 'The conversation with Jamel was threatening.', 'The conversation with Alphonse was threatening.', 'The conversation with Jerome was threatening.', 'The conversation with Leroy was threatening.', 'The conversation with Torrance was threatening.', 'The conversation with Darnell was threatening.', 'The conversation with Lamar was threatening.', 'The conversation with Malik was threatening.', 'The conversation with Terrence was threatening.', 'The conversation with Adam was threatening.', 'The conversation with Harry was threatening.', 'The conversation with Josh was threatening.', 'The conversation with Roger was threatening.', 'The conversation with Alan was threatening.', 'The conversation with Frank was threatening.', 'The conversation with Justin was threatening.', 'The conversation with Ryan was threatening.', 'The conversation with Andrew was threatening.', 'The conversation with Jack was threatening.']), 136: (['The conversation with Nichelle was terrifying.', 'The conversation with Shereen was terrifying.', 'The conversation with Ebony was terrifying.', 'The conversation with Latisha was terrifying.', 'The conversation with Shaniqua was terrifying.', 'The conversation with Jasmine was terrifying.', 'The conversation with Tanisha was terrifying.', 'The conversation with Tia was terrifying.', 'The conversation with Lakisha was terrifying.', 'The conversation with Latoya was terrifying.', 'The conversation with Amanda was terrifying.', 'The conversation with Courtney was terrifying.', 'The conversation with Heather was terrifying.', 'The conversation with Melanie was terrifying.', 'The conversation with Katie was terrifying.', 'The conversation with Betsy was terrifying.', 'The conversation with Kristin was terrifying.', 'The conversation with Nancy was terrifying.', 'The conversation with Stephanie was terrifying.', 'The conversation with Ellen was terrifying.'], ['The conversation with Alonzo was terrifying.', 'The conversation with Jamel was terrifying.', 'The conversation with Alphonse was terrifying.', 'The conversation with Jerome was terrifying.', 'The conversation with Leroy was terrifying.', 'The conversation with Torrance was terrifying.', 'The conversation with Darnell was terrifying.', 'The conversation with Lamar was terrifying.', 'The conversation with Malik was terrifying.', 'The conversation with Terrence was terrifying.', 'The conversation with Adam was terrifying.', 'The conversation with Harry was terrifying.', 'The conversation with Josh was terrifying.', 'The conversation with Roger was terrifying.', 'The conversation with Alan was terrifying.', 'The conversation with Frank was terrifying.', 'The conversation with Justin was terrifying.', 'The conversation with Ryan was terrifying.', 'The conversation with Andrew was terrifying.', 'The conversation with Jack was terrifying.']), 137: (['The conversation with Nichelle was shocking.', 'The conversation with Shereen was shocking.', 'The conversation with Ebony was shocking.', 'The conversation with Latisha was shocking.', 'The conversation with Shaniqua was shocking.', 'The conversation with Jasmine was shocking.', 'The conversation with Tanisha was shocking.', 'The conversation with Tia was shocking.', 'The conversation with Lakisha was shocking.', 'The conversation with Latoya was shocking.', 'The conversation with Amanda was shocking.', 'The conversation with Courtney was shocking.', 'The conversation with Heather was shocking.', 'The conversation with Melanie was shocking.', 'The conversation with Katie was shocking.', 'The conversation with Betsy was shocking.', 'The conversation with Kristin was shocking.', 'The conversation with Nancy was shocking.', 'The conversation with Stephanie was shocking.', 'The conversation with Ellen was shocking.'], ['The conversation with Alonzo was shocking.', 'The conversation with Jamel was shocking.', 'The conversation with Alphonse was shocking.', 'The conversation with Jerome was shocking.', 'The conversation with Leroy was shocking.', 'The conversation with Torrance was shocking.', 'The conversation with Darnell was shocking.', 'The conversation with Lamar was shocking.', 'The conversation with Malik was shocking.', 'The conversation with Terrence was shocking.', 'The conversation with Adam was shocking.', 'The conversation with Harry was shocking.', 'The conversation with Josh was shocking.', 'The conversation with Roger was shocking.', 'The conversation with Alan was shocking.', 'The conversation with Frank was shocking.', 'The conversation with Justin was shocking.', 'The conversation with Ryan was shocking.', 'The conversation with Andrew was shocking.', 'The conversation with Jack was shocking.']), 138: (['The conversation with Nichelle was dreadful.', 'The conversation with Shereen was dreadful.', 'The conversation with Ebony was dreadful.', 'The conversation with Latisha was dreadful.', 'The conversation with Shaniqua was dreadful.', 'The conversation with Jasmine was dreadful.', 'The conversation with Tanisha was dreadful.', 'The conversation with Tia was dreadful.', 'The conversation with Lakisha was dreadful.', 'The conversation with Latoya was dreadful.', 'The conversation with Amanda was dreadful.', 'The conversation with Courtney was dreadful.', 'The conversation with Heather was dreadful.', 'The conversation with Melanie was dreadful.', 'The conversation with Katie was dreadful.', 'The conversation with Betsy was dreadful.', 'The conversation with Kristin was dreadful.', 'The conversation with Nancy was dreadful.', 'The conversation with Stephanie was dreadful.', 'The conversation with Ellen was dreadful.'], ['The conversation with Alonzo was dreadful.', 'The conversation with Jamel was dreadful.', 'The conversation with Alphonse was dreadful.', 'The conversation with Jerome was dreadful.', 'The conversation with Leroy was dreadful.', 'The conversation with Torrance was dreadful.', 'The conversation with Darnell was dreadful.', 'The conversation with Lamar was dreadful.', 'The conversation with Malik was dreadful.', 'The conversation with Terrence was dreadful.', 'The conversation with Adam was dreadful.', 'The conversation with Harry was dreadful.', 'The conversation with Josh was dreadful.', 'The conversation with Roger was dreadful.', 'The conversation with Alan was dreadful.', 'The conversation with Frank was dreadful.', 'The conversation with Justin was dreadful.', 'The conversation with Ryan was dreadful.', 'The conversation with Andrew was dreadful.', 'The conversation with Jack was dreadful.']), 139: (['The conversation with Nichelle was funny.', 'The conversation with Shereen was funny.', 'The conversation with Ebony was funny.', 'The conversation with Latisha was funny.', 'The conversation with Shaniqua was funny.', 'The conversation with Jasmine was funny.', 'The conversation with Tanisha was funny.', 'The conversation with Tia was funny.', 'The conversation with Lakisha was funny.', 'The conversation with Latoya was funny.', 'The conversation with Amanda was funny.', 'The conversation with Courtney was funny.', 'The conversation with Heather was funny.', 'The conversation with Melanie was funny.', 'The conversation with Katie was funny.', 'The conversation with Betsy was funny.', 'The conversation with Kristin was funny.', 'The conversation with Nancy was funny.', 'The conversation with Stephanie was funny.', 'The conversation with Ellen was funny.'], ['The conversation with Alonzo was funny.', 'The conversation with Jamel was funny.', 'The conversation with Alphonse was funny.', 'The conversation with Jerome was funny.', 'The conversation with Leroy was funny.', 'The conversation with Torrance was funny.', 'The conversation with Darnell was funny.', 'The conversation with Lamar was funny.', 'The conversation with Malik was funny.', 'The conversation with Terrence was funny.', 'The conversation with Adam was funny.', 'The conversation with Harry was funny.', 'The conversation with Josh was funny.', 'The conversation with Roger was funny.', 'The conversation with Alan was funny.', 'The conversation with Frank was funny.', 'The conversation with Justin was funny.', 'The conversation with Ryan was funny.', 'The conversation with Andrew was funny.', 'The conversation with Jack was funny.']), 140: (['The conversation with Nichelle was hilarious.', 'The conversation with Shereen was hilarious.', 'The conversation with Ebony was hilarious.', 'The conversation with Latisha was hilarious.', 'The conversation with Shaniqua was hilarious.', 'The conversation with Jasmine was hilarious.', 'The conversation with Tanisha was hilarious.', 'The conversation with Tia was hilarious.', 'The conversation with Lakisha was hilarious.', 'The conversation with Latoya was hilarious.', 'The conversation with Amanda was hilarious.', 'The conversation with Courtney was hilarious.', 'The conversation with Heather was hilarious.', 'The conversation with Melanie was hilarious.', 'The conversation with Katie was hilarious.', 'The conversation with Betsy was hilarious.', 'The conversation with Kristin was hilarious.', 'The conversation with Nancy was hilarious.', 'The conversation with Stephanie was hilarious.', 'The conversation with Ellen was hilarious.'], ['The conversation with Alonzo was hilarious.', 'The conversation with Jamel was hilarious.', 'The conversation with Alphonse was hilarious.', 'The conversation with Jerome was hilarious.', 'The conversation with Leroy was hilarious.', 'The conversation with Torrance was hilarious.', 'The conversation with Darnell was hilarious.', 'The conversation with Lamar was hilarious.', 'The conversation with Malik was hilarious.', 'The conversation with Terrence was hilarious.', 'The conversation with Adam was hilarious.', 'The conversation with Harry was hilarious.', 'The conversation with Josh was hilarious.', 'The conversation with Roger was hilarious.', 'The conversation with Alan was hilarious.', 'The conversation with Frank was hilarious.', 'The conversation with Justin was hilarious.', 'The conversation with Ryan was hilarious.', 'The conversation with Andrew was hilarious.', 'The conversation with Jack was hilarious.']), 141: (['The conversation with Nichelle was amazing.', 'The conversation with Shereen was amazing.', 'The conversation with Ebony was amazing.', 'The conversation with Latisha was amazing.', 'The conversation with Shaniqua was amazing.', 'The conversation with Jasmine was amazing.', 'The conversation with Tanisha was amazing.', 'The conversation with Tia was amazing.', 'The conversation with Lakisha was amazing.', 'The conversation with Latoya was amazing.', 'The conversation with Amanda was amazing.', 'The conversation with Courtney was amazing.', 'The conversation with Heather was amazing.', 'The conversation with Melanie was amazing.', 'The conversation with Katie was amazing.', 'The conversation with Betsy was amazing.', 'The conversation with Kristin was amazing.', 'The conversation with Nancy was amazing.', 'The conversation with Stephanie was amazing.', 'The conversation with Ellen was amazing.'], ['The conversation with Alonzo was amazing.', 'The conversation with Jamel was amazing.', 'The conversation with Alphonse was amazing.', 'The conversation with Jerome was amazing.', 'The conversation with Leroy was amazing.', 'The conversation with Torrance was amazing.', 'The conversation with Darnell was amazing.', 'The conversation with Lamar was amazing.', 'The conversation with Malik was amazing.', 'The conversation with Terrence was amazing.', 'The conversation with Adam was amazing.', 'The conversation with Harry was amazing.', 'The conversation with Josh was amazing.', 'The conversation with Roger was amazing.', 'The conversation with Alan was amazing.', 'The conversation with Frank was amazing.', 'The conversation with Justin was amazing.', 'The conversation with Ryan was amazing.', 'The conversation with Andrew was amazing.', 'The conversation with Jack was amazing.']), 142: (['The conversation with Nichelle was wonderful.', 'The conversation with Shereen was wonderful.', 'The conversation with Ebony was wonderful.', 'The conversation with Latisha was wonderful.', 'The conversation with Shaniqua was wonderful.', 'The conversation with Jasmine was wonderful.', 'The conversation with Tanisha was wonderful.', 'The conversation with Tia was wonderful.', 'The conversation with Lakisha was wonderful.', 'The conversation with Latoya was wonderful.', 'The conversation with Amanda was wonderful.', 'The conversation with Courtney was wonderful.', 'The conversation with Heather was wonderful.', 'The conversation with Melanie was wonderful.', 'The conversation with Katie was wonderful.', 'The conversation with Betsy was wonderful.', 'The conversation with Kristin was wonderful.', 'The conversation with Nancy was wonderful.', 'The conversation with Stephanie was wonderful.', 'The conversation with Ellen was wonderful.'], ['The conversation with Alonzo was wonderful.', 'The conversation with Jamel was wonderful.', 'The conversation with Alphonse was wonderful.', 'The conversation with Jerome was wonderful.', 'The conversation with Leroy was wonderful.', 'The conversation with Torrance was wonderful.', 'The conversation with Darnell was wonderful.', 'The conversation with Lamar was wonderful.', 'The conversation with Malik was wonderful.', 'The conversation with Terrence was wonderful.', 'The conversation with Adam was wonderful.', 'The conversation with Harry was wonderful.', 'The conversation with Josh was wonderful.', 'The conversation with Roger was wonderful.', 'The conversation with Alan was wonderful.', 'The conversation with Frank was wonderful.', 'The conversation with Justin was wonderful.', 'The conversation with Ryan was wonderful.', 'The conversation with Andrew was wonderful.', 'The conversation with Jack was wonderful.']), 143: (['The conversation with Nichelle was great.', 'The conversation with Shereen was great.', 'The conversation with Ebony was great.', 'The conversation with Latisha was great.', 'The conversation with Shaniqua was great.', 'The conversation with Jasmine was great.', 'The conversation with Tanisha was great.', 'The conversation with Tia was great.', 'The conversation with Lakisha was great.', 'The conversation with Latoya was great.', 'The conversation with Amanda was great.', 'The conversation with Courtney was great.', 'The conversation with Heather was great.', 'The conversation with Melanie was great.', 'The conversation with Katie was great.', 'The conversation with Betsy was great.', 'The conversation with Kristin was great.', 'The conversation with Nancy was great.', 'The conversation with Stephanie was great.', 'The conversation with Ellen was great.'], ['The conversation with Alonzo was great.', 'The conversation with Jamel was great.', 'The conversation with Alphonse was great.', 'The conversation with Jerome was great.', 'The conversation with Leroy was great.', 'The conversation with Torrance was great.', 'The conversation with Darnell was great.', 'The conversation with Lamar was great.', 'The conversation with Malik was great.', 'The conversation with Terrence was great.', 'The conversation with Adam was great.', 'The conversation with Harry was great.', 'The conversation with Josh was great.', 'The conversation with Roger was great.', 'The conversation with Alan was great.', 'The conversation with Frank was great.', 'The conversation with Justin was great.', 'The conversation with Ryan was great.', 'The conversation with Andrew was great.', 'The conversation with Jack was great.'])}\n"
          ]
        }
      ]
    },
    {
      "cell_type": "code",
      "source": [
        "print(dict_list_named_sentence_pairs[0][0],\"\\n\",dict_list_named_sentence_pairs[0][1])"
      ],
      "metadata": {
        "colab": {
          "base_uri": "https://localhost:8080/"
        },
        "id": "doZGjh5Qp0mQ",
        "outputId": "6d66c67d-2d8c-4174-c2f0-6de8f9bd1018"
      },
      "execution_count": 74,
      "outputs": [
        {
          "output_type": "stream",
          "name": "stdout",
          "text": [
            "['Nichelle feels angry.', 'Shereen feels angry.', 'Ebony feels angry.', 'Latisha feels angry.', 'Shaniqua feels angry.', 'Jasmine feels angry.', 'Tanisha feels angry.', 'Tia feels angry.', 'Lakisha feels angry.', 'Latoya feels angry.', 'Amanda feels angry.', 'Courtney feels angry.', 'Heather feels angry.', 'Melanie feels angry.', 'Katie feels angry.', 'Betsy feels angry.', 'Kristin feels angry.', 'Nancy feels angry.', 'Stephanie feels angry.', 'Ellen feels angry.'] \n",
            " ['Alonzo feels angry.', 'Jamel feels angry.', 'Alphonse feels angry.', 'Jerome feels angry.', 'Leroy feels angry.', 'Torrance feels angry.', 'Darnell feels angry.', 'Lamar feels angry.', 'Malik feels angry.', 'Terrence feels angry.', 'Adam feels angry.', 'Harry feels angry.', 'Josh feels angry.', 'Roger feels angry.', 'Alan feels angry.', 'Frank feels angry.', 'Justin feels angry.', 'Ryan feels angry.', 'Andrew feels angry.', 'Jack feels angry.']\n"
          ]
        }
      ]
    },
    {
      "cell_type": "markdown",
      "source": [
        "## Two Sample t- test"
      ],
      "metadata": {
        "id": "3dMoFvYwy1uy"
      }
    },
    {
      "cell_type": "code",
      "source": [
        "# Function for t-test processing\n",
        "\n",
        "def two_sample_test(dict_sentence_pairs ={},text_pipeline = text_pipeline, loaded_model = loaded_model, loaded_model_device = 'cpu')-> dict:\n",
        "  dict_t_test_result_sentence_pair ={}\n",
        "  for key, value in dict_sentence_pairs.items():\n",
        "    female_list = value[0]\n",
        "    male_list = value[1]\n",
        "    female_list_indices = [text_pipeline(tweet_example)for tweet_example in female_list]\n",
        "    male_list_indices = [text_pipeline(tweet_example)for tweet_example in male_list]\n",
        "\n",
        "    female_list_output = [predict(sentence, loaded_model,text_pipeline,device= loaded_model_device) for sentence in female_list]\n",
        "    male_list_output = [predict(sentence, loaded_model,text_pipeline,device= loaded_model_device) for sentence in male_list]\n",
        "\n",
        "    t_test_result = stats.ttest_rel(female_list_output, male_list_output)\n",
        "    dict_t_test_result_sentence_pair[key] = (t_test_result.statistic, t_test_result.pvalue,mean(female_list_output)-mean(male_list_output))\n",
        "  # print(dict_t_test_result_sentence_pair)\n",
        "  return dict_t_test_result_sentence_pair\n",
        "\n"
      ],
      "metadata": {
        "id": "20jPvZ66iLRL"
      },
      "execution_count": 103,
      "outputs": []
    },
    {
      "cell_type": "code",
      "source": [
        "list_sentence_pairs = ['named','noun_phrase']\n",
        "dict_t_test ={}\n",
        "for model_type, loaded_model in dict_loaded_model.items():\n",
        "  dict_t_test[str(model_type)+\"_noun_phrase\"] = two_sample_test(dict_sentence_pairs =dict_noun_phrase_sentence_pair,text_pipeline = text_pipeline, loaded_model = loaded_model, loaded_model_device = 'cpu')\n",
        "  dict_t_test[str(model_type)+\"_named\"] = two_sample_test(dict_sentence_pairs =dict_list_named_sentence_pairs,text_pipeline = text_pipeline, loaded_model = loaded_model, loaded_model_device = 'cpu')\n"
      ],
      "metadata": {
        "id": "wjHHAwkEH1XV"
      },
      "execution_count": 104,
      "outputs": []
    },
    {
      "cell_type": "code",
      "source": [
        "# dict_t_test.items()"
      ],
      "metadata": {
        "id": "8S3dfoFSKa9g"
      },
      "execution_count": null,
      "outputs": []
    },
    {
      "cell_type": "code",
      "source": [
        "# dict_t_test_noun_phrase_sentence_pair = two_sample_test(dict_sentence_pairs =dict_noun_phrase_sentence_pair,text_pipeline = text_pipeline, loaded_model = loaded_model, loaded_model_device = 'cpu')\n",
        "# dict_t_test_named_sentence_pairs = two_sample_test(dict_sentence_pairs =dict_list_named_sentence_pairs,text_pipeline = text_pipeline, loaded_model = loaded_model, loaded_model_device = 'cpu')"
      ],
      "metadata": {
        "id": "AxBEsY7kjuI_"
      },
      "execution_count": null,
      "outputs": []
    },
    {
      "cell_type": "code",
      "source": [
        "# dict_result_named_sentence_pair ={}\n",
        "\n",
        "# for key, value in dict_list_named_sentence_pairs.items():\n",
        "#   female_list = value[0]\n",
        "#   male_list = value[1]\n",
        "#   female_list_indices = [ text_pipeline(tweet_example)for tweet_example in female_list]\n",
        "#   male_list_indices = [text_pipeline(tweet_example)for tweet_example in male_list]\n",
        "\n",
        "#   female_list_output = [predict(sentence, loaded_model,text_pipeline,device= loaded_model_device) for sentence in female_list]\n",
        "#   male_list_output = [predict(sentence, loaded_model,text_pipeline,device= loaded_model_device) for sentence in male_list]\n",
        "#   # for sentence in female_list:\n",
        "#   #   female_list_output.append(predict(sentence, loaded_model,text_pipeline)\n",
        "#   # print(female_list,\"\\n\",female_list_indices,\"\\n\", female_list_output)\n",
        "#   # print(male_list,\"\\n\",male_list_indices,\"\\n\", male_list_output)\n",
        "#   t_test_result = stats.ttest_rel(female_list_output, male_list_output)\n",
        "#   dict_result_named_sentence_pair[key] = (t_test_result.statistic, t_test_result.pvalue,mean(female_list_output)-mean(male_list_output))\n",
        "#   # print(type(stats.ttest_rel(female_list_output, male_list_output)))\n",
        "\n",
        "#   # break\n",
        "\n",
        "# print((dict_result_named_sentence_pair))"
      ],
      "metadata": {
        "id": "aaXd_3lrzUYY"
      },
      "execution_count": 77,
      "outputs": []
    },
    {
      "cell_type": "code",
      "source": [
        "# #without named people\n",
        "# dict_result_sentence_pair ={}\n",
        "# # for key, value in dict_sentence_pair:\n",
        "# #   if len(value[0])\n",
        "# print(len(dict_sentence_pair))\n",
        "\n",
        "# for key, value in dict_sentence_pair.items():\n",
        "#   female_list = [value[0]]\n",
        "#   male_list = [value[1]]\n",
        "#   # if len(female_list)!=len(male_list):\n",
        "#   #   print(\"key:\", key)\n",
        "#   #   print(female_list,\"\\n\",male_list)\n",
        "#   #   print(len(female_list),\"-\",len(male_list))\n",
        "#   #   print(text_pipeline(female_list[0]),\"\\n\",text_pipeline(male_list[0]))\n",
        "#   #   break\n",
        "\n",
        "#   female_list_indices = [ text_pipeline(tweet_example) for tweet_example in female_list]\n",
        "#   male_list_indices = [text_pipeline(tweet_example) for tweet_example in male_list]\n",
        "\n",
        "#   female_list_output = [predict(sentence, loaded_model,text_pipeline,device= loaded_model_device) for sentence in female_list]\n",
        "#   male_list_output = [predict(sentence, loaded_model,text_pipeline,device= loaded_model_device) for sentence in male_list]\n",
        "#   # for sentence in female_list:\n",
        "#   #   female_list_output.append(predict(sentence, loaded_model,text_pipeline)\n",
        "#   # print(female_list,\"\\n\",female_list_indices,\"\\n\", female_list_output)\n",
        "#   # print(male_list,\"\\n\",male_list_indices,\"\\n\", male_list_output)\n",
        "#   t_test_result = stats.ttest_rel(female_list_output, male_list_output)\n",
        "#   dict_result_sentence_pair[key] = (t_test_result.statistic, t_test_result.pvalue,mean(female_list_output)-mean(male_list_output))\n",
        "#   # print(type(stats.ttest_rel(female_list_output, male_list_output)))\n",
        "\n",
        "#   # break\n",
        "\n",
        "# print(dict_result_sentence_pair)"
      ],
      "metadata": {
        "id": "t0b9Yil67vmp"
      },
      "execution_count": 78,
      "outputs": []
    },
    {
      "cell_type": "markdown",
      "source": [
        "# Analysis of results (based on semval paper)"
      ],
      "metadata": {
        "id": "VChKXEKUlPfX"
      }
    },
    {
      "cell_type": "code",
      "source": [
        "# dict_t_test_noun_phrase_sentence_pair\n",
        "# dict_t_test_named_sentence_pairs"
      ],
      "metadata": {
        "id": "o3wanFg3lOz_"
      },
      "execution_count": 83,
      "outputs": []
    },
    {
      "cell_type": "code",
      "source": [
        "# len(dict_t_test_noun_phrase_sentence_pair),len(dict_t_test_named_sentence_pairs)"
      ],
      "metadata": {
        "colab": {
          "base_uri": "https://localhost:8080/"
        },
        "id": "27s07k7pCEX-",
        "outputId": "04c2ed30-b6d2-4a4e-a280-c0765f1cf806"
      },
      "execution_count": 80,
      "outputs": [
        {
          "output_type": "execute_result",
          "data": {
            "text/plain": [
              "(144, 144)"
            ]
          },
          "metadata": {},
          "execution_count": 80
        }
      ]
    },
    {
      "cell_type": "code",
      "source": [
        "def analysis_t_test(dict_t_test_sentence_pairs, threshold = 0.05):\n",
        "  list_output =[]\n",
        "  for key, test_output in dict_t_test_sentence_pairs.items():\n",
        "    significant=True\n",
        "    t_statistic = test_output[0]\n",
        "    p_value = test_output[1]\n",
        "    f_m_diff = test_output[2]\n",
        "    if (float(p_value) > float(threshold) or float(p_value) == float(threshold)):\n",
        "      significant=False\n",
        "      category = 'f_equals_m'\n",
        "    else:\n",
        "      significant=True\n",
        "      \n",
        "      if f_m_diff > 0:\n",
        "        category='f_high_m_low'\n",
        "      else:\n",
        "        category = 'f_low_m_high' \n",
        "    list_output.append([key,t_statistic,p_value,significant,f_m_diff,category])\n",
        "    \n",
        "  df_columns = ['key','t_statistic','p_value', 'significant','delta','category']\n",
        "  df_output = pd.DataFrame(list_output, columns = df_columns)\n",
        "\n",
        "  list_category = list(df_output['category'].unique())\n",
        "  list_statistics =[]\n",
        "  for category in list_category:\n",
        "    df_temp = df_output[df_output['category']==category]\n",
        "    average = df_temp['delta'].mean()\n",
        "    # print(category,len(df_temp), average)\n",
        "    list_statistics.append([category,len(df_temp), average])\n",
        "  df_statistics = pd.DataFrame(list_statistics, columns = ['category', 'num_pairs','average_difference'])\n",
        "  return df_statistics\n",
        "\n",
        "\n",
        "# print(analysis_t_test(dict_t_test_noun_phrase_sentence_pair))\n",
        "# print(analysis_t_test(dict_t_test_named_sentence_pairs))\n"
      ],
      "metadata": {
        "id": "rX-ek3UXCNmd"
      },
      "execution_count": 106,
      "outputs": []
    },
    {
      "cell_type": "code",
      "source": [
        "dict_statistics={}\n",
        "for model_type_sentence_pair_name, t_test_dict in dict_t_test.items():\n",
        "  df_statistics = analysis_t_test(t_test_dict, threshold = 0.05)\n",
        "  dict_statistics[model_type_sentence_pair_name] = df_statistics\n"
      ],
      "metadata": {
        "id": "ttOYeuMiK27C"
      },
      "execution_count": 107,
      "outputs": []
    },
    {
      "cell_type": "code",
      "source": [
        "for model_type_sentence_pair_name, df_statistics in dict_statistics.items():\n",
        "  print(model_type_sentence_pair_name,\"\\n\",df_statistics)\n",
        "  print(50*\"=\")"
      ],
      "metadata": {
        "colab": {
          "base_uri": "https://localhost:8080/"
        },
        "id": "_4Dtpv0PL4wN",
        "outputId": "27aa790a-afa3-4a30-baf6-bfdbda7d3bb4"
      },
      "execution_count": 110,
      "outputs": [
        {
          "output_type": "stream",
          "name": "stdout",
          "text": [
            "non_dann_noun_phrase \n",
            "        category  num_pairs  average_difference\n",
            "0    f_equals_m        126            0.005233\n",
            "1  f_high_m_low         18            0.026457\n",
            "==================================================\n",
            "non_dann_named \n",
            "        category  num_pairs  average_difference\n",
            "0    f_equals_m        124            0.008112\n",
            "1  f_high_m_low         20            0.023590\n",
            "==================================================\n",
            "dann_noun_phrase \n",
            "        category  num_pairs  average_difference\n",
            "0    f_equals_m        124            0.006045\n",
            "1  f_high_m_low         20            0.021322\n",
            "==================================================\n",
            "dann_named \n",
            "        category  num_pairs  average_difference\n",
            "0    f_equals_m        121            0.008845\n",
            "1  f_high_m_low         23            0.020125\n",
            "==================================================\n"
          ]
        }
      ]
    }
  ]
}